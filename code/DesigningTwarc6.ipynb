{
 "cells": [
  {
   "cell_type": "markdown",
   "id": "3b8988ea-176a-42c1-9826-2c125aba3a5e",
   "metadata": {},
   "source": [
    "# Twitter with twarc\n",
    "A UCSB original Carpentry workshop"
   ]
  },
  {
   "cell_type": "code",
   "execution_count": 1,
   "id": "1324c4e6-ab87-441e-bd4e-860eec5ccfe8",
   "metadata": {},
   "outputs": [
    {
     "name": "stdout",
     "output_type": "stream",
     "text": [
      "     108  3346644 36403969 raw_data/hashtag_gasprices.jsonl\n",
      "   10787  5007559 67146087 output_data/hashtag_gasprices_flat.jsonl\n"
     ]
    }
   ],
   "source": [
    "# we made this file for you\n",
    "# ! twarc2 search \"#gasprices\" > raw_data/hashtag_gasprices.jsonl\n",
    "\n",
    "! wc raw_data/hashtag_gasprices.jsonl\n",
    "\n",
    "! twarc2 flatten raw_data/hashtag_gasprices.jsonl > output_data/hashtag_gasprices_flat.jsonl\n",
    "\n",
    "! wc output_data/hashtag_gasprices_flat.jsonl"
   ]
  },
  {
   "cell_type": "code",
   "execution_count": 2,
   "id": "35e9818e-0cc6-474e-b92b-28467ca18d4f",
   "metadata": {},
   "outputs": [
    {
     "name": "stdout",
     "output_type": "stream",
     "text": [
      "Requirement already satisfied: twarc-csv in /opt/conda/lib/python3.9/site-packages (0.5.2)\n",
      "Requirement already satisfied: more-itertools>=8.7.0 in /opt/conda/lib/python3.9/site-packages (from twarc-csv) (8.13.0)\n",
      "Requirement already satisfied: tqdm>=4.59.0 in /opt/conda/lib/python3.9/site-packages (from twarc-csv) (4.64.0)\n",
      "Requirement already satisfied: pandas>=1.2.5 in /opt/conda/lib/python3.9/site-packages (from twarc-csv) (1.4.2)\n",
      "Requirement already satisfied: twarc>=2.9.5 in /opt/conda/lib/python3.9/site-packages (from twarc-csv) (2.10.4)\n",
      "Requirement already satisfied: python-dateutil>=2.8.1 in /opt/conda/lib/python3.9/site-packages (from pandas>=1.2.5->twarc-csv) (2.8.2)\n",
      "Requirement already satisfied: pytz>=2020.1 in /opt/conda/lib/python3.9/site-packages (from pandas>=1.2.5->twarc-csv) (2022.1)\n",
      "Requirement already satisfied: numpy>=1.18.5 in /opt/conda/lib/python3.9/site-packages (from pandas>=1.2.5->twarc-csv) (1.22.3)\n",
      "Requirement already satisfied: click<9,>=7 in /opt/conda/lib/python3.9/site-packages (from twarc>=2.9.5->twarc-csv) (8.1.3)\n",
      "Requirement already satisfied: requests-oauthlib>=1.3 in /opt/conda/lib/python3.9/site-packages (from twarc>=2.9.5->twarc-csv) (1.3.1)\n",
      "Requirement already satisfied: click-config-file>=0.6 in /opt/conda/lib/python3.9/site-packages (from twarc>=2.9.5->twarc-csv) (0.6.0)\n",
      "Requirement already satisfied: click-plugins>=1 in /opt/conda/lib/python3.9/site-packages (from twarc>=2.9.5->twarc-csv) (1.1.1)\n",
      "Requirement already satisfied: humanize>=3.9 in /opt/conda/lib/python3.9/site-packages (from twarc>=2.9.5->twarc-csv) (4.1.0)\n",
      "Requirement already satisfied: configobj>=5.0.6 in /opt/conda/lib/python3.9/site-packages (from click-config-file>=0.6->twarc>=2.9.5->twarc-csv) (5.0.6)\n",
      "Requirement already satisfied: six>=1.5 in /opt/conda/lib/python3.9/site-packages (from python-dateutil>=2.8.1->pandas>=1.2.5->twarc-csv) (1.16.0)\n",
      "Requirement already satisfied: oauthlib>=3.0.0 in /opt/conda/lib/python3.9/site-packages (from requests-oauthlib>=1.3->twarc>=2.9.5->twarc-csv) (3.2.0)\n",
      "Requirement already satisfied: requests>=2.0.0 in /opt/conda/lib/python3.9/site-packages (from requests-oauthlib>=1.3->twarc>=2.9.5->twarc-csv) (2.27.1)\n",
      "Requirement already satisfied: urllib3<1.27,>=1.21.1 in /opt/conda/lib/python3.9/site-packages (from requests>=2.0.0->requests-oauthlib>=1.3->twarc>=2.9.5->twarc-csv) (1.26.9)\n",
      "Requirement already satisfied: idna<4,>=2.5 in /opt/conda/lib/python3.9/site-packages (from requests>=2.0.0->requests-oauthlib>=1.3->twarc>=2.9.5->twarc-csv) (3.3)\n",
      "Requirement already satisfied: certifi>=2017.4.17 in /opt/conda/lib/python3.9/site-packages (from requests>=2.0.0->requests-oauthlib>=1.3->twarc>=2.9.5->twarc-csv) (2021.10.8)\n",
      "Requirement already satisfied: charset-normalizer~=2.0.0 in /opt/conda/lib/python3.9/site-packages (from requests>=2.0.0->requests-oauthlib>=1.3->twarc>=2.9.5->twarc-csv) (2.0.12)\n",
      "Requirement already satisfied: emoji in /opt/conda/lib/python3.9/site-packages (1.7.0)\n"
     ]
    }
   ],
   "source": [
    "# administravia\n",
    "# upon re-start we need to install twarc2 extensions\n",
    "! pip install twarc-csv\n",
    "! pip install emoji"
   ]
  },
  {
   "cell_type": "markdown",
   "id": "e2b8339f-952b-498f-bc0f-a5eda41a38e0",
   "metadata": {},
   "source": [
    "# Episode 2\n",
    "You should have a hashtag_gasprices.jsonl file"
   ]
  },
  {
   "cell_type": "code",
   "execution_count": 3,
   "id": "3cbf7282-bf3d-4a51-ad72-008ccaef1a13",
   "metadata": {},
   "outputs": [
    {
     "name": "stdout",
     "output_type": "stream",
     "text": [
      "Usage: twarc2 [OPTIONS] COMMAND [ARGS]...\n",
      "\n",
      "  Collect data from the Twitter V2 API.\n",
      "\n",
      "Options:\n",
      "  --consumer-key TEXT         Twitter app consumer key (aka \"App Key\")\n",
      "  --consumer-secret TEXT      Twitter app consumer secret (aka \"App Secret\")\n",
      "  --access-token TEXT         Twitter app access token for user\n",
      "                              authentication.\n",
      "  --access-token-secret TEXT  Twitter app access token secret for user\n",
      "                              authentication.\n",
      "  --bearer-token TEXT         Twitter app access bearer token.\n",
      "  --app-auth / --user-auth    Use application authentication or user\n",
      "                              authentication. Some rate limits are higher with\n",
      "                              user authentication, but not all endpoints are\n",
      "                              supported.  [default: app-auth]\n",
      "  -l, --log TEXT\n",
      "  --verbose\n",
      "  --metadata / --no-metadata  Include/don't include metadata about when and\n",
      "                              how data was collected.  [default: metadata]\n",
      "  --config FILE               Read configuration from FILE.\n",
      "  --help                      Show this message and exit.\n",
      "\n",
      "Commands:\n",
      "  compliance-job  Create, retrieve and list batch compliance jobs for...\n",
      "  configure       Set up your Twitter app keys.\n",
      "  conversation    Retrieve a conversation thread using the tweet id.\n",
      "  conversations   Fetch the full conversation threads that the input...\n",
      "  counts          Return counts of tweets matching a query.\n",
      "  csv             Convert tweets to CSV.\n",
      "  dehydrate       Extract tweet or user IDs from a dataset.\n",
      "  flatten         \"Flatten\" tweets, or move expansions inline with tweet...\n",
      "  followers       Get the followers for a given user.\n",
      "  following       Get the users that a given user is following.\n",
      "  hashtags        Extract and count hashtags in Twitter v2 data.\n",
      "  hydrate         Hydrate tweet ids.\n",
      "  liked-tweets    Get the tweets liked by a specific user_id.\n",
      "  liking-users    Get the users that liked a specific tweet.\n",
      "  lists           Lists API support.\n",
      "  mentions        Retrieve max of 800 of the most recent tweets...\n",
      "  network         Generates a network graph of tweets as GEXF, GML, DOT,...\n",
      "  places          Search for places by place name, geo coordinates or ip...\n",
      "  quotes          Get the tweets that quote tweet the given tweet.\n",
      "  retweeted-by    Get the users that retweeted a specific tweet.\n",
      "  sample          Fetch tweets from the sample stream.\n",
      "  search          Search for tweets.\n",
      "  searches        Execute each search in the input file, one at a time.\n",
      "  stream          Fetch tweets from the live stream.\n",
      "  stream-rules    List, add and delete rules for your stream.\n",
      "  timeline        Retrieve recent tweets for the given user.\n",
      "  timelines       Fetch the timelines of every user in an input source of...\n",
      "  tweet           Look up a tweet using its tweet id or URL.\n",
      "  user            Get the profile data for a single user by either...\n",
      "  users           Get data for user ids or usernames.\n",
      "  version         Return the version of twarc that is installed.\n"
     ]
    }
   ],
   "source": [
    "# BASH commands start with a BANG!\n",
    "!twarc2 --help"
   ]
  },
  {
   "cell_type": "code",
   "execution_count": 4,
   "id": "d2ad701f-463e-40f9-958b-a09721e263d4",
   "metadata": {
    "tags": []
   },
   "outputs": [
    {
     "name": "stderr",
     "output_type": "stream",
     "text": [
      "/opt/conda/lib/python3.9/site-packages/tqdm/auto.py:22: TqdmWarning: IProgress not found. Please update jupyter and ipywidgets. See https://ipywidgets.readthedocs.io/en/stable/user_install.html\n",
      "  from .autonotebook import tqdm as notebook_tqdm\n"
     ]
    }
   ],
   "source": [
    "#  what libraries will we need to be loading in our notebook?\n",
    "#  we need to always distinguish between \n",
    "#  running BASH vs. running a line of python.\n",
    "\n",
    "import pandas\n",
    "import twarc_csv\n",
    "import textblob\n",
    "import nltk\n",
    "import os\n",
    "import emoji"
   ]
  },
  {
   "cell_type": "code",
   "execution_count": 5,
   "id": "df5f4739-6651-4fad-b521-190e8aa0028b",
   "metadata": {},
   "outputs": [
    {
     "name": "stdout",
     "output_type": "stream",
     "text": [
      "[nltk_data] Downloading package brown to /home/jovyan/nltk_data...\n",
      "[nltk_data]   Package brown is already up-to-date!\n",
      "[nltk_data] Downloading package punkt to /home/jovyan/nltk_data...\n",
      "[nltk_data]   Package punkt is already up-to-date!\n",
      "[nltk_data] Downloading package wordnet to /home/jovyan/nltk_data...\n",
      "[nltk_data]   Package wordnet is already up-to-date!\n",
      "[nltk_data] Downloading package averaged_perceptron_tagger to\n",
      "[nltk_data]     /home/jovyan/nltk_data...\n",
      "[nltk_data]   Package averaged_perceptron_tagger is already up-to-\n",
      "[nltk_data]       date!\n",
      "[nltk_data] Downloading package conll2000 to /home/jovyan/nltk_data...\n",
      "[nltk_data]   Package conll2000 is already up-to-date!\n",
      "[nltk_data] Downloading package movie_reviews to\n",
      "[nltk_data]     /home/jovyan/nltk_data...\n",
      "[nltk_data]   Package movie_reviews is already up-to-date!\n",
      "Finished.\n"
     ]
    },
    {
     "name": "stderr",
     "output_type": "stream",
     "text": [
      "[nltk_data] Downloading package stopwords to /home/jovyan/nltk_data...\n",
      "[nltk_data]   Package stopwords is already up-to-date!\n"
     ]
    },
    {
     "data": {
      "text/plain": [
       "True"
      ]
     },
     "execution_count": 5,
     "metadata": {},
     "output_type": "execute_result"
    }
   ],
   "source": [
    "# this comes into play for ep 8\n",
    "!python -m textblob.download_corpora\n",
    "nltk.download('stopwords')"
   ]
  },
  {
   "cell_type": "code",
   "execution_count": 6,
   "id": "2082bb24-2751-406c-a918-c8c41d14e7b1",
   "metadata": {},
   "outputs": [
    {
     "name": "stdout",
     "output_type": "stream",
     "text": [
      "/home/jovyan/twarc_run\n"
     ]
    }
   ],
   "source": [
    "# and of course, it's important to know where we are working\n",
    "# I can send a BASH command from my notebook with a !:\n",
    "!pwd"
   ]
  },
  {
   "cell_type": "code",
   "execution_count": 7,
   "id": "8098e978-172e-4949-a531-1a05fa43be25",
   "metadata": {},
   "outputs": [
    {
     "data": {
      "text/plain": [
       "'/home/jovyan/twarc_run'"
      ]
     },
     "execution_count": 7,
     "metadata": {},
     "output_type": "execute_result"
    }
   ],
   "source": [
    "# you can also do this with Python\n",
    "os.getcwd()"
   ]
  },
  {
   "cell_type": "code",
   "execution_count": 8,
   "id": "dc19b894-b858-4966-ae5e-e32bff6bde2e",
   "metadata": {},
   "outputs": [],
   "source": [
    "# we can change if we need\n",
    "# os.chdir(\".....\")"
   ]
  },
  {
   "cell_type": "code",
   "execution_count": 9,
   "id": "17a6e89d-7e91-4558-ae3f-aa1026554cef",
   "metadata": {},
   "outputs": [
    {
     "data": {
      "text/plain": [
       "'/home/jovyan/twarc_run'"
      ]
     },
     "execution_count": 9,
     "metadata": {},
     "output_type": "execute_result"
    }
   ],
   "source": [
    "os.getcwd()"
   ]
  },
  {
   "cell_type": "markdown",
   "id": "5913eea7-a65c-4505-b1c5-a846d7a98d23",
   "metadata": {},
   "source": [
    "## Running twarc\n",
    "Let's get the timeline of one of twarc's creators."
   ]
  },
  {
   "cell_type": "code",
   "execution_count": 10,
   "id": "222e98bb-b6fa-442e-b1e9-5f5b72e518e8",
   "metadata": {},
   "outputs": [],
   "source": [
    "# !twarc2 timeline BergisJules > raw_data/bjules.jsonl"
   ]
  },
  {
   "cell_type": "markdown",
   "id": "4473db7c-3651-45f7-8c14-0f49b6c5c0f4",
   "metadata": {
    "tags": []
   },
   "source": [
    "### Challenge 1\n",
    "- Can you find the file called “bjules_flat.jsonl”?\n",
    "- How many tweets did you get from Bergis? (we can't tell without flattening or looking at the output)\n",
    "- Download a timeline for a person of your choice. How many tweets did you get? \n",
    "- What’s the oldest one?"
   ]
  },
  {
   "cell_type": "code",
   "execution_count": 11,
   "id": "bab10779-cc96-4ed0-9e47-2e8faac15d93",
   "metadata": {},
   "outputs": [
    {
     "name": "stdout",
     "output_type": "stream",
     "text": [
      "    473  205041 2876068 output_data/ecodatasci_flat.jsonl\n"
     ]
    }
   ],
   "source": [
    "# !twarc2 timeline ecodatasci > raw_data/ecodatasci.jsonl\n",
    "! twarc2 flatten raw_data/ecodatasci.jsonl > output_data/ecodatasci_flat.jsonl\n",
    "! wc output_data/ecodatasci_flat.jsonl"
   ]
  },
  {
   "cell_type": "markdown",
   "id": "4bbe2b98-3264-45bc-adc0-f6aa567718cd",
   "metadata": {
    "tags": []
   },
   "source": [
    "A straight harvest using search or stream doesn't need to be flattened \n",
    "to do our most basic analysis: wc. Do gas prices here?"
   ]
  },
  {
   "cell_type": "markdown",
   "id": "99766d53-53ea-4ef2-b201-2e58c89d411d",
   "metadata": {
    "tags": []
   },
   "source": [
    "## To flatten or not flatten"
   ]
  },
  {
   "cell_type": "markdown",
   "id": "586f4cbf-4741-44e2-a025-9968faf74e77",
   "metadata": {},
   "source": [
    "### Make your jsonl 1 tweet per line\n",
    "Flattening will let you do our most basic unix-y analysis, turn\n",
    "timelines into countable lists, and enable you to run twarc1\n",
    "utilities later on in the workshop"
   ]
  },
  {
   "cell_type": "code",
   "execution_count": 12,
   "id": "eaf04f84-943a-4d7b-a45e-d007e6b5abc4",
   "metadata": {},
   "outputs": [
    {
     "name": "stdout",
     "output_type": "stream",
     "text": [
      "100%|██████████████| Processed 8.96M/8.96M of input file [00:00<00:00, 10.5MB/s]\n"
     ]
    }
   ],
   "source": [
    "# timeline objects need to be flattened in order to be analyzed as tweets\n",
    "!twarc2 flatten raw_data/bjules.jsonl output_data/bjules_flat.jsonl"
   ]
  },
  {
   "cell_type": "markdown",
   "id": "08892a04-a2be-4353-b64c-43a628e5ae50",
   "metadata": {},
   "source": [
    "## Convert to csv"
   ]
  },
  {
   "cell_type": "code",
   "execution_count": 13,
   "id": "1b29144d-a627-4128-b54f-74439f37a917",
   "metadata": {},
   "outputs": [
    {
     "name": "stdout",
     "output_type": "stream",
     "text": [
      "100%|██████████████| Processed 8.96M/8.96M of input file [00:05<00:00, 1.65MB/s]\n",
      "\n",
      "ℹ️\n",
      "Parsed 3143 tweets objects from 33 lines in the input file.\n",
      "Wrote 3143 rows and output 74 columns in the CSV.\n",
      "\n"
     ]
    }
   ],
   "source": [
    "!twarc2 csv raw_data/bjules.jsonl output_data/bjules.csv"
   ]
  },
  {
   "cell_type": "markdown",
   "id": "0a8c4d85-fa2a-4e7d-9e7c-1fa1207d64fc",
   "metadata": {},
   "source": [
    "## When we look at bjules, we really do need to flatten it."
   ]
  },
  {
   "cell_type": "code",
   "execution_count": 14,
   "id": "bfc7ab7b-7099-4213-bf10-0d2f6a1825d8",
   "metadata": {},
   "outputs": [
    {
     "name": "stdout",
     "output_type": "stream",
     "text": [
      "     33  845463 9393221 raw_data/bjules.jsonl\n"
     ]
    }
   ],
   "source": [
    "! wc raw_data/bjules.jsonl"
   ]
  },
  {
   "cell_type": "markdown",
   "id": "05ca8093-2fc9-4600-baa4-b1ba9d591d46",
   "metadata": {},
   "source": [
    "33 lines doesn't mean 33 tweets. I suspected there was more there because\n",
    "I got an error message about hitting a limit of 3200. \n",
    "\n",
    "And below, the csv converter tells us there are 3143 tweets."
   ]
  },
  {
   "cell_type": "code",
   "execution_count": 15,
   "id": "c9015236-250a-4f85-83b0-296431fe65a2",
   "metadata": {},
   "outputs": [
    {
     "name": "stdout",
     "output_type": "stream",
     "text": [
      "100%|██████████████| Processed 8.96M/8.96M of input file [00:02<00:00, 3.62MB/s]\n",
      "\n",
      "ℹ️\n",
      "Parsed 3143 tweets objects from 33 lines in the input file.\n",
      "Wrote 3143 rows and output 74 columns in the CSV.\n",
      "\n"
     ]
    }
   ],
   "source": [
    "# convert\n",
    "!twarc2 csv raw_data/bjules.jsonl output_data/bjules.csv"
   ]
  },
  {
   "cell_type": "code",
   "execution_count": 16,
   "id": "15a20dad-f6eb-4236-be57-382907d70dd1",
   "metadata": {},
   "outputs": [
    {
     "name": "stdout",
     "output_type": "stream",
     "text": [
      "    3143  1718186 23273101 output_data/bjules_flat.jsonl\n"
     ]
    }
   ],
   "source": [
    "# once I flatten it, my wc will show the correct number\n",
    "! wc output_data/bjules_flat.jsonl"
   ]
  },
  {
   "cell_type": "code",
   "execution_count": 17,
   "id": "180e3158-2f08-4d08-8e9e-b4ab999e6ef1",
   "metadata": {
    "tags": []
   },
   "outputs": [
    {
     "name": "stdout",
     "output_type": "stream",
     "text": [
      "    3143  1718186 23273101 output_data/bjules_flat.jsonl\n",
      "    3144   579239 11547625 output_data/bjules.csv\n"
     ]
    }
   ],
   "source": [
    "# When I did this, I got 3166 tweets (as opposed to the 33 lines that the original file was)\n",
    "! wc output_data/bjules_flat.jsonl\n",
    "! wc output_data/bjules.csv"
   ]
  },
  {
   "cell_type": "markdown",
   "id": "d55e1a66-f173-4adb-898c-572f15c7bbcb",
   "metadata": {},
   "source": [
    "The csv is 1 line longer because it has column headers.\n",
    "twarc2 csv takes flat or unflattened Twitter data files."
   ]
  },
  {
   "cell_type": "markdown",
   "id": "2316f7fe-1614-404c-9516-897fd6415a7b",
   "metadata": {},
   "source": [
    "### Challenge 2"
   ]
  },
  {
   "cell_type": "code",
   "execution_count": 18,
   "id": "1284486c-4487-401d-b421-20c4597dfedd",
   "metadata": {},
   "outputs": [],
   "source": [
    "# commented line is a solution to challenge 1\n",
    "# !twarc2 timeline ecodatasci > raw_data/ecodatasci.jsonl\n",
    "\n",
    "!twarc2 flatten raw_data/ecodatasci.jsonl > output_data/ecodatasci_flat.jsonl\n",
    "!twarc2 csv output_data/ecodatasci_flat.jsonl > output_data/ecodatasci.csv \n",
    "ecodatasci_df = pandas.read_csv(\"output_data/ecodatasci.csv\")\n"
   ]
  },
  {
   "cell_type": "markdown",
   "id": "bbfccda8-2a25-44a3-bb9a-5bdbc2c6d6cb",
   "metadata": {},
   "source": [
    "# Episode 3: examining tweets\n",
    "What comes along with a tweet\n",
    "- Look at one_tweet in Jupyter viewer\n",
    "- Look at one_tweet with nano\n",
    "- Look at tweet as csv\n",
    "- Look at all the entities of a tweet"
   ]
  },
  {
   "cell_type": "code",
   "execution_count": 19,
   "id": "dbcb8c10-7fe2-4d91-bc0a-7267ec5062cf",
   "metadata": {},
   "outputs": [
    {
     "name": "stdout",
     "output_type": "stream",
     "text": [
      "100%|██████████████| Processed 4.63k/4.63k of input file [00:00<00:00, 13.7MB/s]\n",
      "100%|███████████████| Processed 7.09k/7.09k of input file [00:00<00:00, 427kB/s]\n",
      "\n",
      "ℹ️\n",
      "Parsed 1 tweets objects from 1 lines in the input file.\n",
      "Wrote 1 rows and output 74 columns in the CSV.\n",
      "\n"
     ]
    }
   ],
   "source": [
    "### Let's look at a single tweet as a csv:\n",
    "!twarc2 flatten raw_data/one_tweet.jsonl output_data/one_tweet_flat.jsonl\n",
    "!twarc2 csv output_data/one_tweet_flat.jsonl output_data/one_tweet.csv\n",
    "\n",
    "\n"
   ]
  },
  {
   "cell_type": "code",
   "execution_count": 20,
   "id": "e147f437-858a-4c29-a9a9-bc52f41e7239",
   "metadata": {},
   "outputs": [],
   "source": [
    "!head -n 2 'output_data/hashtag_gasprices_flat.jsonl' > 'output_data/4_tweets.jsonl'\n",
    "!tail -n 2 'output_data/hashtag_gasprices_flat.jsonl' >> 'output_data/4_tweets.jsonl'"
   ]
  },
  {
   "cell_type": "code",
   "execution_count": null,
   "id": "a6eecd58-ff34-48cd-83a4-31d8b6363694",
   "metadata": {},
   "outputs": [],
   "source": [
    "! cat output_data/4_tweets.jsonl"
   ]
  },
  {
   "cell_type": "code",
   "execution_count": null,
   "id": "c5d96a0f-7ccf-4a4d-abaf-a52708f813f3",
   "metadata": {},
   "outputs": [],
   "source": []
  },
  {
   "cell_type": "markdown",
   "id": "af2f2152-7de1-40d4-9d97-c6aa551ce2fd",
   "metadata": {},
   "source": [
    "## Next harvest\n",
    "Next we'll get just Bergis' original content. \n",
    "In other words, only the tweets that he wrote, not\n",
    "any retweets or replied to other people tweets."
   ]
  },
  {
   "cell_type": "markdown",
   "id": "ab4c78d8-42bd-458c-b618-d1c854fc265f",
   "metadata": {},
   "source": [
    "Can we go back further on his timeline by looking\n",
    "only for Bergis's original content?\n",
    "\n",
    "Not really--it looks like the limit applies to the search,\n",
    "not the results. \n"
   ]
  },
  {
   "cell_type": "code",
   "execution_count": 22,
   "id": "b29e6727-48e8-4c79-b824-fd109b0e7029",
   "metadata": {},
   "outputs": [
    {
     "name": "stdout",
     "output_type": "stream",
     "text": [
      "API limit of 3200 reached:   0%|             | 47/17680 [00:00<03:44, 78.72it/s]\n"
     ]
    }
   ],
   "source": [
    "!twarc2 timeline BergisJules --exclude-retweets --exclude-replies > raw_data/bjules_original.jsonl"
   ]
  },
  {
   "cell_type": "code",
   "execution_count": 23,
   "id": "d6efcdaf-a547-4a93-95d3-94e4bfcdddff",
   "metadata": {},
   "outputs": [
    {
     "name": "stdout",
     "output_type": "stream",
     "text": [
      "100%|████████████████| Processed 106k/106k of input file [00:00<00:00, 23.8MB/s]\n"
     ]
    }
   ],
   "source": [
    "!twarc2 flatten raw_data/bjules_original.jsonl output_data/bjules_original_flat.jsonl\n"
   ]
  },
  {
   "cell_type": "markdown",
   "id": "ef7331bc-5adc-426d-bbf3-912abb0a36c8",
   "metadata": {},
   "source": [
    "But this does tell us that Jules is a prolific re-tweeter and/or replier. "
   ]
  },
  {
   "cell_type": "code",
   "execution_count": 24,
   "id": "1c2d22df-4f14-4350-903c-2974402e6245",
   "metadata": {},
   "outputs": [
    {
     "name": "stdout",
     "output_type": "stream",
     "text": [
      "    47  16116 237268 output_data/bjules_original_flat.jsonl\n",
      "    3143  1718186 23273101 output_data/bjules_flat.jsonl\n"
     ]
    }
   ],
   "source": [
    "! wc output_data/bjules_original_flat.jsonl\n",
    "! wc output_data/bjules_flat.jsonl"
   ]
  },
  {
   "cell_type": "code",
   "execution_count": 25,
   "id": "d6f64d26-ae10-4deb-bf48-47f88b7db62f",
   "metadata": {},
   "outputs": [
    {
     "name": "stdout",
     "output_type": "stream",
     "text": [
      "100%|████████████████| Processed 232k/232k of input file [00:00<00:00, 2.80MB/s]\n",
      "\n",
      "ℹ️\n",
      "Parsed 47 tweets objects from 47 lines in the input file.\n",
      "Wrote 47 rows and output 74 columns in the CSV.\n",
      "\n"
     ]
    }
   ],
   "source": [
    "# save it as a csv so we can easily see the original writings of Jules\n",
    "!twarc2 csv output_data/bjules_original_flat.jsonl output_data/bjules_original.csv"
   ]
  },
  {
   "cell_type": "markdown",
   "id": "29ab11e8-f109-4670-912c-3122ea2b8211",
   "metadata": {},
   "source": [
    "# Episode 4"
   ]
  },
  {
   "cell_type": "code",
   "execution_count": 28,
   "id": "ab6d14b4-0c5e-4553-9eb2-7d8d284476af",
   "metadata": {},
   "outputs": [
    {
     "name": "stdout",
     "output_type": "stream",
     "text": [
      "2022-05-16T02:58:30.000Z - 2022-05-16T03:00:00.000Z: 7\n",
      "2022-05-16T03:00:00.000Z - 2022-05-16T04:00:00.000Z: 390\n",
      "2022-05-16T04:00:00.000Z - 2022-05-16T05:00:00.000Z: 359\n",
      "2022-05-16T05:00:00.000Z - 2022-05-16T06:00:00.000Z: 299\n",
      "2022-05-16T06:00:00.000Z - 2022-05-16T07:00:00.000Z: 359\n",
      "2022-05-16T07:00:00.000Z - 2022-05-16T08:00:00.000Z: 311\n",
      "2022-05-16T08:00:00.000Z - 2022-05-16T09:00:00.000Z: 252\n",
      "2022-05-16T09:00:00.000Z - 2022-05-16T10:00:00.000Z: 264\n",
      "2022-05-16T10:00:00.000Z - 2022-05-16T11:00:00.000Z: 282\n",
      "2022-05-16T11:00:00.000Z - 2022-05-16T12:00:00.000Z: 351\n",
      "2022-05-16T12:00:00.000Z - 2022-05-16T13:00:00.000Z: 379\n",
      "2022-05-16T13:00:00.000Z - 2022-05-16T14:00:00.000Z: 371\n",
      "2022-05-16T14:00:00.000Z - 2022-05-16T15:00:00.000Z: 376\n",
      "2022-05-16T15:00:00.000Z - 2022-05-16T16:00:00.000Z: 445\n",
      "2022-05-16T16:00:00.000Z - 2022-05-16T17:00:00.000Z: 592\n",
      "2022-05-16T17:00:00.000Z - 2022-05-16T18:00:00.000Z: 523\n",
      "2022-05-16T18:00:00.000Z - 2022-05-16T19:00:00.000Z: 435\n",
      "2022-05-16T19:00:00.000Z - 2022-05-16T20:00:00.000Z: 396\n",
      "2022-05-16T20:00:00.000Z - 2022-05-16T21:00:00.000Z: 367\n",
      "2022-05-16T21:00:00.000Z - 2022-05-16T22:00:00.000Z: 343\n",
      "2022-05-16T22:00:00.000Z - 2022-05-16T23:00:00.000Z: 468\n",
      "2022-05-16T23:00:00.000Z - 2022-05-17T00:00:00.000Z: 550\n",
      "2022-05-17T00:00:00.000Z - 2022-05-17T01:00:00.000Z: 323\n",
      "2022-05-17T01:00:00.000Z - 2022-05-17T02:00:00.000Z: 351\n",
      "2022-05-17T02:00:00.000Z - 2022-05-17T03:00:00.000Z: 303\n",
      "2022-05-17T03:00:00.000Z - 2022-05-17T04:00:00.000Z: 352\n",
      "2022-05-17T04:00:00.000Z - 2022-05-17T05:00:00.000Z: 311\n",
      "2022-05-17T05:00:00.000Z - 2022-05-17T06:00:00.000Z: 278\n",
      "2022-05-17T06:00:00.000Z - 2022-05-17T07:00:00.000Z: 227\n",
      "2022-05-17T07:00:00.000Z - 2022-05-17T08:00:00.000Z: 215\n",
      "2022-05-17T08:00:00.000Z - 2022-05-17T09:00:00.000Z: 269\n",
      "2022-05-17T09:00:00.000Z - 2022-05-17T10:00:00.000Z: 237\n",
      "2022-05-17T10:00:00.000Z - 2022-05-17T11:00:00.000Z: 247\n",
      "2022-05-17T11:00:00.000Z - 2022-05-17T12:00:00.000Z: 333\n",
      "2022-05-17T12:00:00.000Z - 2022-05-17T13:00:00.000Z: 327\n",
      "2022-05-17T13:00:00.000Z - 2022-05-17T14:00:00.000Z: 324\n",
      "2022-05-17T14:00:00.000Z - 2022-05-17T15:00:00.000Z: 384\n",
      "2022-05-17T15:00:00.000Z - 2022-05-17T16:00:00.000Z: 425\n",
      "2022-05-17T16:00:00.000Z - 2022-05-17T17:00:00.000Z: 429\n",
      "2022-05-17T17:00:00.000Z - 2022-05-17T18:00:00.000Z: 563\n",
      "2022-05-17T18:00:00.000Z - 2022-05-17T19:00:00.000Z: 439\n",
      "2022-05-17T19:00:00.000Z - 2022-05-17T20:00:00.000Z: 488\n",
      "2022-05-17T20:00:00.000Z - 2022-05-17T21:00:00.000Z: 460\n",
      "2022-05-17T21:00:00.000Z - 2022-05-17T22:00:00.000Z: 497\n",
      "2022-05-17T22:00:00.000Z - 2022-05-17T23:00:00.000Z: 549\n",
      "2022-05-17T23:00:00.000Z - 2022-05-18T00:00:00.000Z: 372\n",
      "2022-05-18T00:00:00.000Z - 2022-05-18T01:00:00.000Z: 402\n",
      "2022-05-18T01:00:00.000Z - 2022-05-18T02:00:00.000Z: 376\n",
      "2022-05-18T02:00:00.000Z - 2022-05-18T03:00:00.000Z: 412\n",
      "2022-05-18T03:00:00.000Z - 2022-05-18T04:00:00.000Z: 539\n",
      "2022-05-18T04:00:00.000Z - 2022-05-18T05:00:00.000Z: 341\n",
      "2022-05-18T05:00:00.000Z - 2022-05-18T06:00:00.000Z: 296\n",
      "2022-05-18T06:00:00.000Z - 2022-05-18T07:00:00.000Z: 287\n",
      "2022-05-18T07:00:00.000Z - 2022-05-18T08:00:00.000Z: 242\n",
      "2022-05-18T08:00:00.000Z - 2022-05-18T09:00:00.000Z: 265\n",
      "2022-05-18T09:00:00.000Z - 2022-05-18T10:00:00.000Z: 283\n",
      "2022-05-18T10:00:00.000Z - 2022-05-18T11:00:00.000Z: 263\n",
      "2022-05-18T11:00:00.000Z - 2022-05-18T12:00:00.000Z: 574\n",
      "2022-05-18T12:00:00.000Z - 2022-05-18T13:00:00.000Z: 467\n",
      "2022-05-18T13:00:00.000Z - 2022-05-18T14:00:00.000Z: 608\n",
      "2022-05-18T14:00:00.000Z - 2022-05-18T15:00:00.000Z: 452\n",
      "2022-05-18T15:00:00.000Z - 2022-05-18T16:00:00.000Z: 534\n",
      "2022-05-18T16:00:00.000Z - 2022-05-18T17:00:00.000Z: 549\n",
      "2022-05-18T17:00:00.000Z - 2022-05-18T18:00:00.000Z: 471\n",
      "2022-05-18T18:00:00.000Z - 2022-05-18T19:00:00.000Z: 386\n",
      "2022-05-18T19:00:00.000Z - 2022-05-18T20:00:00.000Z: 351\n",
      "2022-05-18T20:00:00.000Z - 2022-05-18T21:00:00.000Z: 326\n",
      "2022-05-18T21:00:00.000Z - 2022-05-18T22:00:00.000Z: 306\n",
      "2022-05-18T22:00:00.000Z - 2022-05-18T23:00:00.000Z: 443\n",
      "2022-05-18T23:00:00.000Z - 2022-05-19T00:00:00.000Z: 330\n",
      "2022-05-19T00:00:00.000Z - 2022-05-19T01:00:00.000Z: 471\n",
      "2022-05-19T01:00:00.000Z - 2022-05-19T02:00:00.000Z: 325\n",
      "2022-05-19T02:00:00.000Z - 2022-05-19T03:00:00.000Z: 393\n",
      "2022-05-19T03:00:00.000Z - 2022-05-19T04:00:00.000Z: 364\n",
      "2022-05-19T04:00:00.000Z - 2022-05-19T05:00:00.000Z: 383\n",
      "2022-05-19T05:00:00.000Z - 2022-05-19T06:00:00.000Z: 455\n",
      "2022-05-19T06:00:00.000Z - 2022-05-19T07:00:00.000Z: 361\n",
      "2022-05-19T07:00:00.000Z - 2022-05-19T08:00:00.000Z: 332\n",
      "2022-05-19T08:00:00.000Z - 2022-05-19T09:00:00.000Z: 283\n",
      "2022-05-19T09:00:00.000Z - 2022-05-19T10:00:00.000Z: 255\n",
      "2022-05-19T10:00:00.000Z - 2022-05-19T11:00:00.000Z: 308\n",
      "2022-05-19T11:00:00.000Z - 2022-05-19T12:00:00.000Z: 386\n",
      "2022-05-19T12:00:00.000Z - 2022-05-19T13:00:00.000Z: 378\n",
      "2022-05-19T13:00:00.000Z - 2022-05-19T14:00:00.000Z: 316\n",
      "2022-05-19T14:00:00.000Z - 2022-05-19T15:00:00.000Z: 392\n",
      "2022-05-19T15:00:00.000Z - 2022-05-19T16:00:00.000Z: 460\n",
      "2022-05-19T16:00:00.000Z - 2022-05-19T17:00:00.000Z: 426\n",
      "2022-05-19T17:00:00.000Z - 2022-05-19T18:00:00.000Z: 391\n",
      "2022-05-19T18:00:00.000Z - 2022-05-19T19:00:00.000Z: 430\n",
      "2022-05-19T19:00:00.000Z - 2022-05-19T20:00:00.000Z: 637\n",
      "2022-05-19T20:00:00.000Z - 2022-05-19T21:00:00.000Z: 524\n",
      "2022-05-19T21:00:00.000Z - 2022-05-19T22:00:00.000Z: 478\n",
      "2022-05-19T22:00:00.000Z - 2022-05-19T23:00:00.000Z: 547\n",
      "2022-05-19T23:00:00.000Z - 2022-05-20T00:00:00.000Z: 530\n",
      "2022-05-20T00:00:00.000Z - 2022-05-20T01:00:00.000Z: 510\n",
      "2022-05-20T01:00:00.000Z - 2022-05-20T02:00:00.000Z: 488\n",
      "2022-05-20T02:00:00.000Z - 2022-05-20T03:00:00.000Z: 575\n",
      "2022-05-20T03:00:00.000Z - 2022-05-20T04:00:00.000Z: 555\n",
      "2022-05-20T04:00:00.000Z - 2022-05-20T05:00:00.000Z: 503\n",
      "2022-05-20T05:00:00.000Z - 2022-05-20T06:00:00.000Z: 500\n",
      "2022-05-20T06:00:00.000Z - 2022-05-20T07:00:00.000Z: 414\n",
      "2022-05-20T07:00:00.000Z - 2022-05-20T08:00:00.000Z: 414\n",
      "2022-05-20T08:00:00.000Z - 2022-05-20T09:00:00.000Z: 377\n",
      "2022-05-20T09:00:00.000Z - 2022-05-20T10:00:00.000Z: 392\n",
      "2022-05-20T10:00:00.000Z - 2022-05-20T11:00:00.000Z: 372\n",
      "2022-05-20T11:00:00.000Z - 2022-05-20T12:00:00.000Z: 484\n",
      "2022-05-20T12:00:00.000Z - 2022-05-20T13:00:00.000Z: 451\n",
      "2022-05-20T13:00:00.000Z - 2022-05-20T14:00:00.000Z: 490\n",
      "2022-05-20T14:00:00.000Z - 2022-05-20T15:00:00.000Z: 421\n",
      "2022-05-20T15:00:00.000Z - 2022-05-20T16:00:00.000Z: 477\n",
      "2022-05-20T16:00:00.000Z - 2022-05-20T17:00:00.000Z: 655\n",
      "2022-05-20T17:00:00.000Z - 2022-05-20T18:00:00.000Z: 556\n",
      "2022-05-20T18:00:00.000Z - 2022-05-20T19:00:00.000Z: 433\n",
      "2022-05-20T19:00:00.000Z - 2022-05-20T20:00:00.000Z: 364\n",
      "2022-05-20T20:00:00.000Z - 2022-05-20T21:00:00.000Z: 439\n",
      "2022-05-20T21:00:00.000Z - 2022-05-20T22:00:00.000Z: 403\n",
      "2022-05-20T22:00:00.000Z - 2022-05-20T23:00:00.000Z: 483\n",
      "2022-05-20T23:00:00.000Z - 2022-05-21T00:00:00.000Z: 417\n",
      "2022-05-21T00:00:00.000Z - 2022-05-21T01:00:00.000Z: 353\n",
      "2022-05-21T01:00:00.000Z - 2022-05-21T02:00:00.000Z: 382\n",
      "2022-05-21T02:00:00.000Z - 2022-05-21T03:00:00.000Z: 353\n",
      "2022-05-21T03:00:00.000Z - 2022-05-21T04:00:00.000Z: 353\n",
      "2022-05-21T04:00:00.000Z - 2022-05-21T05:00:00.000Z: 379\n",
      "2022-05-21T05:00:00.000Z - 2022-05-21T06:00:00.000Z: 305\n",
      "2022-05-21T06:00:00.000Z - 2022-05-21T07:00:00.000Z: 253\n",
      "2022-05-21T07:00:00.000Z - 2022-05-21T08:00:00.000Z: 281\n",
      "2022-05-21T08:00:00.000Z - 2022-05-21T09:00:00.000Z: 190\n",
      "2022-05-21T09:00:00.000Z - 2022-05-21T10:00:00.000Z: 194\n",
      "2022-05-21T10:00:00.000Z - 2022-05-21T11:00:00.000Z: 287\n",
      "2022-05-21T11:00:00.000Z - 2022-05-21T12:00:00.000Z: 545\n",
      "2022-05-21T12:00:00.000Z - 2022-05-21T13:00:00.000Z: 474\n",
      "2022-05-21T13:00:00.000Z - 2022-05-21T14:00:00.000Z: 486\n",
      "2022-05-21T14:00:00.000Z - 2022-05-21T15:00:00.000Z: 469\n",
      "2022-05-21T15:00:00.000Z - 2022-05-21T16:00:00.000Z: 470\n",
      "2022-05-21T16:00:00.000Z - 2022-05-21T17:00:00.000Z: 699\n",
      "2022-05-21T17:00:00.000Z - 2022-05-21T18:00:00.000Z: 623\n",
      "2022-05-21T18:00:00.000Z - 2022-05-21T19:00:00.000Z: 509\n",
      "2022-05-21T19:00:00.000Z - 2022-05-21T20:00:00.000Z: 605\n",
      "2022-05-21T20:00:00.000Z - 2022-05-21T21:00:00.000Z: 643\n",
      "2022-05-21T21:00:00.000Z - 2022-05-21T22:00:00.000Z: 616\n",
      "2022-05-21T22:00:00.000Z - 2022-05-21T23:00:00.000Z: 759\n",
      "2022-05-21T23:00:00.000Z - 2022-05-22T00:00:00.000Z: 669\n",
      "2022-05-22T00:00:00.000Z - 2022-05-22T01:00:00.000Z: 643\n",
      "2022-05-22T01:00:00.000Z - 2022-05-22T02:00:00.000Z: 475\n",
      "2022-05-22T02:00:00.000Z - 2022-05-22T03:00:00.000Z: 498\n",
      "2022-05-22T03:00:00.000Z - 2022-05-22T04:00:00.000Z: 550\n",
      "2022-05-22T04:00:00.000Z - 2022-05-22T05:00:00.000Z: 441\n",
      "2022-05-22T05:00:00.000Z - 2022-05-22T06:00:00.000Z: 323\n",
      "2022-05-22T06:00:00.000Z - 2022-05-22T07:00:00.000Z: 314\n",
      "2022-05-22T07:00:00.000Z - 2022-05-22T08:00:00.000Z: 336\n",
      "2022-05-22T08:00:00.000Z - 2022-05-22T09:00:00.000Z: 373\n",
      "2022-05-22T09:00:00.000Z - 2022-05-22T10:00:00.000Z: 304\n",
      "2022-05-22T10:00:00.000Z - 2022-05-22T11:00:00.000Z: 380\n",
      "2022-05-22T11:00:00.000Z - 2022-05-22T12:00:00.000Z: 479\n",
      "2022-05-22T12:00:00.000Z - 2022-05-22T13:00:00.000Z: 411\n",
      "2022-05-22T13:00:00.000Z - 2022-05-22T14:00:00.000Z: 451\n",
      "2022-05-22T14:00:00.000Z - 2022-05-22T15:00:00.000Z: 480\n",
      "2022-05-22T15:00:00.000Z - 2022-05-22T16:00:00.000Z: 483\n",
      "2022-05-22T16:00:00.000Z - 2022-05-22T17:00:00.000Z: 536\n",
      "2022-05-22T17:00:00.000Z - 2022-05-22T18:00:00.000Z: 436\n",
      "2022-05-22T18:00:00.000Z - 2022-05-22T19:00:00.000Z: 439\n",
      "2022-05-22T19:00:00.000Z - 2022-05-22T20:00:00.000Z: 475\n",
      "2022-05-22T20:00:00.000Z - 2022-05-22T21:00:00.000Z: 506\n",
      "2022-05-22T21:00:00.000Z - 2022-05-22T22:00:00.000Z: 411\n",
      "2022-05-22T22:00:00.000Z - 2022-05-22T23:00:00.000Z: 550\n",
      "2022-05-22T23:00:00.000Z - 2022-05-23T00:00:00.000Z: 503\n",
      "2022-05-23T00:00:00.000Z - 2022-05-23T01:00:00.000Z: 371\n",
      "2022-05-23T01:00:00.000Z - 2022-05-23T02:00:00.000Z: 373\n",
      "2022-05-23T02:00:00.000Z - 2022-05-23T02:58:30.000Z: 378\n",
      "\u001b[32m\n",
      "Total Tweets: 70,139\n",
      "\u001b[0m\n"
     ]
    }
   ],
   "source": [
    "# fishing around for good searches\n",
    "# you can count without harvesting.\n",
    "# kittens is an evergreen search. you should always see at lease\n",
    "# dozens of mentions per hour\n",
    "!twarc2 counts --text \"kittens\""
   ]
  },
  {
   "cell_type": "code",
   "execution_count": 29,
   "id": "c5795ab9-3a2c-4122-bf59-2bf002fa3d1e",
   "metadata": {},
   "outputs": [
    {
     "name": "stdout",
     "output_type": "stream",
     "text": [
      "2022-05-16T02:58:32.000Z - 2022-05-17T00:00:00.000Z: 1\n",
      "2022-05-17T00:00:00.000Z - 2022-05-18T00:00:00.000Z: 3\n",
      "2022-05-18T00:00:00.000Z - 2022-05-19T00:00:00.000Z: 1\n",
      "2022-05-19T00:00:00.000Z - 2022-05-20T00:00:00.000Z: 2\n",
      "2022-05-20T00:00:00.000Z - 2022-05-21T00:00:00.000Z: 5\n",
      "2022-05-21T00:00:00.000Z - 2022-05-22T00:00:00.000Z: 0\n",
      "2022-05-22T00:00:00.000Z - 2022-05-23T00:00:00.000Z: 0\n",
      "2022-05-23T00:00:00.000Z - 2022-05-23T02:58:32.000Z: 2\n",
      "\u001b[32m\n",
      "Total Tweets: 14\n",
      "\u001b[0m\n"
     ]
    }
   ],
   "source": [
    "# recent search with granularity.\n",
    "!twarc2 counts --granularity \"day\" --text \"(#UCSBLibrary OR UCSBLibrary OR ucsblibrary OR #ucsblibrary OR davidsonlibrary OR #davidsonlibrary)\""
   ]
  },
  {
   "cell_type": "code",
   "execution_count": 30,
   "id": "c7e47ec3-1304-4a5f-9684-3266b1d0b621",
   "metadata": {},
   "outputs": [
    {
     "name": "stdout",
     "output_type": "stream",
     "text": [
      "Usage: twarc2 counts [OPTIONS] QUERY [OUTFILE]\n",
      "Try 'twarc2 counts --help' for help.\n",
      "\n",
      "Error: Got unexpected extra argument (Barbara)))\n",
      "Usage: twarc2 counts [OPTIONS] QUERY [OUTFILE]\n",
      "Try 'twarc2 counts --help' for help.\n",
      "\n",
      "Error: Got unexpected extra argument (barbara))\n",
      "2022-05-16T02:58:37.000Z - 2022-05-17T00:00:00.000Z: 10\n",
      "2022-05-17T00:00:00.000Z - 2022-05-18T00:00:00.000Z: 14\n",
      "2022-05-18T00:00:00.000Z - 2022-05-19T00:00:00.000Z: 16\n",
      "2022-05-19T00:00:00.000Z - 2022-05-20T00:00:00.000Z: 11\n",
      "2022-05-20T00:00:00.000Z - 2022-05-21T00:00:00.000Z: 14\n",
      "2022-05-21T00:00:00.000Z - 2022-05-22T00:00:00.000Z: 7\n",
      "2022-05-22T00:00:00.000Z - 2022-05-23T00:00:00.000Z: 3\n",
      "2022-05-23T00:00:00.000Z - 2022-05-23T02:58:37.000Z: 0\n",
      "\u001b[32m\n",
      "Total Tweets: 75\n",
      "\u001b[0m\n",
      "2022-05-16T02:58:39.000Z - 2022-05-17T00:00:00.000Z: 226\n",
      "2022-05-17T00:00:00.000Z - 2022-05-18T00:00:00.000Z: 261\n",
      "2022-05-18T00:00:00.000Z - 2022-05-19T00:00:00.000Z: 386\n",
      "2022-05-19T00:00:00.000Z - 2022-05-20T00:00:00.000Z: 232\n",
      "2022-05-20T00:00:00.000Z - 2022-05-21T00:00:00.000Z: 345\n",
      "2022-05-21T00:00:00.000Z - 2022-05-22T00:00:00.000Z: 390\n",
      "2022-05-22T00:00:00.000Z - 2022-05-23T00:00:00.000Z: 355\n",
      "2022-05-23T00:00:00.000Z - 2022-05-23T02:58:39.000Z: 37\n",
      "\u001b[32m\n",
      "Total Tweets: 2,232\n",
      "\u001b[0m\n"
     ]
    }
   ],
   "source": [
    "# phrase searching????\n",
    "# this one isnt working\n",
    "!twarc2 counts --granularity \"day\" --text \"(#UCSB OR UCSB OR ucsb OR (\"UC Santa Barbara\"))\"\n",
    "!twarc2 counts --granularity \"day\" --text \"(\"uc santa barbara\")\"\n",
    "!twarc2 counts --granularity \"day\" --text \"(#ucsb)\"\n",
    "!twarc2 counts --granularity \"day\" --text \"(UCSB)\""
   ]
  },
  {
   "cell_type": "code",
   "execution_count": 31,
   "id": "021f95fb-293d-459c-9afd-59d624efa865",
   "metadata": {},
   "outputs": [
    {
     "name": "stdout",
     "output_type": "stream",
     "text": [
      "2022-05-16T02:58:41.000Z - 2022-05-17T00:00:00.000Z: 226\n",
      "2022-05-17T00:00:00.000Z - 2022-05-18T00:00:00.000Z: 261\n",
      "2022-05-18T00:00:00.000Z - 2022-05-19T00:00:00.000Z: 386\n",
      "2022-05-19T00:00:00.000Z - 2022-05-20T00:00:00.000Z: 232\n",
      "2022-05-20T00:00:00.000Z - 2022-05-21T00:00:00.000Z: 345\n",
      "2022-05-21T00:00:00.000Z - 2022-05-22T00:00:00.000Z: 390\n",
      "2022-05-22T00:00:00.000Z - 2022-05-23T00:00:00.000Z: 355\n",
      "2022-05-23T00:00:00.000Z - 2022-05-23T02:58:41.000Z: 37\n",
      "\u001b[32m\n",
      "Total Tweets: 2,232\n",
      "\u001b[0m\n",
      "2022-05-16T02:58:42.000Z - 2022-05-17T00:00:00.000Z: 10\n",
      "2022-05-17T00:00:00.000Z - 2022-05-18T00:00:00.000Z: 14\n",
      "2022-05-18T00:00:00.000Z - 2022-05-19T00:00:00.000Z: 16\n",
      "2022-05-19T00:00:00.000Z - 2022-05-20T00:00:00.000Z: 11\n",
      "2022-05-20T00:00:00.000Z - 2022-05-21T00:00:00.000Z: 14\n",
      "2022-05-21T00:00:00.000Z - 2022-05-22T00:00:00.000Z: 7\n",
      "2022-05-22T00:00:00.000Z - 2022-05-23T00:00:00.000Z: 3\n",
      "2022-05-23T00:00:00.000Z - 2022-05-23T02:58:42.000Z: 0\n",
      "\u001b[32m\n",
      "Total Tweets: 75\n",
      "\u001b[0m\n",
      "2022-05-16T02:58:44.000Z - 2022-05-17T00:00:00.000Z: 226\n",
      "2022-05-17T00:00:00.000Z - 2022-05-18T00:00:00.000Z: 261\n",
      "2022-05-18T00:00:00.000Z - 2022-05-19T00:00:00.000Z: 386\n",
      "2022-05-19T00:00:00.000Z - 2022-05-20T00:00:00.000Z: 232\n",
      "2022-05-20T00:00:00.000Z - 2022-05-21T00:00:00.000Z: 345\n",
      "2022-05-21T00:00:00.000Z - 2022-05-22T00:00:00.000Z: 390\n",
      "2022-05-22T00:00:00.000Z - 2022-05-23T00:00:00.000Z: 355\n",
      "2022-05-23T00:00:00.000Z - 2022-05-23T02:58:44.000Z: 37\n",
      "\u001b[32m\n",
      "Total Tweets: 2,232\n",
      "\u001b[0m\n"
     ]
    }
   ],
   "source": [
    "# search for hashtags when you really want hashtags. \n",
    "# search for a string returns both text and hashtage (an OR)\n",
    "# NOT case sensitive\n",
    "!twarc2 counts --granularity \"day\" --text \"(#UCSB OR UCSB OR ucsb)\"\n",
    "!twarc2 counts --granularity \"day\" --text \"(#ucsb)\"\n",
    "!twarc2 counts --granularity \"day\" --text \"(UCSB)\""
   ]
  },
  {
   "cell_type": "code",
   "execution_count": 32,
   "id": "be3bd639-6118-4983-bb16-1ff7fd3999de",
   "metadata": {},
   "outputs": [
    {
     "name": "stdout",
     "output_type": "stream",
     "text": [
      "2022-05-16T02:58:45.000Z - 2022-05-17T00:00:00.000Z: 12,720\n",
      "2022-05-17T00:00:00.000Z - 2022-05-18T00:00:00.000Z: 12,368\n",
      "2022-05-18T00:00:00.000Z - 2022-05-19T00:00:00.000Z: 14,896\n",
      "2022-05-19T00:00:00.000Z - 2022-05-20T00:00:00.000Z: 19,216\n",
      "2022-05-20T00:00:00.000Z - 2022-05-21T00:00:00.000Z: 16,261\n",
      "2022-05-21T00:00:00.000Z - 2022-05-22T00:00:00.000Z: 17,750\n",
      "2022-05-22T00:00:00.000Z - 2022-05-23T00:00:00.000Z: 13,033\n",
      "2022-05-23T00:00:00.000Z - 2022-05-23T02:58:45.000Z: 1,242\n",
      "\u001b[32m\n",
      "Total Tweets: 107,486\n",
      "\u001b[0m\n",
      "2022-05-16T02:58:47.000Z - 2022-05-17T00:00:00.000Z: 39,730\n",
      "2022-05-17T00:00:00.000Z - 2022-05-18T00:00:00.000Z: 66,141\n",
      "2022-05-18T00:00:00.000Z - 2022-05-19T00:00:00.000Z: 70,817\n",
      "2022-05-19T00:00:00.000Z - 2022-05-20T00:00:00.000Z: 56,048\n",
      "2022-05-20T00:00:00.000Z - 2022-05-21T00:00:00.000Z: 49,114\n",
      "2022-05-21T00:00:00.000Z - 2022-05-22T00:00:00.000Z: 43,242\n",
      "2022-05-22T00:00:00.000Z - 2022-05-23T00:00:00.000Z: 47,119\n",
      "2022-05-23T00:00:00.000Z - 2022-05-23T02:58:47.000Z: 6,314\n",
      "\u001b[32m\n",
      "Total Tweets: 378,525\n",
      "\u001b[0m\n",
      "2022-05-16T02:58:49.000Z - 2022-05-17T00:00:00.000Z: 55,958\n",
      "2022-05-17T00:00:00.000Z - 2022-05-18T00:00:00.000Z: 65,707\n",
      "2022-05-18T00:00:00.000Z - 2022-05-19T00:00:00.000Z: 67,645\n",
      "2022-05-19T00:00:00.000Z - 2022-05-20T00:00:00.000Z: 54,949\n",
      "2022-05-20T00:00:00.000Z - 2022-05-21T00:00:00.000Z: 63,410\n",
      "2022-05-21T00:00:00.000Z - 2022-05-22T00:00:00.000Z: 55,939\n",
      "2022-05-22T00:00:00.000Z - 2022-05-23T00:00:00.000Z: 77,397\n",
      "2022-05-23T00:00:00.000Z - 2022-05-23T02:58:49.000Z: 9,238\n",
      "\u001b[32m\n",
      "Total Tweets: 450,243\n",
      "\u001b[0m\n",
      "2022-05-16T02:58:51.000Z - 2022-05-17T00:00:00.000Z: 82,492\n",
      "2022-05-17T00:00:00.000Z - 2022-05-18T00:00:00.000Z: 96,886\n",
      "2022-05-18T00:00:00.000Z - 2022-05-19T00:00:00.000Z: 101,339\n",
      "2022-05-19T00:00:00.000Z - 2022-05-20T00:00:00.000Z: 85,566\n",
      "2022-05-20T00:00:00.000Z - 2022-05-21T00:00:00.000Z: 94,228\n",
      "2022-05-21T00:00:00.000Z - 2022-05-22T00:00:00.000Z: 119,007\n",
      "2022-05-22T00:00:00.000Z - 2022-05-23T00:00:00.000Z: 84,222\n",
      "2022-05-23T00:00:00.000Z - 2022-05-23T02:58:51.000Z: 12,220\n",
      "\u001b[32m\n",
      "Total Tweets: 675,960\n",
      "\u001b[0m\n",
      "2022-05-16T02:58:52.000Z - 2022-05-17T00:00:00.000Z: 261,647\n",
      "2022-05-17T00:00:00.000Z - 2022-05-18T00:00:00.000Z: 246,872\n",
      "2022-05-18T00:00:00.000Z - 2022-05-19T00:00:00.000Z: 230,345\n",
      "2022-05-19T00:00:00.000Z - 2022-05-20T00:00:00.000Z: 276,554\n",
      "2022-05-20T00:00:00.000Z - 2022-05-21T00:00:00.000Z: 241,356\n",
      "2022-05-21T00:00:00.000Z - 2022-05-22T00:00:00.000Z: 277,225\n",
      "2022-05-22T00:00:00.000Z - 2022-05-23T00:00:00.000Z: 393,291\n",
      "2022-05-23T00:00:00.000Z - 2022-05-23T02:58:52.000Z: 17,778\n",
      "\u001b[32m\n",
      "Total Tweets: 1,945,068\n",
      "\u001b[0m\n"
     ]
    }
   ],
   "source": [
    "## Endpoints: counts\n",
    "!twarc2 counts --text \"(Poker OR poker)\" --granularity \"day\"\n",
    "!twarc2 counts --text \"(Golf OR golf)\" --granularity \"day\"\n",
    "!twarc2 counts --text \"(Basketball OR basketball)\" --granularity \"day\"\n",
    "!twarc2 counts --text \"(Baseball OR baseball)\" --granularity \"day\"\n",
    "!twarc2 counts --text \"(Football OR football)\" --granularity \"day\""
   ]
  },
  {
   "cell_type": "code",
   "execution_count": 33,
   "id": "5443c1c7-0da2-4ad9-82fd-1e9b2b377a72",
   "metadata": {},
   "outputs": [
    {
     "name": "stdout",
     "output_type": "stream",
     "text": [
      "2022-05-16T02:58:54.000Z - 2022-05-17T00:00:00.000Z: 205,109\n",
      "2022-05-17T00:00:00.000Z - 2022-05-18T00:00:00.000Z: 227,772\n",
      "2022-05-18T00:00:00.000Z - 2022-05-19T00:00:00.000Z: 264,141\n",
      "2022-05-19T00:00:00.000Z - 2022-05-20T00:00:00.000Z: 227,478\n",
      "2022-05-20T00:00:00.000Z - 2022-05-21T00:00:00.000Z: 222,664\n",
      "2022-05-21T00:00:00.000Z - 2022-05-22T00:00:00.000Z: 223,036\n",
      "2022-05-22T00:00:00.000Z - 2022-05-23T00:00:00.000Z: 231,865\n",
      "2022-05-23T00:00:00.000Z - 2022-05-23T02:58:54.000Z: 24,475\n",
      "\u001b[32m\n",
      "Total Tweets: 1,626,540\n",
      "\u001b[0m\n",
      "2022-05-16T02:58:56.000Z - 2022-05-17T00:00:00.000Z: 307,279\n",
      "2022-05-17T00:00:00.000Z - 2022-05-18T00:00:00.000Z: 318,109\n",
      "2022-05-18T00:00:00.000Z - 2022-05-19T00:00:00.000Z: 319,860\n",
      "2022-05-19T00:00:00.000Z - 2022-05-20T00:00:00.000Z: 357,590\n",
      "2022-05-20T00:00:00.000Z - 2022-05-21T00:00:00.000Z: 318,376\n",
      "2022-05-21T00:00:00.000Z - 2022-05-22T00:00:00.000Z: 294,558\n",
      "2022-05-22T00:00:00.000Z - 2022-05-23T00:00:00.000Z: 308,585\n",
      "2022-05-23T00:00:00.000Z - 2022-05-23T02:58:56.000Z: 33,317\n",
      "\u001b[32m\n",
      "Total Tweets: 2,257,674\n",
      "\u001b[0m\n",
      "2022-05-16T02:58:58.000Z - 2022-05-17T00:00:00.000Z: 835,539\n",
      "2022-05-17T00:00:00.000Z - 2022-05-18T00:00:00.000Z: 994,433\n",
      "2022-05-18T00:00:00.000Z - 2022-05-19T00:00:00.000Z: 999,951\n",
      "2022-05-19T00:00:00.000Z - 2022-05-20T00:00:00.000Z: 907,311\n",
      "2022-05-20T00:00:00.000Z - 2022-05-21T00:00:00.000Z: 1,006,714\n",
      "2022-05-21T00:00:00.000Z - 2022-05-22T00:00:00.000Z: 909,659\n",
      "2022-05-22T00:00:00.000Z - 2022-05-23T00:00:00.000Z: 913,139\n",
      "2022-05-23T00:00:00.000Z - 2022-05-23T02:58:58.000Z: 97,077\n",
      "\u001b[32m\n",
      "Total Tweets: 6,663,823\n",
      "\u001b[0m\n",
      "2022-05-16T02:58:59.000Z - 2022-05-17T00:00:00.000Z: 1,604,785\n",
      "2022-05-17T00:00:00.000Z - 2022-05-18T00:00:00.000Z: 1,989,311\n",
      "2022-05-18T00:00:00.000Z - 2022-05-19T00:00:00.000Z: 1,931,684\n",
      "2022-05-19T00:00:00.000Z - 2022-05-20T00:00:00.000Z: 1,908,567\n",
      "2022-05-20T00:00:00.000Z - 2022-05-21T00:00:00.000Z: 2,032,915\n",
      "2022-05-21T00:00:00.000Z - 2022-05-22T00:00:00.000Z: 1,690,726\n",
      "2022-05-22T00:00:00.000Z - 2022-05-23T00:00:00.000Z: 1,756,791\n",
      "2022-05-23T00:00:00.000Z - 2022-05-23T02:58:59.000Z: 202,449\n",
      "\u001b[32m\n",
      "Total Tweets: 13,117,228\n",
      "\u001b[0m\n",
      "2022-05-16T02:59:02.000Z - 2022-05-17T00:00:00.000Z: 3,595,359\n",
      "2022-05-17T00:00:00.000Z - 2022-05-18T00:00:00.000Z: 3,887,149\n",
      "2022-05-18T00:00:00.000Z - 2022-05-19T00:00:00.000Z: 4,003,234\n",
      "2022-05-19T00:00:00.000Z - 2022-05-20T00:00:00.000Z: 3,976,276\n",
      "2022-05-20T00:00:00.000Z - 2022-05-21T00:00:00.000Z: 4,109,001\n",
      "2022-05-21T00:00:00.000Z - 2022-05-22T00:00:00.000Z: 3,682,361\n",
      "2022-05-22T00:00:00.000Z - 2022-05-23T00:00:00.000Z: 3,819,339\n",
      "2022-05-23T00:00:00.000Z - 2022-05-23T02:59:02.000Z: 481,006\n",
      "\u001b[32m\n",
      "Total Tweets: 27,553,725\n",
      "\u001b[0m\n"
     ]
    }
   ],
   "source": [
    "## What's a lot?\n",
    "!twarc2 counts --text \"dog\" --granularity \"day\"\n",
    "!twarc2 counts --text \"cat\" --granularity \"day\"\n",
    "!twarc2 counts --text \"amazon\" --granularity \"day\"\n",
    "!twarc2 counts --text \"right\" --granularity \"day\"\n",
    "!twarc2 counts --text \"good\" --granularity \"day\"\n"
   ]
  },
  {
   "cell_type": "code",
   "execution_count": null,
   "id": "3ffc36b3-3fff-455a-b977-af257a34b5dd",
   "metadata": {},
   "outputs": [],
   "source": []
  },
  {
   "cell_type": "code",
   "execution_count": 38,
   "id": "abc52493-cf69-4298-8617-515a581ead59",
   "metadata": {},
   "outputs": [
    {
     "name": "stdout",
     "output_type": "stream",
     "text": [
      "100%|██████████████| Processed 5.31M/5.31M of input file [00:00<00:00, 11.4MB/s]\n",
      "100%|██████████████| Processed 12.9M/12.9M of input file [00:02<00:00, 4.90MB/s]\n",
      "\n",
      "ℹ️\n",
      "Parsed 3226 tweets objects from 3226 lines in the input file.\n",
      "Wrote 3226 rows and output 74 columns in the CSV.\n",
      "\n"
     ]
    }
   ],
   "source": [
    "## a SFW timeline\n",
    "# !twarc2 timeline ucsblibrary raw_data/library_timeline.jsonl\n",
    "!twarc2 flatten raw_data/library_timeline.jsonl output_data/library_timeline_flat.jsonl\n",
    "!twarc2 csv output_data/library_timeline_flat.jsonl output_data/library_timeline_flat.csv\n",
    "library_timeline_df = pandas.read_csv(\"output_data/library_timeline_flat.csv\")"
   ]
  },
  {
   "cell_type": "code",
   "execution_count": 39,
   "id": "e22b3154-3d28-483e-83f4-35fc4623c630",
   "metadata": {},
   "outputs": [
    {
     "data": {
      "text/plain": [
       "3226"
      ]
     },
     "execution_count": 39,
     "metadata": {},
     "output_type": "execute_result"
    }
   ],
   "source": [
    "# confirm the dataframe's existance\n",
    "len(library_timeline_df)"
   ]
  },
  {
   "cell_type": "code",
   "execution_count": 41,
   "id": "cfc06081-ef7c-4122-b7c0-0901ca4a2dff",
   "metadata": {},
   "outputs": [
    {
     "data": {
      "text/plain": [
       "['id',\n",
       " 'conversation_id',\n",
       " 'referenced_tweets.replied_to.id',\n",
       " 'referenced_tweets.retweeted.id',\n",
       " 'referenced_tweets.quoted.id',\n",
       " 'author_id',\n",
       " 'in_reply_to_user_id',\n",
       " 'retweeted_user_id',\n",
       " 'quoted_user_id',\n",
       " 'created_at',\n",
       " 'text',\n",
       " 'lang',\n",
       " 'source',\n",
       " 'public_metrics.like_count',\n",
       " 'public_metrics.quote_count',\n",
       " 'public_metrics.reply_count',\n",
       " 'public_metrics.retweet_count',\n",
       " 'reply_settings',\n",
       " 'possibly_sensitive',\n",
       " 'withheld.scope',\n",
       " 'withheld.copyright',\n",
       " 'withheld.country_codes',\n",
       " 'entities.annotations',\n",
       " 'entities.cashtags',\n",
       " 'entities.hashtags',\n",
       " 'entities.mentions',\n",
       " 'entities.urls',\n",
       " 'context_annotations',\n",
       " 'attachments.media',\n",
       " 'attachments.media_keys',\n",
       " 'attachments.poll.duration_minutes',\n",
       " 'attachments.poll.end_datetime',\n",
       " 'attachments.poll.id',\n",
       " 'attachments.poll.options',\n",
       " 'attachments.poll.voting_status',\n",
       " 'attachments.poll_ids',\n",
       " 'author.id',\n",
       " 'author.created_at',\n",
       " 'author.username',\n",
       " 'author.name',\n",
       " 'author.description',\n",
       " 'author.entities.description.cashtags',\n",
       " 'author.entities.description.hashtags',\n",
       " 'author.entities.description.mentions',\n",
       " 'author.entities.description.urls',\n",
       " 'author.entities.url.urls',\n",
       " 'author.location',\n",
       " 'author.pinned_tweet_id',\n",
       " 'author.profile_image_url',\n",
       " 'author.protected',\n",
       " 'author.public_metrics.followers_count',\n",
       " 'author.public_metrics.following_count',\n",
       " 'author.public_metrics.listed_count',\n",
       " 'author.public_metrics.tweet_count',\n",
       " 'author.url',\n",
       " 'author.verified',\n",
       " 'author.withheld.scope',\n",
       " 'author.withheld.copyright',\n",
       " 'author.withheld.country_codes',\n",
       " 'geo.coordinates.coordinates',\n",
       " 'geo.coordinates.type',\n",
       " 'geo.country',\n",
       " 'geo.country_code',\n",
       " 'geo.full_name',\n",
       " 'geo.geo.bbox',\n",
       " 'geo.geo.type',\n",
       " 'geo.id',\n",
       " 'geo.name',\n",
       " 'geo.place_id',\n",
       " 'geo.place_type',\n",
       " '__twarc.retrieved_at',\n",
       " '__twarc.url',\n",
       " '__twarc.version',\n",
       " 'Unnamed: 73']"
      ]
     },
     "execution_count": 41,
     "metadata": {},
     "output_type": "execute_result"
    }
   ],
   "source": [
    "# and view all column headers\n",
    "list(library_timeline_df.columns)"
   ]
  },
  {
   "cell_type": "markdown",
   "id": "b5af9bd3-debf-4910-a2f1-30a760d599cd",
   "metadata": {},
   "source": [
    "### Converting to csv and dataframes"
   ]
  },
  {
   "cell_type": "code",
   "execution_count": 42,
   "id": "44e2145d-a912-49ea-8044-544cb11bb38d",
   "metadata": {},
   "outputs": [],
   "source": [
    "# this line is not running\n",
    "# flatten it first?\n",
    "# !twarc2 csv output_data/taxday_flat.jsonl output_data/taxday_flat.csv\n"
   ]
  },
  {
   "cell_type": "code",
   "execution_count": null,
   "id": "a492aa1b-dd0f-44f0-b0bc-dedec7d38b0a",
   "metadata": {},
   "outputs": [],
   "source": []
  },
  {
   "cell_type": "code",
   "execution_count": null,
   "id": "ee4cc6aa-8a09-4b27-9dab-0b80cf267fcc",
   "metadata": {},
   "outputs": [],
   "source": []
  },
  {
   "cell_type": "markdown",
   "id": "23735a74-0dd1-4483-9705-595042b099bc",
   "metadata": {},
   "source": [
    "## final challenge: Cats of Instagram\n",
    "Let’s make a bigger datafile. Harvest 5000 tweets that use the hashtag “catsofinstagram” and put the dataset through the pipeline to answer the following questions:\n",
    "\n",
    "- Did you get exactly 5000?\n",
    "- How far back in time did you get?\n",
    "- What is the most re-tweeted recent tweet on #catsofinstagram?\n",
    "- Which person has the most number of followers in your dataset?\n",
    "- Is it really a person?"
   ]
  },
  {
   "cell_type": "code",
   "execution_count": 43,
   "id": "952eed26-010f-464b-82c9-4699988555b9",
   "metadata": {},
   "outputs": [
    {
     "name": "stdout",
     "output_type": "stream",
     "text": [
      "100%|██████████████| Processed 16.0M/16.0M of input file [00:01<00:00, 12.0MB/s]\n",
      "    5091  1103819 19588376 output_data/hashtagcats.csv\n"
     ]
    },
    {
     "data": {
      "text/plain": [
       "0    2022-05-20T23:01:16.000Z\n",
       "1    2022-05-20T22:59:00.000Z\n",
       "2    2022-05-20T22:58:14.000Z\n",
       "3    2022-05-20T22:58:09.000Z\n",
       "4    2022-05-20T22:57:09.000Z\n",
       "Name: created_at, dtype: object"
      ]
     },
     "execution_count": 43,
     "metadata": {},
     "output_type": "execute_result"
    }
   ],
   "source": [
    "# !twarc2 search --limit 5000 \"#catsofinstagram\" raw_data/hashtagcats.jsonl\n",
    "!twarc2 flatten raw_data/hashtagcats.jsonl output_data/hashtagcats_flat.jsonl\n",
    "!twarc2 csv raw_data/hashtagcats.jsonl > output_data/hashtagcats.csv\n",
    "hashtagcats_df = pandas.read_csv(\"output_data/hashtagcats.csv\")\n",
    "! wc output_data/hashtagcats.csv\n",
    "hashtagcats_df[\"created_at\"].head()"
   ]
  },
  {
   "cell_type": "code",
   "execution_count": 44,
   "id": "ac420468-385e-4d39-9f8c-d7e5f520c1be",
   "metadata": {},
   "outputs": [
    {
     "data": {
      "text/plain": [
       "5085    2022-05-18T04:55:17.000Z\n",
       "5086    2022-05-18T04:55:03.000Z\n",
       "5087    2022-05-18T04:51:51.000Z\n",
       "5088    2022-05-18T04:51:48.000Z\n",
       "5089    2022-05-18T04:51:30.000Z\n",
       "Name: created_at, dtype: object"
      ]
     },
     "execution_count": 44,
     "metadata": {},
     "output_type": "execute_result"
    }
   ],
   "source": [
    "hashtagcats_df[\"created_at\"].tail()"
   ]
  },
  {
   "cell_type": "code",
   "execution_count": 45,
   "id": "51f07c72-c097-4db9-8705-32e2b93c6aba",
   "metadata": {},
   "outputs": [
    {
     "data": {
      "text/html": [
       "<div>\n",
       "<style scoped>\n",
       "    .dataframe tbody tr th:only-of-type {\n",
       "        vertical-align: middle;\n",
       "    }\n",
       "\n",
       "    .dataframe tbody tr th {\n",
       "        vertical-align: top;\n",
       "    }\n",
       "\n",
       "    .dataframe thead th {\n",
       "        text-align: right;\n",
       "    }\n",
       "</style>\n",
       "<table border=\"1\" class=\"dataframe\">\n",
       "  <thead>\n",
       "    <tr style=\"text-align: right;\">\n",
       "      <th></th>\n",
       "      <th>id</th>\n",
       "      <th>conversation_id</th>\n",
       "      <th>referenced_tweets.replied_to.id</th>\n",
       "      <th>referenced_tweets.retweeted.id</th>\n",
       "      <th>referenced_tweets.quoted.id</th>\n",
       "      <th>author_id</th>\n",
       "      <th>in_reply_to_user_id</th>\n",
       "      <th>retweeted_user_id</th>\n",
       "      <th>quoted_user_id</th>\n",
       "      <th>created_at</th>\n",
       "      <th>...</th>\n",
       "      <th>geo.geo.bbox</th>\n",
       "      <th>geo.geo.type</th>\n",
       "      <th>geo.id</th>\n",
       "      <th>geo.name</th>\n",
       "      <th>geo.place_id</th>\n",
       "      <th>geo.place_type</th>\n",
       "      <th>__twarc.retrieved_at</th>\n",
       "      <th>__twarc.url</th>\n",
       "      <th>__twarc.version</th>\n",
       "      <th>Unnamed: 73</th>\n",
       "    </tr>\n",
       "  </thead>\n",
       "  <tbody>\n",
       "    <tr>\n",
       "      <th>0</th>\n",
       "      <td>1527786564398501895</td>\n",
       "      <td>1527786564398501895</td>\n",
       "      <td>NaN</td>\n",
       "      <td>1.527394e+18</td>\n",
       "      <td>NaN</td>\n",
       "      <td>225211845</td>\n",
       "      <td>NaN</td>\n",
       "      <td>3.541330e+08</td>\n",
       "      <td>NaN</td>\n",
       "      <td>2022-05-20T23:01:16.000Z</td>\n",
       "      <td>...</td>\n",
       "      <td>NaN</td>\n",
       "      <td>NaN</td>\n",
       "      <td>NaN</td>\n",
       "      <td>NaN</td>\n",
       "      <td>NaN</td>\n",
       "      <td>NaN</td>\n",
       "      <td>2022-05-20T23:02:13+00:00</td>\n",
       "      <td>https://api.twitter.com/2/tweets/search/recent...</td>\n",
       "      <td>2.10.4</td>\n",
       "      <td>NaN</td>\n",
       "    </tr>\n",
       "    <tr>\n",
       "      <th>1</th>\n",
       "      <td>1527785992945422336</td>\n",
       "      <td>1527785992945422336</td>\n",
       "      <td>NaN</td>\n",
       "      <td>1.527749e+18</td>\n",
       "      <td>NaN</td>\n",
       "      <td>1508010079194214400</td>\n",
       "      <td>NaN</td>\n",
       "      <td>3.541330e+08</td>\n",
       "      <td>NaN</td>\n",
       "      <td>2022-05-20T22:59:00.000Z</td>\n",
       "      <td>...</td>\n",
       "      <td>NaN</td>\n",
       "      <td>NaN</td>\n",
       "      <td>NaN</td>\n",
       "      <td>NaN</td>\n",
       "      <td>NaN</td>\n",
       "      <td>NaN</td>\n",
       "      <td>2022-05-20T23:02:13+00:00</td>\n",
       "      <td>https://api.twitter.com/2/tweets/search/recent...</td>\n",
       "      <td>2.10.4</td>\n",
       "      <td>NaN</td>\n",
       "    </tr>\n",
       "    <tr>\n",
       "      <th>2</th>\n",
       "      <td>1527785799588139008</td>\n",
       "      <td>1527785799588139008</td>\n",
       "      <td>NaN</td>\n",
       "      <td>1.527700e+18</td>\n",
       "      <td>NaN</td>\n",
       "      <td>1125800648191217667</td>\n",
       "      <td>NaN</td>\n",
       "      <td>1.458759e+18</td>\n",
       "      <td>NaN</td>\n",
       "      <td>2022-05-20T22:58:14.000Z</td>\n",
       "      <td>...</td>\n",
       "      <td>NaN</td>\n",
       "      <td>NaN</td>\n",
       "      <td>NaN</td>\n",
       "      <td>NaN</td>\n",
       "      <td>NaN</td>\n",
       "      <td>NaN</td>\n",
       "      <td>2022-05-20T23:02:13+00:00</td>\n",
       "      <td>https://api.twitter.com/2/tweets/search/recent...</td>\n",
       "      <td>2.10.4</td>\n",
       "      <td>NaN</td>\n",
       "    </tr>\n",
       "    <tr>\n",
       "      <th>3</th>\n",
       "      <td>1527785778931281922</td>\n",
       "      <td>1527785778931281922</td>\n",
       "      <td>NaN</td>\n",
       "      <td>NaN</td>\n",
       "      <td>NaN</td>\n",
       "      <td>947647325589131264</td>\n",
       "      <td>NaN</td>\n",
       "      <td>NaN</td>\n",
       "      <td>NaN</td>\n",
       "      <td>2022-05-20T22:58:09.000Z</td>\n",
       "      <td>...</td>\n",
       "      <td>NaN</td>\n",
       "      <td>NaN</td>\n",
       "      <td>NaN</td>\n",
       "      <td>NaN</td>\n",
       "      <td>NaN</td>\n",
       "      <td>NaN</td>\n",
       "      <td>2022-05-20T23:02:13+00:00</td>\n",
       "      <td>https://api.twitter.com/2/tweets/search/recent...</td>\n",
       "      <td>2.10.4</td>\n",
       "      <td>NaN</td>\n",
       "    </tr>\n",
       "    <tr>\n",
       "      <th>4</th>\n",
       "      <td>1527785528002695168</td>\n",
       "      <td>1527785528002695168</td>\n",
       "      <td>NaN</td>\n",
       "      <td>1.527688e+18</td>\n",
       "      <td>NaN</td>\n",
       "      <td>1508010079194214400</td>\n",
       "      <td>NaN</td>\n",
       "      <td>3.541330e+08</td>\n",
       "      <td>NaN</td>\n",
       "      <td>2022-05-20T22:57:09.000Z</td>\n",
       "      <td>...</td>\n",
       "      <td>NaN</td>\n",
       "      <td>NaN</td>\n",
       "      <td>NaN</td>\n",
       "      <td>NaN</td>\n",
       "      <td>NaN</td>\n",
       "      <td>NaN</td>\n",
       "      <td>2022-05-20T23:02:13+00:00</td>\n",
       "      <td>https://api.twitter.com/2/tweets/search/recent...</td>\n",
       "      <td>2.10.4</td>\n",
       "      <td>NaN</td>\n",
       "    </tr>\n",
       "    <tr>\n",
       "      <th>...</th>\n",
       "      <td>...</td>\n",
       "      <td>...</td>\n",
       "      <td>...</td>\n",
       "      <td>...</td>\n",
       "      <td>...</td>\n",
       "      <td>...</td>\n",
       "      <td>...</td>\n",
       "      <td>...</td>\n",
       "      <td>...</td>\n",
       "      <td>...</td>\n",
       "      <td>...</td>\n",
       "      <td>...</td>\n",
       "      <td>...</td>\n",
       "      <td>...</td>\n",
       "      <td>...</td>\n",
       "      <td>...</td>\n",
       "      <td>...</td>\n",
       "      <td>...</td>\n",
       "      <td>...</td>\n",
       "      <td>...</td>\n",
       "      <td>...</td>\n",
       "    </tr>\n",
       "    <tr>\n",
       "      <th>5085</th>\n",
       "      <td>1526788490536669186</td>\n",
       "      <td>1526788490536669186</td>\n",
       "      <td>NaN</td>\n",
       "      <td>1.526651e+18</td>\n",
       "      <td>NaN</td>\n",
       "      <td>750594529397473280</td>\n",
       "      <td>NaN</td>\n",
       "      <td>1.459073e+18</td>\n",
       "      <td>NaN</td>\n",
       "      <td>2022-05-18T04:55:17.000Z</td>\n",
       "      <td>...</td>\n",
       "      <td>NaN</td>\n",
       "      <td>NaN</td>\n",
       "      <td>NaN</td>\n",
       "      <td>NaN</td>\n",
       "      <td>NaN</td>\n",
       "      <td>NaN</td>\n",
       "      <td>2022-05-20T23:02:57+00:00</td>\n",
       "      <td>https://api.twitter.com/2/tweets/search/recent...</td>\n",
       "      <td>2.10.4</td>\n",
       "      <td>NaN</td>\n",
       "    </tr>\n",
       "    <tr>\n",
       "      <th>5086</th>\n",
       "      <td>1526788431589675008</td>\n",
       "      <td>1526788426330099712</td>\n",
       "      <td>1.526788e+18</td>\n",
       "      <td>NaN</td>\n",
       "      <td>NaN</td>\n",
       "      <td>1180818595</td>\n",
       "      <td>1.180819e+09</td>\n",
       "      <td>NaN</td>\n",
       "      <td>NaN</td>\n",
       "      <td>2022-05-18T04:55:03.000Z</td>\n",
       "      <td>...</td>\n",
       "      <td>[-124.482003, 32.528832, -114.131212, 42.009519]</td>\n",
       "      <td>Feature</td>\n",
       "      <td>fbd6d2f5a4e4a15e</td>\n",
       "      <td>California</td>\n",
       "      <td>fbd6d2f5a4e4a15e</td>\n",
       "      <td>admin</td>\n",
       "      <td>2022-05-20T23:02:57+00:00</td>\n",
       "      <td>https://api.twitter.com/2/tweets/search/recent...</td>\n",
       "      <td>2.10.4</td>\n",
       "      <td>NaN</td>\n",
       "    </tr>\n",
       "    <tr>\n",
       "      <th>5087</th>\n",
       "      <td>1526787626174496769</td>\n",
       "      <td>1526787626174496769</td>\n",
       "      <td>NaN</td>\n",
       "      <td>1.523627e+18</td>\n",
       "      <td>NaN</td>\n",
       "      <td>1724613062</td>\n",
       "      <td>NaN</td>\n",
       "      <td>3.958303e+09</td>\n",
       "      <td>NaN</td>\n",
       "      <td>2022-05-18T04:51:51.000Z</td>\n",
       "      <td>...</td>\n",
       "      <td>NaN</td>\n",
       "      <td>NaN</td>\n",
       "      <td>NaN</td>\n",
       "      <td>NaN</td>\n",
       "      <td>NaN</td>\n",
       "      <td>NaN</td>\n",
       "      <td>2022-05-20T23:02:57+00:00</td>\n",
       "      <td>https://api.twitter.com/2/tweets/search/recent...</td>\n",
       "      <td>2.10.4</td>\n",
       "      <td>NaN</td>\n",
       "    </tr>\n",
       "    <tr>\n",
       "      <th>5088</th>\n",
       "      <td>1526787617068666880</td>\n",
       "      <td>1526787617068666880</td>\n",
       "      <td>NaN</td>\n",
       "      <td>1.524457e+18</td>\n",
       "      <td>NaN</td>\n",
       "      <td>2489060538</td>\n",
       "      <td>NaN</td>\n",
       "      <td>1.495445e+18</td>\n",
       "      <td>NaN</td>\n",
       "      <td>2022-05-18T04:51:48.000Z</td>\n",
       "      <td>...</td>\n",
       "      <td>NaN</td>\n",
       "      <td>NaN</td>\n",
       "      <td>NaN</td>\n",
       "      <td>NaN</td>\n",
       "      <td>NaN</td>\n",
       "      <td>NaN</td>\n",
       "      <td>2022-05-20T23:02:57+00:00</td>\n",
       "      <td>https://api.twitter.com/2/tweets/search/recent...</td>\n",
       "      <td>2.10.4</td>\n",
       "      <td>NaN</td>\n",
       "    </tr>\n",
       "    <tr>\n",
       "      <th>5089</th>\n",
       "      <td>1526787539591471109</td>\n",
       "      <td>1526787539591471109</td>\n",
       "      <td>NaN</td>\n",
       "      <td>1.526651e+18</td>\n",
       "      <td>NaN</td>\n",
       "      <td>1464278968627253248</td>\n",
       "      <td>NaN</td>\n",
       "      <td>1.459073e+18</td>\n",
       "      <td>NaN</td>\n",
       "      <td>2022-05-18T04:51:30.000Z</td>\n",
       "      <td>...</td>\n",
       "      <td>NaN</td>\n",
       "      <td>NaN</td>\n",
       "      <td>NaN</td>\n",
       "      <td>NaN</td>\n",
       "      <td>NaN</td>\n",
       "      <td>NaN</td>\n",
       "      <td>2022-05-20T23:02:57+00:00</td>\n",
       "      <td>https://api.twitter.com/2/tweets/search/recent...</td>\n",
       "      <td>2.10.4</td>\n",
       "      <td>NaN</td>\n",
       "    </tr>\n",
       "  </tbody>\n",
       "</table>\n",
       "<p>5090 rows × 74 columns</p>\n",
       "</div>"
      ],
      "text/plain": [
       "                       id      conversation_id  \\\n",
       "0     1527786564398501895  1527786564398501895   \n",
       "1     1527785992945422336  1527785992945422336   \n",
       "2     1527785799588139008  1527785799588139008   \n",
       "3     1527785778931281922  1527785778931281922   \n",
       "4     1527785528002695168  1527785528002695168   \n",
       "...                   ...                  ...   \n",
       "5085  1526788490536669186  1526788490536669186   \n",
       "5086  1526788431589675008  1526788426330099712   \n",
       "5087  1526787626174496769  1526787626174496769   \n",
       "5088  1526787617068666880  1526787617068666880   \n",
       "5089  1526787539591471109  1526787539591471109   \n",
       "\n",
       "      referenced_tweets.replied_to.id  referenced_tweets.retweeted.id  \\\n",
       "0                                 NaN                    1.527394e+18   \n",
       "1                                 NaN                    1.527749e+18   \n",
       "2                                 NaN                    1.527700e+18   \n",
       "3                                 NaN                             NaN   \n",
       "4                                 NaN                    1.527688e+18   \n",
       "...                               ...                             ...   \n",
       "5085                              NaN                    1.526651e+18   \n",
       "5086                     1.526788e+18                             NaN   \n",
       "5087                              NaN                    1.523627e+18   \n",
       "5088                              NaN                    1.524457e+18   \n",
       "5089                              NaN                    1.526651e+18   \n",
       "\n",
       "      referenced_tweets.quoted.id            author_id  in_reply_to_user_id  \\\n",
       "0                             NaN            225211845                  NaN   \n",
       "1                             NaN  1508010079194214400                  NaN   \n",
       "2                             NaN  1125800648191217667                  NaN   \n",
       "3                             NaN   947647325589131264                  NaN   \n",
       "4                             NaN  1508010079194214400                  NaN   \n",
       "...                           ...                  ...                  ...   \n",
       "5085                          NaN   750594529397473280                  NaN   \n",
       "5086                          NaN           1180818595         1.180819e+09   \n",
       "5087                          NaN           1724613062                  NaN   \n",
       "5088                          NaN           2489060538                  NaN   \n",
       "5089                          NaN  1464278968627253248                  NaN   \n",
       "\n",
       "      retweeted_user_id  quoted_user_id                created_at  ...  \\\n",
       "0          3.541330e+08             NaN  2022-05-20T23:01:16.000Z  ...   \n",
       "1          3.541330e+08             NaN  2022-05-20T22:59:00.000Z  ...   \n",
       "2          1.458759e+18             NaN  2022-05-20T22:58:14.000Z  ...   \n",
       "3                   NaN             NaN  2022-05-20T22:58:09.000Z  ...   \n",
       "4          3.541330e+08             NaN  2022-05-20T22:57:09.000Z  ...   \n",
       "...                 ...             ...                       ...  ...   \n",
       "5085       1.459073e+18             NaN  2022-05-18T04:55:17.000Z  ...   \n",
       "5086                NaN             NaN  2022-05-18T04:55:03.000Z  ...   \n",
       "5087       3.958303e+09             NaN  2022-05-18T04:51:51.000Z  ...   \n",
       "5088       1.495445e+18             NaN  2022-05-18T04:51:48.000Z  ...   \n",
       "5089       1.459073e+18             NaN  2022-05-18T04:51:30.000Z  ...   \n",
       "\n",
       "                                          geo.geo.bbox geo.geo.type  \\\n",
       "0                                                  NaN          NaN   \n",
       "1                                                  NaN          NaN   \n",
       "2                                                  NaN          NaN   \n",
       "3                                                  NaN          NaN   \n",
       "4                                                  NaN          NaN   \n",
       "...                                                ...          ...   \n",
       "5085                                               NaN          NaN   \n",
       "5086  [-124.482003, 32.528832, -114.131212, 42.009519]      Feature   \n",
       "5087                                               NaN          NaN   \n",
       "5088                                               NaN          NaN   \n",
       "5089                                               NaN          NaN   \n",
       "\n",
       "                geo.id    geo.name      geo.place_id  geo.place_type  \\\n",
       "0                  NaN         NaN               NaN             NaN   \n",
       "1                  NaN         NaN               NaN             NaN   \n",
       "2                  NaN         NaN               NaN             NaN   \n",
       "3                  NaN         NaN               NaN             NaN   \n",
       "4                  NaN         NaN               NaN             NaN   \n",
       "...                ...         ...               ...             ...   \n",
       "5085               NaN         NaN               NaN             NaN   \n",
       "5086  fbd6d2f5a4e4a15e  California  fbd6d2f5a4e4a15e           admin   \n",
       "5087               NaN         NaN               NaN             NaN   \n",
       "5088               NaN         NaN               NaN             NaN   \n",
       "5089               NaN         NaN               NaN             NaN   \n",
       "\n",
       "           __twarc.retrieved_at  \\\n",
       "0     2022-05-20T23:02:13+00:00   \n",
       "1     2022-05-20T23:02:13+00:00   \n",
       "2     2022-05-20T23:02:13+00:00   \n",
       "3     2022-05-20T23:02:13+00:00   \n",
       "4     2022-05-20T23:02:13+00:00   \n",
       "...                         ...   \n",
       "5085  2022-05-20T23:02:57+00:00   \n",
       "5086  2022-05-20T23:02:57+00:00   \n",
       "5087  2022-05-20T23:02:57+00:00   \n",
       "5088  2022-05-20T23:02:57+00:00   \n",
       "5089  2022-05-20T23:02:57+00:00   \n",
       "\n",
       "                                            __twarc.url  __twarc.version  \\\n",
       "0     https://api.twitter.com/2/tweets/search/recent...           2.10.4   \n",
       "1     https://api.twitter.com/2/tweets/search/recent...           2.10.4   \n",
       "2     https://api.twitter.com/2/tweets/search/recent...           2.10.4   \n",
       "3     https://api.twitter.com/2/tweets/search/recent...           2.10.4   \n",
       "4     https://api.twitter.com/2/tweets/search/recent...           2.10.4   \n",
       "...                                                 ...              ...   \n",
       "5085  https://api.twitter.com/2/tweets/search/recent...           2.10.4   \n",
       "5086  https://api.twitter.com/2/tweets/search/recent...           2.10.4   \n",
       "5087  https://api.twitter.com/2/tweets/search/recent...           2.10.4   \n",
       "5088  https://api.twitter.com/2/tweets/search/recent...           2.10.4   \n",
       "5089  https://api.twitter.com/2/tweets/search/recent...           2.10.4   \n",
       "\n",
       "      Unnamed: 73  \n",
       "0             NaN  \n",
       "1             NaN  \n",
       "2             NaN  \n",
       "3             NaN  \n",
       "4             NaN  \n",
       "...           ...  \n",
       "5085          NaN  \n",
       "5086          NaN  \n",
       "5087          NaN  \n",
       "5088          NaN  \n",
       "5089          NaN  \n",
       "\n",
       "[5090 rows x 74 columns]"
      ]
     },
     "execution_count": 45,
     "metadata": {},
     "output_type": "execute_result"
    }
   ],
   "source": [
    "hashtagcats_df"
   ]
  },
  {
   "cell_type": "code",
   "execution_count": 46,
   "id": "c151b25e-f551-445c-93ed-118406e3df40",
   "metadata": {},
   "outputs": [
    {
     "data": {
      "text/plain": [
       "['id',\n",
       " 'conversation_id',\n",
       " 'referenced_tweets.replied_to.id',\n",
       " 'referenced_tweets.retweeted.id',\n",
       " 'referenced_tweets.quoted.id',\n",
       " 'author_id',\n",
       " 'in_reply_to_user_id',\n",
       " 'retweeted_user_id',\n",
       " 'quoted_user_id',\n",
       " 'created_at',\n",
       " 'text',\n",
       " 'lang',\n",
       " 'source',\n",
       " 'public_metrics.like_count',\n",
       " 'public_metrics.quote_count',\n",
       " 'public_metrics.reply_count',\n",
       " 'public_metrics.retweet_count',\n",
       " 'reply_settings',\n",
       " 'possibly_sensitive',\n",
       " 'withheld.scope',\n",
       " 'withheld.copyright',\n",
       " 'withheld.country_codes',\n",
       " 'entities.annotations',\n",
       " 'entities.cashtags',\n",
       " 'entities.hashtags',\n",
       " 'entities.mentions',\n",
       " 'entities.urls',\n",
       " 'context_annotations',\n",
       " 'attachments.media',\n",
       " 'attachments.media_keys',\n",
       " 'attachments.poll.duration_minutes',\n",
       " 'attachments.poll.end_datetime',\n",
       " 'attachments.poll.id',\n",
       " 'attachments.poll.options',\n",
       " 'attachments.poll.voting_status',\n",
       " 'attachments.poll_ids',\n",
       " 'author.id',\n",
       " 'author.created_at',\n",
       " 'author.username',\n",
       " 'author.name',\n",
       " 'author.description',\n",
       " 'author.entities.description.cashtags',\n",
       " 'author.entities.description.hashtags',\n",
       " 'author.entities.description.mentions',\n",
       " 'author.entities.description.urls',\n",
       " 'author.entities.url.urls',\n",
       " 'author.location',\n",
       " 'author.pinned_tweet_id',\n",
       " 'author.profile_image_url',\n",
       " 'author.protected',\n",
       " 'author.public_metrics.followers_count',\n",
       " 'author.public_metrics.following_count',\n",
       " 'author.public_metrics.listed_count',\n",
       " 'author.public_metrics.tweet_count',\n",
       " 'author.url',\n",
       " 'author.verified',\n",
       " 'author.withheld.scope',\n",
       " 'author.withheld.copyright',\n",
       " 'author.withheld.country_codes',\n",
       " 'geo.coordinates.coordinates',\n",
       " 'geo.coordinates.type',\n",
       " 'geo.country',\n",
       " 'geo.country_code',\n",
       " 'geo.full_name',\n",
       " 'geo.geo.bbox',\n",
       " 'geo.geo.type',\n",
       " 'geo.id',\n",
       " 'geo.name',\n",
       " 'geo.place_id',\n",
       " 'geo.place_type',\n",
       " '__twarc.retrieved_at',\n",
       " '__twarc.url',\n",
       " '__twarc.version',\n",
       " 'Unnamed: 73']"
      ]
     },
     "execution_count": 46,
     "metadata": {},
     "output_type": "execute_result"
    }
   ],
   "source": [
    "list(hashtagcats_df.columns)"
   ]
  },
  {
   "cell_type": "code",
   "execution_count": 47,
   "id": "1d6badeb-47e1-4895-aae6-dbd53d2c50e6",
   "metadata": {},
   "outputs": [
    {
     "name": "stdout",
     "output_type": "stream",
     "text": [
      "Variable              Type         Data/Info\n",
      "--------------------------------------------\n",
      "ecodatasci_df         DataFrame                          id <...>\\n[473 rows x 74 columns]\n",
      "hashtagcats_df        DataFrame                           id<...>n[5090 rows x 74 columns]\n",
      "library_timeline_df   DataFrame                           id<...>n[3226 rows x 74 columns]\n"
     ]
    }
   ],
   "source": [
    "# what dataframes do we have at this point?\n",
    "%whos DataFrame"
   ]
  },
  {
   "cell_type": "markdown",
   "id": "870d9fb7-03eb-4dcd-9ab8-d4888b008f65",
   "metadata": {},
   "source": [
    "# Episode 5: Ethics & Twitter"
   ]
  },
  {
   "cell_type": "code",
   "execution_count": 49,
   "id": "f046b945-b698-4c9b-b6c4-8047382f16aa",
   "metadata": {},
   "outputs": [],
   "source": [
    "# our first full-text analysis\n",
    "# a list of words with TextBlob\n",
    "\n",
    "# first we need to munge the data. remember from:\n",
    "# list(library_df.columns)\n",
    "# the tweet is library_df['text']\n",
    "\n",
    "# TextBlob has its own data format.\n",
    "\n",
    "# break tweets test column into a list, \n",
    "# then .join into one long string \n",
    "library_string = ' '.join(library_timeline_df['text'].tolist())\n",
    "# turn the string into a blob\n",
    "library_blob = textblob.TextBlob(library_string)\n"
   ]
  },
  {
   "cell_type": "markdown",
   "id": "4522956e-9332-4219-a21b-7e2dfbf3bc02",
   "metadata": {},
   "source": [
    "This produces a mess. \n",
    "Let's count the words and sort by their frequency of use:\n"
   ]
  },
  {
   "cell_type": "code",
   "execution_count": 50,
   "id": "1a5a3b36-fffd-477c-91bb-cdf315dbe285",
   "metadata": {},
   "outputs": [
    {
     "data": {
      "text/plain": [
       "[('https', 2282),\n",
       " ('to', 1646),\n",
       " ('of', 1523),\n",
       " ('and', 1244),\n",
       " ('ucsb', 1148),\n",
       " ('http', 1117),\n",
       " ('in', 1107),\n",
       " ('library', 1071),\n",
       " ('a', 1047),\n",
       " ('for', 1012),\n",
       " ('s', 745),\n",
       " ('on', 671),\n",
       " ('at', 634),\n",
       " ('you', 605),\n",
       " ('our', 547),\n",
       " ('we', 532),\n",
       " ('is', 499),\n",
       " ('from', 475),\n",
       " ('this', 453),\n",
       " ('ucsblibrary', 415),\n",
       " ('with', 391),\n",
       " ('by', 391),\n",
       " ('amp', 331),\n",
       " ('more', 327)]"
      ]
     },
     "execution_count": 50,
     "metadata": {},
     "output_type": "execute_result"
    }
   ],
   "source": [
    "library_freq = library_blob.word_counts\n",
    "library_sorted_freq = sorted(library_freq.items(), \n",
    "                             key = lambda kv: kv[1], \n",
    "                             reverse = True)\n",
    "library_sorted_freq[1:25]"
   ]
  },
  {
   "cell_type": "markdown",
   "id": "dfa676be-7ceb-45e8-82e8-7429b8884d7b",
   "metadata": {},
   "source": [
    "We can at least get the english stopwords out. but this all didn't reall produce anything cleaner:"
   ]
  },
  {
   "cell_type": "code",
   "execution_count": 51,
   "id": "b5cd1c12-d78a-44e5-9376-26b4a0589785",
   "metadata": {},
   "outputs": [],
   "source": [
    "# load the stopwords to use\n",
    "from nltk.corpus import stopwords\n",
    "sw_nltk = stopwords.words('english')"
   ]
  },
  {
   "cell_type": "code",
   "execution_count": 52,
   "id": "e878e6b7-2c29-45e8-83cd-fb0eefd3b668",
   "metadata": {},
   "outputs": [],
   "source": [
    "# create a new text list that does\n",
    "# NOT contain stopwords\n",
    "library_str_stopped = [word for word in library_string.split() \n",
    "                       if word.lower() not in sw_nltk]\n",
    "library_words_stopped = \" \".join(library_str_stopped)"
   ]
  },
  {
   "cell_type": "code",
   "execution_count": 53,
   "id": "6e27a5b1-0519-407c-ae52-abd0587857a5",
   "metadata": {},
   "outputs": [
    {
     "data": {
      "text/plain": [
       "[('ucsb', 1148),\n",
       " ('http', 1117),\n",
       " ('library', 1071),\n",
       " ('s', 679),\n",
       " ('ucsblibrary', 415),\n",
       " ('amp', 331),\n",
       " ('new', 288),\n",
       " ('today', 250),\n",
       " ('us', 232),\n",
       " ('’', 228),\n",
       " ('book', 218),\n",
       " ('research', 212),\n",
       " ('here', 210),\n",
       " ('students', 195),\n",
       " ('reads', 189),\n",
       " ('open', 187),\n",
       " ('we', 178),\n",
       " ('check', 177),\n",
       " ('join', 164),\n",
       " ('week', 161),\n",
       " ('floor', 145),\n",
       " ('day', 143),\n",
       " ('free', 139),\n",
       " ('collections', 138),\n",
       " ('access', 136),\n",
       " ('art', 127),\n",
       " ('re', 126),\n",
       " ('special', 120),\n",
       " ('study', 119),\n",
       " ('learn', 116),\n",
       " ('collection', 112),\n",
       " ('first', 108),\n",
       " ('campus', 106),\n",
       " ('one', 103),\n",
       " ('info', 102),\n",
       " ('books', 102),\n",
       " ('available', 102),\n",
       " ('see', 100),\n",
       " ('uc', 99),\n",
       " ('come', 99),\n",
       " ('librarian', 98),\n",
       " ('community', 97),\n",
       " ('student', 97),\n",
       " ('talk', 96),\n",
       " ('exhibit', 95),\n",
       " ('hours', 93),\n",
       " ('more', 92),\n",
       " ('read', 90),\n",
       " ('science', 89)]"
      ]
     },
     "execution_count": 53,
     "metadata": {},
     "output_type": "execute_result"
    }
   ],
   "source": [
    "library_blob_stopped = textblob.TextBlob(library_words_stopped)\n",
    "library_blob_stopped_freq = library_blob_stopped.word_counts\n",
    "library_blob_stopped_sorted_freq = sorted(library_blob_stopped_freq.items(), \n",
    "                             key = lambda kv: kv[1], \n",
    "                             reverse = True)\n",
    "library_blob_stopped_sorted_freq[1:50]"
   ]
  },
  {
   "cell_type": "code",
   "execution_count": 54,
   "id": "e7e02e4b-e055-47a8-a99a-03e47a9868c4",
   "metadata": {},
   "outputs": [
    {
     "data": {
      "text/plain": [
       "[('new', 288),\n",
       " ('today', 250),\n",
       " ('us', 232),\n",
       " ('’', 228),\n",
       " ('book', 218),\n",
       " ('research', 212),\n",
       " ('here', 210),\n",
       " ('students', 195),\n",
       " ('reads', 189),\n",
       " ('open', 187),\n",
       " ('we', 178),\n",
       " ('check', 177),\n",
       " ('join', 164),\n",
       " ('week', 161),\n",
       " ('floor', 145),\n",
       " ('day', 143),\n",
       " ('free', 139),\n",
       " ('collections', 138),\n",
       " ('access', 136),\n",
       " ('art', 127),\n",
       " ('re', 126),\n",
       " ('special', 120),\n",
       " ('study', 119),\n",
       " ('learn', 116),\n",
       " ('collection', 112),\n",
       " ('first', 108),\n",
       " ('campus', 106),\n",
       " ('one', 103),\n",
       " ('info', 102),\n",
       " ('books', 102),\n",
       " ('available', 102),\n",
       " ('see', 100),\n",
       " ('uc', 99),\n",
       " ('come', 99),\n",
       " ('librarian', 98),\n",
       " ('community', 97),\n",
       " ('student', 97),\n",
       " ('talk', 96),\n",
       " ('exhibit', 95),\n",
       " ('hours', 93),\n",
       " ('more', 92),\n",
       " ('read', 90),\n",
       " ('science', 89),\n",
       " ('“', 87),\n",
       " ('”', 86),\n",
       " ('time', 86),\n",
       " ('barbara', 85),\n",
       " ('tbt', 84),\n",
       " ('santa', 83),\n",
       " ('year', 82)]"
      ]
     },
     "execution_count": 54,
     "metadata": {},
     "output_type": "execute_result"
    }
   ],
   "source": [
    "# a more meaningul segment\n",
    "library_blob_stopped_sorted_freq[7:57]"
   ]
  },
  {
   "cell_type": "code",
   "execution_count": 55,
   "id": "c343fbf8-241c-4ec7-8b6e-da4c3db73717",
   "metadata": {},
   "outputs": [
    {
     "data": {
      "text/plain": [
       "textblob.blob.TextBlob"
      ]
     },
     "execution_count": 55,
     "metadata": {},
     "output_type": "execute_result"
    }
   ],
   "source": [
    "type(library_blob_stopped)"
   ]
  },
  {
   "cell_type": "code",
   "execution_count": 56,
   "id": "e074d32e-4a94-4add-89b3-cf0863340cea",
   "metadata": {},
   "outputs": [],
   "source": [
    "# Challenge: for the Python wizzes. #FIXME\n",
    "# do that in a tidy way?\n",
    "# what do pandas pipes look like?"
   ]
  },
  {
   "cell_type": "code",
   "execution_count": 57,
   "id": "fc855355-2742-47b4-a166-194898ded55b",
   "metadata": {
    "tags": []
   },
   "outputs": [
    {
     "name": "stdout",
     "output_type": "stream",
     "text": [
      "Traceback (most recent call last):\n",
      "  File \"/home/jovyan/twarc_run/utils/wall.py\", line 147, in <module>\n",
      "    url = tweet[\"user\"][\"profile_image_url\"]\n",
      "KeyError: 'user'\n"
     ]
    }
   ],
   "source": [
    "# broke broke broke\n",
    "# we made the utils folder during setup\n",
    "# https://github.com/DocNow/twarc/tree/main/utils\n",
    "\n",
    "!python utils/wall.py output_data/hashtagcats_flat.jsonl > output_data/hashtagcats.html"
   ]
  },
  {
   "cell_type": "code",
   "execution_count": 58,
   "id": "0fca575d-4e5c-4f00-834c-0f7f1c7429fb",
   "metadata": {},
   "outputs": [
    {
     "name": "stdout",
     "output_type": "stream",
     "text": [
      "Traceback (most recent call last):\n",
      "  File \"/home/jovyan/twarc_run/utils/wall.py\", line 147, in <module>\n",
      "    url = tweet[\"user\"][\"profile_image_url\"]\n",
      "KeyError: 'user'\n"
     ]
    }
   ],
   "source": [
    "!python utils/wall.py output_data/ecodatasci_flat.jsonl > output_data/ecodatasci_flat.html"
   ]
  },
  {
   "cell_type": "code",
   "execution_count": 59,
   "id": "f05c175a-1049-49b8-a4ad-672249bceb28",
   "metadata": {},
   "outputs": [
    {
     "name": "stdout",
     "output_type": "stream",
     "text": [
      "Traceback (most recent call last):\n",
      "  File \"/home/jovyan/twarc_run/utils/wall.py\", line 147, in <module>\n",
      "    url = tweet[\"user\"][\"profile_image_url\"]\n",
      "KeyError: 'user'\n"
     ]
    }
   ],
   "source": [
    "# you gotta flatten that shit\n",
    "!twarc2 flatten raw_data/hashtagcats.jsonl > output_data/hashtagcats_flat.jsonl\n",
    "# !python utils/wall.py output_data/hashtagcats_flat.jsonl > output_data/hashtagcats.html\n",
    "\n",
    "# or maybe not flatten.\n",
    "# either way, I can't get it to run\n",
    "! python utils/wall.py raw_data/hashtagcats.jsonl > output_data/cat_wall.html"
   ]
  },
  {
   "cell_type": "markdown",
   "id": "2bc9aad4-1981-4911-ac2e-18bb3b0e92ae",
   "metadata": {},
   "source": [
    "## Challenge: Insta-rrectionists"
   ]
  },
  {
   "cell_type": "code",
   "execution_count": 60,
   "id": "fe5551d5-4b64-4731-9285-82bfc5fd9a87",
   "metadata": {},
   "outputs": [],
   "source": [
    "# this takes a very long time.\n",
    "# !twarc2 hydrate raw_data/dehydratedCapitolRiotTweets.txt output_data/riots.jsonl"
   ]
  },
  {
   "cell_type": "code",
   "execution_count": 61,
   "id": "76119af0-f58e-4bb4-a296-f0718b28a05b",
   "metadata": {},
   "outputs": [
    {
     "data": {
      "text/plain": [
       "82308"
      ]
     },
     "execution_count": 61,
     "metadata": {},
     "output_type": "execute_result"
    }
   ],
   "source": [
    "# how long is this?\n",
    "riots_dehydrated_df = pandas.read_csv(\"raw_data/dehydratedCapitolRiotTweets.txt\")\n",
    "len(riots_dehydrated_df)"
   ]
  },
  {
   "cell_type": "code",
   "execution_count": null,
   "id": "ae63a6f5-71af-4a07-a940-d96b45ebd1a2",
   "metadata": {},
   "outputs": [],
   "source": []
  },
  {
   "cell_type": "markdown",
   "id": "3d6da4f1-7a9a-47ef-a5ce-d4e5a3920752",
   "metadata": {},
   "source": [
    "# Episode 6: Search and Filter"
   ]
  },
  {
   "cell_type": "code",
   "execution_count": 66,
   "id": "afb13818-26a5-4d6a-bcf1-f99b3d7c966c",
   "metadata": {},
   "outputs": [
    {
     "name": "stdout",
     "output_type": "stream",
     "text": [
      "100%|██████████████| Processed 2.59M/2.59M of input file [00:00<00:00, 3.47MB/s]\n",
      "\n",
      "ℹ️\n",
      "Parsed 899 tweets objects from 9 lines in the input file.\n",
      "Wrote 899 rows and output 74 columns in the CSV.\n",
      "\n"
     ]
    }
   ],
   "source": [
    "# use Twitter advanced search syntax (everthing in quotes!)\n",
    "# to get tailored results\n",
    "# !twarc2 search --limit 800 \"(cute OR fluffy OR haircut) (#catsofinstagram) lang:en\" raw_data/kittens.jsonl\n",
    "!twarc2 csv raw_data/kittens.jsonl output_data/kittens.csv"
   ]
  },
  {
   "cell_type": "code",
   "execution_count": 67,
   "id": "0ec3cfcd-55cb-4434-b633-b548cb321141",
   "metadata": {},
   "outputs": [],
   "source": [
    "kittens_df = pandas.read_csv(\"output_data/kittens.csv\")"
   ]
  },
  {
   "cell_type": "code",
   "execution_count": null,
   "id": "92c8aa01-430a-4599-a65d-aaac822ff8c9",
   "metadata": {},
   "outputs": [],
   "source": [
    "kittens_df"
   ]
  },
  {
   "cell_type": "code",
   "execution_count": null,
   "id": "0015b8ec-3e79-46d8-8f76-9aa7c5dc66b2",
   "metadata": {},
   "outputs": [],
   "source": [
    "list(kittens_df.columns)"
   ]
  },
  {
   "cell_type": "markdown",
   "id": "deb4826b-87dc-4262-a965-8291d5c04d77",
   "metadata": {},
   "source": [
    "# Filter"
   ]
  },
  {
   "cell_type": "code",
   "execution_count": 68,
   "id": "f3813f06-866d-4dad-8913-eb97eeb9a32f",
   "metadata": {},
   "outputs": [
    {
     "name": "stdout",
     "output_type": "stream",
     "text": [
      "\u001b[31m💣  \u001b[31mDuplicateRule\u001b[0m see: https://api.twitter.com/2/problems/duplicate-rules\u001b[0m\n"
     ]
    }
   ],
   "source": [
    "!twarc2 stream-rules add \"#WorldGothDay\""
   ]
  },
  {
   "cell_type": "code",
   "execution_count": 69,
   "id": "fa0e9f9c-9495-4470-b67d-d1d655c9702e",
   "metadata": {},
   "outputs": [
    {
     "name": "stdout",
     "output_type": "stream",
     "text": [
      "\u001b[31m💣  \u001b[31mDuplicateRule\u001b[0m see: https://api.twitter.com/2/problems/duplicate-rules\u001b[0m\n"
     ]
    }
   ],
   "source": [
    "!twarc2 stream-rules add \"gothcats\""
   ]
  },
  {
   "cell_type": "code",
   "execution_count": null,
   "id": "199399be-2763-4069-8a02-45df725654b5",
   "metadata": {},
   "outputs": [],
   "source": [
    "# press the square to interrup this!"
   ]
  },
  {
   "cell_type": "code",
   "execution_count": null,
   "id": "1a753327-f249-4caa-83b0-0a9dfa81811f",
   "metadata": {},
   "outputs": [
    {
     "name": "stdout",
     "output_type": "stream",
     "text": [
      "\u001b[32mStarted a stream with rules:\u001b[0m\n",
      "☑  #WorldGothDay\u001b[0m\n",
      "☑  gothcats\u001b[0m\n",
      "\u001b[32mWriting to <stdout>\n",
      "CTRL+C to stop...\u001b[0m\n"
     ]
    }
   ],
   "source": [
    "!twarc2 stream > \"raw_data/streamed_goth.jsonl\""
   ]
  },
  {
   "cell_type": "code",
   "execution_count": null,
   "id": "4a605d10-ec05-4dd1-9fe9-9d86be898e14",
   "metadata": {},
   "outputs": [],
   "source": [
    "!wc raw_data/streamed_goth.jsonl"
   ]
  },
  {
   "cell_type": "code",
   "execution_count": null,
   "id": "201fdef7-f70e-4188-9d8f-e2c5fe2d7b6b",
   "metadata": {},
   "outputs": [],
   "source": []
  },
  {
   "cell_type": "code",
   "execution_count": null,
   "id": "ad11f3b7-ae2f-4605-8434-1d5709e13384",
   "metadata": {},
   "outputs": [],
   "source": [
    "!twarc2 stream-rules delete \"caturday\""
   ]
  },
  {
   "cell_type": "markdown",
   "id": "4388d91c-dcfe-4fc3-b215-ff0c2a1c0dda",
   "metadata": {},
   "source": [
    "# Retweets vs. tweets\n",
    "How much original content is there?\n",
    "Do this for both library timeline and catsofinstagrams"
   ]
  },
  {
   "cell_type": "code",
   "execution_count": null,
   "id": "ceb74589-f708-4ab5-9a2b-00c2478d4020",
   "metadata": {},
   "outputs": [],
   "source": [
    "# via pandas and plottting\n",
    "retweet_count = hashtagcats_df[\"referenced_tweets.retweeted.id\"].value_counts()\n",
    "sum(retweet_count)\n"
   ]
  },
  {
   "cell_type": "code",
   "execution_count": null,
   "id": "7735260d-5419-4dbb-ad06-47f5614ca46b",
   "metadata": {},
   "outputs": [],
   "source": [
    "(sum(retweet_count) / len(hashtagcats_df))"
   ]
  },
  {
   "cell_type": "code",
   "execution_count": null,
   "id": "76ff81d3-9d02-478a-a90f-3d3f1d439cd3",
   "metadata": {},
   "outputs": [],
   "source": [
    "78% of the tweets that used #catsofinstagram were retweets."
   ]
  },
  {
   "cell_type": "code",
   "execution_count": null,
   "id": "cd71350f-d7b2-48d2-a0d2-e8849ca88122",
   "metadata": {},
   "outputs": [],
   "source": [
    "# so our pipeline on a stream would look like:\n"
   ]
  },
  {
   "cell_type": "code",
   "execution_count": null,
   "id": "232b27f7-99be-456e-a7b3-26cbaa118501",
   "metadata": {},
   "outputs": [],
   "source": []
  },
  {
   "cell_type": "markdown",
   "id": "12ca8fc4-ac95-4535-8146-843e2126e915",
   "metadata": {},
   "source": [
    "# Episode 7: twarc plug-ins"
   ]
  },
  {
   "cell_type": "code",
   "execution_count": null,
   "id": "803bd317-bbba-46b9-b813-98dca6c8a196",
   "metadata": {},
   "outputs": [],
   "source": [
    "# this reminds you what DataFrames you have in memory\n",
    "%who DataFrame"
   ]
  },
  {
   "cell_type": "code",
   "execution_count": null,
   "id": "c01a8f05-8ce2-4bc5-a67c-da24ff406f79",
   "metadata": {},
   "outputs": [],
   "source": [
    "!pip install twarc-hashtags"
   ]
  },
  {
   "cell_type": "code",
   "execution_count": null,
   "id": "3ad34beb-905a-4d21-884d-0455eedda236",
   "metadata": {},
   "outputs": [],
   "source": [
    "!pip install twarc-network"
   ]
  },
  {
   "cell_type": "code",
   "execution_count": null,
   "id": "80c75b11-38a8-46d3-9b68-3c9bb2b1e4a0",
   "metadata": {},
   "outputs": [],
   "source": [
    "!twarc2 hashtags raw_data/hashtagcats.jsonl output_data/hashtagcats_hashtags.csv"
   ]
  },
  {
   "cell_type": "code",
   "execution_count": null,
   "id": "21259cf0-2674-4348-b13b-ae0de1341f44",
   "metadata": {},
   "outputs": [],
   "source": [
    "# how do I print file to cell?\n",
    "# print(read(output_data/hashtagcats_hashtags.csv))"
   ]
  },
  {
   "cell_type": "code",
   "execution_count": null,
   "id": "25adac2c-be71-46c9-9a5c-0ec98c21f2df",
   "metadata": {},
   "outputs": [],
   "source": [
    "!twarc2 network raw_data/hashtagcats.jsonl output_data/hashtagcats_network.html"
   ]
  },
  {
   "cell_type": "code",
   "execution_count": null,
   "id": "6b8e1593-338c-4495-9106-862ee1a09fe6",
   "metadata": {},
   "outputs": [],
   "source": []
  },
  {
   "cell_type": "code",
   "execution_count": null,
   "id": "a066d059-1867-449e-8230-72faa359c6e8",
   "metadata": {},
   "outputs": [],
   "source": []
  },
  {
   "cell_type": "code",
   "execution_count": null,
   "id": "c9d6e8c9-2d81-4868-923b-ca5b4c10815e",
   "metadata": {},
   "outputs": [],
   "source": []
  },
  {
   "cell_type": "code",
   "execution_count": null,
   "id": "8c965f46-311a-4add-97a0-403a647ee7d8",
   "metadata": {},
   "outputs": [],
   "source": []
  },
  {
   "cell_type": "code",
   "execution_count": null,
   "id": "187e274c-6481-4f37-8ee5-29806da7be7e",
   "metadata": {},
   "outputs": [],
   "source": [
    "# ! twarc2 mentions ucsblibrary raw_data/ucsblibrary_mentions.jsonl\n",
    "! twarc2 csv raw_data/ucsblibrary_mentions.jsonl output_data/ucsblibrary_mentions.csv \n",
    "ucsb_library_mentions_df = pandas.read_csv('output_data/ucsblibrary_mentions.csv')"
   ]
  },
  {
   "cell_type": "code",
   "execution_count": null,
   "id": "c897bf85-dfc0-4557-af4e-0e662eaa92da",
   "metadata": {},
   "outputs": [],
   "source": [
    "# emojis for each of our datasets so far\n",
    "# !python utils/emojis.py raw_data/hashtagcats.jsonl > output_data/hashtagcats_emojis.csv\n",
    "!python utils/emojis.py raw_data/ucsblibrary_mentions.jsonl > output_data/ucsblibrary_mentions_emojis.csv"
   ]
  },
  {
   "cell_type": "code",
   "execution_count": null,
   "id": "5b45c780-7130-4cd3-be66-13d634bb50c3",
   "metadata": {},
   "outputs": [],
   "source": [
    "# new beginning\n",
    "# can I get a fresh filter and run emojis?\n",
    "! twarc2 search \"masked OR #masked\" raw_data/masked.jsonl"
   ]
  },
  {
   "cell_type": "code",
   "execution_count": null,
   "id": "2fa0cb88-7b79-4cb5-a33d-e525857e3d7e",
   "metadata": {
    "tags": []
   },
   "outputs": [],
   "source": [
    "! twarc2 flatten raw_data/masked.jsonl output_data/masked_flat.jsonl "
   ]
  },
  {
   "cell_type": "code",
   "execution_count": null,
   "id": "236d4801-562a-45f0-ada7-b16560a189f4",
   "metadata": {},
   "outputs": [],
   "source": [
    "!python utils/emojis.py output_data/masked_flat.jsonl > output_data/masked_emojis.csv"
   ]
  },
  {
   "cell_type": "markdown",
   "id": "e9ff6e98-1dc9-43c6-be95-ecf88045147a",
   "metadata": {},
   "source": [
    "# Episode 8: Python text analysis"
   ]
  },
  {
   "cell_type": "code",
   "execution_count": null,
   "id": "8ccc6de7-126c-4975-8f1e-cacd1140ff34",
   "metadata": {},
   "outputs": [],
   "source": [
    "# what dataframes is still here?\n",
    "%whos DataFrame\n",
    "#hashtagcats_df.columns"
   ]
  },
  {
   "cell_type": "markdown",
   "id": "d6c3b41d-cfc2-4a41-b710-4145d2fbb0af",
   "metadata": {},
   "source": [
    "### Sentiment Analysis\n",
    "To do this, we need to do a little Python\n",
    "\n",
    "TextBlob is a text processing library that does sentiment analysis. \n",
    "The sentiment property returns a namedtuple of the form Sentiment(polarity, subjectivity). The polarity score is a float within the range [-1.0, 1.0]. The subjectivity is a float within the range [0.0, 1.0] where 0.0 is very objective and 1.0 is very subjective."
   ]
  },
  {
   "cell_type": "markdown",
   "id": "cd4d69fd-adcc-46a6-9a46-83cb991e52b9",
   "metadata": {},
   "source": [
    "Before we use TextBlob for sentiment analysis, we need to download\n",
    "datasets of words and their associated weights. These are called *corpora*."
   ]
  },
  {
   "cell_type": "code",
   "execution_count": null,
   "id": "423c7d9b-b67d-4b13-8894-75a64654b52d",
   "metadata": {},
   "outputs": [],
   "source": [
    "# commented out because I put it up in ep 2\n",
    "# !python -m textblob.download_corpora"
   ]
  },
  {
   "cell_type": "code",
   "execution_count": null,
   "id": "9c5bbf73-444b-41a2-a72c-deb388217096",
   "metadata": {},
   "outputs": [],
   "source": [
    "# TextBlob needs a string, so this won't work.\n",
    "textblob.TextBlob(hashtagcats_df).sentiment"
   ]
  },
  {
   "cell_type": "code",
   "execution_count": null,
   "id": "f2c21bf8-b1ec-4405-94bc-b77c599e4b9f",
   "metadata": {},
   "outputs": [],
   "source": [
    "# even calling the column won't work:\n",
    "textblob.TextBlob(hashtagcats_df['text']).sentiment"
   ]
  },
  {
   "cell_type": "code",
   "execution_count": null,
   "id": "6874ca27-b81f-4f4f-911b-68e9fe21384e",
   "metadata": {},
   "outputs": [],
   "source": [
    "# break tweets test column into a list, then .join into one long string \n",
    "hashtagcats_list = ' '.join(hashtagcats_df['text'].tolist())\n",
    "# turn the string into a blob\n",
    "hashtagcats_blob = textblob.TextBlob(hashtagcats_list)\n",
    "# get the sentiment\n",
    "hashtagcats_blob.sentiment"
   ]
  },
  {
   "cell_type": "markdown",
   "id": "005ba8f5-5054-4fba-8e12-0bade66f4775",
   "metadata": {
    "tags": []
   },
   "source": [
    "The overall sentiment of the language of kitty twitter is rather positive.\n",
    "And the tweets tend to be subjective."
   ]
  },
  {
   "cell_type": "code",
   "execution_count": null,
   "id": "42f7f70c-b9ee-45cf-ad37-7a26cc43d559",
   "metadata": {},
   "outputs": [],
   "source": [
    "# What do you think the sentiment of tax day might be?\n",
    "# get the overall sentiment and see if it matches your prediction."
   ]
  },
  {
   "cell_type": "code",
   "execution_count": null,
   "id": "9856bda0-b290-40a0-ad22-32ece206312b",
   "metadata": {},
   "outputs": [],
   "source": []
  },
  {
   "cell_type": "markdown",
   "id": "f0e6acd1-e68a-4b01-873b-a3aaebd440fd",
   "metadata": {},
   "source": [
    "# Episode 9: Data Management"
   ]
  },
  {
   "cell_type": "markdown",
   "id": "12ad30b5-e686-4487-8430-65fc3ab1b993",
   "metadata": {},
   "source": [
    "# Episode 10: Don't Map Twitter"
   ]
  },
  {
   "cell_type": "code",
   "execution_count": null,
   "id": "8d4e4d3d-71a6-4fe7-8b30-542ea123b4ad",
   "metadata": {},
   "outputs": [],
   "source": []
  }
 ],
 "metadata": {
  "kernelspec": {
   "display_name": "Python 3 (ipykernel)",
   "language": "python",
   "name": "python3"
  },
  "language_info": {
   "codemirror_mode": {
    "name": "ipython",
    "version": 3
   },
   "file_extension": ".py",
   "mimetype": "text/x-python",
   "name": "python",
   "nbconvert_exporter": "python",
   "pygments_lexer": "ipython3",
   "version": "3.9.10"
  }
 },
 "nbformat": 4,
 "nbformat_minor": 5
}
