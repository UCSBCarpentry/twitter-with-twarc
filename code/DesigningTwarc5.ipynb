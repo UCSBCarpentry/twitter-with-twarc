{
 "cells": [
  {
   "cell_type": "markdown",
   "id": "744056f4-ef73-4c90-a7bc-aef8167fd1cc",
   "metadata": {},
   "source": [
    "# Twitter with twarc\n",
    "A UCSB Carpentry workshop"
   ]
  },
  {
   "cell_type": "code",
   "execution_count": null,
   "id": "35e9818e-0cc6-474e-b92b-28467ca18d4f",
   "metadata": {},
   "outputs": [],
   "source": [
    "# administravia\n",
    "# upon re-start we need to install twarc2 extensions\n",
    "! pip install twarc-csv"
   ]
  },
  {
   "cell_type": "markdown",
   "id": "e2b8339f-952b-498f-bc0f-a5eda41a38e0",
   "metadata": {},
   "source": [
    "## Episode 2\n",
    "You should have a taxday.jsonl file"
   ]
  },
  {
   "cell_type": "code",
   "execution_count": null,
   "id": "3cbf7282-bf3d-4a51-ad72-008ccaef1a13",
   "metadata": {},
   "outputs": [],
   "source": [
    "# BASH commands start with a BANG!\n",
    "!twarc2 --help"
   ]
  },
  {
   "cell_type": "code",
   "execution_count": 4,
   "id": "d2ad701f-463e-40f9-958b-a09721e263d4",
   "metadata": {
    "tags": []
   },
   "outputs": [
    {
     "name": "stderr",
     "output_type": "stream",
     "text": [
      "/opt/conda/lib/python3.9/site-packages/tqdm/auto.py:22: TqdmWarning: IProgress not found. Please update jupyter and ipywidgets. See https://ipywidgets.readthedocs.io/en/stable/user_install.html\n",
      "  from .autonotebook import tqdm as notebook_tqdm\n"
     ]
    }
   ],
   "source": [
    "#  what libraries will we need to be loading in our notebook?\n",
    "#  we need to always distinguish between \n",
    "#  running BASH vs. running a line of python.\n",
    "\n",
    "import pandas\n",
    "import twarc_csv\n",
    "from textblob import TextBlob\n",
    "import os"
   ]
  },
  {
   "cell_type": "code",
   "execution_count": 5,
   "id": "2082bb24-2751-406c-a918-c8c41d14e7b1",
   "metadata": {},
   "outputs": [
    {
     "name": "stdout",
     "output_type": "stream",
     "text": [
      "/home/jovyan\n"
     ]
    }
   ],
   "source": [
    "# and of course, it's important to know where we are working\n",
    "# I can send a BASH command from my notebook with a !:\n",
    "!pwd"
   ]
  },
  {
   "cell_type": "code",
   "execution_count": 7,
   "id": "8098e978-172e-4949-a531-1a05fa43be25",
   "metadata": {},
   "outputs": [
    {
     "data": {
      "text/plain": [
       "'/home/jovyan'"
      ]
     },
     "execution_count": 7,
     "metadata": {},
     "output_type": "execute_result"
    }
   ],
   "source": [
    "# you can also do this with Python\n",
    "os.getcwd()"
   ]
  },
  {
   "cell_type": "markdown",
   "id": "5913eea7-a65c-4505-b1c5-a846d7a98d23",
   "metadata": {},
   "source": [
    "## Running twarc\n",
    "Let's get the timeline of one of twarc's creators."
   ]
  },
  {
   "cell_type": "code",
   "execution_count": 3,
   "id": "222e98bb-b6fa-442e-b1e9-5f5b72e518e8",
   "metadata": {},
   "outputs": [
    {
     "name": "stdout",
     "output_type": "stream",
     "text": [
      "API limit of 3200 reached:  18%|█▉         | 3141/17684 [00:35<02:45, 87.92it/s]\n"
     ]
    }
   ],
   "source": [
    "!twarc2 timeline BergisJules > raw/bjules.jsonl"
   ]
  },
  {
   "cell_type": "markdown",
   "id": "4473db7c-3651-45f7-8c14-0f49b6c5c0f4",
   "metadata": {
    "tags": []
   },
   "source": [
    "### Challenge 1\n",
    "- Can you find the file called “bjules.jsonl”?\n",
    "- What's the timestamp on the first one. The last one?\n",
    "\n",
    "- How many tweets did you get from Bergis? (we can't tell without flattening)\n",
    "- Download a timeline for a person of your choice. How many tweets did you get? \n",
    "- What’s the oldest one?"
   ]
  },
  {
   "cell_type": "markdown",
   "id": "08892a04-a2be-4353-b64c-43a628e5ae50",
   "metadata": {},
   "source": [
    "## Flatten and convert to csv"
   ]
  },
  {
   "cell_type": "code",
   "execution_count": 41,
   "id": "eaf04f84-943a-4d7b-a45e-d007e6b5abc4",
   "metadata": {},
   "outputs": [
    {
     "name": "stdout",
     "output_type": "stream",
     "text": [
      "100%|██████████████| Processed 8.96M/8.96M of input file [00:00<00:00, 10.5MB/s]\n"
     ]
    }
   ],
   "source": [
    "!twarc2 flatten raw/bjules.jsonl output/bjules_flattened.jsonl"
   ]
  },
  {
   "cell_type": "code",
   "execution_count": 42,
   "id": "1b29144d-a627-4128-b54f-74439f37a917",
   "metadata": {},
   "outputs": [
    {
     "name": "stdout",
     "output_type": "stream",
     "text": [
      "100%|██████████████| Processed 8.96M/8.96M of input file [00:02<00:00, 3.63MB/s]\n",
      "\n",
      "ℹ️\n",
      "Parsed 3141 tweets objects from 33 lines in the input file.\n",
      "Wrote 3141 rows and output 74 columns in the CSV.\n",
      "\n"
     ]
    }
   ],
   "source": [
    "!twarc2 csv raw/bjules.jsonl output/bjules.csv"
   ]
  },
  {
   "cell_type": "code",
   "execution_count": 39,
   "id": "bab10779-cc96-4ed0-9e47-2e8faac15d93",
   "metadata": {},
   "outputs": [],
   "source": [
    "!twarc2 flatten raw/ecodatasci.jsonl > output/ecodatasci_flattened.jsonl"
   ]
  },
  {
   "cell_type": "markdown",
   "id": "2316f7fe-1614-404c-9516-897fd6415a7b",
   "metadata": {},
   "source": [
    "### Challenge 2"
   ]
  },
  {
   "cell_type": "code",
   "execution_count": 46,
   "id": "1284486c-4487-401d-b421-20c4597dfedd",
   "metadata": {},
   "outputs": [],
   "source": [
    "# commented line is a solution to challenge 1\n",
    "# !twarc2 timeline ecodatasci > raw/ecodatasci.jsonl\n",
    "\n",
    "!twarc2 csv output/ecodatasci_flattened.jsonl > output/ecodatasci.csv \n",
    "ecodatasci_df = pandas.read_csv(\"output/ecodatasci.csv\")\n"
   ]
  },
  {
   "cell_type": "code",
   "execution_count": 38,
   "id": "7aecabff-dbda-4c8c-addc-a7132c3df302",
   "metadata": {},
   "outputs": [],
   "source": [
    "!twarc2 flatten raw/ecodatasci.jsonl > output/ecodatasci_flattened.jsonl\n",
    "!twarc2 csv output/ecodatasci_flattened.jsonl > output/ecodatasci.csv"
   ]
  },
  {
   "cell_type": "markdown",
   "id": "bbfccda8-2a25-44a3-bb9a-5bdbc2c6d6cb",
   "metadata": {},
   "source": [
    "# Episode 3: examining tweets\n",
    "What comes along with a tweet\n",
    "\n",
    "Episode 3 is supposed tob e about tax tax, but this notebook is about Bergis."
   ]
  },
  {
   "cell_type": "markdown",
   "id": "586f4cbf-4741-44e2-a025-9968faf74e77",
   "metadata": {},
   "source": [
    "### Make your jsonl 1 tweet per line\n",
    "This will let you do our most basic unix-y analysis"
   ]
  },
  {
   "cell_type": "code",
   "execution_count": 47,
   "id": "7b7bd894-4995-4851-8668-983c3c4c9f35",
   "metadata": {
    "tags": []
   },
   "outputs": [
    {
     "name": "stdout",
     "output_type": "stream",
     "text": [
      "     33  845860 9392917 raw/bjules.jsonl\n"
     ]
    }
   ],
   "source": [
    "!wc raw/bjules.jsonl"
   ]
  },
  {
   "cell_type": "markdown",
   "id": "4bbe2b98-3264-45bc-adc0-f6aa567718cd",
   "metadata": {
    "tags": []
   },
   "source": [
    "## Try again\n",
    "33 lines doesn't mean 33 tweets. I suspected there was more there becauce\n",
    "I got an error message about hitting a limit of 3200. \n",
    "\n",
    "We need to either flatten our tweets, or convert them\n",
    "to a csv\n"
   ]
  },
  {
   "cell_type": "code",
   "execution_count": 48,
   "id": "b1dc091e-8fb8-49ab-b6d5-58e454d4bc90",
   "metadata": {},
   "outputs": [
    {
     "name": "stdout",
     "output_type": "stream",
     "text": [
      "100%|██████████████| Processed 8.96M/8.96M of input file [00:00<00:00, 10.4MB/s]\n"
     ]
    }
   ],
   "source": [
    "# flatten\n",
    "!twarc2 flatten raw/bjules.jsonl output/bjules_flattened.jsonl"
   ]
  },
  {
   "cell_type": "code",
   "execution_count": 50,
   "id": "c9015236-250a-4f85-83b0-296431fe65a2",
   "metadata": {},
   "outputs": [
    {
     "name": "stdout",
     "output_type": "stream",
     "text": [
      "100%|██████████████| Processed 8.96M/8.96M of input file [00:02<00:00, 3.73MB/s]\n",
      "\n",
      "ℹ️\n",
      "Parsed 3141 tweets objects from 33 lines in the input file.\n",
      "Wrote 3141 rows and output 74 columns in the CSV.\n",
      "\n"
     ]
    }
   ],
   "source": [
    "# convert\n",
    "!twarc2 csv raw/bjules.jsonl output/bjules.csv"
   ]
  },
  {
   "cell_type": "code",
   "execution_count": 7,
   "id": "180e3158-2f08-4d08-8e9e-b4ab999e6ef1",
   "metadata": {
    "tags": []
   },
   "outputs": [
    {
     "name": "stdout",
     "output_type": "stream",
     "text": [
      "    3141  1722359 23309357 output/bjules_flattened.jsonl\n",
      "    3142   579985 11549948 output/bjules.csv\n"
     ]
    }
   ],
   "source": [
    "# When I did this, I got 3166 tweets (as opposed to the 33 lines that the original file was)\n",
    "! wc output/bjules_flattened.jsonl\n",
    "! wc output/bjules.csv"
   ]
  },
  {
   "cell_type": "markdown",
   "id": "d55e1a66-f173-4adb-898c-572f15c7bbcb",
   "metadata": {},
   "source": [
    "The csv is 1 line longer because it has column headers."
   ]
  },
  {
   "cell_type": "markdown",
   "id": "ab4c78d8-42bd-458c-b618-d1c854fc265f",
   "metadata": {},
   "source": [
    "Can we go back further on his timeline by looking\n",
    "only for Bergis's original content?\n",
    "\n",
    "No--the same limit applies."
   ]
  },
  {
   "cell_type": "code",
   "execution_count": null,
   "id": "b29e6727-48e8-4c79-b824-fd109b0e7029",
   "metadata": {},
   "outputs": [],
   "source": [
    "!twarc2 timeline BergisJules --exclude-retweets --exclude-replies > raw/bjules_original"
   ]
  },
  {
   "cell_type": "markdown",
   "id": "0ec876b9-c5b4-463a-8552-af4c0b97c446",
   "metadata": {},
   "source": [
    "Let's look at out taxday.jsonl file that we prepared for you on April 18."
   ]
  },
  {
   "cell_type": "code",
   "execution_count": null,
   "id": "23c876b6-789d-408f-b164-bdd1f6aaddcf",
   "metadata": {},
   "outputs": [],
   "source": [
    "!head -n 1 raw/taxday.jsonl"
   ]
  },
  {
   "cell_type": "code",
   "execution_count": null,
   "id": "d6f64d26-ae10-4deb-bf48-47f88b7db62f",
   "metadata": {},
   "outputs": [],
   "source": []
  },
  {
   "cell_type": "code",
   "execution_count": null,
   "id": "d6efcdaf-a547-4a93-95d3-94e4bfcdddff",
   "metadata": {},
   "outputs": [],
   "source": [
    "!twarc2 flatten raw/bjules_original.jsonl output/bjules_original_flat.jsonl\n"
   ]
  },
  {
   "cell_type": "code",
   "execution_count": null,
   "id": "2a685310-f080-4ff8-8728-a46ca21f926b",
   "metadata": {},
   "outputs": [],
   "source": []
  },
  {
   "cell_type": "code",
   "execution_count": null,
   "id": "2e4a5ce0-373b-4106-8959-31850ae8fb17",
   "metadata": {},
   "outputs": [],
   "source": [
    "# A lot comes along! \n",
    "!tail -n 1 raw/taxday.jsonl"
   ]
  },
  {
   "cell_type": "markdown",
   "id": "e89e3a4e-4955-426a-9081-1ea9739304c9",
   "metadata": {},
   "source": [
    "## Challenge: tax day Tweets"
   ]
  },
  {
   "cell_type": "code",
   "execution_count": 51,
   "id": "67d95d44-829c-431c-bd6c-7ee4b842506a",
   "metadata": {},
   "outputs": [
    {
     "name": "stdout",
     "output_type": "stream",
     "text": [
      "    15698   7653538 100048736 raw/taxday.jsonl\n"
     ]
    }
   ],
   "source": [
    "# we harvested 3 hours worth of tweets for you on tax day.\n",
    "# how many tweets?\n",
    "!wc raw/taxday.jsonl"
   ]
  },
  {
   "cell_type": "markdown",
   "id": "af2f2152-7de1-40d4-9d97-c6aa551ce2fd",
   "metadata": {},
   "source": [
    "## Next harvest\n",
    "Next we'll get just Bergis' original content. \n",
    "In other words, only the tweets that he wrote, not\n",
    "any retweets or replied to other people tweets."
   ]
  },
  {
   "cell_type": "code",
   "execution_count": null,
   "id": "1cb6ab7f-2bb4-47d0-bfa8-acb7e9ad77ae",
   "metadata": {},
   "outputs": [],
   "source": []
  },
  {
   "cell_type": "code",
   "execution_count": null,
   "id": "e67c2f11-27b4-4802-9d94-19589291e94d",
   "metadata": {},
   "outputs": [],
   "source": []
  },
  {
   "cell_type": "code",
   "execution_count": null,
   "id": "3310f048-6ad7-4ee6-bd4e-c727ec8031a7",
   "metadata": {},
   "outputs": [],
   "source": []
  },
  {
   "cell_type": "code",
   "execution_count": null,
   "id": "2dd90d6c-c9b9-41e5-ae9d-6b3c457cbc9e",
   "metadata": {},
   "outputs": [],
   "source": [
    "# maybe the last challenge for ep. 3 is examining this shorter file?"
   ]
  },
  {
   "cell_type": "markdown",
   "id": "29ab11e8-f109-4670-912c-3122ea2b8211",
   "metadata": {},
   "source": [
    "# Episode 4"
   ]
  },
  {
   "cell_type": "code",
   "execution_count": 21,
   "id": "021f95fb-293d-459c-9afd-59d624efa865",
   "metadata": {},
   "outputs": [
    {
     "name": "stdout",
     "output_type": "stream",
     "text": [
      "2022-05-05T00:04:38.000Z - 2022-05-06T00:00:00.000Z: 8\n",
      "2022-05-06T00:00:00.000Z - 2022-05-07T00:00:00.000Z: 8\n",
      "2022-05-07T00:00:00.000Z - 2022-05-08T00:00:00.000Z: 1\n",
      "2022-05-08T00:00:00.000Z - 2022-05-09T00:00:00.000Z: 1\n",
      "2022-05-09T00:00:00.000Z - 2022-05-10T00:00:00.000Z: 3\n",
      "2022-05-10T00:00:00.000Z - 2022-05-11T00:00:00.000Z: 2\n",
      "2022-05-11T00:00:00.000Z - 2022-05-12T00:00:00.000Z: 2\n",
      "2022-05-12T00:00:00.000Z - 2022-05-12T00:04:38.000Z: 0\n",
      "\u001b[32m\n",
      "Total Tweets: 25\n",
      "\u001b[0m\n",
      "2022-05-05T00:04:40.000Z - 2022-05-06T00:00:00.000Z: 4\n",
      "2022-05-06T00:00:00.000Z - 2022-05-07T00:00:00.000Z: 0\n",
      "2022-05-07T00:00:00.000Z - 2022-05-08T00:00:00.000Z: 0\n",
      "2022-05-08T00:00:00.000Z - 2022-05-09T00:00:00.000Z: 1\n",
      "2022-05-09T00:00:00.000Z - 2022-05-10T00:00:00.000Z: 3\n",
      "2022-05-10T00:00:00.000Z - 2022-05-11T00:00:00.000Z: 2\n",
      "2022-05-11T00:00:00.000Z - 2022-05-12T00:00:00.000Z: 2\n",
      "2022-05-12T00:00:00.000Z - 2022-05-12T00:04:40.000Z: 0\n",
      "\u001b[32m\n",
      "Total Tweets: 12\n",
      "\u001b[0m\n"
     ]
    }
   ],
   "source": [
    "!twarc2 counts --granularity \"day\" --text \"(#UCSBLibrary OR UCSBLibrary OR ucsblibrary OR #ucsblibrary OR davidsonlibrary OR #davidsonlibrary)\"\n",
    "# is it worth doing the OR's? For sure.\n",
    "!twarc2 counts --granularity \"day\" --text \"(#UCSBLibrary OR UCSBLibrary)\""
   ]
  },
  {
   "cell_type": "code",
   "execution_count": null,
   "id": "be3bd639-6118-4983-bb16-1ff7fd3999de",
   "metadata": {},
   "outputs": [],
   "source": [
    "## Endpoints: counts\n",
    "!twarc2 counts --text \"(Poker OR poker)\" --granularity \"day\"\n",
    "!twarc2 counts --text \"(Golf OR golf)\" --granularity \"day\"\n",
    "!twarc2 counts --text \"(Basketball OR basketball)\" --granularity \"day\"\n",
    "!twarc2 counts --text \"(Baseball OR baseball)\" --granularity \"day\"\n",
    "!twarc2 counts --text \"(Football OR football)\" --granularity \"day\""
   ]
  },
  {
   "cell_type": "code",
   "execution_count": null,
   "id": "5443c1c7-0da2-4ad9-82fd-1e9b2b377a72",
   "metadata": {},
   "outputs": [],
   "source": [
    "## What's a lot?\n",
    "!twarc2 counts --text \"dog\" --granularity \"day\"\n",
    "!twarc2 counts --text \"cat\" --granularity \"day\"\n",
    "!twarc2 counts --text \"amazon\" --granularity \"day\"\n",
    "!twarc2 counts --text \"right\" --granularity \"day\"\n",
    "!twarc2 counts --text \"good\" --granularity \"day\"\n"
   ]
  },
  {
   "cell_type": "code",
   "execution_count": null,
   "id": "0b64d9fa-d4d2-49c3-bf09-1e3a9d0ab35b",
   "metadata": {},
   "outputs": [],
   "source": []
  },
  {
   "cell_type": "code",
   "execution_count": 12,
   "id": "abc52493-cf69-4298-8617-515a581ead59",
   "metadata": {},
   "outputs": [
    {
     "name": "stdout",
     "output_type": "stream",
     "text": [
      "100%|██████████████| Processed 5.31M/5.31M of input file [00:00<00:00, 10.8MB/s]\n",
      "100%|██████████████| Processed 12.9M/12.9M of input file [00:04<00:00, 2.84MB/s]\n",
      "\n",
      "ℹ️\n",
      "Parsed 3226 tweets objects from 3226 lines in the input file.\n",
      "Wrote 3226 rows and output 74 columns in the CSV.\n",
      "\n"
     ]
    }
   ],
   "source": [
    "## a SFW timeline\n",
    "# !twarc2 timeline ucsblibrary raw/library.jsonl\n",
    "!twarc2 flatten raw/library.jsonl output/library.jsonl\n",
    "!twarc2 csv output/library.jsonl output/library.csv\n",
    "library_df = pandas.read_csv(\"output/library.csv\")"
   ]
  },
  {
   "cell_type": "code",
   "execution_count": 52,
   "id": "cfc06081-ef7c-4122-b7c0-0901ca4a2dff",
   "metadata": {},
   "outputs": [
    {
     "data": {
      "text/plain": [
       "['id',\n",
       " 'conversation_id',\n",
       " 'referenced_tweets.replied_to.id',\n",
       " 'referenced_tweets.retweeted.id',\n",
       " 'referenced_tweets.quoted.id',\n",
       " 'author_id',\n",
       " 'in_reply_to_user_id',\n",
       " 'retweeted_user_id',\n",
       " 'quoted_user_id',\n",
       " 'created_at',\n",
       " 'text',\n",
       " 'lang',\n",
       " 'source',\n",
       " 'public_metrics.like_count',\n",
       " 'public_metrics.quote_count',\n",
       " 'public_metrics.reply_count',\n",
       " 'public_metrics.retweet_count',\n",
       " 'reply_settings',\n",
       " 'possibly_sensitive',\n",
       " 'withheld.scope',\n",
       " 'withheld.copyright',\n",
       " 'withheld.country_codes',\n",
       " 'entities.annotations',\n",
       " 'entities.cashtags',\n",
       " 'entities.hashtags',\n",
       " 'entities.mentions',\n",
       " 'entities.urls',\n",
       " 'context_annotations',\n",
       " 'attachments.media',\n",
       " 'attachments.media_keys',\n",
       " 'attachments.poll.duration_minutes',\n",
       " 'attachments.poll.end_datetime',\n",
       " 'attachments.poll.id',\n",
       " 'attachments.poll.options',\n",
       " 'attachments.poll.voting_status',\n",
       " 'attachments.poll_ids',\n",
       " 'author.id',\n",
       " 'author.created_at',\n",
       " 'author.username',\n",
       " 'author.name',\n",
       " 'author.description',\n",
       " 'author.entities.description.cashtags',\n",
       " 'author.entities.description.hashtags',\n",
       " 'author.entities.description.mentions',\n",
       " 'author.entities.description.urls',\n",
       " 'author.entities.url.urls',\n",
       " 'author.location',\n",
       " 'author.pinned_tweet_id',\n",
       " 'author.profile_image_url',\n",
       " 'author.protected',\n",
       " 'author.public_metrics.followers_count',\n",
       " 'author.public_metrics.following_count',\n",
       " 'author.public_metrics.listed_count',\n",
       " 'author.public_metrics.tweet_count',\n",
       " 'author.url',\n",
       " 'author.verified',\n",
       " 'author.withheld.scope',\n",
       " 'author.withheld.copyright',\n",
       " 'author.withheld.country_codes',\n",
       " 'geo.coordinates.coordinates',\n",
       " 'geo.coordinates.type',\n",
       " 'geo.country',\n",
       " 'geo.country_code',\n",
       " 'geo.full_name',\n",
       " 'geo.geo.bbox',\n",
       " 'geo.geo.type',\n",
       " 'geo.id',\n",
       " 'geo.name',\n",
       " 'geo.place_id',\n",
       " 'geo.place_type',\n",
       " '__twarc.retrieved_at',\n",
       " '__twarc.url',\n",
       " '__twarc.version',\n",
       " 'Unnamed: 73']"
      ]
     },
     "execution_count": 52,
     "metadata": {},
     "output_type": "execute_result"
    }
   ],
   "source": [
    "# confirm the dataframe's existance\n",
    "list(library_df.columns)"
   ]
  },
  {
   "cell_type": "markdown",
   "id": "b5af9bd3-debf-4910-a2f1-30a760d599cd",
   "metadata": {},
   "source": [
    "### Converting to csv and dataframes"
   ]
  },
  {
   "cell_type": "code",
   "execution_count": null,
   "id": "44e2145d-a912-49ea-8044-544cb11bb38d",
   "metadata": {},
   "outputs": [],
   "source": [
    "!twarc2 csv raw/taxday.jsonl output/taxday.csv"
   ]
  },
  {
   "cell_type": "code",
   "execution_count": null,
   "id": "cb2daed5-e882-4d66-bcdc-f403bb3a6710",
   "metadata": {},
   "outputs": [],
   "source": []
  },
  {
   "cell_type": "code",
   "execution_count": null,
   "id": "a492aa1b-dd0f-44f0-b0bc-dedec7d38b0a",
   "metadata": {},
   "outputs": [],
   "source": []
  },
  {
   "cell_type": "code",
   "execution_count": null,
   "id": "ab6d14b4-0c5e-4553-9eb2-7d8d284476af",
   "metadata": {},
   "outputs": [],
   "source": [
    "# fishing around for good searches\n",
    "!twarc2 counts --text \"kittens\""
   ]
  },
  {
   "cell_type": "code",
   "execution_count": null,
   "id": "ee4cc6aa-8a09-4b27-9dab-0b80cf267fcc",
   "metadata": {},
   "outputs": [],
   "source": []
  },
  {
   "cell_type": "markdown",
   "id": "23735a74-0dd1-4483-9705-595042b099bc",
   "metadata": {},
   "source": [
    "## final challenge: Cats of Instagram\n",
    "Let’s make a bigger datafile. Harvest 5000 tweets that use the hashtag “catsofinstagram” and put the dataset through the pipeline to answer the following questions:\n",
    "\n",
    "- Did you get exactly 5000?\n",
    "- How far back in time did you get?\n",
    "- What is the most re-tweeted recent tweet on #catsofinstagram?\n",
    "- Which person has the most number of followers in your dataset?\n",
    "- Is it really a person?"
   ]
  },
  {
   "cell_type": "code",
   "execution_count": null,
   "id": "6a68cc58-0dc5-4255-92f5-0e220b7385ca",
   "metadata": {},
   "outputs": [],
   "source": [
    "!twarc2 search --limit 500 \"#catsofinstagram\" hashtagcats.jsonl"
   ]
  },
  {
   "cell_type": "code",
   "execution_count": 56,
   "id": "952eed26-010f-464b-82c9-4699988555b9",
   "metadata": {},
   "outputs": [
    {
     "name": "stdout",
     "output_type": "stream",
     "text": [
      "Set --limit of 5000 reached:  32%|▎| Processed 2 days/6 days [00:45<01:35, 5088 \n"
     ]
    }
   ],
   "source": [
    "!twarc2 search --limit 5000 \"#catsofinstagram\" raw/hashtagcats.jsonl\n",
    "!twarc2 csv raw/hashtagcats.jsonl > output/hashtag_cats.csv\n",
    "hashtag_cats_df = pandas.read_csv(\"output/hashtag_cats.csv\")"
   ]
  },
  {
   "cell_type": "code",
   "execution_count": 57,
   "id": "c151b25e-f551-445c-93ed-118406e3df40",
   "metadata": {},
   "outputs": [
    {
     "data": {
      "text/plain": [
       "['id',\n",
       " 'conversation_id',\n",
       " 'referenced_tweets.replied_to.id',\n",
       " 'referenced_tweets.retweeted.id',\n",
       " 'referenced_tweets.quoted.id',\n",
       " 'author_id',\n",
       " 'in_reply_to_user_id',\n",
       " 'retweeted_user_id',\n",
       " 'quoted_user_id',\n",
       " 'created_at',\n",
       " 'text',\n",
       " 'lang',\n",
       " 'source',\n",
       " 'public_metrics.like_count',\n",
       " 'public_metrics.quote_count',\n",
       " 'public_metrics.reply_count',\n",
       " 'public_metrics.retweet_count',\n",
       " 'reply_settings',\n",
       " 'possibly_sensitive',\n",
       " 'withheld.scope',\n",
       " 'withheld.copyright',\n",
       " 'withheld.country_codes',\n",
       " 'entities.annotations',\n",
       " 'entities.cashtags',\n",
       " 'entities.hashtags',\n",
       " 'entities.mentions',\n",
       " 'entities.urls',\n",
       " 'context_annotations',\n",
       " 'attachments.media',\n",
       " 'attachments.media_keys',\n",
       " 'attachments.poll.duration_minutes',\n",
       " 'attachments.poll.end_datetime',\n",
       " 'attachments.poll.id',\n",
       " 'attachments.poll.options',\n",
       " 'attachments.poll.voting_status',\n",
       " 'attachments.poll_ids',\n",
       " 'author.id',\n",
       " 'author.created_at',\n",
       " 'author.username',\n",
       " 'author.name',\n",
       " 'author.description',\n",
       " 'author.entities.description.cashtags',\n",
       " 'author.entities.description.hashtags',\n",
       " 'author.entities.description.mentions',\n",
       " 'author.entities.description.urls',\n",
       " 'author.entities.url.urls',\n",
       " 'author.location',\n",
       " 'author.pinned_tweet_id',\n",
       " 'author.profile_image_url',\n",
       " 'author.protected',\n",
       " 'author.public_metrics.followers_count',\n",
       " 'author.public_metrics.following_count',\n",
       " 'author.public_metrics.listed_count',\n",
       " 'author.public_metrics.tweet_count',\n",
       " 'author.url',\n",
       " 'author.verified',\n",
       " 'author.withheld.scope',\n",
       " 'author.withheld.copyright',\n",
       " 'author.withheld.country_codes',\n",
       " 'geo.coordinates.coordinates',\n",
       " 'geo.coordinates.type',\n",
       " 'geo.country',\n",
       " 'geo.country_code',\n",
       " 'geo.full_name',\n",
       " 'geo.geo.bbox',\n",
       " 'geo.geo.type',\n",
       " 'geo.id',\n",
       " 'geo.name',\n",
       " 'geo.place_id',\n",
       " 'geo.place_type',\n",
       " '__twarc.retrieved_at',\n",
       " '__twarc.url',\n",
       " '__twarc.version',\n",
       " 'Unnamed: 73']"
      ]
     },
     "execution_count": 57,
     "metadata": {},
     "output_type": "execute_result"
    }
   ],
   "source": [
    "list(hashtag_cats_df.columns)"
   ]
  },
  {
   "cell_type": "markdown",
   "id": "870d9fb7-03eb-4dcd-9ab8-d4888b008f65",
   "metadata": {},
   "source": [
    "# Episode 5: Ethics & Twitter"
   ]
  },
  {
   "cell_type": "code",
   "execution_count": 16,
   "id": "f046b945-b698-4c9b-b6c4-8047382f16aa",
   "metadata": {},
   "outputs": [],
   "source": [
    "# our first full-text analysis\n",
    "# a list of words with TextBlob\n",
    "\n",
    "# first we need to munge the data. remember from:\n",
    "# list(library_df.columns)\n",
    "# the tweet is library_df['text']\n",
    "\n",
    "# TextBlob has its own data format.\n",
    "\n",
    "# break tweets test column into a list, \n",
    "# then .join into one long string \n",
    "library_string = ' '.join(library_df['text'].tolist())\n",
    "# turn the string into a blob\n",
    "library_blob = TextBlob(library_string)\n"
   ]
  },
  {
   "cell_type": "code",
   "execution_count": 34,
   "id": "447e8e26-ad92-49d8-a5ba-009c6636e790",
   "metadata": {},
   "outputs": [
    {
     "ename": "TypeError",
     "evalue": "'method' object is not iterable",
     "output_type": "error",
     "traceback": [
      "\u001b[0;31m---------------------------------------------------------------------------\u001b[0m",
      "\u001b[0;31mTypeError\u001b[0m                                 Traceback (most recent call last)",
      "Input \u001b[0;32mIn [34]\u001b[0m, in \u001b[0;36m<cell line: 2>\u001b[0;34m()\u001b[0m\n\u001b[1;32m      1\u001b[0m library_count \u001b[38;5;241m=\u001b[39m library_blob\u001b[38;5;241m.\u001b[39mwords\u001b[38;5;241m.\u001b[39mcount\n\u001b[0;32m----> 2\u001b[0m \u001b[38;5;28;43msorted\u001b[39;49m\u001b[43m(\u001b[49m\u001b[43mlibrary_count\u001b[49m\u001b[43m)\u001b[49m\n",
      "\u001b[0;31mTypeError\u001b[0m: 'method' object is not iterable"
     ]
    }
   ],
   "source": [
    "library_count = library_blob.words.count\n",
    "sorted(library_count)\n",
    "# library_count_df = pandas.DataFrame.from_dict(library_count)"
   ]
  },
  {
   "cell_type": "code",
   "execution_count": null,
   "id": "6e45d58c-4005-477d-8bd5-fc78b1327331",
   "metadata": {},
   "outputs": [],
   "source": []
  },
  {
   "cell_type": "code",
   "execution_count": 62,
   "id": "1a5a3b36-fffd-477c-91bb-cdf315dbe285",
   "metadata": {},
   "outputs": [
    {
     "name": "stdout",
     "output_type": "stream",
     "text": [
      "[('the', 3035), ('https', 2280), ('to', 1644), ('of', 1523), ('and', 1241), ('ucsb', 1147), ('http', 1118), ('in', 1104), ('library', 1070), ('a', 1049), ('for', 1009), ('s', 744), ('on', 671), ('at', 632), ('you', 604), ('our', 547), ('we', 531), ('is', 500), ('from', 475), ('this', 452), ('ucsblibrary', 415), ('by', 391), ('with', 391), ('amp', 330), ('more', 326), ('are', 325), ('new', 287), ('be', 286), ('will', 285), ('out', 277), ('your', 274), ('it', 274), ('about', 256), ('here', 253), ('today', 248), ('us', 230), ('’', 227), ('book', 218), ('research', 211), ('have', 199), ('students', 195), ('that', 192), ('reads', 189), ('as', 187), ('open', 185), ('now', 182), ('can', 181), ('check', 177), ('all', 170), ('join', 162), ('re', 162), ('week', 161), ('an', 152), ('day', 146), ('floor', 145), ('has', 145), ('free', 139), ('collections', 137), ('access', 134), ('art', 127), ('do', 126), ('special', 119), ('study', 119), ('learn', 116), ('how', 115), ('collection', 112), ('first', 108), ('campus', 106), ('one', 103), ('info', 102), ('books', 102), ('available', 102), ('i', 102), ('see', 100), ('or', 99), ('uc', 99), ('come', 99), ('up', 99), ('librarian', 98), ('community', 97), ('student', 97), ('talk', 96), ('exhibit', 95), ('what', 94), ('hours', 93), ('read', 90), ('science', 89), ('“', 87), ('”', 86), ('time', 86), ('barbara', 85), ('tbt', 84), ('santa', 83), ('year', 82), ('event', 81), ('pm', 81), ('gauchos', 81), ('black', 80), ('some', 79), ('thanks', 79), ('if', 79), ('who', 78), ('work', 78), ('help', 78), ('so', 78), ('public', 77), ('tomorrow', 76), ('discussion', 76), ('side', 76), ('get', 76), ('university', 76), (\"n't\", 75), ('archives', 75), ('online', 74), ('next', 74), ('was', 74), ('just', 74), ('through', 72), ('nhttps', 72), ('recordings', 70), ('room', 70), ('1st', 69), ('view', 69), ('their', 69), ('pick', 68), ('resources', 67), ('services', 67), ('staff', 67), ('author', 66), ('display', 66), ('faculty', 64), ('been', 63), ('history', 62), ('there', 62), ('panel', 61), ('building', 61), ('4', 60), ('during', 60), ('exhibition', 60), ('her', 60), ('when', 59), ('great', 58), ('data', 58), ('hear', 57), ('thank', 57), ('welcome', 57), ('american', 57), ('but', 57), ('april', 56), ('part', 56), ('grad', 56), ('tonight', 56), ('photo', 56), ('project', 55), ('no', 55), ('use', 55), ('his', 54), ('not', 54), ('ucsbreads', 54), ('mountain', 54), ('archive', 54), ('pacific', 53), ('via', 53), ('jan', 52), ('story', 51), ('ucsantabarbara', 51), ('california', 50), ('2', 50), ('closed', 50), ('please', 50), ('visit', 49), ('last', 49), ('4pm', 49), ('1', 49), ('into', 49), ('ll', 49), ('over', 49), ('night', 49), ('music', 48), ('they', 48), ('other', 48), ('its', 47), ('ve', 47), ('cylinder', 47), ('find', 47), ('march', 47), ('virtual', 47), ('lab', 47), ('look', 46), ('congratulations', 46), ('current', 46), ('p.m', 46), ('make', 46), ('them', 46), ('photos', 46), ('studies', 45), ('finals', 45), ('may', 44), ('these', 44), ('award', 44), ('register', 44), ('need', 44), ('world', 43), ('views', 43), ('covid-19', 43), ('details', 43), ('until', 42), ('facebook', 42), ('information', 42), ('happy', 42), ('know', 42), ('10', 42), ('people', 42), ('quarter', 42), ('being', 41), ('link', 41), ('copy', 41), ('break', 41), ('he', 40), ('events', 40), ('want', 40), ('giveaway', 40), ('reading', 40), ('my', 40), ('like', 40), ('space', 40), ('davidson', 40), ('which', 39), ('librarians', 39), ('materials', 39), ('due', 39), ('latest', 39), ('6', 39), ('audio', 38), ('back', 38), ('go', 38), ('openaccess', 38), ('looking', 38), ('undergraduate', 37), ('series', 37), ('including', 37), ('starting', 37), ('david', 37), ('made', 37), ('take', 37), ('live', 36), ('many', 36), ('5', 36), ('good', 36), ('excited', 36), ('3', 36), ('issue', 36), ('crossroads', 36), ('late', 35), ('list', 35), ('feb', 35), ('publishing', 35), ('opening', 35), ('were', 35), ('service', 34), ('two', 34), ('forward', 34), ('paseo', 34), ('love', 34), ('summer', 34), ('hall', 33), ('2022', 33), ('miss', 33), ('watch', 33), ('prof', 33), ('zine', 33), ('most', 33), ('chancellor', 33), ('lunch', 33), ('ucsbreads2020', 33), ('w', 32), ('fall', 32), ('best', 32), ('spring', 32), ('u.s', 32), ('together', 32), ('hope', 32), ('libraries', 32), ('she', 32), ('june', 32), ('prize', 32), ('early', 31), ('life', 31), ('instruction', 31), ('future', 31), ('home', 31), ('women', 31), ('program', 31), ('experience', 31), ('top', 31), ('full', 30), ('start', 30), ('making', 30), ('15', 30), ('2nd', 29), ('1312', 29), ('celebrate', 29), ('digital', 29), ('featuring', 29), ('share', 29), ('friday', 29), ('entrance', 29), ('news', 29), ('off', 29), ('justice', 29), ('ted', 28), ('those', 28), ('congrats', 28), ('working', 28), ('support', 28), ('desk', 28), ('coming', 28), ('any', 28), ('article', 28), ('glad', 28), ('winter', 28), ('place', 28), ('posted', 28), ('days', 27), ('scholarly', 27), ('using', 27), ('before', 27), ('center', 27), ('group', 27), ('2021', 27), ('july', 27), ('change', 27), ('exhalation', 26), ('thursday', 26), ('give', 26), ('listen', 26), ('call', 26), ('questions', 26), ('climate', 26), ('sound', 26), ('yang', 26), ('holiday', 26), ('selection', 26), ('oct', 26), ('monday', 26), ('7', 26), ('construction', 26), ('csep_ucsb', 26), ('rising', 26), ('chiang', 25), ('only', 25), ('national', 25), ('recording', 25), ('winner', 25), ('discuss', 25), ('historical', 25), ('tuesday', 25), ('search', 25), ('meet', 25), ('gift', 25), ('wednesday', 25), ('card', 25), ('2020', 25), ('enrique', 25), ('campbell', 24), ('arts', 24), ('professor', 24), ('ocean', 24), ('uofcalifornia', 24), ('class', 24), ('honor', 24), ('between', 24), ('also', 24), ('2019', 24), ('noon', 24), ('win', 24), ('social', 24), ('across', 23), ('lives', 23), ('training', 23), ('still', 23), ('zoom', 23), ('sharing', 23), ('workshop', 23), ('11', 23), ('away', 23), ('got', 23), ('where', 23), ('did', 23), ('video', 23), ('dec', 23), ('forget', 23), ('let', 23), ('24', 23), ('going', 23), ('could', 22), ('n', 22), ('graduate', 22), ('america', 22), ('matter', 22), ('ucsb_ccs', 22), ('sea', 22), ('submissions', 22), ('few', 22), ('while', 22), ('recent', 22), ('keep', 22), ('50', 22), ('floors', 22), ('announced', 22), ('years', 22), ('8th', 22), ('extended', 22), ('competition', 21), ('month', 21), ('lecture', 21), ('page', 21), ('show', 21), ('much', 21), ('after', 21), ('again', 21), ('team', 21), ('way', 21), ('invited', 21), ('stop', 21), ('had', 21), ('even', 21), ('health', 21), ('system', 21), ('effect', 21), ('right', 21), ('schuller', 21), ('stories', 20), ('featured', 20), ('2016', 20), ('academic', 20), ('radio', 20), ('13', 20), ('registration', 20), ('digitized', 20), ('well', 20), ('ca', 20), ('researchers', 20), ('titles', 20), ('copies', 20), ('currently', 20), ('king', 20), ('sure', 20), ('around', 20), ('word', 20), ('3rd', 20), ('sign', 20), ('website', 20), ('winners', 20), ('icymi', 20), ('e-newsletter', 20), ('won', 20), ('water', 20), ('submit', 19), ('creative', 19), ('than', 19), ('big', 19), ('reception', 19), ('chance', 19), ('remote', 19), ('west', 19), ('club', 19), ('update', 19), ('8', 19), ('ai', 19), ('william', 19), ('continue', 19), ('t', 19), ('area', 19), ('another', 19), ('yesterday', 19), ('kcsb', 19), ('survey', 19), ('things', 19), ('click', 19), ('peek', 19), ('overnight', 19), ('moonwalking', 19), ('ethnic', 18), ('dr', 18), ('why', 18), ('curator', 18), ('works', 18), ('30', 18), ('piece', 18), ('vote', 18), ('preservation', 18), ('explore', 18), ('artist', 18), ('february', 18), ('am', 18), ('annual', 18), ('nov', 18), ('2018', 18), ('near', 18), ('wed', 18), ('sneak', 18), ('futuregaucho', 18), ('n\\\\nhttps', 17), ('gaucho', 17), ('missed', 17), ('humanities', 17), ('celebration', 17), ('upcoming', 17), ('rsvp', 17), ('announce', 17), ('resource', 17), ('me', 17), ('college', 17), ('images', 17), ('behind', 17), ('scholars', 17), ('dailynexus', 17), ('25', 17), ('saturday', 17), ('journal', 17), ('20', 17), ('santabarbara', 17), ('beautiful', 17), ('too', 17), ('very', 17), ('recess', 17), ('left', 16), ('weeks', 16), ('gender', 16), ('experts', 16), ('activities', 16), ('starts', 16), ('ucsbgiveday', 16), ('person', 16), ('east', 16), ('apply', 16), ('agreement', 16), ('favorite', 16), ('each', 16), ('writing', 16), ('important', 16), ('members', 16), ('able', 16), ('weekend', 16), ('final', 16), ('close', 16), ('save', 16), ('ready', 16), ('26', 16), ('reference', 16), ('12', 16), ('should', 16), ('9', 16), ('learning', 16), ('ever', 16), ('ceremony', 16), ('2015', 16), ('2017', 16), ('race', 15), ('quantum', 15), ('speaker', 15), ('technology', 15), ('n\\\\n', 15), ('everyone', 15), ('cylinders', 15), ('celebrating', 15), ('activism', 15), ('r', 15), ('ucsbengineering', 15), ('named', 15), ('guide', 15), ('conversation', 15), ('interested', 15), ('interview', 15), ('north', 15), ('a.m', 15), ('happening', 15), ('—', 15), ('would', 15), ('31', 15), ('found', 15), ('includes', 15), ('issues', 15), ('every', 15), ('de', 15), ('course', 15), ('offer', 15), ('gt', 15), ('sorry', 15), ('27', 15), ('d', 15), ('addition', 15), ('la', 15), ('inside', 15), ('power', 15), ('grand', 15), ('orange', 15), ('moby', 15), ('duck', 15), ('present', 14), ('screening', 14), ('winning', 14), ('reserve', 14), ('provide', 14), ('items', 14), ('enjoy', 14), ('historic', 14), ('‘', 14), ('wait', 14), ('yet', 14), ('local', 14), ('management', 14), ('wall', 14), ('hosting', 14), ('giving', 14), ('amazing', 14), ('email', 14), ('studying', 14), ('date', 14), ('review', 14), ('punctum_books', 14), ('fair', 14), ('anyone', 14), ('ask', 14), ('five', 14), ('published', 14), ('media', 14), ('moving', 14), ('seeing', 14), ('elsevier', 14), ('memory', 14), ('yes', 14), ('stevenson', 14), ('fri', 14), ('contest', 14), ('girl', 14), ('fire', 14), ('lovemyfdl', 14), ('einstein', 14), ('undergrads', 13), ('environmental', 13), ('better', 13), ('wax', 13), ('then', 13), ('tours', 13), ('deadline', 13), ('beauty', 13), ('28', 13), ('artists', 13), ('own', 13), ('him', 13), ('international', 13), ('features', 13), ('bring', 13), ('scientific', 13), ('oa', 13), ('seen', 13), ('authors', 13), ('outside', 13), ('getting', 13), ('aerial', 13), ('prison', 13), ('jr', 13), ('receive', 13), ('ago', 13), ('subject', 13), ('papers', 13), ('request', 13), ('record', 13), ('host', 13), ('oaweek', 13), ('follow', 13), ('interest', 13), ('following', 13), ('proud', 13), ('shortlist', 13), ('isla', 13), ('vista', 13), ('think', 13), ('largest', 13), ('job', 13), ('october', 13), ('bryan', 13), ('elizabetharush', 13), ('computers', 13), ('sun', 13), ('massages', 13), ('john', 12), ('supporting', 12), ('attend', 12), ('long', 12), ('documenting', 12), ('workshops', 12), ('courtyard', 12), ('soon', 12), ('1pm', 12), ('knowledge', 12), ('policy', 12), ('campuses', 12), ('related', 12), ('discussing', 12), ('tue', 12), ('morning', 12), ('january', 12), ('enter', 12), ('feature', 12), ('tour', 12), ('curators', 12), ('martin', 12), ('luther', 12), ('head', 12), ('main', 12), ('seubert', 12), ('green', 12), ('because', 12), ('ann', 12), ('5pm', 12), ('collaboratory', 12), ('salinas', 12), ('global', 12), ('little', 12), ('needs', 12), ('central', 12), ('rankings', 12), ('–', 12), ('contact', 12), ('graduating', 12), ('taking', 12), ('down', 12), ('thoreau', 12), ('memoir', 12), ('m', 12), ('impact', 12), ('age', 12), ('ucsbreads2021', 12), ('second', 12), ('album', 12), ('luck', 12), ('literature', 12), ('bookstore', 12), ('sat', 12), ('man', 12), ('family', 11), ('poetry', 11), ('highlights', 11), ('hosted', 11), ('in-person', 11), ('14', 11), ('fun', 11), ('launch', 11), ('honored', 11), ('noozhawknews', 11), ('minutes', 11), ('action', 11), ('t.co/lhe11k5kkr', 11), ('opened', 11), ('rain', 11), ('records', 11), ('articles', 11), ('put', 11), ('commons', 11), ('pandemic', 11), ('since', 11), ('nmore', 11), ('exploring', 11), ('remains', 11), ('users', 11), ('journals', 11), ('17', 11), ('department', 11), ('air', 11), ('front', 11), ('📚', 11), ('added', 11), ('henry', 11), ('closure', 11), ('snacks', 11), ('sunday', 11), ('hey', 11), ('photographs', 11), ('dance', 11), ('doing', 11), ('exhibitions', 11), ('appointment', 11), ('food', 11), ('small', 11), ('feedback', 11), ('season', 11), ('comics', 11), ('return', 11), ('city', 11), ('tool', 11), ('state', 11), ('against', 11), ('reopening', 11), ('committee', 11), ('under', 11), ('racial', 11), ('per', 11), ('terrorist', 11), ('themes', 11), ('earth', 11), ('2013', 11), ('scholarled', 11), ('print', 11), ('91.9', 11), ('film', 11), ('old', 11), ('meeting', 11), ('president', 11), ('mercy', 11), ('level', 11), ('dispatches', 11), ('shore', 11), ('laptop', 11), ('renovation', 11), ('took', 11), ('nobel', 11), ('peers', 11), ('t.co/xymagtgmxb', 11), ('6pm', 11), ('denise', 11), ('ucsbsrc', 11), ('wins', 11), ('coffee', 11), ('less', 10), ('school', 10), ('rm', 10), ('drop', 10), ('launched', 10), ('joining', 10), ('success', 10), ('asian', 10), ('image', 10), ('educational', 10), ('heather', 10), ('eunice', 10), ('foote', 10), ('association', 10), ('include', 10), ('23', 10), ('interdisciplinary', 10), ('americans', 10), ('james', 10), ('short', 10), ('modern', 10), ('rights', 10), ('ways', 10), ('donated', 10), ('recorded', 10), ('pages', 10), ('needed', 10), ('scholar', 10), ('google', 10), ('house', 10), ('accessible', 10), ('thanksgiving', 10), ('really', 10), ('brain', 10), ('scholarship', 10), ('high', 10), ('throughout', 10), ('chat', 10), ('indigenous', 10), ('cultural', 10), ('board', 10), ('oabooks', 10), ('came', 10), ('documents', 10), ('september', 10), ('begin', 10), ('remember', 10), ('newspaper', 10), ('offering', 10), ('limited', 10), ('easier', 10), ('aug', 10), ('african', 10), ('seat', 10), ('anniversary', 10), ('moved', 10), ('conversations', 10), ('contribute', 10), ('understanding', 10), ('16', 10), ('transformative', 10), ('tell', 10), ('installed', 10), ('seeks', 10), ('novel', 10), ('culture', 10), ('islavista', 10), ('speak', 10), ('safe', 10), ('files', 10), ('voting', 10), ('emergency', 10), ('stacks', 10), ('flu', 10), ('wellness', 10), ('rise', 10), ('reminder', 10), ('celebrates', 10), ('noon-1pm', 10), ('4th', 10), ('stephens', 10), ('piper', 10), ('quiet', 10), ('initiative', 9), ('performing', 9), ('theater', 9), ('5th', 9), ('presents', 9), ('education', 9), ('projects', 9), ('led', 9), ('thurs', 9), ('performed', 9), ('partnership', 9), ('preserve', 9), ('covering', 9), ('grant', 9), ('nearly', 9), ('used', 9), ('beyond', 9), ('held', 9), ('artofscience', 9), ('physics', 9), ('remembering', 9), ('planned', 9), ('plan', 9), ('fiction', 9), ('womenshistorymonth', 9), ('contributions', 9), ('n\\\\nmore', 9), ('intelligence', 9), ('interlibrary', 9), ('loan', 9), ('blackhistorymonth', 9), ('selected', 9), ('supplies', 9), ('exit', 9), ('escape', 9), ('19', 9), ('legacy', 9), ('updates', 9), ('blog', 9), ('rt', 9), ('beginning', 9), ('both', 9), ('career', 9), ('reopen', 9), ('10am', 9), ('lee', 9), ('post', 9), ('serve', 9), ('located', 9), ('set', 9), ('explores', 9), ('databases', 9), ('face', 9), ('provides', 9), ('spaces', 9), ('account', 9), ('deep', 9), ('entire', 9), ('areas', 9), ('j', 9), ('discovery', 9), ('29', 9), ('melvyl', 9), ('architecture', 9), ('2014', 9), ('22', 9), ('wine', 9), ('plans', 9), ('large', 9), ('racism', 9), ('party', 9), ('dates', 9), ('below', 9), ('wonderful', 9), ('process', 9), ('covid19', 9), ('ucsb_rcsgd', 9), ('takes', 9), ('times', 9), ('response', 9), ('play', 9), ('src', 9), ('ucsdlibrary', 9), ('l', 9), ('banned', 9), ('awesome', 9), ('friends', 9), ('readers', 9), ('as_ucsb', 9), ('carpinteria', 9), ('elevator', 9), ('organized', 9), ('ucsbreadssp', 9), ('u', 9), ('tower', 9), ('inthearchives', 9), ('renovated', 9), ('awards', 9), ('kerman', 9), ('three', 8), ('artsandlectures', 8), ('oil', 8), ('end', 8), ('checkout', 8), ('business', 8), ('speaking', 8), ('sustainability', 8), ('build', 8), ('created', 8), ('enjoying', 8), ('chen', 8), ('shg1970', 8), ('opera', 8), ('continues', 8), ('webinar', 8), ('feminist', 8), ('rare', 8), ('released', 8), ('shows', 8), ('ongoing', 8), ('such', 8), ('member', 8), ('williamwangnlp', 8), ('done', 8), ('society', 8), ('graphics', 8), ('office', 8), ('communication', 8), ('tune', 8), ('sessions', 8), ('1968', 8), ('number', 8), ('begins', 8), ('version', 8), ('regular', 8), ('must', 8), ('offers', 8), ('newsletter', 8), ('tweet', 8), ('domain', 8), ('several', 8), ('century', 8), ('changes', 8), ('spreading', 8), ('movement', 8), ('add', 8), ('recently', 8), ('postcards', 8), ('paper', 8), ('opens', 8), ('spread', 8), ('presentation', 8), ('force', 8), ('americas', 8), ('political', 8), ('heard', 8), ('reserves', 8), ('major', 8), ('upon', 8), ('dept', 8), ('south', 8), ('among', 8), ('universities', 8), ('usnews', 8), ('considered', 8), ('johnson', 8), ('once', 8), ('received', 8), ('finally', 8), ('pickup', 8), ('employees', 8), ('seats', 8), ('edition', 8), ('based', 8), ('guidelines', 8), ('temporarily', 8), ('crisis', 8), ('words', 8), ('iv', 8), ('original', 8), ('changed', 8), ('nature', 8), ('four', 8), ('feel', 8), ('voice', 8), ('panther', 8), ('golden', 8), ('midnight', 8), ('download', 8), ('schullerlab', 8), ('montecito', 8), ('never', 8), ('revolution', 8), ('annie', 8), ('november', 8), ('guest', 8), ('interesting', 8), ('cool', 8), ('protect', 8), ('museum', 8), ('along', 8), ('cema', 8), ('brenucsb', 8), ('c', 8), ('electronic', 8), ('map', 8), ('hang', 8), ('gallery', 8), ('evc', 8), ('cheadle', 8), ('don', 8), ('expand', 8), ('bike', 8), ('finalists', 8), ('slam', 8), ('elevators', 8), ('mom', 8), ('congress', 8), ('storify', 8), ('literary', 8), ('mary', 8), ('bean', 8), ('foer', 8), ('moderated', 7), ('thrilled', 7), ('arrival', 7), ('produced', 7), ('apr', 7), ('interactive', 7), ('lead', 7), ('stream', 7), ('critical', 7), ('zine-making', 7), ('scientists', 7), ('case', 7), ('coast', 7), ('gets', 7), ('busy', 7), ('picture', 7), ('text', 7), ('publish', 7), ('light', 7), ('physical', 7), ('discography', 7), ('responsible', 7), ('artificial', 7), ('providing', 7), ('press', 7), ('tblucsb', 7), ('collective', 7), ('honors', 7), ('multicultural', 7), ('wang', 7), ('computer', 7), ('gave', 7), ('patrons', 7), ('badge', 7), ('challenges', 7), ('says', 7), ('npr', 7), ('lost', 7), ('royal', 7), ('transition', 7), ('complete', 7), ('episode', 7), ('visiting', 7), ('required', 7), ('donation', 7), ('albardach', 7), ('installation', 7), ('10,000', 7), ('catalog', 7), ('valley', 7), ('los', 7), ('name', 7), ('real', 7), ('copim', 7), ('nice', 7), ('advance', 7), ('copimproject', 7), ('table', 7), ('peoples', 7), ('identity', 7), ('hiring', 7), ('professors', 7), ('id', 7), ('fully', 7), ('partner', 7), ('circulation', 7), ('library.ucsb.edu', 7), ('uclibrarysearch', 7), ('sb', 7), ('tues', 7), ('joined', 7), ('government', 7), ('spot', 7), ('engineering', 7), ('thoughts', 7), ('same', 7), ('communities', 7), ('injustice', 7), ('coronavirus', 7), ('tips', 7), ('message', 7), ('turn', 7), ('disability', 7), ('anything', 7), ('publisher', 7), ('content', 7), ('past', 7), ('selections', 7), ('reason', 7), ('dlfjobs', 7), ('voices', 7), ('afternoon', 7), ('later', 7), ('insight', 7), ('evening', 7), ('though', 7), ('answer', 7), ('expanded', 7), ('living', 7), ('location', 7), ('others', 7), ('100', 7), ('veterans', 7), ('davis', 7), ('wish', 7), ('temporary', 7), ('kind', 7), ('fill', 7), ('key', 7), ('red', 7), ('say', 7), ('leading', 7), ('george', 7), ('value', 7), ('men', 7), ('memorial', 7), ('doors', 7), ('tech', 7), ('dead', 7), ('san', 7), ('rebecca', 7), ('gary', 7), ('cafe', 7), ('parents', 7), ('wi-fi', 7), ('inconvenience', 7), ('quoted', 7), ('ccli2019', 7), ('conference', 7), ('2pm', 7), ('…', 7), ('1575', 7), ('grab', 7), ('librarylife', 7), ('monochrome', 7), ('explanations', 7), ('challenge', 7), ('ucsbreads2018', 7), ('walk', 7), ('8pm', 7), ('jahren', 7), ('mon', 7), ('ucen', 7), ('periscope', 7), ('children', 7), ('groundbreaking', 7), ('joshua', 7), ('cart', 7), ('hela', 7), ('migrants', 7), ('associate', 6), ('regarding', 6), ('importance', 6), ('7pm', 6), ('highlighting', 6), ('role', 6), ('explains', 6), ('human', 6), ('healthy', 6), ('sponsored', 6), ('games', 6), ('helping', 6), ('common', 6), ('introduction', 6), ('borrow', 6), ('chávez', 6), ('ideas', 6), ('mind', 6), ('software', 6), ('lots', 6), ('form', 6), ('innovative', 6), ('whose', 6), ('telling', 6), ('having', 6), ('sbindynews', 6), ('latin', 6), ('teaching', 6), ('primary', 6), ('underground', 6), ('ucsbphysics', 6), ('visitors', 6), ('digitize', 6), ('launches', 6), ('hfaucsb', 6), ('potential', 6), ('built', 6), ('resume', 6), ('pst', 6), ('possible', 6), ('attn', 6), ('nine', 6), ('undergrad', 6), ('entered', 6), ('archivists', 6), ('20th', 6), ('means', 6), ('slow', 6), ('app', 6), ('institutions', 6), ('kai-fu', 6), ('n\\\\nregister', 6), ('emilyjacobs', 6), ('halloween', 6), ('equity', 6), ('mentioned', 6), ('does', 6), ('psychological', 6), ('classes', 6), ('analysis', 6), ('talks', 6), ('24/7', 6), ('title', 6), ('ucsbmcc', 6), ('ucsbbookstore', 6), ('bestcolleges', 6), ('colleges', 6), ('ucberkeley', 6), ('gene', 6), ('ramos', 6), ('tuesdays', 6), ('angela', 6), ('bringing', 6), ('database', 6), ('acts', 6), ('membership', 6), ('hathitrust', 6), ('punctum', 6), ('without', 6), ('alumni', 6), ('offered', 6), ('engage', 6), ('seeking', 6), ('healing', 6), ('tragedy', 6), ('patrisse', 6), ('cullors', 6), ('partners', 6), ('collaboration', 6), ('shadow', 6), ('director', 6), ('kyle', 6), ('ali', 6), ('21', 6), ('cover', 6), ('improve', 6), ('choose', 6), ('fm', 6), ('third', 6), ('kennedy', 6), ('memories', 6), ('fines', 6), ('testing', 6), ('opportunity', 6), ('welcoming', 6), ('journalist', 6), ('artwork', 6), ('🙌', 6), ('activist', 6), ('almost', 6), ('award-winning', 6), ('exactly', 6), ('acquisition', 6), ('election', 6), ('ebook', 6), ('amazon', 6), ('sam', 6), ('session', 6), ('ucsbadmissions', 6), ('site', 6), ('imagery', 6), ('courtesy', 6), ('announcement', 6), ('ucsb_gsrc', 6), ('makes', 6), ('former', 6), ('hands', 6), ('filling', 6), ('document', 6), ('e-books', 6), ('remain', 6), ('provided', 6), ('anytime', 6), ('assistant', 6), ('thomas', 6), ('cells', 6), ('train', 6), ('thing', 6), ('copyright', 6), ('leahstokes', 6), ('newly', 6), ('poet', 6), ('often', 6), ('writers', 6), ('development', 6), ('lib', 6), ('mobile', 6), ('suggestions', 6), ('chronicle', 6), ('kristin', 6), ('printing', 6), ('chumash', 6), ('consider', 6), ('woman', 6), ('called', 6), ('stay', 6), ('incredible', 6), ('flag', 6), ('platoff', 6), ('poster', 6), ('cleveland', 6), ('t.co/otqlzjdeam', 6), ('bwlibraries', 6), ('blackandwhitechallenge', 6), ('jonathan', 6), ('3:30pm', 6), ('alice', 6), ('pic', 6), ('guykawasaki', 6), ('true', 6), ('ucsb2016', 6), ('note', 6), ('thu', 6), ('sleep', 6), ('always', 6), ('cxjiang19', 6), ('2-story', 6), ('midterms', 6), ('passport', 6), ('drawing', 6), ('outage', 6), ('preparation', 6), ('egsl', 6), ('undie', 6), ('immortal', 6), ('henrietta', 6), ('lacks', 6), ('discussion\\\\n\\\\nfebruary', 6), ('movie', 5), ('comes', 5), ('signing', 5), ('entries', 5), ('sources', 5), ('1969', 5), ('inspiration', 5), ('earthday', 5), ('country', 5), ('transfer', 5), ('bren', 5), ('challenged', 5), ('environment', 5), ('ucsbreads2022', 5), ('programs', 5), ('participate', 5), ('inspired', 5), ('fact', 5), ('uses', 5), ('archival', 5), ('perspectives', 5), ('historian', 5), ('yao', 5), ('videos', 5), ('applications', 5), ('onthisday', 5), ('institute', 5), ('césar', 5), ('middle', 5), ('grow', 5), ('mark', 5), ('waitz', 5), ('pilot', 5), ('n\\\\nread', 5), ('responding', 5), ('entry', 5), ('dan', 5), ('oeweek', 5), ('mar', 5), ('talking', 5), ('circulating', 5), ('curated', 5), ('sbplsystem', 5), ('focus', 5), ('said', 5), ('professional', 5), ('experiences', 5), ('helped', 5), ('test', 5), ('🎉🎉🎉', 5), ('underway', 5), ('18', 5), ('presentations', 5), ('nlearn', 5), ('hour', 5), ('exciting', 5), ('ggse', 5), ('1928', 5), ('clearance', 5), ('couple', 5), ('foundation', 5), ('civil', 5), ('advances', 5), ('invites', 5), ('opportunities', 5), ('virtually', 5), ('monthly', 5), ('archivist', 5), ('effective', 5), ('decades', 5), ('finds', 5), ('act', 5), ('chicano', 5), ('livingston', 5), ('housed', 5), ('sounds', 5), ('december', 5), ('burn', 5), ('valuable', 5), ('bardach', 5), ('likes', 5), ('supports', 5), ('spatialucsb', 5), ('restored', 5), ('muertos', 5), ('openscholarship', 5), ('pleased', 5), ('body', 5), ('sciences', 5), ('eileenajoy', 5), ('12pm', 5), ('filipinoamericanhistorymonth', 5), ('clubs', 5), ('extensive', 5), ('4:00', 5), ('😷', 5), ('yours', 5), ('store', 5), ('designated', 5), ('schools', 5), ('six', 5), ('lounge', 5), ('vaccination', 5), ('status', 5), ('shared', 5), ('powerful', 5), ('cost', 5), ('shots', 5), ('t.co/xkv8vyaivt', 5), ('unified', 5), ('ucsbshs', 5), ('institution', 5), ('mailing', 5), ('requests', 5), ('appointments', 5), ('involved', 5), ('t.co/odxxzrivas', 5), ('consideration', 5), ('t.co/fonz5ireb1', 5), ('born', 5), ('q', 5), ('seniors', 5), ('graduates', 5), ('fellow', 5), ('schedule', 5), ('podcast', 5), ('experiencing', 5), ('pandemics', 5), ('residents', 5), ('residence', 5), ('meng', 5), ('markets', 5), ('prohibition', 5), ('springer', 5), ('bit', 5), ('phd', 5), ('oapenbooks', 5), ('🎉', 5), ('immediately', 5), ('wow', 5), ('deal', 5), ('🌟', 5), ('750', 5), ('care', 5), ('organizing', 5), ('choice', 5), ('awarded', 5), ('speaks', 5), ('lights', 5), ('hold', 5), ('f', 5), ('advocacy', 5), ('tania_israel', 5), ('huge', 5), ('sherri', 5), ('investigative', 5), ('acquires', 5), ('lifetime', 5), ('6-7', 5), ('collecting', 5), ('ill', 5), ('results', 5), ('dish', 5), ('prints', 5), ('internet', 5), ('camp', 5), ('eye', 5), ('design', 5), ('else', 5), ('million', 5), ('running', 5), ('brought', 5), ('goleta', 5), ('practice', 5), ('richard', 5), ('select', 5), ('additional', 5), ('report', 5), ('section', 5), ('ucla', 5), ('hearing', 5), ('preliminary', 5), ('orientation', 5), ('town', 5), ('bunch', 5), ('commercial', 5), ('yourself', 5), ('normal', 5), ('sept', 5), ('taves', 5), ('something', 5), ('suggestion', 5), ('ucsbhistory', 5), ('buildings', 5), ('rodriguez', 5), ('point', 5), ('material', 5), ('thousands', 5), ('prestigious', 5), ('receiving', 5), ('proxy', 5), ('paul', 5), ('bank', 5), ('discovered', 5), ('newest', 5), ('hand', 5), ('believe', 5), ('5-8', 5), ('diversity', 5), ('cards', 5), ('gauchoprint', 5), ('phone', 5), ('pizza', 5), ('pictures', 5), ('gratitude', 5), ('publishers', 5), ('carpentry', 5), ('1987', 5), ('recognized', 5), ('75th', 5), ('marshall', 5), ('antelman', 5), ('handing', 5), ('circa', 5), ('looks', 5), ('expansion', 5), ('packed', 5), ('rstats', 5), ('medal', 5), ('patrick', 5), ('round', 5), ('tuned', 5), ('apologize', 5), ('moon', 5), ('pop', 5), ('msthibui', 5), ('lens', 5), ('hi', 5), ('contemporary', 5), ('ggseucsb', 5), ('graphic', 5), ('8am', 5), ('ul', 5), ('spatial', 5), ('official', 5), ('campaign', 5), ('kick', 5), ('cohen', 5), ('tomes', 5), ('blackhistory', 5), ('blackpanther', 5), ('acting', 5), ('alan', 5), ('maps', 5), ('usgpo', 5), ('far', 5), ('dies', 5), ('marikhasmanyan', 5), ('spoken', 5), ('peter', 5), ('lament', 5), ('askanarchivist', 5), ('eji_org', 5), ('obama', 5), ('pulitzer', 5), ('thx', 5), ('giftcard', 5), ('tons', 5), ('t.co/v26vts30nu', 5), ('move', 5), ('laureate', 5), ('brylawski', 5), ('personalized', 5), ('medals', 5), ('egan', 5), ('lucas', 5), ('ground', 5), ('mil', 5), ('cookie', 5), ('monster', 5), ('autism', 5), ('rhandy', 5), ('2012', 5), ('hohn', 5), ('portal', 4), ('preserving', 4), ('conjunction', 4), ('application', 4), ('displaying', 4), ('spill', 4), ('awareness', 4), ('nearby', 4), ('mechanics', 4), ('affects', 4), ('hong', 4), ('1890s', 4), ('earliest', 4), ('approach', 4), ('fb', 4), ('orchestra', 4), ('kclunews', 4), ('reached', 4), ('gauchosaregrateful', 4), ('announcing', 4), ('literacy', 4), ('formally', 4), ('kitp', 4), ('truly', 4), ('bad', 4), ('corner', 4), ('chose', 4), ('oer', 4), ('et', 4), ('angiechikowero', 4), ('instructors', 4), ('paige', 4), ('12-1pm', 4), ('unique', 4), ('protests', 4), ('publications', 4), ('popular', 4), ('3-4', 4), ('zines', 4), ('valentine', 4), ('titled', 4), ('self-help', 4), ('source', 4), ('security', 4), ('ethics', 4), ('frustrated', 4), ('leave', 4), ('panelists', 4), ('ninh', 4), ('nregister', 4), ('nation', 4), ('1/2', 4), ('pg', 4), ('entitled', 4), ('language', 4), ('processing', 4), ('swing', 4), ('incarcerated', 4), ('resistance', 4), ('human-centered', 4), ('technologies', 4), ('individuals', 4), ('classroom', 4), ('discusses', 4), ('affiliates', 4), ('mlk', 4), ('panels', 4), ('60,000', 4), ('treasures', 4), ('lou', 4), ('cannon', 4), ('citation', 4), ('deserve', 4), ('paint', 4), ('louise', 4), ('showcasing', 4), ('esri', 4), ('gis', 4), ('ucsbgeog', 4), ('presented', 4), ('día', 4), ('passed', 4), ('loved', 4), ('ones', 4), ('greek', 4), ('wanted', 4), ('200', 4), ('already', 4), ('audience', 4), ('collaborations', 4), ('different', 4), ('drill', 4), ('travel', 4), ('female', 4), ('promote', 4), ('summit', 4), ('collaborative', 4), ('ben', 4), ('hispanicheritagemonth', 4), ('calendar', 4), ('started', 4), ('modes', 4), ('emily', 4), ('growing', 4), ('monograph', 4), ('minute', 4), ('participating', 4), ('saving', 4), ('extra', 4), ('daily', 4), ('weekofwelcome', 4), ('cultures', 4), ('mexico', 4), ('according', 4), ('world-class', 4), ('9/11', 4), ('chairs', 4), ('seating', 4), ('2001', 4), ('remembrance', 4), ('invite', 4), ('reflect', 4), ('t.co/g818paxzdd', 4), ('searching', 4), ('cleaned', 4), ('wear', 4), ('county', 4), ('gazette', 4), ('charles', 4), ('digitization', 4), ('borrowing', 4), ('facilitate', 4), ('replace', 4), ('journey', 4), ('planning', 4), ('stage', 4), ('countdown', 4), ('user', 4), ('edhat', 4), ('scheduled', 4), ('forever', 4), ('impacted', 4), ('topics', 4), ('caldiglib', 4), ('keeping', 4), ('describes', 4), ('pride', 4), ('productive', 4), ('librarytwitter', 4), ('reservation', 4), ('private', 4), ('relations', 4), ('earned', 4), ('wishes', 4), ('student-led', 4), ('stephanie', 4), ('compassion', 4), ('reservations', 4), ('shaped', 4), ('groups', 4), ('zotero', 4), ('effort', 4), ('co-hosted', 4), ('folks', 4), ('cash', 4), ('difficult', 4), ('discussions', 4), ('danaehernandezc', 4), ('cause', 4), ('carbon', 4), ('carla', 4), ('whether', 4), ('researcher', 4), ('authorization', 4), ('feminism', 4), ('t.co/e5lkbwmytt', 4), ('infrastructure', 4), ('doabooks', 4), ('jisc', 4), ('coalition', 4), ('forms', 4), ('months', 4), ('lgbtq', 4), ('publication', 4), ('lines', 4), ('osopepatrisse', 4), ('postdocs', 4), ('libraryjobs', 4), ('tia', 4), ('bay', 4), ('pandya', 4), ('viewed', 4), ('economic', 4), ('outrage', 4), ('overdue', 4), ('charged', 4), ('t.co/wgzjrl0ozf', 4), ('communications', 4), ('southern', 4), ('latimes', 4), ('quality', 4), ('hughes', 4), ('become', 4), ('steps', 4), ('bottom', 4), ('barnes', 4), ('hit', 4), ('tested', 4), ('highly', 4), ('shakespeare', 4), ('alert', 4), ('reduce', 4), ('drop-in', 4), ('noozhawk', 4), ('o', 4), ('stress', 4), ('well-being', 4), ('participants', 4), ('self', 4), ('acquired', 4), ('highlight', 4), ('especially', 4), ('thread', 4), ('fantastic', 4), ('milestone', 4), ('electrical', 4), ('river', 4), ('shot', 4), ('compiled', 4), ('weekly', 4), ('white', 4), ('privilege', 4), ('ucsbreligion', 4), ('wearing', 4), ('shares', 4), ('touch', 4), ('innovation', 4), ('example', 4), ('earthquake', 4), ('voted', 4), ('desks', 4), ('alum', 4), ('open-access', 4), ('breaking', 4), ('21st', 4), ('written', 4), ('nonfiction', 4), ('posts', 4), ('etc', 4), ('finished', 4), ('diane', 4), ('lipsitz', 4), ('create', 4), ('returns', 4), ('ross', 4), ('died', 4), ('t.co/axbsphvlvz', 4), ('thinking', 4), ('gas', 4), ('minecraft', 4), ('flow', 4), ('catch', 4), ('might', 4), ('graduation', 4), ('senate', 4), ('progress', 4), ('writer', 4), ('server', 4), ('network', 4), ('mr', 4), ('clean', 4), ('accepting', 4), ('receives', 4), ('followed', 4), ('throwbackthursday', 4), ('miguel', 4), ('fairuseweek', 4), ('brings', 4), ('energy', 4), ('openreflections', 4), ('collaboratively', 4), ('raza', 4), ('gogauchos', 4), ('kickoff', 4), ('vice', 4), ('kcsb-fm', 4), ('deadweek', 4), ('completed', 4), ('1965', 4), ('scholarledoa', 4), ('collab', 4), ('politics', 4), ('known', 4), ('jonjab', 4), ('efforts', 4), ('fellowship', 4), ('returning', 4), ('pay', 4), ('funded', 4), ('hard', 4), ('paigelib', 4), ('1970s', 4), ('trying', 4), ('showcase', 4), ('swcarpentry', 4), ('closes', 4), ('t.co/ghmebq2uqv', 4), ('cast', 4), ('production', 4), ('presenting', 4), ('ucsbreads2019', 4), ('ucsb_english', 4), ('scan', 4), ('code', 4), ('pictured', 4), ('maybe', 4), ('empty', 4), ('ucsbgsa', 4), ('immigration', 4), ('solar', 4), ('chemistry', 4), ('oh', 4), ('answering', 4), ('b', 4), ('nancy', 4), ('storke', 4), ('eap', 4), ('ucsbeap', 4), ('france', 4), ('thomasfire', 4), ('appreciation', 4), ('united', 4), ('friendly', 4), ('t-shirt', 4), ('line', 4), ('heart', 4), ('1973', 4), ('8-story', 4), ('check-in', 4), ('check-out', 4), ('flash', 4), ('executive', 4), ('fdlp', 4), ('pres', 4), ('mother', 4), ('mexican', 4), ('manuscript', 4), ('specialcollections', 4), ('assoc', 4), ('song', 4), ('ole', 4), ('brown', 4), ('t.co/gx3fcfiyur', 4), ('furniture', 4), ('ed', 4), ('waiting', 4), ('1967', 4), ('bikes', 4), ('welcomes', 4), ('hooray', 4), ('prevention', 4), ('ride', 4), ('birthday', 4), ('affairs', 4), ('1954', 4), ('sale', 4), ('undated', 4), ('mandapandarawrr', 4), ('lt', 4), ('lit', 4), ('massage', 4), ('lobby', 4), ('beach', 4), ('anywhere', 4), ('dream', 4), ('chair', 4), ('hydration', 4), ('idea', 4), ('vary', 4), ('alarm', 4), ('runners', 4), ('bag', 4), ('bill', 4), ('timothy', 4), ('jie', 4), ('solvang', 4), ('profs', 4), ('newbery', 4), ('caldecott', 4), ('dustin', 4), ('hoffman', 4), ('siordia', 4), ('money', 4), ('donovan', 4), ('t.co/ejkfamyb', 4), ('border', 4), ('cross', 4), ('7:30pm', 3), ('melody', 3), ('lectures', 3), ('pollock', 3), ('adapted', 3), ('alongside', 3), ('sponsor', 3), ('googlequantumai', 3), ('legacies', 3), ('admits', 3), ('💛', 3), ('planet', 3), ('geyer', 3), ('sabrina', 3), ('rolandfgeyer', 3), ('livestream', 3), ('ronald', 3), ('failing', 3), ('principles', 3), ('towards', 3), ('19th', 3), ('n\\\\nif', 3), ('eligible', 3), ('tickets', 3), ('worldquantumday', 3), ('hancock', 3), ('dating', 3), ('heritage', 3), ('successful', 3), ('ballitore', 3), ('methods', 3), ('witness', 3), ('either', 3), ('contributors', 3), ('spent', 3), ('option', 3), ('1980', 3), ('theoretical', 3), ('24-hour', 3), ('t.co/qcmwgx30r8', 3), ('observes', 3), ('behalf', 3), ('glimpse', 3), ('t.co/ssjdfoapbq', 3), ('recommend', 3), ('occupancy', 3), ('paintings', 3), ('refreshments', 3), ('displayed', 3), ('intro', 3), ('5:30', 3), ('licenses', 3), ('edison', 3), ('disc', 3), ('phonograph', 3), ('nisen', 3), ('t.co/mpvwqqkctp', 3), ('reproducible', 3), ('recipient', 3), ('t.co/wysvw56yvp', 3), ('question', 3), ('kcsbnews', 3), ('ucsbcs', 3), ('entrances', 3), ('mask', 3), ('ten', 3), ('garden', 3), ('programming', 3), ('n\\\\ninfo', 3), ('focused', 3), ('curation', 3), ('visitor', 3), ('sense', 3), ('erin', 3), ('statement', 3), ('na', 3), ('began', 3), ('n\\\\nthe', 3), ('famous', 3), ('choices', 3), ('catalogs', 3), ('updated', 3), ('directly', 3), ('trained', 3), ('humans', 3), ('period', 3), ('god', 3), ('7:30', 3), ('inspiring', 3), ('downloadable', 3), ('limit', 3), ('asked', 3), ('hundred', 3), ('thousand', 3), ('1922', 3), ('holidays', 3), ('sent', 3), ('biggest', 3), ('earlier', 3), ('browse', 3), ('stretch', 3), ('nothing', 3), ('included', 3), ('connect', 3), ('12-3pm', 3), ('decided', 3), ('castro', 3), ('humanity', 3), ('perlin', 3), ('taken', 3), ('futures', 3), ('forces', 3), ('recognition', 3), ('useful', 3), ('understand', 3), ('highest', 3), ('topic', 3), ('lidia', 3), ('openaccessweek', 3), ('identify', 3), ('strategies', 3), ('filipina/o', 3), ('hispanic', 3), ('jane', 3), ('heritages', 3), ('pdt', 3), ('toward', 3), ('texts', 3), ('textbooks', 3), ('locations', 3), ('charging', 3), ('laptops', 3), ('agree', 3), ('11am-2pm', 3), ('clues', 3), ('puzzle', 3), ('certificate', 3), ('places', 3), ('citizens', 3), ('renewal/rebirth', 3), ('tragic', 3), ('forbes', 3), ('commitment', 3), ('regardless', 3), ('rachael_scar', 3), ('2,500', 3), ('1930s', 3), ('armstrong', 3), ('doc', 3), ('company', 3), ('worked', 3), ('ucdavis', 3), ('3,000', 3), ('preserved', 3), ('august', 3), ('marisol', 3), ('vaccines', 3), ('alexandria', 3), ('publicly', 3), ('robust', 3), ('arrived', 3), ('systemwide', 3), ('land', 3), ('vaccinated', 3), ('cottagehealth', 3), ('allows', 3), ('cheers', 3), ('assessment', 3), ('maintenance', 3), ('vpn', 3), ('publishes', 3), ('1900s', 3), ('songs', 3), ('worldwide', 3), ('uc-wide', 3), ('prepare', 3), ('ucdavislibrary', 3), ('fashion', 3), ('develop', 3), ('adaptive', 3), ('raised', 3), ('becoming', 3), ('animator', 3), ('chikowero', 3), ('nominated', 3), ('clinic', 3), ('reserved', 3), ('guidance', 3), ('7th', 3), ('resilience', 3), ('t.co/xyo0tdscx3', 3), ('longer', 3), ('phase', 3), ('address', 3), ('leaders', 3), ('mitigate', 3), ('iraqi', 3), ('academics', 3), ('colleagues', 3), ('👏', 3), ('mental', 3), ('prizes', 3), ('turned', 3), ('moore', 3), ('addressing', 3), ('30th', 3), ('greg', 3), ('generations', 3), ('announces', 3), ('attitudes', 3), ('within', 3), ('econ', 3), ('answers', 3), ('n\\\\nphoto', 3), ('🥰', 3), ('spirit', 3), ('dean', 3), ('⬇️', 3), ('direct', 3), ('accepted', 3), ('agreements', 3), ('posters', 3), ('enewsletter', 3), ('practices', 3), ('produce', 3), ('500', 3), ('medical', 3), ('dive', 3), ('goes', 3), ('des', 3), ('2/2', 3), ('youth', 3), ('halipalombo', 3), ('ashabandele', 3), ('grads', 3), ('van', 3), ('gorgeous', 3), ('usb', 3), ('clirjobs', 3), ('african-american', 3), ('easy', 3), ('mysterious', 3), ('co-sponsored', 3), ('ucsb_asamst', 3), ('roosevelt', 3), ('sponsoring', 3), ('consult', 3), ('exact', 3), ('faqs', 3), ('manager', 3), ('alex', 3), ('regan', 3), ('prepared', 3), ('kicks', 3), ('significance', 3), ('clock', 3), ('celebrations', 3), ('openforwhom', 3), ('tests', 3), ('symptoms', 3), ('traveled', 3), ('boxes', 3), ('loss', 3), ('father', 3), ('lot', 3), ('temple', 3), ('housing', 3), ('1,400', 3), ('theatrical', 3), ('canotify', 3), ('positive', 3), ('apple', 3), ('instructions', 3), ('aesthetics', 3), ('playlist', 3), ('correspondence', 3), ('el', 3), ('digitizing', 3), ('whole', 3), ('brand', 3), ('dreams', 3), ('diverse', 3), ('robert', 3), ('collected', 3), ('t.co/7fo70zpy1v', 3), ('safety', 3), ('alonzo', 3), ('techniques', 3), ('3pm', 3), ('10/27', 3), ('lucky', 3), ('feat', 3), ('snapshot', 3), ('specialists', 3), ('honoring', 3), ('setting', 3), ('task', 3), ('grants', 3), ('t.co/9k9gdoyqdz', 3), ('shout', 3), ('became', 3), ('economy', 3), ('successfully', 3), ('ucvotes', 3), ('del', 3), ('picks', 3), ('80', 3), ('nutrition', 3), ('courses', 3), ('circumstances', 3), ('reopens', 3), ('africa', 3), ('child', 3), ('alumna', 3), ('alalibrary', 3), ('1978', 3), ('1979', 3), ('spoke', 3), ('cleaning', 3), ('icpsr', 3), ('ucsbmusicdept', 3), ('dynamic', 3), ('position', 3), ('scholar-led', 3), ('ucsf', 3), ('regents', 3), ('michael', 3), ('v', 3), ('organize', 3), ('n\\\\nwe', 3), ('geek', 3), ('freely', 3), ('blacklivesmatter', 3), ('spotlight', 3), ('worker', 3), ('centerucsb', 3), ('violence', 3), ('york', 3), ('hayden', 3), ('davies', 3), ('bottle', 3), ('actively', 3), ('tells', 3), ('tom', 3), ('specialist', 3), ('hart', 3), ('order', 3), ('elizabeth', 3), ('opensource', 3), ('closer', 3), ('marks', 3), ('delany', 3), ('conducting', 3), ('ya', 3), ('sheepscotco', 3), ('examines', 3), ('considers', 3), ('e', 3), ('forthcoming', 3), ('background', 3), ('nexus', 3), ('workers', 3), ('memorable', 3), ('steel', 3), ('streaming', 3), ('loans', 3), ('expert', 3), ('closing', 3), ('door', 3), ('twitter', 3), ('strong', 3), ('candidate', 3), ('stars', 3), ('administration', 3), ('game', 3), ('creativity', 3), ('formal', 3), ('eastside', 3), ('ken', 3), ('faulkner', 3), ('greatest', 3), ('manuscripts', 3), ('enthusiasm', 3), ('eat', 3), ('device', 3), ('readings', 3), ('excellent', 3), ('battle', 3), ('states', 3), ('particularly', 3), ('enjoyed', 3), ('blue', 3), ('arlnews', 3), ('shout-out', 3), ('ucsandiego', 3), ('covcampus', 3), ('lborouniversity', 3), ('resengland', 3), ('helps', 3), ('overcome', 3), ('ucsbsustainable', 3), ('justin', 3), ('double', 3), ('coastal', 3), ('recycling', 3), ('bins', 3), ('waste', 3), ('uehling', 3), ('1994', 3), ('comment', 3), ('141', 3), ('economics', 3), ('fabulous', 3), ('metadata', 3), ('whom', 3), ('miles', 3), ('accommodate', 3), ('stations', 3), ('8-10', 3), ('eastern', 3), ('senior', 3), ('givingtuesday', 3), ('roots', 3), ('carnegie', 3), ('scene', 3), ('cambridge', 3), ('run', 3), ('served', 3), ('ernest', 3), ('dewey', 3), ('theme', 3), ('t.co/lkngd611rn', 3), ('religion', 3), ('attempt', 3), ('reach', 3), ('radicaloa', 3), ('oaweek2019', 3), ('problem', 3), ('went', 3), ('78', 3), ('archived', 3), ('brainstorm', 3), ('tribute', 3), ('fly', 3), ('usa', 3), ('francisco', 3), ('ucsbche', 3), ('lehár', 3), ('mock', 3), ('marriage', 3), ('studio', 3), ('scott', 3), ('daniel', 3), ('eleanor', 3), ('flr', 3), ('qr', 3), ('oaweek2018', 3), ('alternative', 3), ('11am', 3), ('chosen', 3), ('roof', 3), ('2am', 3), ('hot', 3), ('begun', 3), ('kim', 3), ('mcdbucsb', 3), ('carlos', 3), ('nights', 3), ('shirley', 3), ('japan', 3), ('instagram', 3), ('brief', 3), ('futuregauchos', 3), ('imprint', 3), ('stickers', 3), ('warrior', 3), ('jeffrey', 3), ('mss', 3), ('til', 3), ('grosenheider', 3), ('reps', 3), ('angeles', 3), ('andrew', 3), ('10pm', 3), ('feed', 3), ('outages', 3), ('exception', 3), ('patrol', 3), ('covered', 3), ('remind', 3), ('drive', 3), ('thankful', 3), ('scanners', 3), ('hosts', 3), ('street', 3), ('bensadventures', 3), ('flowers', 3), ('marine', 3), ('symmetry', 3), ('ucsb_gradpost', 3), ('allen', 3), ('war', 3), ('silkscreen', 3), ('favianna', 3), ('en', 3), ('bibliophile', 3), ('played', 3), ('chicana', 3), ('profile', 3), ('death', 3), ('paradise', 3), ('artistsbooks', 3), ('performance', 3), ('radical', 3), ('pai', 3), ('wide', 3), ('struggle', 3), ('patricia', 3), ('assistants', 3), ('cert', 3), ('srcreadinglist', 3), ('plate', 3), ('costume', 3), ('gone', 3), ('peace', 3), ('forestsways', 3), ('ur', 3), ('patio', 3), ('girls', 3), ('male', 3), ('profiled', 3), ('letting', 3), ('gov', 3), ('eduroam', 3), ('trouble', 3), ('joyce', 3), ('try', 3), ('dictionary', 3), ('gifford', 3), ('1959', 3), ('warm', 3), ('gives', 3), ('lichao2012', 3), ('box', 3), ('coloring', 3), ('booker', 3), ('govdocs', 3), ('bus', 3), ('unsung', 3), ('codex', 3), ('replaced', 3), ('english', 3), ('charge', 3), ('jack', 3), ('calls', 3), ('counts', 3), ('cheese', 3), ('g', 3), ('super', 3), ('speech', 3), ('h', 3), ('sbindpndnt', 3), ('1910', 3), ('leed', 3), ('yearbook', 3), ('35', 3), ('harper', 3), ('ucsbamplified', 3), ('hectorsanchezc', 3), ('pics', 3), ('3:30-5:30', 3), ('send', 3), ('wonderland', 3), ('higher', 3), ('teddy', 3), ('jorgemet', 3), ('academy', 3), ('ny', 3), ('reinventing', 3), ('postcard', 3), ('101', 3), ('cars', 3), ('station', 3), ('terrific', 3), ('4-story', 3), ('th', 3), ('surf', 3), ('forgotten', 3), ('stairwell', 3), ('magazine', 3), ('malware', 3), ('k-pop', 3), ('4/15', 3), ('offices', 3), ('route', 3), ('restorative', 3), ('flying', 3), ('weekdays', 3), ('chocolate', 3), ('ducks', 3), ('generation', 3), ('joe', 3), ('tables', 3), ('fool', 3), ('corwin', 3), ('wildfire', 3), ('gamboa', 3), ('1500', 3), ('2000', 3), ('champion', 3), ('abboud', 3), ('haddow', 3), ('incoming', 3), ('vincent', 3), ('hoo', 3), ('microform', 3), ('undergo', 3), ('dark', 3), ('library\\\\nfeaturing', 3), ('nhttp', 3), ('kdb-93.7/fm', 3), ('1850', 3), ('s-1920', 3), ('moran', 3), ('versions', 3), ('sheevanesva', 3), ('opinion', 3), ('10th', 2), ('t.co/sjchiuxjlj', 2), ('jue', 2), ('post-screening', 2), ('t.co/ojgnoizsvc', 2), ('queer', 2), ('corporate', 2), ('cite', 2), ('heightened', 2), ('t.co/wjeahsdfeq', 2), ('nextstopucsb', 2), ('roland', 2), ('kingdomforpawn', 2), ('mattjmcewen', 2), ('oharaphysics', 2), ('tokenamerikan', 2), ('prosperity', 2), ('introduces', 2), ('➡️https', 2), ('carseywolfucsb', 2), ('wrote', 2), ('t.co/strmyxuqxf', 2), ('4/14', 2), ('designed', 2), ('intuition', 2), ('foundry', 2), ('14th', 2), ('page.\\\\nhttps', 2), ('hits', 2), ('rewatch', 2), ('collector', 2), ('levin', 2), ('kclulive', 2), ('funding', 2), ('variety', 2), ('rudy', 2), ('goal', 2), ('donate', 2), ('achieve', 2), ('goals', 2), ('investigating', 2), ('fields', 2), ('pop-up', 2), ('phonographs', 2), ('colin', 2), ('demonstrate', 2), ('t.co/lfc90x1o4k', 2), ('greater', 2), ('tutorial', 2), ('meant', 2), ('concepts', 2), ('outreach', 2), ('emlab', 2), ('echelle_burns', 2), ('flower', 2), ('geospatial', 2), ('openrefi', 2), ('votes', 2), ('t.co/koqukiltrs', 2), ('collaborate', 2), ('t.co/uzaigvqa2o', 2), ('umbrellas', 2), ('caught', 2), ('farmworkers', 2), ('dyk', 2), ('melba', 2), ('dame', 2), ('acceptance', 2), ('shelf', 2), ('launching', 2), ('calendars', 2), ('purchase', 2), ('ahead', 2), ('t.co/mw4joqt2ev', 2), ('percent', 2), ('mountainside', 2), ('textbook', 2), ('facts', 2), ('licensing', 2), ('2-3', 2), ('2,400', 2), ('conflict', 2), ('ukraine', 2), ('artifacts', 2), ('sundstrom', 2), ('6-9', 2), ('anti-racism', 2), ('occurring', 2), ('exhibits', 2), ('covid', 2), ('rstudio', 2), ('2-day', 2), ('authoring', 2), ('dlf', 2), ('tango', 2), ('affiliated', 2), ('total', 2), ('soviet', 2), ('3:30', 2), ('pt', 2), ('seminar', 2), ('delighted', 2), ('unlimited', 2), ('biochemical', 2), ('secret', 2), ('lovers', 2), ('lie', 2), ('trustworthy', 2), ('workshop\\\\nfebruary', 2), ('takeover', 2), ('lovedata22', 2), ('busto', 2), ('khuê', 2), ('sra', 2), ('tettegah', 2), ('weld', 2), ('t.co/pduc2ipdqn', 2), ('culminating', 2), ('showcases', 2), ('2/8', 2), ('reflects', 2), ('slide', 2), ('listening', 2), ('habit', 2), ('writes', 2), ('64', 2), ('sbnpnews', 2), ('recap', 2), ('natural', 2), ('venice', 2), ('1940s', 2), ('require', 2), ('allowing', 2), ('reality', 2), ('imprisoned', 2), ('persons', 2), ('datascience', 2), ('robots', 2), ('t.co/x75rbhpns6', 2), ('bias', 2), ('memo', 2), ('pieces', 2), ('stores', 2), ('discussed', 2), ('capture', 2), ('3-17', 2), ('consultations', 2), ('t.co/ue1uozrdp3', 2), ('jessamyn', 2), ('dahr', 2), ('1923', 2), ('checking', 2), ('650', 2), ('thru', 2), ('gems', 2), ('publicdomainday', 2), ('vast', 2), ('t.co/nili74npuy', 2), ('¡feliz', 2), ('n\\\\nimage', 2), ('herd', 2), ('cheer', 2), ('magic', 2), ('subscribes', 2), ('flipping', 2), ('renovations', 2), ('you.\\\\nmore', 2), ('ucsbcits', 2), ('relevance', 2), ('navigate', 2), ('easily', 2), ('item', 2), ('ondas', 2), ('firstgenboost', 2), ('naps', 2), ('meditation', 2), ('summary', 2), ('mini', 2), ('journalists', 2), ('fidel', 2), ('reagan', 2), ('journalism', 2), ('hat', 2), ('78rpm', 2), ('t.co/pk8y0dydzf', 2), ('exploration', 2), ('reviewing', 2), ('behroozparhami', 2), ('arcgis', 2), ('surrounding', 2), ('1920', 2), ('1940', 2), ('filipino', 2), ('names', 2), ('notepad', 2), ('researching', 2), ('myth', 2), ('checked', 2), ('feet', 2), ('benefit', 2), ('structural', 2), ('initiatives', 2), ('t.co/6zspebonqw', 2), ('fate', 2), ('n\\\\na', 2), ('jacobs', 2), ('escholarship', 2), ('compliance', 2), ('policies', 2), ('extend', 2), ('relatively', 2), ('🧠', 2), ('achievements', 2), ('infrastructures', 2), ('filipinas/os', 2), ('1920-1940', 2), ('m-f', 2), ('advancing', 2), ('facilitating', 2), ('1920-40', 2), ('10/20', 2), ('t.co/g29bfkodtn\\\\n\\\\n', 2), ('chicana/o', 2), ('personal', 2), ('letters', 2), ('processed', 2), ('fourth', 2), ('indigenouspeoplesday', 2), ('t.co/fxowfiuzy7', 2), ('nthis', 2), ('native', 2), ('identities', 2), ('scaling', 2), ('cables', 2), ('checklist', 2), ('succeed', 2), ('flyer', 2), ('uziel', 2), ('self-guided', 2), ('solve', 2), ('mural', 2), ('histories', 2), ('t.co/gciuv1qqyk', 2), ('rank', 2), ('september11', 2), ('reopened', 2), ('n\\\\nyou', 2), ('egg', 2), ('rooms', 2), ('outstanding', 2), ('excellence', 2), ('dutchgirlusa', 2), ('tried', 2), ('masks', 2), ('indoor', 2), ('rachaelscar', 2), ('previous', 2), ('attributed', 2), ('howardu', 2), ('csunorthridge', 2), ('docs', 2), ('18th', 2), ('quaker', 2), ('ballitoreproj', 2), ('wrong', 2), ('insights', 2), ('gennett', 2), ('masters', 2), ('labels', 2), ('findings', 2), ('104', 2), ('sbpl', 2), ('thursdays', 2), ('moderna', 2), ('t.co/p5zsraebr5', 2), ('trip', 2), ('editions', 2), ('sort', 2), ('efficient', 2), ('integrated', 2), ('window', 2), ('💉', 2), ('capstone', 2), ('implementation', 2), ('library-circ', 2), ('ucsb.edu', 2), ('t.co/areohveva9', 2), ('approved', 2), ('exemption', 2), ('on-campus', 2), ('140', 2), ('essential', 2), ('fox', 2), ('sections', 2), ('connected', 2), ('established', 2), ('off-campus', 2), ('guided', 2), ('types', 2), ('vaccine', 2), ('shift', 2), ('functions', 2), ('t.co/tfyacuzkda', 2), ('70', 2), ('zinesters', 2), ('primarily', 2), ('regulations', 2), ('ucilib', 2), ('uclibrarians', 2), ('💛💙💛', 2), ('leapingrobot', 2), ('pridemonth', 2), ('knowing', 2), ('pulled', 2), ('floyd', 2), ('disneystudios', 2), ('delivered', 2), ('installment', 2), ('juneteenth', 2), ('ucsb2021', 2), ('machine', 2), ('fyi', 2), ('needing', 2), ('t.co/jwpdtdnnyk', 2), ('closely', 2), ('fine', 2), ('noelle', 2), ('demand', 2), ('suggest', 2), ('criteria', 2), ('hotoffthepod', 2), ('t.co/ihbfzyt0k2', 2), ('illustrate', 2), ('homes', 2), ('color', 2), ('facilities', 2), ('pia', 2), ('bibliography', 2), ('goodbye', 2), ('demystifying', 2), ('t.co/lolll9okuf', 2), ('compete', 2), ('mnpgrue', 2), ('thoughtful', 2), ('inclusive', 2), ('muniba', 2), ('saleem', 2), ('lane', 2), ('mary-michelle', 2), ('misinformation', 2), ('t.co/2b9tknifx9', 2), ('celebrated', 2), ('1970', 2), ('brewer', 2), ('cap-and-trade', 2), ('gain', 2), ('trial', 2), ('instead', 2), ('enroll', 2), ('judith', 2), ('intersection', 2), ('on-site', 2), ('countyofsb', 2), ('javanbakht', 2), ('projectmuse', 2), ('young', 2), ('organizers', 2), ('connection', 2), ('internal', 2), ('cleared', 2), ('pioneering', 2), ('significantly', 2), ('t.co/deb9mu0zwp', 2), ('committed', 2), ('fostering', 2), ('t.co/jxinwuvnel', 2), ('portion', 2), ('amount', 2), ('happen', 2), ('negotiating', 2), ('landmark', 2), ('incl', 2), ('mou', 2), ('universal', 2), ('costs', 2), ('1911', 2), ('quiz', 2), ('workforce', 2), ('resident', 2), ('millions', 2), ('secrets', 2), ('fittest', 2), ('previously', 2), ('oaks', 2), ('der', 2), ('eerily', 2), ('retrospective', 2), ('analytics', 2), ('primrosepress', 2), ('blassingame', 2), ('printmaker', 2), ('loops', 2), ('colorful', 2), ('presidency', 2), ('fight', 2), ('equality', 2), ('asha', 2), ('bandele', 2), ('dialogue', 2), ('hannah', 2), ('israel', 2), ('guardians', 2), ('11-15', 2), ('meanwhile', 2), ('effectively', 2), ('blueprint', 2), ('contents', 2), ('vdehejia', 2), ('broadcast', 2), ('handling', 2), ('filters', 2), ('hospital', 2), ('memorabilia', 2), ('auld', 2), ('lang', 2), ('syne', 2), ('broadcasting', 2), ('christmas', 2), ('laboratory', 2), ('claudia', 2), ('friend', 2), ('undergraduates', 2), ('lists', 2), ('t.co/fmnjy2wh6w', 2), ('relation', 2), ('increasingly', 2), ('11:30', 2), ('editors', 2), ('scholarlycommunication', 2), ('navigating', 2), ('ala_acrl', 2), ('helenlmorales', 2), ('insurance', 2), ('suggests', 2), ('appreciate', 2), ('interviewing', 2), ('transgender', 2), ('faces', 2), ('awaits', 2), ('researchlibraries', 2), ('links', 2), ('📱', 2), ('someone', 2), ('revealed', 2), ('absolutely', 2), ('democracy', 2), ('seek', 2), ('attention', 2), ('risk', 2), ('exposure', 2), ('gather', 2), ('accordion', 2), ('clancynewyork', 2), ('pamelacolloff', 2), ('treasure', 2), ('trove', 2), ('t.co/ttuxuxpeet', 2), ('veteransday', 2), ('tuskegee', 2), ('airmen', 2), ('sports', 2), ('retrieved', 2), ('cuba', 2), ('veteran', 2), ('military', 2), ('longtime', 2), ('hopes', 2), ('t.co/gqm6ekhrpo', 2), ('agreed', 2), ('multiple', 2), ('departments', 2), ('co-sponsor', 2), ('ihcucsb', 2), ('recommendations', 2), ('palm', 2), ('speakers', 2), ('rod', 2), ('lathim', 2), ('theatre', 2), ('assigned', 2), ('listed', 2), ('electionday', 2), ('1985', 2), ('widely', 2), ('advanced', 2), ('1972', 2), ('coverage', 2), ('rich', 2), ('openbookpublish', 2), ('options', 2), ('accessed', 2), ('incredibly', 2), ('versaceeali', 2), ('💙💛', 2), ('documentary', 2), ('crip', 2), ('disabilities', 2), ('directors', 2), ('remarkable', 2), ('challenging', 2), ('sexual', 2), ('t.co/bgpnghju10', 2), ('6-7pm', 2), ('300', 2), ('encourage', 2), ('affected', 2), ('anonymous', 2), ('purple', 2), ('moves', 2), ('enough', 2), ('60-minute', 2), ('theolinstudio', 2), ('sets', 2), ('non-ucsb', 2), ('raffle', 2), ('fascinating', 2), ('t.co/l39hv7voll', 2), ('wanting', 2), ('lifelong', 2), ('stand', 2), ('40', 2), ('registered', 2), ('ucpd', 2), ('road', 2), ('t.co/vd6mfzgvot', 2), ('n\\\\nsee', 2), ('t.co/g3x8jtylfg', 2), ('partnered', 2), ('talented', 2), ('restricted', 2), ('2.5', 2), ('1920s', 2), ('china', 2), ('capublichealth', 2), ('surge', 2), ('measure', 2), ('larry', 2), ('sautter', 2), ('tracie', 2), ('kitp_ucsb', 2), ('establishing', 2), ('glimpses', 2), ('ereignisyu', 2), ('wash', 2), ('madison', 2), ('one-hour', 2), ('memoirs', 2), ('removed', 2), ('wo', 2), ('heads', 2), ('🥳', 2), ('festival', 2), ('piano', 2), ('león', 2), ('nread', 2), ('t.co/vvqkz6wsk5', 2), ('cloth', 2), ('usatoday', 2), ('federal', 2), ('staying', 2), ('harvard', 2), ('t.co/exe8xnmsyr', 2), ('faq', 2), ('gifts', 2), ('category', 2), ('delivery', 2), ('weighs', 2), ('poem', 2), ('1,000', 2), ('memorandum', 2), ('collaborating', 2), ('assembly', 2), ('worth', 2), ('poems', 2), ('park', 2), ('ucsbcnsi', 2), ('sbmuseart\\\\n', 2), ('moxisb', 2), ('best-selling', 2), ('none', 2), ('despite', 2), ('brilliant', 2), ('feeling', 2), ('non', 2), ('type', 2), ('vs', 2), ('libnofcongress', 2), ('relevant', 2), ('libguide', 2), ('systemic', 2), ('police', 2), ('brutality', 2), ('entirely', 2), ('ending', 2), ('arl', 2), ('gate', 2), ('ucsb2020', 2), ('mountains', 2), ('painting', 2), ('upload', 2), ('katherine', 2), ('sixth', 2), ('reflection', 2), ('extending', 2), ('ucsbpsych', 2), ('submission', 2), ('visits', 2), ('specifically', 2), ('jeremy', 2), ('seminars', 2), ('procedures', 2), ('calling', 2), ('vital', 2), ('initiated', 2), ('volumes', 2), ('nehgov', 2), ('chris', 2), ('hole', 2), ('simulation', 2), ('various', 2), ('inclusion', 2), ('t.co/xofr405w9w', 2), ('encouraged', 2), ('on-line', 2), ('rush', 2), ('ethanochang', 2), ('leadership', 2), ('struggles', 2), ('t.co/bcwa81cwqu', 2), ('edge', 2), ('leah', 2), ('4.5', 2), ('t.co/zhgkxail3v', 2), ('allowed', 2), ('missing', 2), ('impressed', 2), ('letter', 2), ('n\\\\nfrom', 2), ('archiveshashtagparty', 2), ('backgrounds', 2), ('investinopen', 2), ('hello', 2), ('remotely', 2), ('forty', 2), ('scale', 2), ('individual', 2), ('films', 2), ('ultimate', 2), ('drops', 2), ('t.co/a0rhcpb6oj', 2), ('basic', 2), ('emergencies', 2), ('priority', 2), ('operating', 2), ('situation', 2), ('strength', 2), ('beings', 2), ('photography', 2), ('stewart', 2), ('ph.d', 2), ('demonstrated', 2), ('jazz', 2), ('knight', 2), ('floydnorman', 2), ('sbjhcondors', 2), ('draws', 2), ('1990', 2), ('ucsbreads2020-themed', 2), ('reuse', 2), ('long-term', 2), ('ucsb_rha', 2), ('wildlife', 2), ('shirts', 2), ('t.co/vzyvscxhyo', 2), ('reaching', 2), ('discontinued', 2), ('joy', 2), ('interacting', 2), ('n\\\\nsubmit', 2), ('collectively', 2), ('bigger', 2), ('on-air', 2), ('advisor', 2), ('kcsb.org', 2), ('preferred', 2), ('combines', 2), ('ucsbpolisci', 2), ('microwaves', 2), ('circuiting', 2), ('1999', 2), ('lakers', 2), ('chrisinslc', 2), ('jaketapper', 2), ('shaq', 2), ('highlighted', 2), ('paula_c_vega', 2), ('lancasteruni', 2), ('trincollcam', 2), ('arias573', 2), ('drgarethcole', 2), ('joe_dev', 2), ('martin_eve', 2), ('eferwerda', 2), ('rupertgatti', 2), ('marcell', 2), ('samoore', 2), ('graham_stone', 2), ('arcadiafund', 2), ('indeed', 2), ('janneke', 2), ('strategic', 2), ('framework', 2), ('empowoa', 2), ('microwave', 2), ('gray', 2), ('julie', 2), ('1/18', 2), ('perspective', 2), ('control', 2), ('git', 2), ('keytnc3', 2), ('alison', 2), ('sir', 2), ('officially', 2), ('kicked', 2), ('ucsbreads2020.\\\\np.s', 2), ('selfies', 2), ('community-led', 2), ('compost', 2), ('pretty', 2), ('charlton', 2), ('flags', 2), ('devices', 2), ('1933', 2), ('1934', 2), ('1938', 2), ('depression-era', 2), ('long-forgotten', 2), ('localhistory', 2), ('ring', 2), ('underwater', 2), ('developed', 2), ('owe', 2), ('footesea', 2), ('stopped', 2), ('t.co/s0evfrqj1o', 2), ('reveal', 2), ('village', 2), ('dances', 2), ('t.co/pk8y0dh2hh', 2), ('mellon', 2), ('unveiling', 2), ('co2', 2), ('serious', 2), ('greenhouse', 2), ('4-6', 2), ('insightful', 2), ('operation', 2), ('commencement', 2), ('lopez', 2), ('2-4', 2), ('transformation', 2), ('iannagoski', 2), ('deeper', 2), ('drives', 2), ('explained', 2), ('structure', 2), ('monitor', 2), ('spokenwebcanada', 2), ('jcsped', 2), ('weirdness', 2), ('feaster', 2), ('iubloomington', 2), ('namleti', 2), ('nyuniversity', 2), ('mattrubery', 2), ('qmul', 2), ('ian', 2), ('producer', 2), ('trust', 2), ('transparency', 2), ('wrap', 2), ('affordable', 2), ('asking', 2), ('troubleshoot', 2), ('crash', 2), ('draft', 2), ('serials', 2), ('newspapers', 2), ('analyzing', 2), ('destination', 2), ('studentsuccess', 2), ('jean23bean', 2), ('subscriptions', 2), ('submitting', 2), ('eric', 2), ('turkish', 2), ('rpm', 2), ('lasting', 2), ('smithsonianmag', 2), ('gwendolynawu', 2), ('majority', 2), ('graduated', 2), ('range', 2), ('wordpress', 2), ('appointed', 2), ('morrison', 2), ('partnering', 2), ('wind', 2), ('neil', 2), ('planting', 2), ('complex', 2), ('complicated', 2), ('ecosystem', 2), ('13th', 2), ('recognizes', 2), ('sbmuseart', 2), ('cnsi', 2), ('annotated', 2), ('assignment', 2), ('representation', 2), ('standards', 2), ('remarks', 2), ('approaches', 2), ('tweeting', 2), ('←', 2), ('dh+lib', 2), ('petroleum', 2), ('vietnam', 2), ('illustrator', 2), ('4/25', 2), ('librarianship', 2), ('janet', 2), ('napolitano', 2), ('learned', 2), ('booth', 2), ('communitybuilt', 2), ('signed', 2), ('trans', 2), ('plaza', 2), ('dh', 2), ('respond', 2), ('libraryjobs\\\\nhttps', 2), ('entrant', 2), ('premiere', 2), ('loberotheatre', 2), ('eembucsb', 2), ('franz', 2), ('introduce', 2), ('re-telling', 2), ('khue', 2), ('sameer', 2), ('ty', 2), ('xiaojian', 2), ('zhao', 2), ('nlocation', 2), ('thi', 2), ('bui', 2), ('quantities', 2), ('wilkins', 2), ('organization', 2), ('forum', 2), ('division', 2), ('drink', 2), ('chem', 2), ('paths', 2), ('admin', 2), ('illustrated', 2), ('sunshine', 2), ('600', 2), ('latina', 2), ('primavera', 2), ('ccs', 2), ('liu', 2), ('expanding', 2), ('gay', 2), ('nguyen', 2), ('spots', 2), ('joins', 2), ('grid', 2), ('swirls', 2), ('mike', 2), ('garcia', 2), ('sing', 2), ('ward', 2), ('cell', 2), ('helpful', 2), ('univ', 2), ('spending', 2), ('ucsb2018', 2), ('hssb', 2), ('baby', 2), ('ucsbstaff', 2), ('10:30', 2), ('dedicated', 2), ('lecturer', 2), ('generously', 2), ('ucsb_ling', 2), ('ucsbtmp', 2), ('prepping', 2), ('ibisworld', 2), ('lawn', 2), ('ucsbcareer', 2), ('ecodatasci', 2), ('bisou', 2), ('artandfeminism', 2), ('edit-a-thon', 2), ('t.co/sjavjpbe3f', 2), ('minds', 2), ('runs', 2), ('korea', 2), ('sociology', 2), ('4:30pm', 2), ('valid', 2), ('trophy', 2), ('leo', 2), ('worldpoetryday', 2), ('dpla', 2), ('ancient', 2), ('11am-3pm', 2), ('write-up', 2), ('lucy', 2), ('holtsnider', 2), ('general', 2), ('galaxsea', 2), ('dahomey', 2), ('mtn', 2), ('pacificpride', 2), ('hoelle', 2), ('anthropology', 2), ('rainforest', 2), ('fifth', 2), ('donates', 2), ('1991', 2), ('captured', 2), ('cree', 2), ('nations', 2), ('passing', 2), ('distribute', 2), ('12/23', 2), ('ema', 2), ('plenty', 2), ('wifi', 2), ('passes', 2), ('ucla_powell', 2), ('ucla_yrl', 2), ('postponed', 2), ('12/11', 2), ('outlets', 2), ('instability', 2), ('electricity', 2), ('sunrise', 2), ('smoke', 2), ('donuts', 2), ('intermittent', 2), ('likely', 2), ('lock', 2), ('travels', 2), ('gloria', 2), ('steinem', 2), ('x', 2), ('beat', 2), ('kic', 2), ('cole', 2), ('harry', 2), ('cs', 2), ('105', 2), ('stopping', 2), ('nicole', 2), ('jafflerbach', 2), ('lib_data', 2), ('nceas', 2), ('crack', 2), ('stops', 2), ('constitution', 2), ('galaxy', 2), ('nat', 2), ('libcarpentry', 2), ('delve', 2), ('elisabeth', 2), ('england', 2), ('williams', 2), ('lighting', 2), ('ucsb2017', 2), ('onthisdayinhistory', 2), ('thisjustin', 2), ('graffiti', 2), ('nuevo', 2), ('alone', 2), ('universe', 2), ('unusual', 2), ('805', 2), ('chicano/latino', 2), ('destroyed', 2), ('alicia', 2), ('escalante', 2), ('combine', 2), ('otd', 2), ('wwi', 2), ('maddie_hill81d', 2), ('keynote', 2), ('eileen', 2), ('ucsbreads2017', 2), ('relief', 2), ('guys', 2), ('90s', 2), ('kids', 2), ('imagination', 2), ('hsien-yung', 2), ('engagement', 2), ('web', 2), ('alanyliu', 2), ('gathered', 2), ('cedric', 2), ('robinson', 2), ('tradition', 2), ('additions', 2), ('pen', 2), ('wild', 2), ('stanley', 2), ('dlibian', 2), ('british', 2), ('anderson', 2), ('quick', 2), ('lisa', 2), ('luis', 2), ('breaks', 2), ('breath', 2), ('helmets', 2), ('leaf', 2), ('ppl', 2), ('sheet', 2), ('pins', 2), (\"o'connor\", 2), ('matters', 2), ('biology', 2), ('happyhalloween', 2), ('🎃', 2), ('jeremydouglass', 2), ('cats', 2), ('2003', 2), ('1970-2016', 2), ('finding', 2), ('hashtag', 2), ('thomasgpadilla', 2), ('initial', 2), ('60s', 2), ('70s', 2), ('hemingway', 2), ('olympics', 2), ('walden', 2), ('acres', 2), ('t.co/43inr4v8fg', 2), ('login', 2), ('t.co/zfzofnqdx1', 2), ('1988', 2), ('54', 2), ('orlando', 2), ('bloomsday', 2), ('baseball', 2), ('dangerous', 2), ('circular', 2), ('80s', 2), ('ezidcdl', 2), ('identifiers', 2), ('i.v', 2), ('tulley', 2), ('nyholm', 2), ('wrath', 2), ('1980s', 2), ('nominee', 2), ('folio', 2), ('educated', 2), ('broadside', 2), ('mass', 2), ('webster', 2), ('perform', 2), ('nlw16', 2), ('dining', 2), ('vending', 2), ('machines', 2), ('grateful', 2), ('edible', 2), ('nominate', 2), ('anticipating', 2), ('p', 2), ('s.b', 2), ('sensor', 2), ('foods', 2), ('reasons', 2), ('clark', 2), ('assassination', 2), ('86', 2), ('1984', 2), ('rules', 2), ('1962', 2), ('registry', 2), ('vernacular', 2), ('andrewsaboss', 2), ('engineers', 2), ('nytimes', 2), ('kate', 2), ('gold', 2), ('certification', 2), ('nasa', 2), ('random', 2), ('tip', 2), ('dorm', 2), ('laura', 2), ('lora', 2), ('filmed', 2), ('associated', 2), ('govt', 2), ('1913', 2), ('herrera', 2), ('plagiarism', 2), ('checks', 2), ('typing', 2), ('column', 2), ('lovely', 2), ('giveaways', 2), ('dancers', 2), ('d_man_roster', 2), ('reinvented', 2), ('dry', 2), ('relax', 2), ('panoramic', 2), ('grades', 2), ('mcintyre', 2), ('star', 2), ('wars', 2), ('1-4', 2), ('meningitis', 2), ('1:30-3:30', 2), ('champions', 2), ('paris', 2), ('ht', 2), ('t.co/rjos03ptq8', 2), ('pd', 2), ('bicycle', 2), ('boingboing', 2), ('ok', 2), ('cesar', 2), ('chavez', 2), ('linguistics', 2), ('peer', 2), ('boris', 2), ('accept', 2), ('pressure', 2), ('soviets', 2), ('scenic', 2), ('backtothefuture', 2), ('nicolas', 2), ('printed', 2), ('pleasure', 2), ('casillas', 2), ('noon-2', 2), ('mccullough', 2), ('mechanical', 2), ('nick', 2), ('ranking', 2), ('dig', 2), ('long-lost', 2), ('chapter', 2), ('barn', 2), ('independence', 2), ('democratize', 2), ('lgbt', 2), ('branch', 2), ('sad', 2), ('ucsb2015', 2), ('jim', 2), ('mccune', 2), ('catalyst', 2), ('girls-in-justice', 2), ('ucsbgauchos', 2), ('evolution', 2), ('eighth', 2), ('participated', 2), ('napier', 2), ('juvenileinjust', 2), ('srb', 2), ('yelp', 2), ('charlotterock', 2), ('pie', 2), ('emerge', 2), ('probably', 2), ('henry_j_medina', 2), ('joaquin', 2), ('becerra', 2), ('oitnb', 2), ('canceled', 2), ('1:30', 2), ('although', 2), ('keys', 2), ('wikipedia', 2), ('ford', 2), ('requires', 2), ('pair', 2), ('studios', 2), ('microscope', 2), ('4-5pm', 2), ('dlg', 2), ('ranked', 2), ('kip', 2), ('fulbeck', 2), ('perchance', 2), ('plane', 2), ('t.co/3ny8xkslda', 2), ('sweet', 2), ('merrrr_love', 2), ('donald', 2), ('t.co/2d0kopicyq', 2), ('rosaayj', 2), ('atlas', 2), ('eco-friendly', 2), ('campus-wide', 2), ('youtube', 2), ('balancing', 2), ('clas', 2), ('balcony', 2), ('lively', 2), ('altmetrics', 2), ('chuck', 2), ('traviswccooper', 2), ('families', 2), ('stella', 2), ('subscription', 2), ('jean', 2), ('market', 2), ('43', 2), ('expect', 2), ('flashing', 2), ('strobes', 2), ('antique', 2), ('integrity', 2), ('3-story', 2), ('bible', 2), ('gabriel', 2), ('loud', 2), ('wireless', 2), ('racks', 2), ('cso', 2), ('result', 2), ('guerrero', 2), ('turns', 2), ('trucks', 2), ('reunion', 2), ('enhanced', 2), ('stack', 2), ('9pm-2am', 2), ('warner', 2), ('traveling', 2), ('cake', 2), ('earplug', 2), ('reference/information', 2), ('informal', 2), ('5am', 2), ('pavilion', 2), ('sbcc', 2), ('classics', 2), ('caffeine', 2), ('larger', 2), ('leiden', 2), ('kclu', 2), ('9:30-11:30am', 2), ('yan', 2), ('boo', 2), ('keyt', 2), ('alarms', 2), ('lately', 2), ('parking', 2), ('dog', 2), ('above', 2), ('lo', 2), ('curriculum', 2), ('nerd', 2), ('banners', 2), ('doubled', 2), ('reviews', 2), ('heroine', 2), ('36', 2), ('mage', 2), ('2500', 2), ('beta', 2), ('chryss', 2), ('yost', 2), ('interviews', 2), ('therapy', 2), ('2006', 2), ('4:30', 2), ('decimators', 2), ('tricycle', 2), ('6pm\\\\n\\\\nsolvang', 2), ('4:30pm\\\\n\\\\nucsb', 2), ('nfeaturing', 2), ('discussion\\\\nfebruary', 2), ('vandenberg', 2), ('vouchers', 2), ('freed', 2), ('slaves', 2), ('lincoln', 2), ('memorize', 2), ('jennifer', 2), ('thompson', 2), ('guess', 2), ('characters', 2), ('1/12', 2), ('everything', 2), ('oliver', 2), ('trivia', 2), ('cookies', 2), ('tree', 2), ('pledge', 2), ('fabio', 2), ('symposium', 2), ('22-26', 2), ('employee', 2), ('hip', 2), ('surfing', 2), ('dissertation', 2), ('format', 2), ('unavailable', 2), ('saw', 2), ('rss', 2), ('busiest', 2), ('refuge', 2), ('cancer', 2), ('sometimes', 2), ('ocean_saver_mmk', 2), ('t.co/gme9nnhd', 2), ('amos', 2), ('mobyduck', 2), ('elected', 2), ('chuckedy', 2), ('worries', 2), ('employers', 2), ('given', 2), ('quack', 2), ('t.co/zqzckwzy', 2), ('8-21', 2), ('macs', 2), ('ellenohh', 2), ('sided', 2), ('2011', 2), ('bit.ly/ixo1jz', 2), ('32', 2), ('hopefully', 2), ('filed', 2), ('1040s', 2), ('skloot', 2), ('cross-disciplinary', 2), ('interethnic', 2), ('9am', 2), ('kindle', 2), ('reunited', 2), ('smugglers', 2), ('son', 2), ('wires', 2), ('dallas', 2), ('suv', 2), ('crosses', 2), ('rio', 2), ('grande', 2), ('smuggler', 2), ('ucsbreads.library.ucsb.edu/events.html', 2), ('borders', 2), ('luria', 2), ('rides', 2), ('towns', 2), ('encinar', 2), ('fortin', 2), ('las', 2), ('flores', 2), ('cuichapa', 2), ('presidio', 2), ('kindness', 2), ('oaxaca', 2), ('veracruz', 2), ('jue.\\\\n\\\\nregister', 1), ('t.co/czb9hpqjaq', 1), ('english.\\\\nregister', 1), ('t.co/hv01boblck', 1), ('bbc', 1), ('n\\\\ntune', 1), ('13:30', 1), ('t.co/x5yyiubp7h', 1), ('njennifer', 1), ('rhee', 1), ('discussion.\\\\nin', 1), ('program.\\\\nrsvp', 1), ('t.co/py9vi1pyhq', 1), ('introspective', 1), ('immersive', 1), ('imagines', 1), ('fantastical', 1), ('calligraphy', 1), ('alienation', 1), ('motherhood', 1), ('time.\\\\nrsvp', 1), ('t.co/okucyqwmg2', 1), ('n\\\\neligible', 1), ('library.\\\\n\\\\nmore', 1), ('t.co/5lsniq07ww', 1), ('t.co/7rkll7mjbh', 1), ('here➡️', 1), ('t.co/sjchiupkdh\\\\n\\\\npresented', 1), ('t.co/oijlbmsfak', 1), ('jonah', 1), ('rosas', 1), ('place🥇in', 1), ('t.co/nakweqeiei', 1), ('t.co/hbrw65vhke', 1), ('💙', 1), ('campus-by-the-sea', 1), ('t.co/k9d4kpz5dd', 1), ('🤣', 1), ('nexustentialism🐣', 1), ('t.co/3mx6zmeihc', 1), ('browsing', 1), ('bookshelf', 1), ('t.co/blguihqhyu', 1), ('companies', 1), ('households', 1), ('peril', 1), ('nucsb', 1), ('prevailing', 1), ('notions', 1), ('eco-efficiency', 1), ('win-win', 1), ('t.co/nfb9wjrpxk', 1), ('t.co/ruiijrmiqv', 1), ('👀➡️https', 1), ('t.co/xxri7gsbnw\\\\n\\\\nfeaturing', 1), ('t.co/ac0qq20tbh', 1), ('t.co/a0lkipbkbi', 1), ('reviving', 1), ('📻🎶\\\\nhttps', 1), ('t.co/sel5df4fdj', 1), ('proposes', 1), ('t.co/hzf9vosall', 1), ('t.co/ufy1xkj2uk', 1), ('4:00pm', 1), ('healthier', 1), ('world.\\\\n\\\\nmore', 1), ('t.co/rvr5q9kvve', 1), ('t.co/ilcgv4y10s', 1), ('t.co/5lsniqhio4', 1), ('t.co/up565yuvli', 1), ('compatible.\\\\nregister➡️', 1), ('t.co/hzf9voaznb\\\\n\\\\nco-sponsored', 1), ('cecsb', 1), ('t.co/iid5qcr9am', 1), ('sci', 1), ('fi', 1), ('t.co/igqtywvlhw', 1), ('events.\\\\n\\\\n1⃣', 1), ('12:30-2', 1), ('1312\\\\ndrop', 1), ('intuition.\\\\nhttps', 1), ('t.co/dhbmujkx7g\\\\n\\\\n2⃣', 1), ('livestream\\\\npanel', 1), ('lives\\\\nhttps', 1), ('t.co/dgoo37lpye', 1), ('gevirtz', 1), ('t.co/ga1tofbjzq', 1), ('t.co/cwnixogfvq', 1), ('industry', 1), ('moderate.\\\\n\\\\n4pm', 1), ('t.co/fm0ahb6bgd', 1), ('nsffunded', 1), ('uchicago', 1), ('t.co/ahqou8etjt', 1), ('epiqc', 1), ('quander', 1), ('t.co/dhbmujkx7g', 1), ('t.co/ahc3yq5d5e', 1), ('12:30-2:00pm', 1), ('quantumday', 1), ('t.co/jxhlanqu3g', 1), ('2022.\\\\n', 1), ('nevent', 1), ('streamed', 1), ('t.co/vpamk2j7oo', 1), ('t.co/wnpyb6laf6', 1), ('42:30.\\\\nhttps', 1), ('t.co/mmewyleycl', 1), ('1903.\\\\nthank', 1), ('t.co/erjiyzsvqg', 1), ('recipients', 1), ('clirnews', 1), ('recordingsatrisk', 1), ('50k', 1), ('pioneer', 1), ('vallée', 1), ('t.co/vhty9eshwj', 1), ('yeahyeahyuri', 1), ('exists', 1), ('t.co/sagreklh1e', 1), ('supported', 1), ('t.co/yurg2uy0un', 1), ('halfway', 1), ('giveday', 1), ('now➡️https', 1), ('t.co/187dgbtdoe', 1), ('t.co/kmbkrehfjc', 1), ('ndonate', 1), ('➡️', 1), ('t.co/187dgbtdoe\\\\n\\\\n', 1), ('t.co/mf6qsbzb9b', 1), ('computational', 1), ('analyze', 1), ('t.co/hend49smuv', 1), ('demo', 1), ('19-century', 1), ('t.co/lfc90x1o4k\\\\n\\\\nthanks', 1), ('t.co/ttsw8s8oyt', 1), ('grammy-nominated', 1), ('multi-instrumentalist', 1), ('engineer', 1), ('t.co/j5n1zn1i7k', 1), ('sa', 1), ('dia', 1), ('rehman', 1), ('t.co/j6xptqjdz3', 1), ('close-captioned', 1), ('3-6', 1), ('contextualize', 1), ('field', 1), ('studies.\\\\nhttps', 1), ('t.co/b8kmdpmkfh\\\\n1/4', 1), ('5-7', 1), ('t.co/re31qcbiod', 1), ('t.co/cjo8mdppzw', 1), ('hands-on', 1), ('t.co/zwy5wfycqk', 1), ('t.co/hkpnm6zg7q', 1), ('🎶\\\\nhear', 1), ('5-piece', 1), ('demonstration.\\\\n\\\\ninfo', 1), ('t.co/z5jkjjpfmw', 1), ('rewarded', 1), ('research.\\\\n\\\\nlearn', 1), ('t.co/xludbnazoo', 1), ('gavin', 1), ('mcdonald', 1), ('jason', 1), ('raster', 1), ('vector', 1), ('ucsblibrary.\\\\n\\\\n💻', 1), ('7-8', 1), ('t.co/1xulbrnbvm\\\\n\\\\n👥', 1), ('t.co/oghymkxldu', 1), ('t.co/nijfsv9pe6', 1), ('t.co/xji688ccpn', 1), ('n\\\\nrsvp', 1), ('t.co/3aymaotlra', 1), ('t.co/pbwxbcshk9', 1), ('t.co/4cpsgkopsx', 1), ('foldingideastogether', 1), ('sciencecom', 1), ('t.co/garehillyt', 1), ('helpdesk', 1), ('walk-up', 1), ('questions.\\\\nmore', 1), ('t.co/749c644irb', 1), ('t.co/lrgwpnscrq', 1), ('t.co/gdypi2lvis', 1), ('t.co/ieh1trovrf', 1), ('ignacio', 1), ('gomez', 1), ('t.co/nw4wgqm3nb', 1), ('t.co/9s1krghxmz', 1), ('melbatoast', 1), ('day\\\\n\\\\n', 1), ('chef', 1), ('auguste', 1), ('escoffier', 1), ('savoy', 1), ('toast', 1), ('australian', 1), ('singer', 1), ('nellie', 1), ('melba\\\\nhttps', 1), ('t.co/h4ifhkcdrp\\\\n\\\\n', 1), ('t.co/yruptfsct0', 1), ('t.co/xcougc1bhy', 1), ('t.co/yzkp34c4kv', 1), ('t.co/qnacxujaw6', 1), ('met', 1), ('farshad', 1), ('sonboldel', 1), ('persian', 1), ('context', 1), ('skilltype', 1), ('🤠', 1), ('t.co/ctnwukipir', 1), ('t.co/gjrulwve3v', 1), ('ominousbosch', 1), ('t.co/9rpkmseetl', 1), ('real-time', 1), ('one-year', 1), ('generates', 1), ('output', 1), ('t.co/oevycpsici', 1), ('t.co/rt36qyikq5', 1), ('t.co/rddxsdvcys', 1), ('t.co/gnxw0jjd1v', 1), ('t.co/ghmebq2uqv\\\\n\\\\nsubmissions', 1), ('t.co/d4juwqptzd', 1), ('korman', 1), ('philosophy', 1), ('t.co/fu5frlfccq\\\\n\\\\n', 1), ('t.co/yfuzv3jxok', 1), ('courtyard.\\\\nenjoy', 1), ('t.co/6vejdhjrj1', 1), ('t.co/tenrtoxr2n', 1), ('inclusiveaccess', 1), ('billing', 1), ('textbookbilling', 1), ('t.co/j3l01htwuy', 1), ('nisen.\\\\n', 1), ('iwd2022', 1), ('t.co/dpjdodfp5r', 1), ('t.co/vgydthnmtx', 1), ('t.co/mik4gawr2h', 1), ('7-11', 1), ('requirements', 1), ('t.co/hgd0bx9ac6\\\\n', 1), ('t.co/4qpxbfrfmd', 1), ('deconstructed', 1), ('assume', 1), ('prior', 1), ('scratch', 1), ('t.co/ecch05p6t9', 1), ('cc_unitedstates', 1), ('skundalib', 1), ('woulibrary', 1), ('oeweekoregon', 1), ('t.co/lbbz5j7wpx', 1), ('thomasedison', 1), ('t.co/jud6za6nkf', 1), ('t.co/phugog4qfy', 1), ('t.co/wvvqubbsh5', 1), ('inventor', 1), ('ground-breaking', 1), ('scientist', 1), ('personally', 1), ('represent', 1), ('uniquely', 1), ('t.co/ft2n65zf1i', 1), ('3/1', 1), ('pwa', 1), ('chiang.\\\\n\\\\nregister', 1), ('t.co/tiysgj9zdg', 1), ('t.co/tongcsez7z', 1), ('captures', 1), ('t.co/vdckb8fkud', 1), ('cooperation', 1), ('thomasedisonnhp', 1), ('rarities', 1), ('unissued', 1), ('pressings', 1), ('t.co/ogv8yjdfxt', 1), ('t.co/lpqx5xjgth', 1), ('example-driven', 1), ('markdown', 1), ('t.co/yzjnxllqyj', 1), ('t.co/yq19mtavv1', 1), ('clir', 1), ('grammy', 1), ('t.co/cxmuaswkcy', 1), ('astor', 1), ('piazzolla', 1), ('composer', 1), ('t.co/pnfluylcao', 1), ('rmarkdown', 1), ('t.co/pwqgfr1v7y', 1), ('t.co/uhinteijt1', 1), ('bard', 1), ('maria', 1), ('sonevytsky', 1), ('stiob', 1), ('comedy', 1), ('irony', 1), ('parody', 1), ('ukrainian', 1), ('punk', 1), ('rock', 1), ('2406', 1), ('t.co/bu1pibyvpy', 1), ('t.co/8lnmwltpkl', 1), ('research.\\\\nmore', 1), ('t.co/aycdobwx5s', 1), ('🎉you', 1), ('t.co/3fol618r0w', 1), ('t.co/9nl9gce9uf', 1), ('follow-up', 1), ('progression', 1), ('t.co/xhwxgvb9hk', 1), ('mandatory', 1), ('accordance', 1), ('3-year', 1), ('t.co/8b95zmwcx0', 1), ('t.co/gqcmcjhza8', 1), ('kbrenmc', 1), ('uwpsychology', 1), ('timdewar1', 1), ('panelist', 1), ('t.co/egzmqtkpmt', 1), ('t.co/yhxi795dwh', 1), ('xóchitl', 1), ('gil', 1), ('collections.\\\\n\\\\nview', 1), ('t.co/mrskfwcdvm', 1), ('t.co/hs7nr0kpxv', 1), ('portland', 1), ('t.co/nlfecjwuyi', 1), ('💙💛📊', 1), ('t.co/zcdquo8x8l', 1), ('storytelling', 1), ('t.co/qeztvxnbsi', 1), ('t.co/cs3siceqyd', 1), ('n\\\\n◾️intro', 1), ('4-7pm', 1), ('n\\\\n◾️zotero', 1), ('basics', 1), ('10-12pm\\\\nadditional', 1), ('1\\\\n\\\\nmore', 1), ('t.co/wtv3aa4x9f', 1), ('formation', 1), ('ties', 1), ('t.co/476j1drcdn', 1), ('t.co/rtozqar2xh\\\\n📈💘', 1), ('📊\\\\nall', 1), ('t.co/38xplfcvbo', 1), ('📈😍💖📊\\\\n', 1), ('nnext', 1), ('n💘', 1), ('justice\\\\n💘', 1), ('3-d', 1), ('visualization\\\\n💘', 1), ('icpsr\\\\n💘', 1), ('github\\\\n💘', 1), ('python\\\\n💘', 1), ('r\\\\n💘', 1), ('n🗓', 1), ('14-18\\\\n🔗', 1), ('t.co/luly9ozfxh', 1), ('t.co/xg7cc1shd2', 1), ('felt', 1), ('mixture', 1), ('emotions', 1), ('nervous', 1), ('succeeds', 1), ('profound', 1), ('empathy', 1), ('t.co/z5l5nciawu', 1), ('misha', 1), ('sharon', 1), ('t.co/pduc2j7epn', 1), ('t.co/1yq1akuccb', 1), ('t.co/0w9gh22yy2\\\\n\\\\n', 1), ('t.co/w5gwkcglvo', 1), ('t.co/fsupqigm7f', 1), ('10.\\\\n\\\\nhttps', 1), ('t.co/cliz6rftxi', 1), ('bars\\\\n\\\\nucsb', 1), ('t.co/tyb2a3fmkv', 1), ('t.co/bnwwmskxlk', 1), ('w\\\\n◾️rudy', 1), ('ucsbreligion\\\\n◾️erin', 1), ('ucsb_asamst\\\\n◾️misha', 1), ('ucsbcs\\\\n◾️sharon', 1), ('centerucsb\\\\nmoderator', 1), ('t.co/vvyr0mgguq', 1), ('ucprezdrake', 1), ('t.co/lwwvazahxe', 1), ('t.co/wo9z2hs9bj', 1), ('lunar', 1), ('tiger', 1), ('🐯\\\\n\\\\nimage', 1), ('prigoff', 1), ('t.co/b7tlvqpyhp', 1), ('t.co/zpedf4prps', 1), ('tied', 1), ('1/25', 1), ('t.co/7eqihqsn1p', 1), ('t.co/o0ojs0zuz3', 1), ('t.co/db2timee2e', 1), ('🕙one', 1), ('t.co/crpt0hnclm', 1), ('t.co/ha46fnr9az', 1), ('ease', 1), ('caitlin', 1), ('henderson', 1), ('wordmagazine', 1), ('63', 1), ('t.co/0f5wipwmcd', 1), ('t.co/el7owmzgvl', 1), ('kick-off', 1), ('community-wide', 1), ('program.\\\\nhttps', 1), ('t.co/dacakbmbpk', 1), ('t.co/geabazdzbr', 1), ('co-director', 1), ('t.co/euycqm0fes', 1), ('t.co/4w1rw18z7a', 1), ('t.co/c9gq4wdudl', 1), ('gab', 1), ('2/1', 1), ('t.co/fempprjx5y', 1), ('t.co/5vllpxq3un', 1), ('coastline', 1), ('kinney', 1), ('pier', 1), ('attraction', 1), ('demise', 1), ('old-timey', 1), ('amusements', 1), ('entertainment', 1), ('tastes', 1), ('age.\\\\n\\\\nsource', 1), ('t.co/gia6wusrq3', 1), ('resuming', 1), ('in-class', 1), ('t.co/ttesfmrn0l', 1), ('heal', 1), ('t.co/5smqlqwcad', 1), ('repcarbajal', 1), ('nsee', 1), ('t.co/koz1jbrtjg', 1), ('t.co/q9qzlwwcpf', 1), ('t.co/pfkayc68f7', 1), ('borchard', 1), ('t.co/fouryezzlr', 1), ('📚🎉\\\\n\\\\nall', 1), ('t.co/srm2xsxhl1', 1), ('commemorating', 1), ('leader', 1), ('t.co/3gtcz6tcdt', 1), ('noozhawk\\\\n\\\\nread', 1), ('t.co/rjmrsmib9s\\\\n\\\\n', 1), ('artificialintelligence', 1), ('100daysofcode', 1), ('python', 1), ('machinelearning', 1), ('bigdata', 1), ('deeplearning', 1), ('nlp', 1), ('iot', 1), ('t.co/ijumtb4gbc', 1), ('typical', 1), ('tools', 1), ('express', 1), ('themselves', 1), ('unconventional', 1), ('n\\\\nlearn', 1), ('t.co/lytjqzhave', 1), ('pathway', 1), ('t.co/hj9bshqi9u', 1), ('technologies.\\\\nhttps', 1), ('t.co/x75rbh8cay', 1), ('t.co/4sl88tp2bd', 1), ('promise', 1), ('capable', 1), ('nabsolutely', 1), ('n\\\\njoin', 1), ('paragraph', 1), ('t.co/ds6ha8ksrs', 1), ('reaffirmed', 1), ('t.co/uxscwfkzp2', 1), ('t.co/uxgh6y88o1', 1), ('prison-to-university', 1), ('pipeline', 1), ('t.co/yyerwssioe', 1), ('outlines', 1), ('t.co/byazj91ymf', 1), ('t.co/loa3wlzexc', 1), ('t.co/ghuibpss0v', 1), ('lileics', 1), ('non-technical', 1), ('t.co/ogznwh1a5i', 1), ('t.co/olakmqjucr', 1), ('t.co/sjx9cyt5ke', 1), ('14-18', 1), ('n◾️handling', 1), ('sensitive', 1), ('sensible', 1), ('way\\\\n◾️how', 1), ('storytelling\\\\nvisit', 1), ('t.co/waaovmvzgk', 1), ('t.co/olakmqjucr\\\\n\\\\nthe', 1), ('vickie', 1), ('vértiz', 1), ('t.co/c6r8rz2mjr', 1), ('appeared', 1), ('1912', 1), ('nearer', 1), ('thee', 1), ('t.co/ekd8miis8o', 1), ('11/13', 1), ('commemorative', 1), ('mlkday\\\\n\\\\nhttps', 1), ('t.co/sivujmd01n', 1), ('t.co/hlq7adxc0h', 1), ('t.co/a8l3dadadl', 1), ('t.co/45op3bbxxx', 1), ('ucsbcrml', 1), ('outline', 1), ('technologies.\\\\nregister', 1), ('t.co/prb8wizosg', 1), ('t.co/hjvxndtasx', 1), ('t.co/ktk6rqftex', 1), ('n👉register', 1), ('t.co/oysi2iaobn', 1), ('t.co/aqiabyiett', 1), ('nlet', 1), ('t.co/oqj6i2rt4g', 1), ('post-doc', 1), ('t.co/6kxwc6cubt', 1), ('t.co/dibb8uxfih', 1), ('n👥only', 1), ('library\\\\n🚫food', 1), ('allowed\\\\n1⃣only', 1), ('n💻library', 1), ('virtual\\\\nmore', 1), ('searches', 1), ('facet', 1), ('5-year', 1), ('increments', 1), ('occasion', 1), ('1:23', 1), ('t.co/47wbcgfowx', 1), ('n🕖reduced', 1), ('t.co/6g02otptsj\\\\n\\\\n🚪users', 1), ('west.\\\\n\\\\n✅upon', 1), ('badge.\\\\n\\\\nmore', 1), ('t.co/bp0ajgejkw', 1), ('estimate', 1), ('nthanks', 1), ('t.co/jw063bnwv9', 1), ('invention', 1), ('entering', 1), ('publicdomain', 1), ('crazy', 1), ('t.co/lq2kt6umis', 1), ('modernization', 1), ('t.co/nili755qm6', 1), ('navidad', 1), ('bas', 1), ('airforce', 1), ('collections\\\\nhttps', 1), ('t.co/w2huxseebm', 1), ('t.co/jrihlqfljp', 1), ('enlightening', 1), ('t.co/5klg35igmg', 1), ('t.co/xgu0frcdvm', 1), ('pre-1923', 1), ('relive', 1), ('christmases', 1), ('🎶https', 1), ('t.co/m1drx3p1vh', 1), ('6:27', 1), ('confirming', 1), ('t.co/ozbyxlwj2g', 1), ('tutorials', 1), ('t.co/ia4yukxon7', 1), ('coping', 1), ('t.co/areko4821r', 1), ('🌈', 1), ('t.co/8v0oahgoyh', 1), ('browzine', 1), ('lets', 1), ('e-journals', 1), ('t.co/2tm2bvw1tv', 1), ('t.co/8vm6kvwmvs', 1), ('three-day', 1), ('retrieve', 1), ('t.co/rlq7qic5st', 1), ('rodney', 1), ('slate', 1), ('t.co/wvegpzaq9o', 1), ('t.co/axsaihbibb', 1), ('ulrikeklinger', 1), ('🌞📚', 1), ('perfectday', 1), ('t.co/yidkuf8sa2', 1), ('levels', 1), ('crowded', 1), ('t.co/xnf5cz9ts8', 1), ('updat', 1), ('t.co/krydoxjm4f', 1), ('t.co/ck8spzoreo', 1), ('substantial', 1), ('amar', 1), ('nawa', 1), ('cmam_tunisie', 1), ('britishlibrary', 1), ('t.co/w1wvch2t3n', 1), ('n◾️quickly', 1), ('actual', 1), ('publication\\\\n◾️', 1), ('netid', 1), ('password\\\\nhere', 1), ('t.co/udghcubyk4', 1), ('t.co/ahtg0n4ky9', 1), ('settings', 1), ('t.co/gsdyvmhnrm', 1), ('t.co/ykojg1pxki', 1), ('yoga', 1), ('origami', 1), ('t.co/nzkzly5mik', 1), ('n\\\\ncome', 1), ('t.co/fhecbd52sg', 1), ('prep', 1), ('n\\\\non', 1), ('t.co/wgt7rkgwd7', 1), ('t.co/myc4ztr1zw', 1), ('canvasses', 1), ('t.co/c6iaemdpbo', 1), ('janegottlieb1', 1), ('timelapse', 1), ('t.co/eetvnlt3ih', 1), ('reporting', 1), ('optimism', 1), ('below.\\\\nhttps', 1), ('t.co/qpsbwublhu', 1), ('t.co/24a3kgvjfq', 1), ('🧢', 1), ('enhances', 1), ('ours', 1), ('t.co/vcxhz3u10k', 1), ('t.co/kc6dymmvsd', 1), ('hero', 1), ('great78project', 1), ('seubert\\\\n\\\\nthis', 1), ('stunning-\\\\nnow', 1), ('4,500', 1), ('t.co/kyzbceg8dm\\\\n\\\\npublic', 1), ('fab', 1), ('t.co/up7hkxymrp', 1), ('10am-9pm', 1), ('relationship', 1), ('debating', 1), ('pondering', 1), ('raises', 1), ('t.co/qt9gkf560g', 1), ('jacquelyngill', 1), ('co-curate', 1), ('t.co/ifcjsog33w', 1), ('t.co/v0h6lqsnff', 1), ('t.co/kdhmaapl4q', 1), ('gisday', 1), ('distributes', 1), ('suite', 1), ('t.co/cqg5rne8ab', 1), ('t.co/enhti3jylv', 1), ('t.co/ljjk6l2ifq', 1), ('17.\\\\nhttps', 1), ('t.co/w2xuwio7rl', 1), ('t.co/pidtddanj0', 1), ('t.co/rdj7wvweum\\\\n', 1), ('sparlabucsb', 1), ('moveucsb', 1), ('11/17', 1), ('t.co/tysckeixyv', 1), ('t.co/4iwgpy6a7q', 1), ('t.co/wmkxxyrutn', 1), ('t.co/bl1fpvpdod', 1), ('filipinx', 1), ('photographer', 1), ('narciso', 1), ('bulosan', 1), ('caliva.\\\\nvia', 1), ('daelyneinhorn\\\\nhttps', 1), ('t.co/uply6gumjr', 1), ('11/5', 1), ('n\\\\ndedicated', 1), ('departed', 1), ('adding', 1), ('t.co/fiaitbwcgl', 1), ('t.co/hbfy7x6kbo', 1), ('t.co/tlefnmbcks', 1), ('t.co/esmzvkx3hx', 1), ('fitting', 1), ('ucsba', 1), ('hans', 1), ('engelmann', 1), ('symphony', 1), ('1909', 1), ('t.co/vdsosd90qp', 1), ('n\\\\ni', 1), ('excerpt', 1), ('nbriefly', 1), ('widens', 1), ('contributes', 1), ('equitable', 1), ('advancement\\\\nlearn', 1), ('t.co/sszogcp6om', 1), ('geographic', 1), ('regions', 1), ('t.co/3wdu89oyxe', 1), ('kmaebrown', 1), ('delennjadzia', 1), ('🥁🥁🥁', 1), ('science-fiction', 1), ('bioethics', 1), ('cyborgs', 1), ('ai.\\\\nmore', 1), ('t.co/4j4uxcdly2', 1), ('programmes', 1), ('reports', 1), ('ceupress', 1), ('livunipress', 1), ('explainer', 1), ('models', 1), ('bpc', 1), ('t.co/x8rlcpztow', 1), ('t.co/rshugz0evf', 1), ('recommendation', 1), ('nwatch', 1), ('t.co/xvpmic0mcu', 1), ('8:22', 1), ('repository', 1), ('t.co/wbcik9ajo0', 1), ('whosebody', 1), ('t.co/sfuyyyyj0s', 1), ('t.co/oebmkxor9l', 1), ('t.co/zixy1otppf', 1), ('t.co/elrseo3imh', 1), ('responsibilities', 1), ('employed', 1), ('non-senate', 1), ('lecturers', 1), ('post-doctoral', 1), ('t.co/cr0ltkwf04', 1), ('t.co/1v1cxocmcr\\\\n\\\\n', 1), ('openaccessweek2021', 1), ('discrepancy', 1), ('t.co/ebdeita4vv', 1), ('emilygjacobs', 1), ('t.co/8obg9ebmb0', 1), ('t.co/mjqr34vavl', 1), ('25-29', 1), ('t.co/zb4fnajbou', 1), ('t.co/tdi40esm1l', 1), ('1920s-1930s', 1), ('t.co/37ngh9bkhx', 1), ('t.co/otgr5njdpb', 1), ('t.co/azebm6mrvt', 1), ('neuroscientist', 1), ('understudied', 1), ('t.co/hnaq7hzxo2', 1), ('ucsbcalpirg', 1), ('n\\\\n◾️ucsb', 1), ('nw', 1), ('uziel\\\\n\\\\n◾️', 1), ('assessing', 1), ('enrollment', 1), ('ucsb\\\\nw', 1), ('angiechikowero\\\\n\\\\nmore', 1), ('t.co/1v1cxocmcr', 1), ('t.co/oemv53x5ig', 1), ('noon-1', 1), ('t.co/1ngfdgfkg2', 1), ('t.co/ymckmiisu0', 1), ('t.co/ga4mt0nqwd', 1), ('sensuousgourmet', 1), ('filipinos', 1), ('fahm', 1), ('t.co/z1aab4ac2b', 1), ('zulueta', 1), ('t.co/1nkzoypxxe', 1), ('t.co/kiqzhtbl93', 1), ('t.co/jomscebp5i', 1), ('filipina/os', 1), ('t.co/vvarzm0z9d', 1), ('t.co/r3ifgobjlh', 1), ('latinx', 1), ('t.co/hewusqywqm', 1), ('ucr_history', 1), ('detective', 1), ('calisphere\\\\nhere', 1), ('🧵on', 1), ('rcaf', 1), ('discussion.\\\\n', 1), ('historydetectivesucr', 1), ('chicanxhistoryucr', 1), ('t.co/zvruxr8ast', 1), ('t.co/tipw9tja6q', 1), ('t.co/wbzkcjvzez', 1), ('t.co/8obg9dtkmq', 1), ('honikman', 1), ('loading', 1), ('t.co/tlwofxaxqf', 1), ('fires', 1), ('plagues', 1), ('notwithstanding…', 1), ('10/26', 1), ('t.co/dz23kq6nht', 1), ('sessions😭', 1), ('t.co/3tpvv7axqe', 1), ('t.co/wbuedmz5jw', 1), ('nthat', 1), ('representation.\\\\n\\\\nhttps', 1), ('knowledge—whose', 1), ('goard', 1), ('live-streamed', 1), ('t.co/atnfneiul4', 1), ('gatherfilm', 1), ('intimate', 1), ('portrait', 1), ('amongst', 1), ('reclaim', 1), ('spiritual', 1), ('sovereignty', 1), ('t.co/2pmaixlesg', 1), ('t.co/cpzf6iy77d', 1), ('specific', 1), ('18/20', 1), ('osc', 1), ('t.co/kdbhqqinnf', 1), ('t.co/bpzsdwol5i\\\\n\\\\n', 1), ('t.co/gltztazqn7', 1), ('reviewed', 1), ('recruiters', 1), ('managers', 1), ('employer', 1), ('t.co/ybysilo6tw', 1), ('t.co/uzxaffznmp', 1), ('💰💰💰', 1), ('t.co/apsf5j8ks6', 1), ('t.co/esvvphum70', 1), ('t.co/szeceuh8uq\\\\n\\\\n', 1), ('t.co/9v4tebec4v', 1), ('forgot', 1), ('mon-thurs', 1), ('10-4', 1), ('10-2', 1), ('t.co/ncgoa0qswc', 1), ('calculators', 1), ('t.co/qcbfzkf7r9', 1), ('t.co/dpz5sxizcx', 1), ('✔️', 1), ('t.co/guyu9aetzw', 1), ('t.co/1fz3z1hb8l', 1), ('government-issued', 1), ('t.co/g9mddmpmha', 1), ('t.co/mwipwzlacj\\\\n\\\\nps', 1), ('t.co/udqafwgbe8', 1), ('multitude', 1), ('tl', 1), ('n\\\\nview', 1), ('t.co/tmqqyykl46\\\\n\\\\n', 1), ('t.co/ediremchwa', 1), ('🗞️🗞️🗞️hot', 1), ('🗞️🗞️🗞️', 1), ('n\\\\nhow', 1), ('future\\\\n\\\\nby', 1), ('communication\\\\n\\\\n', 1), ('t.co/gc0pdcqj9m', 1), ('wed/thur/fri', 1), ('t.co/pdo0twoj0m', 1), ('t.co/mc2h53xzcs', 1), ('n\\\\nthen', 1), ('clue', 1), ('collect', 1), ('go.\\\\n\\\\n', 1), ('ucsbweekofwelcome', 1), ('t.co/qhnubxw32e', 1), ('t.co/wkuxnwtqjo', 1), ('t.co/syguzfixh7', 1), ('yasss', 1), ('t.co/uupvfujhnv', 1), ('sierra_magazine', 1), ('coolest', 1), ('😎', 1), ('t.co/2v4awondik', 1), ('armijo', 1), ('mecha', 1), ('t.co/yfgidwuoi6', 1), ('ancestors', 1), ('spain', 1), ('caribbean', 1), ('t.co/z7np2yyirq', 1), ('t.co/br5xnqtzln', 1), ('t.co/kfqoghneb5', 1), ('t.co/yqsv0nrteq', 1), ('n📚browse', 1), ('books\\\\n💻borrow', 1), ('laptop\\\\n🪑', 1), ('group\\\\n🆒relax', 1), ('nap', 1), ('pods\\\\nand', 1), ('t.co/w6z8bnbnhc', 1), ('🥁', 1), ('t.co/2qitkd889y', 1), ('t.co/nrgnnijbxc', 1), ('eight', 1), ('computing', 1), ('t.co/od3mn1f6am', 1), ('t.co/gqolrgngnj', 1), ('eyewitness', 1), ('t.co/jduqewposa', 1), ('affordability', 1), ('t.co/k3sjwvbovc', 1), ('samfz7', 1), ('t.co/tvbn7ghp3b', 1), ('🎉🎉', 1), ('t.co/eqwm1z5qqw', 1), ('mellaniemf07', 1), ('thoroughly', 1), ('lockdown', 1), ('regularly', 1), ('disinfectant', 1), ('wipes', 1), ('citizen', 1), ('t.co/h56v02rwij\\\\n\\\\n', 1), ('neverforget', 1), ('t.co/lp3bpytm9s', 1), ('t.co/bk7jzsekqw', 1), ('t.co/cciiwm08xt', 1), ('finalizing', 1), ('correcting', 1), ('correctly', 1), ('ballitoreproj\\\\n\\\\nread', 1), ('irish', 1), ('t.co/wduuo6ara9', 1), ('tagged', 1), ('repost', 1), ('correct', 1), ('18th-century', 1), ('ireland', 1), ('uncovering', 1), ('intersections', 1), ('religion.\\\\nmore', 1), ('t.co/wduuo6ssyj', 1), ('t.co/78wcl71eiy', 1), ('descriptions', 1), ('16,000', 1), ('1915-late', 1), ('—including', 1), ('louis', 1), ('autry', 1), ('hoagy', 1), ('carmichael', 1), ('roberts', 1), ('oliver—', 1), ('recordings.\\\\nmore', 1), ('t.co/rv3opyphil', 1), ('independent', 1), ('malcolm', 1), ('rockwell', 1), ('charlie', 1), ('dahan', 1), ('2004.\\\\nhttps', 1), ('t.co/rv3opz6saj', 1), ('t.co/4vnkdhri5a', 1), ('funfriday', 1), ('t.co/nc26g30rox', 1), ('nover', 1), ('t.co/lxgniyfb5x', 1), ('t.co/jdwieshgsb', 1), ('exhausted', 1), ('2-dose', 1), ('t.co/rxz2pceslj', 1), ('bound', 1), ('fernald', 1), ('1891', 1), ('t.co/f6uqhhumhl', 1), ('1855', 1), ('t.co/bxekaup2jd', 1), ('chapikhan', 1), ('circ', 1), ('view.\\\\nhttps', 1), ('t.co/26hu1xc3gn', 1), ('fromthearchives', 1), ('t.co/uzkflzrerv', 1), ('t.co/svk9rcnsje', 1), ('proudly', 1), ('faster', 1), ('digitally-available', 1), ('t.co/uqct7m0i9o', 1), ('crackpots', 1), ('killers', 1), ('fights', 1), ('lamentations', 1), ('rowdy', 1), ('streets', 1), ('t.co/fyuarhedra', 1), ('mandate', 1), ('dose', 1), ('pfizer', 1), ('26.\\\\n\\\\n', 1), ('t.co/p5zsraebr5\\\\n\\\\n', 1), ('t.co/vma1uq0iq7\\\\n\\\\n', 1), ('sbcpublichealth', 1), ('t.co/xjvzjrd12n', 1), ('t.co/rt57rrlwe3', 1), ('ncheck', 1), ('t.co/0w9gh22yy2', 1), ('t.co/mtfwdb8acr', 1), ('sparc_na', 1), ('🎉‼️', 1), ('leadoer', 1), ('enrolment', 1), ('t.co/gha6nmd0de', 1), ('ucmercedlib', 1), ('collection\\\\nhttps', 1), ('t.co/mw3lzwwu2d', 1), ('permanently', 1), ('locate', 1), ('t.co/x8cjjbctzu', 1), ('t.co/mxftrrc61l', 1), ('t.co/wldqyue0it', 1), ('pinching', 1), ('myself', 1), ('strategizing', 1), ('implementing', 1), ('pinch', 1), ('t.co/efja7xsapg', 1), ('first-years', 1), ('severely', 1), ('under-resourced', 1), ('familiarity', 1), ('confidence', 1), ('relationships', 1), ('forged', 1), ('proved', 1), ('deer', 1), ('166', 1), ('t.co/ydidnpfag4', 1), ('t.co/mjou45axvh', 1), ('t.co/e06b1vyriq', 1), ('requiring', 1), ('verify', 1), ('t.co/uvpiqdn54y', 1), ('t.co/i0nc4fdzdc', 1), ('t.co/wb3gm34elf\\\\n\\\\n', 1), ('localpartnership', 1), ('t.co/gwdegpswo6', 1), ('6:30-8:00', 1), ('ezproxy', 1), ('client', 1), ('t.co/ddmyyusc8y\\\\ncheck', 1), ('t.co/slmveqgx4w', 1), ('admission', 1), ('packet', 1), ('t.co/2k1ksqqqnb', 1), ('definitive', 1), ('writings', 1), ('t.co/b0vrmzml8l', 1), ('searchable', 1), ('1800s', 1), ('vaudeville', 1), ('comedic', 1), ('monologues', 1), ('t.co/edrbcr5a1l', 1), ('coolsites', 1), ('partnerships', 1), ('stronger', 1), ('t.co/na5mzivf16', 1), ('safe—book', 1), ('t.co/e22iecct6b', 1), ('t.co/2mmtl3mq3o', 1), ('monumental', 1), ('t.co/rdierekxzv', 1), ('internationalzinemonth', 1), ('t.co/ofpigfiywx\\\\n\\\\n', 1), ('izm2021', 1), ('face-covering', 1), ('workplace', 1), ('enacted', 1), ('calosha', 1), ('t.co/mggoqg77qw', 1), ('ca_dir', 1), ('t.co/1yjwsyt7kc', 1), ('ship', 1), ('fools', 1), ('afloat', 1), ('t.co/qebkna3arp', 1), ('t.co/5hn9prrgpj', 1), ('gordinmichael', 1), ('t.co/60zatfs72o', 1), ('n\\\\nhathitrust', 1), ('t.co/klj2rz7bgx', 1), ('bob', 1), ('nieder', 1), ('aids', 1), ('responded', 1), ('timely', 1), ('9/10', 1), ('t.co/ypxabhhhqh', 1), ('kthomasmcgill', 1), ('know-how', 1), ('t.co/n3vgmfpdkz', 1), ('fall.\\\\n\\\\nsee', 1), ('t.co/hyuvpajseo', 1), ('t.co/qyagrtjznq', 1), ('n◾️individual', 1), ('rooms\\\\n◾️remote', 1), ('spaces\\\\n◾️the', 1), ('center\\\\n\\\\nhttps', 1), ('norman', 1), ('1956', 1), ('cartoon', 1), ('9/16/2019\\\\nhttps', 1), ('t.co/mej1jovely', 1), ('t.co/hluuefqg02', 1), ('t.co/rfzgmnvrrj', 1), ('t.co/blnfvibaqy\\\\n\\\\n', 1), ('juneteenth2021', 1), ('juneteenthfederalholiday', 1), ('t.co/p2pyq5vrn6', 1), ('t.co/cu2phoqb7y', 1), ('t.co/s6ez817hyd', 1), ('aerials', 1), ('photoshop', 1), ('photomerge', 1), ('georeferencing', 1), ('arcgispro', 1), ('3d', 1), ('culvercity', 1), ('baldwinhills', 1), ('ballonacreek', 1), ('bhso', 1), ('t.co/gjwwbw2hgg', 1), ('12-20', 1), ('n1-4', 1), ('15\\\\n9', 1), ('18\\\\nthe', 1), ('up.\\\\nmore', 1), ('t.co/u9v495lxpk', 1), ('scroll', 1), ('messages', 1), ('encouragement', 1), ('t.co/8p0fhxvdhj', 1), ('t.co/9pksv6pgbq', 1), ('student-only', 1), ('t.co/ozv00f5qeo', 1), ('t.co/exrssfz3ws', 1), ('t.co/lck23ppeen', 1), ('badges', 1), ('t.co/ea9t2wud37', 1), ('t.co/v3y3nxwj3u', 1), ('benefitted', 1), ('accomplishments', 1), ('t.co/amgiruehnp', 1), ('single', 1), ('sign-on', 1), ('t.co/k8yogs7x4g', 1), ('t.co/04meytzdlj', 1), ('🏆\\\\n\\\\nhumanities', 1), ('arts\\\\n🥇', 1), ('barr\\\\n🥈', 1), ('ando\\\\n\\\\nsocial', 1), ('sciences\\\\n🥇', 1), ('samantha', 1), ('ellman\\\\n🥈', 1), ('frances', 1), ('woo\\\\n', 1), ('nscience', 1), ('n🥇yilin', 1), ('cao\\\\n🥈ziguang', 1), ('yang\\\\n\\\\nmore', 1), ('t.co/y3ija5qam7', 1), ('deadly', 1), ('attacks', 1), ('memorializes', 1), ('t.co/ntwztyl35a\\\\n💙💛', 1), ('notonemore', 1), ('recapping', 1), ('t.co/b1p2hstun9', 1), ('nyou', 1), ('n✅reserve', 1), ('bridge\\\\n✅study', 1), ('sun-thurs\\\\n✅', 1), ('requested', 1), ('nreserve', 1), ('t.co/o1jfdiprl7', 1), ('t.co/n6kb8xiwlk', 1), ('t.co/zfdliqv8mv', 1), ('co-sponsors', 1), ('nthank', 1), ('t.co/klkzy1n47u', 1), ('t.co/vcf2eiv3ii', 1), ('kala', 1), ('lacy', 1), ('founder', 1), ('holistic', 1), ('marginalization', 1), ('oppression', 1), ('t.co/k7pouevtbi', 1), ('t.co/7wgkgtykwx', 1), ('t.co/axhf8odbwp', 1), ('co-author', 1), ('t.co/yn8psrjdlq', 1), ('founded', 1), ('wake', 1), ('bombing', 1), ('devastated', 1), ('baghdad', 1), ('ucsb_library', 1), ('memorializing', 1), ('murdered', 1), ('educators', 1), ('t.co/2eya9aaipy', 1), ('t.co/t9ymmo6jxd', 1), ('monica', 1), ('freeway', 1), ('t.co/hzwjnfqlib', 1), ('proper', 1), ('protocols', 1), ('t.co/uofl1wh9tj', 1), ('cmesucsb', 1), ('assassinated', 1), ('2003-2013', 1), ('t.co/ru4vbqa7qu', 1), ('t.co/zvox71luvb', 1), ('tool.\\\\n\\\\nworkshops', 1), ('n◾️10am-12pm', 1), ('n◾️1-3pm', 1), ('t.co/wep5gd8mz8', 1), ('co-founder', 1), ('blklivesmatter', 1), ('omise', 1), ('eke', 1), ('natasha', 1), ('tinsley', 1), ('t.co/8v2av8l9xs', 1), ('quickly', 1), ('simply', 1), ('📝', 1), ('📘', 1), ('t.co/fbc7fl3sar', 1), ('ncc', 1), ('eas', 1), ('co-authored', 1), ('contemplations', 1), ('t.co/lehxene4te', 1), ('t.co/5ehznlvqts', 1), ('illness', 1), ('t.co/j8g0xioq2q', 1), ('💙💛📚', 1), ('t.co/onwzfzzzic', 1), ('‼️deadline', 1), ('extended‼️', 1), ('nundergrads', 1), ('💸', 1), ('t.co/qqtzlu6wte', 1), ('pleasantly', 1), ('surprised', 1), ('highered', 1), ('discussionguidelines', 1), ('t.co/nxtfurtdeu', 1), ('touches', 1), ('raise', 1), ('guiding', 1), ('way.\\\\n\\\\nhttps', 1), ('t.co/rh4jtnnxdy', 1), ('t.co/2ptpbsaxjz', 1), ('t.co/czel2nlrdt', 1), ('proof', 1), ('✅', 1), ('t.co/zx1ohiqxhx', 1), ('literacy.\\\\n\\\\nregister', 1), ('t.co/adbfwbd6nt', 1), ('evidence', 1), ('t.co/zyvug8nbrf', 1), ('indicated', 1), ('by🦎🐻🦌', 1), ('t.co/mzb8nlf3ft', 1), ('literacy.\\\\n\\\\nhttps', 1), ('t.co/fto5tw0abu', 1), ('t.co/k3li0ru8pe', 1), ('t.co/zh3qu7pzsw', 1), ('filmmaker', 1), ('luca', 1), ('victor', 1), ('geraci', 1), ('winemaker', 1), ('t.co/xogdt8rq1o', 1), ('t.co/arbiyfna5c', 1), ('gap', 1), ('market.\\\\nregister', 1), ('t.co/32vchrhlfp', 1), ('t.co/cxnyjgronf', 1), ('t.co/jezykktfuz', 1), ('examining', 1), ('justice.\\\\n4', 1), ('t.co/guhoresr9y', 1), ('t.co/ybwxbx8ysp', 1), ('t.co/h0woknshee', 1), ('t.co/s8xh9gmjya', 1), ('t.co/ko6p5ulnbx', 1), ('flagship', 1), ('titles.\\\\nlearn', 1), ('t.co/tftd4ctfl6', 1), ('t.co/zzk1bvzlxv', 1), ('environmentaljustice', 1), ('n\\\\n📅', 1), ('20th\\\\n\\\\n🕓', 1), ('pst\\\\n\\\\n✅', 1), ('t.co/yf2j2opeyd', 1), ('t.co/duihghq1qo', 1), ('emailing', 1), ('t.co/ydoijipide', 1), ('4/20', 1), ('t.co/g0x8gs6jkd', 1), ('heumann', 1), ('advocating', 1), ('disabled', 1), ('focuses', 1), ('t.co/5ma5nfkybp', 1), ('t.co/tiof9bsml1', 1), ('pinot', 1), ('noir', 1), ('t.co/zpzpcfexk6', 1), ('t.co/zzwcrfqrfi', 1), ('t.co/5rgxkzuutn', 1), ('t.co/0ilwjemfhi', 1), ('vaxfacts', 1), ('t.co/6vr4ubizxy', 1), ('t.co/uhc9goxseg', 1), ('t.co/mtbpd9oftb', 1), ('answered', 1), ('t.co/k0nrsagdv5', 1), ('co-initiated', 1), ('pioneered', 1), ('cloud68hq', 1), ('jstor', 1), ('represented', 1), ('lyrasis', 1), ('t.co/jaqh1rxpmq', 1), ('t.co/huhwz0uveq', 1), ('augmented', 1), ('21st-century', 1), ('aoc', 1), ('galdanayv', 1), ('confront', 1), ('tensions', 1), ('cesarchavezday', 1), ('t.co/rgy3ipjtl2', 1), ('alexandra', 1), ('hui', 1), ('edison-carnegie', 1), ('program.\\\\n\\\\nzoom', 1), ('t.co/a5ducij3u2', 1), ('t.co/irxrvq0cu0', 1), ('t.co/eg4re5zvox', 1), ('miriamkp', 1), ('t.co/w6feh51lni\\\\n\\\\nthey', 1), ('contacted', 1), ('indicating', 1), ('t.co/7khflsxqup', 1), ('pinotnoir', 1), ('brewerclifton', 1), ('melville', 1), ('winery', 1), ('al.\\\\nhttps', 1), ('t.co/r4nkj6ddyq\\\\npour', 1), ('glass', 1), ('t.co/sjpx3sqqlq', 1), ('ofelia', 1), ('esparza', 1), ('vive', 1), ('t.co/n8emzalfw8', 1), ('t.co/g5ew9xta7u', 1), ('3/29', 1), ('n✅a', 1), ('survey\\\\n✅a', 1), ('facemask\\\\n✅your', 1), ('n✅ucsb', 1), ('id\\\\n\\\\n➡️https', 1), ('t.co/rw5dv0dcao', 1), ('ama', 1), ('t.co/scbnttcud2', 1), ('partially', 1), ('t.co/utvlklcgye', 1), ('worldwide—immediately', 1), ('apida', 1), ('discrimination.\\\\n\\\\nchancellor', 1), ('t.co/ny4elkd6ak', 1), ('t.co/qmtrwnv6ae', 1), ('29-april', 1), ('slots', 1), ('t.co/fonz5ireb1\\\\n\\\\nread', 1), ('squeals', 1), ('t.co/u9mpu9ychw', 1), ('reservation-only', 1), ('afternoon.\\\\n\\\\nmore', 1), ('t.co/mlchu5n499', 1), ('t.co/4nalxb7y6w', 1), ('corresponding', 1), ('default', 1), ('charges', 1), ('sufficient', 1), ('funds', 1), ('n\\\\nway', 1), ('t.co/d2wzs33enh', 1), ('shared-funding', 1), ('model', 1), ('portfolio', 1), ('t.co/qm0v97009b', 1), ('openscience', 1), ('t.co/bxnzfhshmp', 1), ('n\\\\n➡', 1), ('secures', 1), ('publisher\\\\n', 1), ('t.co/p0mapz71mj\\\\n\\\\ndetails', 1), ('t.co/hwacatww05', 1), ('elseviernews', 1), ('restoring', 1), ('enabling', 1), ('containing', 1), ('t.co/1neqvooh3b', 1), ('t.co/psujxdrig1', 1), ('t.co/nepyeoq5yz', 1), ('notable', 1), ('t.co/iwo8eedmpw\\\\n\\\\n', 1), ('t.co/tjd74vvc59', 1), ('royalsociety', 1), ('co_biologists', 1), ('cdnsciencepub.\\\\n', 1), ('t.co/0obqtnezcg', 1), ('t.co/0okktmp5oz', 1), ('t.co/ixpnfgz24d', 1), ('uncapped', 1), ('immediate', 1), ('t.co/urr0zixrkr', 1), ('t.co/nx8o7md2nq', 1), ('observed', 1), ('iwd', 1), ('celebrations.\\\\n\\\\nview', 1), ('t.co/goqmxmximl\\\\nhttps', 1), ('t.co/dae7fuyudc\\\\nhttps', 1), ('t.co/matcxntuto\\\\nhttps', 1), ('t.co/lza2exzfjq\\\\n\\\\n', 1), ('iwd2021', 1), ('t.co/ypv06ehdw1', 1), ('t.co/ijmcyjxsty', 1), ('unforgettable', 1), ('t.co/otnpsm99gk', 1), ('openeducationweek—a', 1), ('oe', 1), ('oers', 1), ('t.co/z9dcuocgoc', 1), ('t.co/yancaokkv7', 1), ('t.co/vdvm7n3sfn', 1), ('t.co/rjgonkjxn1', 1), ('microbiology', 1), ('non-pharmaceutical', 1), ('interventions', 1), ('aimed', 1), ('mitigating', 1), ('t.co/dhfo0o6cjw', 1), ('t.co/fui9bm1gso', 1), ('t.co/r4hzsbhh0g', 1), ('t.co/qyqkrfebmy', 1), ('schooledr', 1), ('evolving', 1), ('alaniz', 1), ('t.co/fobdnww5bi', 1), ('t.co/otylbkjbta', 1), ('t.co/xp1oq0cc6c', 1), ('t.co/tj9kxgidyf', 1), ('n\\\\nfeb', 1), ('n12-1', 1), ('t.co/tfsvyjpb6r\\\\n\\\\nfeb', 1), ('n4-5', 1), ('t.co/xp1oq0cc6c\\\\n\\\\n', 1), ('t.co/7ye5jkdn3h', 1), ('n✔️search', 1), ('system\\\\n✔️locate', 1), ('more\\\\n✔️borrow', 1), ('renew', 1), ('netid\\\\nhttps', 1), ('t.co/iukjlfaoj1', 1), ('lunarnewyear', 1), ('🐂', 1), ('t.co/ycz5xk5gfa', 1), ('nand', 1), ('apart\\\\nto', 1), ('heart\\\\nsaint', 1), (\"valentine's\\\\n\\\\ni\", 1), ('thus', 1), ('send\\\\nmy', 1), ('fondest', 1), ('friend\\\\nin', 1), ('n\\\\nvalentine', 1), ('sc', 1), ('1052', 1), ('1801', 1), ('vault', 1), ('none\\\\ndear', 1), ('thee.\\\\n', 1), (\"n'tis\", 1), ('inmost', 1), ('breast\\\\nmy', 1), (\"caress'd\\\\nas\", 1), ('wont', 1), ('be\\\\n', 1), ('t.co/tjmojwpzqj', 1), ('5:30-6:00pm', 1), ('t.co/0uveamqbsk', 1), ('t.co/h7kiphykma\\\\n\\\\nfirst', 1), ('caption', 1), ('t.co/nmyg064y26', 1), ('sierra', 1), ('brug', 1), ('more.\\\\nhttps', 1), ('t.co/wtmcctfm57', 1), ('michaelharriot', 1), ('tapped', 1), ('century-old', 1), ('craft', 1), ('ambient', 1), ('🖤🖤🖤available', 1), ('bandcamp', 1), ('t.co/da5phhyrdr', 1), ('outdoortables', 1), ('outdoor', 1), ('n\\\\n🌞solar', 1), ('powered\\\\n⚡️have', 1), ('plug-ins\\\\n💡have', 1), ('night\\\\n🪑seats', 1), ('first-come', 1), ('first-served', 1), ('t.co/qsdkx43w49', 1), ('t.co/xc1gpoioxj', 1), ('t.co/rda1gnr2yt', 1), ('coordinator', 1), ('coordination', 1), ('t.co/uivqs72obo', 1), ('t.co/rzdpjdzk14', 1), ('scrippscollege', 1), ('correction', 1), ('elevating', 1), ('t.co/bexv1fv8ys', 1), ('victorlorenb', 1), ('t.co/puuh6kwrkl', 1), ('t.co/52sirjuugb', 1), ('t.co/hc3p4hdofh', 1), ('enables', 1), ('t.co/xc1gpoioxj\\\\n\\\\n', 1), ('t.co/uj80m1ptre', 1), ('t.co/9hc41mjdro', 1), ('perception.\\\\n\\\\nregistration', 1), ('t.co/efuqzaegxu', 1), ('t.co/z3pfxhziio', 1), ('t.co/i1niqpti8m\\\\n\\\\npictured', 1), ('t.co/qxu1i1eayj', 1), ('t.co/qludraukjl', 1), ('composed', 1), ('t.co/q6vs4jwpba\\\\n\\\\n', 1), ('archiveinaction', 1), ('waxcylinders', 1), ('t.co/1bejjckroj', 1), ('t.co/imoxznyqm6', 1), ('t.co/tfugv0dgpt\\\\nhali', 1), ('palombo', 1), ('delved', 1), ('altered', 1), ('t.co/syvj62fynn', 1), ('t.co/tj9nua546i', 1), ('t.co/coxqkgqdcu', 1), ('sameerpandya', 1), ('terence', 1), ('keel', 1), ('t.co/mpqc9dxqiw', 1), ('t.co/smqajofqee', 1), ('130,000', 1), ('inaugural', 1), ('addresses', 1), ('franklin', 1), ('inaugurationday', 1), ('t.co/dns3hbp2xm', 1), ('t.co/rg2sil1g3h', 1), ('mlkday2021', 1), ('t.co/gkicoegr6t', 1), ('t.co/enegakhs2z', 1), ('t.co/blnfvhtzzq', 1), ('t.co/ddujhdq0m8', 1), ('vhtroyansky', 1), ('t.co/poeq95b5wi', 1), ('t.co/1csgn7akzy', 1), ('t.co/khvufh6hqg', 1), ('janusonislab', 1), ('geneva', 1), ('meupdates', 1), ('dedication', 1), ('t.co/yyxxxvxh4k', 1), ('t.co/mqvrhiy6wh', 1), ('t.co/1qdgiwloxj', 1), ('t.co/e2huhkciwl', 1), ('t.co/ps1clu2kzm', 1), ('rael', 1), ('marketing', 1), ('distribution', 1), ('t.co/55ozdbxeu2', 1), ('fridays', 1), ('saturdays', 1), ('walk-in', 1), ('t.co/5iuytf7ffb', 1), ('tania', 1), ('t.co/lerod2brx6', 1), ('t.co/g8zll1gqci', 1), ('collectors', 1), ('t.co/632cqnnu7v', 1), ('wmcarterelliott', 1), ('t.co/e4vsrcrzjl', 1), ('t.co/ncfqou3nxr', 1), ('renee_altergott', 1), ('t.co/adbrw0glzl', 1), ('t.co/5tnmibhs3q', 1), ('t.co/8ev20rvwvx', 1), ('t.co/dxcjylrtbr', 1), ('dialogue-based', 1), ('t.co/vhtwvv3nvd', 1), ('t.co/yyski0auke', 1), ('socialjustice', 1), ('t.co/x9kmf0zho5', 1), ('t.co/i1agumjggj', 1), ('t.co/eoho37jeha', 1), ('t.co/zceaohtsk2', 1), ('t.co/bte2zpmf7o', 1), ('t.co/we2ukjizsf', 1), ('t.co/vuwqd7gwwm', 1), ('t.co/bylu1tedqy', 1), ('t.co/yvpdefdksr', 1), ('headed', 1), ('thousandoakslibrary', 1), ('thousandoaks', 1), ('pacificpioneerbroadcasters', 1), ('knx', 1), ('knxnewsradio', 1), ('allaccess', 1), ('t.co/u7jpnbzqd7', 1), ('t.co/vfy60kc0sf', 1), ('t.co/kbcoj1balf', 1), ('ccsp', 1), ('bybdialogue', 1), ('t.co/0wbychqcck', 1), ('t.co/6075yyhndx', 1), ('units', 1), ('rated', 1), ('merv', 1), ('inpatient', 1), ('t.co/rrcuiblazn', 1), ('strikes', 1), ('queueing', 1), ('t.co/q8kzvpg3rs', 1), ('happynewyear2021', 1), ('beau', 1), ('beausoleil', 1), ('mona', 1), ('damluji', 1), ('co-curated', 1), ('killed', 1), ('iraq', 1), ('2003-2012', 1), ('t.co/gsr70zauq8', 1), ('t.co/mqhcbtt2ds', 1), ('t.co/urubmh5ou7', 1), ('lands', 1), ('enduring', 1), ('t.co/8prkigtrpo', 1), ('winston', 1), ('churchill', 1), ('dated', 1), ('t.co/ird6shq1vy', 1), ('seasonal', 1), ('tunes', 1), ('contains', 1), ('t.co/vf2ndvq3fk', 1), ('t.co/nk0r9igroi', 1), ('t.co/stsiwtdiqn', 1), ('state-of-the-art', 1), ('fit', 1), ('t.co/euaqx3fkez', 1), ('wonderfully', 1), ('mayor', 1), ('bill-de', 1), ('peña', 1), ('t.co/hdsliiqjjz', 1), ('🎙️', 1), ('t.co/j5aulvkjrt', 1), ('t.co/dq9kchcbrz', 1), ('t.co/xwaq79budt', 1), ('t.co/hcm9v6dsrq', 1), ('t.co/bfluckm5eo', 1), ('t.co/ejl7qm9wss', 1), ('t.co/8viygecqcn', 1), ('aesthetic', 1), ('t.co/mgpzhdblt0', 1), ('ucsbcnsi\\\\n', 1), ('t.co/nqskmcy7z5', 1), ('szelazek', 1), ('☺️', 1), ('heroes', 1), ('signs', 1), ('declaration', 1), ('dorassessment', 1), ('openly', 1), ('crossreforg', 1), ('t.co/8xuh7tzt90', 1), ('sfdora', 1), ('t.co/5p6gz8a9id', 1), ('t.co/owmngyjazi', 1), ('staffed', 1), ('t.co/o0im1zaeyb', 1), ('sight', 1), ('t.co/rlsipmkxzn', 1), ('lucid', 1), ('contested', 1), ('term', 1), ('t.co/am50odvkmz', 1), ('connecting', 1), ('colleagues\\\\n\\\\ntuesday', 1), ('am\\\\n\\\\nuc', 1), ('process.\\\\n\\\\nlearn', 1), ('t.co/ubdy3exeky', 1), ('t.co/icvmwyzmni', 1), ('t.co/xuuq3bdgt0', 1), ('t.co/rotunt7lzg', 1), ('inboxes', 1), ('t.co/fyhw0i0suy\\\\n\\\\ninfo', 1), ('headlines', 1), ('self-isolating', 1), ('t.co/b7oey2fp4z', 1), ('urge', 1), ('free-of-charge', 1), ('t.co/nqqfr6nhen', 1), ('t.co/iu4xueo8zs', 1), ('65', 1), ('agrees', 1), ('t.co/awjngjyjl2', 1), ('xanbrooks', 1), ('xan', 1), ('t.co/wgzjrl0ozf\\\\nhttps', 1), ('t.co/vzhxmt1zqq', 1), ('lhp', 1), ('activists', 1), ('ig', 1), ('t.co/7fu0ihztwz', 1), ('slightly', 1), ('t.co/bcipcsxrzj', 1), ('meaningful', 1), ('t.co/pg2lx7ghp1\\\\n\\\\n', 1), ('tdor', 1), ('t.co/usrou4cish', 1), ('recordings\\\\n\\\\n', 1), ('archives\\\\nhttps', 1), ('t.co/2cmq39vjpi', 1), ('capabilities', 1), ('t.co/trte2odgll', 1), ('fourteen', 1), ('influential', 1), ('cited', 1), ('clarivate', 1), ('webofscience', 1), ('highlycited2020', 1), ('t.co/csrkxgyhf3', 1), ('t.co/yojzn2mik4', 1), ('tracked', 1), ('t.co/r3pgiaxnfl', 1), ('abrasion', 1), ('cozying', 1), ('pals', 1), ('scrutiny', 1), ('revelation', 1), ('safeguard', 1), ('t.co/2gfxfr5mb8', 1), ('w/smartphone', 1), ('notified', 1), ('exposed', 1), ('t.co/jvfmzhfvpj', 1), ('t.co/v8js8qxoib', 1), ('smartphone', 1), ('exposures', 1), ('opting', 1), ('notifications', 1), ('t.co/orbpfrcftq', 1), ('t.co/9oeyhn6qow', 1), ('jesse_e_miller', 1), ('t.co/xcnwvhiigc', 1), ('p.s', 1), ('facility', 1), ('t.co/ttwdl9bcts', 1), ('resonate', 1), ('filmmakers', 1), ('t.co/xmq6c8uyjm', 1), ('😍', 1), ('n\\\\nthey', 1), ('🪗', 1), ('t.co/orxirjwmak\\\\n\\\\nthat', 1), ('seed', 1), ('n\\\\n🙏🏼', 1), ('liledit\\\\n', 1), ('tedgioia', 1), ('t.co/ilt7ugfp6d', 1), ('library–decades', 1), ('reporter', 1), ('transcripts', 1), ('massaging', 1), ('interview–the', 1), ('t.co/ljzwl86krg', 1), ('score', 1), ('alma', 1), ('mater', 1), ('t.co/vz7smq7eau', 1), ('t.co/03g43gnqam', 1), ('t.co/tctzepg4br', 1), ('t.co/lumxwrhiw2', 1), ('espn', 1), ('alumnus', 1), ('capt', 1), ('lowell', 1), ('steward', 1), ('t.co/cabc7p6uqs\\\\n\\\\nphoto', 1), ('1941', 1), ('t.co/i0mvz9pkmn', 1), ('t.co/gmuxj5yyjj', 1), ('t.co/ek2ylbjhut', 1), ('t.co/jefcdzvsnr', 1), ('🎶', 1), ('t.co/shz9nwdrwl', 1), ('administrators', 1), ('t.co/aygasgqofx', 1), ('t.co/bcgqedpxyg', 1), ('vee_vee', 1), ('primed', 1), ('t.co/aw3ntsfypz', 1), ('t.co/mtpbatrcxq', 1), ('reboot\\\\n\\\\n', 1), ('linkeddata\\\\nhttps', 1), ('t.co/3gfujjlirw', 1), ('11/12', 1), ('zinester', 1), ('t.co/rbg5qwuehk', 1), ('t.co/crpprynuj9', 1), ('t.co/onnk9vtjs2', 1), ('brien', 1), ('t.co/clrzk9rtgi', 1), ('resumed', 1), ('t.co/9alzhktd0n', 1), ('t.co/vpjam4infw', 1), ('bingulibraries', 1), ('libmarcomconf', 1), ('unflibrary', 1), ('uflib', 1), ('unolibraries', 1), ('cwulibrary', 1), ('loving', 1), ('lmcc20', 1), ('t.co/rrmsiidfpu', 1), ('decompress', 1), ('counted', 1), ('t.co/x12jqbrpvt', 1), ('t.co/1dmmrw1lbi', 1), ('t.co/0806cabqmk', 1), ('t.co/uxp90n9hvw', 1), ('anxiety', 1), ('t.co/qggmsuozf8', 1), ('t.co/u49clt6ftv', 1), ('t.co/r2eg3zzgon', 1), ('confirmed', 1), ('t.co/aencauobdy', 1), ('t.co/cwqflunuy0', 1), ('polling', 1), ('voter', 1), ('t.co/qvycy3b01u', 1), ('t.co/5fwbkbpzbv', 1), ('postmark', 1), ('mail-in', 1), ('ballot', 1), ('polls', 1), ('t.co/0tzs7bgsph', 1), ('resources.\\\\n\\\\nimage', 1), ('t.co/o4bdjx6h0p', 1), ('t.co/auko2f9lsp', 1), ('t.co/serqbibbwa', 1), ('t.co/qdiyoqabxw', 1), ('facilitator', 1), ('t.co/d4zwjxinur\\\\n\\\\nplease', 1), ('nimage', 1), ('canvas', 1), ('coronado', 1), ('t.co/w70mrbjyzt', 1), ('t.co/vhf8riclpj', 1), ('11/2/2020', 1), ('njoin', 1), ('t.co/zenj9c4vus', 1), ('t.co/seu0bx0cty', 1), ('t.co/7uhkokm1ra', 1), ('diadelosmuertos', 1), ('t.co/7hxkatzc5j', 1), ('t.co/akdf6xlvhh', 1), ('t.co/qfrm74ekvz', 1), ('aul', 1), ('crl_global', 1), ('t.co/jtvktkx1ec', 1), ('ucsbreccenter', 1), ('asprogramboard', 1), ('🎃the', 1), ('t.co/nd3mig4upx', 1), ('t.co/vng1hzz111', 1), ('t.co/vfcj51m0sq', 1), ('t.co/3aoyszeqwc', 1), ('t.co/omaw99rxwb', 1), ('t.co/yhli96wfaz', 1), ('notably', 1), ('anti-castro', 1), ('militant', 1), ('subpoenaed', 1), ('fbi', 1), ('t.co/77bq6njbcl', 1), ('t.co/dictui3gyb\\\\n\\\\nthanks', 1), ('t.co/96ogjbaq7d', 1), ('t.co/peqang8akl', 1), ('t.co/hacy1isvbc\\\\n\\\\nthank', 1), ('t.co/r5rqei8i6g', 1), ('💚', 1), ('t.co/px9jo9lkas', 1), ('acces', 1), ('poor', 1), ('democratic', 1), ('n\\\\n🧡', 1), ('🧡\\\\n\\\\nhttps', 1), ('t.co/4vvt0imj7z', 1), ('t.co/xh79jxum9h', 1), ('n\\\\nucsb', 1), ('t.co/i5mjcghlyt', 1), ('t.co/hwmdjgishr', 1), ('t.co/brrmwvoogw', 1), ('t.co/61qckp7px9', 1), ('t.co/fowomvzlok', 1), ('t.co/wppebb9a06', 1), ('t.co/lapl26mp6g', 1), ('ivannn_arturo', 1), ('fresainmymimosa', 1), ('non-pandemic', 1), ('😊', 1), ('t.co/fetw3a9mxd', 1), ('t.co/qyormtwypk', 1), ('t.co/bpdlxjtsig', 1), ('t.co/kjrr4kuwsr', 1), ('t.co/46kiq0togo', 1), ('t.co/reizhijetl', 1), ('t.co/nj29z8fpdd', 1), ('t.co/uaqirpkucp', 1), ('t.co/mlyny1wydk', 1), ('t.co/9zjfe9drrl', 1), ('jamesmcnamara27', 1), ('t.co/gpshqvdqs3', 1), ('t.co/ql05w0199s', 1), ('jimlebrecht', 1), ('nicolenewnham', 1), ('cwc', 1), ('cripcampfilm', 1), ('t.co/qp3edlfv60', 1), ('jened', 1), ('t.co/cfmv8n2bjt', 1), ('t.co/jsufv70gxl', 1), ('t.co/jdjmjctasi', 1), ('t.co/pdawdlxc5l\\\\n\\\\n', 1), ('roundup', 1), ('t.co/ndbwnnricm\\\\n\\\\nas', 1), ('achieved', 1), ('👀\\\\n\\\\nthanks', 1), ('managing', 1), ('citations', 1), ('t.co/4njqlwz6wj', 1), ('t.co/6jjioj6xxx', 1), ('n\\\\npresentations', 1), ('nstudying', 1), ('consent', 1), ('qualitatively', 1), ('cierra', 1), ('sorin', 1), ('sociology\\\\n\\\\nthe', 1), ('price', 1), ('autonomy', 1), ('large-scale', 1), ('systems', 1), ('grimsman', 1), ('engineering\\\\n\\\\nmore', 1), ('t.co/wrohgpktwk', 1), ('t.co/fzcehpotfb', 1), ('t.co/3bfgiezrnt', 1), ('t.co/xyo76nfbys', 1), ('t.co/mkupajiqme', 1), ('t.co/bwxh6an3x4', 1), ('case-by-case', 1), ('basis', 1), ('financial', 1), ('asap', 1), ('t.co/dm9gwgtyfn', 1), ('completing', 1), ('t.co/ermnex3d2v', 1), ('t.co/p3r2jhlyba', 1), ('calpirgucsb', 1), ('t.co/thpl6bjqt2', 1), ('t.co/9mjwxgfsyv', 1), ('t.co/yns0hcu03e\\\\n\\\\nfeaturing', 1), ('nchizu', 1), ('morihara', 1), ('nmarisol', 1), ('nyao', 1), ('🥰\\\\n\\\\nthanks', 1), ('megan_ohern', 1), ('t.co/vusbetlgp8', 1), ('nkjemisin', 1), ('macfound', 1), ('n\\\\none', 1), ('t.co/vycz3hwkfn', 1), ('wizards', 1), ('t.co/uh9s0l9hcc', 1), ('t.co/jgiwlttszk\\\\n\\\\nmore', 1), ('t.co/pctqsdmauf', 1), ('t.co/ravownge2i', 1), ('narrowed', 1), ('research.\\\\n\\\\nmore', 1), ('t.co/k81ab4reuv', 1), ('t.co/fcsxb36fgq', 1), ('t.co/vnxpx5tfwb', 1), ('restrictive', 1), ('tier', 1), ('safer', 1), ('t.co/jykf2xhxkk', 1), ('t.co/tx7r5aezoa', 1), ('olin_labs', 1), ('retracing', 1), ('1928-2008', 1), ('animation', 1), ('traces', 1), ('51', 1), ('mile', 1), ('lariver', 1), ('comparing', 1), ('framefinder', 1), ('t.co/wxrwtlpwnn', 1), ('t.co/8omdircz8h', 1), ('t.co/apmtiqpbgr\\\\np.s', 1), ('t.co/lqrjcm1c0g', 1), ('t.co/gn5sjd6qpg', 1), ('t.co/gtadhnu5z5', 1), ('💻', 1), ('t.co/gtk0hrre0z', 1), ('t.co/ddvfenvubt', 1), ('9/30', 1), ('t.co/lgofyvwryd', 1), ('t.co/yknuuta0zr', 1), ('t.co/y5ailfxjth', 1), ('😁', 1), ('t.co/rig1s9cami', 1), ('t.co/wvweljp7yo\\\\n\\\\nhttps', 1), ('t.co/uco6dxcbzy', 1), ('t.co/ao9s5dnysl', 1), ('nationalvoterregistrationday', 1), ('🗳️', 1), ('t.co/0kwd50mmbs', 1), ('behind-the-scenes', 1), ('9/22', 1), ('p.m.\\\\ninfo', 1), ('t.co/nto4jipu5v', 1), ('pdfs', 1), ('n\\\\nthat', 1), ('subtweet', 1), ('ruth', 1), ('bader', 1), ('ginsburg', 1), ('rbg', 1), ('t.co/hfzooounuy', 1), ('t.co/xfxts1yi97', 1), ('🗣️', 1), ('pandemic-era', 1), ('voters', 1), ('urged', 1), ('registering', 1), ('sooner', 1), ('flexibility', 1), ('t.co/cmkgtvqkop', 1), ('t.co/tqsna5dx1a', 1), ('ucs', 1), ('t.co/4rceixmc1n', 1), ('t.co/a5z8hyanoi', 1), ('t.co/fnzjlxbvx3', 1), ('locally', 1), ('getoutthevote', 1), ('t.co/a7ku4rxhgj', 1), ('wed-fri', 1), ('am-1', 1), ('pardall', 1), ('embarcadero', 1), ('norte', 1), ('t.co/lyk4f5qbmw', 1), ('t.co/7mmrxbvyin', 1), ('t.co/k6nuazajnj', 1), ('indy', 1), ('nk', 1), ('jemisin', 1), ('t.co/4ivsxw4h4b', 1), ('confronting', 1), ('t.co/zbxaw9rh39', 1), ('kristen', 1), ('labonte', 1), ('t.co/xexdf2hcd0', 1), ('t.co/hfmtr2ftov', 1), ('t.co/ptvcqps1sp', 1), ('mindfulness', 1), ('psychology', 1), ('community-building', 1), ('forest', 1), ('bathing', 1), ('t.co/fi4tsec28w', 1), ('t.co/liro6qfwev', 1), ('entirety', 1), ('t.co/sworh9tunb', 1), ('t.co/uvewyeymjh', 1), ('archive\\\\nthrough', 1), ('caring', 1), ('dave', 1), ('elyze', 1), ('gonzalez', 1), ('sylvia', 1), ('perea', 1), ('they…', 1), ('t.co/li9q25tdzn', 1), ('maximizing', 1), ('space.\\\\n\\\\nhttps', 1), ('t.co/ajsbsexnlz', 1), ('accountable', 1), ('t.co/fnjdh23epu', 1), ('t.co/rmlzxb2qwt', 1), ('geolocated', 1), ('airphotos', 1), ('asia', 1), ('islands.\\\\nhttps', 1), ('t.co/bj7ndbocen', 1), ('gauchoback', 1), ('t.co/k9dizuclml', 1), ('parental', 1), ('fueling', 1), ('19thamendment', 1), ('womensvote100', 1), ('t.co/oz6ld043ql', 1), ('t.co/riimrb0ach\\\\n', 1), ('t.co/7l7b8ivo9h', 1), ('t.co/8oj7kewvdu', 1), ('turnbullmartin', 1), ('mz_annelise', 1), ('t.co/ti8rbrtwiz', 1), ('uctechucla', 1), ('starlight', 1), ('libraryexhibit', 1), ('platform.\\\\n\\\\nhttps', 1), ('t.co/jzkjkyhjdx', 1), ('t.co/tcg2dpalpr', 1), ('reminisces', 1), ('t.co/7qyd3dr0al', 1), ('t.co/hf6yjvcqpr', 1), ('t.co/iy4dbhuywz', 1), ('t.co/qocbifstqo', 1), ('magnitude', 1), ('5.2', 1), ('deaths', 1), ('occurred', 1), ('400,000', 1), ('flew', 1), ('shelves', 1), ('n\\\\nimages', 1), ('t.co/c4p4j1gq8m', 1), ('t.co/ojx5zf1kzc', 1), ('reputation', 1), ('t.co/oeseqhskck', 1), ('t.co/ous2mlwvnf\\\\n', 1), ('nthen', 1), ('t.co/5edntofbhq', 1), ('participant', 1), ('t.co/5so9vhsjl1', 1), ('frequently', 1), ('distancing', 1), ('keepgauchossafe', 1), ('t.co/ytswgb7nwj', 1), ('bryndon', 1), ('calli', 1), ('t.co/qxapeqbbv4', 1), ('earn', 1), ('t.co/ftrnybmglf', 1), ('pass', 1), ('grapple', 1), ('t.co/4boszc4qvh', 1), ('t.co/47htnrsfy6', 1), ('amarines', 1), ('custodians', 1), ('extensively', 1), ('gum', 1), ('buckets', 1), ('gum-free', 1), ('t.co/r6bbnkizwe', 1), ('quote', 1), ('t.co/0qkry3kcs9', 1), ('responders', 1), ('ntwo', 1), ('interviewed', 1), ('seanflann', 1), ('kcbxnews', 1), ('moment', 1), ('t.co/kgdosvz2ud', 1), ('tilburgu', 1), ('22-23', 1), ('event.featuring', 1), ('duo', 1), ('hocket', 1), ('percussionist', 1), ('vocalist', 1), ('miguelito', 1), ('pianist', 1), ('marc', 1), ('evanstein', 1), ('directed', 1), ('t.co/h0k3d0ocd8', 1), ('t.co/epypn0mebz', 1), ('pick.\\\\nview', 1), ('t.co/icjwjlvafm', 1), ('nsubmit', 1), ('t.co/aooanc6hqa', 1), ('t.co/axbsphvlvz\\\\n\\\\nyou', 1), ('t.co/oppffbklre', 1), ('service-oriented', 1), ('t.co/rqzpkhqiyp', 1), ('t.co/pzed2nftis', 1), ('comprehensive', 1), ('peer-reviewed', 1), ('t.co/8blw8cjkk7', 1), ('t.co/yguvchgx5c', 1), ('doesn', 1), ('weigh', 1), ('t.co/lpwrqnasir', 1), ('rescinded', 1), ('i.c.e', 1), ('mit', 1), ('lawsuit', 1), ('t.co/rfyucp7hun', 1), ('drake', 1), ('m.d', 1), ('world-renowned', 1), ('t.co/oyqnutmywt', 1), ('brenebrown', 1), ('imperfection', 1), ('accessing', 1), ('e-book', 1), ('t.co/s3p4nyjcms', 1), ('t.co/a3tlfbgqqj', 1), ('happypride', 1), ('n-\\\\ninternational', 1), ('typically', 1), ('t.co/nnuh2117mj', 1), ('barr', 1), ('t.co/y6f6dkmnzy', 1), ('t.co/5mkzz0larz', 1), ('mail', 1), ('brenda', 1), ('t.co/rdk7mt6nvx', 1), ('sojournerkrolle', 1), ('juneteenthsb', 1), ('t.co/kv9eucsp5e', 1), ('t.co/c1t2koinz6', 1), ('new-student', 1), ('t.co/1vnpvbybmb', 1), ('four-year', 1), ('uc-affiliated', 1), ('2,700', 1), ('subscribed.\\\\n\\\\nhttps', 1), ('t.co/7apwqcvk9m', 1), ('springernature', 1), ('t.co/orpfhajglx\\\\nenjoy', 1), ('t.co/iegjzpdwpk', 1), ('t.co/ygtas7ffa9', 1), ('t.co/ltbwjulxxj', 1), ('globe', 1), ('t.co/m497nqy8ak', 1), ('t.co/iimpm8lhf8', 1), ('bc_ala', 1), ('libcomix', 1), ('ages', 1), ('t.co/kvxneb4mzp', 1), ('unanimously', 1), ('endorsed', 1), ('constitutional', 1), ('amendment', 1), ('aca5', 1), ('repeal', 1), ('proposition', 1), ('209', 1), ('admissions', 1), ('decisions', 1), ('twenty-five', 1), ('t.co/dh9dykkvv7', 1), ('posterity', 1), ('quarantine', 1), ('t.co/nayg65lr9y', 1), ('afar', 1), ('🎓', 1), ('t.co/wnbkweadzh', 1), ('t.co/vyieolowsy', 1), ('charin', 1), ('arduous', 1), ('t.co/fvqerlwxdi\\\\n', 1), ('t.co/e9wzicznif', 1), ('focusing', 1), ('anti-blackness', 1), ('t.co/y2syludddp', 1), ('t.co/nmzrdrijv8', 1), ('striking', 1), ('t.co/zgbzhfo4xd', 1), ('n\\\\nfor', 1), ('t.co/ylptfstt4a', 1), ('t.co/ir946d3dni', 1), ('persistence', 1), ('genocide', 1), ('nregistration', 1), ('t.co/vstomdr6kg', 1), ('postdoc', 1), ('humble', 1), ('fujino', 1), ('contain', 1), ('cottage', 1), ('conduct', 1), ('nif', 1), ('t.co/tavpu7izuk', 1), ('t.co/yyffemqnxr', 1), ('e.g', 1), ('prefer', 1), ('t.co/a86ht3ottg', 1), ('smithsoniansec', 1), ('lonnie', 1), ('nationwide', 1), ('6/5', 1), ('t.co/jql2fay2i7', 1), ('natbookfest', 1), ('t.co/poconyqsoe', 1), ('caps', 1), ('showcased', 1), ('t.co/fyvidt2mcp', 1), ('t.co/blnfvibaqy', 1), ('condemns', 1), ('t.co/v2efwfew8a', 1), ('separate', 1), ('non-black', 1), ('allies', 1), ('t.co/pbqsp6md2z', 1), ('t.co/cxmpjcaehr', 1), ('comprised', 1), ('user-generated', 1), ('are…', 1), ('t.co/lwutqvcltt', 1), ('t.co/120igpobck', 1), ('uazlibraries', 1), ('t.co/ivusuliwaz', 1), ('t.co/r5e2gekjsv', 1), ('rent', 1), ('t.co/kslqmvox6i', 1), ('inequities', 1), ('commit', 1), ('countering', 1), ('actions', 1), ('stands', 1), ('opposition', 1), ('reflected', 1), ('recurring', 1), ('murder', 1), ('perpetrated', 1), ('photoshoots', 1), ('henley', 1), ('picsartstudio', 1), ('✨', 1), ('t.co/atqsl3btkl', 1), ('outbreak', 1), ('t.co/yxylltsmgi', 1), ('drtina', 1), ('micron', 1), ('graduatestudent', 1), ('t.co/ykjvbzapcs', 1), ('materialsgrad', 1), ('t.co/l6tdq2xntn', 1), ('deans', 1), ('t.co/wnbkwej2ah', 1), ('t.co/aaz1qkuu7j', 1), ('t.co/3prfjnwg2h', 1), ('t.co/c1ypvoapba', 1), ('t.co/idbkwcj6ca', 1), ('cartographic', 1), ('hefferman', 1), ('imadonnari', 1), ('recreated', 1), ('benton', 1), ('achelous', 1), ('hercules', 1), ('t.co/vxsxrorhbn', 1), ('fandmcollege', 1), ('quest', 1), ('intersectionality', 1), ('t.co/klmungu5ls', 1), ('inbox', 1), ('marching', 1), ('t.co/sy0xmcpgar', 1), ('t.co/me8ebf0ypv', 1), ('werememberthem', 1), ('cheng', 1), ('yuan', 1), ('weihan', 1), ('breann', 1), ('cooper', 1), ('nchristopher', 1), ('michaels-martinez', 1), ('veronika', 1), ('weiss', 1), ('t.co/iykvlojibq', 1), ('mourning', 1), ('forced', 1), ('mourn', 1), ('apart.\\\\n\\\\nhttps', 1), ('t.co/rparycfw6g', 1), ('injured', 1), ('💛💙\\\\n\\\\nthe', 1), ('t.co/02tgn476th', 1), ('t.co/q0rifds7bs', 1), ('returned', 1), ('time.\\\\nhttps', 1), ('melissa', 1), ('hingorani', 1), ('everybody', 1), ('illustrates', 1), ('precise', 1), ('cultured', 1), ('cortices', 1), ('1-2', 1), ('rat', 1), ('pups', 1), ('t.co/nbqgqdgozp', 1), ('cni20s', 1), ('surfliner', 1), ('tracks', 1), ('tim', 1), ('marconi', 1), ('tmarconi', 1), ('chrissy', 1), ('rissmeyer', 1), ('samverarepo', 1), ('devops', 1), ('digitallibraries', 1), ('radicaltransparency', 1), ('t.co/u1cjhkqwxb', 1), ('worldview', 1), ('t.co/8bh663hnr7', 1), ('t.co/vrcsu6j0je', 1), ('t.co/wysvw5oznn\\\\n', 1), ('fungal', 1), ('growth', 1), ('resemble', 1), ('completely', 1), ('unexpected', 1), ('n\\\\nwatch', 1), ('honorable', 1), ('mention', 1), ('rios', 1), ('t.co/st4jhujxm8', 1), ('effects', 1), ('virus', 1), ('t.co/xyvivaim4h', 1), ('t.co/qdcs4g1dzp', 1), ('quaranzine', 1), ('kit', 1), ('mailed', 1), ('t.co/gqm6ekhrpo\\\\n', 1), ('t.co/s4jtlvzep1', 1), ('yrs', 1), ('grows', 1), ('t.co/ucircuix1i', 1), ('hard-copy', 1), ('13m', 1), ('impactful', 1), ('t.co/wfsung25o9', 1), ('t.co/rsa7tfmh5y\\\\n\\\\nit', 1), ('vibrant', 1), ('t.co/j5igpeunnx', 1), ('t.co/uvtabb15yi', 1), ('illuminating', 1), ('depicts', 1), ('interstellar', 1), ('falling', 1), ('t.co/rdrdq8ldeg', 1), ('📢starting', 1), ('hist', 1), ('196', 1), ('ja-jc', 1), ('makinghistory', 1), ('history\\\\n\\\\n➡️more', 1), ('t.co/ytthbriy0o', 1), ('t.co/chyinomirm', 1), ('gauchopride\\\\nhttps', 1), ('t.co/zzbmjdfp5f', 1), ('pastel-colored', 1), ('sidewalks', 1), ('cinder', 1), ('block', 1), ('imparts', 1), ('familiar', 1), ('homebound', 1), ('neumann', 1), ('t.co/vs5mfcjybo', 1), ('t.co/ufzfyryy4h', 1), ('culmination', 1), ('t.co/tef49a1j4r', 1), ('t.co/z8ycip4lsj', 1), ('t.co/qtxx4lwjvm', 1), ('t.co/gqm6ekz2oo\\\\nwe', 1), ('n•how', 1), ('quaranzine\\\\n•tools', 1), ('e-zines\\\\n•taking', 1), ('pages\\\\n•how', 1), ('t.co/bgbuzqawvx', 1), ('t.co/0onmgihakr', 1), ('combating', 1), ('stigma', 1), ('mentalhealthmonth', 1), ('uncertainty', 1), ('spotlighting', 1), ('limelight', 1), ('accident', 1), ('blood', 1), ('aka', 1), ('hemodynamics', 1), ('t.co/8xtnu2gaay', 1), ('t.co/9okm4qws3e', 1), ('t.co/hxemnkxw0p', 1), ('t.co/nttatakwzm', 1), ('t.co/auifcmyo2q', 1), ('t.co/ffh2vdwom7', 1), ('wherein', 1), ('min', 1), ('t.co/owjgzp57qn', 1), ('t.co/870tmaonn8', 1), ('t.co/2dsfdpvu6s', 1), ('t.co/wkbxxx6kqi', 1), ('n\\\\nand', 1), ('t.co/opyibex35t', 1), ('t.co/mftog78yqf', 1), ('t.co/oravpu0mqz\\\\n\\\\nand', 1), ('mcgraw-hill', 1), ('offer.\\\\nhttps', 1), ('t.co/fjlvl4rfuw', 1), ('t.co/fnbvibxzmy', 1), ('lizbethm_21', 1), ('😲', 1), ('await', 1), ('t.co/rkq4fyr9t2', 1), ('ucsbbound', 1), ('chats', 1), ('t.co/gsv5qbtmgq', 1), ('t.co/z9venr2wng', 1), ('theskimm', 1), ('must-read', 1), ('t.co/zmhiv1f5j1\\\\n\\\\njoin', 1), ('t.co/jsmwsrtjfl', 1), ('epidemics', 1), ('t.co/dgioldo8t0', 1), ('chronam', 1), ('t.co/hgymbiazfg', 1), ('grew', 1), ('hiking', 1), ('marshes', 1), ('boston', 1), ('expected', 1), ('t.co/3vwy7dtsxb', 1), ('t.co/opyibex35t\\\\n\\\\n', 1), ('t.co/0smcoexyhg', 1), ('pedagogy', 1), ('highlanderctr', 1), ('foster', 1), ('multi-issue', 1), ('t.co/uwjjnqtovj', 1), ('jake', 1), ('eisaguirre', 1), ('t.co/tdoxvrfcpq', 1), ('t.co/amvzs0hthi', 1), ('consultation', 1), ('narrates', 1), ('confronts', 1), ('insider', 1), ('t.co/oce9vnmi2x', 1), ('t.co/6mpj1uweiu', 1), ('t.co/jlwuji2gsu', 1), ('t.co/4owageouqe', 1), ('contributed', 1), ('t.co/plc9fchphd', 1), ('clothing', 1), ('disinfect', 1), ('swartzberg', 1), ('emeritus', 1), ('ucberkeleysph', 1), ('t.co/vo0s9epiaw', 1), ('copyrighted', 1), ('349,000', 1), ('t.co/zecsdanlkz', 1), ('t.co/7tk8h2nz8i', 1), ('project-victor', 1), ('bluebird', 1), ('t.co/c6kgazl9ir', 1), ('janee', 1), ('t.co/zstcr9nlhs', 1), ('t.co/hgplqagfnr', 1), ('t.co/x0psltrbs5', 1), ('stresses', 1), ('coverings', 1), ('t.co/pqedxiam3o', 1), ('recreate', 1), ('t.co/pmor7us00x', 1), ('german-american', 1), ('bukowski', 1), ('menebroker.\\\\n\\\\n', 1), ('pure', 1), ('obscene', 1), ('t.co/bhhlte7zyj', 1), ('archivespenpals', 1), ('t.co/d0pacevyhu', 1), ('t.co/y4ptqkmcfx\\\\n\\\\nit', 1), ('zoom_us', 1), ('t.co/f91ocjclql', 1), ('t.co/9njhgw4agg', 1), ('t.co/zbsojkjemw', 1), ('presses', 1), ('community-governed', 1), ('t.co/ixzqvjadot', 1), ('6:30', 1), ('chatting', 1), ('jmludes', 1), ('pellcenter', 1), ('ribook', 1), ('first-ever', 1), ('t.co/ksz7dsdzaz', 1), ('t.co/keuswpxlet', 1), ('quarter.\\\\n\\\\nhttps', 1), ('t.co/7h2peo97vv', 1), ('ninstructions', 1), ('t.co/kevfrzkpux', 1), ('nationalrecordingregistry', 1), ('stay-at-home', 1), ('tina', 1), ('turner', 1), ('cheap', 1), ('trick', 1), ('selena', 1), ('dre', 1), ('whitney', 1), ('houston', 1), ('rogers', 1), ('t.co/6y0vuek8bh', 1), ('t.co/8q6gikmq2l', 1), ('ashdolphin_ucsb', 1), ('ucsb_cssc', 1), ('t.co/kjgp7eyamq', 1), ('t.co/uzaigvhlqy', 1), ('t.co/nxle7hssaf', 1), ('farm', 1), ('martínez', 1), ('t.co/mhvdvbdfow', 1), ('t.co/5ebdbtekoh', 1), ('home.\\\\n\\\\ndownload', 1), ('t.co/fjuqsz25ti', 1), ('t.co/r7xaskqjow', 1), ('t.co/ctnnpt4f0e', 1), ('desertron', 1), ('burning', 1), ('t.co/q9ibinu5mq', 1), ('t.co/jhi2z2fe77', 1), ('advising', 1), ('t.co/e3ubpzp5wn\\\\n\\\\ndetailed', 1), ('library-specific', 1), ('internetarchive–1.4', 1), ('t.co/fb1j2xsevy', 1), ('t.co/f7gcv0kp7l', 1), ('t.co/nw2l0ovfke', 1), ('surfaces', 1), ('detectable', 1), ('cardboard', 1), ('plastic', 1), ('stainless', 1), ('t.co/q94tfomjv0', 1), ('kanopy', 1), ('viewing', 1), ('t.co/k6pjcqw5ot', 1), ('distraction', 1), ('uncertain', 1), ('page-turner', 1), ('t.co/dplo6g9yhb', 1), ('t.co/puz0stonxe', 1), ('welfare', 1), ('decision', 1), ('18.\\\\nsee', 1), ('t.co/fcfv9173l2', 1), ('t.co/eu5lw9aroh', 1), ('t.co/9gdivhjbzg', 1), ('3/18', 1), ('3/19', 1), ('nuse', 1), ('t.co/b0nto4j9v1', 1), ('inspirational', 1), ('t.co/fkei7c56nt', 1), ('chromebook', 1), ('meal', 1), ('swipes', 1), ('advisors', 1), ('t.co/kg7h9mxwlz', 1), ('t.co/7pdof9x2pm', 1), ('t.co/m1tt6h1uqk', 1), ('bioonenews', 1), ('arlcovid19', 1), ('t.co/wbgsgafhez', 1), ('t.co/tlisj4smh4', 1), ('modified', 1), ('n\\\\nkeep', 1), ('t.co/0xtywfinx0', 1), ('precautions', 1), ('modifying', 1), ('3/13', 1), ('sanitizing', 1), ('handles', 1), ('developments', 1), ('t.co/lplekeerpb', 1), ('t.co/gujvs23cmd', 1), ('evolves', 1), ('internationalwomensday', 1), ('yolanda', 1), ('gonzález', 1), ('n\\\\nshe', 1), ('extremely', 1), ('intelligent', 1), ('acknowledge', 1), ('t.co/dp2k6iojzx', 1), ('t.co/t8g3npjptc', 1), ('u2', 1), ('collections.\\\\nhttps', 1), ('t.co/jrsdgcijdr', 1), ('engart', 1), ('19,000', 1), ('t.co/8wwttnct3i', 1), ('t.co/3uqrjkrtef', 1), ('drawbacks', 1), ('secrecy', 1), ('hiltzikm', 1), ('latimes\\\\n\\\\n', 1), ('oaintheusa\\\\n\\\\nhttps', 1), ('t.co/3gfnddks7o', 1), ('remastered', 1), ('episodes', 1), ('classic', 1), ('soundtracks', 1), ('wayne', 1), ('t.co/wkfcpgf2gf', 1), ('wants', 1), ('arlis_na_socal', 1), ('t.co/qhxfvvuggl\\\\n', 1), ('artlib', 1), ('lisjobs', 1), ('glam', 1), ('sah1365', 1), ('slasocscihum', 1), ('t.co/6zswirzrap', 1), ('adopted', 1), ('ex', 1), ('libris', 1), ('higher-ed', 1), ('cloud', 1), ('platform', 1), ('t.co/rxjwpydrsx', 1), ('t.co/pai88xjcg2', 1), ('oversee', 1), ('lifecycle', 1), ('acquisitions', 1), ('t.co/nzn8rvfx2k', 1), ('t.co/ulqagxoqp6', 1), ('disney', 1), ('t.co/nd72y8cssa', 1), ('disneylegend', 1), ('t.co/mefsrp98k8', 1), ('climatescience', 1), ('naturalleaders', 1), ('t.co/lanpaqva3p', 1), ('mapaches', 1), ('1990.\\\\n\\\\nphoto', 1), ('mutsuya', 1), ('takenaga', 1), ('vol', 1), ('t.co/xkrhi6oqzg\\\\n\\\\n', 1), ('universityarchives', 1), ('animalsofislavista', 1), ('t.co/hmhzlrlgj8', 1), ('jeopardy-style', 1), ('t.co/to7grx6zsf', 1), ('t.co/zg3lbyltjy', 1), ('smithsonian', 1), ('belong', 1), ('remix', 1), ('smithsonianopenaccess', 1), ('purpose', 1), ('t.co/35wp7doank', 1), ('t.co/njhan9jcos', 1), ('leatning', 1), ('student-created', 1), ('t.co/3rilvarh27', 1), ('residential', 1), ('flood', 1), ('t.co/hgxm6rhtpo', 1), ('t.co/jbq0nnd4zl', 1), ('24-28', 1), ('use.\\\\n\\\\nmore', 1), ('t.co/stmttjvnar', 1), ('t.co/jldkfnkz88', 1), ('necessary', 1), ('t.co/0ulgjnmlsp', 1), ('hub.\\\\n\\\\np.s', 1), ('t.co/gvn6vi02ct', 1), ('restoration', 1), ('estuary', 1), ('birds', 1), ('fish', 1), ('absorb', 1), ('floodwaters', 1), ('t.co/5hm4x4wgxz', 1), ('t.co/ymrn8rdyk0', 1), ('reads-related', 1), ('n\\\\ncheck', 1), ('t.co/v0ty0xqgui', 1), ('hiltner', 1), ('t.co/itck92hquy', 1), ('t.co/hhmtledc5d', 1), ('narrow', 1), ('happily', 1), ('prospective', 1), ('shy', 1), ('wandering', 1), ('t.co/nlc9t4bsya', 1), ('2/14', 1), ('below.\\\\n\\\\n', 1), ('gradstudents', 1), ('t.co/jvriqbqkmr', 1), ('t.co/lhe11k5kkr\\\\n\\\\nphoto', 1), ('jeff', 1), ('liang', 1), ('t.co/ajlweoh112', 1), ('remaining', 1), ('mon-fri', 1), ('t.co/fmkzlpq6vm', 1), ('t.co/feq5l24aq6', 1), ('20th-century', 1), ('prose', 1), ('isn', 1), ('t.co/pbnycmz99k', 1), ('hoarding', 1), ('falkoff', 1), ('nyu', 1), ('t.co/dykv2ttaaq', 1), ('44-volume', 1), ('facsimile', 1), ('t.co/ebbsohgy8h', 1), ('diorama', 1), ('chargers', 1), ('t.co/pqybkm4y29', 1), ('t.co/fzq9ls8yb1', 1), ('🕺🏻👩🏽\\u200d💻', 1), ('t.co/mmco23kd68', 1), ('t.co/ozbtb7mozk\\\\n\\\\nevent', 1), ('5-6', 1), ('swag', 1), ('t.co/m1b1wyeccb', 1), ('t.co/vytam3h8lu', 1), ('columbia', 1), ('columbialib', 1), ('pathways', 1), ('t.co/dq9gbsgt78', 1), ('t.co/egolzllzq9', 1), ('t.co/mlqungzrnr', 1), ('t.co/e2cssxdirr', 1), ('rack', 1), ('t.co/jqgw7lcy8s', 1), ('discover', 1), ('t.co/rti0fgxlyi', 1), ('t.co/zdjbizq5gv', 1), ('12:00-12:15', 1), ('weekday', 1), ('reader', 1), ('e-mail', 1), ('coe', 1), ('t.co/m5nsuvbas7', 1), ('t.co/bnudxswona', 1), ('backyards', 1), ('t.co/asb6dtrdtw', 1), ('sooo', 1), ('gradslam', 1), ('t.co/dsuowj2r1n', 1), ('t.co/e9kyyb179t', 1), ('t.co/rl0phziunr', 1), ('t.co/z1ohexhdt6', 1), ('kobebryant', 1), ('koberip', 1), ('t.co/meyd0ncrf2\\\\n', 1), ('t.co/l6y8mr1hi7\\\\n', 1), ('t.co/sgaxdzfcwq', 1), ('t.co/eunyolslfm', 1), ('clip', 1), ('t.co/4bxlniarsl', 1), ('kobe', 1), ('t.co/ooujyzsygc', 1), ('dusting', 1), ('t.co/vgvfr3ibln', 1), ('digitalcollections', 1), ('t.co/u4lx0hjkpf', 1), ('grown', 1), ('t.co/qkukegvafb', 1), ('t.co/2vdnvoulpd', 1), ('eja', 1), ('2/4', 1), ('t.co/wl4v6gdrgg', 1), ('ucirvine', 1), ('wsj', 1), ('timeshighered', 1), ('💯🌟💯', 1), ('t.co/rygo4t8lsd', 1), ('1/28', 1), ('t.co/vc3ijpz3mb', 1), ('🔥✊🌊', 1), ('climatebookclub', 1), ('t.co/2jx8sgs4wj', 1), ('alittleroad', 1), ('disadvantages', 1), ('maintaining', 1), ('resilient', 1), ('openlibhums', 1), ('core', 1), ('developing', 1), ('providers', 1), ('popcorn', 1), ('homemade', 1), ('meals', 1), ('better-when-warm', 1), ('treats', 1), ('t.co/nt6jlnybfi', 1), ('foran', 1), ('nxterra', 1), ('t.co/qpcjkysulh', 1), ('t.co/pmxdbva31n', 1), ('t.co/ccz6yeoh0k', 1), ('t.co/lwvrixs1dc', 1), ('t.co/mk8k7isqmd', 1), ('t.co/vgug7lj3zb', 1), ('funke', 1), ('climatehazards', 1), ('maldonado', 1), ('pellow', 1), ('ucsb_envstudies', 1), ('hosbey', 1), ('foran.\\\\n\\\\n', 1), ('t.co/qf2jjkdsnk', 1), ('commemoration', 1), ('rené', 1), ('castro\\\\n\\\\nfrom', 1), ('galeria', 1), ('t.co/bts3ymhlbh\\\\n\\\\n', 1), ('t.co/ze5ekhfpzo', 1), ('1/17', 1), ('t.co/pk8y0dydzf.\\\\n\\\\n', 1), ('latenightstudy', 1), ('mlkweekendhours', 1), ('t.co/nmmyzb55px', 1), ('frames', 1), ('t.co/qr6rgwoduj', 1), ('sign-up', 1), ('header', 1), ('unix', 1), ('t.co/oxzamdctaa', 1), ('t.co/pgx5hpptsy', 1), ('2007', 1), ('t.co/chyhmx3l49', 1), ('t.co/dy2rn1r3wi', 1), ('ashdizzleee', 1), ('litmiatweets', 1), ('stairs', 1), ('t.co/anlzflivto', 1), ('alli', 1), ('adam', 1), ('gauchoswhoread', 1), ('t.co/uxar4by27e', 1), ('khayhoe', 1), ('t.co/jtuq95x864', 1), ('t.co/mxdqs8u7lt', 1), ('elizabetharush.\\\\n\\\\nmore', 1), ('t.co/7rtsofvswt', 1), ('t.co/wko7umm1cm', 1), ('ucpress', 1), ('t.co/7m6p4kjcbj', 1), ('d_hause', 1), ('t.co/blidmqkpvo', 1), ('t.co/cnw0fs3t8a', 1), ('t.co/iqzptv5uqj', 1), ('t.co/wk5j0xrlet', 1), ('communities.\\\\nhttps', 1), ('t.co/ixckvhgp6z\\\\n', 1), ('t.co/mwa9q8dsgh', 1), ('monographs', 1), ('matteringpress', 1), ('openhumanities', 1), ('t.co/naoyyywuas', 1), ('diversion', 1), ('t.co/mjvnssyvxa', 1), ('t.co/jwhnjbewex', 1), ('consistent', 1), ('tobardualchais', 1), ('folksong', 1), ('scotland', 1), ('digitised', 1), ('bodleianlibs', 1), ('natlibscot', 1), ('theefdss', 1), ('itmadublin', 1), ('countless', 1), ('t.co/ex4kbtfmss', 1), ('germany´s', 1), ('projekt', 1), ('finalize', 1), ('agreement\\\\nhttps', 1), ('t.co/sfmrh0r85x', 1), ('t.co/pmo9qohcpg', 1), ('t.co/epvbbeudht', 1), ('t.co/pru8vhee4j', 1), ('t.co/9duc58rp7n', 1), ('allow', 1), ('it🙂', 1), ('liblife', 1), ('t.co/zq42d8kp2i', 1), ('t.co/zkuvnpnr3d', 1), ('t.co/tcuhlfqtg3', 1), ('half', 1), ('ucsantabarbara\\\\n', 1), ('1987-1994', 1), ('t.co/vtirkvl3ox', 1), ('t.co/9vtygwffk0', 1), ('requesting', 1), ('credit', 1), ('t.co/pg31hxq1t9', 1), ('t.co/pslmdu0z2h', 1), ('font', 1), ('controversies', 1), ('t.co/ysvtgflhvo', 1), ('coastalviewnews', 1), ('t.co/7dgzvkd4li\\\\n\\\\n', 1), ('carpinteriahistory', 1), ('t.co/1lp2q83x60', 1), ('am-noon', 1), ('t.co/pbuprmsw8j', 1), ('rendition', 1), ('1898', 1), ('originally', 1), ('t.co/5lrfg9b5tb', 1), ('sending', 1), ('joyful', 1), ('t.co/ip1nzicedi', 1), ('crafting', 1), ('decorations', 1), ('1954-57', 1), ('gilbert', 1), ('collections.\\\\n\\\\nhttps', 1), ('t.co/fjbz403rlw', 1), ('t.co/5kftzyottt', 1), ('t.co/fmnjy2wh6w.\\\\n\\\\nwe', 1), ('t.co/5tvmeqejwq', 1), ('slowing', 1), ('chronicled', 1), ('anthropoceneal', 1), ('t.co/yoq6jvy0dj', 1), ('t.co/3q3ukadb2p', 1), ('t.co/h7kiphykma', 1), ('t.co/s4grcrlehr', 1), ('visited', 1), ('twitterverse', 1), ('t.co/r01a5hjsq2', 1), ('fivemetrestop', 1), ('basement', 1), ('library.\\\\nhttps', 1), ('t.co/08g2aoa65v', 1), ('aerialphotography', 1), ('t.co/cnjd6zq9gl', 1), ('t.co/ekna9gvro5', 1), ('rhodeisland', 1), ('ri', 1), ('t.co/clfuftyjzs', 1), ('t.co/wuhwsddi5w', 1), ('t.co/cgslys9qr0', 1), ('t.co/sn3ze3t2qe', 1), ('t.co/ltwxpzighj', 1), ('silva', 1), ('enthusiastic', 1), ('ambassador', 1), ('t.co/qljsafbocd', 1), ('t.co/xnyhuqomgq', 1), ('t.co/gzamhdusxj\\\\n\\\\n', 1), ('t.co/2gkkxfcykn', 1), ('t.co/om1rewytpt', 1), ('controversies.\\\\n\\\\nlearn', 1), ('t.co/cjywop1rum', 1), ('t.co/gfc9gyjnv9', 1), ('sr', 1), ('t.co/yzc3uztybf', 1), ('accomplish', 1), ('transcend', 1), ('boundaries', 1), ('t.co/jlhwn7yq6w\\\\n\\\\n', 1), ('makeadifference', 1), ('t.co/flgrd41dtb', 1), ('privacy', 1), ('delete', 1), ('logout', 1), ('logouts', 1), ('inactivity.\\\\n\\\\nread', 1), ('t.co/t5eetdiuqb', 1), ('t.co/fkbr36asja', 1), ('finalsweek', 1), ('t.co/unno6h92yg', 1), ('livinghistory\\\\n-\\\\nthe', 1), ('heli', 1), ('yuk', 1), ('resurgence', 1), ('ceremonial', 1), ('t.co/2y9owzyqtw', 1), ('t.co/qhl40dzk5q', 1), ('studies\\\\nread', 1), ('t.co/lebjncqtsh', 1), ('t.co/03xp33nmcs', 1), ('android', 1), ('googleplay', 1), ('ios', 1), ('t.co/xn5d8qruvk', 1), ('t.co/pdildc2npv', 1), ('proponent', 1), ('championing', 1), ('revolutionize', 1), ('prioritizes', 1), ('hopeful', 1), ('carnegiemellon', 1), ('t.co/5zs5bssiuh', 1), ('t.co/kicddlmasj', 1), ('restroom', 1), ('t.co/ybpm2ov7po', 1), ('leronshults', 1), ('t.co/t5qwyy9hj5', 1), ('leron', 1), ('shults', 1), ('ethical', 1), ('analytica', 1), ('policy-oriented', 1), ('scenarios', 1), ('t.co/xexvyl4irr', 1), ('t.co/yqrogwzz2y', 1), ('1856', 1), ('heat-trapping', 1), ('capacity', 1), ('kick-ass', 1), ('ladies', 1), ('science™', 1), ('t.co/uh84rbd54h', 1), ('marie', 1), ('curie', 1), ('t.co/mkvantefkm', 1), ('tidytuesday', 1), ('coding', 1), ('🥳📊💻thank', 1), ('libratorybot', 1), ('t.co/n70smjpcxv', 1), ('t.co/7volv0xyb7', 1), ('t.co/c1gcqqqxtz', 1), ('happyveteransday', 1), ('maj', 1), ('gen', 1), ('easterbrook', 1), ('vernon', 1), ('legion', 1), ('merit', 1), ('col', 1), ('t.co/6tzftuwdgq', 1), ('t.co/cvy6zck5ec', 1), ('t.co/vtirkvcfdx', 1), ('t.co/pd1moiq40s', 1), ('smonie', 1), ('kayvont8', 1), ('iconic', 1), ('quarterfinals', 1), ('t.co/v6nfe9p0ry\\\\n\\\\n', 1), ('stepintoucsb', 1), ('iconicplaces', 1), ('t.co/eoew4inper', 1), ('newly-launched', 1), ('t.co/c5sfcoettl', 1), ('t.co/ziliejk07q', 1), ('dioxide', 1), ('t.co/kcafnovyqt\\\\n', 1), ('t.co/udibdco2zs', 1), ('representing', 1), ('mode', 1), ('t.co/1glniguqm3', 1), ('t.co/jlhwn7yq6w', 1), ('t.co/r1dn9ign1s', 1), ('archivesfacialhair', 1), ('nod', 1), ('movember', 1), ('noshavenovember', 1), ('1983', 1), ('ricardo', 1), ('t.co/zdn79jjalk', 1), ('t.co/nhofedwukk', 1), ('ucsblhp', 1), ('historyhighlight', 1), ('ucsbhalloween', 1), ('ivhalloween', 1), ('t.co/vnaqoh2iig', 1), ('t.co/brlyj2oflw', 1), ('onthisday\\\\n-\\\\nin', 1), ('increased', 1), ('abuse', 1), ('t.co/botgde1uz0', 1), ('clipping', 1), ('npublished', 1), ('1986', 1), ('t.co/ykydddmxok', 1), ('rcsgd', 1), ('t.co/13381ah09r', 1), ('chronicles', 1), ('t.co/cxkzrqzlcd', 1), ('t.co/6rma6um7qn', 1), ('maintains', 1), ('expressions', 1), ('evolutionary', 1), ('t.co/9o2av9gcpd', 1), ('worldviews', 1), ('polarization', 1), ('t.co/7smg1olnr1', 1), ('custom', 1), ('sensors', 1), ('bluetooth', 1), ('signals', 1), ('algorithm', 1), ('t.co/ykugtuf65z', 1), ('t.co/ams6lv0xwh', 1), ('t.co/p8dq9bnmpi', 1), ('nagoski', 1), ('performers', 1), ('turkey', 1), ('armenia', 1), ('lebanon', 1), ('syria', 1), ('egypt', 1), ('greece', 1), ('t.co/bzhujw48z5', 1), ('t.co/iayfsyrorw\\\\n\\\\n', 1), ('t.co/frfolzigb4', 1), ('t.co/bl7bkoc5ny', 1), ('cokofoundation', 1), ('t.co/3na8zmzzpx', 1), ('oa_dog', 1), ('t.co/vlwk5soywo', 1), ('soehantha', 1), ('1.\\\\n\\\\nhttps', 1), ('t.co/anyuyzqtbj', 1), ('t.co/pcdznhersn', 1), ('liberal', 1), ('concept', 1), ('75', 1), ('said.\\\\n\\\\nhttps', 1), ('t.co/u0sxsfkjfp', 1), ('oaweek\\\\n', 1), ('t.co/vcfeiqctwb', 1), ('t.co/ci4c75zuya', 1), ('t.co/4cs1qeko84', 1), ('helmed', 1), ('representative', 1), ('datalibs', 1), ('t.co/l5gne7wuuc', 1), ('imperative', 1), ('ensure', 1), ('elements', 1), ('ashleydfarley', 1), ('t.co/6gili1jpcu', 1), ('frisbees', 1), ('miscellaneous', 1), ('t.co/6q0t8gud8y', 1), ('t.co/h8nzb0afgg', 1), ('calpirgstudent', 1), ('implement', 1), ('textbookbroke', 1), ('t.co/jasyrpwjog', 1), ('benefits', 1), ('norm', 1), ('research.\\\\n\\\\n', 1), ('t.co/67pqydg7e2', 1), ('prioritize', 1), ('n\\\\nfollow', 1), ('hashtags', 1), ('t.co/ll62wkguxx', 1), ('introduced', 1), ('504', 1), ('ins', 1), ('outs', 1), ('n\\\\nlibrarians', 1), ('n\\\\n🔍📰💻\\\\n\\\\n', 1), ('ucsbhist', 1), ('hist2c', 1), ('t.co/3uab2xorqq', 1), ('senaythechosen', 1), ('technician', 1), ('manufacturer', 1), ('guwa', 1), ('t.co/qxvfsuradh', 1), ('spark', 1), ('sealevelrise', 1), ('climatechange', 1), ('t.co/ahqyllffrf', 1), ('internationalpronounsday', 1), ('pronouns', 1), ('t.co/6u3vaeirm4', 1), ('t.co/acowrwxdp0', 1), ('t.co/ogrjaifgh9', 1), ('kenneth', 1), ('karmiole', 1), ('endowed', 1), ('5,000', 1), ('t.co/ggyfgx8xl1', 1), ('t.co/1nl1lgwcnr', 1), ('t.co/htudbazazk', 1), ('customize', 1), ('time.\\\\n\\\\ncheck', 1), ('t.co/a0ifjofkfx\\\\n\\\\n', 1), ('waitzapp', 1), ('t.co/w6lxxsra6o', 1), ('t.co/koqxu7m4gw', 1), ('comingout', 1), ('t.co/n8bmr90vyf', 1), ('t.co/xu24ympmb9\\\\n', 1), ('t.co/xtb2jbgd3n', 1), ('bulletjournal', 1), ('t.co/xyjjmoivnq', 1), ('t.co/fe1u2wfy4p', 1), ('t.co/7rtsofvswt\\\\n', 1), ('t.co/cfoa9ulems', 1), ('t.co/kdweykrpes', 1), ('t.co/5yplfjzko7', 1), ('transformed', 1), ('t.co/wbujtwsukl', 1), ('t.co/uoz06shtvx', 1), ('t.co/wvomimmr4d', 1), ('needs.\\\\n', 1), ('askalibrarian\\\\n\\\\nhttps', 1), ('t.co/nvdc2ymfv1', 1), ('uc-elsevier', 1), ('negotiations—arl', 1), ('expresses', 1), ('initiate', 1), ('research.\\\\n', 1), ('t.co/enrgkl2quw', 1), ('you.\\\\n', 1), ('knowyourlibrary', 1), ('t.co/wqdapwdoju', 1), ('happened', 1), ('treated', 1), ('respectfully', 1), ('exchange', 1), ('frontline', 1), ('t.co/swlexxbqma', 1), ('nview', 1), ('t.co/lvuysclwtw', 1), ('15-oct', 1), ('hispanic/latinx', 1), ('t.co/igztcodgh4', 1), ('t.co/gd6zeaqybq', 1), ('checkouts', 1), ('t.co/xsb47gxwnf', 1), ('lisalibrarian', 1), ('mbschloss', 1), ('catherinemitch', 1), ('charleswatkinso', 1), ('ultimately', 1), ('somewhat', 1), ('coinage', 1), ('definitions', 1), ('plural', 1), ('broad', 1), ('community-owned', 1), ('t.co/9sqjoet2p8', 1), ('t.co/uotxc8viqs', 1), ('to/with', 1), ('cambridgeup', 1), ('t.co/aychgiawif', 1), ('dan_rudmann', 1), ('t.co/kzyvrm3n5d', 1), ('lineup', 1), ('t.co/lgnfpj7loa', 1), ('forefront', 1), ('25m', 1), ('nsf', 1), ('information-based', 1), ('t.co/dbfgjpdmue', 1), ('😍✨', 1), ('t.co/jz8neiuwjv', 1), ('ederer', 1), ('anthony', 1), ('greco', 1), ('arabic', 1), ('t.co/tbnlt0vmav', 1), ('surrounded', 1), ('t.co/fnntubtwq3', 1), ('advantage', 1), ('t.co/ik5ckhufhc', 1), ('t.co/7vfryiur2u', 1), ('transatlantic', 1), ('phenomenon', 1), ('t.co/yafsgxzpk6', 1), ('respondents', 1), ('t.co/odlrn0pdom\\\\n\\\\n', 1), ('heretohelp', 1), ('t.co/cs5zncrvny', 1), ('deployed', 1), ('whiteboards', 1), ('draw', 1), ('t.co/jg6e0gyuhx', 1), ('5:30-7:30pm', 1), ('jrdavidson', 1), ('t.co/0bimzi5yk8', 1), ('callme_serg', 1), ('👀', 1), ('row', 1), ('t.co/lnqvkgqtqz\\\\n', 1), ('t.co/bmwqgg0n0o', 1), ('1963', 1), ('n\\\\nstop', 1), ('1944-1990', 1), ('t.co/pqyaxe6h2i', 1), ('t.co/j5appuv1ei', 1), ('fernandaaaxo', 1), ('utilizing', 1), ('justjess_please', 1), ('t.co/jkbyuryp8l', 1), ('debt', 1), ('t.co/gyn2nmok1k', 1), ('shoutout', 1), ('t.co/eye9bszcjk', 1), ('topcolleges', 1), ('t.co/zx2qkqk5pn', 1), ('cni_org', 1), ('steering', 1), ('t.co/ucjovc3e02', 1), ('tonimorrison', 1), ('88', 1), ('t.co/ei2penrhx9', 1), ('restart', 1), ('negotiations', 1), ('t.co/hbluly1aff', 1), ('casa', 1), ('t.co/ub6radygvm', 1), ('t.co/zwppvlylex', 1), ('t.co/jwz1qu1eo0', 1), ('buzz', 1), ('aldrin', 1), ('moon.\\\\nhttps', 1), ('t.co/962xvrck39', 1), ('wasn', 1), ('seems', 1), ('simple', 1), ('realize', 1), ('apollo50th', 1), ('t.co/fkyzfrpmea', 1), ('t.co/sjbu8cokb3', 1), ('glory', 1), ('apollo50', 1), ('moonlanding', 1), ('vexillology', 1), ('t.co/cffotr5ube', 1), ('t.co/fcnirpowr3', 1), ('t.co/v37e5mec7s', 1), ('£2.2', 1), ('🎉🍾https', 1), ('t.co/oioed0drbz', 1), ('t.co/mc8noxqtju', 1), ('t.co/e2fn1fd3ij', 1), ('5pm-6pm', 1), ('t.co/gs7j1ltvo6', 1), ('t.co/kxpvscrlud', 1), ('t.co/fhqnppmjz6', 1), ('skilled', 1), ('t.co/jsfv2n8uph', 1), ('sea-u', 1), ('vsa', 1), ('t.co/sttbgrfbzm', 1), ('t.co/aap4iwdcxb', 1), ('t.co/fih57n5y9f', 1), ('5:00', 1), ('7:00', 1), ('pm\\\\nfamily', 1), ('art\\\\nart', 1), ('20-june', 1), ('20.\\\\nall', 1), ('t.co/jpsvyyecho', 1), ('t.co/ainmaguikg', 1), ('t.co/ml3mtaixey', 1), ('🌸🔥🌈', 1), ('csu', 1), ('first-year', 1), ('nallensworth', 1), ('callie', 1), ('branstiter', 1), ('s/o', 1), ('colleague', 1), ('ccaffgardner', 1), ('bib', 1), ('t.co/fn8sty0p21', 1), ('yay', 1), ('nyay', 1), ('mmichellemoore', 1), ('cclightning2019', 1), ('t.co/i23dtcu1gj', 1), ('engaging', 1), ('technical', 1), ('tractor', 1), ('hehe', 1), ('t.co/n54jepcokb', 1), ('👋🏻👋🏻👋🏻', 1), ('cannondr', 1), ('reimagining', 1), ('increae', 1), ('participation', 1), ('usflibraries', 1), ('t.co/2u9pbqc2a7', 1), ('t.co/6ldmjwhjkq', 1), ('t.co/jphucxxrcs', 1), ('t.co/utnrasdqnd', 1), ('ecosystems', 1), ('offshore', 1), ('t.co/pdwesaz65g', 1), ('critically', 1), ('acclaimed', 1), ('t.co/iuerzrrsmq', 1), ('6:50pm', 1), ('t.co/meyw90es3l', 1), ('t.co/1sxsqdnw1b', 1), ('sharqzadeh', 1), ('t.co/7f81dwtsui', 1), ('rad', 1), ('applying', 1), ('relational', 1), ('mutuality', 1), ('vulnerability', 1), ('t.co/9zuxfb6jsb', 1), ('evaluating', 1), ('clear', 1), ('visioning', 1), ('t.co/aoypqbru0n', 1), ('🤗', 1), ('t.co/zogdrjyrcn', 1), ('t.co/iou3isqlpq', 1), ('ensuring', 1), ('humankind', 1), ('t.co/agajfgmzk6', 1), ('bash', 1), ('t.co/fipmm7ktjd', 1), ('t.co/vejn61t3ij', 1), ('breakdown', 1), ('propel', 1), ('cheaper', 1), ('oped', 1), ('t.co/ptbi4dhrmx', 1), ('acrl2019', 1), ('754', 1), ('editoriapub', 1), ('t.co/zh7vwerkja', 1), ('daisy', 1), ('kershaw', 1), ('refugees', 1), ('thebestwecoulddo', 1), ('t.co/rrr05qfb35', 1), ('initiating', 1), ('2-year', 1), ('t.co/buih0inn3m', 1), ('t.co/nb66dee8ke', 1), ('visibility', 1), ('manzanita', 1), ('t.co/j0zeubrnbf', 1), ('t.co/c8j4riiarw', 1), ('t.co/ve9kewqmsv', 1), ('t.co/9fotnnfaxt', 1), ('t.co/oys23eiphm', 1), ('t.co/cclad0vcls', 1), ('t.co/yemxtqoljl', 1), ('libraryjobs\\\\n', 1), ('t.co/vzh9yptfx5', 1), ('adoption', 1), ('t.co/b9ng9p2w87', 1), ('3/3', 1), ('patterns', 1), ('madhu', 1), ('venkata', 1), ('rama', 1), ('kruhna', 1), ('majji', 1), ('t.co/omebddgki4', 1), ('terminates', 1), ('t.co/ybgfgkq1hz', 1), ('ucelsevier', 1), ('subvert', 1), ('notoriously', 1), ('hypersexualized', 1), ('misogynistic', 1), ('stereotypes', 1), ('t.co/0ebebixxmy', 1), ('t.co/hvb6g51o6v', 1), ('unfoldingideastogether', 1), ('amazingimages', 1), ('t.co/ykjvbzapcs\\\\n', 1), ('cnsiucsb', 1), ('csep', 1), ('bravi', 1), ('tutti', 1), ('bazemore', 1), ('t.co/l1osb9jiyb', 1), ('wrangling', 1), ('further', 1), ('21-22', 1), ('t.co/erra5rbdxi\\\\n', 1), ('ucsbets', 1), ('saturday/sunday', 1), ('lobero', 1), ('bass-baritone', 1), ('millionaire', 1), ('brockwiller', 1), ('t.co/0odn7uyskb', 1), ('t.co/pdbtcdsiti', 1), ('6th', 1), ('250', 1), ('t.co/tbx3vavihk', 1), ('t.co/yrxlbwkinf', 1), ('10-part', 1), ('t.co/iud9pkdz42', 1), ('oceans', 1), ('elkin', 1), ('shahank', 1), ('aswathanaravana', 1), ('t.co/cqtfzjsa61', 1), ('t.co/ixklbwmmyl', 1), ('t.co/bkmz932i2j', 1), ('communityarchives', 1), ('t.co/hsqcigb4wn', 1), ('anguish', 1), ('anger', 1), ('t.co/07vgeolvpt', 1), ('t.co/1md5occ6rx', 1), ('exiled', 1), ('refugee', 1), ('forcibly', 1), ('displaced', 1), ('drkiakeating', 1), ('t.co/oafbbdqosj', 1), ('npanelists', 1), ('1312\\\\nrefreshments', 1), ('baker', 1), ('luke', 1), ('rosedahl', 1), ('dynamical', 1), ('neuroscience', 1), ('t.co/tp6ps9f8jj', 1), ('arrive', 1), ('t.co/gpbicpzjay', 1), ('1/10', 1), ('t.co/n9qpguqwwd', 1), ('operetta', 1), ('die', 1), ('juxheirat', 1), ('t.co/9aapy2aq9p', 1), ('t.co/knhitiraew', 1), ('t.co/rlitkjq5s8', 1), ('t.co/jbleixybdl', 1), ('12/22', 1), ('1/2/19', 1), ('t.co/7t6eqkr66o', 1), ('mideastlibs', 1), ('t.co/vhqmgwi7i1', 1), ('stake', 1), ('t.co/b9qna31zjo', 1), ('t.co/qsggoex0xm', 1), ('t.co/jbwyg7kxey', 1), ('slice', 1), ('t.co/wftpqehb97', 1), ('t.co/qmgvqzgpgn', 1), ('charity', 1), ('volunteer', 1), ('t.co/gj55bifrjk', 1), ('t.co/zaxz8tu1rh', 1), ('t.co/1mt4vmwicn', 1), ('recycle', 1), ('pens', 1), ('dried', 1), ('markers', 1), ('recycles', 1), ('dropping', 1), ('operations', 1), ('sticker', 1), ('person/limited', 1), ('berecycled', 1), ('t.co/3lxuedz23y', 1), ('cumbia', 1), ('open-air', 1), ('sbdanceinstitut', 1), ('11/7', 1), ('t.co/bliujkcspf', 1), ('exercise', 1), ('t.co/pg0wczuvds', 1), ('spooktacular', 1), ('t.co/6gzduyvyu1', 1), ('jjacobkirksey', 1), ('t.co/ymyopv7c1h', 1), ('t.co/addycvooki', 1), ('salzman', 1), ('ucla_law', 1), ('drinking', 1), ('t.co/smiz2cjutd', 1), ('11/2', 1), ('jacob', 1), ('kirksey', 1), ('veronica', 1), ('laos', 1), ('ions', 1), ('t.co/wphxoanea2', 1), ('dio', 1), ('calisphere', 1), ('t.co/gbq42jqmpf', 1), ('t.co/5romvcvylh', 1), ('t.co/3xflpu2gpb', 1), ('t.co/pmxx9b5ews', 1), ('negotations', 1), ('co-directors', 1), ('accessibility', 1), ('1506', 1), ('refine', 1), ('t.co/clqousftck', 1), ('t.co/qbvpm5o1tb', 1), ('t.co/6pnzmfzdpo', 1), ('t.co/vq7ajekkgk', 1), ('t.co/wyfoa2v9va', 1), ('t.co/5nu2ztjafn', 1), ('rainy', 1), ('nuestras', 1), ('américas', 1), ('expressive', 1), ('latino', 1), ('descent', 1), ('belonging', 1), ('t.co/oz5hbaqrcj', 1), ('t.co/pvepojo8u1', 1), ('coniatus', 1), ('splendidulus', 1), ('skylar', 1), ('dudley', 1), ('t.co/kx42ea93o9', 1), ('10/5', 1), ('qiu', 1), ('t.co/vrldru0wxf', 1), ('t.co/2ok1nzn0s2', 1), ('homegoing', 1), ('yaa', 1), ('gyasi', 1), ('t.co/mdchjt6vaz', 1), ('atomic', 1), ('ravine', 1), ('aranya', 1), ('goswami', 1), ('palmstrøm', 1), ('t.co/pijbjebl8e', 1), ('hunger', 1), ('roxane', 1), ('t.co/afhkwya2gl', 1), ('cao', 1), ('t.co/4urdhenvqw', 1), ('binti', 1), ('nnedi', 1), ('okorafor', 1), ('t.co/qelypz3mxz', 1), ('jumped', 1), ('listing', 1), ('t.co/bbmmrhf5zr', 1), ('steamy', 1), ('shaun', 1), ('wolfe', 1), ('lenihan', 1), ('t.co/wkmarw2avi', 1), ('t.co/qtvbwvjx7j', 1), ('9/5', 1), ('noreen', 1), ('balos', 1), ('dolinski', 1), ('t.co/zld86yvafq', 1), ('t.co/g8ywxhupvz', 1), ('extraordinaire', 1), ('ganski1', 1), ('samanthagodbey', 1), ('roomful', 1), ('teachers', 1), ('infolit', 1), ('t.co/bs1uytzjia', 1), ('neeraj', 1), ('kulkarni', 1), ('peng', 1), ('t.co/kgizeav1q3', 1), ('t.co/4qrewnilfy', 1), ('t.co/snddzqhhlc', 1), ('t.co/uz6gdwjhnd', 1), ('t.co/uhm1xfff9d', 1), ('t.co/nb4ilwysg9', 1), ('t.co/kwf8gnf0tl', 1), ('recharged', 1), ('fiesta', 1), ('challenge.\\\\n\\\\nday', 1), ('t.co/d9h4vnpqea', 1), ('hate', 1), ('angie', 1), ('t.co/qnium9bvik', 1), ('marangoni', 1), ('hyunjin', 1), ('ucsbnanolab', 1), ('t.co/4mxqhzmzhh', 1), ('t.co/gabj0ugkp0', 1), ('t.co/s2a1zj6n4s', 1), ('t.co/jr1gtdisco', 1), ('unburied', 1), ('jesmyn', 1), ('t.co/zodgrmeleg', 1), ('joseph', 1), ('campanale', 1), ('montell', 1), ('t.co/3ykm0fqz9j', 1), ('t.co/6glpoulu0m', 1), ('poles', 1), ('apart', 1), ('anirudha', 1), ('banerjee', 1), ('squires', 1), ('t.co/ggpzmvufar', 1), ('make-up', 1), ('t.co/3nwkop3hqi', 1), ('t.co/lrfwo7zo0s', 1), ('awhile', 1), ('t.co/xzbgivw4kp', 1), ('t.co/zgmltks8dq', 1), ('balance', 1), ('dillon', 1), ('osleger', 1), ('simms', 1), ('sedimentology', 1), ('t.co/caiez6mnsy', 1), ('ava', 1), ('silver', 1), ('kwssandiego', 1), ('aimandel', 1), ('geospatialucd', 1), ('nuses', 1), ('qgis', 1), ('github', 1), ('gischat\\\\nhttps', 1), ('t.co/gphuf7wefa', 1), ('7/11', 1), ('rahman', 1), ('ucsbcomplit', 1), ('baez', 1), ('gatekeeping', 1), ('geography', 1), ('t.co/dqrrnpmmag', 1), ('t.co/vnbt0ri0jv', 1), ('t.co/6f9gynoygk', 1), ('t.co/709odaijfn', 1), ('brittagus', 1), ('predecessors', 1), ('t.co/ndio4lkxmw', 1), ('t.co/f2vntc6mav', 1), ('t.co/rgnsc3pjqu', 1), ('iberian', 1), ('ryan', 1), ('lynch', 1), ('feria', 1), ('libro', 1), ('bogotá', 1), ('colombia', 1), ('filbo2018', 1), ('t.co/nqu3euijzr', 1), ('t.co/xfeev56svt', 1), ('t.co/nc5xnhvqn8', 1), ('6/1', 1), ('11:30am-1pm', 1), ('1135', 1), ('jorgensen', 1), ('ucsbtheatrdance', 1), ('scherich', 1), ('math', 1), ('drama', 1), ('t.co/5r1971mqjt', 1), ('johanna', 1), ('drucker', 1), ('t.co/faar2iq8s8', 1), ('thought', 1), ('t.co/srwfr1exyd', 1), ('btwd', 1), ('reef', 1), ('tanks', 1), ('hare', 1), ('t.co/76j8cdcctn', 1), ('t.co/l2vm0qz9l3', 1), ('staffcelebrationweek', 1), ('t.co/48whg3ytlj', 1), ('deliver', 1), ('instructional', 1), ('textual', 1), ('numeric', 1), ('demographic', 1), ('t.co/un0lzxpb5s', 1), ('loex', 1), ('chelseaheinbach', 1), ('t.co/7uqrs1ngmb', 1), ('ontakragoueke', 1), ('nubian', 1), ('t.co/9xyfdnilry', 1), ('passionate', 1), ('educator', 1), ('graves', 1), ('t.co/dbgclz6uvz', 1), ('fushimi', 1), ('inari', 1), ('shrine', 1), ('stoica', 1), ('t.co/z9srifoqbv', 1), ('automation', 1), ('sophia', 1), ('mccabe', 1), ('naman', 1), ('raval', 1), ('t.co/thpvhgykvg', 1), ('t.co/pphpac51kb', 1), ('t.co/ueogxy7eou', 1), ('peytonyen', 1), ('hopejahren', 1), ('t.co/60yg5losfr', 1), ('venture', 1), ('marketresearch', 1), ('frost_sullivan', 1), ('dm', 1), ('byo', 1), ('blanket', 1), ('nationalpicnicday', 1), ('t.co/4traqozdgx', 1), ('nationalhighfiveday', 1), ('t.co/o8rdbxcfyj', 1), ('originated', 1), ('t.co/t3ky75efyf', 1), ('oharascience', 1), ('t.co/6ksanwy5qn', 1), ('home\\\\njust', 1), ('ncramming', 1), ('midterms\\\\n', 1), ('haikupoetryday', 1), ('canon', 1), ('hastings', 1), ('t.co/frpfq1wbz4', 1), ('kelsey', 1), ('bisson', 1), ('arrington', 1), ('describe', 1), ('expedition', 1), ('channel', 1), ('t.co/6enx0ag998', 1), ('pjday', 1), ('noweditingaf', 1), ('af5', 1), ('t.co/vrijgj9d4p', 1), ('10k', 1), ('33k', 1), ('donors', 1), ('t.co/6bjvoprjlq', 1), ('all-natural', 1), ('gelato', 1), ('3:00', 1), ('t.co/orvmdd3isf', 1), ('t.co/hha7fkwkx2', 1), ('powerhouse', 1), ('t.co/xjjjb1b1se', 1), ('soaking', 1), ('48', 1), ('t.co/z7ftnthjya', 1), ('kimchi', 1), ('xiong', 1), ('korea.\\\\n\\\\n', 1), ('t.co/lxda0yjru3', 1), ('6:30pm', 1), ('t.co/whnbvgma2x', 1), ('engaged', 1), ('edged', 1), ('coveted', 1), ('t.co/7m4bff30io', 1), ('leclercq', 1), ('t.co/x12d2uceq5', 1), ('stroll', 1), ('nationalwalkingday', 1), ('8:00pm', 1), ('7:20pm', 1), ('t.co/1ruw9iq6nd', 1), ('w/hope', 1), ('t.co/1iu7jywimt', 1), ('t.co/dccudj3dfy', 1), ('backup', 1), ('worldbackupday', 1), ('nationalwalkintheparkday', 1), ('10am-5pm', 1), ('5pm-9pm', 1), ('t.co/hy1c7nszvj', 1), ('t.co/myihgdqd3n', 1), ('t.co/9gmopjwbzm', 1), ('cute', 1), ('puppy', 1), ('nationalpuppyday', 1), ('t.co/jedi8bbeyt', 1), ('refill', 1), ('reusable', 1), ('worldwaterday', 1), ('nail-biter\\\\ncramming', 1), ('pulling', 1), ('all-nighter\\\\nspring', 1), ('okay\\\\nso', 1), ('gear', 1), ('epic', 1), ('stodgy', 1), ('hand-written', 1), ('t.co/8avtqoqcgf', 1), ('t.co/jhektihccj', 1), ('t.co/nualqt4j5o', 1), ('worldsleepday', 1), ('snow', 1), ('boarding', 1), ('barrera', 1), ('chile', 1), ('t.co/bemd6isyno', 1), ('t.co/ls6yxwdzz6', 1), ('honest', 1), ('es161', 1), ('t.co/ppnoshgmzi', 1), ('laser', 1), ('array', 1), ('madajian/sasha', 1), ('lubinlab', 1), ('t.co/gj2t8fc2sd', 1), ('uc-santa', 1), ('—https', 1), ('t.co/r7b8nk5jp8', 1), ('climates', 1), ('compounds', 1), ('reitz', 1), ('t.co/faycn5eux8', 1), ('maytheforcebewithyou', 1), ('t.co/c3l4ovx95z', 1), ('t.co/emerpxbgfs', 1), ('t.co/thuicrf4ei', 1), ('impacts', 1), ('soup', 1), ('t.co/ws8wgtec29', 1), ('t.co/jay0byj3wv', 1), ('adamuseum', 1), ('t.co/kxskirrgn8', 1), ('conclusion', 1), ('wakanda', 1), ('béhanzin', 1), ('t.co/mx9mv8bzgs', 1), ('t.co/hws86ehqxs', 1), ('affirmation', 1), ('assata', 1), ('shakur', 1), ('t.co/sa3nzrleyo', 1), ('t.co/3jqydqipsj', 1), ('rendering', 1), ('encoded', 1), ('objects', 1), ('cnc', 1), ('transitions', 1), ('embodied', 1), ('molly', 1), ('morin', 1), ('weberstateu', 1), ('transcriptions', 1), ('t.co/sapxzcuxno', 1), ('t.co/o92xdzhioh', 1), ('shining', 1), ('breeze', 1), ('snuggle', 1), ('57', 1), ('cism', 1), ('decolonizing', 1), ('ethnomusicological', 1), ('aaron', 1), ('columbia_music', 1), ('t.co/dx8a4f9squ', 1), ('t.co/dbpckecum6', 1), ('similarities', 1), ('warriors', 1), ('t.co/hgzizt9k6u', 1), ('t.co/w2df11ibxv', 1), ('donating', 1), ('boost', 1), ('t.co/h8pvlcjs61', 1), ('t.co/txap4cf9un', 1), ('texture', 1), ('steffen', 1), ('geok-lin', 1), ('lim', 1), ('t.co/i00iaozn3g', 1), ('valentinesday', 1), ('t.co/pit2b1euda', 1), ('destruction', 1), ('t.co/amp3pehl7m', 1), ('t.co/8a8cinbt2d', 1), ('t.co/kz7fck6frw', 1), ('release', 1), ('ucsb_eng', 1), ('t.co/anxq9we7ep', 1), ('t.co/inmjfs6wve', 1), ('clint', 1), ('bocksteigel', 1), ('joyhanna', 1), ('yoo', 1), ('garza', 1), ('t.co/rccczpgwe0', 1), ('concise', 1), ('fairuse', 1), ('t.co/piewwwenpb', 1), ('muslib2018', 1), ('perfect', 1), ('t.co/3hquilnmsa', 1), ('t.co/hjrvjtowau', 1), ('t.co/qvusnwd7wj', 1), ('t.co/gvmqvdeghd', 1), ('ppf', 1), ('cornerstone', 1), ('sole', 1), ('sbhc', 1), ('113', 1), ('t.co/zjzqdsepaf', 1), ('t.co/0oqjhhavi7', 1), ('span', 1), ('legrady', 1), ('québec', 1), ('180', 1), ('t.co/pcwxgzzayk', 1), ('libraryshelfieday', 1), ('preview', 1), ('shelved', 1), ('al-wasīṭ', 1), ('fī', 1), ('al-madhhab', 1), ('medieval', 1), ('theologian', 1), ('al-ghazali', 1), ('commentary', 1), ('al-qaradaghi', 1), ('t.co/f9hpmkdqar', 1), ('fame', 1), ('noontime', 1), ('noon-12:15pm', 1), ('days/and', 1), ('t.co/o8anqnjwcr', 1), ('segment', 1), ('t.co/ink8ilhvgb', 1), ('t.co/9lg3i5w1n7', 1), ('t.co/bht4l6nxvk', 1), ('unable', 1), ('t.co/jxhdq84cgb', 1), ('t.co/zxeefsadcc', 1), ('t.co/jvvi4ndb3u', 1), ('nazli', 1), ('azergun', 1), ('ucsbglobal', 1), ('brandon', 1), ('issac', 1), ('t.co/jyn7sgc7jb', 1), ('t.co/wwurzadwpb', 1), ('t.co/v4kvhdjxpg', 1), ('creature', 1), ('stirring', 1), ('mouse', 1), ('t.co/xna9nf71nw', 1), ('t.co/inmjfso7to', 1), ('t.co/wluotbrytw', 1), ('t.co/isqm0ve5gj', 1), ('t.co/38fo0sx4il', 1), ('2016-2017', 1), ('t.co/7esmkr0scv', 1), ('t.co/mqrunr62ht', 1), ('comfy', 1), ('t.co/mp46ejyw7f', 1), ('t.co/k5jjyhitue', 1), ('landsat8', 1), ('visualized', 1), ('jessup', 1), ('t.co/2mhar5aabm', 1), ('study-arity', 1), ('ucsb-administered', 1), ('powell', 1), ('7pm-7:30am', 1), ('bruins', 1), ('12/12', 1), ('ends', 1), ('t.co/nwfozheam0', 1), ('t.co/r72lz5m2dy', 1), ('mon–thu', 1), ('8am–6', 1), ('pm–10', 1), ('am–5', 1), ('pm–9', 1), ('and/or', 1), ('t.co/atrl10ozpr', 1), ('t.co/cffzayhoav', 1), ('networking', 1), ('properly', 1), ('least', 1), ('availability', 1), ('stability', 1), ('cycles', 1), ('aren', 1), ('protected', 1), ('caution', 1), ('however', 1), ('1:30pm', 1), ('1560', 1), ('t.co/fczsfq8egv', 1), ('joseph_tweston', 1), ('egress', 1), ('exits', 1), ('outward', 1), ('t.co/kjppbpclhh', 1), ('manage', 1), ('t.co/yz51l9gr3x', 1), ('t.co/rgvkaqmxj3', 1), ('donut', 1), ('t.co/hkushnkcp7', 1), ('t.co/zjdad6duzg', 1), ('t.co/h5gtxg0qbo', 1), ('7:45pm', 1), ('t.co/xemvmr1uct', 1), ('patience', 1), ('t.co/qsusc9oraa', 1), ('fashioned', 1), ('t.co/pppe91mqyl', 1), ('operational', 1), ('t.co/x7ilprrzab', 1), ('offline', 1), ('continued', 1), ('n\\\\nmusic', 1), ('twisterium', 1), ('t.co/gkwveacsiq', 1), ('t.co/rzoan57ay6', 1), ('t.co/y75oz9kyku', 1), ('t.co/ctdfhdbeid', 1), ('library.\\\\nmusic', 1), ('passion', 1), ('hifi', 1), ('t.co/pydnzirodo', 1), ('t.co/2lduatdggc', 1), ('sunsets', 1), ('sky', 1), ('t.co/pz7gruswaf', 1), ('t.co/imvijues2r', 1), ('kynita', 1), ('stringer-stanback', 1), ('nwsa2017', 1), ('t.co/1wkrcf2upg', 1), ('nmusic', 1), ('pdub', 1), ('rapper', 1), ('kehlani', 1), ('liquor', 1), ('pdubcookin', 1), ('t.co/pwjshphgjw', 1), ('prize-winning', 1), ('paleobiologist', 1), ('t.co/bgskw82dtw', 1), ('t.co/al4ansp2pz', 1), ('t.co/npbq4v7pvd', 1), ('enabled', 1), ('superman', 1), ('x-ray', 1), ('vision', 1), ('yasamin', 1), ('mostofi', 1), ('t.co/s27jgbhxvc', 1), ('t.co/zsve9l0krq', 1), ('t.co/cqxxqu3ptn', 1), ('t.co/fuqufuwqot', 1), ('pressed', 1), ('t.co/t3vemdrtzl', 1), ('t.co/j49wmosria', 1), ('t.co/6sbm4p7elb', 1), ('brittnacher', 1), ('leverage', 1), ('waml2017', 1), ('t.co/mljr9vd2bh', 1), ('dodger', 1), ('stadium', 1), ('tg-2400', 1), ('dodgers', 1), ('worldseries2017', 1), ('t.co/5aonenkel4', 1), ('tucked', 1), ('t.co/gvjuas8mwf', 1), ('qualitative', 1), ('nvivo', 1), ('fl', 1), ('t.co/4ih4erer2a', 1), ('ronthecanuxican', 1), ('disconnect', 1), ('couldn', 1), ('assistance', 1), ('oaweek17', 1), ('t.co/vqd7jrdxdy', 1), ('dvds', 1), ('blu-rays', 1), ('nsubject', 1), ('t.co/b1ueu06i75', 1), ('archivesbazaar', 1), ('t.co/tylqmktjdh', 1), ('scary', 1), ('ucsblibrary\\\\n\\\\nmusic', 1), ('t.co/eep3wxiuhd', 1), ('t.co/z7m3ltpa4i', 1), ('spanning', 1), ('anime', 1), ('zoology', 1), ('potter', 1), ('t.co/qhy3m3qop7', 1), ('t.co/hpz3igqw5a', 1), ('sage_methods', 1), ('socialscience', 1), ('10/17/17', 1), ('t.co/ydluhiku8a', 1), ('t.co/rfs6koyygg', 1), ('ekstrom', 1), ('t.co/1mi0ef2qxu', 1), ('acharityhudley', 1), ('t.co/pbd3dim9rx', 1), ('t.co/hb3fjltsvk', 1), ('tin', 1), ('foil', 1), ('t.co/fwcamhlx1o', 1), ('t.co/xy9xigr5jt', 1), ('neuronas', 1), ('árboles', 1), ('leung', 1), ('tyler', 1), ('ogunmowo', 1), ('nri', 1), ('t.co/fubyyoozh8', 1), ('t.co/fyqa9yhw8e', 1), ('t.co/jgbzwjejwt', 1), ('t.co/5okdj8xbaa', 1), ('superheroes', 1), ('wonder', 1), ('authentic', 1), ('03/2018', 1), ('t.co/y1xpvybmfm', 1), ('botanical', 1), ('illustrations', 1), ('t.co/htzag4faks', 1), ('unity', 1), ('leland', 1), ('wong', 1), ('nihonmachi', 1), ('egs', 1), ('t.co/db84vnqk33', 1), ('tidyverse', 1), ('meetup', 1), ('t.co/5murpfo1xr', 1), ('t.co/jxau4lktc7', 1), ('truth', 1), ('t.co/cnnthi82vn', 1), ('arif', 1), ('gungor', 1), ('dagli', 1), ('ece', 1), ('t.co/lqdjrsiypf', 1), ('t.co/evgumfvgrq', 1), ('t.co/airu1ayvvc', 1), ('seeyouthere', 1), ('founding', 1), ('t.co/adrec3ouym', 1), ('odyssey', 1), ('klos', 1), ('t.co/699f2mh9h3', 1), ('lipid', 1), ('minasyan', 1), ('t.co/kfvvylbxb5', 1), ('peruses', 1), ('hubble', 1), ('t.co/zly9aljmzp', 1), ('straight', 1), ('t.co/xhivdzghsu', 1), ('t.co/6nu9twd5ue', 1), ('rhonabwy', 1), ('t.co/yuc1vpcuyq', 1), ('grabbed', 1), ('cozy', 1), ('cia', 1), ('t.co/zge77jxiqi', 1), ('reflections', 1), ('t.co/44psfgmcf1', 1), ('chaos', 1), ('humberto', 1), ('foronda', 1), ('ucsbengineerin', 1), ('t.co/7ebq4hvod7', 1), ('mgmt', 1), ('uc3dash', 1), ('hyperbolic', 1), ('streaks', 1), ('t.co/renlxo2har', 1), ('1932', 1), ('eclipse', 1), ('eclipse2017', 1), ('flashbackfriday', 1), ('t.co/cbt0fowonq', 1), ('usc', 1), ('uscvillage', 1), ('grids', 1), ('collide', 1), ('t.co/mqpbqiped5', 1), ('warhol', 1), ('amanda', 1), ('kautzman', 1), ('t.co/rci2yjyeyz', 1), ('morphology', 1), ('coexistence', 1), ('lung', 1), ('surfactant', 1), ('monolayer', 1), ('t.co/jmafplryqf', 1), ('peak', 1), ('t.co/cirmaux63r', 1), ('radium', 1), ('owls', 1), ('barometer', 1), ('shoppers', 1), ('buying', 1), ('t.co/pq1jpyoga1', 1), ('t.co/mtgewimd5o', 1), ('salvadorgüereña', 1), ('thnx', 1), ('sothebysinst', 1), ('t.co/gtvllvwplv', 1), ('beaudry', 1), ('archivists_org', 1), ('t.co/0pw0zuapv0', 1), ('maj_variola', 1), ('campuswide', 1), ('viet', 1), ('thanh', 1), ('t.co/quczqps3hw', 1), ('t.co/dguvkip9fe', 1), ('t.co/ymlhfegcaf', 1), ('t.co/kqg07fxt0v', 1), ('t.co/itbw5llqdg', 1), ('t.co/rikrabkfc6', 1), ('t.co/ekg3oau4ae', 1), ('t.co/dmlnfed8bj', 1), ('h.r', 1), ('3962', 1), ('lois', 1), ('capps', 1), ('333', 1), ('t.co/dkb2fbkmso', 1), ('t.co/ekg3obbf2c', 1), ('t.co/c3sgza5iaa', 1), ('pail', 1), ('butler', 1), ('yeats', 1), ('n\\\\ncongratulations', 1), ('t.co/ks0exp8rom', 1), ('cue', 1), ('tumbleweeds', 1), ('outofhere', 1), ('t.co/9m3n0n2kcj', 1), ('ghostbusters', 1), ('ghosts', 1), ('paranormal', 1), ('activity', 1), ('t.co/nv8o9vfce3', 1), ('t.co/xgfpva4vm2', 1), ('missions', 1), ('t.co/kmicmcdcue', 1), ('storymap', 1), ('t.co/sqlpwvtlq2', 1), ('148', 1), ('t.co/czjkleqdvb', 1), ('deity', 1), ('interplay', 1), ('kami', 1), ('buddhas', 1), ('t.co/v5oi4yl6zd', 1), ('trazos', 1), ('concreto', 1), ('y', 1), ('arte', 1), ('urbano', 1), ('streetart', 1), ('t.co/hbdp9nwapo', 1), ('t.co/tatuqznj4d', 1), ('protest', 1), ('173', 1), ('t.co/pjldeht09n', 1), ('t.co/czrgodv8qp', 1), ('printmaking', 1), ('unite', 1), ('roxburghe', 1), ('t.co/gkvxaspzbc', 1), ('wilson', 1), ('proclaims', 1), ('☎️', 1), ('mis', 1), ('madres', 1), ('ester', 1), ('hernandez', 1), ('t.co/e0thvx98ea', 1), ('planets', 1), ('unexplained', 1), ('👽', 1), ('ufo', 1), ('t.co/p4s704u0kg', 1), ('metricisation', 1), ('adema', 1), ('t.co/tnqao4qftu', 1), ('chicanohertiage', 1), ('sca17', 1), ('t.co/mazvadjpx2', 1), ('amldavisann', 1), ('893-3062', 1), ('duplications', 1), ('04/28', 1), ('salvador', 1), ('güereña', 1), ('calarchivists', 1), ('t.co/g7g2k8ofq3', 1), ('vintage', 1), ('t.co/sekun3bm4k', 1), ('1906', 1), ('3000', 1), ('t.co/s0jsujg11q', 1), ('t.co/hqcappnubl', 1), ('specialresearchcollections', 1), ('t.co/9pgqnbpwaz', 1), ('t.co/da1xzemiyt', 1), ('t.co/pumwkqp7is', 1), ('dignity', 1), ('elawro', 1), ('04/14', 1), ('1:00pm', 1), ('t.co/mbix7lov5i', 1), ('nationallibraryweek', 1), ('t.co/qdm6oqvpdw', 1), ('t.co/kaisrqofq9', 1), ('gerardo', 1), ('colmenar', 1), ('t.co/3ecpyctlqh', 1), ('talents', 1), ('t.co/lbjcflwcwc', 1), ('bookarts', 1), ('t.co/d7wfhvsz5d', 1), ('t.co/jm82yfbuim', 1), ('arc', 1), ('moral', 1), ('bends', 1), ('t.co/66w50rvtfj', 1), ('t.co/mtzlpeolyc', 1), ('20-21', 1), ('t.co/ycg9swmdqe', 1), ('dataviz', 1), ('advenimiento', 1), ('cema3', 1), ('samuel', 1), ('baray', 1), ('t.co/vprooto5gv', 1), ('t.co/moybew7vn7', 1), ('pcvfveterans', 1), ('actually', 1), ('helmet', 1), ('trenches', 1), ('t.co/d7okoaityc', 1), ('myri_003', 1), ('t.co/wzwtm9ajom', 1), ('taralevey', 1), ('t.co/igwywuat21', 1), ('taylorlbunce', 1), ('t.co/ozvho4epzg', 1), ('lpforum17', 1), ('herzka', 1), ('z276', 1), ('h47', 1), ('t.co/p3jtq2jjhh', 1), ('docker', 1), ('mtg', 1), ('reproducibility', 1), ('t.co/ja5say1hc9', 1), ('fnjewmo', 1), ('👍', 1), ('cadatalib', 1), ('continuation', 1), ('to\\\\n', 1), ('physed', 1), ('concerts', 1), ('t.co/ucytcvmlyo', 1), ('nascent', 1), ('contingent', 1), ('c4l17', 1), ('gettin', 1), ('t.co/avugfceng8', 1), ('abusive', 1), ('sterilization', 1), ('t.co/luoyijbeni', 1), ('agriculture', 1), ('t.co/cjr3ifwtps', 1), ('portraits', 1), ('t.co/ryyjxelvew', 1), ('t.co/ghssah4gc2', 1), ('migrant', 1), ('9th', 1), ('t.co/e1cg8tshmn', 1), ('n\\\\nvisit', 1), ('20-24\\\\n\\\\n', 1), ('t.co/qkvghz8ufo', 1), ('hiding', 1), ('midterm', 1), ('goody', 1), ('bags', 1), ('rak', 1), ('staples', 1), ('t.co/wst3tilvtx', 1), ('t.co/9x5xkr3rjt', 1), ('gogh', 1), ('suoqing', 1), ('ji', 1), ('t.co/5655avvs1q', 1), ('reminders', 1), ('equal', 1), ('suffrage', 1), ('t.co/2ymy5zbic1', 1), ('t.co/7wqgkbr45m', 1), ('maru_tej', 1), ('happyreading', 1), ('t.co/owntiz2z9f', 1), ('congresswoman', 1), ('reploiscapps', 1), ('t.co/wxsvkibt2v', 1), ('digitalscholarship', 1), ('t.co/etw2cueqjo', 1), ('23-27', 1), ('mcc', 1), ('t.co/ajldxghric', 1), ('erikakahn', 1), ('aquatint', 1), ('etching', 1), ('t.co/feq5ujq6yl', 1), ('till', 1), ('intothebeautifulnorth', 1), ('t.co/rzl5uitjws', 1), ('kc', 1), ('tu', 1), ('t.co/jntxyjtzqu', 1), ('table-talk', 1), ('t.co/b7dmnxuqyi', 1), ('t.co/f53mrgtryw', 1), ('ranging', 1), ('deeply', 1), ('humane', 1), ('t.co/s92u3nvxcj', 1), ('01/17', 1), ('1860s', 1), ('knife', 1), ('t.co/daaq6aegje', 1), ('t.co/3g8umxxsqc', 1), ('surmise', 1), ('humanists', 1), ('t.co/nfo4kjtn9t', 1), ('vinyl', 1), ('listened', 1), ('t.co/osffag8lab', 1), ('t.co/2qzkr407kk', 1), ('10-12', 1), ('urrealism', 1), ('seasonsgreetings', 1), ('kelton', 1), ('pa', 1), ('120', 1), ('24th-jan', 1), ('t.co/bsjpjvm1oe', 1), ('props', 1), ('rebeccalmetzger', 1), ('kwallcompany', 1), ('annieplatoff', 1), ('t.co/n2d0zsblrf', 1), ('francklin', 1), ('atkinson', 1), ('curry', 1), ('rice', 1), ('1860', 1), ('satirical', 1), ('raj', 1), ('t.co/u56d8yyiq2', 1), ('t.co/antfmbsbs7', 1), ('t.co/ngfgugnov4', 1), ('safetyfirst', 1), ('t.co/mkskdfe5l9', 1), ('t.co/qpixqiyhrb', 1), ('1/16/17', 1), ('t.co/66ef1uou68', 1), ('quite', 1), ('multimediaexperience', 1), ('quiver', 1), ('lori', 1), ('moseman', 1), ('t.co/6ydioycu4o', 1), ('osborn', 1), ('excerpts', 1), ('carl', 1), ('bode-norman', 1), ('holmes', 1), ('pearson', 1), ('contribution', 1), ('americanstudies', 1), ('brigada', 1), ('bravo', 1), ('diaz', 1), ('t.co/ud6iekkfqq', 1), ('musicmonday', 1), ('urrea', 1), ('t.co/ez7tv3mtuz', 1), ('rolling', 1), ('t.co/utceaq37yi', 1), ('rolled', 1), ('mid-december', 1), ('t.co/wlqidj7j4h', 1), ('ukulele', 1), ('donna', 1), ('t.co/wpcwoxceod', 1), ('finalsweekmotivation', 1), ('velo/veil', 1), ('margaret', 1), ('guzmán', 1), ('1999\\\\nfrom', 1), ('t.co/r8ldizwhb1', 1), ('ucsbhealthwell', 1), ('relaxation', 1), ('relaxinstyle', 1), ('t.co/ly9iid1ftg', 1), ('ahh😱', 1), ('😅', 1), ('studyhard', 1), ('reveals', 1), ('t.co/o1jdjmay5f', 1), ('t.co/yht7onp3e5', 1), ('oldschool', 1), ('ndepartment', 1), ('accession', 1), ('1976-1985', 1), ('t.co/6hdgjcxxar', 1), ('japanese', 1), ('woodblock', 1), ('1850s\\\\ndepicting', 1), ('commodore', 1), ('matthew', 1), ('perry', 1), ('fleet', 1), ('japanesehistory', 1), ('americanhistory', 1), ('t.co/yaqxzfps88', 1), ('worst', 1), ('losing', 1), ('headphones', 1), ('wooden', 1), ('needles', 1), ('1918', 1), ('filmophone', 1), ('t.co/mltcv4fdu0', 1), ('flora', 1), ('banks', 1), ('florilegium', 1), ('nothofagus', 1), ('betuloides', 1), ('mirbel', 1), ('oersted', 1), ('1769', 1), ('tierra', 1), ('fuego', 1), ('727', 1), ('t.co/d3ibiisbzi', 1), ('pin', 1), ('t.co/obrxu5nemo', 1), ('digitalcollection', 1), ('cylinderrecordings', 1), ('1877', 1), ('1929\\\\n', 1), ('t.co/92lpl49n74', 1), ('mole', 1), ('gamma', 1), ('eater', 1), ('judygarland', 1), ('1958/9', 1), ('t.co/qza7egczqh', 1), ('coatesbrendan', 1), ('av', 1), ('amia16', 1), ('introducing', 1), ('automated', 1), ('qc', 1), ('t.co/zi7zlrv2vl', 1), ('10:00', 1), ('9:00', 1), ('observance', 1), ('electionday\\\\nour', 1), ('picked', 1), ('t.co/f993kiyrpj', 1), ('cosponsoring', 1), ('conserve', 1), ('center/la', 1), ('chicanoart', 1), ('t.co/b4ecywnesu', 1), ('self-governance', 1), ('t.co/favd6to4j0', 1), ('thin', 1), ('ice', 1), ('antarctic', 1), ('changing', 1), ('gehofmann', 1), ('t.co/t78sxbpfu5', 1), ('hurry', 1), ('sugar', 1), ('t.co/dn7y0azoyy', 1), ('👻treat-or-tricking👻', 1), ('canute', 1), ('caliste', 1), ('t.co/wjvidjnlxj', 1), ('t.co/nvq1bhhdle', 1), ('oaweek2016', 1), ('presenters', 1), ('t.co/0n6ei8pnzc', 1), ('t.co/soma3tqbms', 1), ('bigwin', 1), ('t.co/ewyxxxdt3z', 1), ('goucsblibraryteam', 1), ('t.co/jg5bo38ez9', 1), ('witchcraft', 1), ('🕯👻🎃', 1), ('religions', 1), ('spookyweek', 1), ('t.co/q4gv8lo555', 1), ('lamenting', 1), ('graced', 1), ('walls', 1), ('t.co/lueehcf8mp', 1), ('fridayfinds', 1), ('dinar', 1), ('stamps', 1), ('keychain', 1), ('iraqi-american', 1), ('delegation', 1), ('t.co/1e2nmhsanu', 1), ('reels', 1), ('santabarbarahistory', 1), ('avpreservation', 1), ('t.co/vjonhfflf2', 1), ('publicuvalues', 1), ('aplu_news', 1), ('t.co/jvlmc9ugae', 1), ('t.co/313cux0wrj', 1), ('t.co/fs6dgbxfgt', 1), ('jobfairy', 1), ('lac', 1), ('pleurs', 1), ('gaylordschan', 1), ('nillustrations', 1), ('traditional', 1), ('wood', 1), ('engraving', 1), ('t.co/wmr3kgxodk', 1), ('t.co/uhxbszsgoy', 1), ('laassubject', 1), ('bazaar', 1), ('usclibraries', 1), ('10/15', 1), ('ucsblibrarycrew', 1), ('cohorts', 1), ('intern', 1), ('inter-american', 1), ('ias2016', 1), ('charango', 1), ('w/armadillo', 1), ('t.co/q34qdgebzc', 1), ('t.co/qtkzyqegfh', 1), ('aid', 1), ('t.co/fngxqfbukp', 1), ('t.co/x8zjg14ib0', 1), ('w/the', 1), ('t.co/haywiv9wpw', 1), ('imlsgrant', 1), ('t.co/4s10d3kpf2', 1), ('creation', 1), ('t.co/w7oc7bu2dd', 1), ('t.co/j86oefhv44', 1), ('cmc_prairie', 1), ('ucalgarylibrary', 1), ('iamwrathleen', 1), ('weds', 1), ('w/hashtag', 1), ('wed.oct', 1), ('t.co/ahg4oebepq', 1), ('t.co/wumu82arnw', 1), ('sometime', 1), ('2nd-floor', 1), ('t.co/09blk9a8gw', 1), ('smoked', 1), ('trout', 1), ('ferns', 1), ('t.co/6pgwqjm3st', 1), ('t.co/6sr1f74kfb', 1), ('idol', 1), ('impersonator', 1), ('vesta', 1), ('tilley', 1), ('t.co/98e4fyjq0u', 1), ('t.co/zsxam6bjsl', 1), ('jeffreytoobin', 1), ('newyorker', 1), ('t.co/eef7jgzlqy', 1), ('t.co/a2ktfkifns', 1), ('t.co/bgw0upsrxu', 1), ('t.co/qy8ctaf2uy', 1), ('bee', 1), ('gees', 1), ('bookaband', 1), ('t.co/1uzzldarqy', 1), ('gymnastic', 1), ('t.co/ti6ohg7yuz', 1), ('billiamvan', 1), ('addressed', 1), ('techinsider', 1), ('t.co/amlvkkwnr7', 1), ('az', 1), ('t.co/2v5epwf03v', 1), ('1854', 1), ('t.co/twofbvvlig', 1), ('t.co/in6yi6nez0', 1), ('t.co/swoajdiieu', 1), ('avg', 1), ('1,950', 1), ('burned', 1), ('sur', 1), ('51,000', 1), ('t.co/ris6sbwp5j', 1), ('t.co/3omlmw26io', 1), ('confused', 1), ('logon', 1), ('log-in', 1), ('t.co/61omd6esjl', 1), ('grammarly', 1), ('t.co/dvsyy5zskz', 1), ('t.co/gvkgucpa29', 1), ('mcpherson', 1), ('t.co/6j5gngftfq', 1), ('t.co/nxeefjdzny', 1), ('t.co/qqmpiabitc', 1), ('architectural', 1), ('diniz', 1), ('t.co/zlmw991cdq', 1), ('t.co/jgqwet3l0h', 1), ('atlantic', 1), ('t.co/fubnwdoyhy', 1), ('t.co/yzcrda4qr3', 1), ('apparently', 1), ('bear', 1), ('mascots', 1), ('t.co/vbjjdryijv', 1), ('homesick', 1), ('t.co/w1jscyawxs', 1), ('djdely1', 1), ('vogue', 1), ('electronically', 1), ('affiliate', 1), ('62', 1), ('tolkien', 1), ('t.co/xwyls3ldzn', 1), ('t.co/uf5ena4n0o', 1), ('ridland', 1), ('translation', 1), ('gawain', 1), ('t.co/21i93iullz', 1), ('t.co/xlhxxk5tpx', 1), ('socarxiv', 1), ('t.co/1hcd89luzk', 1), ('1982', 1), ('calif', 1), ('jerry', 1), ('t.co/aucr4vci94', 1), ('t.co/ulbl2hrllf', 1), ('t.co/bkhqlagiug', 1), ('carol', 1), ('oates', 1), ('t.co/lsppigg92l', 1), ('t.co/zueb6cedyy', 1), ('t.co/oftddhikc7', 1), ('t.co/6pq7rfb0d0', 1), ('eventually', 1), ('t.co/7mdfa0suwc', 1), ('2016-17', 1), ('fareed', 1), ('zakaria', 1), ('isabel', 1), ('allende', 1), ('t.co/u5xrg2axnv', 1), ('t.co/fcokeoqytc', 1), ('t.co/kaik83jwwm', 1), ('t.co/9wls29itfk', 1), ('minerals', 1), ('t.co/og4wp2vxjz', 1), ('t.co/vgz5k6yoqx', 1), ('1955', 1), ('t.co/b2mzankxl2', 1), ('bird', 1), ('t.co/woiuvngipf', 1), ('wing', 1), ('t.co/ayjqhmovaf', 1), ('reading/relaxing', 1), ('t.co/srig78oklo', 1), ('bowl', 1), ('t.co/wirmusvwkd', 1), ('weareorlando', 1), ('t.co/fmdlooap5k', 1), ('cwsomaha', 1), ('t.co/cgs1uqqvhj', 1), ('ulysses', 1), ('t.co/k8b85bnew9', 1), ('t.co/vgs7fdifsi', 1), ('t.co/gne4ccjqsi', 1), ('vacation', 1), ('librariesrock', 1), ('t.co/djvfich031', 1), ('forth', 1), ('t.co/hgtdb5kwl2', 1), ('preparations', 1), ('emi', 1), ('t.co/sz9pdezahz', 1), ('t.co/11lhu8c39c', 1), ('chrystal', 1), ('t.co/rhmqovshsl', 1), ('t.co/fmnel17gql', 1), ('jessica', 1), ('sparks', 1), ('t.co/x9e53oqapw', 1), ('t.co/fbglo2btsf', 1), ('brontex33', 1), ('jemsoutrageous', 1), ('sun-th', 1), ('1pm-midnight', 1), ('fri-sat', 1), ('1-9pm', 1), ('remy', 1), ('bogna', 1), ('t.co/qa7t8sdt6r', 1), ('t.co/bqgmmi49x1', 1), ('cowboys', 1), ('t.co/crmudmozk0', 1), ('t.co/edbfnqb1i2', 1), ('t.co/y4etxdpb25', 1), ('t.co/0nocca4do0', 1), ('t.co/tgjukz4iox', 1), ('ralph', 1), ('waldo', 1), ('emerson', 1), ('1803', 1), ('t.co/luc8rl6uqb', 1), ('t.co/vx38asn2ih', 1), ('t.co/m477ngywt7', 1), ('roboticnetwork', 1), ('t.co/3snvwjtm26', 1), ('11:30am-1:30pm', 1), ('t.co/4fisgndlxl', 1), ('commemorate', 1), ('t.co/o725kplvqj', 1), ('t.co/uzymmg3jcb', 1), ('t.co/bkfbxvxdxo', 1), ('t.co/phd8f6fngn', 1), ('troubleshooting', 1), ('11-1', 1), ('t.co/3evi3i7al4', 1), ('t.co/0c0psbpib7', 1), ('vegetarian', 1), ('t.co/qespcayezo', 1), ('jon', 1), ('jablonksi', 1), ('t.co/a57etplmcx', 1), ('t.co/vkx3dr3tri', 1), ('associations', 1), ('endorse', 1), ('accord', 1), ('t.co/tjgir0jm4d', 1), ('t.co/uvjgm5cdra', 1), ('prominently', 1), ('t.co/rpptua7pbj', 1), ('quasiparticle', 1), ('collider', 1), ('sherwin', 1), ('t.co/rl6xaq3euj', 1), ('goucsbphysics', 1), ('caitlinrathe', 1), ('lettting', 1), ('t.co/uxkouyedbm', 1), ('reminds', 1), ('gmail', 1), ('t.co/pthzz1jkxf', 1), ('t.co/tq3wzk1pft', 1), ('metzger', 1), ('heroines', 1), ('ucsbpwa', 1), ('t.co/lt9t43olla', 1), ('t.co/r98nfh1rvl', 1), ('t.co/aspgw1v5sr', 1), ('t.co/5mx5ectd5z', 1), ('co-sponsoring', 1), ('t.co/kvymqoguk6', 1), ('steinbeck', 1), ('grapes', 1), ('1939', 1), ('t.co/ublosrircw', 1), ('adjustments', 1), ('t.co/1ahpq3gzns', 1), ('t.co/itxjhulet4', 1), ('shakespeare400', 1), ('w.s', 1), ('pub', 1), ('1685', 1), ('t.co/oxp0mp8rae', 1), ('t.co/7wvmhlma01', 1), ('classical', 1), ('shades', 1), ('t.co/kplet2tino', 1), ('just-built', 1), ('t.co/khhgaztbg5', 1), ('ballads', 1), ('16th', 1), ('17th', 1), ('centuries', 1), ('t.co/hcmw2hhqrm', 1), ('t.co/l6jlnbqskn', 1), ('christopher', 1), ('hopkins', 1), ('magnificent', 1), ('t.co/lsbt62u7dg', 1), ('t.co/2tnktkn8jo', 1), ('t.co/yomimix6wv', 1), ('0ldmunk', 1), ('t.co/bp1dolqgor', 1), ('t.co/9ndd8enfnk', 1), ('opposite', 1), ('poverty', 1), ('t.co/lbbvknyil8', 1), ('softwarecarpentry', 1), ('t.co/hwhxdjcws6', 1), ('instructor', 1), ('t.co/vwtdvecvpn', 1), ('t.co/lw30b9v6zg', 1), ('jsharkey47', 1), ('4/18', 1), ('t.co/paufwt3gjm', 1), ('t.co/iptpytoimn', 1), ('t.co/yq89hu4zl0', 1), ('1828', 1), ('noah', 1), ('t.co/keaz4lkyy8', 1), ('thedmptool', 1), ('kahlil', 1), ('almustafa', 1), ('t.co/wgfhwkmd8a', 1), ('formats', 1), ('t.co/zv3ei18bb7', 1), ('t.co/tpvvr1ayc4', 1), ('librariestransform', 1), ('decorated', 1), ('clearly', 1), ('t.co/gdl6ydjdja', 1), ('talizzle19', 1), ('t.co/pk1sj3xdsf', 1), ('t.co/pz7xzpskpp', 1), ('99,000', 1), ('libraryisgrateful', 1), ('t.co/p9jmbg8fpr', 1), ('t.co/kr2jzoy5sr', 1), ('engines', 1), ('t.co/mwetv3qirh', 1), ('t.co/xcshjtzsmm', 1), ('t.co/rer3bz4jo2', 1), ('ohana', 1), ('charitable', 1), ('t.co/2t8s1hhwwq', 1), ('t.co/avvspx0bna', 1), ('forecast', 1), ('t.co/6tzsn7ucx9', 1), ('t.co/3tzbhciy0x', 1), ('aldous', 1), ('huxley', 1), ('honorary', 1), ('doctorate', 1), ('t.co/kraro8mjou', 1), ('neven', 1), ('t.co/ksxk53diax', 1), ('wasting', 1), ('golki', 1), ('4/8/16', 1), ('t.co/bi9hy7rgyt', 1), ('t.co/1ifv3csn5v', 1), ('t.co/olovapo4sc', 1), ('t.co/hzqxf47ocb', 1), ('t.co/a0runfu9td', 1), ('patrick_mooney', 1), ('motion', 1), ('hannaham', 1), ('pen/faulkner', 1), ('delicious', 1), ('t.co/nlncdm51op', 1), ('t.co/chl2nomiql', 1), ('beverly', 1), ('cleary', 1), ('turning', 1), ('freedom', 1), ('t.co/nnjmxxz7dl', 1), ('policing', 1), ('foot', 1), ('t.co/q4quopzayg', 1), ('cares', 1), ('padilla', 1), ('voic', 1), ('t.co/bs85w9jjbg', 1), ('remodeled', 1), ('t.co/nvlisuuhr7', 1), ('condoning', 1), ('stains', 1), ('spilling', 1), ('sec', 1), ('clifford', 1), ('reacts', 1), ('lbjlibrary', 1), ('t.co/nntmc4z7ce', 1), ('ethnicity', 1), ('pose', 1), ('t.co/wgwb5e1dgz', 1), ('68', 1), ('mountaintop', 1), ('t.co/nitt0jtmdo', 1), ('t.co/o54tb7n5wx', 1), ('nationalpoetrymonth', 1), ('t.co/brfcuyip6g', 1), ('imre', 1), ('kertesz', 1), ('survived', 1), ('holocaust', 1), ('t.co/ul6b2hre8l', 1), ('noshing', 1), ('t.co/t1lf0lywoj', 1), ('appeal', 1), ('helenjmacdonald', 1), ('hawk', 1), ('t.co/y6fcu0kobq', 1), ('t.co/ubpeqg9zq1', 1), ('fortune', 1), ('t.co/9ca5bn9s3p', 1), ('t.co/vlynwuos2s', 1), ('t.co/s7rhiwrmde', 1), ('azaliabbyy', 1), ('angelica_ovoxo', 1), ('choosing', 1), ('futuregauche', 1), ('emma_jeannn', 1), ('aldair23', 1), ('t.co/nvoeqoxnsh', 1), ('casstawaay', 1), ('t.co/vd7gldkwd5', 1), ('rinahanatalioo', 1), ('rinah', 1), ('yessicaraeee', 1), ('t.co/zo91om4jqx', 1), ('sabrinadorable', 1), ('t.co/ybzcs9joud', 1), ('gabeekuhh', 1), ('t.co/g6tqtrcbtt', 1), ('ruv_gabby', 1), ('t.co/zsf8duzsjc', 1), ('🙂', 1), ('t.co/kyp47reaz5', 1), ('librarylady1000', 1), ('t.co/4olfctrg9m', 1), ('t.co/8baa635u8r', 1), ('wore', 1), ('st', 1), ('t.co/lzopfn4vai', 1), ('t.co/sky6djyyei', 1), ('t.co/efhjb1izsb\\\\ncheck', 1), ('murphy', 1), ('t.co/r2d0wz01ch', 1), ('positions', 1), ('t.co/iybjygzftl', 1), ('prevent', 1), ('famine', 1), ('thirst', 1), ('t.co/y1gh1wa7du', 1), ('rukioftheyear', 1), ('diagram', 1), ('oddest', 1), ('t.co/0brjnodl50', 1), ('t.co/qaszdvtzlp', 1), ('t.co/mqytgigvvh', 1), ('t.co/uxbll6wibg', 1), ('t.co/eelhjzhs5u', 1), ('emilysenefeld', 1), ('kvaughnjohnson', 1), ('lorraine', 1), ('hansberry', 1), ('raisin', 1), ('broadway', 1), ('t.co/cvao0pz410', 1), ('puzzles', 1), ('soothing', 1), ('t.co/u5aljuc1yu', 1), ('t.co/nqcgk7qpna', 1), ('rating', 1), ('t.co/5mb3xc9s03', 1), ('internationalwomen', 1), ('gradpost', 1), ('t.co/kjfv8xjomh', 1), ('t.co/nxdf35zht3', 1), ('t.co/vewlcyh8ia', 1), ('t.co/bnsl3nft0v', 1), ('t.co/pvlf3ijnio', 1), ('3-28', 1), ('t.co/pyf62ewflr', 1), ('t.co/2rphle5uqe', 1), ('t.co/yie3gxku7i', 1), ('wells', 1), ('summerland', 1), ('perennially', 1), ('t.co/boohmciuq4', 1), ('orfalea', 1), ('t.co/6whey4a032', 1), ('leapday', 1), ('leap', 1), ('seconds', 1), ('t.co/j9f36xekau', 1), ('t.co/gnkmisczag', 1), ('rptf', 1), ('t.co/7hr7h9b6ze', 1), ('t.co/xcrgxt22kd', 1), ('radiotaskforce', 1), ('t.co/zvheglygk6', 1), ('observatory', 1), ('t.co/soz8wo4fvm', 1), ('t.co/ebnagxjy2b', 1), ('1m', 1), ('t.co/k0u8ksbjb2', 1), ('license', 1), ('t.co/unti0rra6d', 1), ('sesame', 1), ('t.co/u737vbjrux', 1), ('t.co/zxwlefiker', 1), ('t.co/sjh7ad6nje', 1), ('77', 1), ('gambling', 1), ('59', 1), ('bettors', 1), ('protestant', 1), ('catholic', 1), ('jewish', 1), ('t.co/ypit9hrdur', 1), ('mosquito', 1), ('bite', 1), ('cdc', 1), ('t.co/cfjl9neiho', 1), ('t.co/1b5kdx2rjt', 1), ('fairuseweek2016', 1), ('t.co/ksjqt3vul1', 1), ('t.co/wkuvoqjbr9', 1), ('danielcornwall', 1), ('giant', 1), ('fugitive', 1), ('estimates', 1), ('cgp', 1), ('t.co/nmecsul4pd', 1), ('plants', 1), ('refineries', 1), ('pipelines', 1), ('t.co/ev1tmxmmdf', 1), ('t.co/jovwvrnvne', 1), ('t.co/ca3conwa0n', 1), ('t.co/dmwmevlsb6', 1), ('jay', 1), ('t.co/qyyr76b0kb', 1), ('t.co/mhafps46v2', 1), ('1960s', 1), ('detailed', 1), ('vacuum', 1), ('sputterer', 1), ('circuits', 1), ('t.co/sxlnitp7er', 1), ('weather', 1), ('noaa', 1), ('t.co/nzro9vahvh', 1), ('t.co/9xg694gqyt', 1), ('davidsonlibrary', 1), ('caseyreas', 1), ('benfry', 1), ('p5js', 1), ('t.co/iklq0ptwly', 1), ('ext0n', 1), ('usda', 1), ('mini-fridge', 1), ('t.co/1r086kv00r', 1), ('t.co/s6kfphlcmo', 1), ('t.co/y3dowspc7j', 1), ('t.co/ivdcnshy92', 1), ('emc', 1), ('ucsbenglish', 1), ('t.co/le8byi780a', 1), ('t.co/1cfay06fld', 1), ('valentines', 1), ('match', 1), ('couples', 1), ('t.co/rwu0tgyifw', 1), ('t.co/lulgqctpue', 1), ('anthem', 1), ('t.co/pvuxcljfpg', 1), ('connections', 1), ('jaytiesse', 1), ('mcdermottaward', 1), ('uber', 1), ('t.co/dapi51i47c', 1), ('budget', 1), ('t.co/l6xcrqbc6h', 1), ('t.co/auubz6dtx5', 1), ('t.co/u51nhsrqte', 1), ('t.co/ogsgyvpn7h', 1), ('hampshirites', 1), ('t.co/uqvpzzf5c1', 1), ('t.co/ij4l3y1p90', 1), ('pac', 1), ('t.co/j5ibb7rhvy', 1), ('t.co/fe8btgvhlt', 1), ('t.co/08ondbw19h', 1), ('t.co/akv5pbymu9', 1), ('t.co/d9ymeevs5f', 1), ('geologist', 1), ('arthur', 1), ('sylvester', 1), ('gans', 1), ('roadside', 1), ('geology', 1), ('t.co/i9q47aq7ui', 1), ('galore', 1), ('t.co/vhe5dnj8xw', 1), ('t.co/rbzhmsn0ku', 1), ('rosa', 1), ('parks', 1), ('t.co/8tk7cxokwg', 1), ('andrey_chabanov', 1), ('bowie', 1), ('posed', 1), ('reissued', 1), ('t.co/lr8aoxtjwp', 1), ('t.co/wxndzwrmlh', 1), ('juan', 1), ('felipe', 1), ('cilantroman', 1), ('t.co/rrbfutj819', 1), ('ucsbcurrent', 1), ('t.co/uvt4majyif', 1), ('t.co/jcr4bldrqc', 1), ('judicial', 1), ('t.co/jmrtx4geqp', 1), ('farther', 1), ('t.co/mlrjgtaukn', 1), ('monitoring', 1), ('ayyyyyye1', 1), ('isayugh', 1), ('jackdockham', 1), ('t.co/b6voba3yt0', 1), ('tresa', 1), ('principal', 1), ('ed.\\\\nmetallurgical', 1), ('transactions', 1), ('t.co/yoxfgd9lr5', 1), ('t.co/khgedsztcy', 1), ('discount', 1), ('t.co/fmcrsqan5a', 1), ('survive', 1), ('elie', 1), ('wiesel', 1), ('holocaustmemorialday', 1), ('t.co/hisc1he62g', 1), ('boards', 1), ('study-aid', 1), ('staple', 1), ('t.co/kzpnpbpyag', 1), ('footprint', 1), ('awaiting', 1), ('definitely', 1), ('ie', 1), ('musselman', 1), ('gettysburg', 1), ('penn', 1), ('t.co/ipjd0hwckz', 1), ('moneekabrar', 1), ('famed', 1), ('beloved', 1), ('dilling', 1), ('t.co/cctq3jpjo3', 1), ('rental', 1), ('typewriter', 1), ('t.co/kzrcdsw2xr', 1), ('belongs', 1), ('ucsbextension', 1), ('t.co/8xo89xun9h', 1), ('joanne', 1), ('calitri', 1), ('montecitojournal', 1), ('t.co/fp7cxxrjug', 1), ('t.co/tjtzoybwqm', 1), ('shall', 1), ('rev', 1), ('t.co/wt7vds1udx', 1), ('t.co/eqalvgssl3', 1), ('t.co/6rqhn47hpj', 1), ('t.co/qkziw9y7sm', 1), ('ucsbconferences', 1), ('t.co/xwplsoogj2', 1), ('donelan', 1), ('bookcover', 1), ('t.co/xscbaf4t17', 1), ('t.co/xqfhrpmznc', 1), ('t.co/l7txhtgeyp', 1), ('t.co/ba6pfoh40b', 1), ('t.co/tgwxkopiwh', 1), ('reinventingthelibrary', 1), ('t.co/7vjfjrkjqm', 1), ('t.co/hrfyrgwq3b', 1), ('t.co/viimswmwox', 1), ('gawd', 1), ('ngo', 1), ('t.co/kmt8gdrzcy', 1), ('soul', 1), ('t.co/myvb0vzcmv', 1), ('t.co/uuab7kew7l', 1), ('t.co/gzzrijg4ea', 1), ('t.co/yybrcreg3k', 1), ('ribbon', 1), ('cutting', 1), ('t.co/2fcoeyowkw', 1), ('jimmy', 1), ('villareal', 1), ('t.co/mv10k99zhb', 1), ('t.co/o8we2gg0lv', 1), ('t.co/1le3dhfpbh', 1), ('t.co/drcpnxtzbz', 1), ('t.co/iwdsyletfy', 1), ('t.co/mh1yjonsnf', 1), ('t.co/zpjtvbjahd', 1), ('t.co/nnketyd97a', 1), ('t.co/nnowalbcss', 1), ('tweets', 1), ('mainly', 1), ('t.co/q6cfnmzxvk', 1), ('t.co/goyssaxqro', 1), ('t.co/kemkyqukvm', 1), ('t.co/9wziojtrfr\\\\ndo', 1), ('al', 1), ('jazeera', 1), ('1-11', 1), ('t.co/7azrnpt4nq', 1), ('ajam', 1), ('t.co/q1u6eismyo', 1), ('asst', 1), ('t.co/hkgrrashcy', 1), ('t.co/9kmbgcdbht', 1), ('t.co/mo4qhun3tz', 1), ('t.co/lizrygsjhx', 1), ('t.co/oydojzjwki', 1), ('t.co/k8kza08lsg', 1), ('t.co/avdxi5zjpw', 1), ('couches', 1), ('outoftherain', 1), ('t.co/lhupcgjywb', 1), ('t.co/bhjdxz4av9', 1), ('lol', 1), ('whereyouat', 1), ('jennagavigan', 1), ('genna', 1), ('engine', 1), ('sarah', 1), ('t.co/xi0cpuoiyr', 1), ('t.co/wkkgxtyumc', 1), ('t.co/wkzr2c6ujx', 1), ('loudspeakers', 1), ('t.co/edralvdd2q', 1), ('detail', 1), ('t.co/fkezldhmtk', 1), ('t.co/bhv2g2xqhv', 1), ('t.co/3phfh2x0ke', 1), ('ucsbreads2016', 1), ('afrikan', 1), ('accomplishes', 1), ('divestment', 1), ('t.co/rcaotkhwie', 1), ('starwars', 1), ('t.co/5pkfr0bo8w', 1), ('t.co/htgiokr675', 1), ('t.co/sas5dvrm6i', 1), ('honeybears', 1), ('hostesses', 1), ('t.co/owgr6tlmxr', 1), ('t.co/o4x8rlikkz', 1), ('t.co/8iof9wwfit', 1), ('t.co/k9m2xb75ht', 1), ('t.co/tgk1cjsmyo', 1), ('t.co/aefxydfsyl', 1), ('t.co/xg4tcxdyt2', 1), ('t.co/5kgpzdg3m6', 1), ('t.co/nklk0jzqnl', 1), ('slurpee', 1), ('pajama', 1), ('pants', 1), ('jenny', 1), ('han', 1), ('t.co/hj6pusg038', 1), ('erikcummm', 1), ('managed', 1), ('gmail.com', 1), ('stephen', 1), ('hawking', 1), ('11-15-88', 1), ('universes', 1), ('holes', 1), ('t.co/pohuybdcoj', 1), ('nexustentialism', 1), ('t.co/8czzzjjfjm', 1), ('cold', 1), ('kirbynbeaton', 1), ('blast', 1), ('warmth', 1), ('germs', 1), ('ack', 1), ('t.co/yftclnzfdb', 1), ('t.co/qzzo4yjznn', 1), ('t.co/tihbaccpcv', 1), ('t.co/hxihqf2vdp', 1), ('t.co/wohpghypvb', 1), ('t.co/vd25wapivd', 1), ('t.co/e4tgid64b5', 1), ('t.co/x2xcqt8heg', 1), ('t.co/cmops8ht6p', 1), ('tweaked', 1), ('t.co/rdoyxkl4sh', 1), ('t.co/ntisbwz0ev', 1), ('soothe', 1), ('sentences', 1), ('t.co/vw3oougqgx', 1), ('t.co/8ozwkkpvci', 1), ('t.co/thtimyu7we', 1), ('t.co/bsmk4ed856', 1), ('rosenkavalier', 1), ('ucsblibrary\\\\narchive', 1), ('t.co/eonhvdwmb1', 1), ('nbawards', 1), ('honorees', 1), ('ta-nehisi', 1), ('coates', 1), ('t.co/pwzjykonpe', 1), ('nationalbook', 1), ('t.co/iu35gz6ujs', 1), ('1960', 1), ('rotc', 1), ('colonel', 1), ('coeds', 1), ('t.co/5iuzelsi6k', 1), ('t.co/8udpmqq555', 1), ('t.co/lcd7krjhf7', 1), ('vertices', 1), ('t.co/1z6rl0eqrt', 1), ('t.co/tfqaxlbd4u', 1), ('oxford', 1), ('dictionaries', 1), ('emoji', 1), ('newsweek', 1), ('t.co/2ytvcpbaxt', 1), ('mice', 1), ('t.co/yccxou0syr', 1), ('t.co/ehwaaisgf4', 1), ('t.co/ojftjtzo5c', 1), ('theretronaut', 1), ('t.co/7jqglkvdda', 1), ('moveable', 1), ('feast', 1), ('t.co/nio0p0id72', 1), ('sbc_at_work', 1), ('openculture', 1), ('lingua', 1), ('t.co/uehkcvmgce', 1), ('historybuffcom', 1), ('t.co/n41wlpgqio', 1), ('t.co/8ufrxxy3fd', 1), ('twister', 1), ('tournament', 1), ('beating', 1), ('florida', 1), ('gators', 1), ('t.co/yrugdd3q3i', 1), ('judges', 1), ('t.co/bjayt11ewv', 1), ('t.co/fghmdwm9bz', 1), ('uc_net', 1), ('billfasano', 1), ('t.co/rxbhgocckt', 1), ('royalties', 1), ('high-res', 1), ('transfers', 1), ('waive', 1), ('t.co/dygq28vude', 1), ('t.co/pviz94qj9h', 1), ('t.co/qvelgta4md', 1), ('gold-level', 1), ('t.co/rzxwmwmhed', 1), ('t.co/qj09gftery', 1), ('diggers', 1), ('t.co/7x5tshaj4b', 1), ('dawn', 1), ('t.co/vaeoln8xmz', 1), ('inversedotcom', 1), ('goofyjourno', 1), ('high-resolution', 1), ('f_dion', 1), ('french-made', 1), ('archeophone', 1), ('t.co/spygejdona', 1), ('cnet', 1), ('100-year-old', 1), ('t.co/yivmxjpteg', 1), ('picky', 1), ('t.co/vk1rp3cw7c', 1), ('mentioning', 1), ('hidden', 1), ('hyperallergic', 1), ('t.co/9k1excqzv6', 1), ('t.co/16nyssgnsb', 1), ('t.co/woil9mhzpz', 1), ('t.co/p7biayqoup', 1), ('exodus', 1), ('t.co/zka8n67vww', 1), ('rethink', 1), ('mainstay', 1), ('t.co/kjp2eytdml', 1), ('mathematics', 1), ('stopple', 1), ('t.co/rvo4pqmmp7', 1), ('t.co/hwy2oxdqi4', 1), ('preventing', 1), ('proquestgate', 1), ('t.co/8uwqpitdul', 1), ('crews', 1), ('t.co/dxt8s4url4', 1), ('t.co/ehkm2bw0zc', 1), ('giovanni_vigna', 1), ('t.co/yq17masrq4', 1), ('gleick', 1), ('t.co/0ywvsg8jr0', 1), ('t.co/yynwgwh6m9', 1), ('fencing', 1), ('1-4-16', 1), ('erika', 1), ('t.co/bczrzt0dhz', 1), ('ophelia', 1), ('summing', 1), ('feelings', 1), ('monday.\\\\n', 1), ('hamlet', 1), ('t.co/bflskx87er', 1), ('1958', 1), ('pasternak', 1), ('t.co/unh4a66u3x', 1), ('ucsbwriting', 1), ('plug', 1), ('4-6pm', 1), ('t.co/ktxgdkcwm6', 1), ('ventura', 1), ('notice', 1), ('rigs', 1), ('wishtheywerentthere', 1), ('t.co/idmqm1xtfr', 1), ('t.co/vvsuzsi1sm', 1), ('t.co/lkfe5a2drt', 1), ('t.co/hxtdi7jn5w', 1), ('n―', 1), ('cervantes', 1), ('quixote.\\\\n🎨', 1), ('quixote', 1), ('adolph', 1), ('schroedter', 1), ('1834', 1), ('t.co/kvurnttery', 1), ('teresa', 1), ('shewry', 1), ('t.co/qasllhs2tk', 1), ('t.co/0lccenzpl0', 1), ('t.co/l6oy8bux2h', 1), ('t.co/kpdqmcdlln', 1), ('10-19', 1), ('mwags6', 1), ('attending', 1), ('10:15-11:15', 1), ('t.co/wec0ylyrfi', 1), ('t.co/ipqplekftu', 1), ('kirkus', 1), ('t.co/jylu3ncp9h', 1), ('t.co/xmlh3tionf', 1), ('t.co/xwu9krmbgy', 1), ('heft', 1), ('scent', 1), ('tactile', 1), ('t.co/jj3lgnekcw', 1), ('coastlines', 1), ('t.co/wzpqh0omyd', 1), ('t.co/vz7r6tx9pp', 1), ('t.co/y3peo3ttu6', 1), ('19-nov', 1), ('t.co/9layz3cv1y', 1), ('t.co/wrdfpdbn3d', 1), ('dolores', 1), ('ines', 1), ('spanish-language', 1), ('t.co/xm2miyocl5', 1), ('svetlana', 1), ('alexievich', 1), ('t.co/q2khgrjv0u', 1), ('t.co/3w7kjs7nqo', 1), ('1849', 1), ('edgar', 1), ('allan', 1), ('poe', 1), ('wa', 1), ('t.co/3zlvyod0aa', 1), ('bit.ly/1lg8clp', 1), ('t.co/csikniqhpb', 1), ('t.co/sspkvp5mj9', 1), ('t.co/bqwtiidf03', 1), ('t.co/bclfkrxzgi', 1), ('t.co/fg66msg6so', 1), ('predatory', 1), ('t.co/thzhgsnvgf', 1), ('fall-winter', 1), ('t.co/qey7kdpvhd', 1), ('irresistible', 1), ('blurbs', 1), ('t.co/unjpzqsvym', 1), ('t.co/0mwwq3zuk8', 1), ('granada', 1), ('10-1', 1), ('t.co/aoxcuh9r3q', 1), ('t.co/bsqvwptmsq', 1), ('involvement', 1), ('t.co/f0x2ykjnvf', 1), ('t.co/kuusu0jubh', 1), ('backdrop', 1), ('t.co/fkwklfygjq', 1), ('sunny-yet-shady', 1), ('4th-floor', 1), ('t.co/sdsxxho7gu', 1), ('bannedbooksweek', 1), ('t.co/u0qsafh76q', 1), ('t.co/wvcb2vmvig', 1), ('crossword', 1), ('word-cross', 1), ('t.co/yisekrckqz', 1), ('t.co/gm3jkup1iw', 1), ('t.co/52kruuixxg', 1), ('t.co/ori888d6cs', 1), ('9/25', 1), ('t.co/iunrpv3ukj', 1), ('tie', 1), ('t.co/97zbte1cus', 1), ('11-noon', 1), ('9-23', 1), ('t.co/yiftbjf7vd', 1), ('9/21-9/23', 1), ('t.co/xzyrouxqac', 1), ('t.co/gdc1mny6ba', 1), ('1996', 1), ('t.co/xqcn8gwdgk', 1), ('t.co/kn7bk2tr21', 1), ('aptly', 1), ('t.co/gszrhxmeh9', 1), ('t.co/sh8jvlsdrn', 1), ('t.co/ymdhdewts1', 1), ('t.co/ovabj1v9xg', 1), ('manbooker2015', 1), ('exterior', 1), ('t.co/lcasurjfkt', 1), ('church', 1), ('hangman', 1), ('molecular', 1), ('bio', 1), ('t.co/d1m83lunsj', 1), ('towers', 1), ('jen', 1), ('t.co/nrjdrtvkly', 1), ('t.co/josqai9w8l', 1), ('1942', 1), ('tennis', 1), ('t.co/czsuvwty4q', 1), ('t.co/gosnwjj4lt', 1), ('t.co/2diuo7qtz2', 1), ('1976', 1), ('t.co/nemzfxem52', 1), ('t.co/q38nsbfjym', 1), ('hops', 1), ('sagd', 1), ('t.co/as3ro50hcf', 1), ('t.co/6otpdqzezp', 1), ('imls', 1), ('nominations', 1), ('t.co/nay0otlcis', 1), ('t.co/83henmymlx', 1), ('t.co/aug20tasop', 1), ('usually', 1), ('t.co/zzteonky7e', 1), ('w/info', 1), ('t.co/ondq6g33ah', 1), ('t.co/rvpbxnctp1', 1), ('roblowe', 1), ('campaigning', 1), ('presidential', 1), ('t.co/ejjk7au3jz', 1), ('washington', 1), ('t.co/oq10h4lmkp', 1), ('t.co/5ykkaehvzi', 1), ('full-time', 1), ('t.co/gslqei5wkj', 1), ('bostonglobe', 1), ('recovered', 1), ('t.co/5zohwqwxbf', 1), ('t.co/qp21wm9twl', 1), ('t.co/hfbfg4be2j', 1), ('t.co/luy6gykcoh', 1), ('t.co/lew0ewcndw', 1), ('sentinelsb', 1), ('weary', 1), ('blues', 1), ('langston', 1), ('t.co/xlxye0u3iv', 1), ('p.10', 1), ('t.co/asb15m513z', 1), ('conservation', 1), ('transcribers', 1), ('t.co/rbrhm9rjgt', 1), ('danelle', 1), ('t.co/jdsz06grrc', 1), ('t.co/uo5ibw9r2k', 1), ('transcribed', 1), ('t.co/tjb9k1yxea', 1), ('t.co/aurpd9ewsr', 1), ('fitzgerald', 1), ('t.co/rheweledb2', 1), ('t.co/ufot64ujdr', 1), ('nominees', 1), ('t.co/jkm5gb14pa', 1), ('carts', 1), ('t.co/ec6arkvgqa', 1), ('paging', 1), ('t.co/ft7fvprhqv', 1), ('1989', 1), ('t.co/4fvhghp2ky', 1), ('sunsetmag', 1), ('t.co/dcbhxjwqvw', 1), ('t.co/yynuc7uufg', 1), ('moonwalk', 1), ('7-20-69', 1), ('kiewit', 1), ('t.co/knajjl7uzi', 1), ('mid-nov', 1), ('t.co/hr7farpece', 1), ('entity', 1), ('t.co/bbaclk1uig', 1), ('t.co/7d3c7sg9sd', 1), ('t.co/1aife5wgfq', 1), ('profession', 1), ('professions', 1), ('occupations', 1), ('depend', 1), ('nala', 1), ('t.co/tdtturzht7', 1), ('ucsb=top', 1), ('trainer', 1), ('t.co/x8gkzrvt5j', 1), ('bibliotherapy', 1), ('t.co/isikwrwez4', 1), ('t.co/9gfmlt297b', 1), ('t.co/oo3cszcvxo', 1), ('t.co/1gesvsjtlj', 1), ('watchman', 1), ('t.co/afzdw9bflj', 1), ('t.co/znzbxl4duh', 1), ('highway', 1), ('t.co/hjykqu2lts', 1), ('depends', 1), ('wheel', 1), ('barrow', 1), ('wheelbarrow', 1), ('t.co/tsonwkvo8e', 1), ('gym', 1), ('t.co/str2yfifjv', 1), ('dickinson', 1), ('harvardlibrary', 1), ('t.co/g81p6m6oby', 1), ('t.co/qvosowtsnh', 1), ('t.co/x09xau9r0d', 1), ('t.co/vprxzro3n8', 1), ('t.co/i2wcjsh95w', 1), ('camino', 1), ('hotel', 1), ('90', 1), ('1925', 1), ('t.co/cv1irr5c5h', 1), ('t.co/lvgfjntgxu', 1), ('kafka', 1), ('court', 1), ('t.co/ai87fjzafv', 1), ('t.co/ctvvr0r5kt', 1), ('t.co/5rawbnq0zt', 1), ('alaannual', 1), ('t.co/vgluwiwqxo', 1), ('cnsucsb', 1), ('t.co/kfnarb7bcy', 1), ('encounters', 1), ('gazetteers', 1), ('rage', 1), ('uclod2015', 1), ('leila', 1), ('rupp', 1), ('t.co/viuwwn4p4j', 1), ('t.co/fjyepobchk', 1), ('renamed', 1), ('charleston', 1), ('shooting', 1), ('victim', 1), ('cynthia', 1), ('hurd', 1), ('postandcourier', 1), ('t.co/6pxbcv6msi', 1), ('t.co/6lzfi8cmvc', 1), ('protested', 1), ('t.co/xfqwxzucp1', 1), ('t.co/vforyzq18w', 1), ('chipotle', 1), ('cups', 1), ('yale', 1), ('rare-books', 1), ('t.co/gtlspmhzye', 1), ('t.co/09dpxp6fp3', 1), ('vaulted', 1), ('ceiling', 1), ('rather', 1), ('fluorescent', 1), ('brighter', 1), ('energy-efficient', 1), ('t.co/eoq9cjsukn', 1), ('grandin', 1), ('t.co/f3hjtgotz4', 1), ('t.co/bfanvb1cym', 1), ('frankmitch2014', 1), ('t.co/xoekfkxhs1', 1), ('leaving', 1), ('sba', 1), ('spatialdiscovery2015', 1), ('bold', 1), ('practical', 1), ('adl', 1), ('t.co/nazddjmxys', 1), ('t.co/du4ysmb9ui', 1), ('t.co/8uawykqgrw', 1), ('t.co/bquwlkgdxi', 1), ('ginapotthoff', 1), ('t.co/bhqft1eygt', 1), ('t.co/4uz72xurbe', 1), ('t.co/lscqwz6t5h', 1), ('blissful', 1), ('hungry', 1), ('elingspark', 1), ('chaucersbooks', 1), ('the_hub_at_ucsb', 1), ('t.co/gyogzbwmxa', 1), ('t.co/hslvteputx', 1), ('t.co/i5ofh1b9vz', 1), ('t.co/npop5wz0mw', 1), ('t.co/xxlkzmfzah', 1), ('2nd-year', 1), ('lian', 1), ('organic', 1), ('t.co/yxy61jhhaq', 1), ('t.co/serapa6pa3', 1), ('t.co/qxknzcipz3', 1), ('t.co/cycnda5thr', 1), ('chelsea', 1), ('girvin', 1), ('t.co/slf1sodihq', 1), ('t.co/gsptqhqaow', 1), ('seven', 1), ('t.co/qe1dhntznl', 1), ('1975', 1), ('voice-controlled', 1), ('wheelchair', 1), ('t.co/6juxv39aqw', 1), ('t.co/kpgo2ab9qw', 1), ('t.co/zq0cw7wqdx', 1), ('sboilspill', 1), ('sadly', 1), ('appropriate', 1), ('t.co/nvgnbijmd9', 1), ('upgrading', 1), ('t.co/jy0t6emj0n', 1), ('italy', 1), ('dante750', 1), ('selfie-con-dante', 1), ('t.co/8zthxlxe06', 1), ('t.co/pvqzcu3vkv', 1), ('t.co/ihwtnqyooa', 1), ('cole_cohen', 1), ('ihc', 1), ('t.co/l11u24bxcc', 1), ('dalesdani', 1), ('tfresh2death', 1), ('kickstarter', 1), ('t.co/yjutmai0s0', 1), ('library\\\\namy', 1), ('anaiancy', 1), ('ramirez', 1), ('sitting', 1), ('exams', 1), ('t.co/0gj0y2tskd', 1), ('ballad', 1), ('t.co/etvp7k1zwv', 1), ('t.co/knd60zlv2i', 1), ('t.co/6wuucl6ctv', 1), ('macker', 1), ('t.co/k5rervm4vk', 1), ('t.co/lvqj8ic65y', 1), ('juvenile', 1), ('t.co/pxmsn5rndg', 1), ('academicnovel', 1), ('sample', 1), ('t.co/rqm7dsmkph', 1), ('hieber', 1), ('statewide', 1), ('dwhieb', 1), ('1968-69', 1), ('t.co/kbtdzfdsnh', 1), ('t.co/wccttog9vx', 1), ('t.co/wl6qev0mn4', 1), ('t.co/gcyjjtud1w', 1), ('t.co/dgofr8wipm', 1), ('t.co/owaresjs53', 1), ('t.co/5ml0gmcmsy', 1), ('t.co/v4dfylol5e', 1), ('basketball', 1), ('1974', 1), ('t.co/yzrwgsfl8o', 1), ('t.co/adn25bkeko', 1), ('t.co/drvxf8wnbs', 1), ('views.that', 1), ('t.co/wwvvzvc5gz', 1), ('nepal', 1), ('survivors', 1), ('t.co/5spcrl34kb', 1), ('346', 1), ('inmates', 1), ('t.co/w9jhf4huu8', 1), ('giovanni', 1), ('vigna', 1), ('t.co/izgr4jbg5y', 1), ('kpop', 1), ('t.co/a5xjeksltj', 1), ('2008', 1), ('t.co/1i4ejragfp', 1), ('t.co/q7xkjvas3g', 1), ('greenest', 1), ('t.co/hvxiouvuol', 1), ('t.co/mtujjbqar9', 1), ('ucsbgradslam-mers', 1), ('salutes', 1), ('t.co/y8xkbg3bit', 1), ('popped', 1), ('korean', 1), ('t.co/5tj4qzrdzg', 1), ('t.co/tikxrozrck', 1), ('4:30-5:30', 1), ('elings', 1), ('t.co/oprodicfhe', 1), ('ghastly', 1), ('inventory', 1), ('auschwitz', 1), ('t.co/19atgafcc3', 1), ('short-term', 1), ('cataloging', 1), ('t.co/dkpbmn2oiz', 1), ('receptionist', 1), ('library\\\\nbldg', 1), ('525', 1), ('road\\\\nuniv', 1), ('calif\\\\nsb', 1), ('appt', 1), ('t.co/zn6cqnszve', 1), ('kcgoslin', 1), ('emma', 1), ('london', 1), ('jordyn', 1), ('devyn', 1), ('jordynnapier', 1), ('apathysmyenemy', 1), ('t.co/3usjoz6tqw', 1), ('gunthy', 1), ('t.co/3lsowxg6rf', 1), ('guthy', 1), ('t.co/ohyg0ogqyy', 1), ('t.co/nszupobdzc', 1), ('t.co/e9df0xcmd0', 1), ('t.co/e8js34prqr', 1), ('eledesma75', 1), ('t.co/e5lgmunhtr', 1), ('mariannesimpson', 1), ('dad', 1), ('t.co/ztfbuakbrr', 1), ('leahkim', 1), ('gannett', 1), ('fandom', 1), ('t.co/8aoz0n7ztm', 1), ('art1aucsb', 1), ('reactions', 1), ('t.co/0062lgzugi', 1), ('richardross', 1), ('t.co/eei5m3lcyi', 1), ('t.co/9hnzvqzo6i', 1), ('t.co/rfujesvjgg', 1), ('ucsbmodelun', 1), ('mun', 1), ('t.co/kw9eh54jng', 1), ('wives', 1), ('1964', 1), ('t.co/7higxxrz5q', 1), ('t.co/i3liihpntt', 1), ('reads/writers', 1), ('4-5:30pm', 1), ('t.co/j0zxv17v40', 1), ('t.co/38d7ioqaor', 1), ('piperkerman', 1), ('population', 1), ('t.co/og00hj7ruk', 1), ('sara', 1), ('miller', 1), ('5m', 1), ('2.5m', 1), ('t.co/0lszb3knw9', 1), ('sograteful', 1), ('t.co/sekdl2t1yk', 1), ('madness', 1), ('prelim', 1), ('t.co/3niu3tu9uc', 1), ('ucsbgradslam', 1), ('t.co/pniygl7gmm', 1), ('yay_yay_yxey', 1), ('strip-searches', 1), ('illegal', 1), ('drugs', 1), ('t.co/5jchmbg0iv', 1), ('4:30-6:30', 1), ('t.co/ybbdywisa8', 1), ('700', 1), ('1890s-1920s', 1), ('t.co/mjqgdbqkwt', 1), ('t.co/a74e4m8giu', 1), ('sandra', 1), ('reese', 1), ('t.co/b7bhlm8hjq', 1), ('merith', 1), ('cosden', 1), ('t.co/dku8v6xrf9', 1), ('t.co/7thn80xcs9', 1), ('amplified', 1), ('debuting', 1), ('t.co/h4jxj6bqpk', 1), ('t.co/ij4hedc8uc', 1), ('npm15', 1), ('t.co/pmur2xycmr', 1), ('fabulousmissem', 1), ('salliehananthro', 1), ('editorial', 1), ('studies/estudios', 1), ('mexicanos', 1), ('t.co/sqhht3byjo', 1), ('t.co/rx75fybtzb', 1), ('grander', 1), ('t.co/2pdkucquaa', 1), ('chalkboard', 1), ('t.co/59xgyjp5rn', 1), ('holly', 1), ('t.co/aptep7tqf1', 1), ('acrl2015', 1), ('scholcommcamp', 1), ('t.co/efztnb1fb2', 1), ('charlotte', 1), ('t.co/vohlaqyg1e', 1), ('t.co/nm16wjenpi', 1), ('21-29', 1), ('t.co/uzsj78zer2', 1), ('sell-out', 1), ('rivera97', 1), ('distinguished', 1), ('t.co/ho6oc6fprl', 1), ('t.co/yu0zzv9wv5', 1), ('stressed', 1), ('exist', 1), ('presence', 1), ('mamet', 1), ('t.co/lhjq8xnmuj', 1), ('carp', 1), ('jill', 1), ('sharkey', 1), ('t.co/jklykh1xok', 1), ('maui_powwow', 1), ('kasideefuller', 1), ('ivanalexdiaz', 1), ('manuelspv', 1), ('graceburgesss', 1), ('sadpauline', 1), ('cry', 1), ('jocelin_jay', 1), ('whiteboard', 1), ('t.co/itmq2aeq7d', 1), ('roxanne', 1), ('betcher', 1), ('shown', 1), ('t.co/4ckhqkdqrc', 1), ('2,000', 1), ('t.co/841di7knea', 1), ('t.co/n1ltati68c', 1), ('lex33', 1), ('spend', 1), ('shower', 1), ('glee', 1), ('1924', 1), ('cumbre', 1), ('t.co/qkzspjvrev', 1), ('starshineroshel', 1), ('t.co/uzqxedlc62', 1), ('hailsishere', 1), ('t.co/hgndkbk9yy', 1), ('snack', 1), ('ucsbcaffeinesource', 1), ('t.co/b58hj4sxan', 1), ('lipids', 1), ('chemical', 1), ('bones', 1), ('dirt', 1), ('t.co/soqhaczckf', 1), ('skittles', 1), ('toothpaste', 1), ('ar', 1), ('t.co/xvdmydkxmu', 1), ('t.co/4iyavxxt7z', 1), ('t.co/wlluxe9ijo', 1), ('billi', 1), ('jo', 1), ('starr', 1), ('prisoner', 1), ('re-entry', 1), ('t.co/plefkdceqi', 1), ('oitnbinfo', 1), ('e-newslet', 1), ('t.co/m75yayoawz', 1), ('t.co/u03ezacvd3', 1), ('t.co/k0tbpxivf1', 1), ('t.co/e2exmnedz5', 1), ('t.co/hxgt3igapi', 1), ('t.co/jq3jldn4rf', 1), ('doubt', 1), ('gauchopride', 1), ('joel', 1), ('monteleone', 1), ('subscribing', 1), ('t.co/39fq4hanmb', 1), ('attendees', 1), ('ucsbreads15', 1), ('esp', 1), ('t.co/h47ivs2g5s', 1), ('t.co/rgzojljyhu', 1), ('ucsb_dept_of_ed', 1), ('w/entries', 1), ('t.co/s5tp8rlnka', 1), ('12-1', 1), ('t.co/8nuvcdbxx0', 1), ('t.co/lg0fyfoxfh', 1), ('obviously', 1), ('undeveloped', 1), ('t.co/jplefizgwz', 1), ('stellar', 1), ('t.co/f6xz8wow9a', 1), ('lydia', 1), ('t.co/lvtz9hrea3', 1), ('emboldened', 1), ('t.co/19hjmrdvvs', 1), ('t.co/a1xtnyxc5t', 1), ('jacket', 1), ('four-story', 1), ('heat', 1), ('shutoff', 1), ('ansel_berg', 1), ('abou', 1), ('tconstruction', 1), ('timing', 1), ('t.co/6p8ff3upox', 1), ('2/20', 1), ('t.co/aorntrpa3e', 1), ('t.co/7km6cif72l', 1), ('ignite', 1), ('invest', 1), ('incarceration', 1), ('transform', 1), ('t.co/du7d6mpwch', 1), ('t.co/ybg01wqam5', 1), ('generous', 1), ('donor', 1), ('t.co/rbghpaezdg', 1), ('wikiturgy', 1), ('t.co/k5uv3cyjrb', 1), ('t.co/inzicjl3aw', 1), ('presidents', 1), ('am-midnight', 1), ('noon-10', 1), ('t.co/junbfojfs4', 1), ('t.co/bcterbykxz', 1), ('lemon', 1), ('t.co/10gdapenxi', 1), ('t.co/3bitrhafix', 1), ('t.co/ijq5mc8o0q', 1), ('dalai', 1), ('lama', 1), ('huttenback', 1), ('t.co/1nbsr6olst', 1), ('balmy', 1), ('trees', 1), ('planted', 1), ('under-construction', 1), ('addition/renovation', 1), ('t.co/aubtb1juh3', 1), ('t.co/5bko6kqkrf', 1), ('t.co/r37ilgrllm', 1), ('t.co/oalysefwjg', 1), ('t.co/yntyxbvuac', 1), ('canoe', 1), ('vessel', 1), ('tomol', 1), ('t.co/cafy0lglr4', 1), ('t.co/2krncqqonm', 1), ('t.co/af10zohlqx', 1), ('rate', 1), ('theprincetonrev', 1), ('t.co/qm3habcz1x', 1), ('powerofpublic', 1), ('silence', 1), ('earplugs', 1), ('t.co/2xysbadnul', 1), ('actors', 1), ('t.co/mkzxkjqsbc', 1), ('t.co/az73owe6t1', 1), ('jailed', 1), ('t.co/mokoov2f3q', 1), ('t.co/uhmguvc8jp', 1), ('t.co/qxzmk1gx9x', 1), ('kill', 1), ('mockingbird', 1), ('t.co/rysrdhrbhk', 1), ('juvenile-in-justice', 1), ('t.co/yxg86mkldp', 1), ('t.co/kodrng4lao', 1), ('studious', 1), ('hackathon', 1), ('sponsors', 1), ('t.co/0ds8iqlk25', 1), ('groundhogday', 1), ('gt4995.g76', 1), ('y63', 1), ('t.co/fzotshv1lx', 1), ('prisons', 1), ('t.co/06l2ksrasj', 1), ('t.co/eokbfyt0lt', 1), ('t.co/c6cozujhjz', 1), ('beautyoftheday', 1), ('t.co/solffntwzb', 1), (\"1900s-'50s\", 1), ('t.co/dogf9xyloj', 1), ('t.co/malwhjwvpu', 1), ('hispanic-serving', 1), ('hacunews', 1), ('t.co/vmezymixe0', 1), ('dereklicious', 1), ('t.co/ohdnjfvown', 1), ('t.co/getjw3v7ky', 1), ('clubbers', 1), ('t.co/jvctzdi2jc', 1), ('t.co/ghqesjht95', 1), ('co-defendant', 1), ('t.co/flok0l4zgm', 1), ('botanist', 1), ('esau', 1), ('electron', 1), ('t.co/5juv43hgr5', 1), ('multipurpose', 1), ('npizza', 1), ('t.co/sssz17irxp', 1), ('bookcrossing', 1), ('i.e', 1), ('t.co/dh1f8k6gjm', 1), ('t.co/iwaomtvqfi', 1), ('12-2', 1), ('delayedstressrelief', 1), ('t.co/shuszw79rv', 1), ('t.co/7bkzgxi5ya', 1), ('t.co/hspnlbojyi', 1), ('t.co/slujroojl1', 1), ('leggings', 1), ('paired', 1), ('sweatshirt', 1), ('1962-63', 1), ('dresses', 1), ('anymore', 1), ('t.co/k9wzwfzjyi', 1), ('t.co/bhywswarqt', 1), ('noon-2pm', 1), ('t.co/w9hkgxs9ox', 1), ('backtowork', 1), ('post-break', 1), ('t.co/o8acnrtuye', 1), ('twas', 1), ('foreve…', 1), ('t.co/zreyegt5lo', 1), ('t.co/3lavx15uug', 1), ('sfin5words', 1), ('t.co/d1t4wbrmam', 1), ('t.co/gdfwyjibus', 1), ('custodian', 1), ('t.co/atlqxbiryh', 1), ('murals', 1), ('aztec', 1), ('deities', 1), ('t.co/gmmh2pwvwn', 1), ('feline', 1), ('showed', 1), ('bleary-eyed', 1), ('t.co/j3xey1uxgi', 1), ('chillin', 1), ('watching', 1), ('20-something', 1), ('wheresthepopcorn', 1), ('thewonderears', 1), ('multicampus', 1), ('libecap', 1), ('t.co/2ittdzugdl', 1), ('yield', 1), ('t.co/kntawuz1gw', 1), ('miloalohi', 1), ('audit', 1), ('rn', 1), ('kingcob4four', 1), ('square', 1), ('thebigshottour', 1), ('livin', 1), ('b-day', 1), ('1947-77', 1), ('12-11-1911', 1), ('t.co/ybzxgorxdd', 1), ('t.co/dasne49nhc', 1), ('scarletoharaa', 1), ('t.co/qbem6chyvc', 1), ('t.co/mlpr1jtmnw', 1), ('procrastinated', 1), ('demonology', 1), ('😂', 1), ('whosemmastone', 1), ('t.co/luasl1ihvk', 1), ('motivator', 1), ('cutout', 1), ('overlays', 1), ('t.co/iftxkoref5', 1), ('t.co/aacnzqjanh', 1), ('fightflu', 1), ('sannicolashall', 1), ('1965/san', 1), ('t.co/xa8jrf2xlg', 1), ('fillers', 1), ('noplastic', 1), ('t.co/logobfqgmp', 1), ('archaeologist', 1), ('uncovers', 1), ('inequality', 1), ('archaeology', 1), ('t.co/1vkmr6co1m', 1), ('t.co/gtexxss9ul', 1), ('pastemagazine', 1), ('t.co/uecmb7dtci', 1), ('disrupted', 1), ('6-10pm', 1), ('t.co/ancpqvxqtd', 1), ('t.co/h3r6mpctir', 1), ('mt', 1), ('habits', 1), ('t.co/ysoj6btjgc', 1), ('taylor', 1), ('beverage', 1), ('hilligos', 1), ('giftcards', 1), ('t.co/esikby7ujj', 1), ('jaytundra', 1), ('sairs24', 1), ('clo', 1), ('t.co/zaxza8w6hd', 1), ('time-lapse', 1), ('t.co/kmmux0kuwc', 1), ('ucsb,1953', 1), ('base', 1), ('t.co/o5ppaht73d', 1), ('anthropocene', 1), ('t.co/8v7tiwhhhw', 1), ('t.co/e6ghewsvhz', 1), ('t.co/nxjrsnq2ci', 1), ('t.co/yfauc7tryy', 1), ('mccray', 1), ('t.co/jwskqmhv4q', 1), ('hssonline', 1), ('t.co/lqyvx0hdnw', 1), ('t.co/f3gtktitr2', 1), ('t.co/9b2r9wwexb', 1), ('t.co/p6usdgwwog', 1), ('warming', 1), ('t.co/e68kotqm5j', 1), ('anne', 1), ('lamott', 1), ('t.co/iz5ddrqqnq', 1), ('foundations', 1), ('t.co/q0zjhs9e9y', 1), ('noticing', 1), ('t.co/uqdctswbde', 1), ('hair', 1), ('propose', 1), ('t.co/rmbul6t2df', 1), ('t.co/szppos3wnp', 1), ('anteater', 1), ('adorable', 1), ('t.co/a3x07mjvay', 1), ('ultrakelsey', 1), ('t.co/jtihsx2cki', 1), ('hard-working', 1), ('scenery', 1), ('requiem', 1), ('t.co/h58g72h61a', 1), ('ab', 1), ('609', 1), ('leads', 1), ('t.co/jx2cdrocof', 1), ('t.co/hp270os9ix', 1), ('spinning', 1), ('rpms', 1), ('t.co/nwchgmbcix', 1), ('billboard', 1), ('t.co/nj2xup40lg', 1), ('nimages', 1), ('t.co/mam9tgvzez', 1), ('chomp', 1), ('tad', 1), ('guilt', 1), ('antioxidant', 1), ('t.co/obirgcvdj1', 1), ('nanowrimo', 1), ('t.co/hj5sdf4hre', 1), ('perspiration', 1), ('t.co/n70vffnirx', 1), ('nofilter', 1), ('mathlove', 1), ('t.co/a3fncvfo1b', 1), ('survival', 1), ('brave', 1), ('t.co/7wqe5upeig', 1), ('klasson', 1), ('twins', 1), ('t.co/ghsyy25l5e', 1), ('t.co/fnrbmtleg4', 1), ('t.co/1hkbj2a67v', 1), ('huber', 1), ('t.co/02hyw2aghi', 1), ('giovannoni', 1), ('t.co/gre44pvypr', 1), ('nickuhroo', 1), ('t.co/y1f79oyo8o', 1), ('lions_leon1984', 1), ('responsive', 1), ('concerns', 1), ('t.co/ceiwchmzcu', 1), ('t.co/mxvrw19cty', 1), ('dmcconeghy', 1), ('tiffanymikachu', 1), ('evaluate', 1), ('t.co/taq1yjo0s8', 1), ('t.co/jakn6fdqrv', 1), ('t.co/xkvkz26hud', 1), ('85', 1), ('t.co/mraesqr6yf', 1), ('t.co/igk0ryhym1', 1), ('literally', 1), ('looking/pointing', 1), ('t.co/iuavubbagf', 1), ('profit', 1), ('t.co/8eauxijnuc', 1), ('honoree', 1), ('duarte', 1), ('leal', 1), ('t.co/o8c6bgqrcd', 1), ('monopoly', 1), ('prices', 1), ('bergstrom', 1), ('t.co/dwlyla6phx', 1), ('damnit_steven', 1), ('steven', 1), ('t.co/41rrn9xc35', 1), ('athought', 1), ('t.co/ypzbnsudrs', 1), ('t.co/j4cvzbrlx2', 1), ('webcast', 1), ('t.co/7hsdgfmbhh', 1), ('promotes', 1), ('unrestricted', 1), ('devoted', 1), ('t.co/cq08ubchxd', 1), ('warcraft', 1), ('t.co/jpnsuaneq4', 1), ('t.co/htw3dazkgd', 1), ('t.co/mvgh3bxxra', 1), ('t.co/q5eg134wak', 1), ('congratulation', 1), ('tirole', 1), ('t.co/ycpiazwo2v', 1), ('t-shirts', 1), ('t.co/ntzqracxlj', 1), ('football', 1), ('t.co/ngxtoxudp5', 1), ('modiano', 1), ('nazi', 1), ('t.co/4lqdo82xbt', 1), ('comments', 1), ('roadmap', 1), ('t.co/hcajbpaskt', 1), ('shuji', 1), ('nakamura', 1), ('t.co/r0jqwtnvge', 1), ('counseling', 1), ('t.co/k5quyw2ke7', 1), ('kimberlyn', 1), ('tortoledo', 1), ('t.co/jwa0tyfpsw', 1), ('zhen', 1), ('t.co/lxsybp6j24', 1), ('sexy', 1), ('cocktail', 1), ('gig', 1), ('t.co/soehnmw2qh', 1), ('us_imls', 1), ('1890-1928', 1), ('t.co/qqdimpsbq7', 1), ('wwoz_neworleans', 1), ('bechdel', 1), ('cartoonists', 1), ('macarthur', 1), ('t.co/9hkripoqom', 1), ('t.co/kdq3co9a2a', 1), ('t.co/niakdnjvdq', 1), ('9/29-10/1', 1), ('t.co/if4nxdc4w8', 1), ('t.co/cisjhdppzh', 1), ('tee', 1), ('t.co/j7jubutokt', 1), ('t.co/sr3tbkddcv', 1), ('captain', 1), ('underpants', 1), ('dav', 1), ('pilkey', 1), ('t.co/tx3ksvqofz', 1), ('monday-thursday', 1), ('8-5pm', 1), ('beeping', 1), ('t.co/ksadlxo7ch', 1), ('newer', 1), ('kinds', 1), ('t.co/avsiechb8w', 1), ('upholstered', 1), ('carpets', 1), ('t.co/bpk9rkvd4v', 1), ('t.co/hdhzksqd01', 1), ('14-oct', 1), ('t.co/sojmpb6cqo', 1), ('t.co/hvt2pu6w2w', 1), ('t.co/hdsps5vnru', 1), ('t.co/mo3wxuhyep', 1), ('t.co/wr8wcojetb', 1), ('t.co/diqmauxodo', 1), ('stack/floor', 1), ('closings', 1), ('yippee', 1), ('t.co/zmcxwug58t', 1), ('ireadeverywhere', 1), ('t.co/nmeooab68t', 1), ('funnily-titled', 1), ('t.co/ihxqmswnsj', 1), ('t.co/qbmfh3b7zm', 1), ('audible', 1), ('non-audible', 1), ('pre-testing', 1), ('t.co/w23qvsch3x', 1), ('heck', 1), ('t.co/amtdolqnem', 1), ('t.co/szkce9ahvk', 1), ('beloit', 1), ('mindset', 1), ('touchstones', 1), ('t.co/hurw4mwrsj', 1), ('t.co/xgn12z77af', 1), ('appearance', 1), ('simpsons', 1), ('creator', 1), ('matt', 1), ('groening', 1), ('arlington', 1), ('dug', 1), ('t.co/qkeinuyx6g', 1), ('ferguson', 1), ('becomes', 1), ('oasis', 1), ('calm', 1), ('amid', 1), ('strife', 1), ('t.co/rrksnyheqz', 1), ('spotted', 1), ('btw', 1), ('t.co/usze9jhn3s', 1), ('massive', 1), ('t.co/n1qjmt3vcm', 1), ('t.co/zmvenquy8e', 1), ('coin-op', 1), ('t.co/dovbefvbdn', 1), ('sensor-activated', 1), ('t.co/4h36cvsrwx', 1), ('t.co/6hwv3uk05b', 1), ('t.co/eikrqkbigj', 1), ('signage', 1), ('shhhh', 1), ('t.co/dcen7qd10b', 1), ('t.co/nyaat6accl', 1), ('woot', 1), ('t.co/vjnxbi0hnn', 1), ('t.co/ufto7v7itx', 1), ('t.co/m38kdigyi6', 1), ('t.co/m0i4wo5des', 1), ('t.co/kgryg8i35c', 1), ('topping', 1), ('firm', 1), ('t.co/iohd3oz4rs', 1), ('1297', 1), ('t.co/add9cjcchm', 1), ('amy', 1), ('oberholtzer', 1), ('t.co/9liyxz50yn', 1), ('pu', 1), ('t.co/mdmm6apb3u', 1), ('t.co/fuv5i4gahy', 1), ('t.co/elvxqc0fxe', 1), ('11th', 1), ('6568', 1), ('sabado', 1), ('tarde', 1), ('t.co/va79jbldfp', 1), ('applaud', 1), ('ruling', 1), ('affirming', 1), ('t.co/twlnjescng', 1), ('demiankatz', 1), ('gamebook', 1), ('vupop14', 1), ('sculpture', 1), ('corello', 1), ('t.co/nfkawmtzll', 1), ('t.co/tgukatxeef', 1), ('demolition', 1), ('midnight-8am', 1), ('reduced', 1), ('t.co/3wpxhrrpx6', 1), ('cataloged', 1), ('t.co/bmehtjtort', 1), ('escort', 1), ('accompany', 1), ('t.co/iawedaco2p', 1), ('maya', 1), ('angelou', 1), ('lyrical', 1), ('crow', 1), ('t.co/dbl1fsfccm', 1), ('t.co/nalvdpysbj', 1), ('beth', 1), ('witherell', 1), ('t.co/9rlzuuhumk', 1), ('oa/oer', 1), ('opentourcali', 1), ('t.co/jot0njpova', 1), ('woods', 1), ('t.co/pecbokbdge', 1), ('t.co/sxlfuido4x', 1), ('t.co/guojukfgvt', 1), ('t.co/nyzd7i6wvj', 1), ('t.co/30xaxlefwt', 1), ('t.co/uzaxhmzqwi', 1), ('t.co/acpju8lqpw', 1), ('gail', 1), ('mcmillan', 1), ('mostly', 1), ('t.co/ep5pjkvfh2', 1), ('farmer', 1), ('t.co/ww5kifsggk', 1), ('staff/ucsb', 1), ('alums', 1), ('t.co/gtzvsq2pno', 1), ('plumbing', 1), ('t.co/eqg195bbjl', 1), ('t.co/wacnalawax', 1), ('t.co/4iohmu8m8b', 1), ('t.co/lc3y0a2o1c', 1), ('taste', 1), ('t.co/0lzmbfdngp', 1), ('trends', 1), ('t.co/j96dl7suii', 1), ('regina', 1), ('beard', 1), ('t.co/0utyjpqbi2', 1), ('t.co/sxn6wx8lha', 1), ('sky-lit', 1), ('t.co/xpiiwhpm4t', 1), ('garcía', 1), ('márquez', 1), ('aged', 1), ('87', 1), ('t.co/bmzmd4nwbc', 1), ('hanging', 1), ('t.co/occun6yx8s', 1), ('t.co/chkwwxctqm', 1), ('t.co/2lvhe30dc5', 1), ('t.co/0o90ntabfs', 1), ('270', 1), ('yards', 1), ('concrete', 1), ('poured', 1), ('t.co/i9vr7jrlkt', 1), ('syllabus', 1), ('curricular', 1), ('wired', 1), ('blogs', 1), ('t.co/ck6bazufo2', 1), ('re-opened', 1), ('t.co/orps8nlpcx', 1), ('t.co/mlgxfuwchh', 1), ('t.co/snxd3p7zfj', 1), ('crop', 1), ('ucsb18', 1), ('t.co/uwhmyjfytv', 1), ('t.co/4nu2q8n4nj', 1), ('emergence', 1), ('colle', 1), ('t.co/wy1miueug7', 1), ('t.co/r4u74krois', 1), ('wpa', 1), ('t.co/hf7hghjd6g', 1), ('t.co/1lyl8omejq', 1), ('t.co/um0vycmws8', 1), ('t.co/kdfkccz2w7', 1), ('t.co/ioln2zfmmc', 1), ('t.co/cii6t0zwww', 1), ('praise', 1), ('t.co/rru6p7m0nk', 1), ('heights', 1), ('gauchovolleyball', 1), ('t.co/cqslphulr6', 1), ('t.co/l4yiuul486', 1), ('t.co/d0e31ljhnb', 1), ('t.co/t3arkk4w2a', 1), ('4pm.\\\\n\\\\nhttp', 1), ('t.co/mrfuwa6gzn', 1), ('t.co/9blqmxogcq', 1), ('t.co/qolrk1tswy', 1), ('t.co/xxrjxyqcr9', 1), ('seuss', 1), ('t.co/t4wx7twyaa', 1), ('resolve', 1), ('ray', 1), ('perceptions', 1), ('t.co/jyk6uiscgy', 1), ('bookmobiles', 1), ('t.co/kgbfwiwycp', 1), ('sites', 1), ('t.co/cjhfrnejip', 1), ('t.co/5dtpu4ixbf', 1), ('cycle', 1), ('t.co/pyblucttcr', 1), ('ethan', 1), ('turpin', 1), ('kzsb-am', 1), ('1290', 1), ('t.co/r6jqmtvfjm', 1), ('halls', 1), ('t.co/odx3hjpy1u', 1), ('bookmarks', 1), ('vagabond', 1), ('multilingual', 1), ('fiction/poetry', 1), ('t.co/tiniwz2pbk', 1), ('t.co/tpqhyiengs', 1), ('29th', 1), ('seri', 1), ('t.co/znxvpbud7d', 1), ('t.co/qv6o9hej6s', 1), ('t.co/ezfvwkosqv', 1), ('t.co/0pkaz8ferj', 1), ('restocked', 1), ('supply', 1), ('t.co/ap8gb87lv7', 1), ('t.co/iewmc4tiej', 1), ('t.co/fst8axpkdu', 1), ('bi-weekly', 1), ('centered', 1), ('t.co/exxfh0j9y9', 1), ('edouard', 1), ('pecourt', 1), ('t.co/aeuifhrkfe', 1), ('approximately', 1), ('t.co/lt8sghbtbu', 1), ('pour', 1), ('t.co/6mbx22l8tn', 1), ('t.co/miif9pbjhl', 1), ('t.co/cipunzg6sw', 1), ('t.co/ycp9tetb6w', 1), ('conveniently', 1), ('t.co/mepejmcaha', 1), ('t.co/fmeku28qba', 1), ('t.co/qumvocc2pk', 1), ('unrest', 1), ('1960s-1980s', 1), ('t.co/mlzchfk5ko', 1), ('t.co/mww1senuv3', 1), ('books/printers', 1), ('t.co/5fuddow29b', 1), ('t.co/ic3bwgvjr1', 1), ('satur', 1), ('t.co/b32bq9u49w', 1), ('greatly', 1), ('t.co/jium4hxjh8', 1), ('t.co/mmmk8pkeyf', 1), ('saturday-thursday', 1), ('t.co/ylzrwotowm', 1), ('1-3pm', 1), ('t.co/funkm9d9a4', 1), ('t.co/kuizgvtizs', 1), ('t.co/cr85mxh3ct', 1), ('t.co/hallognvyx', 1), ('english-language', 1), ('auctioned', 1), ('t.co/ogpxso1vvj', 1), ('50th', 1), ('jfk', 1), ('t.co/qw1rmjxbdd', 1), ('t.co/cg0funo25p', 1), ('t.co/xudyupbefg', 1), ('openings', 1), ('t.co/fcctqnapv9', 1), ('fifty', 1), ('t.co/zsehn6srm9', 1), ('t.co/kskk1hackw', 1), ('t.co/xar3vblmve', 1), ('t.co/qi14lpjqg6', 1), ('maxine', 1), ('kingston', 1), ('garvin', 1), ('t.co/2bmymglilu', 1), ('11/6', 1), ('1:00-3:00', 1), ('t.co/a8rmt2qqrv', 1), ('cataloger', 1), ('marlene', 1), ('funniest', 1), ('t.co/fgtwarrolb', 1), ('t.co/uyuuntol5o', 1), ('t.co/gxacz6ddcf', 1), ('stressing', 1), ('logo', 1), ('t.co/euedz5aop9', 1), ('t.co/jqyeldu8r7', 1), ('reza', 1), ('aslan', 1), ('t.co/4x2tap6lwa', 1), ('2005', 1), ('audiovisual', 1), ('recognize', 1), ('t.co/t060lgt8dw', 1), ('t.co/wqpdotlcq0', 1), ('rewriting', 1), ('passages', 1), ('western-authored', 1), ('t.co/nqgmxr1c45', 1), ('23rd', 1), ('figurative', 1), ('t.co/ocdvec9wpq', 1), ('t.co/84bc1f7uuf', 1), ('mendelsohn', 1), ('cavafy', 1), ('t.co/fhtzutq6eg', 1), ('t.co/o0g396usx5', 1), ('t.co/dj3dr8ucxs', 1), ('t.co/ize765nzbe', 1), ('t.co/et3qxxsfuo', 1), ('debate', 1), ('discredit', 1), ('t.co/dtolmfxfou', 1), ('t.co/zbwjzhmu82', 1), ('t.co/hi3jjmwwff', 1), ('t.co/ayvfyd6chk', 1), ('reap', 1), ('fruits', 1), ('forgive', 1), ('intellectual', 1), ('flexible', 1), ('puts', 1), ('immensely', 1), ('proposal', 1), ('involving', 1), ('excitement', 1), ('envision', 1), ('24-hr', 1), ('commence', 1), ('fly-through', 1), ('t.co/wyn4fbnwn1', 1), ('buchanan', 1), ('t.co/1yo3f1urmj', 1), ('t.co/anvignj7xu', 1), ('t.co/dneznbr16u', 1), ('t.co/lpxe5pmlun', 1), ('sarika', 1), ('kathuria', 1), ('t.co/hrvxwjg0up', 1), ('t.co/2vowvc6xui', 1), ('t.co/zoaqovdvuv', 1), ('t.co/fubnarigsh', 1), ('t.co/putniauinc', 1), ('t.co/cgsoh95hi6', 1), ('t.co/hbclaxssj6', 1), ('t.co/ji75zkztpy', 1), ('t.co/veloeqhol1', 1), ('2-3pm', 1), ('9-10am', 1), ('t.co/dvenkpbumo', 1), ('shop/store', 1), ('t.co/xp7xutwyil', 1), ('t.co/ialm9zi6js', 1), ('t.co/g6pooje618', 1), ('t.co/wimkiahflu', 1), ('kept', 1), ('t.co/uzjy4pbl2f', 1), ('t.co/ifjq2icies', 1), ('organizations', 1), ('promotional', 1), ('t.co/8r7xctxam4', 1), ('drills', 1), ('swiftly', 1), ('t.co/evkzxvo5dl', 1), ('bathrooms', 1), ('reassigned', 1), ('t.co/geiucytfp1', 1), ('ala', 1), ('legislator', 1), ('ban', 1), ('toni', 1), ('t.co/5vrifzaf4c', 1), ('minuscule', 1), ('t.co/cqx0nifjkz', 1), ('t.co/sedctjrvyz', 1), ('salinger', 1), ('mania', 1), ('t.co/z8ypeiyvkb', 1), ('t.co/ulhtteyr7i', 1), ('t.co/kumf4zwvhm', 1), ('transportation', 1), ('t.co/u9vsc1jvde', 1), ('architects', 1), ('t.co/owtrxjkvrb', 1), ('sleeping', 1), ('t.co/2lyehct6td', 1), ('perimeter', 1), ('fence', 1), ('t.co/em6ly1uwpq', 1), ('singing', 1), ('vocal', 1), ('solo', 1), ('t.co/0eh84571eg', 1), ('conjuring', 1), ('india', 1), ('subcontinent', 1), ('1780-1870', 1), ('eighteenth', 1), ('centur', 1), ('t.co/qhn0jbubw8', 1), ('t.co/yydcqftkj3', 1), ('adventure', 1), ('gamebooks', 1), ('t.co/lvvcvwjyhv', 1), ('t.co/vnxagn0otu', 1), ('t.co/5ekmkiwobq', 1), ('t.co/ppgvhzgutn', 1), ('t.co/ttrok8kulk', 1), ('dhs', 1), ('hill', 1), ('briefing', 1), ('t.co/qrhnj5iyyk', 1), ('dispenser', 1), ('t.co/eix84ahmnm', 1), ('t.co/3qwwna5irn', 1), ('3-5', 1), ('t.co/jseojfkmlx', 1), ('bonnie', 1), ('t.co/im7lofnutb', 1), ('rest', 1), ('t.co/lhmeicw6ed', 1), ('burr', 1), ('settles', 1), ('attempted', 1), ('clarify', 1), ('difference', 1), ('terms', 1), ('t.co/wqjyvgrptp', 1), ('t.co/kazcwmfe8s', 1), ('stock', 1), ('t.co/zbhgvjp6qb', 1), ('25-june', 1), ('t.co/iidqay96x7', 1), ('t.co/s1int7hxbj', 1), ('t.co/j31pxh2nti', 1), ('brochure', 1), ('t.co/sl8zdr4mqa', 1), ('storage', 1), ('bye', 1), ('t.co/dfowt36wgd', 1), ('pardon', 1), ('noise', 1), ('t.co/1xjmpte5hf', 1), ('t.co/iniu1yfwmf', 1), ('showing', 1), ('t.co/2a0qflxttb', 1), ('madeline', 1), ('kardos', 1), ('t.co/bdg0xvdwuw', 1), ('t.co/cfxewhamtz', 1), ('t.co/qyvlfl7um1', 1), ('embarks', 1), ('t.co/g39z01vl3o', 1), ('scantrons', 1), ('granola', 1), ('bars', 1), ('t.co/rkyncgfv2u', 1), ('9.50', 1), ('13.00', 1), ('hour.call', 1), ('brian', 1), ('t.co/h9sxtmgl0d', 1), ('t.co/niwi45hsgi', 1), ('t.co/qfsqdegwny', 1), ('t.co/hr5dk4wzd1', 1), ('t.co/swzcru9yyr', 1), ('t.co/fhtfum0ltd', 1), ('discarding', 1), ('t.co/mitn6nsvku', 1), ('covers', 1), ('t.co/4nfcm9fyn3', 1), ('t.co/ad25dch5jl', 1), ('♥', 1), ('t.co/j8afwtwicm', 1), ('t.co/d91fxg6i8e', 1), ('t.co/f4st6qb6lt', 1), ('rid', 1), ('t.co/bt2rg7z3i6', 1), ('respect', 1), ('disruptive', 1), ('t.co/mrlellxzf0', 1), ('alyce', 1), ('harris', 1), ('t.co/ibzu7906ky', 1), ('jimenez', 1), ('t.co/w65ptrlbrc', 1), ('belongings', 1), ('unattended', 1), ('t.co/ugehiz2eys', 1), ('t.co/od34m8xym7', 1), ('t.co/vqux4lrjed', 1), ('noticed', 1), ('powered', 1), ('t.co/nxzebmjja8', 1), ('clothesline', 1), ('pave', 1), ('rape', 1), ('t.co/nxicl4dcwc', 1), ('legislature', 1), ('t.co/gxkgnhpalj', 1), ('ranks', 1), ('t.co/rptgftjybx', 1), ('libqual2013', 1), ('t.co/tohtbmq3sv', 1), ('15:00', 1), ('t.co/fdw6aynbgh', 1), ('officers', 1), ('t.co/udeisome5q', 1), ('10am-12pm', 1), ('t.co/qrjpmje3jm', 1), ('1,500', 1), ('t.co/0r6om8jg9o', 1), ('t.co/knva5xkzdg', 1), ('t.co/a76nfxvwlv', 1), ('amendments', 1), ('outsourcing', 1), ('wary', 1), ('t.co/qicpw4txlc', 1), ('t.co/nd72k8p0zn', 1), ('filming', 1), ('1-2pm', 1), ('takers', 1), ('t.co/akup7lb15s', 1), ('t.co/cgeo9yjxga', 1), ('t.co/q1vtkhxucc', 1), ('t.co/smlqcqeiaf', 1), ('t.co/0c2htqfxlq', 1), ('t.co/l5qri26tkk', 1), ('t.co/wliiepgvsy', 1), ('t.co/oj8nrjyhhm', 1), ('t.co/ajoinvn1sl', 1), ('cornucopia', 1), ('t.co/bg34fhgwer', 1), ('t.co/qdngedaefq', 1), ('lightpost', 1), ('plaza/arbor', 1), ('mall', 1), ('t.co/urvgz4utz9', 1), ('t.co/dv0xps23j2', 1), ('t.co/ewkm5wc20l', 1), ('libqual', 1), ('t.co/f6zf0zedua', 1), ('t.co/4puvzryn8f', 1), ('t.co/lcvfzmgaq0', 1), ('thirty-six', 1), ('sk8er', 1), ('boi', 1), ('skaterdater', 1), ('t.co/lneuusbbch', 1), ('t.co/dzylhqkqx7', 1), ('theorist', 1), ('mccloud', 1), ('t.co/9cwwxo9prt', 1), ('fear', 1), ('t.co/qt49fp3vfp', 1), ('guardian', 1), ('t.co/czyxrf0t4n', 1), ('fallout', 1), ('aftermath', 1), ('t.co/2r5w36h6ik', 1), ('t.co/oakt0uvqpq', 1), ('cruelest', 1), ('t.co/moutwumauh', 1), ('t.co/tsju5f94wk', 1), ('movies', 1), ('t.co/jqfhuvjff3', 1), ('t.co/gpthw0fb5g', 1), ('t.co/gocrqsrmq7', 1), ('t.co/jzrwmnyfiw', 1), ('woo', 1), ('t.co/wima5dlmdt', 1), ('illusive', 1), ('utopia', 1), ('everyday', 1), ('t.co/ulmp4gnjvy', 1), ('sequel', 1), ('t.co/tgzpf5szef', 1), ('t.co/swtdmrdtcr', 1), ('t.co/bxnzupmiwm', 1), ('t.co/nmbxpllcnq', 1), ('t.co/fpmqtclymh', 1), ('t.co/qu6nze2mmz', 1), ('achebe', 1), ('beacon', 1), ('t.co/v2bbutwzis', 1), ('martorana', 1), ('t.co/eoiijucq4d', 1), ('t.co/r7prvhsx2o', 1), ('desktop', 1), ('t.co/kkqazglqy8', 1), ('ucsb17', 1), ('de-stress', 1), ('doggies', 1), ('t.co/i4zykir3uo', 1), ('t.co/hmtrvkmnqj', 1), ('15-22', 1), ('t.co/pxkqbqly98', 1), ('t.co/bwplmonou7', 1), ('t.co/5obvfgqhv2', 1), ('t.co/feunbtqtps', 1), ('ended', 1), ('t.co/5cnotubcu4', 1), ('t.co/ik06i5dr8y', 1), ('t.co/goovv9uy2u', 1), ('t.co/ujgnlguame', 1), ('u.s.a', 1), ('t.co/21sscrkued', 1), ('t.co/elv0wvx1k4', 1), ('t.co/tyepscbnmy', 1), ('t.co/mc7boy3n1i', 1), ('t.co/zep0ljynwj', 1), ('talk\\\\n\\\\nmarch', 1), ('8pm\\\\n\\\\nucsb', 1), ('hall\\\\njoshua', 1), ('t.co/yj3cty6ryh', 1), ('t.co/xcfjejrba5', 1), ('agitator', 1), ('techie', 1), ('t.co/t0tckibrc8', 1), ('t.co/2fvbwsjfaj', 1), ('t.co/m6bwszzmyy', 1), ('t.co/zssdc4nahn', 1), ('wisdom', 1), ('t.co/pbgwdaeb1a', 1), ('t.co/uwtr08hkzs', 1), ('rivas', 1), ('t.co/t8akpohvma', 1), ('t.co/lc64wvjmid', 1), ('t.co/oot3dvnrqb', 1), ('t.co/acb907bsuq', 1), ('t.co/thbvu1bhw6', 1), ('t.co/wu04lg5bht', 1), ('t.co/msqmatzx4q', 1), ('t.co/mpf6mnl3on', 1), ('pm\\\\ndavi', 1), ('t.co/d6ppwg1fti', 1), ('representatives', 1), ('t.co/sb9uobw4ys', 1), ('25-mar', 1), ('t.co/w2yy9nhrno', 1), ('rip', 1), ('myers', 1), ('groove', 1), ('lesson', 1), ('t.co/ndi9xoprf1', 1), ('t.co/npwlbu6ilq', 1), ('t.co/zlrfaqx0', 1), ('t.co/e59phdvl', 1), ('kosik', 1), ('t.co/rfwvoep9', 1), ('t.co/ugow54uu', 1), ('6pm\\\\n\\\\ncentral', 1), ('t.co/2zgzrqpm', 1), ('15-18', 1), ('t.co/weigwudt', 1), ('downtown', 1), ('t.co/va5twga3', 1), ('koegel', 1), ('t.co/k9x2wuit', 1), ('t.co/xojb6jg4', 1), ('t.co/zpcnl4xw', 1), ('susan', 1), ('derwin', 1), ('helen', 1), ('morales', 1), ('kathleen', 1), ('math/games', 1), ('t.co/pvi3pwgu', 1), ('750,000', 1), ('whittier', 1), ('t.co/i7g72bns', 1), ('t.co/atmqjc6n', 1), ('t.co/t4d4b61d', 1), ('t.co/qejxvork', 1), ('t.co/3llm746j', 1), ('pm.\\\\nmontecito', 1), ('library\\\\n\\\\njoin', 1), ('t.co/rb7untta', 1), ('library\\\\n\\\\nfeaturing', 1), ('t.co/cyp3yr9d', 1), ('earth-observation', 1), ('satellite', 1), ('rocket', 1), ('t.co/anyatt8y', 1), ('t.co/m4ob8pro', 1), ('t.co/essvwesc', 1), ('t.co/slkorxi6', 1), ('t.co/jtszgylt', 1), ('t.co/qjebuj99', 1), ('t.co/xb8mpypu', 1), ('rsc', 1), ('ov', 1), ('t.co/mneqaek6', 1), ('perks', 1), ('sunset', 1), ('t.co/uhelx3ca', 1), ('t.co/vcccw9y1', 1), ('t.co/4ke4cq5s', 1), ('naming', 1), ('t.co/nw5d82uy', 1), ('t.co/ifemtzie', 1), ('t.co/4vnfpm2f', 1), ('n\\\\nwednesday', 1), ('3:30-5pm', 1), ('t.co/6l5yzulj', 1), ('romance', 1), ('t.co/29hxtjkh', 1), ('everything\\\\n\\\\nfebruary', 1), ('t.co/3zeudaaq', 1), ('t.co/8p2uxc1g', 1), ('t.co/u0n5nln1', 1), ('t.co/brnaw48d', 1), ('t.co/dp2fkoti', 1), ('rumors', 1), ('abound', 1), ('improvability', 1), ('t.co/e32m0uto', 1), ('t.co/ebc05psw', 1), ('bestselling', 1), ('neuroscientist-author', 1), ('genova', 1), ('t.co/iw0ngr5v', 1), ('t.co/jmnupc7k', 1), ('t.co/omigltrk', 1), ('t.co/0d29ojwg', 1), ('t.co/1zaxo81l', 1), ('t.co/k4fq51px', 1), ('t.co/wovaydrq', 1), ('t.co/5ecs7uwk', 1), ('t.co/2m2u4eyi', 1), ('t.co/pefb4fag', 1), ('t.co/lxu51rcz', 1), ('t.co/rvfydk5f', 1), ('t.co/8uqahvid', 1), ('t.co/smjpkp7u', 1), ('buy', 1), ('t.co/igotrtqd', 1), ('interior', 1), ('t.co/jdcrkpaa', 1), ('synesthesia', 1), ('disorder', 1), ('t.co/e1rbundz', 1), ('eddie', 1), ('t.co/oigee9sx', 1), ('kits', 1), ('rmetzger', 1), ('t.co/nxgvcvk8', 1), ('t.co/e6aujupf', 1), ('t.co/y8xle5bs', 1), ('t.co/m6eaunab', 1), ('t.co/bq9rohec', 1), ('paola', 1), ('t.co/n1d9as8c', 1), ('eating', 1), ('t.co/l5txmqhm', 1), ('nosh', 1), ('t.co/mldfialp', 1), ('t.co/y39xftbm', 1), ('emancipation', 1), ('t.co/e94vprqg', 1), ('volunteers', 1), ('t.co/aepfmkln', 1), ('repurposing', 1), ('t.co/g8hy8iv4', 1), ('t.co/vepjgkgq', 1), ('t.co/ogfmlh0w', 1), ('t.co/9mpzhz2x', 1), ('t.co/e13vvjhx', 1), ('t.co/1gmums1a', 1), ('t.co/xih2c7r1', 1), ('chela', 1), ('sandoval', 1), ('edited', 1), ('t.co/1k2oe9gs', 1), ('t.co/3emv9ymt', 1), ('juergensmeyer', 1), ('encyclopedia', 1), ('booklist', 1), ('t.co/z0jzo746', 1), ('anchoring', 1), ('abstract', 1), ('theory', 1), ('t.co/lruxjqqd', 1), ('t.co/bqbqbs2k', 1), ('t.co/zykhp0of', 1), ('t.co/zmmec6lw', 1), ('t.co/lpif7bcm', 1), ('tire', 1), ('pump', 1), ('t.co/lgulyrc5', 1), ('239k', 1), ('t.co/wfhmkaok', 1), ('t.co/vhuccuei', 1), ('spoiler', 1), ('t.co/iclyskxw', 1), ('t.co/8afvwkwf', 1), ('uscblibrary', 1), ('t.co/vfsibngz', 1), ('archivesnext', 1), ('t.co/lfk5k9jb', 1), ('t.co/d9gkzq5u', 1), ('builds', 1), ('himself', 1), ('topophonic', 1), ('telestereoscope', 1), ('mash-up', 1), ('nineteenth-century', 1), ('inventions', 1), ('topophone', 1), ('t.co/sr1s2n9o', 1), ('8am-6pm', 1), ('t.co/e8tnt4rl', 1), ('notion', 1), ('sides', 1), ('coin', 1), ('counterintuitive', 1), ('t.co/hqwb8j4g', 1), ('t.co/3fdbwixe', 1), ('t.co/y7h6ynnh', 1), ('evan', 1), ('hynes', 1), ('t.co/ze61facn', 1), ('incandela', 1), ('polchinski', 1), ('t.co/ctbi6lcw', 1), ('namesake', 1), ('1947-1977', 1), ('vancouver', 1), ('bc', 1), ('t.co/rmlupcsw', 1), ('sighting', 1), ('t.co/hnq9uiax', 1), ('t.co/shlqmwpo', 1), ('n\\\\ndean', 1), ('melvin', 1), ('t.co/rqwltb1s', 1), ('t.co/wxhuln9d', 1), ('producing', 1), ('sigmund', 1), ('freud', 1), ('noted', 1), ('curious', 1), ('older', 1), ('remembered', 1), ('t.co/vq1a4yer', 1), ('t.co/gfnogyun', 1), ('yarnbombing', 1), ('t.co/ejrtwpji', 1), ('dogs', 1), ('t.co/yhkzbv0e', 1), ('average', 1), ('squanders', 1), ('compensating', 1), ('awarding', 1), ('eleventh', 1), ('t.co/rc9x9jzv', 1), ('t.co/3qfkgphr', 1), ('memorized', 1), ('athletic', 1), ('plays', 1), ('pokemon', 1), ('t.co/efuy8sop', 1), ('t.co/5xqobnx4', 1), ('reliable', 1), ('method', 1), ('thumb', 1), ('t.co/slewzvxw', 1), ('t.co/jjmhoowl', 1), ('endnote', 1), ('track', 1), ('references', 1), ('t.co/6bxivhzx', 1), ('oceanography', 1), ('t.co/vr3ueifs', 1), ('t.co/iezclxoq', 1), ('mc/host', 1), ('trivia/quiz', 1), ('fund', 1), ('t.co/f2tbhv0p', 1), ('t.co/sij8kubq', 1), ('9am-12pm', 1), ('non-violence', 1), ('shoot', 1), ('t.co/1okjqbes', 1), ('recipes', 1), ('cooking', 1), ('cookbooks', 1), ('t.co/drozghud', 1), ('exclusively', 1), ('t.co/w4plce4y', 1), ('bet', 1), ('t.co/5ufsx2cb', 1), ('t.co/5kc58qae', 1), ('caregiver', 1), ('awful', 1), ('disease', 1), ('t.co/lly5dr8q', 1), ('t.co/ahlkduhc', 1), ('shapes', 1), ('sizes', 1), ('t.co/d98zdhdn', 1), ('colloquium', 1), ('hustler', 1), ('sexuality', 1), ('t.co/7mn5xtfw', 1), ('t.co/2p5rvrzw', 1), ('saturda', 1), ('t.co/qzfbigvi', 1), ('hull', 1), ('t.co/ljv3pbu0', 1), ('t.co/zbecl16j', 1), ('t.co/krfwumat', 1), ('t.co/xpxyorvj', 1), ('t.co/c5egxq1r', 1), ('rambelli', 1), ('t.co/uso34dge', 1), ('rembelli', 1), ('t.co/hk1lfsvt', 1), ('t.co/mrmp5btb', 1), ('hector', 1), ('tobar', 1), ('t.co/7smwhsyg', 1), ('pro', 1), ('handbook', 1), ('t.co/lccck6lp', 1), ('retain', 1), ('t.co/o0aaryje', 1), ('clinics', 1), ('t.co/vs27nrxj', 1), ('spiffy', 1), ('1,500th', 1), ('liker', 1), ('n\\\\nfree', 1), ('n\\\\nlocation', 1), ('library\\\\n\\\\ntime', 1), ('t.co/b4wkaqi2', 1), ('library\\\\ntime', 1), ('12:00', 1), ('1:00', 1), ('pm\\\\n10/01/12', 1), ('12/07/12', 1), ('t.co/w4uhm42q', 1), ('t.co/xku49wqv', 1), ('t.co/d8bykx8w', 1), ('t.co/ppiqsh3j', 1), ('talbott', 1), ('t.co/ix2b7ik6', 1), ('t.co/rk42kmzs', 1), ('rep', 1), ('trading', 1), ('genius', 1), ('t.co/frlnq4z1', 1), ('compact', 1), ('t.co/uxdd9xwn', 1), ('t.co/jnhvjlaf', 1), ('mysteries', 1), ('photocopying', 1), ('t.co/gqu67l9c', 1), ('t.co/rdzvpp4c', 1), ('t.co/vowp97zc', 1), ('t.co/nzz68mwf', 1), ('t.co/2zvykort', 1), ('csos', 1), ('duty', 1), ('t.co/cciqcabt', 1), ('newly-expanded', 1), ('t.co/klvcq9dx', 1), ('tmrw', 1), ('keyword', 1), ('t.co/aneeq5mi', 1), ('t.co/xqauwmav', 1), ('t.co/bfompl3m', 1), ('t.co/jt7d6tk6', 1), ('stairway', 1), ('t.co/xby6qnbn', 1), ('t.co/welkybqq', 1), ('flight', 1), ('shuttle', 1), ('endeavour', 1), ('t.co/z25rojqo', 1), ('screens', 1), ('t.co/nhi5iv4q', 1), ('t.co/noftgzmk', 1), ('wicked', 1), ('witch', 1), ('t.co/bdpg1bte', 1), ('1992', 1), ('coined', 1), ('armour', 1), ('polly', 1), ('t.co/bbi1bpbo', 1), ('t.co/lpnayr4u', 1), ('occasional', 1), ('rockets', 1), ('afb', 1), ('t.co/hnrigfqt', 1), ('austen', 1), ('t.co/wcbykfju', 1), ('phd-turned', 1), ('prod', 1), ('t.co/cydodvlf', 1), ('t.co/nmkupali', 1), ('t.co/2bjo3ndh', 1), ('write', 1), ('style', 1), ('discipline', 1), ('t.co/fqixnqrn', 1), ('sigh', 1), ('t.co/4xaig5li', 1), ('nto', 1), ('leniency', 1), ('character', 1), ('t.co/hvhssjen', 1), ('webcasts', 1), ('t.co/y2pfo9ir', 1), ('zombie', 1), ('apocalypse', 1), ('unfold', 1), ('t.co/fyg7ecyb', 1), ('fingertips', 1), ('census', 1), ('bureau', 1), ('iphone', 1), ('ipad', 1), ('saves', 1), ('lugging', 1), ('lbs', 1), ('t.co/zkc9znpt', 1), ('erik', 1), ('lucero', 1), ('t.co/duq1fjdo', 1), ('t.co/sugowpf7', 1), ('scitrek', 1), ('t.co/rzwqddbc', 1), ('slavic', 1), ('folk', 1), ('t.co/vow6wvwo', 1), ('uc-elinks', 1), ('linking', 1), ('licensed', 1), ('fulbright', 1), ('approaching', 1), ('t.co/cqgnqjbo', 1), ('avoid', 1), ('truck', 1), ('struck', 1), ('overcrossing', 1), ('lanes', 1), ('traffic', 1), ('t.co/sulyksov', 1), ('fsspers', 1), ('ucsblib', 1), ('uh', 1), ('bites', 1), ('dust', 1), ('t.co/zmh5qyev', 1), ('t.co/yafzrrcn', 1), ('union', 1), ('t.co/t99gmlb5', 1), ('t.co/bzd1gh3z', 1), ('kdb', 1), ('93.7', 1), ('5:03', 1), ('8/9/12', 1), ('colección', 1), ('tloque', 1), ('nahuaque', 1), ('t.co/k3m34prc', 1), ('contaminants', 1), ('urban', 1), ('t.co/jjsiikay', 1), ('oclc', 1), ('firstsearch', 1), ('8/4', 1), ('8/5', 1), ('250,000', 1), ('shape', 1), ('jorge', 1), ('borges', 1), ('fingerprint', 1), ('t.co/om2w9bct', 1), ('t.co/kclx7rom', 1), ('tired', 1), ('sleepy', 1), ('pillows', 1), ('blankets', 1), ('soft', 1), ('noon-6', 1), ('479', 1), ('bus-circle.\\\\nhttp', 1), ('t.co/ksbyjtil', 1), ('t.co/uu50zo27', 1), ('impossible', 1), ('riddle', 1), ('t.co/ajd9h68e', 1), ('dare', 1), ('t.co/qmmiinbc', 1), ('suspended', 1), ('t.co/a1vmk6xo', 1), ('t.co/lrmbypla', 1), ('resumes', 1), ('fix', 1), ('arbor', 1), ('t.co/i4dpqknh', 1), ('centennial', 1), ('specia', 1), ('t.co/y07frz4q', 1), ('bottles', 1), ('filtered', 1), ('ro', 1), ('restrooms', 1), ('t.co/ixtxfhlg', 1), ('stocking', 1), ('shop', 1), ('t.co/97yickzc', 1), ('t.co/xjt19dss', 1), ('t.co/dkqrwieb', 1), ('t.co/kcmyzviy', 1), ('t.co/wac34v8t', 1), ('proquest', 1), ('6/30', 1), ('7am', 1), ('7/1', 1), ('corners', 1), ('t.co/xx0nwk7m', 1), ('t.co/msyvhunp', 1), ('collec', 1), ('t.co/sapjb8jg', 1), ('log', 1), ('t.co/e7rarse9', 1), ('t.co/0xlavgvc', 1), ('t.co/9sxbj8ed', 1), ('t.co/exvlzi4f', 1), ('t.co/hyroajdz', 1), ('tgif', 1), ('t.co/yqckgxi7', 1), ('t.co/as2kdeqb', 1), ('t.co/cfrhnnt3', 1), ('ref', 1), ('t.co/wgcgpzza', 1), ('subscribe', 1), ('feeds', 1), ('t.co/mxppkq6w', 1), ('ho', 1), ('bit.ly/k2shgi', 1), ('stuff', 1), ('bit.ly/k2sf1h', 1), ('t.co/rss6mipx', 1), ('petition', 1), ('considering', 1), ('issu', 1), ('t.co/bnnzzbeh', 1), ('buildi', 1), ('t.co/q2mcswkm', 1), ('mcpeak', 1), ('t.co/8riqkqar', 1), ('implements', 1), ('t.co/fradgas9', 1), ('lapto', 1), ('t.co/khmfpbct', 1), ('breathtaking', 1), ('significant', 1), ('adopt', 1), ('t.co/h5h41ezq', 1), ('beside', 1), ('t.co/pewk2u1r', 1), ('fighting', 1), ('hug', 1), ('kiss', 1), ('t.co/krnbo699', 1), ('brighten', 1), ('shapiro', 1), ('t.co/eugfuijr', 1), ('t.co/qmvnmwp4', 1), ('k', 1), ('sheinbaum', 1), ('t.co/tzzdjskv', 1), ('6020', 1), ('openness', 1), ('seem', 1), ('t.co/ivkeso0u', 1), ('ucsbnet', 1), ('password', 1), ('affe', 1), ('t.co/2wzmdmjt', 1), ('solutions', 1), ('t.co/r8hvnzmk', 1), ('chinese', 1), ('thinks', 1), ('t.co/rjclzt2x', 1), ('t.co/whcqgmpf', 1), ('allison', 1), ('horst', 1), ('sacramento', 1), ('pressing', 1), ('lawmakers', 1), ('maintain', 1), ('t.co/r0hjprno', 1), ('pceslo', 1), ('pcn', 1), ('proceeds', 1), ('t.co/hynrd981', 1), ('mallard', 1), ('t.co/xjlvh4zx', 1), ('cho', 1), ('videographer', 1), ('5-20/week', 1), ('t.co/ysl9bvhs', 1), ('phenomena', 1), ('sh', 1), ('conterparts', 1), ('t.co/vqsdgcmr', 1), ('neushul', 1), ('t.co/1rrvukwc', 1), ('advice', 1), ('t.co/kwjwbvvj', 1), ('893-3371', 1), ('t.co/p7mtpplo', 1), ('26-29', 1), ('t.co/bgwwfopd', 1), ('t.co/kckuhads', 1), ('t.co/8moxq7ly', 1), ('8am-midnight', 1), ('t.co/9sxfqinn', 1), ('diaspora', 1), ('t.co/yt0ftcmd', 1), ('ucdavis_morain', 1), ('fast', 1), ('t.co/pcuucfxg', 1), ('tax', 1), ('afro-brazilian', 1), ('t.co/ptwaimmg', 1), ('t.co/t8hg8gfp', 1), ('t.co/g7zfhfxg', 1), ('ish', 1), ('uc_research', 1), ('t.co/fo6yaatf', 1), ('ucsbnews', 1), ('certified', 1), ('council', 1), ('t.co/sodxhjnu', 1), ('t.co/ulpgtlyn', 1), ('gerald', 1), ('carpenter', 1), ('ensemble', 1), ('t.co/njjei1gd', 1), ('printer', 1), ('434', 1), ('9am-5pm', 1), ('t.co/tejsgapq', 1), ('maramour', 1), ('goooooood', 1), ('colicchio', 1), ('sandwich', 1), ('sold', 1), ('goodland', 1), ('kitchen', 1), ('n\\\\nmonday', 1), ('2012.5:00pm', 1), ('7:00pm', 1), ('ucsb…', 1), ('t.co/makfmqgj', 1), ('rubber', 1), ('onto', 1), ('conveyor', 1), ('belt', 1), ('chase', 1), ('condition', 1), ('beachcombing', 1), ('recovering', 1), ('microdiscectomy', 1), ('sail', 1), ('m/v', 1), ('malaspina', 1), ('bellingham', 1), ('sitka', 1), ('beachcomber', 1), ('steep', 1), ('roll', 1), ('columns', 1), ('containers', 1), ('stacked', 1), ('deck', 1), ('snapped', 1), ('locks', 1), ('lashings', 1), ('tumbled', 1), ('overboard', 1), ('t.co/xileyynv', 1), ('t.co/tv1vygab', 1), ('composting', 1), ('t.co/z2ilubmn', 1), ('tempuraaa', 1), ('blackouts', 1), ('encyclopedias', 1), ('t.co/aza4z5z2', 1), ('t.co/niqohfvk', 1), ('resumania', 1), ('1/19', 1), ('bldg.599', 1), ('t.co/k6w9fg6x', 1), ('t.co/tiakvhfp', 1), ('fees', 1), ('filing', 1), ('theses', 1), ('dissertations', 1), ('t.co/uhmkwj6i', 1), ('blacked', 1), ('sopa', 1), ('pipa', 1), ('topography', 1), ('deepwater', 1), ('horizon', 1), ('oilspill', 1), ('t.co/r7xnuefn', 1), ('bacteria', 1), ('musical', 1), ('stressed-out', 1), ('shrink', 1), ('staged', 1), ('t.co/a4kbh3yj', 1), ('t.co/sobn6nyw', 1), ('t.co/foqhspbp', 1), ('t.co/5weh37cu', 1), ('t.co/zqdxtj7a', 1), ('t.co/n6scgqm9', 1), ('booths', 1), ('msi', 1), ('tank', 1), ('t.co/uylejs0e', 1), ('t.co/4cegt2zi', 1), ('t.co/u593vdfk', 1), ('t.co/6qhfethc', 1), ('mrs', 1), ('t.co/vnaworin', 1), ('holidays\\\\n', 1), ('retired', 1), ('t.co/ouyvwetz', 1), ('t.co/j17gu6w', 1), ('t.co/yooeat3', 1), ('t.co/v0rjfjr', 1), ('neh', 1), ('t.co/nszmc1q', 1), ('t.co/hrv9xtn', 1), ('steve', 1), ('jobs', 1), ('stepping', 1), ('stevejobs', 1), ('disappointed', 1), ('configuration', 1), ('8-9', 1), ('t.co/wqebld0', 1), ('t.co/oqmdf79', 1), ('t.co/glutuaf', 1), ('wp.me/p213j-mu', 1), ('bit.ly/o6bysn', 1), ('pre-construction', 1), ('t.co/4f5h9zf', 1), ('collisions', 1), ('bike-oriented', 1), ('hitchhiker', 1), ('sequels', 1), ('pulls', 1), ('bit.ly/pym3gc', 1), ('surprisingly', 1), ('tomknight24', 1), ('figure', 1), ('hsu', 1), ('13,041', 1), ('dailynexus.com', 1), ('keribradford', 1), ('latenitemike', 1), ('will_is_yawar', 1), ('ninjamovess', 1), ('bit.ly/mlqcke', 1), ('except', 1), ('diehards', 1), ('bit.ly/kyhze5', 1), ('bit.ly/m1tqkx', 1), ('framing', 1), ('1250-1611', 1), ('bit.ly/mduou7', 1), ('bit.ly/ifxhpe', 1), ('katypearce', 1), ('tv', 1), ('hmmm', 1), ('paces', 1), ('org', 1), ('haitian', 1), ('vodou', 1), ('bit.ly/kphaqq', 1), ('bit.ly/itfqyo', 1), ('jukebox\\\\nhttp', 1), ('www.loc.gov/today/pr/2011/11-087.html', 1), ('wp.me/p213j-lt', 1), ('bit.ly/f8tdkw', 1), ('bit.ly/facl7u', 1), ('deploying', 1), ('noon-3pm', 1), ('bit.ly/esbzsk', 1), ('bit.ly/fkxswy', 1), ('bit.ly/g7bayt', 1), ('bit.ly/gotpd7', 1), ('bit.ly/en9uh8', 1), ('slight', 1), ('bit.ly/hj4npn', 1), ('bit.ly/ghzug5', 1), ('bit.ly/fn9jk4', 1), ('bit.ly/gdmfld', 1), ('bit.ly/ggzlhf', 1), ('bit.ly/epuzly', 1), ('bit.ly/fcjpo2', 1), ('motives', 1), ('bit.ly/f3caw6', 1), ('resolution', 1), ('leg1.state.va.us/cgi-bin/legp504.exe', 1), ('111+ful+hr74', 1), ('bit.ly/eahmjb', 1), ('whats', 1), ('biologist', 1), ('bit.ly/egsmlj', 1), ('bit.ly/edzobg', 1), ('amylovestrees', 1), ('t.co/c1hwmzn', 1), ('bit.ly/dpvfzc', 1), ('wp.me/p213j-k2', 1), ('bit.ly/ebslnw', 1), ('wp.me/p213j-jo', 1), ('bit.ly/el3cnj', 1), ('bit.ly/h3nvss', 1), ('wp.me/p213j-jw', 1), ('trailer\\\\nhttp', 1), ('www.youtube.com/watch', 1), ('v=frb91_gxchc', 1), ('bit.ly/i6kizu', 1), ('acknowledged', 1), ('life\\\\nhttp', 1), ('www.ia.ucsb.edu/pa/display.aspx', 1), ('pkey=2396', 1), ('jaron', 1), ('lanier', 1), ('gadget', 1), ('manifesto', 1), ('bit.ly/fes5ih', 1), ('www.facebook.com/event.php', 1), ('eid=142124405846041', 1), ('bit.ly/etvtfh', 1), ('bit.ly/encbca', 1), ('saved', 1), ('rebeccaskloots', 1), ('165', 1), ('ucsblibraries.wordpress.com/2010/12/31/ebook-versions-of-the-ucsb-reads-book-available', 1), ('bit.ly/hcbmk5', 1), ('bit.ly/h9rfxg', 1), ('bit.ly/fpftit', 1), ('21-24', 1), ('bit.ly/idc0gm', 1), ('bit.ly/e6qqyd', 1), ('bit.ly/edyzsq', 1), ('3-11', 1), ('bit.ly/hnehs3', 1), ('www.surveymonkey.com/s/ebookgiveaway', 1), ('3,000,000th', 1), ('eco-footprint', 1), ('spreadsheets.google.com/viewform', 1), ('hl=en', 1), ('formkey=dhu2s2dkunjmql9ysv9dynrbew1xs3c6ma', 1), ('gid=0', 1), ('www.dailynexus.com/2010-09-28/library-features-restricted-books', 1), ('santabarbaramtd', 1), ('buses', 1), ('ucsblibraries.wordpress.com/2010/09/01/need-to-borrow-a-laptop', 1), ('milton', 1), ('engl', 1), ('162', 1), ('aloud', 1), ('450', 1), ('distilled', 1), ('www.youtube.com/myucsblibrary', 1), ('400', 1), ('tiny.cc/d6mwv', 1), ('12,000', 1), ('122', 1), ('futile', 1), ('attempts', 1), ('45', 1), ('paid', 1), ('boyfriend', 1), ('carolina', 1), ('44', 1), ('worried', 1), ('anxious', 1), ('exhaustion', 1), ('42', 1), ('hardship', 1), ('soil', 1), ('41', 1), ('inner', 1), ('tube', 1), ('pitch', 1), ('swim', 1), ('distance', 1), ('flashes', 1), ('trembles', 1), ('hears', 1), ('1,200', 1), ('hire', 1), ('39', 1), ('uncle', 1), ('dials', 1), ('waits…', 1), ('38', 1), ('crossing', 1), ('knows', 1), ('learns', 1), ('desperately', 1), ('hasn', 1), ('2:30pm', 1), ('lookout', 1), ('watches', 1), ('listens', 1), ('washing', 1), ('figures', 1), ('34', 1), ('hitches', 1), ('trucker', 1), ('laredo', 1), ('staring', 1), ('gazes', 1), ('discurso', 1), ('español', 1), ('biblioteca', 1), ('spanish', 1), ('2:30-3:30', 1), ('33', 1), ('matehuala', 1), ('en.wikipedia.org/wiki/matehuala', 1), ('rode', 1), ('6:00', 1), ('brick', 1), ('maker', 1), ('reaches', 1), ('intense', 1), ('prejudice', 1), ('blame', 1), ('crimes', 1), ('temperature', 1), ('travelers', 1), ('freeze', 1), ('nears', 1), ('cordoba', 1), ('cargo', 1), ('therefore', 1), ('frequent', 1), ('sonia', 1), ('nazario', 1), ('greeted', 1), ('generosity', 1), ('toss', 1), ('rolls', 1), ('sugarcane', 1), ('one-third', 1), ('tiny.cc/nqufe', 1), ('avoids', 1), ('tries', 1), ('blend', 1), ('shelter', 1), ('atop', 1), ('degrees', 1), ('bandits', 1), ('everywhere', 1), ('tinyurl.com/yfewwkn', 1), ('girlfriend', 1), ('herself', 1), ('longs', 1), ('dangers', 1), ('waits', 1), ('arrocera', 1)]\n"
     ]
    }
   ],
   "source": [
    "library_freq = library_blob.word_counts\n",
    "library_sorted_freq = sorted(library_freq.items(), key = lambda kv: kv[1], reverse = True)\n",
    "print(library_sorted_freq)"
   ]
  },
  {
   "cell_type": "code",
   "execution_count": null,
   "id": "e99fdaca-edb7-41f1-b35c-a82092579ee0",
   "metadata": {},
   "outputs": [],
   "source": []
  },
  {
   "cell_type": "code",
   "execution_count": null,
   "id": "ea20b2ed-b55f-466d-838a-b8830ab2f754",
   "metadata": {},
   "outputs": [],
   "source": []
  },
  {
   "cell_type": "code",
   "execution_count": null,
   "id": "e074d32e-4a94-4add-89b3-cf0863340cea",
   "metadata": {},
   "outputs": [],
   "source": [
    "# Challenge: for the Python wizzes.\n",
    "# do that in a tidy way?"
   ]
  },
  {
   "cell_type": "markdown",
   "id": "12ca8fc4-ac95-4535-8146-843e2126e915",
   "metadata": {},
   "source": [
    "# Episode 6: Working with our Tweets"
   ]
  },
  {
   "cell_type": "markdown",
   "id": "e70e7058-cdc6-4b96-98ef-03d261c3b051",
   "metadata": {},
   "source": [
    "1. followers\n",
    "1. retweeted-by\n",
    "1. wall\n",
    "1. retweets\n",
    "1. emojis"
   ]
  },
  {
   "cell_type": "code",
   "execution_count": null,
   "id": "fc855355-2742-47b4-a166-194898ded55b",
   "metadata": {
    "tags": []
   },
   "outputs": [],
   "source": [
    "# Episode 6\n",
    "# make the utils folder and get them from the repo\n",
    "# we will make folder for learners:\n",
    "# https://github.com/DocNow/twarc/tree/main/utils\n",
    "\n",
    "!python utils/wall.py raw/taxday.jsonl > output/taxday_wall.html"
   ]
  },
  {
   "cell_type": "code",
   "execution_count": null,
   "id": "76d86256-2a22-4031-9a3d-d76b0ba3f3e4",
   "metadata": {},
   "outputs": [],
   "source": [
    "# what does this do?\n",
    "# it shows the tweet ID's of the Retweets in your dataset, and how much\n",
    "!python utils/retweets.py raw/taxday.jsonl > output/taxday_retweets.csv"
   ]
  },
  {
   "cell_type": "code",
   "execution_count": null,
   "id": "ceb74589-f708-4ab5-9a2b-00c2478d4020",
   "metadata": {},
   "outputs": [],
   "source": [
    "# how much is that?\n",
    "tax_retweets_df = pandas.read_csv(\"output/taxday_retweets.csv\", names=[\"tweetid\", \"retweets\"])\n",
    "tax_retweets_df.head()\n",
    "tax_retweets_df[\"retweets\"].plot(kind = \"hist\")\n"
   ]
  },
  {
   "cell_type": "code",
   "execution_count": null,
   "id": "371d1385-a265-4e0b-a36f-064a9b5ac444",
   "metadata": {},
   "outputs": [],
   "source": [
    "retweet_total = sum(tax_retweets_df[\"retweets\"])\n"
   ]
  },
  {
   "cell_type": "code",
   "execution_count": null,
   "id": "3a974343-f4c3-4e3c-99c7-67d975cea76b",
   "metadata": {},
   "outputs": [],
   "source": [
    "tax_retweets_df[\"retweets\"].plot(kind = \"hist\", loglog=True)"
   ]
  },
  {
   "cell_type": "code",
   "execution_count": null,
   "id": "9c5bbf73-444b-41a2-a72c-deb388217096",
   "metadata": {},
   "outputs": [],
   "source": [
    "# TextBlob needs a string, so this won't work.\n",
    "TextBlob(kittens_df).sentiment"
   ]
  },
  {
   "cell_type": "markdown",
   "id": "3d6da4f1-7a9a-47ef-a5ce-d4e5a3920752",
   "metadata": {},
   "source": [
    "# Episode 7: Search and Filter"
   ]
  },
  {
   "cell_type": "code",
   "execution_count": null,
   "id": "afb13818-26a5-4d6a-bcf1-f99b3d7c966c",
   "metadata": {},
   "outputs": [],
   "source": [
    "# use Twitter advanced search syntax (everthing in quotes!)\n",
    "# to get tailored results\n",
    "!twarc2 search --limit 800 \"(cute OR fluffy OR haircut) (#catsofinstagram) lang:en\" kittens.jsonl"
   ]
  },
  {
   "cell_type": "code",
   "execution_count": 59,
   "id": "0ec3cfcd-55cb-4434-b633-b548cb321141",
   "metadata": {},
   "outputs": [],
   "source": [
    "kittens_df = pandas.read_csv(\"output/kittens.csv\")"
   ]
  },
  {
   "cell_type": "code",
   "execution_count": null,
   "id": "92c8aa01-430a-4599-a65d-aaac822ff8c9",
   "metadata": {},
   "outputs": [],
   "source": [
    "kittens_df"
   ]
  },
  {
   "cell_type": "code",
   "execution_count": 60,
   "id": "0015b8ec-3e79-46d8-8f76-9aa7c5dc66b2",
   "metadata": {},
   "outputs": [
    {
     "data": {
      "text/plain": [
       "['id',\n",
       " 'conversation_id',\n",
       " 'referenced_tweets.replied_to.id',\n",
       " 'referenced_tweets.retweeted.id',\n",
       " 'referenced_tweets.quoted.id',\n",
       " 'author_id',\n",
       " 'in_reply_to_user_id',\n",
       " 'retweeted_user_id',\n",
       " 'quoted_user_id',\n",
       " 'created_at',\n",
       " 'text',\n",
       " 'lang',\n",
       " 'source',\n",
       " 'public_metrics.like_count',\n",
       " 'public_metrics.quote_count',\n",
       " 'public_metrics.reply_count',\n",
       " 'public_metrics.retweet_count',\n",
       " 'reply_settings',\n",
       " 'possibly_sensitive',\n",
       " 'withheld.scope',\n",
       " 'withheld.copyright',\n",
       " 'withheld.country_codes',\n",
       " 'entities.annotations',\n",
       " 'entities.cashtags',\n",
       " 'entities.hashtags',\n",
       " 'entities.mentions',\n",
       " 'entities.urls',\n",
       " 'context_annotations',\n",
       " 'attachments.media',\n",
       " 'attachments.media_keys',\n",
       " 'attachments.poll.duration_minutes',\n",
       " 'attachments.poll.end_datetime',\n",
       " 'attachments.poll.id',\n",
       " 'attachments.poll.options',\n",
       " 'attachments.poll.voting_status',\n",
       " 'attachments.poll_ids',\n",
       " 'author.id',\n",
       " 'author.created_at',\n",
       " 'author.username',\n",
       " 'author.name',\n",
       " 'author.description',\n",
       " 'author.entities.description.cashtags',\n",
       " 'author.entities.description.hashtags',\n",
       " 'author.entities.description.mentions',\n",
       " 'author.entities.description.urls',\n",
       " 'author.entities.url.urls',\n",
       " 'author.location',\n",
       " 'author.pinned_tweet_id',\n",
       " 'author.profile_image_url',\n",
       " 'author.protected',\n",
       " 'author.public_metrics.followers_count',\n",
       " 'author.public_metrics.following_count',\n",
       " 'author.public_metrics.listed_count',\n",
       " 'author.public_metrics.tweet_count',\n",
       " 'author.url',\n",
       " 'author.verified',\n",
       " 'author.withheld.scope',\n",
       " 'author.withheld.copyright',\n",
       " 'author.withheld.country_codes',\n",
       " 'geo.coordinates.coordinates',\n",
       " 'geo.coordinates.type',\n",
       " 'geo.country',\n",
       " 'geo.country_code',\n",
       " 'geo.full_name',\n",
       " 'geo.geo.bbox',\n",
       " 'geo.geo.type',\n",
       " 'geo.id',\n",
       " 'geo.name',\n",
       " 'geo.place_id',\n",
       " 'geo.place_type',\n",
       " '__twarc.retrieved_at',\n",
       " '__twarc.url',\n",
       " '__twarc.version',\n",
       " 'Unnamed: 73']"
      ]
     },
     "execution_count": 60,
     "metadata": {},
     "output_type": "execute_result"
    }
   ],
   "source": [
    "list(kittens_df.columns)"
   ]
  },
  {
   "cell_type": "code",
   "execution_count": null,
   "id": "1a264ec5-4174-4e62-a3cd-9e16aef94059",
   "metadata": {},
   "outputs": [],
   "source": []
  },
  {
   "cell_type": "markdown",
   "id": "0edf38c5-f6b4-475d-9a2f-ffef08430159",
   "metadata": {},
   "source": [
    "# Episode 8: Analysis Tools"
   ]
  },
  {
   "cell_type": "code",
   "execution_count": null,
   "id": "8ccc6de7-126c-4975-8f1e-cacd1140ff34",
   "metadata": {},
   "outputs": [],
   "source": [
    "built-in should come first"
   ]
  },
  {
   "cell_type": "markdown",
   "id": "d6c3b41d-cfc2-4a41-b710-4145d2fbb0af",
   "metadata": {},
   "source": [
    "### Sentiment Analysis\n",
    "To do this, we need to do a little Python\n",
    "\n",
    "TextBlob is a text processing library that does sentiment analysis. \n",
    "The sentiment property returns a namedtuple of the form Sentiment(polarity, subjectivity). The polarity score is a float within the range [-1.0, 1.0]. The subjectivity is a float within the range [0.0, 1.0] where 0.0 is very objective and 1.0 is very subjective."
   ]
  },
  {
   "cell_type": "markdown",
   "id": "cd4d69fd-adcc-46a6-9a46-83cb991e52b9",
   "metadata": {},
   "source": [
    "Before we use TextBlob for sentiment analysis, we need to download\n",
    "datasets of words and their associated weights. These are called *corpora*."
   ]
  },
  {
   "cell_type": "code",
   "execution_count": null,
   "id": "423c7d9b-b67d-4b13-8894-75a64654b52d",
   "metadata": {},
   "outputs": [],
   "source": [
    "!python -m textblob.download_corpora"
   ]
  },
  {
   "cell_type": "code",
   "execution_count": 61,
   "id": "6874ca27-b81f-4f4f-911b-68e9fe21384e",
   "metadata": {},
   "outputs": [
    {
     "data": {
      "text/plain": [
       "Sentiment(polarity=0.4313034129204853, subjectivity=0.7558201654919634)"
      ]
     },
     "execution_count": 61,
     "metadata": {},
     "output_type": "execute_result"
    }
   ],
   "source": [
    "# break tweets test column into a list, then .join into one long string \n",
    "kittens_string = ' '.join(kittens_df['text'].tolist())\n",
    "# turn the string into a blob\n",
    "kittens_blob = TextBlob(kittens_string)\n",
    "# get the sentiment\n",
    "kittens_blob.sentiment"
   ]
  },
  {
   "cell_type": "markdown",
   "id": "005ba8f5-5054-4fba-8e12-0bade66f4775",
   "metadata": {
    "tags": []
   },
   "source": [
    "The overall sentiment of the language of our kittens tweets is rather positive.\n",
    "And the tweets tend to be subjective."
   ]
  },
  {
   "cell_type": "code",
   "execution_count": null,
   "id": "42f7f70c-b9ee-45cf-ad37-7a26cc43d559",
   "metadata": {},
   "outputs": [],
   "source": [
    "# What do you think the sentiment of tax day might be?\n",
    "# get the overall sentiment and see if it matches your prediction."
   ]
  },
  {
   "cell_type": "code",
   "execution_count": null,
   "id": "9856bda0-b290-40a0-ad22-32ece206312b",
   "metadata": {},
   "outputs": [],
   "source": []
  },
  {
   "cell_type": "code",
   "execution_count": null,
   "id": "03e03d25-b2af-4102-a418-b6b0532e0aac",
   "metadata": {},
   "outputs": [],
   "source": [
    "# Episode 9: Data Management"
   ]
  },
  {
   "cell_type": "code",
   "execution_count": null,
   "id": "2e793dcc-20ec-419e-baab-4b75b308ba0b",
   "metadata": {},
   "outputs": [],
   "source": [
    "# Episode 10: Don't Map Twitter"
   ]
  },
  {
   "cell_type": "code",
   "execution_count": null,
   "id": "8d4e4d3d-71a6-4fe7-8b30-542ea123b4ad",
   "metadata": {},
   "outputs": [],
   "source": []
  }
 ],
 "metadata": {
  "kernelspec": {
   "display_name": "Python 3 (ipykernel)",
   "language": "python",
   "name": "python3"
  },
  "language_info": {
   "codemirror_mode": {
    "name": "ipython",
    "version": 3
   },
   "file_extension": ".py",
   "mimetype": "text/x-python",
   "name": "python",
   "nbconvert_exporter": "python",
   "pygments_lexer": "ipython3",
   "version": "3.9.10"
  }
 },
 "nbformat": 4,
 "nbformat_minor": 5
}
