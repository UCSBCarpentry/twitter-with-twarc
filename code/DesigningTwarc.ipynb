{
 "cells": [
  {
   "cell_type": "markdown",
   "id": "744056f4-ef73-4c90-a7bc-aef8167fd1cc",
   "metadata": {},
   "source": [
    "# Twitter with twarc\n",
    "A UCSB Carpentry workshop"
   ]
  },
  {
   "cell_type": "markdown",
   "id": "e2b8339f-952b-498f-bc0f-a5eda41a38e0",
   "metadata": {},
   "source": [
    "## Episode 2\n",
    "You should have a taxday.jsonl file"
   ]
  },
  {
   "cell_type": "code",
   "execution_count": 1,
   "id": "3cbf7282-bf3d-4a51-ad72-008ccaef1a13",
   "metadata": {},
   "outputs": [
    {
     "name": "stdout",
     "output_type": "stream",
     "text": [
      "Usage: twarc2 [OPTIONS] COMMAND [ARGS]...\n",
      "\n",
      "  Collect data from the Twitter V2 API.\n",
      "\n",
      "Options:\n",
      "  --consumer-key TEXT         Twitter app consumer key (aka \"App Key\")\n",
      "  --consumer-secret TEXT      Twitter app consumer secret (aka \"App Secret\")\n",
      "  --access-token TEXT         Twitter app access token for user\n",
      "                              authentication.\n",
      "  --access-token-secret TEXT  Twitter app access token secret for user\n",
      "                              authentication.\n",
      "  --bearer-token TEXT         Twitter app access bearer token.\n",
      "  --app-auth / --user-auth    Use application authentication or user\n",
      "                              authentication. Some rate limits are higher with\n",
      "                              user authentication, but not all endpoints are\n",
      "                              supported.  [default: app-auth]\n",
      "  -l, --log TEXT\n",
      "  --verbose\n",
      "  --metadata / --no-metadata  Include/don't include metadata about when and\n",
      "                              how data was collected.  [default: metadata]\n",
      "  --config FILE               Read configuration from FILE.\n",
      "  --help                      Show this message and exit.\n",
      "\n",
      "Commands:\n",
      "  compliance-job  Create, retrieve and list batch compliance jobs for...\n",
      "  configure       Set up your Twitter app keys.\n",
      "  conversation    Retrieve a conversation thread using the tweet id.\n",
      "  conversations   Fetch the full conversation threads that the input...\n",
      "  counts          Return counts of tweets matching a query.\n",
      "  csv             Convert tweets to CSV.\n",
      "  dehydrate       Extract tweet or user IDs from a dataset.\n",
      "  flatten         \"Flatten\" tweets, or move expansions inline with tweet...\n",
      "  followers       Get the followers for a given user.\n",
      "  following       Get the users that a given user is following.\n",
      "  hydrate         Hydrate tweet ids.\n",
      "  liked-tweets    Get the tweets liked by a specific user_id.\n",
      "  liking-users    Get the users that liked a specific tweet.\n",
      "  lists           Lists API support.\n",
      "  mentions        Retrieve max of 800 of the most recent tweets...\n",
      "  places          Search for places by place name, geo coordinates or ip...\n",
      "  quotes          Get the tweets that quote tweet the given tweet.\n",
      "  retweeted-by    Get the users that retweeted a specific tweet.\n",
      "  sample          Fetch tweets from the sample stream.\n",
      "  search          Search for tweets.\n",
      "  searches        Execute each search in the input file, one at a time.\n",
      "  stream          Fetch tweets from the live stream.\n",
      "  stream-rules    List, add and delete rules for your stream.\n",
      "  timeline        Retrieve recent tweets for the given user.\n",
      "  timelines       Fetch the timelines of every user in an input source of...\n",
      "  tweet           Look up a tweet using its tweet id or URL.\n",
      "  user            Get the profile data for a single user by either...\n",
      "  users           Get data for user ids or usernames.\n",
      "  version         Return the version of twarc that is installed.\n"
     ]
    }
   ],
   "source": [
    "# BASH commands start with a BANG!\n",
    "!twarc2 --help"
   ]
  },
  {
   "cell_type": "code",
   "execution_count": 1,
   "id": "d2ad701f-463e-40f9-958b-a09721e263d4",
   "metadata": {
    "tags": []
   },
   "outputs": [
    {
     "name": "stderr",
     "output_type": "stream",
     "text": [
      "/opt/conda/lib/python3.9/site-packages/tqdm/auto.py:22: TqdmWarning: IProgress not found. Please update jupyter and ipywidgets. See https://ipywidgets.readthedocs.io/en/stable/user_install.html\n",
      "  from .autonotebook import tqdm as notebook_tqdm\n"
     ]
    }
   ],
   "source": [
    "#  what libraries will we need to be loading in our notebook?\n",
    "#  we need to always distinguish between \n",
    "#  running BASH vs. running a line of python.\n",
    "\n",
    "import pandas\n",
    "import twarc_csv\n",
    "# import TextBlob"
   ]
  },
  {
   "cell_type": "code",
   "execution_count": 2,
   "id": "2082bb24-2751-406c-a918-c8c41d14e7b1",
   "metadata": {},
   "outputs": [
    {
     "name": "stdout",
     "output_type": "stream",
     "text": [
      "/home/jovyan\n"
     ]
    }
   ],
   "source": [
    "# and of course, it's important to know where we are working:\n",
    "!pwd"
   ]
  },
  {
   "cell_type": "markdown",
   "id": "5913eea7-a65c-4505-b1c5-a846d7a98d23",
   "metadata": {},
   "source": [
    "## Running twarc\n",
    "Let's get the timeline of one of twarc's creators."
   ]
  },
  {
   "cell_type": "code",
   "execution_count": 3,
   "id": "222e98bb-b6fa-442e-b1e9-5f5b72e518e8",
   "metadata": {},
   "outputs": [
    {
     "name": "stdout",
     "output_type": "stream",
     "text": [
      "API limit of 3200 reached:  18%|█▉         | 3142/17697 [00:36<02:50, 85.17it/s]\n"
     ]
    }
   ],
   "source": [
    "!twarc2 timeline BergisJules > raw_data/bjules.jsonl"
   ]
  },
  {
   "cell_type": "markdown",
   "id": "4473db7c-3651-45f7-8c14-0f49b6c5c0f4",
   "metadata": {},
   "source": [
    "### Challenge\n",
    "- Can you find the file called “bjules.jsonl”?\n",
    "- What's the timestamp on the first one. The last one?\n",
    "\n",
    "- How many tweets did you get from Bergis? (we can't tell without flattening)\n",
    "- Download a timeline for a person of your choice. How many tweets did you get? \n",
    "- What’s the oldest one?"
   ]
  },
  {
   "cell_type": "markdown",
   "id": "bbfccda8-2a25-44a3-bb9a-5bdbc2c6d6cb",
   "metadata": {},
   "source": [
    "# Episode 3: examining tweets\n",
    "What comes along with a tweet"
   ]
  },
  {
   "cell_type": "markdown",
   "id": "586f4cbf-4741-44e2-a025-9968faf74e77",
   "metadata": {},
   "source": [
    "### Make your jsonl 1 tweet per line\n",
    "This will let you do our most basic unix-y analysis"
   ]
  },
  {
   "cell_type": "code",
   "execution_count": 3,
   "id": "7b7bd894-4995-4851-8668-983c3c4c9f35",
   "metadata": {
    "tags": []
   },
   "outputs": [
    {
     "name": "stdout",
     "output_type": "stream",
     "text": [
      "     33  849333 9417257 raw_data/bjules.jsonl\n"
     ]
    }
   ],
   "source": [
    "!wc raw_data/bjules.jsonl"
   ]
  },
  {
   "cell_type": "markdown",
   "id": "4bbe2b98-3264-45bc-adc0-f6aa567718cd",
   "metadata": {
    "tags": []
   },
   "source": [
    "## Try again\n",
    "33 lines doesn't mean 33 tweets. I suspected there was more there becauce\n",
    "I got an error message about hitting a limit of 3200. \n",
    "\n",
    "We need to either flatten our tweets, or convert them\n",
    "to a csv\n"
   ]
  },
  {
   "cell_type": "code",
   "execution_count": 5,
   "id": "b1dc091e-8fb8-49ab-b6d5-58e454d4bc90",
   "metadata": {},
   "outputs": [
    {
     "name": "stdout",
     "output_type": "stream",
     "text": [
      "100%|██████████████| Processed 8.98M/8.98M of input file [00:01<00:00, 6.00MB/s]\n"
     ]
    }
   ],
   "source": [
    "# flatten\n",
    "!twarc2 flatten raw_data/bjules.jsonl output_data/bjules_flattened.jsonl"
   ]
  },
  {
   "cell_type": "code",
   "execution_count": 6,
   "id": "c9015236-250a-4f85-83b0-296431fe65a2",
   "metadata": {},
   "outputs": [
    {
     "name": "stdout",
     "output_type": "stream",
     "text": [
      "100%|██████████████| Processed 8.98M/8.98M of input file [00:02<00:00, 3.57MB/s]\n",
      "\n",
      "ℹ️\n",
      "Parsed 3166 tweets objects from 33 lines in the input file.\n",
      "Wrote 3166 rows and output 74 columns in the CSV.\n",
      "\n"
     ]
    }
   ],
   "source": [
    "# convert\n",
    "!twarc2 csv raw_data/bjules.jsonl output_data/bjules.csv"
   ]
  },
  {
   "cell_type": "code",
   "execution_count": 7,
   "id": "180e3158-2f08-4d08-8e9e-b4ab999e6ef1",
   "metadata": {
    "tags": []
   },
   "outputs": [
    {
     "name": "stdout",
     "output_type": "stream",
     "text": [
      "    3166  1742043 23565579 output_data/bjules_flattened.jsonl\n",
      "    3167   586043 11658052 output_data/bjules.csv\n"
     ]
    }
   ],
   "source": [
    "# When I did this, I got 3166 tweets (as opposed to the 33 lines that the original file was)\n",
    "! wc output_data/bjules_flattened.jsonl\n",
    "! wc output_data/bjules.csv"
   ]
  },
  {
   "cell_type": "markdown",
   "id": "d55e1a66-f173-4adb-898c-572f15c7bbcb",
   "metadata": {},
   "source": [
    "The csv is 1 line longer because it has column headers."
   ]
  },
  {
   "cell_type": "markdown",
   "id": "ab4c78d8-42bd-458c-b618-d1c854fc265f",
   "metadata": {},
   "source": [
    "Can we go back further on his timeline by looking\n",
    "only for Bergis's original content?\n",
    "\n",
    "No--the same limit applies."
   ]
  },
  {
   "cell_type": "code",
   "execution_count": 8,
   "id": "b29e6727-48e8-4c79-b824-fd109b0e7029",
   "metadata": {},
   "outputs": [
    {
     "name": "stdout",
     "output_type": "stream",
     "text": [
      "API limit of 3200 reached:   0%|             | 47/17696 [00:00<03:20, 88.13it/s]\n"
     ]
    }
   ],
   "source": [
    "!twarc2 timeline BergisJules --exclude-retweets --exclude-replies > raw_data/bjules_original"
   ]
  },
  {
   "cell_type": "code",
   "execution_count": null,
   "id": "23c876b6-789d-408f-b164-bdd1f6aaddcf",
   "metadata": {},
   "outputs": [],
   "source": [
    "!head -n 1 taxday.jsonl"
   ]
  },
  {
   "cell_type": "code",
   "execution_count": 9,
   "id": "d6efcdaf-a547-4a93-95d3-94e4bfcdddff",
   "metadata": {},
   "outputs": [
    {
     "name": "stdout",
     "output_type": "stream",
     "text": [
      "100%|████████████████| Processed 111k/111k of input file [00:00<00:00, 25.3MB/s]\n"
     ]
    }
   ],
   "source": [
    "!twarc2 flatten raw_data/bjules_original.jsonl output_data/bjules_original_flat.jsonl\n"
   ]
  },
  {
   "cell_type": "code",
   "execution_count": null,
   "id": "2a685310-f080-4ff8-8728-a46ca21f926b",
   "metadata": {},
   "outputs": [],
   "source": []
  },
  {
   "cell_type": "code",
   "execution_count": null,
   "id": "2e4a5ce0-373b-4106-8959-31850ae8fb17",
   "metadata": {},
   "outputs": [],
   "source": [
    "# A lot comes along! \n",
    "!tail -n 1 taxday.jsonl"
   ]
  },
  {
   "cell_type": "markdown",
   "id": "e89e3a4e-4955-426a-9081-1ea9739304c9",
   "metadata": {},
   "source": [
    "## Challenge: tax day Tweets"
   ]
  },
  {
   "cell_type": "code",
   "execution_count": null,
   "id": "67d95d44-829c-431c-bd6c-7ee4b842506a",
   "metadata": {},
   "outputs": [],
   "source": [
    "# we harvested 3 hours worth of tweets for you on tax day.\n",
    "# how many tweets?\n",
    "!wc taxday.jsonl"
   ]
  },
  {
   "cell_type": "markdown",
   "id": "af2f2152-7de1-40d4-9d97-c6aa551ce2fd",
   "metadata": {},
   "source": [
    "## Next harvest\n",
    "Next we'll get just Bergis' original content. \n",
    "In other words, only the tweets that he wrote, not\n",
    "any retweets or replied to other people tweets."
   ]
  },
  {
   "cell_type": "code",
   "execution_count": null,
   "id": "1cb6ab7f-2bb4-47d0-bfa8-acb7e9ad77ae",
   "metadata": {},
   "outputs": [],
   "source": []
  },
  {
   "cell_type": "code",
   "execution_count": null,
   "id": "e67c2f11-27b4-4802-9d94-19589291e94d",
   "metadata": {},
   "outputs": [],
   "source": []
  },
  {
   "cell_type": "code",
   "execution_count": null,
   "id": "3310f048-6ad7-4ee6-bd4e-c727ec8031a7",
   "metadata": {},
   "outputs": [],
   "source": []
  },
  {
   "cell_type": "code",
   "execution_count": null,
   "id": "2dd90d6c-c9b9-41e5-ae9d-6b3c457cbc9e",
   "metadata": {},
   "outputs": [],
   "source": [
    "# maybe the last challenge for ep. 3 is examining this shorter file?"
   ]
  },
  {
   "cell_type": "markdown",
   "id": "29ab11e8-f109-4670-912c-3122ea2b8211",
   "metadata": {},
   "source": [
    "# Episode 4"
   ]
  },
  {
   "cell_type": "code",
   "execution_count": null,
   "id": "6a68cc58-0dc5-4255-92f5-0e220b7385ca",
   "metadata": {},
   "outputs": [],
   "source": [
    "!twarc2 search --limit 500 \"#catsofinstagram\" hashtagcats.jsonl"
   ]
  },
  {
   "cell_type": "code",
   "execution_count": null,
   "id": "952eed26-010f-464b-82c9-4699988555b9",
   "metadata": {},
   "outputs": [],
   "source": [
    "!twarc2 search --limit 5000 \"#catsofinstagram\" hashtagcats.jsonl"
   ]
  },
  {
   "cell_type": "code",
   "execution_count": null,
   "id": "afb13818-26a5-4d6a-bcf1-f99b3d7c966c",
   "metadata": {},
   "outputs": [],
   "source": [
    "# use Twitter advanced search syntax (everthing in quotes!)\n",
    "# to get tailored results\n",
    "!twarc2 search --limit 800 \"(cute OR fluffy OR haircut) (#catsofinstagram) lang:en\" kittens.jsonl"
   ]
  },
  {
   "cell_type": "markdown",
   "id": "b5af9bd3-debf-4910-a2f1-30a760d599cd",
   "metadata": {},
   "source": [
    "### Converting to csv and dataframes"
   ]
  },
  {
   "cell_type": "code",
   "execution_count": 10,
   "id": "44e2145d-a912-49ea-8044-544cb11bb38d",
   "metadata": {},
   "outputs": [
    {
     "name": "stdout",
     "output_type": "stream",
     "text": [
      " 92%|████████████▊ | Processed 87.4M/95.4M of input file [00:13<00:02, 3.47MB/s]\u001b[31m💔 ERROR: 314 Unexpected items in data! \n",
      "Are you sure you specified the correct --input-data-type?\n",
      "If the object type is correct, add extra columns with:\n",
      "--extra-input-columns \"quoted_status.user.id,quoted_status.user.profile_background_image_url,quoted_status.in_reply_to_status_id,retweeted_status.user.created_at,quoted_status.user.entities.description.urls,retweeted_status.quoted_status.possibly_sensitive,user.contributors_enabled,retweeted_status.quoted_status.lang,quoted_status.user.location,retweeted_status.quoted_status.source,quoted_status.user.follow_request_sent,retweeted_status.quoted_status.display_text_range,in_reply_to_screen_name,user.id_str,retweeted_status.quoted_status.user.profile_image_url_https,quoted_status.in_reply_to_screen_name,quoted_status.user.listed_count,retweeted_status.quoted_status.user.entities.description.urls,quoted_status.user.profile_sidebar_border_color,quoted_status.id,retweeted_status.id_str,user.screen_name,user.profile_use_background_image,retweeted_status.quoted_status.id,quoted_status.source,quoted_status.user.contributors_enabled,quoted_status.user.notifications,quoted_status.user.profile_image_url,user.profile_link_color,favorite_count,quoted_status.in_reply_to_user_id_str,retweeted_status.in_reply_to_screen_name,retweeted_status.quoted_status.contributors,retweeted_status.quoted_status.user.protected,quoted_status.user.profile_background_image_url_https,retweeted_status.user.geo_enabled,in_reply_to_status_id,retweeted_status.quoted_status.user.profile_text_color,retweeted_status.quoted_status.user.profile_image_url,quoted_status.coordinates,retweeted_status.user.profile_use_background_image,quoted_status.user.friends_count,quoted_status.lang,retweeted_status.quoted_status.user.description,user.statuses_count,retweeted,quoted_status.user.created_at,retweeted_status.place.bounding_box.type,display_text_range,retweeted_status.quoted_status.metadata.iso_language_code,coordinates,user.profile_image_url,retweeted_status.entities.urls,retweeted_status.user.listed_count,retweeted_status.quoted_status.user.notifications,place.full_name,user.translator_type,retweeted_status.quoted_status.user.lang,user.profile_text_color,user.entities.url.urls,retweeted_status.quoted_status.user.profile_background_color,retweeted_status.display_text_range,quoted_status.user.description,quoted_status.metadata.result_type,user.listed_count,retweeted_status.quoted_status_id,retweeted_status.quoted_status.in_reply_to_status_id,retweeted_status.in_reply_to_status_id_str,quoted_status.user.is_translation_enabled,metadata.iso_language_code,retweeted_status.retweeted,retweeted_status.quoted_status.user.profile_background_image_url_https,user.profile_sidebar_fill_color,retweeted_status.user.default_profile,entities.symbols,quoted_status.user.followers_count,is_quote_status,retweeted_status.user.favourites_count,full_text,retweeted_status.quoted_status.user.id,retweeted_status.user.profile_sidebar_fill_color,quoted_status.user.profile_link_color,user.location,retweeted_status.source,quoted_status.is_quote_status,retweeted_status.place.country_code,retweeted_status.in_reply_to_user_id,retweeted_status.quoted_status.user.withheld_in_countries,quoted_status.user.geo_enabled,user.notifications,retweeted_status.quoted_status.user.screen_name,place.country_code,retweeted_status.quoted_status.user.profile_background_tile,retweet_count,quoted_status.id_str,retweeted_status.quoted_status.id_str,retweeted_status.quoted_status.extended_entities.media,retweeted_status.quoted_status.user.id_str,user.verified,retweeted_status.quoted_status.metadata.result_type,favorited,retweeted_status.quoted_status.user.default_profile,retweeted_status.quoted_status.retweeted,quoted_status.user.profile_text_color,retweeted_status.quoted_status_id_str,retweeted_status.retweet_count,quoted_status.user.id_str,extended_entities.media,quoted_status.user.following,retweeted_status.quoted_status.user.friends_count,retweeted_status.quoted_status.user.is_translator,retweeted_status.user.statuses_count,retweeted_status.entities.media,retweeted_status.quoted_status.entities.hashtags,retweeted_status.in_reply_to_user_id_str,retweeted_status.quoted_status.user.has_extended_profile,quoted_status.user.default_profile,user.utc_offset,user.entities.description.urls,retweeted_status.quoted_status.user.name,retweeted_status.place.country,user.withheld_in_countries,quoted_status_id,retweeted_status.user.profile_background_tile,retweeted_status.user.screen_name,retweeted_status.entities.symbols,quoted_status.user.profile_sidebar_fill_color,quoted_status.in_reply_to_status_id_str,retweeted_status.geo,retweeted_status.possibly_sensitive,user.profile_image_url_https,retweeted_status.quoted_status.user.utc_offset,id_str,retweeted_status.user.url,retweeted_status.quoted_status.user.profile_banner_url,quoted_status.user.favourites_count,truncated,quoted_status.user.utc_offset,retweeted_status.quoted_status.is_quote_status,place.id,quoted_status.entities.user_mentions,retweeted_status.quoted_status.geo,quoted_status.retweet_count,place.url,retweeted_status.lang,user.followers_count,retweeted_status.place,user.profile_background_image_url_https,user.follow_request_sent,retweeted_status.entities.hashtags,place.country,quoted_status.user.lang,retweeted_status.entities.user_mentions,retweeted_status.metadata.result_type,retweeted_status.favorite_count,retweeted_status.favorited,retweeted_status.metadata.iso_language_code,quoted_status.user.default_profile_image,retweeted_status.user.profile_background_color,retweeted_status.truncated,quoted_status.entities.urls,quoted_status.user.profile_image_url_https,quoted_status.retweeted,retweeted_status.coordinates,retweeted_status.quoted_status.user.following,retweeted_status.quoted_status.user.default_profile_image,retweeted_status.quoted_status.user.followers_count,retweeted_status.quoted_status.user.profile_sidebar_fill_color,retweeted_status.quoted_status.user.created_at,retweeted_status.quoted_status.user.contributors_enabled,retweeted_status.quoted_status.in_reply_to_screen_name,quoted_status.full_text,retweeted_status.contributors,quoted_status.favorited,user.favourites_count,retweeted_status.user.verified,retweeted_status.user.lang,quoted_status.user.translator_type,user.following,retweeted_status.user.withheld_in_countries,retweeted_status.place.contained_within,in_reply_to_status_id_str,retweeted_status.user.entities.description.urls,retweeted_status.user.is_translator,retweeted_status.quoted_status.user.url,user.default_profile,user.id,retweeted_status.quoted_status.truncated,user.created_at,quoted_status.user.profile_background_tile,retweeted_status.user.name,retweeted_status.place.id,retweeted_status.quoted_status.user.profile_background_image_url,retweeted_status.user.notifications,place,quoted_status.user.name,retweeted_status.quoted_status.user.time_zone,retweeted_status.quoted_status.user.listed_count,retweeted_status.user.profile_background_image_url_https,quoted_status.user.has_extended_profile,retweeted_status.user.following,retweeted_status.place.place_type,retweeted_status.full_text,quoted_status.user.profile_use_background_image,retweeted_status.quoted_status.full_text,retweeted_status.user.protected,geo,user.name,user.url,quoted_status.contributors,retweeted_status.quoted_status.user.statuses_count,user.profile_background_color,quoted_status.user.time_zone,retweeted_status.is_quote_status,user.profile_banner_url,quoted_status.favorite_count,user.has_extended_profile,place.name,user.profile_sidebar_border_color,retweeted_status.user.id_str,retweeted_status.user.profile_background_image_url,user.lang,quoted_status.entities.symbols,retweeted_status.user.utc_offset,retweeted_status.user.profile_banner_url,retweeted_status.user.profile_text_color,retweeted_status.quoted_status.in_reply_to_user_id_str,quoted_status.user.profile_background_color,retweeted_status.quoted_status.user.verified,retweeted_status.created_at,retweeted_status.in_reply_to_status_id,in_reply_to_user_id_str,retweeted_status.quoted_status.user.translator_type,retweeted_status.quoted_status.entities.media,retweeted_status.quoted_status.entities.symbols,contributors,quoted_status.user.is_translator,retweeted_status.user.default_profile_image,retweeted_status.quoted_status.created_at,user.default_profile_image,retweeted_status.quoted_status.favorited,retweeted_status.quoted_status.user.profile_use_background_image,quoted_status.user.protected,retweeted_status.user.follow_request_sent,entities.user_mentions,retweeted_status.quoted_status.user.favourites_count,quoted_status_id_str,retweeted_status.quoted_status.user.entities.url.urls,retweeted_status.user.followers_count,quoted_status.possibly_sensitive,metadata.result_type,retweeted_status.quoted_status.user.is_translation_enabled,retweeted_status.id,quoted_status.metadata.iso_language_code,user.is_translation_enabled,retweeted_status.quoted_status.in_reply_to_user_id,quoted_status.truncated,user.friends_count,retweeted_status.user.is_translation_enabled,user.geo_enabled,quoted_status.place,quoted_status.user.url,retweeted_status.quoted_status.user.geo_enabled,quoted_status.user.profile_banner_url,retweeted_status.user.profile_link_color,retweeted_status.user.time_zone,place.bounding_box.coordinates,retweeted_status.quoted_status.in_reply_to_status_id_str,retweeted_status.place.bounding_box.coordinates,retweeted_status.user.entities.url.urls,retweeted_status.quoted_status.user.follow_request_sent,place.place_type,quoted_status.user.screen_name,quoted_status.created_at,quoted_status.in_reply_to_user_id,quoted_status.user.statuses_count,retweeted_status.user.profile_sidebar_border_color,retweeted_status.quoted_status.entities.user_mentions,quoted_status.user.entities.url.urls,retweeted_status.quoted_status.place,retweeted_status.user.friends_count,user.protected,quoted_status.user.withheld_in_countries,quoted_status.entities.hashtags,place.contained_within,user.profile_background_image_url,place.bounding_box.type,retweeted_status.quoted_status.user.location,retweeted_status.place.name,retweeted_status.user.profile_image_url_https,retweeted_status.user.id,retweeted_status.user.translator_type,user.profile_background_tile,retweeted_status.user.has_extended_profile,user.time_zone,quoted_status.geo,retweeted_status.place.full_name,retweeted_status.extended_entities.media,retweeted_status.place.url,retweeted_status.quoted_status.user.profile_sidebar_border_color,user.description,quoted_status.display_text_range,retweeted_status.user.contributors_enabled,retweeted_status.user.location,entities.media,user.is_translator,retweeted_status.user.profile_image_url,retweeted_status.quoted_status.coordinates,retweeted_status.quoted_status.entities.urls,retweeted_status.quoted_status.user.profile_link_color,retweeted_status.user.description,retweeted_status.quoted_status.favorite_count,quoted_status.user.verified,retweeted_status.quoted_status.retweet_count\"\n",
      "Skipping entire batch of 100 tweets!\u001b[0m\n",
      " 93%|████████████▉ | Processed 88.4M/95.4M of input file [00:14<00:02, 3.58MB/s]\u001b[31m💔 ERROR: 303 Unexpected items in data! \n",
      "Are you sure you specified the correct --input-data-type?\n",
      "If the object type is correct, add extra columns with:\n",
      "--extra-input-columns \"quoted_status.user.id,quoted_status.user.profile_background_image_url,quoted_status.in_reply_to_status_id,retweeted_status.user.created_at,quoted_status.user.entities.description.urls,user.contributors_enabled,retweeted_status.quoted_status.lang,quoted_status.user.location,retweeted_status.quoted_status.source,quoted_status.user.follow_request_sent,retweeted_status.quoted_status.display_text_range,in_reply_to_screen_name,user.id_str,retweeted_status.quoted_status.user.profile_image_url_https,quoted_status.in_reply_to_screen_name,quoted_status.user.listed_count,retweeted_status.quoted_status.user.entities.description.urls,quoted_status.user.profile_sidebar_border_color,quoted_status.id,retweeted_status.id_str,user.screen_name,user.profile_use_background_image,retweeted_status.quoted_status.id,quoted_status.source,quoted_status.user.contributors_enabled,quoted_status.user.notifications,quoted_status.user.profile_image_url,user.profile_link_color,favorite_count,quoted_status.in_reply_to_user_id_str,retweeted_status.in_reply_to_screen_name,retweeted_status.quoted_status.contributors,retweeted_status.quoted_status.user.protected,quoted_status.user.profile_background_image_url_https,retweeted_status.user.geo_enabled,in_reply_to_status_id,retweeted_status.quoted_status.user.profile_text_color,retweeted_status.quoted_status.user.profile_image_url,quoted_status.coordinates,retweeted_status.user.profile_use_background_image,quoted_status.user.friends_count,quoted_status.lang,retweeted_status.quoted_status.user.description,user.statuses_count,retweeted,quoted_status.user.created_at,retweeted_status.place.bounding_box.type,display_text_range,quoted_status.entities.media,retweeted_status.quoted_status.metadata.iso_language_code,coordinates,user.profile_image_url,retweeted_status.entities.urls,retweeted_status.user.listed_count,retweeted_status.quoted_status.user.notifications,user.translator_type,retweeted_status.quoted_status.user.lang,user.profile_text_color,user.entities.url.urls,retweeted_status.quoted_status.user.profile_background_color,retweeted_status.display_text_range,quoted_status.user.description,quoted_status.metadata.result_type,user.listed_count,retweeted_status.quoted_status_id,retweeted_status.quoted_status.in_reply_to_status_id,retweeted_status.in_reply_to_status_id_str,quoted_status.extended_entities.media,quoted_status.user.is_translation_enabled,metadata.iso_language_code,retweeted_status.retweeted,retweeted_status.quoted_status.user.profile_background_image_url_https,user.profile_sidebar_fill_color,retweeted_status.user.default_profile,entities.symbols,quoted_status.user.followers_count,is_quote_status,retweeted_status.user.favourites_count,full_text,retweeted_status.quoted_status.user.id,retweeted_status.user.profile_sidebar_fill_color,quoted_status.user.profile_link_color,user.location,retweeted_status.source,quoted_status.is_quote_status,retweeted_status.place.country_code,retweeted_status.in_reply_to_user_id,retweeted_status.quoted_status.user.withheld_in_countries,quoted_status.user.geo_enabled,user.notifications,retweeted_status.quoted_status.user.screen_name,retweeted_status.quoted_status.user.profile_background_tile,retweet_count,quoted_status.id_str,retweeted_status.quoted_status.id_str,retweeted_status.quoted_status.user.id_str,user.verified,retweeted_status.quoted_status.metadata.result_type,favorited,retweeted_status.quoted_status.user.default_profile,retweeted_status.quoted_status.retweeted,quoted_status.user.profile_text_color,retweeted_status.quoted_status_id_str,retweeted_status.retweet_count,quoted_status.user.id_str,extended_entities.media,quoted_status.user.following,retweeted_status.quoted_status.user.friends_count,retweeted_status.quoted_status.user.is_translator,retweeted_status.user.statuses_count,retweeted_status.entities.media,retweeted_status.quoted_status.entities.hashtags,retweeted_status.in_reply_to_user_id_str,retweeted_status.quoted_status.user.has_extended_profile,quoted_status.user.default_profile,user.utc_offset,user.entities.description.urls,retweeted_status.quoted_status.user.name,retweeted_status.place.country,user.withheld_in_countries,quoted_status_id,retweeted_status.user.profile_background_tile,retweeted_status.user.screen_name,retweeted_status.entities.symbols,quoted_status.user.profile_sidebar_fill_color,quoted_status.in_reply_to_status_id_str,retweeted_status.geo,retweeted_status.possibly_sensitive,user.profile_image_url_https,retweeted_status.quoted_status.user.utc_offset,id_str,retweeted_status.user.url,retweeted_status.quoted_status.user.profile_banner_url,quoted_status.user.favourites_count,truncated,quoted_status.user.utc_offset,retweeted_status.quoted_status.is_quote_status,quoted_status.entities.user_mentions,retweeted_status.quoted_status.geo,quoted_status.retweet_count,retweeted_status.lang,user.followers_count,retweeted_status.place,user.profile_background_image_url_https,user.follow_request_sent,retweeted_status.entities.hashtags,quoted_status.user.lang,retweeted_status.entities.user_mentions,retweeted_status.metadata.result_type,retweeted_status.favorite_count,retweeted_status.favorited,retweeted_status.metadata.iso_language_code,quoted_status.user.default_profile_image,retweeted_status.user.profile_background_color,retweeted_status.truncated,quoted_status.entities.urls,quoted_status.user.profile_image_url_https,quoted_status.retweeted,retweeted_status.coordinates,retweeted_status.quoted_status.user.following,retweeted_status.quoted_status.user.default_profile_image,retweeted_status.quoted_status.user.followers_count,retweeted_status.quoted_status.user.profile_sidebar_fill_color,retweeted_status.quoted_status.user.created_at,retweeted_status.quoted_status.user.contributors_enabled,retweeted_status.quoted_status.in_reply_to_screen_name,quoted_status.full_text,retweeted_status.contributors,quoted_status.favorited,user.favourites_count,retweeted_status.user.verified,retweeted_status.user.lang,quoted_status.user.translator_type,user.following,retweeted_status.user.withheld_in_countries,retweeted_status.place.contained_within,in_reply_to_status_id_str,retweeted_status.user.entities.description.urls,retweeted_status.user.is_translator,retweeted_status.quoted_status.user.url,user.default_profile,user.id,retweeted_status.quoted_status.truncated,user.created_at,quoted_status.user.profile_background_tile,retweeted_status.user.name,retweeted_status.place.id,retweeted_status.quoted_status.user.profile_background_image_url,retweeted_status.user.notifications,place,quoted_status.user.name,retweeted_status.quoted_status.user.time_zone,retweeted_status.quoted_status.user.listed_count,retweeted_status.user.profile_background_image_url_https,quoted_status.user.has_extended_profile,retweeted_status.user.following,retweeted_status.place.place_type,retweeted_status.full_text,quoted_status.user.profile_use_background_image,retweeted_status.quoted_status.full_text,retweeted_status.user.protected,geo,user.name,user.url,quoted_status.contributors,retweeted_status.quoted_status.user.statuses_count,user.profile_background_color,quoted_status.user.time_zone,retweeted_status.is_quote_status,user.profile_banner_url,quoted_status.favorite_count,user.has_extended_profile,user.profile_sidebar_border_color,retweeted_status.user.id_str,retweeted_status.user.profile_background_image_url,user.lang,quoted_status.entities.symbols,retweeted_status.user.utc_offset,retweeted_status.user.profile_banner_url,retweeted_status.user.profile_text_color,retweeted_status.quoted_status.in_reply_to_user_id_str,quoted_status.user.profile_background_color,retweeted_status.quoted_status.user.verified,retweeted_status.created_at,retweeted_status.in_reply_to_status_id,in_reply_to_user_id_str,retweeted_status.quoted_status.user.translator_type,retweeted_status.quoted_status.entities.symbols,contributors,quoted_status.user.is_translator,retweeted_status.user.default_profile_image,retweeted_status.quoted_status.created_at,user.default_profile_image,retweeted_status.quoted_status.favorited,retweeted_status.quoted_status.user.profile_use_background_image,quoted_status.user.protected,retweeted_status.user.follow_request_sent,entities.user_mentions,retweeted_status.quoted_status.user.favourites_count,quoted_status_id_str,retweeted_status.quoted_status.user.entities.url.urls,retweeted_status.user.followers_count,quoted_status.possibly_sensitive,metadata.result_type,retweeted_status.quoted_status.user.is_translation_enabled,retweeted_status.id,quoted_status.metadata.iso_language_code,user.is_translation_enabled,retweeted_status.quoted_status.in_reply_to_user_id,quoted_status.truncated,user.friends_count,retweeted_status.user.is_translation_enabled,user.geo_enabled,quoted_status.place,quoted_status.user.url,retweeted_status.quoted_status.user.geo_enabled,quoted_status.user.profile_banner_url,retweeted_status.user.profile_link_color,retweeted_status.user.time_zone,retweeted_status.quoted_status.in_reply_to_status_id_str,retweeted_status.place.bounding_box.coordinates,retweeted_status.user.entities.url.urls,retweeted_status.quoted_status.user.follow_request_sent,quoted_status.user.screen_name,quoted_status.created_at,quoted_status.in_reply_to_user_id,quoted_status.user.statuses_count,retweeted_status.user.profile_sidebar_border_color,retweeted_status.quoted_status.entities.user_mentions,quoted_status.user.entities.url.urls,retweeted_status.quoted_status.place,retweeted_status.user.friends_count,user.protected,quoted_status.user.withheld_in_countries,quoted_status.entities.hashtags,user.profile_background_image_url,retweeted_status.quoted_status.user.location,retweeted_status.place.name,retweeted_status.user.profile_image_url_https,retweeted_status.user.id,retweeted_status.user.translator_type,user.profile_background_tile,retweeted_status.user.has_extended_profile,user.time_zone,quoted_status.geo,retweeted_status.place.full_name,retweeted_status.extended_entities.media,retweeted_status.place.url,retweeted_status.quoted_status.user.profile_sidebar_border_color,user.description,quoted_status.display_text_range,retweeted_status.user.contributors_enabled,retweeted_status.user.location,entities.media,user.is_translator,retweeted_status.user.profile_image_url,retweeted_status.quoted_status.coordinates,retweeted_status.quoted_status.entities.urls,retweeted_status.quoted_status.user.profile_link_color,retweeted_status.user.description,retweeted_status.quoted_status.favorite_count,quoted_status.user.verified,retweeted_status.quoted_status.retweet_count\"\n",
      "Skipping entire batch of 100 tweets!\u001b[0m\n",
      " 93%|████████████▉ | Processed 88.5M/95.4M of input file [00:14<00:02, 3.01MB/s]\u001b[31m💔 ERROR: 152 Unexpected items in data! \n",
      "Are you sure you specified the correct --input-data-type?\n",
      "If the object type is correct, add extra columns with:\n",
      "--extra-input-columns \"retweeted_status.user.created_at,user.contributors_enabled,in_reply_to_screen_name,user.id_str,retweeted_status.contributors,retweeted_status.id_str,user.screen_name,user.favourites_count,retweeted_status.user.verified,user.profile_use_background_image,retweeted_status.user.lang,retweeted_status.user.withheld_in_countries,user.following,retweeted_status.place.contained_within,in_reply_to_status_id_str,retweeted_status.user.entities.description.urls,retweeted_status.user.is_translator,user.profile_link_color,favorite_count,user.default_profile,user.id,retweeted_status.in_reply_to_screen_name,user.created_at,retweeted_status.user.name,retweeted_status.user.geo_enabled,in_reply_to_status_id,retweeted_status.place.id,retweeted_status.user.profile_use_background_image,retweeted_status.user.notifications,place,retweeted_status.user.profile_background_image_url_https,user.statuses_count,retweeted,retweeted_status.user.following,retweeted_status.place.place_type,retweeted_status.place.bounding_box.type,display_text_range,retweeted_status.full_text,retweeted_status.user.protected,coordinates,user.profile_image_url,retweeted_status.entities.urls,retweeted_status.user.listed_count,geo,user.name,user.url,user.profile_background_color,user.profile_banner_url,user.translator_type,retweeted_status.is_quote_status,user.profile_text_color,user.entities.url.urls,retweeted_status.display_text_range,user.has_extended_profile,user.profile_sidebar_border_color,user.listed_count,retweeted_status.user.id_str,retweeted_status.in_reply_to_status_id_str,retweeted_status.user.profile_background_image_url,user.lang,metadata.iso_language_code,retweeted_status.user.utc_offset,retweeted_status.retweeted,user.profile_sidebar_fill_color,retweeted_status.user.default_profile,retweeted_status.user.profile_banner_url,retweeted_status.user.profile_text_color,entities.symbols,retweeted_status.created_at,retweeted_status.in_reply_to_status_id,in_reply_to_user_id_str,is_quote_status,retweeted_status.user.favourites_count,full_text,retweeted_status.user.profile_sidebar_fill_color,contributors,retweeted_status.user.default_profile_image,user.location,user.default_profile_image,retweeted_status.source,retweeted_status.place.country_code,retweeted_status.in_reply_to_user_id,retweeted_status.user.follow_request_sent,entities.user_mentions,user.notifications,retweeted_status.user.followers_count,retweet_count,user.verified,metadata.result_type,favorited,retweeted_status.id,user.is_translation_enabled,user.friends_count,retweeted_status.user.is_translation_enabled,user.geo_enabled,retweeted_status.retweet_count,extended_entities.media,retweeted_status.user.profile_link_color,retweeted_status.user.time_zone,retweeted_status.user.statuses_count,retweeted_status.place.bounding_box.coordinates,retweeted_status.user.entities.url.urls,retweeted_status.entities.media,retweeted_status.user.profile_sidebar_border_color,retweeted_status.in_reply_to_user_id_str,user.protected,user.entities.description.urls,user.utc_offset,retweeted_status.user.friends_count,user.withheld_in_countries,retweeted_status.place.country,user.profile_background_image_url,retweeted_status.user.profile_background_tile,retweeted_status.place.name,retweeted_status.user.profile_image_url_https,retweeted_status.user.screen_name,retweeted_status.user.id,retweeted_status.user.translator_type,user.profile_background_tile,retweeted_status.entities.symbols,retweeted_status.user.has_extended_profile,user.time_zone,retweeted_status.place.full_name,retweeted_status.extended_entities.media,retweeted_status.place.url,retweeted_status.geo,retweeted_status.possibly_sensitive,user.profile_image_url_https,id_str,retweeted_status.user.url,truncated,user.description,retweeted_status.user.contributors_enabled,retweeted_status.user.location,user.followers_count,retweeted_status.lang,entities.media,user.is_translator,retweeted_status.place,retweeted_status.user.profile_image_url,user.profile_background_image_url_https,user.follow_request_sent,retweeted_status.entities.hashtags,retweeted_status.entities.user_mentions,retweeted_status.metadata.result_type,retweeted_status.favorite_count,retweeted_status.favorited,retweeted_status.user.description,retweeted_status.metadata.iso_language_code,retweeted_status.user.profile_background_color,retweeted_status.truncated,retweeted_status.coordinates\"\n",
      "Skipping entire batch of 100 tweets!\u001b[0m\n",
      " 94%|█████████████▏| Processed 89.6M/95.4M of input file [00:14<00:01, 3.99MB/s]\u001b[31m💔 ERROR: 225 Unexpected items in data! \n",
      "Are you sure you specified the correct --input-data-type?\n",
      "If the object type is correct, add extra columns with:\n",
      "--extra-input-columns \"quoted_status.user.id,quoted_status.user.profile_background_image_url,quoted_status.in_reply_to_status_id,retweeted_status.user.created_at,quoted_status.user.entities.description.urls,user.contributors_enabled,quoted_status.user.location,quoted_status.user.follow_request_sent,in_reply_to_screen_name,user.id_str,quoted_status.full_text,quoted_status.in_reply_to_screen_name,retweeted_status.contributors,quoted_status.user.listed_count,quoted_status.user.profile_sidebar_border_color,quoted_status.favorited,quoted_status.id,retweeted_status.id_str,user.screen_name,user.favourites_count,retweeted_status.user.verified,user.profile_use_background_image,quoted_status.source,retweeted_status.user.lang,quoted_status.user.contributors_enabled,user.following,retweeted_status.user.withheld_in_countries,retweeted_status.place.contained_within,in_reply_to_status_id_str,retweeted_status.user.entities.description.urls,retweeted_status.user.is_translator,quoted_status.user.profile_image_url,quoted_status.user.notifications,quoted_status.user.translator_type,user.profile_link_color,favorite_count,user.default_profile,user.id,quoted_status.in_reply_to_user_id_str,retweeted_status.in_reply_to_screen_name,user.created_at,quoted_status.user.profile_background_tile,retweeted_status.user.name,retweeted_status.user.geo_enabled,in_reply_to_status_id,quoted_status.user.profile_background_image_url_https,quoted_status.coordinates,retweeted_status.place.id,retweeted_status.user.profile_use_background_image,quoted_status.lang,quoted_status.user.friends_count,retweeted_status.user.notifications,quoted_status.user.name,place,retweeted_status.user.profile_background_image_url_https,quoted_status.user.has_extended_profile,user.statuses_count,retweeted_status.user.following,retweeted,retweeted_status.place.place_type,retweeted_status.place.bounding_box.type,display_text_range,quoted_status.user.created_at,retweeted_status.full_text,quoted_status.user.profile_use_background_image,retweeted_status.user.protected,coordinates,user.profile_image_url,retweeted_status.entities.urls,retweeted_status.user.listed_count,geo,user.name,user.url,user.profile_background_color,user.translator_type,user.profile_banner_url,quoted_status.user.time_zone,retweeted_status.is_quote_status,user.profile_text_color,quoted_status.contributors,user.entities.url.urls,quoted_status.favorite_count,retweeted_status.display_text_range,user.has_extended_profile,user.profile_sidebar_border_color,quoted_status.user.description,user.listed_count,quoted_status.metadata.result_type,retweeted_status.user.id_str,retweeted_status.in_reply_to_status_id_str,retweeted_status.user.profile_background_image_url,user.lang,quoted_status.entities.symbols,metadata.iso_language_code,quoted_status.user.is_translation_enabled,retweeted_status.user.utc_offset,retweeted_status.retweeted,user.profile_sidebar_fill_color,retweeted_status.user.default_profile,retweeted_status.user.profile_banner_url,retweeted_status.user.profile_text_color,entities.symbols,quoted_status.user.profile_background_color,retweeted_status.created_at,retweeted_status.in_reply_to_status_id,in_reply_to_user_id_str,is_quote_status,quoted_status.user.followers_count,retweeted_status.user.favourites_count,full_text,retweeted_status.user.profile_sidebar_fill_color,contributors,quoted_status.user.is_translator,quoted_status.user.profile_link_color,retweeted_status.user.default_profile_image,user.location,user.default_profile_image,retweeted_status.source,quoted_status.user.protected,retweeted_status.place.country_code,retweeted_status.in_reply_to_user_id,retweeted_status.user.follow_request_sent,quoted_status.user.geo_enabled,quoted_status.is_quote_status,entities.user_mentions,user.notifications,quoted_status_id_str,retweeted_status.user.followers_count,retweet_count,quoted_status.id_str,quoted_status.possibly_sensitive,user.verified,metadata.result_type,favorited,retweeted_status.id,quoted_status.metadata.iso_language_code,user.is_translation_enabled,quoted_status.truncated,quoted_status.user.profile_text_color,user.friends_count,retweeted_status.user.is_translation_enabled,user.geo_enabled,retweeted_status.retweet_count,extended_entities.media,quoted_status.user.id_str,quoted_status.user.url,quoted_status.place,quoted_status.user.following,retweeted_status.user.profile_link_color,retweeted_status.user.time_zone,retweeted_status.user.statuses_count,retweeted_status.place.bounding_box.coordinates,retweeted_status.user.entities.url.urls,retweeted_status.entities.media,quoted_status.user.screen_name,quoted_status.created_at,quoted_status.in_reply_to_user_id,quoted_status.user.statuses_count,retweeted_status.user.profile_sidebar_border_color,retweeted_status.in_reply_to_user_id_str,quoted_status.user.default_profile,user.protected,user.entities.description.urls,user.utc_offset,retweeted_status.user.friends_count,quoted_status.user.withheld_in_countries,quoted_status.entities.hashtags,user.withheld_in_countries,retweeted_status.place.country,user.profile_background_image_url,quoted_status_id,retweeted_status.user.profile_background_tile,retweeted_status.place.name,retweeted_status.user.profile_image_url_https,retweeted_status.user.screen_name,retweeted_status.user.id,retweeted_status.user.translator_type,user.profile_background_tile,retweeted_status.entities.symbols,retweeted_status.user.has_extended_profile,quoted_status.user.profile_sidebar_fill_color,retweeted_status.coordinates,user.time_zone,quoted_status.geo,quoted_status.in_reply_to_status_id_str,retweeted_status.place.full_name,retweeted_status.extended_entities.media,retweeted_status.place.url,retweeted_status.geo,retweeted_status.possibly_sensitive,user.profile_image_url_https,id_str,retweeted_status.user.url,quoted_status.user.favourites_count,truncated,quoted_status.user.utc_offset,user.description,quoted_status.display_text_range,quoted_status.entities.user_mentions,quoted_status.retweet_count,retweeted_status.user.contributors_enabled,retweeted_status.user.location,user.followers_count,retweeted_status.lang,entities.media,user.is_translator,retweeted_status.place,retweeted_status.user.profile_image_url,user.profile_background_image_url_https,user.follow_request_sent,retweeted_status.entities.hashtags,quoted_status.user.lang,retweeted_status.entities.user_mentions,retweeted_status.metadata.result_type,retweeted_status.favorite_count,retweeted_status.favorited,retweeted_status.user.description,retweeted_status.metadata.iso_language_code,quoted_status.user.default_profile_image,retweeted_status.user.profile_background_color,retweeted_status.truncated,quoted_status.entities.urls,quoted_status.user.verified,quoted_status.user.profile_image_url_https,quoted_status.retweeted\"\n",
      "Skipping entire batch of 100 tweets!\u001b[0m\n",
      " 94%|█████████████▏| Processed 89.7M/95.4M of input file [00:14<00:01, 3.37MB/s]\u001b[31m💔 ERROR: 303 Unexpected items in data! \n",
      "Are you sure you specified the correct --input-data-type?\n",
      "If the object type is correct, add extra columns with:\n",
      "--extra-input-columns \"quoted_status.user.id,quoted_status.user.profile_background_image_url,quoted_status.in_reply_to_status_id,retweeted_status.user.created_at,quoted_status.user.entities.description.urls,retweeted_status.quoted_status.possibly_sensitive,user.contributors_enabled,retweeted_status.quoted_status.lang,retweeted_status.quoted_status.source,quoted_status.user.location,quoted_status.user.follow_request_sent,retweeted_status.quoted_status.display_text_range,in_reply_to_screen_name,user.id_str,retweeted_status.quoted_status.user.profile_image_url_https,quoted_status.in_reply_to_screen_name,quoted_status.user.listed_count,retweeted_status.quoted_status.user.entities.description.urls,quoted_status.user.profile_sidebar_border_color,quoted_status.id,retweeted_status.id_str,user.screen_name,user.profile_use_background_image,retweeted_status.quoted_status.id,quoted_status.source,quoted_status.user.contributors_enabled,quoted_status.user.notifications,quoted_status.user.profile_image_url,user.profile_link_color,favorite_count,quoted_status.in_reply_to_user_id_str,retweeted_status.in_reply_to_screen_name,retweeted_status.quoted_status.contributors,retweeted_status.quoted_status.user.protected,quoted_status.user.profile_background_image_url_https,retweeted_status.user.geo_enabled,in_reply_to_status_id,retweeted_status.quoted_status.user.profile_text_color,retweeted_status.quoted_status.user.profile_image_url,quoted_status.coordinates,retweeted_status.user.profile_use_background_image,retweeted_status.quoted_status.user.description,quoted_status.user.friends_count,quoted_status.lang,user.statuses_count,retweeted,quoted_status.user.created_at,retweeted_status.place.bounding_box.type,display_text_range,retweeted_status.quoted_status.metadata.iso_language_code,coordinates,user.profile_image_url,retweeted_status.entities.urls,retweeted_status.user.listed_count,retweeted_status.quoted_status.user.notifications,user.translator_type,retweeted_status.quoted_status.user.lang,user.profile_text_color,user.entities.url.urls,retweeted_status.quoted_status.user.profile_background_color,retweeted_status.display_text_range,quoted_status.user.description,quoted_status.metadata.result_type,user.listed_count,retweeted_status.quoted_status_id,retweeted_status.quoted_status.in_reply_to_status_id,retweeted_status.in_reply_to_status_id_str,quoted_status.user.is_translation_enabled,metadata.iso_language_code,retweeted_status.retweeted,retweeted_status.quoted_status.user.profile_background_image_url_https,user.profile_sidebar_fill_color,retweeted_status.user.default_profile,entities.symbols,quoted_status.user.followers_count,is_quote_status,retweeted_status.user.favourites_count,full_text,retweeted_status.quoted_status.user.id,retweeted_status.user.profile_sidebar_fill_color,quoted_status.user.profile_link_color,user.location,retweeted_status.source,quoted_status.is_quote_status,retweeted_status.quoted_status.user.withheld_in_countries,retweeted_status.in_reply_to_user_id,retweeted_status.place.country_code,quoted_status.user.geo_enabled,user.notifications,retweeted_status.quoted_status.user.screen_name,retweeted_status.quoted_status.user.profile_background_tile,retweet_count,quoted_status.id_str,retweeted_status.quoted_status.id_str,retweeted_status.quoted_status.extended_entities.media,retweeted_status.quoted_status.user.id_str,user.verified,retweeted_status.quoted_status.metadata.result_type,favorited,retweeted_status.quoted_status.user.default_profile,retweeted_status.quoted_status.retweeted,quoted_status.user.profile_text_color,retweeted_status.quoted_status_id_str,retweeted_status.retweet_count,quoted_status.user.id_str,extended_entities.media,quoted_status.user.following,retweeted_status.quoted_status.user.friends_count,retweeted_status.quoted_status.user.is_translator,retweeted_status.user.statuses_count,retweeted_status.entities.media,retweeted_status.quoted_status.entities.hashtags,retweeted_status.in_reply_to_user_id_str,retweeted_status.quoted_status.user.has_extended_profile,quoted_status.user.default_profile,user.utc_offset,user.entities.description.urls,retweeted_status.quoted_status.user.name,retweeted_status.place.country,user.withheld_in_countries,quoted_status_id,retweeted_status.user.profile_background_tile,retweeted_status.user.screen_name,retweeted_status.entities.symbols,quoted_status.user.profile_sidebar_fill_color,quoted_status.in_reply_to_status_id_str,retweeted_status.geo,retweeted_status.possibly_sensitive,user.profile_image_url_https,retweeted_status.quoted_status.user.utc_offset,id_str,retweeted_status.user.url,retweeted_status.quoted_status.user.profile_banner_url,quoted_status.user.favourites_count,truncated,quoted_status.user.utc_offset,retweeted_status.quoted_status.is_quote_status,quoted_status.entities.user_mentions,retweeted_status.quoted_status.geo,quoted_status.retweet_count,retweeted_status.lang,user.followers_count,retweeted_status.place,user.profile_background_image_url_https,user.follow_request_sent,retweeted_status.entities.hashtags,quoted_status.user.lang,retweeted_status.entities.user_mentions,retweeted_status.metadata.result_type,retweeted_status.favorite_count,retweeted_status.favorited,retweeted_status.metadata.iso_language_code,quoted_status.user.default_profile_image,retweeted_status.user.profile_background_color,retweeted_status.truncated,quoted_status.entities.urls,quoted_status.user.profile_image_url_https,quoted_status.retweeted,retweeted_status.coordinates,retweeted_status.quoted_status.user.following,retweeted_status.quoted_status.user.default_profile_image,retweeted_status.quoted_status.user.followers_count,retweeted_status.quoted_status.user.profile_sidebar_fill_color,retweeted_status.quoted_status.user.created_at,retweeted_status.quoted_status.user.contributors_enabled,retweeted_status.quoted_status.in_reply_to_screen_name,quoted_status.full_text,retweeted_status.contributors,quoted_status.favorited,user.favourites_count,retweeted_status.user.verified,retweeted_status.user.lang,quoted_status.user.translator_type,user.following,retweeted_status.user.withheld_in_countries,retweeted_status.place.contained_within,in_reply_to_status_id_str,retweeted_status.user.entities.description.urls,retweeted_status.user.is_translator,retweeted_status.quoted_status.user.url,user.default_profile,user.id,retweeted_status.quoted_status.truncated,user.created_at,quoted_status.user.profile_background_tile,retweeted_status.user.name,retweeted_status.place.id,retweeted_status.quoted_status.user.profile_background_image_url,retweeted_status.user.notifications,place,quoted_status.user.name,retweeted_status.quoted_status.user.time_zone,retweeted_status.quoted_status.user.listed_count,retweeted_status.user.profile_background_image_url_https,quoted_status.user.has_extended_profile,retweeted_status.user.following,retweeted_status.place.place_type,retweeted_status.full_text,quoted_status.user.profile_use_background_image,retweeted_status.quoted_status.full_text,retweeted_status.user.protected,geo,user.name,user.url,quoted_status.contributors,retweeted_status.quoted_status.user.statuses_count,user.profile_background_color,quoted_status.user.time_zone,retweeted_status.is_quote_status,user.profile_banner_url,quoted_status.favorite_count,user.has_extended_profile,user.profile_sidebar_border_color,retweeted_status.user.id_str,retweeted_status.user.profile_background_image_url,user.lang,quoted_status.entities.symbols,retweeted_status.user.utc_offset,retweeted_status.user.profile_banner_url,retweeted_status.user.profile_text_color,retweeted_status.quoted_status.in_reply_to_user_id_str,quoted_status.user.profile_background_color,retweeted_status.quoted_status.user.verified,retweeted_status.created_at,retweeted_status.in_reply_to_status_id,in_reply_to_user_id_str,retweeted_status.quoted_status.user.translator_type,retweeted_status.quoted_status.entities.media,retweeted_status.quoted_status.entities.symbols,contributors,quoted_status.user.is_translator,retweeted_status.user.default_profile_image,retweeted_status.quoted_status.created_at,user.default_profile_image,retweeted_status.quoted_status.favorited,retweeted_status.quoted_status.user.profile_use_background_image,quoted_status.user.protected,retweeted_status.user.follow_request_sent,entities.user_mentions,retweeted_status.quoted_status.user.favourites_count,quoted_status_id_str,retweeted_status.quoted_status.user.entities.url.urls,retweeted_status.user.followers_count,metadata.result_type,retweeted_status.quoted_status.user.is_translation_enabled,retweeted_status.id,quoted_status.metadata.iso_language_code,user.is_translation_enabled,retweeted_status.quoted_status.in_reply_to_user_id,quoted_status.truncated,user.friends_count,retweeted_status.user.is_translation_enabled,user.geo_enabled,quoted_status.place,quoted_status.user.url,retweeted_status.quoted_status.user.geo_enabled,quoted_status.user.profile_banner_url,retweeted_status.user.profile_link_color,retweeted_status.user.time_zone,retweeted_status.quoted_status.in_reply_to_status_id_str,retweeted_status.place.bounding_box.coordinates,retweeted_status.user.entities.url.urls,retweeted_status.quoted_status.user.follow_request_sent,quoted_status.user.screen_name,quoted_status.created_at,quoted_status.in_reply_to_user_id,quoted_status.user.statuses_count,retweeted_status.user.profile_sidebar_border_color,retweeted_status.quoted_status.entities.user_mentions,quoted_status.user.entities.url.urls,retweeted_status.quoted_status.place,retweeted_status.user.friends_count,user.protected,quoted_status.user.withheld_in_countries,quoted_status.entities.hashtags,user.profile_background_image_url,retweeted_status.quoted_status.user.location,retweeted_status.place.name,retweeted_status.user.profile_image_url_https,retweeted_status.user.id,retweeted_status.user.translator_type,user.profile_background_tile,retweeted_status.user.has_extended_profile,user.time_zone,quoted_status.geo,retweeted_status.place.full_name,retweeted_status.extended_entities.media,retweeted_status.place.url,retweeted_status.quoted_status.user.profile_sidebar_border_color,user.description,quoted_status.display_text_range,retweeted_status.user.contributors_enabled,retweeted_status.user.location,entities.media,user.is_translator,retweeted_status.user.profile_image_url,retweeted_status.quoted_status.coordinates,retweeted_status.quoted_status.entities.urls,retweeted_status.quoted_status.user.profile_link_color,retweeted_status.user.description,retweeted_status.quoted_status.favorite_count,quoted_status.user.verified,retweeted_status.quoted_status.retweet_count\"\n",
      "Skipping entire batch of 100 tweets!\u001b[0m\n",
      " 95%|█████████████▎| Processed 90.7M/95.4M of input file [00:14<00:01, 3.60MB/s]\u001b[31m💔 ERROR: 241 Unexpected items in data! \n",
      "Are you sure you specified the correct --input-data-type?\n",
      "If the object type is correct, add extra columns with:\n",
      "--extra-input-columns \"retweeted_status.user.created_at,retweeted_status.quoted_status.user.following,user.contributors_enabled,retweeted_status.quoted_status.lang,retweeted_status.quoted_status.possibly_sensitive,retweeted_status.quoted_status.user.default_profile_image,retweeted_status.quoted_status.source,retweeted_status.quoted_status.display_text_range,in_reply_to_screen_name,retweeted_status.quoted_status.user.followers_count,user.id_str,retweeted_status.quoted_status.user.profile_sidebar_fill_color,retweeted_status.quoted_status.user.created_at,retweeted_status.quoted_status.user.contributors_enabled,retweeted_status.quoted_status.in_reply_to_screen_name,retweeted_status.quoted_status.user.profile_image_url_https,retweeted_status.contributors,retweeted_status.quoted_status.user.entities.description.urls,retweeted_status.id_str,user.screen_name,user.favourites_count,retweeted_status.user.verified,user.profile_use_background_image,retweeted_status.quoted_status.id,retweeted_status.user.lang,user.following,retweeted_status.user.withheld_in_countries,retweeted_status.place.contained_within,in_reply_to_status_id_str,retweeted_status.user.entities.description.urls,retweeted_status.user.is_translator,retweeted_status.quoted_status.user.url,user.profile_link_color,favorite_count,user.default_profile,user.id,retweeted_status.in_reply_to_screen_name,retweeted_status.quoted_status.truncated,retweeted_status.quoted_status.user.protected,retweeted_status.quoted_status.contributors,user.created_at,retweeted_status.user.name,retweeted_status.user.geo_enabled,in_reply_to_status_id,retweeted_status.quoted_status.user.profile_text_color,retweeted_status.quoted_status.user.profile_image_url,retweeted_status.place.id,retweeted_status.user.profile_use_background_image,retweeted_status.quoted_status.user.profile_background_image_url,retweeted_status.quoted_status.user.description,retweeted_status.user.notifications,place,retweeted_status.quoted_status.user.time_zone,retweeted_status.quoted_status.user.listed_count,retweeted_status.user.profile_background_image_url_https,user.statuses_count,retweeted,retweeted_status.user.following,retweeted_status.place.place_type,retweeted_status.place.bounding_box.type,display_text_range,retweeted_status.full_text,retweeted_status.quoted_status.full_text,retweeted_status.user.protected,retweeted_status.quoted_status.metadata.iso_language_code,coordinates,user.profile_image_url,retweeted_status.entities.urls,retweeted_status.user.listed_count,geo,user.name,user.profile_background_color,user.translator_type,user.profile_banner_url,place.full_name,user.url,retweeted_status.is_quote_status,user.profile_text_color,retweeted_status.quoted_status.user.statuses_count,user.entities.url.urls,retweeted_status.quoted_status.user.lang,retweeted_status.quoted_status.user.profile_background_color,retweeted_status.display_text_range,user.has_extended_profile,place.name,user.profile_sidebar_border_color,user.listed_count,retweeted_status.quoted_status_id,retweeted_status.quoted_status.in_reply_to_status_id,retweeted_status.user.id_str,retweeted_status.in_reply_to_status_id_str,retweeted_status.user.profile_background_image_url,user.lang,metadata.iso_language_code,retweeted_status.user.utc_offset,retweeted_status.retweeted,retweeted_status.quoted_status.user.profile_background_image_url_https,user.profile_sidebar_fill_color,retweeted_status.user.default_profile,retweeted_status.user.profile_banner_url,retweeted_status.user.profile_text_color,entities.symbols,retweeted_status.quoted_status.in_reply_to_user_id_str,retweeted_status.quoted_status.user.verified,retweeted_status.created_at,retweeted_status.in_reply_to_status_id,in_reply_to_user_id_str,is_quote_status,retweeted_status.quoted_status.user.translator_type,retweeted_status.user.favourites_count,full_text,retweeted_status.quoted_status.user.id,retweeted_status.user.profile_sidebar_fill_color,retweeted_status.quoted_status.entities.media,retweeted_status.quoted_status.entities.symbols,contributors,retweeted_status.user.default_profile_image,retweeted_status.quoted_status.created_at,user.location,user.default_profile_image,retweeted_status.source,retweeted_status.quoted_status.favorited,retweeted_status.quoted_status.user.profile_use_background_image,retweeted_status.quoted_status.user.withheld_in_countries,retweeted_status.in_reply_to_user_id,retweeted_status.user.follow_request_sent,retweeted_status.place.country_code,entities.user_mentions,user.notifications,place.country_code,retweeted_status.quoted_status.user.screen_name,retweeted_status.quoted_status.user.favourites_count,quoted_status_id_str,retweeted_status.quoted_status.user.entities.url.urls,retweeted_status.quoted_status.user.profile_background_tile,retweeted_status.user.followers_count,retweet_count,retweeted_status.quoted_status.id_str,retweeted_status.quoted_status.extended_entities.media,retweeted_status.quoted_status.user.id_str,user.verified,retweeted_status.quoted_status.metadata.result_type,retweeted_status.quoted_status.user.is_translation_enabled,metadata.result_type,favorited,retweeted_status.id,retweeted_status.quoted_status.user.default_profile,user.is_translation_enabled,retweeted_status.quoted_status.in_reply_to_user_id,retweeted_status.quoted_status.retweeted,retweeted_status.quoted_status_id_str,user.friends_count,extended_entities.media,user.geo_enabled,retweeted_status.user.is_translation_enabled,retweeted_status.retweet_count,retweeted_status.quoted_status.user.geo_enabled,retweeted_status.user.profile_link_color,retweeted_status.quoted_status.user.friends_count,retweeted_status.user.time_zone,retweeted_status.quoted_status.user.is_translator,place.bounding_box.coordinates,retweeted_status.quoted_status.in_reply_to_status_id_str,retweeted_status.user.statuses_count,retweeted_status.place.bounding_box.coordinates,retweeted_status.user.entities.url.urls,retweeted_status.entities.media,place.place_type,retweeted_status.quoted_status.user.follow_request_sent,retweeted_status.quoted_status.place,retweeted_status.user.profile_sidebar_border_color,retweeted_status.quoted_status.entities.hashtags,retweeted_status.quoted_status.entities.user_mentions,retweeted_status.in_reply_to_user_id_str,retweeted_status.quoted_status.user.has_extended_profile,user.protected,user.entities.description.urls,user.utc_offset,retweeted_status.user.friends_count,retweeted_status.quoted_status.user.name,user.withheld_in_countries,place.contained_within,retweeted_status.place.country,user.profile_background_image_url,place.bounding_box.type,quoted_status_id,retweeted_status.quoted_status.user.location,retweeted_status.user.profile_background_tile,retweeted_status.place.name,retweeted_status.user.profile_image_url_https,retweeted_status.user.screen_name,retweeted_status.user.id,retweeted_status.user.translator_type,user.profile_background_tile,retweeted_status.entities.symbols,retweeted_status.user.has_extended_profile,user.time_zone,retweeted_status.place.full_name,retweeted_status.extended_entities.media,retweeted_status.place.url,retweeted_status.geo,retweeted_status.quoted_status.user.profile_sidebar_border_color,retweeted_status.possibly_sensitive,user.profile_image_url_https,retweeted_status.quoted_status.user.utc_offset,id_str,retweeted_status.user.url,retweeted_status.quoted_status.user.profile_banner_url,truncated,place.id,user.description,retweeted_status.quoted_status.is_quote_status,retweeted_status.quoted_status.geo,retweeted_status.user.contributors_enabled,place.url,retweeted_status.user.location,user.followers_count,entities.media,retweeted_status.lang,user.is_translator,retweeted_status.place,retweeted_status.user.profile_image_url,retweeted_status.quoted_status.entities.urls,retweeted_status.quoted_status.user.profile_link_color,user.profile_background_image_url_https,user.follow_request_sent,retweeted_status.entities.hashtags,place.country,retweeted_status.quoted_status.user.notifications,retweeted_status.quoted_status.coordinates,retweeted_status.entities.user_mentions,retweeted_status.metadata.result_type,retweeted_status.favorite_count,retweeted_status.favorited,retweeted_status.user.description,retweeted_status.metadata.iso_language_code,retweeted_status.quoted_status.favorite_count,retweeted_status.user.profile_background_color,retweeted_status.truncated,retweeted_status.coordinates,retweeted_status.quoted_status.retweet_count\"\n",
      "Skipping entire batch of 100 tweets!\u001b[0m\n",
      " 96%|█████████████▍| Processed 91.3M/95.4M of input file [00:15<00:01, 3.10MB/s]\u001b[31m💔 ERROR: 305 Unexpected items in data! \n",
      "Are you sure you specified the correct --input-data-type?\n",
      "If the object type is correct, add extra columns with:\n",
      "--extra-input-columns \"quoted_status.user.id,quoted_status.user.profile_background_image_url,quoted_status.in_reply_to_status_id,retweeted_status.user.created_at,quoted_status.user.entities.description.urls,retweeted_status.quoted_status.possibly_sensitive,user.contributors_enabled,retweeted_status.quoted_status.lang,retweeted_status.quoted_status.source,quoted_status.user.location,quoted_status.user.follow_request_sent,retweeted_status.quoted_status.display_text_range,in_reply_to_screen_name,user.id_str,retweeted_status.quoted_status.user.profile_image_url_https,quoted_status.in_reply_to_screen_name,quoted_status.user.listed_count,retweeted_status.quoted_status.user.entities.description.urls,quoted_status.user.profile_sidebar_border_color,quoted_status.id,retweeted_status.id_str,user.screen_name,user.profile_use_background_image,retweeted_status.quoted_status.id,quoted_status.source,quoted_status.user.contributors_enabled,quoted_status.user.notifications,quoted_status.user.profile_image_url,user.profile_link_color,favorite_count,quoted_status.in_reply_to_user_id_str,retweeted_status.in_reply_to_screen_name,retweeted_status.quoted_status.contributors,retweeted_status.quoted_status.user.protected,quoted_status.user.profile_background_image_url_https,retweeted_status.user.geo_enabled,in_reply_to_status_id,retweeted_status.quoted_status.user.profile_text_color,retweeted_status.quoted_status.user.profile_image_url,quoted_status.coordinates,retweeted_status.user.profile_use_background_image,retweeted_status.quoted_status.user.description,quoted_status.user.friends_count,quoted_status.lang,user.statuses_count,retweeted,quoted_status.user.created_at,retweeted_status.place.bounding_box.type,display_text_range,retweeted_status.quoted_status.metadata.iso_language_code,coordinates,user.profile_image_url,retweeted_status.entities.urls,retweeted_status.user.listed_count,retweeted_status.quoted_status.user.notifications,user.translator_type,retweeted_status.quoted_status.user.lang,user.profile_text_color,user.entities.url.urls,retweeted_status.quoted_status.user.profile_background_color,retweeted_status.display_text_range,quoted_status.user.description,quoted_status.metadata.result_type,user.listed_count,retweeted_status.quoted_status_id,retweeted_status.quoted_status.in_reply_to_status_id,retweeted_status.in_reply_to_status_id_str,quoted_status.user.is_translation_enabled,metadata.iso_language_code,retweeted_status.retweeted,retweeted_status.quoted_status.user.profile_background_image_url_https,user.profile_sidebar_fill_color,retweeted_status.user.default_profile,entities.symbols,quoted_status.user.followers_count,is_quote_status,retweeted_status.user.favourites_count,full_text,retweeted_status.quoted_status.user.id,retweeted_status.user.profile_sidebar_fill_color,quoted_status.user.profile_link_color,user.location,retweeted_status.source,quoted_status.is_quote_status,retweeted_status.quoted_status.user.withheld_in_countries,retweeted_status.in_reply_to_user_id,retweeted_status.place.country_code,quoted_status.user.geo_enabled,user.notifications,retweeted_status.quoted_status.user.screen_name,retweeted_status.quoted_status.user.profile_background_tile,retweet_count,quoted_status.id_str,retweeted_status.quoted_status.id_str,retweeted_status.quoted_status.extended_entities.media,retweeted_status.quoted_status.user.id_str,user.verified,retweeted_status.quoted_status.metadata.result_type,favorited,retweeted_status.quoted_status.user.default_profile,retweeted_status.quoted_status.retweeted,quoted_status.user.profile_text_color,retweeted_status.quoted_status_id_str,retweeted_status.retweet_count,quoted_status.user.id_str,extended_entities.media,quoted_status.user.following,retweeted_status.quoted_status.user.friends_count,retweeted_status.quoted_status.user.is_translator,retweeted_status.user.statuses_count,retweeted_status.entities.media,retweeted_status.quoted_status.entities.hashtags,retweeted_status.in_reply_to_user_id_str,retweeted_status.quoted_status.user.has_extended_profile,quoted_status.user.default_profile,user.utc_offset,user.entities.description.urls,retweeted_status.quoted_status.user.name,retweeted_status.place.country,user.withheld_in_countries,quoted_status_id,retweeted_status.user.profile_background_tile,retweeted_status.user.screen_name,retweeted_status.entities.symbols,quoted_status.user.profile_sidebar_fill_color,quoted_status.in_reply_to_status_id_str,retweeted_status.geo,retweeted_status.possibly_sensitive,user.profile_image_url_https,retweeted_status.quoted_status.user.utc_offset,id_str,retweeted_status.user.url,retweeted_status.quoted_status.user.profile_banner_url,quoted_status.user.favourites_count,truncated,quoted_status.user.utc_offset,retweeted_status.quoted_status.is_quote_status,quoted_status.entities.user_mentions,retweeted_status.quoted_status.geo,quoted_status.retweet_count,retweeted_status.lang,user.followers_count,retweeted_status.place,user.profile_background_image_url_https,user.follow_request_sent,retweeted_status.entities.hashtags,quoted_status.user.lang,retweeted_status.entities.user_mentions,retweeted_status.metadata.result_type,retweeted_status.favorite_count,retweeted_status.favorited,retweeted_status.metadata.iso_language_code,quoted_status.user.default_profile_image,retweeted_status.user.profile_background_color,retweeted_status.truncated,quoted_status.entities.urls,quoted_status.user.profile_image_url_https,quoted_status.retweeted,retweeted_status.coordinates,retweeted_status.quoted_status.user.following,retweeted_status.quoted_status.quoted_status_id_str,retweeted_status.quoted_status.user.default_profile_image,retweeted_status.quoted_status.user.followers_count,retweeted_status.quoted_status.user.profile_sidebar_fill_color,retweeted_status.quoted_status.user.created_at,retweeted_status.quoted_status.user.contributors_enabled,retweeted_status.quoted_status.in_reply_to_screen_name,quoted_status.full_text,retweeted_status.contributors,quoted_status.favorited,user.favourites_count,retweeted_status.user.verified,retweeted_status.user.lang,quoted_status.user.translator_type,user.following,retweeted_status.user.withheld_in_countries,retweeted_status.place.contained_within,in_reply_to_status_id_str,retweeted_status.user.entities.description.urls,retweeted_status.user.is_translator,retweeted_status.quoted_status.user.url,user.default_profile,user.id,retweeted_status.quoted_status.truncated,user.created_at,quoted_status.user.profile_background_tile,retweeted_status.user.name,retweeted_status.place.id,retweeted_status.quoted_status.user.profile_background_image_url,retweeted_status.user.notifications,place,quoted_status.user.name,retweeted_status.quoted_status.user.time_zone,retweeted_status.quoted_status.user.listed_count,retweeted_status.user.profile_background_image_url_https,quoted_status.user.has_extended_profile,retweeted_status.user.following,retweeted_status.place.place_type,retweeted_status.full_text,quoted_status.user.profile_use_background_image,retweeted_status.quoted_status.full_text,retweeted_status.user.protected,geo,user.name,user.url,quoted_status.contributors,retweeted_status.quoted_status.user.statuses_count,user.profile_background_color,quoted_status.user.time_zone,retweeted_status.is_quote_status,user.profile_banner_url,quoted_status.favorite_count,user.has_extended_profile,user.profile_sidebar_border_color,retweeted_status.user.id_str,retweeted_status.user.profile_background_image_url,user.lang,quoted_status.entities.symbols,retweeted_status.user.utc_offset,retweeted_status.quoted_status.quoted_status_id,retweeted_status.user.profile_banner_url,retweeted_status.user.profile_text_color,retweeted_status.quoted_status.in_reply_to_user_id_str,quoted_status.user.profile_background_color,retweeted_status.quoted_status.user.verified,retweeted_status.created_at,retweeted_status.in_reply_to_status_id,in_reply_to_user_id_str,retweeted_status.quoted_status.user.translator_type,retweeted_status.quoted_status.entities.media,retweeted_status.quoted_status.entities.symbols,contributors,quoted_status.user.is_translator,retweeted_status.user.default_profile_image,retweeted_status.quoted_status.created_at,user.default_profile_image,retweeted_status.quoted_status.favorited,retweeted_status.quoted_status.user.profile_use_background_image,quoted_status.user.protected,retweeted_status.user.follow_request_sent,entities.user_mentions,retweeted_status.quoted_status.user.favourites_count,quoted_status_id_str,retweeted_status.quoted_status.user.entities.url.urls,retweeted_status.user.followers_count,metadata.result_type,retweeted_status.quoted_status.user.is_translation_enabled,retweeted_status.id,quoted_status.metadata.iso_language_code,user.is_translation_enabled,retweeted_status.quoted_status.in_reply_to_user_id,quoted_status.truncated,user.friends_count,retweeted_status.user.is_translation_enabled,user.geo_enabled,quoted_status.place,quoted_status.user.url,retweeted_status.quoted_status.user.geo_enabled,quoted_status.user.profile_banner_url,retweeted_status.user.profile_link_color,retweeted_status.user.time_zone,retweeted_status.quoted_status.in_reply_to_status_id_str,retweeted_status.place.bounding_box.coordinates,retweeted_status.user.entities.url.urls,retweeted_status.quoted_status.user.follow_request_sent,quoted_status.user.screen_name,quoted_status.created_at,quoted_status.in_reply_to_user_id,quoted_status.user.statuses_count,retweeted_status.user.profile_sidebar_border_color,retweeted_status.quoted_status.entities.user_mentions,quoted_status.user.entities.url.urls,retweeted_status.quoted_status.place,retweeted_status.user.friends_count,user.protected,quoted_status.user.withheld_in_countries,quoted_status.entities.hashtags,user.profile_background_image_url,retweeted_status.quoted_status.user.location,retweeted_status.place.name,retweeted_status.user.profile_image_url_https,retweeted_status.user.id,retweeted_status.user.translator_type,user.profile_background_tile,retweeted_status.user.has_extended_profile,user.time_zone,quoted_status.geo,retweeted_status.place.full_name,retweeted_status.extended_entities.media,retweeted_status.place.url,retweeted_status.quoted_status.user.profile_sidebar_border_color,user.description,quoted_status.display_text_range,retweeted_status.user.contributors_enabled,retweeted_status.user.location,entities.media,user.is_translator,retweeted_status.user.profile_image_url,retweeted_status.quoted_status.coordinates,retweeted_status.quoted_status.entities.urls,retweeted_status.quoted_status.user.profile_link_color,retweeted_status.user.description,retweeted_status.quoted_status.favorite_count,quoted_status.user.verified,retweeted_status.quoted_status.retweet_count\"\n",
      "Skipping entire batch of 100 tweets!\u001b[0m\n",
      " 96%|█████████████▍| Processed 91.9M/95.4M of input file [00:15<00:01, 3.42MB/s]\u001b[31m💔 ERROR: 316 Unexpected items in data! \n",
      "Are you sure you specified the correct --input-data-type?\n",
      "If the object type is correct, add extra columns with:\n",
      "--extra-input-columns \"quoted_status.user.id,quoted_status.user.profile_background_image_url,quoted_status.in_reply_to_status_id,retweeted_status.user.created_at,quoted_status.user.entities.description.urls,retweeted_status.quoted_status.possibly_sensitive,user.contributors_enabled,retweeted_status.quoted_status.lang,quoted_status.user.location,retweeted_status.quoted_status.source,quoted_status.user.follow_request_sent,retweeted_status.quoted_status.display_text_range,in_reply_to_screen_name,user.id_str,retweeted_status.quoted_status.user.profile_image_url_https,quoted_status.in_reply_to_screen_name,quoted_status.user.listed_count,retweeted_status.quoted_status.user.entities.description.urls,quoted_status.user.profile_sidebar_border_color,quoted_status.id,retweeted_status.id_str,user.screen_name,user.profile_use_background_image,retweeted_status.quoted_status.id,quoted_status.source,quoted_status.user.contributors_enabled,quoted_status.user.notifications,quoted_status.user.profile_image_url,user.profile_link_color,favorite_count,quoted_status.in_reply_to_user_id_str,retweeted_status.in_reply_to_screen_name,retweeted_status.quoted_status.contributors,retweeted_status.quoted_status.user.protected,quoted_status.user.profile_background_image_url_https,retweeted_status.user.geo_enabled,in_reply_to_status_id,retweeted_status.quoted_status.user.profile_text_color,retweeted_status.quoted_status.user.profile_image_url,quoted_status.coordinates,retweeted_status.user.profile_use_background_image,quoted_status.user.friends_count,quoted_status.lang,retweeted_status.quoted_status.user.description,user.statuses_count,retweeted,quoted_status.user.created_at,retweeted_status.place.bounding_box.type,display_text_range,quoted_status.entities.media,retweeted_status.quoted_status.metadata.iso_language_code,coordinates,user.profile_image_url,retweeted_status.entities.urls,retweeted_status.user.listed_count,retweeted_status.quoted_status.user.notifications,place.full_name,user.translator_type,retweeted_status.quoted_status.user.lang,user.profile_text_color,user.entities.url.urls,retweeted_status.quoted_status.user.profile_background_color,retweeted_status.display_text_range,quoted_status.user.description,quoted_status.metadata.result_type,user.listed_count,retweeted_status.quoted_status_id,retweeted_status.quoted_status.in_reply_to_status_id,retweeted_status.in_reply_to_status_id_str,quoted_status.extended_entities.media,quoted_status.user.is_translation_enabled,metadata.iso_language_code,retweeted_status.retweeted,retweeted_status.quoted_status.user.profile_background_image_url_https,user.profile_sidebar_fill_color,retweeted_status.user.default_profile,entities.symbols,quoted_status.user.followers_count,is_quote_status,retweeted_status.user.favourites_count,full_text,retweeted_status.quoted_status.user.id,retweeted_status.user.profile_sidebar_fill_color,quoted_status.user.profile_link_color,user.location,retweeted_status.source,quoted_status.is_quote_status,retweeted_status.place.country_code,retweeted_status.in_reply_to_user_id,retweeted_status.quoted_status.user.withheld_in_countries,quoted_status.user.geo_enabled,user.notifications,retweeted_status.quoted_status.user.screen_name,place.country_code,retweeted_status.quoted_status.user.profile_background_tile,retweet_count,quoted_status.id_str,retweeted_status.quoted_status.id_str,retweeted_status.quoted_status.extended_entities.media,retweeted_status.quoted_status.user.id_str,user.verified,retweeted_status.quoted_status.metadata.result_type,favorited,retweeted_status.quoted_status.user.default_profile,retweeted_status.quoted_status.retweeted,quoted_status.user.profile_text_color,retweeted_status.quoted_status_id_str,retweeted_status.retweet_count,quoted_status.user.id_str,extended_entities.media,quoted_status.user.following,retweeted_status.quoted_status.user.friends_count,retweeted_status.quoted_status.user.is_translator,retweeted_status.user.statuses_count,retweeted_status.entities.media,retweeted_status.quoted_status.entities.hashtags,retweeted_status.in_reply_to_user_id_str,retweeted_status.quoted_status.user.has_extended_profile,quoted_status.user.default_profile,user.utc_offset,user.entities.description.urls,retweeted_status.quoted_status.user.name,retweeted_status.place.country,user.withheld_in_countries,quoted_status_id,retweeted_status.user.profile_background_tile,retweeted_status.user.screen_name,retweeted_status.entities.symbols,quoted_status.user.profile_sidebar_fill_color,quoted_status.in_reply_to_status_id_str,retweeted_status.geo,retweeted_status.possibly_sensitive,user.profile_image_url_https,retweeted_status.quoted_status.user.utc_offset,id_str,retweeted_status.user.url,retweeted_status.quoted_status.user.profile_banner_url,quoted_status.user.favourites_count,truncated,quoted_status.user.utc_offset,retweeted_status.quoted_status.is_quote_status,place.id,quoted_status.entities.user_mentions,retweeted_status.quoted_status.geo,quoted_status.retweet_count,place.url,retweeted_status.lang,user.followers_count,retweeted_status.place,user.profile_background_image_url_https,user.follow_request_sent,retweeted_status.entities.hashtags,place.country,quoted_status.user.lang,retweeted_status.entities.user_mentions,retweeted_status.metadata.result_type,retweeted_status.favorite_count,retweeted_status.favorited,retweeted_status.metadata.iso_language_code,quoted_status.user.default_profile_image,retweeted_status.user.profile_background_color,retweeted_status.truncated,quoted_status.entities.urls,quoted_status.user.profile_image_url_https,quoted_status.retweeted,retweeted_status.coordinates,retweeted_status.quoted_status.user.following,retweeted_status.quoted_status.user.default_profile_image,retweeted_status.quoted_status.user.followers_count,retweeted_status.quoted_status.user.profile_sidebar_fill_color,retweeted_status.quoted_status.user.created_at,retweeted_status.quoted_status.user.contributors_enabled,retweeted_status.quoted_status.in_reply_to_screen_name,quoted_status.full_text,retweeted_status.contributors,quoted_status.favorited,user.favourites_count,retweeted_status.user.verified,retweeted_status.user.lang,quoted_status.user.translator_type,user.following,retweeted_status.user.withheld_in_countries,retweeted_status.place.contained_within,in_reply_to_status_id_str,retweeted_status.user.entities.description.urls,retweeted_status.user.is_translator,retweeted_status.quoted_status.user.url,user.default_profile,user.id,retweeted_status.quoted_status.truncated,user.created_at,quoted_status.user.profile_background_tile,retweeted_status.user.name,retweeted_status.place.id,retweeted_status.quoted_status.user.profile_background_image_url,retweeted_status.user.notifications,place,quoted_status.user.name,retweeted_status.quoted_status.user.time_zone,retweeted_status.quoted_status.user.listed_count,retweeted_status.user.profile_background_image_url_https,quoted_status.user.has_extended_profile,retweeted_status.user.following,retweeted_status.place.place_type,retweeted_status.full_text,quoted_status.user.profile_use_background_image,retweeted_status.quoted_status.full_text,retweeted_status.user.protected,geo,user.name,user.url,quoted_status.contributors,retweeted_status.quoted_status.user.statuses_count,user.profile_background_color,quoted_status.user.time_zone,retweeted_status.is_quote_status,user.profile_banner_url,quoted_status.favorite_count,user.has_extended_profile,place.name,user.profile_sidebar_border_color,retweeted_status.user.id_str,retweeted_status.user.profile_background_image_url,user.lang,quoted_status.entities.symbols,retweeted_status.user.utc_offset,retweeted_status.user.profile_banner_url,retweeted_status.user.profile_text_color,retweeted_status.quoted_status.in_reply_to_user_id_str,quoted_status.user.profile_background_color,retweeted_status.quoted_status.user.verified,retweeted_status.created_at,retweeted_status.in_reply_to_status_id,in_reply_to_user_id_str,retweeted_status.quoted_status.user.translator_type,retweeted_status.quoted_status.entities.media,retweeted_status.quoted_status.entities.symbols,contributors,quoted_status.user.is_translator,retweeted_status.user.default_profile_image,retweeted_status.quoted_status.created_at,user.default_profile_image,retweeted_status.quoted_status.favorited,retweeted_status.quoted_status.user.profile_use_background_image,quoted_status.user.protected,retweeted_status.user.follow_request_sent,entities.user_mentions,retweeted_status.quoted_status.user.favourites_count,quoted_status_id_str,retweeted_status.quoted_status.user.entities.url.urls,retweeted_status.user.followers_count,quoted_status.possibly_sensitive,metadata.result_type,retweeted_status.quoted_status.user.is_translation_enabled,retweeted_status.id,quoted_status.metadata.iso_language_code,user.is_translation_enabled,retweeted_status.quoted_status.in_reply_to_user_id,quoted_status.truncated,user.friends_count,retweeted_status.user.is_translation_enabled,user.geo_enabled,quoted_status.place,quoted_status.user.url,retweeted_status.quoted_status.user.geo_enabled,quoted_status.user.profile_banner_url,retweeted_status.user.profile_link_color,retweeted_status.user.time_zone,place.bounding_box.coordinates,retweeted_status.quoted_status.in_reply_to_status_id_str,retweeted_status.place.bounding_box.coordinates,retweeted_status.user.entities.url.urls,retweeted_status.quoted_status.user.follow_request_sent,place.place_type,quoted_status.user.screen_name,quoted_status.created_at,quoted_status.in_reply_to_user_id,quoted_status.user.statuses_count,retweeted_status.user.profile_sidebar_border_color,retweeted_status.quoted_status.entities.user_mentions,quoted_status.user.entities.url.urls,retweeted_status.quoted_status.place,retweeted_status.user.friends_count,user.protected,quoted_status.user.withheld_in_countries,quoted_status.entities.hashtags,place.contained_within,user.profile_background_image_url,place.bounding_box.type,retweeted_status.quoted_status.user.location,retweeted_status.place.name,retweeted_status.user.profile_image_url_https,retweeted_status.user.id,retweeted_status.user.translator_type,user.profile_background_tile,retweeted_status.user.has_extended_profile,user.time_zone,quoted_status.geo,retweeted_status.place.full_name,retweeted_status.extended_entities.media,retweeted_status.place.url,retweeted_status.quoted_status.user.profile_sidebar_border_color,user.description,quoted_status.display_text_range,retweeted_status.user.contributors_enabled,retweeted_status.user.location,entities.media,user.is_translator,retweeted_status.user.profile_image_url,retweeted_status.quoted_status.coordinates,retweeted_status.quoted_status.entities.urls,retweeted_status.quoted_status.user.profile_link_color,retweeted_status.user.description,retweeted_status.quoted_status.favorite_count,quoted_status.user.verified,retweeted_status.quoted_status.retweet_count\"\n",
      "Skipping entire batch of 100 tweets!\u001b[0m\n",
      " 97%|█████████████▌| Processed 92.1M/95.4M of input file [00:15<00:01, 2.99MB/s]\u001b[31m💔 ERROR: 304 Unexpected items in data! \n",
      "Are you sure you specified the correct --input-data-type?\n",
      "If the object type is correct, add extra columns with:\n",
      "--extra-input-columns \"quoted_status.user.id,quoted_status.user.profile_background_image_url,quoted_status.in_reply_to_status_id,retweeted_status.user.created_at,quoted_status.user.entities.description.urls,retweeted_status.quoted_status.possibly_sensitive,user.contributors_enabled,retweeted_status.quoted_status.lang,retweeted_status.quoted_status.source,quoted_status.user.location,quoted_status.user.follow_request_sent,retweeted_status.quoted_status.display_text_range,in_reply_to_screen_name,user.id_str,retweeted_status.quoted_status.user.profile_image_url_https,quoted_status.in_reply_to_screen_name,quoted_status.user.listed_count,retweeted_status.quoted_status.user.entities.description.urls,quoted_status.user.profile_sidebar_border_color,quoted_status.id,retweeted_status.id_str,user.screen_name,user.profile_use_background_image,retweeted_status.quoted_status.id,quoted_status.source,quoted_status.user.contributors_enabled,quoted_status.user.notifications,quoted_status.user.profile_image_url,user.profile_link_color,favorite_count,quoted_status.in_reply_to_user_id_str,retweeted_status.in_reply_to_screen_name,retweeted_status.quoted_status.contributors,retweeted_status.quoted_status.user.protected,quoted_status.user.profile_background_image_url_https,retweeted_status.user.geo_enabled,in_reply_to_status_id,retweeted_status.quoted_status.user.profile_text_color,retweeted_status.quoted_status.user.profile_image_url,quoted_status.coordinates,retweeted_status.user.profile_use_background_image,retweeted_status.quoted_status.user.description,quoted_status.user.friends_count,quoted_status.lang,user.statuses_count,retweeted,quoted_status.user.created_at,retweeted_status.place.bounding_box.type,display_text_range,retweeted_status.quoted_status.metadata.iso_language_code,coordinates,user.profile_image_url,retweeted_status.entities.urls,retweeted_status.user.listed_count,retweeted_status.quoted_status.user.notifications,user.translator_type,retweeted_status.quoted_status.user.lang,user.profile_text_color,user.entities.url.urls,retweeted_status.quoted_status.user.profile_background_color,retweeted_status.display_text_range,quoted_status.user.description,quoted_status.metadata.result_type,user.listed_count,retweeted_status.quoted_status_id,retweeted_status.quoted_status.in_reply_to_status_id,retweeted_status.in_reply_to_status_id_str,quoted_status.user.is_translation_enabled,metadata.iso_language_code,retweeted_status.retweeted,retweeted_status.quoted_status.user.profile_background_image_url_https,user.profile_sidebar_fill_color,retweeted_status.user.default_profile,entities.symbols,quoted_status.user.followers_count,is_quote_status,retweeted_status.user.favourites_count,full_text,retweeted_status.quoted_status.user.id,retweeted_status.user.profile_sidebar_fill_color,quoted_status.user.profile_link_color,user.location,retweeted_status.source,quoted_status.is_quote_status,retweeted_status.place.country_code,retweeted_status.in_reply_to_user_id,retweeted_status.quoted_status.user.withheld_in_countries,quoted_status.user.geo_enabled,user.notifications,retweeted_status.quoted_status.user.screen_name,retweeted_status.quoted_status.user.profile_background_tile,retweet_count,quoted_status.id_str,retweeted_status.quoted_status.id_str,retweeted_status.quoted_status.user.id_str,user.verified,retweeted_status.quoted_status.metadata.result_type,favorited,retweeted_status.quoted_status.user.default_profile,retweeted_status.quoted_status.retweeted,quoted_status.user.profile_text_color,retweeted_status.quoted_status_id_str,retweeted_status.retweet_count,quoted_status.user.id_str,extended_entities.media,quoted_status.user.following,retweeted_status.quoted_status.user.friends_count,retweeted_status.quoted_status.user.is_translator,retweeted_status.user.statuses_count,retweeted_status.entities.media,retweeted_status.quoted_status.entities.hashtags,retweeted_status.in_reply_to_user_id_str,retweeted_status.quoted_status.user.has_extended_profile,quoted_status.user.default_profile,user.utc_offset,user.entities.description.urls,retweeted_status.quoted_status.user.name,retweeted_status.place.country,user.withheld_in_countries,quoted_status_id,retweeted_status.user.profile_background_tile,retweeted_status.user.screen_name,retweeted_status.entities.symbols,quoted_status.user.profile_sidebar_fill_color,quoted_status.in_reply_to_status_id_str,retweeted_status.geo,retweeted_status.possibly_sensitive,user.profile_image_url_https,retweeted_status.quoted_status.user.utc_offset,id_str,retweeted_status.user.url,retweeted_status.quoted_status.user.profile_banner_url,quoted_status.user.favourites_count,truncated,quoted_status.user.utc_offset,retweeted_status.quoted_status.is_quote_status,quoted_status.entities.user_mentions,retweeted_status.quoted_status.geo,quoted_status.retweet_count,retweeted_status.lang,user.followers_count,retweeted_status.place,user.profile_background_image_url_https,user.follow_request_sent,retweeted_status.entities.hashtags,quoted_status.user.lang,retweeted_status.entities.user_mentions,retweeted_status.metadata.result_type,retweeted_status.favorite_count,retweeted_status.favorited,retweeted_status.metadata.iso_language_code,quoted_status.user.default_profile_image,retweeted_status.user.profile_background_color,retweeted_status.truncated,quoted_status.entities.urls,quoted_status.user.profile_image_url_https,quoted_status.retweeted,retweeted_status.coordinates,retweeted_status.quoted_status.user.following,retweeted_status.quoted_status.quoted_status_id_str,retweeted_status.quoted_status.user.default_profile_image,retweeted_status.quoted_status.user.followers_count,retweeted_status.quoted_status.user.profile_sidebar_fill_color,retweeted_status.quoted_status.user.created_at,retweeted_status.quoted_status.user.contributors_enabled,retweeted_status.quoted_status.in_reply_to_screen_name,quoted_status.full_text,retweeted_status.contributors,quoted_status.favorited,user.favourites_count,retweeted_status.user.verified,retweeted_status.user.lang,quoted_status.user.translator_type,user.following,retweeted_status.user.withheld_in_countries,retweeted_status.place.contained_within,in_reply_to_status_id_str,retweeted_status.user.entities.description.urls,retweeted_status.user.is_translator,retweeted_status.quoted_status.user.url,user.default_profile,user.id,retweeted_status.quoted_status.truncated,user.created_at,quoted_status.user.profile_background_tile,retweeted_status.user.name,retweeted_status.place.id,retweeted_status.quoted_status.user.profile_background_image_url,retweeted_status.user.notifications,place,quoted_status.user.name,retweeted_status.quoted_status.user.time_zone,retweeted_status.quoted_status.user.listed_count,retweeted_status.user.profile_background_image_url_https,quoted_status.user.has_extended_profile,retweeted_status.user.following,retweeted_status.place.place_type,retweeted_status.full_text,quoted_status.user.profile_use_background_image,retweeted_status.quoted_status.full_text,retweeted_status.user.protected,geo,user.name,user.url,quoted_status.contributors,retweeted_status.quoted_status.user.statuses_count,user.profile_background_color,quoted_status.user.time_zone,retweeted_status.is_quote_status,user.profile_banner_url,quoted_status.favorite_count,user.has_extended_profile,user.profile_sidebar_border_color,retweeted_status.user.id_str,retweeted_status.user.profile_background_image_url,user.lang,quoted_status.entities.symbols,retweeted_status.user.utc_offset,retweeted_status.quoted_status.quoted_status_id,retweeted_status.user.profile_banner_url,retweeted_status.user.profile_text_color,retweeted_status.quoted_status.in_reply_to_user_id_str,quoted_status.user.profile_background_color,retweeted_status.quoted_status.user.verified,retweeted_status.created_at,retweeted_status.in_reply_to_status_id,in_reply_to_user_id_str,retweeted_status.quoted_status.user.translator_type,retweeted_status.quoted_status.entities.symbols,contributors,quoted_status.user.is_translator,retweeted_status.user.default_profile_image,retweeted_status.quoted_status.created_at,user.default_profile_image,retweeted_status.quoted_status.favorited,retweeted_status.quoted_status.user.profile_use_background_image,quoted_status.user.protected,retweeted_status.user.follow_request_sent,entities.user_mentions,retweeted_status.quoted_status.user.favourites_count,quoted_status_id_str,retweeted_status.quoted_status.user.entities.url.urls,retweeted_status.user.followers_count,quoted_status.possibly_sensitive,metadata.result_type,retweeted_status.quoted_status.user.is_translation_enabled,retweeted_status.id,quoted_status.metadata.iso_language_code,user.is_translation_enabled,retweeted_status.quoted_status.in_reply_to_user_id,quoted_status.truncated,user.friends_count,retweeted_status.user.is_translation_enabled,user.geo_enabled,quoted_status.place,quoted_status.user.url,retweeted_status.quoted_status.user.geo_enabled,quoted_status.user.profile_banner_url,retweeted_status.user.profile_link_color,retweeted_status.user.time_zone,retweeted_status.quoted_status.in_reply_to_status_id_str,retweeted_status.place.bounding_box.coordinates,retweeted_status.user.entities.url.urls,retweeted_status.quoted_status.user.follow_request_sent,quoted_status.user.screen_name,quoted_status.created_at,quoted_status.in_reply_to_user_id,quoted_status.user.statuses_count,retweeted_status.user.profile_sidebar_border_color,retweeted_status.quoted_status.entities.user_mentions,quoted_status.user.entities.url.urls,retweeted_status.quoted_status.place,retweeted_status.user.friends_count,user.protected,quoted_status.user.withheld_in_countries,quoted_status.entities.hashtags,user.profile_background_image_url,retweeted_status.quoted_status.user.location,retweeted_status.place.name,retweeted_status.user.profile_image_url_https,retweeted_status.user.id,retweeted_status.user.translator_type,user.profile_background_tile,retweeted_status.user.has_extended_profile,user.time_zone,quoted_status.geo,retweeted_status.place.full_name,retweeted_status.extended_entities.media,retweeted_status.place.url,retweeted_status.quoted_status.user.profile_sidebar_border_color,user.description,quoted_status.display_text_range,retweeted_status.user.contributors_enabled,retweeted_status.user.location,entities.media,user.is_translator,retweeted_status.user.profile_image_url,retweeted_status.quoted_status.coordinates,retweeted_status.quoted_status.entities.urls,retweeted_status.quoted_status.user.profile_link_color,retweeted_status.user.description,retweeted_status.quoted_status.favorite_count,quoted_status.user.verified,retweeted_status.quoted_status.retweet_count\"\n",
      "Skipping entire batch of 100 tweets!\u001b[0m\n",
      " 97%|█████████████▌| Processed 92.6M/95.4M of input file [00:15<00:01, 2.83MB/s]\u001b[31m💔 ERROR: 226 Unexpected items in data! \n",
      "Are you sure you specified the correct --input-data-type?\n",
      "If the object type is correct, add extra columns with:\n",
      "--extra-input-columns \"quoted_status.user.id,quoted_status.user.profile_background_image_url,quoted_status.in_reply_to_status_id,retweeted_status.user.created_at,quoted_status.user.entities.description.urls,user.contributors_enabled,quoted_status.user.location,quoted_status.user.follow_request_sent,in_reply_to_screen_name,user.id_str,quoted_status.full_text,quoted_status.in_reply_to_screen_name,retweeted_status.contributors,quoted_status.user.listed_count,quoted_status.user.profile_sidebar_border_color,quoted_status.favorited,quoted_status.id,retweeted_status.id_str,user.screen_name,user.favourites_count,retweeted_status.user.verified,user.profile_use_background_image,quoted_status.source,retweeted_status.user.lang,quoted_status.user.contributors_enabled,user.following,retweeted_status.user.withheld_in_countries,quoted_status.user.notifications,in_reply_to_status_id_str,retweeted_status.user.entities.description.urls,retweeted_status.user.is_translator,quoted_status.user.profile_image_url,quoted_status.user.translator_type,user.profile_link_color,favorite_count,user.default_profile,user.id,quoted_status.in_reply_to_user_id_str,retweeted_status.in_reply_to_screen_name,user.created_at,quoted_status.user.profile_background_tile,retweeted_status.user.name,retweeted_status.user.geo_enabled,in_reply_to_status_id,quoted_status.user.profile_background_image_url_https,quoted_status.coordinates,retweeted_status.user.profile_use_background_image,quoted_status.lang,quoted_status.user.friends_count,retweeted_status.user.notifications,quoted_status.user.name,place,retweeted_status.user.profile_background_image_url_https,quoted_status.user.has_extended_profile,user.statuses_count,retweeted_status.user.following,retweeted,quoted_status.user.created_at,display_text_range,retweeted_status.full_text,quoted_status.user.profile_use_background_image,retweeted_status.user.protected,coordinates,user.profile_image_url,retweeted_status.entities.urls,retweeted_status.user.listed_count,geo,user.name,user.url,user.profile_background_color,user.profile_banner_url,user.translator_type,quoted_status.user.time_zone,retweeted_status.is_quote_status,place.full_name,user.profile_text_color,user.entities.url.urls,quoted_status.favorite_count,retweeted_status.display_text_range,user.has_extended_profile,place.name,user.profile_sidebar_border_color,quoted_status.user.description,user.listed_count,quoted_status.metadata.result_type,retweeted_status.user.id_str,retweeted_status.in_reply_to_status_id_str,retweeted_status.user.profile_background_image_url,user.lang,quoted_status.entities.symbols,metadata.iso_language_code,quoted_status.user.is_translation_enabled,retweeted_status.user.utc_offset,retweeted_status.retweeted,user.profile_sidebar_fill_color,retweeted_status.user.default_profile,retweeted_status.user.profile_banner_url,retweeted_status.user.profile_text_color,entities.symbols,quoted_status.user.profile_background_color,retweeted_status.created_at,retweeted_status.in_reply_to_status_id,in_reply_to_user_id_str,is_quote_status,quoted_status.user.followers_count,retweeted_status.user.favourites_count,full_text,retweeted_status.user.profile_sidebar_fill_color,contributors,quoted_status.user.is_translator,quoted_status.user.profile_link_color,retweeted_status.user.default_profile_image,user.location,user.default_profile_image,retweeted_status.source,quoted_status.user.protected,quoted_status.user.geo_enabled,retweeted_status.in_reply_to_user_id,retweeted_status.user.follow_request_sent,quoted_status.is_quote_status,entities.user_mentions,user.notifications,place.country_code,quoted_status_id_str,retweeted_status.user.followers_count,retweet_count,quoted_status.id_str,user.verified,metadata.result_type,favorited,retweeted_status.id,quoted_status.metadata.iso_language_code,user.is_translation_enabled,quoted_status.truncated,quoted_status.user.profile_text_color,user.friends_count,retweeted_status.user.is_translation_enabled,user.geo_enabled,retweeted_status.retweet_count,extended_entities.media,quoted_status.user.id_str,quoted_status.user.url,quoted_status.place,quoted_status.user.following,quoted_status.user.profile_banner_url,retweeted_status.user.profile_link_color,retweeted_status.user.time_zone,place.bounding_box.coordinates,retweeted_status.user.statuses_count,retweeted_status.user.entities.url.urls,retweeted_status.entities.media,place.place_type,quoted_status.user.screen_name,quoted_status.created_at,quoted_status.in_reply_to_user_id,quoted_status.user.entities.url.urls,quoted_status.user.statuses_count,retweeted_status.user.profile_sidebar_border_color,retweeted_status.in_reply_to_user_id_str,quoted_status.user.default_profile,user.protected,user.entities.description.urls,user.utc_offset,retweeted_status.user.friends_count,quoted_status.user.withheld_in_countries,quoted_status.entities.hashtags,user.withheld_in_countries,place.contained_within,user.profile_background_image_url,place.bounding_box.type,quoted_status_id,retweeted_status.user.profile_background_tile,retweeted_status.user.profile_image_url_https,retweeted_status.user.screen_name,retweeted_status.user.id,retweeted_status.user.translator_type,user.profile_background_tile,retweeted_status.entities.symbols,retweeted_status.user.has_extended_profile,quoted_status.user.profile_sidebar_fill_color,retweeted_status.coordinates,user.time_zone,quoted_status.geo,quoted_status.in_reply_to_status_id_str,retweeted_status.extended_entities.media,retweeted_status.geo,retweeted_status.possibly_sensitive,user.profile_image_url_https,id_str,retweeted_status.user.url,quoted_status.user.favourites_count,truncated,quoted_status.user.utc_offset,place.id,user.description,quoted_status.display_text_range,quoted_status.entities.user_mentions,quoted_status.retweet_count,retweeted_status.user.contributors_enabled,place.url,quoted_status.contributors,retweeted_status.user.location,user.followers_count,retweeted_status.lang,entities.media,user.is_translator,retweeted_status.place,retweeted_status.user.profile_image_url,user.profile_background_image_url_https,user.follow_request_sent,retweeted_status.entities.hashtags,place.country,quoted_status.user.lang,retweeted_status.entities.user_mentions,retweeted_status.metadata.result_type,retweeted_status.favorite_count,retweeted_status.favorited,retweeted_status.user.description,retweeted_status.metadata.iso_language_code,quoted_status.user.default_profile_image,retweeted_status.user.profile_background_color,retweeted_status.truncated,quoted_status.entities.urls,quoted_status.user.verified,quoted_status.user.profile_image_url_https,quoted_status.retweeted\"\n",
      "Skipping entire batch of 100 tweets!\u001b[0m\n",
      " 98%|█████████████▋| Processed 93.4M/95.4M of input file [00:15<00:00, 4.27MB/s]\u001b[31m💔 ERROR: 306 Unexpected items in data! \n",
      "Are you sure you specified the correct --input-data-type?\n",
      "If the object type is correct, add extra columns with:\n",
      "--extra-input-columns \"quoted_status.user.id,quoted_status.user.profile_background_image_url,quoted_status.in_reply_to_status_id,retweeted_status.user.created_at,quoted_status.user.entities.description.urls,retweeted_status.quoted_status.possibly_sensitive,user.contributors_enabled,retweeted_status.quoted_status.lang,quoted_status.user.location,retweeted_status.quoted_status.source,quoted_status.user.follow_request_sent,retweeted_status.quoted_status.display_text_range,in_reply_to_screen_name,user.id_str,retweeted_status.quoted_status.user.profile_image_url_https,quoted_status.in_reply_to_screen_name,quoted_status.user.listed_count,retweeted_status.quoted_status.user.entities.description.urls,quoted_status.user.profile_sidebar_border_color,quoted_status.id,retweeted_status.id_str,user.screen_name,user.profile_use_background_image,retweeted_status.quoted_status.id,quoted_status.source,quoted_status.user.contributors_enabled,quoted_status.user.notifications,quoted_status.user.profile_image_url,user.profile_link_color,favorite_count,quoted_status.in_reply_to_user_id_str,retweeted_status.in_reply_to_screen_name,retweeted_status.quoted_status.contributors,retweeted_status.quoted_status.user.protected,quoted_status.user.profile_background_image_url_https,retweeted_status.user.geo_enabled,in_reply_to_status_id,retweeted_status.quoted_status.user.profile_text_color,retweeted_status.quoted_status.user.profile_image_url,quoted_status.coordinates,retweeted_status.user.profile_use_background_image,quoted_status.user.friends_count,quoted_status.lang,retweeted_status.quoted_status.user.description,user.statuses_count,retweeted,quoted_status.user.created_at,retweeted_status.place.bounding_box.type,display_text_range,quoted_status.entities.media,retweeted_status.quoted_status.metadata.iso_language_code,coordinates,user.profile_image_url,retweeted_status.entities.urls,retweeted_status.user.listed_count,retweeted_status.quoted_status.user.notifications,user.translator_type,retweeted_status.quoted_status.user.lang,user.profile_text_color,user.entities.url.urls,retweeted_status.quoted_status.user.profile_background_color,retweeted_status.display_text_range,quoted_status.user.description,quoted_status.metadata.result_type,user.listed_count,retweeted_status.quoted_status_id,retweeted_status.quoted_status.in_reply_to_status_id,retweeted_status.in_reply_to_status_id_str,quoted_status.extended_entities.media,quoted_status.user.is_translation_enabled,metadata.iso_language_code,retweeted_status.retweeted,retweeted_status.quoted_status.user.profile_background_image_url_https,user.profile_sidebar_fill_color,retweeted_status.user.default_profile,entities.symbols,quoted_status.user.followers_count,is_quote_status,retweeted_status.user.favourites_count,full_text,retweeted_status.quoted_status.user.id,retweeted_status.user.profile_sidebar_fill_color,quoted_status.user.profile_link_color,user.location,retweeted_status.source,quoted_status.is_quote_status,retweeted_status.place.country_code,retweeted_status.in_reply_to_user_id,retweeted_status.quoted_status.user.withheld_in_countries,quoted_status.user.geo_enabled,user.notifications,retweeted_status.quoted_status.user.screen_name,retweeted_status.quoted_status.user.profile_background_tile,retweet_count,quoted_status.id_str,retweeted_status.quoted_status.id_str,retweeted_status.quoted_status.extended_entities.media,retweeted_status.quoted_status.user.id_str,user.verified,retweeted_status.quoted_status.metadata.result_type,favorited,retweeted_status.quoted_status.user.default_profile,retweeted_status.quoted_status.retweeted,quoted_status.user.profile_text_color,retweeted_status.quoted_status_id_str,retweeted_status.retweet_count,quoted_status.user.id_str,extended_entities.media,quoted_status.user.following,retweeted_status.quoted_status.user.friends_count,retweeted_status.quoted_status.user.is_translator,retweeted_status.user.statuses_count,retweeted_status.entities.media,retweeted_status.quoted_status.entities.hashtags,retweeted_status.in_reply_to_user_id_str,retweeted_status.quoted_status.user.has_extended_profile,quoted_status.user.default_profile,user.utc_offset,user.entities.description.urls,retweeted_status.quoted_status.user.name,retweeted_status.place.country,user.withheld_in_countries,quoted_status_id,retweeted_status.user.profile_background_tile,retweeted_status.user.screen_name,retweeted_status.entities.symbols,quoted_status.user.profile_sidebar_fill_color,quoted_status.in_reply_to_status_id_str,retweeted_status.geo,retweeted_status.possibly_sensitive,user.profile_image_url_https,retweeted_status.quoted_status.user.utc_offset,id_str,retweeted_status.user.url,retweeted_status.quoted_status.user.profile_banner_url,quoted_status.user.favourites_count,truncated,quoted_status.user.utc_offset,retweeted_status.quoted_status.is_quote_status,quoted_status.entities.user_mentions,retweeted_status.quoted_status.geo,quoted_status.retweet_count,retweeted_status.lang,user.followers_count,retweeted_status.place,user.profile_background_image_url_https,user.follow_request_sent,retweeted_status.entities.hashtags,quoted_status.user.lang,retweeted_status.entities.user_mentions,retweeted_status.metadata.result_type,retweeted_status.favorite_count,retweeted_status.favorited,retweeted_status.metadata.iso_language_code,quoted_status.user.default_profile_image,retweeted_status.user.profile_background_color,retweeted_status.truncated,quoted_status.entities.urls,quoted_status.user.profile_image_url_https,quoted_status.retweeted,retweeted_status.coordinates,retweeted_status.quoted_status.user.following,retweeted_status.quoted_status.user.default_profile_image,retweeted_status.quoted_status.user.followers_count,retweeted_status.quoted_status.user.profile_sidebar_fill_color,retweeted_status.quoted_status.user.created_at,retweeted_status.quoted_status.user.contributors_enabled,retweeted_status.quoted_status.in_reply_to_screen_name,quoted_status.full_text,retweeted_status.contributors,quoted_status.favorited,user.favourites_count,retweeted_status.user.verified,retweeted_status.user.lang,quoted_status.user.translator_type,user.following,retweeted_status.user.withheld_in_countries,retweeted_status.place.contained_within,in_reply_to_status_id_str,retweeted_status.user.entities.description.urls,retweeted_status.user.is_translator,retweeted_status.quoted_status.user.url,user.default_profile,user.id,retweeted_status.quoted_status.truncated,user.created_at,quoted_status.user.profile_background_tile,retweeted_status.user.name,retweeted_status.place.id,retweeted_status.quoted_status.user.profile_background_image_url,retweeted_status.user.notifications,place,quoted_status.user.name,retweeted_status.quoted_status.user.time_zone,retweeted_status.quoted_status.user.listed_count,retweeted_status.user.profile_background_image_url_https,quoted_status.user.has_extended_profile,retweeted_status.user.following,retweeted_status.place.place_type,retweeted_status.full_text,quoted_status.user.profile_use_background_image,retweeted_status.quoted_status.full_text,retweeted_status.user.protected,geo,user.name,user.url,quoted_status.contributors,retweeted_status.quoted_status.user.statuses_count,user.profile_background_color,quoted_status.user.time_zone,retweeted_status.is_quote_status,user.profile_banner_url,quoted_status.favorite_count,user.has_extended_profile,user.profile_sidebar_border_color,retweeted_status.user.id_str,retweeted_status.user.profile_background_image_url,user.lang,quoted_status.entities.symbols,retweeted_status.user.utc_offset,retweeted_status.user.profile_banner_url,retweeted_status.user.profile_text_color,retweeted_status.quoted_status.in_reply_to_user_id_str,quoted_status.user.profile_background_color,retweeted_status.quoted_status.user.verified,retweeted_status.created_at,retweeted_status.in_reply_to_status_id,in_reply_to_user_id_str,retweeted_status.quoted_status.user.translator_type,retweeted_status.quoted_status.entities.media,retweeted_status.quoted_status.entities.symbols,contributors,quoted_status.user.is_translator,retweeted_status.user.default_profile_image,retweeted_status.quoted_status.created_at,user.default_profile_image,retweeted_status.quoted_status.favorited,retweeted_status.quoted_status.user.profile_use_background_image,quoted_status.user.protected,retweeted_status.user.follow_request_sent,entities.user_mentions,retweeted_status.quoted_status.user.favourites_count,quoted_status_id_str,retweeted_status.quoted_status.user.entities.url.urls,retweeted_status.user.followers_count,quoted_status.possibly_sensitive,metadata.result_type,retweeted_status.quoted_status.user.is_translation_enabled,retweeted_status.id,quoted_status.metadata.iso_language_code,user.is_translation_enabled,retweeted_status.quoted_status.in_reply_to_user_id,quoted_status.truncated,user.friends_count,retweeted_status.user.is_translation_enabled,user.geo_enabled,quoted_status.place,quoted_status.user.url,retweeted_status.quoted_status.user.geo_enabled,quoted_status.user.profile_banner_url,retweeted_status.user.profile_link_color,retweeted_status.user.time_zone,retweeted_status.quoted_status.in_reply_to_status_id_str,retweeted_status.place.bounding_box.coordinates,retweeted_status.user.entities.url.urls,retweeted_status.quoted_status.user.follow_request_sent,quoted_status.user.screen_name,quoted_status.created_at,quoted_status.in_reply_to_user_id,quoted_status.user.statuses_count,retweeted_status.user.profile_sidebar_border_color,retweeted_status.quoted_status.entities.user_mentions,quoted_status.user.entities.url.urls,retweeted_status.quoted_status.place,retweeted_status.user.friends_count,user.protected,quoted_status.user.withheld_in_countries,quoted_status.entities.hashtags,user.profile_background_image_url,retweeted_status.quoted_status.user.location,retweeted_status.place.name,retweeted_status.user.profile_image_url_https,retweeted_status.user.id,retweeted_status.user.translator_type,user.profile_background_tile,retweeted_status.user.has_extended_profile,user.time_zone,quoted_status.geo,retweeted_status.place.full_name,retweeted_status.extended_entities.media,retweeted_status.place.url,retweeted_status.quoted_status.user.profile_sidebar_border_color,user.description,quoted_status.display_text_range,retweeted_status.user.contributors_enabled,retweeted_status.user.location,entities.media,user.is_translator,retweeted_status.user.profile_image_url,retweeted_status.quoted_status.coordinates,retweeted_status.quoted_status.entities.urls,retweeted_status.quoted_status.user.profile_link_color,retweeted_status.user.description,retweeted_status.quoted_status.favorite_count,quoted_status.user.verified,retweeted_status.quoted_status.retweet_count\"\n",
      "Skipping entire batch of 100 tweets!\u001b[0m\n",
      " 98%|█████████████▊| Processed 93.8M/95.4M of input file [00:15<00:00, 4.27MB/s]\u001b[31m💔 ERROR: 228 Unexpected items in data! \n",
      "Are you sure you specified the correct --input-data-type?\n",
      "If the object type is correct, add extra columns with:\n",
      "--extra-input-columns \"quoted_status.user.id,quoted_status.user.profile_background_image_url,quoted_status.in_reply_to_status_id,retweeted_status.user.created_at,quoted_status.user.entities.description.urls,user.contributors_enabled,quoted_status.quoted_status_id,quoted_status.user.location,quoted_status.user.follow_request_sent,in_reply_to_screen_name,user.id_str,quoted_status.full_text,quoted_status.in_reply_to_screen_name,retweeted_status.contributors,quoted_status.user.listed_count,quoted_status.user.profile_sidebar_border_color,quoted_status.favorited,quoted_status.id,retweeted_status.id_str,user.screen_name,user.favourites_count,retweeted_status.user.verified,user.profile_use_background_image,quoted_status.source,retweeted_status.user.lang,quoted_status.user.contributors_enabled,user.following,retweeted_status.user.withheld_in_countries,quoted_status.user.notifications,in_reply_to_status_id_str,retweeted_status.user.entities.description.urls,retweeted_status.user.is_translator,quoted_status.user.profile_image_url,quoted_status.user.translator_type,user.profile_link_color,favorite_count,user.default_profile,user.id,quoted_status.in_reply_to_user_id_str,retweeted_status.in_reply_to_screen_name,user.created_at,quoted_status.user.profile_background_tile,retweeted_status.user.name,retweeted_status.user.geo_enabled,in_reply_to_status_id,quoted_status.user.profile_background_image_url_https,quoted_status.coordinates,retweeted_status.user.profile_use_background_image,quoted_status.lang,quoted_status.user.friends_count,retweeted_status.user.notifications,quoted_status.user.name,place,retweeted_status.user.profile_background_image_url_https,quoted_status.user.has_extended_profile,user.statuses_count,retweeted_status.user.following,retweeted,quoted_status.user.created_at,display_text_range,retweeted_status.full_text,quoted_status.user.profile_use_background_image,retweeted_status.user.protected,coordinates,user.profile_image_url,retweeted_status.entities.urls,retweeted_status.user.listed_count,geo,user.name,user.url,user.profile_background_color,user.translator_type,user.profile_banner_url,quoted_status.user.time_zone,retweeted_status.is_quote_status,place.full_name,user.profile_text_color,user.entities.url.urls,quoted_status.favorite_count,retweeted_status.display_text_range,user.has_extended_profile,place.name,user.profile_sidebar_border_color,quoted_status.user.description,user.listed_count,quoted_status.metadata.result_type,retweeted_status.user.id_str,retweeted_status.in_reply_to_status_id_str,retweeted_status.user.profile_background_image_url,user.lang,quoted_status.entities.symbols,metadata.iso_language_code,quoted_status.user.is_translation_enabled,retweeted_status.user.utc_offset,retweeted_status.retweeted,user.profile_sidebar_fill_color,retweeted_status.user.default_profile,retweeted_status.user.profile_banner_url,retweeted_status.user.profile_text_color,entities.symbols,quoted_status.user.profile_background_color,retweeted_status.created_at,retweeted_status.in_reply_to_status_id,in_reply_to_user_id_str,is_quote_status,quoted_status.user.followers_count,retweeted_status.user.favourites_count,full_text,retweeted_status.user.profile_sidebar_fill_color,contributors,quoted_status.user.is_translator,quoted_status.user.profile_link_color,retweeted_status.user.default_profile_image,user.location,user.default_profile_image,retweeted_status.source,quoted_status.user.protected,quoted_status.user.geo_enabled,retweeted_status.in_reply_to_user_id,retweeted_status.user.follow_request_sent,quoted_status.is_quote_status,entities.user_mentions,user.notifications,place.country_code,quoted_status_id_str,retweeted_status.user.followers_count,retweet_count,quoted_status.id_str,quoted_status.possibly_sensitive,user.verified,metadata.result_type,favorited,retweeted_status.id,quoted_status.metadata.iso_language_code,user.is_translation_enabled,quoted_status.truncated,quoted_status.user.profile_text_color,user.friends_count,retweeted_status.user.is_translation_enabled,user.geo_enabled,retweeted_status.retweet_count,extended_entities.media,quoted_status.user.id_str,quoted_status.user.url,quoted_status.place,quoted_status.user.following,quoted_status.user.profile_banner_url,retweeted_status.user.profile_link_color,retweeted_status.user.time_zone,place.bounding_box.coordinates,retweeted_status.user.statuses_count,retweeted_status.user.entities.url.urls,retweeted_status.entities.media,place.place_type,quoted_status.user.screen_name,quoted_status.created_at,quoted_status.in_reply_to_user_id,quoted_status.user.statuses_count,retweeted_status.user.profile_sidebar_border_color,retweeted_status.in_reply_to_user_id_str,quoted_status.user.default_profile,user.protected,user.entities.description.urls,user.utc_offset,retweeted_status.user.friends_count,quoted_status.user.withheld_in_countries,quoted_status.entities.hashtags,user.withheld_in_countries,place.contained_within,user.profile_background_image_url,place.bounding_box.type,quoted_status_id,retweeted_status.user.profile_background_tile,retweeted_status.user.profile_image_url_https,retweeted_status.user.screen_name,retweeted_status.user.id,retweeted_status.user.translator_type,user.profile_background_tile,retweeted_status.entities.symbols,retweeted_status.user.has_extended_profile,quoted_status.user.profile_sidebar_fill_color,retweeted_status.coordinates,user.time_zone,quoted_status.geo,quoted_status.in_reply_to_status_id_str,retweeted_status.extended_entities.media,retweeted_status.geo,retweeted_status.possibly_sensitive,user.profile_image_url_https,id_str,retweeted_status.user.url,quoted_status.user.favourites_count,truncated,quoted_status.user.utc_offset,place.id,user.description,quoted_status.display_text_range,quoted_status.entities.user_mentions,quoted_status.retweet_count,retweeted_status.user.contributors_enabled,place.url,quoted_status.contributors,retweeted_status.user.location,user.followers_count,retweeted_status.lang,entities.media,user.is_translator,retweeted_status.place,retweeted_status.user.profile_image_url,user.profile_background_image_url_https,user.follow_request_sent,retweeted_status.entities.hashtags,place.country,quoted_status.user.lang,retweeted_status.entities.user_mentions,retweeted_status.metadata.result_type,retweeted_status.favorite_count,retweeted_status.favorited,retweeted_status.user.description,retweeted_status.metadata.iso_language_code,quoted_status.user.default_profile_image,retweeted_status.user.profile_background_color,retweeted_status.truncated,quoted_status.entities.urls,quoted_status.user.verified,quoted_status.user.profile_image_url_https,quoted_status.quoted_status_id_str,quoted_status.retweeted\"\n",
      "Skipping entire batch of 100 tweets!\u001b[0m\n",
      " 99%|█████████████▊| Processed 94.5M/95.4M of input file [00:15<00:00, 5.04MB/s]\u001b[31m💔 ERROR: 232 Unexpected items in data! \n",
      "Are you sure you specified the correct --input-data-type?\n",
      "If the object type is correct, add extra columns with:\n",
      "--extra-input-columns \"retweeted_status.user.created_at,retweeted_status.quoted_status.user.following,user.contributors_enabled,retweeted_status.quoted_status.quoted_status_id_str,retweeted_status.quoted_status.possibly_sensitive,retweeted_status.quoted_status.lang,retweeted_status.quoted_status.user.default_profile_image,retweeted_status.quoted_status.source,retweeted_status.quoted_status.display_text_range,in_reply_to_screen_name,retweeted_status.quoted_status.user.followers_count,user.id_str,retweeted_status.quoted_status.user.profile_sidebar_fill_color,retweeted_status.quoted_status.user.created_at,retweeted_status.quoted_status.user.contributors_enabled,retweeted_status.quoted_status.in_reply_to_screen_name,retweeted_status.quoted_status.user.profile_image_url_https,retweeted_status.contributors,retweeted_status.quoted_status.user.entities.description.urls,retweeted_status.id_str,user.screen_name,user.favourites_count,retweeted_status.user.verified,user.profile_use_background_image,retweeted_status.quoted_status.id,retweeted_status.user.lang,user.following,retweeted_status.user.withheld_in_countries,in_reply_to_status_id_str,retweeted_status.user.entities.description.urls,retweeted_status.user.is_translator,retweeted_status.quoted_status.user.url,user.profile_link_color,favorite_count,user.default_profile,user.id,retweeted_status.in_reply_to_screen_name,retweeted_status.quoted_status.truncated,retweeted_status.quoted_status.user.protected,retweeted_status.quoted_status.contributors,user.created_at,retweeted_status.user.name,retweeted_status.user.geo_enabled,in_reply_to_status_id,retweeted_status.quoted_status.user.profile_text_color,retweeted_status.quoted_status.user.profile_image_url,retweeted_status.user.profile_use_background_image,retweeted_status.quoted_status.user.profile_background_image_url,retweeted_status.quoted_status.user.description,retweeted_status.user.notifications,place,retweeted_status.quoted_status.user.time_zone,retweeted_status.quoted_status.user.listed_count,retweeted_status.user.profile_background_image_url_https,user.statuses_count,retweeted,retweeted_status.user.following,display_text_range,retweeted_status.full_text,retweeted_status.quoted_status.full_text,retweeted_status.user.protected,retweeted_status.quoted_status.metadata.iso_language_code,coordinates,user.profile_image_url,retweeted_status.entities.urls,retweeted_status.user.listed_count,geo,user.name,user.profile_background_color,user.translator_type,user.profile_banner_url,retweeted_status.quoted_status.user.statuses_count,retweeted_status.quoted_status.user.lang,retweeted_status.is_quote_status,user.profile_text_color,user.url,user.entities.url.urls,place.full_name,retweeted_status.quoted_status.user.profile_background_color,retweeted_status.display_text_range,user.has_extended_profile,place.name,user.profile_sidebar_border_color,user.listed_count,retweeted_status.quoted_status_id,retweeted_status.quoted_status.in_reply_to_status_id,retweeted_status.user.id_str,retweeted_status.in_reply_to_status_id_str,retweeted_status.user.profile_background_image_url,user.lang,metadata.iso_language_code,retweeted_status.user.utc_offset,retweeted_status.retweeted,retweeted_status.quoted_status.user.profile_background_image_url_https,user.profile_sidebar_fill_color,retweeted_status.quoted_status.quoted_status_id,retweeted_status.user.default_profile,retweeted_status.user.profile_banner_url,retweeted_status.user.profile_text_color,entities.symbols,retweeted_status.quoted_status.in_reply_to_user_id_str,retweeted_status.quoted_status.user.verified,retweeted_status.created_at,retweeted_status.in_reply_to_status_id,in_reply_to_user_id_str,is_quote_status,retweeted_status.quoted_status.user.translator_type,retweeted_status.user.favourites_count,full_text,retweeted_status.quoted_status.user.id,retweeted_status.user.profile_sidebar_fill_color,retweeted_status.quoted_status.entities.media,retweeted_status.quoted_status.entities.symbols,contributors,retweeted_status.user.default_profile_image,retweeted_status.quoted_status.created_at,user.location,user.default_profile_image,retweeted_status.source,retweeted_status.quoted_status.favorited,retweeted_status.quoted_status.user.profile_use_background_image,retweeted_status.quoted_status.user.withheld_in_countries,retweeted_status.in_reply_to_user_id,retweeted_status.user.follow_request_sent,entities.user_mentions,user.notifications,retweeted_status.quoted_status.user.screen_name,retweeted_status.quoted_status.user.favourites_count,place.country_code,quoted_status_id_str,retweeted_status.quoted_status.user.profile_background_tile,retweeted_status.user.followers_count,retweet_count,retweeted_status.quoted_status.id_str,retweeted_status.quoted_status.extended_entities.media,retweeted_status.quoted_status.user.id_str,user.verified,retweeted_status.quoted_status.metadata.result_type,retweeted_status.quoted_status.user.is_translation_enabled,metadata.result_type,favorited,retweeted_status.id,retweeted_status.quoted_status.user.default_profile,user.is_translation_enabled,retweeted_status.quoted_status.in_reply_to_user_id,retweeted_status.quoted_status.retweeted,retweeted_status.quoted_status_id_str,user.friends_count,extended_entities.media,user.geo_enabled,retweeted_status.user.is_translation_enabled,retweeted_status.retweet_count,retweeted_status.quoted_status.user.geo_enabled,retweeted_status.user.profile_link_color,retweeted_status.quoted_status.user.friends_count,retweeted_status.user.time_zone,retweeted_status.quoted_status.user.is_translator,place.bounding_box.coordinates,retweeted_status.quoted_status.in_reply_to_status_id_str,retweeted_status.user.statuses_count,retweeted_status.user.entities.url.urls,retweeted_status.entities.media,retweeted_status.quoted_status.user.follow_request_sent,place.place_type,retweeted_status.quoted_status.place,retweeted_status.user.profile_sidebar_border_color,retweeted_status.quoted_status.entities.hashtags,retweeted_status.quoted_status.entities.user_mentions,retweeted_status.in_reply_to_user_id_str,retweeted_status.quoted_status.user.has_extended_profile,user.protected,user.entities.description.urls,user.utc_offset,retweeted_status.user.friends_count,retweeted_status.quoted_status.user.name,user.withheld_in_countries,place.contained_within,user.profile_background_image_url,quoted_status_id,retweeted_status.quoted_status.user.location,place.bounding_box.type,retweeted_status.user.profile_background_tile,retweeted_status.user.profile_image_url_https,retweeted_status.user.screen_name,retweeted_status.user.id,retweeted_status.user.translator_type,user.profile_background_tile,retweeted_status.entities.symbols,retweeted_status.user.has_extended_profile,user.time_zone,retweeted_status.extended_entities.media,retweeted_status.geo,retweeted_status.quoted_status.user.profile_sidebar_border_color,retweeted_status.possibly_sensitive,user.profile_image_url_https,retweeted_status.quoted_status.user.utc_offset,id_str,retweeted_status.user.url,retweeted_status.quoted_status.user.profile_banner_url,truncated,retweeted_status.quoted_status.is_quote_status,user.description,place.id,retweeted_status.quoted_status.geo,retweeted_status.user.contributors_enabled,place.url,retweeted_status.user.location,user.followers_count,entities.media,retweeted_status.lang,user.is_translator,retweeted_status.place,retweeted_status.user.profile_image_url,retweeted_status.quoted_status.entities.urls,retweeted_status.quoted_status.user.profile_link_color,user.profile_background_image_url_https,user.follow_request_sent,retweeted_status.entities.hashtags,retweeted_status.quoted_status.user.notifications,retweeted_status.quoted_status.coordinates,place.country,retweeted_status.entities.user_mentions,retweeted_status.metadata.result_type,retweeted_status.favorite_count,retweeted_status.favorited,retweeted_status.user.description,retweeted_status.metadata.iso_language_code,retweeted_status.quoted_status.favorite_count,retweeted_status.user.profile_background_color,retweeted_status.truncated,retweeted_status.coordinates,retweeted_status.quoted_status.retweet_count\"\n",
      "Skipping entire batch of 100 tweets!\u001b[0m\n",
      "100%|█████████████▉| Processed 95.2M/95.4M of input file [00:15<00:00, 5.81MB/s]\u001b[31m💔 ERROR: 302 Unexpected items in data! \n",
      "Are you sure you specified the correct --input-data-type?\n",
      "If the object type is correct, add extra columns with:\n",
      "--extra-input-columns \"quoted_status.user.id,quoted_status.user.profile_background_image_url,quoted_status.in_reply_to_status_id,retweeted_status.user.created_at,quoted_status.user.entities.description.urls,retweeted_status.quoted_status.possibly_sensitive,user.contributors_enabled,retweeted_status.quoted_status.lang,retweeted_status.quoted_status.source,quoted_status.user.location,quoted_status.user.follow_request_sent,retweeted_status.quoted_status.display_text_range,in_reply_to_screen_name,user.id_str,retweeted_status.quoted_status.user.profile_image_url_https,quoted_status.in_reply_to_screen_name,quoted_status.user.listed_count,retweeted_status.quoted_status.user.entities.description.urls,quoted_status.user.profile_sidebar_border_color,quoted_status.id,retweeted_status.id_str,user.screen_name,user.profile_use_background_image,retweeted_status.quoted_status.id,quoted_status.source,quoted_status.user.contributors_enabled,quoted_status.user.notifications,quoted_status.user.profile_image_url,user.profile_link_color,favorite_count,quoted_status.in_reply_to_user_id_str,retweeted_status.in_reply_to_screen_name,retweeted_status.quoted_status.contributors,retweeted_status.quoted_status.user.protected,quoted_status.user.profile_background_image_url_https,retweeted_status.user.geo_enabled,in_reply_to_status_id,retweeted_status.quoted_status.user.profile_text_color,retweeted_status.quoted_status.user.profile_image_url,quoted_status.coordinates,retweeted_status.user.profile_use_background_image,retweeted_status.quoted_status.user.description,quoted_status.user.friends_count,quoted_status.lang,user.statuses_count,retweeted,quoted_status.user.created_at,display_text_range,retweeted_status.quoted_status.metadata.iso_language_code,coordinates,user.profile_image_url,retweeted_status.entities.urls,retweeted_status.user.listed_count,retweeted_status.quoted_status.user.notifications,place.full_name,user.translator_type,retweeted_status.quoted_status.user.lang,user.profile_text_color,user.entities.url.urls,retweeted_status.quoted_status.user.profile_background_color,retweeted_status.display_text_range,quoted_status.user.description,quoted_status.metadata.result_type,user.listed_count,retweeted_status.quoted_status_id,retweeted_status.quoted_status.in_reply_to_status_id,retweeted_status.in_reply_to_status_id_str,quoted_status.user.is_translation_enabled,metadata.iso_language_code,retweeted_status.retweeted,retweeted_status.quoted_status.user.profile_background_image_url_https,user.profile_sidebar_fill_color,retweeted_status.user.default_profile,entities.symbols,quoted_status.user.followers_count,is_quote_status,retweeted_status.user.favourites_count,full_text,retweeted_status.quoted_status.user.id,retweeted_status.user.profile_sidebar_fill_color,quoted_status.user.profile_link_color,user.location,retweeted_status.source,quoted_status.is_quote_status,retweeted_status.quoted_status.user.withheld_in_countries,retweeted_status.in_reply_to_user_id,quoted_status.user.geo_enabled,user.notifications,retweeted_status.quoted_status.user.screen_name,place.country_code,retweeted_status.quoted_status.user.profile_background_tile,retweet_count,quoted_status.id_str,retweeted_status.quoted_status.id_str,retweeted_status.quoted_status.extended_entities.media,retweeted_status.quoted_status.user.id_str,user.verified,retweeted_status.quoted_status.metadata.result_type,favorited,retweeted_status.quoted_status.user.default_profile,retweeted_status.quoted_status.retweeted,quoted_status.user.profile_text_color,retweeted_status.quoted_status_id_str,retweeted_status.retweet_count,quoted_status.user.id_str,extended_entities.media,quoted_status.user.following,retweeted_status.quoted_status.user.friends_count,retweeted_status.quoted_status.user.is_translator,retweeted_status.user.statuses_count,retweeted_status.entities.media,retweeted_status.quoted_status.entities.hashtags,retweeted_status.in_reply_to_user_id_str,retweeted_status.quoted_status.user.has_extended_profile,quoted_status.user.default_profile,user.utc_offset,user.entities.description.urls,retweeted_status.quoted_status.user.name,user.withheld_in_countries,quoted_status_id,retweeted_status.user.profile_background_tile,retweeted_status.user.screen_name,retweeted_status.entities.symbols,quoted_status.user.profile_sidebar_fill_color,quoted_status.in_reply_to_status_id_str,retweeted_status.geo,retweeted_status.possibly_sensitive,user.profile_image_url_https,retweeted_status.quoted_status.user.utc_offset,id_str,retweeted_status.user.url,retweeted_status.quoted_status.user.profile_banner_url,quoted_status.user.favourites_count,truncated,quoted_status.user.utc_offset,retweeted_status.quoted_status.is_quote_status,place.id,quoted_status.entities.user_mentions,retweeted_status.quoted_status.geo,quoted_status.retweet_count,place.url,retweeted_status.lang,user.followers_count,retweeted_status.place,user.profile_background_image_url_https,user.follow_request_sent,retweeted_status.entities.hashtags,place.country,quoted_status.user.lang,retweeted_status.entities.user_mentions,retweeted_status.metadata.result_type,retweeted_status.favorite_count,retweeted_status.favorited,retweeted_status.metadata.iso_language_code,quoted_status.user.default_profile_image,retweeted_status.user.profile_background_color,retweeted_status.truncated,quoted_status.entities.urls,quoted_status.user.profile_image_url_https,quoted_status.retweeted,retweeted_status.coordinates,retweeted_status.quoted_status.user.following,retweeted_status.quoted_status.user.default_profile_image,retweeted_status.quoted_status.user.followers_count,retweeted_status.quoted_status.user.profile_sidebar_fill_color,retweeted_status.quoted_status.user.created_at,retweeted_status.quoted_status.user.contributors_enabled,retweeted_status.quoted_status.in_reply_to_screen_name,quoted_status.full_text,retweeted_status.contributors,quoted_status.favorited,user.favourites_count,retweeted_status.user.verified,retweeted_status.user.lang,quoted_status.user.translator_type,user.following,retweeted_status.user.withheld_in_countries,in_reply_to_status_id_str,retweeted_status.user.entities.description.urls,retweeted_status.user.is_translator,retweeted_status.quoted_status.user.url,user.default_profile,user.id,retweeted_status.quoted_status.truncated,user.created_at,quoted_status.user.profile_background_tile,retweeted_status.user.name,retweeted_status.quoted_status.user.profile_background_image_url,retweeted_status.user.notifications,place,quoted_status.user.name,retweeted_status.quoted_status.user.time_zone,retweeted_status.quoted_status.user.listed_count,retweeted_status.user.profile_background_image_url_https,quoted_status.user.has_extended_profile,retweeted_status.user.following,retweeted_status.full_text,quoted_status.user.profile_use_background_image,retweeted_status.quoted_status.full_text,retweeted_status.user.protected,geo,user.name,user.url,quoted_status.contributors,retweeted_status.quoted_status.user.statuses_count,user.profile_background_color,quoted_status.user.time_zone,retweeted_status.is_quote_status,user.profile_banner_url,quoted_status.favorite_count,user.has_extended_profile,place.name,user.profile_sidebar_border_color,retweeted_status.user.id_str,retweeted_status.user.profile_background_image_url,user.lang,quoted_status.entities.symbols,retweeted_status.user.utc_offset,retweeted_status.user.profile_banner_url,retweeted_status.user.profile_text_color,retweeted_status.quoted_status.in_reply_to_user_id_str,quoted_status.user.profile_background_color,retweeted_status.quoted_status.user.verified,retweeted_status.created_at,retweeted_status.in_reply_to_status_id,in_reply_to_user_id_str,retweeted_status.quoted_status.user.translator_type,retweeted_status.quoted_status.entities.media,retweeted_status.quoted_status.entities.symbols,contributors,quoted_status.user.is_translator,retweeted_status.user.default_profile_image,retweeted_status.quoted_status.created_at,user.default_profile_image,retweeted_status.quoted_status.favorited,retweeted_status.quoted_status.user.profile_use_background_image,quoted_status.user.protected,retweeted_status.user.follow_request_sent,entities.user_mentions,retweeted_status.quoted_status.user.favourites_count,quoted_status_id_str,retweeted_status.quoted_status.user.entities.url.urls,retweeted_status.user.followers_count,metadata.result_type,retweeted_status.quoted_status.user.is_translation_enabled,retweeted_status.id,quoted_status.metadata.iso_language_code,user.is_translation_enabled,retweeted_status.quoted_status.in_reply_to_user_id,quoted_status.truncated,user.friends_count,retweeted_status.user.is_translation_enabled,user.geo_enabled,quoted_status.place,quoted_status.user.url,retweeted_status.quoted_status.user.geo_enabled,quoted_status.user.profile_banner_url,retweeted_status.user.profile_link_color,retweeted_status.user.time_zone,place.bounding_box.coordinates,retweeted_status.quoted_status.in_reply_to_status_id_str,retweeted_status.user.entities.url.urls,retweeted_status.quoted_status.user.follow_request_sent,place.place_type,quoted_status.user.screen_name,quoted_status.created_at,quoted_status.in_reply_to_user_id,quoted_status.user.statuses_count,retweeted_status.user.profile_sidebar_border_color,retweeted_status.quoted_status.entities.user_mentions,retweeted_status.quoted_status.place,retweeted_status.user.friends_count,user.protected,quoted_status.user.withheld_in_countries,quoted_status.entities.hashtags,place.contained_within,user.profile_background_image_url,retweeted_status.quoted_status.user.location,place.bounding_box.type,retweeted_status.user.profile_image_url_https,retweeted_status.user.id,retweeted_status.user.translator_type,user.profile_background_tile,retweeted_status.user.has_extended_profile,user.time_zone,quoted_status.geo,retweeted_status.extended_entities.media,retweeted_status.quoted_status.user.profile_sidebar_border_color,user.description,quoted_status.display_text_range,retweeted_status.user.contributors_enabled,retweeted_status.user.location,entities.media,user.is_translator,retweeted_status.user.profile_image_url,retweeted_status.quoted_status.coordinates,retweeted_status.quoted_status.entities.urls,retweeted_status.quoted_status.user.profile_link_color,retweeted_status.user.description,retweeted_status.quoted_status.favorite_count,quoted_status.user.verified,retweeted_status.quoted_status.retweet_count\"\n",
      "Skipping entire batch of 98 tweets!\u001b[0m\n",
      "100%|██████████████| Processed 95.4M/95.4M of input file [00:16<00:00, 6.25MB/s]\n",
      "\n",
      "ℹ️\n",
      "Parsed 15698 tweets objects from 15698 lines in the input file.\n",
      "\u001b[31m15698 failed to parse. See twarc.log for details.\n",
      "\u001b[0mWrote 0 rows and output 74 columns in the CSV.\n",
      "\n"
     ]
    }
   ],
   "source": [
    "!twarc2 csv raw_data/taxday.jsonl output_data/taxday.csv"
   ]
  },
  {
   "cell_type": "code",
   "execution_count": 13,
   "id": "f19e93a1-6499-4a4a-986c-acf8baf289cd",
   "metadata": {},
   "outputs": [
    {
     "name": "stdout",
     "output_type": "stream",
     "text": [
      "100%|██████████████| Processed 1.93M/1.93M of input file [00:00<00:00, 3.43MB/s]\n",
      "\n",
      "ℹ️\n",
      "Parsed 664 tweets objects from 7 lines in the input file.\n",
      "Wrote 664 rows and output 74 columns in the CSV.\n",
      "\n"
     ]
    }
   ],
   "source": [
    "!twarc2 csv raw_data/kittens.jsonl output_data/kittens.csv"
   ]
  },
  {
   "cell_type": "code",
   "execution_count": 14,
   "id": "0ec3cfcd-55cb-4434-b633-b548cb321141",
   "metadata": {},
   "outputs": [],
   "source": [
    "kittens_df = pandas.read_csv(\"output_data/kittens.csv\")"
   ]
  },
  {
   "cell_type": "code",
   "execution_count": 15,
   "id": "92c8aa01-430a-4599-a65d-aaac822ff8c9",
   "metadata": {},
   "outputs": [
    {
     "data": {
      "text/html": [
       "<div>\n",
       "<style scoped>\n",
       "    .dataframe tbody tr th:only-of-type {\n",
       "        vertical-align: middle;\n",
       "    }\n",
       "\n",
       "    .dataframe tbody tr th {\n",
       "        vertical-align: top;\n",
       "    }\n",
       "\n",
       "    .dataframe thead th {\n",
       "        text-align: right;\n",
       "    }\n",
       "</style>\n",
       "<table border=\"1\" class=\"dataframe\">\n",
       "  <thead>\n",
       "    <tr style=\"text-align: right;\">\n",
       "      <th></th>\n",
       "      <th>id</th>\n",
       "      <th>conversation_id</th>\n",
       "      <th>referenced_tweets.replied_to.id</th>\n",
       "      <th>referenced_tweets.retweeted.id</th>\n",
       "      <th>referenced_tweets.quoted.id</th>\n",
       "      <th>author_id</th>\n",
       "      <th>in_reply_to_user_id</th>\n",
       "      <th>retweeted_user_id</th>\n",
       "      <th>quoted_user_id</th>\n",
       "      <th>created_at</th>\n",
       "      <th>...</th>\n",
       "      <th>geo.geo.bbox</th>\n",
       "      <th>geo.geo.type</th>\n",
       "      <th>geo.id</th>\n",
       "      <th>geo.name</th>\n",
       "      <th>geo.place_id</th>\n",
       "      <th>geo.place_type</th>\n",
       "      <th>__twarc.retrieved_at</th>\n",
       "      <th>__twarc.url</th>\n",
       "      <th>__twarc.version</th>\n",
       "      <th>Unnamed: 73</th>\n",
       "    </tr>\n",
       "  </thead>\n",
       "  <tbody>\n",
       "    <tr>\n",
       "      <th>0</th>\n",
       "      <td>1521622781858770944</td>\n",
       "      <td>1521622781858770944</td>\n",
       "      <td>NaN</td>\n",
       "      <td>NaN</td>\n",
       "      <td>NaN</td>\n",
       "      <td>2304335737</td>\n",
       "      <td>NaN</td>\n",
       "      <td>NaN</td>\n",
       "      <td>NaN</td>\n",
       "      <td>2022-05-03T22:48:36.000Z</td>\n",
       "      <td>...</td>\n",
       "      <td>NaN</td>\n",
       "      <td>NaN</td>\n",
       "      <td>NaN</td>\n",
       "      <td>NaN</td>\n",
       "      <td>NaN</td>\n",
       "      <td>NaN</td>\n",
       "      <td>2022-05-03T23:06:33+00:00</td>\n",
       "      <td>https://api.twitter.com/2/tweets/search/recent...</td>\n",
       "      <td>2.10.3</td>\n",
       "      <td>NaN</td>\n",
       "    </tr>\n",
       "    <tr>\n",
       "      <th>1</th>\n",
       "      <td>1521603504963559424</td>\n",
       "      <td>1521603504963559424</td>\n",
       "      <td>NaN</td>\n",
       "      <td>NaN</td>\n",
       "      <td>NaN</td>\n",
       "      <td>18323954</td>\n",
       "      <td>NaN</td>\n",
       "      <td>NaN</td>\n",
       "      <td>NaN</td>\n",
       "      <td>2022-05-03T21:32:00.000Z</td>\n",
       "      <td>...</td>\n",
       "      <td>NaN</td>\n",
       "      <td>NaN</td>\n",
       "      <td>NaN</td>\n",
       "      <td>NaN</td>\n",
       "      <td>NaN</td>\n",
       "      <td>NaN</td>\n",
       "      <td>2022-05-03T23:06:33+00:00</td>\n",
       "      <td>https://api.twitter.com/2/tweets/search/recent...</td>\n",
       "      <td>2.10.3</td>\n",
       "      <td>NaN</td>\n",
       "    </tr>\n",
       "    <tr>\n",
       "      <th>2</th>\n",
       "      <td>1521597792069857282</td>\n",
       "      <td>1521597792069857282</td>\n",
       "      <td>NaN</td>\n",
       "      <td>1.520388e+18</td>\n",
       "      <td>NaN</td>\n",
       "      <td>3254809073</td>\n",
       "      <td>NaN</td>\n",
       "      <td>8.854780e+08</td>\n",
       "      <td>NaN</td>\n",
       "      <td>2022-05-03T21:09:18.000Z</td>\n",
       "      <td>...</td>\n",
       "      <td>NaN</td>\n",
       "      <td>NaN</td>\n",
       "      <td>NaN</td>\n",
       "      <td>NaN</td>\n",
       "      <td>NaN</td>\n",
       "      <td>NaN</td>\n",
       "      <td>2022-05-03T23:06:33+00:00</td>\n",
       "      <td>https://api.twitter.com/2/tweets/search/recent...</td>\n",
       "      <td>2.10.3</td>\n",
       "      <td>NaN</td>\n",
       "    </tr>\n",
       "    <tr>\n",
       "      <th>3</th>\n",
       "      <td>1521585693792817155</td>\n",
       "      <td>1521585693792817155</td>\n",
       "      <td>NaN</td>\n",
       "      <td>1.521583e+18</td>\n",
       "      <td>NaN</td>\n",
       "      <td>1076129354432819200</td>\n",
       "      <td>NaN</td>\n",
       "      <td>1.832395e+07</td>\n",
       "      <td>NaN</td>\n",
       "      <td>2022-05-03T20:21:13.000Z</td>\n",
       "      <td>...</td>\n",
       "      <td>NaN</td>\n",
       "      <td>NaN</td>\n",
       "      <td>NaN</td>\n",
       "      <td>NaN</td>\n",
       "      <td>NaN</td>\n",
       "      <td>NaN</td>\n",
       "      <td>2022-05-03T23:06:33+00:00</td>\n",
       "      <td>https://api.twitter.com/2/tweets/search/recent...</td>\n",
       "      <td>2.10.3</td>\n",
       "      <td>NaN</td>\n",
       "    </tr>\n",
       "    <tr>\n",
       "      <th>4</th>\n",
       "      <td>1521585079520305152</td>\n",
       "      <td>1521585079520305152</td>\n",
       "      <td>NaN</td>\n",
       "      <td>1.521583e+18</td>\n",
       "      <td>NaN</td>\n",
       "      <td>286942658</td>\n",
       "      <td>NaN</td>\n",
       "      <td>1.832395e+07</td>\n",
       "      <td>NaN</td>\n",
       "      <td>2022-05-03T20:18:47.000Z</td>\n",
       "      <td>...</td>\n",
       "      <td>NaN</td>\n",
       "      <td>NaN</td>\n",
       "      <td>NaN</td>\n",
       "      <td>NaN</td>\n",
       "      <td>NaN</td>\n",
       "      <td>NaN</td>\n",
       "      <td>2022-05-03T23:06:33+00:00</td>\n",
       "      <td>https://api.twitter.com/2/tweets/search/recent...</td>\n",
       "      <td>2.10.3</td>\n",
       "      <td>NaN</td>\n",
       "    </tr>\n",
       "    <tr>\n",
       "      <th>...</th>\n",
       "      <td>...</td>\n",
       "      <td>...</td>\n",
       "      <td>...</td>\n",
       "      <td>...</td>\n",
       "      <td>...</td>\n",
       "      <td>...</td>\n",
       "      <td>...</td>\n",
       "      <td>...</td>\n",
       "      <td>...</td>\n",
       "      <td>...</td>\n",
       "      <td>...</td>\n",
       "      <td>...</td>\n",
       "      <td>...</td>\n",
       "      <td>...</td>\n",
       "      <td>...</td>\n",
       "      <td>...</td>\n",
       "      <td>...</td>\n",
       "      <td>...</td>\n",
       "      <td>...</td>\n",
       "      <td>...</td>\n",
       "      <td>...</td>\n",
       "    </tr>\n",
       "    <tr>\n",
       "      <th>659</th>\n",
       "      <td>1519129505016729602</td>\n",
       "      <td>1519129505016729602</td>\n",
       "      <td>NaN</td>\n",
       "      <td>1.519039e+18</td>\n",
       "      <td>NaN</td>\n",
       "      <td>20392809</td>\n",
       "      <td>NaN</td>\n",
       "      <td>1.517269e+18</td>\n",
       "      <td>NaN</td>\n",
       "      <td>2022-04-27T01:41:12.000Z</td>\n",
       "      <td>...</td>\n",
       "      <td>NaN</td>\n",
       "      <td>NaN</td>\n",
       "      <td>NaN</td>\n",
       "      <td>NaN</td>\n",
       "      <td>NaN</td>\n",
       "      <td>NaN</td>\n",
       "      <td>2022-05-03T23:06:38+00:00</td>\n",
       "      <td>https://api.twitter.com/2/tweets/search/recent...</td>\n",
       "      <td>2.10.3</td>\n",
       "      <td>NaN</td>\n",
       "    </tr>\n",
       "    <tr>\n",
       "      <th>660</th>\n",
       "      <td>1519126846100709376</td>\n",
       "      <td>1519126846100709376</td>\n",
       "      <td>NaN</td>\n",
       "      <td>1.515818e+18</td>\n",
       "      <td>NaN</td>\n",
       "      <td>1183728633606758400</td>\n",
       "      <td>NaN</td>\n",
       "      <td>3.958303e+09</td>\n",
       "      <td>NaN</td>\n",
       "      <td>2022-04-27T01:30:38.000Z</td>\n",
       "      <td>...</td>\n",
       "      <td>NaN</td>\n",
       "      <td>NaN</td>\n",
       "      <td>NaN</td>\n",
       "      <td>NaN</td>\n",
       "      <td>NaN</td>\n",
       "      <td>NaN</td>\n",
       "      <td>2022-05-03T23:06:38+00:00</td>\n",
       "      <td>https://api.twitter.com/2/tweets/search/recent...</td>\n",
       "      <td>2.10.3</td>\n",
       "      <td>NaN</td>\n",
       "    </tr>\n",
       "    <tr>\n",
       "      <th>661</th>\n",
       "      <td>1519118524526080006</td>\n",
       "      <td>1519118524526080006</td>\n",
       "      <td>NaN</td>\n",
       "      <td>NaN</td>\n",
       "      <td>NaN</td>\n",
       "      <td>15702359</td>\n",
       "      <td>NaN</td>\n",
       "      <td>NaN</td>\n",
       "      <td>NaN</td>\n",
       "      <td>2022-04-27T00:57:34.000Z</td>\n",
       "      <td>...</td>\n",
       "      <td>NaN</td>\n",
       "      <td>NaN</td>\n",
       "      <td>NaN</td>\n",
       "      <td>NaN</td>\n",
       "      <td>NaN</td>\n",
       "      <td>NaN</td>\n",
       "      <td>2022-05-03T23:06:38+00:00</td>\n",
       "      <td>https://api.twitter.com/2/tweets/search/recent...</td>\n",
       "      <td>2.10.3</td>\n",
       "      <td>NaN</td>\n",
       "    </tr>\n",
       "    <tr>\n",
       "      <th>662</th>\n",
       "      <td>1519108303275663362</td>\n",
       "      <td>1519108303275663362</td>\n",
       "      <td>NaN</td>\n",
       "      <td>1.515818e+18</td>\n",
       "      <td>NaN</td>\n",
       "      <td>1375922717539569664</td>\n",
       "      <td>NaN</td>\n",
       "      <td>3.958303e+09</td>\n",
       "      <td>NaN</td>\n",
       "      <td>2022-04-27T00:16:57.000Z</td>\n",
       "      <td>...</td>\n",
       "      <td>NaN</td>\n",
       "      <td>NaN</td>\n",
       "      <td>NaN</td>\n",
       "      <td>NaN</td>\n",
       "      <td>NaN</td>\n",
       "      <td>NaN</td>\n",
       "      <td>2022-05-03T23:06:38+00:00</td>\n",
       "      <td>https://api.twitter.com/2/tweets/search/recent...</td>\n",
       "      <td>2.10.3</td>\n",
       "      <td>NaN</td>\n",
       "    </tr>\n",
       "    <tr>\n",
       "      <th>663</th>\n",
       "      <td>1519090612552626176</td>\n",
       "      <td>1519090612552626176</td>\n",
       "      <td>NaN</td>\n",
       "      <td>1.519015e+18</td>\n",
       "      <td>NaN</td>\n",
       "      <td>1373558094693683204</td>\n",
       "      <td>NaN</td>\n",
       "      <td>2.926437e+09</td>\n",
       "      <td>NaN</td>\n",
       "      <td>2022-04-26T23:06:40.000Z</td>\n",
       "      <td>...</td>\n",
       "      <td>NaN</td>\n",
       "      <td>NaN</td>\n",
       "      <td>NaN</td>\n",
       "      <td>NaN</td>\n",
       "      <td>NaN</td>\n",
       "      <td>NaN</td>\n",
       "      <td>2022-05-03T23:06:38+00:00</td>\n",
       "      <td>https://api.twitter.com/2/tweets/search/recent...</td>\n",
       "      <td>2.10.3</td>\n",
       "      <td>NaN</td>\n",
       "    </tr>\n",
       "  </tbody>\n",
       "</table>\n",
       "<p>664 rows × 74 columns</p>\n",
       "</div>"
      ],
      "text/plain": [
       "                      id      conversation_id  \\\n",
       "0    1521622781858770944  1521622781858770944   \n",
       "1    1521603504963559424  1521603504963559424   \n",
       "2    1521597792069857282  1521597792069857282   \n",
       "3    1521585693792817155  1521585693792817155   \n",
       "4    1521585079520305152  1521585079520305152   \n",
       "..                   ...                  ...   \n",
       "659  1519129505016729602  1519129505016729602   \n",
       "660  1519126846100709376  1519126846100709376   \n",
       "661  1519118524526080006  1519118524526080006   \n",
       "662  1519108303275663362  1519108303275663362   \n",
       "663  1519090612552626176  1519090612552626176   \n",
       "\n",
       "     referenced_tweets.replied_to.id  referenced_tweets.retweeted.id  \\\n",
       "0                                NaN                             NaN   \n",
       "1                                NaN                             NaN   \n",
       "2                                NaN                    1.520388e+18   \n",
       "3                                NaN                    1.521583e+18   \n",
       "4                                NaN                    1.521583e+18   \n",
       "..                               ...                             ...   \n",
       "659                              NaN                    1.519039e+18   \n",
       "660                              NaN                    1.515818e+18   \n",
       "661                              NaN                             NaN   \n",
       "662                              NaN                    1.515818e+18   \n",
       "663                              NaN                    1.519015e+18   \n",
       "\n",
       "     referenced_tweets.quoted.id            author_id  in_reply_to_user_id  \\\n",
       "0                            NaN           2304335737                  NaN   \n",
       "1                            NaN             18323954                  NaN   \n",
       "2                            NaN           3254809073                  NaN   \n",
       "3                            NaN  1076129354432819200                  NaN   \n",
       "4                            NaN            286942658                  NaN   \n",
       "..                           ...                  ...                  ...   \n",
       "659                          NaN             20392809                  NaN   \n",
       "660                          NaN  1183728633606758400                  NaN   \n",
       "661                          NaN             15702359                  NaN   \n",
       "662                          NaN  1375922717539569664                  NaN   \n",
       "663                          NaN  1373558094693683204                  NaN   \n",
       "\n",
       "     retweeted_user_id  quoted_user_id                created_at  ...  \\\n",
       "0                  NaN             NaN  2022-05-03T22:48:36.000Z  ...   \n",
       "1                  NaN             NaN  2022-05-03T21:32:00.000Z  ...   \n",
       "2         8.854780e+08             NaN  2022-05-03T21:09:18.000Z  ...   \n",
       "3         1.832395e+07             NaN  2022-05-03T20:21:13.000Z  ...   \n",
       "4         1.832395e+07             NaN  2022-05-03T20:18:47.000Z  ...   \n",
       "..                 ...             ...                       ...  ...   \n",
       "659       1.517269e+18             NaN  2022-04-27T01:41:12.000Z  ...   \n",
       "660       3.958303e+09             NaN  2022-04-27T01:30:38.000Z  ...   \n",
       "661                NaN             NaN  2022-04-27T00:57:34.000Z  ...   \n",
       "662       3.958303e+09             NaN  2022-04-27T00:16:57.000Z  ...   \n",
       "663       2.926437e+09             NaN  2022-04-26T23:06:40.000Z  ...   \n",
       "\n",
       "    geo.geo.bbox geo.geo.type geo.id  geo.name  geo.place_id  geo.place_type  \\\n",
       "0            NaN          NaN    NaN       NaN           NaN             NaN   \n",
       "1            NaN          NaN    NaN       NaN           NaN             NaN   \n",
       "2            NaN          NaN    NaN       NaN           NaN             NaN   \n",
       "3            NaN          NaN    NaN       NaN           NaN             NaN   \n",
       "4            NaN          NaN    NaN       NaN           NaN             NaN   \n",
       "..           ...          ...    ...       ...           ...             ...   \n",
       "659          NaN          NaN    NaN       NaN           NaN             NaN   \n",
       "660          NaN          NaN    NaN       NaN           NaN             NaN   \n",
       "661          NaN          NaN    NaN       NaN           NaN             NaN   \n",
       "662          NaN          NaN    NaN       NaN           NaN             NaN   \n",
       "663          NaN          NaN    NaN       NaN           NaN             NaN   \n",
       "\n",
       "          __twarc.retrieved_at  \\\n",
       "0    2022-05-03T23:06:33+00:00   \n",
       "1    2022-05-03T23:06:33+00:00   \n",
       "2    2022-05-03T23:06:33+00:00   \n",
       "3    2022-05-03T23:06:33+00:00   \n",
       "4    2022-05-03T23:06:33+00:00   \n",
       "..                         ...   \n",
       "659  2022-05-03T23:06:38+00:00   \n",
       "660  2022-05-03T23:06:38+00:00   \n",
       "661  2022-05-03T23:06:38+00:00   \n",
       "662  2022-05-03T23:06:38+00:00   \n",
       "663  2022-05-03T23:06:38+00:00   \n",
       "\n",
       "                                           __twarc.url  __twarc.version  \\\n",
       "0    https://api.twitter.com/2/tweets/search/recent...           2.10.3   \n",
       "1    https://api.twitter.com/2/tweets/search/recent...           2.10.3   \n",
       "2    https://api.twitter.com/2/tweets/search/recent...           2.10.3   \n",
       "3    https://api.twitter.com/2/tweets/search/recent...           2.10.3   \n",
       "4    https://api.twitter.com/2/tweets/search/recent...           2.10.3   \n",
       "..                                                 ...              ...   \n",
       "659  https://api.twitter.com/2/tweets/search/recent...           2.10.3   \n",
       "660  https://api.twitter.com/2/tweets/search/recent...           2.10.3   \n",
       "661  https://api.twitter.com/2/tweets/search/recent...           2.10.3   \n",
       "662  https://api.twitter.com/2/tweets/search/recent...           2.10.3   \n",
       "663  https://api.twitter.com/2/tweets/search/recent...           2.10.3   \n",
       "\n",
       "     Unnamed: 73  \n",
       "0            NaN  \n",
       "1            NaN  \n",
       "2            NaN  \n",
       "3            NaN  \n",
       "4            NaN  \n",
       "..           ...  \n",
       "659          NaN  \n",
       "660          NaN  \n",
       "661          NaN  \n",
       "662          NaN  \n",
       "663          NaN  \n",
       "\n",
       "[664 rows x 74 columns]"
      ]
     },
     "execution_count": 15,
     "metadata": {},
     "output_type": "execute_result"
    }
   ],
   "source": [
    "kittens_df"
   ]
  },
  {
   "cell_type": "code",
   "execution_count": null,
   "id": "9c5bbf73-444b-41a2-a72c-deb388217096",
   "metadata": {},
   "outputs": [],
   "source": []
  },
  {
   "cell_type": "markdown",
   "id": "870d9fb7-03eb-4dcd-9ab8-d4888b008f65",
   "metadata": {},
   "source": [
    "# Episode 5: Ethics & Twitter"
   ]
  },
  {
   "cell_type": "code",
   "execution_count": null,
   "id": "f046b945-b698-4c9b-b6c4-8047382f16aa",
   "metadata": {},
   "outputs": [],
   "source": []
  },
  {
   "cell_type": "markdown",
   "id": "12ca8fc4-ac95-4535-8146-843e2126e915",
   "metadata": {},
   "source": [
    "# Episode 6: Working with our Tweets"
   ]
  },
  {
   "cell_type": "code",
   "execution_count": null,
   "id": "fc855355-2742-47b4-a166-194898ded55b",
   "metadata": {
    "tags": []
   },
   "outputs": [],
   "source": [
    "# Episode 6\n",
    "# make the utils folder and get them from the repo\n",
    "# we will make folder for learners:\n",
    "# https://github.com/DocNow/twarc/tree/main/utils\n",
    "\n",
    "!python utils/wall.py raw_data/taxday.jsonl > output_data/taxday_wall.html"
   ]
  },
  {
   "cell_type": "code",
   "execution_count": null,
   "id": "76d86256-2a22-4031-9a3d-d76b0ba3f3e4",
   "metadata": {},
   "outputs": [],
   "source": [
    "# what does this do?\n",
    "# it shows the tweet ID's of the Retweets in your dataset, and how much\n",
    "!python utils/retweets.py raw_data/taxday.jsonl > output_data/taxday_retweets.csv"
   ]
  },
  {
   "cell_type": "code",
   "execution_count": null,
   "id": "ceb74589-f708-4ab5-9a2b-00c2478d4020",
   "metadata": {},
   "outputs": [],
   "source": [
    "# how much is that?\n",
    "tax_retweets_df = pandas.read_csv(\"output_data/taxday_retweets.csv\", names=[\"tweetid\", \"retweets\"])\n",
    "tax_retweets_df.head()\n",
    "tax_retweets_df[\"retweets\"].plot(kind = \"hist\")\n"
   ]
  },
  {
   "cell_type": "code",
   "execution_count": null,
   "id": "371d1385-a265-4e0b-a36f-064a9b5ac444",
   "metadata": {},
   "outputs": [],
   "source": [
    "retweet_total = sum(tax_retweets_df[\"retweets\"])\n"
   ]
  },
  {
   "cell_type": "code",
   "execution_count": null,
   "id": "3a974343-f4c3-4e3c-99c7-67d975cea76b",
   "metadata": {},
   "outputs": [],
   "source": [
    "tax_retweets_df[\"retweets\"].plot(kind = \"hist\", loglog=True)"
   ]
  },
  {
   "cell_type": "markdown",
   "id": "3d6da4f1-7a9a-47ef-a5ce-d4e5a3920752",
   "metadata": {},
   "source": [
    "# Episode 7: Search and Filter"
   ]
  },
  {
   "cell_type": "code",
   "execution_count": null,
   "id": "1a264ec5-4174-4e62-a3cd-9e16aef94059",
   "metadata": {},
   "outputs": [],
   "source": []
  },
  {
   "cell_type": "markdown",
   "id": "0edf38c5-f6b4-475d-9a2f-ffef08430159",
   "metadata": {},
   "source": [
    "# Episode 8: Analysis Tools"
   ]
  },
  {
   "cell_type": "code",
   "execution_count": null,
   "id": "4c4ceded-545e-4640-ad45-cb6b33d1f986",
   "metadata": {},
   "outputs": [],
   "source": []
  },
  {
   "cell_type": "code",
   "execution_count": null,
   "id": "8ccc6de7-126c-4975-8f1e-cacd1140ff34",
   "metadata": {},
   "outputs": [],
   "source": []
  },
  {
   "cell_type": "code",
   "execution_count": null,
   "id": "03e03d25-b2af-4102-a418-b6b0532e0aac",
   "metadata": {},
   "outputs": [],
   "source": [
    "# Episode 9: Data Management"
   ]
  },
  {
   "cell_type": "code",
   "execution_count": null,
   "id": "6d1a2154-1f55-400c-822a-c3dfd5af5093",
   "metadata": {},
   "outputs": [],
   "source": []
  },
  {
   "cell_type": "code",
   "execution_count": null,
   "id": "f11ccc56-b1f4-4d7b-b830-2a3c91ac5fd3",
   "metadata": {},
   "outputs": [],
   "source": []
  },
  {
   "cell_type": "code",
   "execution_count": null,
   "id": "2e793dcc-20ec-419e-baab-4b75b308ba0b",
   "metadata": {},
   "outputs": [],
   "source": [
    "# Episode 10: Don't Map Twitter"
   ]
  },
  {
   "cell_type": "code",
   "execution_count": null,
   "id": "8d4e4d3d-71a6-4fe7-8b30-542ea123b4ad",
   "metadata": {},
   "outputs": [],
   "source": []
  }
 ],
 "metadata": {
  "kernelspec": {
   "display_name": "Python 3 (ipykernel)",
   "language": "python",
   "name": "python3"
  },
  "language_info": {
   "codemirror_mode": {
    "name": "ipython",
    "version": 3
   },
   "file_extension": ".py",
   "mimetype": "text/x-python",
   "name": "python",
   "nbconvert_exporter": "python",
   "pygments_lexer": "ipython3",
   "version": "3.9.10"
  }
 },
 "nbformat": 4,
 "nbformat_minor": 5
}
