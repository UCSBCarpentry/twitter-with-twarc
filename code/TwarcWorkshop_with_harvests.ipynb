{
 "cells": [
  {
   "cell_type": "markdown",
   "id": "3b8988ea-176a-42c1-9826-2c125aba3a5e",
   "metadata": {},
   "source": [
    "# Twitter with twarc\n",
    "A UCSB original Carpentry workshop\n",
    "\n",
    "hashtag_gasprices.jsonl file was created as part of workshop prep. \n",
    "To run the workshop, run the code in the next cell.\n",
    "\n",
    "*After that, this version of the file will harvest and process all of the data for the workshop as it is written on 5/25/2021. \n",
    "\n",
    "- This notebook WILL consume twitter quota\n",
    "- It starts with the files that are in the setup instructions\n",
    "\n"
   ]
  },
  {
   "cell_type": "code",
   "execution_count": 1,
   "id": "1324c4e6-ab87-441e-bd4e-860eec5ccfe8",
   "metadata": {},
   "outputs": [],
   "source": [
    "# we made this file for you\n",
    "# ! twarc2 search \"#gasprices\" > raw_data/hashtag_gasprices.jsonl\n",
    "\n",
    "\n"
   ]
  },
  {
   "cell_type": "code",
   "execution_count": 2,
   "id": "35e9818e-0cc6-474e-b92b-28467ca18d4f",
   "metadata": {},
   "outputs": [
    {
     "name": "stdout",
     "output_type": "stream",
     "text": [
      "Requirement already satisfied: twarc-csv in /opt/conda/lib/python3.9/site-packages (0.5.2)\n",
      "Requirement already satisfied: pandas>=1.2.5 in /opt/conda/lib/python3.9/site-packages (from twarc-csv) (1.4.2)\n",
      "Requirement already satisfied: twarc>=2.9.5 in /opt/conda/lib/python3.9/site-packages (from twarc-csv) (2.10.4)\n",
      "Requirement already satisfied: more-itertools>=8.7.0 in /opt/conda/lib/python3.9/site-packages (from twarc-csv) (8.13.0)\n",
      "Requirement already satisfied: tqdm>=4.59.0 in /opt/conda/lib/python3.9/site-packages (from twarc-csv) (4.64.0)\n",
      "Requirement already satisfied: python-dateutil>=2.8.1 in /opt/conda/lib/python3.9/site-packages (from pandas>=1.2.5->twarc-csv) (2.8.2)\n",
      "Requirement already satisfied: pytz>=2020.1 in /opt/conda/lib/python3.9/site-packages (from pandas>=1.2.5->twarc-csv) (2022.1)\n",
      "Requirement already satisfied: numpy>=1.18.5 in /opt/conda/lib/python3.9/site-packages (from pandas>=1.2.5->twarc-csv) (1.22.3)\n",
      "Requirement already satisfied: humanize>=3.9 in /opt/conda/lib/python3.9/site-packages (from twarc>=2.9.5->twarc-csv) (4.1.0)\n",
      "Requirement already satisfied: requests-oauthlib>=1.3 in /opt/conda/lib/python3.9/site-packages (from twarc>=2.9.5->twarc-csv) (1.3.1)\n",
      "Requirement already satisfied: click<9,>=7 in /opt/conda/lib/python3.9/site-packages (from twarc>=2.9.5->twarc-csv) (8.1.3)\n",
      "Requirement already satisfied: click-config-file>=0.6 in /opt/conda/lib/python3.9/site-packages (from twarc>=2.9.5->twarc-csv) (0.6.0)\n",
      "Requirement already satisfied: click-plugins>=1 in /opt/conda/lib/python3.9/site-packages (from twarc>=2.9.5->twarc-csv) (1.1.1)\n",
      "Requirement already satisfied: configobj>=5.0.6 in /opt/conda/lib/python3.9/site-packages (from click-config-file>=0.6->twarc>=2.9.5->twarc-csv) (5.0.6)\n",
      "Requirement already satisfied: six>=1.5 in /opt/conda/lib/python3.9/site-packages (from python-dateutil>=2.8.1->pandas>=1.2.5->twarc-csv) (1.16.0)\n",
      "Requirement already satisfied: oauthlib>=3.0.0 in /opt/conda/lib/python3.9/site-packages (from requests-oauthlib>=1.3->twarc>=2.9.5->twarc-csv) (3.2.0)\n",
      "Requirement already satisfied: requests>=2.0.0 in /opt/conda/lib/python3.9/site-packages (from requests-oauthlib>=1.3->twarc>=2.9.5->twarc-csv) (2.27.1)\n",
      "Requirement already satisfied: urllib3<1.27,>=1.21.1 in /opt/conda/lib/python3.9/site-packages (from requests>=2.0.0->requests-oauthlib>=1.3->twarc>=2.9.5->twarc-csv) (1.26.9)\n",
      "Requirement already satisfied: idna<4,>=2.5 in /opt/conda/lib/python3.9/site-packages (from requests>=2.0.0->requests-oauthlib>=1.3->twarc>=2.9.5->twarc-csv) (3.3)\n",
      "Requirement already satisfied: charset-normalizer~=2.0.0 in /opt/conda/lib/python3.9/site-packages (from requests>=2.0.0->requests-oauthlib>=1.3->twarc>=2.9.5->twarc-csv) (2.0.12)\n",
      "Requirement already satisfied: certifi>=2017.4.17 in /opt/conda/lib/python3.9/site-packages (from requests>=2.0.0->requests-oauthlib>=1.3->twarc>=2.9.5->twarc-csv) (2021.10.8)\n",
      "Requirement already satisfied: emoji in /opt/conda/lib/python3.9/site-packages (1.7.0)\n"
     ]
    }
   ],
   "source": [
    "# administravia\n",
    "# upon re-start we need to install twarc2 and other extensions\n",
    "! pip install twarc-csv\n",
    "! pip install emoji"
   ]
  },
  {
   "cell_type": "markdown",
   "id": "e2b8339f-952b-498f-bc0f-a5eda41a38e0",
   "metadata": {},
   "source": [
    "# Episode 2\n"
   ]
  },
  {
   "cell_type": "code",
   "execution_count": 3,
   "id": "3d241c15-0219-49cd-a66d-21c0d6a9d533",
   "metadata": {},
   "outputs": [
    {
     "name": "stdout",
     "output_type": "stream",
     "text": [
      "hello world\n"
     ]
    }
   ],
   "source": [
    "# hashes are comments\n",
    "\n",
    "print('hello world')"
   ]
  },
  {
   "cell_type": "code",
   "execution_count": 4,
   "id": "3cbf7282-bf3d-4a51-ad72-008ccaef1a13",
   "metadata": {},
   "outputs": [
    {
     "name": "stdout",
     "output_type": "stream",
     "text": [
      "Usage: twarc2 [OPTIONS] COMMAND [ARGS]...\n",
      "\n",
      "  Collect data from the Twitter V2 API.\n",
      "\n",
      "Options:\n",
      "  --consumer-key TEXT         Twitter app consumer key (aka \"App Key\")\n",
      "  --consumer-secret TEXT      Twitter app consumer secret (aka \"App Secret\")\n",
      "  --access-token TEXT         Twitter app access token for user\n",
      "                              authentication.\n",
      "  --access-token-secret TEXT  Twitter app access token secret for user\n",
      "                              authentication.\n",
      "  --bearer-token TEXT         Twitter app access bearer token.\n",
      "  --app-auth / --user-auth    Use application authentication or user\n",
      "                              authentication. Some rate limits are higher with\n",
      "                              user authentication, but not all endpoints are\n",
      "                              supported.  [default: app-auth]\n",
      "  -l, --log TEXT\n",
      "  --verbose\n",
      "  --metadata / --no-metadata  Include/don't include metadata about when and\n",
      "                              how data was collected.  [default: metadata]\n",
      "  --config FILE               Read configuration from FILE.\n",
      "  --help                      Show this message and exit.\n",
      "\n",
      "Commands:\n",
      "  compliance-job  Create, retrieve and list batch compliance jobs for...\n",
      "  configure       Set up your Twitter app keys.\n",
      "  conversation    Retrieve a conversation thread using the tweet id.\n",
      "  conversations   Fetch the full conversation threads that the input...\n",
      "  counts          Return counts of tweets matching a query.\n",
      "  csv             Convert tweets to CSV.\n",
      "  dehydrate       Extract tweet or user IDs from a dataset.\n",
      "  flatten         \"Flatten\" tweets, or move expansions inline with tweet...\n",
      "  followers       Get the followers for a given user.\n",
      "  following       Get the users that a given user is following.\n",
      "  hashtags        Extract and count hashtags in Twitter v2 data.\n",
      "  hydrate         Hydrate tweet ids.\n",
      "  liked-tweets    Get the tweets liked by a specific user_id.\n",
      "  liking-users    Get the users that liked a specific tweet.\n",
      "  lists           Lists API support.\n",
      "  mentions        Retrieve max of 800 of the most recent tweets...\n",
      "  network         Generates a network graph of tweets as GEXF, GML, DOT,...\n",
      "  places          Search for places by place name, geo coordinates or ip...\n",
      "  quotes          Get the tweets that quote tweet the given tweet.\n",
      "  retweeted-by    Get the users that retweeted a specific tweet.\n",
      "  sample          Fetch tweets from the sample stream.\n",
      "  search          Search for tweets.\n",
      "  searches        Execute each search in the input file, one at a time.\n",
      "  stream          Fetch tweets from the live stream.\n",
      "  stream-rules    List, add and delete rules for your stream.\n",
      "  timeline        Retrieve recent tweets for the given user.\n",
      "  timelines       Fetch the timelines of every user in an input source of...\n",
      "  tweet           Look up a tweet using its tweet id or URL.\n",
      "  user            Get the profile data for a single user by either...\n",
      "  users           Get data for user ids or usernames.\n",
      "  version         Return the version of twarc that is installed.\n"
     ]
    }
   ],
   "source": [
    "# BASH commands start with a BANG!\n",
    "!twarc2 --help"
   ]
  },
  {
   "cell_type": "code",
   "execution_count": 5,
   "id": "d2ad701f-463e-40f9-958b-a09721e263d4",
   "metadata": {
    "tags": []
   },
   "outputs": [
    {
     "name": "stderr",
     "output_type": "stream",
     "text": [
      "/opt/conda/lib/python3.9/site-packages/tqdm/auto.py:22: TqdmWarning: IProgress not found. Please update jupyter and ipywidgets. See https://ipywidgets.readthedocs.io/en/stable/user_install.html\n",
      "  from .autonotebook import tqdm as notebook_tqdm\n"
     ]
    }
   ],
   "source": [
    "#  what libraries will we need to be loading in our notebook?\n",
    "#  we need to always distinguish between \n",
    "#  running BASH vs. running a line of python.\n",
    "\n",
    "import pandas\n",
    "import twarc_csv\n",
    "import textblob\n",
    "import nltk\n",
    "import os\n",
    "import emoji"
   ]
  },
  {
   "cell_type": "code",
   "execution_count": 6,
   "id": "df5f4739-6651-4fad-b521-190e8aa0028b",
   "metadata": {},
   "outputs": [],
   "source": [
    "# this will come into play for ep 8\n",
    "# !python -m textblob.download_corpora\n",
    "# nltk.download('stopwords')"
   ]
  },
  {
   "cell_type": "code",
   "execution_count": 7,
   "id": "2082bb24-2751-406c-a918-c8c41d14e7b1",
   "metadata": {},
   "outputs": [
    {
     "name": "stdout",
     "output_type": "stream",
     "text": [
      "/home/jovyan/twarc_run\n"
     ]
    }
   ],
   "source": [
    "# and of course, it's important to know where we are working\n",
    "# I can send a BASH command from my notebook with a !:\n",
    "!pwd"
   ]
  },
  {
   "cell_type": "code",
   "execution_count": 8,
   "id": "8098e978-172e-4949-a531-1a05fa43be25",
   "metadata": {},
   "outputs": [
    {
     "data": {
      "text/plain": [
       "'/home/jovyan/twarc_run'"
      ]
     },
     "execution_count": 8,
     "metadata": {},
     "output_type": "execute_result"
    }
   ],
   "source": [
    "# you can also do this with Python\n",
    "os.getcwd()"
   ]
  },
  {
   "cell_type": "code",
   "execution_count": 9,
   "id": "dc19b894-b858-4966-ae5e-e32bff6bde2e",
   "metadata": {},
   "outputs": [],
   "source": [
    "# we can change if we need\n",
    "# os.chdir(\".....\")"
   ]
  },
  {
   "cell_type": "code",
   "execution_count": 10,
   "id": "17a6e89d-7e91-4558-ae3f-aa1026554cef",
   "metadata": {},
   "outputs": [
    {
     "data": {
      "text/plain": [
       "'/home/jovyan/twarc_run'"
      ]
     },
     "execution_count": 10,
     "metadata": {},
     "output_type": "execute_result"
    }
   ],
   "source": [
    "os.getcwd()"
   ]
  },
  {
   "cell_type": "markdown",
   "id": "5913eea7-a65c-4505-b1c5-a846d7a98d23",
   "metadata": {},
   "source": [
    "## Running twarc\n",
    "Let's get the timeline of one of twarc's creators."
   ]
  },
  {
   "cell_type": "code",
   "execution_count": 11,
   "id": "222e98bb-b6fa-442e-b1e9-5f5b72e518e8",
   "metadata": {},
   "outputs": [
    {
     "name": "stdout",
     "output_type": "stream",
     "text": [
      "API limit of 3200 reached:  18%|█▉         | 3146/17680 [00:38<02:56, 82.19it/s]\n"
     ]
    }
   ],
   "source": [
    "!twarc2 timeline BergisJules > raw_data/bjules.jsonl"
   ]
  },
  {
   "cell_type": "markdown",
   "id": "4473db7c-3651-45f7-8c14-0f49b6c5c0f4",
   "metadata": {
    "tags": []
   },
   "source": [
    "### Challenge 1\n",
    "- Can you find the file called “bjules_flat.jsonl”?\n",
    "- How many tweets did you get from Bergis? (we can't tell without flattening or looking at the output)\n",
    "- Download a timeline for a person of your choice. How many tweets did you get? \n",
    "- What’s the oldest one?"
   ]
  },
  {
   "cell_type": "code",
   "execution_count": 12,
   "id": "bab10779-cc96-4ed0-9e47-2e8faac15d93",
   "metadata": {},
   "outputs": [
    {
     "name": "stdout",
     "output_type": "stream",
     "text": [
      "100%|█████████████████████████████████████████| 473/473 [00:06<00:00, 72.10it/s]\n",
      "    473  205817 2887298 output_data/ecodatasci_flat.jsonl\n"
     ]
    }
   ],
   "source": [
    "!twarc2 timeline ecodatasci > raw_data/ecodatasci.jsonl\n",
    "! twarc2 flatten raw_data/ecodatasci.jsonl > output_data/ecodatasci_flat.jsonl\n",
    "! wc output_data/ecodatasci_flat.jsonl"
   ]
  },
  {
   "cell_type": "markdown",
   "id": "4bbe2b98-3264-45bc-adc0-f6aa567718cd",
   "metadata": {
    "tags": []
   },
   "source": [
    "A straight harvest using search or stream doesn't need to be flattened \n",
    "to do our most basic analysis: wc. Do gas prices here?"
   ]
  },
  {
   "cell_type": "markdown",
   "id": "99766d53-53ea-4ef2-b201-2e58c89d411d",
   "metadata": {
    "tags": []
   },
   "source": [
    "## To flatten or not flatten"
   ]
  },
  {
   "cell_type": "markdown",
   "id": "586f4cbf-4741-44e2-a025-9968faf74e77",
   "metadata": {},
   "source": [
    "### Make your jsonl 1 tweet per line\n",
    "Flattening will let you do our most basic unix-y analysis, turn\n",
    "timelines into countable lists, and enable you to run twarc1\n",
    "utilities later on in the workshop"
   ]
  },
  {
   "cell_type": "code",
   "execution_count": 13,
   "id": "eaf04f84-943a-4d7b-a45e-d007e6b5abc4",
   "metadata": {},
   "outputs": [
    {
     "name": "stdout",
     "output_type": "stream",
     "text": [
      "100%|██████████████| Processed 8.96M/8.96M of input file [00:01<00:00, 6.31MB/s]\n"
     ]
    }
   ],
   "source": [
    "# timeline objects need to be flattened in order to be analyzed as tweets\n",
    "!twarc2 flatten raw_data/bjules.jsonl output_data/bjules_flat.jsonl"
   ]
  },
  {
   "cell_type": "markdown",
   "id": "08892a04-a2be-4353-b64c-43a628e5ae50",
   "metadata": {},
   "source": [
    "## Convert to csv"
   ]
  },
  {
   "cell_type": "code",
   "execution_count": 14,
   "id": "1b29144d-a627-4128-b54f-74439f37a917",
   "metadata": {},
   "outputs": [
    {
     "name": "stdout",
     "output_type": "stream",
     "text": [
      "100%|██████████████| Processed 8.96M/8.96M of input file [00:02<00:00, 3.63MB/s]\n",
      "\n",
      "ℹ️\n",
      "Parsed 3146 tweets objects from 33 lines in the input file.\n",
      "Wrote 3146 rows and output 74 columns in the CSV.\n",
      "\n"
     ]
    }
   ],
   "source": [
    "!twarc2 csv raw_data/bjules.jsonl output_data/bjules.csv"
   ]
  },
  {
   "cell_type": "markdown",
   "id": "0a8c4d85-fa2a-4e7d-9e7c-1fa1207d64fc",
   "metadata": {},
   "source": [
    "## When we look at bjules, we really do need to flatten it."
   ]
  },
  {
   "cell_type": "code",
   "execution_count": 15,
   "id": "bfc7ab7b-7099-4213-bf10-0d2f6a1825d8",
   "metadata": {},
   "outputs": [
    {
     "name": "stdout",
     "output_type": "stream",
     "text": [
      "     33  846052 9399605 raw_data/bjules.jsonl\n"
     ]
    }
   ],
   "source": [
    "! wc raw_data/bjules.jsonl"
   ]
  },
  {
   "cell_type": "markdown",
   "id": "05ca8093-2fc9-4600-baa4-b1ba9d591d46",
   "metadata": {},
   "source": [
    "33 lines doesn't mean 33 tweets. I suspected there was more there because\n",
    "I got an error message about hitting a limit of 3200. \n",
    "\n",
    "And below, the csv converter tells us there are 3143 tweets."
   ]
  },
  {
   "cell_type": "code",
   "execution_count": 16,
   "id": "c9015236-250a-4f85-83b0-296431fe65a2",
   "metadata": {},
   "outputs": [
    {
     "name": "stdout",
     "output_type": "stream",
     "text": [
      "100%|██████████████| Processed 8.96M/8.96M of input file [00:05<00:00, 1.65MB/s]\n",
      "\n",
      "ℹ️\n",
      "Parsed 3146 tweets objects from 33 lines in the input file.\n",
      "Wrote 3146 rows and output 74 columns in the CSV.\n",
      "\n"
     ]
    }
   ],
   "source": [
    "# convert\n",
    "!twarc2 csv raw_data/bjules.jsonl output_data/bjules.csv"
   ]
  },
  {
   "cell_type": "code",
   "execution_count": 17,
   "id": "15a20dad-f6eb-4236-be57-382907d70dd1",
   "metadata": {},
   "outputs": [
    {
     "name": "stdout",
     "output_type": "stream",
     "text": [
      "    3146  1719030 23286097 output_data/bjules_flat.jsonl\n"
     ]
    }
   ],
   "source": [
    "# once I flatten it, my wc will show the correct number\n",
    "! wc output_data/bjules_flat.jsonl"
   ]
  },
  {
   "cell_type": "code",
   "execution_count": 18,
   "id": "180e3158-2f08-4d08-8e9e-b4ab999e6ef1",
   "metadata": {
    "tags": []
   },
   "outputs": [
    {
     "name": "stdout",
     "output_type": "stream",
     "text": [
      "    3146  1719030 23286097 output_data/bjules_flat.jsonl\n",
      "    3147   579107 11549036 output_data/bjules.csv\n"
     ]
    }
   ],
   "source": [
    "# When I did this, I got 3166 tweets (as opposed to the 33 lines that the original file was)\n",
    "! wc output_data/bjules_flat.jsonl\n",
    "! wc output_data/bjules.csv"
   ]
  },
  {
   "cell_type": "markdown",
   "id": "d55e1a66-f173-4adb-898c-572f15c7bbcb",
   "metadata": {},
   "source": [
    "The csv is 1 line longer because it has column headers.\n",
    "twarc2 csv takes flat or unflattened Twitter data files."
   ]
  },
  {
   "cell_type": "markdown",
   "id": "2316f7fe-1614-404c-9516-897fd6415a7b",
   "metadata": {},
   "source": [
    "### Challenge 2"
   ]
  },
  {
   "cell_type": "code",
   "execution_count": 19,
   "id": "1284486c-4487-401d-b421-20c4597dfedd",
   "metadata": {},
   "outputs": [
    {
     "name": "stdout",
     "output_type": "stream",
     "text": [
      "100%|█████████████████████████████████████████| 473/473 [00:04<00:00, 97.04it/s]\n"
     ]
    }
   ],
   "source": [
    "# commented line is a solution to challenge 1\n",
    "!twarc2 timeline ecodatasci > raw_data/ecodatasci.jsonl\n",
    "\n",
    "!twarc2 flatten raw_data/ecodatasci.jsonl > output_data/ecodatasci_flat.jsonl\n",
    "!twarc2 csv output_data/ecodatasci_flat.jsonl > output_data/ecodatasci.csv \n",
    "ecodatasci_df = pandas.read_csv(\"output_data/ecodatasci.csv\")\n"
   ]
  },
  {
   "cell_type": "markdown",
   "id": "bbfccda8-2a25-44a3-bb9a-5bdbc2c6d6cb",
   "metadata": {},
   "source": [
    "# Episode 3: examining tweets\n",
    "What comes along with a tweet\n",
    "- Look at one_tweet in Jupyter viewer\n",
    "- Look at one_tweet with nano\n",
    "- Look at tweet as csv\n",
    "- Look at all the entities of a tweet"
   ]
  },
  {
   "cell_type": "code",
   "execution_count": 20,
   "id": "6d940a3f-f4d3-4278-bc08-187e9446225f",
   "metadata": {},
   "outputs": [
    {
     "name": "stdout",
     "output_type": "stream",
     "text": [
      "     108  3346644 36403969 raw_data/hashtag_gasprices.jsonl\n",
      "   10787  5007559 67146087 output_data/hashtag_gasprices_flat.jsonl\n"
     ]
    }
   ],
   "source": [
    "! wc raw_data/hashtag_gasprices.jsonl\n",
    "\n",
    "! twarc2 flatten raw_data/hashtag_gasprices.jsonl > output_data/hashtag_gasprices_flat.jsonl\n",
    "\n",
    "! wc output_data/hashtag_gasprices_flat.jsonl"
   ]
  },
  {
   "cell_type": "code",
   "execution_count": 21,
   "id": "dbcb8c10-7fe2-4d91-bc0a-7267ec5062cf",
   "metadata": {},
   "outputs": [
    {
     "name": "stdout",
     "output_type": "stream",
     "text": [
      "100%|██████████████| Processed 4.63k/4.63k of input file [00:00<00:00, 14.0MB/s]\n",
      "100%|██████████████| Processed 7.09k/7.09k of input file [00:00<00:00, 92.0kB/s]\n",
      "\n",
      "ℹ️\n",
      "Parsed 1 tweets objects from 1 lines in the input file.\n",
      "Wrote 1 rows and output 74 columns in the CSV.\n",
      "\n"
     ]
    }
   ],
   "source": [
    "### Let's look at a single tweet as a csv:\n",
    "!twarc2 flatten raw_data/one_tweet.jsonl output_data/one_tweet_flat.jsonl\n",
    "!twarc2 csv output_data/one_tweet_flat.jsonl output_data/one_tweet.csv\n",
    "\n",
    "\n"
   ]
  },
  {
   "cell_type": "markdown",
   "id": "bd53f615-8773-467b-86ee-2d57b16e357b",
   "metadata": {},
   "source": [
    "## first and last tweets"
   ]
  },
  {
   "cell_type": "code",
   "execution_count": 22,
   "id": "a6eecd58-ff34-48cd-83a4-31d8b6363694",
   "metadata": {},
   "outputs": [
    {
     "name": "stdout",
     "output_type": "stream",
     "text": [
      "cat: output_data/4_tweets.jsonl: No such file or directory\n"
     ]
    }
   ],
   "source": [
    "! cat output_data/4_tweets.jsonl"
   ]
  },
  {
   "cell_type": "code",
   "execution_count": 23,
   "id": "c5d96a0f-7ccf-4a4d-abaf-a52708f813f3",
   "metadata": {},
   "outputs": [],
   "source": [
    "!head -n 2 'output_data/bjules_flat.jsonl' > 'output_data/4_more_tweets.jsonl'\n",
    "!tail -n 2 'output_data/bjules_flat.jsonl' >> 'output_data/4_more_tweets.jsonl'"
   ]
  },
  {
   "cell_type": "markdown",
   "id": "ab4c78d8-42bd-458c-b618-d1c854fc265f",
   "metadata": {},
   "source": [
    "Can we go back further on his timeline by looking\n",
    "only for Bergis's original content?\n",
    "\n",
    "Not really--it looks like the limit applies to the search,\n",
    "not the results. \n"
   ]
  },
  {
   "cell_type": "markdown",
   "id": "ef7331bc-5adc-426d-bbf3-912abb0a36c8",
   "metadata": {},
   "source": [
    "But this does tell us that Jules is a prolific re-tweeter and/or replier. "
   ]
  },
  {
   "cell_type": "code",
   "execution_count": 24,
   "id": "1c2d22df-4f14-4350-903c-2974402e6245",
   "metadata": {},
   "outputs": [
    {
     "name": "stdout",
     "output_type": "stream",
     "text": [
      "wc: output_data/bjules_original_flat.jsonl: No such file or directory\n",
      "    3146  1719030 23286097 output_data/bjules_flat.jsonl\n"
     ]
    }
   ],
   "source": [
    "! wc output_data/bjules_original_flat.jsonl\n",
    "! wc output_data/bjules_flat.jsonl"
   ]
  },
  {
   "cell_type": "code",
   "execution_count": 25,
   "id": "d6f64d26-ae10-4deb-bf48-47f88b7db62f",
   "metadata": {},
   "outputs": [
    {
     "name": "stdout",
     "output_type": "stream",
     "text": [
      "Usage: twarc2 csv [OPTIONS] [INFILE] [OUTFILE]\n",
      "Try 'twarc2 csv --help' for help.\n",
      "\n",
      "Error: Invalid value for '[INFILE]': 'output_data/bjules_original_flat.jsonl': No such file or directory\n"
     ]
    }
   ],
   "source": [
    "# save it as a csv so we can easily see the original writings of Jules\n",
    "!twarc2 csv output_data/bjules_original_flat.jsonl output_data/bjules_original.csv"
   ]
  },
  {
   "cell_type": "code",
   "execution_count": 26,
   "id": "e147f437-858a-4c29-a9a9-bc52f41e7239",
   "metadata": {},
   "outputs": [],
   "source": [
    "!head -n 20 'output_data/hashtag_gasprices_flat.jsonl' > 'output_data/20_tweets.jsonl'\n",
    "!tail -n 20 'output_data/hashtag_gasprices_flat.jsonl' >> 'output_data/20_tweets.jsonl'"
   ]
  },
  {
   "cell_type": "markdown",
   "id": "29ab11e8-f109-4670-912c-3122ea2b8211",
   "metadata": {},
   "source": [
    "# Episode 4"
   ]
  },
  {
   "cell_type": "code",
   "execution_count": 27,
   "id": "ab6d14b4-0c5e-4553-9eb2-7d8d284476af",
   "metadata": {},
   "outputs": [
    {
     "name": "stdout",
     "output_type": "stream",
     "text": [
      "2022-05-18T22:28:15.000Z - 2022-05-18T23:00:00.000Z: 14\n",
      "2022-05-18T23:00:00.000Z - 2022-05-19T00:00:00.000Z: 14\n",
      "2022-05-19T00:00:00.000Z - 2022-05-19T01:00:00.000Z: 13\n",
      "2022-05-19T01:00:00.000Z - 2022-05-19T02:00:00.000Z: 7\n",
      "2022-05-19T02:00:00.000Z - 2022-05-19T03:00:00.000Z: 8\n",
      "2022-05-19T03:00:00.000Z - 2022-05-19T04:00:00.000Z: 11\n",
      "2022-05-19T04:00:00.000Z - 2022-05-19T05:00:00.000Z: 12\n",
      "2022-05-19T05:00:00.000Z - 2022-05-19T06:00:00.000Z: 9\n",
      "2022-05-19T06:00:00.000Z - 2022-05-19T07:00:00.000Z: 6\n",
      "2022-05-19T07:00:00.000Z - 2022-05-19T08:00:00.000Z: 2\n",
      "2022-05-19T08:00:00.000Z - 2022-05-19T09:00:00.000Z: 5\n",
      "2022-05-19T09:00:00.000Z - 2022-05-19T10:00:00.000Z: 4\n",
      "2022-05-19T10:00:00.000Z - 2022-05-19T11:00:00.000Z: 5\n",
      "2022-05-19T11:00:00.000Z - 2022-05-19T12:00:00.000Z: 5\n",
      "2022-05-19T12:00:00.000Z - 2022-05-19T13:00:00.000Z: 2\n",
      "2022-05-19T13:00:00.000Z - 2022-05-19T14:00:00.000Z: 11\n",
      "2022-05-19T14:00:00.000Z - 2022-05-19T15:00:00.000Z: 6\n",
      "2022-05-19T15:00:00.000Z - 2022-05-19T16:00:00.000Z: 13\n",
      "2022-05-19T16:00:00.000Z - 2022-05-19T17:00:00.000Z: 16\n",
      "2022-05-19T17:00:00.000Z - 2022-05-19T18:00:00.000Z: 22\n",
      "2022-05-19T18:00:00.000Z - 2022-05-19T19:00:00.000Z: 17\n",
      "2022-05-19T19:00:00.000Z - 2022-05-19T20:00:00.000Z: 15\n",
      "2022-05-19T20:00:00.000Z - 2022-05-19T21:00:00.000Z: 13\n",
      "2022-05-19T21:00:00.000Z - 2022-05-19T22:00:00.000Z: 10\n",
      "2022-05-19T22:00:00.000Z - 2022-05-19T23:00:00.000Z: 13\n",
      "2022-05-19T23:00:00.000Z - 2022-05-20T00:00:00.000Z: 7\n",
      "2022-05-20T00:00:00.000Z - 2022-05-20T01:00:00.000Z: 7\n",
      "2022-05-20T01:00:00.000Z - 2022-05-20T02:00:00.000Z: 15\n",
      "2022-05-20T02:00:00.000Z - 2022-05-20T03:00:00.000Z: 9\n",
      "2022-05-20T03:00:00.000Z - 2022-05-20T04:00:00.000Z: 12\n",
      "2022-05-20T04:00:00.000Z - 2022-05-20T05:00:00.000Z: 7\n",
      "2022-05-20T05:00:00.000Z - 2022-05-20T06:00:00.000Z: 5\n",
      "2022-05-20T06:00:00.000Z - 2022-05-20T07:00:00.000Z: 3\n",
      "2022-05-20T07:00:00.000Z - 2022-05-20T08:00:00.000Z: 4\n",
      "2022-05-20T08:00:00.000Z - 2022-05-20T09:00:00.000Z: 8\n",
      "2022-05-20T09:00:00.000Z - 2022-05-20T10:00:00.000Z: 9\n",
      "2022-05-20T10:00:00.000Z - 2022-05-20T11:00:00.000Z: 13\n",
      "2022-05-20T11:00:00.000Z - 2022-05-20T12:00:00.000Z: 10\n",
      "2022-05-20T12:00:00.000Z - 2022-05-20T13:00:00.000Z: 9\n",
      "2022-05-20T13:00:00.000Z - 2022-05-20T14:00:00.000Z: 10\n",
      "2022-05-20T14:00:00.000Z - 2022-05-20T15:00:00.000Z: 11\n",
      "2022-05-20T15:00:00.000Z - 2022-05-20T16:00:00.000Z: 11\n",
      "2022-05-20T16:00:00.000Z - 2022-05-20T17:00:00.000Z: 7\n",
      "2022-05-20T17:00:00.000Z - 2022-05-20T18:00:00.000Z: 28\n",
      "2022-05-20T18:00:00.000Z - 2022-05-20T19:00:00.000Z: 21\n",
      "2022-05-20T19:00:00.000Z - 2022-05-20T20:00:00.000Z: 24\n",
      "2022-05-20T20:00:00.000Z - 2022-05-20T21:00:00.000Z: 17\n",
      "2022-05-20T21:00:00.000Z - 2022-05-20T22:00:00.000Z: 28\n",
      "2022-05-20T22:00:00.000Z - 2022-05-20T23:00:00.000Z: 33\n",
      "2022-05-20T23:00:00.000Z - 2022-05-21T00:00:00.000Z: 41\n",
      "2022-05-21T00:00:00.000Z - 2022-05-21T01:00:00.000Z: 36\n",
      "2022-05-21T01:00:00.000Z - 2022-05-21T02:00:00.000Z: 27\n",
      "2022-05-21T02:00:00.000Z - 2022-05-21T03:00:00.000Z: 24\n",
      "2022-05-21T03:00:00.000Z - 2022-05-21T04:00:00.000Z: 18\n",
      "2022-05-21T04:00:00.000Z - 2022-05-21T05:00:00.000Z: 13\n",
      "2022-05-21T05:00:00.000Z - 2022-05-21T06:00:00.000Z: 13\n",
      "2022-05-21T06:00:00.000Z - 2022-05-21T07:00:00.000Z: 11\n",
      "2022-05-21T07:00:00.000Z - 2022-05-21T08:00:00.000Z: 8\n",
      "2022-05-21T08:00:00.000Z - 2022-05-21T09:00:00.000Z: 4\n",
      "2022-05-21T09:00:00.000Z - 2022-05-21T10:00:00.000Z: 4\n",
      "2022-05-21T10:00:00.000Z - 2022-05-21T11:00:00.000Z: 11\n",
      "2022-05-21T11:00:00.000Z - 2022-05-21T12:00:00.000Z: 17\n",
      "2022-05-21T12:00:00.000Z - 2022-05-21T13:00:00.000Z: 13\n",
      "2022-05-21T13:00:00.000Z - 2022-05-21T14:00:00.000Z: 20\n",
      "2022-05-21T14:00:00.000Z - 2022-05-21T15:00:00.000Z: 13\n",
      "2022-05-21T15:00:00.000Z - 2022-05-21T16:00:00.000Z: 18\n",
      "2022-05-21T16:00:00.000Z - 2022-05-21T17:00:00.000Z: 20\n",
      "2022-05-21T17:00:00.000Z - 2022-05-21T18:00:00.000Z: 20\n",
      "2022-05-21T18:00:00.000Z - 2022-05-21T19:00:00.000Z: 17\n",
      "2022-05-21T19:00:00.000Z - 2022-05-21T20:00:00.000Z: 14\n",
      "2022-05-21T20:00:00.000Z - 2022-05-21T21:00:00.000Z: 16\n",
      "2022-05-21T21:00:00.000Z - 2022-05-21T22:00:00.000Z: 24\n",
      "2022-05-21T22:00:00.000Z - 2022-05-21T23:00:00.000Z: 12\n",
      "2022-05-21T23:00:00.000Z - 2022-05-22T00:00:00.000Z: 11\n",
      "2022-05-22T00:00:00.000Z - 2022-05-22T01:00:00.000Z: 12\n",
      "2022-05-22T01:00:00.000Z - 2022-05-22T02:00:00.000Z: 16\n",
      "2022-05-22T02:00:00.000Z - 2022-05-22T03:00:00.000Z: 26\n",
      "2022-05-22T03:00:00.000Z - 2022-05-22T04:00:00.000Z: 20\n",
      "2022-05-22T04:00:00.000Z - 2022-05-22T05:00:00.000Z: 27\n",
      "2022-05-22T05:00:00.000Z - 2022-05-22T06:00:00.000Z: 17\n",
      "2022-05-22T06:00:00.000Z - 2022-05-22T07:00:00.000Z: 8\n",
      "2022-05-22T07:00:00.000Z - 2022-05-22T08:00:00.000Z: 4\n",
      "2022-05-22T08:00:00.000Z - 2022-05-22T09:00:00.000Z: 6\n",
      "2022-05-22T09:00:00.000Z - 2022-05-22T10:00:00.000Z: 2\n",
      "2022-05-22T10:00:00.000Z - 2022-05-22T11:00:00.000Z: 6\n",
      "2022-05-22T11:00:00.000Z - 2022-05-22T12:00:00.000Z: 5\n",
      "2022-05-22T12:00:00.000Z - 2022-05-22T13:00:00.000Z: 10\n",
      "2022-05-22T13:00:00.000Z - 2022-05-22T14:00:00.000Z: 9\n",
      "2022-05-22T14:00:00.000Z - 2022-05-22T15:00:00.000Z: 19\n",
      "2022-05-22T15:00:00.000Z - 2022-05-22T16:00:00.000Z: 6\n",
      "2022-05-22T16:00:00.000Z - 2022-05-22T17:00:00.000Z: 12\n",
      "2022-05-22T17:00:00.000Z - 2022-05-22T18:00:00.000Z: 16\n",
      "2022-05-22T18:00:00.000Z - 2022-05-22T19:00:00.000Z: 9\n",
      "2022-05-22T19:00:00.000Z - 2022-05-22T20:00:00.000Z: 35\n",
      "2022-05-22T20:00:00.000Z - 2022-05-22T21:00:00.000Z: 26\n",
      "2022-05-22T21:00:00.000Z - 2022-05-22T22:00:00.000Z: 31\n",
      "2022-05-22T22:00:00.000Z - 2022-05-22T23:00:00.000Z: 17\n",
      "2022-05-22T23:00:00.000Z - 2022-05-23T00:00:00.000Z: 13\n",
      "2022-05-23T00:00:00.000Z - 2022-05-23T01:00:00.000Z: 8\n",
      "2022-05-23T01:00:00.000Z - 2022-05-23T02:00:00.000Z: 15\n",
      "2022-05-23T02:00:00.000Z - 2022-05-23T03:00:00.000Z: 13\n",
      "2022-05-23T03:00:00.000Z - 2022-05-23T04:00:00.000Z: 11\n",
      "2022-05-23T04:00:00.000Z - 2022-05-23T05:00:00.000Z: 5\n",
      "2022-05-23T05:00:00.000Z - 2022-05-23T06:00:00.000Z: 11\n",
      "2022-05-23T06:00:00.000Z - 2022-05-23T07:00:00.000Z: 5\n",
      "2022-05-23T07:00:00.000Z - 2022-05-23T08:00:00.000Z: 4\n",
      "2022-05-23T08:00:00.000Z - 2022-05-23T09:00:00.000Z: 4\n",
      "2022-05-23T09:00:00.000Z - 2022-05-23T10:00:00.000Z: 3\n",
      "2022-05-23T10:00:00.000Z - 2022-05-23T11:00:00.000Z: 22\n",
      "2022-05-23T11:00:00.000Z - 2022-05-23T12:00:00.000Z: 5\n",
      "2022-05-23T12:00:00.000Z - 2022-05-23T13:00:00.000Z: 12\n",
      "2022-05-23T13:00:00.000Z - 2022-05-23T14:00:00.000Z: 14\n",
      "2022-05-23T14:00:00.000Z - 2022-05-23T15:00:00.000Z: 8\n",
      "2022-05-23T15:00:00.000Z - 2022-05-23T16:00:00.000Z: 18\n",
      "2022-05-23T16:00:00.000Z - 2022-05-23T17:00:00.000Z: 14\n",
      "2022-05-23T17:00:00.000Z - 2022-05-23T18:00:00.000Z: 19\n",
      "2022-05-23T18:00:00.000Z - 2022-05-23T19:00:00.000Z: 13\n",
      "2022-05-23T19:00:00.000Z - 2022-05-23T20:00:00.000Z: 18\n",
      "2022-05-23T20:00:00.000Z - 2022-05-23T21:00:00.000Z: 14\n",
      "2022-05-23T21:00:00.000Z - 2022-05-23T22:00:00.000Z: 14\n",
      "2022-05-23T22:00:00.000Z - 2022-05-23T23:00:00.000Z: 20\n",
      "2022-05-23T23:00:00.000Z - 2022-05-24T00:00:00.000Z: 36\n",
      "2022-05-24T00:00:00.000Z - 2022-05-24T01:00:00.000Z: 13\n",
      "2022-05-24T01:00:00.000Z - 2022-05-24T02:00:00.000Z: 13\n",
      "2022-05-24T02:00:00.000Z - 2022-05-24T03:00:00.000Z: 19\n",
      "2022-05-24T03:00:00.000Z - 2022-05-24T04:00:00.000Z: 14\n",
      "2022-05-24T04:00:00.000Z - 2022-05-24T05:00:00.000Z: 8\n",
      "2022-05-24T05:00:00.000Z - 2022-05-24T06:00:00.000Z: 9\n",
      "2022-05-24T06:00:00.000Z - 2022-05-24T07:00:00.000Z: 7\n",
      "2022-05-24T07:00:00.000Z - 2022-05-24T08:00:00.000Z: 4\n",
      "2022-05-24T08:00:00.000Z - 2022-05-24T09:00:00.000Z: 7\n",
      "2022-05-24T09:00:00.000Z - 2022-05-24T10:00:00.000Z: 2\n",
      "2022-05-24T10:00:00.000Z - 2022-05-24T11:00:00.000Z: 11\n",
      "2022-05-24T11:00:00.000Z - 2022-05-24T12:00:00.000Z: 5\n",
      "2022-05-24T12:00:00.000Z - 2022-05-24T13:00:00.000Z: 8\n",
      "2022-05-24T13:00:00.000Z - 2022-05-24T14:00:00.000Z: 12\n",
      "2022-05-24T14:00:00.000Z - 2022-05-24T15:00:00.000Z: 4\n",
      "2022-05-24T15:00:00.000Z - 2022-05-24T16:00:00.000Z: 10\n",
      "2022-05-24T16:00:00.000Z - 2022-05-24T17:00:00.000Z: 17\n",
      "2022-05-24T17:00:00.000Z - 2022-05-24T18:00:00.000Z: 17\n",
      "2022-05-24T18:00:00.000Z - 2022-05-24T19:00:00.000Z: 19\n",
      "2022-05-24T19:00:00.000Z - 2022-05-24T20:00:00.000Z: 17\n",
      "2022-05-24T20:00:00.000Z - 2022-05-24T21:00:00.000Z: 13\n",
      "2022-05-24T21:00:00.000Z - 2022-05-24T22:00:00.000Z: 38\n",
      "2022-05-24T22:00:00.000Z - 2022-05-24T23:00:00.000Z: 22\n",
      "2022-05-24T23:00:00.000Z - 2022-05-25T00:00:00.000Z: 18\n",
      "2022-05-25T00:00:00.000Z - 2022-05-25T01:00:00.000Z: 13\n",
      "2022-05-25T01:00:00.000Z - 2022-05-25T02:00:00.000Z: 13\n",
      "2022-05-25T02:00:00.000Z - 2022-05-25T03:00:00.000Z: 8\n",
      "2022-05-25T03:00:00.000Z - 2022-05-25T04:00:00.000Z: 7\n",
      "2022-05-25T04:00:00.000Z - 2022-05-25T05:00:00.000Z: 9\n",
      "2022-05-25T05:00:00.000Z - 2022-05-25T06:00:00.000Z: 14\n",
      "2022-05-25T06:00:00.000Z - 2022-05-25T07:00:00.000Z: 12\n",
      "2022-05-25T07:00:00.000Z - 2022-05-25T08:00:00.000Z: 9\n",
      "2022-05-25T08:00:00.000Z - 2022-05-25T09:00:00.000Z: 7\n",
      "2022-05-25T09:00:00.000Z - 2022-05-25T10:00:00.000Z: 3\n",
      "2022-05-25T10:00:00.000Z - 2022-05-25T11:00:00.000Z: 13\n",
      "2022-05-25T11:00:00.000Z - 2022-05-25T12:00:00.000Z: 3\n",
      "2022-05-25T12:00:00.000Z - 2022-05-25T13:00:00.000Z: 8\n",
      "2022-05-25T13:00:00.000Z - 2022-05-25T14:00:00.000Z: 3\n",
      "2022-05-25T14:00:00.000Z - 2022-05-25T15:00:00.000Z: 9\n",
      "2022-05-25T15:00:00.000Z - 2022-05-25T16:00:00.000Z: 11\n",
      "2022-05-25T16:00:00.000Z - 2022-05-25T17:00:00.000Z: 19\n",
      "2022-05-25T17:00:00.000Z - 2022-05-25T18:00:00.000Z: 11\n",
      "2022-05-25T18:00:00.000Z - 2022-05-25T19:00:00.000Z: 16\n",
      "2022-05-25T19:00:00.000Z - 2022-05-25T20:00:00.000Z: 10\n",
      "2022-05-25T20:00:00.000Z - 2022-05-25T21:00:00.000Z: 21\n",
      "2022-05-25T21:00:00.000Z - 2022-05-25T22:00:00.000Z: 14\n",
      "2022-05-25T22:00:00.000Z - 2022-05-25T22:28:15.000Z: 7\n",
      "\u001b[32m\n",
      "Total Tweets: 2,191\n",
      "\u001b[0m\n"
     ]
    }
   ],
   "source": [
    "# fishing around for good searches\n",
    "# you can count without harvesting.\n",
    "# kittens is an evergreen search. you should always see at lease\n",
    "# dozens of mentions per hour\n",
    "!twarc2 counts --text \"ucsb\""
   ]
  },
  {
   "cell_type": "code",
   "execution_count": 28,
   "id": "048d730c-cbbf-4b99-b459-d3a152cca4e1",
   "metadata": {},
   "outputs": [
    {
     "name": "stdout",
     "output_type": "stream",
     "text": [
      "2022-05-18T22:28:16.000Z - 2022-05-19T00:00:00.000Z: 28\n",
      "2022-05-19T00:00:00.000Z - 2022-05-20T00:00:00.000Z: 232\n",
      "2022-05-20T00:00:00.000Z - 2022-05-21T00:00:00.000Z: 342\n",
      "2022-05-21T00:00:00.000Z - 2022-05-22T00:00:00.000Z: 384\n",
      "2022-05-22T00:00:00.000Z - 2022-05-23T00:00:00.000Z: 352\n",
      "2022-05-23T00:00:00.000Z - 2022-05-24T00:00:00.000Z: 306\n",
      "2022-05-24T00:00:00.000Z - 2022-05-25T00:00:00.000Z: 307\n",
      "2022-05-25T00:00:00.000Z - 2022-05-25T22:28:16.000Z: 240\n",
      "\u001b[32m\n",
      "Total Tweets: 2,191\n",
      "\u001b[0m\n",
      "2022-05-18T22:28:18.000Z - 2022-05-19T00:00:00.000Z: 28\n",
      "2022-05-19T00:00:00.000Z - 2022-05-20T00:00:00.000Z: 232\n",
      "2022-05-20T00:00:00.000Z - 2022-05-21T00:00:00.000Z: 342\n",
      "2022-05-21T00:00:00.000Z - 2022-05-22T00:00:00.000Z: 384\n",
      "2022-05-22T00:00:00.000Z - 2022-05-23T00:00:00.000Z: 352\n",
      "2022-05-23T00:00:00.000Z - 2022-05-24T00:00:00.000Z: 306\n",
      "2022-05-24T00:00:00.000Z - 2022-05-25T00:00:00.000Z: 307\n",
      "2022-05-25T00:00:00.000Z - 2022-05-25T22:28:18.000Z: 240\n",
      "\u001b[32m\n",
      "Total Tweets: 2,191\n",
      "\u001b[0m\n",
      "2022-05-18T22:28:20.000Z - 2022-05-19T00:00:00.000Z: 28\n",
      "2022-05-19T00:00:00.000Z - 2022-05-20T00:00:00.000Z: 232\n",
      "2022-05-20T00:00:00.000Z - 2022-05-21T00:00:00.000Z: 342\n",
      "2022-05-21T00:00:00.000Z - 2022-05-22T00:00:00.000Z: 384\n",
      "2022-05-22T00:00:00.000Z - 2022-05-23T00:00:00.000Z: 352\n",
      "2022-05-23T00:00:00.000Z - 2022-05-24T00:00:00.000Z: 306\n",
      "2022-05-24T00:00:00.000Z - 2022-05-25T00:00:00.000Z: 307\n",
      "2022-05-25T00:00:00.000Z - 2022-05-25T22:28:20.000Z: 240\n",
      "\u001b[32m\n",
      "Total Tweets: 2,191\n",
      "\u001b[0m\n"
     ]
    }
   ],
   "source": [
    "# granularity makes the ouput shorter\n",
    "# the twitter api is not case sensitive\n",
    "\n",
    "!twarc2 counts --granularity \"day\" --text \"(UCSB)\"\n",
    "!twarc2 counts --granularity \"day\" --text \"(ucsb)\"\n",
    "!twarc2 counts --granularity \"day\" --text \"(ucsb OR UCSB)\""
   ]
  },
  {
   "cell_type": "code",
   "execution_count": 29,
   "id": "be3bd639-6118-4983-bb16-1ff7fd3999de",
   "metadata": {},
   "outputs": [
    {
     "name": "stdout",
     "output_type": "stream",
     "text": [
      "2022-05-18T22:28:22.000Z - 2022-05-19T00:00:00.000Z: 1,164\n",
      "2022-05-19T00:00:00.000Z - 2022-05-20T00:00:00.000Z: 18,920\n",
      "2022-05-20T00:00:00.000Z - 2022-05-21T00:00:00.000Z: 16,036\n",
      "2022-05-21T00:00:00.000Z - 2022-05-22T00:00:00.000Z: 17,466\n",
      "2022-05-22T00:00:00.000Z - 2022-05-23T00:00:00.000Z: 12,625\n",
      "2022-05-23T00:00:00.000Z - 2022-05-24T00:00:00.000Z: 12,384\n",
      "2022-05-24T00:00:00.000Z - 2022-05-25T00:00:00.000Z: 18,578\n",
      "2022-05-25T00:00:00.000Z - 2022-05-25T22:28:22.000Z: 14,272\n",
      "\u001b[32m\n",
      "Total Tweets: 111,445\n",
      "\u001b[0m\n",
      "2022-05-18T22:28:23.000Z - 2022-05-19T00:00:00.000Z: 1,164\n",
      "2022-05-19T00:00:00.000Z - 2022-05-20T00:00:00.000Z: 18,918\n",
      "2022-05-20T00:00:00.000Z - 2022-05-21T00:00:00.000Z: 16,037\n",
      "2022-05-21T00:00:00.000Z - 2022-05-22T00:00:00.000Z: 17,465\n",
      "2022-05-22T00:00:00.000Z - 2022-05-23T00:00:00.000Z: 12,625\n",
      "2022-05-23T00:00:00.000Z - 2022-05-24T00:00:00.000Z: 12,381\n",
      "2022-05-24T00:00:00.000Z - 2022-05-25T00:00:00.000Z: 18,579\n",
      "2022-05-25T00:00:00.000Z - 2022-05-25T22:28:23.000Z: 14,271\n",
      "\u001b[32m\n",
      "Total Tweets: 111,440\n",
      "\u001b[0m\n"
     ]
    }
   ],
   "source": [
    "## hashtags come along with strings. NOT vice versa\n",
    "!twarc2 counts --text \"(Poker OR poker)\" --granularity \"day\"\n",
    "!twarc2 counts --text \"(Poker OR #poker)\" --granularity \"day\"\n",
    "\n"
   ]
  },
  {
   "cell_type": "code",
   "execution_count": 30,
   "id": "5e89d8a8-ecf7-498d-8f45-38f783ebf2d2",
   "metadata": {},
   "outputs": [
    {
     "name": "stdout",
     "output_type": "stream",
     "text": [
      "2022-05-18T22:28:25.000Z - 2022-05-19T00:00:00.000Z: 3,288\n",
      "2022-05-19T00:00:00.000Z - 2022-05-20T00:00:00.000Z: 55,893\n",
      "2022-05-20T00:00:00.000Z - 2022-05-21T00:00:00.000Z: 48,813\n",
      "2022-05-21T00:00:00.000Z - 2022-05-22T00:00:00.000Z: 43,010\n",
      "2022-05-22T00:00:00.000Z - 2022-05-23T00:00:00.000Z: 46,567\n",
      "2022-05-23T00:00:00.000Z - 2022-05-24T00:00:00.000Z: 45,246\n",
      "2022-05-24T00:00:00.000Z - 2022-05-25T00:00:00.000Z: 82,755\n",
      "2022-05-25T00:00:00.000Z - 2022-05-25T22:28:25.000Z: 51,695\n",
      "\u001b[32m\n",
      "Total Tweets: 377,267\n",
      "\u001b[0m\n",
      "2022-05-18T22:28:27.000Z - 2022-05-19T00:00:00.000Z: 4,295\n",
      "2022-05-19T00:00:00.000Z - 2022-05-20T00:00:00.000Z: 54,671\n",
      "2022-05-20T00:00:00.000Z - 2022-05-21T00:00:00.000Z: 63,133\n",
      "2022-05-21T00:00:00.000Z - 2022-05-22T00:00:00.000Z: 55,612\n",
      "2022-05-22T00:00:00.000Z - 2022-05-23T00:00:00.000Z: 76,655\n",
      "2022-05-23T00:00:00.000Z - 2022-05-24T00:00:00.000Z: 64,778\n",
      "2022-05-24T00:00:00.000Z - 2022-05-25T00:00:00.000Z: 57,482\n",
      "2022-05-25T00:00:00.000Z - 2022-05-25T22:28:27.000Z: 60,180\n",
      "\u001b[32m\n",
      "Total Tweets: 436,806\n",
      "\u001b[0m\n",
      "2022-05-18T22:28:28.000Z - 2022-05-19T00:00:00.000Z: 8,974\n",
      "2022-05-19T00:00:00.000Z - 2022-05-20T00:00:00.000Z: 85,031\n",
      "2022-05-20T00:00:00.000Z - 2022-05-21T00:00:00.000Z: 93,655\n",
      "2022-05-21T00:00:00.000Z - 2022-05-22T00:00:00.000Z: 118,203\n",
      "2022-05-22T00:00:00.000Z - 2022-05-23T00:00:00.000Z: 83,007\n",
      "2022-05-23T00:00:00.000Z - 2022-05-24T00:00:00.000Z: 85,594\n",
      "2022-05-24T00:00:00.000Z - 2022-05-25T00:00:00.000Z: 99,903\n",
      "2022-05-25T00:00:00.000Z - 2022-05-25T22:28:28.000Z: 85,512\n",
      "\u001b[32m\n",
      "Total Tweets: 659,879\n",
      "\u001b[0m\n",
      "2022-05-18T22:28:30.000Z - 2022-05-19T00:00:00.000Z: 22,597\n",
      "2022-05-19T00:00:00.000Z - 2022-05-20T00:00:00.000Z: 387,555\n",
      "2022-05-20T00:00:00.000Z - 2022-05-21T00:00:00.000Z: 387,732\n",
      "2022-05-21T00:00:00.000Z - 2022-05-22T00:00:00.000Z: 444,743\n",
      "2022-05-22T00:00:00.000Z - 2022-05-23T00:00:00.000Z: 585,277\n",
      "2022-05-23T00:00:00.000Z - 2022-05-24T00:00:00.000Z: 373,426\n",
      "2022-05-24T00:00:00.000Z - 2022-05-25T00:00:00.000Z: 354,423\n",
      "2022-05-25T00:00:00.000Z - 2022-05-25T22:28:30.000Z: 336,737\n",
      "\u001b[32m\n",
      "Total Tweets: 2,892,490\n",
      "\u001b[0m\n"
     ]
    }
   ],
   "source": [
    "!twarc2 counts --text \"(Golf)\" --granularity \"day\"\n",
    "!twarc2 counts --text \"(Basketball)\" --granularity \"day\"\n",
    "!twarc2 counts --text \"(Baseball)\" --granularity \"day\"\n",
    "!twarc2 counts --text \"(Football OR futbol)\" --granularity \"day\""
   ]
  },
  {
   "cell_type": "code",
   "execution_count": 31,
   "id": "5443c1c7-0da2-4ad9-82fd-1e9b2b377a72",
   "metadata": {},
   "outputs": [
    {
     "name": "stdout",
     "output_type": "stream",
     "text": [
      "2022-05-18T22:28:32.000Z - 2022-05-19T00:00:00.000Z: 15,780\n",
      "2022-05-19T00:00:00.000Z - 2022-05-20T00:00:00.000Z: 226,051\n",
      "2022-05-20T00:00:00.000Z - 2022-05-21T00:00:00.000Z: 216,973\n",
      "2022-05-21T00:00:00.000Z - 2022-05-22T00:00:00.000Z: 220,105\n",
      "2022-05-22T00:00:00.000Z - 2022-05-23T00:00:00.000Z: 226,958\n",
      "2022-05-23T00:00:00.000Z - 2022-05-24T00:00:00.000Z: 210,692\n",
      "2022-05-24T00:00:00.000Z - 2022-05-25T00:00:00.000Z: 219,148\n",
      "2022-05-25T00:00:00.000Z - 2022-05-25T22:28:32.000Z: 189,959\n",
      "\u001b[32m\n",
      "Total Tweets: 1,525,666\n",
      "\u001b[0m\n",
      "2022-05-18T22:28:34.000Z - 2022-05-19T00:00:00.000Z: 20,640\n",
      "2022-05-19T00:00:00.000Z - 2022-05-20T00:00:00.000Z: 355,159\n",
      "2022-05-20T00:00:00.000Z - 2022-05-21T00:00:00.000Z: 314,793\n",
      "2022-05-21T00:00:00.000Z - 2022-05-22T00:00:00.000Z: 287,581\n",
      "2022-05-22T00:00:00.000Z - 2022-05-23T00:00:00.000Z: 299,186\n",
      "2022-05-23T00:00:00.000Z - 2022-05-24T00:00:00.000Z: 305,661\n",
      "2022-05-24T00:00:00.000Z - 2022-05-25T00:00:00.000Z: 330,011\n",
      "2022-05-25T00:00:00.000Z - 2022-05-25T22:28:34.000Z: 281,114\n",
      "\u001b[32m\n",
      "Total Tweets: 2,194,145\n",
      "\u001b[0m\n",
      "2022-05-18T22:28:36.000Z - 2022-05-19T00:00:00.000Z: 58,513\n",
      "2022-05-19T00:00:00.000Z - 2022-05-20T00:00:00.000Z: 901,699\n",
      "2022-05-20T00:00:00.000Z - 2022-05-21T00:00:00.000Z: 997,062\n",
      "2022-05-21T00:00:00.000Z - 2022-05-22T00:00:00.000Z: 886,194\n",
      "2022-05-22T00:00:00.000Z - 2022-05-23T00:00:00.000Z: 879,136\n",
      "2022-05-23T00:00:00.000Z - 2022-05-24T00:00:00.000Z: 958,493\n",
      "2022-05-24T00:00:00.000Z - 2022-05-25T00:00:00.000Z: 1,033,559\n",
      "2022-05-25T00:00:00.000Z - 2022-05-25T22:28:36.000Z: 950,747\n",
      "\u001b[32m\n",
      "Total Tweets: 6,665,403\n",
      "\u001b[0m\n",
      "2022-05-18T22:28:38.000Z - 2022-05-19T00:00:00.000Z: 113,747\n",
      "2022-05-19T00:00:00.000Z - 2022-05-20T00:00:00.000Z: 1,895,368\n",
      "2022-05-20T00:00:00.000Z - 2022-05-21T00:00:00.000Z: 2,014,535\n",
      "2022-05-21T00:00:00.000Z - 2022-05-22T00:00:00.000Z: 1,676,795\n",
      "2022-05-22T00:00:00.000Z - 2022-05-23T00:00:00.000Z: 1,735,386\n",
      "2022-05-23T00:00:00.000Z - 2022-05-24T00:00:00.000Z: 1,776,196\n",
      "2022-05-24T00:00:00.000Z - 2022-05-25T00:00:00.000Z: 1,851,770\n",
      "2022-05-25T00:00:00.000Z - 2022-05-25T22:28:38.000Z: 2,217,316\n",
      "\u001b[32m\n",
      "Total Tweets: 13,281,113\n",
      "\u001b[0m\n",
      "2022-05-18T22:28:40.000Z - 2022-05-19T00:00:00.000Z: 227,235\n",
      "2022-05-19T00:00:00.000Z - 2022-05-20T00:00:00.000Z: 3,927,238\n",
      "2022-05-20T00:00:00.000Z - 2022-05-21T00:00:00.000Z: 4,050,708\n",
      "2022-05-21T00:00:00.000Z - 2022-05-22T00:00:00.000Z: 3,635,213\n",
      "2022-05-22T00:00:00.000Z - 2022-05-23T00:00:00.000Z: 3,755,290\n",
      "2022-05-23T00:00:00.000Z - 2022-05-24T00:00:00.000Z: 3,807,174\n",
      "2022-05-24T00:00:00.000Z - 2022-05-25T00:00:00.000Z: 3,820,469\n",
      "2022-05-25T00:00:00.000Z - 2022-05-25T22:28:40.000Z: 3,706,767\n",
      "\u001b[32m\n",
      "Total Tweets: 26,930,094\n",
      "\u001b[0m\n"
     ]
    }
   ],
   "source": [
    "## What's a lot?\n",
    "!twarc2 counts --text \"dog\" --granularity \"day\"\n",
    "!twarc2 counts --text \"cat\" --granularity \"day\"\n",
    "!twarc2 counts --text \"amazon\" --granularity \"day\"\n",
    "!twarc2 counts --text \"right\" --granularity \"day\"\n",
    "!twarc2 counts --text \"good\" --granularity \"day\"\n"
   ]
  },
  {
   "cell_type": "code",
   "execution_count": 32,
   "id": "021f95fb-293d-459c-9afd-59d624efa865",
   "metadata": {},
   "outputs": [
    {
     "name": "stdout",
     "output_type": "stream",
     "text": [
      "2022-05-18T22:28:43.000Z - 2022-05-19T00:00:00.000Z: 28\n",
      "2022-05-19T00:00:00.000Z - 2022-05-20T00:00:00.000Z: 232\n",
      "2022-05-20T00:00:00.000Z - 2022-05-21T00:00:00.000Z: 342\n",
      "2022-05-21T00:00:00.000Z - 2022-05-22T00:00:00.000Z: 384\n",
      "2022-05-22T00:00:00.000Z - 2022-05-23T00:00:00.000Z: 352\n",
      "2022-05-23T00:00:00.000Z - 2022-05-24T00:00:00.000Z: 306\n",
      "2022-05-24T00:00:00.000Z - 2022-05-25T00:00:00.000Z: 307\n",
      "2022-05-25T00:00:00.000Z - 2022-05-25T22:28:43.000Z: 240\n",
      "\u001b[32m\n",
      "Total Tweets: 2,191\n",
      "\u001b[0m\n",
      "2022-05-18T22:28:45.000Z - 2022-05-19T00:00:00.000Z: 1\n",
      "2022-05-19T00:00:00.000Z - 2022-05-20T00:00:00.000Z: 11\n",
      "2022-05-20T00:00:00.000Z - 2022-05-21T00:00:00.000Z: 14\n",
      "2022-05-21T00:00:00.000Z - 2022-05-22T00:00:00.000Z: 6\n",
      "2022-05-22T00:00:00.000Z - 2022-05-23T00:00:00.000Z: 3\n",
      "2022-05-23T00:00:00.000Z - 2022-05-24T00:00:00.000Z: 14\n",
      "2022-05-24T00:00:00.000Z - 2022-05-25T00:00:00.000Z: 16\n",
      "2022-05-25T00:00:00.000Z - 2022-05-25T22:28:45.000Z: 5\n",
      "\u001b[32m\n",
      "Total Tweets: 70\n",
      "\u001b[0m\n",
      "2022-05-18T22:28:46.000Z - 2022-05-19T00:00:00.000Z: 28\n",
      "2022-05-19T00:00:00.000Z - 2022-05-20T00:00:00.000Z: 232\n",
      "2022-05-20T00:00:00.000Z - 2022-05-21T00:00:00.000Z: 342\n",
      "2022-05-21T00:00:00.000Z - 2022-05-22T00:00:00.000Z: 384\n",
      "2022-05-22T00:00:00.000Z - 2022-05-23T00:00:00.000Z: 352\n",
      "2022-05-23T00:00:00.000Z - 2022-05-24T00:00:00.000Z: 306\n",
      "2022-05-24T00:00:00.000Z - 2022-05-25T00:00:00.000Z: 307\n",
      "2022-05-25T00:00:00.000Z - 2022-05-25T22:28:46.000Z: 240\n",
      "\u001b[32m\n",
      "Total Tweets: 2,191\n",
      "\u001b[0m\n"
     ]
    }
   ],
   "source": [
    "# search for hashtags when you really want hashtags. \n",
    "# search for a string returns both text and hashtage (an OR)\n",
    "# NOT case sensitive\n",
    "!twarc2 counts --granularity \"day\" --text \"(#UCSB OR UCSB OR ucsb)\"\n",
    "!twarc2 counts --granularity \"day\" --text \"(#ucsb)\"\n",
    "!twarc2 counts --granularity \"day\" --text \"(UCSB)\""
   ]
  },
  {
   "cell_type": "markdown",
   "id": "6dcb421b-cf37-4cd4-8c1a-b9bf7a9265f2",
   "metadata": {},
   "source": [
    "## Pipeline"
   ]
  },
  {
   "cell_type": "code",
   "execution_count": 33,
   "id": "abc52493-cf69-4298-8617-515a581ead59",
   "metadata": {},
   "outputs": [
    {
     "name": "stdout",
     "output_type": "stream",
     "text": [
      "Set --limit of 500 reached:  15%|█▊          | 500/3280 [00:05<00:28, 96.25it/s]\n",
      "100%|██████████████| Processed 1.19M/1.19M of input file [00:00<00:00, 6.58MB/s]\n",
      "100%|██████████████| Processed 2.57M/2.57M of input file [00:00<00:00, 5.45MB/s]\n",
      "\n",
      "ℹ️\n",
      "Parsed 500 tweets objects from 500 lines in the input file.\n",
      "Wrote 500 rows and output 74 columns in the CSV.\n",
      "\n"
     ]
    }
   ],
   "source": [
    "## a SFW timeline\n",
    "!twarc2 timeline --limit 500 ucsblibrary raw_data/ucsblib_timeline.jsonl\n",
    "\n",
    "!twarc2 flatten raw_data/ucsblib_timeline.jsonl output_data/ucsblib_timeline_flat.jsonl\n",
    "!twarc2 csv output_data/ucsblib_timeline_flat.jsonl output_data/ucsblib_timeline_flat.csv\n",
    "library_timeline_df = pandas.read_csv(\"output_data/ucsblib_timeline_flat.csv\")"
   ]
  },
  {
   "cell_type": "code",
   "execution_count": 34,
   "id": "3dea8f85-4ef5-43ac-801d-178b4817eff0",
   "metadata": {},
   "outputs": [],
   "source": [
    "ucsblib_timeline_df = pandas.read_csv(\"output_data/ucsblib_timeline_flat.csv\")"
   ]
  },
  {
   "cell_type": "code",
   "execution_count": 35,
   "id": "e22b3154-3d28-483e-83f4-35fc4623c630",
   "metadata": {},
   "outputs": [
    {
     "data": {
      "text/plain": [
       "500"
      ]
     },
     "execution_count": 35,
     "metadata": {},
     "output_type": "execute_result"
    }
   ],
   "source": [
    "# confirm the dataframe's existance\n",
    "len(ucsblib_timeline_df)"
   ]
  },
  {
   "cell_type": "code",
   "execution_count": 36,
   "id": "cfc06081-ef7c-4122-b7c0-0901ca4a2dff",
   "metadata": {},
   "outputs": [
    {
     "data": {
      "text/plain": [
       "['id',\n",
       " 'conversation_id',\n",
       " 'referenced_tweets.replied_to.id',\n",
       " 'referenced_tweets.retweeted.id',\n",
       " 'referenced_tweets.quoted.id',\n",
       " 'author_id',\n",
       " 'in_reply_to_user_id',\n",
       " 'retweeted_user_id',\n",
       " 'quoted_user_id',\n",
       " 'created_at',\n",
       " 'text',\n",
       " 'lang',\n",
       " 'source',\n",
       " 'public_metrics.like_count',\n",
       " 'public_metrics.quote_count',\n",
       " 'public_metrics.reply_count',\n",
       " 'public_metrics.retweet_count',\n",
       " 'reply_settings',\n",
       " 'possibly_sensitive',\n",
       " 'withheld.scope',\n",
       " 'withheld.copyright',\n",
       " 'withheld.country_codes',\n",
       " 'entities.annotations',\n",
       " 'entities.cashtags',\n",
       " 'entities.hashtags',\n",
       " 'entities.mentions',\n",
       " 'entities.urls',\n",
       " 'context_annotations',\n",
       " 'attachments.media',\n",
       " 'attachments.media_keys',\n",
       " 'attachments.poll.duration_minutes',\n",
       " 'attachments.poll.end_datetime',\n",
       " 'attachments.poll.id',\n",
       " 'attachments.poll.options',\n",
       " 'attachments.poll.voting_status',\n",
       " 'attachments.poll_ids',\n",
       " 'author.id',\n",
       " 'author.created_at',\n",
       " 'author.username',\n",
       " 'author.name',\n",
       " 'author.description',\n",
       " 'author.entities.description.cashtags',\n",
       " 'author.entities.description.hashtags',\n",
       " 'author.entities.description.mentions',\n",
       " 'author.entities.description.urls',\n",
       " 'author.entities.url.urls',\n",
       " 'author.location',\n",
       " 'author.pinned_tweet_id',\n",
       " 'author.profile_image_url',\n",
       " 'author.protected',\n",
       " 'author.public_metrics.followers_count',\n",
       " 'author.public_metrics.following_count',\n",
       " 'author.public_metrics.listed_count',\n",
       " 'author.public_metrics.tweet_count',\n",
       " 'author.url',\n",
       " 'author.verified',\n",
       " 'author.withheld.scope',\n",
       " 'author.withheld.copyright',\n",
       " 'author.withheld.country_codes',\n",
       " 'geo.coordinates.coordinates',\n",
       " 'geo.coordinates.type',\n",
       " 'geo.country',\n",
       " 'geo.country_code',\n",
       " 'geo.full_name',\n",
       " 'geo.geo.bbox',\n",
       " 'geo.geo.type',\n",
       " 'geo.id',\n",
       " 'geo.name',\n",
       " 'geo.place_id',\n",
       " 'geo.place_type',\n",
       " '__twarc.retrieved_at',\n",
       " '__twarc.url',\n",
       " '__twarc.version',\n",
       " 'Unnamed: 73']"
      ]
     },
     "execution_count": 36,
     "metadata": {},
     "output_type": "execute_result"
    }
   ],
   "source": [
    "# and view all column headers\n",
    "list(ucsblib_timeline_df.columns)"
   ]
  },
  {
   "cell_type": "code",
   "execution_count": 37,
   "id": "a492aa1b-dd0f-44f0-b0bc-dedec7d38b0a",
   "metadata": {},
   "outputs": [
    {
     "data": {
      "text/html": [
       "<div>\n",
       "<style scoped>\n",
       "    .dataframe tbody tr th:only-of-type {\n",
       "        vertical-align: middle;\n",
       "    }\n",
       "\n",
       "    .dataframe tbody tr th {\n",
       "        vertical-align: top;\n",
       "    }\n",
       "\n",
       "    .dataframe thead th {\n",
       "        text-align: right;\n",
       "    }\n",
       "</style>\n",
       "<table border=\"1\" class=\"dataframe\">\n",
       "  <thead>\n",
       "    <tr style=\"text-align: right;\">\n",
       "      <th></th>\n",
       "      <th>id</th>\n",
       "      <th>conversation_id</th>\n",
       "      <th>referenced_tweets.replied_to.id</th>\n",
       "      <th>referenced_tweets.retweeted.id</th>\n",
       "      <th>referenced_tweets.quoted.id</th>\n",
       "      <th>author_id</th>\n",
       "      <th>in_reply_to_user_id</th>\n",
       "      <th>retweeted_user_id</th>\n",
       "      <th>quoted_user_id</th>\n",
       "      <th>created_at</th>\n",
       "      <th>...</th>\n",
       "      <th>geo.geo.bbox</th>\n",
       "      <th>geo.geo.type</th>\n",
       "      <th>geo.id</th>\n",
       "      <th>geo.name</th>\n",
       "      <th>geo.place_id</th>\n",
       "      <th>geo.place_type</th>\n",
       "      <th>__twarc.retrieved_at</th>\n",
       "      <th>__twarc.url</th>\n",
       "      <th>__twarc.version</th>\n",
       "      <th>Unnamed: 73</th>\n",
       "    </tr>\n",
       "  </thead>\n",
       "  <tbody>\n",
       "    <tr>\n",
       "      <th>0</th>\n",
       "      <td>1529550949823356928</td>\n",
       "      <td>1529550949823356928</td>\n",
       "      <td>NaN</td>\n",
       "      <td>NaN</td>\n",
       "      <td>NaN</td>\n",
       "      <td>101367986</td>\n",
       "      <td>NaN</td>\n",
       "      <td>NaN</td>\n",
       "      <td>NaN</td>\n",
       "      <td>2022-05-25T19:52:18.000Z</td>\n",
       "      <td>...</td>\n",
       "      <td>NaN</td>\n",
       "      <td>NaN</td>\n",
       "      <td>NaN</td>\n",
       "      <td>NaN</td>\n",
       "      <td>NaN</td>\n",
       "      <td>NaN</td>\n",
       "      <td>2022-05-25T22:28:59+00:00</td>\n",
       "      <td>https://api.twitter.com/2/users/101367986/twee...</td>\n",
       "      <td>2.10.4</td>\n",
       "      <td>NaN</td>\n",
       "    </tr>\n",
       "    <tr>\n",
       "      <th>1</th>\n",
       "      <td>1528843296411471876</td>\n",
       "      <td>1528843296411471876</td>\n",
       "      <td>NaN</td>\n",
       "      <td>1.527650e+18</td>\n",
       "      <td>NaN</td>\n",
       "      <td>101367986</td>\n",
       "      <td>NaN</td>\n",
       "      <td>483231999.0</td>\n",
       "      <td>NaN</td>\n",
       "      <td>2022-05-23T21:00:21.000Z</td>\n",
       "      <td>...</td>\n",
       "      <td>NaN</td>\n",
       "      <td>NaN</td>\n",
       "      <td>NaN</td>\n",
       "      <td>NaN</td>\n",
       "      <td>NaN</td>\n",
       "      <td>NaN</td>\n",
       "      <td>2022-05-25T22:28:59+00:00</td>\n",
       "      <td>https://api.twitter.com/2/users/101367986/twee...</td>\n",
       "      <td>2.10.4</td>\n",
       "      <td>NaN</td>\n",
       "    </tr>\n",
       "    <tr>\n",
       "      <th>2</th>\n",
       "      <td>1527348937379631108</td>\n",
       "      <td>1527348937379631108</td>\n",
       "      <td>NaN</td>\n",
       "      <td>NaN</td>\n",
       "      <td>NaN</td>\n",
       "      <td>101367986</td>\n",
       "      <td>NaN</td>\n",
       "      <td>NaN</td>\n",
       "      <td>NaN</td>\n",
       "      <td>2022-05-19T18:02:18.000Z</td>\n",
       "      <td>...</td>\n",
       "      <td>NaN</td>\n",
       "      <td>NaN</td>\n",
       "      <td>NaN</td>\n",
       "      <td>NaN</td>\n",
       "      <td>NaN</td>\n",
       "      <td>NaN</td>\n",
       "      <td>2022-05-25T22:28:59+00:00</td>\n",
       "      <td>https://api.twitter.com/2/users/101367986/twee...</td>\n",
       "      <td>2.10.4</td>\n",
       "      <td>NaN</td>\n",
       "    </tr>\n",
       "    <tr>\n",
       "      <th>3</th>\n",
       "      <td>1527319079727468544</td>\n",
       "      <td>1527319079727468544</td>\n",
       "      <td>NaN</td>\n",
       "      <td>NaN</td>\n",
       "      <td>NaN</td>\n",
       "      <td>101367986</td>\n",
       "      <td>NaN</td>\n",
       "      <td>NaN</td>\n",
       "      <td>NaN</td>\n",
       "      <td>2022-05-19T16:03:39.000Z</td>\n",
       "      <td>...</td>\n",
       "      <td>NaN</td>\n",
       "      <td>NaN</td>\n",
       "      <td>NaN</td>\n",
       "      <td>NaN</td>\n",
       "      <td>NaN</td>\n",
       "      <td>NaN</td>\n",
       "      <td>2022-05-25T22:28:59+00:00</td>\n",
       "      <td>https://api.twitter.com/2/users/101367986/twee...</td>\n",
       "      <td>2.10.4</td>\n",
       "      <td>NaN</td>\n",
       "    </tr>\n",
       "    <tr>\n",
       "      <th>4</th>\n",
       "      <td>1526956500354314241</td>\n",
       "      <td>1526956500354314241</td>\n",
       "      <td>NaN</td>\n",
       "      <td>NaN</td>\n",
       "      <td>NaN</td>\n",
       "      <td>101367986</td>\n",
       "      <td>NaN</td>\n",
       "      <td>NaN</td>\n",
       "      <td>NaN</td>\n",
       "      <td>2022-05-18T16:02:53.000Z</td>\n",
       "      <td>...</td>\n",
       "      <td>NaN</td>\n",
       "      <td>NaN</td>\n",
       "      <td>NaN</td>\n",
       "      <td>NaN</td>\n",
       "      <td>NaN</td>\n",
       "      <td>NaN</td>\n",
       "      <td>2022-05-25T22:28:59+00:00</td>\n",
       "      <td>https://api.twitter.com/2/users/101367986/twee...</td>\n",
       "      <td>2.10.4</td>\n",
       "      <td>NaN</td>\n",
       "    </tr>\n",
       "  </tbody>\n",
       "</table>\n",
       "<p>5 rows × 74 columns</p>\n",
       "</div>"
      ],
      "text/plain": [
       "                    id      conversation_id  referenced_tweets.replied_to.id  \\\n",
       "0  1529550949823356928  1529550949823356928                              NaN   \n",
       "1  1528843296411471876  1528843296411471876                              NaN   \n",
       "2  1527348937379631108  1527348937379631108                              NaN   \n",
       "3  1527319079727468544  1527319079727468544                              NaN   \n",
       "4  1526956500354314241  1526956500354314241                              NaN   \n",
       "\n",
       "   referenced_tweets.retweeted.id  referenced_tweets.quoted.id  author_id  \\\n",
       "0                             NaN                          NaN  101367986   \n",
       "1                    1.527650e+18                          NaN  101367986   \n",
       "2                             NaN                          NaN  101367986   \n",
       "3                             NaN                          NaN  101367986   \n",
       "4                             NaN                          NaN  101367986   \n",
       "\n",
       "   in_reply_to_user_id  retweeted_user_id  quoted_user_id  \\\n",
       "0                  NaN                NaN             NaN   \n",
       "1                  NaN        483231999.0             NaN   \n",
       "2                  NaN                NaN             NaN   \n",
       "3                  NaN                NaN             NaN   \n",
       "4                  NaN                NaN             NaN   \n",
       "\n",
       "                 created_at  ... geo.geo.bbox geo.geo.type geo.id  geo.name  \\\n",
       "0  2022-05-25T19:52:18.000Z  ...          NaN          NaN    NaN       NaN   \n",
       "1  2022-05-23T21:00:21.000Z  ...          NaN          NaN    NaN       NaN   \n",
       "2  2022-05-19T18:02:18.000Z  ...          NaN          NaN    NaN       NaN   \n",
       "3  2022-05-19T16:03:39.000Z  ...          NaN          NaN    NaN       NaN   \n",
       "4  2022-05-18T16:02:53.000Z  ...          NaN          NaN    NaN       NaN   \n",
       "\n",
       "   geo.place_id  geo.place_type       __twarc.retrieved_at  \\\n",
       "0           NaN             NaN  2022-05-25T22:28:59+00:00   \n",
       "1           NaN             NaN  2022-05-25T22:28:59+00:00   \n",
       "2           NaN             NaN  2022-05-25T22:28:59+00:00   \n",
       "3           NaN             NaN  2022-05-25T22:28:59+00:00   \n",
       "4           NaN             NaN  2022-05-25T22:28:59+00:00   \n",
       "\n",
       "                                         __twarc.url  __twarc.version  \\\n",
       "0  https://api.twitter.com/2/users/101367986/twee...           2.10.4   \n",
       "1  https://api.twitter.com/2/users/101367986/twee...           2.10.4   \n",
       "2  https://api.twitter.com/2/users/101367986/twee...           2.10.4   \n",
       "3  https://api.twitter.com/2/users/101367986/twee...           2.10.4   \n",
       "4  https://api.twitter.com/2/users/101367986/twee...           2.10.4   \n",
       "\n",
       "   Unnamed: 73  \n",
       "0          NaN  \n",
       "1          NaN  \n",
       "2          NaN  \n",
       "3          NaN  \n",
       "4          NaN  \n",
       "\n",
       "[5 rows x 74 columns]"
      ]
     },
     "execution_count": 37,
     "metadata": {},
     "output_type": "execute_result"
    }
   ],
   "source": [
    "ucsblib_timeline_df.head()"
   ]
  },
  {
   "cell_type": "code",
   "execution_count": 38,
   "id": "ee4cc6aa-8a09-4b27-9dab-0b80cf267fcc",
   "metadata": {},
   "outputs": [
    {
     "data": {
      "text/html": [
       "<div>\n",
       "<style scoped>\n",
       "    .dataframe tbody tr th:only-of-type {\n",
       "        vertical-align: middle;\n",
       "    }\n",
       "\n",
       "    .dataframe tbody tr th {\n",
       "        vertical-align: top;\n",
       "    }\n",
       "\n",
       "    .dataframe thead th {\n",
       "        text-align: right;\n",
       "    }\n",
       "</style>\n",
       "<table border=\"1\" class=\"dataframe\">\n",
       "  <thead>\n",
       "    <tr style=\"text-align: right;\">\n",
       "      <th></th>\n",
       "      <th>id</th>\n",
       "      <th>conversation_id</th>\n",
       "      <th>referenced_tweets.replied_to.id</th>\n",
       "      <th>referenced_tweets.retweeted.id</th>\n",
       "      <th>referenced_tweets.quoted.id</th>\n",
       "      <th>author_id</th>\n",
       "      <th>in_reply_to_user_id</th>\n",
       "      <th>retweeted_user_id</th>\n",
       "      <th>quoted_user_id</th>\n",
       "      <th>created_at</th>\n",
       "      <th>...</th>\n",
       "      <th>geo.geo.bbox</th>\n",
       "      <th>geo.geo.type</th>\n",
       "      <th>geo.id</th>\n",
       "      <th>geo.name</th>\n",
       "      <th>geo.place_id</th>\n",
       "      <th>geo.place_type</th>\n",
       "      <th>__twarc.retrieved_at</th>\n",
       "      <th>__twarc.url</th>\n",
       "      <th>__twarc.version</th>\n",
       "      <th>Unnamed: 73</th>\n",
       "    </tr>\n",
       "  </thead>\n",
       "  <tbody>\n",
       "    <tr>\n",
       "      <th>495</th>\n",
       "      <td>1350247410786656257</td>\n",
       "      <td>1350247410786656257</td>\n",
       "      <td>NaN</td>\n",
       "      <td>NaN</td>\n",
       "      <td>1.350207e+18</td>\n",
       "      <td>101367986</td>\n",
       "      <td>NaN</td>\n",
       "      <td>NaN</td>\n",
       "      <td>4.085696e+09</td>\n",
       "      <td>2021-01-16T01:04:03.000Z</td>\n",
       "      <td>...</td>\n",
       "      <td>NaN</td>\n",
       "      <td>NaN</td>\n",
       "      <td>NaN</td>\n",
       "      <td>NaN</td>\n",
       "      <td>NaN</td>\n",
       "      <td>NaN</td>\n",
       "      <td>2022-05-25T22:29:03+00:00</td>\n",
       "      <td>https://api.twitter.com/2/users/101367986/twee...</td>\n",
       "      <td>2.10.4</td>\n",
       "      <td>NaN</td>\n",
       "    </tr>\n",
       "    <tr>\n",
       "      <th>496</th>\n",
       "      <td>1350139793909301248</td>\n",
       "      <td>1350139793909301248</td>\n",
       "      <td>NaN</td>\n",
       "      <td>1.350138e+18</td>\n",
       "      <td>NaN</td>\n",
       "      <td>101367986</td>\n",
       "      <td>NaN</td>\n",
       "      <td>2.542162e+09</td>\n",
       "      <td>NaN</td>\n",
       "      <td>2021-01-15T17:56:25.000Z</td>\n",
       "      <td>...</td>\n",
       "      <td>NaN</td>\n",
       "      <td>NaN</td>\n",
       "      <td>NaN</td>\n",
       "      <td>NaN</td>\n",
       "      <td>NaN</td>\n",
       "      <td>NaN</td>\n",
       "      <td>2022-05-25T22:29:03+00:00</td>\n",
       "      <td>https://api.twitter.com/2/users/101367986/twee...</td>\n",
       "      <td>2.10.4</td>\n",
       "      <td>NaN</td>\n",
       "    </tr>\n",
       "    <tr>\n",
       "      <th>497</th>\n",
       "      <td>1350104526250942468</td>\n",
       "      <td>1350104526250942468</td>\n",
       "      <td>NaN</td>\n",
       "      <td>NaN</td>\n",
       "      <td>NaN</td>\n",
       "      <td>101367986</td>\n",
       "      <td>NaN</td>\n",
       "      <td>NaN</td>\n",
       "      <td>NaN</td>\n",
       "      <td>2021-01-15T15:36:17.000Z</td>\n",
       "      <td>...</td>\n",
       "      <td>NaN</td>\n",
       "      <td>NaN</td>\n",
       "      <td>NaN</td>\n",
       "      <td>NaN</td>\n",
       "      <td>NaN</td>\n",
       "      <td>NaN</td>\n",
       "      <td>2022-05-25T22:29:03+00:00</td>\n",
       "      <td>https://api.twitter.com/2/users/101367986/twee...</td>\n",
       "      <td>2.10.4</td>\n",
       "      <td>NaN</td>\n",
       "    </tr>\n",
       "    <tr>\n",
       "      <th>498</th>\n",
       "      <td>1349772447541653505</td>\n",
       "      <td>1349217632264744961</td>\n",
       "      <td>1.349763e+18</td>\n",
       "      <td>NaN</td>\n",
       "      <td>NaN</td>\n",
       "      <td>101367986</td>\n",
       "      <td>1.285968e+18</td>\n",
       "      <td>NaN</td>\n",
       "      <td>NaN</td>\n",
       "      <td>2021-01-14T17:36:43.000Z</td>\n",
       "      <td>...</td>\n",
       "      <td>NaN</td>\n",
       "      <td>NaN</td>\n",
       "      <td>NaN</td>\n",
       "      <td>NaN</td>\n",
       "      <td>NaN</td>\n",
       "      <td>NaN</td>\n",
       "      <td>2022-05-25T22:29:03+00:00</td>\n",
       "      <td>https://api.twitter.com/2/users/101367986/twee...</td>\n",
       "      <td>2.10.4</td>\n",
       "      <td>NaN</td>\n",
       "    </tr>\n",
       "    <tr>\n",
       "      <th>499</th>\n",
       "      <td>1349771964525674500</td>\n",
       "      <td>1349502619018907650</td>\n",
       "      <td>1.349503e+18</td>\n",
       "      <td>NaN</td>\n",
       "      <td>NaN</td>\n",
       "      <td>101367986</td>\n",
       "      <td>1.302718e+08</td>\n",
       "      <td>NaN</td>\n",
       "      <td>NaN</td>\n",
       "      <td>2021-01-14T17:34:48.000Z</td>\n",
       "      <td>...</td>\n",
       "      <td>NaN</td>\n",
       "      <td>NaN</td>\n",
       "      <td>NaN</td>\n",
       "      <td>NaN</td>\n",
       "      <td>NaN</td>\n",
       "      <td>NaN</td>\n",
       "      <td>2022-05-25T22:29:03+00:00</td>\n",
       "      <td>https://api.twitter.com/2/users/101367986/twee...</td>\n",
       "      <td>2.10.4</td>\n",
       "      <td>NaN</td>\n",
       "    </tr>\n",
       "  </tbody>\n",
       "</table>\n",
       "<p>5 rows × 74 columns</p>\n",
       "</div>"
      ],
      "text/plain": [
       "                      id      conversation_id  \\\n",
       "495  1350247410786656257  1350247410786656257   \n",
       "496  1350139793909301248  1350139793909301248   \n",
       "497  1350104526250942468  1350104526250942468   \n",
       "498  1349772447541653505  1349217632264744961   \n",
       "499  1349771964525674500  1349502619018907650   \n",
       "\n",
       "     referenced_tweets.replied_to.id  referenced_tweets.retweeted.id  \\\n",
       "495                              NaN                             NaN   \n",
       "496                              NaN                    1.350138e+18   \n",
       "497                              NaN                             NaN   \n",
       "498                     1.349763e+18                             NaN   \n",
       "499                     1.349503e+18                             NaN   \n",
       "\n",
       "     referenced_tweets.quoted.id  author_id  in_reply_to_user_id  \\\n",
       "495                 1.350207e+18  101367986                  NaN   \n",
       "496                          NaN  101367986                  NaN   \n",
       "497                          NaN  101367986                  NaN   \n",
       "498                          NaN  101367986         1.285968e+18   \n",
       "499                          NaN  101367986         1.302718e+08   \n",
       "\n",
       "     retweeted_user_id  quoted_user_id                created_at  ...  \\\n",
       "495                NaN    4.085696e+09  2021-01-16T01:04:03.000Z  ...   \n",
       "496       2.542162e+09             NaN  2021-01-15T17:56:25.000Z  ...   \n",
       "497                NaN             NaN  2021-01-15T15:36:17.000Z  ...   \n",
       "498                NaN             NaN  2021-01-14T17:36:43.000Z  ...   \n",
       "499                NaN             NaN  2021-01-14T17:34:48.000Z  ...   \n",
       "\n",
       "    geo.geo.bbox geo.geo.type geo.id  geo.name  geo.place_id  geo.place_type  \\\n",
       "495          NaN          NaN    NaN       NaN           NaN             NaN   \n",
       "496          NaN          NaN    NaN       NaN           NaN             NaN   \n",
       "497          NaN          NaN    NaN       NaN           NaN             NaN   \n",
       "498          NaN          NaN    NaN       NaN           NaN             NaN   \n",
       "499          NaN          NaN    NaN       NaN           NaN             NaN   \n",
       "\n",
       "          __twarc.retrieved_at  \\\n",
       "495  2022-05-25T22:29:03+00:00   \n",
       "496  2022-05-25T22:29:03+00:00   \n",
       "497  2022-05-25T22:29:03+00:00   \n",
       "498  2022-05-25T22:29:03+00:00   \n",
       "499  2022-05-25T22:29:03+00:00   \n",
       "\n",
       "                                           __twarc.url  __twarc.version  \\\n",
       "495  https://api.twitter.com/2/users/101367986/twee...           2.10.4   \n",
       "496  https://api.twitter.com/2/users/101367986/twee...           2.10.4   \n",
       "497  https://api.twitter.com/2/users/101367986/twee...           2.10.4   \n",
       "498  https://api.twitter.com/2/users/101367986/twee...           2.10.4   \n",
       "499  https://api.twitter.com/2/users/101367986/twee...           2.10.4   \n",
       "\n",
       "     Unnamed: 73  \n",
       "495          NaN  \n",
       "496          NaN  \n",
       "497          NaN  \n",
       "498          NaN  \n",
       "499          NaN  \n",
       "\n",
       "[5 rows x 74 columns]"
      ]
     },
     "execution_count": 38,
     "metadata": {},
     "output_type": "execute_result"
    }
   ],
   "source": [
    "ucsblib_timeline_df.tail()"
   ]
  },
  {
   "cell_type": "code",
   "execution_count": 39,
   "id": "39062153-da4c-4734-a5f9-8c9ec29e5561",
   "metadata": {},
   "outputs": [
    {
     "data": {
      "text/plain": [
       "0      0\n",
       "1      2\n",
       "2      0\n",
       "3      0\n",
       "4      0\n",
       "      ..\n",
       "495    0\n",
       "496    1\n",
       "497    2\n",
       "498    0\n",
       "499    0\n",
       "Name: public_metrics.retweet_count, Length: 500, dtype: int64"
      ]
     },
     "execution_count": 39,
     "metadata": {},
     "output_type": "execute_result"
    }
   ],
   "source": [
    "#grab only specified column\n",
    "ucsblib_timeline_df['public_metrics.retweet_count']"
   ]
  },
  {
   "cell_type": "code",
   "execution_count": 40,
   "id": "00a38d4f-8b9a-4ef8-96b3-bea83d9680a6",
   "metadata": {},
   "outputs": [
    {
     "data": {
      "text/plain": [
       "167    For the first time in history, sound recording...\n",
       "Name: text, dtype: object"
      ]
     },
     "execution_count": 40,
     "metadata": {},
     "output_type": "execute_result"
    }
   ],
   "source": [
    "sort_by_rt = ucsblib_timeline_df.sort_values('public_metrics.retweet_count', ascending=False)\n",
    "\n",
    "#the first tweet from the sorted dataframe\n",
    "most_rt = sort_by_rt.head(1)\n",
    "\n",
    "#output the text of the most retweeted tweet\n",
    "most_rt['text']"
   ]
  },
  {
   "cell_type": "code",
   "execution_count": 41,
   "id": "6e2371fb-6507-4041-8c25-fb8fd22cb32d",
   "metadata": {},
   "outputs": [
    {
     "data": {
      "text/plain": [
       "167    163\n",
       "287    114\n",
       "440     84\n",
       "284     65\n",
       "290     54\n",
       "174     29\n",
       "200     26\n",
       "451     24\n",
       "314     23\n",
       "437     22\n",
       "450     21\n",
       "442     21\n",
       "201     18\n",
       "417     18\n",
       "408     17\n",
       "134     16\n",
       "316     15\n",
       "14      15\n",
       "383     14\n",
       "454     13\n",
       "Name: public_metrics.retweet_count, dtype: int64"
      ]
     },
     "execution_count": 41,
     "metadata": {},
     "output_type": "execute_result"
    }
   ],
   "source": [
    "sort_by_rt['public_metrics.retweet_count'].head(20)"
   ]
  },
  {
   "cell_type": "code",
   "execution_count": null,
   "id": "82073d6a-35b3-4377-8d2e-3e09328ee830",
   "metadata": {},
   "outputs": [],
   "source": []
  },
  {
   "cell_type": "code",
   "execution_count": null,
   "id": "028e3158-0abc-4a23-ba0e-6ab4cac2becd",
   "metadata": {},
   "outputs": [],
   "source": []
  },
  {
   "cell_type": "markdown",
   "id": "23735a74-0dd1-4483-9705-595042b099bc",
   "metadata": {},
   "source": [
    "## final challenge: Cats of Instagram\n",
    "Let’s make a bigger datafile. Harvest 5000 tweets that use the hashtag “catsofinstagram” and put the dataset through the pipeline to answer the following questions:\n",
    "\n",
    "- Did you get exactly 5000?\n",
    "- How far back in time did you get?\n",
    "- What is the most re-tweeted recent tweet on #catsofinstagram?\n",
    "- Which person has the most number of followers in your dataset?\n",
    "- Is it really a person?"
   ]
  },
  {
   "cell_type": "code",
   "execution_count": 42,
   "id": "952eed26-010f-464b-82c9-4699988555b9",
   "metadata": {},
   "outputs": [
    {
     "name": "stdout",
     "output_type": "stream",
     "text": [
      "Set --limit of 500 reached:   4%| | Processed 6 hours/6 days [00:05<02:18, 500 t\n",
      "100%|██████████████| Processed 1.54M/1.54M of input file [00:00<00:00, 9.71MB/s]\n",
      "    501  106492 1895553 output_data/hashtagcats.csv\n"
     ]
    },
    {
     "data": {
      "text/plain": [
       "0    2022-05-25T22:28:51.000Z\n",
       "1    2022-05-25T22:28:31.000Z\n",
       "2    2022-05-25T22:28:15.000Z\n",
       "3    2022-05-25T22:28:14.000Z\n",
       "4    2022-05-25T22:27:50.000Z\n",
       "Name: created_at, dtype: object"
      ]
     },
     "execution_count": 42,
     "metadata": {},
     "output_type": "execute_result"
    }
   ],
   "source": [
    "!twarc2 search --limit 500 \"#catsofinstagram\" raw_data/hashtagcats.jsonl\n",
    "!twarc2 flatten raw_data/hashtagcats.jsonl output_data/hashtagcats_flat.jsonl\n",
    "!twarc2 csv raw_data/hashtagcats.jsonl > output_data/hashtagcats.csv\n",
    "hashtagcats_df = pandas.read_csv(\"output_data/hashtagcats.csv\")\n",
    "! wc output_data/hashtagcats.csv\n",
    "hashtagcats_df[\"created_at\"].head()"
   ]
  },
  {
   "cell_type": "code",
   "execution_count": 43,
   "id": "ac420468-385e-4d39-9f8c-d7e5f520c1be",
   "metadata": {},
   "outputs": [
    {
     "data": {
      "text/plain": [
       "495    2022-05-25T16:10:21.000Z\n",
       "496    2022-05-25T16:09:51.000Z\n",
       "497    2022-05-25T16:09:45.000Z\n",
       "498    2022-05-25T16:09:23.000Z\n",
       "499    2022-05-25T16:09:20.000Z\n",
       "Name: created_at, dtype: object"
      ]
     },
     "execution_count": 43,
     "metadata": {},
     "output_type": "execute_result"
    }
   ],
   "source": [
    "hashtagcats_df[\"created_at\"].tail()"
   ]
  },
  {
   "cell_type": "code",
   "execution_count": 44,
   "id": "51f07c72-c097-4db9-8705-32e2b93c6aba",
   "metadata": {},
   "outputs": [
    {
     "data": {
      "text/html": [
       "<div>\n",
       "<style scoped>\n",
       "    .dataframe tbody tr th:only-of-type {\n",
       "        vertical-align: middle;\n",
       "    }\n",
       "\n",
       "    .dataframe tbody tr th {\n",
       "        vertical-align: top;\n",
       "    }\n",
       "\n",
       "    .dataframe thead th {\n",
       "        text-align: right;\n",
       "    }\n",
       "</style>\n",
       "<table border=\"1\" class=\"dataframe\">\n",
       "  <thead>\n",
       "    <tr style=\"text-align: right;\">\n",
       "      <th></th>\n",
       "      <th>id</th>\n",
       "      <th>conversation_id</th>\n",
       "      <th>referenced_tweets.replied_to.id</th>\n",
       "      <th>referenced_tweets.retweeted.id</th>\n",
       "      <th>referenced_tweets.quoted.id</th>\n",
       "      <th>author_id</th>\n",
       "      <th>in_reply_to_user_id</th>\n",
       "      <th>retweeted_user_id</th>\n",
       "      <th>quoted_user_id</th>\n",
       "      <th>created_at</th>\n",
       "      <th>...</th>\n",
       "      <th>geo.geo.bbox</th>\n",
       "      <th>geo.geo.type</th>\n",
       "      <th>geo.id</th>\n",
       "      <th>geo.name</th>\n",
       "      <th>geo.place_id</th>\n",
       "      <th>geo.place_type</th>\n",
       "      <th>__twarc.retrieved_at</th>\n",
       "      <th>__twarc.url</th>\n",
       "      <th>__twarc.version</th>\n",
       "      <th>Unnamed: 73</th>\n",
       "    </tr>\n",
       "  </thead>\n",
       "  <tbody>\n",
       "    <tr>\n",
       "      <th>0</th>\n",
       "      <td>1529590345360711685</td>\n",
       "      <td>1529590345360711685</td>\n",
       "      <td>NaN</td>\n",
       "      <td>1.529357e+18</td>\n",
       "      <td>NaN</td>\n",
       "      <td>1230882149022171136</td>\n",
       "      <td>NaN</td>\n",
       "      <td>9.144608e+17</td>\n",
       "      <td>NaN</td>\n",
       "      <td>2022-05-25T22:28:51.000Z</td>\n",
       "      <td>...</td>\n",
       "      <td>NaN</td>\n",
       "      <td>NaN</td>\n",
       "      <td>NaN</td>\n",
       "      <td>NaN</td>\n",
       "      <td>NaN</td>\n",
       "      <td>NaN</td>\n",
       "      <td>2022-05-25T22:29:11+00:00</td>\n",
       "      <td>https://api.twitter.com/2/tweets/search/recent...</td>\n",
       "      <td>2.10.4</td>\n",
       "      <td>NaN</td>\n",
       "    </tr>\n",
       "    <tr>\n",
       "      <th>1</th>\n",
       "      <td>1529590262221221893</td>\n",
       "      <td>1529590262221221893</td>\n",
       "      <td>NaN</td>\n",
       "      <td>1.529559e+18</td>\n",
       "      <td>NaN</td>\n",
       "      <td>1498447340646113286</td>\n",
       "      <td>NaN</td>\n",
       "      <td>1.369667e+18</td>\n",
       "      <td>NaN</td>\n",
       "      <td>2022-05-25T22:28:31.000Z</td>\n",
       "      <td>...</td>\n",
       "      <td>NaN</td>\n",
       "      <td>NaN</td>\n",
       "      <td>NaN</td>\n",
       "      <td>NaN</td>\n",
       "      <td>NaN</td>\n",
       "      <td>NaN</td>\n",
       "      <td>2022-05-25T22:29:11+00:00</td>\n",
       "      <td>https://api.twitter.com/2/tweets/search/recent...</td>\n",
       "      <td>2.10.4</td>\n",
       "      <td>NaN</td>\n",
       "    </tr>\n",
       "    <tr>\n",
       "      <th>2</th>\n",
       "      <td>1529590194688647169</td>\n",
       "      <td>1529590194688647169</td>\n",
       "      <td>NaN</td>\n",
       "      <td>1.529576e+18</td>\n",
       "      <td>NaN</td>\n",
       "      <td>1236404015161843712</td>\n",
       "      <td>NaN</td>\n",
       "      <td>3.541330e+08</td>\n",
       "      <td>NaN</td>\n",
       "      <td>2022-05-25T22:28:15.000Z</td>\n",
       "      <td>...</td>\n",
       "      <td>NaN</td>\n",
       "      <td>NaN</td>\n",
       "      <td>NaN</td>\n",
       "      <td>NaN</td>\n",
       "      <td>NaN</td>\n",
       "      <td>NaN</td>\n",
       "      <td>2022-05-25T22:29:11+00:00</td>\n",
       "      <td>https://api.twitter.com/2/tweets/search/recent...</td>\n",
       "      <td>2.10.4</td>\n",
       "      <td>NaN</td>\n",
       "    </tr>\n",
       "    <tr>\n",
       "      <th>3</th>\n",
       "      <td>1529590190909497346</td>\n",
       "      <td>1529590190909497346</td>\n",
       "      <td>NaN</td>\n",
       "      <td>1.529534e+18</td>\n",
       "      <td>NaN</td>\n",
       "      <td>1104712327104847872</td>\n",
       "      <td>NaN</td>\n",
       "      <td>3.541330e+08</td>\n",
       "      <td>NaN</td>\n",
       "      <td>2022-05-25T22:28:14.000Z</td>\n",
       "      <td>...</td>\n",
       "      <td>NaN</td>\n",
       "      <td>NaN</td>\n",
       "      <td>NaN</td>\n",
       "      <td>NaN</td>\n",
       "      <td>NaN</td>\n",
       "      <td>NaN</td>\n",
       "      <td>2022-05-25T22:29:11+00:00</td>\n",
       "      <td>https://api.twitter.com/2/tweets/search/recent...</td>\n",
       "      <td>2.10.4</td>\n",
       "      <td>NaN</td>\n",
       "    </tr>\n",
       "    <tr>\n",
       "      <th>4</th>\n",
       "      <td>1529590088455401472</td>\n",
       "      <td>1529590088455401472</td>\n",
       "      <td>NaN</td>\n",
       "      <td>1.529534e+18</td>\n",
       "      <td>NaN</td>\n",
       "      <td>1073307423379767296</td>\n",
       "      <td>NaN</td>\n",
       "      <td>3.541330e+08</td>\n",
       "      <td>NaN</td>\n",
       "      <td>2022-05-25T22:27:50.000Z</td>\n",
       "      <td>...</td>\n",
       "      <td>NaN</td>\n",
       "      <td>NaN</td>\n",
       "      <td>NaN</td>\n",
       "      <td>NaN</td>\n",
       "      <td>NaN</td>\n",
       "      <td>NaN</td>\n",
       "      <td>2022-05-25T22:29:11+00:00</td>\n",
       "      <td>https://api.twitter.com/2/tweets/search/recent...</td>\n",
       "      <td>2.10.4</td>\n",
       "      <td>NaN</td>\n",
       "    </tr>\n",
       "    <tr>\n",
       "      <th>...</th>\n",
       "      <td>...</td>\n",
       "      <td>...</td>\n",
       "      <td>...</td>\n",
       "      <td>...</td>\n",
       "      <td>...</td>\n",
       "      <td>...</td>\n",
       "      <td>...</td>\n",
       "      <td>...</td>\n",
       "      <td>...</td>\n",
       "      <td>...</td>\n",
       "      <td>...</td>\n",
       "      <td>...</td>\n",
       "      <td>...</td>\n",
       "      <td>...</td>\n",
       "      <td>...</td>\n",
       "      <td>...</td>\n",
       "      <td>...</td>\n",
       "      <td>...</td>\n",
       "      <td>...</td>\n",
       "      <td>...</td>\n",
       "      <td>...</td>\n",
       "    </tr>\n",
       "    <tr>\n",
       "      <th>495</th>\n",
       "      <td>1529495094801612800</td>\n",
       "      <td>1529495094801612800</td>\n",
       "      <td>NaN</td>\n",
       "      <td>1.529489e+18</td>\n",
       "      <td>NaN</td>\n",
       "      <td>1368189367471255555</td>\n",
       "      <td>NaN</td>\n",
       "      <td>3.541330e+08</td>\n",
       "      <td>NaN</td>\n",
       "      <td>2022-05-25T16:10:21.000Z</td>\n",
       "      <td>...</td>\n",
       "      <td>NaN</td>\n",
       "      <td>NaN</td>\n",
       "      <td>NaN</td>\n",
       "      <td>NaN</td>\n",
       "      <td>NaN</td>\n",
       "      <td>NaN</td>\n",
       "      <td>2022-05-25T22:29:15+00:00</td>\n",
       "      <td>https://api.twitter.com/2/tweets/search/recent...</td>\n",
       "      <td>2.10.4</td>\n",
       "      <td>NaN</td>\n",
       "    </tr>\n",
       "    <tr>\n",
       "      <th>496</th>\n",
       "      <td>1529494968921989120</td>\n",
       "      <td>1529494968921989120</td>\n",
       "      <td>NaN</td>\n",
       "      <td>1.529402e+18</td>\n",
       "      <td>NaN</td>\n",
       "      <td>1035329018428567552</td>\n",
       "      <td>NaN</td>\n",
       "      <td>7.724110e+17</td>\n",
       "      <td>NaN</td>\n",
       "      <td>2022-05-25T16:09:51.000Z</td>\n",
       "      <td>...</td>\n",
       "      <td>NaN</td>\n",
       "      <td>NaN</td>\n",
       "      <td>NaN</td>\n",
       "      <td>NaN</td>\n",
       "      <td>NaN</td>\n",
       "      <td>NaN</td>\n",
       "      <td>2022-05-25T22:29:15+00:00</td>\n",
       "      <td>https://api.twitter.com/2/tweets/search/recent...</td>\n",
       "      <td>2.10.4</td>\n",
       "      <td>NaN</td>\n",
       "    </tr>\n",
       "    <tr>\n",
       "      <th>497</th>\n",
       "      <td>1529494943919751168</td>\n",
       "      <td>1529494943919751168</td>\n",
       "      <td>NaN</td>\n",
       "      <td>1.529489e+18</td>\n",
       "      <td>NaN</td>\n",
       "      <td>1497575266985644034</td>\n",
       "      <td>NaN</td>\n",
       "      <td>3.541330e+08</td>\n",
       "      <td>NaN</td>\n",
       "      <td>2022-05-25T16:09:45.000Z</td>\n",
       "      <td>...</td>\n",
       "      <td>NaN</td>\n",
       "      <td>NaN</td>\n",
       "      <td>NaN</td>\n",
       "      <td>NaN</td>\n",
       "      <td>NaN</td>\n",
       "      <td>NaN</td>\n",
       "      <td>2022-05-25T22:29:15+00:00</td>\n",
       "      <td>https://api.twitter.com/2/tweets/search/recent...</td>\n",
       "      <td>2.10.4</td>\n",
       "      <td>NaN</td>\n",
       "    </tr>\n",
       "    <tr>\n",
       "      <th>498</th>\n",
       "      <td>1529494850671767553</td>\n",
       "      <td>1529494850671767553</td>\n",
       "      <td>NaN</td>\n",
       "      <td>1.529489e+18</td>\n",
       "      <td>NaN</td>\n",
       "      <td>599571728</td>\n",
       "      <td>NaN</td>\n",
       "      <td>3.541330e+08</td>\n",
       "      <td>NaN</td>\n",
       "      <td>2022-05-25T16:09:23.000Z</td>\n",
       "      <td>...</td>\n",
       "      <td>NaN</td>\n",
       "      <td>NaN</td>\n",
       "      <td>NaN</td>\n",
       "      <td>NaN</td>\n",
       "      <td>NaN</td>\n",
       "      <td>NaN</td>\n",
       "      <td>2022-05-25T22:29:15+00:00</td>\n",
       "      <td>https://api.twitter.com/2/tweets/search/recent...</td>\n",
       "      <td>2.10.4</td>\n",
       "      <td>NaN</td>\n",
       "    </tr>\n",
       "    <tr>\n",
       "      <th>499</th>\n",
       "      <td>1529494837866676224</td>\n",
       "      <td>1529494837866676224</td>\n",
       "      <td>NaN</td>\n",
       "      <td>NaN</td>\n",
       "      <td>NaN</td>\n",
       "      <td>1513539251903905795</td>\n",
       "      <td>NaN</td>\n",
       "      <td>NaN</td>\n",
       "      <td>NaN</td>\n",
       "      <td>2022-05-25T16:09:20.000Z</td>\n",
       "      <td>...</td>\n",
       "      <td>NaN</td>\n",
       "      <td>NaN</td>\n",
       "      <td>NaN</td>\n",
       "      <td>NaN</td>\n",
       "      <td>NaN</td>\n",
       "      <td>NaN</td>\n",
       "      <td>2022-05-25T22:29:15+00:00</td>\n",
       "      <td>https://api.twitter.com/2/tweets/search/recent...</td>\n",
       "      <td>2.10.4</td>\n",
       "      <td>NaN</td>\n",
       "    </tr>\n",
       "  </tbody>\n",
       "</table>\n",
       "<p>500 rows × 74 columns</p>\n",
       "</div>"
      ],
      "text/plain": [
       "                      id      conversation_id  \\\n",
       "0    1529590345360711685  1529590345360711685   \n",
       "1    1529590262221221893  1529590262221221893   \n",
       "2    1529590194688647169  1529590194688647169   \n",
       "3    1529590190909497346  1529590190909497346   \n",
       "4    1529590088455401472  1529590088455401472   \n",
       "..                   ...                  ...   \n",
       "495  1529495094801612800  1529495094801612800   \n",
       "496  1529494968921989120  1529494968921989120   \n",
       "497  1529494943919751168  1529494943919751168   \n",
       "498  1529494850671767553  1529494850671767553   \n",
       "499  1529494837866676224  1529494837866676224   \n",
       "\n",
       "     referenced_tweets.replied_to.id  referenced_tweets.retweeted.id  \\\n",
       "0                                NaN                    1.529357e+18   \n",
       "1                                NaN                    1.529559e+18   \n",
       "2                                NaN                    1.529576e+18   \n",
       "3                                NaN                    1.529534e+18   \n",
       "4                                NaN                    1.529534e+18   \n",
       "..                               ...                             ...   \n",
       "495                              NaN                    1.529489e+18   \n",
       "496                              NaN                    1.529402e+18   \n",
       "497                              NaN                    1.529489e+18   \n",
       "498                              NaN                    1.529489e+18   \n",
       "499                              NaN                             NaN   \n",
       "\n",
       "     referenced_tweets.quoted.id            author_id  in_reply_to_user_id  \\\n",
       "0                            NaN  1230882149022171136                  NaN   \n",
       "1                            NaN  1498447340646113286                  NaN   \n",
       "2                            NaN  1236404015161843712                  NaN   \n",
       "3                            NaN  1104712327104847872                  NaN   \n",
       "4                            NaN  1073307423379767296                  NaN   \n",
       "..                           ...                  ...                  ...   \n",
       "495                          NaN  1368189367471255555                  NaN   \n",
       "496                          NaN  1035329018428567552                  NaN   \n",
       "497                          NaN  1497575266985644034                  NaN   \n",
       "498                          NaN            599571728                  NaN   \n",
       "499                          NaN  1513539251903905795                  NaN   \n",
       "\n",
       "     retweeted_user_id  quoted_user_id                created_at  ...  \\\n",
       "0         9.144608e+17             NaN  2022-05-25T22:28:51.000Z  ...   \n",
       "1         1.369667e+18             NaN  2022-05-25T22:28:31.000Z  ...   \n",
       "2         3.541330e+08             NaN  2022-05-25T22:28:15.000Z  ...   \n",
       "3         3.541330e+08             NaN  2022-05-25T22:28:14.000Z  ...   \n",
       "4         3.541330e+08             NaN  2022-05-25T22:27:50.000Z  ...   \n",
       "..                 ...             ...                       ...  ...   \n",
       "495       3.541330e+08             NaN  2022-05-25T16:10:21.000Z  ...   \n",
       "496       7.724110e+17             NaN  2022-05-25T16:09:51.000Z  ...   \n",
       "497       3.541330e+08             NaN  2022-05-25T16:09:45.000Z  ...   \n",
       "498       3.541330e+08             NaN  2022-05-25T16:09:23.000Z  ...   \n",
       "499                NaN             NaN  2022-05-25T16:09:20.000Z  ...   \n",
       "\n",
       "    geo.geo.bbox geo.geo.type geo.id  geo.name  geo.place_id  geo.place_type  \\\n",
       "0            NaN          NaN    NaN       NaN           NaN             NaN   \n",
       "1            NaN          NaN    NaN       NaN           NaN             NaN   \n",
       "2            NaN          NaN    NaN       NaN           NaN             NaN   \n",
       "3            NaN          NaN    NaN       NaN           NaN             NaN   \n",
       "4            NaN          NaN    NaN       NaN           NaN             NaN   \n",
       "..           ...          ...    ...       ...           ...             ...   \n",
       "495          NaN          NaN    NaN       NaN           NaN             NaN   \n",
       "496          NaN          NaN    NaN       NaN           NaN             NaN   \n",
       "497          NaN          NaN    NaN       NaN           NaN             NaN   \n",
       "498          NaN          NaN    NaN       NaN           NaN             NaN   \n",
       "499          NaN          NaN    NaN       NaN           NaN             NaN   \n",
       "\n",
       "          __twarc.retrieved_at  \\\n",
       "0    2022-05-25T22:29:11+00:00   \n",
       "1    2022-05-25T22:29:11+00:00   \n",
       "2    2022-05-25T22:29:11+00:00   \n",
       "3    2022-05-25T22:29:11+00:00   \n",
       "4    2022-05-25T22:29:11+00:00   \n",
       "..                         ...   \n",
       "495  2022-05-25T22:29:15+00:00   \n",
       "496  2022-05-25T22:29:15+00:00   \n",
       "497  2022-05-25T22:29:15+00:00   \n",
       "498  2022-05-25T22:29:15+00:00   \n",
       "499  2022-05-25T22:29:15+00:00   \n",
       "\n",
       "                                           __twarc.url  __twarc.version  \\\n",
       "0    https://api.twitter.com/2/tweets/search/recent...           2.10.4   \n",
       "1    https://api.twitter.com/2/tweets/search/recent...           2.10.4   \n",
       "2    https://api.twitter.com/2/tweets/search/recent...           2.10.4   \n",
       "3    https://api.twitter.com/2/tweets/search/recent...           2.10.4   \n",
       "4    https://api.twitter.com/2/tweets/search/recent...           2.10.4   \n",
       "..                                                 ...              ...   \n",
       "495  https://api.twitter.com/2/tweets/search/recent...           2.10.4   \n",
       "496  https://api.twitter.com/2/tweets/search/recent...           2.10.4   \n",
       "497  https://api.twitter.com/2/tweets/search/recent...           2.10.4   \n",
       "498  https://api.twitter.com/2/tweets/search/recent...           2.10.4   \n",
       "499  https://api.twitter.com/2/tweets/search/recent...           2.10.4   \n",
       "\n",
       "     Unnamed: 73  \n",
       "0            NaN  \n",
       "1            NaN  \n",
       "2            NaN  \n",
       "3            NaN  \n",
       "4            NaN  \n",
       "..           ...  \n",
       "495          NaN  \n",
       "496          NaN  \n",
       "497          NaN  \n",
       "498          NaN  \n",
       "499          NaN  \n",
       "\n",
       "[500 rows x 74 columns]"
      ]
     },
     "execution_count": 44,
     "metadata": {},
     "output_type": "execute_result"
    }
   ],
   "source": [
    "hashtagcats_df"
   ]
  },
  {
   "cell_type": "code",
   "execution_count": 45,
   "id": "c151b25e-f551-445c-93ed-118406e3df40",
   "metadata": {},
   "outputs": [
    {
     "data": {
      "text/plain": [
       "['id',\n",
       " 'conversation_id',\n",
       " 'referenced_tweets.replied_to.id',\n",
       " 'referenced_tweets.retweeted.id',\n",
       " 'referenced_tweets.quoted.id',\n",
       " 'author_id',\n",
       " 'in_reply_to_user_id',\n",
       " 'retweeted_user_id',\n",
       " 'quoted_user_id',\n",
       " 'created_at',\n",
       " 'text',\n",
       " 'lang',\n",
       " 'source',\n",
       " 'public_metrics.like_count',\n",
       " 'public_metrics.quote_count',\n",
       " 'public_metrics.reply_count',\n",
       " 'public_metrics.retweet_count',\n",
       " 'reply_settings',\n",
       " 'possibly_sensitive',\n",
       " 'withheld.scope',\n",
       " 'withheld.copyright',\n",
       " 'withheld.country_codes',\n",
       " 'entities.annotations',\n",
       " 'entities.cashtags',\n",
       " 'entities.hashtags',\n",
       " 'entities.mentions',\n",
       " 'entities.urls',\n",
       " 'context_annotations',\n",
       " 'attachments.media',\n",
       " 'attachments.media_keys',\n",
       " 'attachments.poll.duration_minutes',\n",
       " 'attachments.poll.end_datetime',\n",
       " 'attachments.poll.id',\n",
       " 'attachments.poll.options',\n",
       " 'attachments.poll.voting_status',\n",
       " 'attachments.poll_ids',\n",
       " 'author.id',\n",
       " 'author.created_at',\n",
       " 'author.username',\n",
       " 'author.name',\n",
       " 'author.description',\n",
       " 'author.entities.description.cashtags',\n",
       " 'author.entities.description.hashtags',\n",
       " 'author.entities.description.mentions',\n",
       " 'author.entities.description.urls',\n",
       " 'author.entities.url.urls',\n",
       " 'author.location',\n",
       " 'author.pinned_tweet_id',\n",
       " 'author.profile_image_url',\n",
       " 'author.protected',\n",
       " 'author.public_metrics.followers_count',\n",
       " 'author.public_metrics.following_count',\n",
       " 'author.public_metrics.listed_count',\n",
       " 'author.public_metrics.tweet_count',\n",
       " 'author.url',\n",
       " 'author.verified',\n",
       " 'author.withheld.scope',\n",
       " 'author.withheld.copyright',\n",
       " 'author.withheld.country_codes',\n",
       " 'geo.coordinates.coordinates',\n",
       " 'geo.coordinates.type',\n",
       " 'geo.country',\n",
       " 'geo.country_code',\n",
       " 'geo.full_name',\n",
       " 'geo.geo.bbox',\n",
       " 'geo.geo.type',\n",
       " 'geo.id',\n",
       " 'geo.name',\n",
       " 'geo.place_id',\n",
       " 'geo.place_type',\n",
       " '__twarc.retrieved_at',\n",
       " '__twarc.url',\n",
       " '__twarc.version',\n",
       " 'Unnamed: 73']"
      ]
     },
     "execution_count": 45,
     "metadata": {},
     "output_type": "execute_result"
    }
   ],
   "source": [
    "list(hashtagcats_df.columns)"
   ]
  },
  {
   "cell_type": "code",
   "execution_count": 46,
   "id": "1d6badeb-47e1-4895-aae6-dbd53d2c50e6",
   "metadata": {},
   "outputs": [
    {
     "name": "stdout",
     "output_type": "stream",
     "text": [
      "Variable              Type         Data/Info\n",
      "--------------------------------------------\n",
      "ecodatasci_df         DataFrame                          id <...>\\n[473 rows x 74 columns]\n",
      "hashtagcats_df        DataFrame                          id <...>\\n[500 rows x 74 columns]\n",
      "library_timeline_df   DataFrame                          id <...>\\n[500 rows x 74 columns]\n",
      "most_rt               DataFrame                          id <...>\\n\\n[1 rows x 74 columns]\n",
      "sort_by_rt            DataFrame                          id <...>\\n[500 rows x 74 columns]\n",
      "ucsblib_timeline_df   DataFrame                          id <...>\\n[500 rows x 74 columns]\n"
     ]
    }
   ],
   "source": [
    "# what dataframes do we have at this point?\n",
    "%whos DataFrame"
   ]
  },
  {
   "cell_type": "markdown",
   "id": "870d9fb7-03eb-4dcd-9ab8-d4888b008f65",
   "metadata": {},
   "source": [
    "# Episode 5: Ethics & Twitter"
   ]
  },
  {
   "cell_type": "code",
   "execution_count": 47,
   "id": "a2a6a3f1-5b8c-40dd-af9e-156270f5b68c",
   "metadata": {},
   "outputs": [
    {
     "name": "stdout",
     "output_type": "stream",
     "text": [
      "ecodatasci_df\t hashtagcats_df\t library_timeline_df\t most_rt\t sort_by_rt\t ucsblib_timeline_df\t \n"
     ]
    }
   ],
   "source": [
    "# what dataframes do we have?\n",
    "# this version is more succinct, but not nicely formated\n",
    "%who DataFrame\n"
   ]
  },
  {
   "cell_type": "code",
   "execution_count": 48,
   "id": "f046b945-b698-4c9b-b6c4-8047382f16aa",
   "metadata": {},
   "outputs": [],
   "source": [
    "# our first full-text analysis\n",
    "# a list of words with TextBlob\n",
    "\n",
    "# first we need to munge the data. remember from:\n",
    "# list(library_df.columns)\n",
    "# the tweet is library_df['text']\n",
    "\n",
    "# TextBlob has its own data format.\n",
    "\n",
    "# break tweets test column into a list, \n",
    "# then .join into one long string \n",
    "library_string = ' '.join(library_timeline_df['text'].tolist())\n",
    "# turn the string into a blob\n",
    "library_blob = textblob.TextBlob(library_string)\n"
   ]
  },
  {
   "cell_type": "code",
   "execution_count": 49,
   "id": "89814018-5e41-4b59-bab1-6df674f53f58",
   "metadata": {},
   "outputs": [],
   "source": [
    "# This produces a mess if we output it. \n",
    "# (library_blob)"
   ]
  },
  {
   "cell_type": "code",
   "execution_count": 50,
   "id": "1a5a3b36-fffd-477c-91bb-cdf315dbe285",
   "metadata": {},
   "outputs": [
    {
     "data": {
      "text/plain": [
       "[('https', 603),\n",
       " ('to', 389),\n",
       " ('of', 349),\n",
       " ('and', 338),\n",
       " ('for', 249),\n",
       " ('a', 249),\n",
       " ('in', 190),\n",
       " ('ucsb', 183),\n",
       " ('our', 166),\n",
       " ('library', 162),\n",
       " ('s', 157),\n",
       " ('at', 132),\n",
       " ('you', 126),\n",
       " ('on', 125),\n",
       " ('from', 115),\n",
       " ('more', 111),\n",
       " ('this', 109),\n",
       " ('we', 105),\n",
       " ('is', 101),\n",
       " ('with', 101),\n",
       " ('by', 101),\n",
       " ('here', 95),\n",
       " ('amp', 94),\n",
       " ('are', 78)]"
      ]
     },
     "execution_count": 50,
     "metadata": {},
     "output_type": "execute_result"
    }
   ],
   "source": [
    "# Let's count the words and sort by their frequency of use:\n",
    "library_freq = library_blob.word_counts\n",
    "library_sorted_freq = sorted(library_freq.items(), \n",
    "                             key = lambda kv: kv[1], \n",
    "                             reverse = True)\n",
    "library_sorted_freq[1:25]"
   ]
  },
  {
   "cell_type": "markdown",
   "id": "dfa676be-7ceb-45e8-82e8-7429b8884d7b",
   "metadata": {},
   "source": [
    "We can get the english stopwords out."
   ]
  },
  {
   "cell_type": "code",
   "execution_count": 51,
   "id": "b5cd1c12-d78a-44e5-9376-26b4a0589785",
   "metadata": {},
   "outputs": [],
   "source": [
    "# load the stopwords to use\n",
    "from nltk.corpus import stopwords\n",
    "sw_nltk = stopwords.words('english')"
   ]
  },
  {
   "cell_type": "code",
   "execution_count": 52,
   "id": "e878e6b7-2c29-45e8-83cd-fb0eefd3b668",
   "metadata": {},
   "outputs": [],
   "source": [
    "# create a new text list that does\n",
    "# NOT contain stopwords\n",
    "library_str_stopped = [word for word in library_string.split() \n",
    "                       if word.lower() not in sw_nltk]\n",
    "library_words_stopped = \" \".join(library_str_stopped)"
   ]
  },
  {
   "cell_type": "markdown",
   "id": "82cdf489-4c2b-421c-94b0-7f8374b4cf30",
   "metadata": {},
   "source": [
    "The output with the stopwords removed is a little better, but there's still some cruft that could be removed:"
   ]
  },
  {
   "cell_type": "code",
   "execution_count": 53,
   "id": "6e27a5b1-0519-407c-ae52-abd0587857a5",
   "metadata": {
    "tags": []
   },
   "outputs": [
    {
     "data": {
      "text/plain": [
       "[('ucsb', 183),\n",
       " ('library', 162),\n",
       " ('s', 146),\n",
       " ('amp', 94),\n",
       " ('here', 86),\n",
       " ('’', 65),\n",
       " ('ucsblibrary', 63),\n",
       " ('research', 60),\n",
       " ('us', 57),\n",
       " ('uc', 56),\n",
       " ('today', 55),\n",
       " ('join', 55),\n",
       " ('open', 50),\n",
       " ('book', 50),\n",
       " ('new', 48),\n",
       " ('reads', 46),\n",
       " ('learn', 44),\n",
       " ('more', 43),\n",
       " ('week', 43),\n",
       " ('we', 40),\n",
       " ('access', 39),\n",
       " ('students', 38),\n",
       " ('nhttps', 34),\n",
       " ('tomorrow', 34),\n",
       " ('study', 34),\n",
       " ('community', 33),\n",
       " ('2022', 33),\n",
       " ('event', 33),\n",
       " ('campus', 33),\n",
       " ('info', 32),\n",
       " ('santa', 32),\n",
       " ('exhibit', 32),\n",
       " ('recordings', 31),\n",
       " ('barbara', 31),\n",
       " ('re', 31),\n",
       " ('art', 30),\n",
       " ('check', 29),\n",
       " ('collections', 27),\n",
       " ('resources', 27),\n",
       " ('day', 27),\n",
       " ('talk', 26),\n",
       " ('ted', 26),\n",
       " ('exhalation', 26),\n",
       " ('collection', 26),\n",
       " ('black', 26),\n",
       " ('chiang', 25),\n",
       " ('discussion', 25),\n",
       " ('register', 25),\n",
       " ('online', 25)]"
      ]
     },
     "execution_count": 53,
     "metadata": {},
     "output_type": "execute_result"
    }
   ],
   "source": [
    "library_blob_stopped = textblob.TextBlob(library_words_stopped)\n",
    "library_blob_stopped_freq = library_blob_stopped.word_counts\n",
    "library_blob_stopped_sorted_freq = sorted(library_blob_stopped_freq.items(), \n",
    "                             key = lambda kv: kv[1], \n",
    "                             reverse = True)\n",
    "library_blob_stopped_sorted_freq[1:50]"
   ]
  },
  {
   "cell_type": "code",
   "execution_count": 54,
   "id": "e7e02e4b-e055-47a8-a99a-03e47a9868c4",
   "metadata": {},
   "outputs": [
    {
     "data": {
      "text/plain": [
       "[('ucsblibrary', 63),\n",
       " ('research', 60),\n",
       " ('us', 57),\n",
       " ('uc', 56),\n",
       " ('today', 55),\n",
       " ('join', 55),\n",
       " ('open', 50),\n",
       " ('book', 50),\n",
       " ('new', 48),\n",
       " ('reads', 46),\n",
       " ('learn', 44),\n",
       " ('more', 43),\n",
       " ('week', 43),\n",
       " ('we', 40),\n",
       " ('access', 39),\n",
       " ('students', 38),\n",
       " ('nhttps', 34),\n",
       " ('tomorrow', 34),\n",
       " ('study', 34),\n",
       " ('community', 33),\n",
       " ('2022', 33),\n",
       " ('event', 33),\n",
       " ('campus', 33),\n",
       " ('info', 32),\n",
       " ('santa', 32),\n",
       " ('exhibit', 32),\n",
       " ('recordings', 31),\n",
       " ('barbara', 31),\n",
       " ('re', 31),\n",
       " ('art', 30),\n",
       " ('check', 29),\n",
       " ('collections', 27),\n",
       " ('resources', 27),\n",
       " ('day', 27),\n",
       " ('talk', 26),\n",
       " ('ted', 26),\n",
       " ('exhalation', 26),\n",
       " ('collection', 26),\n",
       " ('black', 26),\n",
       " ('chiang', 25),\n",
       " ('discussion', 25),\n",
       " ('register', 25),\n",
       " ('online', 25),\n",
       " ('one', 25),\n",
       " ('history', 24),\n",
       " ('pick', 24),\n",
       " ('work', 23),\n",
       " ('free', 23),\n",
       " ('librarian', 22),\n",
       " ('year', 22)]"
      ]
     },
     "execution_count": 54,
     "metadata": {},
     "output_type": "execute_result"
    }
   ],
   "source": [
    "# a more meaningful segment\n",
    "library_blob_stopped_sorted_freq[7:57]"
   ]
  },
  {
   "cell_type": "code",
   "execution_count": 55,
   "id": "e074d32e-4a94-4add-89b3-cf0863340cea",
   "metadata": {},
   "outputs": [],
   "source": [
    "# Challenge: for the Python wizzes. #FIXME\n",
    "# do that in a tidy way?\n",
    "# what do pandas pipes look like?"
   ]
  },
  {
   "cell_type": "markdown",
   "id": "eb8207e9-0ef4-4c45-a236-09e8efb24899",
   "metadata": {},
   "source": [
    "# Just the words, hold the gore"
   ]
  },
  {
   "cell_type": "code",
   "execution_count": null,
   "id": "b0c4d3b0-87bc-4723-8598-a6b782b30791",
   "metadata": {},
   "outputs": [],
   "source": []
  },
  {
   "cell_type": "markdown",
   "id": "2bc9aad4-1981-4911-ac2e-18bb3b0e92ae",
   "metadata": {},
   "source": [
    "## Challenge: Insta-rrectionists"
   ]
  },
  {
   "cell_type": "code",
   "execution_count": 63,
   "id": "76119af0-f58e-4bb4-a296-f0718b28a05b",
   "metadata": {},
   "outputs": [
    {
     "data": {
      "text/plain": [
       "82308"
      ]
     },
     "execution_count": 63,
     "metadata": {},
     "output_type": "execute_result"
    }
   ],
   "source": [
    "# how long is this?\n",
    "riots_dehydrated_df = pandas.read_csv(\"raw_data/dehydratedCapitolRiotTweets.txt\")\n",
    "len(riots_dehydrated_df)"
   ]
  },
  {
   "cell_type": "markdown",
   "id": "880f12d6-5aec-4bbe-ba89-830ecbdc1fa9",
   "metadata": {},
   "source": [
    "### Warning\n",
    "make sure you remove the first line of the csv before you attempt to hydrate."
   ]
  },
  {
   "cell_type": "code",
   "execution_count": 62,
   "id": "fe5551d5-4b64-4731-9285-82bfc5fd9a87",
   "metadata": {},
   "outputs": [
    {
     "name": "stdout",
     "output_type": "stream",
     "text": [
      "100%|███████| Processed 82309/82309 lines of input file [19:03<00:00, 71.97it/s]\n"
     ]
    }
   ],
   "source": [
    "# this takes a very long time.\n",
    "!twarc2 hydrate raw_data/dehydratedCapitolRiotTweets.txt raw_data/riots.jsonl"
   ]
  },
  {
   "cell_type": "code",
   "execution_count": 64,
   "id": "ae63a6f5-71af-4a07-a940-d96b45ebd1a2",
   "metadata": {},
   "outputs": [
    {
     "name": "stdout",
     "output_type": "stream",
     "text": [
      "100%|████████████████| Processed 236M/236M of input file [00:17<00:00, 13.8MB/s]\n",
      "100%|████████████████| Processed 525M/525M of input file [01:13<00:00, 7.54MB/s]\n",
      "\n",
      "ℹ️\n",
      "Parsed 65211 tweets objects from 65211 lines in the input file.\n",
      "233 were duplicates. Wrote 64978 rows and output 74 columns in the CSV.\n",
      "\n",
      "    65211  31133313 550352897 output_data/riots_flat.jsonl\n",
      "    64979  11965879 358548306 output_data/riots_flat.csv\n"
     ]
    }
   ],
   "source": [
    "# regardless of how you slice this, it's about \n",
    "# 80 % of the content that is still there.\n",
    "\n",
    "# these are very slow, so they are commented out\n",
    "! twarc2 flatten raw_data/riots.jsonl output_data/riots_flat.jsonl\n",
    "! twarc2 csv output_data/riots_flat.jsonl output_data/riots_flat.csv\n",
    "\n",
    "! wc output_data/riots_flat.jsonl\n",
    "! wc output_data/riots_flat.csv\n"
   ]
  },
  {
   "cell_type": "code",
   "execution_count": 65,
   "id": "e9940af5-4060-482a-8b32-b9100edc2be4",
   "metadata": {},
   "outputs": [],
   "source": [
    "# let's deal with just 10,000 of these chuckleheads:\n",
    "! head -n 10000 output_data/riots_flat.jsonl > output_data/riots10k.jsonl\n",
    "! twarc2 csv output_data/riots10k.jsonl > output_data/riots10k.csv"
   ]
  },
  {
   "cell_type": "code",
   "execution_count": 66,
   "id": "77650dfb-2962-4afa-ba53-5ab83032feff",
   "metadata": {},
   "outputs": [],
   "source": [
    " riots_df = pandas.read_csv(\"output_data/riots10k.csv\", low_memory=False)"
   ]
  },
  {
   "cell_type": "code",
   "execution_count": 67,
   "id": "41c2a615-48c8-4a97-9624-9bd95a92f466",
   "metadata": {},
   "outputs": [
    {
     "data": {
      "text/plain": [
       "(9997, 74)"
      ]
     },
     "execution_count": 67,
     "metadata": {},
     "output_type": "execute_result"
    }
   ],
   "source": [
    "riots_df.shape"
   ]
  },
  {
   "cell_type": "code",
   "execution_count": 68,
   "id": "3f11eaf7-ee2d-499c-8b56-7130fb9a5ab0",
   "metadata": {},
   "outputs": [
    {
     "data": {
      "text/plain": [
       "Index(['id', 'conversation_id', 'referenced_tweets.replied_to.id',\n",
       "       'referenced_tweets.retweeted.id', 'referenced_tweets.quoted.id',\n",
       "       'author_id', 'in_reply_to_user_id', 'retweeted_user_id',\n",
       "       'quoted_user_id', 'created_at', 'text', 'lang', 'source',\n",
       "       'public_metrics.like_count', 'public_metrics.quote_count',\n",
       "       'public_metrics.reply_count', 'public_metrics.retweet_count',\n",
       "       'reply_settings', 'possibly_sensitive', 'withheld.scope',\n",
       "       'withheld.copyright', 'withheld.country_codes', 'entities.annotations',\n",
       "       'entities.cashtags', 'entities.hashtags', 'entities.mentions',\n",
       "       'entities.urls', 'context_annotations', 'attachments.media',\n",
       "       'attachments.media_keys', 'attachments.poll.duration_minutes',\n",
       "       'attachments.poll.end_datetime', 'attachments.poll.id',\n",
       "       'attachments.poll.options', 'attachments.poll.voting_status',\n",
       "       'attachments.poll_ids', 'author.id', 'author.created_at',\n",
       "       'author.username', 'author.name', 'author.description',\n",
       "       'author.entities.description.cashtags',\n",
       "       'author.entities.description.hashtags',\n",
       "       'author.entities.description.mentions',\n",
       "       'author.entities.description.urls', 'author.entities.url.urls',\n",
       "       'author.location', 'author.pinned_tweet_id', 'author.profile_image_url',\n",
       "       'author.protected', 'author.public_metrics.followers_count',\n",
       "       'author.public_metrics.following_count',\n",
       "       'author.public_metrics.listed_count',\n",
       "       'author.public_metrics.tweet_count', 'author.url', 'author.verified',\n",
       "       'author.withheld.scope', 'author.withheld.copyright',\n",
       "       'author.withheld.country_codes', 'geo.coordinates.coordinates',\n",
       "       'geo.coordinates.type', 'geo.country', 'geo.country_code',\n",
       "       'geo.full_name', 'geo.geo.bbox', 'geo.geo.type', 'geo.id', 'geo.name',\n",
       "       'geo.place_id', 'geo.place_type', '__twarc.retrieved_at', '__twarc.url',\n",
       "       '__twarc.version', 'Unnamed: 73'],\n",
       "      dtype='object')"
      ]
     },
     "execution_count": 68,
     "metadata": {},
     "output_type": "execute_result"
    }
   ],
   "source": [
    "riots_df.columns"
   ]
  },
  {
   "cell_type": "code",
   "execution_count": 69,
   "id": "66035404-0485-457f-97b8-276f91f9ce73",
   "metadata": {},
   "outputs": [
    {
     "data": {
      "text/plain": [
       "(9157,)"
      ]
     },
     "execution_count": 69,
     "metadata": {},
     "output_type": "execute_result"
    }
   ],
   "source": [
    "# count the users\n",
    "unique_users_df = riots_df.author_id.unique()\n",
    "(unique_users_df.shape)"
   ]
  },
  {
   "cell_type": "code",
   "execution_count": 70,
   "id": "cf391ba5-86da-4a56-b52c-3ea6b258e477",
   "metadata": {},
   "outputs": [
    {
     "data": {
      "text/plain": [
       "(231,)"
      ]
     },
     "execution_count": 70,
     "metadata": {},
     "output_type": "execute_result"
    }
   ],
   "source": [
    "# I'm forgetting what this really does for us. The 9160 unique\n",
    "# authors quoted 230 different other people?\n",
    "users_quoted_df = riots_df.quoted_user_id.unique()\n",
    "(users_quoted_df.shape)"
   ]
  },
  {
   "cell_type": "markdown",
   "id": "3d6da4f1-7a9a-47ef-a5ce-d4e5a3920752",
   "metadata": {},
   "source": [
    "# Episode 6: Search and Filter"
   ]
  },
  {
   "cell_type": "code",
   "execution_count": 73,
   "id": "afb13818-26a5-4d6a-bcf1-f99b3d7c966c",
   "metadata": {},
   "outputs": [
    {
     "name": "stdout",
     "output_type": "stream",
     "text": [
      "Set --limit of 800 reached:  92%|▉| Processed 6 days/6 days [00:08<00:00, 896 tw\n",
      "100%|██████████████| Processed 2.57M/2.57M of input file [00:01<00:00, 1.60MB/s]\n",
      "\n",
      "ℹ️\n",
      "Parsed 896 tweets objects from 9 lines in the input file.\n",
      "Wrote 896 rows and output 74 columns in the CSV.\n",
      "\n"
     ]
    }
   ],
   "source": [
    "# use Twitter advanced search syntax (everthing in quotes!)\n",
    "# to get tailored results\n",
    "!twarc2 search --limit 800 \"(cute OR fluffy OR haircut) (#catsofinstagram) lang:en\" raw_data/kittens.jsonl\n",
    "!twarc2 csv raw_data/kittens.jsonl output_data/kittens.csv"
   ]
  },
  {
   "cell_type": "code",
   "execution_count": 74,
   "id": "0ec3cfcd-55cb-4434-b633-b548cb321141",
   "metadata": {},
   "outputs": [],
   "source": [
    "kittens_df = pandas.read_csv(\"output_data/kittens.csv\")"
   ]
  },
  {
   "cell_type": "code",
   "execution_count": 75,
   "id": "92c8aa01-430a-4599-a65d-aaac822ff8c9",
   "metadata": {},
   "outputs": [
    {
     "data": {
      "text/html": [
       "<div>\n",
       "<style scoped>\n",
       "    .dataframe tbody tr th:only-of-type {\n",
       "        vertical-align: middle;\n",
       "    }\n",
       "\n",
       "    .dataframe tbody tr th {\n",
       "        vertical-align: top;\n",
       "    }\n",
       "\n",
       "    .dataframe thead th {\n",
       "        text-align: right;\n",
       "    }\n",
       "</style>\n",
       "<table border=\"1\" class=\"dataframe\">\n",
       "  <thead>\n",
       "    <tr style=\"text-align: right;\">\n",
       "      <th></th>\n",
       "      <th>id</th>\n",
       "      <th>conversation_id</th>\n",
       "      <th>referenced_tweets.replied_to.id</th>\n",
       "      <th>referenced_tweets.retweeted.id</th>\n",
       "      <th>referenced_tweets.quoted.id</th>\n",
       "      <th>author_id</th>\n",
       "      <th>in_reply_to_user_id</th>\n",
       "      <th>retweeted_user_id</th>\n",
       "      <th>quoted_user_id</th>\n",
       "      <th>created_at</th>\n",
       "      <th>...</th>\n",
       "      <th>geo.geo.bbox</th>\n",
       "      <th>geo.geo.type</th>\n",
       "      <th>geo.id</th>\n",
       "      <th>geo.name</th>\n",
       "      <th>geo.place_id</th>\n",
       "      <th>geo.place_type</th>\n",
       "      <th>__twarc.retrieved_at</th>\n",
       "      <th>__twarc.url</th>\n",
       "      <th>__twarc.version</th>\n",
       "      <th>Unnamed: 73</th>\n",
       "    </tr>\n",
       "  </thead>\n",
       "  <tbody>\n",
       "    <tr>\n",
       "      <th>0</th>\n",
       "      <td>1529602531445288960</td>\n",
       "      <td>1529602531445288960</td>\n",
       "      <td>NaN</td>\n",
       "      <td>1.529357e+18</td>\n",
       "      <td>NaN</td>\n",
       "      <td>1419813068658282497</td>\n",
       "      <td>NaN</td>\n",
       "      <td>9.144608e+17</td>\n",
       "      <td>NaN</td>\n",
       "      <td>2022-05-25T23:17:16.000Z</td>\n",
       "      <td>...</td>\n",
       "      <td>NaN</td>\n",
       "      <td>NaN</td>\n",
       "      <td>NaN</td>\n",
       "      <td>NaN</td>\n",
       "      <td>NaN</td>\n",
       "      <td>NaN</td>\n",
       "      <td>2022-05-25T23:26:22+00:00</td>\n",
       "      <td>https://api.twitter.com/2/tweets/search/recent...</td>\n",
       "      <td>2.10.4</td>\n",
       "      <td>NaN</td>\n",
       "    </tr>\n",
       "    <tr>\n",
       "      <th>1</th>\n",
       "      <td>1529602031719174146</td>\n",
       "      <td>1529602031719174146</td>\n",
       "      <td>NaN</td>\n",
       "      <td>1.529495e+18</td>\n",
       "      <td>NaN</td>\n",
       "      <td>969133628738465793</td>\n",
       "      <td>NaN</td>\n",
       "      <td>1.513539e+18</td>\n",
       "      <td>NaN</td>\n",
       "      <td>2022-05-25T23:15:17.000Z</td>\n",
       "      <td>...</td>\n",
       "      <td>NaN</td>\n",
       "      <td>NaN</td>\n",
       "      <td>NaN</td>\n",
       "      <td>NaN</td>\n",
       "      <td>NaN</td>\n",
       "      <td>NaN</td>\n",
       "      <td>2022-05-25T23:26:22+00:00</td>\n",
       "      <td>https://api.twitter.com/2/tweets/search/recent...</td>\n",
       "      <td>2.10.4</td>\n",
       "      <td>NaN</td>\n",
       "    </tr>\n",
       "    <tr>\n",
       "      <th>2</th>\n",
       "      <td>1529599217974628358</td>\n",
       "      <td>1529599217974628358</td>\n",
       "      <td>NaN</td>\n",
       "      <td>1.529357e+18</td>\n",
       "      <td>NaN</td>\n",
       "      <td>1244261209655914498</td>\n",
       "      <td>NaN</td>\n",
       "      <td>9.144608e+17</td>\n",
       "      <td>NaN</td>\n",
       "      <td>2022-05-25T23:04:06.000Z</td>\n",
       "      <td>...</td>\n",
       "      <td>NaN</td>\n",
       "      <td>NaN</td>\n",
       "      <td>NaN</td>\n",
       "      <td>NaN</td>\n",
       "      <td>NaN</td>\n",
       "      <td>NaN</td>\n",
       "      <td>2022-05-25T23:26:22+00:00</td>\n",
       "      <td>https://api.twitter.com/2/tweets/search/recent...</td>\n",
       "      <td>2.10.4</td>\n",
       "      <td>NaN</td>\n",
       "    </tr>\n",
       "    <tr>\n",
       "      <th>3</th>\n",
       "      <td>1529599029256019969</td>\n",
       "      <td>1529599029256019969</td>\n",
       "      <td>NaN</td>\n",
       "      <td>1.529357e+18</td>\n",
       "      <td>NaN</td>\n",
       "      <td>1520030542972006401</td>\n",
       "      <td>NaN</td>\n",
       "      <td>9.144608e+17</td>\n",
       "      <td>NaN</td>\n",
       "      <td>2022-05-25T23:03:21.000Z</td>\n",
       "      <td>...</td>\n",
       "      <td>NaN</td>\n",
       "      <td>NaN</td>\n",
       "      <td>NaN</td>\n",
       "      <td>NaN</td>\n",
       "      <td>NaN</td>\n",
       "      <td>NaN</td>\n",
       "      <td>2022-05-25T23:26:22+00:00</td>\n",
       "      <td>https://api.twitter.com/2/tweets/search/recent...</td>\n",
       "      <td>2.10.4</td>\n",
       "      <td>NaN</td>\n",
       "    </tr>\n",
       "    <tr>\n",
       "      <th>4</th>\n",
       "      <td>1529594974123220992</td>\n",
       "      <td>1529594974123220992</td>\n",
       "      <td>NaN</td>\n",
       "      <td>1.529357e+18</td>\n",
       "      <td>NaN</td>\n",
       "      <td>1355336563182379012</td>\n",
       "      <td>NaN</td>\n",
       "      <td>9.144608e+17</td>\n",
       "      <td>NaN</td>\n",
       "      <td>2022-05-25T22:47:14.000Z</td>\n",
       "      <td>...</td>\n",
       "      <td>NaN</td>\n",
       "      <td>NaN</td>\n",
       "      <td>NaN</td>\n",
       "      <td>NaN</td>\n",
       "      <td>NaN</td>\n",
       "      <td>NaN</td>\n",
       "      <td>2022-05-25T23:26:22+00:00</td>\n",
       "      <td>https://api.twitter.com/2/tweets/search/recent...</td>\n",
       "      <td>2.10.4</td>\n",
       "      <td>NaN</td>\n",
       "    </tr>\n",
       "    <tr>\n",
       "      <th>...</th>\n",
       "      <td>...</td>\n",
       "      <td>...</td>\n",
       "      <td>...</td>\n",
       "      <td>...</td>\n",
       "      <td>...</td>\n",
       "      <td>...</td>\n",
       "      <td>...</td>\n",
       "      <td>...</td>\n",
       "      <td>...</td>\n",
       "      <td>...</td>\n",
       "      <td>...</td>\n",
       "      <td>...</td>\n",
       "      <td>...</td>\n",
       "      <td>...</td>\n",
       "      <td>...</td>\n",
       "      <td>...</td>\n",
       "      <td>...</td>\n",
       "      <td>...</td>\n",
       "      <td>...</td>\n",
       "      <td>...</td>\n",
       "      <td>...</td>\n",
       "    </tr>\n",
       "    <tr>\n",
       "      <th>891</th>\n",
       "      <td>1527266234462527488</td>\n",
       "      <td>1527266234462527488</td>\n",
       "      <td>NaN</td>\n",
       "      <td>1.526889e+18</td>\n",
       "      <td>NaN</td>\n",
       "      <td>3103520718</td>\n",
       "      <td>NaN</td>\n",
       "      <td>3.958303e+09</td>\n",
       "      <td>NaN</td>\n",
       "      <td>2022-05-19T12:33:40.000Z</td>\n",
       "      <td>...</td>\n",
       "      <td>NaN</td>\n",
       "      <td>NaN</td>\n",
       "      <td>NaN</td>\n",
       "      <td>NaN</td>\n",
       "      <td>NaN</td>\n",
       "      <td>NaN</td>\n",
       "      <td>2022-05-25T23:26:30+00:00</td>\n",
       "      <td>https://api.twitter.com/2/tweets/search/recent...</td>\n",
       "      <td>2.10.4</td>\n",
       "      <td>NaN</td>\n",
       "    </tr>\n",
       "    <tr>\n",
       "      <th>892</th>\n",
       "      <td>1527259783149019136</td>\n",
       "      <td>1527259783149019136</td>\n",
       "      <td>NaN</td>\n",
       "      <td>1.526889e+18</td>\n",
       "      <td>NaN</td>\n",
       "      <td>2260128217</td>\n",
       "      <td>NaN</td>\n",
       "      <td>3.958303e+09</td>\n",
       "      <td>NaN</td>\n",
       "      <td>2022-05-19T12:08:02.000Z</td>\n",
       "      <td>...</td>\n",
       "      <td>NaN</td>\n",
       "      <td>NaN</td>\n",
       "      <td>NaN</td>\n",
       "      <td>NaN</td>\n",
       "      <td>NaN</td>\n",
       "      <td>NaN</td>\n",
       "      <td>2022-05-25T23:26:30+00:00</td>\n",
       "      <td>https://api.twitter.com/2/tweets/search/recent...</td>\n",
       "      <td>2.10.4</td>\n",
       "      <td>NaN</td>\n",
       "    </tr>\n",
       "    <tr>\n",
       "      <th>893</th>\n",
       "      <td>1527258740105400321</td>\n",
       "      <td>1527258740105400321</td>\n",
       "      <td>NaN</td>\n",
       "      <td>1.526889e+18</td>\n",
       "      <td>NaN</td>\n",
       "      <td>1087492717872119813</td>\n",
       "      <td>NaN</td>\n",
       "      <td>3.958303e+09</td>\n",
       "      <td>NaN</td>\n",
       "      <td>2022-05-19T12:03:53.000Z</td>\n",
       "      <td>...</td>\n",
       "      <td>NaN</td>\n",
       "      <td>NaN</td>\n",
       "      <td>NaN</td>\n",
       "      <td>NaN</td>\n",
       "      <td>NaN</td>\n",
       "      <td>NaN</td>\n",
       "      <td>2022-05-25T23:26:30+00:00</td>\n",
       "      <td>https://api.twitter.com/2/tweets/search/recent...</td>\n",
       "      <td>2.10.4</td>\n",
       "      <td>NaN</td>\n",
       "    </tr>\n",
       "    <tr>\n",
       "      <th>894</th>\n",
       "      <td>1527257778154135552</td>\n",
       "      <td>1527257778154135552</td>\n",
       "      <td>NaN</td>\n",
       "      <td>NaN</td>\n",
       "      <td>NaN</td>\n",
       "      <td>1421621215135866881</td>\n",
       "      <td>NaN</td>\n",
       "      <td>NaN</td>\n",
       "      <td>NaN</td>\n",
       "      <td>2022-05-19T12:00:04.000Z</td>\n",
       "      <td>...</td>\n",
       "      <td>NaN</td>\n",
       "      <td>NaN</td>\n",
       "      <td>NaN</td>\n",
       "      <td>NaN</td>\n",
       "      <td>NaN</td>\n",
       "      <td>NaN</td>\n",
       "      <td>2022-05-25T23:26:30+00:00</td>\n",
       "      <td>https://api.twitter.com/2/tweets/search/recent...</td>\n",
       "      <td>2.10.4</td>\n",
       "      <td>NaN</td>\n",
       "    </tr>\n",
       "    <tr>\n",
       "      <th>895</th>\n",
       "      <td>1527254326858682371</td>\n",
       "      <td>1527254326858682371</td>\n",
       "      <td>NaN</td>\n",
       "      <td>1.526889e+18</td>\n",
       "      <td>NaN</td>\n",
       "      <td>2183391427</td>\n",
       "      <td>NaN</td>\n",
       "      <td>3.958303e+09</td>\n",
       "      <td>NaN</td>\n",
       "      <td>2022-05-19T11:46:21.000Z</td>\n",
       "      <td>...</td>\n",
       "      <td>NaN</td>\n",
       "      <td>NaN</td>\n",
       "      <td>NaN</td>\n",
       "      <td>NaN</td>\n",
       "      <td>NaN</td>\n",
       "      <td>NaN</td>\n",
       "      <td>2022-05-25T23:26:30+00:00</td>\n",
       "      <td>https://api.twitter.com/2/tweets/search/recent...</td>\n",
       "      <td>2.10.4</td>\n",
       "      <td>NaN</td>\n",
       "    </tr>\n",
       "  </tbody>\n",
       "</table>\n",
       "<p>896 rows × 74 columns</p>\n",
       "</div>"
      ],
      "text/plain": [
       "                      id      conversation_id  \\\n",
       "0    1529602531445288960  1529602531445288960   \n",
       "1    1529602031719174146  1529602031719174146   \n",
       "2    1529599217974628358  1529599217974628358   \n",
       "3    1529599029256019969  1529599029256019969   \n",
       "4    1529594974123220992  1529594974123220992   \n",
       "..                   ...                  ...   \n",
       "891  1527266234462527488  1527266234462527488   \n",
       "892  1527259783149019136  1527259783149019136   \n",
       "893  1527258740105400321  1527258740105400321   \n",
       "894  1527257778154135552  1527257778154135552   \n",
       "895  1527254326858682371  1527254326858682371   \n",
       "\n",
       "     referenced_tweets.replied_to.id  referenced_tweets.retweeted.id  \\\n",
       "0                                NaN                    1.529357e+18   \n",
       "1                                NaN                    1.529495e+18   \n",
       "2                                NaN                    1.529357e+18   \n",
       "3                                NaN                    1.529357e+18   \n",
       "4                                NaN                    1.529357e+18   \n",
       "..                               ...                             ...   \n",
       "891                              NaN                    1.526889e+18   \n",
       "892                              NaN                    1.526889e+18   \n",
       "893                              NaN                    1.526889e+18   \n",
       "894                              NaN                             NaN   \n",
       "895                              NaN                    1.526889e+18   \n",
       "\n",
       "     referenced_tweets.quoted.id            author_id  in_reply_to_user_id  \\\n",
       "0                            NaN  1419813068658282497                  NaN   \n",
       "1                            NaN   969133628738465793                  NaN   \n",
       "2                            NaN  1244261209655914498                  NaN   \n",
       "3                            NaN  1520030542972006401                  NaN   \n",
       "4                            NaN  1355336563182379012                  NaN   \n",
       "..                           ...                  ...                  ...   \n",
       "891                          NaN           3103520718                  NaN   \n",
       "892                          NaN           2260128217                  NaN   \n",
       "893                          NaN  1087492717872119813                  NaN   \n",
       "894                          NaN  1421621215135866881                  NaN   \n",
       "895                          NaN           2183391427                  NaN   \n",
       "\n",
       "     retweeted_user_id  quoted_user_id                created_at  ...  \\\n",
       "0         9.144608e+17             NaN  2022-05-25T23:17:16.000Z  ...   \n",
       "1         1.513539e+18             NaN  2022-05-25T23:15:17.000Z  ...   \n",
       "2         9.144608e+17             NaN  2022-05-25T23:04:06.000Z  ...   \n",
       "3         9.144608e+17             NaN  2022-05-25T23:03:21.000Z  ...   \n",
       "4         9.144608e+17             NaN  2022-05-25T22:47:14.000Z  ...   \n",
       "..                 ...             ...                       ...  ...   \n",
       "891       3.958303e+09             NaN  2022-05-19T12:33:40.000Z  ...   \n",
       "892       3.958303e+09             NaN  2022-05-19T12:08:02.000Z  ...   \n",
       "893       3.958303e+09             NaN  2022-05-19T12:03:53.000Z  ...   \n",
       "894                NaN             NaN  2022-05-19T12:00:04.000Z  ...   \n",
       "895       3.958303e+09             NaN  2022-05-19T11:46:21.000Z  ...   \n",
       "\n",
       "    geo.geo.bbox geo.geo.type geo.id  geo.name  geo.place_id  geo.place_type  \\\n",
       "0            NaN          NaN    NaN       NaN           NaN             NaN   \n",
       "1            NaN          NaN    NaN       NaN           NaN             NaN   \n",
       "2            NaN          NaN    NaN       NaN           NaN             NaN   \n",
       "3            NaN          NaN    NaN       NaN           NaN             NaN   \n",
       "4            NaN          NaN    NaN       NaN           NaN             NaN   \n",
       "..           ...          ...    ...       ...           ...             ...   \n",
       "891          NaN          NaN    NaN       NaN           NaN             NaN   \n",
       "892          NaN          NaN    NaN       NaN           NaN             NaN   \n",
       "893          NaN          NaN    NaN       NaN           NaN             NaN   \n",
       "894          NaN          NaN    NaN       NaN           NaN             NaN   \n",
       "895          NaN          NaN    NaN       NaN           NaN             NaN   \n",
       "\n",
       "          __twarc.retrieved_at  \\\n",
       "0    2022-05-25T23:26:22+00:00   \n",
       "1    2022-05-25T23:26:22+00:00   \n",
       "2    2022-05-25T23:26:22+00:00   \n",
       "3    2022-05-25T23:26:22+00:00   \n",
       "4    2022-05-25T23:26:22+00:00   \n",
       "..                         ...   \n",
       "891  2022-05-25T23:26:30+00:00   \n",
       "892  2022-05-25T23:26:30+00:00   \n",
       "893  2022-05-25T23:26:30+00:00   \n",
       "894  2022-05-25T23:26:30+00:00   \n",
       "895  2022-05-25T23:26:30+00:00   \n",
       "\n",
       "                                           __twarc.url  __twarc.version  \\\n",
       "0    https://api.twitter.com/2/tweets/search/recent...           2.10.4   \n",
       "1    https://api.twitter.com/2/tweets/search/recent...           2.10.4   \n",
       "2    https://api.twitter.com/2/tweets/search/recent...           2.10.4   \n",
       "3    https://api.twitter.com/2/tweets/search/recent...           2.10.4   \n",
       "4    https://api.twitter.com/2/tweets/search/recent...           2.10.4   \n",
       "..                                                 ...              ...   \n",
       "891  https://api.twitter.com/2/tweets/search/recent...           2.10.4   \n",
       "892  https://api.twitter.com/2/tweets/search/recent...           2.10.4   \n",
       "893  https://api.twitter.com/2/tweets/search/recent...           2.10.4   \n",
       "894  https://api.twitter.com/2/tweets/search/recent...           2.10.4   \n",
       "895  https://api.twitter.com/2/tweets/search/recent...           2.10.4   \n",
       "\n",
       "     Unnamed: 73  \n",
       "0            NaN  \n",
       "1            NaN  \n",
       "2            NaN  \n",
       "3            NaN  \n",
       "4            NaN  \n",
       "..           ...  \n",
       "891          NaN  \n",
       "892          NaN  \n",
       "893          NaN  \n",
       "894          NaN  \n",
       "895          NaN  \n",
       "\n",
       "[896 rows x 74 columns]"
      ]
     },
     "execution_count": 75,
     "metadata": {},
     "output_type": "execute_result"
    }
   ],
   "source": [
    "kittens_df"
   ]
  },
  {
   "cell_type": "code",
   "execution_count": 76,
   "id": "0015b8ec-3e79-46d8-8f76-9aa7c5dc66b2",
   "metadata": {},
   "outputs": [
    {
     "data": {
      "text/plain": [
       "['id',\n",
       " 'conversation_id',\n",
       " 'referenced_tweets.replied_to.id',\n",
       " 'referenced_tweets.retweeted.id',\n",
       " 'referenced_tweets.quoted.id',\n",
       " 'author_id',\n",
       " 'in_reply_to_user_id',\n",
       " 'retweeted_user_id',\n",
       " 'quoted_user_id',\n",
       " 'created_at',\n",
       " 'text',\n",
       " 'lang',\n",
       " 'source',\n",
       " 'public_metrics.like_count',\n",
       " 'public_metrics.quote_count',\n",
       " 'public_metrics.reply_count',\n",
       " 'public_metrics.retweet_count',\n",
       " 'reply_settings',\n",
       " 'possibly_sensitive',\n",
       " 'withheld.scope',\n",
       " 'withheld.copyright',\n",
       " 'withheld.country_codes',\n",
       " 'entities.annotations',\n",
       " 'entities.cashtags',\n",
       " 'entities.hashtags',\n",
       " 'entities.mentions',\n",
       " 'entities.urls',\n",
       " 'context_annotations',\n",
       " 'attachments.media',\n",
       " 'attachments.media_keys',\n",
       " 'attachments.poll.duration_minutes',\n",
       " 'attachments.poll.end_datetime',\n",
       " 'attachments.poll.id',\n",
       " 'attachments.poll.options',\n",
       " 'attachments.poll.voting_status',\n",
       " 'attachments.poll_ids',\n",
       " 'author.id',\n",
       " 'author.created_at',\n",
       " 'author.username',\n",
       " 'author.name',\n",
       " 'author.description',\n",
       " 'author.entities.description.cashtags',\n",
       " 'author.entities.description.hashtags',\n",
       " 'author.entities.description.mentions',\n",
       " 'author.entities.description.urls',\n",
       " 'author.entities.url.urls',\n",
       " 'author.location',\n",
       " 'author.pinned_tweet_id',\n",
       " 'author.profile_image_url',\n",
       " 'author.protected',\n",
       " 'author.public_metrics.followers_count',\n",
       " 'author.public_metrics.following_count',\n",
       " 'author.public_metrics.listed_count',\n",
       " 'author.public_metrics.tweet_count',\n",
       " 'author.url',\n",
       " 'author.verified',\n",
       " 'author.withheld.scope',\n",
       " 'author.withheld.copyright',\n",
       " 'author.withheld.country_codes',\n",
       " 'geo.coordinates.coordinates',\n",
       " 'geo.coordinates.type',\n",
       " 'geo.country',\n",
       " 'geo.country_code',\n",
       " 'geo.full_name',\n",
       " 'geo.geo.bbox',\n",
       " 'geo.geo.type',\n",
       " 'geo.id',\n",
       " 'geo.name',\n",
       " 'geo.place_id',\n",
       " 'geo.place_type',\n",
       " '__twarc.retrieved_at',\n",
       " '__twarc.url',\n",
       " '__twarc.version',\n",
       " 'Unnamed: 73']"
      ]
     },
     "execution_count": 76,
     "metadata": {},
     "output_type": "execute_result"
    }
   ],
   "source": [
    "list(kittens_df.columns)"
   ]
  },
  {
   "cell_type": "markdown",
   "id": "52f49634-c9d6-4118-8f26-10741d9e8b1f",
   "metadata": {},
   "source": [
    "# Search"
   ]
  },
  {
   "cell_type": "markdown",
   "id": "9f157ea3-b6ae-4fd8-89c0-6cfca061d471",
   "metadata": {},
   "source": [
    "Twitter search using Boolean logic "
   ]
  },
  {
   "cell_type": "markdown",
   "id": "8fdfe99e-52c1-4650-8555-00120fb2139a",
   "metadata": {},
   "source": [
    "### Using And \n",
    "In twarc, a space between operators will act as `AND`"
   ]
  },
  {
   "cell_type": "code",
   "execution_count": 77,
   "id": "7503c80d-cf83-474d-8d76-695134f87f52",
   "metadata": {},
   "outputs": [],
   "source": [
    "\n",
    "!twarc2 search --limit 200 \"grumpy cat\" > raw_data/grumpy_throwaway.jsonl\n",
    "# this will return tweets matching both conditions \n",
    "# running without a limit will crash the kernel the cats are so strong "
   ]
  },
  {
   "cell_type": "markdown",
   "id": "7aaffd86-eaa4-40b4-a2e4-090e27b910cd",
   "metadata": {},
   "source": [
    "### Using Or\n",
    "\n",
    "In twarc, using OR will return results where either condition is met "
   ]
  },
  {
   "cell_type": "code",
   "execution_count": 78,
   "id": "a1b78e1c-aeae-44a6-b87b-5a38495cca58",
   "metadata": {},
   "outputs": [],
   "source": [
    "!twarc2 search  --limit 200 \"grumpy OR cat\" > raw_data/grumpy_throwaway.jsonl\n",
    "\n",
    "#this will return tweets where either search condition is met, grumpy or cat \n",
    "#running without a limit will crash the kernel grumpy people and cats are so strong "
   ]
  },
  {
   "cell_type": "markdown",
   "id": "63683bec-6ce7-48bc-8a62-c58c5bc365ee",
   "metadata": {},
   "source": [
    "### Not Logic \n",
    "\n",
    "What about negating certain terms within a search? Use a dash (-) followed by the keyword you want to avoid"
   ]
  },
  {
   "cell_type": "code",
   "execution_count": 79,
   "id": "3a257796-9be9-47a5-99fd-4b11b59a031e",
   "metadata": {},
   "outputs": [],
   "source": [
    "# lets ignore Doja Cat from our internet cat search\n",
    "\n",
    "!twarc2 search --limit 200 \"grumpy OR cat -Dojacat\" > raw_data/grumpy_throwaway.jsonl"
   ]
  },
  {
   "cell_type": "markdown",
   "id": "a479e88a-c768-4560-b014-b4c6c551aba7",
   "metadata": {},
   "source": [
    "### Searching by User \n",
    "\n",
    "Looking for mentions, tos/froms "
   ]
  },
  {
   "cell_type": "code",
   "execution_count": 80,
   "id": "469984e4-5444-465e-8e06-f60ca34116aa",
   "metadata": {},
   "outputs": [],
   "source": [
    "#to: will match any tweeet that is a reply to a particular user \n",
    "#You can only pass a single username per to: command \n",
    "!twarc2 search \"(to:realgrumpycat)\" > raw_data/grumpy_throwaway.jsonl"
   ]
  },
  {
   "cell_type": "markdown",
   "id": "ceed0497-071f-4c73-a58e-3ae5ff943e70",
   "metadata": {},
   "source": [
    "Likewise, from: will match any tweet from a specific user "
   ]
  },
  {
   "cell_type": "code",
   "execution_count": 81,
   "id": "70d2e682-ccba-4e65-92b2-abbca3727844",
   "metadata": {},
   "outputs": [],
   "source": [
    " !twarc2 search \"(from:realgrumpycat)\" > raw_data/grumpy_throwaway.jsonl"
   ]
  },
  {
   "cell_type": "markdown",
   "id": "202d686e-b651-40e1-b696-1ef2d0254795",
   "metadata": {},
   "source": [
    "### Searching for Hashtags"
   ]
  },
  {
   "cell_type": "code",
   "execution_count": 82,
   "id": "5062cad2-0b8e-467f-bac5-da3c7cf3207d",
   "metadata": {},
   "outputs": [],
   "source": [
    "# the below command would be a good way to blow your quota\n",
    "# !twarc2 search \"#meme\" > raw_data/grumpy_throwaway.jsonl"
   ]
  },
  {
   "cell_type": "markdown",
   "id": "ac9bafde-cb7c-4a2a-a071-6ef859c19af7",
   "metadata": {},
   "source": [
    "### Order of Operations \n",
    "\n",
    "Of course, you can combine search queries to narrow down results but remember these rules. \n",
    "You can also use () to group terms to eliminate any uncertainty"
   ]
  },
  {
   "cell_type": "markdown",
   "id": "0c5f1f57-86fd-498f-931b-15276987bedf",
   "metadata": {},
   "source": [
    "* cats OR cole marmalade > cats OR (cole marmalade) \n",
    "* cats cole OR marmalade > (cats cole) OR marmalade"
   ]
  },
  {
   "cell_type": "markdown",
   "id": "e51d80cd-1b9c-4099-b821-444cd4daaa03",
   "metadata": {},
   "source": [
    "* (cats or cole) marmalade > some cats, some guys named Cole, and orange preservatives \n",
    "* cat (cole marmalade) > group them together, and give us the actual cat duo "
   ]
  },
  {
   "cell_type": "markdown",
   "id": "9d0826cb-bdd4-49da-9bb2-522d7c70d0ba",
   "metadata": {},
   "source": [
    "### Advanced Cat Challenge "
   ]
  },
  {
   "cell_type": "code",
   "execution_count": 83,
   "id": "b7221f46-b3a4-4b64-8d5a-7ef2c96ccaee",
   "metadata": {
    "tags": []
   },
   "outputs": [],
   "source": [
    "# !twarc2 search \"(grumpy cat #meme)\"\n",
    " \n",
    "# !twarc2 search \"(grumpy cat) OR (#meme has:images)\"\n",
    "\n",
    "# !twarc2 search \"(cats OR puppies) has:media\"\n",
    "\n",
    "# !twarc2 search \"(to:_We_Rate_Cats) lang:en\""
   ]
  },
  {
   "cell_type": "code",
   "execution_count": null,
   "id": "4839f38b-2849-4b25-8929-70b08388b46b",
   "metadata": {},
   "outputs": [],
   "source": []
  },
  {
   "cell_type": "markdown",
   "id": "deb4826b-87dc-4262-a965-8291d5c04d77",
   "metadata": {},
   "source": [
    "# Stream"
   ]
  },
  {
   "cell_type": "code",
   "execution_count": 84,
   "id": "f3813f06-866d-4dad-8913-eb97eeb9a32f",
   "metadata": {},
   "outputs": [
    {
     "name": "stdout",
     "output_type": "stream",
     "text": [
      "\u001b[32m🚀  Added rule for \u001b[0m\"#WorldGothDay\"\n"
     ]
    }
   ],
   "source": [
    "!twarc2 stream-rules add \"#WorldGothDay\""
   ]
  },
  {
   "cell_type": "code",
   "execution_count": 85,
   "id": "fa0e9f9c-9495-4470-b67d-d1d655c9702e",
   "metadata": {},
   "outputs": [
    {
     "name": "stdout",
     "output_type": "stream",
     "text": [
      "\u001b[32m🚀  Added rule for \u001b[0m\"gothcats\"\n"
     ]
    }
   ],
   "source": [
    "!twarc2 stream-rules add \"gothcats\""
   ]
  },
  {
   "cell_type": "code",
   "execution_count": 86,
   "id": "199399be-2763-4069-8a02-45df725654b5",
   "metadata": {},
   "outputs": [],
   "source": [
    "# press the square to interrupt this!"
   ]
  },
  {
   "cell_type": "code",
   "execution_count": 87,
   "id": "1a753327-f249-4caa-83b0-0a9dfa81811f",
   "metadata": {},
   "outputs": [],
   "source": [
    "# !twarc2 stream > \"raw_data/streamed_goth.jsonl\""
   ]
  },
  {
   "cell_type": "code",
   "execution_count": 88,
   "id": "4a605d10-ec05-4dd1-9fe9-9d86be898e14",
   "metadata": {},
   "outputs": [
    {
     "name": "stdout",
     "output_type": "stream",
     "text": [
      "wc: raw_data/streamed_goth.jsonl: No such file or directory\n",
      "Usage: twarc2 flatten [OPTIONS] [INFILE] [OUTFILE]\n",
      "Try 'twarc2 flatten --help' for help.\n",
      "\n",
      "Error: Invalid value for '[INFILE]': 'raw_data/streamed_goth.jsonl': No such file or directory\n",
      "0 0 0 output_data/streamed_goth_flat.jsonl\n"
     ]
    }
   ],
   "source": [
    "! wc raw_data/streamed_goth.jsonl\n",
    "! twarc2 flatten raw_data/streamed_goth.jsonl > output_data/streamed_goth_flat.jsonl\n",
    "! wc output_data/streamed_goth_flat.jsonl "
   ]
  },
  {
   "cell_type": "code",
   "execution_count": null,
   "id": "201fdef7-f70e-4188-9d8f-e2c5fe2d7b6b",
   "metadata": {},
   "outputs": [],
   "source": []
  },
  {
   "cell_type": "code",
   "execution_count": 89,
   "id": "ad11f3b7-ae2f-4605-8434-1d5709e13384",
   "metadata": {},
   "outputs": [
    {
     "name": "stdout",
     "output_type": "stream",
     "text": [
      "🗑  Deleted stream rule for gothcats\n",
      "🗑  Deleted stream rule for #WorldGothDay\n"
     ]
    }
   ],
   "source": [
    "!twarc2 stream-rules delete \"gothcats\"\n",
    "!twarc2 stream-rules delete \"#WorldGothDay\""
   ]
  },
  {
   "cell_type": "code",
   "execution_count": null,
   "id": "232b27f7-99be-456e-a7b3-26cbaa118501",
   "metadata": {},
   "outputs": [],
   "source": []
  },
  {
   "cell_type": "markdown",
   "id": "12ca8fc4-ac95-4535-8146-843e2126e915",
   "metadata": {},
   "source": [
    "# Episode 7: twarc plug-ins"
   ]
  },
  {
   "cell_type": "markdown",
   "id": "29ff0744-a49c-4fea-9b79-f7b245ce81c3",
   "metadata": {},
   "source": [
    "### install the plug-ins\n",
    "you'll need to do this each time your kernel restarts"
   ]
  },
  {
   "cell_type": "code",
   "execution_count": 90,
   "id": "c01a8f05-8ce2-4bc5-a67c-da24ff406f79",
   "metadata": {},
   "outputs": [
    {
     "name": "stdout",
     "output_type": "stream",
     "text": [
      "Requirement already satisfied: twarc-hashtags in /opt/conda/lib/python3.9/site-packages (0.0.5)\n",
      "Requirement already satisfied: twarc>=2.1.1 in /opt/conda/lib/python3.9/site-packages (from twarc-hashtags) (2.10.4)\n",
      "Requirement already satisfied: click-plugins>=1 in /opt/conda/lib/python3.9/site-packages (from twarc>=2.1.1->twarc-hashtags) (1.1.1)\n",
      "Requirement already satisfied: requests-oauthlib>=1.3 in /opt/conda/lib/python3.9/site-packages (from twarc>=2.1.1->twarc-hashtags) (1.3.1)\n",
      "Requirement already satisfied: click<9,>=7 in /opt/conda/lib/python3.9/site-packages (from twarc>=2.1.1->twarc-hashtags) (8.1.3)\n",
      "Requirement already satisfied: python-dateutil>=2.8 in /opt/conda/lib/python3.9/site-packages (from twarc>=2.1.1->twarc-hashtags) (2.8.2)\n",
      "Requirement already satisfied: humanize>=3.9 in /opt/conda/lib/python3.9/site-packages (from twarc>=2.1.1->twarc-hashtags) (4.1.0)\n",
      "Requirement already satisfied: click-config-file>=0.6 in /opt/conda/lib/python3.9/site-packages (from twarc>=2.1.1->twarc-hashtags) (0.6.0)\n",
      "Requirement already satisfied: tqdm>=4.62 in /opt/conda/lib/python3.9/site-packages (from twarc>=2.1.1->twarc-hashtags) (4.64.0)\n",
      "Requirement already satisfied: configobj>=5.0.6 in /opt/conda/lib/python3.9/site-packages (from click-config-file>=0.6->twarc>=2.1.1->twarc-hashtags) (5.0.6)\n",
      "Requirement already satisfied: six>=1.5 in /opt/conda/lib/python3.9/site-packages (from python-dateutil>=2.8->twarc>=2.1.1->twarc-hashtags) (1.16.0)\n",
      "Requirement already satisfied: oauthlib>=3.0.0 in /opt/conda/lib/python3.9/site-packages (from requests-oauthlib>=1.3->twarc>=2.1.1->twarc-hashtags) (3.2.0)\n",
      "Requirement already satisfied: requests>=2.0.0 in /opt/conda/lib/python3.9/site-packages (from requests-oauthlib>=1.3->twarc>=2.1.1->twarc-hashtags) (2.27.1)\n",
      "Requirement already satisfied: charset-normalizer~=2.0.0 in /opt/conda/lib/python3.9/site-packages (from requests>=2.0.0->requests-oauthlib>=1.3->twarc>=2.1.1->twarc-hashtags) (2.0.12)\n",
      "Requirement already satisfied: urllib3<1.27,>=1.21.1 in /opt/conda/lib/python3.9/site-packages (from requests>=2.0.0->requests-oauthlib>=1.3->twarc>=2.1.1->twarc-hashtags) (1.26.9)\n",
      "Requirement already satisfied: idna<4,>=2.5 in /opt/conda/lib/python3.9/site-packages (from requests>=2.0.0->requests-oauthlib>=1.3->twarc>=2.1.1->twarc-hashtags) (3.3)\n",
      "Requirement already satisfied: certifi>=2017.4.17 in /opt/conda/lib/python3.9/site-packages (from requests>=2.0.0->requests-oauthlib>=1.3->twarc>=2.1.1->twarc-hashtags) (2021.10.8)\n"
     ]
    }
   ],
   "source": [
    "!pip install twarc-hashtags"
   ]
  },
  {
   "cell_type": "code",
   "execution_count": 91,
   "id": "3ad34beb-905a-4d21-884d-0455eedda236",
   "metadata": {},
   "outputs": [
    {
     "name": "stdout",
     "output_type": "stream",
     "text": [
      "Requirement already satisfied: twarc-network in /opt/conda/lib/python3.9/site-packages (0.1.1)\n",
      "Requirement already satisfied: twarc in /opt/conda/lib/python3.9/site-packages (from twarc-network) (2.10.4)\n",
      "Requirement already satisfied: networkx in /opt/conda/lib/python3.9/site-packages (from twarc-network) (2.8.2)\n",
      "Requirement already satisfied: pydot in /opt/conda/lib/python3.9/site-packages (from twarc-network) (1.4.2)\n",
      "Requirement already satisfied: pyparsing>=2.1.4 in /opt/conda/lib/python3.9/site-packages (from pydot->twarc-network) (3.0.8)\n",
      "Requirement already satisfied: click-config-file>=0.6 in /opt/conda/lib/python3.9/site-packages (from twarc->twarc-network) (0.6.0)\n",
      "Requirement already satisfied: python-dateutil>=2.8 in /opt/conda/lib/python3.9/site-packages (from twarc->twarc-network) (2.8.2)\n",
      "Requirement already satisfied: tqdm>=4.62 in /opt/conda/lib/python3.9/site-packages (from twarc->twarc-network) (4.64.0)\n",
      "Requirement already satisfied: click-plugins>=1 in /opt/conda/lib/python3.9/site-packages (from twarc->twarc-network) (1.1.1)\n",
      "Requirement already satisfied: humanize>=3.9 in /opt/conda/lib/python3.9/site-packages (from twarc->twarc-network) (4.1.0)\n",
      "Requirement already satisfied: requests-oauthlib>=1.3 in /opt/conda/lib/python3.9/site-packages (from twarc->twarc-network) (1.3.1)\n",
      "Requirement already satisfied: click<9,>=7 in /opt/conda/lib/python3.9/site-packages (from twarc->twarc-network) (8.1.3)\n",
      "Requirement already satisfied: configobj>=5.0.6 in /opt/conda/lib/python3.9/site-packages (from click-config-file>=0.6->twarc->twarc-network) (5.0.6)\n",
      "Requirement already satisfied: six>=1.5 in /opt/conda/lib/python3.9/site-packages (from python-dateutil>=2.8->twarc->twarc-network) (1.16.0)\n",
      "Requirement already satisfied: requests>=2.0.0 in /opt/conda/lib/python3.9/site-packages (from requests-oauthlib>=1.3->twarc->twarc-network) (2.27.1)\n",
      "Requirement already satisfied: oauthlib>=3.0.0 in /opt/conda/lib/python3.9/site-packages (from requests-oauthlib>=1.3->twarc->twarc-network) (3.2.0)\n",
      "Requirement already satisfied: urllib3<1.27,>=1.21.1 in /opt/conda/lib/python3.9/site-packages (from requests>=2.0.0->requests-oauthlib>=1.3->twarc->twarc-network) (1.26.9)\n",
      "Requirement already satisfied: charset-normalizer~=2.0.0 in /opt/conda/lib/python3.9/site-packages (from requests>=2.0.0->requests-oauthlib>=1.3->twarc->twarc-network) (2.0.12)\n",
      "Requirement already satisfied: certifi>=2017.4.17 in /opt/conda/lib/python3.9/site-packages (from requests>=2.0.0->requests-oauthlib>=1.3->twarc->twarc-network) (2021.10.8)\n",
      "Requirement already satisfied: idna<4,>=2.5 in /opt/conda/lib/python3.9/site-packages (from requests>=2.0.0->requests-oauthlib>=1.3->twarc->twarc-network) (3.3)\n"
     ]
    }
   ],
   "source": [
    "!pip install twarc-network"
   ]
  },
  {
   "cell_type": "code",
   "execution_count": 92,
   "id": "f8a29770-1df4-4dea-a880-96ce6ba57d86",
   "metadata": {},
   "outputs": [],
   "source": [
    "# retweeted-by is a built-in command. no plug-in necessary. It takes a tweet ID:"
   ]
  },
  {
   "cell_type": "code",
   "execution_count": 93,
   "id": "8c965f46-311a-4add-97a0-403a647ee7d8",
   "metadata": {},
   "outputs": [],
   "source": [
    "!twarc2 retweeted-by 1522543998996414464 > 'raw_data/tinycarebot_rtby.jsonl'\n",
    "!twarc2 flatten raw_data/tinycarebot_rtby.jsonl > output_data/tinycarebot_rtby_flat.jsonl"
   ]
  },
  {
   "cell_type": "markdown",
   "id": "5cb09aba-1468-4256-8ff7-cd0c8ac34d00",
   "metadata": {},
   "source": [
    "Speaking of retweeting, it's very good to figure out how much of your dataset \n",
    "is tweets, and how much of it is retweets and quotes."
   ]
  },
  {
   "cell_type": "markdown",
   "id": "4388d91c-dcfe-4fc3-b215-ff0c2a1c0dda",
   "metadata": {
    "tags": []
   },
   "source": [
    "# Retweets vs. tweets\n",
    "How much original content is there?\n",
    "Do this for both library timeline and catsofinstagrams"
   ]
  },
  {
   "cell_type": "code",
   "execution_count": 94,
   "id": "ceb74589-f708-4ab5-9a2b-00c2478d4020",
   "metadata": {},
   "outputs": [
    {
     "data": {
      "text/plain": [
       "397"
      ]
     },
     "execution_count": 94,
     "metadata": {},
     "output_type": "execute_result"
    }
   ],
   "source": [
    "# via counting\n",
    "retweet_count = hashtagcats_df[\"referenced_tweets.retweeted.id\"].value_counts()\n",
    "sum(retweet_count)\n"
   ]
  },
  {
   "cell_type": "code",
   "execution_count": 95,
   "id": "7735260d-5419-4dbb-ad06-47f5614ca46b",
   "metadata": {},
   "outputs": [
    {
     "data": {
      "text/plain": [
       "0.794"
      ]
     },
     "execution_count": 95,
     "metadata": {},
     "output_type": "execute_result"
    }
   ],
   "source": [
    "(sum(retweet_count) / len(hashtagcats_df))"
   ]
  },
  {
   "cell_type": "markdown",
   "id": "168a36d8-b783-4c33-ad58-fd1c862601a1",
   "metadata": {},
   "source": [
    "69% of the tweets that used #catsofinstagram were retweets."
   ]
  },
  {
   "cell_type": "code",
   "execution_count": 96,
   "id": "cd71350f-d7b2-48d2-a0d2-e8849ca88122",
   "metadata": {},
   "outputs": [],
   "source": [
    "# so our pipeline on a stream would look like:\n"
   ]
  },
  {
   "cell_type": "markdown",
   "id": "560fc2c8-6639-4794-92e9-14136a23ff00",
   "metadata": {},
   "source": [
    "### Followers"
   ]
  },
  {
   "cell_type": "code",
   "execution_count": 97,
   "id": "a066d059-1867-449e-8230-72faa359c6e8",
   "metadata": {},
   "outputs": [],
   "source": [
    "# this is slow and uses quota\n",
    "# that's 1000 followers.\n",
    "!twarc2 followers --limit 1 tinycarebot >  'raw_data/tcb_followers.jsonl'"
   ]
  },
  {
   "cell_type": "code",
   "execution_count": 98,
   "id": "c9d6e8c9-2d81-4868-923b-ca5b4c10815e",
   "metadata": {},
   "outputs": [],
   "source": [
    "!twarc2 flatten raw_data/tcb_followers.jsonl > output_data/tcb_followers_flat.jsonl"
   ]
  },
  {
   "cell_type": "code",
   "execution_count": 99,
   "id": "d4983561-30ba-4b8b-9739-441bfa394e36",
   "metadata": {},
   "outputs": [
    {
     "name": "stdout",
     "output_type": "stream",
     "text": [
      "   1000   53682 1208389 output_data/tcb_followers_flat.jsonl\n"
     ]
    }
   ],
   "source": [
    "! wc output_data/tcb_followers_flat.jsonl"
   ]
  },
  {
   "cell_type": "code",
   "execution_count": 100,
   "id": "b19f73c6-1e8f-4766-96a5-666b0ab0d71e",
   "metadata": {},
   "outputs": [],
   "source": [
    "# tiny challenge: do robots follow robots?\n",
    "# look at the help!\n",
    "! twarc2 csv --input-data-type users output_data/tcb_followers_flat.jsonl > output_data/tcb_followers.csv\n",
    "# csv doesn't work on profiles."
   ]
  },
  {
   "cell_type": "markdown",
   "id": "fc4838f1-5145-460a-932c-79d7c748d648",
   "metadata": {},
   "source": [
    "### Most used hashtags"
   ]
  },
  {
   "cell_type": "code",
   "execution_count": 101,
   "id": "80c75b11-38a8-46d3-9b68-3c9bb2b1e4a0",
   "metadata": {},
   "outputs": [
    {
     "name": "stdout",
     "output_type": "stream",
     "text": [
      "100%|██████████████| Processed 1.54M/1.54M of input file [00:00<00:00, 33.3MB/s]\n"
     ]
    }
   ],
   "source": [
    "!twarc2 hashtags raw_data/hashtagcats.jsonl output_data/hashtagcats_hashtags.csv"
   ]
  },
  {
   "cell_type": "code",
   "execution_count": 102,
   "id": "25adac2c-be71-46c9-9a5c-0ec98c21f2df",
   "metadata": {},
   "outputs": [],
   "source": [
    "!twarc2 network raw_data/hashtagcats.jsonl output_data/hashtagcats_network.html"
   ]
  },
  {
   "cell_type": "code",
   "execution_count": 103,
   "id": "21cc6731-515e-4d3b-bfe6-7cae7755eed8",
   "metadata": {},
   "outputs": [],
   "source": [
    "!twarc2 network raw_data/ecodatasci.jsonl output_data/ecodatasci_network.html"
   ]
  },
  {
   "cell_type": "code",
   "execution_count": 104,
   "id": "0c139fb8-f473-404c-9493-4597f673a5e6",
   "metadata": {},
   "outputs": [],
   "source": [
    "# this one is too big\n",
    "# !twarc2 network raw_data/hashtag_gasprices.jsonl output_data/hashtag_gasprices_network.html"
   ]
  },
  {
   "cell_type": "code",
   "execution_count": 105,
   "id": "21259cf0-2674-4348-b13b-ae0de1341f44",
   "metadata": {},
   "outputs": [],
   "source": [
    "# how do I print file to cell?\n",
    "# print(read(output_data/hashtagcats_hashtags.csv))"
   ]
  },
  {
   "cell_type": "code",
   "execution_count": 106,
   "id": "803bd317-bbba-46b9-b813-98dca6c8a196",
   "metadata": {},
   "outputs": [
    {
     "name": "stdout",
     "output_type": "stream",
     "text": [
      "ecodatasci_df\t hashtagcats_df\t kittens_df\t library_timeline_df\t most_rt\t riots_dehydrated_df\t riots_df\t sort_by_rt\t ucsblib_timeline_df\t \n",
      "\n"
     ]
    }
   ],
   "source": [
    "# this reminds you what DataFrames you have in memory\n",
    "%who DataFrame"
   ]
  },
  {
   "cell_type": "code",
   "execution_count": 107,
   "id": "187e274c-6481-4f37-8ee5-29806da7be7e",
   "metadata": {},
   "outputs": [],
   "source": [
    "# when do we do mentions?\n",
    "# maybe we just mention them.\n",
    "# ! twarc2 mentions ucsblibrary raw_data/ucsblibrary_mentions.jsonl\n",
    "\n",
    "# ! twarc2 csv raw_data/ucsblibrary_mentions.jsonl output_data/ucsblibrary_mentions.csv \n",
    "# ucsb_library_mentions_df = pandas.read_csv('output_data/ucsblibrary_mentions.csv')"
   ]
  },
  {
   "cell_type": "markdown",
   "id": "e9ff6e98-1dc9-43c6-be95-ecf88045147a",
   "metadata": {},
   "source": [
    "# Episode 8: Python text analysis"
   ]
  },
  {
   "cell_type": "markdown",
   "id": "d6c3b41d-cfc2-4a41-b710-4145d2fbb0af",
   "metadata": {},
   "source": [
    "### Sentiment Analysis\n",
    "To do this, we need to do a little Python\n",
    "\n",
    "TextBlob is a text processing library that does sentiment analysis. \n",
    "The sentiment property returns a namedtuple of the form Sentiment(polarity, subjectivity). The polarity score is a float within the range [-1.0, 1.0]. The subjectivity is a float within the range [0.0, 1.0] where 0.0 is very objective and 1.0 is very subjective."
   ]
  },
  {
   "cell_type": "markdown",
   "id": "cd4d69fd-adcc-46a6-9a46-83cb991e52b9",
   "metadata": {},
   "source": [
    "Before we use TextBlob for sentiment analysis, we need to download\n",
    "datasets of words and their associated weights. These are called *corpora*."
   ]
  },
  {
   "cell_type": "code",
   "execution_count": 108,
   "id": "423c7d9b-b67d-4b13-8894-75a64654b52d",
   "metadata": {},
   "outputs": [
    {
     "name": "stdout",
     "output_type": "stream",
     "text": [
      "[nltk_data] Downloading package brown to /home/jovyan/nltk_data...\n",
      "[nltk_data]   Package brown is already up-to-date!\n",
      "[nltk_data] Downloading package punkt to /home/jovyan/nltk_data...\n",
      "[nltk_data]   Package punkt is already up-to-date!\n",
      "[nltk_data] Downloading package wordnet to /home/jovyan/nltk_data...\n",
      "[nltk_data]   Package wordnet is already up-to-date!\n",
      "[nltk_data] Downloading package averaged_perceptron_tagger to\n",
      "[nltk_data]     /home/jovyan/nltk_data...\n",
      "[nltk_data]   Package averaged_perceptron_tagger is already up-to-\n",
      "[nltk_data]       date!\n",
      "[nltk_data] Downloading package conll2000 to /home/jovyan/nltk_data...\n",
      "[nltk_data]   Package conll2000 is already up-to-date!\n",
      "[nltk_data] Downloading package movie_reviews to\n",
      "[nltk_data]     /home/jovyan/nltk_data...\n",
      "[nltk_data]   Package movie_reviews is already up-to-date!\n",
      "Finished.\n"
     ]
    }
   ],
   "source": [
    "# commented out because I put it up in ep 2\n",
    "!python -m textblob.download_corpora"
   ]
  },
  {
   "cell_type": "code",
   "execution_count": 109,
   "id": "9c5bbf73-444b-41a2-a72c-deb388217096",
   "metadata": {},
   "outputs": [],
   "source": [
    "# TextBlob needs a string, so this won't work.\n",
    "# textblob.TextBlob(hashtagcats_df).sentiment"
   ]
  },
  {
   "cell_type": "code",
   "execution_count": 110,
   "id": "f2c21bf8-b1ec-4405-94bc-b77c599e4b9f",
   "metadata": {},
   "outputs": [],
   "source": [
    "# even calling the column won't work:\n",
    "# textblob.TextBlob(hashtagcats_df['text']).sentiment"
   ]
  },
  {
   "cell_type": "code",
   "execution_count": 111,
   "id": "6874ca27-b81f-4f4f-911b-68e9fe21384e",
   "metadata": {},
   "outputs": [
    {
     "data": {
      "text/plain": [
       "Sentiment(polarity=0.3337667641696417, subjectivity=0.6110313566890312)"
      ]
     },
     "execution_count": 111,
     "metadata": {},
     "output_type": "execute_result"
    }
   ],
   "source": [
    "# break tweets test column into a list, then .join into one long string \n",
    "hashtagcats_list = ' '.join(hashtagcats_df['text'].tolist())\n",
    "# turn the string into a blob\n",
    "hashtagcats_blob = textblob.TextBlob(hashtagcats_list)\n",
    "# get the sentiment\n",
    "hashtagcats_blob.sentiment"
   ]
  },
  {
   "cell_type": "code",
   "execution_count": 112,
   "id": "8ccc6de7-126c-4975-8f1e-cacd1140ff34",
   "metadata": {},
   "outputs": [
    {
     "name": "stdout",
     "output_type": "stream",
     "text": [
      "Variable              Type         Data/Info\n",
      "--------------------------------------------\n",
      "ecodatasci_df         DataFrame                          id <...>\\n[473 rows x 74 columns]\n",
      "hashtagcats_df        DataFrame                          id <...>\\n[500 rows x 74 columns]\n",
      "kittens_df            DataFrame                          id <...>\\n[896 rows x 74 columns]\n",
      "library_timeline_df   DataFrame                          id <...>\\n[500 rows x 74 columns]\n",
      "most_rt               DataFrame                          id <...>\\n\\n[1 rows x 74 columns]\n",
      "riots_dehydrated_df   DataFrame           134686307243517952<...>n[82308 rows x 1 columns]\n",
      "riots_df              DataFrame                           id<...>n[9997 rows x 74 columns]\n",
      "sort_by_rt            DataFrame                          id <...>\\n[500 rows x 74 columns]\n",
      "ucsblib_timeline_df   DataFrame                          id <...>\\n[500 rows x 74 columns]\n"
     ]
    }
   ],
   "source": [
    "# what dataframes are still here?\n",
    "%whos DataFrame\n"
   ]
  },
  {
   "cell_type": "markdown",
   "id": "005ba8f5-5054-4fba-8e12-0bade66f4775",
   "metadata": {
    "tags": []
   },
   "source": [
    "The overall sentiment of the language of kitty twitter is rather positive.\n",
    "And the tweets tend to be subjective."
   ]
  },
  {
   "cell_type": "code",
   "execution_count": 113,
   "id": "42f7f70c-b9ee-45cf-ad37-7a26cc43d559",
   "metadata": {},
   "outputs": [],
   "source": [
    "# What do you think the sentiment of gasprices might be?\n",
    "# get the overall sentiment and see if it matches your prediction."
   ]
  },
  {
   "cell_type": "code",
   "execution_count": 114,
   "id": "111ea270-deb5-44ff-a38d-a44220e4fee4",
   "metadata": {},
   "outputs": [],
   "source": [
    "! twarc2 csv output_data/hashtag_gasprices_flat.jsonl > output_data/hashtag_gasprices_flat.csv\n",
    "hashtag_gasprices_df = pandas.read_csv(\"output_data/hashtag_gasprices_flat.csv\", low_memory=False)"
   ]
  },
  {
   "cell_type": "code",
   "execution_count": 115,
   "id": "9856bda0-b290-40a0-ad22-32ece206312b",
   "metadata": {},
   "outputs": [
    {
     "name": "stdout",
     "output_type": "stream",
     "text": [
      "Hashtag Gas Prices: \n"
     ]
    },
    {
     "data": {
      "text/plain": [
       "Sentiment(polarity=0.0783091422742766, subjectivity=0.44952337845641754)"
      ]
     },
     "execution_count": 115,
     "metadata": {},
     "output_type": "execute_result"
    }
   ],
   "source": [
    "gasprices_list = ' '.join(hashtag_gasprices_df['text'].tolist())\n",
    "gasprices_blob = textblob.TextBlob(gasprices_list)\n",
    "print(\"Hashtag Gas Prices: \") \n",
    "gasprices_blob.sentiment"
   ]
  },
  {
   "cell_type": "code",
   "execution_count": 116,
   "id": "a52956a9-00a3-4da1-960a-1d3ad08e26a4",
   "metadata": {},
   "outputs": [
    {
     "name": "stdout",
     "output_type": "stream",
     "text": [
      "Hashtag Cats of Instagram: \n"
     ]
    },
    {
     "data": {
      "text/plain": [
       "Sentiment(polarity=0.3337667641696417, subjectivity=0.6110313566890312)"
      ]
     },
     "execution_count": 116,
     "metadata": {},
     "output_type": "execute_result"
    }
   ],
   "source": [
    "hashtagcats_list = ' '.join(hashtagcats_df['text'].tolist())\n",
    "hashtagcats_blob = textblob.TextBlob(hashtagcats_list)\n",
    "print(\"Hashtag Cats of Instagram: \") \n",
    "hashtagcats_blob.sentiment"
   ]
  },
  {
   "cell_type": "markdown",
   "id": "f0e6acd1-e68a-4b01-873b-a3aaebd440fd",
   "metadata": {},
   "source": [
    "# Episode 9: Data Management"
   ]
  }
 ],
 "metadata": {
  "kernelspec": {
   "display_name": "Python 3 (ipykernel)",
   "language": "python",
   "name": "python3"
  },
  "language_info": {
   "codemirror_mode": {
    "name": "ipython",
    "version": 3
   },
   "file_extension": ".py",
   "mimetype": "text/x-python",
   "name": "python",
   "nbconvert_exporter": "python",
   "pygments_lexer": "ipython3",
   "version": "3.9.10"
  }
 },
 "nbformat": 4,
 "nbformat_minor": 5
}
