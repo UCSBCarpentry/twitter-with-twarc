{
 "cells": [
  {
   "cell_type": "markdown",
   "id": "3b8988ea-176a-42c1-9826-2c125aba3a5e",
   "metadata": {},
   "source": [
    "# Twitter with twarc\n",
    "A UCSB original Carpentry workshop\n",
    "\n",
    "You should have a hashtag_gasprices.jsonl file. We made it for you using the code below."
   ]
  },
  {
   "cell_type": "code",
   "execution_count": null,
   "id": "1324c4e6-ab87-441e-bd4e-860eec5ccfe8",
   "metadata": {},
   "outputs": [],
   "source": [
    "# we made this file for you\n",
    "# ! twarc2 search \"#gasprices\" > raw_data/hashtag_gasprices.jsonl\n",
    "\n",
    "\n"
   ]
  },
  {
   "cell_type": "code",
   "execution_count": null,
   "id": "35e9818e-0cc6-474e-b92b-28467ca18d4f",
   "metadata": {},
   "outputs": [],
   "source": [
    "# administravia\n",
    "# upon re-start we need to install twarc2 and other extensions\n",
    "! pip install twarc-csv\n",
    "! pip install emoji"
   ]
  },
  {
   "cell_type": "markdown",
   "id": "e2b8339f-952b-498f-bc0f-a5eda41a38e0",
   "metadata": {},
   "source": [
    "# Episode 2\n"
   ]
  },
  {
   "cell_type": "code",
   "execution_count": null,
   "id": "3cbf7282-bf3d-4a51-ad72-008ccaef1a13",
   "metadata": {},
   "outputs": [],
   "source": [
    "# BASH commands start with a BANG!\n",
    "!twarc2 --help"
   ]
  },
  {
   "cell_type": "code",
   "execution_count": null,
   "id": "d2ad701f-463e-40f9-958b-a09721e263d4",
   "metadata": {
    "tags": []
   },
   "outputs": [],
   "source": [
    "#  what libraries will we need to be loading in our notebook?\n",
    "#  we need to always distinguish between \n",
    "#  running BASH vs. running a line of python.\n",
    "\n",
    "import pandas\n",
    "import twarc_csv\n",
    "import textblob\n",
    "import nltk\n",
    "import os\n",
    "import emoji"
   ]
  },
  {
   "cell_type": "code",
   "execution_count": null,
   "id": "df5f4739-6651-4fad-b521-190e8aa0028b",
   "metadata": {},
   "outputs": [],
   "source": [
    "# this comes into play for ep 8\n",
    "!python -m textblob.download_corpora\n",
    "nltk.download('stopwords')"
   ]
  },
  {
   "cell_type": "code",
   "execution_count": null,
   "id": "2082bb24-2751-406c-a918-c8c41d14e7b1",
   "metadata": {},
   "outputs": [],
   "source": [
    "# and of course, it's important to know where we are working\n",
    "# I can send a BASH command from my notebook with a !:\n",
    "!pwd"
   ]
  },
  {
   "cell_type": "code",
   "execution_count": null,
   "id": "8098e978-172e-4949-a531-1a05fa43be25",
   "metadata": {},
   "outputs": [],
   "source": [
    "# you can also do this with Python\n",
    "os.getcwd()"
   ]
  },
  {
   "cell_type": "code",
   "execution_count": null,
   "id": "dc19b894-b858-4966-ae5e-e32bff6bde2e",
   "metadata": {},
   "outputs": [],
   "source": [
    "# we can change if we need\n",
    "# os.chdir(\".....\")"
   ]
  },
  {
   "cell_type": "code",
   "execution_count": null,
   "id": "17a6e89d-7e91-4558-ae3f-aa1026554cef",
   "metadata": {},
   "outputs": [],
   "source": [
    "os.getcwd()"
   ]
  },
  {
   "cell_type": "markdown",
   "id": "5913eea7-a65c-4505-b1c5-a846d7a98d23",
   "metadata": {},
   "source": [
    "## Running twarc\n",
    "Let's get the timeline of one of twarc's creators."
   ]
  },
  {
   "cell_type": "code",
   "execution_count": null,
   "id": "222e98bb-b6fa-442e-b1e9-5f5b72e518e8",
   "metadata": {},
   "outputs": [],
   "source": [
    "# !twarc2 timeline BergisJules > raw_data/bjules.jsonl"
   ]
  },
  {
   "cell_type": "markdown",
   "id": "4473db7c-3651-45f7-8c14-0f49b6c5c0f4",
   "metadata": {
    "tags": []
   },
   "source": [
    "### Challenge 1\n",
    "- Can you find the file called “bjules_flat.jsonl”?\n",
    "- How many tweets did you get from Bergis? (we can't tell without flattening or looking at the output)\n",
    "- Download a timeline for a person of your choice. How many tweets did you get? \n",
    "- What’s the oldest one?"
   ]
  },
  {
   "cell_type": "code",
   "execution_count": null,
   "id": "bab10779-cc96-4ed0-9e47-2e8faac15d93",
   "metadata": {},
   "outputs": [],
   "source": [
    "# !twarc2 timeline ecodatasci > raw_data/ecodatasci.jsonl\n",
    "! twarc2 flatten raw_data/ecodatasci.jsonl > output_data/ecodatasci_flat.jsonl\n",
    "! wc output_data/ecodatasci_flat.jsonl"
   ]
  },
  {
   "cell_type": "markdown",
   "id": "4bbe2b98-3264-45bc-adc0-f6aa567718cd",
   "metadata": {
    "tags": []
   },
   "source": [
    "A straight harvest using search or stream doesn't need to be flattened \n",
    "to do our most basic analysis: wc. Do gas prices here?"
   ]
  },
  {
   "cell_type": "markdown",
   "id": "99766d53-53ea-4ef2-b201-2e58c89d411d",
   "metadata": {
    "tags": []
   },
   "source": [
    "## To flatten or not flatten"
   ]
  },
  {
   "cell_type": "markdown",
   "id": "586f4cbf-4741-44e2-a025-9968faf74e77",
   "metadata": {},
   "source": [
    "### Make your jsonl 1 tweet per line\n",
    "Flattening will let you do our most basic unix-y analysis, turn\n",
    "timelines into countable lists, and enable you to run twarc1\n",
    "utilities later on in the workshop"
   ]
  },
  {
   "cell_type": "code",
   "execution_count": null,
   "id": "eaf04f84-943a-4d7b-a45e-d007e6b5abc4",
   "metadata": {},
   "outputs": [],
   "source": [
    "# timeline objects need to be flattened in order to be analyzed as tweets\n",
    "!twarc2 flatten raw_data/bjules.jsonl output_data/bjules_flat.jsonl"
   ]
  },
  {
   "cell_type": "markdown",
   "id": "08892a04-a2be-4353-b64c-43a628e5ae50",
   "metadata": {},
   "source": [
    "## Convert to csv"
   ]
  },
  {
   "cell_type": "code",
   "execution_count": null,
   "id": "1b29144d-a627-4128-b54f-74439f37a917",
   "metadata": {},
   "outputs": [],
   "source": [
    "!twarc2 csv raw_data/bjules.jsonl output_data/bjules.csv"
   ]
  },
  {
   "cell_type": "markdown",
   "id": "0a8c4d85-fa2a-4e7d-9e7c-1fa1207d64fc",
   "metadata": {},
   "source": [
    "## When we look at bjules, we really do need to flatten it."
   ]
  },
  {
   "cell_type": "code",
   "execution_count": null,
   "id": "bfc7ab7b-7099-4213-bf10-0d2f6a1825d8",
   "metadata": {},
   "outputs": [],
   "source": [
    "! wc raw_data/bjules.jsonl"
   ]
  },
  {
   "cell_type": "markdown",
   "id": "05ca8093-2fc9-4600-baa4-b1ba9d591d46",
   "metadata": {},
   "source": [
    "33 lines doesn't mean 33 tweets. I suspected there was more there because\n",
    "I got an error message about hitting a limit of 3200. \n",
    "\n",
    "And below, the csv converter tells us there are 3143 tweets."
   ]
  },
  {
   "cell_type": "code",
   "execution_count": null,
   "id": "c9015236-250a-4f85-83b0-296431fe65a2",
   "metadata": {},
   "outputs": [],
   "source": [
    "# convert\n",
    "!twarc2 csv raw_data/bjules.jsonl output_data/bjules.csv"
   ]
  },
  {
   "cell_type": "code",
   "execution_count": null,
   "id": "15a20dad-f6eb-4236-be57-382907d70dd1",
   "metadata": {},
   "outputs": [],
   "source": [
    "# once I flatten it, my wc will show the correct number\n",
    "! wc output_data/bjules_flat.jsonl"
   ]
  },
  {
   "cell_type": "code",
   "execution_count": null,
   "id": "180e3158-2f08-4d08-8e9e-b4ab999e6ef1",
   "metadata": {
    "tags": []
   },
   "outputs": [],
   "source": [
    "# When I did this, I got 3166 tweets (as opposed to the 33 lines that the original file was)\n",
    "! wc output_data/bjules_flat.jsonl\n",
    "! wc output_data/bjules.csv"
   ]
  },
  {
   "cell_type": "markdown",
   "id": "d55e1a66-f173-4adb-898c-572f15c7bbcb",
   "metadata": {},
   "source": [
    "The csv is 1 line longer because it has column headers.\n",
    "twarc2 csv takes flat or unflattened Twitter data files."
   ]
  },
  {
   "cell_type": "markdown",
   "id": "2316f7fe-1614-404c-9516-897fd6415a7b",
   "metadata": {},
   "source": [
    "### Challenge 2"
   ]
  },
  {
   "cell_type": "code",
   "execution_count": null,
   "id": "1284486c-4487-401d-b421-20c4597dfedd",
   "metadata": {},
   "outputs": [],
   "source": [
    "# commented line is a solution to challenge 1\n",
    "# !twarc2 timeline ecodatasci > raw_data/ecodatasci.jsonl\n",
    "\n",
    "!twarc2 flatten raw_data/ecodatasci.jsonl > output_data/ecodatasci_flat.jsonl\n",
    "!twarc2 csv output_data/ecodatasci_flat.jsonl > output_data/ecodatasci.csv \n",
    "ecodatasci_df = pandas.read_csv(\"output_data/ecodatasci.csv\")\n"
   ]
  },
  {
   "cell_type": "markdown",
   "id": "bbfccda8-2a25-44a3-bb9a-5bdbc2c6d6cb",
   "metadata": {},
   "source": [
    "# Episode 3: examining tweets\n",
    "What comes along with a tweet\n",
    "- Look at one_tweet in Jupyter viewer\n",
    "- Look at one_tweet with nano\n",
    "- Look at tweet as csv\n",
    "- Look at all the entities of a tweet"
   ]
  },
  {
   "cell_type": "code",
   "execution_count": null,
   "id": "6d940a3f-f4d3-4278-bc08-187e9446225f",
   "metadata": {},
   "outputs": [],
   "source": [
    "! wc raw_data/hashtag_gasprices.jsonl\n",
    "\n",
    "! twarc2 flatten raw_data/hashtag_gasprices.jsonl > output_data/hashtag_gasprices_flat.jsonl\n",
    "\n",
    "! wc output_data/hashtag_gasprices_flat.jsonl"
   ]
  },
  {
   "cell_type": "code",
   "execution_count": null,
   "id": "dbcb8c10-7fe2-4d91-bc0a-7267ec5062cf",
   "metadata": {},
   "outputs": [],
   "source": [
    "### Let's look at a single tweet as a csv:\n",
    "!twarc2 flatten raw_data/one_tweet.jsonl output_data/one_tweet_flat.jsonl\n",
    "!twarc2 csv output_data/one_tweet_flat.jsonl output_data/one_tweet.csv\n",
    "\n",
    "\n"
   ]
  },
  {
   "cell_type": "code",
   "execution_count": null,
   "id": "e147f437-858a-4c29-a9a9-bc52f41e7239",
   "metadata": {},
   "outputs": [],
   "source": [
    "!head -n 2 'output_data/hashtag_gasprices_flat.jsonl' > 'output_data/4_tweets.jsonl'\n",
    "!tail -n 2 'output_data/hashtag_gasprices_flat.jsonl' >> 'output_data/4_tweets.jsonl'"
   ]
  },
  {
   "cell_type": "code",
   "execution_count": null,
   "id": "a6eecd58-ff34-48cd-83a4-31d8b6363694",
   "metadata": {},
   "outputs": [],
   "source": [
    "! cat output_data/4_tweets.jsonl"
   ]
  },
  {
   "cell_type": "code",
   "execution_count": null,
   "id": "c5d96a0f-7ccf-4a4d-abaf-a52708f813f3",
   "metadata": {},
   "outputs": [],
   "source": []
  },
  {
   "cell_type": "markdown",
   "id": "af2f2152-7de1-40d4-9d97-c6aa551ce2fd",
   "metadata": {},
   "source": [
    "## Next harvest\n",
    "Next we'll get just Bergis' original content. \n",
    "In other words, only the tweets that he wrote, not\n",
    "any retweets or replied to other people tweets."
   ]
  },
  {
   "cell_type": "markdown",
   "id": "ab4c78d8-42bd-458c-b618-d1c854fc265f",
   "metadata": {},
   "source": [
    "Can we go back further on his timeline by looking\n",
    "only for Bergis's original content?\n",
    "\n",
    "Not really--it looks like the limit applies to the search,\n",
    "not the results. \n"
   ]
  },
  {
   "cell_type": "code",
   "execution_count": null,
   "id": "b29e6727-48e8-4c79-b824-fd109b0e7029",
   "metadata": {},
   "outputs": [],
   "source": [
    "# !twarc2 timeline BergisJules --exclude-retweets --exclude-replies > raw_data/bjules_original.jsonl"
   ]
  },
  {
   "cell_type": "code",
   "execution_count": null,
   "id": "d6efcdaf-a547-4a93-95d3-94e4bfcdddff",
   "metadata": {},
   "outputs": [],
   "source": [
    "!twarc2 flatten raw_data/bjules_original.jsonl output_data/bjules_original_flat.jsonl\n"
   ]
  },
  {
   "cell_type": "markdown",
   "id": "ef7331bc-5adc-426d-bbf3-912abb0a36c8",
   "metadata": {},
   "source": [
    "But this does tell us that Jules is a prolific re-tweeter and/or replier. "
   ]
  },
  {
   "cell_type": "code",
   "execution_count": null,
   "id": "1c2d22df-4f14-4350-903c-2974402e6245",
   "metadata": {},
   "outputs": [],
   "source": [
    "! wc output_data/bjules_original_flat.jsonl\n",
    "! wc output_data/bjules_flat.jsonl"
   ]
  },
  {
   "cell_type": "code",
   "execution_count": null,
   "id": "d6f64d26-ae10-4deb-bf48-47f88b7db62f",
   "metadata": {},
   "outputs": [],
   "source": [
    "# save it as a csv so we can easily see the original writings of Jules\n",
    "!twarc2 csv output_data/bjules_original_flat.jsonl output_data/bjules_original.csv"
   ]
  },
  {
   "cell_type": "markdown",
   "id": "29ab11e8-f109-4670-912c-3122ea2b8211",
   "metadata": {},
   "source": [
    "# Episode 4"
   ]
  },
  {
   "cell_type": "code",
   "execution_count": null,
   "id": "ab6d14b4-0c5e-4553-9eb2-7d8d284476af",
   "metadata": {},
   "outputs": [],
   "source": [
    "# fishing around for good searches\n",
    "# you can count without harvesting.\n",
    "# kittens is an evergreen search. you should always see at lease\n",
    "# dozens of mentions per hour\n",
    "!twarc2 counts --text \"kittens\""
   ]
  },
  {
   "cell_type": "code",
   "execution_count": null,
   "id": "c5795ab9-3a2c-4122-bf59-2bf002fa3d1e",
   "metadata": {},
   "outputs": [],
   "source": [
    "# recent search with granularity.\n",
    "!twarc2 counts --granularity \"day\" --text \"(#UCSBLibrary OR UCSBLibrary OR ucsblibrary OR #ucsblibrary OR davidsonlibrary OR #davidsonlibrary)\""
   ]
  },
  {
   "cell_type": "code",
   "execution_count": null,
   "id": "c7e47ec3-1304-4a5f-9684-3266b1d0b621",
   "metadata": {},
   "outputs": [],
   "source": [
    "# phrase searching????\n",
    "# this one isnt working\n",
    "!twarc2 counts --granularity \"day\" --text \"(#UCSB OR UCSB OR ucsb OR (\"UC Santa Barbara\"))\"\n",
    "!twarc2 counts --granularity \"day\" --text \"(\"uc santa barbara\")\"\n",
    "!twarc2 counts --granularity \"day\" --text \"(#ucsb)\"\n",
    "!twarc2 counts --granularity \"day\" --text \"(UCSB)\""
   ]
  },
  {
   "cell_type": "code",
   "execution_count": null,
   "id": "021f95fb-293d-459c-9afd-59d624efa865",
   "metadata": {},
   "outputs": [],
   "source": [
    "# search for hashtags when you really want hashtags. \n",
    "# search for a string returns both text and hashtage (an OR)\n",
    "# NOT case sensitive\n",
    "!twarc2 counts --granularity \"day\" --text \"(#UCSB OR UCSB OR ucsb)\"\n",
    "!twarc2 counts --granularity \"day\" --text \"(#ucsb)\"\n",
    "!twarc2 counts --granularity \"day\" --text \"(UCSB)\""
   ]
  },
  {
   "cell_type": "code",
   "execution_count": null,
   "id": "be3bd639-6118-4983-bb16-1ff7fd3999de",
   "metadata": {},
   "outputs": [],
   "source": [
    "## Endpoints: counts\n",
    "!twarc2 counts --text \"(Poker OR poker)\" --granularity \"day\"\n",
    "!twarc2 counts --text \"(Golf OR golf)\" --granularity \"day\"\n",
    "!twarc2 counts --text \"(Basketball OR basketball)\" --granularity \"day\"\n",
    "!twarc2 counts --text \"(Baseball OR baseball)\" --granularity \"day\"\n",
    "!twarc2 counts --text \"(Football OR football)\" --granularity \"day\""
   ]
  },
  {
   "cell_type": "code",
   "execution_count": null,
   "id": "5443c1c7-0da2-4ad9-82fd-1e9b2b377a72",
   "metadata": {},
   "outputs": [],
   "source": [
    "## What's a lot?\n",
    "!twarc2 counts --text \"dog\" --granularity \"day\"\n",
    "!twarc2 counts --text \"cat\" --granularity \"day\"\n",
    "!twarc2 counts --text \"amazon\" --granularity \"day\"\n",
    "!twarc2 counts --text \"right\" --granularity \"day\"\n",
    "!twarc2 counts --text \"good\" --granularity \"day\"\n"
   ]
  },
  {
   "cell_type": "code",
   "execution_count": null,
   "id": "3ffc36b3-3fff-455a-b977-af257a34b5dd",
   "metadata": {},
   "outputs": [],
   "source": []
  },
  {
   "cell_type": "code",
   "execution_count": null,
   "id": "abc52493-cf69-4298-8617-515a581ead59",
   "metadata": {},
   "outputs": [],
   "source": [
    "## a SFW timeline\n",
    "# !twarc2 timeline ucsblibrary raw_data/library_timeline.jsonl\n",
    "!twarc2 flatten raw_data/library_timeline.jsonl output_data/library_timeline_flat.jsonl\n",
    "!twarc2 csv output_data/library_timeline_flat.jsonl output_data/library_timeline_flat.csv\n",
    "library_timeline_df = pandas.read_csv(\"output_data/library_timeline_flat.csv\")"
   ]
  },
  {
   "cell_type": "code",
   "execution_count": null,
   "id": "e22b3154-3d28-483e-83f4-35fc4623c630",
   "metadata": {},
   "outputs": [],
   "source": [
    "# confirm the dataframe's existance\n",
    "len(library_timeline_df)"
   ]
  },
  {
   "cell_type": "code",
   "execution_count": null,
   "id": "cfc06081-ef7c-4122-b7c0-0901ca4a2dff",
   "metadata": {},
   "outputs": [],
   "source": [
    "# and view all column headers\n",
    "list(library_timeline_df.columns)"
   ]
  },
  {
   "cell_type": "code",
   "execution_count": null,
   "id": "a492aa1b-dd0f-44f0-b0bc-dedec7d38b0a",
   "metadata": {},
   "outputs": [],
   "source": []
  },
  {
   "cell_type": "code",
   "execution_count": null,
   "id": "ee4cc6aa-8a09-4b27-9dab-0b80cf267fcc",
   "metadata": {},
   "outputs": [],
   "source": []
  },
  {
   "cell_type": "markdown",
   "id": "23735a74-0dd1-4483-9705-595042b099bc",
   "metadata": {},
   "source": [
    "## final challenge: Cats of Instagram\n",
    "Let’s make a bigger datafile. Harvest 5000 tweets that use the hashtag “catsofinstagram” and put the dataset through the pipeline to answer the following questions:\n",
    "\n",
    "- Did you get exactly 5000?\n",
    "- How far back in time did you get?\n",
    "- What is the most re-tweeted recent tweet on #catsofinstagram?\n",
    "- Which person has the most number of followers in your dataset?\n",
    "- Is it really a person?"
   ]
  },
  {
   "cell_type": "code",
   "execution_count": null,
   "id": "952eed26-010f-464b-82c9-4699988555b9",
   "metadata": {},
   "outputs": [],
   "source": [
    "# !twarc2 search --limit 500 \"#catsofinstagram\" raw_data/hashtagcats.jsonl\n",
    "!twarc2 flatten raw_data/hashtagcats.jsonl output_data/hashtagcats_flat.jsonl\n",
    "!twarc2 csv raw_data/hashtagcats.jsonl > output_data/hashtagcats.csv\n",
    "hashtagcats_df = pandas.read_csv(\"output_data/hashtagcats.csv\")\n",
    "! wc output_data/hashtagcats.csv\n",
    "hashtagcats_df[\"created_at\"].head()"
   ]
  },
  {
   "cell_type": "code",
   "execution_count": null,
   "id": "ac420468-385e-4d39-9f8c-d7e5f520c1be",
   "metadata": {},
   "outputs": [],
   "source": [
    "hashtagcats_df[\"created_at\"].tail()"
   ]
  },
  {
   "cell_type": "code",
   "execution_count": null,
   "id": "51f07c72-c097-4db9-8705-32e2b93c6aba",
   "metadata": {},
   "outputs": [],
   "source": [
    "hashtagcats_df"
   ]
  },
  {
   "cell_type": "code",
   "execution_count": null,
   "id": "c151b25e-f551-445c-93ed-118406e3df40",
   "metadata": {},
   "outputs": [],
   "source": [
    "list(hashtagcats_df.columns)"
   ]
  },
  {
   "cell_type": "code",
   "execution_count": null,
   "id": "1d6badeb-47e1-4895-aae6-dbd53d2c50e6",
   "metadata": {},
   "outputs": [],
   "source": [
    "# what dataframes do we have at this point?\n",
    "%whos DataFrame"
   ]
  },
  {
   "cell_type": "markdown",
   "id": "870d9fb7-03eb-4dcd-9ab8-d4888b008f65",
   "metadata": {},
   "source": [
    "# Episode 5: Ethics & Twitter"
   ]
  },
  {
   "cell_type": "code",
   "execution_count": null,
   "id": "a2a6a3f1-5b8c-40dd-af9e-156270f5b68c",
   "metadata": {},
   "outputs": [],
   "source": [
    "# what dataframes do we have?\n",
    "%who DataFrame\n",
    "# which column is the text?"
   ]
  },
  {
   "cell_type": "code",
   "execution_count": null,
   "id": "f046b945-b698-4c9b-b6c4-8047382f16aa",
   "metadata": {},
   "outputs": [],
   "source": [
    "# our first full-text analysis\n",
    "# a list of words with TextBlob\n",
    "\n",
    "# first we need to munge the data. remember from:\n",
    "# list(library_df.columns)\n",
    "# the tweet is library_df['text']\n",
    "\n",
    "# TextBlob has its own data format.\n",
    "\n",
    "# break tweets test column into a list, \n",
    "# then .join into one long string \n",
    "library_string = ' '.join(library_timeline_df['text'].tolist())\n",
    "# turn the string into a blob\n",
    "library_blob = textblob.TextBlob(library_string)\n"
   ]
  },
  {
   "cell_type": "code",
   "execution_count": null,
   "id": "89814018-5e41-4b59-bab1-6df674f53f58",
   "metadata": {},
   "outputs": [],
   "source": [
    "#This produces a mess when we output it. \n",
    "(library_blob)"
   ]
  },
  {
   "cell_type": "code",
   "execution_count": null,
   "id": "1a5a3b36-fffd-477c-91bb-cdf315dbe285",
   "metadata": {},
   "outputs": [],
   "source": [
    "# Let's count the words and sort by their frequency of use:\n",
    "library_freq = library_blob.word_counts\n",
    "library_sorted_freq = sorted(library_freq.items(), \n",
    "                             key = lambda kv: kv[1], \n",
    "                             reverse = True)\n",
    "library_sorted_freq[1:25]"
   ]
  },
  {
   "cell_type": "markdown",
   "id": "dfa676be-7ceb-45e8-82e8-7429b8884d7b",
   "metadata": {},
   "source": [
    "We can at least get the english stopwords out. but this all didn't reall produce anything cleaner:"
   ]
  },
  {
   "cell_type": "code",
   "execution_count": null,
   "id": "b5cd1c12-d78a-44e5-9376-26b4a0589785",
   "metadata": {},
   "outputs": [],
   "source": [
    "# load the stopwords to use\n",
    "from nltk.corpus import stopwords\n",
    "sw_nltk = stopwords.words('english')"
   ]
  },
  {
   "cell_type": "code",
   "execution_count": null,
   "id": "e878e6b7-2c29-45e8-83cd-fb0eefd3b668",
   "metadata": {},
   "outputs": [],
   "source": [
    "# create a new text list that does\n",
    "# NOT contain stopwords\n",
    "library_str_stopped = [word for word in library_string.split() \n",
    "                       if word.lower() not in sw_nltk]\n",
    "library_words_stopped = \" \".join(library_str_stopped)"
   ]
  },
  {
   "cell_type": "code",
   "execution_count": null,
   "id": "6e27a5b1-0519-407c-ae52-abd0587857a5",
   "metadata": {},
   "outputs": [],
   "source": [
    "library_blob_stopped = textblob.TextBlob(library_words_stopped)\n",
    "library_blob_stopped_freq = library_blob_stopped.word_counts\n",
    "library_blob_stopped_sorted_freq = sorted(library_blob_stopped_freq.items(), \n",
    "                             key = lambda kv: kv[1], \n",
    "                             reverse = True)\n",
    "library_blob_stopped_sorted_freq[1:50]"
   ]
  },
  {
   "cell_type": "code",
   "execution_count": null,
   "id": "e7e02e4b-e055-47a8-a99a-03e47a9868c4",
   "metadata": {},
   "outputs": [],
   "source": [
    "# a more meaningful segment\n",
    "library_blob_stopped_sorted_freq[7:57]"
   ]
  },
  {
   "cell_type": "code",
   "execution_count": null,
   "id": "e074d32e-4a94-4add-89b3-cf0863340cea",
   "metadata": {},
   "outputs": [],
   "source": [
    "# Challenge: for the Python wizzes. #FIXME\n",
    "# do that in a tidy way?\n",
    "# what do pandas pipes look like?"
   ]
  },
  {
   "cell_type": "markdown",
   "id": "eb8207e9-0ef4-4c45-a236-09e8efb24899",
   "metadata": {},
   "source": [
    "# Just the words, hold the gore"
   ]
  },
  {
   "cell_type": "code",
   "execution_count": null,
   "id": "b0c4d3b0-87bc-4723-8598-a6b782b30791",
   "metadata": {},
   "outputs": [],
   "source": []
  },
  {
   "cell_type": "markdown",
   "id": "2bc9aad4-1981-4911-ac2e-18bb3b0e92ae",
   "metadata": {},
   "source": [
    "## Challenge: Insta-rrectionists"
   ]
  },
  {
   "cell_type": "code",
   "execution_count": null,
   "id": "76119af0-f58e-4bb4-a296-f0718b28a05b",
   "metadata": {},
   "outputs": [],
   "source": [
    "# how long is this?\n",
    "riots_dehydrated_df = pandas.read_csv(\"raw_data/dehydratedCapitolRiotTweets.txt\")\n",
    "len(riots_dehydrated_df)"
   ]
  },
  {
   "cell_type": "code",
   "execution_count": null,
   "id": "fe5551d5-4b64-4731-9285-82bfc5fd9a87",
   "metadata": {},
   "outputs": [],
   "source": [
    "# this takes a very long time.\n",
    "# !twarc2 hydrate raw_data/dehydratedCapitolRiotTweets.txt raw_data/riots.jsonl"
   ]
  },
  {
   "cell_type": "code",
   "execution_count": null,
   "id": "ae63a6f5-71af-4a07-a940-d96b45ebd1a2",
   "metadata": {},
   "outputs": [],
   "source": [
    "# regardless of how you slice this, it's about \n",
    "# 80 % of the content that is still there.\n",
    "\n",
    "# these are very slow, so they are commented out\n",
    "# ! twarc2 flatten raw_data/riots.jsonl output_data/riots_flat.jsonl\n",
    "# ! twarc2 csv output_data/riots_flat.jsonl output_data/riots_flat.csv\n",
    "\n",
    "! wc output_data/riots_flat.jsonl\n",
    "! wc output_data/riots_flat.csv\n"
   ]
  },
  {
   "cell_type": "code",
   "execution_count": null,
   "id": "e9940af5-4060-482a-8b32-b9100edc2be4",
   "metadata": {},
   "outputs": [],
   "source": [
    "! head -n 10000 output_data/riots_flat.jsonl > output_data/riots10k.jsonl\n",
    "! twarc2 csv output_data/riots10k.jsonl > output_data/riots10k.csv"
   ]
  },
  {
   "cell_type": "code",
   "execution_count": null,
   "id": "77650dfb-2962-4afa-ba53-5ab83032feff",
   "metadata": {},
   "outputs": [],
   "source": [
    " riots_df = pandas.read_csv(\"output_data/riots10k.csv\", low_memory=False)"
   ]
  },
  {
   "cell_type": "code",
   "execution_count": null,
   "id": "41c2a615-48c8-4a97-9624-9bd95a92f466",
   "metadata": {},
   "outputs": [],
   "source": [
    "riots_df.shape"
   ]
  },
  {
   "cell_type": "code",
   "execution_count": null,
   "id": "3f11eaf7-ee2d-499c-8b56-7130fb9a5ab0",
   "metadata": {},
   "outputs": [],
   "source": [
    "riots_df.columns"
   ]
  },
  {
   "cell_type": "code",
   "execution_count": null,
   "id": "66035404-0485-457f-97b8-276f91f9ce73",
   "metadata": {},
   "outputs": [],
   "source": [
    "# count the users\n",
    "users_df = riots_df.author_id.unique()\n",
    "(users_df.shape)"
   ]
  },
  {
   "cell_type": "code",
   "execution_count": null,
   "id": "cf391ba5-86da-4a56-b52c-3ea6b258e477",
   "metadata": {},
   "outputs": [],
   "source": [
    "users_quoted_df = riots_df.quoted_user_id.unique()\n",
    "(users_quoted_df.shape)"
   ]
  },
  {
   "cell_type": "markdown",
   "id": "3d6da4f1-7a9a-47ef-a5ce-d4e5a3920752",
   "metadata": {},
   "source": [
    "# Episode 6: Search and Filter"
   ]
  },
  {
   "cell_type": "code",
   "execution_count": null,
   "id": "afb13818-26a5-4d6a-bcf1-f99b3d7c966c",
   "metadata": {},
   "outputs": [],
   "source": [
    "# use Twitter advanced search syntax (everthing in quotes!)\n",
    "# to get tailored results\n",
    "# !twarc2 search --limit 800 \"(cute OR fluffy OR haircut) (#catsofinstagram) lang:en\" raw_data/kittens.jsonl\n",
    "!twarc2 csv raw_data/kittens.jsonl output_data/kittens.csv"
   ]
  },
  {
   "cell_type": "code",
   "execution_count": null,
   "id": "0ec3cfcd-55cb-4434-b633-b548cb321141",
   "metadata": {},
   "outputs": [],
   "source": [
    "kittens_df = pandas.read_csv(\"output_data/kittens.csv\")"
   ]
  },
  {
   "cell_type": "code",
   "execution_count": null,
   "id": "92c8aa01-430a-4599-a65d-aaac822ff8c9",
   "metadata": {},
   "outputs": [],
   "source": [
    "kittens_df"
   ]
  },
  {
   "cell_type": "code",
   "execution_count": null,
   "id": "0015b8ec-3e79-46d8-8f76-9aa7c5dc66b2",
   "metadata": {},
   "outputs": [],
   "source": [
    "list(kittens_df.columns)"
   ]
  },
  {
   "cell_type": "markdown",
   "id": "52f49634-c9d6-4118-8f26-10741d9e8b1f",
   "metadata": {},
   "source": [
    "# Search"
   ]
  },
  {
   "cell_type": "code",
   "execution_count": null,
   "id": "4839f38b-2849-4b25-8929-70b08388b46b",
   "metadata": {},
   "outputs": [],
   "source": [
    "# ! twarc2 search \"(to:tinycarebot)\" raw_data/tinycarebot_mentions.jsonl"
   ]
  },
  {
   "cell_type": "markdown",
   "id": "deb4826b-87dc-4262-a965-8291d5c04d77",
   "metadata": {},
   "source": [
    "# Stream"
   ]
  },
  {
   "cell_type": "code",
   "execution_count": null,
   "id": "f3813f06-866d-4dad-8913-eb97eeb9a32f",
   "metadata": {},
   "outputs": [],
   "source": [
    "!twarc2 stream-rules add \"#WorldGothDay\""
   ]
  },
  {
   "cell_type": "code",
   "execution_count": null,
   "id": "fa0e9f9c-9495-4470-b67d-d1d655c9702e",
   "metadata": {},
   "outputs": [],
   "source": [
    "!twarc2 stream-rules add \"gothcats\""
   ]
  },
  {
   "cell_type": "code",
   "execution_count": null,
   "id": "199399be-2763-4069-8a02-45df725654b5",
   "metadata": {},
   "outputs": [],
   "source": [
    "# press the square to interrup this!"
   ]
  },
  {
   "cell_type": "code",
   "execution_count": null,
   "id": "1a753327-f249-4caa-83b0-0a9dfa81811f",
   "metadata": {},
   "outputs": [],
   "source": [
    "# !twarc2 stream > \"raw_data/streamed_goth.jsonl\""
   ]
  },
  {
   "cell_type": "code",
   "execution_count": null,
   "id": "4a605d10-ec05-4dd1-9fe9-9d86be898e14",
   "metadata": {},
   "outputs": [],
   "source": [
    "! wc raw_data/streamed_goth.jsonl\n",
    "! twarc2 flatten raw_data/streamed_goth.jsonl > output_data/streamed_goth_flat.jsonl\n",
    "! wc output_data/streamed_goth_flat.jsonl "
   ]
  },
  {
   "cell_type": "code",
   "execution_count": null,
   "id": "201fdef7-f70e-4188-9d8f-e2c5fe2d7b6b",
   "metadata": {},
   "outputs": [],
   "source": []
  },
  {
   "cell_type": "code",
   "execution_count": null,
   "id": "ad11f3b7-ae2f-4605-8434-1d5709e13384",
   "metadata": {},
   "outputs": [],
   "source": [
    "!twarc2 stream-rules delete \"caturday\""
   ]
  },
  {
   "cell_type": "markdown",
   "id": "4388d91c-dcfe-4fc3-b215-ff0c2a1c0dda",
   "metadata": {},
   "source": [
    "# Retweets vs. tweets\n",
    "How much original content is there?\n",
    "Do this for both library timeline and catsofinstagrams"
   ]
  },
  {
   "cell_type": "code",
   "execution_count": null,
   "id": "ceb74589-f708-4ab5-9a2b-00c2478d4020",
   "metadata": {},
   "outputs": [],
   "source": [
    "# via pandas and plottting\n",
    "retweet_count = hashtagcats_df[\"referenced_tweets.retweeted.id\"].value_counts()\n",
    "sum(retweet_count)\n"
   ]
  },
  {
   "cell_type": "code",
   "execution_count": null,
   "id": "7735260d-5419-4dbb-ad06-47f5614ca46b",
   "metadata": {},
   "outputs": [],
   "source": [
    "(sum(retweet_count) / len(hashtagcats_df))"
   ]
  },
  {
   "cell_type": "markdown",
   "id": "168a36d8-b783-4c33-ad58-fd1c862601a1",
   "metadata": {},
   "source": [
    "78% of the tweets that used #catsofinstagram were retweets."
   ]
  },
  {
   "cell_type": "code",
   "execution_count": null,
   "id": "cd71350f-d7b2-48d2-a0d2-e8849ca88122",
   "metadata": {},
   "outputs": [],
   "source": [
    "# so our pipeline on a stream would look like:\n"
   ]
  },
  {
   "cell_type": "code",
   "execution_count": null,
   "id": "232b27f7-99be-456e-a7b3-26cbaa118501",
   "metadata": {},
   "outputs": [],
   "source": []
  },
  {
   "cell_type": "markdown",
   "id": "12ca8fc4-ac95-4535-8146-843e2126e915",
   "metadata": {},
   "source": [
    "# Episode 7: twarc plug-ins"
   ]
  },
  {
   "cell_type": "code",
   "execution_count": null,
   "id": "803bd317-bbba-46b9-b813-98dca6c8a196",
   "metadata": {},
   "outputs": [],
   "source": [
    "# this reminds you what DataFrames you have in memory\n",
    "%who DataFrame"
   ]
  },
  {
   "cell_type": "code",
   "execution_count": null,
   "id": "c01a8f05-8ce2-4bc5-a67c-da24ff406f79",
   "metadata": {},
   "outputs": [],
   "source": [
    "!pip install twarc-hashtags"
   ]
  },
  {
   "cell_type": "code",
   "execution_count": null,
   "id": "3ad34beb-905a-4d21-884d-0455eedda236",
   "metadata": {},
   "outputs": [],
   "source": [
    "!pip install twarc-network"
   ]
  },
  {
   "cell_type": "code",
   "execution_count": null,
   "id": "f8a29770-1df4-4dea-a880-96ce6ba57d86",
   "metadata": {},
   "outputs": [],
   "source": []
  },
  {
   "cell_type": "code",
   "execution_count": null,
   "id": "8c965f46-311a-4add-97a0-403a647ee7d8",
   "metadata": {},
   "outputs": [],
   "source": [
    "!twarc2 retweeted-by 1522543998996414464 > 'raw_data/tinycarebot_rtby.jsonl'\n",
    "!twarc2 flatten raw_data/tinycarebot_rtby.jsonl > output_data/tinycarebot_rtby_flat.jsonl"
   ]
  },
  {
   "cell_type": "code",
   "execution_count": null,
   "id": "524418c1-1527-4464-9d58-44043b1518f2",
   "metadata": {},
   "outputs": [],
   "source": []
  },
  {
   "cell_type": "code",
   "execution_count": null,
   "id": "80c75b11-38a8-46d3-9b68-3c9bb2b1e4a0",
   "metadata": {},
   "outputs": [],
   "source": [
    "!twarc2 hashtags raw_data/hashtagcats.jsonl output_data/hashtagcats_hashtags.csv"
   ]
  },
  {
   "cell_type": "code",
   "execution_count": null,
   "id": "21259cf0-2674-4348-b13b-ae0de1341f44",
   "metadata": {},
   "outputs": [],
   "source": [
    "# how do I print file to cell?\n",
    "# print(read(output_data/hashtagcats_hashtags.csv))"
   ]
  },
  {
   "cell_type": "code",
   "execution_count": null,
   "id": "d1f8bdbd-aaf0-4ed2-9a10-edb6ced71309",
   "metadata": {},
   "outputs": [],
   "source": [
    "!twarc2 hashtags raw_data/ucsblibrary_mentions.jsonl output_data/ucsblibrary_mentions_hashtags.csv"
   ]
  },
  {
   "cell_type": "code",
   "execution_count": null,
   "id": "25adac2c-be71-46c9-9a5c-0ec98c21f2df",
   "metadata": {},
   "outputs": [],
   "source": [
    "!twarc2 network raw_data/hashtagcats.jsonl output_data/hashtagcats_network.html"
   ]
  },
  {
   "cell_type": "code",
   "execution_count": null,
   "id": "a066d059-1867-449e-8230-72faa359c6e8",
   "metadata": {},
   "outputs": [],
   "source": [
    "# this is slow and uses quota\n",
    "# !twarc2 followers --limit 1 tinycarebot >  'raw_data/tcb_followers.jsonl'"
   ]
  },
  {
   "cell_type": "code",
   "execution_count": null,
   "id": "c9d6e8c9-2d81-4868-923b-ca5b4c10815e",
   "metadata": {},
   "outputs": [],
   "source": [
    "!twarc2 flatten raw_data/tcb_followers.jsonl > output_data/tcb_followers_flat.jsonl"
   ]
  },
  {
   "cell_type": "code",
   "execution_count": null,
   "id": "d4983561-30ba-4b8b-9739-441bfa394e36",
   "metadata": {},
   "outputs": [],
   "source": [
    "! wc output_data/tcb_followers_flat.jsonl"
   ]
  },
  {
   "cell_type": "code",
   "execution_count": null,
   "id": "b19f73c6-1e8f-4766-96a5-666b0ab0d71e",
   "metadata": {},
   "outputs": [],
   "source": [
    "# tiny challenge\n",
    "# look at the help!\n",
    "! twarc2 csv --input-data-type users output_data/tcb_followers_flat.jsonl > output_data/tcb_followers.csv\n",
    "# csv doesn't work on profiles."
   ]
  },
  {
   "cell_type": "code",
   "execution_count": null,
   "id": "187e274c-6481-4f37-8ee5-29806da7be7e",
   "metadata": {},
   "outputs": [],
   "source": [
    "# ! twarc2 mentions ucsblibrary raw_data/ucsblibrary_mentions.jsonl\n",
    "# what comes next now that users csv is fixed!????? #FIXME\n",
    "! twarc2 csv raw_data/ucsblibrary_mentions.jsonl output_data/ucsblibrary_mentions.csv \n",
    "ucsb_library_mentions_df = pandas.read_csv('output_data/ucsblibrary_mentions.csv')"
   ]
  },
  {
   "cell_type": "code",
   "execution_count": null,
   "id": "0c139fb8-f473-404c-9493-4597f673a5e6",
   "metadata": {},
   "outputs": [],
   "source": [
    "!twarc2 network raw_data/hashtag_gasprices.jsonl output_data/hashtag_gasprices_network.html"
   ]
  },
  {
   "cell_type": "markdown",
   "id": "e9ff6e98-1dc9-43c6-be95-ecf88045147a",
   "metadata": {},
   "source": [
    "# Episode 8: Python text analysis"
   ]
  },
  {
   "cell_type": "markdown",
   "id": "d6c3b41d-cfc2-4a41-b710-4145d2fbb0af",
   "metadata": {},
   "source": [
    "### Sentiment Analysis\n",
    "To do this, we need to do a little Python\n",
    "\n",
    "TextBlob is a text processing library that does sentiment analysis. \n",
    "The sentiment property returns a namedtuple of the form Sentiment(polarity, subjectivity). The polarity score is a float within the range [-1.0, 1.0]. The subjectivity is a float within the range [0.0, 1.0] where 0.0 is very objective and 1.0 is very subjective."
   ]
  },
  {
   "cell_type": "markdown",
   "id": "cd4d69fd-adcc-46a6-9a46-83cb991e52b9",
   "metadata": {},
   "source": [
    "Before we use TextBlob for sentiment analysis, we need to download\n",
    "datasets of words and their associated weights. These are called *corpora*."
   ]
  },
  {
   "cell_type": "code",
   "execution_count": null,
   "id": "423c7d9b-b67d-4b13-8894-75a64654b52d",
   "metadata": {},
   "outputs": [],
   "source": [
    "# commented out because I put it up in ep 2\n",
    "# !python -m textblob.download_corpora"
   ]
  },
  {
   "cell_type": "code",
   "execution_count": null,
   "id": "9c5bbf73-444b-41a2-a72c-deb388217096",
   "metadata": {},
   "outputs": [],
   "source": [
    "# TextBlob needs a string, so this won't work.\n",
    "# textblob.TextBlob(hashtagcats_df).sentiment"
   ]
  },
  {
   "cell_type": "code",
   "execution_count": null,
   "id": "f2c21bf8-b1ec-4405-94bc-b77c599e4b9f",
   "metadata": {},
   "outputs": [],
   "source": [
    "# even calling the column won't work:\n",
    "# textblob.TextBlob(hashtagcats_df['text']).sentiment"
   ]
  },
  {
   "cell_type": "code",
   "execution_count": null,
   "id": "6874ca27-b81f-4f4f-911b-68e9fe21384e",
   "metadata": {},
   "outputs": [],
   "source": [
    "# break tweets test column into a list, then .join into one long string \n",
    "hashtagcats_list = ' '.join(hashtagcats_df['text'].tolist())\n",
    "# turn the string into a blob\n",
    "hashtagcats_blob = textblob.TextBlob(hashtagcats_list)\n",
    "# get the sentiment\n",
    "hashtagcats_blob.sentiment"
   ]
  },
  {
   "cell_type": "code",
   "execution_count": null,
   "id": "8ccc6de7-126c-4975-8f1e-cacd1140ff34",
   "metadata": {},
   "outputs": [],
   "source": [
    "# what dataframes are still here?\n",
    "%whos DataFrame\n"
   ]
  },
  {
   "cell_type": "markdown",
   "id": "005ba8f5-5054-4fba-8e12-0bade66f4775",
   "metadata": {
    "tags": []
   },
   "source": [
    "The overall sentiment of the language of kitty twitter is rather positive.\n",
    "And the tweets tend to be subjective."
   ]
  },
  {
   "cell_type": "code",
   "execution_count": null,
   "id": "42f7f70c-b9ee-45cf-ad37-7a26cc43d559",
   "metadata": {},
   "outputs": [],
   "source": [
    "# What do you think the sentiment of gasprices might be?\n",
    "# get the overall sentiment and see if it matches your prediction."
   ]
  },
  {
   "cell_type": "code",
   "execution_count": null,
   "id": "111ea270-deb5-44ff-a38d-a44220e4fee4",
   "metadata": {},
   "outputs": [],
   "source": [
    "! twarc2 csv output_data/hashtag_gasprices_flat.jsonl > output_data/hashtag_gasprices_flat.csv\n",
    "hashtag_gasprices_df = pandas.read_csv(\"output_data/hashtag_gasprices_flat.csv\", low_memory=False)"
   ]
  },
  {
   "cell_type": "code",
   "execution_count": null,
   "id": "9856bda0-b290-40a0-ad22-32ece206312b",
   "metadata": {},
   "outputs": [],
   "source": [
    "gasprices_list = ' '.join(hashtag_gasprices_df['text'].tolist())\n",
    "gasprices_blob = textblob.TextBlob(gasprices_list)\n",
    "print(\"Hashtag Gas Prices: \") \n",
    "gasprices_blob.sentiment"
   ]
  },
  {
   "cell_type": "code",
   "execution_count": null,
   "id": "a52956a9-00a3-4da1-960a-1d3ad08e26a4",
   "metadata": {},
   "outputs": [],
   "source": [
    "hashtagcats_list = ' '.join(hashtagcats_df['text'].tolist())\n",
    "hashtagcats_blob = textblob.TextBlob(hashtagcats_list)\n",
    "print(\"Hashtag Cats of Instagram: \") \n",
    "hashtagcats_blob.sentiment"
   ]
  },
  {
   "cell_type": "markdown",
   "id": "f0e6acd1-e68a-4b01-873b-a3aaebd440fd",
   "metadata": {},
   "source": [
    "# Episode 9: Data Management"
   ]
  },
  {
   "cell_type": "code",
   "execution_count": null,
   "id": "8d4e4d3d-71a6-4fe7-8b30-542ea123b4ad",
   "metadata": {},
   "outputs": [],
   "source": [
    "!twarc2 counts --granularity \"day\" --text \"amazon\""
   ]
  }
 ],
 "metadata": {
  "kernelspec": {
   "display_name": "Python 3 (ipykernel)",
   "language": "python",
   "name": "python3"
  },
  "language_info": {
   "codemirror_mode": {
    "name": "ipython",
    "version": 3
   },
   "file_extension": ".py",
   "mimetype": "text/x-python",
   "name": "python",
   "nbconvert_exporter": "python",
   "pygments_lexer": "ipython3",
   "version": "3.9.10"
  }
 },
 "nbformat": 4,
 "nbformat_minor": 5
}
