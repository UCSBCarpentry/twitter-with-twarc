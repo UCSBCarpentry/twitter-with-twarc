{
 "cells": [
  {
   "cell_type": "markdown",
   "id": "3b8988ea-176a-42c1-9826-2c125aba3a5e",
   "metadata": {},
   "source": [
    "# Twitter with twarc\n",
    "A UCSB original Carpentry workshop\n",
    "\n",
    "You should have a hashtag_gasprices.jsonl file. We made it for you using the code below."
   ]
  },
  {
   "cell_type": "code",
   "execution_count": 1,
   "id": "1324c4e6-ab87-441e-bd4e-860eec5ccfe8",
   "metadata": {},
   "outputs": [],
   "source": [
    "# we made this file for you\n",
    "# ! twarc2 search \"#gasprices\" > raw_data/hashtag_gasprices.jsonl\n",
    "\n",
    "\n"
   ]
  },
  {
   "cell_type": "code",
   "execution_count": 2,
   "id": "35e9818e-0cc6-474e-b92b-28467ca18d4f",
   "metadata": {},
   "outputs": [
    {
     "name": "stdout",
     "output_type": "stream",
     "text": [
      "Requirement already satisfied: twarc-csv in /opt/conda/lib/python3.9/site-packages (0.5.2)\n",
      "Requirement already satisfied: tqdm>=4.59.0 in /opt/conda/lib/python3.9/site-packages (from twarc-csv) (4.64.0)\n",
      "Requirement already satisfied: twarc>=2.9.5 in /opt/conda/lib/python3.9/site-packages (from twarc-csv) (2.10.4)\n",
      "Requirement already satisfied: more-itertools>=8.7.0 in /opt/conda/lib/python3.9/site-packages (from twarc-csv) (8.13.0)\n",
      "Requirement already satisfied: pandas>=1.2.5 in /opt/conda/lib/python3.9/site-packages (from twarc-csv) (1.4.2)\n",
      "Requirement already satisfied: python-dateutil>=2.8.1 in /opt/conda/lib/python3.9/site-packages (from pandas>=1.2.5->twarc-csv) (2.8.2)\n",
      "Requirement already satisfied: pytz>=2020.1 in /opt/conda/lib/python3.9/site-packages (from pandas>=1.2.5->twarc-csv) (2022.1)\n",
      "Requirement already satisfied: numpy>=1.18.5 in /opt/conda/lib/python3.9/site-packages (from pandas>=1.2.5->twarc-csv) (1.22.3)\n",
      "Requirement already satisfied: click-plugins>=1 in /opt/conda/lib/python3.9/site-packages (from twarc>=2.9.5->twarc-csv) (1.1.1)\n",
      "Requirement already satisfied: click<9,>=7 in /opt/conda/lib/python3.9/site-packages (from twarc>=2.9.5->twarc-csv) (8.1.3)\n",
      "Requirement already satisfied: humanize>=3.9 in /opt/conda/lib/python3.9/site-packages (from twarc>=2.9.5->twarc-csv) (4.1.0)\n",
      "Requirement already satisfied: click-config-file>=0.6 in /opt/conda/lib/python3.9/site-packages (from twarc>=2.9.5->twarc-csv) (0.6.0)\n",
      "Requirement already satisfied: requests-oauthlib>=1.3 in /opt/conda/lib/python3.9/site-packages (from twarc>=2.9.5->twarc-csv) (1.3.1)\n",
      "Requirement already satisfied: configobj>=5.0.6 in /opt/conda/lib/python3.9/site-packages (from click-config-file>=0.6->twarc>=2.9.5->twarc-csv) (5.0.6)\n",
      "Requirement already satisfied: six>=1.5 in /opt/conda/lib/python3.9/site-packages (from python-dateutil>=2.8.1->pandas>=1.2.5->twarc-csv) (1.16.0)\n",
      "Requirement already satisfied: requests>=2.0.0 in /opt/conda/lib/python3.9/site-packages (from requests-oauthlib>=1.3->twarc>=2.9.5->twarc-csv) (2.27.1)\n",
      "Requirement already satisfied: oauthlib>=3.0.0 in /opt/conda/lib/python3.9/site-packages (from requests-oauthlib>=1.3->twarc>=2.9.5->twarc-csv) (3.2.0)\n",
      "Requirement already satisfied: idna<4,>=2.5 in /opt/conda/lib/python3.9/site-packages (from requests>=2.0.0->requests-oauthlib>=1.3->twarc>=2.9.5->twarc-csv) (3.3)\n",
      "Requirement already satisfied: urllib3<1.27,>=1.21.1 in /opt/conda/lib/python3.9/site-packages (from requests>=2.0.0->requests-oauthlib>=1.3->twarc>=2.9.5->twarc-csv) (1.26.9)\n",
      "Requirement already satisfied: certifi>=2017.4.17 in /opt/conda/lib/python3.9/site-packages (from requests>=2.0.0->requests-oauthlib>=1.3->twarc>=2.9.5->twarc-csv) (2021.10.8)\n",
      "Requirement already satisfied: charset-normalizer~=2.0.0 in /opt/conda/lib/python3.9/site-packages (from requests>=2.0.0->requests-oauthlib>=1.3->twarc>=2.9.5->twarc-csv) (2.0.12)\n",
      "Requirement already satisfied: emoji in /opt/conda/lib/python3.9/site-packages (1.7.0)\n"
     ]
    }
   ],
   "source": [
    "# administravia\n",
    "# upon re-start we need to install twarc2 and other extensions\n",
    "! pip install twarc-csv\n",
    "! pip install emoji"
   ]
  },
  {
   "cell_type": "markdown",
   "id": "e2b8339f-952b-498f-bc0f-a5eda41a38e0",
   "metadata": {},
   "source": [
    "# Episode 2\n"
   ]
  },
  {
   "cell_type": "code",
   "execution_count": 3,
   "id": "3cbf7282-bf3d-4a51-ad72-008ccaef1a13",
   "metadata": {},
   "outputs": [
    {
     "name": "stdout",
     "output_type": "stream",
     "text": [
      "Usage: twarc2 [OPTIONS] COMMAND [ARGS]...\n",
      "\n",
      "  Collect data from the Twitter V2 API.\n",
      "\n",
      "Options:\n",
      "  --consumer-key TEXT         Twitter app consumer key (aka \"App Key\")\n",
      "  --consumer-secret TEXT      Twitter app consumer secret (aka \"App Secret\")\n",
      "  --access-token TEXT         Twitter app access token for user\n",
      "                              authentication.\n",
      "  --access-token-secret TEXT  Twitter app access token secret for user\n",
      "                              authentication.\n",
      "  --bearer-token TEXT         Twitter app access bearer token.\n",
      "  --app-auth / --user-auth    Use application authentication or user\n",
      "                              authentication. Some rate limits are higher with\n",
      "                              user authentication, but not all endpoints are\n",
      "                              supported.  [default: app-auth]\n",
      "  -l, --log TEXT\n",
      "  --verbose\n",
      "  --metadata / --no-metadata  Include/don't include metadata about when and\n",
      "                              how data was collected.  [default: metadata]\n",
      "  --config FILE               Read configuration from FILE.\n",
      "  --help                      Show this message and exit.\n",
      "\n",
      "Commands:\n",
      "  compliance-job  Create, retrieve and list batch compliance jobs for...\n",
      "  configure       Set up your Twitter app keys.\n",
      "  conversation    Retrieve a conversation thread using the tweet id.\n",
      "  conversations   Fetch the full conversation threads that the input...\n",
      "  counts          Return counts of tweets matching a query.\n",
      "  csv             Convert tweets to CSV.\n",
      "  dehydrate       Extract tweet or user IDs from a dataset.\n",
      "  flatten         \"Flatten\" tweets, or move expansions inline with tweet...\n",
      "  followers       Get the followers for a given user.\n",
      "  following       Get the users that a given user is following.\n",
      "  hydrate         Hydrate tweet ids.\n",
      "  liked-tweets    Get the tweets liked by a specific user_id.\n",
      "  liking-users    Get the users that liked a specific tweet.\n",
      "  lists           Lists API support.\n",
      "  mentions        Retrieve max of 800 of the most recent tweets...\n",
      "  places          Search for places by place name, geo coordinates or ip...\n",
      "  quotes          Get the tweets that quote tweet the given tweet.\n",
      "  retweeted-by    Get the users that retweeted a specific tweet.\n",
      "  sample          Fetch tweets from the sample stream.\n",
      "  search          Search for tweets.\n",
      "  searches        Execute each search in the input file, one at a time.\n",
      "  stream          Fetch tweets from the live stream.\n",
      "  stream-rules    List, add and delete rules for your stream.\n",
      "  timeline        Retrieve recent tweets for the given user.\n",
      "  timelines       Fetch the timelines of every user in an input source of...\n",
      "  tweet           Look up a tweet using its tweet id or URL.\n",
      "  user            Get the profile data for a single user by either...\n",
      "  users           Get data for user ids or usernames.\n",
      "  version         Return the version of twarc that is installed.\n"
     ]
    }
   ],
   "source": [
    "# BASH commands start with a BANG!\n",
    "!twarc2 --help"
   ]
  },
  {
   "cell_type": "code",
   "execution_count": 4,
   "id": "d2ad701f-463e-40f9-958b-a09721e263d4",
   "metadata": {
    "tags": []
   },
   "outputs": [
    {
     "name": "stderr",
     "output_type": "stream",
     "text": [
      "/opt/conda/lib/python3.9/site-packages/tqdm/auto.py:22: TqdmWarning: IProgress not found. Please update jupyter and ipywidgets. See https://ipywidgets.readthedocs.io/en/stable/user_install.html\n",
      "  from .autonotebook import tqdm as notebook_tqdm\n"
     ]
    }
   ],
   "source": [
    "#  what libraries will we need to be loading in our notebook?\n",
    "#  we need to always distinguish between \n",
    "#  running BASH vs. running a line of python.\n",
    "\n",
    "import pandas\n",
    "import twarc_csv\n",
    "import textblob\n",
    "import nltk\n",
    "import os\n",
    "import emoji"
   ]
  },
  {
   "cell_type": "code",
   "execution_count": 5,
   "id": "df5f4739-6651-4fad-b521-190e8aa0028b",
   "metadata": {},
   "outputs": [
    {
     "name": "stdout",
     "output_type": "stream",
     "text": [
      "[nltk_data] Downloading package brown to /home/jovyan/nltk_data...\n",
      "[nltk_data]   Package brown is already up-to-date!\n",
      "[nltk_data] Downloading package punkt to /home/jovyan/nltk_data...\n",
      "[nltk_data]   Package punkt is already up-to-date!\n",
      "[nltk_data] Downloading package wordnet to /home/jovyan/nltk_data...\n",
      "[nltk_data]   Package wordnet is already up-to-date!\n",
      "[nltk_data] Downloading package averaged_perceptron_tagger to\n",
      "[nltk_data]     /home/jovyan/nltk_data...\n",
      "[nltk_data]   Package averaged_perceptron_tagger is already up-to-\n",
      "[nltk_data]       date!\n",
      "[nltk_data] Downloading package conll2000 to /home/jovyan/nltk_data...\n",
      "[nltk_data]   Package conll2000 is already up-to-date!\n",
      "[nltk_data] Downloading package movie_reviews to\n",
      "[nltk_data]     /home/jovyan/nltk_data...\n",
      "[nltk_data]   Package movie_reviews is already up-to-date!\n",
      "Finished.\n"
     ]
    },
    {
     "name": "stderr",
     "output_type": "stream",
     "text": [
      "[nltk_data] Downloading package stopwords to /home/jovyan/nltk_data...\n",
      "[nltk_data]   Package stopwords is already up-to-date!\n"
     ]
    },
    {
     "data": {
      "text/plain": [
       "True"
      ]
     },
     "execution_count": 5,
     "metadata": {},
     "output_type": "execute_result"
    }
   ],
   "source": [
    "# this comes into play for ep 8\n",
    "!python -m textblob.download_corpora\n",
    "nltk.download('stopwords')"
   ]
  },
  {
   "cell_type": "code",
   "execution_count": 6,
   "id": "2082bb24-2751-406c-a918-c8c41d14e7b1",
   "metadata": {},
   "outputs": [
    {
     "name": "stdout",
     "output_type": "stream",
     "text": [
      "/home/jovyan/twarc_run\n"
     ]
    }
   ],
   "source": [
    "# and of course, it's important to know where we are working\n",
    "# I can send a BASH command from my notebook with a !:\n",
    "!pwd"
   ]
  },
  {
   "cell_type": "code",
   "execution_count": 7,
   "id": "8098e978-172e-4949-a531-1a05fa43be25",
   "metadata": {},
   "outputs": [
    {
     "data": {
      "text/plain": [
       "'/home/jovyan/twarc_run'"
      ]
     },
     "execution_count": 7,
     "metadata": {},
     "output_type": "execute_result"
    }
   ],
   "source": [
    "# you can also do this with Python\n",
    "os.getcwd()"
   ]
  },
  {
   "cell_type": "code",
   "execution_count": 8,
   "id": "dc19b894-b858-4966-ae5e-e32bff6bde2e",
   "metadata": {},
   "outputs": [],
   "source": [
    "# we can change if we need\n",
    "# os.chdir(\".....\")"
   ]
  },
  {
   "cell_type": "code",
   "execution_count": 9,
   "id": "17a6e89d-7e91-4558-ae3f-aa1026554cef",
   "metadata": {},
   "outputs": [
    {
     "data": {
      "text/plain": [
       "'/home/jovyan/twarc_run'"
      ]
     },
     "execution_count": 9,
     "metadata": {},
     "output_type": "execute_result"
    }
   ],
   "source": [
    "os.getcwd()"
   ]
  },
  {
   "cell_type": "markdown",
   "id": "5913eea7-a65c-4505-b1c5-a846d7a98d23",
   "metadata": {},
   "source": [
    "## Running twarc\n",
    "Let's get the timeline of one of twarc's creators."
   ]
  },
  {
   "cell_type": "code",
   "execution_count": 10,
   "id": "222e98bb-b6fa-442e-b1e9-5f5b72e518e8",
   "metadata": {},
   "outputs": [],
   "source": [
    "# !twarc2 timeline BergisJules > raw_data/bjules.jsonl"
   ]
  },
  {
   "cell_type": "markdown",
   "id": "4473db7c-3651-45f7-8c14-0f49b6c5c0f4",
   "metadata": {
    "tags": []
   },
   "source": [
    "### Challenge 1\n",
    "- Can you find the file called “bjules_flat.jsonl”?\n",
    "- How many tweets did you get from Bergis? (we can't tell without flattening or looking at the output)\n",
    "- Download a timeline for a person of your choice. How many tweets did you get? \n",
    "- What’s the oldest one?"
   ]
  },
  {
   "cell_type": "code",
   "execution_count": 11,
   "id": "bab10779-cc96-4ed0-9e47-2e8faac15d93",
   "metadata": {},
   "outputs": [
    {
     "name": "stdout",
     "output_type": "stream",
     "text": [
      "    473  205041 2876068 output_data/ecodatasci_flat.jsonl\n"
     ]
    }
   ],
   "source": [
    "# !twarc2 timeline ecodatasci > raw_data/ecodatasci.jsonl\n",
    "! twarc2 flatten raw_data/ecodatasci.jsonl > output_data/ecodatasci_flat.jsonl\n",
    "! wc output_data/ecodatasci_flat.jsonl"
   ]
  },
  {
   "cell_type": "markdown",
   "id": "4bbe2b98-3264-45bc-adc0-f6aa567718cd",
   "metadata": {
    "tags": []
   },
   "source": [
    "A straight harvest using search or stream doesn't need to be flattened \n",
    "to do our most basic analysis: wc. Do gas prices here?"
   ]
  },
  {
   "cell_type": "markdown",
   "id": "99766d53-53ea-4ef2-b201-2e58c89d411d",
   "metadata": {
    "tags": []
   },
   "source": [
    "## To flatten or not flatten"
   ]
  },
  {
   "cell_type": "markdown",
   "id": "586f4cbf-4741-44e2-a025-9968faf74e77",
   "metadata": {},
   "source": [
    "### Make your jsonl 1 tweet per line\n",
    "Flattening will let you do our most basic unix-y analysis, turn\n",
    "timelines into countable lists, and enable you to run twarc1\n",
    "utilities later on in the workshop"
   ]
  },
  {
   "cell_type": "code",
   "execution_count": 12,
   "id": "eaf04f84-943a-4d7b-a45e-d007e6b5abc4",
   "metadata": {},
   "outputs": [
    {
     "name": "stdout",
     "output_type": "stream",
     "text": [
      "100%|██████████████| Processed 8.96M/8.96M of input file [00:00<00:00, 10.4MB/s]\n"
     ]
    }
   ],
   "source": [
    "# timeline objects need to be flattened in order to be analyzed as tweets\n",
    "!twarc2 flatten raw_data/bjules.jsonl output_data/bjules_flat.jsonl"
   ]
  },
  {
   "cell_type": "markdown",
   "id": "08892a04-a2be-4353-b64c-43a628e5ae50",
   "metadata": {},
   "source": [
    "## Convert to csv"
   ]
  },
  {
   "cell_type": "code",
   "execution_count": 13,
   "id": "1b29144d-a627-4128-b54f-74439f37a917",
   "metadata": {},
   "outputs": [
    {
     "name": "stdout",
     "output_type": "stream",
     "text": [
      "100%|██████████████| Processed 8.96M/8.96M of input file [00:05<00:00, 1.70MB/s]\n",
      "\n",
      "ℹ️\n",
      "Parsed 3143 tweets objects from 33 lines in the input file.\n",
      "Wrote 3143 rows and output 74 columns in the CSV.\n",
      "\n"
     ]
    }
   ],
   "source": [
    "!twarc2 csv raw_data/bjules.jsonl output_data/bjules.csv"
   ]
  },
  {
   "cell_type": "markdown",
   "id": "0a8c4d85-fa2a-4e7d-9e7c-1fa1207d64fc",
   "metadata": {},
   "source": [
    "## When we look at bjules, we really do need to flatten it."
   ]
  },
  {
   "cell_type": "code",
   "execution_count": 14,
   "id": "bfc7ab7b-7099-4213-bf10-0d2f6a1825d8",
   "metadata": {},
   "outputs": [
    {
     "name": "stdout",
     "output_type": "stream",
     "text": [
      "     33  845463 9393221 raw_data/bjules.jsonl\n"
     ]
    }
   ],
   "source": [
    "! wc raw_data/bjules.jsonl"
   ]
  },
  {
   "cell_type": "markdown",
   "id": "05ca8093-2fc9-4600-baa4-b1ba9d591d46",
   "metadata": {},
   "source": [
    "33 lines doesn't mean 33 tweets. I suspected there was more there because\n",
    "I got an error message about hitting a limit of 3200. \n",
    "\n",
    "And below, the csv converter tells us there are 3143 tweets."
   ]
  },
  {
   "cell_type": "code",
   "execution_count": 15,
   "id": "c9015236-250a-4f85-83b0-296431fe65a2",
   "metadata": {},
   "outputs": [
    {
     "name": "stdout",
     "output_type": "stream",
     "text": [
      "100%|██████████████| Processed 8.96M/8.96M of input file [00:02<00:00, 3.73MB/s]\n",
      "\n",
      "ℹ️\n",
      "Parsed 3143 tweets objects from 33 lines in the input file.\n",
      "Wrote 3143 rows and output 74 columns in the CSV.\n",
      "\n"
     ]
    }
   ],
   "source": [
    "# convert\n",
    "!twarc2 csv raw_data/bjules.jsonl output_data/bjules.csv"
   ]
  },
  {
   "cell_type": "code",
   "execution_count": 16,
   "id": "15a20dad-f6eb-4236-be57-382907d70dd1",
   "metadata": {},
   "outputs": [
    {
     "name": "stdout",
     "output_type": "stream",
     "text": [
      "    3143  1718186 23273101 output_data/bjules_flat.jsonl\n"
     ]
    }
   ],
   "source": [
    "# once I flatten it, my wc will show the correct number\n",
    "! wc output_data/bjules_flat.jsonl"
   ]
  },
  {
   "cell_type": "code",
   "execution_count": 17,
   "id": "180e3158-2f08-4d08-8e9e-b4ab999e6ef1",
   "metadata": {
    "tags": []
   },
   "outputs": [
    {
     "name": "stdout",
     "output_type": "stream",
     "text": [
      "    3143  1718186 23273101 output_data/bjules_flat.jsonl\n",
      "    3144   579239 11547625 output_data/bjules.csv\n"
     ]
    }
   ],
   "source": [
    "# When I did this, I got 3166 tweets (as opposed to the 33 lines that the original file was)\n",
    "! wc output_data/bjules_flat.jsonl\n",
    "! wc output_data/bjules.csv"
   ]
  },
  {
   "cell_type": "markdown",
   "id": "d55e1a66-f173-4adb-898c-572f15c7bbcb",
   "metadata": {},
   "source": [
    "The csv is 1 line longer because it has column headers.\n",
    "twarc2 csv takes flat or unflattened Twitter data files."
   ]
  },
  {
   "cell_type": "markdown",
   "id": "2316f7fe-1614-404c-9516-897fd6415a7b",
   "metadata": {},
   "source": [
    "### Challenge 2"
   ]
  },
  {
   "cell_type": "code",
   "execution_count": 18,
   "id": "1284486c-4487-401d-b421-20c4597dfedd",
   "metadata": {},
   "outputs": [],
   "source": [
    "# commented line is a solution to challenge 1\n",
    "# !twarc2 timeline ecodatasci > raw_data/ecodatasci.jsonl\n",
    "\n",
    "!twarc2 flatten raw_data/ecodatasci.jsonl > output_data/ecodatasci_flat.jsonl\n",
    "!twarc2 csv output_data/ecodatasci_flat.jsonl > output_data/ecodatasci.csv \n",
    "ecodatasci_df = pandas.read_csv(\"output_data/ecodatasci.csv\")\n"
   ]
  },
  {
   "cell_type": "markdown",
   "id": "bbfccda8-2a25-44a3-bb9a-5bdbc2c6d6cb",
   "metadata": {},
   "source": [
    "# Episode 3: examining tweets\n",
    "What comes along with a tweet\n",
    "- Look at one_tweet in Jupyter viewer\n",
    "- Look at one_tweet with nano\n",
    "- Look at tweet as csv\n",
    "- Look at all the entities of a tweet"
   ]
  },
  {
   "cell_type": "code",
   "execution_count": 19,
   "id": "6d940a3f-f4d3-4278-bc08-187e9446225f",
   "metadata": {},
   "outputs": [
    {
     "name": "stdout",
     "output_type": "stream",
     "text": [
      "     108  3346644 36403969 raw_data/hashtag_gasprices.jsonl\n",
      "   10787  5007559 67146087 output_data/hashtag_gasprices_flat.jsonl\n"
     ]
    }
   ],
   "source": [
    "! wc raw_data/hashtag_gasprices.jsonl\n",
    "\n",
    "! twarc2 flatten raw_data/hashtag_gasprices.jsonl > output_data/hashtag_gasprices_flat.jsonl\n",
    "\n",
    "! wc output_data/hashtag_gasprices_flat.jsonl"
   ]
  },
  {
   "cell_type": "code",
   "execution_count": 20,
   "id": "dbcb8c10-7fe2-4d91-bc0a-7267ec5062cf",
   "metadata": {},
   "outputs": [
    {
     "name": "stdout",
     "output_type": "stream",
     "text": [
      "100%|███████████████| Processed 4.63k/4.63k of input file [00:00<00:00, 412kB/s]\n",
      "100%|███████████████| Processed 7.09k/7.09k of input file [00:00<00:00, 417kB/s]\n",
      "\n",
      "ℹ️\n",
      "Parsed 1 tweets objects from 1 lines in the input file.\n",
      "Wrote 1 rows and output 74 columns in the CSV.\n",
      "\n"
     ]
    }
   ],
   "source": [
    "### Let's look at a single tweet as a csv:\n",
    "!twarc2 flatten raw_data/one_tweet.jsonl output_data/one_tweet_flat.jsonl\n",
    "!twarc2 csv output_data/one_tweet_flat.jsonl output_data/one_tweet.csv\n",
    "\n",
    "\n"
   ]
  },
  {
   "cell_type": "code",
   "execution_count": 21,
   "id": "e147f437-858a-4c29-a9a9-bc52f41e7239",
   "metadata": {},
   "outputs": [],
   "source": [
    "!head -n 2 'output_data/hashtag_gasprices_flat.jsonl' > 'output_data/4_tweets.jsonl'\n",
    "!tail -n 2 'output_data/hashtag_gasprices_flat.jsonl' >> 'output_data/4_tweets.jsonl'"
   ]
  },
  {
   "cell_type": "code",
   "execution_count": 22,
   "id": "a6eecd58-ff34-48cd-83a4-31d8b6363694",
   "metadata": {},
   "outputs": [
    {
     "name": "stdout",
     "output_type": "stream",
     "text": [
      "{\"public_metrics\": {\"retweet_count\": 8, \"reply_count\": 0, \"like_count\": 0, \"quote_count\": 0}, \"possibly_sensitive\": false, \"lang\": \"en\", \"created_at\": \"2022-05-22T23:51:56.000Z\", \"source\": \"Twitter for Android\", \"id\": \"1528524091250163712\", \"conversation_id\": \"1528524091250163712\", \"text\": \"RT @Chromosome_XY_: Biden admits here in South Korea that the gas price hike were planned to get puerile to go to electric! Not #Putin Not\\u2026\", \"reply_settings\": \"everyone\", \"referenced_tweets\": [{\"type\": \"retweeted\", \"id\": \"1528510638745702400\", \"public_metrics\": {\"retweet_count\": 8, \"reply_count\": 0, \"like_count\": 9, \"quote_count\": 0}, \"possibly_sensitive\": false, \"lang\": \"en\", \"created_at\": \"2022-05-22T22:58:29.000Z\", \"source\": \"Twitter for Android\", \"entities\": {\"urls\": [{\"start\": 201, \"end\": 224, \"url\": \"https://t.co/40cuYQG6yK\", \"expanded_url\": \"https://twitter.com/The_FJC/status/1528475088676302848\", \"display_url\": \"twitter.com/The_FJC/status\\u2026\"}], \"hashtags\": [{\"start\": 108, \"end\": 114, \"tag\": \"Putin\"}, {\"start\": 119, \"end\": 136, \"tag\": \"UkraineRussiaWar\"}, {\"start\": 137, \"end\": 144, \"tag\": \"Russia\"}, {\"start\": 190, \"end\": 200, \"tag\": \"gasprices\"}], \"mentions\": [{\"start\": 145, \"end\": 159, \"username\": \"TuckerCarlson\", \"id\": \"22703645\", \"entities\": {\"url\": {\"urls\": [{\"start\": 0, \"end\": 23, \"url\": \"https://t.co/EXHy6K8vLS\", \"expanded_url\": \"http://TuckerCarlson.com\", \"display_url\": \"TuckerCarlson.com\"}]}}, \"url\": \"https://t.co/EXHy6K8vLS\", \"pinned_tweet_id\": \"1526780007850426370\", \"name\": \"Tucker Carlson\", \"description\": \"Emmy-award-winning broadcast journalist, graduate of Harvard College & Yale Law School. Frequent visitor to the Aspen Inst. Fully vaccinated. They/Theirs \\ud83c\\uddfa\\ud83c\\udde6\", \"created_at\": \"2009-03-04T00:03:12.000Z\", \"profile_image_url\": \"https://pbs.twimg.com/profile_images/796823622450982912/XYcUsJUI_normal.jpg\", \"protected\": false, \"verified\": true, \"public_metrics\": {\"followers_count\": 5232534, \"following_count\": 112, \"tweet_count\": 4269, \"listed_count\": 14665}}, {\"start\": 160, \"end\": 175, \"username\": \"SenHawleyPress\", \"id\": \"1080960924687704064\", \"entities\": {\"url\": {\"urls\": [{\"start\": 0, \"end\": 23, \"url\": \"https://t.co/JgRlDw1dlf\", \"expanded_url\": \"http://hawley.senate.gov\", \"display_url\": \"hawley.senate.gov\"}]}}, \"url\": \"https://t.co/JgRlDw1dlf\", \"location\": \"Missouri\", \"name\": \"Senator Hawley Press Office\", \"description\": \"Tweets from the office of U.S. Senator Josh Hawley\", \"created_at\": \"2019-01-03T22:55:42.000Z\", \"profile_image_url\": \"https://pbs.twimg.com/profile_images/1468329967415185413/Nokr3zY7_normal.jpg\", \"protected\": false, \"verified\": true, \"public_metrics\": {\"followers_count\": 46248, \"following_count\": 858, \"tweet_count\": 3693, \"listed_count\": 595}}, {\"start\": 176, \"end\": 189, \"username\": \"JackPosobiec\", \"id\": \"592730371\", \"entities\": {\"url\": {\"urls\": [{\"start\": 0, \"end\": 23, \"url\": \"https://t.co/fTxYG7YLmC\", \"expanded_url\": \"https://podcasts.apple.com/us/podcast/human-events-daily-with-jack-posobiec/id1585243541\", \"display_url\": \"podcasts.apple.com/us/podcast/hum\\u2026\"}]}, \"description\": {\"mentions\": [{\"start\": 5, \"end\": 17, \"username\": \"HumanEvents\"}]}}, \"url\": \"https://t.co/fTxYG7YLmC\", \"location\": \"DC\", \"pinned_tweet_id\": \"1528433843631534080\", \"name\": \"Jack Posobiec \\ud83c\\uddfa\\ud83c\\uddf8\", \"description\": \"Host @HumanEvents Daily. Veteran Navy intel officer. Communism disrespecter. Destroyed Ministry of Truth\", \"created_at\": \"2012-05-28T13:31:22.000Z\", \"profile_image_url\": \"https://pbs.twimg.com/profile_images/1524871304163299329/XQqxXGe__normal.jpg\", \"protected\": false, \"verified\": true, \"public_metrics\": {\"followers_count\": 1783187, \"following_count\": 943, \"tweet_count\": 130333, \"listed_count\": 7854}}]}, \"conversation_id\": \"1528510638745702400\", \"text\": \"Biden admits here in South Korea that the gas price hike were planned to get puerile to go to electric! Not #Putin Not #UkraineRussiaWar #Russia @TuckerCarlson @SenHawleyPress @JackPosobiec #gasprices https://t.co/40cuYQG6yK\", \"reply_settings\": \"everyone\", \"referenced_tweets\": [{\"type\": \"quoted\", \"id\": \"1528475088676302848\", \"in_reply_to_user_id\": \"2972870754\", \"public_metrics\": {\"retweet_count\": 64, \"reply_count\": 12, \"like_count\": 87, \"quote_count\": 5}, \"possibly_sensitive\": false, \"lang\": \"en\", \"created_at\": \"2022-05-22T20:37:13.000Z\", \"source\": \"Twitter for Android\", \"entities\": {\"urls\": [{\"start\": 24, \"end\": 47, \"url\": \"https://t.co/2syOLg2aPa\", \"expanded_url\": \"https://www.whitehouse.gov/briefing-room/speeches-remarks/2022/05/22/remarks-by-president-biden-on-hyundais-investments-in-savannah-georgia/\", \"display_url\": \"whitehouse.gov/briefing-room/\\u2026\", \"images\": [{\"url\": \"https://pbs.twimg.com/news_img/1528309556811649024/6SbatlX4?format=jpg&name=orig\", \"width\": 1200, \"height\": 630}, {\"url\": \"https://pbs.twimg.com/news_img/1528309556811649024/6SbatlX4?format=jpg&name=150x150\", \"width\": 150, \"height\": 150}], \"status\": 200, \"title\": \"Remarks by President Biden on Hyundai's Investments in Savannah, Georgia | The White House\", \"description\": \"Grand Hyatt SeoulSeoul, Republic of Korea 11:22 A.M. KST PRESIDENT BIDEN:\\u00a0 Thank you, Mr. Chairman. CHAIRMAN CHUNG:\\u00a0 Thank you. PRESIDENT\", \"unwound_url\": \"https://www.whitehouse.gov/briefing-room/speeches-remarks/2022/05/22/remarks-by-president-biden-on-hyundais-investments-in-savannah-georgia/\"}]}, \"conversation_id\": \"1528466545256517633\", \"text\": \"HHres the transcript...\\nhttps://t.co/2syOLg2aPa\", \"reply_settings\": \"everyone\", \"referenced_tweets\": [{\"type\": \"replied_to\", \"id\": \"1528466545256517633\"}], \"author_id\": \"2972870754\"}], \"author_id\": \"193744364\", \"context_annotations\": [{\"domain\": {\"id\": \"10\", \"name\": \"Person\", \"description\": \"Named people in the world like Nelson Mandela\"}, \"entity\": {\"id\": \"1055165655240990720\", \"name\": \"Tucker Carlson\", \"description\": \"Tucker Carlson\"}}, {\"domain\": {\"id\": \"10\", \"name\": \"Person\", \"description\": \"Named people in the world like Nelson Mandela\"}, \"entity\": {\"id\": \"1059669906201862144\", \"name\": \"Jack Posobiec\", \"description\": \"Jack Posobiec\"}}, {\"domain\": {\"id\": \"94\", \"name\": \"Journalist\", \"description\": \"A journalist like 'Anderson Cooper'\"}, \"entity\": {\"id\": \"1055165655240990720\", \"name\": \"Tucker Carlson\", \"description\": \"Tucker Carlson\"}}, {\"domain\": {\"id\": \"123\", \"name\": \"Ongoing News Story\", \"description\": \"Ongoing News Stories like 'Brexit'\"}, \"entity\": {\"id\": \"1484601166080081920\", \"name\": \"Russo-Ukrainian conflict\"}}, {\"domain\": {\"id\": \"10\", \"name\": \"Person\", \"description\": \"Named people in the world like Nelson Mandela\"}, \"entity\": {\"id\": \"10040395078\", \"name\": \"Joe Biden\", \"description\": \"US President Joe Biden\"}}, {\"domain\": {\"id\": \"10\", \"name\": \"Person\", \"description\": \"Named people in the world like Nelson Mandela\"}, \"entity\": {\"id\": \"864931126132985856\", \"name\": \"Vladimir Putin\", \"description\": \"President of Russia Vladimir Putin\"}}, {\"domain\": {\"id\": \"35\", \"name\": \"Politician\", \"description\": \"Politicians in the world, like Joe Biden\"}, \"entity\": {\"id\": \"10040395078\", \"name\": \"Joe Biden\", \"description\": \"US President Joe Biden\"}}, {\"domain\": {\"id\": \"35\", \"name\": \"Politician\", \"description\": \"Politicians in the world, like Joe Biden\"}, \"entity\": {\"id\": \"864931126132985856\", \"name\": \"Vladimir Putin\", \"description\": \"President of Russia Vladimir Putin\"}}], \"author\": {\"id\": \"193744364\", \"url\": \"\", \"location\": \"Undisclosed\", \"username\": \"Chromosome_XY_\", \"name\": \"JW\", \"description\": \"Retired. \\u2764\\ufe0f My Dog.\", \"created_at\": \"2010-09-22T15:51:51.000Z\", \"profile_image_url\": \"https://pbs.twimg.com/profile_images/1495886116129546248/d2k2oMki_normal.jpg\", \"protected\": false, \"verified\": false, \"public_metrics\": {\"followers_count\": 368, \"following_count\": 4144, \"tweet_count\": 14277, \"listed_count\": 3}}}], \"author_id\": \"1143831174\", \"entities\": {\"hashtags\": [{\"start\": 128, \"end\": 134, \"tag\": \"Putin\"}], \"mentions\": [{\"start\": 3, \"end\": 18, \"username\": \"Chromosome_XY_\", \"id\": \"193744364\", \"url\": \"\", \"location\": \"Undisclosed\", \"name\": \"JW\", \"description\": \"Retired. \\u2764\\ufe0f My Dog.\", \"created_at\": \"2010-09-22T15:51:51.000Z\", \"profile_image_url\": \"https://pbs.twimg.com/profile_images/1495886116129546248/d2k2oMki_normal.jpg\", \"protected\": false, \"verified\": false, \"public_metrics\": {\"followers_count\": 368, \"following_count\": 4144, \"tweet_count\": 14277, \"listed_count\": 3}}]}, \"context_annotations\": [{\"domain\": {\"id\": \"123\", \"name\": \"Ongoing News Story\", \"description\": \"Ongoing News Stories like 'Brexit'\"}, \"entity\": {\"id\": \"1484601166080081920\", \"name\": \"Russo-Ukrainian conflict\"}}, {\"domain\": {\"id\": \"10\", \"name\": \"Person\", \"description\": \"Named people in the world like Nelson Mandela\"}, \"entity\": {\"id\": \"10040395078\", \"name\": \"Joe Biden\", \"description\": \"US President Joe Biden\"}}, {\"domain\": {\"id\": \"10\", \"name\": \"Person\", \"description\": \"Named people in the world like Nelson Mandela\"}, \"entity\": {\"id\": \"864931126132985856\", \"name\": \"Vladimir Putin\", \"description\": \"President of Russia Vladimir Putin\"}}, {\"domain\": {\"id\": \"35\", \"name\": \"Politician\", \"description\": \"Politicians in the world, like Joe Biden\"}, \"entity\": {\"id\": \"10040395078\", \"name\": \"Joe Biden\", \"description\": \"US President Joe Biden\"}}, {\"domain\": {\"id\": \"35\", \"name\": \"Politician\", \"description\": \"Politicians in the world, like Joe Biden\"}, \"entity\": {\"id\": \"864931126132985856\", \"name\": \"Vladimir Putin\", \"description\": \"President of Russia Vladimir Putin\"}}], \"author\": {\"id\": \"1143831174\", \"url\": \"\", \"location\": \"Danville, VA\", \"pinned_tweet_id\": \"1074731778525544449\", \"username\": \"blueshedevil32\", \"name\": \"Wendy Mitchell1776 \\ud83c\\uddfa\\ud83c\\uddf8\\ud83c\\uddfa\\ud83c\\uddf8\\ud83d\\udcaf\\ud83c\\udf4a\", \"description\": \"\\ud83c\\uddfa\\ud83c\\uddf8UltraMAGA and proud deplorable, Iron Duke for life, animal rights activist, bourbon drinker,and can take down a\\ud83c\\udf32with an ax. \\ud83d\\udeabdates or DMs.\", \"created_at\": \"2013-02-03T01:01:41.000Z\", \"profile_image_url\": \"https://pbs.twimg.com/profile_images/1437423541398478852/OKuEOgqw_normal.jpg\", \"protected\": false, \"verified\": false, \"public_metrics\": {\"followers_count\": 7093, \"following_count\": 6591, \"tweet_count\": 68588, \"listed_count\": 109}}, \"__twarc\": {\"url\": \"https://api.twitter.com/2/tweets/search/recent?expansions=author_id%2Cin_reply_to_user_id%2Creferenced_tweets.id%2Creferenced_tweets.id.author_id%2Centities.mentions.username%2Cattachments.poll_ids%2Cattachments.media_keys%2Cgeo.place_id&tweet.fields=attachments%2Cauthor_id%2Ccontext_annotations%2Cconversation_id%2Ccreated_at%2Centities%2Cgeo%2Cid%2Cin_reply_to_user_id%2Clang%2Cpublic_metrics%2Ctext%2Cpossibly_sensitive%2Creferenced_tweets%2Creply_settings%2Csource%2Cwithheld&user.fields=created_at%2Cdescription%2Centities%2Cid%2Clocation%2Cname%2Cpinned_tweet_id%2Cprofile_image_url%2Cprotected%2Cpublic_metrics%2Curl%2Cusername%2Cverified%2Cwithheld&media.fields=alt_text%2Cduration_ms%2Cheight%2Cmedia_key%2Cpreview_image_url%2Ctype%2Curl%2Cwidth%2Cpublic_metrics&poll.fields=duration_minutes%2Cend_datetime%2Cid%2Coptions%2Cvoting_status&place.fields=contained_within%2Ccountry%2Ccountry_code%2Cfull_name%2Cgeo%2Cid%2Cname%2Cplace_type&query=%23gasprices&max_results=100\", \"version\": \"2.10.4\", \"retrieved_at\": \"2022-05-22T23:53:18+00:00\"}}\n",
      "{\"public_metrics\": {\"retweet_count\": 0, \"reply_count\": 0, \"like_count\": 0, \"quote_count\": 0}, \"possibly_sensitive\": false, \"lang\": \"und\", \"created_at\": \"2022-05-22T23:50:17.000Z\", \"source\": \"Twitter for Android\", \"id\": \"1528523674521063424\", \"entities\": {\"urls\": [{\"start\": 29, \"end\": 52, \"url\": \"https://t.co/6sWPeUC3Le\", \"expanded_url\": \"https://twitter.com/deep_dfs/status/1528523674521063424/photo/1\", \"display_url\": \"pic.twitter.com/6sWPeUC3Le\", \"media_key\": \"3_1528523670087417859\"}], \"hashtags\": [{\"start\": 0, \"end\": 10, \"tag\": \"gasprices\"}, {\"start\": 11, \"end\": 19, \"tag\": \"economy\"}, {\"start\": 20, \"end\": 28, \"tag\": \"America\"}]}, \"conversation_id\": \"1528523674521063424\", \"text\": \"#gasprices #economy #America https://t.co/6sWPeUC3Le\", \"reply_settings\": \"everyone\", \"author_id\": \"1321564844353638401\", \"attachments\": {\"media_keys\": [\"3_1528523670087417859\"], \"media\": [{\"height\": 650, \"type\": \"photo\", \"media_key\": \"3_1528523670087417859\", \"url\": \"https://pbs.twimg.com/media/FTZoLfJWQAMnnrE.jpg\", \"width\": 1017}]}, \"author\": {\"id\": \"1321564844353638401\", \"url\": \"\", \"username\": \"deep_dfs\", \"name\": \"NOBODY\\ud83c\\udfcf\", \"description\": \"N 2 DEEP\", \"created_at\": \"2020-10-28T21:29:56.000Z\", \"profile_image_url\": \"https://pbs.twimg.com/profile_images/1473206502089441280/yQKoYJjy_normal.jpg\", \"protected\": false, \"verified\": false, \"public_metrics\": {\"followers_count\": 35, \"following_count\": 102, \"tweet_count\": 1456, \"listed_count\": 0}}, \"__twarc\": {\"url\": \"https://api.twitter.com/2/tweets/search/recent?expansions=author_id%2Cin_reply_to_user_id%2Creferenced_tweets.id%2Creferenced_tweets.id.author_id%2Centities.mentions.username%2Cattachments.poll_ids%2Cattachments.media_keys%2Cgeo.place_id&tweet.fields=attachments%2Cauthor_id%2Ccontext_annotations%2Cconversation_id%2Ccreated_at%2Centities%2Cgeo%2Cid%2Cin_reply_to_user_id%2Clang%2Cpublic_metrics%2Ctext%2Cpossibly_sensitive%2Creferenced_tweets%2Creply_settings%2Csource%2Cwithheld&user.fields=created_at%2Cdescription%2Centities%2Cid%2Clocation%2Cname%2Cpinned_tweet_id%2Cprofile_image_url%2Cprotected%2Cpublic_metrics%2Curl%2Cusername%2Cverified%2Cwithheld&media.fields=alt_text%2Cduration_ms%2Cheight%2Cmedia_key%2Cpreview_image_url%2Ctype%2Curl%2Cwidth%2Cpublic_metrics&poll.fields=duration_minutes%2Cend_datetime%2Cid%2Coptions%2Cvoting_status&place.fields=contained_within%2Ccountry%2Ccountry_code%2Cfull_name%2Cgeo%2Cid%2Cname%2Cplace_type&query=%23gasprices&max_results=100\", \"version\": \"2.10.4\", \"retrieved_at\": \"2022-05-22T23:53:18+00:00\"}}\n",
      "{\"source\": \"Twitter for iPhone\", \"conversation_id\": \"1526239822494539779\", \"attachments\": {\"media_keys\": [\"3_1526239819604668416\"], \"media\": [{\"url\": \"https://pbs.twimg.com/media/FS5LB5GXsAAmCNu.jpg\", \"type\": \"photo\", \"media_key\": \"3_1526239819604668416\", \"height\": 1320, \"width\": 778}]}, \"reply_settings\": \"everyone\", \"id\": \"1526239822494539779\", \"context_annotations\": [{\"domain\": {\"id\": \"10\", \"name\": \"Person\", \"description\": \"Named people in the world like Nelson Mandela\"}, \"entity\": {\"id\": \"799022225751871488\", \"name\": \"Donald Trump\", \"description\": \"45th US President, Donald Trump\"}}, {\"domain\": {\"id\": \"11\", \"name\": \"Sport\", \"description\": \"Types of sports, like soccer and basketball\"}, \"entity\": {\"id\": \"829003678765821984\", \"name\": \"Hockey\"}}, {\"domain\": {\"id\": \"12\", \"name\": \"Sports Team\", \"description\": \"A sports team organization, like Arsenal and the Boston Celtics\"}, \"entity\": {\"id\": \"829003677801144322\", \"name\": \"St. Louis Blues\"}}, {\"domain\": {\"id\": \"26\", \"name\": \"Sports League\", \"description\": \"\"}, \"entity\": {\"id\": \"829003697749258240\", \"name\": \"NHL\", \"description\": \"Photo via @GettyImages\"}}, {\"domain\": {\"id\": \"35\", \"name\": \"Politician\", \"description\": \"Politicians in the world, like Joe Biden\"}, \"entity\": {\"id\": \"799022225751871488\", \"name\": \"Donald Trump\", \"description\": \"45th US President, Donald Trump\"}}, {\"domain\": {\"id\": \"67\", \"name\": \"Interests and Hobbies\", \"description\": \"Interests, opinions, and behaviors of individuals, groups, or cultures; like Speciality Cooking or Theme Parks\"}, \"entity\": {\"id\": \"1486458201117642754\", \"name\": \"Inflation\"}}, {\"domain\": {\"id\": \"123\", \"name\": \"Ongoing News Story\", \"description\": \"Ongoing News Stories like 'Brexit'\"}, \"entity\": {\"id\": \"1484601166080081920\", \"name\": \"Russo-Ukrainian conflict\"}}, {\"domain\": {\"id\": \"10\", \"name\": \"Person\", \"description\": \"Named people in the world like Nelson Mandela\"}, \"entity\": {\"id\": \"10040395078\", \"name\": \"Joe Biden\", \"description\": \"US President Joe Biden\"}}, {\"domain\": {\"id\": \"35\", \"name\": \"Politician\", \"description\": \"Politicians in the world, like Joe Biden\"}, \"entity\": {\"id\": \"10040395078\", \"name\": \"Joe Biden\", \"description\": \"US President Joe Biden\"}}], \"entities\": {\"hashtags\": [{\"start\": 0, \"end\": 5, \"tag\": \"MAGA\"}, {\"start\": 6, \"end\": 12, \"tag\": \"trump\"}, {\"start\": 13, \"end\": 23, \"tag\": \"trump2024\"}, {\"start\": 24, \"end\": 28, \"tag\": \"fjb\"}, {\"start\": 29, \"end\": 33, \"tag\": \"lgb\"}, {\"start\": 34, \"end\": 41, \"tag\": \"russia\"}, {\"start\": 42, \"end\": 50, \"tag\": \"ukraine\"}, {\"start\": 51, \"end\": 57, \"tag\": \"truth\"}, {\"start\": 58, \"end\": 64, \"tag\": \"faith\"}, {\"start\": 65, \"end\": 75, \"tag\": \"gasprices\"}, {\"start\": 76, \"end\": 86, \"tag\": \"inflation\"}, {\"start\": 87, \"end\": 95, \"tag\": \"freedom\"}, {\"start\": 96, \"end\": 105, \"tag\": \"GodBless\"}, {\"start\": 106, \"end\": 114, \"tag\": \"America\"}, {\"start\": 115, \"end\": 129, \"tag\": \"letsgobrandon\"}, {\"start\": 130, \"end\": 154, \"tag\": \"makesocialmediafunagain\"}, {\"start\": 155, \"end\": 163, \"tag\": \"COVFEFE\"}, {\"start\": 164, \"end\": 175, \"tag\": \"freespeech\"}, {\"start\": 176, \"end\": 189, \"tag\": \"2ndamendment\"}, {\"start\": 190, \"end\": 200, \"tag\": \"2000mules\"}, {\"start\": 201, \"end\": 221, \"tag\": \"americathebeautiful\"}, {\"start\": 222, \"end\": 228, \"tag\": \"infor\"}, {\"start\": 229, \"end\": 238, \"tag\": \"MAGAKING\"}], \"urls\": [{\"start\": 239, \"end\": 262, \"url\": \"https://t.co/NeHIWj0zeH\", \"expanded_url\": \"https://twitter.com/RealMericaMan_/status/1526239822494539779/photo/1\", \"display_url\": \"pic.twitter.com/NeHIWj0zeH\", \"media_key\": \"3_1526239819604668416\"}]}, \"text\": \"#MAGA #trump #trump2024 #fjb #lgb #russia #ukraine #truth #faith #gasprices #inflation #freedom #GodBless #America #letsgobrandon #makesocialmediafunagain #COVFEFE #freespeech #2ndamendment #2000mules #americathebeautiful #infor #MAGAKING https://t.co/NeHIWj0zeH\", \"public_metrics\": {\"retweet_count\": 0, \"reply_count\": 0, \"like_count\": 0, \"quote_count\": 0}, \"possibly_sensitive\": false, \"created_at\": \"2022-05-16T16:35:04.000Z\", \"lang\": \"und\", \"author_id\": \"1521213212158533633\", \"author\": {\"username\": \"RealMericaMan_\", \"public_metrics\": {\"followers_count\": 0, \"following_count\": 5, \"tweet_count\": 51, \"listed_count\": 0}, \"name\": \"MericaMan\\ud83c\\uddfa\\ud83c\\uddf8\", \"id\": \"1521213212158533633\", \"entities\": {\"url\": {\"urls\": [{\"start\": 0, \"end\": 23, \"url\": \"https://t.co/16rxNMpqQc\", \"expanded_url\": \"https://truthsocial.com/@CryptoMasi\", \"display_url\": \"truthsocial.com/@CryptoMasi\"}]}}, \"profile_image_url\": \"https://pbs.twimg.com/profile_images/1521213313434230789/b3kalw5O_normal.jpg\", \"description\": \"FREE SPEECH FOR ALL\\ud83c\\uddfa\\ud83c\\uddf8                DONT TREAD ON ME\\ud83d\\udc0d                        BIG DOGS EAT FIRST\\ud83d\\udc15\", \"protected\": false, \"verified\": false, \"url\": \"https://t.co/16rxNMpqQc\", \"created_at\": \"2022-05-02T19:41:18.000Z\", \"location\": \"Land Of The Free\\ud83c\\uddfa\\ud83c\\uddf8\"}, \"__twarc\": {\"url\": \"https://api.twitter.com/2/tweets/search/recent?expansions=author_id%2Cin_reply_to_user_id%2Creferenced_tweets.id%2Creferenced_tweets.id.author_id%2Centities.mentions.username%2Cattachments.poll_ids%2Cattachments.media_keys%2Cgeo.place_id&tweet.fields=attachments%2Cauthor_id%2Ccontext_annotations%2Cconversation_id%2Ccreated_at%2Centities%2Cgeo%2Cid%2Cin_reply_to_user_id%2Clang%2Cpublic_metrics%2Ctext%2Cpossibly_sensitive%2Creferenced_tweets%2Creply_settings%2Csource%2Cwithheld&user.fields=created_at%2Cdescription%2Centities%2Cid%2Clocation%2Cname%2Cpinned_tweet_id%2Cprofile_image_url%2Cprotected%2Cpublic_metrics%2Curl%2Cusername%2Cverified%2Cwithheld&media.fields=alt_text%2Cduration_ms%2Cheight%2Cmedia_key%2Cpreview_image_url%2Ctype%2Curl%2Cwidth%2Cpublic_metrics&poll.fields=duration_minutes%2Cend_datetime%2Cid%2Coptions%2Cvoting_status&place.fields=contained_within%2Ccountry%2Ccountry_code%2Cfull_name%2Cgeo%2Cid%2Cname%2Cplace_type&query=%23gasprices&max_results=100&next_token=b26v89c19zqg8o3fpywnbg9vtxiulhw7wnke9zgjbk5tp\", \"version\": \"2.10.4\", \"retrieved_at\": \"2022-05-22T23:54:50+00:00\"}}\n",
      "{\"source\": \"Twitter Web App\", \"conversation_id\": \"1526239200156102657\", \"attachments\": {\"media_keys\": [\"3_1526239161610432514\"], \"media\": [{\"url\": \"https://pbs.twimg.com/media/FS5Kbl4UcAIsd_O.jpg\", \"type\": \"photo\", \"media_key\": \"3_1526239161610432514\", \"height\": 1536, \"width\": 2048}]}, \"reply_settings\": \"everyone\", \"id\": \"1526239200156102657\", \"entities\": {\"hashtags\": [{\"start\": 107, \"end\": 117, \"tag\": \"GasPrices\"}, {\"start\": 118, \"end\": 123, \"tag\": \"Fuel\"}], \"urls\": [{\"start\": 124, \"end\": 147, \"url\": \"https://t.co/caJ77yPft0\", \"expanded_url\": \"https://twitter.com/wheelsofgrace02/status/1526239200156102657/photo/1\", \"display_url\": \"pic.twitter.com/caJ77yPft0\", \"media_key\": \"3_1526239161610432514\"}], \"annotations\": [{\"start\": 49, \"end\": 50, \"probability\": 0.647, \"type\": \"Place\", \"normalized_text\": \"CA\"}]}, \"text\": \"Posted from a friend, traveling through Needles, CA, $10/Gallon. Time to SERIOUSLY re-think the situation! #GasPrices #Fuel https://t.co/caJ77yPft0\", \"public_metrics\": {\"retweet_count\": 0, \"reply_count\": 0, \"like_count\": 0, \"quote_count\": 0}, \"possibly_sensitive\": false, \"created_at\": \"2022-05-16T16:32:36.000Z\", \"lang\": \"en\", \"author_id\": \"3407225056\", \"author\": {\"username\": \"wheelsofgrace02\", \"public_metrics\": {\"followers_count\": 573, \"following_count\": 1175, \"tweet_count\": 11550, \"listed_count\": 1}, \"name\": \"WheelsOfGrace\", \"id\": \"3407225056\", \"entities\": {\"url\": {\"urls\": [{\"start\": 0, \"end\": 23, \"url\": \"https://t.co/FtSYQd3UlE\", \"expanded_url\": \"http://www.WheelsOfGrace.com\", \"display_url\": \"WheelsOfGrace.com\"}]}, \"description\": {\"urls\": [{\"start\": 130, \"end\": 153, \"url\": \"https://t.co/TBHS5m0ueU\", \"expanded_url\": \"http://WheelsOfGrace.com\", \"display_url\": \"WheelsOfGrace.com\"}]}}, \"profile_image_url\": \"https://pbs.twimg.com/profile_images/1522717891488931840/EWIvLuEf_normal.jpg\", \"description\": \"We report motorcycle related and current news. Est. 2002 America, Canada, England, Australia, Greece, Italy, France, Sweden. See: https://t.co/TBHS5m0ueU\", \"protected\": false, \"verified\": false, \"url\": \"https://t.co/FtSYQd3UlE\", \"created_at\": \"2015-08-07T12:48:35.000Z\", \"location\": \"United States\"}, \"__twarc\": {\"url\": \"https://api.twitter.com/2/tweets/search/recent?expansions=author_id%2Cin_reply_to_user_id%2Creferenced_tweets.id%2Creferenced_tweets.id.author_id%2Centities.mentions.username%2Cattachments.poll_ids%2Cattachments.media_keys%2Cgeo.place_id&tweet.fields=attachments%2Cauthor_id%2Ccontext_annotations%2Cconversation_id%2Ccreated_at%2Centities%2Cgeo%2Cid%2Cin_reply_to_user_id%2Clang%2Cpublic_metrics%2Ctext%2Cpossibly_sensitive%2Creferenced_tweets%2Creply_settings%2Csource%2Cwithheld&user.fields=created_at%2Cdescription%2Centities%2Cid%2Clocation%2Cname%2Cpinned_tweet_id%2Cprofile_image_url%2Cprotected%2Cpublic_metrics%2Curl%2Cusername%2Cverified%2Cwithheld&media.fields=alt_text%2Cduration_ms%2Cheight%2Cmedia_key%2Cpreview_image_url%2Ctype%2Curl%2Cwidth%2Cpublic_metrics&poll.fields=duration_minutes%2Cend_datetime%2Cid%2Coptions%2Cvoting_status&place.fields=contained_within%2Ccountry%2Ccountry_code%2Cfull_name%2Cgeo%2Cid%2Cname%2Cplace_type&query=%23gasprices&max_results=100&next_token=b26v89c19zqg8o3fpywnbg9vtxiulhw7wnke9zgjbk5tp\", \"version\": \"2.10.4\", \"retrieved_at\": \"2022-05-22T23:54:50+00:00\"}}\n"
     ]
    }
   ],
   "source": [
    "! cat output_data/4_tweets.jsonl"
   ]
  },
  {
   "cell_type": "code",
   "execution_count": null,
   "id": "c5d96a0f-7ccf-4a4d-abaf-a52708f813f3",
   "metadata": {},
   "outputs": [],
   "source": []
  },
  {
   "cell_type": "markdown",
   "id": "af2f2152-7de1-40d4-9d97-c6aa551ce2fd",
   "metadata": {},
   "source": [
    "## Next harvest\n",
    "Next we'll get just Bergis' original content. \n",
    "In other words, only the tweets that he wrote, not\n",
    "any retweets or replied to other people tweets."
   ]
  },
  {
   "cell_type": "markdown",
   "id": "ab4c78d8-42bd-458c-b618-d1c854fc265f",
   "metadata": {},
   "source": [
    "Can we go back further on his timeline by looking\n",
    "only for Bergis's original content?\n",
    "\n",
    "Not really--it looks like the limit applies to the search,\n",
    "not the results. \n"
   ]
  },
  {
   "cell_type": "code",
   "execution_count": 23,
   "id": "b29e6727-48e8-4c79-b824-fd109b0e7029",
   "metadata": {},
   "outputs": [],
   "source": [
    "# !twarc2 timeline BergisJules --exclude-retweets --exclude-replies > raw_data/bjules_original.jsonl"
   ]
  },
  {
   "cell_type": "code",
   "execution_count": 24,
   "id": "d6efcdaf-a547-4a93-95d3-94e4bfcdddff",
   "metadata": {},
   "outputs": [
    {
     "name": "stdout",
     "output_type": "stream",
     "text": [
      "100%|████████████████| Processed 106k/106k of input file [00:00<00:00, 2.29MB/s]\n"
     ]
    }
   ],
   "source": [
    "!twarc2 flatten raw_data/bjules_original.jsonl output_data/bjules_original_flat.jsonl\n"
   ]
  },
  {
   "cell_type": "markdown",
   "id": "ef7331bc-5adc-426d-bbf3-912abb0a36c8",
   "metadata": {},
   "source": [
    "But this does tell us that Jules is a prolific re-tweeter and/or replier. "
   ]
  },
  {
   "cell_type": "code",
   "execution_count": 25,
   "id": "1c2d22df-4f14-4350-903c-2974402e6245",
   "metadata": {},
   "outputs": [
    {
     "name": "stdout",
     "output_type": "stream",
     "text": [
      "    46  15967 234593 output_data/bjules_original_flat.jsonl\n",
      "    3143  1718186 23273101 output_data/bjules_flat.jsonl\n"
     ]
    }
   ],
   "source": [
    "! wc output_data/bjules_original_flat.jsonl\n",
    "! wc output_data/bjules_flat.jsonl"
   ]
  },
  {
   "cell_type": "code",
   "execution_count": 26,
   "id": "d6f64d26-ae10-4deb-bf48-47f88b7db62f",
   "metadata": {},
   "outputs": [
    {
     "name": "stdout",
     "output_type": "stream",
     "text": [
      "100%|████████████████| Processed 229k/229k of input file [00:00<00:00, 7.60MB/s]\n",
      "\n",
      "ℹ️\n",
      "Parsed 46 tweets objects from 46 lines in the input file.\n",
      "Wrote 46 rows and output 74 columns in the CSV.\n",
      "\n"
     ]
    }
   ],
   "source": [
    "# save it as a csv so we can easily see the original writings of Jules\n",
    "!twarc2 csv output_data/bjules_original_flat.jsonl output_data/bjules_original.csv"
   ]
  },
  {
   "cell_type": "markdown",
   "id": "29ab11e8-f109-4670-912c-3122ea2b8211",
   "metadata": {},
   "source": [
    "# Episode 4"
   ]
  },
  {
   "cell_type": "code",
   "execution_count": 27,
   "id": "ab6d14b4-0c5e-4553-9eb2-7d8d284476af",
   "metadata": {},
   "outputs": [
    {
     "name": "stdout",
     "output_type": "stream",
     "text": [
      "2022-05-18T00:00:31.000Z - 2022-05-18T01:00:00.000Z: 397\n",
      "2022-05-18T01:00:00.000Z - 2022-05-18T02:00:00.000Z: 375\n",
      "2022-05-18T02:00:00.000Z - 2022-05-18T03:00:00.000Z: 410\n",
      "2022-05-18T03:00:00.000Z - 2022-05-18T04:00:00.000Z: 535\n",
      "2022-05-18T04:00:00.000Z - 2022-05-18T05:00:00.000Z: 341\n",
      "2022-05-18T05:00:00.000Z - 2022-05-18T06:00:00.000Z: 295\n",
      "2022-05-18T06:00:00.000Z - 2022-05-18T07:00:00.000Z: 286\n",
      "2022-05-18T07:00:00.000Z - 2022-05-18T08:00:00.000Z: 242\n",
      "2022-05-18T08:00:00.000Z - 2022-05-18T09:00:00.000Z: 263\n",
      "2022-05-18T09:00:00.000Z - 2022-05-18T10:00:00.000Z: 282\n",
      "2022-05-18T10:00:00.000Z - 2022-05-18T11:00:00.000Z: 260\n",
      "2022-05-18T11:00:00.000Z - 2022-05-18T12:00:00.000Z: 573\n",
      "2022-05-18T12:00:00.000Z - 2022-05-18T13:00:00.000Z: 466\n",
      "2022-05-18T13:00:00.000Z - 2022-05-18T14:00:00.000Z: 605\n",
      "2022-05-18T14:00:00.000Z - 2022-05-18T15:00:00.000Z: 451\n",
      "2022-05-18T15:00:00.000Z - 2022-05-18T16:00:00.000Z: 536\n",
      "2022-05-18T16:00:00.000Z - 2022-05-18T17:00:00.000Z: 546\n",
      "2022-05-18T17:00:00.000Z - 2022-05-18T18:00:00.000Z: 469\n",
      "2022-05-18T18:00:00.000Z - 2022-05-18T19:00:00.000Z: 386\n",
      "2022-05-18T19:00:00.000Z - 2022-05-18T20:00:00.000Z: 349\n",
      "2022-05-18T20:00:00.000Z - 2022-05-18T21:00:00.000Z: 326\n",
      "2022-05-18T21:00:00.000Z - 2022-05-18T22:00:00.000Z: 308\n",
      "2022-05-18T22:00:00.000Z - 2022-05-18T23:00:00.000Z: 443\n",
      "2022-05-18T23:00:00.000Z - 2022-05-19T00:00:00.000Z: 327\n",
      "2022-05-19T00:00:00.000Z - 2022-05-19T01:00:00.000Z: 456\n",
      "2022-05-19T01:00:00.000Z - 2022-05-19T02:00:00.000Z: 318\n",
      "2022-05-19T02:00:00.000Z - 2022-05-19T03:00:00.000Z: 389\n",
      "2022-05-19T03:00:00.000Z - 2022-05-19T04:00:00.000Z: 362\n",
      "2022-05-19T04:00:00.000Z - 2022-05-19T05:00:00.000Z: 380\n",
      "2022-05-19T05:00:00.000Z - 2022-05-19T06:00:00.000Z: 449\n",
      "2022-05-19T06:00:00.000Z - 2022-05-19T07:00:00.000Z: 359\n",
      "2022-05-19T07:00:00.000Z - 2022-05-19T08:00:00.000Z: 328\n",
      "2022-05-19T08:00:00.000Z - 2022-05-19T09:00:00.000Z: 278\n",
      "2022-05-19T09:00:00.000Z - 2022-05-19T10:00:00.000Z: 253\n",
      "2022-05-19T10:00:00.000Z - 2022-05-19T11:00:00.000Z: 306\n",
      "2022-05-19T11:00:00.000Z - 2022-05-19T12:00:00.000Z: 384\n",
      "2022-05-19T12:00:00.000Z - 2022-05-19T13:00:00.000Z: 376\n",
      "2022-05-19T13:00:00.000Z - 2022-05-19T14:00:00.000Z: 313\n",
      "2022-05-19T14:00:00.000Z - 2022-05-19T15:00:00.000Z: 392\n",
      "2022-05-19T15:00:00.000Z - 2022-05-19T16:00:00.000Z: 460\n",
      "2022-05-19T16:00:00.000Z - 2022-05-19T17:00:00.000Z: 427\n",
      "2022-05-19T17:00:00.000Z - 2022-05-19T18:00:00.000Z: 388\n",
      "2022-05-19T18:00:00.000Z - 2022-05-19T19:00:00.000Z: 430\n",
      "2022-05-19T19:00:00.000Z - 2022-05-19T20:00:00.000Z: 636\n",
      "2022-05-19T20:00:00.000Z - 2022-05-19T21:00:00.000Z: 524\n",
      "2022-05-19T21:00:00.000Z - 2022-05-19T22:00:00.000Z: 478\n",
      "2022-05-19T22:00:00.000Z - 2022-05-19T23:00:00.000Z: 546\n",
      "2022-05-19T23:00:00.000Z - 2022-05-20T00:00:00.000Z: 528\n",
      "2022-05-20T00:00:00.000Z - 2022-05-20T01:00:00.000Z: 508\n",
      "2022-05-20T01:00:00.000Z - 2022-05-20T02:00:00.000Z: 486\n",
      "2022-05-20T02:00:00.000Z - 2022-05-20T03:00:00.000Z: 575\n",
      "2022-05-20T03:00:00.000Z - 2022-05-20T04:00:00.000Z: 554\n",
      "2022-05-20T04:00:00.000Z - 2022-05-20T05:00:00.000Z: 503\n",
      "2022-05-20T05:00:00.000Z - 2022-05-20T06:00:00.000Z: 497\n",
      "2022-05-20T06:00:00.000Z - 2022-05-20T07:00:00.000Z: 412\n",
      "2022-05-20T07:00:00.000Z - 2022-05-20T08:00:00.000Z: 414\n",
      "2022-05-20T08:00:00.000Z - 2022-05-20T09:00:00.000Z: 376\n",
      "2022-05-20T09:00:00.000Z - 2022-05-20T10:00:00.000Z: 392\n",
      "2022-05-20T10:00:00.000Z - 2022-05-20T11:00:00.000Z: 368\n",
      "2022-05-20T11:00:00.000Z - 2022-05-20T12:00:00.000Z: 486\n",
      "2022-05-20T12:00:00.000Z - 2022-05-20T13:00:00.000Z: 451\n",
      "2022-05-20T13:00:00.000Z - 2022-05-20T14:00:00.000Z: 488\n",
      "2022-05-20T14:00:00.000Z - 2022-05-20T15:00:00.000Z: 418\n",
      "2022-05-20T15:00:00.000Z - 2022-05-20T16:00:00.000Z: 476\n",
      "2022-05-20T16:00:00.000Z - 2022-05-20T17:00:00.000Z: 654\n",
      "2022-05-20T17:00:00.000Z - 2022-05-20T18:00:00.000Z: 555\n",
      "2022-05-20T18:00:00.000Z - 2022-05-20T19:00:00.000Z: 433\n",
      "2022-05-20T19:00:00.000Z - 2022-05-20T20:00:00.000Z: 363\n",
      "2022-05-20T20:00:00.000Z - 2022-05-20T21:00:00.000Z: 439\n",
      "2022-05-20T21:00:00.000Z - 2022-05-20T22:00:00.000Z: 403\n",
      "2022-05-20T22:00:00.000Z - 2022-05-20T23:00:00.000Z: 479\n",
      "2022-05-20T23:00:00.000Z - 2022-05-21T00:00:00.000Z: 416\n",
      "2022-05-21T00:00:00.000Z - 2022-05-21T01:00:00.000Z: 352\n",
      "2022-05-21T01:00:00.000Z - 2022-05-21T02:00:00.000Z: 378\n",
      "2022-05-21T02:00:00.000Z - 2022-05-21T03:00:00.000Z: 351\n",
      "2022-05-21T03:00:00.000Z - 2022-05-21T04:00:00.000Z: 350\n",
      "2022-05-21T04:00:00.000Z - 2022-05-21T05:00:00.000Z: 378\n",
      "2022-05-21T05:00:00.000Z - 2022-05-21T06:00:00.000Z: 304\n",
      "2022-05-21T06:00:00.000Z - 2022-05-21T07:00:00.000Z: 251\n",
      "2022-05-21T07:00:00.000Z - 2022-05-21T08:00:00.000Z: 278\n",
      "2022-05-21T08:00:00.000Z - 2022-05-21T09:00:00.000Z: 189\n",
      "2022-05-21T09:00:00.000Z - 2022-05-21T10:00:00.000Z: 194\n",
      "2022-05-21T10:00:00.000Z - 2022-05-21T11:00:00.000Z: 287\n",
      "2022-05-21T11:00:00.000Z - 2022-05-21T12:00:00.000Z: 544\n",
      "2022-05-21T12:00:00.000Z - 2022-05-21T13:00:00.000Z: 471\n",
      "2022-05-21T13:00:00.000Z - 2022-05-21T14:00:00.000Z: 486\n",
      "2022-05-21T14:00:00.000Z - 2022-05-21T15:00:00.000Z: 466\n",
      "2022-05-21T15:00:00.000Z - 2022-05-21T16:00:00.000Z: 467\n",
      "2022-05-21T16:00:00.000Z - 2022-05-21T17:00:00.000Z: 696\n",
      "2022-05-21T17:00:00.000Z - 2022-05-21T18:00:00.000Z: 622\n",
      "2022-05-21T18:00:00.000Z - 2022-05-21T19:00:00.000Z: 504\n",
      "2022-05-21T19:00:00.000Z - 2022-05-21T20:00:00.000Z: 605\n",
      "2022-05-21T20:00:00.000Z - 2022-05-21T21:00:00.000Z: 643\n",
      "2022-05-21T21:00:00.000Z - 2022-05-21T22:00:00.000Z: 612\n",
      "2022-05-21T22:00:00.000Z - 2022-05-21T23:00:00.000Z: 759\n",
      "2022-05-21T23:00:00.000Z - 2022-05-22T00:00:00.000Z: 665\n",
      "2022-05-22T00:00:00.000Z - 2022-05-22T01:00:00.000Z: 639\n",
      "2022-05-22T01:00:00.000Z - 2022-05-22T02:00:00.000Z: 477\n",
      "2022-05-22T02:00:00.000Z - 2022-05-22T03:00:00.000Z: 495\n",
      "2022-05-22T03:00:00.000Z - 2022-05-22T04:00:00.000Z: 547\n",
      "2022-05-22T04:00:00.000Z - 2022-05-22T05:00:00.000Z: 439\n",
      "2022-05-22T05:00:00.000Z - 2022-05-22T06:00:00.000Z: 321\n",
      "2022-05-22T06:00:00.000Z - 2022-05-22T07:00:00.000Z: 313\n",
      "2022-05-22T07:00:00.000Z - 2022-05-22T08:00:00.000Z: 335\n",
      "2022-05-22T08:00:00.000Z - 2022-05-22T09:00:00.000Z: 373\n",
      "2022-05-22T09:00:00.000Z - 2022-05-22T10:00:00.000Z: 299\n",
      "2022-05-22T10:00:00.000Z - 2022-05-22T11:00:00.000Z: 370\n",
      "2022-05-22T11:00:00.000Z - 2022-05-22T12:00:00.000Z: 473\n",
      "2022-05-22T12:00:00.000Z - 2022-05-22T13:00:00.000Z: 408\n",
      "2022-05-22T13:00:00.000Z - 2022-05-22T14:00:00.000Z: 447\n",
      "2022-05-22T14:00:00.000Z - 2022-05-22T15:00:00.000Z: 475\n",
      "2022-05-22T15:00:00.000Z - 2022-05-22T16:00:00.000Z: 481\n",
      "2022-05-22T16:00:00.000Z - 2022-05-22T17:00:00.000Z: 532\n",
      "2022-05-22T17:00:00.000Z - 2022-05-22T18:00:00.000Z: 434\n",
      "2022-05-22T18:00:00.000Z - 2022-05-22T19:00:00.000Z: 435\n",
      "2022-05-22T19:00:00.000Z - 2022-05-22T20:00:00.000Z: 457\n",
      "2022-05-22T20:00:00.000Z - 2022-05-22T21:00:00.000Z: 498\n",
      "2022-05-22T21:00:00.000Z - 2022-05-22T22:00:00.000Z: 412\n",
      "2022-05-22T22:00:00.000Z - 2022-05-22T23:00:00.000Z: 544\n",
      "2022-05-22T23:00:00.000Z - 2022-05-23T00:00:00.000Z: 498\n",
      "2022-05-23T00:00:00.000Z - 2022-05-23T01:00:00.000Z: 368\n",
      "2022-05-23T01:00:00.000Z - 2022-05-23T02:00:00.000Z: 370\n",
      "2022-05-23T02:00:00.000Z - 2022-05-23T03:00:00.000Z: 384\n",
      "2022-05-23T03:00:00.000Z - 2022-05-23T04:00:00.000Z: 329\n",
      "2022-05-23T04:00:00.000Z - 2022-05-23T05:00:00.000Z: 381\n",
      "2022-05-23T05:00:00.000Z - 2022-05-23T06:00:00.000Z: 329\n",
      "2022-05-23T06:00:00.000Z - 2022-05-23T07:00:00.000Z: 316\n",
      "2022-05-23T07:00:00.000Z - 2022-05-23T08:00:00.000Z: 301\n",
      "2022-05-23T08:00:00.000Z - 2022-05-23T09:00:00.000Z: 287\n",
      "2022-05-23T09:00:00.000Z - 2022-05-23T10:00:00.000Z: 341\n",
      "2022-05-23T10:00:00.000Z - 2022-05-23T11:00:00.000Z: 425\n",
      "2022-05-23T11:00:00.000Z - 2022-05-23T12:00:00.000Z: 505\n",
      "2022-05-23T12:00:00.000Z - 2022-05-23T13:00:00.000Z: 400\n",
      "2022-05-23T13:00:00.000Z - 2022-05-23T14:00:00.000Z: 495\n",
      "2022-05-23T14:00:00.000Z - 2022-05-23T15:00:00.000Z: 557\n",
      "2022-05-23T15:00:00.000Z - 2022-05-23T16:00:00.000Z: 620\n",
      "2022-05-23T16:00:00.000Z - 2022-05-23T17:00:00.000Z: 679\n",
      "2022-05-23T17:00:00.000Z - 2022-05-23T18:00:00.000Z: 630\n",
      "2022-05-23T18:00:00.000Z - 2022-05-23T19:00:00.000Z: 468\n",
      "2022-05-23T19:00:00.000Z - 2022-05-23T20:00:00.000Z: 460\n",
      "2022-05-23T20:00:00.000Z - 2022-05-23T21:00:00.000Z: 379\n",
      "2022-05-23T21:00:00.000Z - 2022-05-23T22:00:00.000Z: 505\n",
      "2022-05-23T22:00:00.000Z - 2022-05-23T23:00:00.000Z: 602\n",
      "2022-05-23T23:00:00.000Z - 2022-05-24T00:00:00.000Z: 432\n",
      "2022-05-24T00:00:00.000Z - 2022-05-24T01:00:00.000Z: 449\n",
      "2022-05-24T01:00:00.000Z - 2022-05-24T02:00:00.000Z: 387\n",
      "2022-05-24T02:00:00.000Z - 2022-05-24T03:00:00.000Z: 383\n",
      "2022-05-24T03:00:00.000Z - 2022-05-24T04:00:00.000Z: 350\n",
      "2022-05-24T04:00:00.000Z - 2022-05-24T05:00:00.000Z: 367\n",
      "2022-05-24T05:00:00.000Z - 2022-05-24T06:00:00.000Z: 279\n",
      "2022-05-24T06:00:00.000Z - 2022-05-24T07:00:00.000Z: 315\n",
      "2022-05-24T07:00:00.000Z - 2022-05-24T08:00:00.000Z: 289\n",
      "2022-05-24T08:00:00.000Z - 2022-05-24T09:00:00.000Z: 262\n",
      "2022-05-24T09:00:00.000Z - 2022-05-24T10:00:00.000Z: 248\n",
      "2022-05-24T10:00:00.000Z - 2022-05-24T11:00:00.000Z: 320\n",
      "2022-05-24T11:00:00.000Z - 2022-05-24T12:00:00.000Z: 339\n",
      "2022-05-24T12:00:00.000Z - 2022-05-24T13:00:00.000Z: 345\n",
      "2022-05-24T13:00:00.000Z - 2022-05-24T14:00:00.000Z: 382\n",
      "2022-05-24T14:00:00.000Z - 2022-05-24T15:00:00.000Z: 453\n",
      "2022-05-24T15:00:00.000Z - 2022-05-24T16:00:00.000Z: 465\n",
      "2022-05-24T16:00:00.000Z - 2022-05-24T17:00:00.000Z: 594\n",
      "2022-05-24T17:00:00.000Z - 2022-05-24T18:00:00.000Z: 556\n",
      "2022-05-24T18:00:00.000Z - 2022-05-24T19:00:00.000Z: 463\n",
      "2022-05-24T19:00:00.000Z - 2022-05-24T20:00:00.000Z: 484\n",
      "2022-05-24T20:00:00.000Z - 2022-05-24T21:00:00.000Z: 446\n",
      "2022-05-24T21:00:00.000Z - 2022-05-24T22:00:00.000Z: 410\n",
      "2022-05-24T22:00:00.000Z - 2022-05-24T23:00:00.000Z: 520\n",
      "2022-05-24T23:00:00.000Z - 2022-05-25T00:00:00.000Z: 427\n",
      "2022-05-25T00:00:00.000Z - 2022-05-25T00:00:31.000Z: 13\n",
      "\u001b[32m\n",
      "Total Tweets: 72,040\n",
      "\u001b[0m\n"
     ]
    }
   ],
   "source": [
    "# fishing around for good searches\n",
    "# you can count without harvesting.\n",
    "# kittens is an evergreen search. you should always see at lease\n",
    "# dozens of mentions per hour\n",
    "!twarc2 counts --text \"kittens\""
   ]
  },
  {
   "cell_type": "code",
   "execution_count": 28,
   "id": "c5795ab9-3a2c-4122-bf59-2bf002fa3d1e",
   "metadata": {},
   "outputs": [
    {
     "name": "stdout",
     "output_type": "stream",
     "text": [
      "2022-05-18T00:00:33.000Z - 2022-05-19T00:00:00.000Z: 1\n",
      "2022-05-19T00:00:00.000Z - 2022-05-20T00:00:00.000Z: 2\n",
      "2022-05-20T00:00:00.000Z - 2022-05-21T00:00:00.000Z: 5\n",
      "2022-05-21T00:00:00.000Z - 2022-05-22T00:00:00.000Z: 0\n",
      "2022-05-22T00:00:00.000Z - 2022-05-23T00:00:00.000Z: 0\n",
      "2022-05-23T00:00:00.000Z - 2022-05-24T00:00:00.000Z: 3\n",
      "2022-05-24T00:00:00.000Z - 2022-05-25T00:00:00.000Z: 3\n",
      "2022-05-25T00:00:00.000Z - 2022-05-25T00:00:33.000Z: 0\n",
      "\u001b[32m\n",
      "Total Tweets: 14\n",
      "\u001b[0m\n"
     ]
    }
   ],
   "source": [
    "# recent search with granularity.\n",
    "!twarc2 counts --granularity \"day\" --text \"(#UCSBLibrary OR UCSBLibrary OR ucsblibrary OR #ucsblibrary OR davidsonlibrary OR #davidsonlibrary)\""
   ]
  },
  {
   "cell_type": "code",
   "execution_count": 29,
   "id": "c7e47ec3-1304-4a5f-9684-3266b1d0b621",
   "metadata": {},
   "outputs": [
    {
     "name": "stdout",
     "output_type": "stream",
     "text": [
      "Usage: twarc2 counts [OPTIONS] QUERY [OUTFILE]\n",
      "Try 'twarc2 counts --help' for help.\n",
      "\n",
      "Error: Got unexpected extra argument (Barbara)))\n",
      "Usage: twarc2 counts [OPTIONS] QUERY [OUTFILE]\n",
      "Try 'twarc2 counts --help' for help.\n",
      "\n",
      "Error: Got unexpected extra argument (barbara))\n",
      "2022-05-18T00:00:37.000Z - 2022-05-19T00:00:00.000Z: 16\n",
      "2022-05-19T00:00:00.000Z - 2022-05-20T00:00:00.000Z: 11\n",
      "2022-05-20T00:00:00.000Z - 2022-05-21T00:00:00.000Z: 14\n",
      "2022-05-21T00:00:00.000Z - 2022-05-22T00:00:00.000Z: 7\n",
      "2022-05-22T00:00:00.000Z - 2022-05-23T00:00:00.000Z: 3\n",
      "2022-05-23T00:00:00.000Z - 2022-05-24T00:00:00.000Z: 14\n",
      "2022-05-24T00:00:00.000Z - 2022-05-25T00:00:00.000Z: 16\n",
      "2022-05-25T00:00:00.000Z - 2022-05-25T00:00:37.000Z: 0\n",
      "\u001b[32m\n",
      "Total Tweets: 81\n",
      "\u001b[0m\n",
      "2022-05-18T00:00:39.000Z - 2022-05-19T00:00:00.000Z: 386\n",
      "2022-05-19T00:00:00.000Z - 2022-05-20T00:00:00.000Z: 232\n",
      "2022-05-20T00:00:00.000Z - 2022-05-21T00:00:00.000Z: 342\n",
      "2022-05-21T00:00:00.000Z - 2022-05-22T00:00:00.000Z: 385\n",
      "2022-05-22T00:00:00.000Z - 2022-05-23T00:00:00.000Z: 352\n",
      "2022-05-23T00:00:00.000Z - 2022-05-24T00:00:00.000Z: 308\n",
      "2022-05-24T00:00:00.000Z - 2022-05-25T00:00:00.000Z: 308\n",
      "2022-05-25T00:00:00.000Z - 2022-05-25T00:00:39.000Z: 0\n",
      "\u001b[32m\n",
      "Total Tweets: 2,313\n",
      "\u001b[0m\n"
     ]
    }
   ],
   "source": [
    "# phrase searching????\n",
    "# this one isnt working\n",
    "!twarc2 counts --granularity \"day\" --text \"(#UCSB OR UCSB OR ucsb OR (\"UC Santa Barbara\"))\"\n",
    "!twarc2 counts --granularity \"day\" --text \"(\"uc santa barbara\")\"\n",
    "!twarc2 counts --granularity \"day\" --text \"(#ucsb)\"\n",
    "!twarc2 counts --granularity \"day\" --text \"(UCSB)\""
   ]
  },
  {
   "cell_type": "code",
   "execution_count": 30,
   "id": "021f95fb-293d-459c-9afd-59d624efa865",
   "metadata": {},
   "outputs": [
    {
     "name": "stdout",
     "output_type": "stream",
     "text": [
      "2022-05-18T00:00:41.000Z - 2022-05-19T00:00:00.000Z: 386\n",
      "2022-05-19T00:00:00.000Z - 2022-05-20T00:00:00.000Z: 232\n",
      "2022-05-20T00:00:00.000Z - 2022-05-21T00:00:00.000Z: 342\n",
      "2022-05-21T00:00:00.000Z - 2022-05-22T00:00:00.000Z: 385\n",
      "2022-05-22T00:00:00.000Z - 2022-05-23T00:00:00.000Z: 352\n",
      "2022-05-23T00:00:00.000Z - 2022-05-24T00:00:00.000Z: 308\n",
      "2022-05-24T00:00:00.000Z - 2022-05-25T00:00:00.000Z: 308\n",
      "2022-05-25T00:00:00.000Z - 2022-05-25T00:00:41.000Z: 0\n",
      "\u001b[32m\n",
      "Total Tweets: 2,313\n",
      "\u001b[0m\n",
      "2022-05-18T00:00:42.000Z - 2022-05-19T00:00:00.000Z: 16\n",
      "2022-05-19T00:00:00.000Z - 2022-05-20T00:00:00.000Z: 11\n",
      "2022-05-20T00:00:00.000Z - 2022-05-21T00:00:00.000Z: 14\n",
      "2022-05-21T00:00:00.000Z - 2022-05-22T00:00:00.000Z: 7\n",
      "2022-05-22T00:00:00.000Z - 2022-05-23T00:00:00.000Z: 3\n",
      "2022-05-23T00:00:00.000Z - 2022-05-24T00:00:00.000Z: 14\n",
      "2022-05-24T00:00:00.000Z - 2022-05-25T00:00:00.000Z: 16\n",
      "2022-05-25T00:00:00.000Z - 2022-05-25T00:00:42.000Z: 0\n",
      "\u001b[32m\n",
      "Total Tweets: 81\n",
      "\u001b[0m\n",
      "2022-05-18T00:00:44.000Z - 2022-05-19T00:00:00.000Z: 386\n",
      "2022-05-19T00:00:00.000Z - 2022-05-20T00:00:00.000Z: 232\n",
      "2022-05-20T00:00:00.000Z - 2022-05-21T00:00:00.000Z: 342\n",
      "2022-05-21T00:00:00.000Z - 2022-05-22T00:00:00.000Z: 385\n",
      "2022-05-22T00:00:00.000Z - 2022-05-23T00:00:00.000Z: 352\n",
      "2022-05-23T00:00:00.000Z - 2022-05-24T00:00:00.000Z: 308\n",
      "2022-05-24T00:00:00.000Z - 2022-05-25T00:00:00.000Z: 308\n",
      "2022-05-25T00:00:00.000Z - 2022-05-25T00:00:44.000Z: 0\n",
      "\u001b[32m\n",
      "Total Tweets: 2,313\n",
      "\u001b[0m\n"
     ]
    }
   ],
   "source": [
    "# search for hashtags when you really want hashtags. \n",
    "# search for a string returns both text and hashtage (an OR)\n",
    "# NOT case sensitive\n",
    "!twarc2 counts --granularity \"day\" --text \"(#UCSB OR UCSB OR ucsb)\"\n",
    "!twarc2 counts --granularity \"day\" --text \"(#ucsb)\"\n",
    "!twarc2 counts --granularity \"day\" --text \"(UCSB)\""
   ]
  },
  {
   "cell_type": "code",
   "execution_count": 31,
   "id": "be3bd639-6118-4983-bb16-1ff7fd3999de",
   "metadata": {},
   "outputs": [
    {
     "name": "stdout",
     "output_type": "stream",
     "text": [
      "2022-05-18T00:00:45.000Z - 2022-05-19T00:00:00.000Z: 14,802\n",
      "2022-05-19T00:00:00.000Z - 2022-05-20T00:00:00.000Z: 19,012\n",
      "2022-05-20T00:00:00.000Z - 2022-05-21T00:00:00.000Z: 16,089\n",
      "2022-05-21T00:00:00.000Z - 2022-05-22T00:00:00.000Z: 17,538\n",
      "2022-05-22T00:00:00.000Z - 2022-05-23T00:00:00.000Z: 12,667\n",
      "2022-05-23T00:00:00.000Z - 2022-05-24T00:00:00.000Z: 12,455\n",
      "2022-05-24T00:00:00.000Z - 2022-05-25T00:00:00.000Z: 18,928\n",
      "2022-05-25T00:00:00.000Z - 2022-05-25T00:00:45.000Z: 12\n",
      "\u001b[32m\n",
      "Total Tweets: 111,503\n",
      "\u001b[0m\n",
      "2022-05-18T00:00:47.000Z - 2022-05-19T00:00:00.000Z: 70,618\n",
      "2022-05-19T00:00:00.000Z - 2022-05-20T00:00:00.000Z: 55,946\n",
      "2022-05-20T00:00:00.000Z - 2022-05-21T00:00:00.000Z: 48,882\n",
      "2022-05-21T00:00:00.000Z - 2022-05-22T00:00:00.000Z: 43,073\n",
      "2022-05-22T00:00:00.000Z - 2022-05-23T00:00:00.000Z: 46,642\n",
      "2022-05-23T00:00:00.000Z - 2022-05-24T00:00:00.000Z: 45,359\n",
      "2022-05-24T00:00:00.000Z - 2022-05-25T00:00:00.000Z: 83,227\n",
      "2022-05-25T00:00:00.000Z - 2022-05-25T00:00:47.000Z: 48\n",
      "\u001b[32m\n",
      "Total Tweets: 393,795\n",
      "\u001b[0m\n",
      "2022-05-18T00:00:49.000Z - 2022-05-19T00:00:00.000Z: 67,454\n",
      "2022-05-19T00:00:00.000Z - 2022-05-20T00:00:00.000Z: 54,758\n",
      "2022-05-20T00:00:00.000Z - 2022-05-21T00:00:00.000Z: 63,195\n",
      "2022-05-21T00:00:00.000Z - 2022-05-22T00:00:00.000Z: 55,695\n",
      "2022-05-22T00:00:00.000Z - 2022-05-23T00:00:00.000Z: 76,878\n",
      "2022-05-23T00:00:00.000Z - 2022-05-24T00:00:00.000Z: 64,932\n",
      "2022-05-24T00:00:00.000Z - 2022-05-25T00:00:00.000Z: 57,875\n",
      "2022-05-25T00:00:00.000Z - 2022-05-25T00:00:49.000Z: 85\n",
      "\u001b[32m\n",
      "Total Tweets: 440,872\n",
      "\u001b[0m\n",
      "2022-05-18T00:00:50.000Z - 2022-05-19T00:00:00.000Z: 100,852\n",
      "2022-05-19T00:00:00.000Z - 2022-05-20T00:00:00.000Z: 85,243\n",
      "2022-05-20T00:00:00.000Z - 2022-05-21T00:00:00.000Z: 93,841\n",
      "2022-05-21T00:00:00.000Z - 2022-05-22T00:00:00.000Z: 118,408\n",
      "2022-05-22T00:00:00.000Z - 2022-05-23T00:00:00.000Z: 83,205\n",
      "2022-05-23T00:00:00.000Z - 2022-05-24T00:00:00.000Z: 86,051\n",
      "2022-05-24T00:00:00.000Z - 2022-05-25T00:00:00.000Z: 100,902\n",
      "2022-05-25T00:00:00.000Z - 2022-05-25T00:00:50.000Z: 103\n",
      "\u001b[32m\n",
      "Total Tweets: 668,605\n",
      "\u001b[0m\n",
      "2022-05-18T00:00:52.000Z - 2022-05-19T00:00:00.000Z: 229,478\n",
      "2022-05-19T00:00:00.000Z - 2022-05-20T00:00:00.000Z: 275,235\n",
      "2022-05-20T00:00:00.000Z - 2022-05-21T00:00:00.000Z: 240,377\n",
      "2022-05-21T00:00:00.000Z - 2022-05-22T00:00:00.000Z: 275,740\n",
      "2022-05-22T00:00:00.000Z - 2022-05-23T00:00:00.000Z: 387,990\n",
      "2022-05-23T00:00:00.000Z - 2022-05-24T00:00:00.000Z: 242,319\n",
      "2022-05-24T00:00:00.000Z - 2022-05-25T00:00:00.000Z: 249,700\n",
      "2022-05-25T00:00:00.000Z - 2022-05-25T00:00:52.000Z: 174\n",
      "\u001b[32m\n",
      "Total Tweets: 1,901,013\n",
      "\u001b[0m\n"
     ]
    }
   ],
   "source": [
    "## Endpoints: counts\n",
    "!twarc2 counts --text \"(Poker OR poker)\" --granularity \"day\"\n",
    "!twarc2 counts --text \"(Golf OR golf)\" --granularity \"day\"\n",
    "!twarc2 counts --text \"(Basketball OR basketball)\" --granularity \"day\"\n",
    "!twarc2 counts --text \"(Baseball OR baseball)\" --granularity \"day\"\n",
    "!twarc2 counts --text \"(Football OR football)\" --granularity \"day\""
   ]
  },
  {
   "cell_type": "code",
   "execution_count": 32,
   "id": "5443c1c7-0da2-4ad9-82fd-1e9b2b377a72",
   "metadata": {},
   "outputs": [
    {
     "name": "stdout",
     "output_type": "stream",
     "text": [
      "2022-05-18T00:00:53.000Z - 2022-05-19T00:00:00.000Z: 263,194\n",
      "2022-05-19T00:00:00.000Z - 2022-05-20T00:00:00.000Z: 226,446\n",
      "2022-05-20T00:00:00.000Z - 2022-05-21T00:00:00.000Z: 217,322\n",
      "2022-05-21T00:00:00.000Z - 2022-05-22T00:00:00.000Z: 220,597\n",
      "2022-05-22T00:00:00.000Z - 2022-05-23T00:00:00.000Z: 227,639\n",
      "2022-05-23T00:00:00.000Z - 2022-05-24T00:00:00.000Z: 212,016\n",
      "2022-05-24T00:00:00.000Z - 2022-05-25T00:00:00.000Z: 220,806\n",
      "2022-05-25T00:00:00.000Z - 2022-05-25T00:00:53.000Z: 138\n",
      "\u001b[32m\n",
      "Total Tweets: 1,588,158\n",
      "\u001b[0m\n",
      "2022-05-18T00:00:55.000Z - 2022-05-19T00:00:00.000Z: 318,374\n",
      "2022-05-19T00:00:00.000Z - 2022-05-20T00:00:00.000Z: 355,955\n",
      "2022-05-20T00:00:00.000Z - 2022-05-21T00:00:00.000Z: 315,459\n",
      "2022-05-21T00:00:00.000Z - 2022-05-22T00:00:00.000Z: 288,102\n",
      "2022-05-22T00:00:00.000Z - 2022-05-23T00:00:00.000Z: 299,991\n",
      "2022-05-23T00:00:00.000Z - 2022-05-24T00:00:00.000Z: 306,746\n",
      "2022-05-24T00:00:00.000Z - 2022-05-25T00:00:00.000Z: 333,709\n",
      "2022-05-25T00:00:00.000Z - 2022-05-25T00:00:55.000Z: 194\n",
      "\u001b[32m\n",
      "Total Tweets: 2,218,530\n",
      "\u001b[0m\n",
      "2022-05-18T00:00:57.000Z - 2022-05-19T00:00:00.000Z: 995,849\n",
      "2022-05-19T00:00:00.000Z - 2022-05-20T00:00:00.000Z: 904,381\n",
      "2022-05-20T00:00:00.000Z - 2022-05-21T00:00:00.000Z: 1,000,934\n",
      "2022-05-21T00:00:00.000Z - 2022-05-22T00:00:00.000Z: 892,002\n",
      "2022-05-22T00:00:00.000Z - 2022-05-23T00:00:00.000Z: 884,826\n",
      "2022-05-23T00:00:00.000Z - 2022-05-24T00:00:00.000Z: 971,493\n",
      "2022-05-24T00:00:00.000Z - 2022-05-25T00:00:00.000Z: 1,068,687\n",
      "2022-05-25T00:00:00.000Z - 2022-05-25T00:00:57.000Z: 976\n",
      "\u001b[32m\n",
      "Total Tweets: 6,719,148\n",
      "\u001b[0m\n",
      "2022-05-18T00:00:58.000Z - 2022-05-19T00:00:00.000Z: 1,920,460\n",
      "2022-05-19T00:00:00.000Z - 2022-05-20T00:00:00.000Z: 1,898,812\n",
      "2022-05-20T00:00:00.000Z - 2022-05-21T00:00:00.000Z: 2,018,290\n",
      "2022-05-21T00:00:00.000Z - 2022-05-22T00:00:00.000Z: 1,680,616\n",
      "2022-05-22T00:00:00.000Z - 2022-05-23T00:00:00.000Z: 1,739,391\n",
      "2022-05-23T00:00:00.000Z - 2022-05-24T00:00:00.000Z: 1,781,953\n",
      "2022-05-24T00:00:00.000Z - 2022-05-25T00:00:00.000Z: 1,866,528\n",
      "2022-05-25T00:00:00.000Z - 2022-05-25T00:00:58.000Z: 1,842\n",
      "\u001b[32m\n",
      "Total Tweets: 12,907,892\n",
      "\u001b[0m\n",
      "2022-05-18T00:01:00.000Z - 2022-05-19T00:00:00.000Z: 3,976,147\n",
      "2022-05-19T00:00:00.000Z - 2022-05-20T00:00:00.000Z: 3,952,395\n",
      "2022-05-20T00:00:00.000Z - 2022-05-21T00:00:00.000Z: 4,081,433\n",
      "2022-05-21T00:00:00.000Z - 2022-05-22T00:00:00.000Z: 3,652,257\n",
      "2022-05-22T00:00:00.000Z - 2022-05-23T00:00:00.000Z: 3,773,725\n",
      "2022-05-23T00:00:00.000Z - 2022-05-24T00:00:00.000Z: 3,828,048\n",
      "2022-05-24T00:00:00.000Z - 2022-05-25T00:00:00.000Z: 3,863,396\n",
      "2022-05-25T00:00:00.000Z - 2022-05-25T00:01:00.000Z: 2,656\n",
      "\u001b[32m\n",
      "Total Tweets: 27,130,057\n",
      "\u001b[0m\n"
     ]
    }
   ],
   "source": [
    "## What's a lot?\n",
    "!twarc2 counts --text \"dog\" --granularity \"day\"\n",
    "!twarc2 counts --text \"cat\" --granularity \"day\"\n",
    "!twarc2 counts --text \"amazon\" --granularity \"day\"\n",
    "!twarc2 counts --text \"right\" --granularity \"day\"\n",
    "!twarc2 counts --text \"good\" --granularity \"day\"\n"
   ]
  },
  {
   "cell_type": "code",
   "execution_count": null,
   "id": "3ffc36b3-3fff-455a-b977-af257a34b5dd",
   "metadata": {},
   "outputs": [],
   "source": []
  },
  {
   "cell_type": "code",
   "execution_count": 33,
   "id": "abc52493-cf69-4298-8617-515a581ead59",
   "metadata": {},
   "outputs": [
    {
     "name": "stdout",
     "output_type": "stream",
     "text": [
      "100%|██████████████| Processed 5.31M/5.31M of input file [00:00<00:00, 9.40MB/s]\n",
      "100%|██████████████| Processed 12.9M/12.9M of input file [00:02<00:00, 4.82MB/s]\n",
      "\n",
      "ℹ️\n",
      "Parsed 3226 tweets objects from 3226 lines in the input file.\n",
      "Wrote 3226 rows and output 74 columns in the CSV.\n",
      "\n"
     ]
    }
   ],
   "source": [
    "## a SFW timeline\n",
    "# !twarc2 timeline ucsblibrary raw_data/library_timeline.jsonl\n",
    "!twarc2 flatten raw_data/library_timeline.jsonl output_data/library_timeline_flat.jsonl\n",
    "!twarc2 csv output_data/library_timeline_flat.jsonl output_data/library_timeline_flat.csv\n",
    "library_timeline_df = pandas.read_csv(\"output_data/library_timeline_flat.csv\")"
   ]
  },
  {
   "cell_type": "code",
   "execution_count": 34,
   "id": "e22b3154-3d28-483e-83f4-35fc4623c630",
   "metadata": {},
   "outputs": [
    {
     "data": {
      "text/plain": [
       "3226"
      ]
     },
     "execution_count": 34,
     "metadata": {},
     "output_type": "execute_result"
    }
   ],
   "source": [
    "# confirm the dataframe's existance\n",
    "len(library_timeline_df)"
   ]
  },
  {
   "cell_type": "code",
   "execution_count": 35,
   "id": "cfc06081-ef7c-4122-b7c0-0901ca4a2dff",
   "metadata": {},
   "outputs": [
    {
     "data": {
      "text/plain": [
       "['id',\n",
       " 'conversation_id',\n",
       " 'referenced_tweets.replied_to.id',\n",
       " 'referenced_tweets.retweeted.id',\n",
       " 'referenced_tweets.quoted.id',\n",
       " 'author_id',\n",
       " 'in_reply_to_user_id',\n",
       " 'retweeted_user_id',\n",
       " 'quoted_user_id',\n",
       " 'created_at',\n",
       " 'text',\n",
       " 'lang',\n",
       " 'source',\n",
       " 'public_metrics.like_count',\n",
       " 'public_metrics.quote_count',\n",
       " 'public_metrics.reply_count',\n",
       " 'public_metrics.retweet_count',\n",
       " 'reply_settings',\n",
       " 'possibly_sensitive',\n",
       " 'withheld.scope',\n",
       " 'withheld.copyright',\n",
       " 'withheld.country_codes',\n",
       " 'entities.annotations',\n",
       " 'entities.cashtags',\n",
       " 'entities.hashtags',\n",
       " 'entities.mentions',\n",
       " 'entities.urls',\n",
       " 'context_annotations',\n",
       " 'attachments.media',\n",
       " 'attachments.media_keys',\n",
       " 'attachments.poll.duration_minutes',\n",
       " 'attachments.poll.end_datetime',\n",
       " 'attachments.poll.id',\n",
       " 'attachments.poll.options',\n",
       " 'attachments.poll.voting_status',\n",
       " 'attachments.poll_ids',\n",
       " 'author.id',\n",
       " 'author.created_at',\n",
       " 'author.username',\n",
       " 'author.name',\n",
       " 'author.description',\n",
       " 'author.entities.description.cashtags',\n",
       " 'author.entities.description.hashtags',\n",
       " 'author.entities.description.mentions',\n",
       " 'author.entities.description.urls',\n",
       " 'author.entities.url.urls',\n",
       " 'author.location',\n",
       " 'author.pinned_tweet_id',\n",
       " 'author.profile_image_url',\n",
       " 'author.protected',\n",
       " 'author.public_metrics.followers_count',\n",
       " 'author.public_metrics.following_count',\n",
       " 'author.public_metrics.listed_count',\n",
       " 'author.public_metrics.tweet_count',\n",
       " 'author.url',\n",
       " 'author.verified',\n",
       " 'author.withheld.scope',\n",
       " 'author.withheld.copyright',\n",
       " 'author.withheld.country_codes',\n",
       " 'geo.coordinates.coordinates',\n",
       " 'geo.coordinates.type',\n",
       " 'geo.country',\n",
       " 'geo.country_code',\n",
       " 'geo.full_name',\n",
       " 'geo.geo.bbox',\n",
       " 'geo.geo.type',\n",
       " 'geo.id',\n",
       " 'geo.name',\n",
       " 'geo.place_id',\n",
       " 'geo.place_type',\n",
       " '__twarc.retrieved_at',\n",
       " '__twarc.url',\n",
       " '__twarc.version',\n",
       " 'Unnamed: 73']"
      ]
     },
     "execution_count": 35,
     "metadata": {},
     "output_type": "execute_result"
    }
   ],
   "source": [
    "# and view all column headers\n",
    "list(library_timeline_df.columns)"
   ]
  },
  {
   "cell_type": "code",
   "execution_count": null,
   "id": "a492aa1b-dd0f-44f0-b0bc-dedec7d38b0a",
   "metadata": {},
   "outputs": [],
   "source": []
  },
  {
   "cell_type": "code",
   "execution_count": null,
   "id": "ee4cc6aa-8a09-4b27-9dab-0b80cf267fcc",
   "metadata": {},
   "outputs": [],
   "source": []
  },
  {
   "cell_type": "markdown",
   "id": "23735a74-0dd1-4483-9705-595042b099bc",
   "metadata": {},
   "source": [
    "## final challenge: Cats of Instagram\n",
    "Let’s make a bigger datafile. Harvest 5000 tweets that use the hashtag “catsofinstagram” and put the dataset through the pipeline to answer the following questions:\n",
    "\n",
    "- Did you get exactly 5000?\n",
    "- How far back in time did you get?\n",
    "- What is the most re-tweeted recent tweet on #catsofinstagram?\n",
    "- Which person has the most number of followers in your dataset?\n",
    "- Is it really a person?"
   ]
  },
  {
   "cell_type": "code",
   "execution_count": 36,
   "id": "952eed26-010f-464b-82c9-4699988555b9",
   "metadata": {},
   "outputs": [
    {
     "name": "stdout",
     "output_type": "stream",
     "text": [
      "100%|██████████████| Processed 1.84M/1.84M of input file [00:00<00:00, 8.78MB/s]\n",
      "    600  118388 2181953 output_data/hashtagcats.csv\n"
     ]
    },
    {
     "data": {
      "text/plain": [
       "0    2022-05-24T00:17:07.000Z\n",
       "1    2022-05-24T00:14:06.000Z\n",
       "2    2022-05-24T00:14:06.000Z\n",
       "3    2022-05-24T00:12:02.000Z\n",
       "4    2022-05-24T00:11:58.000Z\n",
       "Name: created_at, dtype: object"
      ]
     },
     "execution_count": 36,
     "metadata": {},
     "output_type": "execute_result"
    }
   ],
   "source": [
    "# !twarc2 search --limit 500 \"#catsofinstagram\" raw_data/hashtagcats.jsonl\n",
    "!twarc2 flatten raw_data/hashtagcats.jsonl output_data/hashtagcats_flat.jsonl\n",
    "!twarc2 csv raw_data/hashtagcats.jsonl > output_data/hashtagcats.csv\n",
    "hashtagcats_df = pandas.read_csv(\"output_data/hashtagcats.csv\")\n",
    "! wc output_data/hashtagcats.csv\n",
    "hashtagcats_df[\"created_at\"].head()"
   ]
  },
  {
   "cell_type": "code",
   "execution_count": 37,
   "id": "ac420468-385e-4d39-9f8c-d7e5f520c1be",
   "metadata": {},
   "outputs": [
    {
     "data": {
      "text/plain": [
       "594    2022-05-23T15:27:12.000Z\n",
       "595    2022-05-23T15:24:35.000Z\n",
       "596    2022-05-23T15:22:56.000Z\n",
       "597    2022-05-23T15:21:13.000Z\n",
       "598    2022-05-23T15:20:22.000Z\n",
       "Name: created_at, dtype: object"
      ]
     },
     "execution_count": 37,
     "metadata": {},
     "output_type": "execute_result"
    }
   ],
   "source": [
    "hashtagcats_df[\"created_at\"].tail()"
   ]
  },
  {
   "cell_type": "code",
   "execution_count": 38,
   "id": "51f07c72-c097-4db9-8705-32e2b93c6aba",
   "metadata": {},
   "outputs": [
    {
     "data": {
      "text/html": [
       "<div>\n",
       "<style scoped>\n",
       "    .dataframe tbody tr th:only-of-type {\n",
       "        vertical-align: middle;\n",
       "    }\n",
       "\n",
       "    .dataframe tbody tr th {\n",
       "        vertical-align: top;\n",
       "    }\n",
       "\n",
       "    .dataframe thead th {\n",
       "        text-align: right;\n",
       "    }\n",
       "</style>\n",
       "<table border=\"1\" class=\"dataframe\">\n",
       "  <thead>\n",
       "    <tr style=\"text-align: right;\">\n",
       "      <th></th>\n",
       "      <th>id</th>\n",
       "      <th>conversation_id</th>\n",
       "      <th>referenced_tweets.replied_to.id</th>\n",
       "      <th>referenced_tweets.retweeted.id</th>\n",
       "      <th>referenced_tweets.quoted.id</th>\n",
       "      <th>author_id</th>\n",
       "      <th>in_reply_to_user_id</th>\n",
       "      <th>retweeted_user_id</th>\n",
       "      <th>quoted_user_id</th>\n",
       "      <th>created_at</th>\n",
       "      <th>...</th>\n",
       "      <th>geo.geo.bbox</th>\n",
       "      <th>geo.geo.type</th>\n",
       "      <th>geo.id</th>\n",
       "      <th>geo.name</th>\n",
       "      <th>geo.place_id</th>\n",
       "      <th>geo.place_type</th>\n",
       "      <th>__twarc.retrieved_at</th>\n",
       "      <th>__twarc.url</th>\n",
       "      <th>__twarc.version</th>\n",
       "      <th>Unnamed: 73</th>\n",
       "    </tr>\n",
       "  </thead>\n",
       "  <tbody>\n",
       "    <tr>\n",
       "      <th>0</th>\n",
       "      <td>1528892818105815040</td>\n",
       "      <td>1528892818105815040</td>\n",
       "      <td>NaN</td>\n",
       "      <td>1.517710e+18</td>\n",
       "      <td>NaN</td>\n",
       "      <td>1128200401</td>\n",
       "      <td>NaN</td>\n",
       "      <td>3.958303e+09</td>\n",
       "      <td>NaN</td>\n",
       "      <td>2022-05-24T00:17:07.000Z</td>\n",
       "      <td>...</td>\n",
       "      <td>NaN</td>\n",
       "      <td>NaN</td>\n",
       "      <td>NaN</td>\n",
       "      <td>NaN</td>\n",
       "      <td>NaN</td>\n",
       "      <td>NaN</td>\n",
       "      <td>2022-05-24T00:20:37+00:00</td>\n",
       "      <td>https://api.twitter.com/2/tweets/search/recent...</td>\n",
       "      <td>2.10.4</td>\n",
       "      <td>NaN</td>\n",
       "    </tr>\n",
       "    <tr>\n",
       "      <th>1</th>\n",
       "      <td>1528892058274091012</td>\n",
       "      <td>1528892058274091012</td>\n",
       "      <td>NaN</td>\n",
       "      <td>NaN</td>\n",
       "      <td>NaN</td>\n",
       "      <td>749661007</td>\n",
       "      <td>NaN</td>\n",
       "      <td>NaN</td>\n",
       "      <td>NaN</td>\n",
       "      <td>2022-05-24T00:14:06.000Z</td>\n",
       "      <td>...</td>\n",
       "      <td>NaN</td>\n",
       "      <td>NaN</td>\n",
       "      <td>NaN</td>\n",
       "      <td>NaN</td>\n",
       "      <td>NaN</td>\n",
       "      <td>NaN</td>\n",
       "      <td>2022-05-24T00:20:37+00:00</td>\n",
       "      <td>https://api.twitter.com/2/tweets/search/recent...</td>\n",
       "      <td>2.10.4</td>\n",
       "      <td>NaN</td>\n",
       "    </tr>\n",
       "    <tr>\n",
       "      <th>2</th>\n",
       "      <td>1528892056524972033</td>\n",
       "      <td>1528892056524972033</td>\n",
       "      <td>NaN</td>\n",
       "      <td>1.528889e+18</td>\n",
       "      <td>NaN</td>\n",
       "      <td>1088162497725648908</td>\n",
       "      <td>NaN</td>\n",
       "      <td>9.486312e+17</td>\n",
       "      <td>NaN</td>\n",
       "      <td>2022-05-24T00:14:06.000Z</td>\n",
       "      <td>...</td>\n",
       "      <td>NaN</td>\n",
       "      <td>NaN</td>\n",
       "      <td>NaN</td>\n",
       "      <td>NaN</td>\n",
       "      <td>NaN</td>\n",
       "      <td>NaN</td>\n",
       "      <td>2022-05-24T00:20:37+00:00</td>\n",
       "      <td>https://api.twitter.com/2/tweets/search/recent...</td>\n",
       "      <td>2.10.4</td>\n",
       "      <td>NaN</td>\n",
       "    </tr>\n",
       "    <tr>\n",
       "      <th>3</th>\n",
       "      <td>1528891537995796481</td>\n",
       "      <td>1528891537995796481</td>\n",
       "      <td>NaN</td>\n",
       "      <td>NaN</td>\n",
       "      <td>NaN</td>\n",
       "      <td>444109960</td>\n",
       "      <td>NaN</td>\n",
       "      <td>NaN</td>\n",
       "      <td>NaN</td>\n",
       "      <td>2022-05-24T00:12:02.000Z</td>\n",
       "      <td>...</td>\n",
       "      <td>NaN</td>\n",
       "      <td>NaN</td>\n",
       "      <td>NaN</td>\n",
       "      <td>NaN</td>\n",
       "      <td>NaN</td>\n",
       "      <td>NaN</td>\n",
       "      <td>2022-05-24T00:20:37+00:00</td>\n",
       "      <td>https://api.twitter.com/2/tweets/search/recent...</td>\n",
       "      <td>2.10.4</td>\n",
       "      <td>NaN</td>\n",
       "    </tr>\n",
       "    <tr>\n",
       "      <th>4</th>\n",
       "      <td>1528891522271150081</td>\n",
       "      <td>1528891522271150081</td>\n",
       "      <td>NaN</td>\n",
       "      <td>1.528845e+18</td>\n",
       "      <td>NaN</td>\n",
       "      <td>1145235467601756161</td>\n",
       "      <td>NaN</td>\n",
       "      <td>1.350456e+18</td>\n",
       "      <td>NaN</td>\n",
       "      <td>2022-05-24T00:11:58.000Z</td>\n",
       "      <td>...</td>\n",
       "      <td>NaN</td>\n",
       "      <td>NaN</td>\n",
       "      <td>NaN</td>\n",
       "      <td>NaN</td>\n",
       "      <td>NaN</td>\n",
       "      <td>NaN</td>\n",
       "      <td>2022-05-24T00:20:37+00:00</td>\n",
       "      <td>https://api.twitter.com/2/tweets/search/recent...</td>\n",
       "      <td>2.10.4</td>\n",
       "      <td>NaN</td>\n",
       "    </tr>\n",
       "    <tr>\n",
       "      <th>...</th>\n",
       "      <td>...</td>\n",
       "      <td>...</td>\n",
       "      <td>...</td>\n",
       "      <td>...</td>\n",
       "      <td>...</td>\n",
       "      <td>...</td>\n",
       "      <td>...</td>\n",
       "      <td>...</td>\n",
       "      <td>...</td>\n",
       "      <td>...</td>\n",
       "      <td>...</td>\n",
       "      <td>...</td>\n",
       "      <td>...</td>\n",
       "      <td>...</td>\n",
       "      <td>...</td>\n",
       "      <td>...</td>\n",
       "      <td>...</td>\n",
       "      <td>...</td>\n",
       "      <td>...</td>\n",
       "      <td>...</td>\n",
       "      <td>...</td>\n",
       "    </tr>\n",
       "    <tr>\n",
       "      <th>594</th>\n",
       "      <td>1528759456552693760</td>\n",
       "      <td>1528759456552693760</td>\n",
       "      <td>NaN</td>\n",
       "      <td>1.528738e+18</td>\n",
       "      <td>NaN</td>\n",
       "      <td>774243018304057345</td>\n",
       "      <td>NaN</td>\n",
       "      <td>1.479934e+18</td>\n",
       "      <td>NaN</td>\n",
       "      <td>2022-05-23T15:27:12.000Z</td>\n",
       "      <td>...</td>\n",
       "      <td>NaN</td>\n",
       "      <td>NaN</td>\n",
       "      <td>NaN</td>\n",
       "      <td>NaN</td>\n",
       "      <td>NaN</td>\n",
       "      <td>NaN</td>\n",
       "      <td>2022-05-24T00:20:41+00:00</td>\n",
       "      <td>https://api.twitter.com/2/tweets/search/recent...</td>\n",
       "      <td>2.10.4</td>\n",
       "      <td>NaN</td>\n",
       "    </tr>\n",
       "    <tr>\n",
       "      <th>595</th>\n",
       "      <td>1528758800408121344</td>\n",
       "      <td>1528758800408121344</td>\n",
       "      <td>NaN</td>\n",
       "      <td>1.528635e+18</td>\n",
       "      <td>NaN</td>\n",
       "      <td>911449457824108545</td>\n",
       "      <td>NaN</td>\n",
       "      <td>1.251569e+18</td>\n",
       "      <td>NaN</td>\n",
       "      <td>2022-05-23T15:24:35.000Z</td>\n",
       "      <td>...</td>\n",
       "      <td>NaN</td>\n",
       "      <td>NaN</td>\n",
       "      <td>NaN</td>\n",
       "      <td>NaN</td>\n",
       "      <td>NaN</td>\n",
       "      <td>NaN</td>\n",
       "      <td>2022-05-24T00:20:41+00:00</td>\n",
       "      <td>https://api.twitter.com/2/tweets/search/recent...</td>\n",
       "      <td>2.10.4</td>\n",
       "      <td>NaN</td>\n",
       "    </tr>\n",
       "    <tr>\n",
       "      <th>596</th>\n",
       "      <td>1528758385394733059</td>\n",
       "      <td>1528758385394733059</td>\n",
       "      <td>NaN</td>\n",
       "      <td>1.528529e+18</td>\n",
       "      <td>NaN</td>\n",
       "      <td>1425297926981488643</td>\n",
       "      <td>NaN</td>\n",
       "      <td>1.524979e+18</td>\n",
       "      <td>NaN</td>\n",
       "      <td>2022-05-23T15:22:56.000Z</td>\n",
       "      <td>...</td>\n",
       "      <td>NaN</td>\n",
       "      <td>NaN</td>\n",
       "      <td>NaN</td>\n",
       "      <td>NaN</td>\n",
       "      <td>NaN</td>\n",
       "      <td>NaN</td>\n",
       "      <td>2022-05-24T00:20:41+00:00</td>\n",
       "      <td>https://api.twitter.com/2/tweets/search/recent...</td>\n",
       "      <td>2.10.4</td>\n",
       "      <td>NaN</td>\n",
       "    </tr>\n",
       "    <tr>\n",
       "      <th>597</th>\n",
       "      <td>1528757951221096448</td>\n",
       "      <td>1528757951221096448</td>\n",
       "      <td>NaN</td>\n",
       "      <td>NaN</td>\n",
       "      <td>NaN</td>\n",
       "      <td>722125004054388736</td>\n",
       "      <td>NaN</td>\n",
       "      <td>NaN</td>\n",
       "      <td>NaN</td>\n",
       "      <td>2022-05-23T15:21:13.000Z</td>\n",
       "      <td>...</td>\n",
       "      <td>NaN</td>\n",
       "      <td>NaN</td>\n",
       "      <td>NaN</td>\n",
       "      <td>NaN</td>\n",
       "      <td>NaN</td>\n",
       "      <td>NaN</td>\n",
       "      <td>2022-05-24T00:20:41+00:00</td>\n",
       "      <td>https://api.twitter.com/2/tweets/search/recent...</td>\n",
       "      <td>2.10.4</td>\n",
       "      <td>NaN</td>\n",
       "    </tr>\n",
       "    <tr>\n",
       "      <th>598</th>\n",
       "      <td>1528757736938295298</td>\n",
       "      <td>1528757736938295298</td>\n",
       "      <td>NaN</td>\n",
       "      <td>1.528413e+18</td>\n",
       "      <td>NaN</td>\n",
       "      <td>3188720277</td>\n",
       "      <td>NaN</td>\n",
       "      <td>3.541330e+08</td>\n",
       "      <td>NaN</td>\n",
       "      <td>2022-05-23T15:20:22.000Z</td>\n",
       "      <td>...</td>\n",
       "      <td>NaN</td>\n",
       "      <td>NaN</td>\n",
       "      <td>NaN</td>\n",
       "      <td>NaN</td>\n",
       "      <td>NaN</td>\n",
       "      <td>NaN</td>\n",
       "      <td>2022-05-24T00:20:41+00:00</td>\n",
       "      <td>https://api.twitter.com/2/tweets/search/recent...</td>\n",
       "      <td>2.10.4</td>\n",
       "      <td>NaN</td>\n",
       "    </tr>\n",
       "  </tbody>\n",
       "</table>\n",
       "<p>599 rows × 74 columns</p>\n",
       "</div>"
      ],
      "text/plain": [
       "                      id      conversation_id  \\\n",
       "0    1528892818105815040  1528892818105815040   \n",
       "1    1528892058274091012  1528892058274091012   \n",
       "2    1528892056524972033  1528892056524972033   \n",
       "3    1528891537995796481  1528891537995796481   \n",
       "4    1528891522271150081  1528891522271150081   \n",
       "..                   ...                  ...   \n",
       "594  1528759456552693760  1528759456552693760   \n",
       "595  1528758800408121344  1528758800408121344   \n",
       "596  1528758385394733059  1528758385394733059   \n",
       "597  1528757951221096448  1528757951221096448   \n",
       "598  1528757736938295298  1528757736938295298   \n",
       "\n",
       "     referenced_tweets.replied_to.id  referenced_tweets.retweeted.id  \\\n",
       "0                                NaN                    1.517710e+18   \n",
       "1                                NaN                             NaN   \n",
       "2                                NaN                    1.528889e+18   \n",
       "3                                NaN                             NaN   \n",
       "4                                NaN                    1.528845e+18   \n",
       "..                               ...                             ...   \n",
       "594                              NaN                    1.528738e+18   \n",
       "595                              NaN                    1.528635e+18   \n",
       "596                              NaN                    1.528529e+18   \n",
       "597                              NaN                             NaN   \n",
       "598                              NaN                    1.528413e+18   \n",
       "\n",
       "     referenced_tweets.quoted.id            author_id  in_reply_to_user_id  \\\n",
       "0                            NaN           1128200401                  NaN   \n",
       "1                            NaN            749661007                  NaN   \n",
       "2                            NaN  1088162497725648908                  NaN   \n",
       "3                            NaN            444109960                  NaN   \n",
       "4                            NaN  1145235467601756161                  NaN   \n",
       "..                           ...                  ...                  ...   \n",
       "594                          NaN   774243018304057345                  NaN   \n",
       "595                          NaN   911449457824108545                  NaN   \n",
       "596                          NaN  1425297926981488643                  NaN   \n",
       "597                          NaN   722125004054388736                  NaN   \n",
       "598                          NaN           3188720277                  NaN   \n",
       "\n",
       "     retweeted_user_id  quoted_user_id                created_at  ...  \\\n",
       "0         3.958303e+09             NaN  2022-05-24T00:17:07.000Z  ...   \n",
       "1                  NaN             NaN  2022-05-24T00:14:06.000Z  ...   \n",
       "2         9.486312e+17             NaN  2022-05-24T00:14:06.000Z  ...   \n",
       "3                  NaN             NaN  2022-05-24T00:12:02.000Z  ...   \n",
       "4         1.350456e+18             NaN  2022-05-24T00:11:58.000Z  ...   \n",
       "..                 ...             ...                       ...  ...   \n",
       "594       1.479934e+18             NaN  2022-05-23T15:27:12.000Z  ...   \n",
       "595       1.251569e+18             NaN  2022-05-23T15:24:35.000Z  ...   \n",
       "596       1.524979e+18             NaN  2022-05-23T15:22:56.000Z  ...   \n",
       "597                NaN             NaN  2022-05-23T15:21:13.000Z  ...   \n",
       "598       3.541330e+08             NaN  2022-05-23T15:20:22.000Z  ...   \n",
       "\n",
       "    geo.geo.bbox geo.geo.type geo.id  geo.name  geo.place_id  geo.place_type  \\\n",
       "0            NaN          NaN    NaN       NaN           NaN             NaN   \n",
       "1            NaN          NaN    NaN       NaN           NaN             NaN   \n",
       "2            NaN          NaN    NaN       NaN           NaN             NaN   \n",
       "3            NaN          NaN    NaN       NaN           NaN             NaN   \n",
       "4            NaN          NaN    NaN       NaN           NaN             NaN   \n",
       "..           ...          ...    ...       ...           ...             ...   \n",
       "594          NaN          NaN    NaN       NaN           NaN             NaN   \n",
       "595          NaN          NaN    NaN       NaN           NaN             NaN   \n",
       "596          NaN          NaN    NaN       NaN           NaN             NaN   \n",
       "597          NaN          NaN    NaN       NaN           NaN             NaN   \n",
       "598          NaN          NaN    NaN       NaN           NaN             NaN   \n",
       "\n",
       "          __twarc.retrieved_at  \\\n",
       "0    2022-05-24T00:20:37+00:00   \n",
       "1    2022-05-24T00:20:37+00:00   \n",
       "2    2022-05-24T00:20:37+00:00   \n",
       "3    2022-05-24T00:20:37+00:00   \n",
       "4    2022-05-24T00:20:37+00:00   \n",
       "..                         ...   \n",
       "594  2022-05-24T00:20:41+00:00   \n",
       "595  2022-05-24T00:20:41+00:00   \n",
       "596  2022-05-24T00:20:41+00:00   \n",
       "597  2022-05-24T00:20:41+00:00   \n",
       "598  2022-05-24T00:20:41+00:00   \n",
       "\n",
       "                                           __twarc.url  __twarc.version  \\\n",
       "0    https://api.twitter.com/2/tweets/search/recent...           2.10.4   \n",
       "1    https://api.twitter.com/2/tweets/search/recent...           2.10.4   \n",
       "2    https://api.twitter.com/2/tweets/search/recent...           2.10.4   \n",
       "3    https://api.twitter.com/2/tweets/search/recent...           2.10.4   \n",
       "4    https://api.twitter.com/2/tweets/search/recent...           2.10.4   \n",
       "..                                                 ...              ...   \n",
       "594  https://api.twitter.com/2/tweets/search/recent...           2.10.4   \n",
       "595  https://api.twitter.com/2/tweets/search/recent...           2.10.4   \n",
       "596  https://api.twitter.com/2/tweets/search/recent...           2.10.4   \n",
       "597  https://api.twitter.com/2/tweets/search/recent...           2.10.4   \n",
       "598  https://api.twitter.com/2/tweets/search/recent...           2.10.4   \n",
       "\n",
       "     Unnamed: 73  \n",
       "0            NaN  \n",
       "1            NaN  \n",
       "2            NaN  \n",
       "3            NaN  \n",
       "4            NaN  \n",
       "..           ...  \n",
       "594          NaN  \n",
       "595          NaN  \n",
       "596          NaN  \n",
       "597          NaN  \n",
       "598          NaN  \n",
       "\n",
       "[599 rows x 74 columns]"
      ]
     },
     "execution_count": 38,
     "metadata": {},
     "output_type": "execute_result"
    }
   ],
   "source": [
    "hashtagcats_df"
   ]
  },
  {
   "cell_type": "code",
   "execution_count": 39,
   "id": "c151b25e-f551-445c-93ed-118406e3df40",
   "metadata": {},
   "outputs": [
    {
     "data": {
      "text/plain": [
       "['id',\n",
       " 'conversation_id',\n",
       " 'referenced_tweets.replied_to.id',\n",
       " 'referenced_tweets.retweeted.id',\n",
       " 'referenced_tweets.quoted.id',\n",
       " 'author_id',\n",
       " 'in_reply_to_user_id',\n",
       " 'retweeted_user_id',\n",
       " 'quoted_user_id',\n",
       " 'created_at',\n",
       " 'text',\n",
       " 'lang',\n",
       " 'source',\n",
       " 'public_metrics.like_count',\n",
       " 'public_metrics.quote_count',\n",
       " 'public_metrics.reply_count',\n",
       " 'public_metrics.retweet_count',\n",
       " 'reply_settings',\n",
       " 'possibly_sensitive',\n",
       " 'withheld.scope',\n",
       " 'withheld.copyright',\n",
       " 'withheld.country_codes',\n",
       " 'entities.annotations',\n",
       " 'entities.cashtags',\n",
       " 'entities.hashtags',\n",
       " 'entities.mentions',\n",
       " 'entities.urls',\n",
       " 'context_annotations',\n",
       " 'attachments.media',\n",
       " 'attachments.media_keys',\n",
       " 'attachments.poll.duration_minutes',\n",
       " 'attachments.poll.end_datetime',\n",
       " 'attachments.poll.id',\n",
       " 'attachments.poll.options',\n",
       " 'attachments.poll.voting_status',\n",
       " 'attachments.poll_ids',\n",
       " 'author.id',\n",
       " 'author.created_at',\n",
       " 'author.username',\n",
       " 'author.name',\n",
       " 'author.description',\n",
       " 'author.entities.description.cashtags',\n",
       " 'author.entities.description.hashtags',\n",
       " 'author.entities.description.mentions',\n",
       " 'author.entities.description.urls',\n",
       " 'author.entities.url.urls',\n",
       " 'author.location',\n",
       " 'author.pinned_tweet_id',\n",
       " 'author.profile_image_url',\n",
       " 'author.protected',\n",
       " 'author.public_metrics.followers_count',\n",
       " 'author.public_metrics.following_count',\n",
       " 'author.public_metrics.listed_count',\n",
       " 'author.public_metrics.tweet_count',\n",
       " 'author.url',\n",
       " 'author.verified',\n",
       " 'author.withheld.scope',\n",
       " 'author.withheld.copyright',\n",
       " 'author.withheld.country_codes',\n",
       " 'geo.coordinates.coordinates',\n",
       " 'geo.coordinates.type',\n",
       " 'geo.country',\n",
       " 'geo.country_code',\n",
       " 'geo.full_name',\n",
       " 'geo.geo.bbox',\n",
       " 'geo.geo.type',\n",
       " 'geo.id',\n",
       " 'geo.name',\n",
       " 'geo.place_id',\n",
       " 'geo.place_type',\n",
       " '__twarc.retrieved_at',\n",
       " '__twarc.url',\n",
       " '__twarc.version',\n",
       " 'Unnamed: 73']"
      ]
     },
     "execution_count": 39,
     "metadata": {},
     "output_type": "execute_result"
    }
   ],
   "source": [
    "list(hashtagcats_df.columns)"
   ]
  },
  {
   "cell_type": "code",
   "execution_count": 40,
   "id": "1d6badeb-47e1-4895-aae6-dbd53d2c50e6",
   "metadata": {},
   "outputs": [
    {
     "name": "stdout",
     "output_type": "stream",
     "text": [
      "Variable              Type         Data/Info\n",
      "--------------------------------------------\n",
      "ecodatasci_df         DataFrame                          id <...>\\n[473 rows x 74 columns]\n",
      "hashtagcats_df        DataFrame                          id <...>\\n[599 rows x 74 columns]\n",
      "library_timeline_df   DataFrame                           id<...>n[3226 rows x 74 columns]\n"
     ]
    }
   ],
   "source": [
    "# what dataframes do we have at this point?\n",
    "%whos DataFrame"
   ]
  },
  {
   "cell_type": "markdown",
   "id": "870d9fb7-03eb-4dcd-9ab8-d4888b008f65",
   "metadata": {},
   "source": [
    "# Episode 5: Ethics & Twitter"
   ]
  },
  {
   "cell_type": "code",
   "execution_count": 41,
   "id": "a2a6a3f1-5b8c-40dd-af9e-156270f5b68c",
   "metadata": {},
   "outputs": [
    {
     "name": "stdout",
     "output_type": "stream",
     "text": [
      "ecodatasci_df\t hashtagcats_df\t library_timeline_df\t \n"
     ]
    }
   ],
   "source": [
    "# what dataframes do we have?\n",
    "%who DataFrame\n",
    "# which column is the text?"
   ]
  },
  {
   "cell_type": "code",
   "execution_count": 42,
   "id": "f046b945-b698-4c9b-b6c4-8047382f16aa",
   "metadata": {},
   "outputs": [],
   "source": [
    "# our first full-text analysis\n",
    "# a list of words with TextBlob\n",
    "\n",
    "# first we need to munge the data. remember from:\n",
    "# list(library_df.columns)\n",
    "# the tweet is library_df['text']\n",
    "\n",
    "# TextBlob has its own data format.\n",
    "\n",
    "# break tweets test column into a list, \n",
    "# then .join into one long string \n",
    "library_string = ' '.join(library_timeline_df['text'].tolist())\n",
    "# turn the string into a blob\n",
    "library_blob = textblob.TextBlob(library_string)\n"
   ]
  },
  {
   "cell_type": "code",
   "execution_count": 43,
   "id": "89814018-5e41-4b59-bab1-6df674f53f58",
   "metadata": {},
   "outputs": [
    {
     "data": {
      "text/plain": [
       "TextBlob(\"We are pleased to announce University of California’s transformative open access agreement with the American Chemical Society (ACS).\\nThrough this agreement, authors publishing will receive support for open access publication in ACS’ portfolio. \\nLearn more:\\nhttps://t.co/G5XMqLit1e UCSB Library and the Writing Program invite you to join us today, May 19th, at 4pm, for student-created pandemic stories in the Instruction &amp; Training room. \\nHear stories about mental health struggles, finding new communities, and sensory deprivation.\\nhttps://t.co/Ca9An4AMgg https://t.co/RlRkyhDAs0 Join us today, May 18th, in the Special Research Collections for The Cambodian Vintage Music Archive Project at 3:30pm. \\nHear about CVMA's work to restore pre-Khmer Rouge era music and surviving families' rights.\\nhttps://t.co/ije7hxDKBQ https://t.co/w3IvwBqAHG Join us today, May 10th, at 7:30pm in UCSB Campbell Hall for a free community talk by Ted Chiang, UCSB Reads 2022 author of Exhalation: Stories, moderated by Melody Jue.\\n\\nRegister through the Arts &amp; Lectures portal here: https://t.co/sJcHiUxJlJ https://t.co/czb9HpQJAq UCSB Library is thrilled to present Ted Chiang, UCSB Reads 2022 author of Exhalation: Stories for a free community talk tomorrow, May 10th at 7:30pm in UCSB Campbell Hall. The event is moderated by Melody Jue, Associate Professor of English.\\nRegister here: https://t.co/sJcHiUxJlJ https://t.co/hV01bobLCk The BBC World Service featured the UCSB Library's Early Recordings Initiative from the Performing Arts Collection in Special Research Collections. \\n\\nTune in at 13:30 to hear a discussion regarding the importance of preserving these early recordings. \\n\\nhttps://t.co/x5yyiuBP7h At 7pm in the UCSB Pollock Theater, join us for Arrival (2016), a movie adapted from “Story of Your Life” by author Ted Chiang. \\nJennifer Rhee will join Melody Jue for a post-screening discussion.\\nIn conjunction with this year’s UCSB Reads program.\\nRSVP at https://t.co/ojGNoIzSvc https://t.co/PY9Vi1pYHQ On May 5th at 7pm, join us for a screening of Arrival (2016) adapted from “Story of Your Life” by author Ted Chiang. Introspective and immersive, Arrival imagines fantastical calligraphy alongside alienation, race, motherhood, and queer time.\\nRSVP here: https://t.co/ojGNoIzSvc https://t.co/OkuCyqWMG2 Only three days left! Submit your application for the 2022 Library Award for Undergraduate Research! \\n\\nEligible undergrads are those who have produced a scholarly or creative work using collections, resources, and services of the UCSB Library.\\n\\nMore info: https://t.co/5LsNIq07Ww https://t.co/7rkLl7MjbH Two weeks until Ted Chiang, author of the UCSB Reads 2022 book \"Exhalation\" comes to campus for a live talk and book signing! Don't miss this free event. Register here➡️ https://t.co/sJcHiUPkdh\\n\\nPresented w/ @ArtsandLectures. Thank you to our corporate sponsor @GoogleQuantumAI. https://t.co/OijlBmsfak Congrats to Jonah Rosas on 1st place🥇in this year's Art of Science competition. We look forward to displaying the winning entries in the Library this fall. https://t.co/NAkwEQEIEI Many sources cite the 1969 Santa Barbara oil spill as the inspiration for #EarthDay and for heightened environmental awareness across the country. Check out our online exhibit highlighting this history and its legacies: https://t.co/WJeaHSdFeQ https://t.co/HbRw65vhke Congratulations to the new #UCSB transfer admits! 💙 💛  Welcome to the Gaucho family and our campus-by-the-sea. #NextStopUCSB https://t.co/k9d4kpz5DD 🤣@Nexustentialism🐣 https://t.co/3Mx6ZMEiHC Visit our National Poetry Month display in Ethnic &amp; Gender Studies (2nd floor, Ocean Side) before the end of April to see highlights from our collection. Poetry books for browsing and checkout are in the nearby bookshelf. https://t.co/bLguiHqHYU \"The Business of Less: The Role of Companies and Households on a Planet in Peril\":\\nUCSB Library's Pacific Views Lecture, in which Dr. Roland Geyer (Bren School) challenged the prevailing corporate notions of \"eco-efficiency\" and \"win-win,\" ... [Read more]\\nhttps://t.co/Nfb9WJrPXk https://t.co/ruIiJRMiqV Missed our \"How Quantum Mechanics Affects Our Lives\" panel discussion last week? Watch the recording 👀➡️https://t.co/XXrI7GSBNW\\n\\nFeaturing @kingdomforpawn, Sabrina Hong, @mattjmcewen, @OHaraPhysics and moderated by @tokenamerikan of @GoogleQuantumAI. Thank you @rolandfgeyer for speaking today as part of our Pacific Views Speaker Series. View the livestream on our Facebook page: https://t.co/AC0qQ20tBh https://t.co/A0LKiPBKbi UC Santa Barbara Library hosted a public event reviving music from the 1890s and some of the world’s earliest recording technology 📻🎶\\nhttps://t.co/SeL5DF4FDJ Today's the day! Join us at 4pm for Ronald Geyer's Pacific Views Series Talk, The Business of Less, which explains our current failing approach to sustainability and proposes principles towards human prosperity with a healthy environment. \\nhttps://t.co/HZf9VOsaLL https://t.co/UFY1XkJ2uk Tomorrow, Apr. 19th at 4:00pm, the UCSB Library presents a Pacific Views Series Talk by Roland Geyer (@rolandfgeyer). This talk explains our failing approach to sustainability and introduces principles towards a better, healthier world.\\n\\nMore info here: https://t.co/rvR5q9kvVE https://t.co/IlcGV4Y10s Undergrads - less than two weeks left to submit your application for the 2022 Library Award for Undergraduate Research. \\n\\nIf you've produced a scholarly or creative work using the collections, resources, and services of the UCSB Library, you're eligible! ➡️https://t.co/5LsNIqhIO4 https://t.co/Up565yUvli Join us tomorrow at 4 p.m. for a discussion w/ @rolandfgeyer on why our current approach to environmental sustainability is failing and how new principles could make human prosperity and a healthy environment compatible.\\nRegister➡️ https://t.co/HZf9VOaznb\\n\\nCo-sponsored by @CECSB https://t.co/iiD5qCR9am You can now reserve tickets for the May 5 screening of \"Arrival\" - a #UCSBReads2022 event sponsored by @CarseyWolfUCSB. \\n\\n\"Arrival\" (2016) is adapted from “Story of Your Life” by sci fi author Ted Chiang (who wrote the UCSB Reads 2022 pick \"Exhalation\").\\n\\nhttps://t.co/igQtYWvlhw It's #WorldQuantumDay! Join us for two great events.\\n\\n1⃣ 12:30-2 PM | Rm 1312\\nDrop by for interactive games to build your quantum intuition.\\nhttps://t.co/DHbmUJKx7G\\n\\n2⃣ 4 PM | Rm 1312 &amp; Livestream\\nPanel Discussion: How Quantum Mechanics Affects Our Lives\\nhttps://t.co/StRMYXUqxF https://t.co/dgoo37lpye Today Gevirtz School students help lead programs for World Quantum Day at the @UCSBLibrary. https://t.co/gA1ToFBJzq https://t.co/CwniXOGfvq Join industry and academic experts on #WorldQuantumDay (4/14) for a panel discussion w/ @kingdomforpawn, Sabrina Hong + @mattjmcewen, @OHaraPhysics. \\n@tokenamerikan of @GoogleQuantumAI will moderate.\\n\\n4PM In-person &amp; FB live stream. More: https://t.co/StRMYXUqxF https://t.co/FM0Ahb6bGD Free event from @UCSBLibrary With activities from #NSFFunded education projects created by @ucsantabarbara and @UChicago https://t.co/ahQOU8EtJt Celebrate #WorldQuantumDay with us tomorrow (April 14) and participate in games and activities designed to build your quantum intuition. Led by graduate students working with EPiQC, Quander, and the Quantum Foundry, the event is free + open to the public. https://t.co/DHbmUJKx7G https://t.co/ahC3YQ5D5E Drop by the Library from 12:30-2:00pm on World Quantum Day Thursday, 4/14 and participate in fun interactive games and activities designed to build your quantum intuition!!!! \\n#quantum #quantumday #gauchos #ucsb #science #ucsblibrary https://t.co/jxhLanQU3G Join us on Thurs., April 14th in Instruction &amp; Training for a quantum  mechanics panel inspired by Ted Chiang's Exhalation: Stories, the  UCSB Reads pick for 2022.\\n \\nEvent is free, open to the public, and will be streamed on the UCSB Library Facebook page.\\nhttps://t.co/vPaMk2j7Oo https://t.co/WNPYB6LaF6 Hancock's California Orchestra performed hits from the 1890s for the launch of our Early Recordings Initiative last week. Watch (or rewatch) the event. Music starts at 42:30.\\nhttps://t.co/mmEWyleyCl Learn how our Early Recordings Initiative - launched in partnership with audio cylinder collector John Levin - is helping to preserve the earliest wax cylinder recordings, dating back before 1903.\\nThank you @KCLUlive @KCLUNEWS  for covering the story!\\n\\nhttps://t.co/erjiyZsVQg We're honored to be one of the recipients of a @CLIRnews  #RecordingsAtRisk grant. The nearly $50k in funding will be used for our project: \"Preserving America’s Radio Heritage: The Recordings of Variety Show Pioneer Rudy Vallée.\" https://t.co/vhty9eShwJ @YeahYeahYuri Thanks for joining us! At the UCSB Library, enjoying the fact that this still exists. https://t.co/sAGReklh1E A big thank you to everyone who supported the Library during #UCSBGiveDay. We reached our goal and then some! #GauchosAreGrateful https://t.co/YURg2Uy0uN We're halfway to our #GiveDay goal! Help us support students with the resources and services they need to be successful at UCSB and beyond. Donate now➡️https://t.co/187DgbtdOe https://t.co/kmbkreHFJc Students come to the UCSB Library to find the community, support, and resources that help them achieve their goals. Be a part of their success by supporting the UCSB Library on Give Day. \\nDonate now ➡️ https://t.co/187DgbtdOe\\n\\n#UCSBGiveDay #GauchosAreGrateful https://t.co/mf6qSbZB9B This research project investigating the Ballitore Collection held by @UCSBLibrary uses archival and computational methods to analyze the collection and introduces students to critical perspectives in the fields of book history, archival studies, and the digital humanities. https://t.co/HeND49smUV This Thursday, witness a live cylinder recording demo and pop-up exhibit of late 19-century phonographs and wax cylinders here at the Library. Register to attend either in person or via Zoom: https://t.co/Lfc90x1O4k\\n\\nThanks @NoozhawkNews for sharing: \\nhttps://t.co/ttSw8S8oyt Colin Hancock is a Grammy-nominated multi-instrumentalist, historian, and recording engineer. On Thursday, he will be here at the Library to demonstrate 1890s live recording technology. Join in person or via Zoom to watch and listen: https://t.co/Lfc90x1O4k https://t.co/j5N1ZN1i7K Celebrating the arrival of Sa’dia Rehman’s new work “The Greater Common Good” @UCSBLibrary https://t.co/j6XptqJDZ3 Announcing the East Asian Information Literacy Tutorial Series, created by Yao Chen (@UCSBLibrary). A series of 13 close-captioned videos ~3-6 minutes long meant to contextualize Information Literacy concepts in the field of East Asian Studies.\\nhttps://t.co/b8kmdPmKfh\\n1/4 Join us tomorrow (April 5) from 5-7 p.m. for a public reception, curator tours, and zine-making in celebration of our exhibition \"A Call to Action: Documenting Santa Barbara's Art &amp; Activism.\" Hear from some of the contributors with featured works. More: https://t.co/RE31QCBiOD https://t.co/CjO8mDPPZw Come join us for hands-on Quantum activities on April 14 -  outreach event at the UCSB library for UCSB Reads. https://t.co/ZWY5WFYcqk Upcoming library events in April https://t.co/HkpNm6ZG7Q One week until our celebration of the launch of the Library's Early Recordings Initiative! 🎶\\nHear 1890s hits performed by Colin Hancock and his 5-piece orchestra and witness a live cylinder recording demonstration.\\n\\nInfo &amp; RSVP here: https://t.co/Lfc90x1O4k https://t.co/z5jkjjPfMW Gaucho undergrads - want a chance to get rewarded for all that time you’ve spent using the Library’s resources and services? Applications open on April 1 for the Library Award for Undergraduate Research.\\n\\nLearn more and apply by the April 30 deadline here: https://t.co/LHE11K5kkR https://t.co/xluDBNazoo Join emLab data scientists @echelle_burns, Gavin McDonald, &amp; Jason Flower for an \"Introduction to Geospatial Raster and Vector Data with R\" workshop with @UCSBLibrary.\\n\\n💻 Remote option: April 7-8 https://t.co/1xulbrnBvm\\n\\n👥 In-person option: April 11 + 13 https://t.co/oGHymkxLdu https://t.co/NIjfsv9pe6 Library workshops for April: R, OpenRefi https://t.co/XjI688Ccpn We're one week away from our celebration of \"A Call to Action: Documenting Santa Barbara's Art &amp; Activism,\" our exhibit featuring works from the Santa Barbara Black Lives Matter Community Archives and the COVID-19 Community Archives. \\n\\nRSVP here: https://t.co/3AymaotlrA https://t.co/pbWXBcsHk9 Thank you so much for your votes! We’re announcing the winner of #ArtofScience 2022 on April 1st!!             Join us : https://t.co/4CPsGkOpsX    #foldingideastogether #artofscience #sciencecom #beauty #research https://t.co/KoQukiLTRs @UCSBLibrary @UCSBengineering @UCSB_CCS https://t.co/gARehIlLyT A new UCSB Collaborate Student Support Center Helpdesk is now open at UCSB Library! It is in the Library Paseo next to the Services Desk and its staff can provide walk-up support for technology questions.\\nMore details here: https://t.co/749c644IRB https://t.co/LrgwpNsCRq #OnThisDay March 28, 1980, the Institute for Theoretical Physics formally opened at the University of California, Santa Barbara. More #KITP + @ucsantabarbara history at @UCSBLibrary's exhibition \"Campus by the Sea”: https://t.co/UzaIGvqa2o https://t.co/gdYpi2LVIS We have umbrellas available for 24-hour checkout at the Services Desk in case you get caught in the rain today. See our full list of technology and other items you can borrow here: https://t.co/qCmWGX30r8 https://t.co/iEh1TroVrF Today, @UofCalifornia observes César Chávez Day, remembering his activism on behalf of farmworkers. We share this piece by Ignacio Gomez, \"Chávez,\" part of the @SHG1970 archives in our Special Research Collections. https://t.co/nW4WgqM3nb https://t.co/9S1KRghxMZ Happy #MelbaToast Day\\n\\n#DYK - Chef Auguste Escoffier of the Savoy created Melba toast. He named it after the Australian opera singer, Dame Nellie Melba\\nhttps://t.co/h4iFHKCdRP\\n\\n#UCSB has some records of Dame Melba available through the @UCSBLibrary \\nhttps://t.co/yRUptfSCt0 https://t.co/XcOUGc1BHY Congrats on your acceptance, future Gauchos! We look forward to being your new home away from home. #NextStopUCSB https://t.co/YZkP34c4kV Library workshops for April: R, OpenRefi https://t.co/QNaCxuJaw6 Research librarians are truly the best. Today I met with @UCSBLibrary's Middle East Studies Librarian, Farshad Sonboldel, to discuss ideas of \"bad poetry\" in the Persian context. Left with a shelf of books &amp; articles to read, and a glimpse into a new corner of the mind. Skilltype’s west coast community continues to grow with @UCSBLibrary launching our software. Go gauchos! 🤠 https://t.co/CtnWukIPIR Mark your calendars for our upcoming events in spring! We've got lots planned, including these and more. See a full list with registration info here: https://t.co/SsJDFOApbq https://t.co/gJRulwVe3V @ominousbosch You can recommend the book for purchase through our form here: https://t.co/9RpKMSeetl We know the Library gets busy during finals week. To plan ahead and see current occupancy in real-time, check out Waitz: https://t.co/mW4JoqT2Ev We’re excited to announce an innovative one-year #OpenAccess agreement pilot for 2022 with @UofCalifornia, which generates nearly 10 percent of all U.S. research output. \\n\\nRead more here: https://t.co/OeVyCPsIcI https://t.co/RT36qyIKq5 Join us today at 4pm for Picture This: From Text to Image, an exhibition of paintings by artists responding to the UCSB Reads 2022 book Exhalation by Ted Chiang, at the Mountainside Courtyard. Enjoy refreshments, view art, and hear from student artists!\\nhttps://t.co/rDDxSdVCyS https://t.co/GnXW0JJd1v Vote for your favorite Art of Science entry here: https://t.co/gHmEBq2uQv\\n\\nSubmissions are displayed in the UCSB Library each year. https://t.co/D4jUWqptZD Prof. Dan Korman has been writing his own textbook for his Intro to Philosophy class and will soon publish it as an open educational resource. Learn more about why he chose to publish his book as an OER and how the Library is helping him: https://t.co/Fu5FrLfccQ\\n\\n#OEweek https://t.co/YFUZv3jxok On Mar. 11 at 4pm, Picture This: From Text to Image, an exhibition of paintings responding to the UCSB Reads 2022 book Exhalation by Ted Chiang, will be held at the Mountainside Courtyard.\\nEnjoy refreshments, hear from student artists, and view art!\\nhttps://t.co/6VEjDhjRj1 https://t.co/tENrtoxR2n Is your campus talking about #InclusiveAccess textbook billing programs? Don't miss this #OEweek webinar by @TextbookBilling tomorrow at 1pm ET to get the facts. https://t.co/j3l01HtwuY Happy International Women’s Day! Check out the display in Ethnic &amp; Gender Studies (2nd floor, Ocean Side), which features items from our digital archives and circulating collections, including the history of Feminist Studies at UCSB. Curated by librarian Heather Nisen.\\n#IWD2022 https://t.co/dpJDODfP5R Tomorrow! Join @SBPLSystem's Fiction Book Club online at 5:30 PM to discuss the UCSB Reads 2022 pick, \"Exhalation\" by Ted Chiang. Register here: https://t.co/VGyDThNmtX https://t.co/miK4gAwR2H It's the start of Open Education Week (March 7-11)! Our librarian @angiechikowero has put together a guide for instructors, students, and staff on Open Educational Resources (OER), where to find them, open licensing requirements, and more: https://t.co/hGD0bx9Ac6\\n#OEWeek https://t.co/4qpXBFrFmD Creative Commons Licenses Deconstructed today, 2-3 Pacific. We’ll assume that you have no prior knowledge and start from scratch. Bring your questions to this #OEWeek webinar: https://t.co/eCcH05P6T9 @cc_unitedstates @skundalib @woulibrary #OEWeekOregon 2,400 Rare Edison Disc #Phonograph #Recordings Digitized and Released Online https://t.co/lBBZ5j7WpX @UCSBLibrary #thomasedison https://t.co/jUd6zA6Nkf In honor of #WomensHistoryMonth and in light of the conflict in Ukraine, our librarian Heather Nisen has put together a list of UCSB Library resources available for check out that focus on women in Ukraine. See the list here: https://t.co/pHUgOg4qfy https://t.co/WvVQuBbsh5 In celebration of #WomensHistoryMonth, read up on Eunice Foote, an early American feminist, inventor, and ground-breaking scientist whose story shows that women have been making important contributions to climate science for a long time. See our exhibit:\\nhttps://t.co/MPVWqqkCtp “For me personally, it is important to know how we are telling a story, who is telling the story, as well as having physical artifacts to represent this time uniquely and well,” said curator Paige Sundstrom of the @UCSBLibrary. https://t.co/ft2n65zf1i UCSB Staff - This Thursday (3/1) from 12-1pm, join the Professional Women's Association (PWA) for a discussion of stories 6-9 of the UCSB Reads 2022 book \"Exhalation: Stories\" by Ted Chiang.\\n\\nRegister here: https://t.co/tiysGJ9ZdG https://t.co/TOnGCseZ7Z \"The exhibit is unique in that it captures an ongoing conversation about the pandemic and anti-racism protests, since these experiences are a part of history as much as they are still occurring.\"\\nMore about our Call to Action exhibition via @SBIndyNews: https://t.co/vdCkb8fKUd In cooperation with @ThomasEdisonNHP, we've helped make 2,400 historic Edison disc sound recordings available online through the Discography of American Historical Recordings. The recordings include rarities such as unissued test pressings. More: https://t.co/OgV8YJdfXt \"UCSB Library Exhibits a Community ‘Call to Action’---Sharing the Experiences of COVID and Black Lives Matter Through Art\" @UCSBLibrary  @SBIndyNews https://t.co/LPQx5XJgth On March 3 &amp; 4, join us for \"Introduction to Reproducible Publications with RStudio,\" an example-driven 2-day workshop for scientific authoring with R Markdown. \\n\\nMore info &amp; registration: https://t.co/YzJnxllqyj https://t.co/YQ19mtaVv1 Congratulations to CLIR sponsor and DLF member @UCSBLibrary on its Grammy award! https://t.co/CxmUaSwKcY We're honored to be a recipient of a 2022 Latin Music Research and Preservation Grant for our work to preserve materials of Astor Piazzolla, a popular composer of tango and Latin American music. https://t.co/pNfluYlcAo Interested in scientific authoring with #Rmarkdown? If you are affiliated with UCSB, join emLab's @echelle_burns + @UCSBLibrary March 3-4 for an \"Introduction to Reproducible Publications with RStudio\" workshop. Register: https://t.co/pWQgFR1V7Y https://t.co/uhinteiJT1 TOMORROW, Bard College’s Prof. Maria Sonevytsky will present a lecture, TOTAL STIOB: Comedy, Irony, and Parody in Late Soviet Ukrainian Punk Rock, Feb. 23, 3:30 pm PT, in Seminar Room 2406 of the UCSB Music Library! More info: https://t.co/bU1PiBYvPY https://t.co/8LnMWLTPKL Art of Science submissions are due this Friday! We can't wait to see the images of beauty in your research.\\nMore: https://t.co/wySVW56YvP https://t.co/AYcDObWX5S 🎉You can now check out zines from the Library! What is a zine? Watch to learn more and then visit this link: https://t.co/3fOL618r0W https://t.co/9Nl9gcE9Uf What is responsible artificial intelligence?  After our Pacific Views event exploring this question w/ @WilliamWangNLP, @KCSBNews did a follow-up interview to explore this question and what @ucsbcs's  program has done for the progression of the technology: https://t.co/xHWXgvB9hk Building update: All Library entrances are open again. Mask use remains mandatory for users, in accordance with campus policy. We’re delighted to announce a 3-year open access agreement with the University of California, providing researchers from all ten @UofCalifornia campuses unlimited OA publishing and full read access across all Biochemical Society journals. Read more: https://t.co/8B95zMwcX0 https://t.co/gqcmCJHZa8 @kbrenmc @UWPsychology @UCSB 🎉🎉🎉 Tomorrow don't miss @TimDewar1 as a panelist for a “Teaching the UCSB Reads Book, 'Exhalation: Stories' by Ted Chiang” webinar. https://t.co/EGzMQTkPmT @UCSBLibrary https://t.co/yhXi795DwH Happy Valentine's Day! We're sharing a work by artist Xóchitl Gil titled \"A Secret Garden\" from the Self-Help Graphics and Art Archives @shg1970 in Special Research Collections.\\n\\nView the image and learn more about the piece:\\nhttps://t.co/MRsKFwCdvM https://t.co/HS7nR0Kpxv New open access agreement between the University of California and The Biochemical Society / Portland Press - Office of Scholarly Communication https://t.co/nlFECJWUYI It's UC Love Data Week! Don't miss great programming from lovers of data science across all the UC campuses. 💙💛📊 https://t.co/ZcDQuO8X8L UC Love Data Week is underway! Tune in at 4 p.m. today to hear our Research Data Services staff present \"How Not to Lie with Data: Trustworthy Data Storytelling\"\\n\\nInfo on that event and more here: https://t.co/qeZtvxnBSI Do you find beauty in your research? We want to see! Two weeks until submissions are due for this year's Art of Science Competition. The winning entries are displayed in the Library. More info: https://t.co/wySVW56YvP https://t.co/Cs3sICeQYd Coming up next week: \\n\\n◾️Intro to R Workshop\\nFebruary 15, 17, and 18, 4-7pm (register by February 13)\\n\\n◾️Zotero Basics Workshop\\nFebruary 17, 10-12pm\\nAdditional sessions: February 2 and March 1\\n\\nMore info: https://t.co/wTV3aA4x9f Have you seen the Black History Month display in Ethnic and Gender Studies yet? It features primary source materials related to the North Hall takeover of 1968, the formation of the Black Studies Department at UCSB, as well as books by Black authors with local ties. Check it out! https://t.co/476j1drCDn Love is in the air next week during a series of presentations and workshops focused on data access, management, security, sharing and preservation: https://t.co/rtozQaR2xH\\n📈💘 📊\\nAll members of the @UofCalifornia community are welcome to attend! #LoveData22 https://t.co/38XPlFcvBo Do you *love* data? 📈😍💖📊\\n \\nNEXT WEEK (starting Valentine’s Day), celebrate Love Data Week with free workshops on:\\n \\n💘 Data ethics + justice\\n💘 3-D data + visualization\\n💘 ICPSR\\n💘 GitHub\\n💘 Python\\n💘 R\\n💘 MORE!\\n \\n🗓 Feb. 14-18\\n🔗 https://t.co/luLy9ozFxH #LoveData22 https://t.co/Xg7cC1shd2 \"I felt a mixture of emotions when I left the exhibit. Happy. Frustrated. Nervous. Yet, the curation team succeeds in making any visitor leave with a profound sense of knowledge and empathy.\"\\nLearn more about our \"Call to Action\" exhibit via @tblucsb \\nhttps://t.co/Z5l5ncIaWu Our UCSB Reads Faculty Panel for \"Exhalation\" is today at 4pm! Join us for an interdisciplinary discussion of Ted Chiang's book with panelists Rudy Busto, erin Khuê Ninh,  Misha Sra, Sharon Tettegah. Moderated by David Weld. \\nRegister here:\\nhttps://t.co/pDuc2j7ePn https://t.co/1YQ1aKUCcb You can check out most of these titles from our Library and use Interlibrary Loan for the few we don't have. Start here: https://t.co/0w9GH22yy2\\n\\n#BlackHistoryMonth \\n\\nhttps://t.co/W5gWkCglVo The UCSB Reads Faculty panel discussing Ted Chiang's \"Exhalation\" is tomorrow (Feb 8) at 4pm. We hope you join us for this interdisciplinary discussion!\\nRegister here:\\nhttps://t.co/pDuc2iPDqN https://t.co/FsUpqiGM7F The giveaway is the first of a number of events in the 2022 UCSB Reads program, culminating in an in-person discussion with author Ted Chiang in Campbell Hall on May 10.\\n\\nhttps://t.co/ClIz6rFTXi UC Santa Barbara Library Showcases Art Made Behind Bars\\n\\nUCSB’s Underground Scholars Collective Curated the ‘Beyond the Wall’ Exhibit https://t.co/TYb2a3fMkV @SBIndyNews https://t.co/bNwWMSkXLK Join us 2/8 for an interdisciplinary discussion of the #UCSBReads2022 book \"Exhalation\" by Ted Chiang w\\n◾️Rudy Busto @UCSBReligion\\n◾️erin Khuê Ninh @UCSB_ASAMST\\n◾️Misha Sra @ucsbcs\\n◾️Sharon Tettegah @CenterUCSB\\nModerator: David Weld @UCSBPhysics \\nRegister: https://t.co/pDuc2iPDqN https://t.co/vVYr0MGGuq This #BlackHistoryMonth, the @UofCalifornia honors and reflects on the contributions of Black Americans to our campus, nation, and the world. Read the full statement from @UCPrezDrake. https://t.co/lWWVAZahxe https://t.co/Wo9z2hs9bJ Happy Lunar New Year! We welcome in the Year of the Tiger 🐯\\n\\nImage from the Prigoff (James) slide collection, California Ethnic &amp; Multicultural Archives, UCSB Library https://t.co/B7TLVqpyhp https://t.co/ZPEDF4PrpS \"What Is Responsible AI?\":\\nA talk in UCSB Library's Pacific Views Series, which was also tied to UCSB Reads 2022's selected book, 'Exhalation: Stories' (by Ted Chiang). I missed the talk on Tue. 1/25, but was able to view its recording. ... [1/2]\\nhttps://t.co/7eqIHqsN1p Giveaway update: We are out of free copies of the UCSB Reads 2022 book \"Exhalation.\" To learn more about upcoming events related to the book, visit our guide here: https://t.co/o0oJs0ZuZ3 This book is great https://t.co/DB2tiMeE2e 🕙One hour until the book giveaway begins! All UCSB students are welcome to pick up a free copy of the UCSB Reads 2022 book starting at 10 a.m. outside the West Paseo entrance. https://t.co/cRPT0Hnclm I began listening to the audio version this morning. Looking forward to it! https://t.co/hA46FNR9Az \"a collection of short stories may help me ease back into the habit of reading,\" writes Caitlin Henderson for @WORDMagazine regarding the #UCSBReads 2022 pick, \"Exhalation.\" Read her article about getting back in the habit of reading for fun (pg 63 &amp; 64): https://t.co/0f5WiPwmcD https://t.co/EL7oWmzGVl Exciting to see UCSB Reads on the front page of today's @sbnpnews! A recap of @WilliamWangNLP's lecture last week entitled \"What Is Responsible AI?\" - the kick-off event for UCSB Reads 2022, our campus and community-wide reading program.\\nhttps://t.co/daCAKBMbPK https://t.co/geaBAZdzbr Dr. William Wang, associate professor of computer science and co-director of the natural language processing group at UCSB, gave a virtual lecture on Tuesday entitled What Is Responsible AI? \\nhttps://t.co/eUYCqM0feS https://t.co/4w1rW18Z7a All #ggse students--don't miss the chance to get your free UCSB Reads 2022 book tomorrow. https://t.co/C9gq4wdudl UCSB students: Swing by the campus library tomorrow for the UCSB Reads Book Giveaway and gab your free copy of \"Exhalation\" by Ted Chiang. Available to students starting 2/1 at 10 a.m., while supplies last. 📚 https://t.co/FEMPPRJx5y UCSB Reads 2022 book giveaway for students is happening tomorrow! Come to the Library's West Paseo entrance starting at 10 am to pick up a copy of \"Exhalation\" by Ted Chiang. Books available while supplies last. https://t.co/5VLlpXQ3UN Aerial view of the Venice coastline, January 1, 1928. \\n\\nThe image features the famous Kinney Pier, Venice's primary attraction until its demise in the 1940s — as old-timey amusements gave way to entertainment tastes of the modern age.\\n\\nSource: UCSB Library collection. https://t.co/GiA6WusRQ3 With campus resuming in-class instruction, we are back to regular hours and open to all patrons, including visitors. We continue to require a COVID-19 clearance badge. Users must continue to enter through the Mountain Entrance and exit through Paseo West. \\nhttps://t.co/TtESFMrn0l \"We are not bad people, we’ve just made bad choices. Art helped me heal by allowing me to escape reality for a couple hours a day.\" \\n\\nRead the @dailynexus feature on our latest exhibit featuring art made by incarcerated people: https://t.co/5SMQLqWCad This week, @RepCarbajal got a tour with the curators of our new \"Beyond the Wall: The Prison Art Resistance\" exhibit, featuring art by currently imprisoned persons who are part of the @UofCalifornia Underground Scholars program. \\nSee the exhibition online: https://t.co/kOZ1JBrTJG https://t.co/q9qZLWwCpF Book giveaway! All UCSB students are invited to pick up a free copy of the UCSB Reads 2022 pick: \"Exhalation\" by Ted Chiang starting at 10 a.m. on Tuesday, Feb. 1. Come to the West Paseo entrance to get a book. Available while supplies last. https://t.co/pFkaYc68f7 Borchard Foundation Grant Will Help Digitize Rare Art Exhibition Catalogs | UCSB Library https://t.co/foUryezzLR Less than a week until one of our favorite events of the year - the UCSB Reads book giveaway! 📚🎉\\n\\nAll UCSB students are invited to pick up a free copy of this year's pick, \"Exhalation\" by Ted Chiang. The giveaway starts at 10 a.m. Feb. 1 outside the Paseo West entrance. https://t.co/SrM2xsXHL1 The display commemorating civil rights leader Martin Luther King Jr continues to be updated with materials from our archive and circulating collections. It’s up for one more week in Ethnic and Gender Studies. Come check it out! https://t.co/3gTCz6Tcdt William Wang’s Lecture on Artificial Intelligence Launches UCSB Reads 2022 - Noozhawk\\n\\nRead more here: https://t.co/rJmrSmIb9s\\n\\n#ArtificialIntelligence #AI #DataScience #100DaysOfCode #Python #MachineLearning #BigData #DeepLearning #NLP #Robots #IoT Join us today at 4 p.m. on Zoom to hear @WilliamWangNLP discuss advances in Artificial Intelligence (AI) and new challenges for building human-centered AI technologies. Register here: https://t.co/x75RBhpNs6 https://t.co/iJumTb4GbC \"Incarcerated individuals do not receive art supplies or any of the typical tools you would find in a classroom...So, artists in prison have to find creative ways to express themselves with unconventional materials\" \\n\\nLearn about our new exhibit: @hfaucsb  https://t.co/LyTjqzhAve The @UCSBLibrary exhibition, “Beyond The Wall: The Prison Art Resistance,” opened last week, featuring art created by incarcerated individuals. It invites UCSB students to learn more about the programs that support their pathway from prison to university. https://t.co/hJ9bShqi9U Prof. @WilliamWangNLP's Pacific Views virtual event is tomorrow (Jan 25)! Join us at 4pm to hear him discuss recent advances in AI and the new challenges of building human-centered AI technologies.\\nhttps://t.co/x75RBh8cAy https://t.co/4SL88tP2Bd You can also register directly at this link: https://t.co/x75RBhpNs6 \"There is great promise and potential in artificial intelligence (AI), but if such technologies are built and trained by humans, are they capable of bias?\\nAbsolutely, says @WilliamWangNLP\" \\n\\nJoin us tomorrow for his talk! Registration link in paragraph 2:\\nhttps://t.co/Ds6HA8ksrS The university has reaffirmed its plan to resume in-person instruction on January 31, 2022. Details can be found in Chancellor Yang's latest memo to the campus community. https://t.co/UxscwfKzP2 https://t.co/UXGH6y88o1 New exhibit up this week featuring art pieces by people currently incarcerated. Curated by members of Underground Scholars Santa Barbara, check it out and learn more about their work building a prison-to-university pipeline. The exhibit is on the 1st floor, Mountain Side. https://t.co/yyErwSSIoe Join the @UCSBLibrary &amp; @WilliamWangNLP as he discusses recent advances in AI and outlines the new challenges for building human-centered AI technologies. Register now: https://t.co/byazJ91YMf https://t.co/lOA3WlzExc Looking forward to hear @WilliamWangNLP's views on responsible AI on Jan 25 4pm PST. https://t.co/GHuIBpSs0V @lileics @WilliamWangNLP Glad you'll be joining us! A non-technical discussion about the challenges and opportunities of responsible AI. https://t.co/OgZnwH1A5I Today's the day! Join us at 4pm for the opening event for the new “Beyond the Wall” exhibition.  The event will include a panel discussion from its curators in the UC Underground Scholars program. Register for the Zoom link here: https://t.co/olAkMqJucr https://t.co/Sjx9cyt5kE All UC affiliates are invited to celebrate Love Data Week with us Feb 14-18. UCSB Library will be hosting two workshops:\\n◾️Handling Sensitive Data in a Sensible way\\n◾️How not to lie with Data: Trustworthy Data Storytelling\\nVisit https://t.co/wAaOvmvZgK for details &amp; registration. Join us at the opening event for \"Beyond The Wall: The Prison Art Resistance\" tomorrow, Jan. 19, at 4pm on Zoom. Register here: https://t.co/olAkMqJucr\\n\\nThe event features a panel discussion by curators from the UC Underground Scholars program, moderated by Prof. Vickie Vértiz. https://t.co/C6r8RZ2mjR The @UCSBLibrary's Cylinder Audio Archive stores information about titles that appeared on cylinders in this period, &amp; where possible, offers digitized audio from the recordings. Here, you can listen to that 1912 version of \"Nearer My God To Thee\": https://t.co/EKD8MIIS8o (11/13) This month, @UCSBLibrary honors Martin Luther King Jr. and his legacy with a commemorative exhibit. It includes items from archival and circulating collections, and will be on display through January 31. #MLKDay\\n\\nhttps://t.co/SIVujMd01n https://t.co/hLq7Adxc0H As we head into MLK weekend, be sure to stop by our display in the Ethnic &amp; Gender Studies collection featuring Library resources about Martin Luther King, Jr. All materials on display are available for check out. https://t.co/a8l3DaDAdL Attn UCSB Students: We will be giving out free copies of the #UCSBReads2022 book starting at 10 AM on Feb. 1 outside the Paseo West Entrance. \"Exhalation\" is a collection of nine science fiction short stories by Ted Chiang. Don't miss it! https://t.co/45OP3bbxXx Join us virtually in two weeks to hear Prof. William Wang @ucsbcrml @ucsbcs discuss recent advances in AI and outline the new challenges for building human-centered AI technologies.\\nRegister now ➡️https://t.co/Prb8WizoSG https://t.co/HJvxnDTASX The latest issue of our monthly newsletter \"Crossroads\" is out! Info on our hours and services during remote instruction, new exhibits, and more. View it here: https://t.co/kTK6RqftEX Join us virtually next week for a discussion with the curators of our new exhibit featuring art donated by currently imprisoned persons who are part of the @UofCalifornia Underground Scholars “Behind the Wall” program. \\n👉Register here: https://t.co/oYsI2iaoBN https://t.co/aQIabyIETt Final tweet for the day:\\nLet's all support #UCSBReads &amp; @UCSBLibrary for providing a community reading experience. The #UCSBReads2022 pick 'Exhalation' will be discussed in panels &amp; other special events over winter &amp; spring, culminating in an author talk on Tue., May 10, 7:30 PM. https://t.co/OqJ6i2rT4G Submissions are open for the annual Art of Science competition. If you are a UCSB undergrad, grad, or post-doc, capture an inspiring image of your research and submit it by Feb. 25. We love displaying these amazing images in the Library each year! More: https://t.co/wySVW56YvP https://t.co/6kxWc6cuBT 60,000 Digitized Sound Recordings from UCSB to Enter the Public Domain | UCSB Library https://t.co/dIBb8UXfIH During the remote instruction period from Jan. 3-17: \\n👥Only UCSB affiliates can access the Main Library\\n🚫Food is not allowed\\n1⃣Only one person can use a Group Study Room at a time \\n💻Library instruction &amp; research consultations will be virtual\\nMore: https://t.co/UE1UOZrdP3 @jessamyn The Library will be working in the coming weeks to make the public domain recordings in the DAHR &amp; the UCSB Cylinder Audio Archive downloadable. We hope to include a feature to limit searches to public domain recordings. (Currently in DAHR you can facet by 5-year increments.) Audio recorded before 1923 entered the public domain on Jan. 1. Hear our Performing Arts Archivist David Seubert discuss this exciting occasion with @NPR at 1:23. https://t.co/47wBCGfOwx @jessamyn Checking in with our Performing Arts Collection team! Library updates effective Jan. 3-17: \\n🕖Reduced hours: https://t.co/6G02otPTSJ\\n\\n🚪Users must enter the Main Library through the Mountain Side entrance and exit the Paseo West.\\n\\n✅Upon entry, patrons will be asked to present a green clearance badge.\\n\\nMore: https://t.co/bp0aJgEJKW \"Archivists estimate that Americans made several hundred thousand home recordings over the first few decades of the 20th century. Most are lost. The UC Santa Barbara Cylinder Archive has more than 650.\" \\nThanks for sharing @NPR. Listen to their favorite: https://t.co/Jw063bNWv9 Welcome back, Library users! Because instruction is remote for the first two weeks of the quarter, we've made some changes to our hours and services. Details here: https://t.co/UE1UOZrdP3 For the first time in history, sound recordings from the invention of records thru 1922 are entering the US #PublicDomain. In this blog, we explore some of the gems &amp; crazy finds. https://t.co/LQ2KT6UMis Happy #PublicDomainDay! 60,000 of our digitized sound recordings have entered the public domain today thanks to the Music Modernization Act. More: https://t.co/NILI755qm6 Our vast collection of early sound recordings  is one of the treasures of our archive and we're excited that our work to digitize them means 60,000 of those recordings will be added to the public domain on Jan. 1. More: https://t.co/NILI74NPuy To all who celebrate: ¡Feliz Navidad! \\n\\nImage by artist BAS from our Royal Chicano Airforce archives from the California Ethnic and Multicultural Archives in our Special Research Collections\\nhttps://t.co/W2hUXsEebM https://t.co/JRIHlqfLjp Happy Holidays! We hope you all are enjoying winter break. \\n\\nImage: \"Herd Enlightening the Way to Holiday Cheer\" from RT Livingston's HERD AROUND THE WORLD project. Livingston's art and archives are housed in our Special Research Collections. https://t.co/5klg35IgmG https://t.co/xGU0FrcDVm We're 10 days away from a historic #PublicDomainDay (Jan. 1) when pre-1923 sounds recordings will enter the public domain for the first time, including 60,000 of our digitized recordings. More: https://t.co/NILI74NPuy Want to relive the magic of Christmases long long ago? Listen to holiday recordings from our Cylinder Audio Archive 🎶https://t.co/m1dRx3P1VH As of 6:27 pm, Chancellor Henry T. Yang has sent an email to UCSB’s campus community confirming the university will transition to two weeks of remote instruction at the beginning of Winter Quarter 2022. Thanks, @hfaucsb for spreading the word about the Call to Action exhibition, which highlights the Santa Barbara community’s experience during the pandemic. \\n\\nRead the article: https://t.co/ozbYXlWJ2G Check out these tutorials on East Asian Information Literacy from our subject library Yao Chen (@UCSBLibrary)! https://t.co/IA4YUkxoN7 Our \"A Call to Action\" exhibit highlights the creative ways people have been coping with two of our biggest recent collective experiences: the COVID pandemic and the Black Lives Matter movement. Read more and come view it on the 3rd Floor, Mountain Side: \\nhttps://t.co/aReko4821R Earlier today 🌈 https://t.co/8v0oaHGOYh UCSB Library now has access to @browzine, a service that lets you browse the complete issues of e-journals that the Library subscribes to, just as if you were flipping through the pages of a physical copy. \\nLearn more: https://t.co/2tM2BvW1Tv https://t.co/8vM6KvWmvS The 5th floor of the Library is closed to patrons today through December 15 for renovations. If you need access to East Asian collection materials on the 5th floor during the three-day closure, Access Services staff can retrieve them for you.\\nMore: https://t.co/rLQ7QIc5sT Audio from the Lou Cannon Rodney King papers in our Department of Special Research Collections was used for the latest episode in this @Slate Slow Burn series. https://t.co/wvEgPzAq9O We're in the home stretch — just a few days left of Finals Week before the winter break. Keep it up, Gauchos! https://t.co/axsAIHbIbB @UlrikeKlinger @ucsbcits Thanks for visiting! Great library (with a view!) and an inspiring day on campus. Nothing more needed to make this scholar happy 🌞📚 @UCSBLibrary @ucsbcits #perfectday https://t.co/yiDkUf8Sa2 The Waitz app shows the current occupancy levels in the Library. It may help you find a less crowded area to study. Check it out here: https://t.co/mW4JoqT2Ev https://t.co/XNf5cZ9TS8 UC Library Search: required updat https://t.co/krydoXjm4F Thanks for including the news about the recent donation of early opera recordings to our collection! https://t.co/ck8SPZOrEO Honored to be included in this article featuring institutions with substantial collections of relevance to the history of audio recording in the Middle East alongside AMAR Foundation;  Nawa Institute; @cmam_tunisie; and @britishlibrary https://t.co/w1WvCH2t3N Did you know you can connect Google Scholar to UC Library Search so you can: \\n◾️quickly navigate from an article or book citation to the actual publication\\n◾️ easily request an item through Interlibrary Loan using your NetID &amp; password\\nHere's how: https://t.co/UdghcUBYK4 Valuable Early Opera Recordings Collection Donated to UCSB Library https://t.co/aHTG0N4Ky9 UCSB Google Scholar users - to access the full text of materials, you need to add \"Get it at UC\" as a Library Link in your Google Scholar settings. We show you how in this video. More details here: https://t.co/GSDyvmHnrM https://t.co/YkOJg1pXkI It's study break time! Head over to the @UCSBLibrary  to enjoy some snacks, yoga, and origami. #UCSB #ONDAS #FirstGenBoost https://t.co/NzkzLy5mIk You deserve a Study Break. \\n\\nCome visit us in Instruction &amp; Training Room 1312 (1st floor, Mountain Side) today from 12-3pm for naps, meditation, and snacks! https://t.co/FhECbD52sG Take a break from final prep and join us at Study Break!\\n\\nOn Dec. 2nd from 12-3pm, meet us in Instruction &amp; Training 1312 (1st floor, Mountain Side) for naps, meditation, and snacks. https://t.co/WGt7RkgWD7 Why do archives matter? Check out this summary of our recent event with @albardach and Lou Cannon, who both decided to house their collections at UCSB so the materials could be easily accessible to researchers and the public: https://t.co/MYC4ztr1zW  via @hfaucsb Need a break from studying? Come to the Transfer Student Center to paint on mini canvasses! #UCSB #ONDAS #FirstGenBoost https://t.co/c6iaEMdPbO Have you seen the new art piece by @JaneGottlieb1 in the Paseo? Check out this timelapse of the installation. https://t.co/eeTvNlT3iH Journalists Ann Louise Bardach and Lou Cannon recently donated their career archives to the @UCSBlibrary. Read about their time reporting on the likes of Fidel Castro and Ronald Reagan, and their optimism for the future of journalism, below.\\nhttps://t.co/qPSbwUBLhu 🎉🎉🎉 https://t.co/24a3kgVJfq 🧢 Hat's off to @UCSBLibrary's David Seubert, who has digitized &amp; made downloadable 10,000 cylinder recordings -- sharing knowledge that enhances all collections, including ours: https://t.co/VcXhz3u10k https://t.co/KC6DymMVsD A Hero of the @great78project is the Discography of American Historical Recordings at UCSB led by David Seubert\\n\\nThis catalog of early 78rpm records is stunning-\\nNow EVERY Edison record we have (4,500!) has a date https://t.co/KyZBceG8dm\\n\\nPublic Domain Day this year will be Fab! https://t.co/up7HkXYmrp The Library will close at 5pm tonight for Thanksgiving break. We will be open this Saturday from 10am-9pm, and will reopen again on Sunday at 10am. See hours here: https://t.co/pk8Y0dYDzf “The book’s exploration of humanity's relationship with technology will have us all discussing, debating, and pondering the many questions it raises.\" \\nLearn more about the UCSB Reads 2022 pick, \"Exhalation\" by Ted Chiang via @NoozhawkNews  https://t.co/qT9gkf560G @JacquelynGill John Perlin helped co-curate an exhibit for us about Eunice Foote in 2019. You can view the online version here: https://t.co/MPVWqqkCtp Thanks for reviewing the UCSB Reads 2022 pick, @BehroozParhami! We're looking forward to reading it with the campus and community. https://t.co/IfCjsoG33W Another glimpse from our new exhibit. Come to Special Research Collections (3rd floor, Mountain Side) to view “A Call to Action: Documenting Santa Barbara’s Art &amp; Activism” showcasing works donated to our COVID-19 &amp; Santa Barbara Black Lives Matter Community Archives. https://t.co/V0H6lqsNff We're getting excited about #UCSBReads2022! Learn more about this year's pick, \"Exhalation: Stories\" by Ted Chiang. UCSB students - save the date for the book giveaway on Jan. 11: https://t.co/KdHmAAPL4q It's #GISDay! Did you know the Library's Interdisciplinary Research Collaboratory supports and distributes the Esri ArcGIS suite of software to the UCSB community? Learn more: https://t.co/cqg5RnE8ab Today's the day! Come watch William Wang and Kai-Fu Lee in \"AI and Our Future: A Conversation with Kai-Fu Lee,\" starting at 4pm!\\n\\nRegister Now:\\nhttps://t.co/ENHTI3jYlv https://t.co/Ljjk6l2IFQ Happening tomorrow! Register now for Kai-Fu Lee and William Wang's virtual conversation regarding Artificial Intelligence. \"AI and Our Future: A Conversation with Kai-Fu Lee\" begins at 4pm, Nov. 17.\\nhttps://t.co/W2xuwiO7Rl https://t.co/pidtdDAnJ0 Hey @ucsantabarbara GIS users! Want to know what @Esri GIS resources are available to you?  Check out our webinar where Esri Staff and @UCSBLibrary \\nhttps://t.co/rdJ7WVWEuM\\n@UCSBgeog @spatialUCSB @SPARlabUCSB @moveucsb Join us at 4pm on 11/17 - William Wang and Kai-Fu Lee will host their virtual conversation surrounding Artificial Intelligence in their event: \"AI and Our Future: A Conversation with Kai-Fu Lee.\" \\n\\nRegister Now:\\nhttps://t.co/TySckEiXYv https://t.co/4iwgPy6A7q Thanks @tblucsb for the recap of our Pacific Views lecture presented by @emilyjacobs.  \\nhttps://t.co/wmkXxyRUtn Our new exhibit is ready for visitors! Come to Special Research Collections (3rd floor, Mountain Side) to view “A Call to Action: Documenting Santa Barbara’s Art &amp; Activism” showcasing works donated to our COVID-19 &amp; Santa Barbara Black Lives Matter Community Archives. https://t.co/bL1FpVpdoD “Postcards from Salinas” is a collection of restored photographs of Filipinx Americans in the Salinas Valley from 1920 to 1940, all taken by Filipino photographer Narciso Bulosan Caliva.\\nvia @dailynexus #DaelynEinhorn\\nhttps://t.co/UPLY6GUMJR Tomorrow (11/5) is the last day to visit the Día de los Muertos display in our Ethnic and Gender Studies Collection (2nd floor, Ocean Side).\\n\\nDedicated to those who passed away the last year, you can honor your departed loved ones by adding their names to the nearby notepad. https://t.co/fiaITbWcgL Big thanks to @ucsantabarbara's Feminist Futures Initiative for hosting this event at the @UCSBLibrary. I can't *wait* to join forces.  https://t.co/hBfy7x6Kbo Come by the Ethnic &amp; Gender Studies Collection this week to check out our Día de los Muertos display. You can honor a loved one by writing their name on the notepad nearby. https://t.co/tlEFNmbcks https://t.co/esmZVkX3hX A fitting selection for today from our @UcsbA Cylinder Audio Archive: \"Halloween Dance\" by Hans Engelmann and the American Symphony Orchestra, 1909. Listen here: https://t.co/VdsoSd90qp god i love the ucsb library \\n\\ni found an excerpt from a book researching for my greek myth paper and i wanted to read more, so i checked and the library just had it!! it was just there!!! like not even 200 feet from where i was already studying!!!! How do researchers benefit from #openaccess? \\nBriefly, it widens your audience and academic recognition; opens up opportunities for collaborations; and contributes to equitable knowledge advancement\\nLearn more: https://t.co/SSzogcP6oM #OAweek #OpenScholarship\" This year, #openaccess week highlights the work being done to build structural equity. To learn more about how the global community is supporting OA initiatives in different geographic regions, visit https://t.co/3WDU89OYxE  #OAweek #OpenScholarship THIS IS NOT A DRILL. TED CHIANG’S EXHALATION HAS BEEN SELECTED AS OUR CAMPUS READ. \\n\\n(Thank you @UCSBLibrary , what a gift!) @KMaeBrown @delennjadzia It's really real! https://t.co/6zsPebOnqW The wait is over! We are pleased to announce the 2022 UCSB Reads book 🥁🥁🥁 \\n\"Exhalation: Stories\" by Ted Chiang, a collection of nine science-fiction short stories about free will, fate, bioethics, time travel, virtual reality, cyborgs, and AI.\\nMore: https://t.co/6zsPebOnqW https://t.co/4J4UxcdLy2 Great to see COPIM programmes and reports mentioned in this post (including Opening the Future at both @CEUPress and @LivUniPress).\\n\\nA really useful explainer for libraries who want to understand the new models that are out there to support #OpenAccess books (beyond the BPC...) https://t.co/X8rLCPzTOW A nice review by @BehroozParhami of yesterday's Pacific Views lecture presented by @emilyjacobs. \\nhttps://t.co/rSHUgZ0eVf \\n\"Listening to the recorded version of Dr. Jacobs' talk has my highest recommendation.\"\\nWatch the recording here: https://t.co/XvPmiC0mCu (starts at 8:22) eScholarship is the UC #openaccess repository for scholarly communication. We at the Library can help you learn how to use this service to be in compliance with the UC OA Policies. Learn more: https://t.co/WbciK9aJO0 #OAweek #OpenScholarship\" We’re excited to host @emilyjacobs for our first Pacific Views Series lecture of the year “The Scientific Body of Knowledge - WhoseBody Does it Serve?” Watch live on our Facebook page: https://t.co/SfUYYyyJ0s https://t.co/OeBmKXoR9L We cannot wait to see you today at our Pacific Views Event at 4pm!\\n\\nIf you aren't able to attend in person, there is a livestream link on our Facebook page: https://t.co/ZIxY1otPPF https://t.co/eLRseO3imH Participate in open access at UC!\\n#openaccess rights and responsibilities at UC extend to authors employed at UC as faculty, non-senate researchers, lecturers, post-doctoral scholars, staff, librarians, &amp; graduate students. More: https://t.co/cr0LtKWf04 #OAweek #OpenScholarship Join us at 2 p.m. today (Oct. 25) to learn what we're doing to advance open access in book publishing as well as educational resources. A reception will follow. Learn more &amp; RSVP here: https://t.co/1V1cxocMcr\\n\\n#OAWeek #openaccessweek2021 Over the decades, there has been relatively little research on the female brain. @emilyjacobs, associate professor of psychological and brain sciences at #UCSB, explains this discrepancy. 🧠 https://t.co/eBDeiTA4VV Happening tomorrow: \\n\\nA Pacific Views Series talk by @emilygjacobs, Associate Professor of Psychological &amp; Brain Sciences at UCSB. \\n\\nMore info at: https://t.co/8obG9ebmb0 https://t.co/mjQr34VaVl Celebrate Open Access at UCSB Oct 25-29!\\n#OAweek is a global event to celebrate achievements and promote open scholarship and research. Join us for activities at the UCSB Library and help spread the word! Learn more: https://t.co/zb4fNajBoU #OpenScholarship #openaccess Open Knowledge: Access, Infrastructures, and Educational Resources at UCSB | UCSB Library https://t.co/TdI40eSM1l US history (1920s-1930s): \\nA few panels from UCSB Library's exhibit \"Postcards from Salinas.\" https://t.co/37nGh9bkHx Missed our \"Postcards from Salinas\" panel discussion yesterday? Watch the recording to learn more about the history of Filipinas/os in the Salinas Valley, 1920-1940 https://t.co/OtGr5nJDPb Join the UCSB Library for Open Access Week https://t.co/azebM6mRVT Over the decades, there has been relatively little research on the female brain. Neuroscientist @emilyjacobs will discuss the understudied topic of women’s brain health at our fall Pacific Views lecture at 4 p.m. on Oct. 26. More info: \\nhttps://t.co/HnAQ7HZxO2 @UcsbCalpirg - The OER presentation may be of interest to your members. We hope you join us! Join us Oct. 25 to learn about #OpenAccess at UCSB. \\n\\n◾️UCSB Library &amp; @COPIMproject \\nW/ @EileenAJoy of @punctum_books &amp; Lidia Uziel\\n\\n◾️ Assessing Open Educational Resource Needs for High Enrollment Classes at UCSB\\nW/ @angiechikowero\\n\\nMore info: https://t.co/1V1cxocMcr https://t.co/OeMv53X5IG We're ready for #OpenAccessWeek next week! Come visit our table M-F noon-1 p.m. in the Paseo and join us for two special presentations on Monday, Oct. 25 at 2 pm about how we're advancing open access at UCSB. More info: https://t.co/1NGfDGfKG2 https://t.co/YmCKmIIsU0 UCSB faculty and grad students - The data science community at UCSB is hosting a free Data Science Summit on Dec. 3 to help identify strategies for facilitating an interdisciplinary, collaborative future for data science at UCSB.  Learn more and sign up: https://t.co/ga4mt0nqwD @SensuousGourmet 🎉🎉🎉 For the first time, @UCSBLibrary will be featuring “Postcards from Salinas,” a collection of restored photos featuring Filipinos in the Salinas Valley, 1920-40. These photos are on display on the first floor of the ocean side of the library. #FAHM https://t.co/Z1aAb4Ac2b Happening today, 10/20, @ 12pm -- panel discussion featuring our own Dr. Ben Zulueta as part of #FilipinoAmericanHistoryMonth! Register online: https://t.co/1nkZoYpXXe https://t.co/kIqZhtBL93 Have you seen our \"Postcards from Salinas\" exhibit yet? Meet the curator at our virtual event tomorrow (10/20) at noon and learn more about the history of Filipina/o Americans on the Central Coast. Register here: https://t.co/G29BFkOdtn\\n\\n#FilipinoAmericanHistoryMonth https://t.co/JOmsceBp5I Have you seen our \"Postcards from Salinas\" exhibit that highlights Filipina/os in the Central Valley from 1920-40? Don't miss out on the virtual panel discussion this Wednesday at noon with the curator and other experts. More:\\nhttps://t.co/vvarZM0Z9d Register now for Wednesday's panel discussion about the history and contributions of Filipina/o Americans on the Central Coast: https://t.co/G29BFkOdtn\\n\\n#FilipinoAmericanHistoryMonth https://t.co/r3ifgObJLh As #HispanicHeritageMonth comes to a close, don't forget to take a look at the resources we have about the Hispanic American experience in the U.S., including online exhibitions and many digitized archives of Latinx &amp; Chicana/o art: https://t.co/hEWusQywQM This week in our @ucr_history Historian as Detective class, we are doing primary source analysis by exploring the amazing archive of the Royal Chicano Air Force housed in the @ucsblibrary &amp; @calisphere\\nHere’s the 🧵on our RCAF discussion.\\n#HistoryDetectivesUCR #ChicanxHistoryUCR https://t.co/zvrUxR8ast https://t.co/tipw9Tja6q The Library offers much more than study space, books, and journal access. We host book clubs, talks, workshops, exhibitions, and more throughout the year. Check out our calendar and join us: https://t.co/SsJDFOApbq https://t.co/wBzkCjvzez @emilyjacobs @ucsantabarbara Event details and registration link here: https://t.co/8obG9dTKMq Author Jane Honikman’s personal archive is now located at the UCSB library. Her extensive reference library includes articles, books, audio, video, personal stories, and letters. Here's Jane loading in her archive to make its way to UCSB where it is currently being processed! https://t.co/TLwOFXAxQf Fires and plagues notwithstanding… Thanks to @UCSBLibrary and the @ucsantabarbara Feminist Futures Initiative for hosting this event. 10/26 in person (!?) https://t.co/dz23KQ6nhT So glad the @UCSBLibrary is open again! I've missed my fourth floor study sessions😭 Got research questions? Librarians are here to help you. You can use the chat feature on our website to connect with a librarian 24/7 or set up an appointment in-person or over Zoom with your subject librarian. Get started: https://t.co/3TpvV7axQe https://t.co/wBUEDMZ5Jw In honor of #IndigenousPeoplesDay, check out our online exhibition \"Indigenous Peoples of the Americas\" \\nthat explores Indigenous heritages and identity, and their modes of cultural and political representation.\\n\\nhttps://t.co/FXOwfIuZy7 \"The Scientific Body of Knowledge—Whose Body Does It Serve?\"\\nThis is the title of UCSB Library's Pacific Views Series talk by Prof. Emily Goard Jacobs (UCSB) on Tue., Oct. 26, 2021, 4:00 PM PDT. This event will be live-streamed on UCSB Library's FB page.\\nhttps://t.co/AtnfNEiUl4 Today is #IndigenousPeoplesDay! Join @ucsbmcc Wednesday, Oct. 13 for a screening of @gatherfilm, an intimate portrait of the growing movement amongst Native Americans to reclaim their spiritual, political and cultural identities through food sovereignty: https://t.co/2PMaiXLesG https://t.co/CPzF6IY77D The @UCSBLibrary has access to online databases (for your papers) and course specific books for your classes for free!! \\n\\n(18/20) New on the UC OSC blog: How the COPIM Project and the UCSB Library are “Scaling Small” toward an open monograph future https://t.co/kDBHqQinnf Register now for our Oct. 20 virtual conversation about the history and contributions of Filipina/o Americans on the Central Coast. This event is in conjunction with our \"Postcards from Salinas\" exhibit. Info &amp; registration: https://t.co/bPZsDwol5I\\n\\n#FilipinoAmericanHistoryMonth https://t.co/gLTzTAZQn7 resume+ is back virtually for Fall Quarter! Get your resume reviewed and receive feedback from recruiters and hiring managers before the career fair. Sign up for a 20 minute appointment with a participating employer at this link: https://t.co/ybYsILO6tW https://t.co/uZxafFZnMp Have you heard of course reserves? Some professors put course texts and materials on reserve at the Library that can be checked out for a few hours at a time, saving you 💰💰💰 on textbooks.  \\nLearn more: https://t.co/aPsF5J8Ks6 https://t.co/eSVvpHUm70 Our new exhibit, \"Postcards from Salinas\" is up on the 1st Floor, Ocean Side. Come learn more about this collection of restored photographs of Filipinas/os in the Salinas Valley, 1920-1940. Info: https://t.co/sZECeUH8uq\\n\\n#FilipinoAmericanHistoryMonth https://t.co/9v4tEBEc4V Need a face covering? 😷 If you forgot yours or need an extra one, drop by one of these locations now through Week 2: #UCSB Campus Store, Student Resource Building, Campbell Hall, or @UCSBLibrary. Hours: Mon-Thurs 10-4, Friday 10-2 https://t.co/nCGoA0qSwC Did you know you can check out more than just books at the Services Desk? View a list of items for check out, including charging cables, calculators, laptops, board games, and more: https://t.co/qCmWGX30r8 https://t.co/qCBFzKf7r9 We agree! 💛 https://t.co/dpz5SXIZCx Your daily checklist for in-person activities on campus, now that we're together again. ✔️#UCSB \\n\\nMore: https://t.co/gUYU9aeTzW https://t.co/1fz3Z1HB8L If you do not yet have your Access Card, you can show a government-issued ID to check out materials. https://t.co/G9MDDMpMha Do you know your subject librarian? Every department has a librarian designated to help you with your research. Find yours here: https://t.co/MwipWzLACj\\n\\nPS - Stop by the Paseo from 11AM-2PM today or tomorrow, and learn more about our librarians. https://t.co/UdQAFwGBe8 We offer a multitude of resources and services to help students succeed. Here's the TL;DR for those of you getting started at UCSB. \\n\\nView the full flyer here: https://t.co/tmQqYYKl46\\n\\n#WeekOfWelcome #UCSB https://t.co/eDIrEMChwa 🗞️🗞️🗞️Hot off the press! 🗞️🗞️🗞️ \\n\\nHow the COPIM Project and the UCSB Library are “Scaling Small” toward an open monograph future\\n\\nby @UCSBLibrary's Lidia Uziel, Associate University Librarian for Research Resources and Scholarly Communication\\n\\n#OAbooks \\n\\nhttps://t.co/Gc0pDcQj9M If you missed us today, come back to the Library Paseo between 11AM-2PM tomorrow (or Wed/Thur/Fri) to learn about the Library and find out which subject librarian you can go to for research help in your major. https://t.co/pDo0twoj0M Welcome Week is upon us, and our #UCSB community is together again! Gauchos, welcome back to your campus by the sea. https://t.co/MC2h53XZcs Welcome, Gauchos! Stop by the Library Paseo from 11am-2pm this week to learn how the Library can help you succeed. \\n\\nThen take our \"Clue Me In!\" self-guided tour of the Library to find out more about our resources and collect clues to a puzzle as you go.\\n\\n#UCSBWeekOfWelcome https://t.co/qhNuBXW32E Welcome Gauchos! Come visit the Library this week and while you're here, find the clues throughout the building to solve our puzzle and be entered for the chance to win a $50 gift certificate to the @UCSBbookstore. More info here:  https://t.co/wKuxNWtQjO https://t.co/sYGUZFIxH7 Yasss! https://t.co/uuPVFuJhNv While it's rankings season, let's look at sustainability. @Sierra_Magazine places #UCSB in the top 20 on its list of \"Coolest Schools.\" 😎 https://t.co/2v4AWonDIK Photo: Armijo MEChA Mural, Royal Chicano Air Force Archives, California Ethnic and Multicultural Archives, Dept of Special Collections, UCSB Library. https://t.co/YfGIDwuOi6 Today is the start of #HispanicHeritageMonth, celebrating the histories, cultures, and contributions of U.S. citizens whose ancestors came from Spain, Mexico, the Caribbean, and Central &amp; South America. See our research guide w/ related library resources: https://t.co/GCiuv1QqYk https://t.co/Z7nP2YyirQ Congratulations, @UofCalifornia! Six UC campuses rank among the top 10 public universities in the country - &amp; all nine UC undergraduate campuses are among the top 50, according to @usnews' new rankings. This reflects the world-class education UC provides. https://t.co/Br5xNqTzLN Register now for our event tomorrow with artist RT Livingston in which she will discuss the new UCSB Library exhibit, 9/11 RENEWAL/REBIRTH, where she documents her experience in the year after the tragic events of #September11 \\n\\n&gt;&gt;https://t.co/KfqoghNeb5 https://t.co/Yqsv0nRteQ As of 8 a.m. today, all 8 floors of the main Library + the Music Library are fully reopened!\\n\\nYou can again:\\n📚Browse &amp; check out books\\n💻Borrow a laptop\\n🪑 Study with a group\\n🆒Relax in the egg chairs, lounge seating, and nap pods\\nAnd more! \\n\\nInfo: https://t.co/w6z8BNBNhc The 2022 @usnews #BestColleges rankings are in... 🥁 and UC Santa Barbara is the No. 5 public university in the nation! Read more: https://t.co/2qitkD889y #UCSB https://t.co/NRgNnijbxC The @UCSBLibrary will fully reopen on September 13 with complete access to all eight floors, study spaces, public computing, Library services, and study rooms. Learn more: https://t.co/Od3Mn1f6AM https://t.co/GqOlrgngnJ The 9/11 RENEWAL/REBIRTH project is RT Livingston's eyewitness account of the year following the tragic events of September 11, 2001. In remembrance, we invite you to view the virtual exhibit featuring her work: https://t.co/JdUQEWpOsA Proud to see all nine outstanding @UofCalifornia  campuses on the Forbes list of America’s Top Colleges this year – including @UCBerkeley at #1! These rankings reflect UC’s deep commitment to student access, affordability, and excellence. https://t.co/K3SjwvbOVc @dutchgirlusa The hours are live: https://t.co/G818paxzdD @samfz7 We have some fiction books, comics, zines, and more all available for check out. Have you tried searching for what you want here? https://t.co/tvBN7GHP3B 🎉🎉 https://t.co/eQWM1Z5qQw @mellaniemf07 The entire building was cleaned thoroughly while we were closed to patrons during the lockdown and continues to be cleaned regularly. We also now provide disinfectant wipes in study areas. Join us virtually next week as RT Livingston discusses the Library's new online exhibit, 9/11 RENEWAL/REBIRTH, in which she documents her experience as an artist and citizen during the tragic events of 9/11. Register here: https://t.co/H56V02RwIj\\n\\n#NeverForget #September11 https://t.co/lP3bpyTM9S As we all begin to return to #UCSB, don't forget to bring your face masks! 😷 Remember: students, faculty, staff, and any visitors to campus, regardless of vaccination status, are required to wear face masks in all shared indoor campus spaces: https://t.co/bk7jZSEkQW https://t.co/cciiwm08xt @dutchgirlusa Not yet! The team is working on finalizing them soon. Thanks @RachaelScar for correcting the previous tweet! @rachael_scar is now correctly attributed :) “Collaborative work is not common in the humanities, but is really powerful.” - @rachael_scar re:@BallitoreProj\\n\\nRead how @HowardU @csunorthridge &amp; @ucsantabarbara students are together researching 2,500+ docs from an 18th century Irish Quaker community: https://t.co/WDuUo6aRA9 @RachaelScar @BallitoreProj @HowardU @csunorthridge @ucsantabarbara @rachael_scar sorry we tagged the wrong person! We will repost with the correct name. Research on the Ballitore Collection --an archive of more than 2,500 documents from an 18th-century Quaker community in Ballitore, Ireland-- is uncovering insights into the intersections of gender, race, and religion.\\nMore about @BallitoreProj: https://t.co/WDuUo6ssYJ https://t.co/78wcl71EIy Full descriptions of Gennett’s 16,000+ masters recorded between 1915-late 1930s —including artists such as Louis Armstrong, Gene Autry, Hoagy Carmichael, Doc Roberts, and King Oliver— will be added to the Discography of American Historical Recordings.\\nMore https://t.co/Rv3oPyPhiL Considered to be one of the first truly independent labels, Gennett Records is the next record company to join the Discography of American Historical Recordings. Many thanks to Malcolm Rockwell &amp; Charlie Dahan who have worked on the discography since 2004.\\nhttps://t.co/Rv3oPz6Saj https://t.co/4VNkdhri5A Some #FunFriday research findings from @ucdavis https://t.co/nc26g30roX Santa Barbara Public Library &amp; UCSB partner to preserve history: \\nOver 3,000 historic photos of Santa Barbara County, 104 issues of Santa Barbara's first newspaper, and SBPL’s own archives are preserved at UCSB Library. https://t.co/LXgNiYFb5x Our August newsletter is out! Learn about UC Library Search, meet librarian Marisol Ramos, vote for the UCSB Reads 2022 pick and more: https://t.co/jDwIEshgsB #UCSB is offering limited Johnson &amp; Johnson vaccines to staff, faculty, and students at no cost on Tuesdays and Thursdays. Once those J&amp;J supplies are exhausted, 2-dose Moderna shots will be available. Book your appointment now: https://t.co/P5ZsRaEbr5 https://t.co/RXz2PcEsLJ The \"Santa Barbara Gazette\" came to @UCSantaBarbara from the Santa Barbara Public Library (@SBPLSystem), which received a bound presentation copy from Charles Fernald in 1891. https://t.co/F6uQhHuMhl Take a trip back to 19th Century! The city’s first newspaper, the Santa Barbara Gazette, is now available through @UCSBLibrary. #UCSB's Alexandria Digital Research Library has all 104 editions of the paper, dating back to the first copy from May 24, 1855. https://t.co/BxekaUp2jD @chapikhan Please contact the circulation desk to see if you can sort this out. Email: circ@library.ucsb.edu Thank you @NoozhawkNews for sharing the news about our recent digitization of the Santa Barbara Gazette, #SantaBarbara County's first newspaper. It's now publicly available online for anyone to view.\\nhttps://t.co/26hU1xc3gN #FromTheArchives https://t.co/uzKflzReRv A new, more robust and more efficient library search experience has arrived! Explore #UCLibrarySearch, the integrated systemwide portal to the resources you need: https://t.co/XkV8vyAIvT https://t.co/sVk9RCnsJE Today, @UofCalifornia proudly launched #UCLibrarySearch, our new unified discovery &amp; borrowing system. This exciting tool will facilitate faster, easier access to our physical collections as well as digitally-available journals, books, and databases. https://t.co/UQcT7m0i9O The Santa Barbara Gazette, SB's first newspaper, provides \"a window into a history of crackpots and killers, fights over land and lamentations over the state of Santa Barbara’s rowdy streets\" \\nMore about this piece of local history we recently digitized: https://t.co/FYuArHedra Get vaccinated now, Gauchos! 💉 With the @UofCalifornia mandate, you'll need your first Moderna dose by this Thurs. July 29, Pfizer by Aug. 5, or J&amp;J by Aug. 26.\\n\\n@UCSBshs: https://t.co/P5ZsRaEbr5\\n\\n@CottageHealth: https://t.co/VmA1Uq0iQ7\\n\\n@SBCPublicHealth: https://t.co/xJVzjRD12n https://t.co/rT57RRLWE3 It’s finally here -- #UCLibrarySearch is live! UC Library users now have access to a more robust discovery tool that allows you to find and borrow materials from across all UC campus library locations. \\nCheck it out at https://t.co/0w9GH22yy2 https://t.co/MTfWdB8acR @SPARC_NA @angiechikowero 🎉‼️ Cheers to @angiechikowero Congratulations to @angiechikowero from @UCSBLibrary on graduating from the #LeadOER program! Angela’s capstone project focused on needs assessment in high enrolment classes at her institution. Read more here: https://t.co/gha6nMd0dE @ucmercedlib 🎉🎉🎉 .@UCSBLibrary Launches Social Justice Zine Collection\\nhttps://t.co/mw3lzwWU2d Due to the implementation of UC Library Search, you will not be able to make pickup and mailing requests until tomorrow, July 27. Please email library-circ@ucsb.edu with questions. https://t.co/ArEOHVevA9 We’re in the final stretch! On July 27, 2021, UC Library Search will permanently replace Melvyl and all UC library catalogs as the search tool for all ten UC campus libraries, making it easier to locate materials across the UC system. Learn more:\\nhttps://t.co/x8cjJBcTzU All #UCSB students and employees must be fully vaccinated against COVID-19, or receive an approved exemption, before the first day of fall instruction. On-campus Johnson &amp; Johnson appointments are available every Tues and Thurs this summer. Sign up today: https://t.co/mxFtRrc61L https://t.co/wldQyue0It I keep pinching myself. After a 4 year journey of strategizing, planning and implementing that directly involved (in the final stage) 140 library staff across all our libraries, we are now this close. Amazing. Pinch. https://t.co/eFJa7xSApg One of the critical supports in my own undergrad experience was the @UCSBLibrary intro to research course for first-years. Coming from a severely under-resourced high school the familiarity, confidence, and relationships with library staff that course forged proved essential As of today, Art &amp; Architecture is open for study space! We've also added more seats to the Fox &amp; Deer sections, bringing the total number of seats added to 166. View our reopening information here: https://t.co/YdIdNpFAg4 https://t.co/mjoU45AXvH It’s the final countdown! On July 27, libraries on all 10 UC campuses will be connected through a unified discovery system, #UCLibrarySearch. Learn what this means for you as a user at: https://t.co/XkV8vyAIvT https://t.co/e06B1VYrIQ The @UofCalifornia has established a systemwide policy requiring all #UCSB employees and students to be fully vaccinated against COVID-19, or receive an approved exemption, before fall instruction begins. Learn more or verify your vaccination status at: https://t.co/uvPIQDN54Y https://t.co/i0Nc4FdZDC Thank you @Edhat for sharing the news about our work with @SBPLSystem to preserve local history. https://t.co/Wb3Gm34elF\\n\\n#SantaBarbara #History #Preservation #LocalPartnership Santa Barbara Public Library &amp; UCSB Partner to Preserve Local History https://t.co/gWDEGpsWO6 From 6:30-8:00 AM tomorrow (July 13) Library IT staff will be taking the EZProxy service down for scheduled maintenance. If you need off-campus journal access during this time, use the campus VPN client: https://t.co/DdMyyuSc8Y\\nCheck the status here: https://t.co/slMVeQgX4W Big news! UCSB's Visitor Center will be open starting July 12. We are not currently offering guided campus tours or admission presentations, but you can stop in to get a packet of information, ask questions, and launch a self-guided tour. Register today! https://t.co/2K1KsqqQnB We're honored to house the Thoreau Edition, which publishes scholarly, definitive texts of Thoreau’s writings. https://t.co/B0VrmZML8l UCSB Cylinder Audio Archive: This searchable database of 650 features all types of recordings made from the late 1800s to early 1900s, including popular songs, vaudeville acts, comedic monologues, and more. https://t.co/edrbcr5A1L #coolsites We know partnerships make us stronger, that's why we're thrilled to be able to work with @UCSBLibrary to preserve this local history! https://t.co/Na5mZIVF16 #UCSB is offering the Johnson &amp; Johnson vaccine to staff, faculty, and students on Tuesdays and Thursdays this summer. Let's keep our community safe—book your appointment now: https://t.co/e22IeCCt6B https://t.co/2mMTl3MQ3O Next month, #UCLibrarySearch will forever change the user experience for faculty, students, and researchers worldwide who need access to collections across the University of California system. Learn more about monumental shift at: https://t.co/XkV8vyAIvT https://t.co/RdIEreKXzv Starting tomorrow (July 7), some services and functions will be impacted as we work to launch UC Library Search on July 27, the new unified UC-wide discovery tool. Learn how to prepare for the transition: https://t.co/TfyACUZKda It's #InternationalZineMonth and we're thrilled to announce our new, circulating Social Justice Zine Collection! It includes 70+ works made by zinesters, primarily based in California, who publish on a variety of social justice topics. More: https://t.co/oFpIgfiywX\\n\\n#IZM2021 New face-covering guidelines were announced last week for the campus community in compliance with the workplace regulations enacted by #CalOSHA. Learn more at: https://t.co/mGGoQG77qW @CA_DIR https://t.co/1yJwsYt7kc @punctum_books @ucilib @UCDavisLibrary @UCLibrarians @CalDigLib 💛💙💛 BIG NEWS! After @UCSBLibrary @ucilib &amp; @UCDavisLibrary now the ENTIRE UC Libraries system @UCLibrarians @CalDigLib has joined our Supporting Library Membership Program! Thanks for keeping our ship of #OpenAccess fools afloat! https://t.co/qebkNa3aRP https://t.co/5hN9pRRGPj @LeapingRobot @GordinMichael The full text of this book is temporarily available online via HathiTrust: https://t.co/60zATfS72o \\n\\nHathiTrust use info here: https://t.co/kLj2RZ7bGx .@UCSBLibrary's Bob Nieder describes #PRIDE for him. \"Also,\" he says, \"#PrideMonth is a time of remembrance for the loved ones I lost through the AIDS crisis, knowing that many of them should and would be here today if our government had responded in a timely fashion.\" (9/10) https://t.co/ypxAbHhhqh @KThomasMcGill Our Services Desk remains closed, so you still need to request that materials be pulled for you for pickup or mailing. https://t.co/ODXxZRiVAS punctum has been in an innovative and productive partnership with @UCSBLibrary since 2018 to develop a library membership program and bringing back #OpenAccess and publishing know-how to the university. https://t.co/n3vGmFPdkz #LibraryTwitter The UCSB Reads selection committee has announced its shortlist of titles under consideration for UCSB Reads 2022! The final pick will be announced this fall.\\n\\nSee the list and vote for your top pick: https://t.co/hyuVPAJsEO https://t.co/qYAgRtJZnq Starting today, UCSB students, faculty, and staff can use open study space in the Library without a reservation. \\n\\nYou still need a reservation for:\\n◾️individual private study rooms\\n◾️remote instruction and research spaces\\n◾️the Adaptive Technology Center\\n\\nhttps://t.co/fonZ5Ireb1 #DYK - Floyd Norman (born &amp; raised in #SantaBarbara) made history in 1956 by becoming the first African American cartoon animator at @DisneyStudios - delivered the first installment of his papers to the @UCSBLibrary on 9/16/2019\\nhttps://t.co/mEj1JOvely  \\nhttps://t.co/HLuUefqg02 https://t.co/RFzgMnVRRJ In celebration of #Juneteenth, our Black Studies librarian Angela Chikowero has updated the racial relations research guide with resources about this holiday, including books, videos, and more. Check it out: https://t.co/bLNFVibAQY\\n\\n#JuneTeenth2021 #JuneteenthFederalHoliday https://t.co/p2PYQ5VRn6 UC Library Search will replace UCSB Library Search and Melvyl as the new unified UC-wide discovery tool on July 27, 2021. Some services and functions will be impacted starting July 7. To help you prepare, review the Q&amp;A’s here:  https://t.co/TfyACUZKda https://t.co/cu2PhOQb7Y Several graduating seniors and one faculty member have earned special recognition for their contributions to undergraduate research at #UCSB. Congratulations to Chancellor Yang's and @UCSBLibrary's #UCSB2021 award winners! https://t.co/s6eZ817HYD 1928 aerials from @UCSBLibrary &amp; @Photoshop photomerge &amp; #georeferencing &amp; @ArcGISPro = 3D time machine  #culvercity #baldwinhills #ballonacreek #BHSO https://t.co/gJwwbw2hGg From June 12-20, Library study space will be closed. During that time, the pickup service at the Main Library will be available: \\n1-4 p.m. June 15\\n9 a.m. - noon June 18\\nThe Music library will continue research appointments and materials pick up.\\nMore: https://t.co/U9v495LXPk Graduates of #UCSB2021, your fellow alumni have a few words to share with you! Scroll through their messages of congratulations, encouragement, and good wishes: https://t.co/8p0fHxVdHj https://t.co/9pKSV6pGbQ We're launching student-led summer book clubs that will focus on the five books nominated for the UCSB Reads 2022 shortlist. Both student-only, as well as campus + community book clubs, will be offered. \\nLearn more &amp; reserve a spot: https://t.co/OZv00f5qeo https://t.co/eXRsSfz3wS Another new date has been added to #UCSB's vaccination clinic schedule! Appointments are now available on Friday, June 11. To register: https://t.co/P5ZsRaEbr5 💉 https://t.co/lcK23PPEEN FYI for those of you needing green clearance badges to enter the Library https://t.co/Ea9t2WUD37 Gauchos - Don't forget to have your green clearance badge, photo ID, and face mask ready when you come for your reserved study time. More info: https://t.co/jWPDtdnnyK https://t.co/V3Y3nXWj3u East Asian Studies Librarian Yao Chen, who works closely with our faculty and students, is featured in the most recent @UCSBLibrary newsletter. We have benefitted much from her guidance and are proud of her accomplishments!\\n\\nRead more here: https://t.co/aMgIRuehNp Pick up UC Library materials from any campus. Find and request items from outside the UC system. Single sign-on. Starting July 27, 2021, #UCLibrarySearch forever changes the way you engage with your campus library: https://t.co/XkV8vyAIvT https://t.co/k8Yogs7x4g We are open tomorrow from 9 am - 5 pm to provide a space to study for finals. Reserve a seat here: https://t.co/04MEYtZDLJ Congratulations to the winners of the 2021 Library Award for Undergraduate Research! 🏆\\n\\nHumanities &amp; Fine Arts\\n🥇 Noelle Barr\\n🥈 Stephanie Ando\\n\\nSocial Sciences\\n🥇 Samantha Ellman\\n🥈 Frances Woo\\n \\nScience &amp; Engineering \\n🥇Yilin Cao\\n🥈Ziguang Yang\\n\\nMore: https://t.co/y3IJA5QAM7 Tomorrow is the 7th anniversary of the deadly attacks in Isla Vista. For those of you seeking a space to reflect,  our online exhibit memorializes the healing, resilience, &amp; compassion of the IV community following the May 23, 2014 tragedy. https://t.co/nTwztyl35a\\n💙💛#NotOneMore Thank you @dailynexus for recapping the UCSB Reads 2021 author talk with Patrisse Cullors. https://t.co/B1P2HStUN9 Due to high demand, we've added two more private study rooms for all UCSB affiliates to reserve starting Sunday. Reserve a seat here: https://t.co/fonZ5Ireb1 Got a book you'd like to suggest for UCSB Reads 2022? See our criteria and submit your thoughts here: https://t.co/XYo0TDscx3 Good news! There is no longer a 20 hour per week limit on study space reservations. UCSB students, staff, and faculty can reserve a seat for as long as needed during our open hours. Reserve here: https://t.co/fonZ5Ireb1 We've moved into phase 3 of our reopening plan! \\nYou can now: \\n✅reserve seats on more of the 2nd floor, including the Paseo Bridge\\n✅study until 9 p.m. Sun-Thurs\\n✅ pick up requested materials during the same hours as reserved study \\nReserve a seat: https://t.co/fonZ5Ireb1 https://t.co/o1jfDiprl7 UCSB Reads is a topic of the latest @hotoffthepod podcast! Listen here: https://t.co/n6KB8xIwlk https://t.co/zfDliqv8Mv Many thanks to our UCSB Reads 2021 co-sponsors and partners. Without you, we would not be able to bring the campus and community together each year for important conversations around a common book. \\nTHANK YOU! \\n\\nMore about UCSB Reads 2021: https://t.co/KLKzy1n47U https://t.co/vcf2eIv3Ii Tomorrow! Hear from Kala Lacy, founder of The Well Healing, a holistic resources and services space for communities and individuals experiencing marginalization and oppression. This event is free and open to the UCSB community. Info &amp; registration here: https://t.co/K7PouEVtBi https://t.co/7wGKGtYKWX .@UCSBLibrary invites Santa Barbara community members to submit original works that address how the pandemics of racial injustice and coronavirus have shaped their lives – that’s you! https://t.co/aXhF8odbwp Today is the day! Register in advance to hear this free online talk at 5 PM with Patrisse Cullors, co-author of the UCSB Reads 2021 book pick, \"When They Call You a Terrorist: A Black Lives Matter Memoir\"\\nhttps://t.co/IHBFZyt0K2 https://t.co/yn8PSrJDLQ A collaboration founded in the wake of bombing that devastated one of Baghdad’s most important cultural institutions presents “Shadow and Light,” a virtual exhibition hosted by @UCSB_Library memorializing 13 murdered educators. https://t.co/2eyA9AaiPy We're looking forward to this @hotoffthepod episode with one of the leaders of our UCSB Reads student reading groups. Take a listen on Friday! https://t.co/T9YmMO6JXD Some of our aerial images were used in this article to illustrate how the Santa Monica Freeway's construction led to lost homes for communities of color. https://t.co/HZwJNfQLiB After a transition from in-person to online learning, UCSB is now reopening some of its facilities for the first time in a long time – with proper protocols to mitigate the spread of COVID-19. KCSB's Pia Ramos has the story. https://t.co/UOfl1WH9TJ Join us and @cmesucsb for a conversation with the curators and director of the \"Shadow and Light\" project, which honors Iraqi academics assassinated between 2003-2013. Info and Zoom link here: https://t.co/rU4vbQa7Qu https://t.co/zVOX71lUVb We're offering two @zotero workshops this month for grad students, faculty, and researchers to learn how to use this free bibliography management tool.\\n\\nWorkshops will be held:\\n◾️10am-12pm May 11 (tomorrow!)\\n◾️1-3pm May 20 \\n\\nInfo &amp; registration here: https://t.co/WEP5Gd8Mz8 Co-founder of @Blklivesmatter Patrisse Cullors, whose book is the 2021 selection for #UCSBReads, will give a free, virtual public talk on May 12. A Q&amp;A moderated by #UCSB Black Studies professor Omise’eke Natasha Tinsley will follow. https://t.co/8v2av8l9Xs Goodbye Melvyl! #UCLibrarySearch will replace Melvyl on July 27, 2021, allowing you to find resources from any UC campus quickly and simply, saving you time and effort. Learn more about this unified discovery and borrowing system at:  https://t.co/XkV8vyAIvT 📚 📝 📘 One week until the UCSB Reads author talk with Patrisse Cullors! Register now for the event, co-hosted with @ArtsandLectures https://t.co/IHBFZyt0K2 https://t.co/fBC7fL3saR What are our NCC folks up to? Yao Chen (EAS Librarian @UCSBLibrary) just published the co-authored “Demystifying East Asian language monograph publishing: Contemplations on the current status, challenges, &amp; opportunities”! Of interest to all colleagues!👏 https://t.co/LeHXENe4tE https://t.co/5EHzNLVQts These pages from the US Cultures of Mental Illness class zine. Check out some of the submissions we've received for our Community Archives projects. #SantaBarbara residents &amp; UCSB students, faculty &amp; staff can submit original works that show how the pandemics of racial injustice and coronavirus have shaped you. More: https://t.co/lOLLL9OkUF https://t.co/J8g0xiOQ2Q 💙💛📚 https://t.co/ONwzfZzzIC ‼️Deadline extended‼️ You have until May 7 to apply for the Library Award for Undergraduate Research. \\nUndergrads who have produced a scholarly or creative work using Library resources and services are eligible to compete for 1 of 6 cash prizes 💸 More: https://t.co/LHE11K5kkR https://t.co/qQTZlU6WtE @mnpgrue Thanks so much for writing out the tips and recording! I'm pleasantly surprised by how well this turned out! #service #HigherEd #DiscussionGuidelines https://t.co/NXtFURTdEU This year's #UCSBReads book pick touches on many topics that may raise difficult conversations. Here are some tips from @mnpgrue of the @UCSB_CCS for guiding book discussions in a productive, thoughtful, and inclusive way.\\n\\nhttps://t.co/rH4JTNNXdy Join us for a zine-making workshop today at 4 PM. All are invited to contribute pages to a group zine exploring the themes from the UCSB Reads 2021 book, \"When They Call You a Terrorist: A Black Lives Matter Memoir.\"\\n\\nRegister here: https://t.co/2PTpBsaXJz https://t.co/CzEl2nLRDt Tomorrow! No appointment needed. Just bring your #UCSB student ID for proof of residence. ✅ https://t.co/ZX1ohiqXhX Today at 4 PM! Join Professors Muniba Saleem and Dan Lane from UCSB’s Department of Communication, and librarian Mary-Michelle Moore for a panel discussion addressing the impact of media misinformation and the importance of media literacy.\\n\\nRegister here: https://t.co/2B9TkNifx9 https://t.co/AdbFwBD6nT Missed our Pacific Views talk this week? Watch the recording here to learn from the presentation by Kyle Meng &amp; @danaehernandezc: \"Do Environmental Markets Cause Environmental Injustice? Evidence from California’s Carbon Markets\" \\n\\nhttps://t.co/ZYvUG8nBrF We are moving into the next phase of our reopening on Monday! More of the first floor will be open for study space reservations (New areas indicated by🦎🐻🦌). You can also now reserve seats for up to 20 hours per week, up from 15. Reserve a seat here: https://t.co/fonZ5Ireb1 https://t.co/mzb8nLF3ft Register now for our event on Monday at 4 PM w/ Muniba Saleem and Dan Lane from UCSB’s Dept. of Communication and librarian Mary-Michelle Moore for a panel discussion addressing the impact of media misinformation and the importance of media literacy.\\n\\nhttps://t.co/2B9TkNifx9 https://t.co/Fto5tw0abU One week until submissions are due! If you are an undergrad who produced a scholarly or creative work using Library resources, apply now to be entered for a cash prize. More info: https://t.co/LHE11K5kkR https://t.co/k3lI0rU8pE Many sources cite the 1969 Santa Barbara oil spill as the inspiration for Earth Day, first celebrated April 22, 1970. View our online exhibit about the legacies of the Santa Barbara Oil Spill here: https://t.co/WJeaHSdFeQ Have exciting undergraduate research that you produced using @UCSBLibrary resources? Want a chance at a cash prize?  Submissions for the #UCSB Library Award for Undergraduate Research are due April 30th.  https://t.co/Zh3qU7PZSw Join us today at 4 PM for a screening of \"America’s Wine: The Legacy of Prohibition\" and panel discussion w/ filmmaker Carla De Luca, Santa Barbara wine historian Dr. Victor Geraci, and winemaker Greg Brewer. \\n\\nRegister here: https://t.co/XOGdt8Rq1O https://t.co/arbiyFNa5C Today at 4 p.m.! Don't miss this talk about whether the environmental justice gap changed following the 2013 introduction of California's carbon market.\\nRegister here: https://t.co/32vCHrHlFP https://t.co/cXnYJGROnf What do you want future generations to know about the events of 2020? We invite you (Santa Barbara community members; UCSB students, faculty, staff) to submit original works that show how the pandemics of racial injustice &amp; COVID-19 have shaped you.\\nMore: https://t.co/lOLLL9OkUF https://t.co/JeZyKKtFuZ Register now for tomorrow's Pacific Views talk featuring Prof. Kyle Meng &amp; @danaehernandezc. They will share their findings from examining the impact of California's cap-and-trade program on environmental justice.\\n4 PM | April 20 \\nhttps://t.co/GUhORESr9Y https://t.co/yBWxbx8YSP Chancellor Yang announces current plans to bring students back to the #UCSB campus and return to in-person instruction this coming fall. Full message: https://t.co/h0wokNSHEe https://t.co/s8XH9GMjyA Two weeks until submissions are due for the Library Award for Undergraduate Research. If you're an undergrad who produced a scholarly or creative work using Library resources and services, don't miss out on a chance for a cash prize. https://t.co/LHE11K5kkR https://t.co/kO6P5uLnbx Springer Nature and the University of California launched a new initiative to gain greater understanding of researcher attitudes to open research. Participating UC authors will have the option to trial Guided OA for some flagship Nature titles.\\nLearn more: https://t.co/tFTD4cTFl6 https://t.co/zzK1bVzlxv Do environmental markets cause environmental injustice? Join Kyle Meng and @danaehernandezc next week for a @UCSBLibrary webinar on the impact of California's cap-and-trade program on #EnvironmentalJustice. \\n\\n📅: Tuesday, April 20th\\n\\n🕓: 4pm PST\\n\\n✅: https://t.co/yF2J2OPeYD https://t.co/dUIHghQ1qO Undergrads - Getting a green authorization badge to access the Library's study space just got a bit easier. Instead of emailing a request to enroll in the screening survey, you can now turn this feature on within the Student Health portal. Info here: https://t.co/YDoIjipIDE Do Environmental Markets Cause Environmental Injustice? Join the @UCSBLibrary for this talk with Bren faculty Kyle Meng and econ PhD student @danaehernandezc discussing their study of California's carbon markets, 4/20 @ 4pm online. https://t.co/g0x8gs6jKd Judith Heumann has spent her life advocating for the rights of the disabled. Her upcoming virtual talk focuses on the intersection of disability rights, feminism and anti-racism. Hosted by the #UCSB Women's Center, @ucsbmcc, @UCSBLibrary and more. https://t.co/5ma5nFKyBp Attn UCSB faculty &amp; grad students: The Music Library is now offering limited on-site research appointments. Learn more about how to request one here: https://t.co/tiof9bsML1 Prohibition, Pandemics, &amp; Pinot Noir: A UCSB Library Screening &amp; Discussion of \"America’s Wine: The Legacy of Prohibition\" https://t.co/ZpzPcfexk6 Don't forget! April 30 is the last day to submit an application for the Library Award for Undergraduate Research. Learn how to apply here: https://t.co/zzwcRFqRFi https://t.co/5RGXkZuutN Ready to come back to the Library to study? Watch this video for details on how to get a green authorization badge and reserve a seat. More info at https://t.co/jWPDtdnnyK https://t.co/0ILwjeMFhi Anyone age 16+ can now make an appointment for COVID-19 vaccination in @countyofsb. For answers to common questions, don't miss these #VaxFacts from Dr. Ali Javanbakht of @UCSBshs. #UCSB https://t.co/6vR4UbiZxY Want to study in the Library, but still not sure how to get a green authorization badge needed to enter the building? Watch this video for details: https://t.co/uhC9GOxseg Starting in 5 minutes! Zoom link here: https://t.co/E5lkbwmYtT https://t.co/MtBPD9Oftb Today at 11 am! Get your questions about the Library reopening answered. Info and Zoom link here: https://t.co/E5lkbwmYtT https://t.co/k0nrsagdV5 Ever since, we joined forces w/ @UCSBLibrary, co-initiated @COPIMproject and @scholarled, and pioneered open infrastructure with @Cloud68HQ. Our books are now @DOABooks @OAPENbooks @ProjectMUSE &amp; @JSTOR and we're represented by @LYRASIS &amp; @Jisc. #OpenAccess \\n\\nPhoto: COPIM team https://t.co/jAqh1rXpMQ We can't wait to get back to the library! 🥰 🧠 https://t.co/hUHWZ0uveQ \"I like to think that Chávez's spirit — now augmented by 21st-century media — is what we’re seeing in young organizers like @AOC.\" — @UCSB_CCS Dean @galdanayv, who says commitment, connection, and coalition can help us confront today’s heightened racial tensions. #CesarChavezDay https://t.co/rGY3ipjtl2 Today! Join us + the Center for the Interdisciplinary Study of Music for a talk by Alexandra Hui about the internal studies and large public survey performed by the Edison-Carnegie Music Research Program.\\n\\nZoom info here: https://t.co/A5dUCiJ3u2 https://t.co/IRxrvq0cu0 Got questions about the Library reopening for study space? Join us at 11 a.m. this Friday, April 2 to ask our staff anything. Zoom link info here: https://t.co/E5lkbwmYtT https://t.co/eG4rE5zVox @miriamkp Here is a list of services offered by our Interdisciplinary Research Collaboratory: https://t.co/W6feh51lNi\\n\\nThey can be contacted at collaboratory@library.ucsb.edu A green clearance badge indicating you've passed the COVID-19 screening survey is one of the things required for you to use the Library study space that opened today. More info here on how to get one: https://t.co/7kHfLSXQuP Apr 21 4pm | Prohibition, Pandemics &amp; #PinotNoir: A #UCSB Library Screening &amp; Discussion with Greg Brewer (of @BrewerClifton &amp; Melville Winery) et al.\\nhttps://t.co/r4nkJ6ddYQ\\nPour a glass of wine &amp; join the @UCSBLibrary for a screening of America’s Wine: The Legacy of Prohibition https://t.co/sjpx3sQQLQ Today, the UC observes César Chávez Day, remembering his activism on behalf of farmworkers. In his honor, we share this piece by Ofelia Esparza titled, \"César Vive,\" part of the @SHG1970 archive in our Special Research Collections. View it here: https://t.co/N8EMZALFw8 https://t.co/g5eW9xTa7u To use the Library study space starting 3/29, make sure to have these four things at check in:\\n✅A green authorization badge to show you've cleared the COVID-19 screening survey\\n✅A facemask\\n✅Your seat reservation number \\n✅UCSB Access Card or Photo ID\\n\\n➡️https://t.co/RW5Dv0DcaO Got questions about the UCSB Library reopening? Attend our virtual AMA at 11 AM on April 2 to get answers from the University Librarian and other Library staff. Zoom info here: https://t.co/E5lkbwmYtT https://t.co/SCbNtTcUD2 Reservations can now be made online for limited study spaces at the @UCSBLibrary, set to partially reopen next week at the start of spring quarter. 📚 https://t.co/utvLklcGYe ICYMI: Last week, UC announced a pioneering open access agreement with the world’s largest scientific publisher, Elsevier, making significantly more of the University’s research available to people worldwide—immediately and at no cost. Read more. ⬇️  https://t.co/dEb9mu0ZWP As a campus family, we want our #APIDA community and every member of the #UCSB community to feel at home. We are committed to fostering an inclusive environment, and to addressing all forms of racism and discrimination.\\n\\nChancellor Yang's full message: https://t.co/Ny4ELKD6Ak https://t.co/QmTrWnV6Ae UCSB students, staff, and faculty can now reserve a seat for study space in the Library. You can reserve up to two weeks in advance, so March 29-April 2 slots are available now. https://t.co/fonZ5Ireb1\\n\\nRead more about our reopening: https://t.co/JxInwuvnEl Squeals in historian. 📚 https://t.co/U9MPU9yCHw It's happening! We will reopen a portion of the main Library for study space starting March 29. Seats will be reservation-only for current UCSB students, staff, and faculty. Reservations will open tomorrow afternoon.\\n\\nMore details: https://t.co/JxInwuvnEl https://t.co/MLCHu5N499 Congrats future Gauchos! 🎉 https://t.co/4NaLXB7y6W All articles with a UC corresponding author will be open access by default with @Elsevier and the library will cover the full amount of the publishing charges for those who do not have sufficient research funds!\\n\\nWay to go @UofCalifornia - great things happen working together! University of California announces a pioneering open access agreement with the world’s largest scientific publisher, Elsevier, making significantly more of the University’s research available to people worldwide — immediately and at no cost. Read more. ⬇️  https://t.co/dEb9mu0ZWP Wow, this is big news. #openaccess https://t.co/D2wzS33enH In new shared-funding model, University of California researchers can publish #openaccess and read content across Elsevier’s extensive journal portfolio https://t.co/qM0V97009b #OA #openscience UC and Elsevier finally got it done https://t.co/BXNzfHShMp After 2 years and 8 months of negotiating (and not negotiating but still talking) with Elsevier...\\n\\n➡ UC secures landmark open access deal with world’s largest scientific publisher\\n  https://t.co/P0MApZ71Mj\\n\\nDetails, incl. MOU:\\nhttps://t.co/hwAcaTWw05 The @UofCalifornia announced today an open access agreement with @ElsevierNews, which will go into effect April 1, restoring UC’s direct online access to Elsevier journals while enabling universal open access to all UC research and containing costs. More: https://t.co/1neQVOoh3b UC Library Search, coming July 27, will improve the user experience for those needing to access collections across the University of California system. This new discovery tool will replace Melvyl and UCSB Library Search. More:\\nhttps://t.co/PsujXdriG1 Submissions now accepted for our 2021 Library Award for Undergraduate Research. The deadline is April 30, 2021. See criteria and how to apply here: https://t.co/LHE11K5kkR https://t.co/NEPYeoq5YZ For Women's History Month, our LGBTQ+ Studies Librarian Heather Nisen has put together a list of Library resources highlighting the lives of notable queer women. See the research guide for more: https://t.co/iwo8EEDMPW\\n\\n#WomensHistoryMonth https://t.co/TJD74VvC59 The @UofCalifornia has announced 3 new open access agreements in the last two days with @royalsociety  @Co_Biologists @cdnsciencepub.\\n \\nMore info here: https://t.co/0ObqTNezCG We are excited to announce a new transformative #openaccess publishing agreement with the University of California that will offer unlimited open access publication for UC researchers publishing in our journals. Learn more at https://t.co/0OKkTMP5Oz https://t.co/ixpNfGZ24D We are delighted to announce a new transformative #openaccess agreement with University of California @UofCalifornia @CalDigLib which offers uncapped and immediate OA publishing in our five journals to researchers at ten UC campuses. https://t.co/URR0ZiXrKr https://t.co/nX8O7Md2nQ Happy International Women's Day! Observed since 1911, today we share posters in our Special Research Collections from past #IWD celebrations.\\n\\nView them online:\\nhttps://t.co/GOqmxmxiML\\nhttps://t.co/DaE7FuYudc\\nhttps://t.co/matcxNtuTO\\nhttps://t.co/LZa2ExZfJq\\n\\n#IWD2021 https://t.co/Ypv06Ehdw1 Our March enewsletter is out! Learn more about #OEWeek, the Library Undergraduate Research Award, UC Library Search, plans for reopening student study space, and upcoming events: https://t.co/IjMcyjXSTy Happy #WomensHistoryMonth! See how well you know these nine unforgettable women by taking our quiz. 🌟 🌟 🌟  https://t.co/oTnPsM99Gk It's #OpenEducationWeek—a time to learn more about OE practices, policies, and Open Educational Resources (OERs). See how UCSB Librarian Angela Chikowero can support faculty interested in Open Education: https://t.co/z9DcuOCGOC Applications open March 15 for our 2021 Library Award for Undergraduate Research that honors students who produce a scholarly or creative work using the resources and services of the Library. Winners receive $750 (1st place) &amp; $500 (2nd place). \\n\\nMore: https://t.co/LHE11K5kkR https://t.co/YAncAoKKV7 Zine workshop happening today at 4 PM!  Learn how to make a zine and contribute pages to a group zine exploring themes from the #UCSBReads2021 book \"When They Call You a Terrorist: A Black Lives Matter Memoir\"\\n\\nhttps://t.co/VDVM7N3sFN https://t.co/RJGonkjXN1 On Thursday, a panel discussion and Q&amp;A with #UCSB medical and microbiology experts will explore the vaccines and other non-pharmaceutical interventions aimed at mitigating the spread of COVID-19. Open to all campus and community members: https://t.co/Dhfo0o6cjw https://t.co/FUI9bm1GSo Gauchos - want to meet other students who care about racial justice? We're organizing student-led small group reading discussions to dive into the #UCSBReads2021 book \"When They Call You A Terrorist: A Black Lives Matter Memoir.\" Sign up here: https://t.co/r4HZsBHH0g https://t.co/qyqKrFebmY This week's @SchooledR goes to the @UCSBLibrary   for a great discussion with UCSB's Evolving Workforce Resident Librarian, Des Alaniz. Learn about zines and more. Listen up! https://t.co/foBDnWW5bi https://t.co/OtylbkJbTa Next Tuesday, join us for the #UCSBReads2021 Zine Workshop. You will learn how to make a zine and can contribute pages to a group zine exploring themes from the book, \"When They Call You a Terrorist.\" Register here: https://t.co/Xp1OQ0cC6C https://t.co/tj9KxGiDyf What is a zine? How do you make one? Watch this video for more and attend one or both of our upcoming zine-making events!\\n\\nFeb. 17: Zine Making Club \\n12-1 PM \\nhttps://t.co/tFSVyjPB6r\\n\\nFeb. 23: UCSB Reads Zine Workshop \\n4-5 PM \\nhttps://t.co/Xp1OQ0cC6C\\n\\n https://t.co/7ye5jkdN3h UC Library Search is coming this July! You'll be able to:\\n✔️search all 10 UC libraries' collections in the same system\\n✔️locate millions of print &amp; online books, journal articles, and more\\n✔️borrow &amp; renew from any UC library using only your UCSB NetID\\nhttps://t.co/IukjlfaOJ1 Happy #LunarNewYear to all those in our UCSB family who celebrate! 🐂 https://t.co/YCz5XK5gFA (2/2) \\nAnd so this day that's set apart\\nTo tell the secrets of the heart\\nSaint Valentine's\\n\\nI choose as fittest thus to send\\nMy wishes to my fondest friend\\nIn these few lines.\"\\n\\nValentine's Day card, SC 1052. Dept of Special Collections, UCSB Library, UC Santa Barbara. In honor of Valentine's Day, we pulled this beautiful card from 1801 out of our vault. It says:\\n \\n\"Hope cheers us all, and I have one, \\nA hope which I will tell to none\\nDear youth, but thee.\\n \\n'Tis this - that in our inmost breast\\nMy memory is still caress'd\\nAs wont to be\\n(1/2) https://t.co/TJmojWpzQJ @halipalombo 🎉🎉🎉 Thank you @KCSB for being a media sponsor of UCSB Reads! Tune in to @KCSB 91.9 FM every Thursday from 5:30-6:00PM (starting tonight!) to hear selections from the #UCSBReads2021 pick \"When They Call You a Terrorist: A Black Lives Matter Memoir\" by @OsopePatrisse and @ashabandele. https://t.co/0UvEAMqbSK UCSB undergrads, grads, and postdocs - Do you find beauty in your research? Submissions for the 8th annual \"Art of Science\" competition are due February 22. More info here: https://t.co/h7KIPHYKma\\n\\nFirst, Second, Third, Best Caption, and People's Choice are awarded prizes. https://t.co/nMyg064y26 The American Radio Archives will be moving to UCSB. The collection, one of the largest in the world, was previously housed in Thousand Oaks. KCSB’s Sierra van der Brug speaks with David Seubert with the UCSB Library Special Collections to find out more.\\nhttps://t.co/wTMcctfM57 @michaelharriot Thanks for sharing out one of our historical recordings! Knowing it made your day to hear his voice is part of the reason why we work to digitize these treasures. For this eerily gorgeous new record, @halipalombo tapped century-old cylinders from @UCSBLibrary to craft a series of short ambient works 🖤🖤🖤Available through Bandcamp. https://t.co/dA5PHHYrDr New! 3 GO OutdoorTables were installed in the Mountain Side courtyard and are ready to use NOW for outdoor study space. \\n\\n🌞solar powered\\n⚡️have USB plug-ins\\n💡have lights that come on at night\\n🪑seats are first-come, first-served https://t.co/QSDKX43W49 Thanks for including our online exhibit! \\n\\n\"A Historical Retrospective of Black Lives Matter through the Black Panther Party and African American Historical Collections\"\\nhttps://t.co/XC1GPOIOXj https://t.co/rDA1gnR2yT @UCSBLibrary seeks an Analytics Coordinator to be responsible for the coordination of  the assessment program of the Collection Strategies Department. Learn more on the job board! https://t.co/uivQS72oBo \\n\\n#CLIRjobs #DLFjobs #libraryjobs https://t.co/rZDPjdzk14 @primrosepress @scrippscollege Thanks for the correction, Tia! February is Black History Month and this year we're highlighting Black voices at UCSB, as they are taking the lead in elevating the African-American experience through the university’s public programming. https://t.co/bexV1Fv8YS Check out the article by @victorlorenb in today's @SBIndyNews #BlackHistoryMonth issue featuring our #UCSBReads2021 pick, \"When They Call You a Terrorist: A Black Lives Matter Memoir\" by @OsopePatrisse and @ashabandele. https://t.co/pUuh6kwRKL https://t.co/52siRJUUgB Happy to get you the materials you need! https://t.co/hC3P4HdOfH Our new online exhibit \"A Historical Retrospective of Black Lives Matter\" enables easy access to primary sources from our Bay Area Black Panther Party collection and other African American historical collections. Check it out: https://t.co/XC1GPOIOXj\\n\\n#BlackHistoryMonth For the first time, all 10 UC campuses are joining forces this February to present UC Love Data Week. Learn all about this UC-wide virtual event &amp; sign up here: https://t.co/uj80M1Ptre https://t.co/9HC41MjdRO 4 PM today! Don't miss this talk with Tia Blassingame @primrosepress, a book artist and printmaker whose work explores the intersection of race, history, and perception.\\n\\nRegistration info here: https://t.co/eFuQZAEgxu https://t.co/Z3PFXhziIo Tomorrow (2/2) at 4 p.m., book artist and printmaker Tia Blassingame will give a virtual talk about her work. Join us! Event info and registration link here: https://t.co/I1niQPTi8m\\n\\nPictured: Some of Tia's work that we hold in our Special Research Collections. https://t.co/Qxu1I1eaYj The February issue of our Crossroads e-newsletter is out with info on upcoming events, staff news, and a new online exhibit featuring documents from the Bay Area Black Panther Collection. Read it here: https://t.co/QLudrAUkJL Out today, @halipalombo's record \"Cylinder Loops\" is composed with recordings from our Cylinder Audio Archive. Check it out: https://t.co/q6vS4Jwpba\\n\\n#ArchiveInAction #WaxCylinders https://t.co/1bEjjckroJ The Colorful New Addition to UCSB Library https://t.co/imOxZNYqm6 https://t.co/TfuGv0dGpT\\nHali Palombo has delved into UCSB's wax cylinder library and created a mysterious album of altered loops We're excited to host two Zotero workshops in February! Register here:  https://t.co/syVj62fYnN https://t.co/tJ9nUa546i Happening today -- Prof. Pandya to give talk for UCSB Reads event! https://t.co/CoXqKGqdCu Don't miss next week's conversation with @sameerpandya and Terence Keel about Pandya's recent novel, \"Members Only\" and its themes of race and culture. Co-sponsored with @UCSB_ASAMST. \\n\\nRegister here: https://t.co/mPQC9dXQIW https://t.co/smqajoFqEE Out of more than 130,000 documents, the most viewed of #UCSB's American Presidency Project are the inaugural addresses of Franklin D. Roosevelt and John F. Kennedy. Explore them on this #InaugurationDay: https://t.co/dnS3HbP2xM https://t.co/RG2sil1G3H On this #MLKDay2021, scholars at #UCSB reflect on Martin Luther King, Jr. and his fight for racial equality and social and economic justice. Read more of their words: https://t.co/gKIcOEgR6T https://t.co/ENEGakhs2Z In honor of Martin Luther King Jr. day, our librarian Angela Chikowero has updated our research guide on race, racial relations, and the Black experience in the U.S. with more books, videos, and other items about MLK available through the Library. More: https://t.co/bLNFVhTZZq https://t.co/dDUjHdQ0m8 We love helping authors publish #OpenAccess. Now anyone can read this new article out by @VHTroyansky 🎉 https://t.co/pOeQ95B5wi If you are on campus, #ggse, go get a free copy of the #UCSBReads2021 book.... https://t.co/1CSGn7AKZY Gauchos! Today is the last day to swing by the Campus Store between 11 am - 1 pm and get your free copy of the #UCSBReads2021 book “When They Call You a Terrorist: A Black Lives Matter Memoir” by @OsopePatrisse &amp; @ashabandele https://t.co/KHVUfh6HqG @JanusonisLab So many great views from our building! Glad the Library is a part of Geneva's memories of being a Gaucho. @meupdates We love your dedication to UCSB Reads and are excited to have you again take part in the program. I’ve read nearly all the UCSB Reads books over the years, and I’m excited to read this one! https://t.co/yyXxXvxH4K From now through May, we're sponsoring virtual talks, book clubs, exhibitions and other events to explore the themes of the #UCSBReads2021 pick \"When They Call You a Terrorist: A Black Lives Matter Memoir\" by Patrisse Cullors and asha bandele. More info: \\nhttps://t.co/MqVRHiy6wH Today, I’m going live with @UCSBLibrary to talk about social justice advocacy and the culture of outrage! Join us at 7 PM ET / 4 PM PT for this discussion ⬇️ https://t.co/1qDgIwloxJ Register now for our Pacific Views talk with @Tania_Israel this afternoon. She will discuss how to engage in effective dialogue with people across political lines. https://t.co/E2HUhkCIwL https://t.co/Ps1ClU2KZm Update: We've again extended due dates for our materials. Most are now April 23, 2021 or later. Please consult your Library account for the exact date. No overdue fines are being charged at this time. More FAQs here: https://t.co/WGzjRL0oZf KCSB’s Pia Ramos speaks with Hannah Rael, Communications and Marketing Manager and Alex Regan, Events and Exhibitions Librarian at UCSB Library to learn  about the distribution of this year's UCSB Reads selection. https://t.co/55ozDbxeu2 #UCSB has donated the #IslaVista Theater for ongoing COVID-19 testing, available to the local community beginning today. Fridays and Saturdays, walk-in only. Open to all. https://t.co/5iuYtf7ffb “Social Justice Advocacy and the Culture of Outrage”: \\nThis is the title of the next Pacific Views Lecture, sponsored by the UCSB Library. Professor Tania Israel (Feminist Studies, UCSB) will speak on Wednesday, January 13, 2021, beginning at 4:00 PM PST. https://t.co/leRoD2Brx6 Book giveaway starts today! https://t.co/g8ZLL1gQCi If you missed our \"Meet the Guardians of Early Sound\" event last night (or if you want to rewatch the highlights), the recording is now available. Learn more about Southern California audio cylinder collectors working to preserve this piece of history. https://t.co/632cqnNU7V @wmcarterelliott Glad we could provide this resource! BOOK GIVEAWAY: UCSB students can come by the @UCSBbookstore between 11 AM - 1 PM next week (Jan. 11-15) to pick up a free copy of the #UCSBReads2021 pick, \"When They Call You a Terrorist: A Black Lives Matter Memoir.\" We look forward to reading with you! https://t.co/e4vsrcrZjl Want more details about next week's #UCSBReads book giveaway for students? Watch for info: \\nhttps://t.co/NcFqoU3NXR @renee_altergott So glad you joined us! Get more of this insight at our Pacific Views: Library Speaker Series event at 4 p.m. on Jan. 13 featuring Prof. @Tania_Israel. Info and registration link here: https://t.co/ADBrW0GlZL https://t.co/5tnMibhs3Q Hey! I'll be part of a panel this evening discussing my @latimes project on the Southern California wax cylinder community. Come on by. https://t.co/8EV20rvwvx Meanwhile, at my job... https://t.co/dXcjylrtbR Want to be better prepared to effectively engage in conversations across political lines? Join us next week when Prof. @Tania_Israel will offer a blueprint for dialogue-based social justice advocacy. Register here: https://t.co/vhTWVv3NVD https://t.co/YYski0AUke Join us next week for @UCSBLibrary's Pacific Views: Library Speaker Series. @Tania_Israel presents \"#SocialJustice Advocacy and the Culture of Outrage.\" Register here: https://t.co/X9KMf0zho5 Yes! You can view the @albardach collection contents here: https://t.co/i1AgUmjGGJ https://t.co/EOHO37jEhA Gauchos! #UCSBReads2021 kicks off next week with a giveaway of this year's selection, \"When They Call You a Terrorist: A Black Lives Matter Memoir.\" Stop by @UCSBbookstore between 11 AM - 1 PM Jan. 11-15 to pick up a free copy. More info: https://t.co/ZcEAohTsk2 https://t.co/BTE2Zpmf7o On Thursday I’ll be part of a UCSB Zoom discussion on the Southern California guardians of early wax cylinder recordings. Join us! Details below. https://t.co/We2uKJIZSf Join us this Thursday for a virtual discussion with some of the people behind the effort to find and preserve some of the earliest sound recordings. \\n\\nRegister here: https://t.co/vuWqD7gwwm https://t.co/bYlu1TedQY @vdehejia We would love to have you back! @vdehejia Thanks so much for supporting the Cylinder Audio Archive! Because of people like you, we can make more of the collection accessible. Here's a golden opportunity to learn more about the preservation of rare cylinder recordings @ucsantabarbara @UCSBLibrary, which has one of the great collections of early cylinders! https://t.co/yvpDefDksr @KCLUNEWS Thanks for spreading the word! We look forward to making this collection more accessible to the public. One Of America's Largest Broadcast Archives Headed To Santa Barbara County #thousandoakslibrary #thousandoaks #pacificpioneerbroadcasters #knx #knxnewsradio #ucsb #ucsblibrary #allaccess https://t.co/u7jPnBzqd7 The January issue of our Crossroads enewsletter is out! Read on for info on our January events, UCSB Reads book giveaway for students, a new online exhibit, and more! &gt;&gt; https://t.co/VfY60kc0Sf We look forward to welcoming the American Radio Archives to our Special Research Collections later this year. Listen to @KCLUNEWS interview with our Performing Arts Curator David Seubert about the historical significance of this collection. \\n\\nhttps://t.co/kbcoJ1bALF CCSP's @Tania_Israel to give talk “Social Justice and the Culture of Outrage” as part of the Pacific Views: Library Speaker Series on January 13. @BYBdialogue @UCSBLibrary https://t.co/0WbYChqCCk https://t.co/6075YYHNdX Though the building isn't open yet for study, many of you have asked how we're handling our indoor air quality. All of our large air handling units have filters rated MERV 15 - the same filters used in hospital inpatient care spaces. More details here: https://t.co/WGzjRL0oZf The archives are the largest collection of radio memorabilia in the country and one of the biggest in the world. https://t.co/RrCUiblAZN Get ready for when the clock strikes midnight on the New Year by queueing up one of several digitized historic recordings of “Auld Lang Syne” in our Cylinder Audio Archive. You can download them here: https://t.co/Q8kzVPg3rS \\n\\n#HappyNewYear2021 In partnership with Beau Beausoleil and Heather Hughes, Mona Damluji (Film and Media Studies, UCSB) co-curated a virtual exhibition of The Shadow and Light Project that honors Iraqi academics killed in Iraq between 2003-2012. Hosted by the UCSB Library: https://t.co/GSR70ZauQ8 https://t.co/MqhCBtt2Ds Thank you @NoozhawkNews for spreading the word that we will soon be welcoming one of the world’s largest and most valuable collections of radio broadcasting to our Special Research Collections. https://t.co/urubMH5OU7 Thank you Edhat....UCSB Lands an An Enduring Gift from Santa Barbara based journalist https://t.co/8PrKigtrpo The American Radio Archives will soon be part of @UCSBLibrary’s Department of Special Collections. The collection is one of the first in the state and includes original recordings of Winston Churchill, in addition to other records dated as early as 1922. https://t.co/IRD6SHQ1Vy If you're looking for some seasonal tunes, our Cylinder Audio Archive contains many digitized recordings of Christmas music and stories from the early 1900s. Listen to them here: https://t.co/Vf2nDVq3fK The holiday season is upon us, so let’s keep our celebrations safe. COVID-19 testing is available to #UCSB students in #IslaVista at no cost through Wednesday. See Winter Break 2020 Travel Guidance from @UCSBshs: https://t.co/nK0r9IGroI https://t.co/sTsiWtDIqn “UCSB has one of the largest collections of performing arts records, sound recordings and broadcast recordings on the West Coast as well as a state-of-the-art audio laboratory, making it our first choice and a natural fit for the American Radio Archives.”\\nhttps://t.co/euAqX3FKEz This is the second major sound collection to go to UCSB this year \"It is critical that such a wonderfully curated collection documenting the Golden Age of Radio is preserved and accessible,” said City of Thousand Oaks Mayor, Claudia Bill-de la Peña.\" https://t.co/hDSLIiQJjZ Great news! Congrats to our friend David Seubert @UCSBLibrary! 🎙️ See also https://t.co/J5aUlVkjRt https://t.co/DQ9kChCBrz UC Santa Library Special Collections to Become Home to the American #Radio #Archives https://t.co/XWaq79buDT #media #broadcasting @UCSBLibrary https://t.co/HCm9V6dSrQ Have a wonderful Winter Break, Gauchos! See more details about our closure and services here: https://t.co/BfLuckM5eo https://t.co/Ejl7qM9Wss Just installed this huge new artwork at the UCSB Library entitled \\n“Check It Out”, it’s https://t.co/8VIYGecqCn The Art of Science initiative invites current UCSB undergraduates, graduate students, and postdocs to tell the story of their research through the aesthetic.  Submit now https://t.co/MgPZhdblt0 #SchullerLab #UCSBCNSI\\n@UCSB_CCS @UCSBLibrary @UCSBengineering @ucsantabarbara https://t.co/NQSKMcy7z5 @szelazek Thank you! ☺️ @UCSBLibrary All of the people who work for your library, or any library, are heroes. Thank you. 🙌 Elsevier signs Declaration on Research Assessment (@DORAssessment); implementation steps will include making reference lists of all articles in our journals openly available via @CrossrefOrg https://t.co/8XUh7tzt90 #sfDORA Thanks for spreading the word about our aerial photos! \\nMore info here about the collection: https://t.co/5P6gz8a9ID https://t.co/OWMngYjAZi A librarian is available 24/7 to answer your questions via our chat service, which you can access at the bottom right corner of our website: https://t.co/FMNjY2Wh6W. Chat will even be staffed throughout the holidays!\\nhttps://t.co/O0iM1ZAEyb Good luck on your finals, Gauchos. The end of the quarter is in sight! 📚 https://t.co/RLSIPmkXzN A thoughtful, lucid article by Sherri Barnes that discusses the COPIM project in relation to its 'transformative' potential (an increasingly contested term in relation to OA, and one that Sherri explores in this piece): https://t.co/aM50OdVkMz \\n\\n#OAbooks #OpenForWhom WORKSHOP: Demystifying the Book Publishing Process &amp; Connecting with UC Colleagues\\n\\nTuesday, Dec. 15, 11:30 AM\\n\\nUC Press editors will offer a workshop for UC faculty and graduate students on the academic book publishing process.\\n\\nLEARN MORE AND REGISTER: https://t.co/Ubdy3ExEky https://t.co/IcVMWyZmNI Check out this article by our #ScholarlyCommunication librarian Sherri Barnes about the crisis in scholarly publishing and how the @COPIMproject is navigating the shift to #OpenAccess via @ALA_ACRL: https://t.co/xuuq3BDgT0 Excited for UCSB Reads next year, with Patrisse Cullors and asha bandele. https://t.co/RoTUnt7LZg @helenlmorales Yes! We're excited, too. Our December enewsletter hit inboxes today. Check it out here: https://t.co/FYhW0i0sUY\\n\\nInfo inside about UCSB Reads 2021, our year in headlines, holiday closure information, and more. Free COVID-19 tests are available on campus for all #UCSB students, regardless of symptoms or insurance, through next week. If you traveled over the holiday break and were tested upon your return, @UCSBshs suggests self-isolating for 7 days and then taking another test. (1/2) https://t.co/B7OEY2Fp4Z We urge those who have traveled over the holiday to get tested for COVID-19. Free-of-charge testing, regardless of symptoms or insurance, has been expanded to Friday, Dec. 11 for all #UCSB students living near campus. Visit https://t.co/nqQFr6nhen. https://t.co/Iu4xUeo8zS Well, I moved all 65 boxes of book &amp; journal research over to UCSB Library's Special Collections, in good company w/ Lou Cannon's  Reagan papers. I'm sure Fidel Castro agrees. Thank you Montecito Journal! https://t.co/AWjngJYjl2 @XanBrooks So sorry for your loss, Xan. We are honored to preserve your father's archive so new generations can continue to appreciate the legacy he left. We've received a lot of questions about how to return books and materials. Watch the video for answers or read more details here: https://t.co/WGzjRL0oZf\\nhttps://t.co/vZhxmt1Zqq Join LHP for Student Activist interview week! Interviewing UCSB student activists all next week via IG live! https://t.co/7FU0IhZTwz Our materials pickup schedule is slightly different this week due to the Thanksgiving holiday. See hours below and more info here: https://t.co/ODXxZRiVAS https://t.co/bCipcsxrZj Today is Transgender Day of Remembrance. There are many ways to show support for the transgender community, including learning more about the issues the community faces and how you can work for meaningful change. See the resources we have for you: https://t.co/pG2LX7Ghp1\\n\\n#TDOR https://t.co/USRoU4cISh A Temple of Sound Awaits in the @UCSBLibrary's Collection of Early Music and Sound Recordings\\n\\n#ResearchLibraries #Collections #Archives\\nhttps://t.co/2CmQ39vJpI Details about winter quarter instruction and housing, COVID-19 in Isla Vista, and the campus’s testing capabilities can be found in Chancellor Yang's update: https://t.co/Trte2oDGll (2/2) Fourteen #UCSB researchers have been named among the most influential scientists in the world, according to the 2020 Highly Cited Researchers list released by Clarivate Analytics. @webofscience #HighlyCited2020 https://t.co/CsRkXGyHF3 1,400 theatrical recordings of Shakespeare donated to UCSB Library: Latest Library Links https://t.co/yoJZn2MIk4 How does #CANotify work? 📱 You will get an alert if you were in close contact with someone who tests positive for #COVID19. Your identity will never be revealed and your location will never be tracked. This video from @Google explains the technology. https://t.co/r3PgIAXNfL “Journalism is about being almost the abrasion to those in power... It’s not about cozying up — being pals — it’s about the scrutiny and the revelation. And that to me is absolutely the safeguard of American democracy.” -@albardach \\nMore via @NoozhawkNews \\nhttps://t.co/2gfXfr5mb8 #UCSB is joining a pilot of #CANotify! 📱 W/smartphone technology from @Apple &amp; @Google, you can get notified if you’ve been exposed to #COVID19 so you can seek medical attention &amp; reduce risk of exposure to others. For instructions &amp; to learn more visit: https://t.co/jVFmZhfvPj https://t.co/V8jS8Qxoib #UCSB is joining a pilot of #CANotify! Using @Google and @Apple smartphone technology, the program can identify potential exposures and reduce the spread of #COVID19. Help keep Gauchos safe by opting in to exposure notifications today: https://t.co/oRBPfRcFtQ https://t.co/9oeYHn6qow “Disability Culture in the Archives” @UCSBLibrary was a student project from @Jesse_E_Miller's 2020 class Disability Aesthetics. https://t.co/xcnWvhiigc P.S. - The \"facility\" is the UCSB Library Special Research Collections! We're honored the Cylinder Audio Archive was featured in the @latimes. https://t.co/TtWDl9BCTS .@UCSBLibrary's Department of Special Research Collections is home to award-winning American journalist Ann Louise Bardach's work: an archive that continues to resonate with filmmakers, journalists, scholars and the public. https://t.co/xmq6C8UYjM I Love 😍 @UCSBLibrary’s Cylinder Audio Archive!\\n\\nThey let me gather a playlist of 100 year old accordion 🪗 recordings:\\nhttps://t.co/orXIRjwMak\\n\\nThat was the seed of my Accordion Revolution book 📚 \\n\\n🙏🏼 @LilEdit\\n@tedgioia https://t.co/iLT7ugfP6d @clancynewyork @pamelacolloff Yes! Exactly. A treasure trove of her investigative process. @pamelacolloff That's part of the reason I was so happy to see this gift to the UCSB library–decades of files of an investigative reporter. Full interview transcripts, correspondence massaging people to get the interview–the history of how it's done, really. :)\\nhttps://t.co/lJZwL86krG Nice score for the old alma mater. UCSB Library Acquires Investigative Journalist Annie Bardach’s Archives | Local News - https://t.co/vZ7SmQ7eau https://t.co/03G43gnqam We're honored to have @albardach's lifetime research files in our Special Research Collections! https://t.co/tctzepg4Br Tonight! Drop-in on Zoom between 6-7 p.m. and join our librarians and @ucsb_rcsgd for Zine Making Club. More info at https://t.co/tTuxuXpEET. https://t.co/lumxWrhiW2 Thanks @espn for featuring Gaucho alumnus Capt. Lowell Steward in the #VeteransDay article about Tuskegee Airmen in Sports. https://t.co/cABc7p6uQs\\n\\nPhoto on the right retrieved from our University Archives El Gaucho/@dailynexus collection. Nov. 28, 1941 https://t.co/i0Mvz9PkMn https://t.co/gmuXj5YYjj A temple of sound awaits in the UCSB's collection of early music and sound recordings https://t.co/EK2ylBJhut @latimes Thanks so much for featuring our amazing staff and their work collecting and digitizing the Cylinder Audio Archive! @clancynewyork @albardach We're so glad to have your research files here! Wonderful new acquisition of the archives of investigative journalist Ann Louise Bardach. Including files of her decades of work on Castro and Cuba. @UCSBLibrary https://t.co/JefCdzvsNR David Seubert, curator for the Performing Arts Collection at @UCSBLibrary, takes us through the most extensive collection of early music on the West Coast. 🎶 https://t.co/ShZ9NwdrwL In recognition of Veteran’s Day, join veteran and military staff members, administrators, and student leaders for a celebration at 4 pm today hosted by the #UCSB Veterans Resource Center! Event details: https://t.co/ayGAsgQofx https://t.co/bcgqEdPXYG @vee_vee__ The whole building has been deep cleaned during this closure so it will be primed and ready for you when we are able to reopen again! The wait is over! Read more about the #UCSBReads2021 pick and save the date (May 12) for the live virtual author talk with @OsopePatrisse: https://t.co/AW3NTsfYPz https://t.co/MtpBATRcxq Historical Recordings at Database at @UCSBLibrary Gets a Reboot\\n\\n#ResearchLibraries #collections #LinkedData\\nhttps://t.co/3GFujJlIrW Drop-in to Zine Making Club from 6-7 this Thursday (11/12) and get creative with the @ucsb_rcsgd a couple of our librarians! Whether you are brand new to zines or you are a longtime zinester, you can contribute to the Fall zine: Hopes, Wishes, and Dreams! https://t.co/gQm6eKhrpO https://t.co/Rbg5qWueHk Collection of 1,400 Theatrical Recordings of Shakespeare Donated to UCSB Library https://t.co/crPPRYNUj9 via @Noozhawk https://t.co/onNK9VTjS2 Our Special Research Collections is now home to more than 1,400 diverse theatrical recordings of Shakespeare that scholar and author Robert J. O’Brien collected over his lifetime. Read more: https://t.co/cLrZK9rtGI November is Native American Heritage Month. Check out our online exhibit that explores Indigenous heritages and identity across the Americas. \\nhttps://t.co/FXOwfIuZy7 ICYMI - Interlibrary Loan (ILL) has resumed borrowing books from other libraries. This week, the service expanded to all UCSB affiliates, including students, staff, and faculty. More info: https://t.co/9AlzhkTd0n https://t.co/VPJAM4INFw @bingulibraries @LibMarComConf @unflibrary @uflib @unolibraries @CWULibrary Agreed! Loving the conversations and ideas coming out of #LMCC20. Come work with us! https://t.co/rRmsIiDfPu Multiple departments have come together to offer events and spaces for the #UCSB community to reflect, process, find support and decompress with news around the election as votes continue to be counted. Learn more: https://t.co/x12JqbRPVT https://t.co/1DmmRW1lBi Today! We're excited to co-sponsor this event with @ihcucsb. Register here: https://t.co/0806cABQmk https://t.co/UXp90N9HVW Many of you may be experiencing anxiety and stress as you wait for the election results. Don't forget that we have a Well-being Collection with many book and ebook recommendations to help you through times like these. View the resources here: https://t.co/QGgMsuozF8 https://t.co/U49cLt6FtV The building may be closed, but the palm views are available! https://t.co/R2eg3zzgoN Gauchos! Got thoughts on how the Library can best serve you during this time? Register for our next Deep Dish on Nov. 16 for a chance to chat w/ our University Librarian about your needs. Confirmed participants will receive a $15 Amazon gift card. Sign up: https://t.co/7fO70ZPY1V https://t.co/aENcAUobDy Check out this interview with one of our recent event guest speakers, Rod Lathim of Access Theatre Santa Barbara. https://t.co/CWqFLUnUY0 Follow these tips for #COVID19 safety for in-person voting. Your assigned polling location &amp; drop boxes are listed in Voter's Guide &amp; at https://t.co/QVYcy3b01u. https://t.co/5fwBKBpZbv It’s #ElectionDay! Postmark your mail-in ballot today or head to the polls before they close at 8 p.m. Visit https://t.co/0Tzs7bgSpH for more voting information, events, and resources.\\n\\nImage: \"Act On It\" by artist Alonzo Davis. From the @SHG1970 archive: https://t.co/O4bdjX6H0p https://t.co/aUKo2F9Lsp On this #ElectionDay, here's the 1985 print \"Act On It\" by artist Alonzo Davis, from the @SHG1970 archive at @UCSBLibrary: https://t.co/serQbIbbwA https://t.co/qdiYOqaBXW Excited to announce that @UCSBLibrary is seeking a new Digital Humanities research facilitator. Details here: https://t.co/d4zwjXinUr\\n\\nPlease share widely! ¡Feliz Día de Los Muertos! \\nImage: Oil on canvas piece by Sam Coronado from the @SHG1970 archives in our Special Research Collections. View more items from this collection here: https://t.co/w70MRBjyZt https://t.co/vHf8riCLPJ Grads, Postdocs, and Faculty - TODAY (11/2/2020) at 4PM our librarian, Marisol Ramos will lead a workshop on advanced search techniques using UCSB Library databases. \\nJoin at: https://t.co/zEnj9C4vUS https://t.co/SeU0BX0cTy Self Help Graphics hosted its first Día de los Muertos celebration in 1972: https://t.co/7Uhkokm1ra. #DiadelosMuertos posters &amp; prints from the @SHG1970 archive at @UCSBLibrary: https://t.co/7HxKATZc5J https://t.co/AkDF6XlVhh 🎉 https://t.co/QfrM74EkvZ We are proud of our AUL Lidia Uziel for being selected to serve on @CRL_Global's International Collections and Content Group! https://t.co/JTVktKX1eC Starting tonight, @UCSBrecCenter, @asprogramboard, other #UCSB partners and the #IslaVista community present you Halloween at Home! 🎃The full schedule of activities can be found at https://t.co/nd3MIg4uPx. https://t.co/vNG1Hzz111 If you missed the event, watch the recording here: https://t.co/vfcj51M0sq https://t.co/3aoYSZeqwc We wish we could welcome you to our beautiful campus in person this year, but join us instead for our fall Virtual Open House on November 6 from 10AM - 3PM PST. For session details and registration, please visit https://t.co/OMaW99rxwB. https://t.co/yhli96wFaZ “ Notably, the UCSB Library has acquired all of her materials related to the U.S. government’s case and trial of the anti-Castro militant, including those that were subpoenaed by the FBI and the Department of Justice.“ https://t.co/77BQ6njBcL Register for the event here: https://t.co/DIcTUI3gyb\\n\\nThanks @KCSBNews for the coverage! https://t.co/96oGjbaQ7d FYI - for all local Gauchos https://t.co/peqANG8akl Join us tomorrow (10/27) for our first Pacific Views lecture of the year @ 4 p.m. via Zoom. More info and registration link here: https://t.co/hACy1ISvBC\\n\\nThank you @UCSB_ASAMST and @NoozhawkNews for sponsoring. https://t.co/R5RQEI8I6g 💚 https://t.co/PX9Jo9LKaS \"open access is open access is open acces, so anyone having access to the internet can access the book, no matter where they are living and how rich or poor they are. It’s the most democratic way to make knowledge accessible\"\\n\\n🧡 @OpenBookPublish 🧡\\n\\nhttps://t.co/4Vvt0iMJ7z We are so lucky to have @albardach's lifetime career research files in our Special Research Collections archives. Read more: https://t.co/xh79JXuM9h Thanks for the highlight @ucsbadmissions! \\n\\nUCSB students, faculty, and staff can find out more about our pickup and mailing service here: https://t.co/ODXxZRiVAS https://t.co/i5MJCGHLyt For local students and community members seeking a COVID-19 test, there are multiple options in the Santa Barbara area. Learn more on #UCSB’s COVID-19 information site: https://t.co/hWMDJGIsHr https://t.co/bRRMWVoOgW Yesterday, students shared how they used Special Research Collections archival materials to highlight the history of disability culture and activism at UCSB for a class project. Feat. guest Rod Lathim of Access Theatre. Watch the recording:\\nhttps://t.co/61QckP7px9 A very interesting snapshot of what has been accessed via the @hathitrust Emergency Temporary Access Service. As a UCSB student, faculty, or staff, you are able to use this service. More info: https://t.co/FOwOMVzlok https://t.co/wPpeBb9a06 Thank you @SBIndyNews for spreading the word about our acquisition of the lifetime career research files of investigative journalist and author Ann Louise Bardach @albardach. This collection is an incredibly valuable research tool, especially in the area of US and Cuba relations https://t.co/laPL26Mp6g @ivannn_arturo @fresainmymimosa @VersaceeAli In non-pandemic times, the Library can be accessed by community users during regular hours. Thank you for the kind words, @helenlmorales 😊 https://t.co/FEtw3A9mxD If you missed our \"Behind the Stacks: Meet the Specialists\" event, you can watch the recording at this link. Learn about our scholarly communication, teaching &amp; learning program, undergraduate research award, open educational resources work, and more! \\nhttps://t.co/QyoRMtwYPk Learn more about our partner @punctum_books and how they are advancing #OpenAccess book publishing. https://t.co/BpDLxjTsIG Grad students, faculty, and researchers - join us for one of our workshops on using Zotero! https://t.co/kjrR4kUwsr Check out the thread for resources on the event last night. https://t.co/46KIQ0ToGo We miss our users, too. You got this, @VersaceeAli! https://t.co/ReIZhIjETL We feel you! 💙💛 https://t.co/nJ29Z8fpDd Join us at 2 p.m. TODAY for an event inspired by a class project and exhibition highlighting the history of disability culture and activism at UCSB. Registration info here: https://t.co/uaQirPkUCP https://t.co/mlYNy1wydk 🥰 https://t.co/9ZJfe9DRRL @jamesmcnamara27 Thank you! Doing what we can during this difficult time. Glad you are using the resources we have available! Registration is open for upcoming #COVID19 testing events in #IslaVista happening Oct. 23 &amp; Oct. 24 . To make an appointment, please visit https://t.co/gpSHQvDqs3. https://t.co/Ql05w0199S Coming up tomorrow! We're thrilled to welcome @JimLeBrecht and @NicoleNewnham to CWC Virtual for a discussion of their fantastic new documentary, CRIP CAMP: A DISABILITY REVOLUTION (@CripCampFilm). Registration is still open; click through below! https://t.co/Qp3edlFv60 Honoring the 30th anniversary of the Americans with Disabilities Act, @CarseyWolfUCSB and @UCSBLibrary will host a virtual discussion with the directors of the film “Crip Camp: A Disability Revolution,” telling the remarkable story of Camp Jened.  https://t.co/cFmV8N2bjT Join us on Tuesday for a \"Behind the Stacks\" event featuring a panel of our librarian specialists. More info and registration here: https://t.co/JsUFV70GXL https://t.co/JDJMjctasI Next week is #OpenAccessWeek! Check out this newsletter from our Scholarly Communication Librarian about resources to help scholars navigate the increasingly open scholarly communication system. https://t.co/PdaWDLxC5l\\n\\n#OAWeek #ScholarlyCommunication A useful roundup from @UCSBLibrary about the first year of COPIM's activities! https://t.co/NDBWnnRICm\\n\\nAs we approach this milestone, we'll be publishing more on what we have achieved in this challenging year -- keep an eye out 👀\\n\\nThanks to all who have worked with us! #COPIM Need help managing citations for your research? UCSB grad students, faculty, and other affiliated researchers are welcome to attend a workshop led by one of our librarians about @zotero, a free bibliography management tool. Sign up for a session here: https://t.co/4njQlwZ6Wj https://t.co/6jjioJ6XxX Grad lunch and learn this Friday, Oct. 16! \\n\\nPresentations:\\nStudying Sexual Consent Qualitatively - Cierra Sorin, Sociology\\n\\nThe Price of Autonomy in Large-Scale Systems - David Grimsman, Electrical &amp; Computer Engineering\\n\\nMore info: https://t.co/WrohGPktwK Starting today, UCSB faculty and grad students can submit requests for Interlibrary Loan (ILL). We will begin borrowing books from other libraries again on Oct. 19. More details about this service here: https://t.co/fZceHPOtFB Gauchos! Our student-led small group reading discussions of the titles on the UCSB Reads shortlist start tomorrow. If you're interested in exploring themes of race and racism in a small group setting, sign up here: https://t.co/bgpnGHJu10 https://t.co/3BFGieZRNT Happy National Coming Out Day! Here are a few pages from last year's Zine Club Coming Out Zine. \\n\\nIf you're interested in joining Zine Making Club, hosted by a couple of our librarians &amp; @ucsb_rcsgd, the first meeting is this Thursday, Oct. 15. More info: https://t.co/gQm6eKhrpO https://t.co/Xyo76NFbyS New artwork “Check It Out” installed this week at UCSB Library ... there I am very happy!!! https://t.co/mkupaJIQMe Attend our first zine-making club meeting of the academic year on October 15 from 6-7PM over Zoom! Co-hosted with @ucsb_rcsgd. All info at https://t.co/tTuxuXpEET. You can even request materials to be sent to you in advance of the event. https://t.co/bWXh6AN3x4 The AS COVID-19 Response Task Force is giving out $300 grants on a case-by-case basis for students experiencing financial crisis due to the global pandemic. please encourage any and all to apply ASAP! https://t.co/DM9gWgtyFN Gauchos! It's the last day to be entered for a chance to win a $30 Amazon gift card by completing our virtual escape room before midnight tonight. Start here: https://t.co/9K9GdoyQDZ https://t.co/ermneX3d2v Check out page 14 for a feature on our East Asian Studies Librarian, Yao Chen! https://t.co/p3r2jHLYBa Current UCSB students - help @CALPIRGUCSB better understand how the pandemic has affected the way you're getting textbooks. Fill out the anonymous survey here: https://t.co/tHPL6bJQT2 https://t.co/9mJWXGfSYv If you missed our \"Behind the Stacks: Meet the Librarians\" event last night, watch the recording: https://t.co/ynS0HCU03E\\n\\nFeaturing 3 of our subject librarians: \\nChizu Morihara, \\nMarisol Ramos,\\nYao Chen 🥰\\n\\nThanks for the shout out @megan_ohern! https://t.co/vuSBeTlgP8 Congrats @nkjemisin on being named a 2020 @macfound fellow! \\n\\nOne of her books, \"The City We Became,\" is on our #UCSBReads2021 shortlist. https://t.co/vyCZ3HWkfN Behind the stacks w/#UCSB’s book wizards! 📚 https://t.co/UH9S0L9HCC Join us at 4 p.m. today for a 'Behind the Stacks' look into the work performed by our librarians. Register here: https://t.co/jGiwlTtSzK\\n\\nMore info: https://t.co/PcTQSdMAUF https://t.co/RAVoWnGE2I There's a lot the Library can do for you, even during this time of remote learning. We've narrowed it down to 10 key things to know so you can start using more of our resources and services as you study and work on research.\\n\\nMore: https://t.co/k81ab4ReUV https://t.co/FcsXb36Fgq Gauchos! We're organizing student-led small group reading discussions to dive into the titles on the UCSB Reads shortlist and explore themes of race and racism in a small group setting. Interested? Learn more and sign up here: https://t.co/bgpnGHJu10 https://t.co/VnXpx5TfwB .@countyofsb was assigned this week to a less restrictive tier under California's Blueprint for a Safer Economy, moving from purple to red. As our community moves toward reopening, it's important as ever to continue following health and safety guidelines. https://t.co/Jykf2XhXKk Do you know enough about the UCSB Library to escape in this 60-minute race against the clock? UCSB students who successfully escape the Library on or before Oct. 8 will be entered for a chance to win a $30 Amazon gift card. Start here: https://t.co/9K9GdoyQDZ https://t.co/tX7R5AEzoA @OLIN_Labs @theOLINstudio Very cool use of our aerial photos! Retracing the LA River 1928-2008: This animation traces the 51 mile #LARiver past and present and sets the stage for potential futures by comparing Google Earth imagery with historical 1928 aerial photos from @UCSBLibrary FrameFinder @theOLINstudio \\nhttps://t.co/WxRWtLpwnN https://t.co/8OmDIRCz8h Happy first day of fall quarter, Gauchos! Our librarians and staff are here for you, even though the building is closed. Read the full message from the University Librarian here: https://t.co/APmTIqpBgr\\nP.S. It includes links to resources and our virtual escape room experience! https://t.co/LqRJCM1C0G The October edition of our Crossroads e-newsletter is out! See the latest Library news here: https://t.co/Gn5sJd6QPG My colleagues and I created this virtual escape room for our  Week of Welcome and are excited about how it came out. Non-UCSB students are not eligible for the raffle, but anyone can play through. https://t.co/gTAdhnu5z5 Hey Gauchos! Do you know enough about the UCSB Library to escape in this 60-minute race against the clock? Successfully complete our virtual escape room experience on or before Oct. 8 for a chance to win a $30 Amazon gift card. https://t.co/9K9GdoyQDZ This fall quarter is going to look different, but we'll make the best of it. It's just what Gauchos do! 💻 https://t.co/gtk0hRRE0z Join us in welcoming the new quarter on October 5th at 5pm! https://t.co/DDvfEnVubT Protect your health this flu season. #UCSB faculty, staff, and students can now register to get their flu shot at an on-campus flu vaccination clinic beginning Wed. 9/30. More info at https://t.co/LgofYVWRyD. https://t.co/YKnuuta0ZR Starting October 6, UCSB Library Special Research Collections (SRC) will offer limited research appointments for UCSB faculty and graduate students to access on-site materials that are not available online or via our pickup and mailing service. \\nMore: https://t.co/y5aILFXjTh @ucsbadmissions @ucsantabarbara What a beautiful place for a photo 😁 If you missed our \"Behind the Stacks: Meet the Curators\" event yesterday, you can watch the recording here: https://t.co/rIg1S9Cami Join us today for a “behind the stacks” look into the fascinating work performed by our Library curators. Register here: https://t.co/Wvweljp7Yo\\n\\nhttps://t.co/UcO6dXcBzY https://t.co/aO9S5DNYsL Happy #NationalVoterRegistrationDay! 🙌 🗳️ 🙌  Visit https://t.co/l39hV7VolL to make sure your voice is heard this November. It only takes five minutes! #UCVotes https://t.co/0kwd50mMbs Want a behind-the-scenes look into the fascinating work performed by our Library curators, librarians, and specialists? Join us for our \"Behind the Stacks\" series. The first one is tomorrow 9/22 @ 4 p.m.\\nInfo &amp; registration: https://t.co/nTo4JIPu5V All our books are available as PDFs for free. All scholarship should be open to the public. \\n\\nThat's it. That's the subtweet. As we remember the legacy of Justice Ruth Bader Ginsburg, our Feminist Studies librarian, Heather Nisen, has compiled a list of resources available at UCSB Library for those wanting to learn more about #RBG's life. See more: https://t.co/HfzOoouNuY https://t.co/XfXTS1YI97 Have a say in your future! 🗣️ In this pandemic-era election, voters are urged to plan ahead. By registering sooner, you’ll have more flexibility about when and how you vote. #UCVotes https://t.co/cMKGTVQkOp In honor of #HispanicHeritageMonth, our Chicana/o Studies Librarian Marisol Ramos has put together a resource page about the histories, cultures, and contributions of Hispanic Americans. Check it out: https://t.co/GCiuv1QqYk 📚 @UCSBLibrary's e-newsletter: The Essential Library: Your portal for lifelong learning https://t.co/tQSNA5Dx1a #UCSB This just in: Five UCs stand among the 10 best public universities in the country and all nine undergraduate campuses rank among the top 40 in the 2021 Best Colleges rankings, by @usnews. 🌟 🌟  https://t.co/4RCeixMC1n The rankings are in! #UCSB is named the No. 6 public national university in @usnews' 2021 #BestColleges list. 🎉  More on The Current: https://t.co/A5Z8HyaNoI https://t.co/fNzjLxbVX3 Make your voice heard, Gauchos. Register to vote at https://t.co/l39hV7VolL. Already registered? Check that your address is current, whether you're living locally or at home. #GetOutTheVote #UCVotes https://t.co/a7kU4RxhGJ #IslaVista residents: Pick up a free #UCSB face covering while supplies last, courtesy of UCPD. Wed-Fri weekly, 11 am-1 pm, on the corner of Pardall Road and Embarcadero del Norte. 😷 More information on The Current: https://t.co/Lyk4F5QBmW https://t.co/7MmRXbvYIN https://t.co/k6nUAZAjNj This month's SB Indy book club pick, \"The City We Became\" by NK Jemisin, is one of our UCSB Reads 2021 shortlist picks! We highly recommend giving it a read.  https://t.co/vD6MfzGvot https://t.co/4IvSxw4h4b Libraries are useful even (*especially*) during a pandemic! Check out this guide to resources on confronting white privilege from the @UCSBLibrary: https://t.co/ZbXaW9rh39 @UCSBReligion Glad to see the books are safe! Update: Most due dates for Library materials have been extended until January 20, 2021 or later. Please consult your Library account for the exact date. No overdue fines are being charged at this time. \\n\\nSee more FAQs here: https://t.co/WGzjRL0oZf If you are one of the many Americans experiencing mental health symptoms during the pandemic, check out the lists of well-being resources our librarian Kristen LaBonte has put together: https://t.co/G3x8jtYLfG https://t.co/xeXdF2hcD0 The September issue of our Crossroads e-newsletter is out today! Check it out: https://t.co/hfMtR2FToV Add these titles to your reading list to start your academic year off right. 📚 https://t.co/ptVcQpS1sp UCSB Health &amp; Wellness partnered with us to grow the Well-being Resources Collection. Nearly 80 new titles are now accessible. Topics include nutrition, stress management, mindfulness, positive psychology, community-building, and even forest bathing. More: https://t.co/FI4tsEc28W https://t.co/LIro6qFWEV UPDATE: Nearly all undergraduate fall courses will be offered via remote instruction, and undergraduate student housing for fall quarter will be limited to only those students with special circumstances. Entirety of Chancellor Yang's memo is posted at https://t.co/SWOrH9TuNb. https://t.co/uvEwYEymjh ANNOUNCEMENT - UCSB ACQUIRES MY ARCHIVE\\nThrough the talented and caring people of UCSB Library Special Collections - Dave Seubert - and the Museum of Art and Design - first Elyze Gonzalez and then Sylvia Perea - they… https://t.co/LI9q25tdZN Once the library reopens, students will be restricted to sections of the first two floors to follow state and county guidelines while still maximizing student study space.\\n\\nhttps://t.co/ajSbseXnLZ Thank you, Gauchos, for wearing a face covering and taking steps to help protect each other. We're in this together, #UCSB. If we hold each other accountable, we can help slow the spread! https://t.co/FnJDH23EPu Yes! For anyone else interested in this service, find out more here: https://t.co/ArEOHVevA9 https://t.co/RmLzxB2QwT The UCSB library shares more than 2.5 million geolocated airphotos dating back to the 1920s. Images primarily cover California though the collection also includes China, Central Asia, Africa, and the Pacific islands.\\nhttps://t.co/Bj7ndBOCeN There's a reason we say #GauchoBack. Let's help protect each other, #UCSB. 😷 Whether in Isla Vista, on campus, or at home, we can work together and slow the spread of COVID-19 by following these @CAPublicHealth guidelines. https://t.co/K9DiZuclMl One hundred years later, issues such as parental leave, health care and child support are fueling a surge in the number of women running for office in the U.S. We can thank, in large measure, the #19thAmendment. #WomensVote100 https://t.co/OZ6Ld043qL UCSB Grad students - don't miss this Lunch &amp; Learn tomorrow. RSVP at https://t.co/riIMrB0ACH\\n@UCSB_GSRC https://t.co/7l7b8iVO9H 🙌 https://t.co/8oJ7kEWvDU @TurnbullMartin @mz_annelise Here is information about our Performing Arts collection, the contact info for our curator is at the bottom of the page, if you would like to get in touch: https://t.co/ti8rbRTwiz A collaboration between @UCSBLibrary and @ucsdlibrary received a Larry L. Sautter Award for #innovation in #IT at @UCTechUCLA for Starlight, an efficient #UC #Digital #libraryexhibit platform.\\n\\nhttps://t.co/jzKJkYhJDX https://t.co/TcG2dpAlPr #UCSB alumna Tracie D. Hall reminisces on her many hours spent at @UCSBLibrary as an undergraduate student and the journey that brought her to lead @ALALibrary. Read more: https://t.co/7qYD3dr0AL https://t.co/HF6yJvcQPR An example of what makes #UCSB a world-class university! https://t.co/iY4DbHuyWZ Love seeing our former staff doing great things! https://t.co/QocBIfsTqO #TBT #OnThisDay in 1978, a magnitude 5.2 earthquake hit the Goleta Valley. No deaths occurred, but ~400,000 books flew off our shelves. \\n\\nImages &amp; article retrieved from Alexandria Digital Research Library https://t.co/C4P4j1gq8m https://t.co/OJx5zf1kZc When @ucsantabarbara became the home for @KITP_UCSB in 1979, it was a milestone in establishing UCSB's reputation as a leading research institution. Check out this video for more KITP history (and some glimpses from our archives). https://t.co/oEseqhSkck Listen to the @KCSBNews interview w/ our Events &amp; Exhibitions Librarian Alex Regan about the UCSB Reads 2021 shortlist: https://t.co/ouS2mLwvNf\\n \\nThen vote for your favorite: https://t.co/5edNTofBHQ. One lucky participant will receive a free copy of the winning selection. @ereignisyu @ucsantabarbara Also, here is a good opportunity for you to provide feedback to the Library about how we can best serve students during this time of remote learning: https://t.co/5sO9VHSJl1 We all want to return to campus. Let's work together, #UCSB. Remember to wear a face covering outside your home, wash your hands frequently, and continue to practice safe physical distancing. #KeepGauchosSafe https://t.co/Ytswgb7nWj The UC Santa Barbara Library launched the COVID-19 Community Archives Project in May. KCSB’s Bryndon Madison spoke with archivist Calli Force about the significance of the collection and how community members can contribute. https://t.co/QXApeQBBv4 Gauchos needed! Earn a $15 Amazon gift card by giving us feedback on how we can improve services during this time of remote learning. Join our University Librarian for a one-hour focus group on Aug. 19 via Zoom. Submit your interest here: https://t.co/7fO70ZPY1V https://t.co/fTRNYBMglF @ereignisyu @ucsantabarbara We're so glad to hear you love the Reads program! We'll pass along your feedback to the committee. Have a say in @UCSBLibrary's #UCSBReads 2021 book pick! The shortlist includes memoirs, a novel, a collection of poetry and a podcast, all of which grapple with race. Vote by Aug. 12 for the chance to win a free copy of the final selection. https://t.co/4boSZC4qvh Have you voted for your favorite title from the 2021 UCSB Reads shortlist? More info: https://t.co/47HtNrSfy6 @amarines Yes, they are! Our amazing custodians have been extensively cleaning the Library since the building closed due to COVID-19. They even removed all of the gum from the desks, filling 7+ buckets like this. When we're back open, let's do our part to thank these people by keeping the desks gum-free! https://t.co/R6BBNkiZwE A wonderful quote that won't go to any of our heads @ICPSR https://t.co/0qKry3KCs9 “Archivists are kind of like historical first responders.\"\\nTwo of our archivists were interviewed by @seanflann_ for @KCBXnews about our COVID-19 Community Archives Project and how we are documenting this moment in history. Listen here: https://t.co/kgDOsVZ2Ud @punctum_books @TilburgU 🥳 @UCSBMusicDept presents the 5th annual Summer Music Festival, Aug. 22-23, as a virtual event.Featuring the LA piano duo HOCKET, percussionist and vocalist Miguelito León, alum and pianist Marc Evanstein, and others directed by faculty member Richard North. https://t.co/H0k3d0OcD8 https://t.co/ePYpN0MEbz #UCSBReads Sneak Peek! The UCSB Reads Committee has announced its shortlist of titles in consideration for 2021. \\nRead along with the committee this summer as they work to select the final pick.\\nView the list: https://t.co/vD6MfzGvot https://t.co/ICjWjlvaFM Gauchos! We're looking for 10 students (undergrad + grad) to join our University Librarian for a one-hour focus group on Aug. 19 via Zoom to provide feedback on how the Library can help you during this time of remote learning. \\nSubmit your interest here: https://t.co/7fO70ZPY1V https://t.co/AOOANC6Hqa Check out our remote services page for more info: https://t.co/AXBsPhvLvZ\\n\\nYou can also ask a librarian any additional questions you have! https://t.co/vVqKZ6WSk5 https://t.co/oPPffBKLre @UCSBLibrary  seeks a collaborative and service-oriented Curator of California Ethnic and Multicultural Archives (CEMA) and the history of the American West. Learn more about this dynamic position on the Job Board! https://t.co/RQzpKHqIyp #CLIRjobs #DLFjobs #libraryjobs https://t.co/PzEd2nFtIS Our pickup and mailing service is now available to undergraduate students and UCSB staff. Click here for more info: https://t.co/ODXxZRiVAS Check out this comprehensive report from our partner @punctum_books - a scholar-led, peer-reviewed, open-access book publisher. There's even a section on our collaboration. https://t.co/8bLw8cJKk7 https://t.co/YgUvChgx5c A new report suggests that wearing a cloth face mask doesn’t just protect others from COVID-19, it can protect you as well. Experts from @ucsf and @ucla weigh in 😷  Via @usatoday https://t.co/lpWRqnasir BREAKING: The federal government has rescinded the July 6 I.C.E. policy that would have banned international students from staying in the U.S. at colleges offering only online classes, announced today in a hearing in Harvard and MIT's lawsuit about the regulations. Story to come. Watch to see some of the submissions we've received for the COVID-19 Community Archives Project. It's not too late to submit your content. Learn more: https://t.co/eXe8XnMsYr https://t.co/RFYucp7hUn When will the Library building reopen? What will the reopening look like? Visit our FAQ page to find out what we are planning for the coming months: https://t.co/WGzjRL0oZf This just in: The @UofCalifornia Regents have announced the appointment of Michael V. Drake, M.D., as the 21st president of #UC’s world-renowned system. https://t.co/oYqNUtMYWT Summer Book Club with UCSB Health &amp; Wellness starts tomorrow! We're reading @BreneBrown's \"The Gifts of Imperfection.\" Details on sign up and accessing our e-book here: https://t.co/S3P4NyjcmS https://t.co/a3tLfBgQQJ #HappyPride! \\n-\\nInternational Pride Month may be in June, but UCSB students typically organize it to be in April. Here are some images of Pride Week at UCSB throughout the years. https://t.co/NnuH2117mj Congratulations to @ucsantabarbara undergraduate student Noelle Barr, who was recently named Second Prize Winner of the 2020 @UCSBLibrary Award for Undergraduate Research in the Humanities and Fine Arts category! Read more at https://t.co/Y6f6DKmNZY. https://t.co/5mKzz0larZ We now offer pickup and mail delivery services for UCSB faculty, researchers, and graduate students to access circulating Library research materials. Learn more here: https://t.co/ODXxZRiVAS In this video by @attn, @ucla historian Brenda Stevenson weighs in on the history and significance of #Juneteenth: https://t.co/RdK7Mt6NvX Watch and listen to this powerful poem written and read by @SojournerKRolle for the @JuneteenthSB celebration. \\n\\nWe're honored her papers are part of our California Ethnic &amp; Multicultural Archive and the collection continues to grow: https://t.co/KV9eUCsP5E https://t.co/C1t2koINz6 UPDATE: The university has announced preliminary plans for the upcoming fall quarter, including undergraduate and graduate instruction, campus housing, campus life, new-student orientation and more. More details and a link to the full update here: https://t.co/1VnPVbybmb Under this new four-year agreement, UC-affiliated research in over 2,700 of Springer Nature’s publications will be made available for open access, including 1,000 to which the UC had previously not been subscribed.\\n\\nhttps://t.co/7ApwqCvk9m For those of you wanting to geek out on the details of UC's agreement with @SpringerNature,  the MOU is now available at the very bottom of this page: https://t.co/oRpFHaJgLx\\nEnjoy! Check out @UCSBLibrary's latest e-newsletter: Fostering Success with a Virtual Library https://t.co/IegjZpdWPk #UCSB Springer Nature and the University of California have agreed a Memorandum of Understanding for a transformative agreement. The agreement is the largest transformative OA agreement in North America to date and the first for Springer Nature in the U.S..\\nhttps://t.co/yGTaS7ffA9 https://t.co/lTBWJUlxXj UC has announced a transformative open access publishing agreement that will make more of the University’s research freely and immediately available to individuals and researchers across the globe. Read more here: https://t.co/M497NQy8AK Thanks @NoozhawkNews for sharing our COVID-19 Archives project with the community! https://t.co/IImPM8LHF8 .@BC_ALA and @libcomix are collaborating on an extensive #BlackLivesMatter Comics Reading List, featuring fiction and nonfiction titles for all ages: https://t.co/KVXneB4mzP This just in: The UC Board of Regents have unanimously endorsed Assembly Constitutional Amendment 5 (#ACA5) as well as the repeal of Proposition 209, which banned the consideration of race &amp; gender in admissions decisions twenty-five years ago. Read more: https://t.co/Dh9dykKvv7 \"Everyone should know their story is important and worth saving and sharing with posterity.\"\\n\\n@ucsantabarbara students, staff, faculty - we invite you to share your original photos, poems, short stories, blog posts, songs, etc that document quarantine. https://t.co/nAyG65LR9y Today we honor our new graduates from afar, until we can celebrate in person — together. The Virtual Celebration for #UCSB's Class of 2020 is available now! 🎓 https://t.co/WnBkwEADZh https://t.co/vyIeOlOWsY 2020 Art of Science --Artist Spotlight Series! Charin Park ‘An Arduous Story’ Keep searching for beauty.  What are you seeing? https://t.co/fVqeRLWxdI\\n #SchullerLab #UCSBCNSI @UCSB_CCS @UCSBLibrary @UCSBengineering @ucsantabarbara @sbmuseart\\n@MOXISB Michael is a student worker at the Library. Check out the @hfaucsb Q&amp;A with him. We're proud of you, Michael! https://t.co/e9WziCZniF More details on @CenterUCSB's virtual town hall Friday, focusing on state violence, anti-blackness, and the Black student experience: https://t.co/Y2sYLuDdDp https://t.co/nmZrdrIJV8 This is striking: \"On the most recent New York Times list of best-selling nonfiction in e-books and print, five of the Top 15 titles address racism. . .The week before, there were none.\"\\n\\nhttps://t.co/ZGBZHFo4XD All of the titles you see here (+many more) are now available as an ebook from UCSB Library so you can read them despite the building closure. \\n\\nFor online access, click on the book title from this page: https://t.co/yLPTFstT4A https://t.co/Ir946D3dNi All UCSB students and staff members are invited to a virtual Town Hall this Friday to discuss the ongoing persistence of Black genocide and its effect on Black student experiences. \\nRegistration is required. Please see the flyer for more information. https://t.co/VstomDR6KG Finished a postdoc today with two humble and brilliant social movement scholars, Diane Fujino and George Lipsitz. Check out their latest books below. These texts contain important insights for how we organize for Black lives today and every day. UCSB STUDENTS: UCSB is collaborating with Cottage Health to conduct the \"COVID-19 in Healthy People\" research study. \\n \\nIf you are currently feeling healthy, make your appointment for a FREE coronavirus test. If you are interested, reserve your spot: https://t.co/taVpU7IzUK Read more about our COVID-19 Archives Project and how you can contribute. https://t.co/YYffEmqnXr Educational resources on “Race, Racial Relations, and the Black Experience in the U.S.” \\nOn the top, you can select what type of resource (e.g. book vs film) you prefer to study. Thank you #ucsb https://t.co/a86HT3ottG NOW: @LibnOfCongress Carla Hayden &amp; @SmithsonianSec Lonnie Bunch discuss the future of their institutions &amp; how they remain relevant during a time of global pandemic &amp; nationwide protests against injustice. 6/5 7pm ET WATCH: https://t.co/JQL2fAy2i7 #engage #NatBookFest https://t.co/pOCOnyqsoe Over four decades, UCSB theater professor William Davies King has collected things of no commercial value: bottle caps, labels, movie tickets, and more. Part of King’s collection is showcased as an art exhibit at the UCSB library and is available online. https://t.co/fYVidt2Mcp Our Black Studies librarian has compiled a LibGuide of resources that can provide a better understanding of the Black experience in the U.S. and systemic racism. It includes books, e-books, videos, audio files, and other scholarly information. Check it out https://t.co/bLNFVibAQY Association of Research Libraries Condemns Racism and Violence against Black Communities, Supports Protests against Police Brutality   https://t.co/V2eFwfew8a Tonight at 6, @ucsbmcc is offering a #BlackLivesMatter Collective Healing and Organizing Space. Two separate online spaces will be provided: one for the Black community and one for non-Black allies. Register here: https://t.co/pBQsp6mD2z https://t.co/cxMpJCAEHr UCSB Library Special Research Collections is building a digital community archives collection comprised entirely of user-generated content related to the COVID-19 pandemic. UCSB students, faculty, and staff are… https://t.co/LWUtQVCltt Some great resources here. Check out the thread. https://t.co/120IGPOBck @punctum_books @uazlibraries 🙌 In response to ongoing police brutality against the Black community, @ucsbmcc will host a virtual collective healing and organizing space tomorrow at 6 p.m. Register here: https://t.co/IVUsuLIwaZ https://t.co/r5E2GeKjSV \"Just Mercy\" by Bryan Stevenson was our 2016 UCSB Reads pick. For the month of June, the movie (based on the book) is available to rent for free. We highly recommend the book as well. https://t.co/KslqMVox6i Ending racism and other inequities in society can only begin when people with privilege commit to understanding and actively countering these actions. ARL stands with those in opposition to the systemic racism reflected in recurring acts of murder and violence perpetrated against black men and women in the US. To the Class of 2020: because in-person photoshoots are difficult right now, we’re bringing Henley Gate to you. Tweet us a photo of yourself anytime and we’ll make some magic during normal business hours with @PicsArtStudio! ✨ #UCSB2020 https://t.co/atQSL3bTkL UCSB students, faculty, and staff: We need your help to document the COVID-19 pandemic for future generations. Our archivists are building a digital community archives collection with content that tells your unique experiences during this outbreak. More: https://t.co/eXe8XnMsYr https://t.co/YXYlLtsMGi 2020 Art of Science --Artist Spotlight Series! Tom Drtina ‘Micron Mountains’ Keep searching for beauty.  What are you seeing?  #graduatestudent https://t.co/YKjVBzaPcS #SchullerLab #UCSBCNSI @UCSB_CCS @UCSBLibrary @UCSBengineering @ucsantabarbara @sbmuseart\\n@MOXISB #materialsgrad https://t.co/l6tDQ2Xntn We've been working closely with our students and deans to create our Virtual Celebration for the Class of 2020. Join in the celebration starting Saturday, June 13, at 9 a.m. Pacific Time at https://t.co/WnBkwEj2AH. https://t.co/aAz1qkuU7j Today, we had the privilege of honoring the six students who received the 2020 UCSB Library Award for Undergraduate Research. Congratulations to all! Watch the recording of the virtual ceremony: https://t.co/3pRfjNwg2h The book returns at the Paseo West entrance (for Main Library books) and the Music Library (for Music materials only) are now open. Due dates will be extended until Sept. 12. No overdue fines are being charged at this time. Email library-circ@ucsb.edu for other questions. https://t.co/C1YPvOAPba UCSB Library are the BEST. #LibraryTwitter https://t.co/IdbkWCj6CA Our staff are talented in so many ways. Reference Specialist and Cartographic Assistant Ann Hefferman was one of the artists who worked on this piece for #SantaBarbara's #IMadonnari virtual festival this year. They recreated Thomas Hart Benton’s painting, “Achelous and Hercules”. https://t.co/vXSxroRHbn Check out this great story about how one @FandMCollege  student's quest to understand the intersectionality between Asian American and feminist identities led her to the UCSB Library. https://t.co/kLmuNGU5LS Class of 2020: Don't miss the opportunity to be included in our Virtual Celebration! The deadline to upload your photo is 5 pm on Tuesday, May 26. Check your inbox for an email with instructions from Marching Order. We look forward to celebrating your achievements! #UCSB2020 https://t.co/sY0xmCpGar Join UC Santa Barbara's Veterans and Military Services for a special online Memorial Day ceremony at 11 a.m. today. Register here to get the event information: https://t.co/mE8ebF0yPv #WeRememberThem George Chen, Cheng Yuan \"James\" Hong, Weihan \"David\" Wang, Katherine Breann Cooper, \\nChristopher Ross Michaels-Martinez, Veronika Elizabeth Weiss 💙💛 #UCSB #Gauchos https://t.co/IykVLoJIBQ On the sixth anniversary of the tragedy, a day on which our community should be mourning together, we are forced to mourn apart.\\n\\nhttps://t.co/rPArYcfw6G Today, we remember those who died and were injured in the Isla Vista tragedy six years ago. 💛💙\\n\\nThe memorial exhibit was made available online last year to provide a space for healing and reflection. View it here: https://t.co/02tgN476th https://t.co/q0RIFDs7Bs At 1 PM today, the Paseo West and Music Library book returns will open. Returned books will remain on your library account until we can process them. We are working on extending due dates until Sept. 12. No overdue fines are being charged at this time.\\nhttps://t.co/AXBsPhvLvZ @CSEP_UCSB Melissa Hingorani of @UCSBpsych describes her UCSB Art of Science 2020 submission \"Everybody needs a support system,\" which won the People's Choice Award. This image illustrates the precise contact between two types of brain cells cultured from cortices of 1-2 day old rat pups. https://t.co/nBQGqDGOzp Video #cni20s “Project Surfliner: Building the Tracks before the Train” with Tim Marconi @tmarconi @ucsdlibrary and Chrissy Rissmeyer @UCSBLibrary @samverarepo #DevOps #opensource #digitallibraries #radicaltransparency https://t.co/U1cJHKQWXB We caught up with our Fall Pacific Views Speaker, Prof. Ann Taves @UCSBReligion to ask how she is thinking about her worldview research in light of the COVID-19 pandemic. Read her response: https://t.co/8BH663hnr7 The Art of Science exhibit is currently available for virtual visits at anytime https://t.co/vrcSu6J0je &amp;\\nhttps://t.co/wySVW5oznn\\n@CSEP_UCSB \"I chose this picture specifically because it was looking right back at me. I think it's amazing how something like fungal growth can resemble something completely unexpected.\" \\n\\nWatch and learn more about this 2020 UCSB Art of Science Honorable Mention submission by Jeremy Rios. https://t.co/ST4JhuJxM8 Join #UCSB faculty and @CottageHealth experts on Zoom for weekly COVID-19 online seminars. @brenucsb’s Kyle Meng explores climate effects on the virus and new testing procedures tomorrow at 1pm. More info at https://t.co/XyvIVaiM4H. https://t.co/qdcS4g1DZP Calling all zinesters! Zine Making Club invites you to contribute to the UCSB Quaranzine. Join on Zoom every other Monday from 6-7 PM until June 15, when submissions are due. You can even request a zine kit to be mailed to you! More info: https://t.co/gQm6eKhrpO\\n@ucsb_rcsgd https://t.co/s4jtlVzEP1 The \"revolution\" began with UC &amp; other early contributors to the collective collection. Emergency Temporary Access is made possible by the digital contributions of our member libraries over the past 10+ yrs. Preservation with access never grows old! https://t.co/UcIRcuIx1I \"As researchers lost access to vital hard-copy materials, [@hathitrust] initiated an Emergency Temporary Access Service to give @UofCalifornia researchers critical access to more than 13M digital volumes. This revolution has been immediately impactful\" https://t.co/wFSuNg25o9 Missed our latest e-newsletter? Check it out here: https://t.co/rSA7TFmh5y\\n\\nIt includes info on our @NEHgov grant, Art of Science 2020 winners, the UCSB Reads 2021 suggestion form, and more. When an in-person visit to our vibrant campus isn't possible, a virtual visit is the next best thing! Check out this interactive tour courtesy of @ucsbadmissions and picture yourself at #UCSB. #FutureGaucho https://t.co/j5IgpeUnnx https://t.co/uVTaBB15yi Listen as UCSB Art of Science 2020 First Prize winner Chris White of @KITP_UCSB describes his piece \"Illuminating a Black Hole,\" which depicts a simulation of interstellar gas falling into a black hole. https://t.co/rDRdQ8LDEG 📢Starting in Fall 2020 undergrads @ucsantabarbara can enroll in HIST 196 JA-JC to gain experience in scholarly publishing. Students will promote &amp; produce issues of @UCSBHistory's new Undergraduate Journal of History! #makinghistory #history\\n\\n➡️More here: https://t.co/ytTHBriY0O https://t.co/CHYinOMIRM It's amazing to see all the ways the @ucsantabarbara community is responding to the current crisis. #GauchoPride\\nhttps://t.co/ZZBMjdfP5F From pastel-colored sidewalks to red cinder block buildings, the @Minecraft version of the #UCSB campus imparts a familiar feeling to homebound students, faculty and staff. Undergraduate Charles Neumann provides a closer look with a virtual campus tour: https://t.co/vs5mFcjYBo https://t.co/UfZfyryY4H Today marks the day we would have all come together to celebrate the culmination of #UCSBReads2020 with a talk by  \"Rising\" author @ElizabethaRush in Campbell Hall. She shared with us a special message for all of you:\\nhttps://t.co/Tef49a1j4R https://t.co/Z8Ycip4lSj Want to learn more about the #COVID-19 crisis? Hear from experts at #UCSB and @CottageHealth. Join in Tuesdays at 1 pm via Zoom for a weekly seminar series covering various topics related to the crisis and its effect on our lives. https://t.co/QTXX4lWJVm TONIGHT! Attend our first virtual zine-making club meeting over Zoom from 6-7 pm. More info: https://t.co/gQm6eKz2Oo\\nWe will discuss:\\n•how to contribute to the Quaranzine\\n•tools to make your e-zines\\n•taking good photos of your pages\\n•how to upload for inclusion in the zine https://t.co/BgBuZQAWvx 💛💙💛 https://t.co/0OnmGiHakr Knowledge is key in combating stigma. In honor of #MentalHealthMonth and to support our community during this time of uncertainty, we put together a Mental Health Resources LibGuide with resources for students, staff, and faculty. Check it out:\\nhttps://t.co/G3x8jtYLfG We're spotlighting the 2020 UCSB Art of Science winners. Delany Rodriguez explains how his piece 'Limelight' came about via a \"happy accident\" while conducting research on blood flow (aka #hemodynamics). https://t.co/8Xtnu2GAAY Undergrads: The deadline to submit applications for our Library Award for Undergraduate Research is just two days away! Don't miss out on an opportunity to win $750. More info:\\nhttps://t.co/LHE11K5kkR https://t.co/9oKm4qwS3e 🥳 https://t.co/HXEMNkXW0P Watch the talk here: https://t.co/XOfr405W9w https://t.co/nTTAtAkwZm ICYMI Head on over to our Facebook page to watch the recorded live stream of our #UCSBReads2020 author talk with @ElizabethaRush about her book \"Rising\" and the impact of climate change and sea level rise. https://t.co/XOfr405W9w https://t.co/aUifcmyO2Q https://t.co/FFh2vDWOM7 Ya'll... to celebrate Earth Day I'll be doing a live virtual event with UCSB library wherein we'll be screening Home or High Water (and awesome 12 min. mini doc about climate change and coalition building by @sheepscotco) and taking questions from the audience. Join us: https://t.co/OWjGzP57Qn Today! We're looking forward to hearing from #UCSBReads2020 author @ElizabethaRush. Catch the livestream on our Facebook page at 4 p.m. for an #EarthDay discussion on her book \"Rising\" and the impact of climate change and sea level rise in the U.S. \\nhttps://t.co/870TMaonN8 https://t.co/2DSfDPVU6s Tomorrow on #EarthDay, journalist @ElizabethaRush will discuss her book \"Rising\" and the impact of sea level rise on the U.S. in a free, online talk hosted by @UCSBLibrary. Registration encouraged. #UCSBReads2020 https://t.co/WKbXXX6kQi Tune in to @KCSB 91.9 FM at 5 p.m. tonight to hear an interview with #UCSBReads2020 author @ElizabethaRush. \\n\\nAnd don't forget to register for her free online talk this Wednesday! https://t.co/OpyIbex35t https://t.co/mfToG78YQF Instructors - here are some tips from @UofCalifornia to keep in mind when thinking about copyright and online instruction:\\nhttps://t.co/ORaVPU0mQZ\\n\\nAnd don't forget that our librarians are still available to answer questions about copyright. Email ask@library.ucsb.edu for help. Access Engineering: McGraw-Hill offers free access to its on-line content database for UCSB Library patrons through May 31, 2020. Check with your library to see if they have the same offer.\\nhttps://t.co/FjLvl4rfuW Attn UCSB Undergrads: There's still time to apply for the Library Award for Undergraduate Research! The deadline for submissions is April 29. More info here: https://t.co/LHE11K5kkR https://t.co/FnBvibxzMy @lizbethm_21 😲 UCSB Library’s on-line exhibitions: Past events to look through, as we await the return to normal on campus. https://t.co/Rkq4Fyr9T2 When you can't visit our colorful campus, the next best thing is a virtual open house! #UCSBBound admits are invited to join @ucsbadmissions on Wednesday, April 22 at any point during this full day of presentations and chats. Register here: https://t.co/gSv5QBtmgq #FutureGaucho https://t.co/z9VEnr2wNg The #UCSBReads2020 pick, \"Rising: Dispatches from the New American Shore\" made @theskimm's \"10 Must-Read Books on Climate Change list! https://t.co/zmhiV1f5J1\\n\\nJoin us on April 22 for an online talk with the author, @ElizabethaRush. Register here: https://t.co/JsmWSRTJFl Researcher's Corner: How one professor uses our online newspaper archives to study the history of epidemics &amp; their affects on society.  https://t.co/DgioldO8t0  #ChronAm https://t.co/hGYmBiaZfg \"Rush, who grew up hiking in marshes north of Boston with her family, never expected she’d one day be writing about them as a means of exploring sea level rise.\"\\nMore about the upcoming #UCSBReads2020 Author Talk w @ElizabethaRush via The #UCSB Current:\\nhttps://t.co/3vWy7dtsXB One week away! Register here: https://t.co/OpyIbex35t\\n\\n#UCSBReads2020 #EarthDay https://t.co/0sMcoexYhG As part of our Pacific Views: Library Speaker Series, we present a talk by @EthanOChang that examines the people, pedagogy, and practices of @HighlanderCtr and considers how education might foster community leadership and multi-issue struggles for justice: https://t.co/UWJJNQToVJ Jake Eisaguirre (UCSB ‘19) earned first prize in the science and engineering category of our 2019 Library Award for Undergraduate Research competition. Read more about his research and how it prepared him for life after graduation: https://t.co/tdoXvrfCPq https://t.co/AMvzS0htHI UPDATE: In consultation with faculty, students and staff, and with the agreement of the Academic Senate, we've decided that Summer Sessions courses scheduled to begin in June and July (A, C, D and E) will be delivered by remote instruction. More details: https://t.co/Bcwa81cwQu UCSB Theater professor William Davies King narrates a tour of his exhibition on display in the Library that confronts his lifelong practice of collecting things of little or no value. Watch now for an insider view of \"The Creative Edge of Collecting\": https://t.co/oCE9Vnmi2x Because of COVID-19, we've extended the deadline for Library Award for Undergraduate Research submissions to April 29! First prize is $750. See how to apply here: https://t.co/LHE11K5kkR https://t.co/6MPj1UWeiu @leahstokes was our Pacific Views speaker in January and mentioned her forthcoming book about U.S. climate policy during her talk. Details here for her virtual book launch next Thursday. Congrats, Leah! https://t.co/jLWuji2GSu For those of you who loved the images of the virtual UCSB Library being built on Minecraft, here is some background info about the UCSB campus Minecraft project via @dailynexus: https://t.co/4OWageoUQE The UC Libraries have contributed &gt;4.5 million digitized books from their collections to @hathitrust. Through emergency, temporary service, UC faculty, students, and staff can now access these digitized books in HathiTrust. More: https://t.co/zHGKxAIL3v https://t.co/PlC9fChphD Does coronavirus live on clothing? Should I disinfect produce? Dr. John Swartzberg, professor emeritus of public health at @ucberkeley, weighs in. @ucberkeleysph https://t.co/Vo0S9EPiAW Millions of electronic books are now available to UCSB users through @hathitrust, which has allowed for Emergency Temporary Access Services of copyrighted material to member institutions with copies of those items in their physical collections. Learn more:\\nhttps://t.co/zHGKxAIL3v Thousands of historic sound recordings held at UCSB Library will soon be freely accessible online thanks to a prestigious $349,000 grant from @NEHgov. Read more: \\nhttps://t.co/zECSdANLkz https://t.co/7tk8h2nZ8i We're thrilled that our American Discography Project-Victor and Bluebird Records Access Initiative to digitize and document historic sound recordings held at UCSB Library is one of the projects receiving funding from the new grants! https://t.co/C6kgAZL9IR With our very own, Greg Janee! https://t.co/zsTCR9NLhs We're excited to share that #UCSBReads2020 author talk is still happening virtually! @ElizabethaRush will be doing a free online community talk on April 22 about her book \"Rising\" and the impact of sea level rise in the U.S. \\nRegister here: https://t.co/HGPLQaGFnR https://t.co/X0pslTrbS5 Dr. Ali Javanbakht, medical director at @UCSBshs, stresses the importance of @CAPublicHealth's newly released guidelines on the use of cloth face coverings. #COVID19 https://t.co/PQEdXIam3O With many students missing being on campus this quarter, Gauchos are working together to recreate the @ucsantabarbara campus on @Minecraft. We're so impressed with the progress on the Library! https://t.co/Pmor7uS00x A letter from German-American writer Charles Bukowski to close friend, poet Ann Menebroker.\\n\\n\"Good writing or pure Art is never obscene no matter what the subject...\"\\n\\nFrom our University Archives photo collection: https://t.co/bhhLTe7ZYJ \\n\\n#ArchivesPenPals #ArchivesHashtagParty https://t.co/D0PaCEVyHU Our April Crossroads e-newsletter is out! View it at the link here:  https://t.co/Y4pTqkMCfx\\n\\nIt includes our remote resources &amp; services info; an update on the #UCSBReads2020 author talk; a recorded Pacific Views talk by @EthanOChang; and Library @zoom_us backgrounds. https://t.co/f91ocjclQl If you have Library materials, keep them safe with you until we reopen. We are working on extending all due dates to June 15. https://t.co/9njhGw4Agg https://t.co/zBSOjKJemW An update on the recent activities of @COPIMproject, in which the ScholarLed presses are key partners. We're building open, community-governed infrastructure to support #OpenAccess books! #InvestInOpen #OAbooks https://t.co/IXZqVJadOt Hello All: This Thursday @ 6:30 pm I'll be chatting with @JMLudes from the @PellCenter about this year's @ribook selection, RISING. It is my first-ever Facebook Live event, so... wish me luck... and, if you're free, join us! https://t.co/KSz7DsDZaZ Use of our research databases from off campus? You need to use either the proxy server or the Virtual Private Network (VPN).  #ucsb #library https://t.co/KEuSWpxleT Following Chancellor Yang’s announcement that UCSB will be conducting Spring Quarter classes remotely, several buildings on campus closed their doors. The Nexus has compiled a map of what will be open on campus during Spring Quarter.\\n\\nhttps://t.co/7H2Peo97Vv UCSB students, faculty and staff: As we start a fully remote spring quarter, a reminder that in order to use our many research databases from off campus, you will need to use either the proxy server or the Virtual Private Network (VPN). \\nInstructions here: https://t.co/kevFrzkPUX NEWS: 25 audio treasures have been named to the Library's #NationalRecordingRegistry by @LibnOfCongress Carla Hayden, in a robust stay-at-home playlist including Tina Turner, Cheap Trick, Selena, Dr Dre, Whitney Houston, Mr Rogers &amp; more. Full list: https://t.co/6y0vuek8BH https://t.co/8q6gikMq2l @ashdolphin_UCSB @UCSB_CSSC Go to https://t.co/KjGP7eyamQ and you should be able to register with your UCSB email. Forty years ago #OnThisDay March 28, 1980, the Institute for Theoretical Physics formally opened at the University of California, Santa Barbara. More #KITP + @ucsantabarbara history at @UCSBLibrary's exhibition \"Campus by the Sea”: https://t.co/UzaIGvHLqY https://t.co/nXlE7HSSAf Today, @UofCalifornia observes César Chávez Day, remembering his activism on behalf of farm workers. We share this piece by Paul Martínez, \"In Memory of César Chávez,\" part of the Self Help Graphics &amp; Art archives in our Special Research Collections. \\nhttps://t.co/mhvdvbDFoW https://t.co/5ebDbTekOH Missing the UCSB Library? We compiled some photos you can use as your Zoom background for classes or online study sessions with friends so you can feel right at home.\\n\\nDownload here: https://t.co/fJUQSz25tI https://t.co/R7xAsKqJoW Check out our remote resources and services page for more details on how we can help you during this time. \\nhttps://t.co/AXBsPhvLvZ https://t.co/CTNNPt4F0e What a memorable time to be in the Library, @Desertron. You can find more info on the Bank of America burning in our online exhibit about the #IslaVista community: https://t.co/Q9IbInu5MQ https://t.co/jHi2z2fE77 #Gauchos: Here is a great list of #UCSB remote resources (including advising, tech help, zoom tips, student services, and more): https://t.co/E3UbPzP5wn\\n\\nDetailed info on Library-specific remote resources can be found here: https://t.co/AXBsPhvLvZ Announcing a National Emergency Library @internetarchive–1.4 million free books to meet students’ and readers’ needs while schools and libraries are closed at global scale. https://t.co/FB1J2xSeVY and browse the collection at https://t.co/F7gcv0kP7L https://t.co/NW2L0OvfkE One more reason to wash your hands often and keep surfaces clean: @UCLA scientists have discovered #COVID19 is detectable for up to 24 hours on cardboard and up to two to three days on plastic and stainless steel. https://t.co/Q94TfOmjV0 We continue to update our list of remote resources and services. Just added: Kanopy streaming licenses are available for individual films for Course Reserves (out of classroom viewing) in all courses at this time. More details: https://t.co/k6pJcqW5oT A good book can often be the best distraction, especially in uncertain times. UC’s leading writers share their book recommendations for the ultimate page-turner. 📚 https://t.co/dpLo6g9YHB Our book drops will close on Monday. If you can't drop off over the weekend, hang on to the materials. We are working to extend all due dates. \\n\\nMore on our coronavirus response: https://t.co/a0RHCPb6oj https://t.co/puZ0sTOnxe To protect the health and welfare of everyone who works in and uses the UCSB Library, we have made the difficult decision to close starting at 6 p.m. on March 19. The Music Library will close at 6 p.m. today, March 18.\\nSee our remote resources &amp; services: https://t.co/FCfv9173L2 https://t.co/EU5LW9ARoh #UCSB Undergrads: Despite COVID-19, we are still accepting submissions for our Library Award for Undergraduate Research. First place receives $750. Submissions are due April 15. Learn more about the award and how to apply here: https://t.co/LHE11K5kkR https://t.co/9gdIVHJBZg We will close at 6 p.m. tonight. We plan to be open tomorrow 3/18 and Thursday 3/19 from 8 a.m. to 6 p.m. \\nUse of the Library building is currently limited to UCSB students, faculty, and staff. You must enter through the West Paseo Entrance with a UCSB Access Card. https://t.co/b0nTo4j9v1 Today we celebrate our newest admits. Congratulations on your acceptance to UC Santa Barbara! Get ready to call this inspirational environment your home. #FutureGaucho #UCSB https://t.co/fkei7c56NT Staying on campus with us? Check out the Basic Needs center!! Chromebook loans; free meal swipes, and advisors on hand to help with all your basic need emergencies and non- emergencies! https://t.co/kg7H9mxwlz For those of you studying or working remotely, there are many ways we can provide you with expert help and services. Check out the list here: https://t.co/AXBsPhvLvZ #COVID19 Update: Effective March 17, use of the Library building will be limited to #UCSB students, faculty, and staff. Entry will be through the Paseo West entrance only and will require a UCSB Access Card. \\n\\nMore about our response to coronavirus here: https://t.co/7PdOf9x2pM https://t.co/M1tT6h1uQK Thank you @BioOneNews for making this COVID-19 research available via open access!\\n\\n#ARLCOVID19 #OpenAccess #OA https://t.co/WbgsgaFHEZ During dead week and finals week, late night study starts earlier. For our latest hours information, check our website: https://t.co/G818paxzdD https://t.co/tLisj4SMH4 COVID-19 Update: Our modified overnight hours start tonight. We will be open to the public until 6 p.m. and late night study will be from 6 p.m. to midnight tonight and tomorrow. \\n\\nKeep checking our hours page for the latest info. https://t.co/G818paxzdD The well-being of our community is our highest priority. For guidance on #COVID19 and ongoing updates from campus, including FAQs, please visit: https://t.co/Bcwa81cwQu https://t.co/0xtywFiNX0 COVID-19 Update: The Library is taking precautions to mitigate the spread of novel coronavirus (COVID-19), including modifying our overnight hours starting 3/13, providing extra cleaning and sanitizing, and closing our entrances with door handles. More: https://t.co/a0RHCPb6oj For the latest developments on how UC is responding to COVID-19, resources and campus updates, please visit: https://t.co/LplEKeeRpb. Be sure to follow the individual campuses on Facebook and Twitter for the latest information. If you need to use a computer, the Library has laptops available for checkout at the Services Desk: https://t.co/qCmWGX30r8 https://t.co/gujvs23cMd COVID-19 Update: The Library remains open and is currently operating at normal hours and providing regular services. We will provide updates as the situation evolves. In honor of #InternationalWomensDay yesterday, a piece from our archives by Yolanda González: \"Women Know Your Strength!\" \\n\\nShe says, \"Women are extremely powerful, strong, intelligent beings. I feel it's time women believe and acknowledge this strength.\"\\nhttps://t.co/DP2K6iojZX https://t.co/t8G3NPjpTC @UCSBLibrary has a whole bunch of U2 film in its aerial photography collections.\\nhttps://t.co/jrsdGCijDr Stewart Engart is a Ph.D. Candidate at @ucsantabarbara who has digitized thousands of sound recordings from the Library’s collection of 19,000 audio cylinders. Read more about his work: https://t.co/8wwTTncT3I https://t.co/3uQRjKrTEF \"The current [COVID-19] crisis has demonstrated the value of open access to research, as well as the drawbacks of secrecy.\" @hiltzikm in the @latimes\\n\\n#OAintheUSA\\n\\nhttps://t.co/3gFNddKs7o Tonight at the #UCSB Pollock Theater - come see a screening of remastered episodes of the classic series Stars of Jazz followed by a post-screening discussion. The soundtracks were restored from audio sources held in our Wayne Knight Collection. \\nhttps://t.co/wkfCPGf2Gf Who wants to join our friends in @ARLIS_NA_SoCal? Good news! @UCSBLibrary is hiring an Art &amp; Architecture collection services manager. Check out our blog post for more info: https://t.co/QhXfVvUGGL\\n#artlib #lisjobs #GLAM @SAH1365 @SLASocSciHum https://t.co/6ZswirzRAp This just in: The University of California Libraries have adopted the Ex Libris Higher-Ed Cloud Platform to facilitate access to collections and systemwide collaboration! \\nRead more: https://t.co/rXjwPYdrsx The latest issue of our Crossroads monthly e-newsletter is out! This month includes a feature on a student working in our Cylinder Audio Archive, our latest Open Access agreement, and info on upcoming events and a new exhibition. View it here: https://t.co/paI88XJCG2 UC Santa Barbara seeks an Electronic Resources Management Librarian to oversee the lifecycle of @UCSBLibrary electronic resources, including licensing, acquisitions, access, administration, and support. Apply by March 22! https://t.co/NZN8rvFX2k #CLIRjobs #DLFjobs #libraryjobs https://t.co/UlqagXoqP6 Hear @floydnorman’s message to @SBJHcondors from this morning’s #BlackHistoryMonth event. Floyd (whose papers are at UCSB Library Special Research Collections) made history by becoming the first African-American animator at Disney. https://t.co/ND72y8cSSa We co-hosted an event at @SBJHcondors today with @floydnorman, the first African American animator at @DisneyStudios. Listen to the @KCLUNEWS interview with him on @KCLUlive. We're honored to have his papers at UCSB!\\n\\n#BlackHistoryMonth #DisneyLegend    \\n\\nhttps://t.co/MefsRP98k8 A @UCSBLibrary exhibition draws on @UCSBPhysics visiting scholar John Perlin’s research to illustrate Eunice Foote’s contributions to #climatescience and feminism. #NaturalLeaders https://t.co/LAnPAqvA3P #TBT Mapaches making the news since 1990.\\n\\nPhoto by Mutsuya Takenaga. @dailynexus. Vol. 70. No. 80. Feb. 9, 1990. Page 1. Alexandria Digital Research Library. https://t.co/XKRHi6OqZg\\n\\n#ThrowbackThursday #UniversityArchives #AnimalsOfIslaVista https://t.co/HmHZLrlgJ8 #Gauchos! Save the date for next week's #UCSBReads2020-themed game night. At 4 p.m. on March 4, we'll have a Jeopardy-style interactive discussion about \"Rising: Dispatches from the New American Shore.\" Snacks provided! Sign up here:  https://t.co/tO7GrX6zsf https://t.co/zG3lbYlTjy The Smithsonian's treasures belong to you. Now you can download, remix, reuse and share them with #SmithsonianOpenAccess, for free, for any purpose. Explore at https://t.co/35Wp7dOaNK. https://t.co/njhaN9JCoS A new art exhibit is up in the Leatning Commons (1st floor, Mountain Side). “Creativity and Climate Change” features student-created work related to themes in the @UCSBReads2020 book, “Rising: Dispatches from the New American Shore.” This will be on display through June. https://t.co/3RILVArh27 For those of you reading our #UCSBReads2020 pick \"Rising,\" check out this article about why residential and commercial development continues to happen in areas with long-term flood risk. https://t.co/HGxM6RHtpO Zine Making Club tonight! 5-8 PM in the San Miguel Formal Lounge. Join @ucsb_rcsgd @UCSB_RHA and some of our librarians for a night of creativity and connection! https://t.co/jbQ0nNd4ZL It's #FairUseWeek! Visit our information table in the Library Paseo from noon to 1 p.m. Feb. 24-28 to pick up a “Fair Use Checklist,\" test your fair use knowledge with an interactive game, and consult with a librarian about fair use.\\n\\nMore: https://t.co/STmttJvNar https://t.co/JLDKFNkZ88 #Gauchos! Save the date on Monday for a night of zine-making! No experience necessary and all supplies are provided. Drop in from 5-8 p.m. on Feb. 24 in the San Miguel Formal Lounge. https://t.co/0UlGjnmLSP A great #BlackHistoryMonth story about how Santa Barbara’s Eastside was once the black community hub.\\n\\nP.S. One of our UCSB Library Special Research Collections photos is featured! https://t.co/GVn6Vi02cT This Saturday! Join us for a #UCSBReads2020-themed tour of #UCSB's North Campus Open Space and learn how the restoration of the estuary will support a diversity of birds, fish, and wildlife; absorb floodwaters; and be adaptive to sea level rise. \\n\\nhttps://t.co/5Hm4X4WgxZ https://t.co/ymrn8RDYK0 Our #UCSBReads2020 shirts are here! Come to our Reads-related events for a chance to take one home. (Including the student book discussion tonight!) \\n\\nCheck out the calendar: https://t.co/vzyVSCXHYO https://t.co/v0Ty0xqGUI Join your fellow Gauchos in a book discussion from 6-7 p.m. TODAY about this year's #UCSBReads2020 pick, \"Rising: Dispatches from the New American Shore.\" Dr. Ken Hiltner will be facilitating the conversation in Lib Room 1312. Free snacks. See you there!\\n\\nhttps://t.co/iTCk92HQUy https://t.co/HHmTLedC5d This is a great article about why a visit to the library is important as you narrow down your college choice. We happily welcome prospective students. Don't be shy about wandering the building and reaching out to our librarians and staff when you're on campus. https://t.co/nLC9T4bSya Grad student lunch and learn this Friday (2/14) in Room 1312! RSVP at the link below.\\n\\n#UCSB #GradStudents https://t.co/JVriqbqkmr Attn #UCSB undergrads: Starting March 15, submissions will be accepted for the Library Award for Undergraduate Research. First prize is $750. More: https://t.co/LHE11K5kkR\\n\\nPhoto of last year's first and second place winners at the award ceremony by Jeff Liang. https://t.co/aJLwEOh112 Copy cards were discontinued this quarter with our transition to GauchoPrint. The deadline to transfer any remaining value is Feb. 14. Bring your card to the Library Services Desk during business hours: 8 a.m. – 5 p.m. Mon-Fri. \\n\\nMore info: https://t.co/FmKzLpq6Vm https://t.co/FEq5l24aQ6 William Faulkner is widely considered one of the greatest 20th-century writers, but his prose isn’t exactly easy to follow. A new acquisition by the @UCSBLibrary offers #UCSB students a window into this thinking. https://t.co/pBNyCMZ99k Starting March 1, we will have an exhibition in our Mountain Gallery featuring William Davies King's collections. Check it out and then attend the April 2 @ihcucsb talk \"On Collecting and Hoarding\" featuring King and Rebecca Falkoff of NYU. https://t.co/DYkv2tTaAQ We recently acquired the complete 44-volume facsimile edition of William Faulkner's most important manuscripts. The set is incredibly valuable to scholars who want to get a better sense of his creative process. Read more via @ucsantabarbara's The Current: https://t.co/EbBsoHgy8h The little diorama of UCSB on the 8th floor of the library brings me so much joy Yes, you can check out laptop chargers at the Services Desk. See our list of tech items available here: https://t.co/pQybKm4y29 https://t.co/FZq9lS8YB1 Things we love: the enthusiasm of the data science community at #UCSB 🕺🏻👩🏽‍💻 https://t.co/MMco23KD68 What other ideas do you have for interacting with the Library on your phone? \\n\\nSubmit your interest at https://t.co/oZbtb7mOZk\\n\\nEvent will be held from 5-6 p.m. Monday, February 24 in the Library. Free pizza and Library swag for all selected participants! https://t.co/m1b1WYECcB For the first time, #Goleta is a community partner in the #UCSBReads program. On Saturday at 1 p.m., we're hosting a #UCSBReads2020 Faculty Panel at Goleta Valley Library for a discussion on climate change and sea level rise. More via \\n@NoozhawkNews https://t.co/VYTaM3h8LU Columbia University Libraries is now a member of punctum's Supporting Library Membership Program! \\n\\nWe are thrilled to welcome @columbialib as we collectively develop new pathways to support #openaccess  scholarship!\\n\\nhttps://t.co/dq9gBSgT78 Tonight at 5 PM! Join us for a #UCSBReads2020 #Zine Making workshop that will explore the themes of climate change and sea level rise. Supplies and snacks provided. All are invited. \\n\\n#UCSB https://t.co/eGOLzllzQ9 Want to share your thoughts about the Library and eat free pizza? We're looking for 20 #UCSB students to chat with us about interacting with the Library on your mobile device. \\n\\nSubmit your interest here:  https://t.co/mlQuNGZRNR https://t.co/e2cSsxDiRR The UCSB library is interested in displaying my artists' book and my prints and it just makes me feel so happy that my work is being displayed to a little but bigger audience!! :) so excited Our newspaper rack has moved! It’s now on the 1st floor, Mountain Side closer to the Learning Commons to make it easier for you to catch up on the latest. https://t.co/JqGW7lcY8S The UCSB Library Invites You to Discover and Listen to its Online Archive of Cylinder Recordings https://t.co/rtI0fgXlYi https://t.co/zDjbiZq5Gv With #UCSBReads2020 underway, @KCSB will again present 12:00-12:15 PM weekday readings, live on-air, of this year’s book selection, \"Rising: Dispatches from the New American Shore.\" If you want to be a reader, e-mail Ted Coe (advisor@kcsb.org) with your preferred dates. https://t.co/M5NsUvbAS7 Another reason to pick up a copy of the most recent @tblucsb - this great #UCSB \"Then and Now\" spread that combines photos from our University Archive with current pictures of places around campus. https://t.co/bNUDxSWONa Excellent presentation by @leahstokes on Climate Change in our Backyards @UCSBLibrary @UCSBPoliSci https://t.co/ASB6dTRdtw Sooo our library has microwaves now... UCSB is really the greatest Have some research you'd like to share? You have three minutes! Enter the @UofCalifornia #GradSlam competition for graduate students. Sign up by Friday, January 31: https://t.co/dsUowj2r1N https://t.co/e9KYyb179t Today at 4 p.m.! Come hear @leahstokes discuss the research behind her forthcoming book \"Short Circuiting Policy: Interest Groups and the Battle Over Clean Energy and Climate Policy in the American States.\" This event is free and open to the public. \\nhttps://t.co/rL0PhzIUNr https://t.co/Z1OhEXHdT6 In memory of @kobebryant, we found @dailynexus photos &amp; articles from 1999 when the @Lakers came to @ucsantabarbara for training camp. #KobeRIP \\n \\n(Pg 1) https://t.co/MEyd0Ncrf2\\n(Pg 12) https://t.co/l6y8MR1hi7\\n(Pg 12) https://t.co/sgAxdZfcWq https://t.co/eunYoLSLfM @ChrisInSLC @jaketapper @SHAQ @dailynexus We should add that that clip was from the Jan. 28, 1999 issue on page 4: https://t.co/4BxLNIArsl @ChrisInSLC @jaketapper @SHAQ We found your letter to the @dailynexus about meeting Kobe and the Lakers when we were going through our archives today! We particularly enjoyed reading the part highlighted in blue. https://t.co/ooUJyzsyGC Listen Online: “Dusting Off the UCSB Cylinder #Audio Archives” https://t.co/VGVFR3IbLN @ARLnews #digitalcollections @UCSBLibrary https://t.co/U4lX0HJKPF Thanks, @tblucsb, for highlighting our Cylinder Audio Archive, which has grown to become the largest online collection of downloadable historical sound recordings. Learn more: https://t.co/qkuKEgVAFb https://t.co/2VdNVOulPd Want to learn how to make a zine? Have thoughts about Elizabeth Rush’s “Rising”? Please join EJA in their zine making workshop, in collaboration with @ucsblibrary and @ucsb_rha. Make your own zine, or contribute to a group zine exploring themes from “Rising,” on Tues, 2/4. https://t.co/wL4v6GdRGG Shout-out to @ucla, @ucberkeley, @ucdavis, @ucsandiego, @ucsantabarbara &amp; @ucirvine on being named among the top 10 public schools in the West, according to the @wsj/@timeshighered College Rankings!💯🌟💯 https://t.co/Rygo4t8lsD Check out this thread from @leahstokes on our #UCSBReads2020 book selection, \"Rising: Dispatches from the New American Shore\" by @ElizabethaRush. Then come hear Leah's talk @ 4pm this Tuesday (1/28) in the Library's Pacific View Room (8th floor). https://t.co/vc3IjPZ3mb What an honor it is to have readers engage with RISING as part of @leahstokes 🔥✊🌊 #climatebookclub. Last night they had a really interesting book discussion. Deep gratitude. Check it out below: https://t.co/2jx8SGS4WJ @alittleroad @Openreflections @COPIMproject @Paula_C_Vega @covcampus @LancasterUni @TrinCollCam @ScholarLed @UCSBLibrary @lborouniversity @DOABooks @Jisc @arias573 @DrGarethCole @joe_dev @martin_eve @eferwerda @rupertgatti @EileenAJoy @marcell @samoore_ @Graham_Stone @ResEngland @ArcadiaFund Indeed, as Janneke @Openreflections  and Gary point out in their interview \"working collaboratively helps to overcome both structural and strategic disadvantages, while maintaining diversity and providing a framework that can make publishing more resilient\" #EmpowOA @openlibhums @Openreflections @COPIMproject @Paula_C_Vega @covcampus @LancasterUni @TrinCollCam @ScholarLed @UCSBLibrary @lborouniversity @DOABooks @Jisc @arias573 @DrGarethCole @joe_dev @martin_eve @eferwerda @rupertgatti @EileenAJoy @marcell @samoore_ @Graham_Stone @ResEngland @ArcadiaFund Yes exactly, this is a core value of the project: we believe that big advances can be made in developing OA book publishing if a number of people and institutions - publishers, libraries, researchers, infrastructure providers and others - work collaboratively #EmpowOA It's here! We've heard your requests and now we finally have a microwave available for student use in the Library so you can enjoy your popcorn, homemade meals, and other better-when-warm treats while you study. Find it near the Summit Cafe on the 1st floor, Mountain side. https://t.co/nT6JLnybfI For those of you at our #UCSBReads2020 climate justice panel yesterday, John Foran mentioned NXTerra as a good resource to learn more about the climate crisis and how to get involved and take action. https://t.co/QpcJKYSULh Next Tuesday, come hear @leahstokes of @UCSBPoliSci discuss the research behind her forthcoming book \"Short Circuiting Policy: Interest Groups and the Battle Over Clean Energy and Climate Policy in the American States\" and connect it to the #UCSBReads2020 book \"Rising.\" https://t.co/pmXDBVA31n I’ve got my copy! #UCSBReads https://t.co/CcZ6YEOh0K Climate justice panel happening now in Library Rm 1312! https://t.co/LwVrIxS1Dc The UCSB Library: Over 10,000 Cylinder Recordings For Streaming Or Free Download https://t.co/mK8k7ISQmd https://t.co/VguG7lj3Zb @UCSBSustainable Thanks for sharing! Today! Come hear panelists Chris Funke (@climatehazards) , Summer Gray, Julie Maldonado, David Pellow (@ucsb_envstudies), and Justin Hosbey (@CenterUCSB) discuss climate justice. Moderated by John Foran.\\n\\n#UCSBReads2020 https://t.co/Qf2jJKdSNK \"In Commemoration of the First National Holiday of Martin Luther King, Jr\" - a work by artist René Castro\\n\\nFrom the Galeria de la Raza collection housed in our California Ethnic and Multicultural Archives in Special Research Collections. \\n\\nhttps://t.co/bts3YmhlBH\\n\\n#MLK #Archives https://t.co/Ze5EKHfpZO Late night study will be from 9 p.m. - 12 a.m. tonight (1/17) and tomorrow night (1/18). Regular hours resume Sunday evening. To view our hours, visit https://t.co/pk8Y0dYDzf.\\n\\n#LateNightStudy #MLKWeekendHours #UCSB https://t.co/nmMyzb55pX Next Tuesday! Hear #UCSB faculty provide a national and international perspective on climate justice in conjunction with #UCSBReads2020. Climate justice frames climate change as a civil rights issue in addition to an environmental issue. Come and learn more! https://t.co/qr6RgWOduJ It's not too late (but almost) to sign-up for our Carpentry workshops happening TOMORROW! We have a double header with Introduction to Unix in the morning and Version Control with Git in the afternoon. Sign up for one or both NOW at https://t.co/oxZamdCtaA Congratulations, Tracie! We're excited to see a @ucsantabarbara alumna in this role! \\n\\n#GoGauchos https://t.co/pGx5hPptSy Since 2007, #UCSB Reads has brought the campus and Santa Barbara communities together to read a common book that explores important issues of the time. \\n https://t.co/cHYhMX3l49 Thanks for covering the #UCSBReads2020 kickoff @KEYTNC3! https://t.co/Dy2RN1R3wi @ashdizzleee @litmiatweets You can check out our building map to see where the stairs are on each floor: https://t.co/aNlZfLiVto Another from today's #UCSBReads2020 book giveaway. Thank you @AS_UCSB President Alison Sir and Internal Vice President Alli Adam for helping us get \"Rising\" into the hands of #GauchosWhoRead. https://t.co/uxAr4bY27E We had a special visitor to the Eunice Foote exhibit today! @KHayhoe came to check it out with one of the curators, John Perlin. Hear her tonight at Campbell Hall at 7:30 pm. Free event hosted by @ArtsandLectures &gt;&gt; https://t.co/jtuQ95x864 https://t.co/mXDqs8U7lT #UCSBReads2020 officially kicked off today with our book giveaway to students! We're excited for the #UCSB campus and #SantaBarbara community to dive into \"Rising: Dispatches from the New American Shore\" by @ElizabethaRush.\\n\\nMore: https://t.co/7rTSoFvSWT https://t.co/WkO7umm1CM Cheers for a new #OpenAccess journal via @ucpress! 👏 https://t.co/7m6P4kjCbj Thanks for sharing @D_HAUSE. All #UCSBReads2020 events can be found here: https://t.co/vzyVSCXHYO https://t.co/BlIdmQkpvo Come get your free copy of \"Rising: Dispatches from the New American Shore\" and be a part of #UCSBReads2020.\\nP.S. There will be opportunities for selfies with Chancellor Yang if you get there early! https://t.co/cnw0fS3t8A Book giveaway tomorrow! If you are a student at #UCSB, come get your free copy of \"Rising: Dispatches from the New American Shore\" and be a part of #UCSBReads2020.\\nP.S. There will be opportunities for selfies with Chancellor Yang if you get there early!\\nhttps://t.co/SsJDFOApbq https://t.co/iQZPTv5Uqj We're glad to be a part of this exciting work! https://t.co/Wk5J0XrLEt #UCSBReads2020 kicks off next week! Watch the video in this link to hear @ElizabethaRush, author of this year's pick \"Rising: Dispatches from the New American Shore,\" discuss her experience investigating sea level rise in coastal communities.\\nhttps://t.co/ixckVHgP6z\\n@sheepscotco The images on this week's @dailynexus cover feature photos from the UCSB Library Special Research Collections. Pick up a copy and check them out! https://t.co/MWa9Q8dsgh Beyond excited for the kickoff meeting at @covcampus for the @COPIMproject #Community-led #Open #Publishing #Infrastructures for #Monographs with @ScholarLed @punctum_books @matteringpress @OpenBookPublish @DOABooks @Jisc @openhumanities @UCSBLibrary @lborouniversity #OpenAccess https://t.co/nAOyYYWUAS Thanks to @UCSBSustainable &amp; @AS_UCSB Recycling, #compost bins are now in the #UCSB Library to encourage students, staff, and faculty to participate in waste diversion on campus! Learn more: https://t.co/mJvNSsyVXa https://t.co/jWhnJBEWEX Pretty consistent with how @TobarDualchais has changed folksong research practice in Scotland, alongside the digitised resources of @bodleianlibs @natlibscot @TheEFDSS @ITMADublin @UCSBLibrary (cylinders) and countless others. https://t.co/ex4kBTfMSS Springer Nature and Germany´s Projekt DEAL Finalize World's Largest Transformative #OpenAccess Agreement\\nhttps://t.co/sfMRH0r85x 👏 And it's available for checkout! &gt;&gt; https://t.co/PMo9QoHCpG https://t.co/epVbBeudht We’re happy the compost bins are now available in the Library! Thanks for your work to reduce waste across campus. @UCSBSustainable https://t.co/prU8vHEe4j NEXT WEEK I'll be at UCSB - come on out, it's free! https://t.co/9duC58Rp7n We'll allow it🙂#LibLife https://t.co/zq42D8Kp2I In remembrance of Dr. Barbara Uehling Charlton, Chancellor of @ucsantabarbara from 1987 to 1994, here's the @dailynexus article from March 30, 1987 announcing her selection as #UCSB's fourth chancellor. Read the full story in our online archive: https://t.co/zkuVnpnr3D https://t.co/tcuhLfqtg3 Flags around campus are at half staff today in memory of Dr. Barbara Uehling Charlton, Chancellor of \\n@ucsantabarbara\\n from 1987-1994. She passed away on Jan 2. She is recognized in our exhibit celebrating #UCSB's 75th anniversary:  https://t.co/VtirkVl3OX https://t.co/9vtYGwFFk0 @UCSBReligion Thanks for the RT! GauchoPrint is here! Students have long been requesting to use their 200 pages of print credit in the Library and to be able to print from laptops and mobile devices, so we are excited to offer this service. Learn more: https://t.co/pG31HXQ1t9 https://t.co/pslMDU0Z2h @LeapingRobot Thank you for the feedback. Your comment has been passed along to Library staff who review suggestions. The 141 issues, published in 1933, 1934, and 1938, were a font of information regarding the community’s Depression-era attitudes and controversies. https://t.co/ySvtgflhVO This week's @CoastalViewNews highlights our recently digitized collection of 141 issues published in the 1930s of the long-forgotten newspaper, The #Carpinteria Chronicle. Read the article here on pages 10 and 11: https://t.co/7DgZVKD4LI\\n\\n#LocalHistory #CarpinteriaHistory https://t.co/1lp2Q83x60 Attn #Gauchos! From 10 am-noon on Jan. 14 come to the Library Paseo to get your copy of the #UCSBReads2020 book, \"Rising\" by @ElizabethaRush. Chancellor Yang, EVC David Marshall, and University Librarian Kristin Antelman will be handing them out to #UCSB students. https://t.co/PBuprmSW8J 🎉 Ring in 2020 with a historic rendition of \"Auld Lang Syne.\" This recording from c. 1898 (!!!) was originally recorded on a wax cylinder phonograph and has been digitized and made accessible in @UCSBLibrary's Cylinder Audio Archive for all to hear!\\n\\nhttps://t.co/5LrFG9b5TB Sending joyful wishes to our entire #UCSB community this holiday season! https://t.co/ip1NziCeDI We wish you all a happy holiday season!\\n\\nPhoto from the University Archives photographs collection of two women crafting Christmas decorations in Home Economics. Circa 1954-57. Photo by Gilbert’s of Goleta. UCSB Library Special Research Collections.\\n\\nhttps://t.co/fJBZ403Rlw https://t.co/5KfTZYOtTt Though our building will be closed for winter break, 24/7 online access to research databases, electronic journals, and e-books is available at https://t.co/FMNjY2Wh6W.\\n\\nWe wish you a safe, healthy, and happy holiday season! https://t.co/5TVMeQEjwq Ya'll! The brilliant @sheepscotco made a short film about what its like to live on land that is slowing going underwater. It features many of the communities chronicled in RISING and also the fabulous @AnthropoceneAL. Check it out:  https://t.co/yoq6Jvy0DJ You can learn more about Eunice Foote from our exhibit. Come to the Library or view the online version here: https://t.co/MPVWqqkCtp https://t.co/3q3uKAdB2P Do you find beauty in your research? Between now and Feb. 14, #UCSB undergrads, grads, and postdocs can submit artwork to the 7th annual \"Art of Science\" competition. Go to https://t.co/h7KIPHYKma for competition guidelines and details. We display some of the winning entries. https://t.co/S4GrCRlEHR 2/ Our Supporting Library Membership program was developed with the amazing librarians (in metadata management, scholarly communications &amp; collections management) at @UCSBLibrary &amp; also with @OAPENbooks to whom we owe a great deal of gratitude. #LibraryTwitter #Gratitude #OABooks Check out this great thread from @footesea who visited our Eunice Foote exhibit and shared her thoughts with the Twitterverse. https://t.co/r01A5HJsq2 @footesea @FiveMetreStop @ucsantabarbara Very cool! We're so glad you stopped by. A piece of history: Carpinteria is a small town located ~10 miles to the south of Santa Barbara. Copies of 'The Carpinteria Chronicle' from the 1930s, discovered in a basement, have been digitized and made available to the public at the UCSB Library.\\nhttps://t.co/08G2AOa65v Info about how you can access our #AerialPhotography collection here: https://t.co/cNJD6zQ9GL https://t.co/EkNA9gVRO5 Congrats @ElizabethaRush on RISING's selection as #RhodeIsland's \"One State, One Book\" 2020 pick! Looks like we'll be able to chat climate change with not only the #UCSB &amp; #SantaBarbara communities throughout #UCSBReads2020, but also people reading in RI! \\nhttps://t.co/clfuFtyjzs https://t.co/wuhWSDDi5W To accommodate the transition to GauchoPrint, printing is not available in the Library this week. The University Center and the Student Resource Building have print stations that are open for use. Learn more: https://t.co/s0EVFRQJ1o https://t.co/CGslyS9qR0 Tune in tonight on kcsb-fm 91.9 in Santa Barbara or stream the show online on https://t.co/Sn3ZE3T2qe from 8-10 pm PST! Get a glimpse of a few @UCSBLibrary Special Research Collections' 78rpm collection of Middle Eastern and Greek music. https://t.co/LtwxPZigHj Heather Silva recently joined the UCSB Library in the role of Senior Director of Development. Learn why she is an enthusiastic ambassador of the Library and all of the services it provides the #UCSB campus and #SantaBarbara community: https://t.co/QlJsaFboCD https://t.co/XNYhuQoMGQ View the issues here: https://t.co/gZaMHDuSxj\\n\\n#Carpinteria #LocalHistory https://t.co/2GkKxfCyKn We're excited to offer GauchoPrint at the Library next quarter! Learn more: https://t.co/s0EVFRQJ1o https://t.co/OM1REwyTPT Our Special Research Collections team recently digitized a long-forgotten local newspaper, the #Carpinteria Chronicle. The 141 issues, published in 1933, 1934 and 1938, reveal the community’s Depression-era attitudes and controversies.\\n\\nLearn more: https://t.co/cJYWop1RUM https://t.co/gFC9gYjnV9 Check out the latest issue of our Crossroads e-newsletter with info about winter break closure, GauchoPrint, our new Sr. Director of Development, and more.   https://t.co/Yzc3UZtYbF What could @ucsantabarbara scholars accomplish with your support? Make a #GivingTuesday gift to help Gauchos transcend the boundaries of knowledge. https://t.co/jlhwN7yQ6W\\n\\n#UCSB #MakeADifference https://t.co/FlGRd41dtb Do you use our public computers? To better protect your privacy, UCSB Library public computers will now delete all user data after each logout, including logouts due to 15 minutes of inactivity.\\n\\nRead more about the change and how to protect your work: \\nhttps://t.co/T5EEtDIuqB https://t.co/FkbR36asJa Late night study starts tonight! #UCSB #DeadWeek #FinalsWeek https://t.co/Unno6H92yG #LivingHistory\\n-\\nThe UCSB Campus is built on Chumash land, specifically the village Heli’yuk. In Spring of 2015, @ucsblibrary opened up an exhibit entitled: \"Indigenous Peoples of the Americas: Roots, Resistance and Resurgence,\" which was opened with ceremonial dances and had a https://t.co/2y9OWzyqTW Enjoy your Thanksgiving break! See more details on our hours here: https://t.co/pk8Y0dH2HH https://t.co/qHL40DzK5Q Before &amp; After - We're pleased to share that we've completed the renovation and expansion of the Adaptive Technology Center, a space for #UCSB students with disabilities to access technology that makes it easier to keep up with their studies\\nRead more: https://t.co/lEBJNcqtsH https://t.co/03Xp33NmCS Great news for you #Android users -- the Waitz app that shows how busy the #UCSB Library is in real time by floor is now available on @GooglePlay! Also available for iOS. Download it now &gt; https://t.co/Xn5D8qRuvK https://t.co/PdILDc2Npv Carnegie Mellon, a longtime proponent of open access research, is championing a movement to revolutionize academic publishing with today's announcement of a transformative deal with Elsevier that prioritizes free and public access to the university’s research. \"We are hopeful that the @CarnegieMellon news is a positive sign that #Elsevier is ready to start signing transformative #OpenAccess agreements with other U.S. research universities.\"\\n\\nRead more of the @UofCalifornia statement:  \\nhttps://t.co/5ZS5bSSIuH Even if you need a change of scene from our building, our online databases and resources are available from any laptop or device at https://t.co/FMNjY2Wh6W. You can even chat with a librarian at https://t.co/vVqKZ6WSk5. https://t.co/kiCddLMaSj Update: The All Gender Restroom in the library is currently closed! https://t.co/YBpM2ov7po Starting now in Library Room 1312. @leronshults on why the Humanities are needed as we consider the ethics of #AI https://t.co/T5QWyY9Hj5 Today! Hear LeRon Shults discuss why the Humanities are needed to guide ethical conversations around Artificial Intelligence (think Cambridge Analytica and policy-oriented simulation scenarios).\\nMore info: https://t.co/XexVyL4iRr https://t.co/yQrOGWzZ2y UCSB library is unveiling an exhibit about Eunice Foote, the woman who- in 1856- discovered the heat-trapping capacity of CO2! She is one of the Kick-Ass Ladies of Science™ https://t.co/uH84RbD54H The only woman to be published in serious physics journals until Marie Curie, Eunice Foote was the first to show that CO2 is a greenhouse gas. Her legacy is highlighted in the new exhibit that will run through June in the @UCSBLibrary’s Ocean Gallery. https://t.co/MkvAntEfkm Packed house for our @ucsantabarbara &amp; @brenucsb #tidytuesday coding club this week! 🥳📊💻Thank you to the @UCSBLibrary Collaboratory @libratorybot for hosting us again!!!  #rstats https://t.co/N70SmjPcXv Join us tomorrow from 4-6 p.m. in Rm 1312  for the opening reception and panel discussion of our new exhibition. Five #UCSB women scholars will talk about their research in climate science and how Eunice Foote left a legacy in science and feminism. \\nhttps://t.co/7voLv0xyb7 https://t.co/c1GCqqQxtZ #HappyVeteransDay! Thank you to all who have served. \\n\\nPhoto: 1965 Maj. Gen. Ernest F. Easterbrook (left) and Chancellor Vernon Cheadle with Legion of Merit medal recipient Col. George C. Dewey (right). From our University Archives photographs collection. \\nhttps://t.co/6tzfTuwDgq https://t.co/cVy6Zck5Ec Our \"Campus by the Sea\" exhibit celebrating #UCSB's 75th Anniversary is available to view online. Check it out here: https://t.co/VtirkVCFdx https://t.co/Pd1MoiQ40s @smonie @kayvonT8 🥰 We remain in the running for most iconic place on campus! Vote here to get us to the quarterfinals: https://t.co/v6nFE9P0rY\\n\\n#StepIntoUCSB #UCSB #IconicPlaces #UCSBLibrary https://t.co/eOeW4inPER One way to do that is to support the partnership between @UCSBLibrary and Punctum Books through our newly-launched Supporting Library Membership Program: https://t.co/C5sfcoeTTl #OpenAccess #ScholarLedOA #California #OABooks #Libraries https://t.co/zILieJK07q Read about our newest exhibition highlighting Eunice Foote, the first person to show that carbon dioxide is what we now call a “greenhouse gas.” And don't miss the opening reception from 4-6 p.m. next Wednesday. https://t.co/KcAfnoVyqT\\n#UCSB #UCSBLibrary Today at 4 pm! Enjoy views from our 8th floor and an insightful talk with @UCSBReligion Professor Ann Taves. Reception to follow. This event is free and open to the public. \\n#UCSB #SantaBarbara https://t.co/UdiBDcO2zs \"The Institute began operation in September, 1979...[representing] a new mode of conducting research in theoretical physics\" and formally opened on March 28, 1980. More KITP + @ucsantabarbara history at @UCSBLibrary's exhibition \"Campus by the Sea”: https://t.co/UzaIGvqa2o https://t.co/1GLNiGuqM3 We're in the running! Show some love for the library when you vote here: https://t.co/jlhwN7yQ6W https://t.co/R1DN9iGN1S We're getting in on the #ArchivesHashtagParty! This month's theme is #ArchivesFacialHair as a nod to #Movember &amp; #NoShaveNovember. \\n\\nFrom our University Archives photographs collection: #UCSB Commencement 1983. Photos by Ricardo Lopez. https://t.co/zdn79jjAlK We're looking forward to hosting parents and family at our Campus by the Sea exhibition Open House today from 2-4 pm and our Library Tour tomorrow at 2 pm!  \\nMore info: https://t.co/LknGd611rn https://t.co/NHofedWUKK Thank you @ucsblhp for this #historyhighlight - For folks interested in more digitized content about #ucsbhalloween #ivhalloween check out the @UCSBLibrary's digital collections:  https://t.co/vNAQOH2iIg https://t.co/brLyj2OfLw #OnThisDay\\n-\\nIn 1987, a citizens committee called \"Red Alert\" was initiated in Isla Vista.  This committee was responding to increased sexual abuse of women during Isla Vista's Halloween celebrations. https://t.co/BoTgDe1uZ0 A clipping from our Special Research Collections eerily relevant to what's going on today. \\nPublished via @dailynexus Nov. 4, 1986 https://t.co/ykyDdDmxok Have you heard about Zine Making Club? It's a collab between the RCSGD and @UCSBLibrary , and we have one more meeting this quarter! Mark your calendars for November 14th, 6-9 pm, for the next meeting. Check out some of the pages we made last time, and see you next time! https://t.co/13381ah09r Read more about our new exhibition \"Campus by the Sea\" which chronicles #UCSB's transformation into a world-class institution. Thanks @NoozhawkNews for covering! \\nhttps://t.co/cxkZRqzlcD Starting now in #UCSB Library Special Research Collections - talk with @iannagoski “Don’t Let Me Be Lost to You: Early 20th Century Near Eastern Music in New York City.” It’s not too late to join us! https://t.co/6RMA6uM7qn In advance of Ann Taves' talk next week, check out this article from @ucsantabarbara The Current. \\n\\n\"Religion and politics, [Taves] maintains are both expressions of deeper psychological drives that are best explained by evolutionary science.\" \\nhttps://t.co/9O2av9gCpd Next Tuesday! Don't miss Ann Taves' talk about how religion and politics both attempt to answer the big questions that structure our worldviews and how we can use these questions to reach out to others to overcome the current polarization in the U.S. Free &amp; open to the public. https://t.co/7SmG1oLnr1 The app uses custom sensors that monitor BlueTooth and Wi-Fi signals in the area and then uses an algorithm to turn that info into occupancy data. For more details, check out the Waitz App FAQ here: https://t.co/YKUgtuF65Z https://t.co/amS6LV0Xwh This episode of the @SpokenWebCanada \\n #Podcast features @jcsped who talks about the weirdness of historic sound recordings w/ Patrick Feaster of @IUBloomington, @namleti of @nyuniversity, David Seubert of @UCSBLibrary &amp; @mattrubery of @QMUL https://t.co/p8DQ9bNmPi Ian Nagoski, a music researcher and collector, will speak at the UCSB Library this Wednesday at 5 pm about performers from Turkey, Armenia, Lebanon, Syria, Egypt, and Greece and the recordings they produced in New York in the early 20th century. https://t.co/bzhujw48Z5 This Wednesday, we are looking forward to a talk by music researcher and record producer, @iannagoski. This event is open to the public and is free to attend. \\nMore info: https://t.co/iAYfSyrorW\\n\\n#UCSB #SantaBarbara https://t.co/frFolzigb4 Catch up with all the @scholarled #OAWeek blog posts -- on open infrastructure, transformative agreements, trust and transparency, OA and ethics, and much more -- via this link: https://t.co/bl7bKoc5NY #openaccess #OAbooks #OpenForWhom And that’s a wrap for #OAWeek 2019 at @UCSBLibrary &amp; @punctum_books! #publishing #ScholarLedOA #libraries #OpenSource #OABooks #Community #Equity #scholarship #SantaBarbara #california #partnership #InvestInOpen @OAPENbooks @ScholarLed @CokoFoundation @ProjectMUSE @RadicalOA https://t.co/3na8zMZzpX That’s a wrap on our #OAWeek2019 events. Thank you @EileenAJoy @punctum_books @oa_dog for being a part of it! For us, #OpenAccess advocacy is year round, so stay tuned. https://t.co/vlwK5sOyWO Thank you @sbnpnews @soehantha for covering last night's opening of our exhibit \"Campus by the Sea: Celebrating the 75th Anniversary of #UCSB.\" The #SantaBarbara community is invited to see it at our open house with the curators from 2-4 p.m. on Nov. 1.\\n\\nhttps://t.co/anYUyZQtbJ https://t.co/PCDznHERSN “The campus started as a small liberal arts campus, very small in concept and focus. And now, 75 years later, we're known worldwide as a world-class research university,” Blue said.\\n\\nhttps://t.co/U0sxsfKJFP #tbt in honor of #OAWeek\\n#ThrowbackThursday https://t.co/VcfeiqcTwb We're looking forward to the opening of Campus by the Sea tonight, which celebrates #UCSB's 75th Anniversary. Thanks @dailynexus for interviewing the curators about the exhibition. https://t.co/Ci4C75Zuya Thanks @tblucsb for spreading the word about our #UCSBReads2020 pick! \\nhttps://t.co/4cs1qEko84 There’s some truly incredible work coming out of the @UCSBLibrary Interdisciplinary Research Collaboratory, helmed by none other than @ICPSR Representative @jonjab. So proud to call them a member institution. #DataLibs, watch this space! #ICPSR #UCSBLibrary https://t.co/L5GnE7wUUc \"When I think about what it will take for an open system to be most successful and effective, I feel it is imperative to ensure that system be built on two elements: Trust and Transparency.\" - @ashleydfarley \\n#OAWeek2019 #OpenAccess https://t.co/6GiLI1jPCU We've got some new items available for checkout at the Services Desk: charging cables, board games, frisbees, umbrellas, and more! See a full list of our tech and miscellaneous items you can borrow: https://t.co/6Q0T8gUd8y https://t.co/h8NZb0afgg Here at @ucsantabarbara, @CALPIRGStudent has been working with @UCSBLibrary to implement more open access materials in the classroom. Join us any day this week from 12-1pm in the Library to support making textbooks more affordable! #OAWeek #TextbookBroke #OER https://t.co/JasyRPWjog It's International #OpenAccess Week! Check out our related events that provide an opportunity to continue to learn about the potential benefits of Open Access and to help make Open Access a new norm in scholarship and research.\\n\\n#OAWeek #OAWeek2019 #UCSB https://t.co/67pQydg7E2 Happy International Open Access Week 2019! We're looking forward to all the conversations asking \"Open for Whom?\" and exploring how to prioritize &amp; center equity in efforts to advance open knowledge. \\n\\nFollow the conversation using this year's hashtags: #OAWeek and #OpenForWhom https://t.co/ll62WKguxX BIG thank you to Richard @UCSBLibrary, who, this week, introduced 504 @UCSBHistory undergraduates in World History to the ins and outs of the doing historical research. \\n\\nLibrarians (and libraries) matter!! \\n\\n🔍📰💻\\n\\n#ucsbhist #Hist2C #ucsb https://t.co/3uAB2xorQQ @senaythechosen We apologize for the inconvenience. Our elevator technician is actively working with the manufacturer to troubleshoot the problem with Elevator 5. Thanks for sharing this information @GuWa! https://t.co/QXVfsURadH Thank you @NoozhawkNews for spreading the word to the #SantaBarbara community about the #UCSBReads2020 book pick. We look forward to the conversations it will spark around #SeaLevelRise and #ClimateChange. https://t.co/AhqYllfFrF It's #InternationalPronounsDay! There are still two more upcoming info sessions in the library with @ucsb_rcsgd that will give you a crash course on #pronouns. https://t.co/6u3vaeirm4 https://t.co/AcowRWXdp0 Finished the draft of the next episode of @SpokenWebCanada #Podcast. @jcsped talks about the weirdness of historic sound recordings w/ Patrick Feaster of @IUBloomington, @namleti of @nyuniversity, David Seubert of @UCSBLibrary &amp; @mattrubery of @QMUL. &gt;&gt; https://t.co/OGrjaIFGH9 We are now accepting applications for the Kenneth Karmiole Endowed Research Fellowship. One annual #fellowship will be awarded in the amount of $5,000 for research in our Special Research Collections. The deadline to apply is Dec. 15, 2019.  More: https://t.co/gGyFgx8xL1 Fellow #Gauchos + #SantaBarbara area residents: We hope you join us at next week's opening reception of our new exhibit, \"Campus by the Sea: Celebrating the 75th Anniversary of #UCSB.\" This event is free and open to the public. \\n\\nMore: https://t.co/1nL1LGWCNr https://t.co/HTuDbazaZk Ever been frustrated by how much time it takes for you to find a seat in the #UCSBLibrary? We've partnered with Waitz to customize an app that shows how busy the Library is in real time by floor so you can save time.\\n\\nCheck it out: https://t.co/a0IFJOFKfX\\n\\n#UCSB #WaitzApp https://t.co/W6LXXSra6o 🙌 https://t.co/KOQXu7m4gw Tomorrow at 6 p.m. in the #UCSB Student Resource Building, two of our librarians will be leading a #ComingOut zine-making club event co-hosted with @ucsb_rcsgd.  Come join! https://t.co/N8Bmr90vYF ICYMI Check out our October Crossroads e-newsletter featuring news on the #UCSBReads2020 pick, upcoming events, and what's new at the library this fall &gt;&gt; https://t.co/XU24YMPMb9\\n#UCSBLibrary https://t.co/XTb2jBGd3n 1 p.m. today in the #UCSB Library! Join some of our librarians and learn how to start organizing your research, study needs, and other important information in one place using #BulletJournal techniques. \\nMore info: https://t.co/xyJJmOIVNq https://t.co/Fe1u2Wfy4P We are excited to announce the selection of the #UCSBReads2020 book: \"Rising: Dispatches from the New American Shore,\" a work of creative nonfiction by @ElizabethaRush. To learn more about the selection, visit: https://t.co/7rTSoFvSWT\\n#UCSBReads https://t.co/CfoA9ulEmS Interlibrary Loan for the win! #ILL https://t.co/KDWeYKRPes https://t.co/5YplFJZKo7 #Gauchos! Our current serials and newspapers have moved. Their former space on the 1st Floor, Mountain Side has been transformed into a large study area with seating for about 100 people. Read what else is new at the Library this fall: https://t.co/wbuJTwSUKl https://t.co/uoZ06shTVx New report analyzing what students need the most found they often chose the library as a top destination for services https://t.co/wvOmiMMR4d Some great tips for success as the school year gets underway. Related to #5 - don't forget that our librarians are available to help you with your research needs.\\n#UCSB #StudentSuccess #AskALibrarian\\n\\nhttps://t.co/nVDC2yMfV1 ARL Statement on UC-Elsevier negotiations—ARL expresses strong support for the University of California libraries in their efforts to initiate change and expand access to research.\\n#OpenAccess #OA \\nhttps://t.co/eNrgkl2QuW New and returning #Gauchos - Don't miss our Library Social today! We look forward to meeting you.\\n#WeekOfWelcome #UCSB #KnowYourLibrary https://t.co/wqDApwdOJu @jean23bean One of our Library Administration staff has reached out to you via email to talk about what happened so that we can learn and do better. @jean23bean We are very sorry you were not treated respectfully during this recent exchange. We are reviewing the situation with our staff and looking into bias training for all of our frontline employees. Thank you for sharing so we can improve the UCSB Library experience for everyone. #WeekOfWelcome is here, #Gauchos! Check out our tours and don't forget to join us for our Library Social at 2 p.m. on Wednesday. #UCSB https://t.co/sWlExxBQMA See you Monday, Gauchos!\\nView our Fall Quarter hours here: https://t.co/pk8Y0dH2HH https://t.co/LVuYScLWtW In celebration of #HispanicHeritageMonth (Sept 15-Oct 15), we have a new display of books from authors of various Hispanic/LatinX backgrounds in our Ethnic &amp; Gender Studies Collection on the 2nd Floor, Ocean Side. Come check it out! All books on the shelf are available for loan. https://t.co/IgztcOdgH4 We agree! A reason why we offer the Library Award for Undergraduate Research: https://t.co/LHE11K5kkR https://t.co/GD6zEAqyBq A great list of resources for students. Thanks @dailynexus for including the Library! In addition to study space and database subscriptions, we also offer course reserves, laptop checkouts, research help, and more! https://t.co/xsB47gXwnF @lisalibrarian @ScholarLed @UCSBLibrary @mbschloss @catherinemitch @charleswatkinso Ultimately “scholar-led” is of somewhat recent coinage and it’s ultimate definitions (plural) should be up for broad discussion, but if you want to drill deeper into what @ScholarLed means by it, and by “community-owned,” this is a good place to start: https://t.co/9sqJoeT2P8 We're looking forward to welcoming new and returning Gauchos. Check out our Library Week of Welcome events here: https://t.co/LknGd611rn https://t.co/UoTXC8VIQS Are you a @UofCalifornia author submitting or publishing a journal article to/with a @CambridgeUP journal? Good news! The new #openaccess publishing options went live in Cambridge’s system today! We help pay, you get read. https://t.co/aycHGiawif Welcome to @punctum_books, @dan_rudmann! https://t.co/KZYvRm3N5D New and returning #Gauchos - come visit the Library during #WeekOfWelcome next week! Check out our lineup of events. More info here: https://t.co/LknGd611rn https://t.co/lGnfPj7Loa At the forefront! Funded by a $25M @NSF grant, UC Santa Barbara will become the home for the nation's first Quantum Foundry, a center for development of materials and devices for #quantum information-based technologies. https://t.co/dbFGJpdmue 😍✨ https://t.co/jZ8nEIuwjV Our librarians, Eric Ederer &amp; Heather Hughes, and History PhD student, Anthony Greco, were on @KCSB last night showcasing sounds of Arabic, Greek, and Turkish 78 RPM sound recordings from our Special Research Collections. Listen to the archived show here: https://t.co/TBnlT0VMaV Growing up surrounded by books could have powerful, lasting effect on the mind https://t.co/FNntUbtwQ3 via @SmithsonianMag @gwendolynawu We're glad you took advantage of those resources during your time here! Don't miss @KCSB 91.9 FM  from 8-10 pm tonight featuring some of our librarians and sounds from our Special Research Collections. https://t.co/IK5ckHUfHc Tune in to 91.9 @KCSB-FM in Santa Barbara or stream on https://t.co/7vfryiuR2U for tonight's Transatlantic Phenomenon!!! 8-10 pm PST https://t.co/yafsgxzpK6 We're happy to hear the majority of student respondents who graduated in the last year attributed part of their success to our services. View the full results of our 2019 Exit Survey here: https://t.co/oDlrn0PDOM\\n\\n#HeretoHelp #StudentSuccess https://t.co/cS5zncrvNy As we get ready for the new school year, we've deployed 18 of these new mobile whiteboards throughout the #UCSBLibrary to make it easier for you to brainstorm, work collaboratively, draw out ideas, and more. We've already seen many of them in use! https://t.co/jg6e0gYuHX Do you like snacks and architecture? Then join us for our opening reception to celebrate the Fall 2019 exhibitions on Friday, Sept. 27, 5:30-7:30pm. #JRDavidson https://t.co/0BiMzI5Yk8 @callme_serg We see you 👀 @usnews just released its 2020 #BestColleges rankings. For the sixth year in a row, @ucsantabarbara is in the top 10 on its list of Public National Universities! Read more: https://t.co/LnQvkgQtqZ\\n#GoGauchos https://t.co/BMWQGg0n0O In this plan, we can see that IV had been fully planned out by 1963! \\n\\nStop by the the Art &amp; Architecture Library at UCSB to see Plans for the Future: UCSB Long Range Building Plans, 1944-1990. \\n\\nSee our #Wordpress post about the exhibition here: https://t.co/pQYAxe6h2I https://t.co/j5ApPuV1EI @fernandaaaxo Glad to hear we've become your second home! We're so glad to hear you're utilizing these! @justjess_please https://t.co/jKBYuryp8l 2/ Our Supporting Library Membership Program was developed with the amazing librarians (in metadata management, scholarly communications &amp; collections management) at @UCSBLibrary &amp; also with @OAPENbooks to whom we owe a great debt of gratitude. #LibraryTwitter #Gratitude #OABooks What a great way to promote literacy in the #SantaBarbara community! via @SBIndyNews  https://t.co/Gyn2NmOk1k @SBPLSystem Thanks for the shoutout! #UCSB is once again one of @Forbes' Top 25 Public Colleges: https://t.co/eye9BsZCjk #TopColleges https://t.co/zX2qkQk5PN The @ARLnews has appointed our University Librarian to the @cni_org steering committee. Congrats, Kristin! https://t.co/UcjoVc3e02 In tribute to #ToniMorrison, we have a new display in our Ethnic and Gender Studies Collection. Morrison, who died last week at age 88, was the first African-American woman to win the Nobel Prize in Literature. Many of her works explore the black experience. Come check them out! https://t.co/EI2pENrHX9 UC faculty to Elsevier: Restart negotiations, or else https://t.co/HBluLY1afF via @ucberkeley UCSB to Hold La Casa de la Raza Archives https://t.co/ub6RadyGVm UCSB Partnering on Project to Improve Open-Access Publishing https://t.co/ZwppvLYlEx How do you fly a flag on the moon with no wind? Librarian Annie Platoff tells us via @forbes https://t.co/jwZ1Qu1Eo0 Librarian Annie Platoff quoted in USA Today story on how Buzz Aldrin and Neil Armstrong were able to put a flag on the moon.\\nhttps://t.co/962XVrck39 via @usatoday Planting the flag on the Moon wasn’t an easy feat. It's \"an excellent example of something that seems very, very simple, but once you really start thinking about it, you realize is very complex,” said @ucsantabarbara's Annie Platoff. #Apollo50th https://t.co/fkYzfrPMEA https://t.co/SjBU8cOKb3 Planting the U.S. flag on the moon 50 years ago was a complicated feat. @UCSBLibrary's Annie Platoff explains the engineering it took to make Old Glory fly. #Apollo50 #moonlanding #vexillology https://t.co/cffoTR5UBE As of July 10, UC's direct access to new Elsevier articles has been discontinued. The UCSB Library is prepared to help you access the articles you need. \\n\\nhttps://t.co/FcNIRpowr3 https://t.co/V37E5mEc7S ScholarLed to Pilot Major International OA Project for a Community-led Ecosystem for #OpenAccess Book Publishing: £2.2 million awarded from @ResEngland #ScholarLedOA #RadicalOA #OABooks 🎉🍾https://t.co/OIoeD0dRBz Study hard, Gauchos...you’re almost there! More hours and more space for Late Night Study through June 13th. @ UCSB Library https://t.co/mC8nOXqtJu Join us tonight for an award ceremony and reception for the winners of the 1st Annual Library Award for Undergraduate Research! 5PM. #UCSB Library, Instruction &amp; Training Room 1312. https://t.co/E2FN1fD3ij Gauchos, join us tonight for the Spring Quarter Deep Dish with the University Librarian. Share feedback. Eat pizza. 5PM-6PM. #UCSB Library, Instruction &amp; Training Room 1312. https://t.co/Gs7J1ltVo6 The UCSB Reads Selection Committee is seeking suggestions for UCSB Reads 2020! UCSB Reads 2020 will have an environmental theme. If you have a suggestion, let us know: https://t.co/XYo0TDscx3 UCSB Reads Sneak Peek returns this Summer. https://t.co/kXPVScRlUD Join us tonight! 5PM. #UCSB Library, Instruction &amp; Training Room 1312 (1st Floor, Mountain Side). https://t.co/fHQNPpMjZ6 The newly established @UCSBLibrary Award for Undergraduate Research recognizes student projects that make skilled use of the collections, resources, and services of the campus library. https://t.co/JSFv2N8UPh Missed the Library’s Zine workshop in April? Come check out the Zine pop up exhibition. The display featuring works from UCSB SEA-U and VSA will be up through the Spring Quarter. #UCSB Library Mountain Gallery. (1st Floor, Mountain Side). https://t.co/sTTbGRfBZM Congratulations to the 2019 winners of the #UCSB Library Award for Undergraduate Research! https://t.co/aaP4iwDcXB @ucsantabarbara https://t.co/fih57N5y9F ArtofScience Reception at the Santa Barbara Museum of Art @sbmuseart Wednesday, May, 22 5:00 – 7:00 pm\\nFamily Resource Center Santa Barbara Museum of Art\\nArt will be on display May 20-June 20.\\nAll are welcome!  @ucsantabarbara @UCSBLibrary @UCSB_CCS @UCSBengineering #CNSI https://t.co/JpSvyyecHo ICYMI. Check out the latest Crossroads! https://t.co/AiNmAguiKg https://t.co/ML3MtAIXEy thank you #ccli2019 organizers for a such a great conference experience!! 🌸🔥🌈 Love hearing about other CSU first-year seminars from @nallensworth and Callie Branstiter! They chose information privilege as the course theme. And a s/o to my awesome colleague @ccaffgardner's course! #ccli2019 Change annotated bib and reflection final assignment to a zine! Presentation by Paige Sundstrom at UC Santa Barbara.  #ccli2019 https://t.co/fn8STy0P21 Yay so much good info being shared!\\nYay for UCSB library representation!!@MMichelleMoore \\n#ccLIghtning2019 #ccli2019 https://t.co/I23DtcU1GJ it’s a social learning dynamic! We’re learning together! engaging with technical communication and building a tractor based on another group’s standards hehe #ccli2019 https://t.co/N54JEPcokB @punctum_books @paigelib !!! 👋🏻👋🏻👋🏻 Made it to #ccli2019 @CannonDr providing opening remarks for “Reimagining Student Success: Approaches that Increae participation, representation &amp; relevance.” @usflibraries https://t.co/2u9pBQc2A7 Good morning from San Francisco! @paigelib here, I’ll be tweeting from the California Conference on Library Instruction today! #ccli2019 https://t.co/6LdmjWhJkq JOB: Director, Digital Library Development (UCSB) ← dh+lib https://t.co/JpHuCXXrcs @UCSBLibrary JOB: Data Services &amp; Digital Scholarship Librarian (UCSB) ← dh+lib https://t.co/uTnRaSdqNd @UCSBLibrary David Valentine, a #UCSB professor of earth science, will give a public talk on some of the unique ecosystems that grow around petroleum features offshore on Tuesday, April 30 in the @UCSBLibrary.  https://t.co/pDwEsaz65G \"The Best We Could Do\" by @MsThiBui documents her family’s escape from Vietnam to America in the 1970s. She'll give a free, public talk Thursday, April 25, as her critically acclaimed memoir is the current selection for @UCSBLibrary's #UCSB Reads. https://t.co/iUerzRRSmq Join us Thursday evening as we welcome @MsThiBui, author and illustrator of the #UCSB Reads 2019 pick - The Best We Could Do. UCSB Campbell Hall. 4/25. Doors open at 6:50PM. https://t.co/meyw90ES3L Looking forward to seeing you this evening! https://t.co/1SXSQdnw1B today @SharqZadeh and I presented a poster on our critical librarianship reading group! https://t.co/7f81DWtSUi a little later I heard from some rad librarians applying a relational cultural lens to librarianship, discussing mutuality, vulnerability, and conflict. https://t.co/9ZuxFb6JSb this morning I went to a panel on best practices for evaluating and providing accessible library resources. Collaboration across campus departments and a clear set of goals and visioning is key to success https://t.co/AOypqbru0N Hi folks! I’m Paige, one of the UCSB Librarians, tweeting from an academic library conference in Cleveland! I’ll be trying to showcase a bit about my experience in the next couple of days 🤗 https://t.co/ZoGdrjYRcN Cambridge University Press and the University of California Agree to Open Access Publishing Deal https://t.co/iOu3isQLpq “Now is the time to take a stand — together — and launch the next information revolution by ensuring that publicly funded research can benefit all humankind.” - UC President Janet Napolitano @ucsantabarbara https://t.co/aGAJFGmzK6 Just learned there are @swcarpentry workshops at @UCSBLibrary coming up, including next week: Intro to Bash, Git, and R! https://t.co/FIpmm7kTjD https://t.co/vejn61t3ij “The current breakdown of communications between the University of California and Elsevier may help propel change...Online publishing provides better and cheaper ways to share research results.” #openaccess #OpEd Via @latimes https://t.co/PtBi4DhRmX In Cleveland for @ACRL2019 meeting this week? Stop by booth 754 to visit with @punctum_books &amp; find out more about our new partnership with @UCSBLibrary around #OpenAccess books &amp; also about our other collaborations with @ScholarLed, @EditoriaPub &amp; @OAPENbooks! #CommunityBuilt https://t.co/zH7vweRkja Thank you Daisy Kershaw @KCSB for a wonderful interview about #refugees following my presentation @UCSBLibrary in association with #UCSBReads and @MsThiBui @UCSB on 4/25 to talk about #TheBestWeCouldDo! Take a listen to my radio interview here: https://t.co/RRr05qFB35 Memorandum of Understanding signed (!), formally initiating a 2-year pilot partnership between @UCSBLibrary and Punctum Books around #OpenAccess books 📚 in the Humanities and Social Sciences. A milestone. https://t.co/buih0INN3m #ScholarLedOA #RadicalOA #OABooks #CommunityBuilt https://t.co/Nb66dEe8Ke Congrats to @ucsb_rcsgd on the first UCSB Trans Week of Visibility. #UCSB Librarians Paige, Heather and Des are taking part in today's Trans Resource Fair! Come by and check it out. Manzanita Village Plaza until 2pm. https://t.co/j0ZeUbrNbf ICYMI. Check out the latest UCSB Library Crossroads! https://t.co/C8j4rIIArw https://t.co/Ve9keWQMSV Glad we could help! https://t.co/9foTnnFaxT ICYMI. Check out the latest issue of the UCSB Library's e-newsletter: https://t.co/OyS23eipHm https://t.co/ccLad0vClS Organize events &amp; lead training in the areas of data analysis, publication, management, and curation as Social Sciences Data Curator @UCSBLibrary! Find more details: #DLFjobs #libraryjobs  https://t.co/yEMXtqoLjl Have a PhD in an Earth or environmental science + experience working with data? Provide data management consultations, participate in campus research projects, &amp; more as Data Curator @UCSBLibrary! #DLFjobs #libraryjobs\\n https://t.co/vzH9YpTFX5 If you've got experience working with DH projects and humanities data, check out this position @UCSBLibrary as Humanities Data Curator! In the role, you'll respond to new research methods &amp; lead the adoption of new ones. #DLFjobs #libraryjobs\\nhttps://t.co/b9NG9P2w87 Voting closes on 3/3 for #SchullerLab and @CSEP_UCSB's 2019 #ArtofScience. #UCSB Library will again host the exhibition of winning selections. https://t.co/gHmEBq2uQv 2019 entrant “Beautiful Patterns of Water Flow” by Madhu Venkata Rama Kruhna Majji / @ucsbche https://t.co/OMEBddGKi4 UC Terminates Subscriptions with World's Largest Scientific Publisher https://t.co/yBgfGKq1HZ #UCElsevier An exhibition in the @UCSBLibrary's Art &amp; Architecture Collection highlights the works of artists who subvert the notoriously hypersexualized and misogynistic stereotypes of comics written by men for men. https://t.co/0eBEbixXmy Check out the article on #UCSB Library's latest exhibition \"In Her Own Image\". Now on display in Art &amp; Architecture (1st Floor Mountain Side). https://t.co/Hvb6G51O6V The #ArtofScience Voting open until March 3, 2019!  Come be part of the 2019 competition #unfoldingideastogether #amazingimages #UCSB https://t.co/YKjVBzaPcS\\n@UCSBLibrary @UCSB_CCS #schullerlab #cnsiucsb #CSEP Bravi tutti to the cast, orchestra, and production team of Lehár’s The Mock Marriage on a fantastic North American premiere this weekend at the @LoberoTheatre! Thank you to our partners at @UCSBLibrary for making it all possible and to David Bazemore for the wonderful photos! https://t.co/l1oSB9JiYB Looking to get some hands on experience wrangling and analyzing data in R Studio? Look no further than this 2-day Software Carpentry Workshop at the UCSB Library next Thursday and Friday, February 21-22. https://t.co/eRra5rBDXi\\n#DataScience @UCSBETS @UCSBLibrary @eembucsb We'll be presenting Franz Lehár’s The Mock Marriage with @ucsblibrary next Saturday/Sunday at the Lobero! Keep an eye out as we introduce our incredible cast members, including bass-baritone E. Scott Levin, who will play millionaire Thomas Brockwiller! https://t.co/0ODN7uYsKb https://t.co/PdbtcDsItI There is still time to enter the competition for the 6th Annual Art of Science! Submissions are due February 14. Win up to $250 and a chance for your work to hang in the #UCSB Library gallery. Click to learn more: https://t.co/tBX3VAViHk https://t.co/yrxlbWKinf Starting Wednesday, Feb. 6, @CenterUCSB, @ucsbmcc and @UCSBLibrary will host a free, public screening of the 10-part documentary series \"America to Me,\" which examines racial, economic and class issues in contemporary American education. #BlackHistoryMonth https://t.co/iUD9pkDZ42 Grad Lunch &amp; Learn this Fri 2/8, Noon-1PM, #UCSB Library Rm 1312. Grad students are invited for a free lunch and to hear from your peers. Oceans &amp; Audio w/ Daniel Elkin (@brenucsb) and Shahank Aswathanaravana (UCSB Media Arts and Technology Program). RSVP: https://t.co/XyMAGtgmXb https://t.co/cQtfzjSa61 ICYMI. Check out the latest #UCSB Library Crossroads! https://t.co/iXklBWMmYl https://t.co/bKmz932I2J We have some amazing @ucsantabarbara students using their voices and the archives at the @UCSBLibrary to document student activism at #UCSB YES! Student voices! YES! #communityarchives https://t.co/HsqCigB4Wn Join us tonight at 5PM in #UCSB Library Special Research Collections (3rd Floor Mountain Side) for the opening of our latest exhibition \"Anguish, Anger, and Activism: Legacies of the 1969 Santa Barbara Oil Spill\". https://t.co/07vgEOLVpt Today at 4PM join us for the UCSB Reads 2019 Panel Discussion \"The Best We Could Do: Telling and Re-telling the stories of Asian America\" with @UCSB_ASAMST Panelists: erin Khue Ninh, Sameer Pandya, Eleanor Ty, and Xiaojian Zhao. Instruction &amp; Training Room 1312, #UCSB Library https://t.co/1md5OcC6rX Join us today at 4pm for the Pacific View Lecture Series - “Exiled: Loss and Resilience Among Refugee and Forcibly Displaced Youth and Communities” by @drkiakeating of @GGSEucsb. Today's event is held in conjunction with #UCSBReads2019 #UCSB Library (8th Flr Ocean Side) https://t.co/oaFBbdQOsj Join us this Wed Jan 23, 4pm for a PANEL DISCUSSION: \"The Best We Could Do: Telling and Re-telling the stories of Asian America\" \\nPanelists: Erin Khue Ninh, Sameer Pandya, Eleanor Ty, and Xiaojian Zhao \\nlocation: @UCSBLibrary Instruction &amp; Training 1312\\nRefreshments served! Grad Lunch &amp; Learn this Fri 1/18, Noon-1PM, #UCSB Library Rm 1312. Grad students are invited for a free lunch and to hear from your peers. Rebecca Baker (@UCSB_English) and Luke Rosedahl (Dynamical Neuroscience) RSVP: scan the QR code or click the link https://t.co/XyMAGtgmXb … https://t.co/Tp6ps9F8jj Today at 10AM! #UCSB Reads Student Book Giveaway. Gauchos head over to the Library and pick up your FREE copy of \"The Best We Could Do\" by Thi Bui. The selection marks the first time a graphic novel has been selected for UCSB Reads. Limited quantities so arrive early. #UCSBReads https://t.co/GpbiCpzjay Gauchos! Don't miss out on your FREE copy of the book all of #UCSB will be talking about, \"The Best We Could Do\" by @MsThiBui. UCSB Reads Student Book Giveaway tomorrow Thursday, 1/10 at 10AM (Library Paseo). Limited copies will be available. https://t.co/N9QPGuqwWD We're looking forward to partnering with @UCSBLibrary to give the North American premiere of Franz Lehár’s operetta, “The Mock Marriage” (Die Juxheirat), next month at the @LoberoTheatre! Read more about this special production at https://t.co/9aApY2Aq9p https://t.co/KNhItIraEw ICYMI. Check out the latest issues of UCSB Library's Crossroads. https://t.co/RlitkJQ5s8 https://t.co/jBLEiXyBdL Have a safe and happy holiday week. As a reminder the #UCSB Library will be closed from 5PM on 12/22 until 8AM on 1/2/19. See you in the new year! https://t.co/7T6EQkr66o Congrats to UCSB Middle East Studies Librarian Heather Hughes (pictured on left) on being awarded the Wilkins Award by @MidEastLibs! https://t.co/vhQmgWI7I1 In UC's battle with the world's largest scientific publisher, the future of information is at stake https://t.co/b9qnA31zJO ICYMI. Take a look at our latest issue of Crossroads. https://t.co/qsGgoEX0xM https://t.co/jbWYG7KXey Deep Dish with the UL. Join us right now in Library Room 1575. Drop in. Grab a slice and share your thoughts about the Library. https://t.co/wfTpqehb97 Tonight! #UCSB students are invited to join us for the 1st ever Deep Dish with the University Librarian. Space is limited. See you at 6pm. https://t.co/qMgvQZGpgN Hey Gauchos! Take a minute today to celebrate #givingtuesday. Consider making a gift to your favorite charity or signing up to volunteer with a local organization or maybe even supporting a place you called home during your time at #UCSB. https://t.co/gJ55bIFRJK https://t.co/zaxz8TU1rh Deep Dish with the University Librarian. #UCSB Students are invited to join UL Kristin Antelman for FREE pizza and an open student forum to chat about the Library. Wed, Nov 28, 6-7PM. Library Room 1575. See you there! https://t.co/1mt4VMWicn You can recycle your empty pens and dried up markers! Celebrate America Recycles Day by dropping them off in the #UCSB Library Building Operations Office (1st Flr Ocean Side). Bring them by today to receive a FREE Library sticker. 1 per person/limited quantities #BeRecycled https://t.co/3lxuedz23y Stop by the #UCSB Library for a special Cumbia Dance Open-air Workshop with @SBDanceInstitut. Today, 11/7, at noon! UCSB Library Courtyard (Near the Mountain Entrance). https://t.co/BLIUJKcsPF It's Election Day! Exercise your right to vote. \"Now is the Time\" by Alonzo Davis. #UCSB Library Special Research Collections, Self-Help Graphics &amp; Art Archives, CEMA 3. https://t.co/pG0WczuvDs Have a spooktacular day! Happy #Halloween! https://t.co/6GZDUyvYU1 UC Santa Barbara’s Graduate Division, @ucsbGSA and @UCSBLibrary will co-sponsor Lunch &amp; Learn featuring @jjacobkirksey on November 2. https://t.co/YMyOPv7C1H @UCSB_GSRC https://t.co/aDDYcvoOki Join us today at 4PM for the first Pacific Views: Library Speaker Series of the academic year. Professor James Salzman (@brenucsb / @UCLA_Law) presents \"Who Gets to Drink? The Past, Present and Future of Drinking Water\". #UCSB Library, Pacific View Room, 8th Floor Ocean Side. https://t.co/sMIz2cjUTd Grad Lunch &amp; Learn this Fri 11/2, Noon-1PM, #UCSB Library Rm 1312. Grad students are invited for a free lunch and to hear from your peers. Jacob Kirksey (@GGSEucsb) and Veronica Laos (UCSB Chem) Immigration &amp; Ions. RSVP: scan QR code or click the link https://t.co/XyMAGtgmXb … https://t.co/WpHXoaNEa2 Here's just a few of the many great Dio de los Muertos art prints &amp; images found in \\n@UCSBLibrary 's Self-Help Graphics and Art archives collection on Calisphere:\\n\\nhttps://t.co/GbQ42jqMpf https://t.co/5romvCvYLh ICYMI. Check out the latest issue of Crossroads: https://t.co/3xFlpU2gpb https://t.co/pmXX9b5EWS Join us at 4PM today as University Librarian Kristin Antelman discusses ongoing strategies for large scale transition to Open Access within UC and at #UCSB. Updates on negotations with Elsevier will be provided. UCSB Library, Collab, 2nd Floor Mountain Side #oaweek2018 Join us at 4PM today for \"Care of the Self, Open Access, and Alternative Career Paths in the (More) Public Humanities\" presented by the co-directors of @punctum_books. UCSB Library, Instruction &amp; Training Room 1575, 1st Floor Ocean Side. #oaweek2018 Today at 11AM join us for a panel discussion on spatial data accessibility and its impact on GIS use for research, admin and instruction at #UCSB. UCSB Library, Collab, 2nd Floor Mountain Side @spatialUCSB @UCSBgeog #oaweek2018 #UCSB Library Presentation Practice Room now available for reservation by UCSB students, faculty, and staff. 1st Floor Mountain Side (room 1506), the space allows you to practice, refine, and record your presentations! https://t.co/cLqOUsFtck https://t.co/qBvpM5O1Tb The #UCSB Reads pick for 2019 is \"The Best We Could Do\" by @MsThiBui. This marks the 13th UCSB Reads pick and the first time an illustrated memoir has been chosen. To learn more about this incredible selection visit: https://t.co/6pnzmFzDpO #ucsbreads2019 https://t.co/VQ7AJEKkgk The #UCSB Reads 2019 selection has been made! Stay tuned for an official announcement today, Oct 9 at 5PM PDT. #ucsbreads2019 https://t.co/wYfOa2v9va Welcome back, sunshine! A section of the more than 600 solar panels installed on the roof #UCSB Library. https://t.co/5nU2ZTjafn A rare rainy day at #UCSB. Check out \"Nuestras Américas: An Exploration of Expressive Cultures in Latina and Latino America\" now at the Library. The exhibition examines how people of Latin American descent create a sense of space and belonging in the U.S. https://t.co/OZ5HbAqRCj https://t.co/pVePoJo8U1 Art of Science NOW on display at #UCSB Library (1st Floor, Mountain Side). First Place Winner “Coniatus Splendidulus” by Skylar Primavera, a @UCSB_CCS student. Dudley Lab / @eembucsb. Art of Science is organized by UCSB's Schuller Lab, @CSEP_UCSB, UCSB CCS and the Library. https://t.co/KX42eA93o9 Grad Lunch &amp; Learn this Fri 10/5, Noon-1PM, #UCSB Library Rm 1312. Grad students are invited for a free lunch and to hear from your peers. Sabrina Liu (@GGSEucsb) and Yang Qiu (@brenucsb) Resilience &amp; Recycling. RSVP: scan the QR code or click the link https://t.co/XyMAGtgmXb https://t.co/VrLDrU0wxF Welcome back, #Gauchos! We have some great news. In response to your feedback we are expanding Late Night Study. All floors are now open until 2AM. After 2AM, the full 1st and 2nd floor is available. Enter through Paseo West entrance. #UCSB Access Card required. https://t.co/2OK1NZN0s2 UCSB Reads Sneak Peek / Featured Pick :: \"Homegoing\" by Yaa Gyasi. To view the other five titles being considered for #UCSB Reads 2019 click the link https://t.co/otQlzJDEaM  #UCSBReadsSP https://t.co/mdCHJT6vaz Art of Science NOW on display at #UCSB Library (1st Floor, Mountain Side)! Second Place Winner “Atomic Ravine” by Aranya Goswami. Palmstrøm Lab / UCSB Electrical and Computer Engineering. Art of Science is organized by UCSB's Schuller Lab, @CSEP_UCSB, @UCSB_CCS and the Library. https://t.co/pijBjeBL8e UCSB Reads Sneak Peek / Featured Pick :: \"Hunger\" by Roxane Gay. To view the other five titles being considered for #UCSB Reads 2019 click the link https://t.co/otQlzJDEaM #UCSBReadsSP https://t.co/afHKWYa2GL Art of Science NOW on display at #UCSB Library (1st Floor, Mountain Side)! Third Place Winner “Forever Together” by David Cao. Nguyen Research Group / UCSB Chemistry. Art of Science is organized by UCSB's Schuller Lab, @CSEP_UCSB, @UCSB_CCS and the Library. https://t.co/4URDHEnvQw UCSB Reads Sneak Peek / Featured Pick :: \"Binti\" by Nnedi Okorafor. To view the other five titles being considered for #UCSB Reads 2019 click the link https://t.co/otQlzJDEaM  #UCSBReadsSP https://t.co/QelypZ3mXZ A university on the rise! #UCSB has jumped up three spots to the #5 position on the 2019 @usnews listing of top public national universities. Go #Gauchos! https://t.co/bbMMrhf5zR Art of Science NOW on display at #UCSB Library (1st Floor, Mountain Side)! People’s Choice Winner “Hot and Steamy” by Shaun Wolfe. Lenihan Lab / @brenucsb. Art of Science is organized by UCSB's Schuller Lab,@CSEP_UCSB, @UCSB_CCS and the Library. https://t.co/WKmARW2AvI UCSB Reads Sneak Peek / Featured Pick :: \"The Best We Could Do\" by Thi Bui. To view the other five titles being considered for #UCSB Reads 2019 click the link https://t.co/otQlzJDEaM #UCSBReadsSP https://t.co/QtVbWvJX7J RSVP for Grad Lunch &amp; Learn! Wed, 9/5, Noon-1PM, #UCSB Library Room 1312. Grad students are invited to stop by for free lunch and to hear from your peers. Noreen Balos (@GGSEucsb) and Neil Dolinski (UCSB Materials) present Case Studies &amp; Color Printing. https://t.co/XyMAGtgmXb https://t.co/ZLd86Yvafq Delivery has begun! #UCSB Library joins the @ucsantabarbara solar power grid. Over the next few weeks more than 600 solar panels will be installed on the roof of the Library. https://t.co/G8ywxHUpvz Thanks to instructors extraordinaire @ganski1 and @samanthagodbey for leading a roomful of us to be better teachers using the @ALA_ACRL InfoLit Framework. https://t.co/bS1UYTzjia Art of Science NOW on display at #UCSB Library (1st Floor, Mountain Side)! “Swirls Upon Swirls” by Neeraj Kulkarni, a @UCSB_CCS Physics Student. Peng Oh Group / @UCSBPhysics. Art of Science is organized by UCSB's Schuller Lab, @CSEP_UCSB, UCSB CCS and the Library. https://t.co/kGIzeAV1Q3 We did it! Day 7. Thank you @ucsdlibrary for challenging us. 7 days of #LibraryLife in #monochrome; no people and no explanations. #bwlibraries #blackandwhitechallenge https://t.co/4qrEWnILFy Day 6. Answering @ucsdlibrary’s challenge and documenting 7 days of #LibraryLife in #monochrome; no people and no explanations. #bwlibraries #blackandwhitechallenge https://t.co/snddZqHHLC Day 5. Answering @ucsdlibrary’s challenge and documenting 7 days of #LibraryLife in #monochrome; no people and no explanations. #bwlibraries #blackandwhitechallenge https://t.co/uz6GdWJHNd Day 4! Answering @ucsdlibrary’s challenge and documenting 7 days of #LibraryLife in #monochrome; no people and no explanations. #bwlibraries #blackandwhitechallenge https://t.co/UhM1xFFf9D Challenged by @ucsdlibrary we are on Day 3! Documenting 7 days of #LibraryLife in #monochrome; no people and no explanations. #bwlibraries #blackandwhitechallenge https://t.co/nb4ILwySG9 Challenged by @ucsdlibrary we are on Day 2! Documenting 7 days of #LibraryLife in #monochrome; no people and no explanations. #bwlibraries #blackandwhitechallenge https://t.co/KWf8gNf0TL Recharged after Fiesta weekend and ready to take on @ucsdlibrary's challenge.\\n\\nDay 1 of the B&amp;W challenge! Documenting 7 days of #LibraryLife in #monochrome; no people and no explanations. https://t.co/d9h4vnpQEA UCSB Reads Sneak Peek / Featured Pick :: \"The Hate U Give\" by Angie Thomas. To view the other five titles being considered for #UCSB Reads 2019 click the link https://t.co/otQlzJDEaM  #UCSBReadsSP https://t.co/QnIuM9BVIk Art of Science NOW on display at #UCSB Library! \"Marangoni Flow\" by Hyunjin Kim and Mike Garcia. @UCSBnanolab / @UCSBengineering. Art of Science is organized by UCSB's Schuller Lab, @CSEP_UCSB, @UCSB_CCS and the Library. https://t.co/4mXQhzmZHH We love the enthusiasm! This is just one of six that are currently under consideration. Stay tuned as we feature a new featured pick each week. https://t.co/gABJ0ugkp0 ICYMI. Check out the latest issue of Crossroads! https://t.co/s2A1zJ6n4s https://t.co/jR1GtdIscO UCSB Reads Sneak Peek / Featured Pick :: \"Sing, Unburied, Sing\" by Jesmyn Ward. To view the other five titles being considered for #UCSB Reads 2019 click the link https://t.co/otQlzJDEaM #UCSBReadsSP https://t.co/zODgRmeleg Art of Science NOW on display at #UCSB Library (1st Floor, Mountain Side)! \"The World of a Cell\" by Joseph Campanale. Denise Montell Lab / @mcdbucsb. Art of Science is organized by UCSB's Schuller Lab, @CSEP_UCSB, @UCSB_CCS and the Library. https://t.co/3YKM0fqz9J Come in and check it out! The exhibit is on display in our Ocean Gallery. #UCSB Library (1st Floor, Ocean Side). https://t.co/6glPOULu0m Art of Science NOW on display at #UCSB Library! \"Poles Apart\" by Anirudha Banerjee. Squires Lab / @UCSBChE. Art of Science is organized by UCSB's Schuller Lab, @CSEP_UCSB, @UCSB_CCS and the Library. https://t.co/ggpZmVUfAR This summer, read along with the UCSB Reads Committee as they work to select the UCSB Reads 2019 book. You can find the six titles that make-up this year's short list by following the link. Give them a read and let us know what you think using #UCSBReadsSP https://t.co/3NWKOp3HqI https://t.co/lrfWo7ZO0s We are proud to serve as a resource for the whole community! If you haven't been in awhile, come check us out. We are open to the public. If you'd like to borrow materials take a look at this helpful information in advance: https://t.co/xZbgIVw4KP https://t.co/zGMltkS8Dq Art of Science NOW on display at #UCSB Library! \"Coastal Balance\" by Dillon Osleger. Simms Sedimentology Lab / UCSB Earth Science. Art of Science is organized by UCSB's Schuller Lab, @CSEP_UCSB, @UCSB_CCS and the Library. https://t.co/caieZ6MnsY @UCDavisLibrary AVA Digitizing project has won the Silver Sautter Award for innovation in information technology at Univ of CA. Partners incl @UCSBLibrary @kwsSanDiego @aimandel @GeospatialUCD \\nUses @qgis +@github to digitize collaboratively #gischat\\nhttps://t.co/GphUF7WeFa RSVP for Grad Lunch &amp; Learn! Wed, 7/11, Noon-1PM, #UCSB Library Room 1312. Grad students are invited to stop by for free lunch and to hear from your peers. Ali Rahman (@UCSBCompLit) &amp; Carlos Baez (@UCSBgeog) present Gatekeeping &amp; Geography. https://t.co/XyMAGtgmXb … https://t.co/dQRrNpmMag ICYMI. Check out the latest issue of Crossroads! https://t.co/VNBT0ri0jv https://t.co/6f9GYNoygK Congrats, Gauchos! We are proud to have been a part of your #UCSB story. Thank you for spending your time with us. Best of luck, Your Friends from the UCSB Library. #ucsb2018 https://t.co/709oDAijFN @brittagus Excellent! #UCSB Library has digitized the @dailynexus and its predecessors. You can now search through editions of the paper that were published between 1923 and 2001. The collection provides a rich history of life at UCSB. For study or just for fun - check it out! https://t.co/NDio4lkxmw https://t.co/F2vnTc6mAv This is it! All the work, studying, late nights. Go get it, Gauchos. Good luck on finals. #ucsb2018 https://t.co/rgnsC3PJqU New LGBTQ resources acquired by Latin American &amp; Iberian Studies Librarian Ryan Lynch at the Feria del Libro de Bogotá in Colombia. Look for them in #UCSB Library Search later this summer! #pridemonth #FILBo2018 https://t.co/Nqu3eUIjZr ICYMI - Check out the latest issue of Crossroads https://t.co/xFeeV56sVT https://t.co/nc5xNHVQN8 RSVP for Grad Lunch &amp; Learn! Fri, 6/1, 11:30AM-1PM, Modern Dance Studio (HSSB 1135). Grad students are invited to stop by for free lunch and to hear from your peers. Eric Jorgensen (@UCSBTheatrDance) &amp; Nancy Scherich (UCSB Math) present Drama &amp; Dance. https://t.co/XyMAGtgmXb https://t.co/5R1971mQjt Join us tomorrow for a talk by Prof. Johanna Drucker. She'll be in the Library's Interdisciplinary Research Collaboratory at 1pm. #UCSB Library, 2nd Floor, Mountain Side. Co-sponsored with @UCSB_English https://t.co/fAAR2iQ8S8 Ever thought 'Hey, I have a great pick for UCSB Reads'? Now is the time to share it. Follow the link to our online suggestion form &amp; submit your pick. We'll announce our top 5 during this year's #UCSB Reads Sneak Peek coming in July. https://t.co/XYo0TDscx3 #ucsbreads2019 https://t.co/srwfR1ExYD Come and bike to the Library to do work in celebration of #BTWD!! Out of the Library and into the #UCSB REEF Touch Tanks! Anyone else hold a baby sea hare today? @UCSBStaff https://t.co/76j8cdcCTn Join us today as 15 finalists compete in the final round of the 2018 Undergraduate Research Slam! Drop-in beginning at 10:30. #UCSB Library, Instruction &amp; Training Room 1312, Mountain Side. https://t.co/l2vm0qz9L3 Thank you, @UCSBStaff, for the chance to check out the view of the #UCSB Library from Storke Tower! #staffcelebrationweek https://t.co/48wHG3yTlj Deliver innovative reference and instructional services in the areas of social media, textual, numeric, and demographic data as Data Services and Digital Scholarship Librarian @UCSBLibrary! #DLFjobs #libraryjobs\\nhttps://t.co/un0Lzxpb5s My name in lights at LOEX last week! Thanks for the text @chelseaheinbach! @UCSBLibrary https://t.co/7UQrs1nGmb Join us tomorrow at 4PM for a lecture by @ontakragoueke. Nubian Studies: A Case Study in Scholar-Led Open Access Publishing. #UCSB Library, Instruction &amp; Training Room 1312, Mountain Side. https://t.co/9xyfdnILrY As a passionate activist and dedicated educator, former #UCSB lecturer Shirley Graves Kennedy made a lasting impact on our campus. To honor her, the Kennedy family has generously donated Shirley Kennedy Papers to the @UCSBLibrary. https://t.co/DbgCLZ6uvZ \"Fushimi Inari Shrine\" by Emily Stoica, @UCSB_Ling, EAP Japan. @ucsbeap's 2017 Photo Contest winners and finalists are now on display at #UCSB Library. Come check it out. 1st Floor, Mountain Side. https://t.co/Z9srIFoqBV Grad Lunch &amp; Learn! This Friday, May 4 from noon-1pm in #UCSB Library Room 1312. Grad students stop by, grab FREE lunch, and hear from your peers - Art Economics &amp; Automation w/ Sophia McCabe (@hfaucsb) &amp; Naman Raval (@UCSBTMP) RSVP: https://t.co/XyMAGtgmXb @UCSB_GSRC https://t.co/thPvhgykvg ICYMI. Check out the latest issue of Crossroads. https://t.co/pPHPAc51kB https://t.co/uEOgxy7eOu Great job, @peytonyen! Take a listen to @HopeJahren, author of \"Lab Girl\", on @KCSB recorded while she was at #UCSB for the #UCSBReads2018 Author Talk. https://t.co/60yg5losFr Prepping for @UCSBTMP's New Venture Fair and Competition? Check out the #UCSB Library databases that might put you on top. @IBISWorld @MarketResearch_ @Frost_Sullivan are available to #Gauchos. DM @paigelib, business librarian, to learn more. BYO....Blanket and Lunch to the Library lawn to celebrate #NationalPicnicDay Graduating #Gauchos! Prepping for an interview? Use the @IBISWorld database, available from #UCSB Library, to learn more about the company's history! Contact @paigelib, your business librarian, to learn more about navigating the database. https://t.co/4TRaQOzdgX @UCSBcareer Come by and high five a librarian today! Happy #NationalHighFiveDay https://t.co/O8rDbXcfYj Did you know where the high five originated? https://t.co/t3kY75EFyF Packed house for today’s @ecodatasci session on text analysis  with #rstats led by @oharascience at @UCSBLibrary https://t.co/6KSANWy5qN Home away from home\\nJust more late nights in the Lib \\nCramming  for midterms\\n#HaikuPoetryDay \"Bisou Bisou\" by Canon Hastings, #UCSB Global Studies, EAP France. @ucsbeap's 2017 Photo Contest winners and finalists are now on display at UCSB Library. Come check it out. 1st Floor, Mountain Side. https://t.co/FRPfQ1wbz4 Join us tomorrow! 4PM, #UCSB Library, 8th Floor Ocean Side. Kelsey Bisson (@UCSBgeog) and Eleanor Arrington (UCSB Earth Science) will describe planning and preliminary results from their research expedition that took place in the SB Channel in Dec 2017 during the #ThomasFire https://t.co/6eNX0Ag998 Some celebrate #PJDay once  year, but that's already #Gauchos during Late Night Study The #artandfeminism edit-a-thon is happening right now at the #UCSB Library! #artandfeminism #noweditingaf #AF5 https://t.co/VRIjgJ9d4p With an anonymous $10K gift #UCSB Library has raised over $33K! Thank you to our current 26 donors. We are in the Top 10 on campus. With just under 7 hours to go please consider making a donation to the Library! #UCSBGiveDay. https://t.co/SjaVJpbE3f https://t.co/6BJVoPrJLq All-natural blue gelato? #Gauchos, when we put our minds to something, anything is possible! Get yours at the @UCSBLibrary today at 3:00 before it runs out! #UCSBGiveDay https://t.co/ORVmdd3ISf It's #UCSBGiveDay! The #UCSB Library is proud to play a central role in the Gaucho experience. Please support the Library by taking time to make a donation today! https://t.co/SjaVJpbE3f https://t.co/HHA7fKWKx2 Join us for a powerhouse afternoon of art and science. The UCSB Reads Panel Discussion with Women Faculty Lab Scientists begins at 4PM in the Library's Instruction &amp; Training, Rm 1312. Then head over to the #UCSB Arts Walk which begins at the @UCSBMusicDept and runs until 8PM! https://t.co/xjJjB1B1Se Soaking in that CA sunshine out on the lawn in front of the Library. With less than 48 hours to #UCSBGiveDay we invite you to share your most memorable stories of the Library. Then check back on Thurs to find out how you can support the Library and be part of the story. https://t.co/z7ftNThjya \"Learned to make kimchi in Korea. How cool is that.\" by Annie Xiong, #UCSB Sociology, EAP Korea.\\n\\n@ucsbeap's 2017 Photo Contest winners and finalists are now on display at UCSB Library. Come check it out. 1st Floor, Mountain Side. https://t.co/LXdA0yJRu3 UCSB Grad Students! Join us this evening from 4:30pm - 6:30pm in the Library's Pacific View Room (8th Floor, Ocean Side) for a special Grad Appreciation Reception. Must have valid ID to show that you're a grad student and over age 21. https://t.co/WhNBVgMA2x #UCSB Library’s Larry Young and Kristin Antelman show off the United Way Campaign Most Engaged Department trophy. The Library edged out Facilities to take this year’s coveted prize! https://t.co/7M4Bff30iO Thank you to everyone that took time to fill out the #UCSB Library's Winter Quarter Graduating Seniors Exit Survey. The winner of the $50 Bookstore gift card is Leo Leclercq. Congrats, Leo! Spring Quarter graduates keep an eye on your email for the survey and your chance to win. https://t.co/X12d2UCeQ5 A friendly reminder that today's stroll to class brings us steps closer to graduation, #Gauchos! #NationalWalkingDay Join us this evening for the #UCSB Reads 2018 Author Talk with Hope Jahren. FREE talk and book signing. Campbell Hall, 8:00PM. Doors open at 7:20PM. FREE 1st edition UCSB Reads t-shirt to the first 200 UCSB students in line. See you tonight! #ucsbreads2018 https://t.co/1ruW9iq6ND Want to find out how you can get your hands on the first ever UCSB Reads T-Shirt and a couple of reserved seats at the April 3 Author Talk w/Hope Jahren? Follow us on Instagram to learn more. https://t.co/1iU7JYwimt https://t.co/DCcuDj3DfY Time to backup last quarter's work and prepare for the new! #WorldBackupDay Hey #Gauchos! Just a few days left of break. Take time for yourself and go celebrate #NationalWalkInTheParkDay. The #UCSB Library will be closed on Friday, March 30 and Sunday, April 1. Saturday, March 31 we will be open from 10AM-5PM with Late Night Study from 5PM-9PM. The Library will resume normal hours on Monday, April 2 at 8AM. For updates visit https://t.co/G818paxzdD. https://t.co/HY1c7nszVj ICYMI. Check out the March issue of Crossroads to learn about upcoming events &amp; exhibitions! https://t.co/MYIhGDQD3n https://t.co/9GmOpjwBzm Congrats Gauchos on another completed finals week! Here's a cute puppy to start your spring break off right #NationalPuppyDay https://t.co/JEDi8bBEyt Don't forget you can refill your reusable water bottle at the Library! #worldwaterday Finals stress, a real nail-biter\\nCramming for tests, pulling an all-nighter\\nSpring break is near, it'll all be okay\\nSo kick it into high gear, for #worldpoetryday Poetry comes in all forms in DPLA: epic, brief, ancient, modern, stodgy, fun, innovative, famous, hand-written, illustrated &amp; more. Start exploring: https://t.co/8avtqOQcgf #WorldPoetryDay https://t.co/jHektIhCcJ Congratulations, #FutureGauchos! From your friends at #UCSB Library (your soon to be home away from home). https://t.co/nuAlqT4j5o #deadweek means you'll have to wait just a bit longer to celebrate #worldsleepday. You're almost there, Gauchos! \"Snow Boarding\" by Francisco Barrera, #UCSB Global Studies, EAP Chile. @ucsbeap's 2017 Photo Contest winners and finalists are now on display at UCSB Library. Come check it out. 1st Floor, Mountain Side. https://t.co/BEmd6ISYNo Gaucho Book Giveaway! Join us in the Paseo beginning at 11AM to grab your FREE copy of the 2018 #UCSB Reads pick \"Lab Girl\"! #ucsbreads https://t.co/ls6YxwDZz6 Need a good book to read in your free time or (let’s be honest) during spring break? Pick up a free copy of Lab Girl tomorrow from 11am-3pm in the @ucsblibrary Paseo! #es161 https://t.co/PPNoSHgMzI Voting closes TODAY! Final Day to vote for #SchullerLab and @CSEP_UCSB's 2018 #ArtofScience. #UCSB Library will again host the exhibition of winning selections. https://t.co/gHmEBq2uQv 2018 Entrant \"Laser Lens Array\" by Jonathan Madajian/Sasha Cohen #LubinLab @UCSBPhysics https://t.co/Gj2t8FC2SD A wonderful write-up about the partnership between UCSB Library, punctum books, and the Literature &amp; the Mind group at UC-Santa Barbara around punctum’s new Open-access imprint, Brainstorm Books —https://t.co/R7b8NK5Jp8 Grad Lunch &amp; Learn! Friday, March 9 from noon-1pm in #UCSB Library Room 1312. Grad students stop by, grab FREE lunch, and hear from your peers - Climates &amp; Compounds w/ Lucy Holtsnider (@hfaucsb) &amp; Rebecca Reitz (@UCSBengineering). RSVP: https://t.co/XyMAGtgmXb … @UCSB_GSRC https://t.co/FaYcN5EUX8 Great minds. Was going to post the same thing this morning! Check out the 2018 Art of Science entries and select your Top 5!  https://t.co/gHmEBq2uQv #artofscience #maytheforcebewithyou https://t.co/c3l4OVx95z Check out the latest issue of Crossroads for upcoming events &amp; exhibitions at #UCSB Library https://t.co/eMErpxbGfS https://t.co/ThUicrf4ei Join us in the Paseo each day this week from noon - 1pm to learn about how Fair Use impacts you. FREE soup can stickers, interactive challenges, and general information. See you this week! #FairUseWeek https://t.co/ws8wGTeC29 Join us today from noon - 1pm in the Paseo to grab FREE stickers, play an interactive challenge game, and learn more about #FairUseWeek. https://t.co/JAY0Byj3WV Voting now open for #SchullerLab and @CSEP_UCSB's 2018 #ArtofScience. #UCSB Library will again host the exhibition of winning selections this Fall. Voting closes March 6. Good luck! https://t.co/gHmEBq2uQv @UCSB_CCS @sbmuseart @ADAMuseum #CNSI 2017 \"Galaxsea\" by Delany Rodriguez. https://t.co/kXskirRGn8 Explore Black History with the conclusion of Series 1 of #UCSB Library's \"In the Tomes\". Find out how \"Black Panther\", World of Wakanda, Black Panther Party, the warrior woman of Dahomey and King Béhanzin are all connected. https://t.co/mX9Mv8BZGS #BlackHistory #BlackPanther https://t.co/Hws86eHqXs Explore Black History with Part 3 of #UCSB Library's \"In the Tomes\". This episode continues the Black Panther Party history with a reading of the poem \"Affirmation\" written by Assata Shakur. https://t.co/sa3nZrLeYO #BlackHistory #BlackPanther https://t.co/3jQYDqIPsJ Join us today at 3:30PM for an artist talk and pop-up exhibition \"Rendering Matter: Encoded Objects, CNC Transitions, and Embodied Information\" by Molly Morin (@WeberStateU). #UCSB Library, Collaboratory, 3rd Floor Mtn Side. @UCSB_English @_transcriptions https://t.co/SAPxzCUXNO https://t.co/o92XDzHioh The sun is shining, the breeze is cool, time to snuggle up to your monitor and visit #ArtofScience #Voting! Cast your vote for the top 5 images and videos! We have 57 for you to choose from. https://t.co/KoQukiLTRs Voting closes March 6. @UCSBLibrary @UCSB_CCS #SchullerLab #UCSB Today at 3:30pm #UCSB Library will be hosting the 3rd \"CISM in the Archive\" event (@UCSBMusicDept). \"Decolonizing the Ethnomusicological Archive\" a talk by Aaron Fox (@Columbia_Music) will be in the Library's Special Research Collection, 3rd Floor Mountain Side. See you there! https://t.co/dx8A4F9sQu Explore Black History with Part 2 of #UCSB Library's \"In the Tomes\". This episode shares a brief history of the Black Panther Party. #BlackHistory #BlackPanther https://t.co/dbpCkeCuM6 Explore Black History with Part 1 of #UCSB Library's \"In the Tomes\". This episode describes the similarities between the women warriors of Dahomey and the modern day \"Black Panther\" movie. #BlackHistory #BlackPanther https://t.co/hGZIZt9k6U #UCSB Library celebrates Black History with “In the Tomes” starting tomorrow. Check out the sneak peek https://t.co/W2df11IBxV #blackhistory #blackpanther By donating its entire historical archive to @UCSBLibrary's Special Research Collections, @PacificPride is giving a big boost to a new effort to document and share the history of the LGBTQ+ movement in Santa Barbara. https://t.co/H8pvLcJs61 Looking for a good holiday weekend read? FREE student copies of #UCSBReads pick \"Lab Girl\" are available at the #UCSB Library Reference Desk. Swing by and pick one up! https://t.co/Txap4cF9Un Join us today at 4pm for \"The Texture of Life: Memoirs and Other Life Stories\". @UCSB_English Panelists David Marshall, Heather Steffen, and Shirley Geok-Lin Lim will be discussing #UCSBReads pick \"Lab Girl\" and the power of life writing. #UCSB Library, Room 1312, Mountain Side. https://t.co/I00iaoZN3g Happy #ValentinesDay, Gauchos! #ucsb #ucsbreads https://t.co/PIt2b1eUdA Join us today at 4pm for Pacific Views: Library Speaker Series. Jeffrey Hoelle (UCSB Anthropology) presents \"The Anthropology of Rainforest Destruction\". #UCSB Library, Pacific View Room, 8th Floor Ocean Side. https://t.co/Amp3Pehl7M We look forward to welcoming Kristin Antelman as the new University Librarian for the #UCSB Library. https://t.co/8a8cINBt2d #UCSB Library is proud to partner with @SBPLSystem for this important community event. https://t.co/KZ7fcK6fRw Join us today for a book launch party! #UCSB Library is celebrating the release of the first three titles in @ucsb_eng's Literature in the Mind imprint Brainstorm Books, published by @punctum_books. Party starts at 4pm in the Library's Collaboratory (2nd Floor, Mountain Side). https://t.co/anXq9wE7EP The Schuller Lab and @CSEP_UCSB together with @UCSB_CCS and #UCSB Library announce the fifth annual \"Art of Science\" competition. DEADLINE EXTENDED. Submissions now due Sunday, February 11, 2018. See website for competition guidelines and more details: https://t.co/InmjfS6wve Grad Lunch &amp; Learn! Friday, February 9 from noon-1pm in #UCSB Library Room 1312. Grad students are invited to stop by, grab FREE lunch, and hear from your peers - Clint Bocksteigel (@UCSBPhysics) &amp; Joyhanna Yoo Garza (@UCSB_Ling). RSVP: https://t.co/XyMAGtgmXb @UCSB_GSRC https://t.co/RccczPgwE0 Nice concise #Copyright and #FairUse Guide from @UCSBLibrary https://t.co/PiEWWweNpB #muslib2018 The perfect winter day. #UCSB https://t.co/3hQUILnMSa Thank you, @gwendolynawu! https://t.co/HjRvjtowaU ICYMI. Check out the January issue of #UCSB Library Crossroads. https://t.co/qvUsNwd7wJ https://t.co/gVMqvDEghd @PacificPride Donates Historical Archives to #UCSB Library. The donation by PPF will serve as the cornerstone of the Library’s Special Research Collections LGBTQ+ archive. Image from 1991 Heart + Sole Walk / UCSB Library SRC (SBHC Mss 113). https://t.co/zjZqdsePaF https://t.co/0oQjHHAvI7 Over the span of three months in 1973, #UCSB professor George Legrady captured 3,000 photos of the James Bay Cree, a First Nations people of Québec. 180 of those images are now on exhibit in the @UCSBLibrary. https://t.co/pCWxGzZAYK Celebrating #libraryshelfieday with a preview of books soon to be shelved. \"al-Wasīṭ fī al-madhhab\" from Medieval theologian al-Ghazali, with commentary from contemporary scholar Ali al-Qaradaghi. https://t.co/F9hPmkDqAR Looking for your 15 minutes of fame? @KCSB needs readers for their live #UCSB Reads noontime readings starting on Feb 1 from noon-12:15pm (M-F). Those interested in reading UCSB Reads pick \"Lab Girl\" live on air should email advisor@kcsb.org with your preferred days/and or dates. https://t.co/O8ANQNJWcR ICYMI. Check out this @KCSB segment about the #UCSB Reads 2018 pick \"Lab Girl\" by Hope Jahren. https://t.co/inK8ilHvGB Join us today at 4pm in #UCSB Library Instruction &amp; Training Room 1312 for a panel discussion supporting the Library's latest photo exhibition - \"The James Bay Cree in 1973\" now on display in the Art &amp; Architecture Collection. https://t.co/9lg3i5W1N7 https://t.co/Bht4L6nXVK Chancellor Henry T. Yang passing out free books to returning Gauchos at the #UCSB Library's kickoff to #UCSBReads2018 featuring \"Lab Girl\" by Hope Jahren. Gauchos unable to attend today's book giveaway are welcome to request a free copy at the Reference Desk (while supplies last) https://t.co/JXhdQ84CGb #UCSB Reads 2018 Student Book Giveaway. Today from 10AM til noon in the UCSB Library Paseo. Join Chancellor Henry T. Yang, EVC David Marshall, Acting UL Alan Grosenheider &amp; reps from @AS_UCSB as they distribute free copies of \"Lab Girl\" by Hope Jahren. #ucsbreads2018 https://t.co/ZXEEFsADcc Gauchos! Join us at 10AM on Tue, Jan 16 for the UCSB Reads 2018 book giveaway. Chancellor Henry T. Yang, EVC David Marshall, Acting UL Alan Grosenheider, and reps from @AS_UCSB will be passing out free copies of this year's pick - \"Lab Girl\" by Hope Jahren. #ucsbreads2018 https://t.co/JVVI4ndb3u Grad Lunch &amp; Learn! Fri, Jan 19 from noon-1pm. #UCSB Library Room 1312. Grad students are invited to enjoy free lunch and hear from your peers: Nazli Azergun (@UCSBGlobal) and Brandon Issac (Materials / @UCSBengineering). @UCSB_GSRC RSVP at https://t.co/XyMAGtgmXb https://t.co/JyN7SGC7jb ICYMI. Crossroads: #UCSB Library Newsletter (December 2017) https://t.co/WWuRZAdwPb https://t.co/v4kvHdJXpg Not a creature was stirring, not even a mouse. #UCSB Library will be closing at 5pm on Saturday, 12/23 and will reopen at 8am on Tuesday, 1/2. Continue to have a safe and happy winter break, Gauchos! https://t.co/xnA9NF71nW The Schuller Lab and @CSEP_UCSB together with @UCSB_CCS and #UCSB Library announce the fifth annual \"Art of Science\" competition. Submissions due Sunday, February 4, 2018. See website for competition guidelines and more details: https://t.co/InmjfSo7TO https://t.co/wlUotbryTw The team at #UCSB Library took some much needed time to celebrate the end of 2017 and the holiday season! https://t.co/Isqm0ve5Gj Thank you to everyone that took time to fill out the #UCSB Library's Graduating Seniors Exit Survey. The winner of the $50 Bookstore gift card is Ema Angeles. Congrats, Ema! Winter quarter graduates keep an eye on your email for the survey and your chance to win. https://t.co/38Fo0SX4il The #UCSB Library 2016-2017 Annual Report is now available. Click the link and take a look back at our successful first full academic year in the new and expanded building! https://t.co/7EsmkR0SCv https://t.co/mQruNr62ht The #UCSB Library is open to the public from 8AM to 6PM today. Plenty of comfy chairs, books, public computers, and free wifi guest passes. #ThomasFire https://t.co/MP46EjYW7f ICYMI. Our friends at UCLA have invited Gauchos to their late night study this finals week at @UCLA_Powell and @UCLA_YRL! https://t.co/K5JjyhItuE December 9 #Landsat8 #ThomasFire images visualized by @UCSBLibrary 's Andrew Jessup. https://t.co/2MHaR5aaBM In study-arity with #UCSB Library, @UCLA_Powell and @UCLA_YRL have opened their doors to Gauchos. During Finals Week Gauchos with a valid UCSB-administered ID will have access to \"Night Powell\" hours (7PM-7:30AM). Thank you, #Bruins for taking us in! #UCSB Library's Special Research Collections is open. Please continue to use the Courtyard Entrance to access the Library. We're operating the Mountain Side elevator and one of the Ocean Side elevators that services the 8-story tower. Open until 6pm. Late night study until 10pm. #UCSB Library Special Research Collections is closed today, 12/12. We apologize for the inconvenience. Please check back here for future updates. #UCSB Library is open until 6pm tonight. Late night study ends at 10pm. Please continue to use the Courtyard Entrance. In addition to the Mountain Side elevator we will now be opening one of the Ocean Side elevators that services the 8-story tower. Due to circumstances related to the Thomas Fire, the UCSB Chancellor has postponed fall finals until Jan.  For this reason, recess hours will be in effect for the #UCSB Library Mon, Dec 11 through Sat, Dec 23. Click the link for the latest hours. https://t.co/nwfOzHeAm0 https://t.co/r72LZ5M2DY #UCSB Library will be closing tonight at midnight. We will reopen tomorrow at 8AM. Recess hours will be in effect Monday, 12/11 through Saturday, 12/23. Mon–Thu, 8AM–6 PM (Regular) 6 PM–10 PM (Late Night Study). Fri &amp; Sat 8 AM–5 PM (Regular) 5 PM–9 PM (Late Night Study). The Library remains open for students that need a place to gather and/or begin making alternative plans for the now postponed finals week. Please keep an eye on our Twitter feed for the latest information and updates re: hours and services available during the upcoming week. https://t.co/AtRL10Ozpr Message from #UCSB Chancellor Yang re: #ThomasFire https://t.co/cffzAyhOaV All #UCSB campus networking has been working properly for at least 30 minutes, and the vast majority has been working for an hour. Service availability remains subject to commercial power stability. The #UCSB Library remains open. With ongoing power outages all elevators, with the exception of the elevator near the Courtyard Entrance, are closed. As power cycles on &amp; off WI-FI and print services may be down. Outlets aren’t surge protected. Please use caution when charging. The Library remains open however due to the instability of the electricity all elevators, with the exception of the elevator near the Courtyard Entrance (1st Floor, Mountain Side), are currently closed. We apologize for the inconvenience.  @ucsantabarbara #UCSB It’s been a long week! Come take a study break with us now until 1:30PM. #UCSB Library, Sunrise Room 1560, 1st Floor Mountain Side. UCSB Health &amp; Wellness UCSB Health And Wellness https://t.co/fCZSFQ8egv The #UCSB Library remains open. Currently all services are available. Please continue to use the Courtyard Entrance (Mountain Side). @joseph_tweston @ucsantabarbara We have only restricted normal egress through the Paseo in an attempt to mitigate the flow of smoke. In the event of an emergency all doors and exits are able to be opened outward per CA code. The #UCSB Library is currently open with all services available. The Paseo Entrance remains closed. Please enter and exit the Library through the Courtyard Entrance (Mountain Side) at the Summit Cafe. https://t.co/KjpPbpCLHH SERVICE ALERT: To manage the smoke effective immediately access to the #UCSB Library is through the Courtyard Entrance only. What's your favorite bookstore? https://t.co/Yz51L9gr3X #UCSB https://t.co/rgVKAQMxJ3 The remains! Thanks, Gauchos! The donut patrol will be back at the end of winter quarter. https://t.co/hKusHNKcp7 FREE #deadweek donuts on the first floor! https://t.co/ZJdAD6dUZg On the way! https://t.co/H5GTXg0QBO #deadweek donuts have arrived! See you on the first floor of the #UCSB Library beginning at 7:45pm! https://t.co/xEMvmr1UcT All elevators in the Library are now running. Thank you for your patience. Check-In Check-Out with #UCSB Library. Forget your laptop or can't find a public computer available to use? We have you covered. Check-in with the Service Desk and check-out with a laptop. Four hour loans available. https://t.co/QSUSC9Oraa Due to the instability of the electricity all elevators, with the exception of the elevator near the Courtyard Entrance (1st Floor, Mountain Side), remain closed. We apologize for the inconvenience.  #ucsb #UCSB Library would like to remind you to save your work! Intermittent power outages are likely over the next few days and all Library public computers are cleared each night. So grab that good old fashioned flash drive and hit save. This message brought to you by: Your Mom. https://t.co/PPPE91mQyl The elevator at the Courtyard Entrance  (1st Floor, Mountain Side) is now operational. You can use this elevator to access the second floor and Special Research Collections. https://t.co/X7IlPrRZAB Elevators in the Library are currently offline due to the continued intermittent power outages. Sorry for the inconvenience. Stay tuned here for the latest updates throughout the day. Due to ongoing power issues some services, including internet access, may be impacted at the Library. Please check with the Service or Reference Desks for more information. Join us each week as we take an Inside Look into your #UCSB Library. 4th Floor, Ocean Side. \\n\\nMusic by Twisterium. https://t.co/GkwveAcsiq Check-In Check-Out with #UCSB Library. Forget your bike lock? We have you covered. Check-in with the Service Desk and check-out with a bike lock. One day loans available. https://t.co/rZoan57AY6 Please consider supporting your UCSB Library on this #GivingTuesday. https://t.co/Y75Oz9kyKu https://t.co/ctDfhdbEid Join us each week as we take an Inside Look into your #UCSB Library.\\nMusic courtesy of: The Passion HiFi / Me in Your Life / https://t.co/pydnziROdO https://t.co/2LduatdGGC Thankful for beautiful sunsets that paint the sky. Safe travels and Happy Thanksgiving, #Gauchos! https://t.co/pz7GrusWaF Thanks to all of the #UCSB Gauchos who took a minute to share with us what they are thankful for. On display in the UCSB Library Paseo through Thanksgiving. https://t.co/imVijueS2r #UCSB Black Studies Librarian Kynita Stringer-Stanback with Angela Davis and Gloria Steinem at #NWSA2017 https://t.co/1WKrCf2uPG Join us each week as we take an Inside Look into your #UCSB Library. \\nMusic courtesy of: Pdub The Producer. Chance The Rapper x Kyle x Kehlani Type Beat 2017 - \"Liquor\" @Pdubcookin\" https://t.co/pWjShPhGjw #UCSB Library and the UCSB Office of the Executive Vice Chancellor are pleased to announce the selection of a book for UCSB Reads 2018 — \"Lab Girl\", by prize-winning paleobiologist Hope Jahren. #UCSBReads2018 For more information click here: https://t.co/BGSkw82DtW https://t.co/Al4AnSp2Pz #UCSBReads2018 https://t.co/NpBq4V7PVD What do WiFi enabled robots and Superman have in common? X-ray vision. Find out how at #UCSB Library's Pacific Views: Library Speaker Series. Today at 4pm. Library, Pacific View Room. Faculty lecture by UCSB Professor Yasamin Mostofi, followed by a reception. @UCSBengineering https://t.co/s27jGbHXvc Check out the November issue of Crossroads! https://t.co/zsvE9L0kRq https://t.co/CqXxqU3PTN Take an Inside Look into your #UCSB Library. Have a favorite spot in the Library you'd like us to feature? Let us know where to find it! https://t.co/FuquFUWQot Pressed for time? KIC it! #KIC Scanners are located throughout the #UCSB Library. https://t.co/t3vEmdRTzl https://t.co/J49WMoSRiA @jonjab shares highlights from the Cole Collection at @UCSBLibrary https://t.co/6sbM4P7elb Tom Brittnacher from @UCSBLibrary shows how to leverage #gis to create #metadata of online map collections. #maps #waml2017 https://t.co/MlJR9Vd2BH Dodger Stadium. March 1, 1968. #UCSB Library Special Research Collections : Aerial Photography, TG-2400. #dodgers #worldseries2017 https://t.co/5AoNeNkeL4 Flag Expert Tucked Away in #UCSB Library https://t.co/GvjuaS8MwF Digital Scholarship Lunch@Collaboratory: Qualitative Methods Group / #NVivo Webinar - 10/27 at noon. #UCSB Library  Collab, 2nd Fl Mtn Side https://t.co/4iH4eRer2A @ronthecanuxican We apologize. Our staff was immediately on it, but a disconnect in the system meant we couldn’t turn it off without outside assistance. It's Open Access Week! Stop by the #UCSB Library to learn more. #oaweek17 #openaccessweek https://t.co/VQD7jRdxDy Comics and DVDs and Blu-rays, oh my! \\nSubject Area: Film &amp; Media Studies / Subject Librarian:… https://t.co/b1Ueu06I75 Come visit @UCSBLibrary archives table at  #ArchivesBazaar https://t.co/tYLQmkTjDh Service desk lines? Why wait! Check yourself out - it isn't scary. #ucsblibrary\\n\\nMusic courtesy of https://t.co/Eep3WxiUHd https://t.co/Z7m3lTPA4i 26 Subject Librarians spanning 64 subject areas! Anime to Zoology, Quantum Mechanics to Harry Potter. https://t.co/qHY3m3QoP7 https://t.co/Hpz3Igqw5a #UCSB Library hosts @SAGE_Methods #Socialscience Training Workshops - 10/17/17. For additional details and to RSVP: https://t.co/YDLuhIKu8A https://t.co/rFs6kOYyGg Thank you to Prof Ekstrom &amp; Art CS 105 for stopping by #UCSB SRC. @UCSB_CCS students viewed Artists' Books as inspiration for book making. https://t.co/1mi0EF2qxU Thank you for joining us! RT @ACharityHudley: View from the @UCSBLibrary https://t.co/PbD3dIm9Rx View from the @UCSBLibrary https://t.co/hB3FjltsvK The UCSB Cylinder Audio Archive: Over 10,000 recordings free to download #music #historical #tin #foil #wax https://t.co/FwcaMHlX1o https://t.co/XY9XIGr5JT \"Neuronas o árboles?\" by Nicole Leung &amp; Tyler Ogunmowo / @mcdbucsb &amp; UCSB NRI. Schuller Lab &amp; @CSEP_UCSB's Art of Science at #UCSB Library. https://t.co/fUbYYooZh8 Another busy day at the #UCSB Library. Fall quarter. Week 2. #Gauchos! https://t.co/fyQA9YhW8e In case you missed it! Check out the #UCSB Library's October issue of Crossroads. https://t.co/JGBZwjeJWt https://t.co/5OkDJ8xBAa Calling all #superheroes! Our “Wonder Women” exhibit showcases women’s authentic voices in comics. Now til 03/2018. 3rd Floor, Ocean Side https://t.co/y1xPVyBmFm Botanical Illustrations Exhibition now open at #UCSB Library Special Research Collections https://t.co/HTZAG4FakS \"Spirit of Unity: Leland Wong and the Nihonmachi Street Fair\" now on display at #UCSB Library EGS Collection, 2nd Floor, Ocean Side. https://t.co/DB84vNQK33 .@jafflerbach teaching spatial #rstats w/ #tidyverse at @ecodatasci  meetup at @UCSBLibrary @lib_data  https://t.co/5mUrPfo1XR @nceas https://t.co/JxAu4LKTC7 #Truth https://t.co/cNnThi82vn \"Crack Range\" by Arif Gungor / Dagli Lab / UCSB ECE. Schuller Lab and @CSEP_UCSB's Art of Science on display at the #UCSB Library. https://t.co/LQDjrsIyPf Join our team at the #UCSB Library! Click the link to apply: https://t.co/EvgUMFvgrq https://t.co/aIRU1ayvvc One week from today! @jafflerbach is leading Introduction to Spatial Analysis in R at @UCSBLibrary Collaboratory. 11:30 - 1. #seeyouthere @brenucsb @nceas @lib_data #rstats Ben stops by our Constitution Day display. He's the only founding father to sign all 4 docs establishing the US @USGPO #bensadventures #fdlp https://t.co/adReC3ouYm \"Climate Odyssey\" by Lucy Holtsnider &amp; Dr. Klos / UCSB Dept of Art. Schuller Lab and @CSEP_UCSB's Art of Science at the #UCSB Library. https://t.co/699f2mH9H3 \"A Sea of Lipid Flowers\" by Marine Minasyan / Materials Research Lab. Schuller Lab and @CSEP_UCSB's Art of Science at the #UCSB Library. https://t.co/kfvvylBxb5 A long time ago in a galaxy far, far away a different Ben peruses a copy of Hubble 24: Science Year in Review @USGPO  #bensadventures #fdlp https://t.co/ZLy9aLJMzp #UCSB does it again! A top 10 public nat'l university for the 4th straight year, per @usnews #BestColleges rankings! https://t.co/xhIvDZghSu https://t.co/6NU9tWd5UE @rhonabwy @LibCarpentry @swcarpentry Congrats! \"Galaxsea\" by Delany Rodriguez / @mcdbucsb. Schuller Lab and @CSEP_UCSB's Art of Science currently on display at the #UCSB Library. https://t.co/YuC1VpCuyQ Looks like Ben just grabbed a cozy spot to delve into the CIA World Fact Book. @USGPO #bensadventures #fdlp https://t.co/ZGE77JXIqI \"Current Reflections\" by Elisabeth Steel / UCSB Earth Science. Schuller Lab and @CSEP_UCSB's Art of Science on display at #UCSB Library. https://t.co/44PsfGmcF1 \"Symmetry in Chaos\" by Humberto Foronda / @UCSBengineerin. Schuller Lab and @CSEP_UCSB's Art of Science on display at #UCSB Library. https://t.co/7EBQ4HVod7 Thanks @UCSBLibrary for hosting us today! Great to chat about data curation, research data mgmt, @UC3dash &amp; @LibCarpentry \"Hyperbolic Streaks\" by Mike Garcia / @UCSBengineering. Schuller Lab and @CSEP_UCSB's Art of Science on display at #UCSB Library. https://t.co/reNlXO2har New England Tours, 1932 Eclipse Edition. From the #UCSB Library's newly acquired David L. Cole Collection. #eclipse2017 #flashbackfriday https://t.co/CBt0fOwonq As @USC celebrates the opening of @USCVillage look back at the site, where the city's grids collide, in 1928. From @UCSBLibrary archives. https://t.co/MqPBQiped5 \"Warhol's Cells\" by Amanda Kautzman / @UCSBpsych. Schuller Lab and @CSEP_UCSB's Art of Science on display at #UCSB Library. @UCSB_GradPost https://t.co/rCI2YjYEyZ \"Morphology of phase coexistence in a lung surfactant monolayer\" by Ian Williams @UCSBChE Art of Science now at #UCSB Library @CSEP_UCSB https://t.co/JMafpLRyqf .@UCSBLibrary is in the works to choose the UCSB Reads 2018 book. Take a sneak peak at the process. https://t.co/CirmAUx63r Radium owls and barometer flowers, browse the 'Novel Gifts' American shoppers were buying in the #1920s @UCSBLibrary https://t.co/PQ1JPYoga1 https://t.co/mtGeWIMd5o \"Everyone should find their arts &amp; culture,\"#SalvadorGüereña. #Arts #archives #California @UCSBLibrary Thnx #CEMA &amp; @SHG1970 / @SothebysInst https://t.co/GtvLLVwPlV Archivist Beaudry Allen from our Special Research Collections Dept presenting on network security at @archivists_org annual meeting https://t.co/0pw0ZUapV0 @Maj_variola @ucsantabarbara Each year in Jan we launch UCSB Reads campuswide. This year we’re sharing the 5 finalists before the 2018 book selection. This is 1 of them. #UCSB Reads Sneak Peek :: \"Nothing Ever Dies: Vietnam and the Memory of War\" by Viet Thanh Nguyen #UCSBReadsSP https://t.co/quCzqpS3hW https://t.co/dGuVKip9FE UCSB Reads Sneak Peek! Read along with the UCSB Reads Committee as they select the UCSB Reads 2018 book #UCSBReadsSP https://t.co/yMLhFEgCAF Alan Grosenheider to serve as Acting University Librarian for the #UCSB Library. https://t.co/kqG07Fxt0v UCSB Library Search is here! Visit https://t.co/iTBw5LlqdG to check it out. https://t.co/RIKRABkFc6 Reminder: #UCSB Library Search Launches on July 5! To learn more click the link: https://t.co/ekG3OAU4aE https://t.co/dmLnfed8Bj Copy of H.R. 3962 \"Affordable Health Care for America Act\". From the Lois Capps papers. Mss 333, Special Research Collections, #UCSB Library https://t.co/DKb2fBKMso #UCSB Library Search Launches on July 5! To learn more click the link: https://t.co/ekG3OBbF2c https://t.co/C3SgZa5iAa \"Education is not the filling of a pail, but the lighting of a fire.\" William Butler Yeats \\n\\nCongratulations Class of 2017! #UCSB2017 https://t.co/Ks0ExP8ROM Cue the tumbleweeds. #UCSBLibrary #UCSB #UCSB2017 #outofhere https://t.co/9m3n0n2kCj #onthisdayinhistory #Ghostbusters was released! Explore ghosts &amp; paranormal activity in the #UCSBLibrary archives https://t.co/NV8o9vfcE3 https://t.co/xgfpVa4Vm2 Aerial Photographs of California Missions Throughout the 20th Century https://t.co/KMiCMcdCUE #StoryMap #Maps @UCSBLibrary https://t.co/sQlpWvtLQ2 Silkscreen / Favianna Rodriguez papers CEMA 148. UCSB Library, Special Research Collections. https://t.co/cZjKlEqdVb #ThisJustIn NEW to #UCSB Library \"Myth and Deity in Japan : The Interplay of Kami and Buddhas\".… https://t.co/V5Oi4yL6zd #ThisJustIn NEW to #UCSB Library \"Trazos en el concreto. Graffiti y arte urbano en Nuevo León\" #graffiti #streetart https://t.co/HBdP9NwAPo https://t.co/TaTUqZnJ4D The Filipino Protest collection (CEMA 173), documents glimpses of political protests occurring in LA. https://t.co/PJLdEhT09N https://t.co/CzrgODV8QP #bibliophile &amp; #printmaking lovers unite! Roxburghe Club Collection from Special Research Collections https://t.co/GkvXAsPZBC #onthisday Pres. Wilson proclaims 1st ever Mother's Day (reminder to ☎️ mom Sunday). Poster Mis Madres by Ester Hernandez #inthearchives https://t.co/e0tHvx98eA Are We Alone in the Universe? Is There Life on Other Planets? Are They Visiting Us? Explore the unexplained &amp; unusual in SRC 👽 #UFO https://t.co/P4S704u0KG Important talk on the metricisation of scholars and the importance of open access by Janneke Adema @Openreflections @UCSBLibrary https://t.co/TnqAO4qfTu CEMA poster preservation for primary source research.  #Chicanohertiage @Marikhasmanyan @UCSBLibrary #sca17 https://t.co/MAZvAdJPx2 @AmldavisAnn We're glad you're interested in using, please contact (805) 893-3062 or special@library.ucsb.edu for more info on duplications. Thank you! 04/28 CEMA staff, Salvador Güereña &amp; @Marikhasmanyan will be talking about Historic Chicano/Latino graphic art collections at @calarchivists https://t.co/G7G2k8ofq3 New Acquisition! 1st installment of a remarkable donation, 3,000 vintage 78 rpm never played records of historical Mexican music https://t.co/Sekun3BM4K #onthisdayinhistory photos from 1906 San Francisco earthquake which left about 3000 dead with 80% of city destroyed https://t.co/s0jsUJg11Q https://t.co/HQcaPPnUbl Busy day in #SpecialResearchCollections Staff &amp; Students working on manuscript collections, records, books, oh my! https://t.co/9pgQnbpwaz Alicia Escalante, a chicana warrior, will be honored tomorrow at 1pm at the @UCSBLibrary. https://t.co/dA1XZemIyt  #UCSB https://t.co/pumwKqp7IS Honoring a Chicana Activist Dignity Warrior: The Life and Work of Alicia Escalante  Event #ELAWRO 04/14 1:00pm @ Pacific View Room https://t.co/MBix7LoV5I Happy National Library Workers Day! #nationallibraryweek https://t.co/qDm6OQVpdw https://t.co/kaiSRqofQ9 New \"Meet our Members\" profile of @UCSBLibrary's Gerardo \"Gary\" Colmenar: https://t.co/3eCpYctlqh A new exhibit at the @UCSBLibrary will showcase the talents of female #UCSB students, alumni &amp; faculty book artists. https://t.co/LbjcflwcwC When #bookarts and #feminism combine. Excited to check this out @UCSBLibrary \\nhttps://t.co/d7wfhvSZ5D https://t.co/JM82YFbuIM “Arc of the moral universe is long, but it bends towards justice” #OTD 1968 MLK Jr death. \"Wall of Justice\" https://t.co/66W50rVTfj https://t.co/MtZlPeolyc FREE Software Carpentry workshop at UCSB Apr 20-21! sign up here: https://t.co/YCg9SwmDQe #rstats #dataviz @UCSBLibrary Happy Spring! Advenimiento de Primavera from Self Help Graphics Archives (CEMA3) by Samuel Baray https://t.co/VpRoOTO5Gv #WomensHistoryMonth https://t.co/mOybew7VN7 @PCVFVeterans Actually the exhibit will remain up through June 30 Get to the @UCSBLibrary this week for your last chance to see the WWI helmet exhibit “Innovation from the Trenches” https://t.co/D7oKoAItyC @maddie_hill81D We can't wait to meet your mom at Spring Insight, Parents &amp; Family Weekend, and more... @myri_003 We're excited, too! Welcome to Paradise! So excited for all of the #FutureGaucho students! You will LOVE  it here!! https://t.co/WZWtm9aJoM @TaraLevey And we're excited you're coming! There's a seat in the library for you... @maddie_hill81D We hope you join us! https://t.co/iGwYWUat21 @taylorlbunce Congratulations! We hope you join us! https://t.co/OZVho4EpZG Nice shout out to librarian UCSB Sherri Barnes's partnership to #LPForum17 keynote Eileen Joy's work. #WomensHistoryMonth &amp; Beauty of the Book: Pop Art 1 by D. Herzka  #artistsbooks (Z276 .H47 1965) https://t.co/p3JTQ2jJHh Discussing Docker @UCSBLibrary Data Librarians Mtg- interesting post to follow up regarding reproducibility: https://t.co/ja5sAy1hc9 @FnJewmo we're glad that you were able to find material for your research Justin 👍 Great to meet and share with other CA data librarians @UCSBLibrary #CAdatalib In continuation of celebrating #WomensHistoryMonth we look back to\\n#Gauchos before us #TBT Students from #UCSB PhysEd Dance Concerts 1940s https://t.co/UcytcVMLYo nascent digital archivist contingent at #c4l17 is strong -- glad to see how @UCSBLibrary colleagues are gettin' it done! https://t.co/avUGfCenG8 This #WomensHistoryMonth, we look back at files #inthearchives regarding abusive sterilization procedures performed on women in the 1970s https://t.co/lUOYIJbeNI Throughout #WomensHistoryMonth  we celebrate women in history. Women in the workforce: California Agriculture Business #UCSBlibrary https://t.co/cjr3ifWtPs A moving collection- portraits of African American men &amp; women from late 19th c. Available: https://t.co/RYyjXELvEw  #BlackHistoryMonth https://t.co/GHsSAH4gc2 \"Migrant Stories from the Community\" March 9th- join our discussion on themes of year's #UCSBReads2017 https://t.co/e1Cg8TSHMN #UCSBLibrary is celebrating #fairuseweek \\n\\nVisit our information table in the Library Paseo, February 20-24\\n\\n@ARLnews https://t.co/qkvGHZ8ufO This week is the last week we'll be hiding \"midterm relief\" goody bags all around the library. Check our FB &amp; Instagram for clues! #RAK #TBT When these guys were staples in 90s kids lives! Now found in the #archives https://t.co/WsT3tILVTX Last week to submit an entry to the Art of Science contest! https://t.co/9x5xKR3rJt (Last Year's Winner- Van Gogh's Ocean by Suoqing Ji) https://t.co/5655AVvs1Q Small reminders of our history's fight for equality from California Equal Suffrage Association collection #UCSBSRC https://t.co/2YmY5zbIc1 https://t.co/7wqGkbR45m @maru_tej Sorry you missed out! Contact Alex Regan, Events and Exhibitions Librarian, to see if there is any left. #HappyReading #TBT to last week's #UCSBReads2017 Book Giveaway! Stay tuned for more events like tonight's Spoken Word Performance at 6pm in the @ucsbmcc https://t.co/oWnTiz2Z9F Read more about US Congresswoman @RepLoisCapps collection donation to Special Research Collections here: https://t.co/WXSVKibt2V \"Reproducible Data Research: It’s Complicated\" Join us today @ 4 to discuss &amp; learn more about #digitalscholarship https://t.co/ETW2CUEqjO Immigration Awareness Week Jan 23-27. Stop by the MCC all winter quarter to see the exhibit The Radical Imagination by @favianna https://t.co/AjldXGHRiC Processing a new acquisition of artwork from #ErikaKahn #aquatint print etching #SpecialCollections #inthearchives https://t.co/FEQ5ujq6Yl #UCSBReads Giveaway is underway till NOON! #UCSB students- come to the Library Paseo for your free copy of the #IntotheBeautifulNorth https://t.co/rZl5uiTjwS Reminder: Tonight @ 7pm-\"The Critical 16 Days\" film screening followed by a discussion with Pai Hsien-yung and KC Tu https://t.co/jNTxYjtzQU Today's \"Curator's Table-Talk: Pai Hsien-Yung Collection\" People visiting far &amp; wide to celebrate Pai https://t.co/b7dmnXuQyi https://t.co/f53MrgTRYW Wide ranging and deeply humane account of scholarly engagement with the early web from @alanyliu https://t.co/s92u3nvxCJ “A Collective Intelligence Gathered from Struggle: Cedric Robinson &amp; the Black Radical Tradition” Talk by Prof George Lipsitz Tue, 01/17 4pm New additions to the Patricia J. Van Every collection- 1860s photographs &amp; pen set (knife) https://t.co/dAaq6AEgje #SpecialCollections https://t.co/3G8umXxsQc This Friday @ 10 am WILD SURMISE: HOW HUMANISTS &amp; ARTISTS DISCOVERED THE INTERNET @ucsantabarbara C. 1994. Talk by Alan Liu in Rm 1312 https://t.co/nfo4KjtN9t #TBT Even before vinyl people listened to cylinders. #UCSBLibrary has digitized +10,000 cylinders. Listen here: https://t.co/OsFfag8LAB https://t.co/2QZKR407kk #UCSBReads 2017 starts off with FREE BOOK GIVEAWAY for #UCSB students Jan 18th 10-12. Book this year: Into the Beautiful North by @Urrealism #seasonsgreetings from #UCSBLibrary &amp; the Stanley M Kelton Collection (PA Mss 120) from #UCSBSRC DEC 24th-JAN 2nd the Library will be closed https://t.co/bsJPjvM1oe #UCSBLibrary new website is up &amp; running! All the props go to @dlibian @rebeccalmetzger @kwallcompany &amp; @AnniePlatoff for incredible job! https://t.co/n2D0zsbLrf George Francklin Atkinson's Curry &amp; Rice (1860) was a satirical work on the #British Raj https://t.co/u56D8Yyiq2 via @UCSBLibrary https://t.co/ANTfMBSBS7 #UCSBlibrary now has a “Student Assistant Spotlight Series” for Student Assistants to post about their projects: https://t.co/ngfGUGNov4 #UCSB Library #CERT Drill today!  #safetyfirst https://t.co/MkSKdfE5L9 https://t.co/QPIxqIyHRb We're looking for a Middle Eastern Studies Librarian. Apply today and join our great #UCSB team! (DEADLINE 1/16/17) https://t.co/66ef1uOU68 Beauty of the book &amp; quite the #multimediaexperience  #SRCreadinglist Full Quiver by Lori Anderson Moseman   #artistsbooks #UCSBSRC https://t.co/6ydIOyCU4O Quick turn on your radio! @KCSB 91.9 at 5 pm: \"Inside Isla Vista\" hosted by Lisa Osborn. Hear excerpts from our recent #IslaVista program Jan 17 4pm #UCSB Prof Lipsitz will be here for \"A Collective Intelligence Gathered from Struggle: Cedric Robinson &amp; Black Radical Tradition\" Congrats to #UCSB Prof George Lipsitz, 2016 Carl Bode-Norman Holmes Pearson Prize winner 4 lifetime contribution to #AmericanStudies Brigada Bravo &amp; Diaz just released music inspired by the WWI cylinders in @UCSB Cylinder Audio Archive https://t.co/uD6iEKKfQQ #MusicMonday The @UCSBLibrary has chosen the book “Into the Beautiful North” by Luis Urrea as its 2017 #UCSBReads selection. https://t.co/Ez7tV3mTuZ Just a sneak peek of our new website rolling out this month https://t.co/UTcEAq37yI The Library's new website will be rolled out mid-December! https://t.co/WLQIdj7j4h Beauty of the book  #SRCreadinglist A Brief History of the Ukulele by Peter &amp; Donna Thomas  #artistsbooks #UCSBSRC https://t.co/wpCwoxCEOD #FinalsWeekMotivation: \"Velo/Veil\" by Margaret Guzmán, 1999\\nFrom the Self-Help Graphics #Archives (CEMA 3) @ #SpecialCollections https://t.co/R8LdIZWHB1 Thanks to @UCSBHealthWell for egg chairs- students are encouraged to use them for study breaks &amp; relaxation #RelaxinStyle https://t.co/ly9iid1fTg This week is Finals Week (AHH😱) We are a great place to study &amp; get last minute resources. ALSO: Remember to breath 😅 #StudyHard \"UCSB Library Reveals History Through Helmets\" Great article about Helmets of the First World War exhibit: https://t.co/o1JdJmay5F 5pm in the Library's Special Research Collections (3rd Flr, Mountain Side): Panel discussion on diversity and hopes for future of #IslaVista https://t.co/yHt7ONp3e5 Just some #oldschool records management for today's #tbt...\\nDepartment of #SpecialCollections Accession Record, 1976-1985 #inthearchives https://t.co/6HDgJCxXAR Join us at SRC tonight @ 5 pm for \"Isla Vista: Voices from the Community.\" Discussing experience of diverse residents who live in #IV #UCSB Japanese woodblock prints, 1850s\\nDepicting Commodore Matthew Perry's fleet arrival in Japan. #UCSBSRC #Japanesehistory #Americanhistory https://t.co/YaQxZFPS88 Worst than losing your headphones!! Wooden Needles for your 1918 Filmophone #phonographs from Special Research collections #UCSB  #archives https://t.co/mltCv4fDu0 Only #flora allowed in the archives. Banks' Florilegium. \"Nothofagus Betuloides (Mirbel) Oersted,\" 1769 Tierra del Fuego [Plate 727] https://t.co/D3IBIISbzi Visit the Library's #Thanksgiving Project in the Paseo- share what you're thankful for on a leaf and pin it up https://t.co/ObrxU5NEmO Download or stream for free a #DigitalCollection of +10,000 #CylinderRecordings made from 1877 to 1929\\n@UCSBLibrary https://t.co/92LPl49n74 \"The Thing, The Fly, The Mole Ppl, The Gamma Ppl\" Annotated sheet music of Purple People Eater performed by #JudyGarland 1958/9 #UCSBSRC https://t.co/QZa7egCZQh Shout out 2 @CoatesBrendan our AV digitizing tech- he's @ #AMIA16 introducing #OpenSource automated QC tool he built https://t.co/Zi7zLRV2VL Reminder: UCSB Main Library will be opened tomorrow with Holiday Hours- OPEN 10:00 AM to 9:00 PM- in observance of #VeteransDay #ElectionDay\\nOur Archive Students in SRC picked out their favorite election pins! Wear your election pins &amp; \"I Voted\" stickers proud today! https://t.co/F993KIyrpj We're excited to be cosponsoring Alice O'Connor's talk on Isla Vista, today (Thurs) at 4 PM at Special Research Collections. @UCSBLibrary In SRC #archives Student Assistant helping us conserve a silkscreen from La Raza Silkscreen Center/La Raza Graphics collection #chicanoart https://t.co/b4ecYWnESu Join us tomorrow for \"Democracy Matters: The Road to Self-Governance in #IslaVista\" talk by #UCSBHistory Prof Alice O'Connor 5 to 7 pm @ SRC https://t.co/FavD6TO4J0 Today @ 4pm: \"On Thin Ice: Antarctic Biology in a Changing Ocean\"  #UCSB Faculty @GEHofmann talks about her research https://t.co/T78sxbPFu5 Staff costume contest! Hurry and get in your reference questions now before our sugar crash #HappyHalloween https://t.co/dN7Y0aZoyY 🎃 #HappyHalloween 👻treat-or-tricking👻 gone wrong [Paintings by Canute Caliste https://t.co/WjVIdJnlXJ ] #inthearchives 🎃 https://t.co/nVq1bhHdlE W/ #OAWeek2016 in full swing, check out 1 of our \"Digital Humanities Revolution\" presenters @jeremydouglass project https://t.co/0N6eI8PNzc #blacklivesmatter book display on view next to the Faculty Study on 1st Floor Mountain Side -- all books can be... https://t.co/SOMA3TqBms Even cats like us #BigWin https://t.co/EWYxXXDT3z Love hearing we can facilitate your research! #GOUCSBLibraryTeam https://t.co/jG5bO38ez9 Just in time for #Halloween... Witchcraft board games 🕯👻🎃 from our American Religions Collections #UCSBSRC #SpookyWeek #inthearchives https://t.co/q4GV8LO555 Lamenting the end of 'Lament' which has graced the Library walls since opening. A new exhibition will be... https://t.co/lUeeHcF8mP #FridayFinds Iraqi Dinar, Stamps, and a keychain from Iraqi-American Academics Together For Peace delegation in 2003 #inthearchives #UCSBSRC https://t.co/1e2NmHSAnu New Acquisition for #UCSB Special Research Collections: @KEYTNC3 Reels #SantaBarbarahistory #inthearchives  #avpreservation #UCSBSRC https://t.co/vjONhfFLF2 UC graduate students include 20 scientists and scholars who have won the Nobel Prize. #PublicUValues @APLU_News #OAWeek DH Revolution: Supporting 21st C Scholarship Oct 20th w/ @jeremydouglass @EileenAJoy https://t.co/JvlMC9UGAE #openaccess https://t.co/313CuX0wRJ Join our team! #UCSB Special Research Collections is hiring a new University Archivist- Apply Today https://t.co/fs6DgBxFgt #jobfairy Beauty of the book  #SRCreadinglist Lac Des Pleurs by @gaylordschan #UCSBSRC  \\nillustrations done in traditional wood engraving https://t.co/Wmr3kgXODk Mark your calendar! #IslaVista: Building a Community, 1970-2016 Exhibit 10/27 (here's a sneak peek) https://t.co/UHxbsZSGoy The @LAasSubject Archives Bazaar at @USCLibraries is 10/15- Come visit the #UCSBlibrarycrew @Marikhasmanyan @ForestSways &amp; @jonjab Congrats to the few of our cohorts speaking @ \"Human Rights in the Americas,\" Intern'l Assoc. of Inter-American Studies conference #IAS2016 Cool finds #inthearchives Charango made w/armadillo https://t.co/q34QDGebzc #AskAnArchivist #UCSBSRC https://t.co/qtKzyQEGfh Today is #AskAnArchivist day! Tweet us questions you may have on primary sources use, preservation, how to use a finding aid, ETC... https://t.co/fNGXqFbUKP Creative studying going on https://t.co/x8zjg14IB0 UCSB Library is excited @Marikhasmanyan &amp; @ForestSways will be answering ur ???s for #AskAnArchivist Day tomorrow! Tweet us w/the hashtag https://t.co/hAywIV9wpW Congrats @thomasgpadilla! And the Library is excited to host an initial forum and watch this project grow! #leadership #IMLSGRANT https://t.co/4s10d3Kpf2 Exhibit creation in action at Special Research Collections! \"Isla Vista--Building a Community, 1970-2016\" opening at the end of the month https://t.co/W7OC7Bu2Dd Our Archivists @Marikhasmanyan &amp; @ForestSways will be on hand Oct. 5th to answer ur questions. Tweet us w/ the hashtag #AskAnArchivist https://t.co/j86OEfhV44 @CMC_Prairie @UCalgaryLibrary maybe give tweet @iamwrathleen &amp; see if their archival staff are on board to take twitter questions Weds. :) Get your archives questions ready to tweet us! Our SRC archivists will be hand to answer questions w/hashtag #AskAnArchivist Wed.Oct. 5th! https://t.co/aHG4oEbEpQ Learning Commons 1st Floor Temporarily Closed: The Library's 1st floor Learning Commons has been affected by ... https://t.co/wUMU82ARnW #TBT, sometime in the '60s or '70s, students on #UCSB Library's former 2nd-floor patio. https://t.co/09blk9a8gw Smoked Trout With Ferns (Ernest Hemingway). Anyone? https://t.co/6pgwQjM3St https://t.co/6Sr1f74kfb Song: \"I'm the Idol of the Girls\" by male impersonator Vesta Tilley, via @UCSBLibrary https://t.co/98e4FyJQ0U https://t.co/ZsXaM6Bjsl #UCSB Reads 2016 author Bryan Stevenson profiled by @JeffreyToobin in @NewYorker https://t.co/Eef7jgzLqY @eji_org https://t.co/A2KTFKIfNs Here's President Obama's summer reading list: https://t.co/bGW0UPsRxu What's on yours? https://t.co/qy8cTaf2UY The Secret Life of Bee Gees. #BookABand https://t.co/1UZZLDaRqY #tbt In honor of the Olympics, meet the UCSB women's gymnastic team from 1991. https://t.co/tI6ohG7yUz @billiamvan Thanks for letting us know -- the problem has been addressed and the system should be working now! Most Beautiful Library in All 50 States, from @techinsider https://t.co/amLVKKWnR7 Pic here is AZ https://t.co/2v5Epwf03V On this day (Aug. 9) in 1854, Henry David Thoreau's \"Walden\" was published. https://t.co/tWoFbVVLig August issue of Crossroads: https://t.co/IN6yI6NEZ0, w/ results from UCSB Library's Graduating Students Exit Survey! https://t.co/SWOAjDiieu #tbt According to this gov doc, in '70s, avg 1,950 acres burned per year in Big Sur. Current fire 51,000 acres https://t.co/RIS6SBWp5j Wi-Fi available at institutions around world via Eduroam for #UCSB students, faculty, staff! https://t.co/43iNR4V8fg https://t.co/3omlmW26io @GuyKawasaki Sorry if I confused you before about the guest login! @GuyKawasaki Then the only way to access the Internet in the Library is to use one of the Library computers with a guest login. @GuyKawasaki Via Eduroam, you can access the Library's wi-fi. https://t.co/43iNR4V8fg @GuyKawasaki  I think that's because access is for Library computers. Do have a logon from an Eduroam organization? @GuyKawasaki Here's a link to info about Wi-Fi access: https://t.co/ZfZOfNQDX1. Info about getting a guest log-in: https://t.co/61Omd6EsJL Hi @GuyKawasaki! We heard you had some trouble getting online in the UCSB Library yesterday. What exactly was the problem so we can help? Librarians and libraries are your \"true\" friends. From Grammarly: https://t.co/dVsYy5ZsKZ https://t.co/GVKgUcPA29 James Alan McPherson, 1st black writer to win Pulitzer Prize for fiction, died Wednesday. https://t.co/6j5gngFtFq https://t.co/nXeefjDzNy #TBT 1988 Could this be you? #UCSB https://t.co/QqMPiaBitC Architectural illustrator Carlos Diniz's archive at #UCSB Art, Design &amp; Architecture Museum https://t.co/zlMW991CDq https://t.co/JgQWEt3l0H \"A Snapshot of a 21st Century Librarian, story in The Atlantic:    https://t.co/FuBNWdoyhY https://t.co/yZCrDa4Qr3 #TBT 1988. So before Ole, UCSB apparently had bear mascots. https://t.co/vbjjdryIjv For anyone a little homesick over break for #UCSB, here's the view today from UCSB Library's 8th Floor https://t.co/W1JscYAWXS @djdely1 We have Vogue in current serials (1st Floor Mountain Side). Interview available electronically if you are a UCSB affiliate. Enjoy! 62 years ago, in July '54, Fellowship of the Ring released. Tolkien reads from it here: https://t.co/XwyLs3lDZn https://t.co/uF5ENA4N0o #UCSB scholar John Ridland publishes new translation of Sir Gawain &amp; the Green Knight. https://t.co/21I93IullZ https://t.co/xlhxXK5tpX Announcement about #SOCARXIV, and open social science archive. https://t.co/1HCd89luZK #tbt 1982 Calif. Gov. Jerry Brown (1st time around) speaking to #UCSB students about religion and politics. https://t.co/AuCr4Vci94 July issue of Crossroads, #UCSB Library's e-newsletter, is available online: https://t.co/UlbL2HRLlF https://t.co/bkhqlaGiuG Author Joyce Carol Oates to collaborate with UCSB to present reading of her play ‘Bad Touch’ https://t.co/LspPiGG92l https://t.co/ZUEb6CeDyY Enjoy the pictures, but do not try this with a #UCSB Library book! https://t.co/OFTddhIkC7 https://t.co/6PQ7RFb0D0 #tbt 1965. This structure was eventually turned into the #UCSB UCen. https://t.co/7mdfA0Suwc UCSB @ArtsandLectures 2016-17 season to include authors Fareed Zakaria, Isabel Allende, more https://t.co/u5XrG2AXnv https://t.co/FcoKeoqYtc #UCSB Transfer Student Center (inside Library) seeks applications for Graduate Assistants: https://t.co/kaiK83jwWm https://t.co/9WLS29iTfK 2 books in Current story on #UCSB collection of minerals &amp; gems available in Library https://t.co/OG4wP2VXJz https://t.co/Vgz5K6yOqX #tbt 1955 UCSB Library (East Side), when a bunch of other buildings weren't surrounding it yet. https://t.co/b2MZAnkXL2 This little (paper) bird found its way into a dictionary on #UCSB Library's 2nd Floor. https://t.co/woiuvngiPF Beautiful book art in the new wing @UCSBLibrary - \"Lament\" by Nancy Gifford. https://t.co/AYJQHMOVaf 1st day of summer AND 1st day of summer sessions at #UCSB. Students find spots for reading/relaxing outside Library https://t.co/SriG78OkLO We Are Orlando Memorial, today, Mon., noon, #UCSB Music Bowl, https://t.co/WIrmusVwKd #weareorlando https://t.co/FMDLooAp5K #TBT In honor of #UCSB Gauchos going to College World Series this weekend, a photo of the 1959 team. @CWSOmaha https://t.co/CgS1uqqVhJ \"Plenty to see and hear and feel yet. Feel live warm beings near you.\" -- James Joyce, Ulysses #Bloomsday https://t.co/K8b85BnEw9 Go #UCSB Gaucho baseball! On to the College World Series! https://t.co/VgS7FDifsi https://t.co/GNe4cCJqSi Even on vacation. #librariesrock @UCSBLibrary https://t.co/DJVfiCh031 Congratulations from UCSB Library to all the #UCSB2016 graduates! Go forth and be amazing! https://t.co/hgTdB5KWL2 UCSB commencement preparations from the air, photo by EMI, posted on @Edhat https://t.co/sz9PDEZAHz https://t.co/11LHu8c39C Meet Chrystal Anderson, another awesome graduating Gaucho: https://t.co/rHmqOVSHsl #UCSB2016 https://t.co/FMnel17gQL Graduating Library student worker Jessica Sparks profiled in #UCSB Current. https://t.co/X9e53oqApW #UCSB2016 https://t.co/fBgLo2bTsf @Brontex33 Lots of outlets installed in new portion of Library! But if you want more, please let us know at https://t.co/gx3fcfiYUr. Thx! @_jemsoutrageous  We have student tech assistants at Info Desk (Mountain Side) Sun-Th 1pm-midnight, Fri-Sat 1-9pm. Please ask for help! Remy Bogna won $50 giftcard to UCSB Bookstore for filling out Library Exit Survey for Graduating Seniors!  #UCSB2016 https://t.co/QA7T8sdT6R #tbt A UCSB student in 1979 finds an unusual -- but dangerous -- way to study for finals. https://t.co/BqGmmI49X1 Latin American Studies Assoc gives UCSB's Jeffrey Hoelle honors for book Rainforest Cowboys https://t.co/crmUdmozK0 https://t.co/edBfNQB1I2 #UCSB Library will be open all 3 days of Memorial Day holiday weekend: https://t.co/Y4EtXDPB25 https://t.co/0NoccA4dO0 #TBT 1st photo, circular furniture in #UCSB Library from '80s. 2nd photo, circular seating today. https://t.co/TGjUkZ4iOx Ralph Waldo Emerson, born on this day in 1803. Read his work at https://t.co/luC8rL6uqB: https://t.co/VX38aSn2iH https://t.co/M477NgywT7 @Lichao2012 Go to suggestion box at https://t.co/gx3fcfiYUr &amp; note part that says \"Exact dates, times, locations\" so we can best respond @Lichao2012 we would need to know exactly where in Library you are to troubleshoot. Welcome to @RoboticNetwork https://t.co/3snVwjTM26 Just joined @ezidCDL sponsored by @UCSBLibrary #data #citation #identifiers Study Break today, Tuesday, 11:30am-1:30pm, Room 1312 in #UCSB Library. Coloring! Massages! Snacks! FREE! https://t.co/4FISgndLxL Dance tribute today at #UCSB to commemorate 2nd anniversary of I.V. tragedy. https://t.co/O725kpLVQj https://t.co/uzymmG3JCb Tons of fun today in Library taking photos of UCSB Class of 2016. #UCSB2016 photo album: https://t.co/bkFbxvxDxo https://t.co/PHD8f6FNGn @Lichao2012 We've got some wi-fi troubleshooting tips here: https://t.co/ZfZOfNQDX1 We hope that helps! #UCSB2016 Visit our Class of 2016 photo booth, 11-1 Thu., if you're graduating! https://t.co/3EVi3I7al4 https://t.co/0c0psBpIb7 'The Vegetarian' Wins Man Booker International Prize For Fiction https://t.co/QEspCayEzo Jon Jablonksi, head of Map &amp; Imagery Lab, profiled in our latest \"Meet Your Librarian\" https://t.co/a57ETplMcx https://t.co/vKX3dr3tRI Research Library Associations Endorse Open Data Accord: https://t.co/TJgiR0Jm4D https://t.co/uvjGM5cdRa Library featured prominently in UCSB Transfer Student Experience video: https://t.co/rpPTua7pBj \"A Quasiparticle Collider\" article features Mark Sherwin of @UCSBPhysics: https://t.co/Rl6Xaq3EuJ #GoUCSBphysics @CaitlinRathe We have lots more #govdocs for you to read -- thanks for lettting us know you're using them! Great bus reading! Love all the #govdocs at the @UCSBLibrary https://t.co/uXkOUYEdBM Undergrads, #UCSB reminds you to take UC Undergrad Experience Survey; link sent 2 your gmail https://t.co/PTHZZ1jKxf https://t.co/tQ3wZk1pFT #UCSB Librarians Rebecca Metzger &amp; Annie Platoff named \"Unsung Heroines\" by @UCSBPWA  https://t.co/lt9t43oLLA https://t.co/r98nFh1rVL Stephanie Tulley wins #UCSB Library's annual Nyholm Prize for outstanding librarian: https://t.co/aSpGw1v5Sr https://t.co/5Mx5EcTD5Z #UCSBLibrary enjoyed hosting &amp; co-sponsoring #UCSB Graduate Division's \"Lunch &amp; Learn\" event  in Sunrise Room. https://t.co/KVymqOGUk6 This day in 1940, Steinbeck won Pulitzer for Grapes of Wrath. 1939 1st ed. on display in our Modes of Codex exhibit https://t.co/UblOSriRCW #TBT. Late 1980s. Registration by phone finally replaced waiting in line at UCen to make #UCSB schedule adjustments. https://t.co/1aHpQ3GZnS Library of Congress Nominee Gets Senate Hearing https://t.co/ItxJHULEt4 #Shakespeare400 #UCSBLibrary has W.S.'s 4th Folio, pub 1685, in 'Modes of Codex' exhibit: https://t.co/OXP0mp8rae https://t.co/7wvMhLma01 \"It were as well to be educated in the shadow of a mountain as in more classical shades\" (#Thoreau) Happy #EarthDay https://t.co/kpLet2TInO #tbt 1967. Empty stacks in the just-built 8-story UCSB Library tower. https://t.co/kHhgAZtBg5 #UCSB preserving English broadside ballads, mass media of England in 16th &amp; 17th centuries: https://t.co/HcMW2hhQrm https://t.co/L6jlNbQSKN Painting by Christopher Hopkins. From #govdocs book \"Magnificent Showcase,\" artwork about Air Force. #lovemyfdl https://t.co/LsbT62U7dG \"Let's change the world\" Photos of UCSBReads author Bryan Stevenson visit to #UCSB: https://t.co/2TNktkn8jo @eji_org https://t.co/YoMiMix6WV @0ldmunk You've been quoted in my #Storify story \"UCSB Reads: Bryan Stevenson\" https://t.co/bp1DolqgOR Looking forward to this talk tonight! @eji_org Justice starts with equity in education. https://t.co/9NdD8ENFNk \"The opposite of poverty is justice\" #UCSBReads author Bryan Stevenson, who will speak at 8 tonight at Campbell Hall https://t.co/lbbvKnYiL8 Using the awesome collaboratory @UCSBLibrary for the afternoon session #softwarecarpentry https://t.co/HwhxDjCWs6 Software Carpentry instructor Julie Stewart (r) w/ #UCSBLibrary's Stephanie Tulley @swcarpentry workshop in Library https://t.co/VWtdVECVpN A full room for 1st day of Software Carpentry workshop in @UCSBLibrary! @swcarpentry #data https://t.co/lW30B9v6ZG @jsharkey47 on panel leading up to UCSB Reads lecture by Bryan Stevenson \"Just Mercy\" @UCSBLibrary on 4/18 https://t.co/pAUFWt3gjm @eji_org Story on #UCSBReads author Bryan Stevenson coming to #UCSB (8pm Mon. Apr. 18), Campbell Hall https://t.co/ipTpYtoImn https://t.co/yQ89hU4zL0 #tbt This day in 1828, Noah Webster published his American Dictionary of the English Language. Thanks, Mr. Webster! https://t.co/KeAZ4LkyY8 Visiting campus with @TheDMPTool to discuss Data Management Plans with @UCSBLibrary staff ‘People’s Poet’ Kahlil Almustafa to Perform Evening of Spoken Word, Facilitate Workshop at UCSB https://t.co/WgfHWkMD8a .@USGPO #fdlp partner @ucsantabarbara @UCSBLibrary shows patrons the many formats of U.S. gov info! #NLW16 https://t.co/Zv3Ei18bB7 On the blog: to celebrate #NLW16, read a Q&amp;A with a librarian on the future of print &amp; e-books: https://t.co/tpVVR1Ayc4 #LibrariesTransform #UCSBLibrary elevators now decorated with images that clearly identify which side of the building you are on! https://t.co/gdl6YDjDJa @Talizzle19 UCen Dining is in charge of cafe, including hours. Contact at https://t.co/Pk1SJ3XDsF. (And we do have 24/7 vending machines!) #UCSB Spring Insight 2016! Rain plan moved some activities into the Library, which also offered Library tours. https://t.co/pz7xZPskpP Thx so, so much for taking part in #UCSBGiveDay! Library raised $99,000! #GauchosAreGrateful #LibraryIsGrateful https://t.co/P9jmbG8FpR THANK YOU, Allen Cohen, for your #UCSBGiveDay challenge gift! Meet his challenge at https://t.co/V26vts30NU https://t.co/Kr2jzoY5sR #UCSB Librarians: Best. Search Engines. Ever. #UCSBGiveDay To give: https://t.co/V26vts30NU https://t.co/mweTv3QiRh Things #Gauchos are \"Grateful\" for, from #UCSBGiveDay board. Be grateful by giving: https://t.co/V26vts30NU https://t.co/xcSHjtZSmm University Librarian Denise Stephens donates for #UCSBGiveDay #GauchosAreGrateful Support us https://t.co/V26vts30NU https://t.co/reR3bZ4Jo2 Jack &amp; the Johnson Ohana Charitable Foundation support UCSB Sustainability &amp; the Edible Campus project! #UCSBGiveDay https://t.co/2T8S1hhwWq Things you can do in #UCSBLibrary 24/7: Study. Listen. Create. Learn. Support #UCSBGiveDay @ https://t.co/V26vts30NU https://t.co/aVVSpx0BnA Today's #UCSBGiveDay forecast calls for Gaucho pride far and wide! Every gift counts. https://t.co/6TzSN7uCX9 https://t.co/3TZBhCiy0x #TBT 1959. Aldous Huxley receives honorary doctorate at #UCSB. https://t.co/kRarO8mJoU Nominate a Book for UCSB Reads 2017: \\nEven though we're still anticipating UCSB Reads 2016 Just Mercy author B... https://t.co/ksXK53DiaX Libraries &amp; bikes 'move people forward without wasting anything' P Golki #UCSBGiveDay 4/8/16 https://t.co/bi9hY7rGyT https://t.co/1iFV3csN5V Photos from this week's Graduate Wine &amp; Cheese Reception in #UCSBLibrary: https://t.co/oLOVAPO4SC https://t.co/hzQXF47Ocb Our new humanities data curator is in S.B.! https://t.co/A0rUnFu9td @patrick_mooney Thx for letting us know. They are on a motion sensor; we'll check it out. James Hannaham wins 2016 PEN/Faulkner Award for Fiction for \"Delicious Foods\": https://t.co/NlNCDM51op https://t.co/chL2nOmIqL Beverly Cleary on turning 100: Kids today ‘don’t have the freedom’ I had https://t.co/nNjMXxZ7Dl Today (6pm Apr 5) Join #UCSB Reads: Community Policing and 'Just Mercy' conversation with IV Foot Patrol, UCPD https://t.co/Q4qUopzaYg Library Welcomes New Humanities Data Curator: “UCSB really cares about data,” said Thomas G. Padilla, his voic... https://t.co/bs85W9JJbg Top 6 reasons I 💛 UCSB. #5 Our newly remodeled Super Cool, Modern Davidson Library #UCSBGiveDay #FutureGauchos https://t.co/NVLiSUuhR7 I'm not condoning food stains in library books but I do take it as a sign of a good story, too good to stop so you can eat without spilling. Sec. Clark Clifford reacts to the news of Dr. Martin Luther King Jr.'s assassination #OTD 1968 via @LBJLibrary https://t.co/nNTMC4Z7CE #UCSB Library seeks 20 diverse students (gender, ethnicity) to pose for photos in new Library Apr. 14 &amp; 28: Details: https://t.co/wGwB5e1dGZ On this day in '68, Martin Luther King gave his final speech, \"I've Been to the Mountaintop\" https://t.co/nitT0jTmDo https://t.co/o54tb7n5WX Happy #NationalPoetryMonth ! https://t.co/BrfcUYIp6g Imre Kertesz, Nobel Laureate Who Survived Holocaust, Dies at 86 https://t.co/uL6b2HRe8l #tbt #UCSB Library entrance in 1984. The noshing rules, of course, have changed. https://t.co/t1LF0LywoJ On the universal appeal of @HelenJMacdonald &amp; H Is for Hawk https://t.co/y6Fcu0KobQ via @SBIndpndnt https://t.co/ubpEqg9zq1 Bryan Stevenson, author of 2016 #UCSBReads book \"Just Mercy\" on #Fortune list of 50 World's Greatest Leaders. https://t.co/9CA5bN9s3p #TBT Students on the original UCSB Library patio, lost in the Library expansion of 1962. https://t.co/VLYnWUOs2S New songs for Library of Congress National Recording Registry (last year Library's Vernacular Wax Recordings chosen) https://t.co/S7RHIWRMDe @azaliabbyy Hooray! So glad you'll be a #futuregaucho. Come visit the new #UCSBLibrary! @angelica_ovoxo Thanks for choosing us! We hope to see you in the #UCSBLibrary! #futuregauche @emma_jeannn Absolutely awesome! Welcome! @_aldair23 Congratulations, and we hope you will \"likely\" come visit the #UCSBLibrary if you choose to come here! @andrewsaboss WE LOOK FORWARD TO SEEING YOU IN THE #UCSBLibrary!!! https://t.co/NvOEQOxnSh @casstawaay The #UCSBLibrary is open 24/7. Come sleep here anytime! #FutureGaucho @andrewsaboss Destination: #UCSBLibrary Come visit us! https://t.co/Vd7GLdKWD5 @rinahanatalioo Hooray for Rinah #FutureGaucho! The #UCSBLibrary welcomes you! @yessicaraeee #UCSBLibrary welcome you to paradise! #futuregaucho https://t.co/zO91Om4Jqx @sabrinadorable Dreams come true for those who work hard -- congrats from #UCSBLibrary! @UCSBengineering Welcome! The world needs more engineers. Come see us in the #UCSBLibrary #futuregaucho https://t.co/YBZcs9JoUd @gabeekuhh Welcome! And don't forget about the #UCSBLibrary! #FutureGaucho https://t.co/g6TqTrCbTT @ruv_gabby Hooray! Come visit us at the UCSB Library. #FutureGaucho https://t.co/zsF8DUZSJc Great library visit today 🙂 @UCSBLibrary https://t.co/kYp47rEaz5 @LibraryLady1000 Thanks for coming to see us! UCSB Reads: Montecito Public Library Panel (Wed., April 6, 6 pm): Activities continue for UCSB Reads 2016, a p... https://t.co/4olFCTrg9M Dictionary in #UCSBLibrary is open to this page. Make of it what you will as finals end and spring break begins ... https://t.co/8bAA635U8R #TBT  The Hat My Father Wore Upon St. Patrick's Day 1910 recording at UCSB Cylinder Archive https://t.co/LZOpFN4VAi https://t.co/skY6djyYeI https://t.co/eFHJB1izSB\\nCheck out my #podcast with David Seubert of @UCSBLibrary Special Collections. We talk record collecting! \"Should All Research Papers Be Free?\"  story in #nytimes Sunday Review by Kate Murphy: https://t.co/R2d0WZ01ch We're hiring! Four academic librarian positions are open at #UCSBLibrary. For details, visit https://t.co/iyBjyGZFtl. To prevent famine &amp; thirst during finals, Summit Cafe in #UCSBLibrary will be open until midnight thru March 17 https://t.co/Y1Gh1Wa7DU @rukioftheyear We're happy to provide free study space! \"Soviet Bus Stops\"  nominee for Diagram Prize for Oddest Book Title of Year. Vote at https://t.co/0BRjnODl50 https://t.co/QAszdvtzLp Extended Hours for Dead Week and Finals Through March 18: The Library will offer extended hours for Dead Week ... https://t.co/MqYTgIgvvh UCSB Reads: Carpinteria Public Library Panel (Wed., March 16, 6 pm): Activities continue for UCSB Reads 2016, ... https://t.co/UXBLL6wibg Look Mom, we're studying for Finals in the #UCSB Library -- on a Friday afternoon! https://t.co/eElhjZHs5U @EmilySenefeld @KVaughnJohnson Wow! Lorraine Hansberry's \"A Raisin in the Sun\" opened March 11, 1959, 1st play on Broadway written by a black woman https://t.co/CvAo0pZ410 Coloring! Massages! Puzzles! Study Break at #UCSBLibrary was a soothing success. Photos: https://t.co/U5aljUc1YU https://t.co/nqCGK7QPna Recent addition to @UCSBLibrary has earned #LEED Gold rating. Another example of our commitment to #sustainability! https://t.co/5mb3XC9s03 University Librarian Denise Stephens on #InternationalWomen' Day in this #GradPost article: https://t.co/kjFV8XJOmH https://t.co/NXdF35zHT3 #UCSBLibrary’s new &amp; renovated buildings have earned #LEED Gold certification: https://t.co/VEwlcyH8iA https://t.co/BNSl3nFT0v Photos from #UCSB's Art of Science Awards: https://t.co/pvlf3ijnio Entries on display in #UCSBLibrary 3-28 https://t.co/pYF62EwFLR Assoc. of Research Libraries graphic: Fair Use in a Day in the Life of a College Student https://t.co/2RpHLe5UQe https://t.co/yiE3GxKU7i #TBT circa 1920. Oil wells in Summerland. Petroleum production is perennially not pretty. https://t.co/bOohMcIuq4 Excited to announce that I'll be joining @UCSBLibrary as Humanities Data Curator. Moving to Santa Barbara in April! @thomasgpadilla We look very forward to seeing you at UCSB! #Orfalea Center for Global &amp; International Studies at #UCSB celebrates 10 years of collaborative research https://t.co/6wHeY4a032 #lovemyFDL On this #LeapDay, info on leap seconds from National Institute of Standards and Technology: https://t.co/J9f36XEkau @UCSBLibrary Best view ever? https://t.co/GnkMiScZag #UCSBLibrary's Sam Brylawski gave keynote at Radio Preservation Task Force Conference #RPTF https://t.co/7hr7h9B6ZE https://t.co/xcRGXt22kd @RadioTaskForce You've been quoted in my #Storify story \"Sam Brylawski at Radio Preservation Task Force Conference\" https://t.co/ZvhEglygK6 #lovemyFDL NASA's Solar Dynamic Observatory has incredible sun imagery to download: https://t.co/SOz8wo4fvM https://t.co/ebNAGXJY2B Google gives $1M to #UCSBReads author Bryan Stevenson's racial justice effort https://t.co/K0U8KsBjb2 #tbt License plate pictured in a 1987 yearbook from #UCSBLibrary archives. Have a #UCSB personalized plate to share? https://t.co/uNti0rRa6d #lovemyFDL Sesame Street Fire Safety Prevention Coloring Book at https://t.co/u737VbJrux, free from U.S. Fire Admin https://t.co/ZXWLeFIker President Obama has just nominated Dr. Carla Hayden to be the next Librarian of Congress. https://t.co/Sjh7Ad6nJE #lovemyFDL Random info in '77 Gambling in America report: 59% of bettors Protestant, 35% Catholic, 3% percent Jewish https://t.co/ypIT9HrDUR #LoveMyFDL  Mosquito Bite Prevention, free info from #CDC https://t.co/CFJl9neIHo https://t.co/1B5KDx2rJt #UCSBLibrary participating in #FairUseWeek2016. Come see our info table in the Paseo or read https://t.co/KSjQt3VuL1 https://t.co/WkuvOqjbR9 .@DanielCornwall @UCSBlibrary @USGPO that's one giant fugitive document site. state energy estimates not in CGP. https://t.co/nmECsul4pd #lovemyFDL Where are power plants, refineries, pipelines near you? Free CA energy profile at https://t.co/ev1tMXMMDf https://t.co/JoVWvRNvNe Harper Lee: Her life and work https://t.co/Ca3conWA0N https://t.co/dmWMeVLSB6 Bryan Stevenson, author of #UCSBReads' 'Just Mercy,' to receive John Jay Medal for Justice https://t.co/QyYR76b0kb https://t.co/mhAFPs46v2 #TBT Science at #UCSB circa 1960s. Device is a \"detailed vacuum sputterer, used for integrated circuits\" https://t.co/sXLnItp7ER #LoveMyFDL All about Space Weather! Free info from #NOAA at https://t.co/nzRo9VAhvH https://t.co/9XG694GqYT I found an amazing book in the UCSB Davidson library. #davidsonlibrary #processing #caseyreas #benfry #p5js https://t.co/IklQ0PtWLy @ext0n Glad you made a great discovery! #LoveMyFDL USDA offers tip sheet: 10 Healthy Choices to Keep in Your Dorm Mini-Fridge https://t.co/1R086kv00r https://t.co/s6KfpHLCMO Performance by #UCSB student Laura Lora, part of #UCSBAmplified, filmed in #UCSBLibrary. https://t.co/y3DOWspc7J https://t.co/IVDcnSHY92 Launch of EMC Imprint press, @UCSBEnglish Dept. https://t.co/Le8BYi780A https://t.co/1Cfay06fld #valentines day quiz: match the literary couples: https://t.co/rWU0tgyifw https://t.co/luLGqCtpUe One more time, please, Laura Lora. This one's titled \"National Anthem\". Recorded live @UCSBLibrary. #UCSBAmplified https://t.co/PVUxcljfpG \"Libraries have always been as much about connections as about collections.\" – @jaytiesse #McDermottAward #TBT The 1967 version of #Uber at #UCSB: The Associated Students' Ride Board. https://t.co/DAPI51I47c #lovemyFDL Pres #Obama's 2017 budget was published this week. Read it all (it's your $) at https://t.co/L6XCRQBc6h https://t.co/AuubZ6dtx5 #LoveMyFDL Explore African American History Month &amp; voices from Civil Rights Movement at https://t.co/U51nHSrQTE https://t.co/ogSgYvPN7h New Hampshirites don't get all the voting fun. Vote in #UCSB Art of Science Competition at https://t.co/uqvPzzF5C1 https://t.co/IJ4l3y1P90 #LoveMyFDL Want info about Super PAC spending? U.S. govt has tons of data: https://t.co/J5iBb7rHVY https://t.co/fe8bTgVHlt We love bikes, just not inside. Please do not ride, walk, park, or in any other way bring a bike in #UCSBLibrary. https://t.co/08onDBW19H #LovemyFDL Lots of maps available free from U.S. Govt., such as California State Water Maps https://t.co/AKV5PBYMU9 https://t.co/d9YmeEvs5F Book by UCSB geologist Arthur Sylvester &amp; UCSB alum Elizabeth O’Black Gans 'Roadside Geology of Southern California' https://t.co/i9Q47aq7UI Government documents galore! #lovemyFDL campaign has begun at #UCSBLibrary: https://t.co/VHe5Dnj8Xw https://t.co/RbzHmSn0KU Rosa Parks born Feb. 4, 1913. Image is child's birthday wish from Library of Congress collection https://t.co/8tk7CXOkWG @andrey_chabanov We hear you and other students! This week Late Night Study area was expanded to include entire 1st floor on Mountain Side #tbt David #Bowie posed for @ALALibrary READ campaign in 1987. Poster has been reissued: https://t.co/LR8AOxTjwP https://t.co/WXNDZWRMLH U.S. Poet Laureate Juan Felipe Herrera at #UCSBLibrary brought to campus by UCSB @ArtsandLectures @cilantroman https://t.co/RrBFUtJ819 #UCSBCurrent story on Modes of Codex, #UCSBLibrary Special Research Collections exhibit https://t.co/UVT4MAJyif https://t.co/jCR4bldRQC Plagiarism Prevention Workshop Planned (Tue., Feb. 2, 3:30 pm): The UCSB Library, Office of Judicial Affairs, ... https://t.co/JMrtX4gEQP @cxjiang19 That door has to be closed for security reasons. I know it's a little farther to walk, but we do have three entrances now! #TBT #UCSBLibrary's original circulation and reference desks (east side of Library), 1954 https://t.co/MlRJgTaUkn @cxjiang19 We're going to keep monitoring how the current space is used and go from there. Feedback is always welcome! @hectorsanchezc_ On Sun. night, Jan. 31, #UCSBLibrary to expand Late Night Study area to 1st Floor of 2-story renovated building. @ayyyyyye1 On Sun. night, Jan. 31, #UCSBLibrary to expand Late Night Study area to 1st Floor of 2-story renovated building. @isayugh On Sun. night, Jan. 31, #UCSBLibrary to expand Late Night Study area to 1st Floor of 2-story renovated building. @jackdockham @cxjiang19 On Sun. night, Jan. 31, #UCSBLibrary to expand Late Night Study area to 1st Floor of 2-story renovated building. On Sun. night, Jan. 31, #UCSBLibrary to expand Late Night Study area to 1st Floor of 2-story renovated building. https://t.co/b6voBa3Yt0 #UCSB's Tresa Pollock named principal ed.\\nMetallurgical &amp; Materials Transactions Journals https://t.co/yOxFgd9lR5 https://t.co/KHgEDSZTCy #UCSBReads book \"Just Mercy\" on sale @UCSBbookstore -- at a discount! https://t.co/fmCrSqAn5A \"Help one another. It is the only way to survive.” (Elie Wiesel, \"Night\") #HolocaustMemorialDay https://t.co/hISC1HE62G Midterms. #UCSBLibrary white boards are a study-aid staple. https://t.co/KzPNPbPYAG @hectorsanchezc_ We hear students are frustrated as midterms start; we're discussing and will get back to you @cxjiang19 We hear students are frustrated with Late Night hours &amp; footprint as midterms start; we're discussing and will get back to you @cxjiang19  We are still awaiting some furniture as part of the opening that should help to fill out more seating @cxjiang19 The Library is definitely planning on opening up the entire Mountain Side for Dead &amp; Finals weeks (ie. the two -story building) Photo 1, #UCSBLibrary. Photo 2, Musselman Library at Gettysburg College in Penn. #sun https://t.co/IpJd0HWCKZ @MoneekaBrar Sorry, no microwaves in the Library! The famed and beloved Dilling Yang checks the status of her UCSB Library Card. https://t.co/cCTQ3jpJo3 #TBT A rental typewriter in UCSB Library's \"typing room,\" 1954 https://t.co/kZrCdSw2XR UCSB’s beautiful new library complex belongs to the community. #ucsb #ucsbextension #ucsblibrary  https://t.co/8xo89xUN9H Joanne Calitri's Our Town column in #MontecitoJournal features #UCSBLibrary's Grand Opening. https://t.co/Fp7cXxrJug https://t.co/tJtZoYBwqM \"I still believe that we shall overcome.\" -- Rev. Martin Luther King, from his Nobel speech https://t.co/wT7VDS1UDX https://t.co/EqALVgSsL3 \"Congratulations, #UCSBLibrary, on a very grand opening.\" #Storify of social media posts: https://t.co/6RQHn47HPJ https://t.co/qKziW9y7Sm @UCSBconferences You've been quoted in my #Storify story \"UCSB Library Grand Opening\" https://t.co/xwpLsoogJ2 Charles Donelan's @SBIndpndnt lovely review of LAMENT see this #bookcover #art  @UCSBLibrary https://t.co/xsCbaF4t17 https://t.co/xqfhRPMZNc UCSB Reads 2016 Book Giveaways: \"Just Mercy\" now in the hands of many #UCSB students! Pics: https://t.co/l7TxHtgeyP https://t.co/bA6PfoH40B #TBT Undated. The UCSB Library used to have this ancient tool called a card catalog ... https://t.co/tGwXKOPiwh Truly a GRAND opening yesterday of the #UCSB Library transformation. Wow! #ReinventingTheLibrary #UCSBLibrary https://t.co/7VJFjRKjqM UCSB opens its library of the future, and it's fantastic. https://t.co/hrFyRgwQ3B @UCSBLibrary @ucsantabarbara https://t.co/vIiMSWMwoX Gawd I love this school!\\nGO GAUCHOS https://t.co/kmt8GdrzCY \"The @UCSBLibrary is the heart and soul...of our university\" ~ #UCSB Chancellor Henry Yang #SantaBarbara #UCSBReads https://t.co/mYvB0vzCmV LIVE on #Periscope: Music and dance at UCSB Library Grand Opening https://t.co/uuAb7KEw7L Dancers at #UCSBLibrary grand opening! https://t.co/GzZrijG4ea LIVE on #Periscope: UCSB dancers at Library https://t.co/yYbRCReG3K LIVE on #Periscope: UCSB Library ribbon cutting https://t.co/2FCoEYOWkw Associated Students Pres. announces #UCSBLibrary to receive senior gift this year. LIVE on #Periscope: Jimmy Villareal at UCSB Library Grand Opening https://t.co/Mv10K99zHB LIVE on #Periscope: UCSB Chancellor Henry Yang speaking at UCSB Library grand opening https://t.co/o8We2Gg0lV LIVE on #Periscope: UC Santa Barbara Library Grand Opening Dance https://t.co/1le3DhFPBH LIVE on #Periscope: UC Santa Barbara Grand Opening.  https://t.co/drCpNxTZbz Seats ready. Grand Opening Ceremony, 3:30-5:30. Music, dance, remarks, chance to celebrate your new #UCSBLibrary! https://t.co/iWdSYLETFy New UCSBLibrary: full of light day and night. Grand opening ceremony 3:30-5:30 Wed. https://t.co/MH1yJOnsNF UCSB Reads 2016 Book Giveaway #1 was huge success! Giveaway #2 is 11am to noon Thu., Jan. 14. https://t.co/ZpJtvBjAHd Don't miss the Grand Opening Ceremony for the new @UCSBLibrary tomorrow at 3:30pm! https://t.co/nNKETYd97A #UCSB students, 2-3 today, pick up your free copy of Bryan Stevenson's Just Mercy during #UCSBReads Book Giveaway. https://t.co/NNOWalBCSs Storify of tweets &amp; photos, mainly by excited students, from Week 1 of new #UCSBLibrary: https://t.co/Q6cfNMzxVk https://t.co/GoySsAXqrO @D_Man_Roster You've been quoted in my #Storify story \"Reinvented UCSB Library: Week 1\" https://t.co/KEMKYQukVM #Noozhawk story about new Library: https://t.co/9WZiOJtrfR\\nDon't forget: All invited to Grand Opening Ceremony Wed., Jan. 13, 3:30-5:30 Bryan Stevenson, author of #UCSBReads book Just Mercy, on Al Jazeera America 3 pm 1-11 https://t.co/7azrNpt4nQ @ajam https://t.co/Q1u6EISMyo #Job #UCSBLibrary Interdisciplinary Research Collaboratory seeks Data Services Student Asst. https://t.co/hKgrrAShcY https://t.co/9kmBgcDBHt Story and video about the new #UCSBLibrary in #UCSB's The Current. https://t.co/MO4qhun3tz https://t.co/liZRyGSJHX The new year brought in a brand new, state of the art library at UCSB! https://t.co/oydOjZjWkI https://t.co/K8kZa08lSG #TBT The original #UCSBLibrary at night. 1954 https://t.co/AvDxI5zjpW It's warm and dry in the new #UCSBLibrary. Relax (and study) on our new couches! #outoftherain https://t.co/LhuPCgjywb @D_Man_Roster Love the panoramic pic! Group study in the new UCSBLibrary! https://t.co/BHjDxz4aV9 I'm so impressed with the new UCSB library that I know this quarter my grades are going to be amazing lol #whereyouat @jennagavigan Thanks Genna, for letting us know! And come visit anytime! \"A trained librarian is a powerful search engine with a heart\" by Sarah Mcintyre. https://t.co/xi0cPuoIyR It's so wonderful to finally see students in #UCSBLibrary's new 24-hour Learning Commons! https://t.co/WKkGxTyUmc Waiting for the new #UCSBLibrary to open this morning! As of 8 am, we're open! https://t.co/wkzr2c6uJx @alanyliu Loudspeakers! #tbt UCSB Library 1954. Photo is part of historical exhibition on display in the NEW Library when it opens Jan. 4. https://t.co/edRalvDd2q Detail from Nancy Gifford's wall installation \"Lament,\" which explores books in a digital age. On display Jan. 4. https://t.co/fkeZLDhmTK Photos from #UCSBLibrary Holiday Party 2015 https://t.co/Bhv2g2xqHv https://t.co/3phfH2x0Ke #UCSBReads2016: Afrikan Black Coalition Accomplishes UC Prison Divestment/ https://t.co/RcaoTKhWiE #UCSBLibrary has experts on every topic. Meet reference librarian Annie Platoff, our resident #StarWars specialist. https://t.co/5pkfr0Bo8W Not Star Wars books, \"but will remind you more than a little bit of Star Wars.\" https://t.co/HtgIoKR675 https://t.co/SAS5DVRm6i #TBT 1967. Meet the Honeybears, #UCSB's \"official hostesses\". https://t.co/owGR6TLmxR Sneak peek at Library's new exhibition \"Lament\" by Nancy Gifford; wall piece explores books in digital age https://t.co/o4X8RlIKkZ @MandaPandaRawrr We look forward to seeing you on Jan. 4 when the Library opens for service! Furniture installation in progress in new #UCSBLibrary! https://t.co/8iof9wwfiT Telling a book by its cover ... https://t.co/K9m2Xb75HT https://t.co/TGk1CJsMYO New playlist of Mexican cylinders online as part of #UCSB Cylinder Audio Archive. https://t.co/aEfXyDfSyl https://t.co/XG4tCXdYt2 No slide in new #UCSBLibrary, but we've got tons of tech &amp; study space when we open 1-4 https://t.co/5KGPZdg3m6 https://t.co/nKLk0JzQNL \"When it's finals week ... you need three things ... The biggest Slurpee you can find ... Pajama pants... And dance breaks.\" (Jenny Han) \"Look Mom, we're all in the UCSB Library studying for our ECON 10 final!\" https://t.co/Hj6pusG038 @Erikcummm Wi-Fi managed at campus level, but Librarian can help Email ucsblibrary@gmail.com to contact #TBT Stephen Hawking gave a talk at #UCSB's Campbell Hall 11-15-88, titled Baby Universes: Children of Black Holes https://t.co/poHuyBDCoj Hope to see you there, @Nexustentialism  https://t.co/8CZZzjJfjm @hectorsanchezc_ Cold and typing to not go together! Please fill out this form so we can look into it https://t.co/gx3fcfiYUr @kirbynbeaton We hear you (and send you a virtual blast of warmth!) Please fill out this form so we can look into it https://t.co/gx3fcfiYUr Germs--ack! Free flu &amp; meningitis vaccine shots at Library today, 1:30-3:30, 1st Floor. https://t.co/YFtcLnZFDB https://t.co/qZZo4yjZNn Save the Date for UCSB Library's Grand Opening ceremony: Jan. 13, 2016 Details: https://t.co/tiHBAcCpCV https://t.co/HxihqF2vdP UCSB \"Climate Champions\" in Paris: https://t.co/woHPGhyPVB https://t.co/vd25WApIvd What book made YOU the writer that you are today? https://t.co/e4tGid64b5 https://t.co/x2XCqt8Heg Did you know that sound was once recorded on wax cylinders? Listen to (and download!) them from the @UCSBLibrary https://t.co/CmOps8HT6P #UCSBLibrary closed Thu and Fri for Thanksgiving; hours Wed and Sat tweaked a bit. Details: https://t.co/rDoYXkl4SH https://t.co/ntISbWz0eV Words to soothe during a busy week: \"50 of the Most Beautiful Sentences in Literature.\" https://t.co/vw3oOUgqGx https://t.co/8ozWkKpvCI Authors of Publishers Weekly's top books of 2015 share their own favorite books for 2015. https://t.co/THtImYu7We https://t.co/BsMK4eD856 #tbt: Der Rosenkavalier cylinder recording from 1922, part of the @UCSBLibrary\\narchive:\\nhttps://t.co/eOnHvdwMb1 2015 #NBAwards honorees include Ta-Nehisi Coates. Full list of winners: https://t.co/PWZJyKONPE @nationalbook https://t.co/iu35gz6uJS #TBT 1960. From L to R, 3 UCSB ROTC members, and 4 \"Colonel's Coeds\" members https://t.co/5iuzelSi6k Meet the real Alice in Wonderland https://t.co/8uDpmQq555 https://t.co/Lcd7krjhF7 #UCSB Library mentioned in Vertices, newsletter of Center for Spatial Studies. https://t.co/1z6rL0eQrT @spatialUCSB https://t.co/TFqAXlbd4U \"Oxford Dictionaries Word of the Year Is Not a Word.\" It's an emoji. @Newsweek https://t.co/2YtVcpBaXt Today in Library, \"Of Mice and Men: How Wildlife Loss Affects Ecosystem &amp; Human Health: https://t.co/YcCXou0sYr https://t.co/EHwaAisgf4 Meet the real Alice in Wonderland. Photos: https://t.co/OJftjtzO5C ht @theretronaut https://t.co/7JqgLkvDDA \"There is never any ending to Paris.\" -- Ernest Hemingway (\"A Moveable Feast\") https://t.co/NiO0P0ID72 @sbc_at_work @openculture Thank you for the kind words! More higher ed, library groups speak out in support of Lingua editors | Inside Higher Ed https://t.co/uehkCVmgCe Fun with #UCSBLibrary's wax cylinders, from @HistoryBuffcom: https://t.co/n41wlPgQIO https://t.co/8UFrXXY3Fd #TBT #UCSB Gauchos, 1985, winners of Twister Tournament of Champions, w/ 2,500 participants (beating Florida Gators) https://t.co/YruGdD3q3I Meet the judges for the 2016 PEN Literary Awards: https://t.co/BjayT11EWv https://t.co/FGhmdwm9Bz @UC_net You've been quoted in my #Storify story \"UCSB Cylinder Audio Archive\" https://t.co/RJos03PTQ8 @billfasano You've been quoted in my #Storify story \"UCSB Cylinder Audio Archive\" https://t.co/RJos03PTQ8 Ever wanted to listen to a speech by Teddy Roosevelt? Thanks to the @UCSBLibrary you can. #history  https://t.co/rXBHgOCCKT @Jorgemet We don't charge royalties for PD works, but to access our high-res transfers for commercial use. If people ask, we may waive them. @Jorgemet There are no PD sound recordings in the U.S. https://t.co/Dygq28Vude And now, @SmithsonianMag recognizes #UCSB Library's cylinders. https://t.co/PVIZ94Qj9h https://t.co/qVeLGta4Md Bikes outside Library, in honor of #UCSB being named Gold-Level Bicycle Friendly University https://t.co/rZXWmWMHed https://t.co/qJ09gfTERY The @UCSBLibrary made a gift to all true sound diggers in the world &lt;3 https://t.co/7X5TSHaJ4B Stream These 10,000 Files From the Dawn of Recorded Sound https://t.co/VAeoLn8Xmz via @inversedotcom Thanks, @goofyjourno! @Jorgemet Use of the website is entirely free, but we charge commercial users for access to our high-resolution files. @f_dion We use a French-made Archeophone to play back the cylinders. https://t.co/spYgeJdONa Thanks, @CNET! Thousands of 100-year-old wax cylinder recordings available to stream https://t.co/YIvMxJPteG @BoingBoing That's OK! We aren't going to be picky about an extra \"t\" here or there. :) UCSB Library is hiring! Seeking a Data Services Student Assistant: https://t.co/vk1RP3CW7C @BoingBoing Thanks for mentioning the UCSB Cylinder Audio Archive! It's kind of a hidden treasure trove. #UCSBLibrary's Cylinder Audio Archive featured in @hyperallergic https://t.co/9k1eXcQzv6 https://t.co/16nYSsgnSb #TBT Cesar Chavez speaking at #UCSB's Campbell Hall in May 1990. https://t.co/WOil9mhZpZ #UCSBLibrary has selected a book for #UCSBReads 2016! \"Just Mercy\" by Bryan Stevenson. @eji_org https://t.co/P7bIAYqoUp What a Mass Exodus at a Linguistics Journal Means for Scholarly Publishing https://t.co/ZKa8N67vWw via @chronicle Journal Publishers Rethink a Research Mainstay: Peer Review https://t.co/KJp2eYTdml The Mathematics of Alice in Wonderland, class by UCSB Prof. Jeffrey Stopple. https://t.co/RVo4PqMMp7 https://t.co/HwY2oXDqI4 Preventing Another #ProQuestGate https://t.co/8UWqPItduL Join us: talk today by copyright expert Ken Crews on Innovation, Copyright, &amp; the Academy, 4 pm, Mary Cheadle Room. https://t.co/dXT8s4UrL4 Featured in https://t.co/eHKM2Bw0ZC is @ucsbcs Prof. @giovanni_vigna; he spoke at Lib's Pacific Views Speaker Series https://t.co/YQ17MAsrq4 \"What Libraries Can (Still) Do\" by James Gleick, NY Review of Books https://t.co/0YwVSG8jR0 https://t.co/yyNwgWh6m9 Construction fencing GONE! New #UCSBLibrary opens 1-4-16. Pictured: #UCSB students Jonathan Lopez &amp; Erika Herrera https://t.co/bczRZT0dhZ Ophelia, summing up my feelings about Monday.\\n#Hamlet https://t.co/bFLSKX87Er On this day in 1958, Boris Pasternak awarded Nobel Prize in Lit, but did not accept because of pressure from Soviets https://t.co/UNh4A66u3x @UCSBwriting Thanks for the plug! Today 4-6pm. @UCSBLibrary  hosts \"Reinventing Publication Management at UC\" as part of Open Access Week. #openaccess https://t.co/KTXgdkCWm6 #tbt Postcard featuring the 101 between Ventura and Santa Barbara. Notice the scenic oil rigs. #wishtheywerentthere https://t.co/IdmqM1xTFR On this #backtothefuture day, we'd like to remind everyone that a reference book played a huge part in the film. https://t.co/VvsuzSI1sm Celebrating #BackToTheFuture Day? Check out these time travel titles: https://t.co/LKfE5A2dRt https://t.co/HXTDI7Jn5w “Until death it is all life.”\\n― Miguel de Cervantes, Don Quixote.\\n🎨 Don Quixote Reading by Adolph Schroedter, 1834. https://t.co/KVuRnttery #UCSB Assoc. Prof. Teresa Shewry's book \"Hope at Sea\" in Library. Story in The Current: https://t.co/qASllhs2Tk https://t.co/0LcceNzpl0 Book honors keep coming! Andrew Carnegie Medal shortlist: https://t.co/l6OY8BUx2h https://t.co/kPdqMcDLln Open Access Week events start today, 10-19, with talk on \"Reinventing Scholarly Publishing: UC Press\" at 4 pm in Room 1575 of #UCSBLibrary @mwags6 Hi there. Sorry -- no microwave! Welcome to all attending Parents &amp; Family Weekend! Please join us for Library tours Sat. (Oct. 17) 10:15-11:15 am http://t.co/wEC0YLyRFi Graduate students, this new part of the @UCSBLibrary is for you: http://t.co/ipqpLeKFtU #Kirkus Prize winners and finalists: https://t.co/jYLu3Ncp9h http://t.co/Xmlh3tionf #TBT UCSB's San Nicolas Residence Hall, which hasn't changed much, but you know it's the '60s because of the cars http://t.co/xWu9kRmBGY Why the Printed Book Will Last Another 500 Years: \"its heft, its scent, the tactile quality of its cover ...\" http://t.co/Jj3Lgnekcw The Library was featured in the Fall 2015 issue of Coastlines, the #UCSB Alumni Association newsletter: http://t.co/WzPQh0oMYd How professional readers read for pleasure: http://t.co/VZ7r6tX9PP http://t.co/y3peo3tTU6 Open Access Week Programs at the Library (Oct. 19-Nov. 2, 2015): Open Access Week is an annual international e... http://t.co/9LaYZ3cv1y #TBT Angela Davis speaks at UCSB, Nov. 4, 1969 http://t.co/wrdfpDBn3d UCSB's Dolores Ines Casillas wins awards for her book on U.S. Spanish-language radio  http://t.co/XM2mIYoCL5 Svetlana Alexievich Wins Nobel Prize in Literature: http://t.co/Q2kHGrjv0U http://t.co/3W7kJS7NQo #OnThisDay, Oct. 7 1849, Edgar Allan Poe was dead  at 5 a.m. in mysterious circumstances at  WA College Hospital. http://t.co/3ZLVYOD0aA October issue of Crossroads, #UCSBLibrary e-newsletter, available online : /bit.ly/1Lg8CLp http://t.co/cSIKNiqHpB http://t.co/SSpKVP5MJ9 You need a massage. Free ones from Health &amp; Wellness offered noon-2 pm today (and most Tuesdays) in #UCSBLibrary. http://t.co/BqWtIIDF03 University Librarian Denise Stephens wrote this story for the #UCSB Current: http://t.co/BclfKRXzgI http://t.co/fG66mSg6So Awareness Campaign on 'Predatory' Publishing | Inside Higher Ed http://t.co/thZhgsNVgF #TBT List of top song &amp; album requests at radio station @KCSB in fall-winter of 1968. https://t.co/QeY7KDPVHd Via @NPR: Forget The Book, Have You Read This Irresistible Story On Blurbs? http://t.co/uNjPzqSvym http://t.co/0mWWQ3ZUK8 Pulitzer Prize winner David McCullough at Granada 10-1. @ArtsandLectures Terrific speaker.  http://t.co/aoxcUH9R3q http://t.co/BsQVwptmsQ Pics from #UCSB Library involvement in Graduate Student Orientation: http://t.co/f0x2YkjnVf http://t.co/KUusu0JuBh #UCSBLibrary is a backdrop in much of this video from The Current: http://t.co/FKwKlfygJQ Mechanical @UCSBEngineering seniors meet on #UCSBLibrary sunny-yet-shady 4th-Floor patio to discuss Capstone Project http://t.co/sDsXxho7GU It's #BannedBooksWeek. Most challenged books of 2014: http://t.co/u0QSAfh76Q (Artwork courtesy @ALALibrary) http://t.co/wVcb2vMVIg The World’s first crossword: Fun’s Word-Cross Puzzle, published on the 21st December 1913 in the NY World newspaper. http://t.co/yISEKRCKQz Photos from Week of Welcome Library Passport Tours https://t.co/Gm3JkUp1iW Talk on audio preservation by Sam Brylawski. 1pm today #UCSBLibrary Mary Cheadle Room, http://t.co/52krUuIxxg http://t.co/orI888d6CS Historical recordings preservation lecture, Fri., 9/25, 1pm. @UCSBLibrary #history #humanities http://t.co/iuNrpv3ukj #TBT Welcome to first day of #UCSB quarter! Are you wearing a tie? (photo non-UCSB class, 1910, Library of Congress) http://t.co/97ZBTe1cUs Join Week of Welcome Library Passport Tour; get sneak peek inside new Library! 11-noon today (9-23) starting in lobby http://t.co/YIftbjF7vD Week of Welcome Passport tours of #UCSB Library, including peek at expansion, 9/21-9/23. http://t.co/XZYRoUXQAc http://t.co/GdC1mnY6bA #TBT #UCSB Chancellor Henry T. Yang, in a 1996 yearbook photo (he was named chancellor in 1994) http://t.co/xqcN8GwDgk It's Constitution Day! Don't miss our book display near the Circulation Desk. More info: http://t.co/kn7bK2Tr21 A view from the aptly named Pacific View Room, on #UCSBLibrary's 8th floor, on this beautiful late summer day. http://t.co/gSZrHxMEH9 Is your local library a \"Library of Things\"? http://t.co/Sh8JVlsDrn @nytimes http://t.co/YMdhdeWTS1 Man Booker Prize for Fiction shortlist announced: http://t.co/ovaBj1v9XG #ManBooker2015 It's a sign ... on the exterior of the newly expanded Library. http://t.co/LCaSuRjfKT Nick Church &amp; Jeremy McIntyre play scientific Hangman in #UCSBLibrary while studying for their molecular bio final http://t.co/D1M83lunsj \"Flower Towers,\" 2001. By Jen Kim. Library of Congress Prints and Photos: http://t.co/nrJdrtvKlY http://t.co/jOsqaI9w8L #tbt In honor of U.S. Open, here's 1942 men's tennis team from UCSB when it was Santa Barbara State College http://t.co/CZSUvwtY4Q Highest ranking ever! @usnews #BestColleges We're proud #UCSB Gauchos today (and every day!) http://t.co/GOSNWjJ4lt http://t.co/2DiuO7QtZ2 #tbt A previous UCSB Library addition (the 4-story building where you enter now), in 1976 http://t.co/nEMZfxeM52 Our future UCSB Library patrons! http://t.co/q38NsbfJYm \"Hops! sagd he.\" (James Joyce) http://t.co/AS3ro50hcF http://t.co/6OtPdQZezp IMLS Seeks Nominations for National Medal for Museum and Library Service 2016 http://t.co/nAY0OtlCis Temporary Circulation Desk Opens: http://t.co/83hENMyMlx http://t.co/AuG20taSop Temporary Circulation Desk Opens: The Circulation Desk that you usually see on your left when you walk into th... http://t.co/zzTEonKY7E The @DailyNexus has published story w/info about expanded #UCSBLibrary's upcoming opening. http://t.co/OnDq6G33aH http://t.co/rVPbxNCtp1 #TBT @RobLowe campaigning at #UCSB for presidential candidate Gary Hart in the late 1980s. http://t.co/eJJk7aU3JZ #UCSB in Washington Monthly's 2015 National Universities Rankings http://t.co/OQ10h4lMKp http://t.co/5yKKaEhvzi JOB! (Santa Barbara) Humanities Data Curator, full-time, dig humanities experience required @UCSBLibrary https://t.co/GsLQeI5WkJ #UCSB #Thoreau scholar mentioned in @BostonGlobe story, \"Recovered Thoreau Account Provides Long-Lost History, http://t.co/5zOhwqwxbF DLF Contribute: \"Reinventing the Library at UCSB,\" by @UCSBLibrary's Denise Stephens: http://t.co/qP21WM9TwL Crossroads, #UCSBLibrary's monthly e-newsletter, is available to read online: http://t.co/hFbfG4Be2J http://t.co/Luy6gYKcOH #tbt #UCSB Drill Team, 1962. (From #UCSBLibrary's collections) http://t.co/LEW0eWCNDw Nice write-up in @SentinelSB re Weary Blues: Poetry and Jazz from Langston Hughes exhibit http://t.co/xLxYE0u3Iv p.10 http://t.co/asb15M513z The #conservation team at Harvard #Library + transcribers at @UCSBLibrary help reveal more of #Thoreau http://t.co/RBrHm9rjGT #preservation Meet Danelle Moon, our new Head of Special Research Collections. Welcome! http://t.co/JDSZ06GrrC http://t.co/Uo5IBW9R2k Thoreau manuscript newly transcribed by #UCSB scholar based at #UCSBLibrary: http://t.co/TJB9k1yXea http://t.co/auRPD9eWsR Long-lost F. Scott Fitzgerald story finally published: http://t.co/RHeWEleDb2 #TBT A shout-out to the importance of librarians, from the American Library Association's archives. http://t.co/UFoT64UJDr Nominate a librarian for 2015 \"I Love My Librarian Award.\" Nominees can be public, school or university librarians. http://t.co/Jkm5GB14pa 1st Floor study room closed to store carts for moving books into Library expansion. Sorry for the inconvenience! http://t.co/EC6arKvGQa Construction Update: Paging Service Required to Access Some Materials. http://t.co/ft7FvpRHqV #tbt Cost for an entire large pizza in SB in 1989. From the Library's archives. http://t.co/4FvHGHp2kY Santa Barbara wins \"Best Beach Town\" in @SunsetMag's 2015 Travel Awards: http://t.co/dcbHxjwqVw http://t.co/yYnUC7uuFG To honor Armstrong moonwalk on 7-20-69, photo of an S.B. moon taken by John S. Kiewit from Library's collections http://t.co/knajjL7Uzi Check out the newest feature of the renovated @UCSBLibrary, coming in mid-Nov: http://t.co/hR7fArpECE \"The book ... is a social entity.\" http://t.co/BBaClK1UIg http://t.co/7D3C7sg9sD #tbt #UCSB Surf Team, 1973. From the Library's collections. http://t.co/1aiFe5wGfQ \"Library Work\". The profession on which all other professions and occupations depend. \\nALA Archives. http://t.co/TdtTURZhT7 #UCSB=Top Tech Trainer: http://t.co/X8gKzRvt5j Bibliotherapy: http://t.co/iSikWRwez4 http://t.co/9GFMlt297B The July issue of Crossroads, #UCSB Library's monthly e-newsletter, is available here: http://t.co/Oo3cszcvxo http://t.co/1GeSVSJTLJ Read the first chapter of Harper Lee’s ‘Go Set a Watchman’ http://t.co/afzDw9bFLj I processed and archived this flag! @UCSBLibrary http://t.co/zNZbXl4dUH #tbt Coast Highway north of Santa Barbara, early 1900s postcard. From #UCSB Library's Special Research Collections. http://t.co/HJYkqu2Lts \"so much depends / upon / a red wheel /barrow\" The Forgotten Man Behind William Carlos Williams’s ‘Red Wheelbarrow’ http://t.co/Tsonwkvo8e \"We Remember Them: Acts of Love and Compassion in Isla Vista\" exhibit in Red Barn (Old Gym) extended to Aug. 13. http://t.co/StR2yfIFjv We are thrilled that the Emily Dickinson Archive from @HarvardLibrary is now available @ DPLA: http://t.co/G81p6M6OBY http://t.co/qVoSOWTsNh Cats and books: http://t.co/x09xAU9r0d http://t.co/VprXZrO3N8 UCSB Library involved in this archive project: Partners in Preservation https://t.co/I2WcjsH95W #tbt El Camino Real Hotel after the Santa Barbara earthquake 90 years ago on June 29, 1925. http://t.co/cV1IRR5c5H Library Closed July 3rd &amp; 4th for Independence Day: The Library will be closed on Friday, July 3 and Saturday,... http://t.co/lvgfJnTGXU Rare Kafka manuscripts to go to Israel's national library, court rules http://t.co/AI87fjZaFV #UCSBLibrary staff share their summer reading choices at http://t.co/CTVvR0R5kT http://t.co/5RAwbnQ0zT Gloria Steinem, to librarians @alaannual: “You democratize knowledge. Nothing on earth is more important.” http://t.co/vglUWIwQXo Welcome to @CNSUCSB http://t.co/KFNArb7bcY just joined @ezidCDL sponsored by @UCSBLibrary #data #citation #identifiers 2 encounters in 2 weeks w/ @jonjab re @spatialUCSB @UCSBLibrary and historical gazetteers = all the rage #UCLOD2015 'Understanding &amp; Teaching U.S. LGBT History,’ by #UCSB's Leila J. Rupp, wins award. http://t.co/VIuWwn4p4j http://t.co/fjyepOBChk Library branch renamed after Charleston shooting victim Cynthia Hurd, @postandcourier: http://t.co/6PXBcv6mSi http://t.co/6LzFi8cMVc #tbt North Hall Student Takeover in 1968, when students protested acts of racism on campus. http://t.co/xfqWxZuCP1 Free Summer Workshop at UCSB Helps Veterans with Writing — and Healing @noozhawk http://t.co/vForYzQ18w What Are Old Chipotle Cups Doing in Yale's Rare-Books Library? http://t.co/gTLsPMHzYe http://t.co/09DPXP6fP3 Lights on vaulted ceiling of Library 4th Floor now LED rather than fluorescent. Brighter AND more energy-efficient. http://t.co/eOQ9CJSUKn Next UCSB @ArtsandLectures season to feature such authors as David McCullough, Temple Grandin http://t.co/f3hJTGoTz4 http://t.co/bfANvb1Cym @FrankMitch2014 I'm proud to be Edge! Inspiring! https://t.co/XOEKfKxhs1 Sad leaving SBA #spatialdiscovery2015 but inspired! Next steps bold &amp; practical: like ADL &amp; DE of 90s ;) THX @spatialUCSB @esri @UCSBLibrary #tbt Student speakers at #UCSB graduation, class of 1972. http://t.co/naZdDjmxyS UCSB slow right now in week before summer sessions begin, but the Library is open! Hours: http://t.co/DU4ySmb9UI http://t.co/8UawYKqgRW How will you be celebrating Bloomsday? http://t.co/bQuWlkGdxi .@noozhawk story by @ginapotthoff re We Remember Them: Acts of Love &amp; Compassion in IV exhibit http://t.co/BhqFT1EYgT http://t.co/4Uz72XUrBe Recess Hours in Effect Through June 21: Recess hours are in effect through June 21. read more http://t.co/LScQWz6t5h Blissful Santa Barbara, a guide for the Hungry Bibliophile: @elingspark @chaucersbooks @the_HUB_at_UCSB @UCSBLibrary http://t.co/GyOgZbwmXa #tbt @UCSBLibrary in 1965 http://t.co/HsLvtepuTX #UCSBLibrary Acquires Major Chicano/Latino Graphic Art Collections: http://t.co/i5ofh1B9vZ http://t.co/NpOp5Wz0MW If you're in the @UCSBLibrary this week, take a study break to check out the student art show on the first floor! http://t.co/XXlkZmFzAH #UCSB 2nd-year Hannah Lian studies for her organic chem. final in the Library. Hang in there during finals, everyone! http://t.co/yXY61jHhaq Symmetry and Aesthetics in Contemporary Physics: A Student Art Show is located on the first floor. Check it... https://t.co/SErapA6pa3 Symmetry and Aesthetics in Contemporary Physics:A Student Art Show located on the first floor! Check it out... https://t.co/QxkNzciPZ3 Extended Hours for Finals (through June 12, 2015): We know you need a place to study for finals.  Don't forget... http://t.co/CyCnda5ThR Chelsea Girvin won $50 UCSB bookstore giftcard by filling out Library survey for graduating students. #ucsb2015 http://t.co/sLf1SOdIHQ Study Bean now open 24 hours daily through June 12! http://t.co/GSpTQhQAoW #UCSBLibrary Pacific View Room included on the @UCSB_GradPost list of Seven Best Views in Santa Barbara. http://t.co/qe1DhNtznl @UCSBLibrary UCSB Librarians are super cool, too. @UCSBengineering  UCSB Engineers are awesome! #TBT In 1975, Jim Clark, @UCSBengineering Ph.D. student, demonstrated a voice-controlled wheelchair. http://t.co/6JUXv39aqW Story in The @tblucsb about the exhibition \"We Remember Them: Acts of Love and Compassion in Isla Vista\" http://t.co/kPgo2aB9QW #UCSB2015 Meet some wonderful members of the UCSB class of 2015: http://t.co/zQ0cw7wQDX #TBT Poster of 1969 #SBOilSpill, from #UCSBLibrary's Special Research Collections. Sadly, it's appropriate today. http://t.co/NVGNbiJMd9 We're upgrading stairwell by Study Bean that goes from the 1st to 2nd Floor. Stairwell closed most of the day. Sorry! http://t.co/jy0t6emJ0n Italy's #dante750 celebration includes a \"Selfie-con-Dante\" campaign. http://t.co/8ZthxlXE06 Join us 4 pm today as Chumash discuss Library exhibit Indigenous Peoples of the Americas Info: http://t.co/pVQZcu3Vkv http://t.co/IhwTnqyoOA @Cole_Cohen of UCSB's IHC to read &amp; sign \"Head Case,\" 4pm May 19, in McCune Conference Room. Cohen's NPR interview: http://t.co/L11U24Bxcc @DalesDani We're honored to be your home away from home! @Tfresh2death We'll miss you! #UCSB Students Turn to Kickstarter as Catalyst to Save Literary Magazine http://t.co/YJUTMai0S0 Humans of the UCSB Library\\nAmy Chen&amp;Anaiancy Ramirez sitting on the 4th floor of the Library studying for their exams http://t.co/0GJ0Y2tSKD UCSB's English Broadside Ballad Archive, at Early Modern Center,  mentioned in this story: http://t.co/EtVp7K1zWV http://t.co/KNd60zlv2i #TBT @UCSBengineering Building, 1967. From the Library's University Archives. http://t.co/6wUuCL6CtV Library has UCSB Lecturer Teddy Macker's poetry book on order. Story about it in The Current: https://t.co/K5RErvm4vk http://t.co/lvqj8IC65y Comment from \"Girls-in-Justice\" photo exhibit in Library (1st Floor), about girls in juvenile justice system: http://t.co/PxMSN5rndg Got a title suggestion for #academicnovel? Sample: \"The Grades of Wrath.\" http://t.co/RQM7DSmkpH Congrats to #UCSB PhD linguistics student Daniel Hieber, who won 2nd place in statewide UC Grad Slam! @dwhieb #TBT #UCSB Storke Tower under construction, 1968-69; from #UCSBLibrary archives http://t.co/KBTDZfdsNH Beautiful Exhibit located at the Arts Library. Come check it out! #ucsb #art https://t.co/wCcttOG9vX Indigenous Peoples of the Americas Exhibit located on the third floor of the Library. Check it out! #ucsb #... https://t.co/WL6qev0mN4 The Art of Science Exhibit is located on the first floor of the Library! #ucsb #ucsblibrary https://t.co/GcYJjTud1W At IV tragedy memorial exhibit, items on display are from a collection housed in #UCSBLibrary. http://t.co/dgofr8WipM http://t.co/OwAREsJS53 Help us name the new #UCSBLibrary cafe! For info, go to http://t.co/5ML0gMcMSY. http://t.co/v4dFYlOL5e #TBT UCSB basketball, 1974. From #UCSBLibrary's archives. @UCSBgauchos http://t.co/yzRwgSFL8O The Study Bean at Davidson Library will be open for 24 hours during study week and finals week during Spring 2015. @UCSBLibrary #UCSB \"Evolution of #Malware\" talk today in Pacific View Room http://t.co/ADn25BkEkO #malware http://t.co/Drvxf8wnBS Humans of UCSB Library:\"The eighth floor is my favorite because it has scenic views.That’s my main study spot.\"Emily http://t.co/wWvvZVc5GZ READ Nepal To Help Earthquake Survivors http://t.co/5SpCRL34kB Thanks to all contributors to Prison Library Project for #UCSBReads. We collected 346 books for prison inmates! http://t.co/w9jhf4HUU8 #UCSB CS Professor Giovanni Vigna is giving a free talk on the evolution of #Malware next Tues at 4pm at @UCSBLibrary http://t.co/IzGR4jBG5y UCSB K-POP Exhibit on the Eighth Floor  #ucsblibrary #ucsb #kpop https://t.co/A5xJEKSLtj Author of 'Travels of a T-Shirt in the Global Economy,\" 2008 UCSB Reads book, in NPR story: http://t.co/1I4EjrAGfP http://t.co/Q7xKJvAs3g It's Earth Day every day at #UCSB! Greenest Public University in U.S.: http://t.co/hVxIouVuOl http://t.co/MTUjJBqAr9 Go #UCSBGradSlam-mers! The Library salutes the winners and all who participated. https://t.co/Y8XKBg3bIT It's popped up on #UCSBLibrary's 8th Floor: exhibit about K-pop (Korean popular music): http://t.co/5tJ4qzRdZG http://t.co/TiKXROzrCk Reception today to announce \"Art of Science\" competition winners, 4:30-5:30 in Elings Hall. Info: http://t.co/OprodICfhE \"Special Collections,\" indeed: Preserving the Ghastly Inventory of Auschwitz http://t.co/19atgAfcC3 Short-term cataloging job opening in Special Research Collections: http://t.co/DkPBmN2oiz office for the day. Please see my receptionist at UCSB Library\\nBldg. 525 UCEN Road\\nUniv. of Calif\\nSB, CA for an appt. http://t.co/zN6CqnszvE @kcgoslin Thanks for coming! Emma London, Jordyn Napier &amp; Devyn Napier 1st in line to see Piper Kerman at #UCSB  @JordynNapier @apathysmyenemy http://t.co/3uSjoz6TqW Pic of @AS_UCSB Pres. Ali Gunthy waiting to hear Piper Kerman, author of Orange Is the New Black, 4/15 http://t.co/3lSowXg6rf @AS_UCSB President Ali Guthy waiting to hear Piper Kerman, author of Orange Is the New Black, at Campbell Hall 4/15 http://t.co/ohYG0oGQyy #UCSBReads @Piper Kerman, author of Orange Is the New Black, was a hit at UCSB 4/15. Photos: http://t.co/NSZuPObdZc http://t.co/E9DF0XcMD0 #UCSBReads 'Orange Is the New Black' author @Piper Kerman. 8 pm today. Campbell Hall. Free. Don't miss it! http://t.co/e8js34prqr @ELedesma75 Great pic! View from the top floor of the library. @ UCSB Library https://t.co/E5LGmuNhTR #futuregauchos took tours of the Library at Spring Insight, including @mariannesimpson, with her Dad, David. http://t.co/zTfbuAKbrR Performing Arts Librarian Leahkim Gannett setting up K-pop Material Culture and Global Fandom exhibit on 8th Floor. http://t.co/8aOZ0N7zTm @Art1AUCSB @juvenileinjust Thanks for sharing about the exhibition! Be sure to check out the comment book -- reactions are moving. We're hiring!: https://t.co/0062LgZugi Learn about #RichardRoss &amp; @juvenileinjust here http://t.co/eei5M3LCYI &amp; exhibit @UCSBLibrary http://t.co/9hNZVqZO6I http://t.co/rFujEsvjGG Congrats, @UCSBModelUn! UCSB MUN Wins Award for Second Year http://t.co/kW9Eh54jnG #TBT \"Reception for Students' Wives\" wouldn't go over as well today as in 1964. (From Library's Special Collections) http://t.co/7HiGxXrZ5q Grad Students Enjoy Happy Hours at UCSB Library’s Wine and Cheese Reception http://t.co/i3lIIhpntt #UCSB Join us for UCSB Reads/Writers' Cafe panel, \"Writing from Life,\" 4-5:30pm today in SRB. http://t.co/J0zXv17v40 http://t.co/38D7IOQaOR #UCSBReads @piperkerman How to Help the Growing Female Prison Population | MIND Guest Blog, Scientific American http://t.co/Og00hj7Ruk Sara Miller McCune's $5M donation to #UCSB includes $2.5M for #UCSBLibrary. http://t.co/0Lszb3KNw9  #sograteful http://t.co/sEKDl2T1yk March Madness over; Grad Slam has begun! Prelim today (Tue) 3-4 in #UCSBLibrary http://t.co/3Niu3TU9uC #ucsbgradslam http://t.co/PNiYGL7GMM @yay_yay_yxey We're excited too! Come \"home\" anytime! #ucsbreads Interesting LA Times piece: Strip-searches will keep helpful visitors, not illegal drugs, out of prison http://t.co/5JCHmBg0Iv Free #UCSBLibrary Wine &amp; Cheese Reception for grad students today! (4:30-6:30 pm, Mary Cheadle Room, 3rd Floor) http://t.co/YbbDywiSa8 Explore @UCSBLibrary's Vernacular Wax Cylinder Recordings, a collection of 700 recordings from 1890s-1920s: http://t.co/mjQgdBqkwT Off-Campus Access to Databases Is Now Easier #UCSBLibrary http://t.co/a74E4m8giu Congrats to #UCSB's Harry &amp; Sandra Reese for book award: http://t.co/B7BHLM8hjq We have many of their artist books in Special Collections. Tonight, Goleta Library, Merith Cosden takes part in a panel on Orange Is the New Black. http://t.co/DKU8V6Xrf9 @UCSBLibrary #ggse UCSB Bren School Student Writes Children’s Book About Climate Change http://t.co/7THN80XCS9 Get a sneak peek of UCSB Amplified, debuting April 6, live series to showcase #UCSB's music scene: http://t.co/H4jxj6bqpk  #ucsbamplified Happy National Poetry Month! http://t.co/Ij4HEdc8uc #npm15 http://t.co/PMUR2xyCmR @FabulousMissEm So glad we could help -- thanks for the kind words! @SallieHanAnthro Thanks for sharing the news! #UCSB welcomes the editorial offices of the journal Mexican Studies/Estudios Mexicanos to campus. http://t.co/sqHHt3Byjo Welcome back for the new quarter. The Library was so EMPTY when you were gone for spring break! http://t.co/Rx75fybTZb A Grander Grad Slam: http://t.co/2pDKuCquaA #UCSBLibrary to host preliminary round, 3-4 pm Tue, April 7, in Pacific View Room (4th Floor) This is a drawing on a chalkboard in a Library group study room this week. Can you tell it's spring break? http://t.co/59XgYJp5rn Check out Holly D.'s review of UCSB Library on @yelp http://t.co/aPTEP7tqF1 @NoozhawkNews Thanks for sharing the news! @Edhat Thanks for sharing the news! @CharlotteRock Yes, we are lucky to have Sherri Barnes at UCSB. She's a terrific resource in so many ways. Learning about awesome things happening @UCSBLibrary #acrl2015 #ScholCommCamp http://t.co/EfZtNb1fB2 @CharlotteRock Thanks Charlotte! Big honor for #UCSBLibrary: Library's Wax Cylinders Added to National Recording Registry http://t.co/VOhlaqyg1E http://t.co/NM16WjenPi Recess Hours in Effect at #UCSBLibrary during Spring Break (March 21-29): http://t.co/UzsJ78zEr2 @MandaPandaRawrr Yes, I believe this was just announced. And yes, it would be a sell-out anywhere! @_Rivera97 Looking forward to seeing you in the #UCSBLibrary! Kim &amp; Jack Johnson to receive #UCSB Distinguished Alumni Award; event April 24. http://t.co/HO6oC6fPrl http://t.co/YU0zzV9WV5 For stressed students: 'We must have a pie. Stress cannot exist in the presence of a pie.'  -- David Mamet http://t.co/Lhjq8xNmUJ Tonight, Carp Library, Jill Sharkey takes part in a panel discussing Orange Is The New Black http://t.co/JklYKH1XOK @UCSBLibrary #ggse @maui_powwow SO GLAD you're coming! #futuregaucho @kasideefuller Congratulations! We look forward to seeing you in the Library as a #futuregaucho @IvanAlexDiaz We hope you'll join us -- you'll have a gorgeous new UCSB Library to study in if you go the #futuregaucho route! @ManuelSPV_ Congratulations! We look forward to seeing you in the Library! #futuregaucho @GraceBurgesss Welcome, welcome to your dream. Come visit us in the #UCSBLibrary. #futuregaucho @sadpauline @ucsbadmissions Hope to see you in the #UCSBLibrary -- you can cry all you want here! #futuregaucho @jocelin_jay @ucsbadmissions Dream schools do come true. Please visit us in the #UCSBLibrary! Kind words from #UCSB students to one another, from whiteboard on #UCSBLibrary 4th Floor. Hang in there, everyone! http://t.co/ItMQ2aEq7D Hi all you Gauchos of the future! Congrats -- can't wait to see you in the #UCSBLibrary. Visit anytime -- we're open 24 hours! #futuregaucho #UCSBLibrary full of students flipping flash cards for #finals, like Roxanne Betcher, shown here. Good luck! #UCSB http://t.co/4cKHqkdqrc 2,000 cylinder recordings preserved and available online - great insight into popular music at turn of 20th century http://t.co/841dI7KNeA UCSB Library exhibition explores indigenous heritages and identity http://t.co/N1LtAti68C @_lex33 Spend as much time here as you need -- sorry we can't accommodate the shower request though! #TBT Glee Clubs at UCSB, from the 1924 \"La Cumbre\" yearbook. http://t.co/qKzSPjVREV Terrific @SBIndpndnt column by @StarshineRosheL on @Piper Kerman, author of #UCSBReads book Orange Is the New Black http://t.co/uZqxEdLc62 @hailsishere Thanks for spreading the word! #UCSBLibrary construction update: Special Research Collections starting to emerge, 3rd floor of new addition. http://t.co/hgndkbK9Yy Thank U, Study Bean. #UCSBLibrary's coffee &amp; snack spot will be open 24 hours during Finals. #UCSBcaffeinesource http://t.co/b58Hj4sxAN Cast Your Vote in Art of Science Contest: Lipids, chemical waste, bones, and dirt: Beautiful! These are just a... http://t.co/SOqHaCZcKf On Exhibit: Art in Prison: Combine M&amp;M’s, Skittles, coffee, and toothpaste, and you get … paint. In prison, ar... http://t.co/XVdMYDkXMu #TBT UCSB aerial photo 1928 vs. UCSB aerial photo 2001. (From  #UCSBLibrary's Map &amp; Imagery Laboratory) http://t.co/4iYAVXXt7z Scene from yesterday's Chumash dance ceremony to open the Library exhibition \"Indigenous Peoples of the Americas.\" http://t.co/WlLUXE9IJo Billi Jo Starr one of a panel of experts discussing “Prisoner Re-Entry” today @UCSBLibrary 4pm http://t.co/PLEfkdceqi @OITNBinfo #ggse March 'Crossroads' E-newsletter Available: The March 2015 edition of \"Crossroads,\" the Library's new e-newslet... http://t.co/M75YAyOawz March issue of \"Crossroads,\" Library's e-newsletter, available here: http://t.co/u03eZaCvd3 http://t.co/k0TBpXIvf1 4 pm today, Chumash dances outside #UCSBLibrary to open \"Indigenous Peoples\" exhibit http://t.co/e2ExmnEDz5 http://t.co/HXgt3igaPi ‘Indigenous Peoples’ Exhibition to Open with Chumash Ceremony (Tue., March 3, 4 pm): To honor the spirit of th... http://t.co/jq3JLDn4Rf I have no doubt that we have the best @UCSBLibrary in the state and probably in the country. #gauchopride @Henry_J_Medina Thank you! UCSB alum Joel Monteleone won wine, UCSBReads book for subscribing to Crossroads, Library e-newsletter. http://t.co/39fq4Hanmb Thx to attendees at #UCSBReads15 Restorative Justice panel, esp. @GGSEucsb students who came to hear Joaquin Becerra http://t.co/H47ivS2G5s @UCSBLibrary Today: Joaquin Becerra part of restorative justice panel, part of UCSB Reads http://t.co/Rgzojljyhu @OITNB @UCSB_Dept_of_Ed \"Looking into the Light\" article: Prof. Schuller's grant supports Art of Science, w/entries on display in Library. http://t.co/S5tP8rlnKa UCSB Reads panel discussion today, Feb. 27: \"Restorative Justice.\" 12-1 pm. http://t.co/8nUvCdBXx0 http://t.co/Lg0fyFOxFh #tbt Campbell Hall, undated photo (obviously in a more undeveloped stage). From #UCSBLibrary's Special Collections. http://t.co/jPleFizGWz Help wanted: California poet with stellar resume http://t.co/f6Xz8woW9A Lydia Davis in Residence at UCSB: http://t.co/lvtZ9hRea3 #UCSBLibrary has several of her books! \"Researchers, university press directors emboldened by Mellon foundation interest in academic publishing\": http://t.co/19HjmrDVvS Massages in #UCSBLibrary from noon-2 p.m. canceled today (Tue., Feb. 24). They'll return next week. Story in \"The Week\" about Piper Kerman, author of this year's UCSB Reads book, \"Orange Is the New Black\": http://t.co/A1XtNyxC5t Bring jacket to #UCSBLibrary 7:30 am to 1:30 pm Sat., Feb. 21. Four-story building will not have heat, hot water due to planned gas shutoff. @Ansel_berg It's scheduled to be done in October. (Although we're talking abou tconstruction, so timing is always subject to change!) #tbt UCSB computer lab in 1978. Anyone know what the keys are for? (photo from #UCSBLibrary Special Collections) http://t.co/6P8ff3Upox Art of Science Contest deadline Fri., 2/20. Winning images to be on display in #UCSBLibrary. http://t.co/aoRNtRpa3e http://t.co/7KM6CiF72l #IGNITE (Invest in Graduation, Not Incarceration, Transform Education) &amp; #UCSBReads event: http://t.co/DU7D6MPWCh http://t.co/YBg01wQam5 Generous donor http://t.co/rbghPAeZDg #UCSBLibrary to host WikiTurgy Wikipedia Edit-a-thon for inclusion in American theater. http://t.co/K5uV3cyJrB http://t.co/inZicjL3Aw #UCSBLibrary open Presidents Day: 10 am-midnight Davidson Library; noon-10 pm Arts Library. http://t.co/pk8Y0dYDzf http://t.co/JUNBfOJfs4 V's Day song from Cylinder Preservation &amp; Digitization Project: http://t.co/bcteRbyKxz A Lemon in the Garden of Love http://t.co/10GDAPenXI Story in The Bottom Line @tblucsb re Richard Ross, whose photos are on display in Library. http://t.co/3BiTRHAFIX http://t.co/IjQ5mC8O0q #tbt Dalai Lama &amp; Chancellor Robert A. Huttenback, 1984. From #UCSBLibrary's Special Collections. http://t.co/1nbSR6oLSt A balmy Santa Barbara welcome to palm trees planted in front of the Library's under-construction addition/renovation. http://t.co/AuBTB1JuH3 \"Learn to Share Maps on the Web with ArcGIS Online\" in a class at the Library on Thu., Feb. 12: http://t.co/5BKO6kqKRf Registration open for Grad Slam Competition. Preliminary in #UCSBLibrary Pacific View Room. http://t.co/R37iLgrLLm http://t.co/oalySEFWJg Books under consideration for 2015 Andrew Carnegie Medals for Excellence in Fiction and Nonfiction announced: http://t.co/ynTyxbvUAc Come see the canoe, a Chumash vessel called a tomol, in the Library (1st floor). More info: http://t.co/CAFY0LgLR4 http://t.co/2krnCQqoNm Ford Foundation Requires Creative Commons Licenses for Funded Projects http://t.co/Af10zOhlQX 8 @UofCalifornia campuses rate among nation’s top 'Colleges that Pay You Back' by @ThePrincetonRev http://t.co/qM3hAbCz1x #PowerofPublic Silence during midterms is golden. #UCSBLibrary offers free earplugs at the Reference Desk. Just ask for a pair. http://t.co/2xYSbadNUL #tbt Circa 1910, child actors in costume at Flying A Studios in Santa Barbara. From Library's Special Collections. http://t.co/MkZXkjQSBC UCSB Current story about Library's Turkish music collection includes video: http://t.co/aZ73OWE6T1 Art Professor Shares Images of Jailed Youth as First Event of UCSB Reads 2015 http://t.co/MOKoOv2f3Q The Feb. issue of Crossroads, the Library's new e-newsletter, available here: http://t.co/uHMGuvC8JP http://t.co/QXZMk1GX9x Harper Lee, Author of ‘To Kill a Mockingbird,’ Is to Publish a Second Novel http://t.co/rYsrDhRBhK Art Prof. Richard Ross' talk \"Juvenile-in-Justice\" 4 pm today, Feb. 3, at #UCSBLibrary  http://t.co/Yxg86MKlDP http://t.co/kodrng4Lao It's time to be studious and go to the UCSB library. UCSB Hackathon Draws Participants, Sponsors From Across State http://t.co/0dS8Iqlk25 Happy #GroundhogDay! #UCSBLibrary, of course, has a book about it. Call # is GT4995.G76 Y63 2003. http://t.co/FzoTshV1lX Donate books to CA prisons for #UCSBReads. Boxes in Davidson, Arts libraries. http://t.co/06l2KSrAsj http://t.co/EoKBFYT0lt ‘Orange is the New Black’ author tells J&amp;W audience she plans new prison books http://t.co/c6CozujHJz #BeautyOfTheDay @ UCSB Library http://t.co/SoLFfnTwZb #tbt \"Children on the Beach,\" Santa Barbara picture postcard, 1900s-'50s. From #UCSBLibrary Digital Collections. http://t.co/dOGF9XyloJ Winter Career Fair by @UCSBcareer Thu., Jan. 29. Ever think about a career as a librarian? #UCSB #UCSBLibrary http://t.co/MaLwhJwVPu #UCSB recognized as Hispanic-Serving Institution by Hispanic Association of Colleges &amp; Universities @hacunews http://t.co/VMezYMiXe0 @dereklicious Glad we can help! Article features UCSB Prof. Richard Ross; his \"Girls-in-Justice\" photos on display in Lib. http://t.co/OHDNjfVOwN #UCSBReads Tune in KCSB 91.9 noon weekdays to hear readings from @piper Kerman's Orange Is the New Black #UCSBReads http://t.co/GeTJW3v7Ky @UCSBLibrary Thanks for following. The UCSB Library has been one of my favorite places in the world since 1978. Added you to a UC list! Lit Club @ucsantabarbara is reading Orange Is the New Black. Thanks for joining #UCSBReads, Lit Clubbers! http://t.co/JvCTzdI2JC Win $30 Amazon gift card! UC's California Digital Library @CalDigLib  seeks feedback on new website. Details: https://t.co/gHQEsJht95 UC was a co-defendant in this case: https://t.co/fLOk0L4Zgm #tbt UCSB botanist Dr. Katherine Esau with an electron microscope, circa 1970. She won a National Medal of Science. http://t.co/5juv43hgr5 Plagiarism Prevention Workshop, 4-5pm today in SRB Multipurpose Room. \\nPizza will be served. Co-sponsored by Library. http://t.co/Sssz17irxp For #UCSBReads and @BookCrossing, we released \"Orange Is the New Black\" into the wild; i.e., on a UCEN chair http://t.co/dh1F8k6GJm The #UCSBReads book, \"Orange Is the New Black,\" is on sale at the UCSB bookstore, for 25% off! http://t.co/IwAomTVQFi Massages in the Library from 12-2 have been canceled today (Tue., Jan. 20). The free massages will return next week! #delayedstressrelief Give new life to old books! http://t.co/sHusZw79RV DLG, the early days. #tbt (from the Library's Special Collections) http://t.co/7bkzgXI5yA To kick off #UCSBreads, Chancellor Yang will be in Library lobby at 10 a.m. today, Jan 12, to hand out \"Orange Is the New Black.\" Join us! UCSB Library has published its 1st e-newsletter! Check out the first issue here: http://t.co/HSPNLBOJyI http://t.co/SlUJrOojL1 @MandaPandaRawrr Yes, or black leggings paired with any sort of UCSB sweatshirt! \"Gaucho Guide,\" 1962-63, from the Library's Special Collections. Do any students at UCSB wear dresses anymore? #tbt http://t.co/k9wZWfZjYI Green is good! UCSB Ranked Third in Top 50 Green Schools http://t.co/BhywswArqt School is hard: You deserve a massage. Free student chair massages in the Library noon-2pm Tuesdays. http://t.co/W9HkgXs9Ox Welcome to the Winter Quarter, everyone! #UCSB #backtowork Library reopens post-break at 1 p.m. Sat., Jan. 3, but due to planned power outage in morning, call to make sure http://t.co/O8ACNrtuYE Twas a great night of spoken word! Review of Kip Fulbeck’s Student Show “Speak Now or Foreve… http://t.co/zREYEgt5LO VIew from the UCSB Library https://t.co/3lavX15uUg #SFin5Words Recess Hours in Effect Through Jan. 4: Recess hours are in effect until the beginning of the Winter quarter (J... http://t.co/D1T4wBrmAM Overnight Study Access Requires Newest ID Card | UCSB Library http://t.co/gDfwyJIBus 5 Questions with an Overnight Davidson Library Custodian http://t.co/atlqXbiRYH #tbt Murals of Aztec deities at Royal Chicano Air Force show at UCSB, 1973 Photo: #UCSBLibrary Special Collections http://t.co/gMMh2pWvwN \"The Finals Week Feline\" showed up in the Library today to cheer up bleary-eyed #UCSB students. http://t.co/J3xEY1UXgi \"To Sleep, Perchance to Dream,\" new book by @UCSBHistory Prof. Ann Plane, is in Library http://t.co/3nY8xKSLDa @UCSBHistory Prof. Ann Plane's new book is in the Library: To Sleep, Perchance to Dream http://t.co/3nY8xKSLDa Chillin in the UCSB library watching a bunch of 20-something's crack under pressure #wheresthepopcorn @TheWonderEars Sweet dreams! Congrats: UCSB won a UC Multicampus Research Programs and Initiatives award, led by @brenucsb Prof. Gary Libecap. http://t.co/2ittDZuGDL When the Archive Won't Yield Its Secrets http://t.co/KnTawuz1gW @MiloAlohi We’re getting more in the new building! We're also doing an audit of power in current buildings and will add more there, too. The UCSB library is almost as packed rn as when @KingCob4Four performed on tour at Madison Square Garden. #TheBigShotTour @Merrrr_love Thanks for \"livin' in the Library\" with us! Happy b-day, Donald Davidson! Univ. Librarian 1947-77. Library named in his honor. Born 12-11-1911 #tbt http://t.co/YBZxGORxDD Thanks for the memories, grad students! http://t.co/2d0kopICyQ Thanks for the memories, grad students! http://t.co/2d0kopICyQ http://t.co/DaSne49nHc Flu shots for students in the Library today, Tuesday, Dec. 9, 1:30-3:30. @RosaayJ Be sure to get some sleep! :) @ScarletOharaa Glad to have you with us! \"Speak Now or Forever Hold Your Piece\": Kip Fulbeck's Spoken Word class, 7pm Thu 12/11, Multicultural Center Theater http://t.co/qbEm6ChyvC UCSB faculty: Please request course reserves for winter quarter by Fri., Dec. 12. http://t.co/MLpR1jtmnW successfully procrastinated to the point where we could tell you exactly where the demonology section of the UCSB library is 😂 @WhosEmmaStone Hi, just wanted to point you to the Library's public space policy http://t.co/luAsl1IHvK We so appreciate a formal request! @RosaayJ Glad we're a motivator! Historic atlas shows change over time with cutout overlays @ucsblibrary #Map &amp; Imagery Lab http://t.co/iFTxKOreF5 Please be well. Flu shots in #UCSBLibrary next Tue. Dec. 9 for students. Info: http://t.co/AAcnZQJAnh #fightflu #tbt @SanNicolasHall under construction in 1965/San Nicolas Hall now (1st photo from Library's Special Collections) http://t.co/xA8JRF2xLg Water in the Library! (to drink). Two eco-friendly hydration stations with bottle fillers installed. #noplastic http://t.co/loGoBFqGmp UCSB archaeologist uncovers issues of gender inequality in archaeology journals: http://t.co/1vKMR6cO1M What a find! Shakespeare Folio Discovered in France  http://t.co/GtEXXSs9UL From @pastemagazine, 10 American Authors' Homes Worth Visiting: http://t.co/uEcMB7DTcI Access to Electronic Resources Disrupted (Fri. Nov. 28, 6-10pm) | UCSB Library http://t.co/ANCpqVxqTd Due to a campus-wide power outage, the Library will be closed from Wed., Nov. 26 at 5pm until noon on Sat., Nov. 29. http://t.co/H3r6mPctIR MT: They read! The Habits of Highly Productive Writers http://t.co/ySOJ6BTjgC via @chronicle Taylor Beverage and Mary Hilligos won $50 @UCSBBookstore giftcards for filling out #UCSBlibrary website survey. http://t.co/eSikBY7Ujj @JayTundra Gorgeous pic! @sairs24 Glad you're enjoying it! Extended Building Closure for Thanksgiving Holiday: Due to a campus-wide power outage, the Library will be clo... http://t.co/zAxZA8W6hD Watch a time-lapse of the UCSB Library Addition &amp; Renovation Project over a year: http://t.co/KmmUx0kuwC via @YouTube #tbt Aerial view of UCSB,1953, when it was a Marine base and not UCSB. From @UCSBLibrary Special Collections. #UCSB http://t.co/o5ppahT73d @UCSBLibrary has a great new book Anthropocene book display up, check it out: http://t.co/8v7tIwhHhw Prof. David Cleveland video on \"Balancing on a Planet\" at Pacific Views Speaker Series: http://t.co/E6GHEwSVhZ #UCSB Full room for Pacific Views Library Speaker Series w/ #UCSB Prof. David Cleveland. More pics: http://t.co/nXJRsnQ2CI http://t.co/YfAuc7TrYY @Merrrr_love Great pic! Congrats to UCSB professor W. Patrick McCray for his book award from the History of Science Society http://t.co/JWSKqMHv4q @hssonline Prof. David Cleveland talk on \"Balancing on a Planet\" is today, 4pm, at Library. His book's on sale @UCSBbookstore http://t.co/LqyVx0hDnW What would you choose as the 2014 Word of the Year? http://t.co/f3gTKTItr2 http://t.co/9b2r9WweXb We've got a book for #UCSBreads! Orange Is the New Black @OITNB by Piper Kerman @Piper, set to speak Apr. 15 at UCSB http://t.co/p6uSdgwwoG Can local food slow global warming? Check out Prof. David Cleveland's talk and try local foods this Tues @UCSBLibrary http://t.co/e68KOTQM5J Anne Lamott was in SB for a good cause. http://t.co/iZ5dDrQQNq Foundations for the Future http://t.co/Q0ZJHs9E9Y @MandaPandaRawrr Thanks for noticing that! Not sure why it didn't include the link to our FB page: https://t.co/UQdCTSWbDE #tbt UCSB fashion and hair in the fabulous '80s. From UCSB Library's Special Collections. Propose An Exhibition: Do you have an idea for a Library exhibition? The Library has several exhibition spaces... http://t.co/RmbUL6t2dF Goodbye Paper Forms; Hello Special Collections Research Account: The Library has launched a new, personalized ... http://t.co/SZpPOs3wnp Is it possible for an anteater to be adorable? http://t.co/a3x07MjVAy @UltraKelsey Hang in there! The UCSB Libraries will be open on Veterans Day (Tuesday, Nov. 11), but will follow a holiday schedule:... http://t.co/jtIHSx2cKi @Henry_J_Medina Hard-working scholars deserve great scenery -- enjoy the views on a break from studying! Thanks to the person who gave a shout-out to UCSB Library in the \"Requiem for a Bibliophile\" exhibit at SB Museum... http://t.co/h58g72h61a AB 609: California Leads on Open Access to Publicly Funded Research http://t.co/jx2CDRoCoF Library Hours Will Vary for Veterans' Day (Tues., Nov. 11): Holiday hours will be in effect for Veterans' Day ... http://t.co/HP270OS9Ix \"These records don't just turn up in stores,\" said Jonathan Ward, spinning rare African pop 78 rpms, a highlight... http://t.co/NwCHgMBCIX #tbt Greek Week Billboard Contest at UCSB, 1968. From the Library's archive of UCSB photographs. http://t.co/Nj2xup40Lg Join us for African pop music, food and more to celebrate the \\nImages of Africa exhibition in Special... http://t.co/mAM9TgvZEz Chomp Halloween chocolate with a tad less guilt. A study says an antioxidant in it might help your memory. UCSB's... http://t.co/oBiRgCvdJ1 It's time to finally start writing that novel. CLAS can help with events for NaNoWriMo (National Novel Writing... http://t.co/Hj5Sdf4HrE Inspiration and Perspiration http://t.co/n70vfFnIrX At the library balcony. Getting ready for #midterms #SantaBarbara #NoFilter #MathLove @ UCSB Library http://t.co/A3FNCvFo1B Discussion was lively at Thursday's \"Survival of the Fittest: The Brave New World of Scholarly Publishing,\" with... http://t.co/7WQE5uPEiG #tbt The Klasson twins hang out in their new UCSB dorm in this undated photo from UCSB Library's Special... http://t.co/GhSyY25L5e We'd love to see one of these ducks in the Library! http://t.co/FnRbMTlEG4 http://t.co/1hKbj2A67V Word of the day: \"Altmetrics.\" UCSB Librarian Chuck Huber spoke about them -- alternative ways to measure... http://t.co/02HYW2AghI Cylinder Preservation and Digitization Project - The David Giovannoni Collection of Home... http://t.co/GRE44PVYpr @nickuhroo UCSB students have priority access to Library computers. But we're a public U., so some are open-access: http://t.co/Y1F79OyO8O @lions_leon1984 We really want to be responsive to concerns about our space and services. Please give us feedback at http://t.co/CEiWcHmZcu @traviswccooper nice view! Check out the view from the grad lounge in the top of the UCSB library: http://t.co/mXvRw19cTY @dmcconeghy @traviswccooper Glad you're enjoying it! @Tiffanymikachu Great photo! Open Access Week continues with a talk at 4 p.m. today, Monday, Oct. 27, on \"Altmetrics: New Ways to Evaluate for... http://t.co/TaQ1YJo0s8 UCSB fashion show: http://t.co/jAkn6fDqrv http://t.co/XKvKz26hUd Welcome UCSB Parents &amp; Families! Thanks to the 85+ of you who joined us this morning for library tours. http://t.co/MraeSQR6YF Another \"Little Free Library\" for your I.V. reading pleasure. http://t.co/iGK0RyhYm1 Davidson Library is literally my second home #tbt Parents Day at UCSB, 1968. From the Library's Special Collections. No idea what they're looking/pointing at! http://t.co/IUavUBBagf Publisher Profit Explained http://t.co/8EAUxIJNuc Another literary honoree! Author and human rights activist Stella Pop Duarte will receive UCSB’s annual Leal... http://t.co/O8c6BGQrCd Academic publishers like to play monopoly with journal subscription prices, UCSB econ professor Ted Bergstrom... http://t.co/DwLyLA6PHX @DamnIt_Steven Hey Steven, we'd love for you to take our website survey. Please tell us what we can do better! http://t.co/41RRn9xC35 Athought from today's Open Access Week webinar (pictured): What are the costs of keeping scholarly info about a... http://t.co/ypzBnSudRS Lunch and learn: Kick off Open Access Week with an \"Open Generation\" (grad students, that's YOUR generation) live... http://t.co/J4cvzbrlX2 Kick off Open Access week with a \"Generation Open (that's YOU, grad students) live webcast from the World Bank at... http://t.co/7HSDGFmbHh Open up! Open Access, a movement that promotes unrestricted sharing of scholarly resources, has a week devoted to... http://t.co/cq08ubchXd Well, it's not World of Warcraft, but in this undated  #ThrowbackThursday photo from UCSB Library's Special... http://t.co/jpNsUANeQ4 Finalists for the 2014 National Book Awards were announced today on NPR: http://t.co/htW3dAzkgD. Winners will be... http://t.co/mvGH3BxXRa You could WIN a $50 UCSB Bookstore gift card by filling out our online UCSB Library website survey. What changes... http://t.co/Q5EG134WaK Congratulation to Jean Tirole of France, who has has won the Nobel Prize in Economics for \"his analysis of market... http://t.co/YCpiAzwo2v FREE T-SHIRT! We have four Banned Books T-shirts to give away like the one below. Send us the name of your... http://t.co/NTzQRaCxlJ Yes, UCSB used to have a football team. This photo, archived in the Library's Special Collections, was taken... http://t.co/nGXtoXUdP5 Patrick Modiano of France has won the 2014 Nobel Prize for Literature. Much of his writing is about the Nazi... http://t.co/4lQDO82XBT The Library seeks comments and suggestions on its draft Strategic Roadmap from the UCSB community by October 31,... http://t.co/hCajBPaskT Congratulations to UCSB Professor Shuji Nakamura for winning a Nobel Prize! #gogauchos #LED http://t.co/r0JqwtNvGe Info from Counseling &amp; Psychological Services for the entire UCSB community http://t.co/k5QUyw2kE7 Kimberlyn Tortoledo is the winner of a $50 gift card in Tuesday's Library passport drawing. Congratulations... http://t.co/jWa0tYfPsw Congratulations to Wednesday's Library passport winner! Zhen won a $50 gift certificate to the UCSB Bookstore. http://t.co/LXSYbP6J24 You'll just have to attend this sexy librarian cocktail gig at the Museum of Contemporary Art SB to see if the... http://t.co/SoEhnmW2Qh .@UCSBLibrary &amp; @US_IMLS have made 10,000+ cylinder recordings from 1890-1928 available online: http://t.co/QqDimPSbQ7 via @wwoz_neworleans Alison Bechdel is one of the first cartoonists to be recognized with a MacArthur Fellowship. You can find her... http://t.co/9HkRIpOQOM Congratulations to Monday's Library passport winner! Joe B. won Monday's drawing for a $50 UCSB Bookstore gift... http://t.co/kdQ3co9a2A Library Hosts Table at Graduate Student Orientation, Oct. 1 | UCSB Library http://t.co/NiaKdNJVdQ Library 'Week of Welcome' Program: 9/29-10/1 | UCSB Library http://t.co/IF4nxdc4w8 43 Library Employees Recognized for Innovative Work | UCSB Library http://t.co/CisJhDPPzH We have four Banned Books tee shirts to give away like the one Librarian Jane Faulkner is wearing in the photo.... http://t.co/J7juBuToKT http://t.co/sR3TBkdDcv Captain Underpants author Dav Pilkey celebrates Banned Books Week with this video of what to do if you're... http://t.co/tx3KsvQOfZ new fire alarm system being tested this monday-thursday, 8-5pm. expect to hear beeping &amp; see flashing strobes. no... http://t.co/KsAdLxo7cH The hydration station on the first floor has been replaced with one of these newer, sensor kinds http://t.co/AvSIecHB8w All of the library's upholstered chairs &amp; carpets are being deep cleaned to get ready for the start of fall... http://t.co/bPK9rKvD4v Congratulations to our new EVC, David Marshall http://t.co/HdhZKSqd01 Recess Hours in Effect (Sept. 14-Oct. 1, 2014) | UCSB Library http://t.co/sojmPb6CqO Read This Before This: 10 Great Books Based on Other Great Books http://t.co/hVt2PU6w2w Starting today, you can sign up for a Special Collections Research Account and place requests for Special... http://t.co/hdsPs5vnru Man Booker prize shortlist 2014 includes US authors for the first time http://t.co/Mo3wXUHYEP UCSB up to #10 public nat'l university in US News #BestColleges rankings. http://t.co/wR8wCojEtb http://t.co/dIQmAUXOdO This is the LAST stretch of stack/floor closings - yippee!. Once the fall quarter starts, the construction will... http://t.co/ZmcxWuG58T where do you read? #ireadeverywhere http://t.co/NmEooAb68T We've added new materials to our artists book collection, including the funnily-titled \"How to transition on... http://t.co/iHXqmSwNSj New exhibition in Special Collections - http://t.co/QBmFh3B7ZM Some audible and non-audible (flashing strobes) pre-testing of the new fire alarm system will take place... http://t.co/W23QVscH3x what the heck is a geospatial data curator? we attempt to answer... http://t.co/amTdOLQnEM students doing cool things with campus data http://t.co/sZkcE9Ahvk The Beloit College Mindset List 2018 provides a snapshot of the cultural touchstones that have shaped the... http://t.co/HUrW4mWRsj 18 more library employees just graduated from CERT (Community Emergency Response Team) training, helping UCSB... http://t.co/xgn12z77af In preparation for the Oct. 10 A&amp;L appearance by Simpsons creator Matt Groening at the Arlington, we dug through... http://t.co/QKEiNUYx6G Ferguson Library Becomes Oasis of Calm Amid Strife http://t.co/RRKsNYhEQz spotted outside the library. btw, we do it for free. http://t.co/UszE9JHn3s The @UCSBLibrary Dept of Special Collections brings a massive discography of historical recordings to the digital age http://t.co/n1qjMT3VcM The Library Tower’s Fire Alarm System will be tested this Wednesday, Thursday, Friday and the following Monday... http://t.co/zmvenqUy8e 30th Annual Antique Phonograph, Music Box, Mechanical Music, Coin-Op, Antique Radio and Record... http://t.co/DOvbEfvbDn Check out our new sensor-activated hydration station on the 5th floor http://t.co/4h36CVSrwX #1: Learn to use the library....good thing there are tons of librarians at UCSB Library to help ya'll do just... http://t.co/6hWV3uK05B New Display in EGSL on UCSB Student Activism | UCSB Library http://t.co/eIKrQKBigj Have you seen our new Quiet Floor signage on floors 5-8? Shhhh! http://t.co/dCEN7QD10B 17 UCSB Library employees just completed CERT (Community Emergency Response Team) training, with 15 more to follow in August! Go team! Congratulations to these Library employees who were recently recognized as \"Living the Value\" of integrity, one... http://t.co/nyaAT6ACCl First peek inside the 3-story addition! Woot! http://t.co/vJNxBi0hnn Floor 2 South (in the Library's 4-Story Building) to Temporarily Close | UCSB Library http://t.co/Ufto7v7iTx Looking for a book to read this summer?  Stop by the first floor of the Library (across from the reference desk)... http://t.co/m38KdIGyi6 Only two weeks left to view this exhibition in Special Collections on the Library's 3rd floor! http://t.co/m0I4wO5des What are you reading this summer? Come check out a display of staff picks in the library. A Note for Special Collections Researchers | UCSB Library http://t.co/KgRYG8I35c Today, University Librarian Denise Stephens participated in a topping off ceremony with our construction firm by... http://t.co/iOHd3Oz4RS Featured Collection Item: Manuscript Bible, c. 1297 | UCSB Library http://t.co/ADd9CJcchm Congratulations to Amy Oberholtzer. She was one of many graduating students who took the time to complete a... http://t.co/9lIYxz50yN Floors Currently Closed for Construction: 2 Central &amp; 4 South: Floors 2 Central &amp; 4 South are closed to the pu... http://t.co/MDMM6APb3U http://t.co/fuV5i4gAhy Hey Undie Runners - the library will be going to Overnight Study tonight at midnight, so anyone trying to access... http://t.co/eLVXQC0fxE 4-5pm this Wednesday, June 11th at 6568 Sabado Tarde: unveiling of this mural by students in Spring Quarter’s... http://t.co/va79JBLdFP Libraries Applaud Landmark Copyright Ruling Affirming Fair Use http://t.co/tWlnjEscnG .@demiankatz donated his extensive gamebook collection to @UCSBLibrary after it destroyed his house. (True story.) #vupop14 Have you seen this sculpture in front of the Library? It's called \"Gabriel\" and is by student Elisabeth Corello http://t.co/nfKAwMtzll http://t.co/TGuKaTXeEf Loud demolition construction work tonight in the library, midnight-8am. Sorry for the inconvenience. There may be some reduced wireless coverage on the 2nd floor this week due to construction. Bike racks are being removed and replaced at the south end of Davidson Library on Monday, June 2. All bikes needs... http://t.co/3WPXhrrpx6 Thousands of Manuscript Collections Now Cataloged | UCSB Library http://t.co/bmehTjtORT A reminder that you can call a CSO Escort to accompany you from the library to anywhere on campus or IV during... http://t.co/IAWEdACO2p Maya Angelou, Lyrical Witness of the Jim Crow South, Dies at 86 http://t.co/dBl1FsfCcM A memorial service to honor the students who died as a result of the tragedy in Isla Vista will take place today... http://t.co/NalvdpYsbj We hope to see you at 4pm in the Library today for Beth Witherell's talk: \"Henry Thoreau in His Letters: A New... http://t.co/9rlzUUhUmK Awesome day at @UCSBLibrary. Great discussion on OA/OER, and even stopped by beach on the way out! #opentourcali http://t.co/JoT0NjpoVA Get to know another side of the Thoreau best known for his book Walden, or Life in the Woods. Here's a very sweet... http://t.co/PEcBoKbdge Congratulations to these UCSB Library employees who have been nominated for \"Living the Value\" of Diversity as... http://t.co/SxlFuido4x Yesterday at the Library Dan Guerrero gave a lively, insightful talk about his life as a gay, Mexican American... http://t.co/guOJukFgVT I posted 3 photos on Facebook in the album \"Wall Photos\" http://t.co/NyzD7I6WVJ Event: What Are Open Educational Resources (Thurs. May 15, 12pm)?: As part of a UC Tour, Nicole Allen and Nick... http://t.co/30XaXlefWT Anticipating next Wednesday's program on Thoreau and his correspondence we have a display of books by and about... http://t.co/UzaxhMZqWi Event: Activism and the Arts: The Life Journey of Dan Guerrero (Tues. May 13, 4pm): The Library is excited to ... http://t.co/acPjU8LQpW Great talk earlier this week by Gail McMillan. It turns out publishers are mostly happy to accept journal... http://t.co/Ep5pJkvFh2 Food trucks between North Hall and the Library today, 11am-3pm as part of the Gaucho Farmer's Market!! Do you like to read? The Library is looking for students who are on campus this summer to serve on the selection... http://t.co/Ww5KiFsgGK Library staff/UCSB alums hang with Ole at the recent All Gaucho Reunion http://t.co/gTzvSQ2PnO Plumbing emergency in Davidson - water has been turned off temporarily on floors 1-4 but we expect it back on... http://t.co/eqG195BBjl New items have been added to our book arts collection http://t.co/waCnALaWax What Enhanced E-Books Can Do for Scholarly Authors http://t.co/4IoHMu8m8B What Enhanced E-Books Can Do for Scholarly Authors http://t.co/lC3Y0A2o1C Thanks, Gauchos, for stopping by the UCSB Library table at the Taste of UCSB event this past weekend and sharing... http://t.co/0LZmBFdngp Want to learn more about academic publishing trends in 15 minutes or less? The Library's got you covered! http://t.co/j96Dl7sUIi Tomorrow: 12pm brown bag in Library classroom 1575: guest speaker Regina Beard on open access awareness &amp;... http://t.co/0uTyjpqbI2 Stack Services and Copy Services have now moved their location to the large office behind the circulation desk Interlibrary Loan (ILL) offices are moving back down to the first floor today. After today, you can find ILL in... http://t.co/sxn6wX8lHA Floor 6 reopened today and part of floor 4 is now closed for construction. Note that the large sky-lit student... http://t.co/XpiIwhPM4t Gabriel García Márquez, Nobel laureate writer, dies aged 87 http://t.co/BMzMD4nwBC hanging just outside the entrance to the library http://t.co/oCCun6yx8s The 7th floor has been fully renovated and is now open, along with additional study tables and seats that can... http://t.co/cHkwwXcTQM The Library's current book display celebrates recent publications by UCSB faculty. http://t.co/2LVhE30Dc5 April Fool's Day from the Daily Nexus http://t.co/0O90NtabFS 270 yards of concrete poured on Monday to top the 2nd floor of our new 3-story addition http://t.co/i9VR7Jrlkt New Syllabus Archive Opens the ‘Curricular Black Box’ – Wired Campus - Blogs - The Chronicle of... http://t.co/ck6baZufO2 The 8th floor has re-opened, along with its lovely Pacific View Room and Grad Study Lounge. Note that there is... http://t.co/oRPs8NlpcX Recess hours go into effect for Spring Break http://t.co/mlgxFuWcHh Floor 6 is now closed to the public for several weeks for construction http://t.co/snxd3P7ZfJ Looking forward to seeing next year's crop of new UCSB students in the Library. Congratulations #ucsb18 Finals extended hours begin today! The library is open until midnight tonight and Sat., and 2am Sun. through Thurs. I posted a new photo to Facebook http://t.co/uwHmyJfYtv The Library and the UCen will be opening up additional quiet study space in Corwin during Finals, 9pm-2am http://t.co/4nU2q8N4nj On Exhibit: The Emergence of the Bill of Rights: A new exhibition in the Library's Department of Special Colle... http://t.co/wy1mIUeUg7 Wonderful talk yesterday by Professors Patricia Cohen and William Warner.  Come see the exhibition they curated... http://t.co/R4U74KROis From the Library of Congress' WPA poster collection... &lt;http://t.co/HF7HgHJd6G &gt; http://t.co/1lyl8OMEjQ This Thursday at 4PM join us at the Library to hear Professors Patricia Cohen and William Warner discuss The... http://t.co/um0VYcMWS8 I posted a new photo to Facebook http://t.co/KDFKccZ2w7 I posted a new photo to Facebook http://t.co/Ioln2zFmMc I posted a new photo to Facebook http://t.co/Cii6T0zwww Rebecca from #ucsb library. She makes #UCSB Reads a success. All praise to her and the Library team!! http://t.co/rrU6p7m0nk #ucsbreads author Timothy Egan reaching new heights with #gauchovolleyball http://t.co/CQSlpHULR6 Timothy Egan book signing @ucsb http://t.co/l4yIUul486 UCSB READS!  #gogauchos http://t.co/D0e31LJhNB 12pm (PST) TODAY: live online interview with UCSB Reads author Timothy Egan - send in your questions for Egan to... http://t.co/T3ARkK4w2A Please join us for a curator's talk at the Library (Mary Cheadle Room) on Thursday, March 6, 4PM.\\n\\nhttp://t.co/mrfUwA6gZN I posted a new photo to Facebook http://t.co/9BlQmxoGCQ I posted a new photo to Facebook http://t.co/qOLRK1TSwy I posted a new photo to Facebook http://t.co/xXrJxyQCr9 Happy birthday, Dr. Seuss! http://t.co/T4Wx7tWyaA Website is down. We're working on it! We are experiencing an issue with our library website this morning and are working to resolve the issue. Come tomorrow at 4pm to the Library to hear Ray Ford talk about \"The History Fire in Santa Barbara: Perceptions &amp;... http://t.co/jYK6UIsCGY Food trucks as bookmobiles? http://t.co/kgBFwIWyCP Now that floors 7 &amp; 8 are closed and designated as construction sites, trained Library staff are going in to page... http://t.co/CJhfRnejIP The doors leading from the stairwell to accessible floors in the 8-story tower may be closed for most of today.... http://t.co/5dtpu4ixBf Drop by the first floor of the Library to view \"Burn Cycle,\" a new installation on wildfire in Santa Barbara. http://t.co/PYBlUcttCR Artist Ethan Turpin, who has a new exhibition on wildfire at the Library, will be speaking on KZSB-AM 1290... http://t.co/R6JQmtvfjM Diane Gamboa exhibition from the Library now traveling to residence halls. First stop: San Miguel http://t.co/oDX3hJPy1u We have stacks of these beautiful UCSB Reads bookmarks. If you have a place to distribute them, let us know and we will get a stack to you Vagabond is UCSB's new multilingual literary journal and it's accepting submissions of fiction/poetry in other... http://t.co/tiniwZ2PBK Floors 7 &amp; 8 to Temporarily Close: Starting February 17, floors 7 &amp; 8 will be temporarily closed to the public... http://t.co/TPqHYiengS Come to our first UCSB Reads faculty panel on Wed. Jan. 29th (4pm) and learn about the Bren SERI wildfire... http://t.co/ZNxvpBUD7D http://t.co/qV6o9HeJ6s http://t.co/EZfvWkOsQV We held a party when the Library reached 1500 Facebook likes, offering free cake in the lobby. Help us reach 2000... http://t.co/0pkAZ8FErJ We have restocked our earplug supply in the Library. Just ask at the Reference/Information desk for your... http://t.co/AP8gb87Lv7 I posted 24 photos on Facebook in the album \"The Big Burn: Book Giveaway\" http://t.co/iEWMC4TieJ Informal brown bag discussion of The Big Burn this Friday at the Student Resource Building. http://t.co/FST8aXPKdU This Friday at the Student Resource Center (3rd floor) kicks off a bi-weekly discussion centered around this... http://t.co/ExXFh0J9y9 Library Acquires Edouard Pecourt Tango and Latin American Music Collection: read more http://t.co/AEUifHrkFe No water in Davidson Library this Monday from 5am until approximately 2pm. http://t.co/lT8SgHBtbU Some pictures from yesterday's \"Big Pour\" http://t.co/6mBx22l8tn No Water in Davidson Library (Mon. Jan. 20: 5am - 2pm): Due to construction work, there will be no water in th... http://t.co/MiiF9Pbjhl Great picture found on Instagram from the Library's 4th floor http://t.co/cipUnzg6SW UCSB student art needed for the Library's Wireless Art Network. http://t.co/ycp9TeTb6w We welcome your suggestions for books or other items to consider for purchase. A new request form is conveniently... http://t.co/mePejMcaHA UCSB students mark your calendar for next Wednesday! UCSB Reads free book giveaway is January 15 at 10am in the... http://t.co/FmEKu28QBA Yesterday's link to our new Library exhibition wasn't working so here it is again. http://t.co/QUMvocc2pk On Exhibit in the Library: Against The Wall: Social Justice and Civil Unrest in California, 1960s-1980s: This ... http://t.co/MlzCHfK5Ko New exhibition on the 3rd floor of the Library. http://t.co/mWw1SenuV3 Check out the newest additions to our artists books/printers collection! http://t.co/5FUDDow29b There will be no water in Davidson Library this Friday, Dec. 3. The Library will still be open. http://t.co/IC3bwgvJr1 Winter Recess Hours in Effect (Dec. 14, 2013 - Jan. 5, 2014): Winter recess hours will be in effect from Satur... http://t.co/b32bq9u49W EVC Gene Lucas has been an incredible champion of the UCSB Library and we will miss him greatly, but wish him all... http://t.co/JiUM4hxjh8 Good luck on your finals!! http://t.co/mmMK8pkeyf Corwin Pavilion will be open for Late Night Study every night from 9pm-2am this Saturday-Thursday. http://t.co/YLzRWOtoWm Flu and meningitis vaccines being offered to students in the Library tomorrow, 1-3pm http://t.co/FUnKM9D9A4 Extended hours for finals begin this Friday. http://t.co/kUizgVtIZs Please take note of Thanksgiving hours http://t.co/cr85MXH3cT http://t.co/HaLLognvYx \"The first English-language book printed in the New World is scheduled to be auctioned on Tuesday...[and is]... http://t.co/oGpxSo1vvj We have a new book display on the 50th anniversary of JFK's assassination.  You'll find it on the Library's first... http://t.co/Qw1rmjxBdD We're looking forward to being able to capture these aerial views of the library construction project over time.... http://t.co/CG0Funo25p http://t.co/xUDYuPBefG There are several staff job openings in the UCSB Library right now http://t.co/fCcTQnaPv9 1pm this afternoon at UCSB’s Art, Design &amp; Architecture Museum: “Fifty Years After the March: Civil Rights in... http://t.co/ZSEHN6srM9 In breaking news, it is a good day for fair use http://t.co/kskK1hACkW http://t.co/XAr3VBLmVE http://t.co/qI14LpJQG6 Author Maxine Hong Kingston will read from her work at Santa Barbara City College - Fri., Nov. 8, SBCC Garvin... http://t.co/2bMyMGliLu Fire alarm in Davidson library right now Student Health is giving flu shots at the Library this Wednesday, 11/6 from 1:00-3:00 pm. Students only!  Clinic... http://t.co/A8rmt2qqrV Congratulations to Special Collections cataloger Marlene, who won “funniest costume” at the staff assembly... http://t.co/FgTWarrOlb SAVE THE DATE: Pulitzer Prize winning author Timothy Egan will come to offer a talk as part of UCSB Reads on... http://t.co/uyuuntol5o Check out this event on campus next Thursday at 4pm -- \"Writers' Cafe presents: Campus Authors on Writing &amp;... http://t.co/GxACZ6ddCF Midterms stressing you out? Where you see this logo on floors 5-8 in the Library are designated quiet floors http://t.co/EUEDz5AoP9 We are pleased to announce the selection of a book for UCSB Reads 2014: THE BIG BURN: TEDDY ROOSEVELT AND THE... http://t.co/jQyELDU8r7 Reza Aslan, best-selling author and UCSB alum is presenting at Campbell Hall this week. Get yourself quick to the... http://t.co/4x2taP6LwA In 2005 the United Nations designated October 27 as \"World Day for Audiovisual Heritage\" to recognize the... http://t.co/T060LGT8Dw We are excited about Diane Gamboa's visit to the Library this Wednesday and hope to see you there. http://t.co/WqpDoTlCq0 Interesting article on rewriting of passages in Western-authored books for publication and sale in China, one of... http://t.co/nQGMxr1C45 At the Library on October 23rd at 4:00 pm Los Angeles based figurative artist Diane Gamboa will give an... http://t.co/ocDVec9wPQ Hope to see you at 4:00 pm at the Library for this special public lecture and reception. http://t.co/84bC1f7uuf Free lecture by author Daniel Mendelsohn this Saturday at 1pm on Cavafy sponsored by Classics http://t.co/fhTZutq6Eg I posted a new photo to Facebook http://t.co/O0g396uSx5 I posted a new photo to Facebook http://t.co/DJ3DR8ucxS I posted a new photo to Facebook http://t.co/iZE765nzbE Catalyst student literary magazine accepting submissions now for Winter issue http://t.co/eT3QXxsFUO Lots of debate going on about this article. Does it discredit open access? The peer review process? http://t.co/DtOlMfXfoU Check out this video that Student Affairs took at yesterday's groundbreaking ceremony http://t.co/ZBWJzhMu82 Free chair massages start again today in the Library, but now for an additional hour! Stop by the New Books area... http://t.co/HI3jJMwwFf First dig! Breaking ground for the new #UCSBlibrary (photo) http://t.co/AyVFyd6CHk \"Now let's go break some ground!\" — #UCSB Librarian Denise Stephens. #UCSBlibrary \"Excited for students of #UCSB’s future to reap fruits of this project: a more modern, reinvented Library.\" @AS_UCSB's Jonathan Abboud “College is our home away from home; Library is our living room. Forgive us if our feet are up on the furniture.” @AS_UCSB's Jonathan Abboud @AS_UCSB President Jonathan Abboud: “We come to find quiet, caffeine, quality information, &amp; serious intellectual engagement.” #UCSBlibrary “Future Library will be larger, more modern, more flexible to accommodate growing student body.” — @ucsbGSA’s Gary Haddow #UCSBlibrary @ucsbGSA’s Gary Haddow: “Library puts almost the entire world of information within our reach.” #UCSBlibrary @ucsbGSA President Gary Haddow: “Library central place that supports all graduate student activities.” #UCSBlibrary EVC Gene Lucas: #UCSBlibrary is the library of the future. We've launched major digital preservation and collection efforts. The #UCSBlibrary is at the center of research efforts at UCSB that helped us achieve #2 in the world per Leiden rankings for research impact Yang: We are immensely proud of our university library, a major research and teaching resource at the heart of our campus. #UCSBlibrary Chancellor Henry Yang: The #UCSBlibrary ground breaking is 14 years in the making since the initial proposal, involving many people at UCSB #UCSB Denise Stephens: “it is with great excitement we finally break ground and envision the future of the Library together.” #UCSBlibrary Library renovation project should be completed in 2.5 years; new Art and Music Library joining under same roof. #UCSBlibrary #UCSB Librarian Denise Stephens: Library last renovated 35 years ago. Future brings LEED certification, new 24-hr. study space. #UCSBlibrary Let the groundbreaking commence! Here’s to #UCSB Library’s future! Librarian Denise Stephens, Chancellor Yang speaking soon. #UCSBlibrary What will it look like inside &amp; out? Watch a video fly-through of the new #UCSBlibrary renovation project http://t.co/wYN4FbnWN1 Official groundbreaking ceremony for the #UCSB Davidson Library renovation project starts in 15 minutes! Join us, on Buchanan Hall side. The Library was featured on KCLU! http://t.co/1yO3f1urMJ The University Center has decided to expand its hours of operation. Beginning Monday, September 30, the new hours... http://t.co/ANVignJ7XU Today is the last day to RSVP for the Library's groundbreaking ceremony next Tuesday, October 1, 9:30-11:30am http://t.co/dNeznBr16U Did you miss our Week of Welcome Library tours? Join one of our drop-in tours below to learn about the building... http://t.co/lpXe5PmlUn Congratulations to Sarika Kathuria, winner of our last \"Week of Welcome\" drawing of a $50 giftcard to the UCSB... http://t.co/HrVxWjG0Up Congratulations Jie Yan, the winner of yesterday's Week of Welcome drawing.  Jie won a $50 gift certificate to... http://t.co/2VOwvC6XUi Congratulations Jie Yan!  Jie won Tuesday's Week of Welcome drawing for a $50 gift card to the UCSB bookstore. http://t.co/zoaqovDVUV Come by the Library to see our banned book display and to check out a banned or challenged book.  The display... http://t.co/fUbnaRIGSh I posted 9 photos on Facebook in the album \"Week of Welcome activities at the Library\" http://t.co/pUTNiAuInc We had a great group of incoming students visiting the Library today for Week of Welcome activities.  Students... http://t.co/cgsOh95hi6 Congratulations to Vincent La for winning Monday's $50 giftcard to the UCSB bookstore!  Today's winner will be... http://t.co/HBClAXssJ6 Vincent La is the winner of a $50 giftcard to the UCSB bookstore! Thanks, Vincent, for participating in the... http://t.co/JI75ZkZtpy http://t.co/vElOEQhol1 Incoming students: join us next Mon (12-1pm), Tues (2-3pm) &amp; Wed (9-10am) for 'Week of Welcome' activities in the... http://t.co/DVeNkPBUmO Our website is down due to a power outage. Access will be restored in the morning. The Study Bean coffee shop/store in the Library is closed this week. Boo hoo. http://t.co/xp7XUtWyiL Do you see beauty in science?  Come by the Library's First Floor Gallery and see the winning images from the... http://t.co/IalM9ZI6JS Did you see us on KEYT last night? http://t.co/g6poOJE618 http://t.co/wIMKiahFlU Due to recent fire alarms in the library, the fire doors in the building are currently being kept closed.... http://t.co/UZjY4PBL2f Summer sessions come to a close this week and we wish our students the best of luck with finals! The library... http://t.co/Ifjq2IcIeS Sorry, but there is not currently anywhere in the library where organizations can hang promotional posters. It is... http://t.co/8r7XCtXaM4 We've had a few fire alarms lately because of construction. These are not drills and we ask that you swiftly... http://t.co/evkZXVO5dl Library bathrooms have been reassigned today only due to water outage: floors 1&amp;4 are women's; floors 2&amp;3 are... http://t.co/geIucYtfP1 Ala. legislator calls for ban of Toni Morrison novel http://t.co/5VRIFzAf4C What do you make of this? : \"I no longer believe that when I publish articles in journals with minuscule... http://t.co/Cqx0NiFJKz Take a look at the winning images from the first annual Art of Science contest on campus. The Library is looking... http://t.co/SeDctJrVyZ Salinger mania! http://t.co/Z8YpEIyVkb Save the date: official UCSB Library groundbreaking ceremony, October 1, 9:30-11:30am http://t.co/uLhtteyR7i The last day of Orientation was today. The Library is getting excited to welcome the class of 2017! http://t.co/kUMf4Zwvhm Transportation and Parking Services just put out this announcement: Parking Lot 7 (next to Life Sciences) will be... http://t.co/u9vSc1jVde Writers as Architects http://t.co/oWtrXJkvRB Did you see this dog sleeping in front of the Library yesterday? http://t.co/2lYEHCt6tD The perimeter fence around the Library is up and construction starts soon, but the Library remains open! http://t.co/EM6ly1uwpQ Male voices singing to tune of \"John Brown's body,\" followed by male vocal solo and... http://t.co/0EH84571eG Current Exhibit: Conjuring India: British Views of the Subcontinent, 1780-1870.: In the late eighteenth centur... http://t.co/QHn0jBUBW8 Check out the Library's new Exhibitions website http://t.co/YYdCQfTkJ3 The Library has just finished processing a huge collection of \"Choose Your Own Adventure\" and other gamebooks http://t.co/lVvcVWjYHv Microform readers have moved to the second floor, above the main entrance, nearby the 2nd floor Help Desk. There... http://t.co/vnxAGN0OTu The Library's 2-story historic building has been officially closed to the public. That part of the Library will... http://t.co/5EKMKiWOBq What is your favorite literary place to visit? http://t.co/ppGvHzgutn Microform Readers are Moving to 2nd Floor: The microform readers are moving to the second floor.  Their new lo... http://t.co/TtrOK8kuLK Napolitano to leave Obama, DHS to lead the University of California - The Hill's Blog Briefing Room http://t.co/QRhNJ5iyyk We just installed a free earplug dispenser in our lobby in preparation for construction http://t.co/eiX84AHMnM http://t.co/3QwWnA5IrN Have you read any good books yet this summer? If so, what? Curriculum Lab Move is in Process (July 3-5): The Curriculum Lab is in the process of moving to a new location... http://t.co/jseOJFKmLx Congratulations to political science student Bonnie Casillas, winner of the I &lt;3 UCSB Library contest for... http://t.co/im7lOFNutB Although the library is closed this Thursday for Independence Day, we have regular hours for the rest of the... http://t.co/lhMeiCW6ED Science nerd and music geek Burr Settles attempted to clarify the difference between the terms “geek” and “nerd”... http://t.co/WQJYVGRpTP The Study Bean will be closed all day Friday http://t.co/KAzCwmFe8s The Study Bean will close early today at 3pm. Stock up on your caffeine and snacks now! http://t.co/ZBHgvjp6Qb Map &amp; Imagery Lab is Moving (June 25-June 27): As part of the Library Addition and Renovation Project, the Map... http://t.co/iidQaY96X7 Interlibrary Loan Office Moving on June 26: In response to the Library renovation project, the Interlibrary Lo... http://t.co/S1INT7hxBj Consider submitting your work to the first annual UCSB Art of Science competition; we'll be displaying the... http://t.co/J31pXH2nTI Arts &amp; Lectures new season brochure is out! http://t.co/SL8ZDR4MQA This book is one of thousands being moved into storage temporarily while we undergo construction. Bye! See you in... http://t.co/DFowT36wgd Pardon the noise while we move books in preparation for construction. Quiet areas can still be found on floors 5-8. The Chancellor came over to offer his appreciation to Library staff for all that they have done to bring the... http://t.co/1xjMptE5hF A summary of collections and services moves that will be happening over the next few weeks can be viewed here http://t.co/InIU1YFWMF Have you seen the new large banners in front of Davidson Library showing off our new building? What do you think? http://t.co/2a0qFLxttb Soviets in Santa Barbara? Check out this Davidson Library location shot from UCSB film major Madeline Kardos's... http://t.co/Bdg0xVdWuW Recess Hours (Saturday, June 15 - Sunday, June 23): During the academic recess period (Saturday, June 15 - Sun... http://t.co/CFXeWHaMTZ Congratulations class of 2013! http://t.co/qyVlFL7uM1 The east entrance will close next Monday, June 17 as the Library embarks on a major construction project. The west... http://t.co/g39Z01Vl3o Free scantrons and granola bars at the main (west) entrance of the library! Extended hours for finals week http://t.co/rkYncgfv2U HIRING NOW for summer job (3-4 weeks) to help move books out of the Library. $9.50-$13.00 PER HOUR.Call BRIAN at... http://t.co/h9SxTMGL0D #throwbackthursday http://t.co/nIwi45hSgi Come paint inside the library now through 2pm, near the east entrance! http://t.co/QFSqdEgWNY The Library is looking for a student graphic design assistant this summer. You interested? Apply here! http://t.co/Hr5dK4WZd1 Be Sure to Return Reserves on Time: Don'f forget -- fines for Course Reserves material are doubled to $4 per h... http://t.co/sWZcrU9YyR NY Times publishes its Summer Reading book review issue. What do you plan to read this summer? http://t.co/FhTFUM0lTd The Library has close to 3 million old catalog cards we are discarding as we clean out the building in... http://t.co/Mitn6nsvku The online catalog now shows book covers, tables of contents, and reviews for some books...so you can make more... http://t.co/4nFCM9FyN3 I &lt;3 UCSB Library Creative Contest: submit your library memories in film, photo, song, poetry, etc. by June 3 for... http://t.co/AD25dch5Jl I ♥ UCSB Library Contest Deadline: June 3! Submit your films, creative writing, photographs, etc. before we break... http://t.co/J8aFWtwICM I posted a new photo to Facebook http://t.co/d91fXg6i8E See here for Memorial Day weekend Library hours http://t.co/f4sT6qB6lt As we get ready for construction, we are having to get rid of some beautiful old card catalogs. Boo hoo. http://t.co/bt2Rg7z3i6 Please respect the designated quiet areas in the library. You may be asked to move if you are disruptive in these... http://t.co/MrLeLlXZF0 Congratulations also to Alyce Harris for being named an Unsung Heroine at the recent Professional Women's... http://t.co/Ibzu7906kY Claudia Jimenez, our acting head of Access Services, just won the Unsung Heroine Award from UCSB's Professional... http://t.co/W65ptrlbrc Don't leave your belongings unattended in the library http://t.co/UgEhiZ2eYS 36 days until groundbreaking! http://t.co/od34m8XYm7 Library staff are spring cleaning in preparation for construction. Some staff offices will be impacted and 54... http://t.co/vQUX4lrJed Have you noticed these powered tables now on the 3rd floor of the library? We're going to be bringing even more... http://t.co/NXZEBMjJA8 Check out the Clothesline Project display in front of the Library, sponsored by PAVE and Men Against Rape. Stop... http://t.co/nXIcl4DCwC Open Access bill in CA legislature http://t.co/GxkgNHpaLJ UCSB Library ranks # 15 out of 100 for \"Most Social Media Friendly\" college and university libraries! http://t.co/rPTgFtJYbX Your voice counts! If you received an email from libqual2013@library.ucsb.edu on April 22, the library needs you... http://t.co/tohTbMq3Sv Library Celebrates 1500 Likes on Facebook: On Tuesday, April 24 at 15:00 (3pm), the Library celebrated the mil... http://t.co/fDW6aYNBgH Congratulations to all the new AS officers; the Library looks forward to working together with you to make UCSB a... http://t.co/UdeIsome5q Alumni, join us on Saturday, April 27, for a panoramic view of UCSB in the Pacific View Room from 10am-12pm to... http://t.co/QrJpMje3jM I posted 19 photos on Facebook in the album \"UCSB Library celebrating 1,500 likes on Facebook\" http://t.co/0r6Om8Jg9O 5 minutes to cake!!! Thank you to all of the Library's Facebook friends! To celebrate the milestone of having reached 1500 likes, we... http://t.co/knVa5XKzDg Peter Mage, who won the Grad Slam preliminary round in the Library, goes on to win top prize in finals of $2500... http://t.co/A76NFXVwLV Amendments to California outsourcing bill give professors more say, but faculty remain wary | Inside http://t.co/QicpW4TxLc The library's Mary Cheadle Room was packed! Congratulations to Grad Slam Round 7 winner Peter Mage. http://t.co/nd72k8P0zN Seeking a grad student to be in short video about grad services in the library. Filming next Thursday between 1-2pm. Any takers? Digital Public Library of America launched in beta today with freely available photographs, manuscripts, books,... http://t.co/AKuP7LB15S UCSB has been ranked the number 2 university in the world by Leiden Ranking of the top 500 universities!! http://t.co/CGeo9yJxGA http://t.co/q1vtkHxuCc Grad Slam in Library, Wednesday April 17, 4pm http://t.co/SMLQCQeIaf Library Presentation at AS Senate Meeting This Wednesday http://t.co/0c2htQfXlQ New Display in EGSL: Remembering Martin Luther King, Jr. http://t.co/l5qRi26tkk New Display in EGSL: Remembering Martin Luther King, Jr.: The Ethnic and Gender Studies Library (EGSL) on the ... http://t.co/WLiIEPgvsY New Display in EGSL: Remembering Martin Luther King, Jr. http://t.co/OJ8Nrjyhhm Welcome future Gauchos! Special Collections open Saturday for Spring Insight http://t.co/AJoInVn1sl Comics Cornucopia today, 12-3pm! Celebrate the winners of UCSB’s first April Fool’s Comics Competition with a... http://t.co/BG34fhgWER Library Welcomes Visitors for Spring Insight http://t.co/QdNGEdAEfQ What do you think about the Library's new lightpost banners along the Library Plaza/Arbor Mall? http://t.co/UrvGz4utZ9 http://t.co/dv0XPS23J2 http://t.co/ewKM5wc20L LibQUAL+ Library Quality Survey Underway http://t.co/f6zF0zeDUa Record of the day from the UCSB Music Library http://t.co/4pUVZRyN8F Record of the day from the UCSB Music Library http://t.co/lcVFzmGAq0 Record of the Day, April 9, 2013: Thirty-six years before \"Sk8er Boi,\" there was Skaterdater, an award-winning... http://t.co/LNEuusBBch Latest Issue of the Lens Newsletter Out http://t.co/DzYlHQKQX7 Comics Theorist Scott McCloud to Offer Regents' Lecture April 10 http://t.co/9cwwxo9PRt Exhibit installation in progress of \"Have No Fear: World Comics Is Here\" http://t.co/qt49fp3vfp Library CSO Profile Featured in Latest Gaucho Guardian http://t.co/CZyXRf0t4N Exhibit: Fallout: In the Aftermath Of War http://t.co/2R5w36H6ik Record of the day from the UCSB Music Library http://t.co/oakt0UvQPq \"April is the cruelest month...\" http://t.co/MOUtwumAuh What did you do for Edible Books Day? http://t.co/tSju5f94WK UCSB is #2.  Go vote!  If he comes, maybe he'll bring some of his movies to add to the Library's collection?! http://t.co/JqFhUVJFF3 Welcome to Spring Quarter!  Going to be writing a paper this quarter?  If you want 300 free pages of black and... http://t.co/gPtHw0Fb5G Library's Chryss Yost Named City of Santa Barbara's Poet Laureate http://t.co/GOCRQsrMQ7 UCSB Library Will Be Closed on Friday (March 29) http://t.co/JZRWmNYFIW UCSB Library Senior Artist Chryss Yost selected as Santa Barbara Poet Laureate. Woo hoo! http://t.co/wimA5dLMDt \"Illusive Utopia: Theater, Film, and Everyday Performance in North Korea\" by UCSB Theater Arts professor... http://t.co/uLmP4Gnjvy The Immortal Life of Henrietta Lacks, the Sequel http://t.co/tGzpF5SZef KCLU Interviews David Seubert about Historic Sound Recordings http://t.co/SwtdmrdtCr Spring Break Hours in Effect Through Mar. 31 http://t.co/bXNzUpMiWM Spring Break Hours in Effect Through Mar. 31: During Spring Break the hours for the Library vary. Please check... http://t.co/nmBxPlLcNq Spring Break Hours in Effect Through Mar. 31 http://t.co/FPmQtCLYMH Installation in progress in the library's gallery right now of this piece created by UCSB student veterans. Can't... http://t.co/qU6nze2Mmz Mr. Achebe, you were a literary and political beacon who inspired and educated many. http://t.co/V2bbutwzIS Librarian Janet Martorana wins Nyholm Prize http://t.co/EoIIJuCQ4D April Fool's Comics Competition Submissions Being Accepted http://t.co/r7pRVHSx2O Did anyone get pictures of Cookie Monster in the Library yesterday handing out study snacks? Post them here! Need to print?  Are all our desktop computers in use?  Bring in your laptop (instructions are below) or check one... http://t.co/kkQaZgLQy8 Congratulations to the new UCSB Class of 2017. The Library looks forward to welcoming you during Discovery Days in the fall. #ucsb17 Need to de-stress?Going on right now!  When you go, can you please talk them into bringing the doggies over to... http://t.co/i4ZYkir3uo Going on right now!!!  Take a break from your studies and go check it out.  While you're there, can you ask them... http://t.co/hMTrvKMNqj Extended Hours for Finals (Mar. 15-22) http://t.co/pxKQBQLy98 While you're enjoying your dark chocolate, be sure to check out some of our books like, \"A Girl With No Shadow: A... http://t.co/bwPlmonou7 While you're enjoying your dark chocolate, be sure to check out some of our books like, \"A Girl With No Shadow: A... http://t.co/5oBvfGqhV2 Studying too hard?  Check out DOG THERAPY DAY by Health and Wellness. http://t.co/FEunBtqTpS The Tuesday massages have ended for the quarter.  They'll start up again on April 2nd! Need Some Peace and Quiet? http://t.co/5CNOtUBcU4 Looking for a Place to Work With a Group? http://t.co/iK06I5dR8Y Writing a Paper on Our Computers? http://t.co/gOOVV9UY2u I posted 6 photos on Facebook in the album \"UCSB Reads Panel Discussion\" http://t.co/ujgnlGuaMe Author and 2006 U.S.A. Memory Champion Joshua Foer discussed his book Moonwalking With Einstein: The Art and... http://t.co/21sScRKUeD Joshua Foer Lectures On UCSB Reads Selection http://t.co/ELv0wVx1K4 UCSB Library Building Project information session today at 3:30pm in Mary Cheadle Room on 3rd floor of Davidson.... http://t.co/tYEPSCBnMy Tonight at 8pm Joshua Foer will be offering a free public talk and reading in Campbell Hall! http://t.co/mC7Boy3n1I Tonight's the night! Joshua Foer at Campbell Hall at 8pm reading from \"Moonwalking with Einstein\" and speaking... http://t.co/zEP0ljynwJ UCSB Reads Author Talk\\n\\nMarch 4, 8pm\\n\\nUCSB Campbell Hall\\nJoshua Foer, author of the UCSB Reads 2013 selection... http://t.co/yj3ctY6Ryh UCSB Reads Author Lecture (Monday, March 4) http://t.co/XCfJejrBa5 A talk by the artist, agitator, and techie working for social change, Favianna Rodriguez.  Were you there?  What... http://t.co/t0tCkiBRC8 I posted 10 photos on Facebook in the album \"\" http://t.co/2FVBwSJfaJ Come to Solvang Library tonight to hear a panel of UCSB experts speak about \"Moonwalking with Einstein\" and memory Take a look at this video showcasing the Library's planned Addition &amp; Renovation project, featuring interviews... http://t.co/M6BWsZzMyy UCSB Reads Panel Discussion: Solvang Public Library (Feb. 28) http://t.co/Zssdc4NAhN Come join us - at 4:30 in the Pacific View Room (8th Floor)!  Sharing their thoughts and wisdom will be:  Paul... http://t.co/pbgwdaeb1a Library's \"Dewey Decimators\" Win UCSB United Way Tricycle Race http://t.co/uwTr08HKZS This afternoon at 4:30pm in the Pacific View Room: UCSB Reads Panel Discussion with Paul Rivas from CLAS,... http://t.co/t8aKpOhvMA UCSB Reads Panel Discussion\\n\\nFebruary 28, 6pm\\n\\nSolvang Library\\nFeaturing experts from across the academic... http://t.co/lC64wvJmId UCSB Reads Panel Discussion\\n\\nFebruary 28, 6pm\\n\\nSolvang Library\\nFeaturing experts from across the academic... http://t.co/oOt3DVNRqB Undergrads: We are hosting a library building project information session today at Noon in the Mary Cheadle Room... http://t.co/Acb907BSuQ UCSB Reads Panel Discussion: Davidson Library (Feb. 26) http://t.co/thBvU1bhW6 UCSB Reads Panel Discussion\\n\\nFebruary 26, 4:30pm\\n\\nUCSB Library, Pacific View Room (8th Floor)\\nFeaturing experts... http://t.co/wU04LG5bht UCSB Reads Panel Discussion\\n\\nFebruary 26, 4:30pm\\n\\nUCSB Library, Pacific View Room (8th Floor)\\nFeaturing experts... http://t.co/mSqMatzx4Q UCSB Reads Panel Discussion: Davidson Library (Feb. 26) http://t.co/MPf6Mnl3oN UCSB Reads Panel Discussion: Davidson Library (Feb. 26): UCSB Reads Panel Discussion\\nFebruary 26, 4:30 pm\\nDavi... http://t.co/D6pPWg1fTi U.S. Representatives Introduce Bill for Federal Open Access Policy http://t.co/sb9UOBw4ys Information Sessions About the UCSB Library Building Project (Feb. 25-Mar. 7) http://t.co/W2Yy9Nhrno RIP Mr. Myers.  The Library has copies of \"How Stella got her groove back\" and \"The piano lesson\" if you want to... http://t.co/NdI9xOprF1 Barbara S. Uehling Book Scholarship \\n\\nThe Professional Women's Association is pleased to announce that... http://t.co/NpWlbU6ilQ I posted a new photo to Facebook http://t.co/ZlrFaQx0 Congratulations to the Dewey Decimators for winning first place at the United Way Tricycle Race! http://t.co/E59phDVL Tonight at 6pm at the Central Library: UCSB profs talk about \"Moonwalking with Einstein\" and memory -- Ken Kosik,... http://t.co/RfWVOep9 Grants for Innovative Projects to Promote Open Access to Data http://t.co/UgoW54uU Hope you all had one fantastic and memorable President's Day weekend!  Read any good books and want to share what you did? UCSB Reads Panel Discussion\\n\\nFebruary 20, 6pm\\n\\nCentral Library\\nFeaturing experts from across the academic... http://t.co/2zGZRQPM Hours Vary for President's Day Weekend (Feb. 15-18) http://t.co/weIgWUdT UCSB Reads Panel Discussion: Santa Barbara Central Downtown Public Library (Feb. 20) http://t.co/va5TwGA3 \"Rain Man\" with the Koegel Autism Center http://t.co/k9X2WUIt Did you miss the Rain Man event for UCSB Reads? Check out the video http://t.co/xOJB6Jg4 Student review of current library exhibit, \"Art of the Activist Imagination\" http://t.co/zPCnl4xw Tonight at 6pm at the Montecito Library -- UCSB Profs Susan Derwin, Helen Morales, Kathleen Moore and math/games... http://t.co/Pvi3PWGu Library Acquires 750,000 Aerial Photos from Whittier College http://t.co/i7G72BNs I posted a new photo to Facebook http://t.co/ATmqJC6n I posted a new photo to Facebook http://t.co/t4d4B61d I posted 2 photos on Facebook in the album \"Winter 2013\" http://t.co/QEJxvoRk I posted a new photo to Facebook http://t.co/3LlM746J UCSB Reads Panel Discussion\\nFebruary 13, 6 pm.\\nMontecito Public Library\\n\\nJoin us for a panel discussion about... http://t.co/RB7uNTTa UCSB Reads Panel Discussion\\n\\nFebruary 13, 6pm at the Montecito Library\\n\\nFeaturing experts from across the... http://t.co/CYP3YR9D NASA is set to launch an Earth-observation satellite from an Atlas V rocket just after 10am from Vandenberg Air... http://t.co/aNYaTT8Y I posted 2 photos on Facebook in the album \"Wall Photos\" http://t.co/M4oB8prO UCSB Reads Panel Discussion: Montecito Public Library (Feb. 16) http://t.co/esSVWeSc Check out this video about the current Special Collections exhibit http://t.co/sLkORxI6 EGSL Current Exhibit: “All of Our History” http://t.co/JTszgyLT Reminder: Complete the Campus Climate Survey and Win Prizes http://t.co/QJeBuJ99 Royal Society of Chemistry Open Access Vouchers Available http://t.co/Xb8MPYpu Royal Society of Chemistry Open Access Vouchers Available: The Royal Society of Chemistry (RSC), publisher of ov... http://t.co/mnEqaEK6 \"One of the perks of studying in the UCSB library is that you get a great view of the sunset behind Storke Tower.... http://t.co/UHeLX3cA Two UCSB Reads events today! 12pm informal book discussion on the 3rd floor of the library w/ refreshments.... http://t.co/vCCCW9Y1 Curators Talk: \"Who Freed the Slaves?\" &amp; Lincoln Birthday Celebration (Feb. 12) http://t.co/4ke4Cq5s \"The Study Bean\" Announced as New Name for Library Store; Students Justin Hart and Kate Wilkins Win Naming Contest http://t.co/NW5D82UY Can you spot the librarian on the cover of WORD magazine? http://t.co/iFeMtzie Open access isn't just for scientists... http://t.co/4vNFPM2f UCSB Reads: Psychological Perspectives on Memory and \"Moonwalking with Einstein\"\\n\\nWednesday, February 6, 3:30-5pm... http://t.co/6l5yzuLj Need some ideas for what to read in February? Try these award winners from the Romance Writers of America. http://t.co/29HxTjkh UCSB Reads Book Discussion: Moonwalking with Einstein: The Art and Science of Remembering Everything\\n\\nFebruary 6,... http://t.co/3zEuDAAQ Psychological Perspectives on Memory and \"Moonwalking with Einstein\" (Feb. 6) http://t.co/8P2Uxc1g http://t.co/u0N5nln1 Did you see them? http://t.co/brnaw48D http://t.co/dp2FkotI Rumors abound that Improvability will be doing some moonwalking out on the Library plaza today at noon http://t.co/E32M0uto UCSB Reads Book Discussion: Moonwalking with Einstein (Feb. 6) http://t.co/eBc05pSw A movie based on the bestselling novel \"Still Alice\" by neuroscientist-author Lisa Genova will be filmed this... http://t.co/Iw0nGR5v If you need any help at all writing your papers, PLEASE come in to the Library and ask for help or check out our... http://t.co/jmNUPC7K The 2013 Newbery and Caldecott Medals, the most prestigious awards in children’s literature, were just announced.... http://t.co/omIGLtrK The 2013 Newbery and Caldecott Medals, the most prestigious awards in children’s literature, were just announced.... http://t.co/0D29OjwG The 2013 Newbery and Caldecott Medals, the most prestigious awards in children’s literature, were just announced.... http://t.co/1zAXo81l The 2013 Newbery and Caldecott Medals, the most prestigious awards in children’s literature, were just announced.... http://t.co/K4fQ51px One more book finds a good home!  Hope you're all enjoying reading Moonwalking with Einstein.  What do you think... http://t.co/WoVAYdrQ I posted a new photo to Facebook http://t.co/5EcS7uwk 25 years ago, Dustin Hoffman changed our cultural understanding of autism in the award-winning RAIN MAN. On Wed.... http://t.co/2m2U4eyI 25 years ago, Dustin Hoffman changed our cultural understanding of autism in the award-winning RAIN MAN. On Wed.... http://t.co/PEfb4faG 25 years ago, Dustin Hoffman changed our cultural understanding of autism in the award-winning RAIN MAN. On Wed.... http://t.co/Lxu51rcZ 25 years ago, Dustin Hoffman changed our cultural understanding of autism in the award-winning RAIN MAN. On Wed.... http://t.co/RvfydK5F Artist Talk and Reception: Jan. 30, 3:30pm http://t.co/8UqAHvId One more winner!  Thank you to Judith for coming in the rain to the Davidson Library!!!  Enjoy your copy of... http://t.co/sMJpKP7u Buy Your Tickets Now for Rain Man http://t.co/IGoTRtQD We're famous!!!  The renovations that Davidson Library will undergo has made it into the World Interior Design... http://t.co/JDCRKpAA Learn more about mysterious man, \"S\", and synesthesia, a rare disorder that combines sounds and words with... http://t.co/E1RBUNdz Los Angeles Times Article Highlights UCSB Library's Eddie Davis Collection http://t.co/oigeE9sX The UCSB Library is now offering two \"Book Club in a Bag\" kits. Contact rmetzger@library.ucsb.edu if you want to... http://t.co/NxGVcvK8 http://t.co/E6AUJUPF Have you forgotten your keys lately? When was the last time you had to memorize a phone number? \\n\\nWe all have... http://t.co/Y8Xle5Bs Congratulations Rhandy Siordia! Here he is receiving his copy of Moonwalking from librarian Jennifer Thompson.... http://t.co/M6eAUnab Congratulations !Rhandy Siordia.  Here he is receiving his copy of Moonwalking from librarian Jennifer Thompson.... http://t.co/bQ9roheC Paola is the first winner of our Moonwalking with Einstein Facebook giveaway. Here she is receiving books (a... http://t.co/N1D9aS8c \"Well I was eating lunch at the D. L. G. When this little girl came and she sat next to me.\" (DLG ='s De La... http://t.co/L5TXmqhM What is Rhandy's favorite place to nosh on campus?  The first person to make the right guess wins a copy of Moonwalking! In 140 characters (or less), tell us why you should win a book!  One entry per person! Rhandy Siordia was the first person to like our post (1/12) about the giveaway.  He will also win a copy of... http://t.co/MLdFIaLp Rhandy Siordia was the first person to like our post (1/12) about the giveaway.  She will also win a copy of... http://t.co/Y39xfTbm Current Exhibit: Who Freed the Slaves?: Emancipation as a Social Movement (Special Collections, Third Floor) http://t.co/E94VpRqG We're looking for more volunteers to read selections from MOONWALKING on KCSB 91.9 FM weekdays at noon. Let us know if you're interested. Weekdays at Noon: Live Radio Reading of Selections from Moonwalking With Einstein http://t.co/AEPFMKLN Sustainability and Repurposing Are Key Features of UCSB Library Expansion Project http://t.co/g8hY8iv4 This week, we will be giving away a few more copies of Moonwalking With Einstein to our Facebook friends. Today,... http://t.co/VePjGKGQ This week, we will be giving away a few more copies of Moonwalking With Einstein to our facebook friends. Today,... http://t.co/OgFMLH0w KCSB-FM 91.9 in Santa Barbara | http://t.co/9mpZHZ2x Tune into KCSB-FM 91.9 or listen online NOW to hear EVC Gene Lucas kick off the on-air reading of selections... http://t.co/E13vvjHx UCSB Reads Book Giveaway a Big Success http://t.co/1gMUmS1a Check out the photos from our book giveaway this past Thursday http://t.co/xih2C7r1 This Wednesday at 3:30pm, Prof. Chela Sandoval will talk about her edited collection \"Performing the US Latina &amp;... http://t.co/1K2Oe9Gs Thank you to all who came out for the UCSB Reads kickoff and book giveaway, especially Chancellor Henry Yang and... http://t.co/3eMv9yMt Congratulations Professor Juergensmeyer!  His new Encyclopedia of Global Studies is listed in the Booklist's... http://t.co/Z0jzo746 Anchoring abstract ideas to physical spaces can help you remember more effectively.  This is the theory behind... http://t.co/lRuXJQQD UCSB Reads! 2000 free copies of MOONWALKING WITH EINSTEIN: THE ART AND SCIENCE OF REMEMBERING EVERYTHING by Joshua... http://t.co/BQBqBS2k Build Your Personalized Brain Training Program http://t.co/zyKhp0oF Build Your Personalized Brain Training Program http://t.co/ZMmEC6Lw Build Your Personalized Brain Training Program http://t.co/lPIF7bcM Welcome back! There is a new bicycle tire pump located in our bike racks, thanks to the AS Bike Coalition! Look... http://t.co/lgUlyRC5 Library Receives $239K to Catalog Historic Sound Recordings http://t.co/WFHMkAOk Winter Recess Hours in Effect http://t.co/VHUCcUeI Spoiler alert! Here's a picture of Joshua Foer receiving the trophy as the 2006 USA Memory Champion http://t.co/iCLYsKXw Start memory training now and come Winter quarter, you could remember the names of all of the people in your... http://t.co/8AfVwkWF This year, give generously to an #Archive! Cylinder Preservation/ Digitization at @USCBLibrary http://t.co/VFsIBNgZ HT @archivesnext http://t.co/lfK5K9jB Library Closed: Dec. 23 - Jan. 1 http://t.co/d9gKZQ5U Foer builds himself a topophonic telestereoscope, a mash-up of two nineteenth-century inventions: the topophone... http://t.co/Sr1S2N9o The library recess hours are posted below.  Today we are open from 8am-6pm and the overnight study is open from... http://t.co/E8tnt4rL \"The notion that memory and creativity are two sides of the same coin sounds counterintuitive. Remembering and... http://t.co/HqWB8j4g Thank you Undie Runners http://t.co/3FdbWIXE Thank you Undie Runners http://t.co/y7H6ynnH Thank you Undie Runners: The Library would like to thank Evan Hynes, Director of the UCSB chapter of the Undie R... http://t.co/zE61facn Congratulations to two UCSB Physics faculty, Joe Incandela and Joe Polchinski!  Both professors have received... http://t.co/ctBi6lCW Today is namesake Donald Davidson's birthday. The former University Librarian (1947-1977) was born Dec. 11, 1911 in Vancouver, BC. Need Some Peace and Quiet? http://t.co/RMLupCSw Cookie Monster Sighting in the Library http://t.co/HNq9UiaX Check out the change of route for this year's Undie Run... http://t.co/shLqMWPO Congratulations Dean Oliver!\\n\\nDean Melvin Oliver, Professor of Sociology and Executive Dean of the College of... http://t.co/RQWlTB1S Take a break -- you deserve it. The library has some free snacks at the main reference desk for you. I posted 13 photos on Facebook in the album \"Cookie Monster in the Library\" http://t.co/WxHULn9D Have you ever created or hosted a trivia night? We are looking for help producing trivia events in the Winter quarter \"Sigmund Freud first noted the curious fact that older memories are often remembered as if captured by a third... http://t.co/vQ1A4yer Wait, was that cookie monster that just went by? If you have pictures of cookie monster handing out cookies in... http://t.co/gFNoGYUn What do you plan on reading over Winter break??? Have you seen the yarnbombing project in front of the Library today? http://t.co/EjrTWPjI Don't forget to relax, too. The UCSB Health and Wellness Department is bringing therapy dogs to campus today from... http://t.co/YhkzBV0e \"the average person squanders about forty days a year compensating for things he or she has forgotten\" - Joshua Foer Congratulations Stephanie!   \\n\\nThe Modern Language Association of America is awarding its eleventh annual William... http://t.co/rC9X9JZV And don't forget that UCSB Librarians can help you with your literature reviews http://t.co/3qFKGpHR If you've memorized anything in your life -- athletic plays, pieces of music, poems, Pokemon characters, US... http://t.co/Efuy8sOP Library Store Hours Extended for Dead Week and Finals http://t.co/5xQoBnx4 Using Our Computers?  Save Your Work!: The most reliable method to save your work is to use a USB thumb drive. W... http://t.co/SLewzvxW Using Our Computers? Save Your Work! http://t.co/JJmhOowl Endnote is a great tool that the library subscribes to for keeping track of references for long-term research... http://t.co/6BXIvhzx Surf's up on campus!  Find marine biology and physical oceanography related research by searching in our... http://t.co/vr3UeIFs Lincoln Comes to Life in Special Collections http://t.co/IezCLXOQ Anyone out there a good candidate to be a MC/host for a few trivia/quiz nights that the library is sponsoring next quarter??? Open Access Fund Launched http://t.co/f2TBhV0P UCSB Library staff are so creative...see this tree of books that they built http://t.co/sIj8KUbQ Today, 9am-12pm: Pledge non-violence in WORD photo shoot in the Library http://t.co/1okJqbES Need some new recipes for the holidays? Do a search in the UCSB Library catalog under the subject, \"cooking\" to find cookbooks. Facebook has made changes to how your news feed works. If you want to continue to receive posts from UCSB... http://t.co/DROZGHud Want to know more about UCSB Reads and the events coming up?  Check out our page dedicated exclusively to this... http://t.co/W4plCE4Y Bet you can't say no to a free massage! http://t.co/5uFsx2Cb Special Library Hours During Thanksgiving Week (Wed, Nov. 21 - Sat. Nov. 24) http://t.co/5kC58QaE November is National Family Caregiver Month.  Did you know that some of the top research on this awful disease is... http://t.co/lLy5DR8q Arts Library Comics Collection http://t.co/aHLkDuHc Libraries come in all shapes and sizes http://t.co/d98zdHDn The Chicana and Chicano Studies Colloquium presents \"Who Would Read a Book by a Hustler? Reading (and) Sexuality... http://t.co/7mn5xtFW Overnight Study Service Closed Saturday Night (Nov. 10) http://t.co/2p5RVRzw Overnight Study Service Closed Saturday Night (Nov. 10): Our Overnight Study Service will be closed this Saturda... http://t.co/QZfbiGvI Congrats to Eileen Boris, Hull Professor and chair of feminist studies at UC Santa Barbara! She is the recipient... http://t.co/lJv3pBU0 Sam Brylawski Appointed to the National Recording Preservation Board http://t.co/zbECL16j Have you vote today?  Do you know about UCSB's American Presidency Project site?  Check it out to learn about... http://t.co/krFWUMaT Free Massages today for students at the Library Wellness Center  (in the new books area) from Noon - 1pm!... http://t.co/xPxYorVj The November issue of Student Health 101 online is available now! Read up on academic integrity and flu shot... http://t.co/C5egXQ1R Check out Prof. Fabio Rambelli's books from our collection! He'll be hosting an international symposium this... http://t.co/uSO34dgE Check out Prof. Fabio Rembelli's books from our collection! He'll be hosting an international symposium this... http://t.co/Hk1LfSVT Parents &amp; Family Weekend: Library Tours, Saturday Nov. 4 - 10:30 am http://t.co/mrMp5BtB Do you know we have Hector Tobar's books in our collection?   Let's have a race - am I going to beat you to the... http://t.co/7sMwHsyG Going to join them?  Check out \"Ride like a pro : community handbook\" in the Government Information Center, U.S.... http://t.co/lccck6lP This program will demonstrate how to retain your right to reuse your own work. Join us tomorrow at 4pm in the... http://t.co/o0aARyjE Flu Shot Clinics in the Library http://t.co/vS27nRxJ Like us here on Facebook, and you can win a spiffy prize! We'll be looking out for the 1,500th \"liker.\" It could be you! Make sure you come in on Tuesdays!!!\\n\\nFree Massages @ the Library Wellness Center!\\n\\nLocation: Library\\n\\nTime:... http://t.co/b4wkAqi2 Free Massages @ the Library Wellness Center!\\nLocation: Library\\nTime: 12:00 PM - 1:00 PM\\n10/01/12 to 12/07/12... http://t.co/w4UHm42Q Don’t Forget to Vote! http://t.co/xKU49wqV New Open Access Monograph Series in Classics http://t.co/D8bYKx8W Save the date: Open Access Week is Oct. 22-26 and we will be hosting events! Here is an example of recent UCSB... http://t.co/PPiqsh3j Join us in this discussion with Gene Lucas, Executive Vice Chancellor &amp; Jack Talbott, Associate Vice Chancellor of... http://t.co/IX2B7ik6 Celebrating Open Access Week Oct. 22-26 http://t.co/RK42Kmzs if you are interested in getting involved with a programming committee for UCSB Reads 2013, let us know. we would like a student rep. Banned Books Trading Cards?!  How genius is that! http://t.co/FRlnq4z1 The Compact Disc Turns 30: Library Employee Sam Brylawski on NPR http://t.co/uXDD9XWN Hip Hip Hooray! http://t.co/JnhVjLAf Mysteries of Copy Cards, Printing, and Photocopying Revealed! http://t.co/GqU67L9c massages for students in davidson library now until 1pm on first floor, in new books area. will continue every tuesday from 12-1pm. Vending Machines in New Location http://t.co/rDZvpP4C Need help starting a research assignment? This tutorial will help: http://t.co/vOwp97zc Do you have a question? Contact the librarians through chat, email, or in person! http://t.co/NzZ68mWf Overnight Study Now Available in Davidson Library http://t.co/2zvykort 1 day left 'til overnight study launch! The first 2 floors of the library will be open overnight with CSOs on duty! http://t.co/CcIqCABt Help Us Name the Newly-Expanded \"Coffee Cart\" http://t.co/klvCq9Dx Come to the Grad Student Orientation 10am tmrw at Corwin Pavilion. Learn about campus resources. Keyword: FREE LUNCH http://t.co/Aneeq5mi Countdown to overnight study: 2 days. The first 2 floors of the library will now be open overnight! http://t.co/XQAUWMAV Library Launches Beta Mobile Website http://t.co/BFOMpl3M New Graduate Study Room Now Open on 2nd Floor http://t.co/jt7d6tK6 Countdown to overnight study: 3 days. The first 2 floors of the library will now be open overnight! New stairway door http://t.co/xBy6QnBN Countdown to overnight study: 6 days. The first 2 floors of the library will now be open overnight! Access Card = Key http://t.co/WELKYBQq The final flight of Space Shuttle Endeavour viewed from the 8th floor of the library. http://t.co/z25rOjqo New digital information screens in the library! http://t.co/NHi5Iv4Q New Students: Tour the Library, Win a Prize! http://t.co/nOftGzMK A wicked witch, or a library employee? New computers are installed on the 2nd floor as we expand services for fall. http://t.co/bDPg1Bte Library Fun Fact: In 1992 \"Surfing the Internet\" was coined by librarian Jean Armour Polly. http://t.co/BBI1bpBo Recess Hours in Effect: Sunday, September 16 - Wednesday, September 26 http://t.co/lpNaYR4U The 8th floor has great study spaces, literature books, and occasional views of rockets launched from Vandenberg AFB. http://t.co/HnRIGFqt This is your brain on Austen: http://t.co/WcbYkfjU UCSB PhD-turned prod. manager @Google. Find her dissertation via advanced catalog search; limit format to dissertation http://t.co/CYDoDvlf Interesting first hand account about the IV bank fire, with reference to our Library: http://t.co/NmKupali Wow, we're at 4.5 stars on Yelp!!!  What do you all think?  http://t.co/2BJO3NDh Know how to write a lit review or use a citation style guide for your discipline? Your subject specialist can help! http://t.co/FqIxnqrN Can now breath and let out a huge sigh of relief!  http://t.co/4xAig5Li Got memorabilia? Submit historical documents, photos, &amp; artifacts related \\nto UCSB Library for our fall exhibit: outreach@library.ucsb.edu Not all profs will grant leniency if your WoW character dies. Start early. Ask a librarian. Get that paper in on time http://t.co/hvhSsJEn Graduate Career Development Webcasts http://t.co/Y2pfo9IR #UCSB If there's a zombie apocalypse, please do come to the Library. You can watch everything unfold from the 8th floor!  http://t.co/FyG7ECYb U.S. economic data now at your fingertips via “America’s Economy,” the U.S. Census Bureau’s first mobile app on iPhone and iPad.... @UCSB_GradPost Add a library card to your grad bag. Our laptop checkout saves you from lugging around an extra 7 lbs! http://t.co/Zkc9ZnPT Access Erik Lucero's groundbreaking quantum computer research work through our subscription to Nature Physics!: http://t.co/Duq1fjdo New Melvyl Feature Allows Easier Access to Full Text Articles http://t.co/suGowpF7 Science students memorize facts but struggle to apply concepts. UCSB instructors develop the SciTrek program: http://t.co/RzWQDDbc Slavic Folk Art Featured in New Library Exhibit http://t.co/vOw6Wvwo UC-eLinks now offers direct linking for articles in Melvyl when UC has licensed the electronic edition of the journal!!!  Check it out! How many of you have tried the new hydration stations?  Do you like them? UCSB Fulbright Application Deadline Approaching \\nhttp://t.co/cqGNqJbo Might want to avoid the 101 South today. Truck struck an overcrossing. Lanes are open but traffic is slow.  http://t.co/SULYksoV Hey FSSPers! How are things going? Got any questions about the Library or school work in general? Come visit us, we'd love to help! #ucsblib Uh oh, another one bites the dust... http://t.co/Zmh5QYev KDB-93.7/FM Radio: UCSB Celebrates the Golden Age of Opera (1850’s-1920) http://t.co/yaFzrrCn KDB-93.7/FM Radio:  UCSB Celebrates the Golden Age of Opera (1850’s-1920): The late Union Oil executive William ... http://t.co/t99GMLB5 KDB-93.7/FM Radio: UCSB Celebrates the Golden Age of Opera (1850’s-1920) http://t.co/bZD1gH3Z Catch David Seubert, Acting Head of Special Collections, on KDB 93.7 FM at 5:03 pm today, 8/9/12!!! Today’s highlight: Colección Tloque Nahuaque http://t.co/K3m34pRC UCSB Project to Study Contaminants in Urban Water Environment http://t.co/jJsIIkAy All OCLC resources (including Melvyl and FirstSearch) will be unavailable 11 p.m. Sat. 8/4 through 5 a.m. Sun. 8/5 due to maintenance. Check out this art installation made of 250,000 books in the shape of Jorge Luis Borges's fingerprint in honor of the 2012 Olympics!... UCSB Special Collections Exhibition Highlights the Golden Age of Opera \\nhttp://t.co/OM2w9Bct Got Water? http://t.co/kcLx7ROM How did you find out about the book you're reading now? Tired? Sleepy? Pillows, blankets, and soft lighting provided. Noon-6. Gallery 479. Big red barn by the bus-circle.\\nhttp://t.co/KsByJtIl Current Exhibit: Stars of the Opera Stage: \"Golden Age\" Images from the William R. Moran Collection http://t.co/Uu50zo27 Solve this 'impossible' riddle using Google search techniques: http://t.co/AJd9H68E . I dare you not to look at the answer first. Saw this for the first time today.  Looks nice! http://t.co/QmmIInBc Interlibrary Loan Online Services Temporarily Suspended This Weekend http://t.co/a1Vmk6xo The Coffee Cart is Moving -- Reopens Monday http://t.co/LRmbypLA Coffee cart is being moved to its new location. Service resumes Mon., July 16. Meanwhile, you can get your coffee fix at the Arbor. Sorry... It's a beautiful day out there, get outside and enjoy the beauty that is our campus! http://t.co/i4DPQknH Flying A Studios Centennial Celebration: Rare and unique historical documents from Flying \"A\" Studio from Specia... http://t.co/y07fRZ4q Come fill up your water bottles with filtered or ro water!  Next to the women's restrooms on the 1st &amp; 2nd floors!!! http://t.co/IXtxfhLG They're stocking the new Library coffee cart / shop! http://t.co/97yICkzc Another change to look forward to! http://t.co/xjt19dSS Lots of changes happening around the Davidson! http://t.co/DkqrwiEb Our New Books area!  What do you think?  Do you like it? http://t.co/KCMYZVIy No hot water available at the Library coffee cart today, sorry! http://t.co/wAC34V8t ProQuest electronic resources will be unavailable due to maintenance this weekend, 7pm Sat. 6/30 - 7am Sun. 7/1 PDT If only we had these mobile libraries in Santa Barbara street corners: http://t.co/Xx0nWk7m Robert B. Moran and William R. Moran Papers Now Available for Research: read more http://t.co/MsyVHuNP The Newspapers Have Moved!: In preparation for the Library Addition and Renovation Project, the newspaper collec... http://t.co/saPJB8jG Trying to make it easier for you to log in to our services. Please let us know if we can improve upon anything. http://t.co/E7RaRSe9 New larger scanners have arrived and are being installed near the Reference/Information Desk, Davidson Library. http://t.co/0xLAvgvc Summer Hours are coming: June 25 - September 26, 2012. Check our website for more info: http://t.co/9sXbj8Ed Guess what is going on?  Can't wait! http://t.co/EXvlZi4f Library Student Worker Wins Award for His Work in MIL: Student workers are vital to the work we do at the UCSB L... http://t.co/hYRoAJdZ TGIF! Way to go #UCSB for being voted as one of the most #LGBT -Friendly College Campuses! http://t.co/YQCkGXi7 New Exhibit on the Tuskegee Airmen in the Ethnic and Gender Studies Library: The new exhibit in the Ethnic and G... http://t.co/As2kDEqb Extended hours at the UCSB Library Coffee Cart! http://t.co/CFRhnNt3 Need to scan? Our Government Information Center on the 1st floor has scanners. A USB drive is needed and the ref. desk has them to borrow! Extended Hours for Finals: It's time to start studying for finals and we have just the right study areas for you... http://t.co/wGcGPzZA Keep Up With Library News Over the Summer: You can subscribe to one or more of our RSS feeds to keep up to date ... http://t.co/mxpPKQ6w Be Sure to Return Reserves on Time: Don'f forget -- fines for Course Reserves material have doubled to $4 per ho... http://bit.ly/K2sHGI Watch Your Stuff!: This is the busiest time of the year in the UCSB Library. It is also the time when we often s... http://bit.ly/K2sF1H Extended hours at the UCSB Library Coffee Cart! http://t.co/rss6mIpx White House Petition on Open Access to Research: The Obama Administration has been actively considering the issu... http://t.co/BNnzZbeh Coming This Fall to a Library Near You... Bigger and Better Overnight Study Space: In preparation for our buildi... http://t.co/Q2McsWKm New Digital Collection: Ronald H. McPeak Underwater and Coastal California Photographs Collection: As a result o... http://t.co/8rIqkQAr UCSF Implements Open Access Policy: The UCSF Academic Senate has voted to make electronic versions of current an... http://t.co/fRaDgAS9 Laptop Checkout Service Now at the Arts Library: The Library's laptop checkout service has been expanded.  Lapto... http://t.co/KhMfpBct Seek refuge from the wind and study in the library. The views from the 8th floor are breathtaking today! What is Open Access and Why is the World Bank's Open Access Policy So Significant?: The World Bank will be adopt... http://t.co/h5h41ezq Have you signed up for a massage yet?  Do so now: right beside front entrance of Davidson! http://t.co/PeWk2u1r Ole was fighting cancer in the Davidson Library today!  See them?  Make sure you give Ole a big hug and a kiss! http://t.co/Krnbo699 Flowers brighten the library and pay tribute to former library assistant, Peter Shapiro. Enjoy! http://t.co/EUgfuijr Have you seen the current Special Collections exhibit, \"Seeing Nature\"? What did you like best? http://t.co/qmVNmwp4 @UCSBLibrary Stanley K. Sheinbaum Collection Now Available for Research: read more http://t.co/tzZDjSKV @UCSBLibrary Digitize, Democratize: Libraries and the Future of Books May 3, 5pm, HSSB 6020: Openness may seem s... http://t.co/ivKESO0U @UCSBLibrary Attention Faculty &amp; Staff: Important Information About Your UCSBnet ID and Password: This only affe... http://t.co/2WzmDMjT @UCSBLibrary eScholarship Book Publishing Solutions Webinar May 3, 2pm, Library Room 1575: The UCSB community is... http://t.co/r8hVnzMK @UCSBLibrary MIL Head to Discuss Chinese Research: Spatial@UCSB, as part of its regular lunch time series ThinkS... http://t.co/rjcLZt2X And then there were 3!!! http://t.co/whcqGMpf PhD student Allison Horst reps Bren in Sacramento, pressing lawmakers to maintain support of UC graduate research; http://t.co/R0HjPrnO @PCESLO Come to UCSB's PCN on May 5th! :3 show starts at 4pm! All proceeds go to Educational Opportunity Program! Graduate Student Appreciation Week at UCSB kicked off this Monday at the Library Reception. Check it out: http://t.co/Hynrd981 We have a pair of mallard ducks sometimes seen on the east side of the library. Have you seen them? http://t.co/xjlvH4zX CHO needs a videographer to work with us over the summer! Hours vary- anywhere from 5-20/week. We will train you... http://t.co/ysL9bVhs Nearly everyone has enjoyed the youtube phenomena of Sh*t Girls Say and its conterparts. Come for a critical... http://t.co/vqsdGCMr Happy Graduate Student Appreciation Week!!!! UCSB Talk to Delve Into Science of Surfing: Peter Neushul will discuss 'Surf's Up! But Where and How High?' on April 15 http://t.co/1RRvuKWC Need nutrition advice? We have 2 Masters level, Registered nutrition experts  for UCSB students. http://t.co/KWjWbvVJ or 805 893-3371 Congrats! Gaucho Baseball Takes First Big West Series Of 2012 story by KEYT at http://t.co/P7MTPPLo . Follow UCSB sports @UCSBgauchos #UCSB Alumni Association presents the 2012 All #Gaucho Reunion, April 26-29! It's always better when we're together. http://t.co/BGwWFOPD @Ocean_Saver_MMK Contact these people: http://t.co/kckUhadS  Good luck! What did you all do for Spring Break?  How are things now that you're back?  Is there anything we can do to make it easier for you? Studying for finals tonight in the library? We will have free cookies at 10pm near the reference desk! http://t.co/8MOXq7lY Need a quiet space to study? The library is open until midnight tonight and tomorrow! Extended hours info: http://t.co/gmE9NNhd Extended hours begin today! We are open 8am-Midnight today &amp; tomorrow. More info: http://t.co/gmE9NNhd @Ocean_Saver_MMK Not at all, please come visit us!  Check our hours at http://t.co/9sXfQINn #ucsblibrary And don't forget the \"From Africa to the Americas: the Legacy of the Diaspora\" display on the 3rd floor! #ucsblibrary Make sure to check out the Amos Paul Kennedy Jr.'s work in the Main Library!  #ucsblibrary http://t.co/yt0FtcMd RT @UCDavis_Morain: \"Sometimes students just need a bunch of money. Fast.\" Read how #UCDavis students help their own: http://t.co/PCUuCFxG Did u go hear Donovan Hohn last night?  What did u think? Tonight at 8pm, Moby Duck author Donovan Hohn speaks at Campbell Hall. It's free and open to the public! Join us at UCSB Campbell Hall tonight at 8 for author Donovan Hohn's talk on the book Moby Duck. It's free! #MobyDuck Moby Duck author, Donovan Hohn speaks this Mon. @ 8pm in Campbell Hall. It's free! #UCSBreads Come to the Learning Commons on the 1st floor in the library to engage in a discussion on Moby Duck in 30 minutes! Are you finished reading Moby Duck? You can drop the book off at the library so it's available for someone else to read it! #UCSBreads Hope to see you at 6pm at the Santa Barbara Public Library for a UCSB Reads Community Conversation! More details at http://t.co/eJkFAmyb Tax forms are available in the Government Information Center. Come enjoy Afro-Brazilian music by the Music Building!!! #ucsb http://t.co/ptwAiMMG R u here?  The Community Reads @ Carpinteria Public Library is starting!!! http://t.co/T8Hg8gfP Have u read Moby Duck yet? http://t.co/G7ZfhFxg UCSB Reads community conversations continue tonight at the Carpinteria Public Library at 6. More details at http://t.co/eJkFAmyb UCSB Reads community conversations continue tonight at the Solvang Public Library at 6. More details at http://t.co/eJkFAmyb Hope you're here for the READS community conversation @ Montecito Branch Library!!!  Starts @ 6pm ish! UCSB Reads Community Conversations start tonight at the Montecito Library at 6. More details at: http://t.co/eJkFAmyb RT @UC_Research: 5 profs. from @UCBerkeley, @UCSanDiego & @UCSantaBarbara elected to National Academy of Engineering. http://t.co/FO6yAatF RT @UCSBNews Congrats to folks who run #UCSB's Dining Commons. All 4 have been certified by Green Business Council... http://t.co/sODxHJnu 5 professors from @UCBerkeley, @UCSanDiego & @UCSantaBarbara elected to the National Academy of Engineering. http://t.co/ULpGtlYn Gerald Carpenter: Santa Barbara Music Club Still Giving It Away: The ensemble will perform for free Saturday in the... http://t.co/NJJEi1Gd Amos Paul Kennedy, Jr., activist and printer, visits UCSB Art Dept. Print Lab in Building 434, 9am-5pm today & tomorrow http://t.co/TEJSgAPq @Maramour Goooooood luck!!!!!!!!!! News flash: The Tom Colicchio sandwich special is sold out at The Goodland Kitchen! Interested? Want to find out more?\\n\\nMonday, February 13, 2012.5:00pm until 7:00pm.. Coming soon to UCSB… San... http://t.co/makfmQGJ How are rubber ducks made?  Do they emerge onto a conveyor belt - chuckedy chuckedy chuck out of a gray machine? #ucsbreads The 2nd Chase: I was in no condition to go beachcombing on any beach; I was, in fact, recovering from a microdiscectomy. #ucsbreads Hohn sets sail on the M/V Malaspina from Bellingham to go to Sitka, where the Beachcomber's Fair is about to begin  #ucsbreads @ some point, on a steep roll, 2 columns of containers stacked 6 high above deck snapped locks from their steel lashings & tumbled overboard An article from this morning's LA Times.  http://t.co/xilEYyNV Moby Duck is being read live on air every Monday - Friday at noon. Listen to it on KCSB at 91.9 fm or online at http://t.co/tV1vYGaB. Composting is now available in front of the library http://t.co/z2ILuBmN @tempuraaa be sure to stop by the Library!  8th floor has awesome views!!! No worries about Wikipedia blackouts 4 u guys ever; we've got tons of online encyclopedias at UCSB Library!!! #UCSB One of the best things you can do BEFORE the Career Fair on Tuesday is RESEARCH the employers who are... http://t.co/aZA4z5Z2 Stay warm and dry today!  50% chance of rain starting around 5pm tonight.  http://t.co/NiQohfVk #UCSB See why you shouldn't miss Resumania Tomorrow! Thurs. 1/19 2pm Bldg.599... http://t.co/K6W9FG6x #UCSB We are asking students to please complete a survey which will help us bring the employers YOU want to... http://t.co/TiAkVHfp #UCSB grad students, please note important changes in fees and filing of your theses and dissertations.  http://t.co/UHmkWj6I Are you blacked out from information you need today?  Don't forget that you can always ask a librarian. #sopa #pipa #UCSB scientists say topography played key role in Deepwater Horizon #oilspill http://t.co/r7XnuEfN  #ocean #bacteria A brand new musical about a stressed-out shrink? Check out what these creative #UCSB students staged from the ground up http://t.co/A4Kbh3Yj Have you made your pledge yet? http://t.co/soBN6nYW Making a Impact.  What's Yours? http://t.co/FOQhSPBP Meet the Gaucho and Moby Duck at 2pm near Storke Tower. Want to borrow a copy of Moby Duck? We have 6 copies.  SBPL has over 200 copies in their system.  Have fun reading!  #ucsbreads 2500 copies of Moby Duck were given to students yesterday. If you missed out, you can check it out! http://t.co/5WeH37cu Quack quack! #UCSB http://t.co/ZqdxtJ7a Check out photos from our UCSB Reads celebrations so far!  http://t.co/N6ScGqM9 #ucsbreads Come to the library to pick up your copy of Moby Duck, and check out booths out front, including MSI's Touch Tank! http://t.co/UYlEjS0e EVC Gene Lucas & UL Denise Stephens are handing out copies of Moby Duck.  Where r u? http://t.co/4cEgT2zi Come get ur copy of Moby Duck!!! http://t.co/U593VDFk Moby Duck giveaway has started Have you seen MobyDuck? http://t.co/6qHfeTHC UCSB Reads has launched! The Chancellor and Mrs. Yang are at the library handing out copies of Moby Duck now! New Winter Quarter hours coming on Monday, Jan 9.  http://t.co/vNaWorIN Hope everyone is enjoying their time off from their studies and work!  Have a fun but safe holiday season! @UCSBLibrary Library Holiday Closure: Dec. 24 - Jan. 2: The UCSB Library will be closed during the holidays\\n    ... http://t.co/zqzckwZy Library Holiday Closure: Dec. 24 - Jan. 2 http://t.co/zqzckwZy Library’s WordPress Site is Being Retired http://t.co/ouYVWETz New Library Website:  Coming Soon! http://t.co/j17gU6w MIL Closed, September 8-21 http://t.co/yooeAT3 MIL Closed, September 8-21 http://t.co/V0rjfjr Thoreau Edition Receives NEH Grant for Volumes of Correspondence http://t.co/nSzmc1q @SheevaNesva We really to add Macs too, but it's probably going to have to wait until after the renovation: http://t.co/HrV9XtN Even though we don't have Macs in the library for students to use-- we're sad to see Steve Jobs stepping down from Apple #SteveJobs @ellenohh We're disappointed too, but it's beyond our control-- it's a campus electrical grid configuration. #ucsb Planned Electrical Outage – 4-story section of the library: Thurs. 8-9 AM http://t.co/wqEBlD0 Double Sided Printing is Here!!! http://t.co/OqMDf79 Double Sided Printing is Here!!! http://t.co/gLUtuaf Wall Construction Begins in Davidson http://wp.me/p213J-mU Wall Construction Begins in Davidson http://bit.ly/o6bysn UCSB Library will undergo pre-construction tomorrow (Aug 10) on the first floor. It will be loud! More info: http://t.co/4F5H9zF Tip: incoming students (& their parents) please don't walk down the bike paths; just saw some near collisions #UCSB is very bike-oriented! has anyone read the hitchhiker's guide to the galaxy? or any of its four sequels? @dlibian must be something with the RSS feed because it pulls directly from new blog Looking for a Place to Work With a Group? http://bit.ly/pyM3gC It must be finals because the library as been surprisingly busy this week--- good luck to all the Summer A students! @@tomknight24 when you get to #UCSB drop by. It's better to figure out the library in the summer before it get packed in the fall- welcome! @SheevaNesva tell us the one thing you miss the most! in the hsu library..makes me miss the @ucsblibrary even more :( Looking back a gate counts - our busiest day this year was June 2, 2011 when we had 13,041 visitors in the Davidson Library #ucsb Daily Nexus is expanding their online section! Check dailynexus.com in the Fall for a new streaming production. @keribradford we're glad you're following us-- we're always looking to get more involved with Student Affairs! @latenitemike we hope you're having a productive summer! @SheevaNesva \"GOD I MISS LIVING AT THE @UCSBLibrary SO MUCH\" we miss you too-- it's very very quiet here this summer! @Will_is_Yawar any favorite library memories? @ellenohh thanks for following us and your interest in the library-- so tell me, what's your favorite new source? @ninjamovess thanks for following the library-- give us one good idea on how we can improve things for students! New University Librarian Joins the UCSB Library http://bit.ly/mLQCKe the last few hours of finals-- just took a walk around the library and it's nearly empty-- except for a few diehards #ucsb Free Massages Will Return in the Fall! http://bit.ly/kyhZe5 good luck with finals everyone-- we'll be seeing you in the library! #ucsb UCSB Launches New Digital Collections Site http://bit.ly/m1tqkx Exhibit in Special Collections:  Framing the Word: The Making of the Modern Bible, c. 1250-1611 http://bit.ly/mduOu7 Melvyl Changes Planned for June 24 http://bit.ly/iFxhPe @katypearce using proxy to watch TV? Hmmm, never heard of that? Anything we can help you with? PACES-- the student org focused on sustainability- is presenting today in Davidson at noon, room 1575 REMINDER - today (monday) 4pm, 3rd floor of Davidson-- Earliest  Voice Recordings, ever!   http://bit.ly/ixO1jz Exhibit of Haitian Vodou Flags in Davidson Library http://bit.ly/kphAQq Students Speak About Making the Library More Eco-friendly (Tuesday, May 13) http://bit.ly/iTFqYo UCSB Library helped build the National Jukebox\\nhttp://www.loc.gov/today/pr/2011/11-087.html Humanity’s First Recordings of its Own Voice http://bit.ly/ixO1jz Humanity’s First Recordings of its Own Voice http://wp.me/p213J-lT Hey READERS, we're working on UCSB Reads 2012. We have a list of 32 potential books, and hopefully tomorrow we'll get it down to our top 10 TODAY! Poetry Reading in the Library http://bit.ly/f8TDkw Scholarly Publishing at the Crossroads: A Panel Discussion http://bit.ly/facL7U Today is #Earth Day. The LIBRARY is deploying 100 new recycling bins. If YOU want to help, join us on the first floor, noon-3pm  #ucsb Library Addition and Renovation Planned http://bit.ly/eSBZSK Have you filed your 1040s yet? http://bit.ly/fkXsWY Celebrate Poetry Month in the Library http://bit.ly/g7BAYt UCSB Reads Author, Rebecca Skloot, to Speak on Campus http://bit.ly/gotPd7 Having Trouble with the Proxy Server? http://bit.ly/en9uh8 Slight Change to Proxy Server on Tuesday (1:30 PM) http://bit.ly/hj4NPN Appointment of New University Librarian Announced http://bit.ly/ghzuG5 Library Closed Fri. March 25 for Cesar Chavez Day http://bit.ly/fn9Jk4 Appointment of New University Librarian Announced http://bit.ly/gdmfLD Recess Hours Start on Sunday, March 20 http://bit.ly/gGZLhF Davidson Library Extended Hours for Finals http://bit.ly/epUzlY Need Some Inspiration for Finals? http://bit.ly/fcJPO2 What’s Your Opinion?  An Analysis of the Author’s Motives (UCSB Reads) http://bit.ly/f3cAw6 Congress exploring resolution to celebrate Henrietta Lacks:  http://leg1.state.va.us/cgi-bin/legp504.exe?111+ful+HR74 New Computers! http://bit.ly/eAhMjb Whats Your Opinion?  HeLa Cells From a Biologist’s Perspective http://bit.ly/eGsmLJ Have you filed your 1040s yet? http://bit.ly/eDzoBG For those who missed it yesterday, the fabulous #HeLa teaching guide by @amylovestrees is now online http://t.co/C1HwMZN Perspectives on HeLa: A Cross-Disciplinary Discussion with Faculty http://bit.ly/dPvfZC Perspectives on HeLa: A Cross-Disciplinary Discussion with Faculty http://wp.me/p213J-k2 COME TOGETHER: Interethnic Collaborations for Equity and Social Change in the 1970s http://bit.ly/ebsLNW COME TOGETHER: Interethnic Collaborations for Equity and Social Change in the 1970s http://wp.me/p213J-jO TODAY! HeLa Cells Through a Scientific Lens: A Discussion with Faculty http://bit.ly/el3Cnj Exhibition: “Roots of Community: African American Activism in Santa Barbara” http://bit.ly/h3NVss Exhibition: \"Roots of Community: African American Activism in Santa Barbara\" : http://wp.me/p213J-jw The Immortal Life of Henrietta Lacks by Rebecca Skloot - Official Trailer\\nhttp://www.youtube.com/watch?v=fRb91_gXchc HeLa Cells Through a Scientific Lens: A Discussion with Faculty http://bit.ly/i6kIzU We're working on getting some HeLa cells and a microscope-- hope you are finding the book interesting Nobel Prize Alumna returns;  talks about cancer research; acknowledged in Immortal Life\\nhttp://www.ia.ucsb.edu/pa/display.aspx?pkey=2396 Interesting FREE talk tonight via @ArtsandLectures   Jaron Lanier, You Are Not a Gadget – A Manifesto. 8pm Campbell Hall (Jan 20) What’s Your Opinion? The Ethics of Human Cell Research http://bit.ly/fes5Ih READS event with Student Affairs: YOUR IDENTITY MATTERS http://www.facebook.com/event.php?eid=142124405846041 #ucsb Changes to Laptop Printing http://bit.ly/etvtfH All of our copies of the UCSB Reads book The Immortal Life of Henrietta Lacks have been given away-- great to see so much interest! Add Your Leaf to Our Community Identity Tree http://bit.ly/enCbcA We saved a few hundred books to giveaway today for UCSB Reads. Please read this amazing true story. 9AM, Davidson Library, FREE Giving away 2000 copies of @rebeccaskloots book Immortal Life of Henrietta Lacks today to #ucsb students. noon. Davidson Library. FREE We had 165 people request eBook versions of this year's book, but we only had 100 to give away-- this let's us know there is interest. last day to get READS book via eBook format:\\nhttp://ucsblibraries.wordpress.com/2010/12/31/ebook-versions-of-the-ucsb-reads-book-available/ Free UCSB Reads Book for UCSB Students http://bit.ly/hcBMK5 eBook Versions of the UCSB Reads Book Available http://bit.ly/h9rFxG Library Holiday Closure: Dec. 24 – Jan. 1 http://bit.ly/fpFtIT East Exit Closed Dec. 21-24 http://bit.ly/idc0gM 24-Hour Room Closed Dec. 24 – Jan. 1 http://bit.ly/e6qQyD Library Holiday Closure: Dec. 24 – Jan. 1 http://bit.ly/edyzsq Davidson Library Extended Hours for Finals (Dec. 3-11) http://bit.ly/hnEHS3 Want eBook of Immortal Life of Henrietta Lacks? We're giving away 100 free digital copies: http://www.surveymonkey.com/s/ebookgiveaway be sure to drop by the UCSB Library today to celebrate our 3,000,000th book. Food, giveaways, raffle, and community art project Help us reduce our eco-footprint: \\nhttps://spreadsheets.google.com/viewform?hl=en&formkey=dHU2S2dKUnJmQl9ySV9DYnRBeW1XS3c6MA#gid=0 be sure to check out the @dailynexus article about banned books http://www.dailynexus.com/2010-09-28/library-features-restricted-books/ @SantaBarbaraMTD when we get the books in Jan, maybe we can give you some to random give away on the buses? just an idea As you can tell from our background image we've selected the book for 2011. We're excited about it and will have more info to share soon. Need a laptop? Check one out from the Library: http://ucsblibraries.wordpress.com/2010/09/01/need-to-borrow-a-laptop/ Milton takes over campus. Students from ENGL 162 will be reading Paradise Lost aloud all day friday. Join in. Starts @ 9am UCen Balcony Collectively we had nearly 450 suggestions-- we distilled that down to 9. hopefully Aug 16 we'll be able to announce our next book #ucsb We selected a winner for our Kindle giveaway. Thanks again everyone for your enthusiasm. http://www.youtube.com/myucsblibrary Hey there UCSB Readers. We had nearly 400 suggestions for our next book. Thanks! Love to see your interest. We're looking through them now. Suggest the next book for UCSB Reads and you could win a Kindle   http://tiny.cc/d6mwv After traveling more than 12,000 miles over 122 days and 7 futile attempts, Enrique is reunited with his mother. Day 45. The smugglers get paid and Enrique is on his way to Orlando. Enrique’s mother’s boyfriend drives from North Carolina to pick him up. Day 44. Enrique’s mom can’t sleep. She is worried & anxious about her son. The smugglers demand more money; she wires it to them in Dallas. Day 43. An SUV picks up Enrique and the others near the border. On route to Dallas, he passes out from exhaustion. Day 42. Border Patrol lights flash across the river, but they don’t see Enrique. After four months of hardship he has made it to US soil. Day 41. Enrique crosses the Rio Grande on an inner tube. It’s pitch dark and he can’t swim. An SUV in the distance flashes its lights. Day 40.  Enrique’s mom trembles when she hears his voice on the phone. She wires him $1,200 to hire a smuggler to help him cross the river. Day 39. Enrique calls his uncle and gets his mother’s current phone number. He has not spoken with her in a long time. He dials and waits… Day 38.  Enrique struggles to save money to pay a smuggler. He often considers crossing alone but knows it’s too dangerous. UCSB Reads Event: Panel discussion. Thursday, March 4th, 4:00 pm, Solvang Public Library http://ucsbreads.library.ucsb.edu/events.html Enrique’s mom learns that he has left for the US. She worries desperately. “Where is my son?” “Why hasn’t he called?” “Is he ok?” UCSB Reads Event: Panel discussion. Tomorrow, March 3, 5:30 pm, Carpinteria Public Library http://ucsbreads.library.ucsb.edu/events.html UCSB Reads Event: Panel Discussion: \"Borders: Cultural, Political and Economic.\" Tomorrow, March 3, 2:30pm, SBCC Luria Library Day 36. Enrique takes up residence in a refuge camp. The migrants lookout for each other. They are all trying to cross the border. Day 35. Enrique watches, listens, and plans. How can he cross the river?  He gets a job washing cars while he figures out what to do next. Day 34. Enrique hitches a ride with a trucker to Nuevo Laredo; he approaches the border. Staring across the Rio Grande he gazes at the US. UCSB Reads Event: Tomorrow (Feb 24) 5:30 pm / Discurso en español, Biblioteca Eastside (in Spanish only at the Eastside Public Library) UCSB Reads Event: Diversity Dialogue: \"Families Without Borders\" Today, 2:30-3:30 p.m. / Luria Library, Santa Barbara City College Day 33. Enrique takes a bus to Matehuala. http://en.wikipedia.org/wiki/Matehuala He has traveled over 1,000 miles and rode 30 train rides. UCSB Reads Event. Book & Issues Community Conversation. Tonight. 6:00 pm / Montecito Public Library Day 32. Enrique works as a brick maker in Mexico. This provides food & a place to sleep. He is saving money so he can cross into the USA. Day 31. Enrique reaches Mexico City and faces intense prejudice. The residents blame the migrants for many crimes that are committed. Day 30. Enrique heads north. As the train crosses the mountains the temperature drops. Some of his fellow travelers will freeze to death. UCSB Reads Event Today: Community Discussion on The Politics of Immigration. Join us in the Group Commons (Lib 1st floor) @ noon today. Day 29. Enrique nears Cordoba. The train cargo is becoming more valuable (cars) and therefore the security checks are now more frequent. Day 28. The towns of Encinar, Fortin de las Flores, Cuichapa, and Presidio are particularly known for their kindness to migrants. Please help us welcome Pulitzer Prize Winner Sonia Nazario to UCSB. She will be giving a free lecture @ 7:30pm tonight in Campbell Hall. Day 28. The towns of Encinar, Fortin de las Flores, Cuichapa, and Presidio are particularly known for their kindness to migrants. Day 27. Enrique is greeted with generosity. The people of Oaxaca & Veracruz toss food & water to help migrants on their journey. UCSB Reads Event Today: Community Discussion on Immigration and Identity. Join us in the Group Commons (Lib 1st floor) @ noon today. Day 26. Enrique rolls through the sugarcane fields of Veracruz. He is about one-third of the way through Mexico. http://tiny.cc/nQuFe Day 25. Enrique avoids the fate of many other migrants and makes it to Oaxaca. He tries to blend in as he seeks food and shelter.\")"
      ]
     },
     "execution_count": 43,
     "metadata": {},
     "output_type": "execute_result"
    }
   ],
   "source": [
    "#This produces a mess when we output it. \n",
    "(library_blob)"
   ]
  },
  {
   "cell_type": "code",
   "execution_count": 44,
   "id": "1a5a3b36-fffd-477c-91bb-cdf315dbe285",
   "metadata": {},
   "outputs": [
    {
     "data": {
      "text/plain": [
       "[('https', 2282),\n",
       " ('to', 1646),\n",
       " ('of', 1523),\n",
       " ('and', 1244),\n",
       " ('ucsb', 1148),\n",
       " ('http', 1117),\n",
       " ('in', 1107),\n",
       " ('library', 1071),\n",
       " ('a', 1047),\n",
       " ('for', 1012),\n",
       " ('s', 745),\n",
       " ('on', 671),\n",
       " ('at', 634),\n",
       " ('you', 605),\n",
       " ('our', 547),\n",
       " ('we', 532),\n",
       " ('is', 499),\n",
       " ('from', 475),\n",
       " ('this', 453),\n",
       " ('ucsblibrary', 415),\n",
       " ('with', 391),\n",
       " ('by', 391),\n",
       " ('amp', 331),\n",
       " ('more', 327)]"
      ]
     },
     "execution_count": 44,
     "metadata": {},
     "output_type": "execute_result"
    }
   ],
   "source": [
    "# Let's count the words and sort by their frequency of use:\n",
    "library_freq = library_blob.word_counts\n",
    "library_sorted_freq = sorted(library_freq.items(), \n",
    "                             key = lambda kv: kv[1], \n",
    "                             reverse = True)\n",
    "library_sorted_freq[1:25]"
   ]
  },
  {
   "cell_type": "markdown",
   "id": "dfa676be-7ceb-45e8-82e8-7429b8884d7b",
   "metadata": {},
   "source": [
    "We can at least get the english stopwords out. but this all didn't reall produce anything cleaner:"
   ]
  },
  {
   "cell_type": "code",
   "execution_count": 45,
   "id": "b5cd1c12-d78a-44e5-9376-26b4a0589785",
   "metadata": {},
   "outputs": [],
   "source": [
    "# load the stopwords to use\n",
    "from nltk.corpus import stopwords\n",
    "sw_nltk = stopwords.words('english')"
   ]
  },
  {
   "cell_type": "code",
   "execution_count": 46,
   "id": "e878e6b7-2c29-45e8-83cd-fb0eefd3b668",
   "metadata": {},
   "outputs": [],
   "source": [
    "# create a new text list that does\n",
    "# NOT contain stopwords\n",
    "library_str_stopped = [word for word in library_string.split() \n",
    "                       if word.lower() not in sw_nltk]\n",
    "library_words_stopped = \" \".join(library_str_stopped)"
   ]
  },
  {
   "cell_type": "code",
   "execution_count": 47,
   "id": "6e27a5b1-0519-407c-ae52-abd0587857a5",
   "metadata": {},
   "outputs": [
    {
     "data": {
      "text/plain": [
       "[('ucsb', 1148),\n",
       " ('http', 1117),\n",
       " ('library', 1071),\n",
       " ('s', 679),\n",
       " ('ucsblibrary', 415),\n",
       " ('amp', 331),\n",
       " ('new', 288),\n",
       " ('today', 250),\n",
       " ('us', 232),\n",
       " ('’', 228),\n",
       " ('book', 218),\n",
       " ('research', 212),\n",
       " ('here', 210),\n",
       " ('students', 195),\n",
       " ('reads', 189),\n",
       " ('open', 187),\n",
       " ('we', 178),\n",
       " ('check', 177),\n",
       " ('join', 164),\n",
       " ('week', 161),\n",
       " ('floor', 145),\n",
       " ('day', 143),\n",
       " ('free', 139),\n",
       " ('collections', 138),\n",
       " ('access', 136),\n",
       " ('art', 127),\n",
       " ('re', 126),\n",
       " ('special', 120),\n",
       " ('study', 119),\n",
       " ('learn', 116),\n",
       " ('collection', 112),\n",
       " ('first', 108),\n",
       " ('campus', 106),\n",
       " ('one', 103),\n",
       " ('info', 102),\n",
       " ('books', 102),\n",
       " ('available', 102),\n",
       " ('see', 100),\n",
       " ('uc', 99),\n",
       " ('come', 99),\n",
       " ('librarian', 98),\n",
       " ('community', 97),\n",
       " ('student', 97),\n",
       " ('talk', 96),\n",
       " ('exhibit', 95),\n",
       " ('hours', 93),\n",
       " ('more', 92),\n",
       " ('read', 90),\n",
       " ('science', 89)]"
      ]
     },
     "execution_count": 47,
     "metadata": {},
     "output_type": "execute_result"
    }
   ],
   "source": [
    "library_blob_stopped = textblob.TextBlob(library_words_stopped)\n",
    "library_blob_stopped_freq = library_blob_stopped.word_counts\n",
    "library_blob_stopped_sorted_freq = sorted(library_blob_stopped_freq.items(), \n",
    "                             key = lambda kv: kv[1], \n",
    "                             reverse = True)\n",
    "library_blob_stopped_sorted_freq[1:50]"
   ]
  },
  {
   "cell_type": "code",
   "execution_count": 48,
   "id": "e7e02e4b-e055-47a8-a99a-03e47a9868c4",
   "metadata": {},
   "outputs": [
    {
     "data": {
      "text/plain": [
       "[('new', 288),\n",
       " ('today', 250),\n",
       " ('us', 232),\n",
       " ('’', 228),\n",
       " ('book', 218),\n",
       " ('research', 212),\n",
       " ('here', 210),\n",
       " ('students', 195),\n",
       " ('reads', 189),\n",
       " ('open', 187),\n",
       " ('we', 178),\n",
       " ('check', 177),\n",
       " ('join', 164),\n",
       " ('week', 161),\n",
       " ('floor', 145),\n",
       " ('day', 143),\n",
       " ('free', 139),\n",
       " ('collections', 138),\n",
       " ('access', 136),\n",
       " ('art', 127),\n",
       " ('re', 126),\n",
       " ('special', 120),\n",
       " ('study', 119),\n",
       " ('learn', 116),\n",
       " ('collection', 112),\n",
       " ('first', 108),\n",
       " ('campus', 106),\n",
       " ('one', 103),\n",
       " ('info', 102),\n",
       " ('books', 102),\n",
       " ('available', 102),\n",
       " ('see', 100),\n",
       " ('uc', 99),\n",
       " ('come', 99),\n",
       " ('librarian', 98),\n",
       " ('community', 97),\n",
       " ('student', 97),\n",
       " ('talk', 96),\n",
       " ('exhibit', 95),\n",
       " ('hours', 93),\n",
       " ('more', 92),\n",
       " ('read', 90),\n",
       " ('science', 89),\n",
       " ('“', 87),\n",
       " ('”', 86),\n",
       " ('time', 86),\n",
       " ('barbara', 85),\n",
       " ('tbt', 84),\n",
       " ('santa', 83),\n",
       " ('year', 82)]"
      ]
     },
     "execution_count": 48,
     "metadata": {},
     "output_type": "execute_result"
    }
   ],
   "source": [
    "# a more meaningful segment\n",
    "library_blob_stopped_sorted_freq[7:57]"
   ]
  },
  {
   "cell_type": "code",
   "execution_count": 49,
   "id": "e074d32e-4a94-4add-89b3-cf0863340cea",
   "metadata": {},
   "outputs": [],
   "source": [
    "# Challenge: for the Python wizzes. #FIXME\n",
    "# do that in a tidy way?\n",
    "# what do pandas pipes look like?"
   ]
  },
  {
   "cell_type": "markdown",
   "id": "eb8207e9-0ef4-4c45-a236-09e8efb24899",
   "metadata": {},
   "source": [
    "# Just the words, hold the gore"
   ]
  },
  {
   "cell_type": "code",
   "execution_count": null,
   "id": "b0c4d3b0-87bc-4723-8598-a6b782b30791",
   "metadata": {},
   "outputs": [],
   "source": []
  },
  {
   "cell_type": "markdown",
   "id": "2bc9aad4-1981-4911-ac2e-18bb3b0e92ae",
   "metadata": {},
   "source": [
    "## Challenge: Insta-rrectionists"
   ]
  },
  {
   "cell_type": "code",
   "execution_count": 50,
   "id": "76119af0-f58e-4bb4-a296-f0718b28a05b",
   "metadata": {},
   "outputs": [
    {
     "data": {
      "text/plain": [
       "82308"
      ]
     },
     "execution_count": 50,
     "metadata": {},
     "output_type": "execute_result"
    }
   ],
   "source": [
    "# how long is this?\n",
    "riots_dehydrated_df = pandas.read_csv(\"raw_data/dehydratedCapitolRiotTweets.txt\")\n",
    "len(riots_dehydrated_df)"
   ]
  },
  {
   "cell_type": "code",
   "execution_count": 51,
   "id": "fe5551d5-4b64-4731-9285-82bfc5fd9a87",
   "metadata": {},
   "outputs": [],
   "source": [
    "# this takes a very long time.\n",
    "# !twarc2 hydrate raw_data/dehydratedCapitolRiotTweets.txt raw_data/riots.jsonl"
   ]
  },
  {
   "cell_type": "code",
   "execution_count": 52,
   "id": "ae63a6f5-71af-4a07-a940-d96b45ebd1a2",
   "metadata": {},
   "outputs": [
    {
     "name": "stdout",
     "output_type": "stream",
     "text": [
      "    65554  31279893 553455111 output_data/riots_flat.jsonl\n",
      "    65322  12010592 360330969 output_data/riots_flat.csv\n"
     ]
    }
   ],
   "source": [
    "# regardless of how you slice this, it's about \n",
    "# 80 % of the content that is still there.\n",
    "\n",
    "# these are very slow, so they are commented out\n",
    "# ! twarc2 flatten raw_data/riots.jsonl output_data/riots_flat.jsonl\n",
    "# ! twarc2 csv output_data/riots_flat.jsonl output_data/riots_flat.csv\n",
    "\n",
    "! wc output_data/riots_flat.jsonl\n",
    "! wc output_data/riots_flat.csv\n"
   ]
  },
  {
   "cell_type": "code",
   "execution_count": 53,
   "id": "e9940af5-4060-482a-8b32-b9100edc2be4",
   "metadata": {},
   "outputs": [],
   "source": [
    "! head -n 10000 output_data/riots_flat.jsonl > output_data/riots10k.jsonl\n",
    "! twarc2 csv output_data/riots10k.jsonl > output_data/riots10k.csv"
   ]
  },
  {
   "cell_type": "code",
   "execution_count": 55,
   "id": "77650dfb-2962-4afa-ba53-5ab83032feff",
   "metadata": {},
   "outputs": [],
   "source": [
    " riots_df = pandas.read_csv(\"output_data/riots10k.csv\", low_memory=False)"
   ]
  },
  {
   "cell_type": "code",
   "execution_count": 56,
   "id": "41c2a615-48c8-4a97-9624-9bd95a92f466",
   "metadata": {},
   "outputs": [
    {
     "data": {
      "text/plain": [
       "(9997, 74)"
      ]
     },
     "execution_count": 56,
     "metadata": {},
     "output_type": "execute_result"
    }
   ],
   "source": [
    "riots_df.shape"
   ]
  },
  {
   "cell_type": "code",
   "execution_count": 57,
   "id": "3f11eaf7-ee2d-499c-8b56-7130fb9a5ab0",
   "metadata": {},
   "outputs": [
    {
     "data": {
      "text/plain": [
       "Index(['id', 'conversation_id', 'referenced_tweets.replied_to.id',\n",
       "       'referenced_tweets.retweeted.id', 'referenced_tweets.quoted.id',\n",
       "       'author_id', 'in_reply_to_user_id', 'retweeted_user_id',\n",
       "       'quoted_user_id', 'created_at', 'text', 'lang', 'source',\n",
       "       'public_metrics.like_count', 'public_metrics.quote_count',\n",
       "       'public_metrics.reply_count', 'public_metrics.retweet_count',\n",
       "       'reply_settings', 'possibly_sensitive', 'withheld.scope',\n",
       "       'withheld.copyright', 'withheld.country_codes', 'entities.annotations',\n",
       "       'entities.cashtags', 'entities.hashtags', 'entities.mentions',\n",
       "       'entities.urls', 'context_annotations', 'attachments.media',\n",
       "       'attachments.media_keys', 'attachments.poll.duration_minutes',\n",
       "       'attachments.poll.end_datetime', 'attachments.poll.id',\n",
       "       'attachments.poll.options', 'attachments.poll.voting_status',\n",
       "       'attachments.poll_ids', 'author.id', 'author.created_at',\n",
       "       'author.username', 'author.name', 'author.description',\n",
       "       'author.entities.description.cashtags',\n",
       "       'author.entities.description.hashtags',\n",
       "       'author.entities.description.mentions',\n",
       "       'author.entities.description.urls', 'author.entities.url.urls',\n",
       "       'author.location', 'author.pinned_tweet_id', 'author.profile_image_url',\n",
       "       'author.protected', 'author.public_metrics.followers_count',\n",
       "       'author.public_metrics.following_count',\n",
       "       'author.public_metrics.listed_count',\n",
       "       'author.public_metrics.tweet_count', 'author.url', 'author.verified',\n",
       "       'author.withheld.scope', 'author.withheld.copyright',\n",
       "       'author.withheld.country_codes', 'geo.coordinates.coordinates',\n",
       "       'geo.coordinates.type', 'geo.country', 'geo.country_code',\n",
       "       'geo.full_name', 'geo.geo.bbox', 'geo.geo.type', 'geo.id', 'geo.name',\n",
       "       'geo.place_id', 'geo.place_type', '__twarc.retrieved_at', '__twarc.url',\n",
       "       '__twarc.version', 'Unnamed: 73'],\n",
       "      dtype='object')"
      ]
     },
     "execution_count": 57,
     "metadata": {},
     "output_type": "execute_result"
    }
   ],
   "source": [
    "riots_df.columns"
   ]
  },
  {
   "cell_type": "code",
   "execution_count": 58,
   "id": "66035404-0485-457f-97b8-276f91f9ce73",
   "metadata": {},
   "outputs": [
    {
     "data": {
      "text/plain": [
       "(9160,)"
      ]
     },
     "execution_count": 58,
     "metadata": {},
     "output_type": "execute_result"
    }
   ],
   "source": [
    "# count the users\n",
    "users_df = riots_df.author_id.unique()\n",
    "(users_df.shape)"
   ]
  },
  {
   "cell_type": "code",
   "execution_count": 59,
   "id": "cf391ba5-86da-4a56-b52c-3ea6b258e477",
   "metadata": {},
   "outputs": [
    {
     "data": {
      "text/plain": [
       "(230,)"
      ]
     },
     "execution_count": 59,
     "metadata": {},
     "output_type": "execute_result"
    }
   ],
   "source": [
    "users_quoted_df = riots_df.quoted_user_id.unique()\n",
    "(users_quoted_df.shape)"
   ]
  },
  {
   "cell_type": "markdown",
   "id": "3d6da4f1-7a9a-47ef-a5ce-d4e5a3920752",
   "metadata": {},
   "source": [
    "# Episode 6: Search and Filter"
   ]
  },
  {
   "cell_type": "code",
   "execution_count": 60,
   "id": "afb13818-26a5-4d6a-bcf1-f99b3d7c966c",
   "metadata": {},
   "outputs": [
    {
     "name": "stdout",
     "output_type": "stream",
     "text": [
      "100%|██████████████| Processed 2.59M/2.59M of input file [00:00<00:00, 3.11MB/s]\n",
      "\n",
      "ℹ️\n",
      "Parsed 899 tweets objects from 9 lines in the input file.\n",
      "Wrote 899 rows and output 74 columns in the CSV.\n",
      "\n"
     ]
    }
   ],
   "source": [
    "# use Twitter advanced search syntax (everthing in quotes!)\n",
    "# to get tailored results\n",
    "# !twarc2 search --limit 800 \"(cute OR fluffy OR haircut) (#catsofinstagram) lang:en\" raw_data/kittens.jsonl\n",
    "!twarc2 csv raw_data/kittens.jsonl output_data/kittens.csv"
   ]
  },
  {
   "cell_type": "code",
   "execution_count": 61,
   "id": "0ec3cfcd-55cb-4434-b633-b548cb321141",
   "metadata": {},
   "outputs": [],
   "source": [
    "kittens_df = pandas.read_csv(\"output_data/kittens.csv\")"
   ]
  },
  {
   "cell_type": "code",
   "execution_count": 62,
   "id": "92c8aa01-430a-4599-a65d-aaac822ff8c9",
   "metadata": {},
   "outputs": [
    {
     "data": {
      "text/html": [
       "<div>\n",
       "<style scoped>\n",
       "    .dataframe tbody tr th:only-of-type {\n",
       "        vertical-align: middle;\n",
       "    }\n",
       "\n",
       "    .dataframe tbody tr th {\n",
       "        vertical-align: top;\n",
       "    }\n",
       "\n",
       "    .dataframe thead th {\n",
       "        text-align: right;\n",
       "    }\n",
       "</style>\n",
       "<table border=\"1\" class=\"dataframe\">\n",
       "  <thead>\n",
       "    <tr style=\"text-align: right;\">\n",
       "      <th></th>\n",
       "      <th>id</th>\n",
       "      <th>conversation_id</th>\n",
       "      <th>referenced_tweets.replied_to.id</th>\n",
       "      <th>referenced_tweets.retweeted.id</th>\n",
       "      <th>referenced_tweets.quoted.id</th>\n",
       "      <th>author_id</th>\n",
       "      <th>in_reply_to_user_id</th>\n",
       "      <th>retweeted_user_id</th>\n",
       "      <th>quoted_user_id</th>\n",
       "      <th>created_at</th>\n",
       "      <th>...</th>\n",
       "      <th>geo.geo.bbox</th>\n",
       "      <th>geo.geo.type</th>\n",
       "      <th>geo.id</th>\n",
       "      <th>geo.name</th>\n",
       "      <th>geo.place_id</th>\n",
       "      <th>geo.place_type</th>\n",
       "      <th>__twarc.retrieved_at</th>\n",
       "      <th>__twarc.url</th>\n",
       "      <th>__twarc.version</th>\n",
       "      <th>Unnamed: 73</th>\n",
       "    </tr>\n",
       "  </thead>\n",
       "  <tbody>\n",
       "    <tr>\n",
       "      <th>0</th>\n",
       "      <td>1528574826507554816</td>\n",
       "      <td>1528574826507554816</td>\n",
       "      <td>NaN</td>\n",
       "      <td>1.526889e+18</td>\n",
       "      <td>NaN</td>\n",
       "      <td>1339747029451419648</td>\n",
       "      <td>NaN</td>\n",
       "      <td>3.958303e+09</td>\n",
       "      <td>NaN</td>\n",
       "      <td>2022-05-23T03:13:32.000Z</td>\n",
       "      <td>...</td>\n",
       "      <td>NaN</td>\n",
       "      <td>NaN</td>\n",
       "      <td>NaN</td>\n",
       "      <td>NaN</td>\n",
       "      <td>NaN</td>\n",
       "      <td>NaN</td>\n",
       "      <td>2022-05-23T03:17:48+00:00</td>\n",
       "      <td>https://api.twitter.com/2/tweets/search/recent...</td>\n",
       "      <td>2.10.4</td>\n",
       "      <td>NaN</td>\n",
       "    </tr>\n",
       "    <tr>\n",
       "      <th>1</th>\n",
       "      <td>1528570565065379840</td>\n",
       "      <td>1528570565065379840</td>\n",
       "      <td>NaN</td>\n",
       "      <td>1.526889e+18</td>\n",
       "      <td>NaN</td>\n",
       "      <td>1052848710</td>\n",
       "      <td>NaN</td>\n",
       "      <td>3.958303e+09</td>\n",
       "      <td>NaN</td>\n",
       "      <td>2022-05-23T02:56:36.000Z</td>\n",
       "      <td>...</td>\n",
       "      <td>NaN</td>\n",
       "      <td>NaN</td>\n",
       "      <td>NaN</td>\n",
       "      <td>NaN</td>\n",
       "      <td>NaN</td>\n",
       "      <td>NaN</td>\n",
       "      <td>2022-05-23T03:17:48+00:00</td>\n",
       "      <td>https://api.twitter.com/2/tweets/search/recent...</td>\n",
       "      <td>2.10.4</td>\n",
       "      <td>NaN</td>\n",
       "    </tr>\n",
       "    <tr>\n",
       "      <th>2</th>\n",
       "      <td>1528558400346259456</td>\n",
       "      <td>1528558400346259456</td>\n",
       "      <td>NaN</td>\n",
       "      <td>1.528045e+18</td>\n",
       "      <td>NaN</td>\n",
       "      <td>616608467</td>\n",
       "      <td>NaN</td>\n",
       "      <td>1.212552e+18</td>\n",
       "      <td>NaN</td>\n",
       "      <td>2022-05-23T02:08:16.000Z</td>\n",
       "      <td>...</td>\n",
       "      <td>NaN</td>\n",
       "      <td>NaN</td>\n",
       "      <td>NaN</td>\n",
       "      <td>NaN</td>\n",
       "      <td>NaN</td>\n",
       "      <td>NaN</td>\n",
       "      <td>2022-05-23T03:17:48+00:00</td>\n",
       "      <td>https://api.twitter.com/2/tweets/search/recent...</td>\n",
       "      <td>2.10.4</td>\n",
       "      <td>NaN</td>\n",
       "    </tr>\n",
       "    <tr>\n",
       "      <th>3</th>\n",
       "      <td>1528547008151101440</td>\n",
       "      <td>1528547008151101440</td>\n",
       "      <td>NaN</td>\n",
       "      <td>1.528454e+18</td>\n",
       "      <td>NaN</td>\n",
       "      <td>1373558094693683204</td>\n",
       "      <td>NaN</td>\n",
       "      <td>2.926437e+09</td>\n",
       "      <td>NaN</td>\n",
       "      <td>2022-05-23T01:23:00.000Z</td>\n",
       "      <td>...</td>\n",
       "      <td>NaN</td>\n",
       "      <td>NaN</td>\n",
       "      <td>NaN</td>\n",
       "      <td>NaN</td>\n",
       "      <td>NaN</td>\n",
       "      <td>NaN</td>\n",
       "      <td>2022-05-23T03:17:48+00:00</td>\n",
       "      <td>https://api.twitter.com/2/tweets/search/recent...</td>\n",
       "      <td>2.10.4</td>\n",
       "      <td>NaN</td>\n",
       "    </tr>\n",
       "    <tr>\n",
       "      <th>4</th>\n",
       "      <td>1528544995975757827</td>\n",
       "      <td>1528544995975757827</td>\n",
       "      <td>NaN</td>\n",
       "      <td>1.528153e+18</td>\n",
       "      <td>NaN</td>\n",
       "      <td>264383293</td>\n",
       "      <td>NaN</td>\n",
       "      <td>2.826013e+09</td>\n",
       "      <td>NaN</td>\n",
       "      <td>2022-05-23T01:15:00.000Z</td>\n",
       "      <td>...</td>\n",
       "      <td>NaN</td>\n",
       "      <td>NaN</td>\n",
       "      <td>NaN</td>\n",
       "      <td>NaN</td>\n",
       "      <td>NaN</td>\n",
       "      <td>NaN</td>\n",
       "      <td>2022-05-23T03:17:48+00:00</td>\n",
       "      <td>https://api.twitter.com/2/tweets/search/recent...</td>\n",
       "      <td>2.10.4</td>\n",
       "      <td>NaN</td>\n",
       "    </tr>\n",
       "    <tr>\n",
       "      <th>...</th>\n",
       "      <td>...</td>\n",
       "      <td>...</td>\n",
       "      <td>...</td>\n",
       "      <td>...</td>\n",
       "      <td>...</td>\n",
       "      <td>...</td>\n",
       "      <td>...</td>\n",
       "      <td>...</td>\n",
       "      <td>...</td>\n",
       "      <td>...</td>\n",
       "      <td>...</td>\n",
       "      <td>...</td>\n",
       "      <td>...</td>\n",
       "      <td>...</td>\n",
       "      <td>...</td>\n",
       "      <td>...</td>\n",
       "      <td>...</td>\n",
       "      <td>...</td>\n",
       "      <td>...</td>\n",
       "      <td>...</td>\n",
       "      <td>...</td>\n",
       "    </tr>\n",
       "    <tr>\n",
       "      <th>894</th>\n",
       "      <td>1526927292382969858</td>\n",
       "      <td>1526927292382969858</td>\n",
       "      <td>NaN</td>\n",
       "      <td>1.526889e+18</td>\n",
       "      <td>NaN</td>\n",
       "      <td>1507717680421298181</td>\n",
       "      <td>NaN</td>\n",
       "      <td>3.958303e+09</td>\n",
       "      <td>NaN</td>\n",
       "      <td>2022-05-18T14:06:50.000Z</td>\n",
       "      <td>...</td>\n",
       "      <td>NaN</td>\n",
       "      <td>NaN</td>\n",
       "      <td>NaN</td>\n",
       "      <td>NaN</td>\n",
       "      <td>NaN</td>\n",
       "      <td>NaN</td>\n",
       "      <td>2022-05-23T03:17:55+00:00</td>\n",
       "      <td>https://api.twitter.com/2/tweets/search/recent...</td>\n",
       "      <td>2.10.4</td>\n",
       "      <td>NaN</td>\n",
       "    </tr>\n",
       "    <tr>\n",
       "      <th>895</th>\n",
       "      <td>1526927183905693696</td>\n",
       "      <td>1526927183905693696</td>\n",
       "      <td>NaN</td>\n",
       "      <td>1.526889e+18</td>\n",
       "      <td>NaN</td>\n",
       "      <td>862826271016931331</td>\n",
       "      <td>NaN</td>\n",
       "      <td>3.958303e+09</td>\n",
       "      <td>NaN</td>\n",
       "      <td>2022-05-18T14:06:24.000Z</td>\n",
       "      <td>...</td>\n",
       "      <td>NaN</td>\n",
       "      <td>NaN</td>\n",
       "      <td>NaN</td>\n",
       "      <td>NaN</td>\n",
       "      <td>NaN</td>\n",
       "      <td>NaN</td>\n",
       "      <td>2022-05-23T03:17:55+00:00</td>\n",
       "      <td>https://api.twitter.com/2/tweets/search/recent...</td>\n",
       "      <td>2.10.4</td>\n",
       "      <td>NaN</td>\n",
       "    </tr>\n",
       "    <tr>\n",
       "      <th>896</th>\n",
       "      <td>1526926332516515841</td>\n",
       "      <td>1526926332516515841</td>\n",
       "      <td>NaN</td>\n",
       "      <td>1.526889e+18</td>\n",
       "      <td>NaN</td>\n",
       "      <td>373612360</td>\n",
       "      <td>NaN</td>\n",
       "      <td>3.958303e+09</td>\n",
       "      <td>NaN</td>\n",
       "      <td>2022-05-18T14:03:01.000Z</td>\n",
       "      <td>...</td>\n",
       "      <td>NaN</td>\n",
       "      <td>NaN</td>\n",
       "      <td>NaN</td>\n",
       "      <td>NaN</td>\n",
       "      <td>NaN</td>\n",
       "      <td>NaN</td>\n",
       "      <td>2022-05-23T03:17:55+00:00</td>\n",
       "      <td>https://api.twitter.com/2/tweets/search/recent...</td>\n",
       "      <td>2.10.4</td>\n",
       "      <td>NaN</td>\n",
       "    </tr>\n",
       "    <tr>\n",
       "      <th>897</th>\n",
       "      <td>1526926256259973121</td>\n",
       "      <td>1526926256259973121</td>\n",
       "      <td>NaN</td>\n",
       "      <td>1.526889e+18</td>\n",
       "      <td>NaN</td>\n",
       "      <td>1232696931408924677</td>\n",
       "      <td>NaN</td>\n",
       "      <td>3.958303e+09</td>\n",
       "      <td>NaN</td>\n",
       "      <td>2022-05-18T14:02:43.000Z</td>\n",
       "      <td>...</td>\n",
       "      <td>NaN</td>\n",
       "      <td>NaN</td>\n",
       "      <td>NaN</td>\n",
       "      <td>NaN</td>\n",
       "      <td>NaN</td>\n",
       "      <td>NaN</td>\n",
       "      <td>2022-05-23T03:17:55+00:00</td>\n",
       "      <td>https://api.twitter.com/2/tweets/search/recent...</td>\n",
       "      <td>2.10.4</td>\n",
       "      <td>NaN</td>\n",
       "    </tr>\n",
       "    <tr>\n",
       "      <th>898</th>\n",
       "      <td>1526925999123857409</td>\n",
       "      <td>1526925999123857409</td>\n",
       "      <td>NaN</td>\n",
       "      <td>1.526889e+18</td>\n",
       "      <td>NaN</td>\n",
       "      <td>961228802</td>\n",
       "      <td>NaN</td>\n",
       "      <td>3.958303e+09</td>\n",
       "      <td>NaN</td>\n",
       "      <td>2022-05-18T14:01:41.000Z</td>\n",
       "      <td>...</td>\n",
       "      <td>NaN</td>\n",
       "      <td>NaN</td>\n",
       "      <td>NaN</td>\n",
       "      <td>NaN</td>\n",
       "      <td>NaN</td>\n",
       "      <td>NaN</td>\n",
       "      <td>2022-05-23T03:17:55+00:00</td>\n",
       "      <td>https://api.twitter.com/2/tweets/search/recent...</td>\n",
       "      <td>2.10.4</td>\n",
       "      <td>NaN</td>\n",
       "    </tr>\n",
       "  </tbody>\n",
       "</table>\n",
       "<p>899 rows × 74 columns</p>\n",
       "</div>"
      ],
      "text/plain": [
       "                      id      conversation_id  \\\n",
       "0    1528574826507554816  1528574826507554816   \n",
       "1    1528570565065379840  1528570565065379840   \n",
       "2    1528558400346259456  1528558400346259456   \n",
       "3    1528547008151101440  1528547008151101440   \n",
       "4    1528544995975757827  1528544995975757827   \n",
       "..                   ...                  ...   \n",
       "894  1526927292382969858  1526927292382969858   \n",
       "895  1526927183905693696  1526927183905693696   \n",
       "896  1526926332516515841  1526926332516515841   \n",
       "897  1526926256259973121  1526926256259973121   \n",
       "898  1526925999123857409  1526925999123857409   \n",
       "\n",
       "     referenced_tweets.replied_to.id  referenced_tweets.retweeted.id  \\\n",
       "0                                NaN                    1.526889e+18   \n",
       "1                                NaN                    1.526889e+18   \n",
       "2                                NaN                    1.528045e+18   \n",
       "3                                NaN                    1.528454e+18   \n",
       "4                                NaN                    1.528153e+18   \n",
       "..                               ...                             ...   \n",
       "894                              NaN                    1.526889e+18   \n",
       "895                              NaN                    1.526889e+18   \n",
       "896                              NaN                    1.526889e+18   \n",
       "897                              NaN                    1.526889e+18   \n",
       "898                              NaN                    1.526889e+18   \n",
       "\n",
       "     referenced_tweets.quoted.id            author_id  in_reply_to_user_id  \\\n",
       "0                            NaN  1339747029451419648                  NaN   \n",
       "1                            NaN           1052848710                  NaN   \n",
       "2                            NaN            616608467                  NaN   \n",
       "3                            NaN  1373558094693683204                  NaN   \n",
       "4                            NaN            264383293                  NaN   \n",
       "..                           ...                  ...                  ...   \n",
       "894                          NaN  1507717680421298181                  NaN   \n",
       "895                          NaN   862826271016931331                  NaN   \n",
       "896                          NaN            373612360                  NaN   \n",
       "897                          NaN  1232696931408924677                  NaN   \n",
       "898                          NaN            961228802                  NaN   \n",
       "\n",
       "     retweeted_user_id  quoted_user_id                created_at  ...  \\\n",
       "0         3.958303e+09             NaN  2022-05-23T03:13:32.000Z  ...   \n",
       "1         3.958303e+09             NaN  2022-05-23T02:56:36.000Z  ...   \n",
       "2         1.212552e+18             NaN  2022-05-23T02:08:16.000Z  ...   \n",
       "3         2.926437e+09             NaN  2022-05-23T01:23:00.000Z  ...   \n",
       "4         2.826013e+09             NaN  2022-05-23T01:15:00.000Z  ...   \n",
       "..                 ...             ...                       ...  ...   \n",
       "894       3.958303e+09             NaN  2022-05-18T14:06:50.000Z  ...   \n",
       "895       3.958303e+09             NaN  2022-05-18T14:06:24.000Z  ...   \n",
       "896       3.958303e+09             NaN  2022-05-18T14:03:01.000Z  ...   \n",
       "897       3.958303e+09             NaN  2022-05-18T14:02:43.000Z  ...   \n",
       "898       3.958303e+09             NaN  2022-05-18T14:01:41.000Z  ...   \n",
       "\n",
       "    geo.geo.bbox geo.geo.type geo.id  geo.name  geo.place_id  geo.place_type  \\\n",
       "0            NaN          NaN    NaN       NaN           NaN             NaN   \n",
       "1            NaN          NaN    NaN       NaN           NaN             NaN   \n",
       "2            NaN          NaN    NaN       NaN           NaN             NaN   \n",
       "3            NaN          NaN    NaN       NaN           NaN             NaN   \n",
       "4            NaN          NaN    NaN       NaN           NaN             NaN   \n",
       "..           ...          ...    ...       ...           ...             ...   \n",
       "894          NaN          NaN    NaN       NaN           NaN             NaN   \n",
       "895          NaN          NaN    NaN       NaN           NaN             NaN   \n",
       "896          NaN          NaN    NaN       NaN           NaN             NaN   \n",
       "897          NaN          NaN    NaN       NaN           NaN             NaN   \n",
       "898          NaN          NaN    NaN       NaN           NaN             NaN   \n",
       "\n",
       "          __twarc.retrieved_at  \\\n",
       "0    2022-05-23T03:17:48+00:00   \n",
       "1    2022-05-23T03:17:48+00:00   \n",
       "2    2022-05-23T03:17:48+00:00   \n",
       "3    2022-05-23T03:17:48+00:00   \n",
       "4    2022-05-23T03:17:48+00:00   \n",
       "..                         ...   \n",
       "894  2022-05-23T03:17:55+00:00   \n",
       "895  2022-05-23T03:17:55+00:00   \n",
       "896  2022-05-23T03:17:55+00:00   \n",
       "897  2022-05-23T03:17:55+00:00   \n",
       "898  2022-05-23T03:17:55+00:00   \n",
       "\n",
       "                                           __twarc.url  __twarc.version  \\\n",
       "0    https://api.twitter.com/2/tweets/search/recent...           2.10.4   \n",
       "1    https://api.twitter.com/2/tweets/search/recent...           2.10.4   \n",
       "2    https://api.twitter.com/2/tweets/search/recent...           2.10.4   \n",
       "3    https://api.twitter.com/2/tweets/search/recent...           2.10.4   \n",
       "4    https://api.twitter.com/2/tweets/search/recent...           2.10.4   \n",
       "..                                                 ...              ...   \n",
       "894  https://api.twitter.com/2/tweets/search/recent...           2.10.4   \n",
       "895  https://api.twitter.com/2/tweets/search/recent...           2.10.4   \n",
       "896  https://api.twitter.com/2/tweets/search/recent...           2.10.4   \n",
       "897  https://api.twitter.com/2/tweets/search/recent...           2.10.4   \n",
       "898  https://api.twitter.com/2/tweets/search/recent...           2.10.4   \n",
       "\n",
       "     Unnamed: 73  \n",
       "0            NaN  \n",
       "1            NaN  \n",
       "2            NaN  \n",
       "3            NaN  \n",
       "4            NaN  \n",
       "..           ...  \n",
       "894          NaN  \n",
       "895          NaN  \n",
       "896          NaN  \n",
       "897          NaN  \n",
       "898          NaN  \n",
       "\n",
       "[899 rows x 74 columns]"
      ]
     },
     "execution_count": 62,
     "metadata": {},
     "output_type": "execute_result"
    }
   ],
   "source": [
    "kittens_df"
   ]
  },
  {
   "cell_type": "code",
   "execution_count": 63,
   "id": "0015b8ec-3e79-46d8-8f76-9aa7c5dc66b2",
   "metadata": {},
   "outputs": [
    {
     "data": {
      "text/plain": [
       "['id',\n",
       " 'conversation_id',\n",
       " 'referenced_tweets.replied_to.id',\n",
       " 'referenced_tweets.retweeted.id',\n",
       " 'referenced_tweets.quoted.id',\n",
       " 'author_id',\n",
       " 'in_reply_to_user_id',\n",
       " 'retweeted_user_id',\n",
       " 'quoted_user_id',\n",
       " 'created_at',\n",
       " 'text',\n",
       " 'lang',\n",
       " 'source',\n",
       " 'public_metrics.like_count',\n",
       " 'public_metrics.quote_count',\n",
       " 'public_metrics.reply_count',\n",
       " 'public_metrics.retweet_count',\n",
       " 'reply_settings',\n",
       " 'possibly_sensitive',\n",
       " 'withheld.scope',\n",
       " 'withheld.copyright',\n",
       " 'withheld.country_codes',\n",
       " 'entities.annotations',\n",
       " 'entities.cashtags',\n",
       " 'entities.hashtags',\n",
       " 'entities.mentions',\n",
       " 'entities.urls',\n",
       " 'context_annotations',\n",
       " 'attachments.media',\n",
       " 'attachments.media_keys',\n",
       " 'attachments.poll.duration_minutes',\n",
       " 'attachments.poll.end_datetime',\n",
       " 'attachments.poll.id',\n",
       " 'attachments.poll.options',\n",
       " 'attachments.poll.voting_status',\n",
       " 'attachments.poll_ids',\n",
       " 'author.id',\n",
       " 'author.created_at',\n",
       " 'author.username',\n",
       " 'author.name',\n",
       " 'author.description',\n",
       " 'author.entities.description.cashtags',\n",
       " 'author.entities.description.hashtags',\n",
       " 'author.entities.description.mentions',\n",
       " 'author.entities.description.urls',\n",
       " 'author.entities.url.urls',\n",
       " 'author.location',\n",
       " 'author.pinned_tweet_id',\n",
       " 'author.profile_image_url',\n",
       " 'author.protected',\n",
       " 'author.public_metrics.followers_count',\n",
       " 'author.public_metrics.following_count',\n",
       " 'author.public_metrics.listed_count',\n",
       " 'author.public_metrics.tweet_count',\n",
       " 'author.url',\n",
       " 'author.verified',\n",
       " 'author.withheld.scope',\n",
       " 'author.withheld.copyright',\n",
       " 'author.withheld.country_codes',\n",
       " 'geo.coordinates.coordinates',\n",
       " 'geo.coordinates.type',\n",
       " 'geo.country',\n",
       " 'geo.country_code',\n",
       " 'geo.full_name',\n",
       " 'geo.geo.bbox',\n",
       " 'geo.geo.type',\n",
       " 'geo.id',\n",
       " 'geo.name',\n",
       " 'geo.place_id',\n",
       " 'geo.place_type',\n",
       " '__twarc.retrieved_at',\n",
       " '__twarc.url',\n",
       " '__twarc.version',\n",
       " 'Unnamed: 73']"
      ]
     },
     "execution_count": 63,
     "metadata": {},
     "output_type": "execute_result"
    }
   ],
   "source": [
    "list(kittens_df.columns)"
   ]
  },
  {
   "cell_type": "markdown",
   "id": "52f49634-c9d6-4118-8f26-10741d9e8b1f",
   "metadata": {},
   "source": [
    "# Search"
   ]
  },
  {
   "cell_type": "code",
   "execution_count": 64,
   "id": "4839f38b-2849-4b25-8929-70b08388b46b",
   "metadata": {},
   "outputs": [],
   "source": [
    "# ! twarc2 search \"(to:tinycarebot)\" raw_data/tinycarebot_mentions.jsonl"
   ]
  },
  {
   "cell_type": "markdown",
   "id": "deb4826b-87dc-4262-a965-8291d5c04d77",
   "metadata": {},
   "source": [
    "# Stream"
   ]
  },
  {
   "cell_type": "code",
   "execution_count": 65,
   "id": "f3813f06-866d-4dad-8913-eb97eeb9a32f",
   "metadata": {},
   "outputs": [
    {
     "name": "stdout",
     "output_type": "stream",
     "text": [
      "\u001b[31m💣  \u001b[31mDuplicateRule\u001b[0m see: https://api.twitter.com/2/problems/duplicate-rules\u001b[0m\n"
     ]
    }
   ],
   "source": [
    "!twarc2 stream-rules add \"#WorldGothDay\""
   ]
  },
  {
   "cell_type": "code",
   "execution_count": 66,
   "id": "fa0e9f9c-9495-4470-b67d-d1d655c9702e",
   "metadata": {},
   "outputs": [
    {
     "name": "stdout",
     "output_type": "stream",
     "text": [
      "\u001b[31m💣  \u001b[31mDuplicateRule\u001b[0m see: https://api.twitter.com/2/problems/duplicate-rules\u001b[0m\n"
     ]
    }
   ],
   "source": [
    "!twarc2 stream-rules add \"gothcats\""
   ]
  },
  {
   "cell_type": "code",
   "execution_count": 67,
   "id": "199399be-2763-4069-8a02-45df725654b5",
   "metadata": {},
   "outputs": [],
   "source": [
    "# press the square to interrup this!"
   ]
  },
  {
   "cell_type": "code",
   "execution_count": 68,
   "id": "1a753327-f249-4caa-83b0-0a9dfa81811f",
   "metadata": {},
   "outputs": [],
   "source": [
    "# !twarc2 stream > \"raw_data/streamed_goth.jsonl\""
   ]
  },
  {
   "cell_type": "code",
   "execution_count": 69,
   "id": "4a605d10-ec05-4dd1-9fe9-9d86be898e14",
   "metadata": {},
   "outputs": [
    {
     "name": "stdout",
     "output_type": "stream",
     "text": [
      "    4  1277 20136 raw_data/streamed_goth.jsonl\n",
      "    4  1582 24554 output_data/streamed_goth_flat.jsonl\n"
     ]
    }
   ],
   "source": [
    "! wc raw_data/streamed_goth.jsonl\n",
    "! twarc2 flatten raw_data/streamed_goth.jsonl > output_data/streamed_goth_flat.jsonl\n",
    "! wc output_data/streamed_goth_flat.jsonl "
   ]
  },
  {
   "cell_type": "code",
   "execution_count": null,
   "id": "201fdef7-f70e-4188-9d8f-e2c5fe2d7b6b",
   "metadata": {},
   "outputs": [],
   "source": []
  },
  {
   "cell_type": "code",
   "execution_count": 70,
   "id": "ad11f3b7-ae2f-4605-8434-1d5709e13384",
   "metadata": {},
   "outputs": [
    {
     "name": "stdout",
     "output_type": "stream",
     "text": [
      "\u001b[31m🙃  No rule could be found for \"caturday\"\u001b[0m\n"
     ]
    }
   ],
   "source": [
    "!twarc2 stream-rules delete \"caturday\""
   ]
  },
  {
   "cell_type": "markdown",
   "id": "4388d91c-dcfe-4fc3-b215-ff0c2a1c0dda",
   "metadata": {},
   "source": [
    "# Retweets vs. tweets\n",
    "How much original content is there?\n",
    "Do this for both library timeline and catsofinstagrams"
   ]
  },
  {
   "cell_type": "code",
   "execution_count": 71,
   "id": "ceb74589-f708-4ab5-9a2b-00c2478d4020",
   "metadata": {},
   "outputs": [
    {
     "data": {
      "text/plain": [
       "413"
      ]
     },
     "execution_count": 71,
     "metadata": {},
     "output_type": "execute_result"
    }
   ],
   "source": [
    "# via pandas and plottting\n",
    "retweet_count = hashtagcats_df[\"referenced_tweets.retweeted.id\"].value_counts()\n",
    "sum(retweet_count)\n"
   ]
  },
  {
   "cell_type": "code",
   "execution_count": 72,
   "id": "7735260d-5419-4dbb-ad06-47f5614ca46b",
   "metadata": {},
   "outputs": [
    {
     "data": {
      "text/plain": [
       "0.6894824707846411"
      ]
     },
     "execution_count": 72,
     "metadata": {},
     "output_type": "execute_result"
    }
   ],
   "source": [
    "(sum(retweet_count) / len(hashtagcats_df))"
   ]
  },
  {
   "cell_type": "markdown",
   "id": "168a36d8-b783-4c33-ad58-fd1c862601a1",
   "metadata": {},
   "source": [
    "78% of the tweets that used #catsofinstagram were retweets."
   ]
  },
  {
   "cell_type": "code",
   "execution_count": 73,
   "id": "cd71350f-d7b2-48d2-a0d2-e8849ca88122",
   "metadata": {},
   "outputs": [],
   "source": [
    "# so our pipeline on a stream would look like:\n"
   ]
  },
  {
   "cell_type": "code",
   "execution_count": null,
   "id": "232b27f7-99be-456e-a7b3-26cbaa118501",
   "metadata": {},
   "outputs": [],
   "source": []
  },
  {
   "cell_type": "markdown",
   "id": "12ca8fc4-ac95-4535-8146-843e2126e915",
   "metadata": {},
   "source": [
    "# Episode 7: twarc plug-ins"
   ]
  },
  {
   "cell_type": "code",
   "execution_count": 74,
   "id": "803bd317-bbba-46b9-b813-98dca6c8a196",
   "metadata": {},
   "outputs": [
    {
     "name": "stdout",
     "output_type": "stream",
     "text": [
      "ecodatasci_df\t hashtagcats_df\t kittens_df\t library_timeline_df\t riots_dehydrated_df\t riots_df\t \n"
     ]
    }
   ],
   "source": [
    "# this reminds you what DataFrames you have in memory\n",
    "%who DataFrame"
   ]
  },
  {
   "cell_type": "code",
   "execution_count": 75,
   "id": "c01a8f05-8ce2-4bc5-a67c-da24ff406f79",
   "metadata": {},
   "outputs": [
    {
     "name": "stdout",
     "output_type": "stream",
     "text": [
      "Collecting twarc-hashtags\n",
      "  Using cached twarc_hashtags-0.0.5-py3-none-any.whl\n",
      "Requirement already satisfied: twarc>=2.1.1 in /opt/conda/lib/python3.9/site-packages (from twarc-hashtags) (2.10.4)\n",
      "Requirement already satisfied: click-plugins>=1 in /opt/conda/lib/python3.9/site-packages (from twarc>=2.1.1->twarc-hashtags) (1.1.1)\n",
      "Requirement already satisfied: tqdm>=4.62 in /opt/conda/lib/python3.9/site-packages (from twarc>=2.1.1->twarc-hashtags) (4.64.0)\n",
      "Requirement already satisfied: requests-oauthlib>=1.3 in /opt/conda/lib/python3.9/site-packages (from twarc>=2.1.1->twarc-hashtags) (1.3.1)\n",
      "Requirement already satisfied: click-config-file>=0.6 in /opt/conda/lib/python3.9/site-packages (from twarc>=2.1.1->twarc-hashtags) (0.6.0)\n",
      "Requirement already satisfied: humanize>=3.9 in /opt/conda/lib/python3.9/site-packages (from twarc>=2.1.1->twarc-hashtags) (4.1.0)\n",
      "Requirement already satisfied: click<9,>=7 in /opt/conda/lib/python3.9/site-packages (from twarc>=2.1.1->twarc-hashtags) (8.1.3)\n",
      "Requirement already satisfied: python-dateutil>=2.8 in /opt/conda/lib/python3.9/site-packages (from twarc>=2.1.1->twarc-hashtags) (2.8.2)\n",
      "Requirement already satisfied: configobj>=5.0.6 in /opt/conda/lib/python3.9/site-packages (from click-config-file>=0.6->twarc>=2.1.1->twarc-hashtags) (5.0.6)\n",
      "Requirement already satisfied: six>=1.5 in /opt/conda/lib/python3.9/site-packages (from python-dateutil>=2.8->twarc>=2.1.1->twarc-hashtags) (1.16.0)\n",
      "Requirement already satisfied: requests>=2.0.0 in /opt/conda/lib/python3.9/site-packages (from requests-oauthlib>=1.3->twarc>=2.1.1->twarc-hashtags) (2.27.1)\n",
      "Requirement already satisfied: oauthlib>=3.0.0 in /opt/conda/lib/python3.9/site-packages (from requests-oauthlib>=1.3->twarc>=2.1.1->twarc-hashtags) (3.2.0)\n",
      "Requirement already satisfied: idna<4,>=2.5 in /opt/conda/lib/python3.9/site-packages (from requests>=2.0.0->requests-oauthlib>=1.3->twarc>=2.1.1->twarc-hashtags) (3.3)\n",
      "Requirement already satisfied: charset-normalizer~=2.0.0 in /opt/conda/lib/python3.9/site-packages (from requests>=2.0.0->requests-oauthlib>=1.3->twarc>=2.1.1->twarc-hashtags) (2.0.12)\n",
      "Requirement already satisfied: urllib3<1.27,>=1.21.1 in /opt/conda/lib/python3.9/site-packages (from requests>=2.0.0->requests-oauthlib>=1.3->twarc>=2.1.1->twarc-hashtags) (1.26.9)\n",
      "Requirement already satisfied: certifi>=2017.4.17 in /opt/conda/lib/python3.9/site-packages (from requests>=2.0.0->requests-oauthlib>=1.3->twarc>=2.1.1->twarc-hashtags) (2021.10.8)\n",
      "Installing collected packages: twarc-hashtags\n",
      "Successfully installed twarc-hashtags-0.0.5\n"
     ]
    }
   ],
   "source": [
    "!pip install twarc-hashtags"
   ]
  },
  {
   "cell_type": "code",
   "execution_count": 76,
   "id": "3ad34beb-905a-4d21-884d-0455eedda236",
   "metadata": {},
   "outputs": [
    {
     "name": "stdout",
     "output_type": "stream",
     "text": [
      "Collecting twarc-network\n",
      "  Using cached twarc_network-0.1.1-py3-none-any.whl (8.2 kB)\n",
      "Requirement already satisfied: twarc in /opt/conda/lib/python3.9/site-packages (from twarc-network) (2.10.4)\n",
      "Collecting networkx\n",
      "  Using cached networkx-2.8.2-py3-none-any.whl (2.0 MB)\n",
      "Collecting pydot\n",
      "  Using cached pydot-1.4.2-py2.py3-none-any.whl (21 kB)\n",
      "Requirement already satisfied: pyparsing>=2.1.4 in /opt/conda/lib/python3.9/site-packages (from pydot->twarc-network) (3.0.8)\n",
      "Requirement already satisfied: tqdm>=4.62 in /opt/conda/lib/python3.9/site-packages (from twarc->twarc-network) (4.64.0)\n",
      "Requirement already satisfied: python-dateutil>=2.8 in /opt/conda/lib/python3.9/site-packages (from twarc->twarc-network) (2.8.2)\n",
      "Requirement already satisfied: requests-oauthlib>=1.3 in /opt/conda/lib/python3.9/site-packages (from twarc->twarc-network) (1.3.1)\n",
      "Requirement already satisfied: click<9,>=7 in /opt/conda/lib/python3.9/site-packages (from twarc->twarc-network) (8.1.3)\n",
      "Requirement already satisfied: humanize>=3.9 in /opt/conda/lib/python3.9/site-packages (from twarc->twarc-network) (4.1.0)\n",
      "Requirement already satisfied: click-config-file>=0.6 in /opt/conda/lib/python3.9/site-packages (from twarc->twarc-network) (0.6.0)\n",
      "Requirement already satisfied: click-plugins>=1 in /opt/conda/lib/python3.9/site-packages (from twarc->twarc-network) (1.1.1)\n",
      "Requirement already satisfied: configobj>=5.0.6 in /opt/conda/lib/python3.9/site-packages (from click-config-file>=0.6->twarc->twarc-network) (5.0.6)\n",
      "Requirement already satisfied: six>=1.5 in /opt/conda/lib/python3.9/site-packages (from python-dateutil>=2.8->twarc->twarc-network) (1.16.0)\n",
      "Requirement already satisfied: requests>=2.0.0 in /opt/conda/lib/python3.9/site-packages (from requests-oauthlib>=1.3->twarc->twarc-network) (2.27.1)\n",
      "Requirement already satisfied: oauthlib>=3.0.0 in /opt/conda/lib/python3.9/site-packages (from requests-oauthlib>=1.3->twarc->twarc-network) (3.2.0)\n",
      "Requirement already satisfied: certifi>=2017.4.17 in /opt/conda/lib/python3.9/site-packages (from requests>=2.0.0->requests-oauthlib>=1.3->twarc->twarc-network) (2021.10.8)\n",
      "Requirement already satisfied: idna<4,>=2.5 in /opt/conda/lib/python3.9/site-packages (from requests>=2.0.0->requests-oauthlib>=1.3->twarc->twarc-network) (3.3)\n",
      "Requirement already satisfied: urllib3<1.27,>=1.21.1 in /opt/conda/lib/python3.9/site-packages (from requests>=2.0.0->requests-oauthlib>=1.3->twarc->twarc-network) (1.26.9)\n",
      "Requirement already satisfied: charset-normalizer~=2.0.0 in /opt/conda/lib/python3.9/site-packages (from requests>=2.0.0->requests-oauthlib>=1.3->twarc->twarc-network) (2.0.12)\n",
      "Installing collected packages: pydot, networkx, twarc-network\n",
      "Successfully installed networkx-2.8.2 pydot-1.4.2 twarc-network-0.1.1\n"
     ]
    }
   ],
   "source": [
    "!pip install twarc-network"
   ]
  },
  {
   "cell_type": "code",
   "execution_count": null,
   "id": "f8a29770-1df4-4dea-a880-96ce6ba57d86",
   "metadata": {},
   "outputs": [],
   "source": []
  },
  {
   "cell_type": "code",
   "execution_count": 77,
   "id": "8c965f46-311a-4add-97a0-403a647ee7d8",
   "metadata": {},
   "outputs": [],
   "source": [
    "!twarc2 retweeted-by 1522543998996414464 > 'raw_data/tinycarebot_rtby.jsonl'\n",
    "!twarc2 flatten raw_data/tinycarebot_rtby.jsonl > output_data/tinycarebot_rtby_flat.jsonl"
   ]
  },
  {
   "cell_type": "code",
   "execution_count": null,
   "id": "524418c1-1527-4464-9d58-44043b1518f2",
   "metadata": {},
   "outputs": [],
   "source": []
  },
  {
   "cell_type": "code",
   "execution_count": 78,
   "id": "80c75b11-38a8-46d3-9b68-3c9bb2b1e4a0",
   "metadata": {},
   "outputs": [
    {
     "name": "stdout",
     "output_type": "stream",
     "text": [
      "100%|██████████████| Processed 1.84M/1.84M of input file [00:00<00:00, 32.0MB/s]\n"
     ]
    }
   ],
   "source": [
    "!twarc2 hashtags raw_data/hashtagcats.jsonl output_data/hashtagcats_hashtags.csv"
   ]
  },
  {
   "cell_type": "code",
   "execution_count": 79,
   "id": "21259cf0-2674-4348-b13b-ae0de1341f44",
   "metadata": {},
   "outputs": [],
   "source": [
    "# how do I print file to cell?\n",
    "# print(read(output_data/hashtagcats_hashtags.csv))"
   ]
  },
  {
   "cell_type": "code",
   "execution_count": 80,
   "id": "d1f8bdbd-aaf0-4ed2-9a10-edb6ced71309",
   "metadata": {},
   "outputs": [
    {
     "name": "stdout",
     "output_type": "stream",
     "text": [
      "100%|██████████████| Processed 2.41M/2.41M of input file [00:00<00:00, 15.1MB/s]\n"
     ]
    }
   ],
   "source": [
    "!twarc2 hashtags raw_data/ucsblibrary_mentions.jsonl output_data/ucsblibrary_mentions_hashtags.csv"
   ]
  },
  {
   "cell_type": "code",
   "execution_count": 81,
   "id": "25adac2c-be71-46c9-9a5c-0ec98c21f2df",
   "metadata": {},
   "outputs": [],
   "source": [
    "!twarc2 network raw_data/hashtagcats.jsonl output_data/hashtagcats_network.html"
   ]
  },
  {
   "cell_type": "code",
   "execution_count": 82,
   "id": "a066d059-1867-449e-8230-72faa359c6e8",
   "metadata": {},
   "outputs": [],
   "source": [
    "# !twarc2 followers --limit 1 tinycarebot >  'raw_data/tcb_followers.jsonl'"
   ]
  },
  {
   "cell_type": "code",
   "execution_count": 83,
   "id": "c9d6e8c9-2d81-4868-923b-ca5b4c10815e",
   "metadata": {},
   "outputs": [],
   "source": [
    "!twarc2 flatten raw_data/tcb_followers.jsonl > output_data/tcb_followers_flat.jsonl"
   ]
  },
  {
   "cell_type": "code",
   "execution_count": 84,
   "id": "d4983561-30ba-4b8b-9739-441bfa394e36",
   "metadata": {},
   "outputs": [
    {
     "name": "stdout",
     "output_type": "stream",
     "text": [
      "   1000   54050 1212647 output_data/tcb_followers_flat.jsonl\n"
     ]
    }
   ],
   "source": [
    "! wc output_data/tcb_followers_flat.jsonl"
   ]
  },
  {
   "cell_type": "code",
   "execution_count": 85,
   "id": "b19f73c6-1e8f-4766-96a5-666b0ab0d71e",
   "metadata": {},
   "outputs": [],
   "source": [
    "# tiny challenge\n",
    "# ! twarc2 csv output_data/tcb_followers_flat.jsonl > output_data/tcb_followers.csv\n",
    "# csv doesn't work on profiles."
   ]
  },
  {
   "cell_type": "code",
   "execution_count": 86,
   "id": "187e274c-6481-4f37-8ee5-29806da7be7e",
   "metadata": {},
   "outputs": [
    {
     "name": "stdout",
     "output_type": "stream",
     "text": [
      "100%|██████████████| Processed 2.41M/2.41M of input file [00:00<00:00, 3.17MB/s]\n",
      "\n",
      "ℹ️\n",
      "Parsed 809 tweets objects from 9 lines in the input file.\n",
      "Wrote 809 rows and output 74 columns in the CSV.\n",
      "\n"
     ]
    }
   ],
   "source": [
    "# ! twarc2 mentions ucsblibrary raw_data/ucsblibrary_mentions.jsonl\n",
    "! twarc2 csv raw_data/ucsblibrary_mentions.jsonl output_data/ucsblibrary_mentions.csv \n",
    "ucsb_library_mentions_df = pandas.read_csv('output_data/ucsblibrary_mentions.csv')"
   ]
  },
  {
   "cell_type": "code",
   "execution_count": 87,
   "id": "0c139fb8-f473-404c-9493-4597f673a5e6",
   "metadata": {},
   "outputs": [],
   "source": [
    "!twarc2 network raw_data/hashtag_gasprices.jsonl output_data/hashtag_gasprices_network.html"
   ]
  },
  {
   "cell_type": "markdown",
   "id": "e9ff6e98-1dc9-43c6-be95-ecf88045147a",
   "metadata": {},
   "source": [
    "# Episode 8: Python text analysis"
   ]
  },
  {
   "cell_type": "markdown",
   "id": "d6c3b41d-cfc2-4a41-b710-4145d2fbb0af",
   "metadata": {},
   "source": [
    "### Sentiment Analysis\n",
    "To do this, we need to do a little Python\n",
    "\n",
    "TextBlob is a text processing library that does sentiment analysis. \n",
    "The sentiment property returns a namedtuple of the form Sentiment(polarity, subjectivity). The polarity score is a float within the range [-1.0, 1.0]. The subjectivity is a float within the range [0.0, 1.0] where 0.0 is very objective and 1.0 is very subjective."
   ]
  },
  {
   "cell_type": "markdown",
   "id": "cd4d69fd-adcc-46a6-9a46-83cb991e52b9",
   "metadata": {},
   "source": [
    "Before we use TextBlob for sentiment analysis, we need to download\n",
    "datasets of words and their associated weights. These are called *corpora*."
   ]
  },
  {
   "cell_type": "code",
   "execution_count": 88,
   "id": "423c7d9b-b67d-4b13-8894-75a64654b52d",
   "metadata": {},
   "outputs": [],
   "source": [
    "# commented out because I put it up in ep 2\n",
    "# !python -m textblob.download_corpora"
   ]
  },
  {
   "cell_type": "code",
   "execution_count": 89,
   "id": "9c5bbf73-444b-41a2-a72c-deb388217096",
   "metadata": {},
   "outputs": [],
   "source": [
    "# TextBlob needs a string, so this won't work.\n",
    "# textblob.TextBlob(hashtagcats_df).sentiment"
   ]
  },
  {
   "cell_type": "code",
   "execution_count": 90,
   "id": "f2c21bf8-b1ec-4405-94bc-b77c599e4b9f",
   "metadata": {},
   "outputs": [],
   "source": [
    "# even calling the column won't work:\n",
    "# textblob.TextBlob(hashtagcats_df['text']).sentiment"
   ]
  },
  {
   "cell_type": "code",
   "execution_count": 91,
   "id": "6874ca27-b81f-4f4f-911b-68e9fe21384e",
   "metadata": {},
   "outputs": [
    {
     "data": {
      "text/plain": [
       "Sentiment(polarity=0.17576840733247795, subjectivity=0.5069781628198716)"
      ]
     },
     "execution_count": 91,
     "metadata": {},
     "output_type": "execute_result"
    }
   ],
   "source": [
    "# break tweets test column into a list, then .join into one long string \n",
    "hashtagcats_list = ' '.join(hashtagcats_df['text'].tolist())\n",
    "# turn the string into a blob\n",
    "hashtagcats_blob = textblob.TextBlob(hashtagcats_list)\n",
    "# get the sentiment\n",
    "hashtagcats_blob.sentiment"
   ]
  },
  {
   "cell_type": "code",
   "execution_count": 92,
   "id": "8ccc6de7-126c-4975-8f1e-cacd1140ff34",
   "metadata": {},
   "outputs": [
    {
     "name": "stdout",
     "output_type": "stream",
     "text": [
      "Variable                   Type         Data/Info\n",
      "-------------------------------------------------\n",
      "ecodatasci_df              DataFrame                          id <...>\\n[473 rows x 74 columns]\n",
      "hashtagcats_df             DataFrame                          id <...>\\n[599 rows x 74 columns]\n",
      "kittens_df                 DataFrame                          id <...>\\n[899 rows x 74 columns]\n",
      "library_timeline_df        DataFrame                           id<...>n[3226 rows x 74 columns]\n",
      "riots_dehydrated_df        DataFrame           134686307243517952<...>n[82308 rows x 1 columns]\n",
      "riots_df                   DataFrame                           id<...>n[9997 rows x 74 columns]\n",
      "ucsb_library_mentions_df   DataFrame                          id <...>\\n[809 rows x 74 columns]\n"
     ]
    }
   ],
   "source": [
    "# what dataframes are still here?\n",
    "%whos DataFrame\n"
   ]
  },
  {
   "cell_type": "markdown",
   "id": "005ba8f5-5054-4fba-8e12-0bade66f4775",
   "metadata": {
    "tags": []
   },
   "source": [
    "The overall sentiment of the language of kitty twitter is rather positive.\n",
    "And the tweets tend to be subjective."
   ]
  },
  {
   "cell_type": "code",
   "execution_count": 93,
   "id": "42f7f70c-b9ee-45cf-ad37-7a26cc43d559",
   "metadata": {},
   "outputs": [],
   "source": [
    "# What do you think the sentiment of gasprices might be?\n",
    "# get the overall sentiment and see if it matches your prediction."
   ]
  },
  {
   "cell_type": "code",
   "execution_count": 94,
   "id": "111ea270-deb5-44ff-a38d-a44220e4fee4",
   "metadata": {},
   "outputs": [],
   "source": [
    "! twarc2 csv output_data/hashtag_gasprices_flat.jsonl > output_data/hashtag_gasprices_flat.csv\n",
    "hashtag_gasprices_df = pandas.read_csv(\"output_data/hashtag_gasprices_flat.csv\", low_memory=False)"
   ]
  },
  {
   "cell_type": "code",
   "execution_count": 95,
   "id": "9856bda0-b290-40a0-ad22-32ece206312b",
   "metadata": {},
   "outputs": [
    {
     "name": "stdout",
     "output_type": "stream",
     "text": [
      "Hashtag Gas Prices: \n"
     ]
    },
    {
     "data": {
      "text/plain": [
       "Sentiment(polarity=0.0783091422742766, subjectivity=0.44952337845641754)"
      ]
     },
     "execution_count": 95,
     "metadata": {},
     "output_type": "execute_result"
    }
   ],
   "source": [
    "gasprices_list = ' '.join(hashtag_gasprices_df['text'].tolist())\n",
    "gasprices_blob = textblob.TextBlob(gasprices_list)\n",
    "print(\"Hashtag Gas Prices: \") \n",
    "gasprices_blob.sentiment"
   ]
  },
  {
   "cell_type": "code",
   "execution_count": 96,
   "id": "a52956a9-00a3-4da1-960a-1d3ad08e26a4",
   "metadata": {},
   "outputs": [
    {
     "name": "stdout",
     "output_type": "stream",
     "text": [
      "Hashtag Cats of Instagram: \n"
     ]
    },
    {
     "data": {
      "text/plain": [
       "Sentiment(polarity=0.17576840733247795, subjectivity=0.5069781628198716)"
      ]
     },
     "execution_count": 96,
     "metadata": {},
     "output_type": "execute_result"
    }
   ],
   "source": [
    "hashtagcats_list = ' '.join(hashtagcats_df['text'].tolist())\n",
    "hashtagcats_blob = textblob.TextBlob(hashtagcats_list)\n",
    "print(\"Hashtag Cats of Instagram: \") \n",
    "hashtagcats_blob.sentiment"
   ]
  },
  {
   "cell_type": "markdown",
   "id": "f0e6acd1-e68a-4b01-873b-a3aaebd440fd",
   "metadata": {},
   "source": [
    "# Episode 9: Data Management"
   ]
  },
  {
   "cell_type": "code",
   "execution_count": 97,
   "id": "8d4e4d3d-71a6-4fe7-8b30-542ea123b4ad",
   "metadata": {},
   "outputs": [
    {
     "name": "stdout",
     "output_type": "stream",
     "text": [
      "2022-05-18T00:03:20.000Z - 2022-05-19T00:00:00.000Z: 994,210\n",
      "2022-05-19T00:00:00.000Z - 2022-05-20T00:00:00.000Z: 904,386\n",
      "2022-05-20T00:00:00.000Z - 2022-05-21T00:00:00.000Z: 1,000,931\n",
      "2022-05-21T00:00:00.000Z - 2022-05-22T00:00:00.000Z: 891,999\n",
      "2022-05-22T00:00:00.000Z - 2022-05-23T00:00:00.000Z: 884,822\n",
      "2022-05-23T00:00:00.000Z - 2022-05-24T00:00:00.000Z: 971,489\n",
      "2022-05-24T00:00:00.000Z - 2022-05-25T00:00:00.000Z: 1,068,666\n",
      "2022-05-25T00:00:00.000Z - 2022-05-25T00:03:20.000Z: 2,546\n",
      "\u001b[32m\n",
      "Total Tweets: 6,719,049\n",
      "\u001b[0m\n"
     ]
    }
   ],
   "source": [
    "!twarc2 counts --granularity \"day\" --text \"amazon\""
   ]
  }
 ],
 "metadata": {
  "kernelspec": {
   "display_name": "Python 3 (ipykernel)",
   "language": "python",
   "name": "python3"
  },
  "language_info": {
   "codemirror_mode": {
    "name": "ipython",
    "version": 3
   },
   "file_extension": ".py",
   "mimetype": "text/x-python",
   "name": "python",
   "nbconvert_exporter": "python",
   "pygments_lexer": "ipython3",
   "version": "3.9.10"
  }
 },
 "nbformat": 4,
 "nbformat_minor": 5
}
