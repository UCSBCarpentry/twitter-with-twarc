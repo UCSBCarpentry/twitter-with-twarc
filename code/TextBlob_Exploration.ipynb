{
 "cells": [
  {
   "cell_type": "markdown",
   "id": "1066d287",
   "metadata": {},
   "source": [
    "# Sentiment Analysis with TextBlob"
   ]
  },
  {
   "cell_type": "markdown",
   "id": "6f253770",
   "metadata": {},
   "source": [
    "## Resources"
   ]
  },
  {
   "cell_type": "markdown",
   "id": "7cddeb0d",
   "metadata": {},
   "source": [
    "Before we get started. Here are the resources I use:\n",
    "1. [TextBlob readthedocs](https://textblob.readthedocs.io/en/dev/install.html)\n",
    "2. Which leads into [TextBlob readthedocs Quickstart](https://textblob.readthedocs.io/en/dev/quickstart.html)\n",
    "3. "
   ]
  },
  {
   "cell_type": "markdown",
   "id": "07b8c386",
   "metadata": {},
   "source": [
    "## Imports and Downloads"
   ]
  },
  {
   "cell_type": "code",
   "execution_count": 8,
   "id": "5eee82b6",
   "metadata": {},
   "outputs": [
    {
     "name": "stdout",
     "output_type": "stream",
     "text": [
      "Requirement already satisfied: textblob in c:\\anaconda\\lib\\site-packages (0.17.1)\n",
      "Requirement already satisfied: nltk>=3.1 in c:\\anaconda\\lib\\site-packages (from textblob) (3.6.1)\n",
      "Requirement already satisfied: tqdm in c:\\anaconda\\lib\\site-packages (from nltk>=3.1->textblob) (4.64.0)\n",
      "Requirement already satisfied: regex in c:\\anaconda\\lib\\site-packages (from nltk>=3.1->textblob) (2021.4.4)\n",
      "Requirement already satisfied: joblib in c:\\anaconda\\lib\\site-packages (from nltk>=3.1->textblob) (1.0.1)\n",
      "Requirement already satisfied: click in c:\\anaconda\\lib\\site-packages (from nltk>=3.1->textblob) (7.1.2)\n",
      "Requirement already satisfied: colorama in c:\\anaconda\\lib\\site-packages (from tqdm->nltk>=3.1->textblob) (0.4.4)\n"
     ]
    },
    {
     "name": "stderr",
     "output_type": "stream",
     "text": [
      "[nltk_data] Downloading package brown to\n",
      "[nltk_data]     C:\\Users\\ameyer\\AppData\\Roaming\\nltk_data...\n",
      "[nltk_data]   Package brown is already up-to-date!\n",
      "[nltk_data] Downloading package punkt to\n",
      "[nltk_data]     C:\\Users\\ameyer\\AppData\\Roaming\\nltk_data...\n",
      "[nltk_data]   Package punkt is already up-to-date!\n",
      "[nltk_data] Downloading package wordnet to\n",
      "[nltk_data]     C:\\Users\\ameyer\\AppData\\Roaming\\nltk_data...\n",
      "[nltk_data]   Package wordnet is already up-to-date!\n",
      "[nltk_data] Downloading package averaged_perceptron_tagger to\n",
      "[nltk_data]     C:\\Users\\ameyer\\AppData\\Roaming\\nltk_data...\n",
      "[nltk_data]   Package averaged_perceptron_tagger is already up-to-\n",
      "[nltk_data]       date!\n",
      "[nltk_data] Downloading package conll2000 to\n",
      "[nltk_data]     C:\\Users\\ameyer\\AppData\\Roaming\\nltk_data...\n",
      "[nltk_data]   Package conll2000 is already up-to-date!\n",
      "[nltk_data] Downloading package movie_reviews to\n",
      "[nltk_data]     C:\\Users\\ameyer\\AppData\\Roaming\\nltk_data...\n",
      "[nltk_data]   Package movie_reviews is already up-to-date!\n"
     ]
    },
    {
     "name": "stdout",
     "output_type": "stream",
     "text": [
      "Finished.\n"
     ]
    }
   ],
   "source": [
    "# install TextBlob\n",
    "!pip install -U textblob\n",
    "\n",
    "# download linguistic data\n",
    "!python -m textblob.download_corpora\n",
    "# alternative download if you want minimum corpora\n",
    "# python -m textblob.download_corpora lite \n",
    "\n",
    "from textblob import TextBlob"
   ]
  },
  {
   "cell_type": "markdown",
   "id": "ed67eb0e",
   "metadata": {},
   "source": [
    "## Creating Our First TextBlob"
   ]
  },
  {
   "cell_type": "code",
   "execution_count": 9,
   "id": "a388fa4c",
   "metadata": {},
   "outputs": [],
   "source": [
    "wiki = TextBlob(\"Python is a high-level, general-purpose programming language.\")"
   ]
  },
  {
   "cell_type": "code",
   "execution_count": 10,
   "id": "aa5efd0a",
   "metadata": {},
   "outputs": [
    {
     "data": {
      "text/plain": [
       "[('Python', 'NNP'),\n",
       " ('is', 'VBZ'),\n",
       " ('a', 'DT'),\n",
       " ('high-level', 'JJ'),\n",
       " ('general-purpose', 'JJ'),\n",
       " ('programming', 'NN'),\n",
       " ('language', 'NN')]"
      ]
     },
     "execution_count": 10,
     "metadata": {},
     "output_type": "execute_result"
    }
   ],
   "source": [
    "wiki.tags"
   ]
  },
  {
   "cell_type": "code",
   "execution_count": 11,
   "id": "bb3d129d",
   "metadata": {},
   "outputs": [
    {
     "data": {
      "text/plain": [
       "WordList(['python'])"
      ]
     },
     "execution_count": 11,
     "metadata": {},
     "output_type": "execute_result"
    }
   ],
   "source": [
    "# extract nouns phrases\n",
    "wiki.noun_phrases"
   ]
  },
  {
   "cell_type": "markdown",
   "id": "f9064fb2",
   "metadata": {},
   "source": [
    "## Runthrough"
   ]
  },
  {
   "cell_type": "markdown",
   "id": "ef72f910",
   "metadata": {},
   "source": [
    "#### Basic Example"
   ]
  },
  {
   "cell_type": "code",
   "execution_count": 12,
   "id": "1dc8a3f9",
   "metadata": {},
   "outputs": [],
   "source": [
    "# assign TextBlob output to testimonial\n",
    "testimonial = TextBlob(\"Textblob is amazingly simple to use. What great fun!\")"
   ]
  },
  {
   "cell_type": "code",
   "execution_count": 13,
   "id": "123997ae",
   "metadata": {},
   "outputs": [
    {
     "data": {
      "text/plain": [
       "Sentiment(polarity=0.39166666666666666, subjectivity=0.4357142857142857)"
      ]
     },
     "execution_count": 13,
     "metadata": {},
     "output_type": "execute_result"
    }
   ],
   "source": [
    "# take sentinment of text\n",
    "testimonial.sentiment"
   ]
  },
  {
   "cell_type": "code",
   "execution_count": 14,
   "id": "21c676d9",
   "metadata": {},
   "outputs": [
    {
     "data": {
      "text/plain": [
       "0.39166666666666666"
      ]
     },
     "execution_count": 14,
     "metadata": {},
     "output_type": "execute_result"
    }
   ],
   "source": [
    "# get polarity only\n",
    "testimonial.sentiment.polarity"
   ]
  },
  {
   "cell_type": "markdown",
   "id": "94dc11c1",
   "metadata": {},
   "source": [
    "#### Tokenization"
   ]
  },
  {
   "cell_type": "code",
   "execution_count": 15,
   "id": "cd8eab82",
   "metadata": {},
   "outputs": [
    {
     "data": {
      "text/plain": [
       "WordList(['Beautiful', 'is', 'better', 'than', 'ugly', 'Explicit', 'is', 'better', 'than', 'implicit', 'Simple', 'is', 'better', 'than', 'complex'])"
      ]
     },
     "execution_count": 15,
     "metadata": {},
     "output_type": "execute_result"
    }
   ],
   "source": [
    "zen = TextBlob(\"Beautiful is better than ugly. \"\n",
    "               \"Explicit is better than implicit. \"\n",
    "               \"Simple is better than complex.\")\n",
    "\n",
    "# break TextBlob into words\n",
    "zen.words"
   ]
  },
  {
   "cell_type": "code",
   "execution_count": 16,
   "id": "11c53a17",
   "metadata": {},
   "outputs": [
    {
     "data": {
      "text/plain": [
       "[Sentence(\"Beautiful is better than ugly.\"),\n",
       " Sentence(\"Explicit is better than implicit.\"),\n",
       " Sentence(\"Simple is better than complex.\")]"
      ]
     },
     "execution_count": 16,
     "metadata": {},
     "output_type": "execute_result"
    }
   ],
   "source": [
    "# break TextBlob into sentences\n",
    "zen.sentences"
   ]
  },
  {
   "cell_type": "code",
   "execution_count": 17,
   "id": "e649e34a",
   "metadata": {},
   "outputs": [
    {
     "name": "stdout",
     "output_type": "stream",
     "text": [
      "Sentiment(polarity=0.2166666666666667, subjectivity=0.8333333333333334)\n",
      "Sentiment(polarity=0.5, subjectivity=0.5)\n",
      "Sentiment(polarity=0.06666666666666667, subjectivity=0.41904761904761906)\n"
     ]
    }
   ],
   "source": [
    "# print sentiment of each sentence\n",
    "for sentence in zen.sentences:\n",
    "    print(sentence.sentiment)"
   ]
  },
  {
   "cell_type": "code",
   "execution_count": 18,
   "id": "b808e811",
   "metadata": {},
   "outputs": [],
   "source": [
    "# word inflection\n",
    "sentence = TextBlob('Use 4 spaces per indentation level.')"
   ]
  },
  {
   "cell_type": "code",
   "execution_count": 19,
   "id": "ef86b694",
   "metadata": {},
   "outputs": [
    {
     "data": {
      "text/plain": [
       "WordList(['Use', '4', 'spaces', 'per', 'indentation', 'level'])"
      ]
     },
     "execution_count": 19,
     "metadata": {},
     "output_type": "execute_result"
    }
   ],
   "source": [
    "# print sentence words\n",
    "sentence.words"
   ]
  },
  {
   "cell_type": "code",
   "execution_count": 20,
   "id": "88ffa3a8",
   "metadata": {},
   "outputs": [
    {
     "data": {
      "text/plain": [
       "'space'"
      ]
     },
     "execution_count": 20,
     "metadata": {},
     "output_type": "execute_result"
    }
   ],
   "source": [
    "# singularize word at position 2\n",
    "sentence.words[2].singularize()"
   ]
  },
  {
   "cell_type": "code",
   "execution_count": 21,
   "id": "352f2a7d",
   "metadata": {},
   "outputs": [
    {
     "data": {
      "text/plain": [
       "'levels'"
      ]
     },
     "execution_count": 21,
     "metadata": {},
     "output_type": "execute_result"
    }
   ],
   "source": [
    "# pluralize word at position 2\n",
    "sentence.words[-1].pluralize()"
   ]
  },
  {
   "cell_type": "code",
   "execution_count": 22,
   "id": "776da11d",
   "metadata": {},
   "outputs": [
    {
     "data": {
      "text/plain": [
       "'octopus'"
      ]
     },
     "execution_count": 22,
     "metadata": {},
     "output_type": "execute_result"
    }
   ],
   "source": [
    "from textblob import Word\n",
    "w = Word(\"octopi\")\n",
    "w.lemmatize()"
   ]
  },
  {
   "cell_type": "code",
   "execution_count": 23,
   "id": "91269b04",
   "metadata": {},
   "outputs": [
    {
     "data": {
      "text/plain": [
       "'go'"
      ]
     },
     "execution_count": 23,
     "metadata": {},
     "output_type": "execute_result"
    }
   ],
   "source": [
    "w = Word(\"went\")\n",
    "w.lemmatize(\"v\")  # Pass in WordNet part of speech (verb)"
   ]
  },
  {
   "cell_type": "markdown",
   "id": "f5eafa86",
   "metadata": {},
   "source": [
    "#### Jon's Example"
   ]
  },
  {
   "cell_type": "code",
   "execution_count": 24,
   "id": "b0bba337",
   "metadata": {},
   "outputs": [
    {
     "data": {
      "text/plain": [
       "'kittens puppies apple pie lovely'"
      ]
     },
     "execution_count": 24,
     "metadata": {},
     "output_type": "execute_result"
    }
   ],
   "source": [
    "dirty_words = \"kittens puppies apple pie lovely\"\n",
    "str(dirty_words)"
   ]
  },
  {
   "cell_type": "code",
   "execution_count": 25,
   "id": "17440a83",
   "metadata": {},
   "outputs": [],
   "source": [
    "riot_text_sentiment = TextBlob(dirty_words).sentiment"
   ]
  },
  {
   "cell_type": "code",
   "execution_count": 26,
   "id": "cc0430f6",
   "metadata": {},
   "outputs": [
    {
     "data": {
      "text/plain": [
       "Sentiment(polarity=0.5, subjectivity=0.75)"
      ]
     },
     "execution_count": 26,
     "metadata": {},
     "output_type": "execute_result"
    }
   ],
   "source": [
    "riot_text_sentiment"
   ]
  },
  {
   "cell_type": "markdown",
   "id": "de7ba88f",
   "metadata": {},
   "source": [
    "#### On our taxday Dataset"
   ]
  },
  {
   "cell_type": "code",
   "execution_count": null,
   "id": "effa4906",
   "metadata": {},
   "outputs": [],
   "source": [
    "# run twarc and convert jsonl to csv\n",
    "#!twarc configure\n",
    "# ...\n",
    "# python utils.json2csv.py taxday.jsonl > taxday.csv"
   ]
  },
  {
   "cell_type": "code",
   "execution_count": 35,
   "id": "e17f6a54",
   "metadata": {},
   "outputs": [
    {
     "data": {
      "text/html": [
       "<div>\n",
       "<style scoped>\n",
       "    .dataframe tbody tr th:only-of-type {\n",
       "        vertical-align: middle;\n",
       "    }\n",
       "\n",
       "    .dataframe tbody tr th {\n",
       "        vertical-align: top;\n",
       "    }\n",
       "\n",
       "    .dataframe thead th {\n",
       "        text-align: right;\n",
       "    }\n",
       "</style>\n",
       "<table border=\"1\" class=\"dataframe\">\n",
       "  <thead>\n",
       "    <tr style=\"text-align: right;\">\n",
       "      <th></th>\n",
       "      <th>id</th>\n",
       "      <th>tweet_url</th>\n",
       "      <th>created_at</th>\n",
       "      <th>parsed_created_at</th>\n",
       "      <th>user_screen_name</th>\n",
       "      <th>text</th>\n",
       "      <th>tweet_type</th>\n",
       "      <th>coordinates</th>\n",
       "      <th>hashtags</th>\n",
       "      <th>media</th>\n",
       "      <th>...</th>\n",
       "      <th>user_favourites_count</th>\n",
       "      <th>user_followers_count</th>\n",
       "      <th>user_friends_count</th>\n",
       "      <th>user_listed_count</th>\n",
       "      <th>user_location</th>\n",
       "      <th>user_name</th>\n",
       "      <th>user_statuses_count</th>\n",
       "      <th>user_time_zone</th>\n",
       "      <th>user_urls</th>\n",
       "      <th>user_verified</th>\n",
       "    </tr>\n",
       "  </thead>\n",
       "  <tbody>\n",
       "    <tr>\n",
       "      <th>0</th>\n",
       "      <td>1516174539742494723</td>\n",
       "      <td>https://twitter.com/djkerns/status/15161745397...</td>\n",
       "      <td>Mon Apr 18 21:59:14 +0000 2022</td>\n",
       "      <td>2022-04-18 21:59:14+00:00</td>\n",
       "      <td>djkerns</td>\n",
       "      <td>Here’s the #TaxDay message to amplify. https:/...</td>\n",
       "      <td>retweet</td>\n",
       "      <td>NaN</td>\n",
       "      <td>TaxDay</td>\n",
       "      <td>https://pbs.twimg.com/media/FQo_pHoVcAMvyHE.jpg</td>\n",
       "      <td>...</td>\n",
       "      <td>21905</td>\n",
       "      <td>180</td>\n",
       "      <td>628</td>\n",
       "      <td>7</td>\n",
       "      <td>NaN</td>\n",
       "      <td>Dr. Dannie J. Kerns - Callin' It Like I See It.</td>\n",
       "      <td>15137</td>\n",
       "      <td>NaN</td>\n",
       "      <td>NaN</td>\n",
       "      <td>False</td>\n",
       "    </tr>\n",
       "    <tr>\n",
       "      <th>1</th>\n",
       "      <td>1516174533732016132</td>\n",
       "      <td>https://twitter.com/jeff_gang/status/151617453...</td>\n",
       "      <td>Mon Apr 18 21:59:12 +0000 2022</td>\n",
       "      <td>2022-04-18 21:59:12+00:00</td>\n",
       "      <td>jeff_gang</td>\n",
       "      <td>We hate to break it to you on #TaxDay, but you...</td>\n",
       "      <td>retweet</td>\n",
       "      <td>NaN</td>\n",
       "      <td>TaxDay TaxBillionaires</td>\n",
       "      <td>NaN</td>\n",
       "      <td>...</td>\n",
       "      <td>7028</td>\n",
       "      <td>1332</td>\n",
       "      <td>2589</td>\n",
       "      <td>55</td>\n",
       "      <td>NaN</td>\n",
       "      <td>Jeff Gang</td>\n",
       "      <td>2005</td>\n",
       "      <td>NaN</td>\n",
       "      <td>http://jeffgang.com</td>\n",
       "      <td>False</td>\n",
       "    </tr>\n",
       "    <tr>\n",
       "      <th>2</th>\n",
       "      <td>1516174532041531394</td>\n",
       "      <td>https://twitter.com/JenniferThePart/status/151...</td>\n",
       "      <td>Mon Apr 18 21:59:12 +0000 2022</td>\n",
       "      <td>2022-04-18 21:59:12+00:00</td>\n",
       "      <td>JenniferThePart</td>\n",
       "      <td>This #TaxDay, you paid your fair share in taxe...</td>\n",
       "      <td>retweet</td>\n",
       "      <td>NaN</td>\n",
       "      <td>TaxDay TaxBillionaires</td>\n",
       "      <td>NaN</td>\n",
       "      <td>...</td>\n",
       "      <td>191758</td>\n",
       "      <td>7964</td>\n",
       "      <td>8447</td>\n",
       "      <td>4</td>\n",
       "      <td>NaN</td>\n",
       "      <td>Jennifer Partridge</td>\n",
       "      <td>177593</td>\n",
       "      <td>NaN</td>\n",
       "      <td>NaN</td>\n",
       "      <td>False</td>\n",
       "    </tr>\n",
       "  </tbody>\n",
       "</table>\n",
       "<p>3 rows × 37 columns</p>\n",
       "</div>"
      ],
      "text/plain": [
       "                    id                                          tweet_url  \\\n",
       "0  1516174539742494723  https://twitter.com/djkerns/status/15161745397...   \n",
       "1  1516174533732016132  https://twitter.com/jeff_gang/status/151617453...   \n",
       "2  1516174532041531394  https://twitter.com/JenniferThePart/status/151...   \n",
       "\n",
       "                       created_at          parsed_created_at user_screen_name  \\\n",
       "0  Mon Apr 18 21:59:14 +0000 2022  2022-04-18 21:59:14+00:00          djkerns   \n",
       "1  Mon Apr 18 21:59:12 +0000 2022  2022-04-18 21:59:12+00:00        jeff_gang   \n",
       "2  Mon Apr 18 21:59:12 +0000 2022  2022-04-18 21:59:12+00:00  JenniferThePart   \n",
       "\n",
       "                                                text tweet_type  coordinates  \\\n",
       "0  Here’s the #TaxDay message to amplify. https:/...    retweet          NaN   \n",
       "1  We hate to break it to you on #TaxDay, but you...    retweet          NaN   \n",
       "2  This #TaxDay, you paid your fair share in taxe...    retweet          NaN   \n",
       "\n",
       "                 hashtags                                            media  \\\n",
       "0                  TaxDay  https://pbs.twimg.com/media/FQo_pHoVcAMvyHE.jpg   \n",
       "1  TaxDay TaxBillionaires                                              NaN   \n",
       "2  TaxDay TaxBillionaires                                              NaN   \n",
       "\n",
       "   ... user_favourites_count  user_followers_count user_friends_count  \\\n",
       "0  ...                 21905                   180                628   \n",
       "1  ...                  7028                  1332               2589   \n",
       "2  ...                191758                  7964               8447   \n",
       "\n",
       "   user_listed_count  user_location  \\\n",
       "0                  7            NaN   \n",
       "1                 55            NaN   \n",
       "2                  4            NaN   \n",
       "\n",
       "                                         user_name user_statuses_count  \\\n",
       "0  Dr. Dannie J. Kerns - Callin' It Like I See It.               15137   \n",
       "1                                        Jeff Gang                2005   \n",
       "2                               Jennifer Partridge              177593   \n",
       "\n",
       "  user_time_zone            user_urls  user_verified  \n",
       "0            NaN                  NaN          False  \n",
       "1            NaN  http://jeffgang.com          False  \n",
       "2            NaN                  NaN          False  \n",
       "\n",
       "[3 rows x 37 columns]"
      ]
     },
     "execution_count": 35,
     "metadata": {},
     "output_type": "execute_result"
    }
   ],
   "source": [
    "# load csv\n",
    "import pandas as pd\n",
    "taxday_data = pd.read_csv('../../taxday.csv')\n",
    "\n",
    "# print first few rows\n",
    "taxday_data.head(3)"
   ]
  },
  {
   "cell_type": "code",
   "execution_count": 48,
   "id": "25a1f6e5",
   "metadata": {},
   "outputs": [
    {
     "data": {
      "text/html": [
       "<div>\n",
       "<style scoped>\n",
       "    .dataframe tbody tr th:only-of-type {\n",
       "        vertical-align: middle;\n",
       "    }\n",
       "\n",
       "    .dataframe tbody tr th {\n",
       "        vertical-align: top;\n",
       "    }\n",
       "\n",
       "    .dataframe thead th {\n",
       "        text-align: right;\n",
       "    }\n",
       "</style>\n",
       "<table border=\"1\" class=\"dataframe\">\n",
       "  <thead>\n",
       "    <tr style=\"text-align: right;\">\n",
       "      <th></th>\n",
       "      <th>text</th>\n",
       "    </tr>\n",
       "  </thead>\n",
       "  <tbody>\n",
       "    <tr>\n",
       "      <th>0</th>\n",
       "      <td>Here’s the #TaxDay message to amplify. https:/...</td>\n",
       "    </tr>\n",
       "    <tr>\n",
       "      <th>1</th>\n",
       "      <td>We hate to break it to you on #TaxDay, but you...</td>\n",
       "    </tr>\n",
       "    <tr>\n",
       "      <th>2</th>\n",
       "      <td>This #TaxDay, you paid your fair share in taxe...</td>\n",
       "    </tr>\n",
       "  </tbody>\n",
       "</table>\n",
       "</div>"
      ],
      "text/plain": [
       "                                                text\n",
       "0  Here’s the #TaxDay message to amplify. https:/...\n",
       "1  We hate to break it to you on #TaxDay, but you...\n",
       "2  This #TaxDay, you paid your fair share in taxe..."
      ]
     },
     "execution_count": 48,
     "metadata": {},
     "output_type": "execute_result"
    }
   ],
   "source": [
    "# extract tweet text from taxday dataframe as a new dataframe\n",
    "taxday_tweets = pd.DataFrame([taxday_data.text]).transpose()\n",
    "\n",
    "# print first few of rows\n",
    "taxday_tweets.head(3)"
   ]
  },
  {
   "cell_type": "markdown",
   "id": "26a12bc1",
   "metadata": {},
   "source": [
    "As you can see, there are a bunch of clunky parts to the tweet like the hashtag. So we'll clean them as they did [here](https://medium.com/analytics-vidhya/sentiment-analysis-on-ellens-degeneres-tweets-using-textblob-ff525ea7c30f)"
   ]
  },
  {
   "cell_type": "code",
   "execution_count": 51,
   "id": "aeb1ac51",
   "metadata": {},
   "outputs": [
    {
     "data": {
      "text/html": [
       "<div>\n",
       "<style scoped>\n",
       "    .dataframe tbody tr th:only-of-type {\n",
       "        vertical-align: middle;\n",
       "    }\n",
       "\n",
       "    .dataframe tbody tr th {\n",
       "        vertical-align: top;\n",
       "    }\n",
       "\n",
       "    .dataframe thead th {\n",
       "        text-align: right;\n",
       "    }\n",
       "</style>\n",
       "<table border=\"1\" class=\"dataframe\">\n",
       "  <thead>\n",
       "    <tr style=\"text-align: right;\">\n",
       "      <th></th>\n",
       "      <th>text</th>\n",
       "    </tr>\n",
       "  </thead>\n",
       "  <tbody>\n",
       "    <tr>\n",
       "      <th>0</th>\n",
       "      <td>Here’s the TaxDay message to amplify.</td>\n",
       "    </tr>\n",
       "    <tr>\n",
       "      <th>1</th>\n",
       "      <td>We hate to break it to you on TaxDay, but you ...</td>\n",
       "    </tr>\n",
       "    <tr>\n",
       "      <th>2</th>\n",
       "      <td>This TaxDay, you paid your fair share in taxes...</td>\n",
       "    </tr>\n",
       "  </tbody>\n",
       "</table>\n",
       "</div>"
      ],
      "text/plain": [
       "                                                text\n",
       "0             Here’s the TaxDay message to amplify. \n",
       "1  We hate to break it to you on TaxDay, but you ...\n",
       "2  This TaxDay, you paid your fair share in taxes..."
      ]
     },
     "execution_count": 51,
     "metadata": {},
     "output_type": "execute_result"
    }
   ],
   "source": [
    "# Cleaning the tweets using regex function\n",
    "from Lib import re as re\n",
    "\n",
    "# Creating a function called clean. removing hyperlink, #, RT, @mentions\n",
    "def clean(x):\n",
    "    x = re.sub(r'^RT[\\s]+', '', x)\n",
    "    x = re.sub(r'https?:\\/\\/.*[\\r\\n]*', '', x)\n",
    "    x = re.sub(r'#', '', x)\n",
    "    x = re.sub(r'@[A-Za-z0–9]+', '', x) \n",
    "    x = re.sub(''\\n\", \"\")\n",
    "    return x\n",
    "            \n",
    "taxday_tweets['text'] = taxday_tweets['text'].apply(clean)\n",
    "\n",
    "# print first few rows of dataset\n",
    "taxday_tweets.head(3)"
   ]
  },
  {
   "cell_type": "code",
   "execution_count": 52,
   "id": "c70bff87",
   "metadata": {},
   "outputs": [
    {
     "data": {
      "text/html": [
       "<div>\n",
       "<style scoped>\n",
       "    .dataframe tbody tr th:only-of-type {\n",
       "        vertical-align: middle;\n",
       "    }\n",
       "\n",
       "    .dataframe tbody tr th {\n",
       "        vertical-align: top;\n",
       "    }\n",
       "\n",
       "    .dataframe thead th {\n",
       "        text-align: right;\n",
       "    }\n",
       "</style>\n",
       "<table border=\"1\" class=\"dataframe\">\n",
       "  <thead>\n",
       "    <tr style=\"text-align: right;\">\n",
       "      <th></th>\n",
       "      <th>text</th>\n",
       "    </tr>\n",
       "  </thead>\n",
       "  <tbody>\n",
       "    <tr>\n",
       "      <th>0</th>\n",
       "      <td>Here’s the TaxDay message to amplify.</td>\n",
       "    </tr>\n",
       "    <tr>\n",
       "      <th>1</th>\n",
       "      <td>We hate to break it to you on TaxDay, but you ...</td>\n",
       "    </tr>\n",
       "    <tr>\n",
       "      <th>2</th>\n",
       "      <td>This TaxDay, you paid your fair share in taxes...</td>\n",
       "    </tr>\n",
       "    <tr>\n",
       "      <th>3</th>\n",
       "      <td>On TaxDay let's not forget about DonTheBilker....</td>\n",
       "    </tr>\n",
       "    <tr>\n",
       "      <th>4</th>\n",
       "      <td>I’m not just running on lower taxes. I’m runni...</td>\n",
       "    </tr>\n",
       "    <tr>\n",
       "      <th>...</th>\n",
       "      <td>...</td>\n",
       "    </tr>\n",
       "    <tr>\n",
       "      <th>15693</th>\n",
       "      <td>TaxDay should be TakeMyMoneyDay</td>\n",
       "    </tr>\n",
       "    <tr>\n",
       "      <th>15694</th>\n",
       "      <td>Here’s the TaxDay message to amplify.</td>\n",
       "    </tr>\n",
       "    <tr>\n",
       "      <th>15695</th>\n",
       "      <td>If the richest Americans paid their fair share...</td>\n",
       "    </tr>\n",
       "    <tr>\n",
       "      <th>15696</th>\n",
       "      <td>No one likes TaxDay. We’re here to help brigh...</td>\n",
       "    </tr>\n",
       "    <tr>\n",
       "      <th>15697</th>\n",
       "      <td>Just paid my taxes. Raise your hand if you pai...</td>\n",
       "    </tr>\n",
       "  </tbody>\n",
       "</table>\n",
       "<p>15698 rows × 1 columns</p>\n",
       "</div>"
      ],
      "text/plain": [
       "                                                    text\n",
       "0                 Here’s the TaxDay message to amplify. \n",
       "1      We hate to break it to you on TaxDay, but you ...\n",
       "2      This TaxDay, you paid your fair share in taxes...\n",
       "3      On TaxDay let's not forget about DonTheBilker....\n",
       "4      I’m not just running on lower taxes. I’m runni...\n",
       "...                                                  ...\n",
       "15693                   TaxDay should be TakeMyMoneyDay \n",
       "15694             Here’s the TaxDay message to amplify. \n",
       "15695  If the richest Americans paid their fair share...\n",
       "15696   No one likes TaxDay. We’re here to help brigh...\n",
       "15697  Just paid my taxes. Raise your hand if you pai...\n",
       "\n",
       "[15698 rows x 1 columns]"
      ]
     },
     "execution_count": 52,
     "metadata": {},
     "output_type": "execute_result"
    }
   ],
   "source": [
    "print(taxday_tweets[1])"
   ]
  },
  {
   "cell_type": "markdown",
   "id": "bca2af91",
   "metadata": {},
   "source": [
    "As you can see, the tweets are now much cleaner."
   ]
  },
  {
   "cell_type": "code",
   "execution_count": 56,
   "id": "52e22e29",
   "metadata": {},
   "outputs": [
    {
     "data": {
      "text/html": [
       "<div>\n",
       "<style scoped>\n",
       "    .dataframe tbody tr th:only-of-type {\n",
       "        vertical-align: middle;\n",
       "    }\n",
       "\n",
       "    .dataframe tbody tr th {\n",
       "        vertical-align: top;\n",
       "    }\n",
       "\n",
       "    .dataframe thead th {\n",
       "        text-align: right;\n",
       "    }\n",
       "</style>\n",
       "<table border=\"1\" class=\"dataframe\">\n",
       "  <thead>\n",
       "    <tr style=\"text-align: right;\">\n",
       "      <th></th>\n",
       "      <th>text</th>\n",
       "      <th>polarity</th>\n",
       "      <th>subjectivity</th>\n",
       "    </tr>\n",
       "  </thead>\n",
       "  <tbody>\n",
       "    <tr>\n",
       "      <th>0</th>\n",
       "      <td>Here’s the TaxDay message to amplify.</td>\n",
       "      <td>0.000</td>\n",
       "      <td>0.000000</td>\n",
       "    </tr>\n",
       "    <tr>\n",
       "      <th>1</th>\n",
       "      <td>We hate to break it to you on TaxDay, but you ...</td>\n",
       "      <td>-0.125</td>\n",
       "      <td>0.550000</td>\n",
       "    </tr>\n",
       "    <tr>\n",
       "      <th>2</th>\n",
       "      <td>This TaxDay, you paid your fair share in taxes...</td>\n",
       "      <td>0.400</td>\n",
       "      <td>0.766667</td>\n",
       "    </tr>\n",
       "    <tr>\n",
       "      <th>3</th>\n",
       "      <td>On TaxDay let's not forget about DonTheBilker....</td>\n",
       "      <td>0.000</td>\n",
       "      <td>0.000000</td>\n",
       "    </tr>\n",
       "    <tr>\n",
       "      <th>4</th>\n",
       "      <td>I’m not just running on lower taxes. I’m runni...</td>\n",
       "      <td>0.200</td>\n",
       "      <td>0.400000</td>\n",
       "    </tr>\n",
       "  </tbody>\n",
       "</table>\n",
       "</div>"
      ],
      "text/plain": [
       "                                                text  polarity  subjectivity\n",
       "0             Here’s the TaxDay message to amplify.      0.000      0.000000\n",
       "1  We hate to break it to you on TaxDay, but you ...    -0.125      0.550000\n",
       "2  This TaxDay, you paid your fair share in taxes...     0.400      0.766667\n",
       "3  On TaxDay let's not forget about DonTheBilker....     0.000      0.000000\n",
       "4  I’m not just running on lower taxes. I’m runni...     0.200      0.400000"
      ]
     },
     "execution_count": 56,
     "metadata": {},
     "output_type": "execute_result"
    }
   ],
   "source": [
    "# Calculate polarity and subjectivity of the tweets\n",
    "polarity = lambda x: TextBlob(x).sentiment.polarity\n",
    "subjectivity = lambda x: TextBlob(x).sentiment.subjectivity\n",
    "\n",
    "# apply it to our dataset\n",
    "taxday_tweets['polarity'] = taxday_tweets['text'].apply(polarity)\n",
    "taxday_tweets['subjectivity'] = taxday_tweets['text'].apply(subjectivity)\n",
    "\n",
    "# print the first few rows\n",
    "taxday_tweets.head(5)"
   ]
  },
  {
   "cell_type": "code",
   "execution_count": 62,
   "id": "d92a8d0c",
   "metadata": {},
   "outputs": [
    {
     "data": {
      "text/plain": [
       "'We hate to break it to you on TaxDay, but you probably paid a bigger share of your income in taxes than our richest.  \\n\\nIt’s time to TaxBillionaires. \\n\\nMore on taxes + green postal vehicles, VC honcho shenanigans, &amp; oligarchy:\\n📨 '"
      ]
     },
     "execution_count": 62,
     "metadata": {},
     "output_type": "execute_result"
    }
   ],
   "source": [
    "taxday_tweets.iloc[1,0]"
   ]
  }
 ],
 "metadata": {
  "kernelspec": {
   "display_name": "Python 3",
   "language": "python",
   "name": "python3"
  },
  "language_info": {
   "codemirror_mode": {
    "name": "ipython",
    "version": 3
   },
   "file_extension": ".py",
   "mimetype": "text/x-python",
   "name": "python",
   "nbconvert_exporter": "python",
   "pygments_lexer": "ipython3",
   "version": "3.8.8"
  }
 },
 "nbformat": 4,
 "nbformat_minor": 5
}
