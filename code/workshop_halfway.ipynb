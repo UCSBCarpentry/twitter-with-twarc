{
 "cells": [
  {
   "cell_type": "markdown",
   "id": "d3fe804f-f2d4-4417-9fbe-476a2336ff66",
   "metadata": {},
   "source": [
    "# Our twarc Workshop's First Run\n",
    "UCSB Library Carpentry Community. May 26, 27 2022"
   ]
  },
  {
   "cell_type": "code",
   "execution_count": null,
   "id": "a243053a-200b-41ab-a34b-4956db2db206",
   "metadata": {},
   "outputs": [],
   "source": [
    "pwd"
   ]
  },
  {
   "cell_type": "code",
   "execution_count": null,
   "id": "2b4f1d8c-3b4e-4214-89af-3346ae72c804",
   "metadata": {},
   "outputs": [],
   "source": [
    "# hashtags are not only used in twitter\n",
    "# they are also comments\n",
    "print(\"Hello world\")"
   ]
  },
  {
   "cell_type": "code",
   "execution_count": null,
   "id": "793057e9-fde0-4f70-b679-661acd1054d8",
   "metadata": {},
   "outputs": [],
   "source": [
    "# Friday Learners: you can run this if you lost your raw_data/bjules.jsonl data file.\n",
    "# ! twarc2 timeline bergisjules > raw_data/bjules.jsonl"
   ]
  },
  {
   "cell_type": "code",
   "execution_count": null,
   "id": "c99262d9-67af-44cb-a968-a088e5698753",
   "metadata": {},
   "outputs": [],
   "source": [
    "! pip install twarc_csv"
   ]
  },
  {
   "cell_type": "code",
   "execution_count": null,
   "id": "9c7c10ba-094d-4312-b8fc-2fce9db8b641",
   "metadata": {},
   "outputs": [],
   "source": [
    "! pip install emojis"
   ]
  },
  {
   "cell_type": "code",
   "execution_count": null,
   "id": "8066e102-edf6-43e4-b833-262f5b4a3608",
   "metadata": {},
   "outputs": [],
   "source": [
    "# these are all the libraries that we will need\n",
    "import pandas as pd\n",
    "import twarc_csv\n",
    "import textblob\n",
    "import nltk\n",
    "import os"
   ]
  },
  {
   "cell_type": "code",
   "execution_count": null,
   "id": "4b364dcc-af67-4077-9839-7e25272ac91c",
   "metadata": {},
   "outputs": [],
   "source": [
    "! twarc2 flatten raw_data/bjules.jsonl > output_data/bjules_flat.jsonl"
   ]
  },
  {
   "cell_type": "code",
   "execution_count": null,
   "id": "540c5412-faac-42d2-8906-8b328dc74d69",
   "metadata": {},
   "outputs": [],
   "source": [
    "! wc output_data/bjules_flat.jsonl"
   ]
  },
  {
   "cell_type": "code",
   "execution_count": null,
   "id": "2df7bf6a-7ae0-466a-a8f0-43c76f73efb3",
   "metadata": {},
   "outputs": [],
   "source": [
    "# generally, I make my csv's from the flattened version of the data\n",
    "! twarc2 csv raw_data/bjules.jsonl > output_data/bjules.csv"
   ]
  },
  {
   "cell_type": "code",
   "execution_count": null,
   "id": "772a3c86-9b84-4f3b-aeee-4c8003f6b024",
   "metadata": {},
   "outputs": [],
   "source": [
    "bjules_df = pd.read_csv(\"output_data/bjules.csv\")"
   ]
  },
  {
   "cell_type": "code",
   "execution_count": null,
   "id": "b8b66908-7bf7-4461-a016-e18f069af39c",
   "metadata": {},
   "outputs": [],
   "source": [
    "bjules_df"
   ]
  },
  {
   "cell_type": "markdown",
   "id": "fceb1e50-4172-4eb2-8b7c-c73f2ce87992",
   "metadata": {},
   "source": [
    "# Episode 3"
   ]
  },
  {
   "cell_type": "code",
   "execution_count": null,
   "id": "09e75ec2-f9ac-45f9-a800-01a42e509225",
   "metadata": {},
   "outputs": [],
   "source": [
    "# hmm mine don't match. flatten?\n",
    "# ! twarc2 flatten raw_data/one_tweet.jsonl > output_data/one_tweet_flat.jsonl"
   ]
  },
  {
   "cell_type": "code",
   "execution_count": null,
   "id": "a1e6cf89-2215-4830-a286-1bfece986926",
   "metadata": {},
   "outputs": [],
   "source": [
    "# list(bjules_df)"
   ]
  },
  {
   "cell_type": "code",
   "execution_count": null,
   "id": "d676bf4b-a612-4e2e-bbba-8961b74a7b1e",
   "metadata": {},
   "outputs": [],
   "source": [
    "# ! head -n 2 output_data/bjules_flat.jsonl > output_data/four_tweets.jsonl"
   ]
  },
  {
   "cell_type": "code",
   "execution_count": null,
   "id": "1e183e4d-361b-470b-b706-68e4a1894c84",
   "metadata": {},
   "outputs": [],
   "source": [
    "# ! tail -n 2 output_data/bjules_flat.jsonl >> output_data/four_tweets.jsonl"
   ]
  },
  {
   "cell_type": "code",
   "execution_count": null,
   "id": "a6d127e7-7b8d-46bf-8c1c-c2c24e5e1bcc",
   "metadata": {},
   "outputs": [],
   "source": [
    "# ! head -n 10 output_data/hashtag_gasprices_flat.jsonl > output_data/gasprices_20.jsonl\n",
    "# ! tail -n 10 output_data/hashtag_gasprices_flat.jsonl >> output_data/gasprices_20.jsonl\n"
   ]
  },
  {
   "cell_type": "code",
   "execution_count": null,
   "id": "69111bbd-e241-4255-b499-e21ca0164975",
   "metadata": {},
   "outputs": [],
   "source": [
    "# ! twarc2 csv output_data/gasprices_20.jsonl > output_data/gasprices_20.csv"
   ]
  },
  {
   "cell_type": "markdown",
   "id": "107a800e-8baf-4e9e-8ce4-c16e44961231",
   "metadata": {},
   "source": [
    "## Friday afternoon start here."
   ]
  },
  {
   "cell_type": "code",
   "execution_count": null,
   "id": "78c6c9b7-833e-4614-b609-2b5a6d143275",
   "metadata": {},
   "outputs": [],
   "source": [
    "! twarc2 flatten raw_data/hashtag_gasprices.jsonl > output_data/hashtag_gasprices_flat.jsonl"
   ]
  },
  {
   "cell_type": "code",
   "execution_count": null,
   "id": "6fce6b42-0f12-4260-882d-b771cd50a12f",
   "metadata": {},
   "outputs": [],
   "source": [
    "! wc output_data/hashtag_gasprices_flat.jsonl"
   ]
  },
  {
   "cell_type": "code",
   "execution_count": null,
   "id": "959a6242-52fb-43bb-839e-ad1b281da45d",
   "metadata": {},
   "outputs": [],
   "source": [
    "# this should have told us most recent and oldest\n",
    "# we will use the csv for that.\n",
    "! head -n 1 output_data/hashtag_gasprices_flat.jsonl > output_data/gasprices_range.jsonl\n",
    "! tail -n 1 output_data/hashtag_gasprices_flat.jsonl >> output_data/gasprices_range.jsonl\n"
   ]
  },
  {
   "cell_type": "code",
   "execution_count": null,
   "id": "c84fd615-d0e8-4e7d-b7b8-ddbcb8bf7fa0",
   "metadata": {},
   "outputs": [],
   "source": [
    "! twarc2 csv output_data/hashtag_gasprices_flat.jsonl > output_data/hashtag_gasprices.csv"
   ]
  },
  {
   "cell_type": "code",
   "execution_count": null,
   "id": "2b0905b7-185b-47d4-9d3b-9a7c4d3190eb",
   "metadata": {},
   "outputs": [],
   "source": [
    "gasprices_df = pd.read_csv(\"output_data/hashtag_gasprices.csv\")"
   ]
  },
  {
   "cell_type": "code",
   "execution_count": null,
   "id": "076f96e7-07c6-4bcb-aa3b-05e3df2282bb",
   "metadata": {},
   "outputs": [],
   "source": [
    "gasprices_df = pd.read_csv(\"output_data/hashtag_gasprices.csv\", low_memory=False)"
   ]
  },
  {
   "cell_type": "markdown",
   "id": "909ef603-0e53-4b51-a2fb-ec5fd3ec4b64",
   "metadata": {},
   "source": [
    "# Episode 4"
   ]
  },
  {
   "cell_type": "code",
   "execution_count": null,
   "id": "c78c98c8-fd2e-42cb-8b69-761cd7124dc2",
   "metadata": {},
   "outputs": [],
   "source": [
    "! twarc2 search --limit 500 \"#catsofinstagram\" > raw_data/hashtagcats.jsonl\n",
    "! twarc2 flatten raw_data/hashtagcats.jsonl > output_data/hashtagcats_flat.jsonl\n",
    "! twarc2 csv output_data/hashtagcats_flat.jsonl > output_data/hashtagcats.csv\n",
    "hashtagcats_df = pd.read_csv(\"output_data/hashtagcats.csv\")"
   ]
  },
  {
   "cell_type": "code",
   "execution_count": null,
   "id": "9b74f455-dc2f-49cf-aea6-3ae2e2e0825d",
   "metadata": {},
   "outputs": [],
   "source": [
    "%who DataFrame"
   ]
  },
  {
   "cell_type": "code",
   "execution_count": null,
   "id": "eaf4407d-e3c0-4a9e-a5e2-d65932388888",
   "metadata": {},
   "outputs": [],
   "source": []
  }
 ],
 "metadata": {
  "kernelspec": {
   "display_name": "Python 3 (ipykernel)",
   "language": "python",
   "name": "python3"
  },
  "language_info": {
   "codemirror_mode": {
    "name": "ipython",
    "version": 3
   },
   "file_extension": ".py",
   "mimetype": "text/x-python",
   "name": "python",
   "nbconvert_exporter": "python",
   "pygments_lexer": "ipython3",
   "version": "3.9.10"
  }
 },
 "nbformat": 4,
 "nbformat_minor": 5
}
